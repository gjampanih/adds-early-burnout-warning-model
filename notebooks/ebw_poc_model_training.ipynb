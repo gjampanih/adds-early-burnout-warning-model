{
 "cells": [
  {
   "cell_type": "code",
   "execution_count": 13,
   "metadata": {
    "collapsed": true
   },
   "outputs": [],
   "source": [
    "from sksurv.ensemble import RandomSurvivalForest, GradientBoostingSurvivalAnalysis\n",
    "from sksurv.linear_model import CoxnetSurvivalAnalysis\n",
    "import pandas as pd\n",
    "import numpy as np\n",
    "import matplotlib.pyplot as plt"
   ]
  },
  {
   "cell_type": "markdown",
   "source": [
    "### read in train test data"
   ],
   "metadata": {
    "collapsed": false
   }
  },
  {
   "cell_type": "code",
   "execution_count": 4,
   "outputs": [],
   "source": [
    "df_train_test  = pd.read_pickle('ebw_train_test_sample_h1.pkl')"
   ],
   "metadata": {
    "collapsed": false
   }
  },
  {
   "cell_type": "code",
   "execution_count": 7,
   "outputs": [],
   "source": [
    "wks = [1, 4, 8 ,13, 26]\n",
    "drop_cols = ['spins_to_ddl_change_ratio_26wk'] + [f'ddl_to_spins_ratio_{i}wk' for i  in wks]"
   ],
   "metadata": {
    "collapsed": false
   }
  },
  {
   "cell_type": "code",
   "execution_count": 9,
   "outputs": [],
   "source": [
    "df_train_test.drop(columns=drop_cols, inplace=True)"
   ],
   "metadata": {
    "collapsed": false
   }
  },
  {
   "cell_type": "code",
   "execution_count": 10,
   "outputs": [
    {
     "data": {
      "text/plain": "        mediabase_id call_letters    week_dt  weeks_since_hit  \\\n19           1086587      KHTS-FM 2022-10-23              0.0   \n20           1086587      KHTS-FM 2022-10-30              1.0   \n21           1086587      KHTS-FM 2022-11-06              2.0   \n22           1086587      KHTS-FM 2022-11-13              3.0   \n176          1086587      WHTZ-FM 2022-07-31              0.0   \n...              ...          ...        ...              ...   \n655358       2831617      WZFT-FM 2023-01-01              8.0   \n655359       2831617      WZFT-FM 2023-01-08              9.0   \n655360       2831617      WZFT-FM 2023-01-15             10.0   \n655361       2831617      WZFT-FM 2023-01-22             11.0   \n655362       2831617      WZFT-FM 2023-01-29             12.0   \n\n       week_dt_at_burnout  cuml_song_station_spins_non_on  \\\n19             2022-11-20                           989.0   \n20             2022-11-20                          1036.0   \n21             2022-11-20                          1086.0   \n22             2022-11-20                          1137.0   \n176            2022-09-18                           283.0   \n...                   ...                             ...   \n655358         2023-02-05                           964.0   \n655359         2023-02-05                          1042.0   \n655360         2023-02-05                          1119.0   \n655361         2023-02-05                          1202.0   \n655362         2023-02-05                          1285.0   \n\n        cuml_song_station_spins_non_on_at_hit  \\\n19                                      989.0   \n20                                      989.0   \n21                                      989.0   \n22                                      989.0   \n176                                     283.0   \n...                                       ...   \n655358                                  315.0   \n655359                                  315.0   \n655360                                  315.0   \n655361                                  315.0   \n655362                                  315.0   \n\n        cuml_song_station_spins_non_on_at_burnout  \\\n19                                         1182.0   \n20                                         1182.0   \n21                                         1182.0   \n22                                         1182.0   \n176                                         664.0   \n...                                           ...   \n655358                                     1374.0   \n655359                                     1374.0   \n655360                                     1374.0   \n655361                                     1374.0   \n655362                                     1374.0   \n\n        cuml_song_station_spins_non_on_max  \\\n19                                  1274.0   \n20                                  1274.0   \n21                                  1274.0   \n22                                  1274.0   \n176                                  687.0   \n...                                    ...   \n655358                              1628.0   \n655359                              1628.0   \n655360                              1628.0   \n655361                              1628.0   \n655362                              1628.0   \n\n        cuml_song_station_spins_non_on_since_hit_max  ...  \\\n19                                             285.0  ...   \n20                                             285.0  ...   \n21                                             285.0  ...   \n22                                             285.0  ...   \n176                                            404.0  ...   \n...                                              ...  ...   \n655358                                        1313.0  ...   \n655359                                        1313.0  ...   \n655360                                        1313.0  ...   \n655361                                        1313.0  ...   \n655362                                        1313.0  ...   \n\n        thumbs_down_count_26wk_lag4_max  thumbs_down_count_26wk_lag4_mean  \\\n19                                 94.0                         47.750000   \n20                                 94.0                         48.823529   \n21                                 94.0                         48.333333   \n22                                 94.0                         48.000000   \n176                                44.0                         28.000000   \n...                                 ...                               ...   \n655358                              0.0                          0.000000   \n655359                              0.0                          0.000000   \n655360                              0.0                          0.000000   \n655361                              0.0                          0.000000   \n655362                              0.0                          0.000000   \n\n        thumbs_down_count_26wk_lag4_std  target  spins_to_ddl_ratio_1wk  \\\n19                            19.526051   193.0                2.409091   \n20                            19.417245   146.0                5.000000   \n21                            18.951952    96.0                4.700000   \n22                            18.475209    45.0                2.380952   \n176                           11.888370   381.0                3.384615   \n...                                 ...     ...                     ...   \n655358                         0.000000   410.0                4.157895   \n655359                         0.000000   332.0                8.400000   \n655360                         0.000000   255.0                7.800000   \n655361                         0.000000   172.0                7.700000   \n655362                         0.000000    89.0                3.458333   \n\n        spins_to_ddl_ratio_4wk  spins_to_ddl_ratio_8wk  \\\n19                    2.375000                3.713235   \n20                    3.250000                3.903409   \n21                    3.171875                3.536932   \n22                    3.225806                2.879717   \n176                   4.217391                4.117647   \n...                        ...                     ...   \n655358                4.236842                5.741071   \n655359                8.225000                5.594828   \n655360                8.075000                5.603448   \n655361                7.950000                5.534483   \n655362                4.735294                4.556604   \n\n        spins_to_ddl_ratio_13wk  spins_to_ddl_ratio_26wk  censoring_flg_mod  \n19                     4.330070                 3.985569               True  \n20                     4.516691                 4.120833               True  \n21                     4.499274                 4.111111               True  \n22                     4.028067                 3.715543               True  \n176                    4.117647                 4.117647               True  \n...                         ...                      ...                ...  \n655358                 5.240891                 4.962406               True  \n655359                 5.878205                 5.355556               True  \n655360                 6.141026                 5.427083               True  \n655361                 6.352564                 5.485294               True  \n655362                 5.086849                 4.637346               True  \n\n[47979 rows x 1234 columns]",
      "text/html": "<div>\n<style scoped>\n    .dataframe tbody tr th:only-of-type {\n        vertical-align: middle;\n    }\n\n    .dataframe tbody tr th {\n        vertical-align: top;\n    }\n\n    .dataframe thead th {\n        text-align: right;\n    }\n</style>\n<table border=\"1\" class=\"dataframe\">\n  <thead>\n    <tr style=\"text-align: right;\">\n      <th></th>\n      <th>mediabase_id</th>\n      <th>call_letters</th>\n      <th>week_dt</th>\n      <th>weeks_since_hit</th>\n      <th>week_dt_at_burnout</th>\n      <th>cuml_song_station_spins_non_on</th>\n      <th>cuml_song_station_spins_non_on_at_hit</th>\n      <th>cuml_song_station_spins_non_on_at_burnout</th>\n      <th>cuml_song_station_spins_non_on_max</th>\n      <th>cuml_song_station_spins_non_on_since_hit_max</th>\n      <th>...</th>\n      <th>thumbs_down_count_26wk_lag4_max</th>\n      <th>thumbs_down_count_26wk_lag4_mean</th>\n      <th>thumbs_down_count_26wk_lag4_std</th>\n      <th>target</th>\n      <th>spins_to_ddl_ratio_1wk</th>\n      <th>spins_to_ddl_ratio_4wk</th>\n      <th>spins_to_ddl_ratio_8wk</th>\n      <th>spins_to_ddl_ratio_13wk</th>\n      <th>spins_to_ddl_ratio_26wk</th>\n      <th>censoring_flg_mod</th>\n    </tr>\n  </thead>\n  <tbody>\n    <tr>\n      <th>19</th>\n      <td>1086587</td>\n      <td>KHTS-FM</td>\n      <td>2022-10-23</td>\n      <td>0.0</td>\n      <td>2022-11-20</td>\n      <td>989.0</td>\n      <td>989.0</td>\n      <td>1182.0</td>\n      <td>1274.0</td>\n      <td>285.0</td>\n      <td>...</td>\n      <td>94.0</td>\n      <td>47.750000</td>\n      <td>19.526051</td>\n      <td>193.0</td>\n      <td>2.409091</td>\n      <td>2.375000</td>\n      <td>3.713235</td>\n      <td>4.330070</td>\n      <td>3.985569</td>\n      <td>True</td>\n    </tr>\n    <tr>\n      <th>20</th>\n      <td>1086587</td>\n      <td>KHTS-FM</td>\n      <td>2022-10-30</td>\n      <td>1.0</td>\n      <td>2022-11-20</td>\n      <td>1036.0</td>\n      <td>989.0</td>\n      <td>1182.0</td>\n      <td>1274.0</td>\n      <td>285.0</td>\n      <td>...</td>\n      <td>94.0</td>\n      <td>48.823529</td>\n      <td>19.417245</td>\n      <td>146.0</td>\n      <td>5.000000</td>\n      <td>3.250000</td>\n      <td>3.903409</td>\n      <td>4.516691</td>\n      <td>4.120833</td>\n      <td>True</td>\n    </tr>\n    <tr>\n      <th>21</th>\n      <td>1086587</td>\n      <td>KHTS-FM</td>\n      <td>2022-11-06</td>\n      <td>2.0</td>\n      <td>2022-11-20</td>\n      <td>1086.0</td>\n      <td>989.0</td>\n      <td>1182.0</td>\n      <td>1274.0</td>\n      <td>285.0</td>\n      <td>...</td>\n      <td>94.0</td>\n      <td>48.333333</td>\n      <td>18.951952</td>\n      <td>96.0</td>\n      <td>4.700000</td>\n      <td>3.171875</td>\n      <td>3.536932</td>\n      <td>4.499274</td>\n      <td>4.111111</td>\n      <td>True</td>\n    </tr>\n    <tr>\n      <th>22</th>\n      <td>1086587</td>\n      <td>KHTS-FM</td>\n      <td>2022-11-13</td>\n      <td>3.0</td>\n      <td>2022-11-20</td>\n      <td>1137.0</td>\n      <td>989.0</td>\n      <td>1182.0</td>\n      <td>1274.0</td>\n      <td>285.0</td>\n      <td>...</td>\n      <td>94.0</td>\n      <td>48.000000</td>\n      <td>18.475209</td>\n      <td>45.0</td>\n      <td>2.380952</td>\n      <td>3.225806</td>\n      <td>2.879717</td>\n      <td>4.028067</td>\n      <td>3.715543</td>\n      <td>True</td>\n    </tr>\n    <tr>\n      <th>176</th>\n      <td>1086587</td>\n      <td>WHTZ-FM</td>\n      <td>2022-07-31</td>\n      <td>0.0</td>\n      <td>2022-09-18</td>\n      <td>283.0</td>\n      <td>283.0</td>\n      <td>664.0</td>\n      <td>687.0</td>\n      <td>404.0</td>\n      <td>...</td>\n      <td>44.0</td>\n      <td>28.000000</td>\n      <td>11.888370</td>\n      <td>381.0</td>\n      <td>3.384615</td>\n      <td>4.217391</td>\n      <td>4.117647</td>\n      <td>4.117647</td>\n      <td>4.117647</td>\n      <td>True</td>\n    </tr>\n    <tr>\n      <th>...</th>\n      <td>...</td>\n      <td>...</td>\n      <td>...</td>\n      <td>...</td>\n      <td>...</td>\n      <td>...</td>\n      <td>...</td>\n      <td>...</td>\n      <td>...</td>\n      <td>...</td>\n      <td>...</td>\n      <td>...</td>\n      <td>...</td>\n      <td>...</td>\n      <td>...</td>\n      <td>...</td>\n      <td>...</td>\n      <td>...</td>\n      <td>...</td>\n      <td>...</td>\n      <td>...</td>\n    </tr>\n    <tr>\n      <th>655358</th>\n      <td>2831617</td>\n      <td>WZFT-FM</td>\n      <td>2023-01-01</td>\n      <td>8.0</td>\n      <td>2023-02-05</td>\n      <td>964.0</td>\n      <td>315.0</td>\n      <td>1374.0</td>\n      <td>1628.0</td>\n      <td>1313.0</td>\n      <td>...</td>\n      <td>0.0</td>\n      <td>0.000000</td>\n      <td>0.000000</td>\n      <td>410.0</td>\n      <td>4.157895</td>\n      <td>4.236842</td>\n      <td>5.741071</td>\n      <td>5.240891</td>\n      <td>4.962406</td>\n      <td>True</td>\n    </tr>\n    <tr>\n      <th>655359</th>\n      <td>2831617</td>\n      <td>WZFT-FM</td>\n      <td>2023-01-08</td>\n      <td>9.0</td>\n      <td>2023-02-05</td>\n      <td>1042.0</td>\n      <td>315.0</td>\n      <td>1374.0</td>\n      <td>1628.0</td>\n      <td>1313.0</td>\n      <td>...</td>\n      <td>0.0</td>\n      <td>0.000000</td>\n      <td>0.000000</td>\n      <td>332.0</td>\n      <td>8.400000</td>\n      <td>8.225000</td>\n      <td>5.594828</td>\n      <td>5.878205</td>\n      <td>5.355556</td>\n      <td>True</td>\n    </tr>\n    <tr>\n      <th>655360</th>\n      <td>2831617</td>\n      <td>WZFT-FM</td>\n      <td>2023-01-15</td>\n      <td>10.0</td>\n      <td>2023-02-05</td>\n      <td>1119.0</td>\n      <td>315.0</td>\n      <td>1374.0</td>\n      <td>1628.0</td>\n      <td>1313.0</td>\n      <td>...</td>\n      <td>0.0</td>\n      <td>0.000000</td>\n      <td>0.000000</td>\n      <td>255.0</td>\n      <td>7.800000</td>\n      <td>8.075000</td>\n      <td>5.603448</td>\n      <td>6.141026</td>\n      <td>5.427083</td>\n      <td>True</td>\n    </tr>\n    <tr>\n      <th>655361</th>\n      <td>2831617</td>\n      <td>WZFT-FM</td>\n      <td>2023-01-22</td>\n      <td>11.0</td>\n      <td>2023-02-05</td>\n      <td>1202.0</td>\n      <td>315.0</td>\n      <td>1374.0</td>\n      <td>1628.0</td>\n      <td>1313.0</td>\n      <td>...</td>\n      <td>0.0</td>\n      <td>0.000000</td>\n      <td>0.000000</td>\n      <td>172.0</td>\n      <td>7.700000</td>\n      <td>7.950000</td>\n      <td>5.534483</td>\n      <td>6.352564</td>\n      <td>5.485294</td>\n      <td>True</td>\n    </tr>\n    <tr>\n      <th>655362</th>\n      <td>2831617</td>\n      <td>WZFT-FM</td>\n      <td>2023-01-29</td>\n      <td>12.0</td>\n      <td>2023-02-05</td>\n      <td>1285.0</td>\n      <td>315.0</td>\n      <td>1374.0</td>\n      <td>1628.0</td>\n      <td>1313.0</td>\n      <td>...</td>\n      <td>0.0</td>\n      <td>0.000000</td>\n      <td>0.000000</td>\n      <td>89.0</td>\n      <td>3.458333</td>\n      <td>4.735294</td>\n      <td>4.556604</td>\n      <td>5.086849</td>\n      <td>4.637346</td>\n      <td>True</td>\n    </tr>\n  </tbody>\n</table>\n<p>47979 rows × 1234 columns</p>\n</div>"
     },
     "execution_count": 10,
     "metadata": {},
     "output_type": "execute_result"
    }
   ],
   "source": [
    "df_train_test"
   ],
   "metadata": {
    "collapsed": false
   }
  }
 ],
 "metadata": {
  "kernelspec": {
   "display_name": "Python 3",
   "language": "python",
   "name": "python3"
  },
  "language_info": {
   "codemirror_mode": {
    "name": "ipython",
    "version": 2
   },
   "file_extension": ".py",
   "mimetype": "text/x-python",
   "name": "python",
   "nbconvert_exporter": "python",
   "pygments_lexer": "ipython2",
   "version": "2.7.6"
  }
 },
 "nbformat": 4,
 "nbformat_minor": 0
}
