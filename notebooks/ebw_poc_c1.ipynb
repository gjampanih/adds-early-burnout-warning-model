{
 "cells": [
  {
   "cell_type": "code",
   "execution_count": 28,
   "outputs": [],
   "source": [
    "##%%\n",
    "#import pandas as pd\n",
    "import numpy as np\n",
    "import re\n",
    "import os\n",
    "\n",
    "\n",
    "import matplotlib as mpl\n",
    "import matplotlib.pyplot as plt\n",
    "import matplotlib.cm as cm\n",
    "pd.options.mode.chained_assignment = None  # default='warn'\n",
    "import seaborn as sns\n",
    "sns.set_theme(style='white')\n",
    "import matplotlib.dates as mdates\n",
    "\n",
    "from sklearn.model_selection import train_test_split\n",
    "from sklearn.tree import DecisionTreeRegressor\n",
    "from sklearn import metrics\n",
    "from sklearn.ensemble import RandomForestRegressor\n",
    "from xgboost import XGBRegressor\n",
    "from sklearn.preprocessing import StandardScaler\n",
    "import random"
   ],
   "metadata": {
    "collapsed": false
   }
  },
  {
   "cell_type": "code",
   "execution_count": 3,
   "outputs": [],
   "source": [
    "from sqlalchemy import create_engine, text\n",
    "\n",
    "def postgresql_engine(user, pwd, host, port, dbname):\n",
    "    # Need psycopg2-binary package\n",
    "    sql_engine = create_engine('postgres://' + user + ':' + pwd + '@' + host + ':' + port + '/' + dbname, echo=False)\n",
    "    return sql_engine"
   ],
   "metadata": {
    "collapsed": false
   }
  },
  {
   "cell_type": "code",
   "execution_count": 4,
   "outputs": [],
   "source": [
    "# DB username & password\n",
    "import getpass\n",
    "\n",
    "username = getpass.getpass()\n",
    "password = getpass.getpass()"
   ],
   "metadata": {
    "collapsed": false
   }
  },
  {
   "cell_type": "code",
   "execution_count": 7,
   "outputs": [],
   "source": [
    "# misc db parameters\n",
    "url= 'adds-postgres-dev.cfgztrijqgvp.us-east-1.rds.amazonaws.com'\n",
    "database= 'musiclab'\n",
    "port= '5432'"
   ],
   "metadata": {
    "collapsed": false
   }
  },
  {
   "cell_type": "code",
   "execution_count": 10,
   "outputs": [],
   "source": [
    "data_query = '''\n",
    "Select *\n",
    "from adds_temp.ebw_features_h1 as efh\n",
    "'''"
   ],
   "metadata": {
    "collapsed": false
   }
  },
  {
   "cell_type": "code",
   "execution_count": 11,
   "outputs": [],
   "source": [
    "engine = postgresql_engine(username, password, url, port, database)\n",
    "with engine.connect() as conn:\n",
    "    with conn.begin():\n",
    "        df_ebw_features= pd.read_sql(data_query, con=conn)"
   ],
   "metadata": {
    "collapsed": false
   }
  },
  {
   "cell_type": "markdown",
   "source": [
    "### Calculated fields for analysis"
   ],
   "metadata": {
    "collapsed": false
   }
  },
  {
   "cell_type": "code",
   "execution_count": 12,
   "outputs": [],
   "source": [
    "# Look at two appearances in top quintile of callout research\n",
    "df_pop_quintile = pd.DataFrame(df_ebw_features[~pd.isna(df_ebw_features['pop'])].groupby(['format_code', 'cmm_station_calls', 'week_dt']).apply(lambda x: np.quantile(x['pop'], 0.80)), columns=['top_quintile_cutoff'])"
   ],
   "metadata": {
    "collapsed": false
   }
  },
  {
   "cell_type": "code",
   "execution_count": 13,
   "outputs": [
    {
     "data": {
      "text/plain": "                                          top_quintile_cutoff\nformat_code cmm_station_calls week_dt                        \nH1          KBKS-FM           2018-11-11                 58.2\n                              2018-11-25                 68.0\n                              2019-01-06                 73.8\n                              2019-01-20                 75.6\n                              2019-02-03                 79.0\n...                                                       ...\n            WZFT-FM           2022-10-23                 86.4\n                              2022-11-06                 83.4\n                              2022-12-04                 78.0\n                              2023-01-01                 87.6\n                              2023-01-22                 80.6\n\n[2939 rows x 1 columns]",
      "text/html": "<div>\n<style scoped>\n    .dataframe tbody tr th:only-of-type {\n        vertical-align: middle;\n    }\n\n    .dataframe tbody tr th {\n        vertical-align: top;\n    }\n\n    .dataframe thead th {\n        text-align: right;\n    }\n</style>\n<table border=\"1\" class=\"dataframe\">\n  <thead>\n    <tr style=\"text-align: right;\">\n      <th></th>\n      <th></th>\n      <th></th>\n      <th>top_quintile_cutoff</th>\n    </tr>\n    <tr>\n      <th>format_code</th>\n      <th>cmm_station_calls</th>\n      <th>week_dt</th>\n      <th></th>\n    </tr>\n  </thead>\n  <tbody>\n    <tr>\n      <th rowspan=\"11\" valign=\"top\">H1</th>\n      <th rowspan=\"5\" valign=\"top\">KBKS-FM</th>\n      <th>2018-11-11</th>\n      <td>58.2</td>\n    </tr>\n    <tr>\n      <th>2018-11-25</th>\n      <td>68.0</td>\n    </tr>\n    <tr>\n      <th>2019-01-06</th>\n      <td>73.8</td>\n    </tr>\n    <tr>\n      <th>2019-01-20</th>\n      <td>75.6</td>\n    </tr>\n    <tr>\n      <th>2019-02-03</th>\n      <td>79.0</td>\n    </tr>\n    <tr>\n      <th>...</th>\n      <th>...</th>\n      <td>...</td>\n    </tr>\n    <tr>\n      <th rowspan=\"5\" valign=\"top\">WZFT-FM</th>\n      <th>2022-10-23</th>\n      <td>86.4</td>\n    </tr>\n    <tr>\n      <th>2022-11-06</th>\n      <td>83.4</td>\n    </tr>\n    <tr>\n      <th>2022-12-04</th>\n      <td>78.0</td>\n    </tr>\n    <tr>\n      <th>2023-01-01</th>\n      <td>87.6</td>\n    </tr>\n    <tr>\n      <th>2023-01-22</th>\n      <td>80.6</td>\n    </tr>\n  </tbody>\n</table>\n<p>2939 rows × 1 columns</p>\n</div>"
     },
     "execution_count": 13,
     "metadata": {},
     "output_type": "execute_result"
    }
   ],
   "source": [
    "df_pop_quintile"
   ],
   "metadata": {
    "collapsed": false
   }
  },
  {
   "cell_type": "code",
   "execution_count": 14,
   "outputs": [],
   "source": [
    "df_ebw_features['is_top_quintile'] = df_ebw_features.join(df_pop_quintile, on=['format_code', 'cmm_station_calls', 'week_dt'], rsuffix='_r').apply(lambda x: int(x['pop'] >= x['top_quintile_cutoff']), axis=1)"
   ],
   "metadata": {
    "collapsed": false
   }
  },
  {
   "cell_type": "code",
   "execution_count": 15,
   "outputs": [],
   "source": [
    "df_ebw_features['week_dt'] = pd.to_datetime(df_ebw_features['week_dt'])"
   ],
   "metadata": {
    "collapsed": false
   }
  },
  {
   "cell_type": "code",
   "execution_count": 16,
   "outputs": [],
   "source": [
    "df_ebw_features.sort_values(by=['format_code', 'call_letters', 'mediabase_id', 'week_dt'], inplace=True)"
   ],
   "metadata": {
    "collapsed": false
   }
  },
  {
   "cell_type": "code",
   "execution_count": 17,
   "outputs": [],
   "source": [
    "df_ebw_features['cuml_spins_non_on'] = df_ebw_features.groupby(['format_code', 'call_letters', 'mediabase_id'])['spins_non_on'].cumsum()"
   ],
   "metadata": {
    "collapsed": false
   }
  },
  {
   "cell_type": "code",
   "execution_count": 18,
   "outputs": [],
   "source": [
    "df_ebw_features['num_top_quintile'] = df_ebw_features[df_ebw_features['cuml_spins_non_on'] >= 50].groupby(['format_code', 'call_letters', 'mediabase_id'])['is_top_quintile'].cumsum()"
   ],
   "metadata": {
    "collapsed": false
   }
  },
  {
   "cell_type": "code",
   "execution_count": 19,
   "outputs": [
    {
     "data": {
      "text/plain": "6400"
     },
     "execution_count": 19,
     "metadata": {},
     "output_type": "execute_result"
    }
   ],
   "source": [
    "100*(int(np.max(df_ebw_features['cuml_spins_non_on'])/100) + 1)"
   ],
   "metadata": {
    "collapsed": false
   }
  },
  {
   "cell_type": "code",
   "execution_count": 20,
   "outputs": [],
   "source": [
    "df_ebw_features['cuml_spins_bucket'] = pd.cut(df_ebw_features['cuml_spins_non_on'], bins=pd.interval_range(start=0, end=100*(int(np.max(df_ebw_features['cuml_spins_non_on'])/100) + 1), freq=100))"
   ],
   "metadata": {
    "collapsed": false
   }
  },
  {
   "cell_type": "code",
   "execution_count": 21,
   "outputs": [],
   "source": [
    "df_ebw_features['weeks_since_release'] = ((df_ebw_features['week_dt'] - pd.to_datetime(df_ebw_features['song_release_date']))/np.timedelta64(1, 'W')).apply(int)"
   ],
   "metadata": {
    "collapsed": false
   }
  },
  {
   "cell_type": "code",
   "execution_count": 23,
   "outputs": [],
   "source": [
    "ddl_range = [20]"
   ],
   "metadata": {
    "collapsed": false
   }
  },
  {
   "cell_type": "code",
   "execution_count": 24,
   "outputs": [],
   "source": [
    "ddl_geq_cols = ['ddl_geq_' + str(int(i)) for i in ddl_range]\n",
    "ddl_track_cols = ['ddl_track_' + str(int(i)) for i in ddl_range]"
   ],
   "metadata": {
    "collapsed": false
   }
  },
  {
   "cell_type": "code",
   "execution_count": 27,
   "outputs": [],
   "source": [
    "for i in range(len(ddl_range)):\n",
    "    df_ebw_features[ddl_geq_cols[i]] = df_ebw_features['ddl_metric'].apply(lambda x: int(x >= ddl_range[i]))\n",
    "    df_ebw_features[ddl_track_cols[i]] = df_ebw_features.groupby(['format_code', 'call_letters', 'mediabase_id'])[ddl_geq_cols[i]].cumsum()"
   ],
   "metadata": {
    "collapsed": false
   }
  },
  {
   "cell_type": "markdown",
   "source": [
    "### Isolate Hit songs"
   ],
   "metadata": {
    "collapsed": false
   }
  },
  {
   "cell_type": "code",
   "execution_count": 35,
   "outputs": [],
   "source": [
    "df_hits = df_ebw_features.join(df_ebw_features[df_ebw_features['num_top_quintile'] >=2].groupby(['format_code', 'call_letters', 'mediabase_id']).agg({'week_dt': np.min, 'weeks_since_release': np.min, 'cuml_spins_non_on': np.min}), how='right', on = ['format_code', 'call_letters', 'mediabase_id'], rsuffix='_hit')"
   ],
   "metadata": {
    "collapsed": false
   }
  },
  {
   "cell_type": "code",
   "execution_count": 37,
   "outputs": [],
   "source": [
    "df_hits_brn_h1 = df_hits.join(df_hits[(df_hits['ddl_track_20'] >= 2) & (df_hits['week_dt'] > df_hits['week_dt_hit'])].groupby(['format_code', 'call_letters', 'mediabase_id']).agg({'week_dt': np.min, 'weeks_since_release': np.min, 'cuml_spins_non_on':np.min}), how='left', on = ['format_code', 'call_letters', 'mediabase_id'], rsuffix='_brn')"
   ],
   "metadata": {
    "collapsed": false
   }
  },
  {
   "cell_type": "code",
   "execution_count": 39,
   "outputs": [
    {
     "data": {
      "text/plain": "      mediabase_id    song_id call_letters format_code    week_dt    score_dt  \\\n4567       2436510  545826696      KBKS-FM          H1 2018-10-07  2018-10-15   \n4568       2436510  545826696      KBKS-FM          H1 2018-10-14  2018-10-22   \n4569       2436510  545826696      KBKS-FM          H1 2018-10-21  2018-10-29   \n4570       2436510  545826696      KBKS-FM          H1 2018-10-28  2018-11-05   \n4571       2436510  545826696      KBKS-FM          H1 2018-11-04  2018-11-12   \n...            ...        ...          ...         ...        ...         ...   \n4787       2436510  545826696      KBKS-FM          H1 2022-12-25  2023-01-02   \n4788       2436510  545826696      KBKS-FM          H1 2023-01-01  2023-01-09   \n4789       2436510  545826696      KBKS-FM          H1 2023-01-08  2023-01-16   \n4790       2436510  545826696      KBKS-FM          H1 2023-01-15  2023-01-23   \n4791       2436510  545826696      KBKS-FM          H1 2023-01-22  2023-01-30   \n\n     song_release_date last_callout_date first_spin_date market_name  ...  \\\n4567        2018-10-01        2021-12-13      2018-10-08     Seattle  ...   \n4568        2018-10-01        2021-12-13      2018-10-08     Seattle  ...   \n4569        2018-10-01        2021-12-13      2018-10-08     Seattle  ...   \n4570        2018-10-01        2021-12-13      2018-10-08     Seattle  ...   \n4571        2018-10-01        2021-12-13      2018-10-08     Seattle  ...   \n...                ...               ...             ...         ...  ...   \n4787        2018-10-01        2021-12-13      2018-10-08     Seattle  ...   \n4788        2018-10-01        2021-12-13      2018-10-08     Seattle  ...   \n4789        2018-10-01        2021-12-13      2018-10-08     Seattle  ...   \n4790        2018-10-01        2021-12-13      2018-10-08     Seattle  ...   \n4791        2018-10-01        2021-12-13      2018-10-08     Seattle  ...   \n\n     cuml_spins_bucket weeks_since_release  ddl_geq_20  ddl_track_20  \\\n4567          (0, 100]                   0           0             0   \n4568          (0, 100]                   1           0             0   \n4569          (0, 100]                   2           0             0   \n4570          (0, 100]                   3           0             0   \n4571        (100, 200]                   4           0             0   \n...                ...                 ...         ...           ...   \n4787      (3300, 3400]                 220           0            10   \n4788      (3300, 3400]                 221           0            10   \n4789      (3300, 3400]                 222           0            10   \n4790      (3300, 3400]                 223           0            10   \n4791      (3300, 3400]                 224           0            10   \n\n      week_dt_hit  weeks_since_release_hit  cuml_spins_non_on_hit  \\\n4567   2018-11-25                        7                  442.0   \n4568   2018-11-25                        7                  442.0   \n4569   2018-11-25                        7                  442.0   \n4570   2018-11-25                        7                  442.0   \n4571   2018-11-25                        7                  442.0   \n...           ...                      ...                    ...   \n4787   2018-11-25                        7                  442.0   \n4788   2018-11-25                        7                  442.0   \n4789   2018-11-25                        7                  442.0   \n4790   2018-11-25                        7                  442.0   \n4791   2018-11-25                        7                  442.0   \n\n      week_dt_brn  weeks_since_release_brn  cuml_spins_non_on_brn  \n4567   2019-04-28                     29.0                 2176.0  \n4568   2019-04-28                     29.0                 2176.0  \n4569   2019-04-28                     29.0                 2176.0  \n4570   2019-04-28                     29.0                 2176.0  \n4571   2019-04-28                     29.0                 2176.0  \n...           ...                      ...                    ...  \n4787   2019-04-28                     29.0                 2176.0  \n4788   2019-04-28                     29.0                 2176.0  \n4789   2019-04-28                     29.0                 2176.0  \n4790   2019-04-28                     29.0                 2176.0  \n4791   2019-04-28                     29.0                 2176.0  \n\n[225 rows x 49 columns]",
      "text/html": "<div>\n<style scoped>\n    .dataframe tbody tr th:only-of-type {\n        vertical-align: middle;\n    }\n\n    .dataframe tbody tr th {\n        vertical-align: top;\n    }\n\n    .dataframe thead th {\n        text-align: right;\n    }\n</style>\n<table border=\"1\" class=\"dataframe\">\n  <thead>\n    <tr style=\"text-align: right;\">\n      <th></th>\n      <th>mediabase_id</th>\n      <th>song_id</th>\n      <th>call_letters</th>\n      <th>format_code</th>\n      <th>week_dt</th>\n      <th>score_dt</th>\n      <th>song_release_date</th>\n      <th>last_callout_date</th>\n      <th>first_spin_date</th>\n      <th>market_name</th>\n      <th>...</th>\n      <th>cuml_spins_bucket</th>\n      <th>weeks_since_release</th>\n      <th>ddl_geq_20</th>\n      <th>ddl_track_20</th>\n      <th>week_dt_hit</th>\n      <th>weeks_since_release_hit</th>\n      <th>cuml_spins_non_on_hit</th>\n      <th>week_dt_brn</th>\n      <th>weeks_since_release_brn</th>\n      <th>cuml_spins_non_on_brn</th>\n    </tr>\n  </thead>\n  <tbody>\n    <tr>\n      <th>4567</th>\n      <td>2436510</td>\n      <td>545826696</td>\n      <td>KBKS-FM</td>\n      <td>H1</td>\n      <td>2018-10-07</td>\n      <td>2018-10-15</td>\n      <td>2018-10-01</td>\n      <td>2021-12-13</td>\n      <td>2018-10-08</td>\n      <td>Seattle</td>\n      <td>...</td>\n      <td>(0, 100]</td>\n      <td>0</td>\n      <td>0</td>\n      <td>0</td>\n      <td>2018-11-25</td>\n      <td>7</td>\n      <td>442.0</td>\n      <td>2019-04-28</td>\n      <td>29.0</td>\n      <td>2176.0</td>\n    </tr>\n    <tr>\n      <th>4568</th>\n      <td>2436510</td>\n      <td>545826696</td>\n      <td>KBKS-FM</td>\n      <td>H1</td>\n      <td>2018-10-14</td>\n      <td>2018-10-22</td>\n      <td>2018-10-01</td>\n      <td>2021-12-13</td>\n      <td>2018-10-08</td>\n      <td>Seattle</td>\n      <td>...</td>\n      <td>(0, 100]</td>\n      <td>1</td>\n      <td>0</td>\n      <td>0</td>\n      <td>2018-11-25</td>\n      <td>7</td>\n      <td>442.0</td>\n      <td>2019-04-28</td>\n      <td>29.0</td>\n      <td>2176.0</td>\n    </tr>\n    <tr>\n      <th>4569</th>\n      <td>2436510</td>\n      <td>545826696</td>\n      <td>KBKS-FM</td>\n      <td>H1</td>\n      <td>2018-10-21</td>\n      <td>2018-10-29</td>\n      <td>2018-10-01</td>\n      <td>2021-12-13</td>\n      <td>2018-10-08</td>\n      <td>Seattle</td>\n      <td>...</td>\n      <td>(0, 100]</td>\n      <td>2</td>\n      <td>0</td>\n      <td>0</td>\n      <td>2018-11-25</td>\n      <td>7</td>\n      <td>442.0</td>\n      <td>2019-04-28</td>\n      <td>29.0</td>\n      <td>2176.0</td>\n    </tr>\n    <tr>\n      <th>4570</th>\n      <td>2436510</td>\n      <td>545826696</td>\n      <td>KBKS-FM</td>\n      <td>H1</td>\n      <td>2018-10-28</td>\n      <td>2018-11-05</td>\n      <td>2018-10-01</td>\n      <td>2021-12-13</td>\n      <td>2018-10-08</td>\n      <td>Seattle</td>\n      <td>...</td>\n      <td>(0, 100]</td>\n      <td>3</td>\n      <td>0</td>\n      <td>0</td>\n      <td>2018-11-25</td>\n      <td>7</td>\n      <td>442.0</td>\n      <td>2019-04-28</td>\n      <td>29.0</td>\n      <td>2176.0</td>\n    </tr>\n    <tr>\n      <th>4571</th>\n      <td>2436510</td>\n      <td>545826696</td>\n      <td>KBKS-FM</td>\n      <td>H1</td>\n      <td>2018-11-04</td>\n      <td>2018-11-12</td>\n      <td>2018-10-01</td>\n      <td>2021-12-13</td>\n      <td>2018-10-08</td>\n      <td>Seattle</td>\n      <td>...</td>\n      <td>(100, 200]</td>\n      <td>4</td>\n      <td>0</td>\n      <td>0</td>\n      <td>2018-11-25</td>\n      <td>7</td>\n      <td>442.0</td>\n      <td>2019-04-28</td>\n      <td>29.0</td>\n      <td>2176.0</td>\n    </tr>\n    <tr>\n      <th>...</th>\n      <td>...</td>\n      <td>...</td>\n      <td>...</td>\n      <td>...</td>\n      <td>...</td>\n      <td>...</td>\n      <td>...</td>\n      <td>...</td>\n      <td>...</td>\n      <td>...</td>\n      <td>...</td>\n      <td>...</td>\n      <td>...</td>\n      <td>...</td>\n      <td>...</td>\n      <td>...</td>\n      <td>...</td>\n      <td>...</td>\n      <td>...</td>\n      <td>...</td>\n      <td>...</td>\n    </tr>\n    <tr>\n      <th>4787</th>\n      <td>2436510</td>\n      <td>545826696</td>\n      <td>KBKS-FM</td>\n      <td>H1</td>\n      <td>2022-12-25</td>\n      <td>2023-01-02</td>\n      <td>2018-10-01</td>\n      <td>2021-12-13</td>\n      <td>2018-10-08</td>\n      <td>Seattle</td>\n      <td>...</td>\n      <td>(3300, 3400]</td>\n      <td>220</td>\n      <td>0</td>\n      <td>10</td>\n      <td>2018-11-25</td>\n      <td>7</td>\n      <td>442.0</td>\n      <td>2019-04-28</td>\n      <td>29.0</td>\n      <td>2176.0</td>\n    </tr>\n    <tr>\n      <th>4788</th>\n      <td>2436510</td>\n      <td>545826696</td>\n      <td>KBKS-FM</td>\n      <td>H1</td>\n      <td>2023-01-01</td>\n      <td>2023-01-09</td>\n      <td>2018-10-01</td>\n      <td>2021-12-13</td>\n      <td>2018-10-08</td>\n      <td>Seattle</td>\n      <td>...</td>\n      <td>(3300, 3400]</td>\n      <td>221</td>\n      <td>0</td>\n      <td>10</td>\n      <td>2018-11-25</td>\n      <td>7</td>\n      <td>442.0</td>\n      <td>2019-04-28</td>\n      <td>29.0</td>\n      <td>2176.0</td>\n    </tr>\n    <tr>\n      <th>4789</th>\n      <td>2436510</td>\n      <td>545826696</td>\n      <td>KBKS-FM</td>\n      <td>H1</td>\n      <td>2023-01-08</td>\n      <td>2023-01-16</td>\n      <td>2018-10-01</td>\n      <td>2021-12-13</td>\n      <td>2018-10-08</td>\n      <td>Seattle</td>\n      <td>...</td>\n      <td>(3300, 3400]</td>\n      <td>222</td>\n      <td>0</td>\n      <td>10</td>\n      <td>2018-11-25</td>\n      <td>7</td>\n      <td>442.0</td>\n      <td>2019-04-28</td>\n      <td>29.0</td>\n      <td>2176.0</td>\n    </tr>\n    <tr>\n      <th>4790</th>\n      <td>2436510</td>\n      <td>545826696</td>\n      <td>KBKS-FM</td>\n      <td>H1</td>\n      <td>2023-01-15</td>\n      <td>2023-01-23</td>\n      <td>2018-10-01</td>\n      <td>2021-12-13</td>\n      <td>2018-10-08</td>\n      <td>Seattle</td>\n      <td>...</td>\n      <td>(3300, 3400]</td>\n      <td>223</td>\n      <td>0</td>\n      <td>10</td>\n      <td>2018-11-25</td>\n      <td>7</td>\n      <td>442.0</td>\n      <td>2019-04-28</td>\n      <td>29.0</td>\n      <td>2176.0</td>\n    </tr>\n    <tr>\n      <th>4791</th>\n      <td>2436510</td>\n      <td>545826696</td>\n      <td>KBKS-FM</td>\n      <td>H1</td>\n      <td>2023-01-22</td>\n      <td>2023-01-30</td>\n      <td>2018-10-01</td>\n      <td>2021-12-13</td>\n      <td>2018-10-08</td>\n      <td>Seattle</td>\n      <td>...</td>\n      <td>(3300, 3400]</td>\n      <td>224</td>\n      <td>0</td>\n      <td>10</td>\n      <td>2018-11-25</td>\n      <td>7</td>\n      <td>442.0</td>\n      <td>2019-04-28</td>\n      <td>29.0</td>\n      <td>2176.0</td>\n    </tr>\n  </tbody>\n</table>\n<p>225 rows × 49 columns</p>\n</div>"
     },
     "execution_count": 39,
     "metadata": {},
     "output_type": "execute_result"
    }
   ],
   "source": [
    "df_hits_brn_h1[(df_hits_brn_h1['mediabase_id'] == 2436510) & (df_hits_brn_h1['call_letters'] == 'KBKS-FM')]"
   ],
   "metadata": {
    "collapsed": false
   }
  },
  {
   "cell_type": "code",
   "execution_count": 46,
   "outputs": [],
   "source": [
    "# Define lambas\n",
    "fn_rolling_avg_4wk = lambda x: x.rolling(4, min_periods=1).mean()\n",
    "fn_rolling_avg_8wk = lambda x: x.rolling(8, min_periods=1).mean()\n",
    "fn_rolling_avg_13wk = lambda x: x.rolling(13, min_periods=1).mean()\n",
    "\n",
    "fn_rolling_min_4wk = lambda x: x.rolling(4, min_periods=1).min()\n",
    "fn_rolling_min_8wk = lambda x: x.rolling(8, min_periods=1).min()\n",
    "fn_rolling_min_13wk = lambda x: x.rolling(13, min_periods=1).min()\n",
    "\n",
    "fn_rolling_max_4wk = lambda x: x.rolling(4, min_periods=1).max()\n",
    "fn_rolling_max_8wk = lambda x: x.rolling(8, min_periods=1).max()\n",
    "fn_rolling_max_13wk = lambda x: x.rolling(13, min_periods=1).max()"
   ],
   "metadata": {
    "collapsed": false
   }
  },
  {
   "cell_type": "code",
   "execution_count": 63,
   "outputs": [],
   "source": [
    "df_grp = df_hits_brn_h1.groupby(['format_code', 'call_letters', 'mediabase_id'])"
   ],
   "metadata": {
    "collapsed": false
   }
  },
  {
   "cell_type": "code",
   "execution_count": 64,
   "outputs": [],
   "source": [
    "agg_cols = ['pop', 'ddl_metric', 'fav_metric', 'spins_non_on', 'spins_am_pm_dr', 'market_spins', 'format_spins']"
   ],
   "metadata": {
    "collapsed": false
   }
  },
  {
   "cell_type": "code",
   "execution_count": null,
   "outputs": [],
   "source": [
    "for col in agg_cols:\n",
    "    df_hits_brn_h1[col + '_avg_4wk'] = df_grp[col].apply(fn_rolling_avg_4wk)\n",
    "    df_hits_brn_h1[col + '_avg_8wk'] = df_grp[col].apply(fn_rolling_avg_8wk)\n",
    "    df_hits_brn_h1[col + '_avg_13wk'] = df_grp[col].apply(fn_rolling_avg_13wk)\n",
    "\n",
    "    df_hits_brn_h1[col + '_min_4wk'] = df_grp[col].apply(fn_rolling_min_4wk)\n",
    "    df_hits_brn_h1[col + '_min_8wk'] = df_grp[col].apply(fn_rolling_min_8wk)\n",
    "    df_hits_brn_h1[col + '_min_13wk'] = df_grp[col].apply(fn_rolling_min_13wk)\n",
    "\n",
    "    df_hits_brn_h1[col + '_max_4wk'] = df_grp[col].apply(fn_rolling_max_4wk)\n",
    "    df_hits_brn_h1[col + '_max_8wk'] = df_grp[col].apply(fn_rolling_max_8wk)\n",
    "    df_hits_brn_h1[col + '_max_13wk'] = df_grp[col].apply(fn_rolling_max_13wk)"
   ],
   "metadata": {
    "collapsed": false,
    "pycharm": {
     "is_executing": true
    }
   }
  },
  {
   "cell_type": "code",
   "execution_count": 68,
   "outputs": [
    {
     "data": {
      "text/plain": "         mediabase_id     song_id call_letters format_code    week_dt  \\\n4567          2436510   545826696      KBKS-FM          H1 2018-10-07   \n4568          2436510   545826696      KBKS-FM          H1 2018-10-14   \n4569          2436510   545826696      KBKS-FM          H1 2018-10-21   \n4570          2436510   545826696      KBKS-FM          H1 2018-10-28   \n4571          2436510   545826696      KBKS-FM          H1 2018-11-04   \n...               ...         ...          ...         ...        ...   \n1041928       2754544  2012746527      WZFT-FM          H1 2022-12-25   \n1041929       2754544  2012746527      WZFT-FM          H1 2023-01-01   \n1041930       2754544  2012746527      WZFT-FM          H1 2023-01-08   \n1041931       2754544  2012746527      WZFT-FM          H1 2023-01-15   \n1041932       2754544  2012746527      WZFT-FM          H1 2023-01-22   \n\n           score_dt song_release_date last_callout_date first_spin_date  \\\n4567     2018-10-15        2018-10-01        2021-12-13      2018-10-08   \n4568     2018-10-22        2018-10-01        2021-12-13      2018-10-08   \n4569     2018-10-29        2018-10-01        2021-12-13      2018-10-08   \n4570     2018-11-05        2018-10-01        2021-12-13      2018-10-08   \n4571     2018-11-12        2018-10-01        2021-12-13      2018-10-08   \n...             ...               ...               ...             ...   \n1041928  2023-01-02        2021-10-01        2022-08-22      2022-01-31   \n1041929  2023-01-09        2021-10-01        2022-08-22      2022-01-31   \n1041930  2023-01-16        2021-10-01        2022-08-22      2022-01-31   \n1041931  2023-01-23        2021-10-01        2022-08-22      2022-01-31   \n1041932  2023-01-30        2021-10-01        2022-08-22      2022-01-31   \n\n        market_name  ... market_spins_min_13wk market_spins_max_4wk  \\\n4567        Seattle  ...                  23.0                 23.0   \n4568        Seattle  ...                  23.0                 61.0   \n4569        Seattle  ...                  23.0                 71.0   \n4570        Seattle  ...                  23.0                 71.0   \n4571        Seattle  ...                  23.0                107.0   \n...             ...  ...                   ...                  ...   \n1041928   Baltimore  ...                   0.0                  2.0   \n1041929   Baltimore  ...                   0.0                  5.0   \n1041930   Baltimore  ...                   0.0                  5.0   \n1041931   Baltimore  ...                   0.0                  5.0   \n1041932   Baltimore  ...                   0.0                  5.0   \n\n         market_spins_max_8wk  market_spins_max_13wk  format_spins_min_4wk  \\\n4567                     23.0                   23.0                 405.0   \n4568                     61.0                   61.0                 405.0   \n4569                     71.0                   71.0                 405.0   \n4570                     71.0                   71.0                 405.0   \n4571                    107.0                  107.0                 649.0   \n...                       ...                    ...                   ...   \n1041928                   4.0                    7.0                  37.0   \n1041929                   5.0                    7.0                  37.0   \n1041930                   5.0                    5.0                 103.0   \n1041931                   5.0                    5.0                 103.0   \n1041932                   5.0                    5.0                  77.0   \n\n         format_spins_min_8wk  format_spins_min_13wk  format_spins_max_4wk  \\\n4567                    405.0                  405.0                 405.0   \n4568                    405.0                  405.0                 680.0   \n4569                    405.0                  405.0                 950.0   \n4570                    405.0                  405.0                 950.0   \n4571                    405.0                  405.0                1148.0   \n...                       ...                    ...                   ...   \n1041928                  37.0                   37.0                 210.0   \n1041929                  37.0                   37.0                 210.0   \n1041930                  37.0                   37.0                 210.0   \n1041931                  37.0                   37.0                 210.0   \n1041932                  37.0                   37.0                 181.0   \n\n         format_spins_max_8wk  format_spins_max_13wk  \n4567                    405.0                  405.0  \n4568                    680.0                  680.0  \n4569                    950.0                  950.0  \n4570                    950.0                  950.0  \n4571                   1148.0                 1148.0  \n...                       ...                    ...  \n1041928                 210.0                  210.0  \n1041929                 210.0                  210.0  \n1041930                 210.0                  210.0  \n1041931                 210.0                  210.0  \n1041932                 210.0                  210.0  \n\n[303302 rows x 112 columns]",
      "text/html": "<div>\n<style scoped>\n    .dataframe tbody tr th:only-of-type {\n        vertical-align: middle;\n    }\n\n    .dataframe tbody tr th {\n        vertical-align: top;\n    }\n\n    .dataframe thead th {\n        text-align: right;\n    }\n</style>\n<table border=\"1\" class=\"dataframe\">\n  <thead>\n    <tr style=\"text-align: right;\">\n      <th></th>\n      <th>mediabase_id</th>\n      <th>song_id</th>\n      <th>call_letters</th>\n      <th>format_code</th>\n      <th>week_dt</th>\n      <th>score_dt</th>\n      <th>song_release_date</th>\n      <th>last_callout_date</th>\n      <th>first_spin_date</th>\n      <th>market_name</th>\n      <th>...</th>\n      <th>market_spins_min_13wk</th>\n      <th>market_spins_max_4wk</th>\n      <th>market_spins_max_8wk</th>\n      <th>market_spins_max_13wk</th>\n      <th>format_spins_min_4wk</th>\n      <th>format_spins_min_8wk</th>\n      <th>format_spins_min_13wk</th>\n      <th>format_spins_max_4wk</th>\n      <th>format_spins_max_8wk</th>\n      <th>format_spins_max_13wk</th>\n    </tr>\n  </thead>\n  <tbody>\n    <tr>\n      <th>4567</th>\n      <td>2436510</td>\n      <td>545826696</td>\n      <td>KBKS-FM</td>\n      <td>H1</td>\n      <td>2018-10-07</td>\n      <td>2018-10-15</td>\n      <td>2018-10-01</td>\n      <td>2021-12-13</td>\n      <td>2018-10-08</td>\n      <td>Seattle</td>\n      <td>...</td>\n      <td>23.0</td>\n      <td>23.0</td>\n      <td>23.0</td>\n      <td>23.0</td>\n      <td>405.0</td>\n      <td>405.0</td>\n      <td>405.0</td>\n      <td>405.0</td>\n      <td>405.0</td>\n      <td>405.0</td>\n    </tr>\n    <tr>\n      <th>4568</th>\n      <td>2436510</td>\n      <td>545826696</td>\n      <td>KBKS-FM</td>\n      <td>H1</td>\n      <td>2018-10-14</td>\n      <td>2018-10-22</td>\n      <td>2018-10-01</td>\n      <td>2021-12-13</td>\n      <td>2018-10-08</td>\n      <td>Seattle</td>\n      <td>...</td>\n      <td>23.0</td>\n      <td>61.0</td>\n      <td>61.0</td>\n      <td>61.0</td>\n      <td>405.0</td>\n      <td>405.0</td>\n      <td>405.0</td>\n      <td>680.0</td>\n      <td>680.0</td>\n      <td>680.0</td>\n    </tr>\n    <tr>\n      <th>4569</th>\n      <td>2436510</td>\n      <td>545826696</td>\n      <td>KBKS-FM</td>\n      <td>H1</td>\n      <td>2018-10-21</td>\n      <td>2018-10-29</td>\n      <td>2018-10-01</td>\n      <td>2021-12-13</td>\n      <td>2018-10-08</td>\n      <td>Seattle</td>\n      <td>...</td>\n      <td>23.0</td>\n      <td>71.0</td>\n      <td>71.0</td>\n      <td>71.0</td>\n      <td>405.0</td>\n      <td>405.0</td>\n      <td>405.0</td>\n      <td>950.0</td>\n      <td>950.0</td>\n      <td>950.0</td>\n    </tr>\n    <tr>\n      <th>4570</th>\n      <td>2436510</td>\n      <td>545826696</td>\n      <td>KBKS-FM</td>\n      <td>H1</td>\n      <td>2018-10-28</td>\n      <td>2018-11-05</td>\n      <td>2018-10-01</td>\n      <td>2021-12-13</td>\n      <td>2018-10-08</td>\n      <td>Seattle</td>\n      <td>...</td>\n      <td>23.0</td>\n      <td>71.0</td>\n      <td>71.0</td>\n      <td>71.0</td>\n      <td>405.0</td>\n      <td>405.0</td>\n      <td>405.0</td>\n      <td>950.0</td>\n      <td>950.0</td>\n      <td>950.0</td>\n    </tr>\n    <tr>\n      <th>4571</th>\n      <td>2436510</td>\n      <td>545826696</td>\n      <td>KBKS-FM</td>\n      <td>H1</td>\n      <td>2018-11-04</td>\n      <td>2018-11-12</td>\n      <td>2018-10-01</td>\n      <td>2021-12-13</td>\n      <td>2018-10-08</td>\n      <td>Seattle</td>\n      <td>...</td>\n      <td>23.0</td>\n      <td>107.0</td>\n      <td>107.0</td>\n      <td>107.0</td>\n      <td>649.0</td>\n      <td>405.0</td>\n      <td>405.0</td>\n      <td>1148.0</td>\n      <td>1148.0</td>\n      <td>1148.0</td>\n    </tr>\n    <tr>\n      <th>...</th>\n      <td>...</td>\n      <td>...</td>\n      <td>...</td>\n      <td>...</td>\n      <td>...</td>\n      <td>...</td>\n      <td>...</td>\n      <td>...</td>\n      <td>...</td>\n      <td>...</td>\n      <td>...</td>\n      <td>...</td>\n      <td>...</td>\n      <td>...</td>\n      <td>...</td>\n      <td>...</td>\n      <td>...</td>\n      <td>...</td>\n      <td>...</td>\n      <td>...</td>\n      <td>...</td>\n    </tr>\n    <tr>\n      <th>1041928</th>\n      <td>2754544</td>\n      <td>2012746527</td>\n      <td>WZFT-FM</td>\n      <td>H1</td>\n      <td>2022-12-25</td>\n      <td>2023-01-02</td>\n      <td>2021-10-01</td>\n      <td>2022-08-22</td>\n      <td>2022-01-31</td>\n      <td>Baltimore</td>\n      <td>...</td>\n      <td>0.0</td>\n      <td>2.0</td>\n      <td>4.0</td>\n      <td>7.0</td>\n      <td>37.0</td>\n      <td>37.0</td>\n      <td>37.0</td>\n      <td>210.0</td>\n      <td>210.0</td>\n      <td>210.0</td>\n    </tr>\n    <tr>\n      <th>1041929</th>\n      <td>2754544</td>\n      <td>2012746527</td>\n      <td>WZFT-FM</td>\n      <td>H1</td>\n      <td>2023-01-01</td>\n      <td>2023-01-09</td>\n      <td>2021-10-01</td>\n      <td>2022-08-22</td>\n      <td>2022-01-31</td>\n      <td>Baltimore</td>\n      <td>...</td>\n      <td>0.0</td>\n      <td>5.0</td>\n      <td>5.0</td>\n      <td>7.0</td>\n      <td>37.0</td>\n      <td>37.0</td>\n      <td>37.0</td>\n      <td>210.0</td>\n      <td>210.0</td>\n      <td>210.0</td>\n    </tr>\n    <tr>\n      <th>1041930</th>\n      <td>2754544</td>\n      <td>2012746527</td>\n      <td>WZFT-FM</td>\n      <td>H1</td>\n      <td>2023-01-08</td>\n      <td>2023-01-16</td>\n      <td>2021-10-01</td>\n      <td>2022-08-22</td>\n      <td>2022-01-31</td>\n      <td>Baltimore</td>\n      <td>...</td>\n      <td>0.0</td>\n      <td>5.0</td>\n      <td>5.0</td>\n      <td>5.0</td>\n      <td>103.0</td>\n      <td>37.0</td>\n      <td>37.0</td>\n      <td>210.0</td>\n      <td>210.0</td>\n      <td>210.0</td>\n    </tr>\n    <tr>\n      <th>1041931</th>\n      <td>2754544</td>\n      <td>2012746527</td>\n      <td>WZFT-FM</td>\n      <td>H1</td>\n      <td>2023-01-15</td>\n      <td>2023-01-23</td>\n      <td>2021-10-01</td>\n      <td>2022-08-22</td>\n      <td>2022-01-31</td>\n      <td>Baltimore</td>\n      <td>...</td>\n      <td>0.0</td>\n      <td>5.0</td>\n      <td>5.0</td>\n      <td>5.0</td>\n      <td>103.0</td>\n      <td>37.0</td>\n      <td>37.0</td>\n      <td>210.0</td>\n      <td>210.0</td>\n      <td>210.0</td>\n    </tr>\n    <tr>\n      <th>1041932</th>\n      <td>2754544</td>\n      <td>2012746527</td>\n      <td>WZFT-FM</td>\n      <td>H1</td>\n      <td>2023-01-22</td>\n      <td>2023-01-30</td>\n      <td>2021-10-01</td>\n      <td>2022-08-22</td>\n      <td>2022-01-31</td>\n      <td>Baltimore</td>\n      <td>...</td>\n      <td>0.0</td>\n      <td>5.0</td>\n      <td>5.0</td>\n      <td>5.0</td>\n      <td>77.0</td>\n      <td>37.0</td>\n      <td>37.0</td>\n      <td>181.0</td>\n      <td>210.0</td>\n      <td>210.0</td>\n    </tr>\n  </tbody>\n</table>\n<p>303302 rows × 112 columns</p>\n</div>"
     },
     "execution_count": 68,
     "metadata": {},
     "output_type": "execute_result"
    }
   ],
   "source": [
    "df_hits_brn_h1"
   ],
   "metadata": {
    "collapsed": false
   }
  },
  {
   "cell_type": "code",
   "execution_count": 69,
   "outputs": [],
   "source": [
    "df_hits_brn_h1['week_dt_brn_4wk_prior'] = df_hits_brn_h1['week_dt_brn'] - np.timedelta64(4, 'W')"
   ],
   "metadata": {
    "collapsed": false
   }
  },
  {
   "cell_type": "code",
   "execution_count": 70,
   "outputs": [
    {
     "data": {
      "text/plain": "        week_dt_brn week_dt_brn_4wk_prior\n4567     2019-04-28            2019-03-31\n4568     2019-04-28            2019-03-31\n4569     2019-04-28            2019-03-31\n4570     2019-04-28            2019-03-31\n4571     2019-04-28            2019-03-31\n...             ...                   ...\n1041928         NaT                   NaT\n1041929         NaT                   NaT\n1041930         NaT                   NaT\n1041931         NaT                   NaT\n1041932         NaT                   NaT\n\n[303302 rows x 2 columns]",
      "text/html": "<div>\n<style scoped>\n    .dataframe tbody tr th:only-of-type {\n        vertical-align: middle;\n    }\n\n    .dataframe tbody tr th {\n        vertical-align: top;\n    }\n\n    .dataframe thead th {\n        text-align: right;\n    }\n</style>\n<table border=\"1\" class=\"dataframe\">\n  <thead>\n    <tr style=\"text-align: right;\">\n      <th></th>\n      <th>week_dt_brn</th>\n      <th>week_dt_brn_4wk_prior</th>\n    </tr>\n  </thead>\n  <tbody>\n    <tr>\n      <th>4567</th>\n      <td>2019-04-28</td>\n      <td>2019-03-31</td>\n    </tr>\n    <tr>\n      <th>4568</th>\n      <td>2019-04-28</td>\n      <td>2019-03-31</td>\n    </tr>\n    <tr>\n      <th>4569</th>\n      <td>2019-04-28</td>\n      <td>2019-03-31</td>\n    </tr>\n    <tr>\n      <th>4570</th>\n      <td>2019-04-28</td>\n      <td>2019-03-31</td>\n    </tr>\n    <tr>\n      <th>4571</th>\n      <td>2019-04-28</td>\n      <td>2019-03-31</td>\n    </tr>\n    <tr>\n      <th>...</th>\n      <td>...</td>\n      <td>...</td>\n    </tr>\n    <tr>\n      <th>1041928</th>\n      <td>NaT</td>\n      <td>NaT</td>\n    </tr>\n    <tr>\n      <th>1041929</th>\n      <td>NaT</td>\n      <td>NaT</td>\n    </tr>\n    <tr>\n      <th>1041930</th>\n      <td>NaT</td>\n      <td>NaT</td>\n    </tr>\n    <tr>\n      <th>1041931</th>\n      <td>NaT</td>\n      <td>NaT</td>\n    </tr>\n    <tr>\n      <th>1041932</th>\n      <td>NaT</td>\n      <td>NaT</td>\n    </tr>\n  </tbody>\n</table>\n<p>303302 rows × 2 columns</p>\n</div>"
     },
     "execution_count": 70,
     "metadata": {},
     "output_type": "execute_result"
    }
   ],
   "source": [
    "df_hits_brn_h1[['week_dt_brn', 'week_dt_brn_4wk_prior']]"
   ],
   "metadata": {
    "collapsed": false
   }
  },
  {
   "cell_type": "code",
   "execution_count": 72,
   "outputs": [],
   "source": [
    "df_train = df_hits_brn_h1[(df_hits_brn_h1['week_dt'] > df_hits_brn_h1['week_dt_hit']) & (df_hits_brn_h1['week_dt_hit'] <= df_hits_brn_h1['week_dt_brn_4wk_prior'])]"
   ],
   "metadata": {
    "collapsed": false
   }
  },
  {
   "cell_type": "code",
   "execution_count": 74,
   "outputs": [],
   "source": [
    "df_train['target'] = df_train.apply(lambda x: int(x['week_dt'] == x['week_dt_brn_4wk_prior']), axis=1)"
   ],
   "metadata": {
    "collapsed": false
   }
  },
  {
   "cell_type": "code",
   "execution_count": 76,
   "outputs": [
    {
     "data": {
      "text/plain": "        mediabase_id  song_id  call_letters  format_code  week_dt  score_dt  \\\ntarget                                                                        \n0             162245   162245        162245       162245   162245    162245   \n1               1209     1209          1209         1209     1209      1209   \n\n        song_release_date  last_callout_date  first_spin_date  market_name  \\\ntarget                                                                       \n0                  162245             162245           162245       162245   \n1                    1209               1209             1209         1209   \n\n        ...  market_spins_max_4wk  market_spins_max_8wk  \\\ntarget  ...                                               \n0       ...                162245                162245   \n1       ...                  1209                  1209   \n\n        market_spins_max_13wk  format_spins_min_4wk  format_spins_min_8wk  \\\ntarget                                                                      \n0                      162245                162245                162245   \n1                        1209                  1209                  1209   \n\n        format_spins_min_13wk  format_spins_max_4wk  format_spins_max_8wk  \\\ntarget                                                                      \n0                      162245                162245                162245   \n1                        1209                  1209                  1209   \n\n        format_spins_max_13wk  week_dt_brn_4wk_prior  \ntarget                                                \n0                      162245                 162245  \n1                        1209                   1209  \n\n[2 rows x 113 columns]",
      "text/html": "<div>\n<style scoped>\n    .dataframe tbody tr th:only-of-type {\n        vertical-align: middle;\n    }\n\n    .dataframe tbody tr th {\n        vertical-align: top;\n    }\n\n    .dataframe thead th {\n        text-align: right;\n    }\n</style>\n<table border=\"1\" class=\"dataframe\">\n  <thead>\n    <tr style=\"text-align: right;\">\n      <th></th>\n      <th>mediabase_id</th>\n      <th>song_id</th>\n      <th>call_letters</th>\n      <th>format_code</th>\n      <th>week_dt</th>\n      <th>score_dt</th>\n      <th>song_release_date</th>\n      <th>last_callout_date</th>\n      <th>first_spin_date</th>\n      <th>market_name</th>\n      <th>...</th>\n      <th>market_spins_max_4wk</th>\n      <th>market_spins_max_8wk</th>\n      <th>market_spins_max_13wk</th>\n      <th>format_spins_min_4wk</th>\n      <th>format_spins_min_8wk</th>\n      <th>format_spins_min_13wk</th>\n      <th>format_spins_max_4wk</th>\n      <th>format_spins_max_8wk</th>\n      <th>format_spins_max_13wk</th>\n      <th>week_dt_brn_4wk_prior</th>\n    </tr>\n    <tr>\n      <th>target</th>\n      <th></th>\n      <th></th>\n      <th></th>\n      <th></th>\n      <th></th>\n      <th></th>\n      <th></th>\n      <th></th>\n      <th></th>\n      <th></th>\n      <th></th>\n      <th></th>\n      <th></th>\n      <th></th>\n      <th></th>\n      <th></th>\n      <th></th>\n      <th></th>\n      <th></th>\n      <th></th>\n      <th></th>\n    </tr>\n  </thead>\n  <tbody>\n    <tr>\n      <th>0</th>\n      <td>162245</td>\n      <td>162245</td>\n      <td>162245</td>\n      <td>162245</td>\n      <td>162245</td>\n      <td>162245</td>\n      <td>162245</td>\n      <td>162245</td>\n      <td>162245</td>\n      <td>162245</td>\n      <td>...</td>\n      <td>162245</td>\n      <td>162245</td>\n      <td>162245</td>\n      <td>162245</td>\n      <td>162245</td>\n      <td>162245</td>\n      <td>162245</td>\n      <td>162245</td>\n      <td>162245</td>\n      <td>162245</td>\n    </tr>\n    <tr>\n      <th>1</th>\n      <td>1209</td>\n      <td>1209</td>\n      <td>1209</td>\n      <td>1209</td>\n      <td>1209</td>\n      <td>1209</td>\n      <td>1209</td>\n      <td>1209</td>\n      <td>1209</td>\n      <td>1209</td>\n      <td>...</td>\n      <td>1209</td>\n      <td>1209</td>\n      <td>1209</td>\n      <td>1209</td>\n      <td>1209</td>\n      <td>1209</td>\n      <td>1209</td>\n      <td>1209</td>\n      <td>1209</td>\n      <td>1209</td>\n    </tr>\n  </tbody>\n</table>\n<p>2 rows × 113 columns</p>\n</div>"
     },
     "execution_count": 76,
     "metadata": {},
     "output_type": "execute_result"
    }
   ],
   "source": [
    "df_train.groupby(['target']).count()"
   ],
   "metadata": {
    "collapsed": false
   }
  },
  {
   "cell_type": "code",
   "execution_count": 85,
   "outputs": [],
   "source": [
    "cat_cols = ['Market']\n",
    "num_cols = agg_cols + list(df_train.columns[-65:-2])"
   ],
   "metadata": {
    "collapsed": false
   }
  },
  {
   "cell_type": "code",
   "execution_count": 83,
   "outputs": [
    {
     "data": {
      "text/plain": "Index(['pop_avg_4wk', 'pop_avg_8wk', 'pop_avg_13wk', 'ddl_metric_avg_4wk',\n       'ddl_metric_avg_8wk', 'ddl_metric_avg_13wk', 'fav_metric_avg_4wk',\n       'fav_metric_avg_8wk', 'fav_metric_avg_13wk', 'spins_non_on_avg_4wk',\n       'spins_non_on_avg_8wk', 'spins_non_on_avg_13wk',\n       'spins_am_pm_dr_avg_4wk', 'spins_am_pm_dr_avg_8wk',\n       'spins_am_pm_dr_avg_13wk', 'market_spins_avg_4wk',\n       'market_spins_avg_8wk', 'market_spins_avg_13wk', 'format_spins_avg_4wk',\n       'format_spins_avg_8wk', 'format_spins_avg_13wk', 'pop_min_4wk',\n       'pop_min_8wk', 'pop_min_13wk', 'pop_max_4wk', 'pop_max_8wk',\n       'pop_max_13wk', 'ddl_metric_min_4wk', 'ddl_metric_min_8wk',\n       'ddl_metric_min_13wk', 'ddl_metric_max_4wk', 'ddl_metric_max_8wk',\n       'ddl_metric_max_13wk', 'fav_metric_min_4wk', 'fav_metric_min_8wk',\n       'fav_metric_min_13wk', 'fav_metric_max_4wk', 'fav_metric_max_8wk',\n       'fav_metric_max_13wk', 'spins_non_on_min_4wk', 'spins_non_on_min_8wk',\n       'spins_non_on_min_13wk', 'spins_non_on_max_4wk', 'spins_non_on_max_8wk',\n       'spins_non_on_max_13wk', 'spins_am_pm_dr_min_4wk',\n       'spins_am_pm_dr_min_8wk', 'spins_am_pm_dr_min_13wk',\n       'spins_am_pm_dr_max_4wk', 'spins_am_pm_dr_max_8wk',\n       'spins_am_pm_dr_max_13wk', 'market_spins_min_4wk',\n       'market_spins_min_8wk', 'market_spins_min_13wk', 'market_spins_max_4wk',\n       'market_spins_max_8wk', 'market_spins_max_13wk', 'format_spins_min_4wk',\n       'format_spins_min_8wk', 'format_spins_min_13wk', 'format_spins_max_4wk',\n       'format_spins_max_8wk', 'format_spins_max_13wk'],\n      dtype='object')"
     },
     "execution_count": 83,
     "metadata": {},
     "output_type": "execute_result"
    }
   ],
   "source": [
    "num_cols"
   ],
   "metadata": {
    "collapsed": false
   }
  },
  {
   "cell_type": "markdown",
   "source": [],
   "metadata": {
    "collapsed": false
   }
  }
 ],
 "metadata": {
  "kernelspec": {
   "display_name": "Python 3",
   "language": "python",
   "name": "python3"
  },
  "language_info": {
   "codemirror_mode": {
    "name": "ipython",
    "version": 2
   },
   "file_extension": ".py",
   "mimetype": "text/x-python",
   "name": "python",
   "nbconvert_exporter": "python",
   "pygments_lexer": "ipython2",
   "version": "2.7.6"
  }
 },
 "nbformat": 4,
 "nbformat_minor": 0
}
