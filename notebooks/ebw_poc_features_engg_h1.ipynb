{
 "cells": [
  {
   "cell_type": "code",
   "execution_count": 2,
   "outputs": [],
   "source": [
    "import numpy as np\n",
    "import pandas as pd\n",
    "\n",
    "pd.options.mode.chained_assignment = None  # default='warn'\n",
    "import seaborn as sns\n",
    "\n",
    "sns.set_theme()"
   ],
   "metadata": {
    "collapsed": false,
    "pycharm": {
     "name": "#%%\n"
    }
   }
  },
  {
   "cell_type": "markdown",
   "source": [
    "#### setup db connection"
   ],
   "metadata": {
    "collapsed": false
   }
  },
  {
   "cell_type": "code",
   "execution_count": 3,
   "outputs": [],
   "source": [
    "from sqlalchemy import create_engine\n",
    "\n",
    "def postgresql_engine(user, pwd, host, port, dbname):\n",
    "    # Need psycopg2-binary package\n",
    "    sql_engine = create_engine('postgres://' + user + ':' + pwd + '@' + host + ':' + port + '/' + dbname, echo=False)\n",
    "    return sql_engine"
   ],
   "metadata": {
    "collapsed": false,
    "pycharm": {
     "name": "#%%\n"
    }
   }
  },
  {
   "cell_type": "code",
   "execution_count": 4,
   "outputs": [],
   "source": [
    "# DB username & password\n",
    "import getpass\n",
    "\n",
    "username = getpass.getpass()\n",
    "password = getpass.getpass()"
   ],
   "metadata": {
    "collapsed": false,
    "pycharm": {
     "name": "#%%\n"
    }
   }
  },
  {
   "cell_type": "code",
   "execution_count": 5,
   "outputs": [],
   "source": [
    "# misc db parameters\n",
    "url = 'adds-postgres-dev.cfgztrijqgvp.us-east-1.rds.amazonaws.com'\n",
    "database = 'musiclab'\n",
    "port = '5432'"
   ],
   "metadata": {
    "collapsed": false,
    "pycharm": {
     "name": "#%%\n"
    }
   }
  },
  {
   "cell_type": "code",
   "execution_count": 6,
   "outputs": [],
   "source": [
    "# create DB engine\n",
    "engine = postgresql_engine(username, password, url, port, database)"
   ],
   "metadata": {
    "collapsed": false,
    "pycharm": {
     "name": "#%%\n"
    }
   }
  },
  {
   "cell_type": "markdown",
   "source": [
    "#### read in raw features from postgres DB"
   ],
   "metadata": {
    "collapsed": false
   }
  },
  {
   "cell_type": "code",
   "execution_count": 168,
   "outputs": [],
   "source": [
    "# read raw features table\n",
    "query_raw_features = '''\n",
    "Select *\n",
    "from adds_temp.ebw_raw_features_h1 as eh\n",
    "--where extract (year from eh.song_release_date) >= 2020\n",
    "'''\n",
    "\n",
    "with engine.connect() as conn:\n",
    "    with conn.begin():\n",
    "        df_raw_features = pd.read_sql(query_raw_features, con=conn)"
   ],
   "metadata": {
    "collapsed": false,
    "pycharm": {
     "name": "#%%\n"
    }
   }
  },
  {
   "cell_type": "code",
   "execution_count": 169,
   "outputs": [],
   "source": [
    "# write to pickle file\n",
    "# df_raw_features.to_pickle('ebw_df_raw_features_h1_from_psql.pkl')"
   ],
   "metadata": {
    "collapsed": false,
    "pycharm": {
     "name": "#%%\n"
    }
   }
  },
  {
   "cell_type": "code",
   "execution_count": 170,
   "outputs": [
    {
     "data": {
      "text/plain": "   mediabase_id   song_id call_letters market_name  artist_id format_code  \\\n0       1086587  90090779      KHTS-FM   San Diego   26365333          H1   \n1       1086587  90090779      KHTS-FM   San Diego   26365333          H1   \n2       1086587  90090779      KHTS-FM   San Diego   26365333          H1   \n3       1086587  90090779      KHTS-FM   San Diego   26365333          H1   \n4       1086587  90090779      KHTS-FM   San Diego   26365333          H1   \n\n  song_release_date first_callout_date last_callout_date first_spin_date  ...  \\\n0        2022-06-01         2022-07-18        2023-01-02      2022-06-12  ...   \n1        2022-06-01         2022-07-18        2023-01-02      2022-06-12  ...   \n2        2022-06-01         2022-07-18        2023-01-02      2022-06-12  ...   \n3        2022-06-01         2022-07-18        2023-01-02      2022-06-12  ...   \n4        2022-06-01         2022-07-18        2023-01-02      2022-06-12  ...   \n\n  artist_format_spins_total artist_format_spins_non_on  \\\n0                      1340                       1014   \n1                      4095                       2979   \n2                      6338                       4556   \n3                      8085                       5866   \n4                     10527                       7655   \n\n  artist_format_spins_am_pm_dr  artist_market_spins_total  \\\n0                          679                         68   \n1                         1895                         96   \n2                         3040                        105   \n3                         4019                        121   \n4                         5312                        155   \n\n  artist_market_spins_non_on artist_market_spins_am_pm_dr stream_count  \\\n0                         45                           22      11852.0   \n1                         62                           31      12578.0   \n2                         72                           41      11914.0   \n3                         94                           57      22934.0   \n4                        113                           79      17184.0   \n\n  completed_count  thumbs_up_count  thumbs_down_count  \n0          8198.0            454.0               30.0  \n1          8658.0            464.0               20.0  \n2          8130.0            450.0               18.0  \n3         14218.0            720.0               44.0  \n4         11272.0            602.0               24.0  \n\n[5 rows x 52 columns]",
      "text/html": "<div>\n<style scoped>\n    .dataframe tbody tr th:only-of-type {\n        vertical-align: middle;\n    }\n\n    .dataframe tbody tr th {\n        vertical-align: top;\n    }\n\n    .dataframe thead th {\n        text-align: right;\n    }\n</style>\n<table border=\"1\" class=\"dataframe\">\n  <thead>\n    <tr style=\"text-align: right;\">\n      <th></th>\n      <th>mediabase_id</th>\n      <th>song_id</th>\n      <th>call_letters</th>\n      <th>market_name</th>\n      <th>artist_id</th>\n      <th>format_code</th>\n      <th>song_release_date</th>\n      <th>first_callout_date</th>\n      <th>last_callout_date</th>\n      <th>first_spin_date</th>\n      <th>...</th>\n      <th>artist_format_spins_total</th>\n      <th>artist_format_spins_non_on</th>\n      <th>artist_format_spins_am_pm_dr</th>\n      <th>artist_market_spins_total</th>\n      <th>artist_market_spins_non_on</th>\n      <th>artist_market_spins_am_pm_dr</th>\n      <th>stream_count</th>\n      <th>completed_count</th>\n      <th>thumbs_up_count</th>\n      <th>thumbs_down_count</th>\n    </tr>\n  </thead>\n  <tbody>\n    <tr>\n      <th>0</th>\n      <td>1086587</td>\n      <td>90090779</td>\n      <td>KHTS-FM</td>\n      <td>San Diego</td>\n      <td>26365333</td>\n      <td>H1</td>\n      <td>2022-06-01</td>\n      <td>2022-07-18</td>\n      <td>2023-01-02</td>\n      <td>2022-06-12</td>\n      <td>...</td>\n      <td>1340</td>\n      <td>1014</td>\n      <td>679</td>\n      <td>68</td>\n      <td>45</td>\n      <td>22</td>\n      <td>11852.0</td>\n      <td>8198.0</td>\n      <td>454.0</td>\n      <td>30.0</td>\n    </tr>\n    <tr>\n      <th>1</th>\n      <td>1086587</td>\n      <td>90090779</td>\n      <td>KHTS-FM</td>\n      <td>San Diego</td>\n      <td>26365333</td>\n      <td>H1</td>\n      <td>2022-06-01</td>\n      <td>2022-07-18</td>\n      <td>2023-01-02</td>\n      <td>2022-06-12</td>\n      <td>...</td>\n      <td>4095</td>\n      <td>2979</td>\n      <td>1895</td>\n      <td>96</td>\n      <td>62</td>\n      <td>31</td>\n      <td>12578.0</td>\n      <td>8658.0</td>\n      <td>464.0</td>\n      <td>20.0</td>\n    </tr>\n    <tr>\n      <th>2</th>\n      <td>1086587</td>\n      <td>90090779</td>\n      <td>KHTS-FM</td>\n      <td>San Diego</td>\n      <td>26365333</td>\n      <td>H1</td>\n      <td>2022-06-01</td>\n      <td>2022-07-18</td>\n      <td>2023-01-02</td>\n      <td>2022-06-12</td>\n      <td>...</td>\n      <td>6338</td>\n      <td>4556</td>\n      <td>3040</td>\n      <td>105</td>\n      <td>72</td>\n      <td>41</td>\n      <td>11914.0</td>\n      <td>8130.0</td>\n      <td>450.0</td>\n      <td>18.0</td>\n    </tr>\n    <tr>\n      <th>3</th>\n      <td>1086587</td>\n      <td>90090779</td>\n      <td>KHTS-FM</td>\n      <td>San Diego</td>\n      <td>26365333</td>\n      <td>H1</td>\n      <td>2022-06-01</td>\n      <td>2022-07-18</td>\n      <td>2023-01-02</td>\n      <td>2022-06-12</td>\n      <td>...</td>\n      <td>8085</td>\n      <td>5866</td>\n      <td>4019</td>\n      <td>121</td>\n      <td>94</td>\n      <td>57</td>\n      <td>22934.0</td>\n      <td>14218.0</td>\n      <td>720.0</td>\n      <td>44.0</td>\n    </tr>\n    <tr>\n      <th>4</th>\n      <td>1086587</td>\n      <td>90090779</td>\n      <td>KHTS-FM</td>\n      <td>San Diego</td>\n      <td>26365333</td>\n      <td>H1</td>\n      <td>2022-06-01</td>\n      <td>2022-07-18</td>\n      <td>2023-01-02</td>\n      <td>2022-06-12</td>\n      <td>...</td>\n      <td>10527</td>\n      <td>7655</td>\n      <td>5312</td>\n      <td>155</td>\n      <td>113</td>\n      <td>79</td>\n      <td>17184.0</td>\n      <td>11272.0</td>\n      <td>602.0</td>\n      <td>24.0</td>\n    </tr>\n  </tbody>\n</table>\n<p>5 rows × 52 columns</p>\n</div>"
     },
     "execution_count": 170,
     "metadata": {},
     "output_type": "execute_result"
    }
   ],
   "source": [
    "df_raw_features.head()"
   ],
   "metadata": {
    "collapsed": false,
    "pycharm": {
     "name": "#%%\n"
    }
   }
  },
  {
   "cell_type": "code",
   "execution_count": 171,
   "outputs": [],
   "source": [
    "# read in pickle file\n",
    "# df_raw_features = pd.read_pickle('ebw_df_raw_features_h1_from_psql.pkl')"
   ],
   "metadata": {
    "collapsed": false,
    "pycharm": {
     "name": "#%%\n"
    }
   }
  },
  {
   "cell_type": "code",
   "execution_count": 172,
   "outputs": [],
   "source": [
    "# explicit cast for date related fields\n",
    "date_cols = ['week_dt', 'song_release_date', 'hit_tag_date', 'first_spin_date', 'last_spin_date', 'ftq_date',\n",
    "             'last_callout_date', 'first_callout_date']\n",
    "\n",
    "df_raw_features[date_cols] = df_raw_features[date_cols].apply(pd.to_datetime)"
   ],
   "metadata": {
    "collapsed": false,
    "pycharm": {
     "name": "#%%\n"
    }
   }
  },
  {
   "cell_type": "code",
   "execution_count": 173,
   "outputs": [],
   "source": [
    "# sort data\n",
    "df_raw_features.sort_values(by=['mediabase_id', 'call_letters', 'week_dt'], inplace=True)"
   ],
   "metadata": {
    "collapsed": false,
    "pycharm": {
     "name": "#%%\n"
    }
   }
  },
  {
   "cell_type": "markdown",
   "source": [
    "#### calculated fields"
   ],
   "metadata": {
    "collapsed": false
   }
  },
  {
   "cell_type": "code",
   "execution_count": 174,
   "outputs": [],
   "source": [
    "# Define a dictionary of computed columns to create\n",
    "computed_cols = {\n",
    "    'cuml_song_station_spins_non_on': lambda df: df.groupby(['mediabase_id', 'call_letters'])['song_station_spins_non_on'].cumsum(),\n",
    "    'weeks_since_first_spins': lambda df: (df['week_dt'] - df['first_spin_date']) / np.timedelta64(1, 'W'),\n",
    "    'weeks_since_release': lambda df: np.round((df['week_dt'] - df['song_release_date']) / np.timedelta64(1, 'W')),\n",
    "    'weeks_since_hit': lambda df: (df['week_dt'] - df['hit_tag_date']) / np.timedelta64(1, 'W'),\n",
    "    'weeks_bw_ftq_first_spins': lambda df: (df['ftq_date'] - df['first_spin_date']) / np.timedelta64(1, 'W'),\n",
    "    'weeks_bw_top_quintiles': lambda df: (df['hit_tag_date'] - df['ftq_date']) / np.timedelta64(1, 'W'),\n",
    "    'weeks_bw_ddl_thresh_cross': lambda df: (df['ddl_over_thresh_dt_second'] - df['ddl_over_thresh_dt_first']) / np.timedelta64(1, 'W'),\n",
    "    'market_spins_propn': lambda df: df['song_station_spins_non_on'] / df['song_market_spins_non_on'],\n",
    "    'artist_spins_propn': lambda df: df['song_station_spins_non_on'] / df['artist_station_spins_non_on'],\n",
    "    'hit_tag_year': lambda df: df['hit_tag_date'].dt.year\n",
    "}\n",
    "\n",
    "# Use assign with a dictionary comprehension to create the computed columns\n",
    "df_raw_features = df_raw_features.assign(**{col_name: func(df_raw_features) for col_name, func in computed_cols.items()})"
   ],
   "metadata": {
    "collapsed": false,
    "pycharm": {
     "name": "#%%\n"
    }
   }
  },
  {
   "cell_type": "code",
   "execution_count": 175,
   "outputs": [],
   "source": [
    "# Define a sub-dataframe containing only the rows where week_dt equals hit_tag_date\n",
    "mask = df_raw_features['week_dt'] == df_raw_features['hit_tag_date']\n",
    "sub_df = df_raw_features.loc[mask, ['mediabase_id', 'call_letters', 'week_dt', 'cuml_song_station_spins_non_on']]\n",
    "sub_df = sub_df.set_index(['mediabase_id', 'call_letters'])\n",
    "\n",
    "# Join the sub-dataframe back onto the original dataframe\n",
    "df_raw_features = df_raw_features.join(sub_df, on=['mediabase_id', 'call_letters'], rsuffix='_at_hit',\n",
    "                                       how='left')"
   ],
   "metadata": {
    "collapsed": false,
    "pycharm": {
     "name": "#%%\n"
    }
   }
  },
  {
   "cell_type": "code",
   "execution_count": 176,
   "outputs": [],
   "source": [
    "# Define a sub-dataframe containing only the rows where week_dt equals ftq_date\n",
    "mask = df_raw_features['week_dt'] == df_raw_features['ftq_date']\n",
    "sub_df = df_raw_features.loc[mask, ['mediabase_id', 'call_letters', 'week_dt', 'cuml_song_station_spins_non_on']]\n",
    "sub_df = sub_df.set_index(['mediabase_id', 'call_letters'])\n",
    "\n",
    "# Join the sub-dataframe back onto the original dataframe\n",
    "df_raw_features = df_raw_features.join(sub_df, on=['mediabase_id', 'call_letters'], rsuffix='_at_ftq'\n",
    "                                       , how='left')"
   ],
   "metadata": {
    "collapsed": false,
    "pycharm": {
     "name": "#%%\n"
    }
   }
  },
  {
   "cell_type": "code",
   "execution_count": 177,
   "outputs": [],
   "source": [
    "# Filter rows where week_dt equals ddl_over_thresh_dt_first\n",
    "mask = df_raw_features['week_dt'] == df_raw_features['ddl_over_thresh_dt_first']\n",
    "sub_df = df_raw_features.loc[mask, ['mediabase_id', 'call_letters', 'week_dt', 'cuml_song_station_spins_non_on']]\n",
    "sub_df = sub_df.set_index(['mediabase_id', 'call_letters'])\n",
    "\n",
    "# Join sub-dataframe to original dataframe\n",
    "df_raw_features = df_raw_features.join(sub_df, on=['mediabase_id', 'call_letters'], rsuffix='_at_pre_burnout',\n",
    "                                       how='left')"
   ],
   "metadata": {
    "collapsed": false,
    "pycharm": {
     "name": "#%%\n"
    }
   }
  },
  {
   "cell_type": "code",
   "execution_count": 178,
   "outputs": [],
   "source": [
    "# Filter rows where week_dt equals ddl_over_thresh_dt_second\n",
    "mask = df_raw_features['week_dt'] == df_raw_features['ddl_over_thresh_dt_second']\n",
    "sub_df = df_raw_features.loc[mask, ['mediabase_id', 'call_letters', 'week_dt', 'cuml_song_station_spins_non_on']]\n",
    "sub_df = sub_df.set_index(['mediabase_id', 'call_letters'])\n",
    "\n",
    "# Join sub-dataframe to original dataframe\n",
    "df_raw_features = df_raw_features.join(sub_df, on=['mediabase_id', 'call_letters'], rsuffix='_at_burnout', how='left')"
   ],
   "metadata": {
    "collapsed": false,
    "pycharm": {
     "name": "#%%\n"
    }
   }
  },
  {
   "cell_type": "code",
   "execution_count": 179,
   "outputs": [],
   "source": [
    "# measures spins to burnout after song turns into a hit\n",
    "df_raw_features['spins_to_burnout_from_hit'] = df_raw_features['cuml_song_station_spins_non_on_at_burnout'] -\\\n",
    "                                               df_raw_features['cuml_song_station_spins_non_on_at_hit']\n",
    "\n",
    "# measure spins to hit from ftq\n",
    "df_raw_features['spins_to_hit_from_ftq'] = df_raw_features['cuml_song_station_spins_non_on_at_hit'] -\\\n",
    "                                           df_raw_features['cuml_song_station_spins_non_on_at_ftq']"
   ],
   "metadata": {
    "collapsed": false,
    "pycharm": {
     "name": "#%%\n"
    }
   }
  },
  {
   "cell_type": "code",
   "execution_count": 180,
   "outputs": [],
   "source": [
    "df_raw_features['hit_spins_bucket'] = pd.cut(df_raw_features['cuml_song_station_spins_non_on_at_hit'], np.arange(0,\n",
    "                                                                                                                 np.max(\n",
    "                                                                                                                     df_raw_features[\n",
    "                                                                                                                         'cuml_song_station_spins_non_on_at_hit']),\n",
    "                                                                                                                 250))"
   ],
   "metadata": {
    "collapsed": false,
    "pycharm": {
     "name": "#%%\n"
    }
   }
  },
  {
   "cell_type": "code",
   "execution_count": 181,
   "outputs": [],
   "source": [
    "# df_raw_features.drop(columns=['cuml_song_station_spins_non_on_at_hit'], inplace=True)"
   ],
   "metadata": {
    "collapsed": false,
    "pycharm": {
     "name": "#%%\n"
    }
   }
  },
  {
   "cell_type": "code",
   "execution_count": 182,
   "outputs": [],
   "source": [
    "# df_raw_features['hit_spins_bucket']"
   ],
   "metadata": {
    "collapsed": false,
    "pycharm": {
     "name": "#%%\n"
    }
   }
  },
  {
   "cell_type": "code",
   "execution_count": 183,
   "outputs": [],
   "source": [
    "# df_raw_features = pd.read_pickle('ebw_raw_features_base_h1.pkl')"
   ],
   "metadata": {
    "collapsed": false,
    "pycharm": {
     "name": "#%%\n"
    }
   }
  },
  {
   "cell_type": "code",
   "execution_count": 184,
   "outputs": [],
   "source": [
    "query_all_spins = '''\n",
    "Select *\n",
    "from adds_temp.ebw_all_spins_h1 as esh\n",
    "'''\n",
    "with engine.connect() as conn:\n",
    "    with conn.begin():\n",
    "        df_all_spins = pd.read_sql(query_all_spins, conn)"
   ],
   "metadata": {
    "collapsed": false,
    "pycharm": {
     "name": "#%%\n"
    }
   }
  },
  {
   "cell_type": "code",
   "execution_count": 185,
   "outputs": [],
   "source": [
    "all_spins_cols = ['market_spins_total', 'market_spins_non_on', 'market_spins_am_pm_dr', 'station_spins_total',\n",
    "                  'station_spins_non_on', 'station_spins_am_pm_dr']\n",
    "df_raw_features = df_raw_features.join(df_all_spins.set_index(['call_letters', 'week_dt'])[all_spins_cols],\n",
    "                                       on=['call_letters', 'week_dt'])"
   ],
   "metadata": {
    "collapsed": false,
    "pycharm": {
     "name": "#%%\n"
    }
   }
  },
  {
   "cell_type": "code",
   "execution_count": 186,
   "outputs": [],
   "source": [
    "df_raw_features.to_pickle('ebw_raw_features_base_h1.pkl')"
   ],
   "metadata": {
    "collapsed": false,
    "pycharm": {
     "name": "#%%\n"
    }
   }
  },
  {
   "cell_type": "code",
   "execution_count": 187,
   "outputs": [],
   "source": [
    "# df_raw_features = pd.read_pickle('ebw_raw_features_base_h1.pkl')"
   ],
   "metadata": {
    "collapsed": false,
    "pycharm": {
     "name": "#%%\n"
    }
   }
  },
  {
   "cell_type": "markdown",
   "source": [
    "#### extract unique hit information (spins/dates)"
   ],
   "metadata": {
    "collapsed": false
   }
  },
  {
   "cell_type": "code",
   "execution_count": 188,
   "outputs": [],
   "source": [
    "# de-dupe raw features to obtain unique hit info\n",
    "id_cols = ['mediabase_id', 'call_letters']\n",
    "date_cols = ['song_release_date', 'song_release_year', 'ftq_date', 'hit_tag_year', 'ddl_over_thresh_dt_first',\n",
    "             'ddl_over_thresh_dt_second']\n",
    "weeks_cols = ['weeks_bw_ftq_first_spins', 'weeks_bw_top_quintiles']\n",
    "spins_cols = ['cuml_song_station_spins_non_on_at_ftq', 'cuml_song_station_spins_non_on_at_hit',\n",
    "              'cuml_song_station_spins_non_on_at_pre_burnout', 'cuml_song_station_spins_non_on_at_burnout',\n",
    "              'spins_to_hit_from_ftq', 'spins_to_burnout_from_hit']\n",
    "\n",
    "# create dataframe with unique hit information\n",
    "df_hits_tracker = df_raw_features[id_cols + date_cols + weeks_cols + spins_cols].drop_duplicates()"
   ],
   "metadata": {
    "collapsed": false,
    "pycharm": {
     "name": "#%%\n"
    }
   }
  },
  {
   "cell_type": "code",
   "execution_count": 189,
   "outputs": [],
   "source": [
    "# df_hits_tracker.head()"
   ],
   "metadata": {
    "collapsed": false,
    "pycharm": {
     "name": "#%%\n"
    }
   }
  },
  {
   "cell_type": "code",
   "execution_count": 190,
   "outputs": [],
   "source": [
    "# determine spins cutoff for end of burn monitoring\n",
    "# df_hits_tracker.groupby(['song_release_year']).apply(lambda x: [len(x), np.nanquantile(x['spins_to_burnout_from_hit'], 0.05), np.nanquantile(x['spins_to_burnout_from_hit'], 0.95), (x['spins_to_burnout_from_hit'] > 2500).sum(),\n",
    "#                                                                 # (x['spins_to_burnout_from_hit'] > 2500).sum() / len(x)])"
   ],
   "metadata": {
    "collapsed": false,
    "pycharm": {
     "name": "#%%\n"
    }
   }
  },
  {
   "cell_type": "code",
   "execution_count": 191,
   "outputs": [],
   "source": [
    "# mask = df_hits_tracker['spins_to_burnout_from_hit'] < 150\n",
    "# df_hits_tracker.loc[mask]"
   ],
   "metadata": {
    "collapsed": false,
    "pycharm": {
     "name": "#%%\n"
    }
   }
  },
  {
   "cell_type": "markdown",
   "source": [
    "Based on the above information about 2-3% of the songs which experienced burnout in 2020 and 2021 took more than 2500 spins after turning into a hit. 2500 spins seems to be a reasonable cutoff for end of burnout monitoring"
   ],
   "metadata": {
    "collapsed": false
   }
  },
  {
   "cell_type": "code",
   "execution_count": 192,
   "outputs": [],
   "source": [
    "# # define censoring flag\n",
    "# burn_end_spins_cutoff = 2500\n",
    "# df_hits_tracker['censoring_flg'] = ~(pd.isna(df_hits_tracker['ddl_over_thresh_dt_second']) | (\n",
    "#             df_hits_tracker['spins_to_burnout_from_hit'] > burn_end_spins_cutoff))"
   ],
   "metadata": {
    "collapsed": false,
    "pycharm": {
     "name": "#%%\n"
    }
   }
  },
  {
   "cell_type": "code",
   "execution_count": 193,
   "outputs": [],
   "source": [
    "id_cols = ['mediabase_id','call_letters']\n",
    "df_sub = df_raw_features.groupby(id_cols)['cuml_song_station_spins_non_on'].max().reset_index()\n",
    "df_sub.columns = id_cols + ['cuml_song_station_spins_non_on_max']\n",
    "df_hits_tracker = df_hits_tracker.join(df_sub.set_index(id_cols), on=id_cols)"
   ],
   "metadata": {
    "collapsed": false,
    "pycharm": {
     "name": "#%%\n"
    }
   }
  },
  {
   "cell_type": "code",
   "execution_count": 194,
   "outputs": [],
   "source": [
    "id_cols = ['mediabase_id','call_letters']\n",
    "df_sub = df_raw_features.groupby(id_cols)['cuml_song_station_spins_non_on'].max() - df_raw_features.groupby(id_cols)['cuml_song_station_spins_non_on_at_hit'].max()\n",
    "df_sub = df_sub.reset_index()\n",
    "df_sub.columns = id_cols + ['cuml_song_station_spins_non_on_since_hit_max']\n",
    "df_hits_tracker = df_hits_tracker.join(df_sub.set_index(id_cols), on=id_cols)"
   ],
   "metadata": {
    "collapsed": false,
    "pycharm": {
     "name": "#%%\n"
    }
   }
  },
  {
   "cell_type": "code",
   "execution_count": 195,
   "outputs": [],
   "source": [
    "# df_hits_tracker.head()"
   ],
   "metadata": {
    "collapsed": false,
    "pycharm": {
     "name": "#%%\n"
    }
   }
  },
  {
   "cell_type": "code",
   "execution_count": 196,
   "outputs": [],
   "source": [
    "# df_hits_tracker['hit_tag_year'] = df_hits_tracker['hit_tag_date'].dt.year"
   ],
   "metadata": {
    "collapsed": false,
    "pycharm": {
     "name": "#%%\n"
    }
   }
  },
  {
   "cell_type": "code",
   "execution_count": 197,
   "outputs": [],
   "source": [
    "# df_hits_tracker.groupby(['hit_tag_year'])['mediabase_id'].count()"
   ],
   "metadata": {
    "collapsed": false,
    "pycharm": {
     "name": "#%%\n"
    }
   }
  },
  {
   "cell_type": "code",
   "execution_count": 198,
   "outputs": [],
   "source": [
    "# df_hits_tracker.boxplot(column=['cuml_song_station_spins_non_on_since_hit_max'], by=['hit_tag_year'])"
   ],
   "metadata": {
    "collapsed": false,
    "pycharm": {
     "name": "#%%\n"
    }
   }
  },
  {
   "cell_type": "code",
   "execution_count": 199,
   "outputs": [],
   "source": [
    "df_hits_tracker['censoring_flg'] = False"
   ],
   "metadata": {
    "collapsed": false,
    "pycharm": {
     "name": "#%%\n"
    }
   }
  },
  {
   "cell_type": "code",
   "execution_count": 200,
   "outputs": [],
   "source": [
    "# # censored due to too few spins\n",
    "# mask = (df_hits_tracker['cuml_song_station_spins_non_on_max'] - df_hits_tracker['cuml_song_station_spins_non_on_at_hit'] < 2500) & (pd.isna(df_hits_tracker['ddl_over_thresh_dt_second']))\n",
    "# # df_hits_tracker.loc[mask].groupby(['song_release_year'])['mediabase_id'].count()\n",
    "# df_hits_tracker.loc[mask, 'censoring_flg'] = False\n",
    "# df_hits_tracker.loc[mask, 'spins_to_burnout_from_hit'] = df_hits_tracker.loc[mask, 'cuml_song_station_spins_non_on_max'] - df_hits_tracker.loc[mask, 'cuml_song_station_spins_non_on_at_hit']"
   ],
   "metadata": {
    "collapsed": false,
    "pycharm": {
     "name": "#%%\n"
    }
   }
  },
  {
   "cell_type": "code",
   "execution_count": 201,
   "outputs": [],
   "source": [
    "# df_hits_tracker"
   ],
   "metadata": {
    "collapsed": false,
    "pycharm": {
     "name": "#%%\n"
    }
   }
  },
  {
   "cell_type": "code",
   "execution_count": 202,
   "outputs": [],
   "source": [
    "# # never experienced burnout\n",
    "# mask = (df_hits_tracker['cuml_song_station_spins_non_on_max'] - df_hits_tracker['cuml_song_station_spins_non_on_at_hit'] > 2500) & (pd.isna(df_hits_tracker['ddl_over_thresh_dt_second']))\n",
    "# # df_hits_tracker.loc[mask].groupby(['song_release_year'])['mediabase_id'].count()\n",
    "# df_hits_tracker.loc[mask, 'censoring_flg'] = False\n",
    "# df_hits_tracker.loc[mask, 'spins_to_burnout_from_hit'] = df_hits_tracker.loc[mask, 'cuml_song_station_spins_non_on_max'] - df_hits_tracker.loc[mask, 'cuml_song_station_spins_non_on_at_hit']"
   ],
   "metadata": {
    "collapsed": false,
    "pycharm": {
     "name": "#%%\n"
    }
   }
  },
  {
   "cell_type": "code",
   "execution_count": 203,
   "outputs": [],
   "source": [
    "# # experienced burnout\n",
    "# mask = (df_hits_tracker['cuml_song_station_spins_non_on_max'] - df_hits_tracker['cuml_song_station_spins_non_on_at_hit'] <= 2500) & (~pd.isna(df_hits_tracker['ddl_over_thresh_dt_second']))\n",
    "# # df_hits_tracker.loc[mask].groupby(['song_release_year'])['mediabase_id'].count()\n",
    "# df_hits_tracker.loc[mask, 'censoring_flg'] = True"
   ],
   "metadata": {
    "collapsed": false,
    "pycharm": {
     "name": "#%%\n"
    }
   }
  },
  {
   "cell_type": "code",
   "execution_count": 204,
   "outputs": [],
   "source": [
    "# # experienced burnout but after 2500 spins\n",
    "# mask = (df_hits_tracker['cuml_song_station_spins_non_on_max'] - df_hits_tracker['cuml_song_station_spins_non_on_at_hit'] > 2500) & (~pd.isna(df_hits_tracker['ddl_over_thresh_dt_second']))\n",
    "# df_hits_tracker.loc[mask, 'censoring_flg'] = True\n",
    "# # df_hits_tracker.loc[mask]"
   ],
   "metadata": {
    "collapsed": false,
    "pycharm": {
     "name": "#%%\n"
    }
   }
  },
  {
   "cell_type": "code",
   "execution_count": 205,
   "outputs": [],
   "source": [
    "# df_hits_tracker"
   ],
   "metadata": {
    "collapsed": false,
    "pycharm": {
     "name": "#%%\n"
    }
   }
  },
  {
   "cell_type": "code",
   "execution_count": 206,
   "outputs": [],
   "source": [
    "# df_hits_tracker.groupby(['song_release_year', 'censoring_flg'])['mediabase_id'].count()"
   ],
   "metadata": {
    "collapsed": false,
    "pycharm": {
     "name": "#%%\n"
    }
   }
  },
  {
   "cell_type": "code",
   "execution_count": 207,
   "outputs": [],
   "source": [
    "df_hits_tracker.to_pickle('ebw_hits_tracker_h1.pkl')"
   ],
   "metadata": {
    "collapsed": false,
    "pycharm": {
     "name": "#%%\n"
    }
   }
  },
  {
   "cell_type": "code",
   "execution_count": 208,
   "outputs": [],
   "source": [
    "# df_hits_tracker[['spins_to_burnout_from_hit', 'cuml_song_station_spins_non_on_since_hit_max']]"
   ],
   "metadata": {
    "collapsed": false,
    "pycharm": {
     "name": "#%%\n"
    }
   }
  },
  {
   "cell_type": "markdown",
   "source": [
    "#### feature engineering"
   ],
   "metadata": {
    "collapsed": false
   }
  },
  {
   "cell_type": "code",
   "execution_count": 209,
   "outputs": [],
   "source": [
    "rolling_weeks = [1, 4, 8 ,13, 26]\n",
    "lags = [1, 2, 3, 4]"
   ],
   "metadata": {
    "collapsed": false,
    "pycharm": {
     "name": "#%%\n"
    }
   }
  },
  {
   "cell_type": "code",
   "execution_count": 210,
   "outputs": [],
   "source": [
    "song_sample_mask = df_raw_features['hit_tag_year'] >= 2020"
   ],
   "metadata": {
    "collapsed": false,
    "pycharm": {
     "name": "#%%\n"
    }
   }
  },
  {
   "cell_type": "markdown",
   "source": [
    "##### pop score related columns"
   ],
   "metadata": {
    "collapsed": false
   }
  },
  {
   "cell_type": "code",
   "execution_count": 211,
   "outputs": [],
   "source": [
    "pop_cols = [col for col in df_raw_features.columns if\n",
    "            (('_pop' in col) or ('_ddl' in col) or ('_fav' in col)) and ('weeks_' not in col)]"
   ],
   "metadata": {
    "collapsed": false,
    "pycharm": {
     "name": "#%%\n"
    }
   }
  },
  {
   "cell_type": "code",
   "execution_count": 212,
   "outputs": [
    {
     "data": {
      "text/plain": "['song_station_pop',\n 'song_station_ddl',\n 'song_station_fav',\n 'count_song_format_pop',\n 'song_format_pop',\n 'song_format_ddl',\n 'song_format_fav',\n 'count_artist_format_pop',\n 'artist_format_pop',\n 'artist_format_ddl',\n 'artist_format_fav']"
     },
     "execution_count": 212,
     "metadata": {},
     "output_type": "execute_result"
    }
   ],
   "source": [
    "pop_cols"
   ],
   "metadata": {
    "collapsed": false,
    "pycharm": {
     "name": "#%%\n"
    }
   }
  },
  {
   "cell_type": "markdown",
   "source": [
    "##### rolling statistics look back"
   ],
   "metadata": {
    "collapsed": false
   }
  },
  {
   "cell_type": "code",
   "execution_count": 213,
   "outputs": [
    {
     "data": {
      "text/plain": "Index(['song_station_pop', 'song_station_ddl', 'song_station_fav',\n       'count_song_format_pop', 'song_format_pop', 'song_format_ddl',\n       'song_format_fav', 'count_artist_format_pop', 'artist_format_pop',\n       'artist_format_ddl', 'artist_format_fav'],\n      dtype='object')"
     },
     "execution_count": 213,
     "metadata": {},
     "output_type": "execute_result"
    }
   ],
   "source": [
    "df_raw_features[pop_cols].columns"
   ],
   "metadata": {
    "collapsed": false,
    "pycharm": {
     "name": "#%%\n"
    }
   }
  },
  {
   "cell_type": "code",
   "execution_count": 214,
   "outputs": [
    {
     "data": {
      "text/plain": "array([[<AxesSubplot:title={'center':'song_station_pop'}>,\n        <AxesSubplot:title={'center':'song_station_ddl'}>,\n        <AxesSubplot:title={'center':'song_station_fav'}>],\n       [<AxesSubplot:title={'center':'count_song_format_pop'}>,\n        <AxesSubplot:title={'center':'song_format_pop'}>,\n        <AxesSubplot:title={'center':'song_format_ddl'}>],\n       [<AxesSubplot:title={'center':'song_format_fav'}>,\n        <AxesSubplot:title={'center':'count_artist_format_pop'}>,\n        <AxesSubplot:title={'center':'artist_format_pop'}>],\n       [<AxesSubplot:title={'center':'artist_format_ddl'}>,\n        <AxesSubplot:title={'center':'artist_format_fav'}>,\n        <AxesSubplot:>]], dtype=object)"
     },
     "execution_count": 214,
     "metadata": {},
     "output_type": "execute_result"
    },
    {
     "data": {
      "text/plain": "<Figure size 640x480 with 12 Axes>",
      "image/png": "[encoded data removed]"
     },
     "metadata": {},
     "output_type": "display_data"
    }
   ],
   "source": [
    "df_raw_features[pop_cols].hist()"
   ],
   "metadata": {
    "collapsed": false,
    "pycharm": {
     "name": "#%%\n"
    }
   }
  },
  {
   "cell_type": "code",
   "execution_count": 215,
   "outputs": [],
   "source": [
    "id_cols = ['mediabase_id', 'call_letters', 'week_dt', 'weeks_since_hit']\n",
    "df_pop_features = df_raw_features[id_cols]\n",
    "for win_len in rolling_weeks:\n",
    "    for lag in lags:\n",
    "        for col in pop_cols:\n",
    "            col_name = f\"{col}_{win_len}wk_lag{lag}\"\n",
    "            roll_col = df_raw_features.loc[song_sample_mask].groupby(['mediabase_id', 'call_letters'])[col].rolling(window=win_len, min_periods=0)\n",
    "            df_pop_features[f\"{col_name}_min\"] = (roll_col.min().shift(lag).droplevel([0,1])).ffill()\n",
    "            df_pop_features[f\"{col_name}_max\"] = (roll_col.max().shift(lag).droplevel([0,1])).ffill()\n",
    "            df_pop_features[f\"{col_name}_mean\"] = (roll_col.mean().shift(lag).droplevel([0,1])).ffill()\n",
    "            df_pop_features[f\"{col_name}_std\"] = (roll_col.std().shift(lag).droplevel([0,1])).ffill()"
   ],
   "metadata": {
    "collapsed": false,
    "pycharm": {
     "name": "#%%\n"
    }
   }
  },
  {
   "cell_type": "code",
   "execution_count": 216,
   "outputs": [
    {
     "data": {
      "text/plain": "(656708, 884)"
     },
     "execution_count": 216,
     "metadata": {},
     "output_type": "execute_result"
    }
   ],
   "source": [
    "df_pop_features.shape"
   ],
   "metadata": {
    "collapsed": false,
    "pycharm": {
     "name": "#%%\n"
    }
   }
  },
  {
   "cell_type": "code",
   "execution_count": 217,
   "outputs": [],
   "source": [
    "df_pop_features.to_pickle('ebw_pop_features_h1.pkl')"
   ],
   "metadata": {
    "collapsed": false,
    "pycharm": {
     "name": "#%%\n"
    }
   }
  },
  {
   "cell_type": "code",
   "execution_count": 218,
   "outputs": [],
   "source": [
    "# df_pop_features[df_pop_features['weeks_since_hit'] > 0]"
   ],
   "metadata": {
    "collapsed": false,
    "pycharm": {
     "name": "#%%\n"
    }
   }
  },
  {
   "cell_type": "code",
   "execution_count": 219,
   "outputs": [],
   "source": [
    "# import matplotlib.pyplot as plt\n",
    "# mask = (df_raw_features['mediabase_id'] == 1086587) & (df_raw_features['call_letters'] == 'KHTS-FM')\n",
    "# sel_cols = ['song_format_pop','song_format_pop_4wk_lag1_mean', 'song_format_pop_4wk_lag2_mean', 'song_format_pop_4wk_lag3_mean', 'song_format_pop_4wk_lag4_mean', 'song_format_pop_1wk_lag1_mean']\n",
    "# plt.scatter(df_raw_features.loc[mask, 'week_dt'], df_raw_features.loc[mask, sel_cols[0]], label=sel_cols[0])\n",
    "# # plt.plot(df_raw_features.loc[mask, 'week_dt'], df_raw_features.loc[mask, sel_cols[1]], label=sel_cols[1])\n",
    "# plt.plot(df_raw_features.loc[mask, 'week_dt'], df_raw_features.loc[mask, sel_cols[2]], label=sel_cols[2])\n",
    "# plt.plot(df_raw_features.loc[mask, 'week_dt'], df_raw_features.loc[mask, sel_cols[3]], label=sel_cols[3])\n",
    "# plt.plot(df_raw_features.loc[mask, 'week_dt'], df_raw_features.loc[mask, sel_cols[4]], label=sel_cols[4])\n",
    "# plt.plot(df_raw_features.loc[mask, 'week_dt'], df_raw_features.loc[mask, sel_cols[5]], label=sel_cols[5])\n",
    "# plt.legend()"
   ],
   "metadata": {
    "collapsed": false,
    "pycharm": {
     "name": "#%%\n"
    }
   }
  },
  {
   "cell_type": "markdown",
   "source": [
    "##### rolling stats from ftq to hit\n"
   ],
   "metadata": {
    "collapsed": false
   }
  },
  {
   "cell_type": "code",
   "execution_count": 220,
   "outputs": [],
   "source": [
    "# for col in pop_cols:\n",
    "#     col_name = f\"{col}_ftq_to_hit\"\n",
    "#     col_names = [f\"{col_name}_min\", f\"{col_name}_max\", f\"{col_name}_mean\", f\"{col_name}_std\"]\n",
    "#     mask = (df_raw_features['week_dt'] >= df_raw_features['week_dt_at_ftq']) & (\n",
    "#             df_raw_features['week_dt'] <= df_raw_features['week_dt_at_hit'])\n",
    "#     df_sub = df_raw_features.loc[mask]\n",
    "#     df_sub_grpd = df_sub.groupby(['mediabase_id', 'call_letters'])[col]\n",
    "#     df_temp = pd.concat([df_sub_grpd.min(), df_sub_grpd.max(), df_sub_grpd.mean(), df_sub_grpd.std()], axis=1)\n",
    "#     df_temp.columns=col_names\n",
    "#     df_raw_features = df_raw_features.join(df_temp, on =['mediabase_id', 'call_letters'], how='left')"
   ],
   "metadata": {
    "collapsed": false,
    "pycharm": {
     "name": "#%%\n"
    }
   }
  },
  {
   "cell_type": "markdown",
   "source": [],
   "metadata": {
    "collapsed": false
   }
  },
  {
   "cell_type": "markdown",
   "source": [
    "##### spins related information"
   ],
   "metadata": {
    "collapsed": false
   }
  },
  {
   "cell_type": "code",
   "execution_count": 221,
   "outputs": [],
   "source": [
    "spins_cols = [col for col in df_raw_features.columns if\n",
    "              ('_spins' in col) and ('cuml_' not in col) and ('_bucket' not in col) and ('_propn' not in col) and (\n",
    "                      'weeks_' not in col)]"
   ],
   "metadata": {
    "collapsed": false,
    "pycharm": {
     "name": "#%%\n"
    }
   }
  },
  {
   "cell_type": "code",
   "execution_count": 222,
   "outputs": [
    {
     "data": {
      "text/plain": "['song_station_spins_total',\n 'song_station_spins_non_on',\n 'song_station_spins_am_pm_dr',\n 'song_format_spins_total',\n 'song_format_spins_non_on',\n 'song_format_spins_am_pm_dr',\n 'song_market_spins_total',\n 'song_market_spins_non_on',\n 'song_market_spins_am_pm_dr',\n 'artist_station_spins_total',\n 'artist_station_spins_non_on',\n 'artist_station_spins_am_pm_dr',\n 'artist_format_spins_total',\n 'artist_format_spins_non_on',\n 'artist_format_spins_am_pm_dr',\n 'artist_market_spins_total',\n 'artist_market_spins_non_on',\n 'artist_market_spins_am_pm_dr',\n 'market_spins_total',\n 'market_spins_non_on',\n 'market_spins_am_pm_dr',\n 'station_spins_total',\n 'station_spins_non_on',\n 'station_spins_am_pm_dr']"
     },
     "execution_count": 222,
     "metadata": {},
     "output_type": "execute_result"
    }
   ],
   "source": [
    "spins_cols"
   ],
   "metadata": {
    "collapsed": false,
    "pycharm": {
     "name": "#%%\n"
    }
   }
  },
  {
   "cell_type": "markdown",
   "source": [
    "##### rolling statistics look back"
   ],
   "metadata": {
    "collapsed": false
   }
  },
  {
   "cell_type": "code",
   "execution_count": 223,
   "outputs": [],
   "source": [
    "# df_raw_features[spins_cols].hist(figsize=(16,12), bins=100)"
   ],
   "metadata": {
    "collapsed": false,
    "pycharm": {
     "name": "#%%\n"
    }
   }
  },
  {
   "cell_type": "code",
   "execution_count": 224,
   "outputs": [],
   "source": [
    "# list((set(spins_cols) - set(all_spins_cols)) - set([col for col in spins_cols if 'total' in col]))"
   ],
   "metadata": {
    "collapsed": false,
    "pycharm": {
     "name": "#%%\n"
    }
   }
  },
  {
   "cell_type": "code",
   "execution_count": 225,
   "outputs": [],
   "source": [
    "id_cols = ['mediabase_id', 'call_letters', 'week_dt', 'weeks_since_hit']\n",
    "df_spins_features = df_raw_features[id_cols]\n",
    "for win_len in rolling_weeks:\n",
    "    for lag in lags:\n",
    "        for col in list((set(spins_cols) - set(all_spins_cols)) - set([col for col in spins_cols if 'total' in col])):\n",
    "            col_name = f\"{col}_{win_len}wk_lag{lag}\"\n",
    "            roll_col = df_raw_features.loc[song_sample_mask].groupby(['mediabase_id', 'call_letters'])[col].rolling(window=win_len,\n",
    "                                                                                              min_periods=0)\n",
    "            df_spins_features[f\"{col_name}_sum\"] = (roll_col.sum().shift(lag).droplevel([0, 1])).ffill()\n",
    "            df_spins_features[f\"{col_name}_min\"] = (roll_col.min().shift(lag).droplevel([0, 1])).ffill()\n",
    "            df_spins_features[f\"{col_name}_max\"] = (roll_col.max().shift(lag).droplevel([0, 1])).ffill()\n",
    "            df_spins_features[f\"{col_name}_mean\"] = (roll_col.mean().shift(lag).droplevel([0, 1])).ffill()\n",
    "            df_spins_features[f\"{col_name}_std\"] = (roll_col.std().shift(lag).droplevel([0, 1])).ffill()"
   ],
   "metadata": {
    "collapsed": false,
    "pycharm": {
     "name": "#%%\n"
    }
   }
  },
  {
   "cell_type": "code",
   "execution_count": 226,
   "outputs": [],
   "source": [
    "id_cols = ['mediabase_id', 'call_letters', 'week_dt', 'weeks_since_hit']\n",
    "df_all_spins_features = df_raw_features[id_cols]\n",
    "for win_len in rolling_weeks:\n",
    "    for lag in lags:\n",
    "        for col in spins_cols:\n",
    "            col_name = f\"{col}_{win_len}wk_lag{lag}\"\n",
    "            roll_col = df_raw_features.loc[song_sample_mask].groupby(['mediabase_id', 'call_letters'])[col].rolling(window=win_len,\n",
    "                                                                                              min_periods=0)\n",
    "            if col in all_spins_cols:\n",
    "                df_all_spins_features[f\"{col_name}_sum\"] = (roll_col.sum().shift(lag).droplevel([0, 1])).ffill()"
   ],
   "metadata": {
    "collapsed": false,
    "pycharm": {
     "name": "#%%\n"
    }
   }
  },
  {
   "cell_type": "code",
   "execution_count": 227,
   "outputs": [],
   "source": [
    "# df_spins_features.shape"
   ],
   "metadata": {
    "collapsed": false,
    "pycharm": {
     "name": "#%%\n"
    }
   }
  },
  {
   "cell_type": "code",
   "execution_count": 228,
   "outputs": [],
   "source": [
    "df_spins_features.to_pickle('ebw_spins_features_h1.pkl')"
   ],
   "metadata": {
    "collapsed": false,
    "pycharm": {
     "name": "#%%\n"
    }
   }
  },
  {
   "cell_type": "code",
   "execution_count": 229,
   "outputs": [],
   "source": [
    "df_all_spins_features.to_pickle('ebw_all_spins_features_h1.pkl')"
   ],
   "metadata": {
    "collapsed": false,
    "pycharm": {
     "name": "#%%\n"
    }
   }
  },
  {
   "cell_type": "code",
   "execution_count": 142,
   "outputs": [
    {
     "data": {
      "text/plain": "(656708, 1204)"
     },
     "execution_count": 142,
     "metadata": {},
     "output_type": "execute_result"
    }
   ],
   "source": [
    "# df_spins_features.shape"
   ],
   "metadata": {
    "collapsed": false,
    "pycharm": {
     "name": "#%%\n"
    }
   }
  },
  {
   "cell_type": "markdown",
   "source": [
    "##### rolling stats from ftq to hit\n"
   ],
   "metadata": {
    "collapsed": false
   }
  },
  {
   "cell_type": "code",
   "execution_count": 75,
   "outputs": [],
   "source": [
    "# for col in spins_cols:\n",
    "#     col_name = f\"{col}_ftq_to_hit\"\n",
    "#     col_names = [f\"{col_name}_min\", f\"{col_name}_max\", f\"{col_name}_mean\", f\"{col_name}_std\"]\n",
    "#     mask = (df_raw_features['week_dt'] >= df_raw_features['week_dt_at_ftq']) & (\n",
    "#             df_raw_features['week_dt'] <= df_raw_features['week_dt_at_hit'])\n",
    "#     df_sub = df_raw_features.loc[mask]\n",
    "#     df_sub_grpd = df_sub.groupby(['mediabase_id', 'call_letters'])[col]\n",
    "#     df_temp = pd.concat([df_sub_grpd.min(), df_sub_grpd.max(), df_sub_grpd.mean(), df_sub_grpd.std()], axis=1)\n",
    "#     df_temp.columns=col_names\n",
    "#     df_raw_features = df_raw_features.join(df_temp, on =['mediabase_id', 'call_letters'], how='left')"
   ],
   "metadata": {
    "collapsed": false,
    "pycharm": {
     "name": "#%%\n"
    }
   }
  },
  {
   "cell_type": "markdown",
   "source": [
    "##### stream related data"
   ],
   "metadata": {
    "collapsed": false
   }
  },
  {
   "cell_type": "code",
   "execution_count": 230,
   "outputs": [],
   "source": [
    "stream_cols = [col for col in df_raw_features.columns if '_count' in col]"
   ],
   "metadata": {
    "collapsed": false,
    "pycharm": {
     "name": "#%%\n"
    }
   }
  },
  {
   "cell_type": "code",
   "execution_count": 231,
   "outputs": [
    {
     "data": {
      "text/plain": "['stream_count', 'completed_count', 'thumbs_up_count', 'thumbs_down_count']"
     },
     "execution_count": 231,
     "metadata": {},
     "output_type": "execute_result"
    }
   ],
   "source": [
    "stream_cols"
   ],
   "metadata": {
    "collapsed": false,
    "pycharm": {
     "name": "#%%\n"
    }
   }
  },
  {
   "cell_type": "code",
   "execution_count": 234,
   "outputs": [
    {
     "data": {
      "text/plain": "array([[<AxesSubplot:title={'center':'stream_count'}>,\n        <AxesSubplot:title={'center':'completed_count'}>],\n       [<AxesSubplot:title={'center':'thumbs_up_count'}>,\n        <AxesSubplot:title={'center':'thumbs_down_count'}>]], dtype=object)"
     },
     "execution_count": 234,
     "metadata": {},
     "output_type": "execute_result"
    },
    {
     "data": {
      "text/plain": "<Figure size 640x480 with 4 Axes>",
      "image/png": "[encoded data removed]"
     },
     "metadata": {},
     "output_type": "display_data"
    }
   ],
   "source": [
    "df_raw_features[stream_cols].hist(bins=50)"
   ],
   "metadata": {
    "collapsed": false,
    "pycharm": {
     "name": "#%%\n"
    }
   }
  },
  {
   "cell_type": "code",
   "execution_count": 235,
   "outputs": [],
   "source": [
    "id_cols = ['mediabase_id', 'call_letters', 'week_dt', 'weeks_since_hit']\n",
    "df_streams_features = df_raw_features[id_cols]\n",
    "for win_len in rolling_weeks:\n",
    "    for lag in lags:\n",
    "        for col in stream_cols:\n",
    "            col_name = f\"{col}_{win_len}wk_lag{lag}\"\n",
    "            roll_col = df_raw_features.loc[song_sample_mask].groupby(['mediabase_id', 'call_letters'])[col].rolling(\n",
    "                window=win_len,\n",
    "                min_periods=0)\n",
    "            df_streams_features[f\"{col_name}_sum\"] = (roll_col.sum().shift(lag).droplevel([0, 1])).ffill()\n",
    "            df_streams_features[f\"{col_name}_min\"] = (roll_col.min().shift(lag).droplevel([0, 1])).ffill()\n",
    "            df_streams_features[f\"{col_name}_max\"] = (roll_col.max().shift(lag).droplevel([0, 1])).ffill()\n",
    "            df_streams_features[f\"{col_name}_mean\"] = (roll_col.mean().shift(lag).droplevel([0, 1])).ffill()\n",
    "            df_streams_features[f\"{col_name}_std\"] = (roll_col.std().shift(lag).droplevel([0, 1])).ffill()"
   ],
   "metadata": {
    "collapsed": false,
    "pycharm": {
     "name": "#%%\n"
    }
   }
  },
  {
   "cell_type": "code",
   "execution_count": 238,
   "outputs": [],
   "source": [
    "df_raw_features['thumbs_all_count'] = df_raw_features['thumbs_up_count'] + df_raw_features['thumbs_down_count']"
   ],
   "metadata": {
    "collapsed": false,
    "pycharm": {
     "name": "#%%\n"
    }
   }
  },
  {
   "cell_type": "code",
   "execution_count": 240,
   "outputs": [],
   "source": [
    "for win_len in rolling_weeks:\n",
    "    roll_col_grp = df_raw_features.loc[song_sample_mask].groupby(['mediabase_id', 'call_letters'])\n",
    "    df_streams_features[f'completed_rate_{win_len}wk'] = (roll_col_grp['completed_count'].rolling(\n",
    "        window=win_len,\n",
    "        min_periods=0).sum().droplevel([0, 1]).ffill() / roll_col_grp['stream_count'].rolling(\n",
    "        window=win_len,\n",
    "        min_periods=0).sum().droplevel([0, 1]).ffill())\n",
    "    df_streams_features[f'thumbs_up_rate_{win_len}wk'] = (roll_col_grp['thumbs_up_count'].rolling(\n",
    "        window=win_len,\n",
    "        min_periods=0).sum().droplevel([0, 1]).ffill() / (roll_col_grp['thumbs_all_count']).rolling(\n",
    "        window=win_len,\n",
    "        min_periods=0).sum().droplevel([0, 1]).ffill())\n",
    "    df_streams_features[f'thumbs_up_rate_total_{win_len}wk'] = (roll_col_grp['thumbs_up_count'].rolling(\n",
    "        window=win_len,\n",
    "        min_periods=0).sum().droplevel([0, 1]).ffill() / (roll_col_grp['stream_count']).rolling(\n",
    "        window=win_len,\n",
    "        min_periods=0).sum().droplevel([0, 1]).ffill())"
   ],
   "metadata": {
    "collapsed": false,
    "pycharm": {
     "name": "#%%\n"
    }
   }
  },
  {
   "cell_type": "code",
   "execution_count": 241,
   "outputs": [
    {
     "data": {
      "text/plain": "        mediabase_id call_letters    week_dt  weeks_since_hit  \\\n0            1086587      KHTS-FM 2022-06-12            -19.0   \n1            1086587      KHTS-FM 2022-06-19            -18.0   \n2            1086587      KHTS-FM 2022-06-26            -17.0   \n3            1086587      KHTS-FM 2022-07-03            -16.0   \n4            1086587      KHTS-FM 2022-07-10            -15.0   \n...              ...          ...        ...              ...   \n656703       2865765      WZFT-FM 2023-02-26              3.0   \n656704       2865765      WZFT-FM 2023-03-05              4.0   \n656705       2865765      WZFT-FM 2023-03-12              5.0   \n656706       2865765      WZFT-FM 2023-03-19              6.0   \n656707       2865765      WZFT-FM 2023-03-26              7.0   \n\n        stream_count_1wk_lag1_sum  stream_count_1wk_lag1_min  \\\n0                             NaN                        NaN   \n1                         11852.0                    11852.0   \n2                         12578.0                    12578.0   \n3                         11914.0                    11914.0   \n4                         22934.0                    22934.0   \n...                           ...                        ...   \n656703                        0.0                        6.0   \n656704                        0.0                        6.0   \n656705                        0.0                        6.0   \n656706                        0.0                        6.0   \n656707                        0.0                        6.0   \n\n        stream_count_1wk_lag1_max  stream_count_1wk_lag1_mean  \\\n0                             NaN                         NaN   \n1                         11852.0                     11852.0   \n2                         12578.0                     12578.0   \n3                         11914.0                     11914.0   \n4                         22934.0                     22934.0   \n...                           ...                         ...   \n656703                        6.0                         6.0   \n656704                        6.0                         6.0   \n656705                        6.0                         6.0   \n656706                        6.0                         6.0   \n656707                        6.0                         6.0   \n\n        stream_count_1wk_lag1_std  completed_count_1wk_lag1_sum  ...  \\\n0                             NaN                           NaN  ...   \n1                             NaN                        8198.0  ...   \n2                             NaN                        8658.0  ...   \n3                             NaN                        8130.0  ...   \n4                             NaN                       14218.0  ...   \n...                           ...                           ...  ...   \n656703                        NaN                           0.0  ...   \n656704                        NaN                           0.0  ...   \n656705                        NaN                           0.0  ...   \n656706                        NaN                           0.0  ...   \n656707                        NaN                           0.0  ...   \n\n        thumbs_up_rate_total_4wk  completed_rate_8wk  thumbs_up_rate_8wk  \\\n0                       0.038306            0.691698            0.938017   \n1                       0.037577            0.689971            0.948347   \n2                       0.037640            0.687486            0.952646   \n3                       0.035224            0.661358            0.949091   \n4                       0.034608            0.660145            0.951875   \n...                          ...                 ...                 ...   \n656703                       NaN                 NaN                 NaN   \n656704                       NaN                 NaN                 NaN   \n656705                       NaN                 NaN                 NaN   \n656706                       NaN                 NaN                 NaN   \n656707                       NaN                 NaN                 NaN   \n\n        thumbs_up_rate_total_8wk  completed_rate_13wk  thumbs_up_rate_13wk  \\\n0                       0.038306             0.691698             0.938017   \n1                       0.037577             0.689971             0.948347   \n2                       0.037640             0.687486             0.952646   \n3                       0.035224             0.661358             0.949091   \n4                       0.035181             0.660145             0.951875   \n...                          ...                  ...                  ...   \n656703                       NaN                  NaN                  NaN   \n656704                       NaN                  NaN                  NaN   \n656705                       NaN                  NaN                  NaN   \n656706                       NaN                  NaN                  NaN   \n656707                       NaN                  NaN                  NaN   \n\n        thumbs_up_rate_total_13wk  completed_rate_26wk  thumbs_up_rate_26wk  \\\n0                        0.038306             0.691698             0.938017   \n1                        0.037577             0.689971             0.948347   \n2                        0.037640             0.687486             0.952646   \n3                        0.035224             0.661358             0.949091   \n4                        0.035181             0.660145             0.951875   \n...                           ...                  ...                  ...   \n656703                        NaN                  NaN                  NaN   \n656704                        NaN                  NaN                  NaN   \n656705                        NaN                  NaN                  NaN   \n656706                        NaN                  NaN                  NaN   \n656707                        NaN                  NaN                  NaN   \n\n        thumbs_up_rate_total_26wk  \n0                        0.038306  \n1                        0.037577  \n2                        0.037640  \n3                        0.035224  \n4                        0.035181  \n...                           ...  \n656703                        NaN  \n656704                        NaN  \n656705                        NaN  \n656706                        NaN  \n656707                        NaN  \n\n[656708 rows x 419 columns]",
      "text/html": "<div>\n<style scoped>\n    .dataframe tbody tr th:only-of-type {\n        vertical-align: middle;\n    }\n\n    .dataframe tbody tr th {\n        vertical-align: top;\n    }\n\n    .dataframe thead th {\n        text-align: right;\n    }\n</style>\n<table border=\"1\" class=\"dataframe\">\n  <thead>\n    <tr style=\"text-align: right;\">\n      <th></th>\n      <th>mediabase_id</th>\n      <th>call_letters</th>\n      <th>week_dt</th>\n      <th>weeks_since_hit</th>\n      <th>stream_count_1wk_lag1_sum</th>\n      <th>stream_count_1wk_lag1_min</th>\n      <th>stream_count_1wk_lag1_max</th>\n      <th>stream_count_1wk_lag1_mean</th>\n      <th>stream_count_1wk_lag1_std</th>\n      <th>completed_count_1wk_lag1_sum</th>\n      <th>...</th>\n      <th>thumbs_up_rate_total_4wk</th>\n      <th>completed_rate_8wk</th>\n      <th>thumbs_up_rate_8wk</th>\n      <th>thumbs_up_rate_total_8wk</th>\n      <th>completed_rate_13wk</th>\n      <th>thumbs_up_rate_13wk</th>\n      <th>thumbs_up_rate_total_13wk</th>\n      <th>completed_rate_26wk</th>\n      <th>thumbs_up_rate_26wk</th>\n      <th>thumbs_up_rate_total_26wk</th>\n    </tr>\n  </thead>\n  <tbody>\n    <tr>\n      <th>0</th>\n      <td>1086587</td>\n      <td>KHTS-FM</td>\n      <td>2022-06-12</td>\n      <td>-19.0</td>\n      <td>NaN</td>\n      <td>NaN</td>\n      <td>NaN</td>\n      <td>NaN</td>\n      <td>NaN</td>\n      <td>NaN</td>\n      <td>...</td>\n      <td>0.038306</td>\n      <td>0.691698</td>\n      <td>0.938017</td>\n      <td>0.038306</td>\n      <td>0.691698</td>\n      <td>0.938017</td>\n      <td>0.038306</td>\n      <td>0.691698</td>\n      <td>0.938017</td>\n      <td>0.038306</td>\n    </tr>\n    <tr>\n      <th>1</th>\n      <td>1086587</td>\n      <td>KHTS-FM</td>\n      <td>2022-06-19</td>\n      <td>-18.0</td>\n      <td>11852.0</td>\n      <td>11852.0</td>\n      <td>11852.0</td>\n      <td>11852.0</td>\n      <td>NaN</td>\n      <td>8198.0</td>\n      <td>...</td>\n      <td>0.037577</td>\n      <td>0.689971</td>\n      <td>0.948347</td>\n      <td>0.037577</td>\n      <td>0.689971</td>\n      <td>0.948347</td>\n      <td>0.037577</td>\n      <td>0.689971</td>\n      <td>0.948347</td>\n      <td>0.037577</td>\n    </tr>\n    <tr>\n      <th>2</th>\n      <td>1086587</td>\n      <td>KHTS-FM</td>\n      <td>2022-06-26</td>\n      <td>-17.0</td>\n      <td>12578.0</td>\n      <td>12578.0</td>\n      <td>12578.0</td>\n      <td>12578.0</td>\n      <td>NaN</td>\n      <td>8658.0</td>\n      <td>...</td>\n      <td>0.037640</td>\n      <td>0.687486</td>\n      <td>0.952646</td>\n      <td>0.037640</td>\n      <td>0.687486</td>\n      <td>0.952646</td>\n      <td>0.037640</td>\n      <td>0.687486</td>\n      <td>0.952646</td>\n      <td>0.037640</td>\n    </tr>\n    <tr>\n      <th>3</th>\n      <td>1086587</td>\n      <td>KHTS-FM</td>\n      <td>2022-07-03</td>\n      <td>-16.0</td>\n      <td>11914.0</td>\n      <td>11914.0</td>\n      <td>11914.0</td>\n      <td>11914.0</td>\n      <td>NaN</td>\n      <td>8130.0</td>\n      <td>...</td>\n      <td>0.035224</td>\n      <td>0.661358</td>\n      <td>0.949091</td>\n      <td>0.035224</td>\n      <td>0.661358</td>\n      <td>0.949091</td>\n      <td>0.035224</td>\n      <td>0.661358</td>\n      <td>0.949091</td>\n      <td>0.035224</td>\n    </tr>\n    <tr>\n      <th>4</th>\n      <td>1086587</td>\n      <td>KHTS-FM</td>\n      <td>2022-07-10</td>\n      <td>-15.0</td>\n      <td>22934.0</td>\n      <td>22934.0</td>\n      <td>22934.0</td>\n      <td>22934.0</td>\n      <td>NaN</td>\n      <td>14218.0</td>\n      <td>...</td>\n      <td>0.034608</td>\n      <td>0.660145</td>\n      <td>0.951875</td>\n      <td>0.035181</td>\n      <td>0.660145</td>\n      <td>0.951875</td>\n      <td>0.035181</td>\n      <td>0.660145</td>\n      <td>0.951875</td>\n      <td>0.035181</td>\n    </tr>\n    <tr>\n      <th>...</th>\n      <td>...</td>\n      <td>...</td>\n      <td>...</td>\n      <td>...</td>\n      <td>...</td>\n      <td>...</td>\n      <td>...</td>\n      <td>...</td>\n      <td>...</td>\n      <td>...</td>\n      <td>...</td>\n      <td>...</td>\n      <td>...</td>\n      <td>...</td>\n      <td>...</td>\n      <td>...</td>\n      <td>...</td>\n      <td>...</td>\n      <td>...</td>\n      <td>...</td>\n      <td>...</td>\n    </tr>\n    <tr>\n      <th>656703</th>\n      <td>2865765</td>\n      <td>WZFT-FM</td>\n      <td>2023-02-26</td>\n      <td>3.0</td>\n      <td>0.0</td>\n      <td>6.0</td>\n      <td>6.0</td>\n      <td>6.0</td>\n      <td>NaN</td>\n      <td>0.0</td>\n      <td>...</td>\n      <td>NaN</td>\n      <td>NaN</td>\n      <td>NaN</td>\n      <td>NaN</td>\n      <td>NaN</td>\n      <td>NaN</td>\n      <td>NaN</td>\n      <td>NaN</td>\n      <td>NaN</td>\n      <td>NaN</td>\n    </tr>\n    <tr>\n      <th>656704</th>\n      <td>2865765</td>\n      <td>WZFT-FM</td>\n      <td>2023-03-05</td>\n      <td>4.0</td>\n      <td>0.0</td>\n      <td>6.0</td>\n      <td>6.0</td>\n      <td>6.0</td>\n      <td>NaN</td>\n      <td>0.0</td>\n      <td>...</td>\n      <td>NaN</td>\n      <td>NaN</td>\n      <td>NaN</td>\n      <td>NaN</td>\n      <td>NaN</td>\n      <td>NaN</td>\n      <td>NaN</td>\n      <td>NaN</td>\n      <td>NaN</td>\n      <td>NaN</td>\n    </tr>\n    <tr>\n      <th>656705</th>\n      <td>2865765</td>\n      <td>WZFT-FM</td>\n      <td>2023-03-12</td>\n      <td>5.0</td>\n      <td>0.0</td>\n      <td>6.0</td>\n      <td>6.0</td>\n      <td>6.0</td>\n      <td>NaN</td>\n      <td>0.0</td>\n      <td>...</td>\n      <td>NaN</td>\n      <td>NaN</td>\n      <td>NaN</td>\n      <td>NaN</td>\n      <td>NaN</td>\n      <td>NaN</td>\n      <td>NaN</td>\n      <td>NaN</td>\n      <td>NaN</td>\n      <td>NaN</td>\n    </tr>\n    <tr>\n      <th>656706</th>\n      <td>2865765</td>\n      <td>WZFT-FM</td>\n      <td>2023-03-19</td>\n      <td>6.0</td>\n      <td>0.0</td>\n      <td>6.0</td>\n      <td>6.0</td>\n      <td>6.0</td>\n      <td>NaN</td>\n      <td>0.0</td>\n      <td>...</td>\n      <td>NaN</td>\n      <td>NaN</td>\n      <td>NaN</td>\n      <td>NaN</td>\n      <td>NaN</td>\n      <td>NaN</td>\n      <td>NaN</td>\n      <td>NaN</td>\n      <td>NaN</td>\n      <td>NaN</td>\n    </tr>\n    <tr>\n      <th>656707</th>\n      <td>2865765</td>\n      <td>WZFT-FM</td>\n      <td>2023-03-26</td>\n      <td>7.0</td>\n      <td>0.0</td>\n      <td>6.0</td>\n      <td>6.0</td>\n      <td>6.0</td>\n      <td>NaN</td>\n      <td>0.0</td>\n      <td>...</td>\n      <td>NaN</td>\n      <td>NaN</td>\n      <td>NaN</td>\n      <td>NaN</td>\n      <td>NaN</td>\n      <td>NaN</td>\n      <td>NaN</td>\n      <td>NaN</td>\n      <td>NaN</td>\n      <td>NaN</td>\n    </tr>\n  </tbody>\n</table>\n<p>656708 rows × 419 columns</p>\n</div>"
     },
     "execution_count": 241,
     "metadata": {},
     "output_type": "execute_result"
    }
   ],
   "source": [
    "df_streams_features"
   ],
   "metadata": {
    "collapsed": false,
    "pycharm": {
     "name": "#%%\n"
    }
   }
  },
  {
   "cell_type": "code",
   "execution_count": 242,
   "outputs": [],
   "source": [
    "df_streams_features.to_pickle('ebw_streams_features_h1.pkl')"
   ],
   "metadata": {
    "collapsed": false,
    "pycharm": {
     "name": "#%%\n"
    }
   }
  },
  {
   "cell_type": "markdown",
   "source": [
    "##### rolling statistics look back"
   ],
   "metadata": {
    "collapsed": false
   }
  },
  {
   "cell_type": "code",
   "execution_count": null,
   "outputs": [],
   "source": [
    "# for win_len in rolling_weeks:\n",
    "#     for lag in lags:\n",
    "#         for col in stream_cols:\n",
    "#             col_name = f\"{col}_prior_{win_len}wk_lag{lag}\"\n",
    "#             roll_col = df_raw_features.groupby(['mediabase_id', 'call_letters'])[col].rolling(window=win_len, min_periods=0)\n",
    "#             df_raw_features[f\"{col_name}_min\"] = (roll_col.min().shift(lag).droplevel([0,1])).ffill()\n",
    "#             df_raw_features[f\"{col_name}_max\"] = (roll_col.max().shift(lag).droplevel([0,1])).ffill()\n",
    "#             df_raw_features[f\"{col_name}_mean\"] = (roll_col.mean().shift(lag).droplevel([0,1])).ffill()\n",
    "#             # df_raw_features[f\"{col_name}_std\"] = (roll_col.std().shift(1).droplevel([0,1])).ffill()"
   ],
   "metadata": {
    "collapsed": false,
    "pycharm": {
     "name": "#%%\n",
     "is_executing": true
    }
   }
  },
  {
   "cell_type": "markdown",
   "source": [
    "##### rolling stats from ftq to hit\n"
   ],
   "metadata": {
    "collapsed": false
   }
  },
  {
   "cell_type": "code",
   "execution_count": 79,
   "outputs": [],
   "source": [
    "# for col in stream_cols:\n",
    "#     col_name = f\"{col}_ftq_to_hit\"\n",
    "#     col_names = [f\"{col_name}_min\", f\"{col_name}_max\", f\"{col_name}_mean\", f\"{col_name}_std\"]\n",
    "#     mask = (df_raw_features['week_dt'] >= df_raw_features['week_dt_at_ftq']) & (\n",
    "#             df_raw_features['week_dt'] <= df_raw_features['week_dt_at_hit'])\n",
    "#     df_sub = df_raw_features.loc[mask]\n",
    "#     df_sub_grpd = df_sub.groupby(['mediabase_id', 'call_letters'])[col]\n",
    "#     df_temp = pd.concat([df_sub_grpd.min(), df_sub_grpd.max(), df_sub_grpd.mean(), df_sub_grpd.std()], axis=1)\n",
    "#     df_temp.columns=col_names\n",
    "#     df_raw_features = df_raw_features.join(df_temp, on =['mediabase_id', 'call_letters'], how='left')"
   ],
   "metadata": {
    "collapsed": false,
    "pycharm": {
     "name": "#%%\n"
    }
   }
  },
  {
   "cell_type": "markdown",
   "source": [
    "##### proportion related data"
   ],
   "metadata": {
    "collapsed": false
   }
  },
  {
   "cell_type": "code",
   "execution_count": 23,
   "outputs": [
    {
     "data": {
      "text/plain": "['song_station_spins_non_on_1wk_lag1_sum',\n 'song_market_spins_non_on_1wk_lag1_sum',\n 'song_station_spins_non_on_1wk_lag2_sum',\n 'song_market_spins_non_on_1wk_lag2_sum',\n 'song_station_spins_non_on_1wk_lag3_sum',\n 'song_market_spins_non_on_1wk_lag3_sum',\n 'song_station_spins_non_on_1wk_lag4_sum',\n 'song_market_spins_non_on_1wk_lag4_sum',\n 'song_station_spins_non_on_4wk_lag1_sum',\n 'song_market_spins_non_on_4wk_lag1_sum',\n 'song_station_spins_non_on_4wk_lag2_sum',\n 'song_market_spins_non_on_4wk_lag2_sum',\n 'song_station_spins_non_on_4wk_lag3_sum',\n 'song_market_spins_non_on_4wk_lag3_sum',\n 'song_station_spins_non_on_4wk_lag4_sum',\n 'song_market_spins_non_on_4wk_lag4_sum',\n 'song_station_spins_non_on_8wk_lag1_sum',\n 'song_market_spins_non_on_8wk_lag1_sum',\n 'song_station_spins_non_on_8wk_lag2_sum',\n 'song_market_spins_non_on_8wk_lag2_sum',\n 'song_station_spins_non_on_8wk_lag3_sum',\n 'song_market_spins_non_on_8wk_lag3_sum',\n 'song_station_spins_non_on_8wk_lag4_sum',\n 'song_market_spins_non_on_8wk_lag4_sum',\n 'song_station_spins_non_on_13wk_lag1_sum',\n 'song_market_spins_non_on_13wk_lag1_sum',\n 'song_station_spins_non_on_13wk_lag2_sum',\n 'song_market_spins_non_on_13wk_lag2_sum',\n 'song_station_spins_non_on_13wk_lag3_sum',\n 'song_market_spins_non_on_13wk_lag3_sum',\n 'song_station_spins_non_on_13wk_lag4_sum',\n 'song_market_spins_non_on_13wk_lag4_sum',\n 'song_station_spins_non_on_26wk_lag1_sum',\n 'song_market_spins_non_on_26wk_lag1_sum',\n 'song_station_spins_non_on_26wk_lag2_sum',\n 'song_market_spins_non_on_26wk_lag2_sum',\n 'song_station_spins_non_on_26wk_lag3_sum',\n 'song_market_spins_non_on_26wk_lag3_sum',\n 'song_station_spins_non_on_26wk_lag4_sum',\n 'song_market_spins_non_on_26wk_lag4_sum']"
     },
     "execution_count": 23,
     "metadata": {},
     "output_type": "execute_result"
    }
   ],
   "source": [
    "[ col for col in df_spins_features.columns if ('_sum' in col) and (('song_station_spins_non_on' in col) or ('song_market_spins_non_on' in col))]"
   ],
   "metadata": {
    "collapsed": false,
    "pycharm": {
     "name": "#%%\n"
    }
   }
  },
  {
   "cell_type": "code",
   "execution_count": 80,
   "outputs": [],
   "source": [
    "propn_cols = [col for col in df_raw_features.columns if 'propn' in col]"
   ],
   "metadata": {
    "collapsed": false,
    "pycharm": {
     "name": "#%%\n"
    }
   }
  },
  {
   "cell_type": "code",
   "execution_count": 81,
   "outputs": [
    {
     "data": {
      "text/plain": "['market_spins_propn', 'artist_spins_propn']"
     },
     "execution_count": 81,
     "metadata": {},
     "output_type": "execute_result"
    }
   ],
   "source": [
    "propn_cols"
   ],
   "metadata": {
    "collapsed": false,
    "pycharm": {
     "name": "#%%\n"
    }
   }
  },
  {
   "cell_type": "code",
   "execution_count": 28,
   "outputs": [
    {
     "data": {
      "text/plain": "(656339, 1804)"
     },
     "execution_count": 28,
     "metadata": {},
     "output_type": "execute_result"
    }
   ],
   "source": [
    "df_spins_features.shape"
   ],
   "metadata": {
    "collapsed": false,
    "pycharm": {
     "name": "#%%\n"
    }
   }
  },
  {
   "cell_type": "code",
   "execution_count": 31,
   "outputs": [],
   "source": [
    "df_test = df_spins_features.set_index(['call_letters', 'mediabase_id', 'week_dt'])['song_station_spins_non_on_1wk_lag1_sum']/df_spins_features.groupby(['call_letters', 'week_dt'])['song_station_spins_non_on_1wk_lag1_sum'].sum()"
   ],
   "metadata": {
    "collapsed": false,
    "pycharm": {
     "name": "#%%\n"
    }
   }
  },
  {
   "cell_type": "code",
   "execution_count": 36,
   "outputs": [
    {
     "data": {
      "text/plain": "        mediabase_id call_letters    week_dt  weeks_since_hit  \\\n0            1086587      KHTS-FM 2022-06-12            -19.0   \n1            1086587      KHTS-FM 2022-06-19            -18.0   \n2            1086587      KHTS-FM 2022-06-26            -17.0   \n3            1086587      KHTS-FM 2022-07-03            -16.0   \n4            1086587      KHTS-FM 2022-07-10            -15.0   \n...              ...          ...        ...              ...   \n656334       2865765      WZFT-FM 2023-02-26              3.0   \n656335       2865765      WZFT-FM 2023-03-05              4.0   \n656336       2865765      WZFT-FM 2023-03-12              5.0   \n656337       2865765      WZFT-FM 2023-03-19              6.0   \n656338       2865765      WZFT-FM 2023-03-26              7.0   \n\n        song_station_spins_total_1wk_lag1_sum  \\\n0                                         NaN   \n1                                        17.0   \n2                                        30.0   \n3                                        29.0   \n4                                        37.0   \n...                                       ...   \n656334                                  108.0   \n656335                                  121.0   \n656336                                  129.0   \n656337                                  121.0   \n656338                                  128.0   \n\n        song_station_spins_total_1wk_lag1_min  \\\n0                                         NaN   \n1                                        17.0   \n2                                        30.0   \n3                                        29.0   \n4                                        37.0   \n...                                       ...   \n656334                                  108.0   \n656335                                  121.0   \n656336                                  129.0   \n656337                                  121.0   \n656338                                  128.0   \n\n        song_station_spins_total_1wk_lag1_max  \\\n0                                         NaN   \n1                                        17.0   \n2                                        30.0   \n3                                        29.0   \n4                                        37.0   \n...                                       ...   \n656334                                  108.0   \n656335                                  121.0   \n656336                                  129.0   \n656337                                  121.0   \n656338                                  128.0   \n\n        song_station_spins_total_1wk_lag1_mean  \\\n0                                          NaN   \n1                                         17.0   \n2                                         30.0   \n3                                         29.0   \n4                                         37.0   \n...                                        ...   \n656334                                   108.0   \n656335                                   121.0   \n656336                                   129.0   \n656337                                   121.0   \n656338                                   128.0   \n\n        song_station_spins_total_1wk_lag1_std  \\\n0                                         NaN   \n1                                         NaN   \n2                                         NaN   \n3                                         NaN   \n4                                         NaN   \n...                                       ...   \n656334                                    NaN   \n656335                                    NaN   \n656336                                    NaN   \n656337                                    NaN   \n656338                                    NaN   \n\n        song_station_spins_non_on_1wk_lag1_sum  ...  \\\n0                                          NaN  ...   \n1                                         11.0  ...   \n2                                         16.0  ...   \n3                                         19.0  ...   \n4                                         31.0  ...   \n...                                        ...  ...   \n656334                                    80.0  ...   \n656335                                    91.0  ...   \n656336                                    97.0  ...   \n656337                                    91.0  ...   \n656338                                    94.0  ...   \n\n        artist_market_spins_non_on_26wk_lag4_sum  \\\n0                                            NaN   \n1                                            NaN   \n2                                            NaN   \n3                                            NaN   \n4                                           45.0   \n...                                          ...   \n656334                                     447.0   \n656335                                     606.0   \n656336                                     767.0   \n656337                                     948.0   \n656338                                    1181.0   \n\n        artist_market_spins_non_on_26wk_lag4_min  \\\n0                                            NaN   \n1                                            NaN   \n2                                            NaN   \n3                                            NaN   \n4                                           45.0   \n...                                          ...   \n656334                                      31.0   \n656335                                      31.0   \n656336                                      31.0   \n656337                                      31.0   \n656338                                      31.0   \n\n        artist_market_spins_non_on_26wk_lag4_max  \\\n0                                            NaN   \n1                                            NaN   \n2                                            NaN   \n3                                            NaN   \n4                                           45.0   \n...                                          ...   \n656334                                     139.0   \n656335                                     159.0   \n656336                                     161.0   \n656337                                     181.0   \n656338                                     233.0   \n\n        artist_market_spins_non_on_26wk_lag4_mean  \\\n0                                             NaN   \n1                                             NaN   \n2                                             NaN   \n3                                             NaN   \n4                                       45.000000   \n...                                           ...   \n656334                                  89.400000   \n656335                                 101.000000   \n656336                                 109.571429   \n656337                                 118.500000   \n656338                                 131.222222   \n\n        artist_market_spins_non_on_26wk_lag4_std  \\\n0                                            NaN   \n1                                            NaN   \n2                                            NaN   \n3                                            NaN   \n4                                            NaN   \n...                                          ...   \n656334                                 46.182248   \n656335                                 50.135816   \n656336                                 51.077905   \n656337                                 53.609701   \n656338                                 63.019397   \n\n        artist_market_spins_am_pm_dr_26wk_lag4_sum  \\\n0                                              NaN   \n1                                              NaN   \n2                                              NaN   \n3                                              NaN   \n4                                             22.0   \n...                                            ...   \n656334                                       312.0   \n656335                                       416.0   \n656336                                       522.0   \n656337                                       650.0   \n656338                                       815.0   \n\n        artist_market_spins_am_pm_dr_26wk_lag4_min  \\\n0                                              NaN   \n1                                              NaN   \n2                                              NaN   \n3                                              NaN   \n4                                             22.0   \n...                                            ...   \n656334                                        22.0   \n656335                                        22.0   \n656336                                        22.0   \n656337                                        22.0   \n656338                                        22.0   \n\n        artist_market_spins_am_pm_dr_26wk_lag4_max  \\\n0                                              NaN   \n1                                              NaN   \n2                                              NaN   \n3                                              NaN   \n4                                             22.0   \n...                                            ...   \n656334                                        91.0   \n656335                                       104.0   \n656336                                       106.0   \n656337                                       128.0   \n656338                                       165.0   \n\n        artist_market_spins_am_pm_dr_26wk_lag4_mean  \\\n0                                               NaN   \n1                                               NaN   \n2                                               NaN   \n3                                               NaN   \n4                                         22.000000   \n...                                             ...   \n656334                                    62.400000   \n656335                                    69.333333   \n656336                                    74.571429   \n656337                                    81.250000   \n656338                                    90.555556   \n\n        artist_market_spins_am_pm_dr_26wk_lag4_std  \n0                                              NaN  \n1                                              NaN  \n2                                              NaN  \n3                                              NaN  \n4                                              NaN  \n...                                            ...  \n656334                                   31.572140  \n656335                                   32.952491  \n656336                                   33.120271  \n656337                                   36.014878  \n656338                                   43.752460  \n\n[656339 rows x 1804 columns]",
      "text/html": "<div>\n<style scoped>\n    .dataframe tbody tr th:only-of-type {\n        vertical-align: middle;\n    }\n\n    .dataframe tbody tr th {\n        vertical-align: top;\n    }\n\n    .dataframe thead th {\n        text-align: right;\n    }\n</style>\n<table border=\"1\" class=\"dataframe\">\n  <thead>\n    <tr style=\"text-align: right;\">\n      <th></th>\n      <th>mediabase_id</th>\n      <th>call_letters</th>\n      <th>week_dt</th>\n      <th>weeks_since_hit</th>\n      <th>song_station_spins_total_1wk_lag1_sum</th>\n      <th>song_station_spins_total_1wk_lag1_min</th>\n      <th>song_station_spins_total_1wk_lag1_max</th>\n      <th>song_station_spins_total_1wk_lag1_mean</th>\n      <th>song_station_spins_total_1wk_lag1_std</th>\n      <th>song_station_spins_non_on_1wk_lag1_sum</th>\n      <th>...</th>\n      <th>artist_market_spins_non_on_26wk_lag4_sum</th>\n      <th>artist_market_spins_non_on_26wk_lag4_min</th>\n      <th>artist_market_spins_non_on_26wk_lag4_max</th>\n      <th>artist_market_spins_non_on_26wk_lag4_mean</th>\n      <th>artist_market_spins_non_on_26wk_lag4_std</th>\n      <th>artist_market_spins_am_pm_dr_26wk_lag4_sum</th>\n      <th>artist_market_spins_am_pm_dr_26wk_lag4_min</th>\n      <th>artist_market_spins_am_pm_dr_26wk_lag4_max</th>\n      <th>artist_market_spins_am_pm_dr_26wk_lag4_mean</th>\n      <th>artist_market_spins_am_pm_dr_26wk_lag4_std</th>\n    </tr>\n  </thead>\n  <tbody>\n    <tr>\n      <th>0</th>\n      <td>1086587</td>\n      <td>KHTS-FM</td>\n      <td>2022-06-12</td>\n      <td>-19.0</td>\n      <td>NaN</td>\n      <td>NaN</td>\n      <td>NaN</td>\n      <td>NaN</td>\n      <td>NaN</td>\n      <td>NaN</td>\n      <td>...</td>\n      <td>NaN</td>\n      <td>NaN</td>\n      <td>NaN</td>\n      <td>NaN</td>\n      <td>NaN</td>\n      <td>NaN</td>\n      <td>NaN</td>\n      <td>NaN</td>\n      <td>NaN</td>\n      <td>NaN</td>\n    </tr>\n    <tr>\n      <th>1</th>\n      <td>1086587</td>\n      <td>KHTS-FM</td>\n      <td>2022-06-19</td>\n      <td>-18.0</td>\n      <td>17.0</td>\n      <td>17.0</td>\n      <td>17.0</td>\n      <td>17.0</td>\n      <td>NaN</td>\n      <td>11.0</td>\n      <td>...</td>\n      <td>NaN</td>\n      <td>NaN</td>\n      <td>NaN</td>\n      <td>NaN</td>\n      <td>NaN</td>\n      <td>NaN</td>\n      <td>NaN</td>\n      <td>NaN</td>\n      <td>NaN</td>\n      <td>NaN</td>\n    </tr>\n    <tr>\n      <th>2</th>\n      <td>1086587</td>\n      <td>KHTS-FM</td>\n      <td>2022-06-26</td>\n      <td>-17.0</td>\n      <td>30.0</td>\n      <td>30.0</td>\n      <td>30.0</td>\n      <td>30.0</td>\n      <td>NaN</td>\n      <td>16.0</td>\n      <td>...</td>\n      <td>NaN</td>\n      <td>NaN</td>\n      <td>NaN</td>\n      <td>NaN</td>\n      <td>NaN</td>\n      <td>NaN</td>\n      <td>NaN</td>\n      <td>NaN</td>\n      <td>NaN</td>\n      <td>NaN</td>\n    </tr>\n    <tr>\n      <th>3</th>\n      <td>1086587</td>\n      <td>KHTS-FM</td>\n      <td>2022-07-03</td>\n      <td>-16.0</td>\n      <td>29.0</td>\n      <td>29.0</td>\n      <td>29.0</td>\n      <td>29.0</td>\n      <td>NaN</td>\n      <td>19.0</td>\n      <td>...</td>\n      <td>NaN</td>\n      <td>NaN</td>\n      <td>NaN</td>\n      <td>NaN</td>\n      <td>NaN</td>\n      <td>NaN</td>\n      <td>NaN</td>\n      <td>NaN</td>\n      <td>NaN</td>\n      <td>NaN</td>\n    </tr>\n    <tr>\n      <th>4</th>\n      <td>1086587</td>\n      <td>KHTS-FM</td>\n      <td>2022-07-10</td>\n      <td>-15.0</td>\n      <td>37.0</td>\n      <td>37.0</td>\n      <td>37.0</td>\n      <td>37.0</td>\n      <td>NaN</td>\n      <td>31.0</td>\n      <td>...</td>\n      <td>45.0</td>\n      <td>45.0</td>\n      <td>45.0</td>\n      <td>45.000000</td>\n      <td>NaN</td>\n      <td>22.0</td>\n      <td>22.0</td>\n      <td>22.0</td>\n      <td>22.000000</td>\n      <td>NaN</td>\n    </tr>\n    <tr>\n      <th>...</th>\n      <td>...</td>\n      <td>...</td>\n      <td>...</td>\n      <td>...</td>\n      <td>...</td>\n      <td>...</td>\n      <td>...</td>\n      <td>...</td>\n      <td>...</td>\n      <td>...</td>\n      <td>...</td>\n      <td>...</td>\n      <td>...</td>\n      <td>...</td>\n      <td>...</td>\n      <td>...</td>\n      <td>...</td>\n      <td>...</td>\n      <td>...</td>\n      <td>...</td>\n      <td>...</td>\n    </tr>\n    <tr>\n      <th>656334</th>\n      <td>2865765</td>\n      <td>WZFT-FM</td>\n      <td>2023-02-26</td>\n      <td>3.0</td>\n      <td>108.0</td>\n      <td>108.0</td>\n      <td>108.0</td>\n      <td>108.0</td>\n      <td>NaN</td>\n      <td>80.0</td>\n      <td>...</td>\n      <td>447.0</td>\n      <td>31.0</td>\n      <td>139.0</td>\n      <td>89.400000</td>\n      <td>46.182248</td>\n      <td>312.0</td>\n      <td>22.0</td>\n      <td>91.0</td>\n      <td>62.400000</td>\n      <td>31.572140</td>\n    </tr>\n    <tr>\n      <th>656335</th>\n      <td>2865765</td>\n      <td>WZFT-FM</td>\n      <td>2023-03-05</td>\n      <td>4.0</td>\n      <td>121.0</td>\n      <td>121.0</td>\n      <td>121.0</td>\n      <td>121.0</td>\n      <td>NaN</td>\n      <td>91.0</td>\n      <td>...</td>\n      <td>606.0</td>\n      <td>31.0</td>\n      <td>159.0</td>\n      <td>101.000000</td>\n      <td>50.135816</td>\n      <td>416.0</td>\n      <td>22.0</td>\n      <td>104.0</td>\n      <td>69.333333</td>\n      <td>32.952491</td>\n    </tr>\n    <tr>\n      <th>656336</th>\n      <td>2865765</td>\n      <td>WZFT-FM</td>\n      <td>2023-03-12</td>\n      <td>5.0</td>\n      <td>129.0</td>\n      <td>129.0</td>\n      <td>129.0</td>\n      <td>129.0</td>\n      <td>NaN</td>\n      <td>97.0</td>\n      <td>...</td>\n      <td>767.0</td>\n      <td>31.0</td>\n      <td>161.0</td>\n      <td>109.571429</td>\n      <td>51.077905</td>\n      <td>522.0</td>\n      <td>22.0</td>\n      <td>106.0</td>\n      <td>74.571429</td>\n      <td>33.120271</td>\n    </tr>\n    <tr>\n      <th>656337</th>\n      <td>2865765</td>\n      <td>WZFT-FM</td>\n      <td>2023-03-19</td>\n      <td>6.0</td>\n      <td>121.0</td>\n      <td>121.0</td>\n      <td>121.0</td>\n      <td>121.0</td>\n      <td>NaN</td>\n      <td>91.0</td>\n      <td>...</td>\n      <td>948.0</td>\n      <td>31.0</td>\n      <td>181.0</td>\n      <td>118.500000</td>\n      <td>53.609701</td>\n      <td>650.0</td>\n      <td>22.0</td>\n      <td>128.0</td>\n      <td>81.250000</td>\n      <td>36.014878</td>\n    </tr>\n    <tr>\n      <th>656338</th>\n      <td>2865765</td>\n      <td>WZFT-FM</td>\n      <td>2023-03-26</td>\n      <td>7.0</td>\n      <td>128.0</td>\n      <td>128.0</td>\n      <td>128.0</td>\n      <td>128.0</td>\n      <td>NaN</td>\n      <td>94.0</td>\n      <td>...</td>\n      <td>1181.0</td>\n      <td>31.0</td>\n      <td>233.0</td>\n      <td>131.222222</td>\n      <td>63.019397</td>\n      <td>815.0</td>\n      <td>22.0</td>\n      <td>165.0</td>\n      <td>90.555556</td>\n      <td>43.752460</td>\n    </tr>\n  </tbody>\n</table>\n<p>656339 rows × 1804 columns</p>\n</div>"
     },
     "execution_count": 36,
     "metadata": {},
     "output_type": "execute_result"
    }
   ],
   "source": [
    "df_spins_features"
   ],
   "metadata": {
    "collapsed": false,
    "pycharm": {
     "name": "#%%\n"
    }
   }
  },
  {
   "cell_type": "code",
   "execution_count": 243,
   "outputs": [],
   "source": [
    "id_cols = ['mediabase_id', 'call_letters', 'week_dt', 'weeks_since_hit']\n",
    "df_spins_propn_features = df_raw_features[id_cols]\n",
    "for win_len in rolling_weeks:\n",
    "    for lag in lags:\n",
    "        df_spins_propn_features[f'song_station_share_{win_len}wk_lag{lag}'] = df_spins_features[f'song_station_spins_non_on_{win_len}wk_lag{lag}_sum']/df_all_spins_features[f'station_spins_non_on_{win_len}wk_lag{lag}_sum']\n",
    "        df_spins_propn_features[f'artist_station_share_{win_len}wk_lag{lag}'] = df_spins_features[f'artist_station_spins_non_on_{win_len}wk_lag{lag}_sum']/df_all_spins_features[f'station_spins_non_on_{win_len}wk_lag{lag}_sum']\n",
    "        df_spins_propn_features[f'song_market_share_{win_len}wk_lag{lag}'] = df_spins_features[f'song_market_spins_non_on_{win_len}wk_lag{lag}_sum']/df_all_spins_features[f'market_spins_non_on_{win_len}wk_lag{lag}_sum']\n",
    "        df_spins_propn_features[f'artist_market_share_{win_len}wk_lag{lag}'] = df_spins_features[f'artist_market_spins_non_on_{win_len}wk_lag{lag}_sum']/df_all_spins_features[f'market_spins_non_on_{win_len}wk_lag{lag}_sum']\n",
    "        # df_spins_propn_features[f'song_station_market_share_{win_len}wk_lag{lag}'] = df_spins_features[f'song_station_spins_non_on_{win_len}wk_lag{lag}_sum']/df_spins_features[f'song_market_spins_non_on_{win_len}wk_lag1_sum']\n",
    "        # df_spins_propn_features[f'song_artist_station_share_{win_len}wk_lag{lag}'] = df_spins_features[f'song_station_spins_non_on_{win_len}wk_lag{lag}_sum']/df_spins_features[f'artist_station_spins_non_on_{win_len}wk_lag1_sum']"
   ],
   "metadata": {
    "collapsed": false,
    "pycharm": {
     "name": "#%%\n"
    }
   }
  },
  {
   "cell_type": "code",
   "execution_count": 244,
   "outputs": [
    {
     "data": {
      "text/plain": "song_station_spins_non_on_1wk_lag1_sum    NaN\nsong_market_spins_non_on_1wk_lag1_sum     NaN\nName: 0, dtype: object"
     },
     "execution_count": 244,
     "metadata": {},
     "output_type": "execute_result"
    }
   ],
   "source": [
    "df_spins_features.loc[0][['song_station_spins_non_on_1wk_lag1_sum', 'song_market_spins_non_on_1wk_lag1_sum']]"
   ],
   "metadata": {
    "collapsed": false,
    "pycharm": {
     "name": "#%%\n"
    }
   }
  },
  {
   "cell_type": "code",
   "execution_count": 59,
   "outputs": [
    {
     "data": {
      "text/plain": "       mediabase_id  weeks_since_hit  song_station_share_1wk_lag1  \\\ncount  6.563390e+05    656339.000000                656338.000000   \nmean   2.425751e+06        93.443221                     0.007221   \nstd    1.409448e+05        82.006548                     0.013682   \nmin    1.086587e+06      -291.000000                     0.000000   \n25%    2.305938e+06        26.000000                     0.000000   \n50%    2.393994e+06        82.000000                     0.000623   \n75%    2.522450e+06       153.000000                     0.006854   \nmax    2.865765e+06       322.000000                     0.076466   \n\n       artist_station_share_1wk_lag1  song_market_share_1wk_lag1  \\\ncount                  656338.000000               656338.000000   \nmean                        0.018340                    0.001298   \nstd                         0.026579                    0.002027   \nmin                         0.000000                    0.000000   \n25%                         0.000000                    0.000075   \n50%                         0.005675                    0.000449   \n75%                         0.026555                    0.001514   \nmax                         0.194773                    0.023200   \n\n       artist_market_share_1wk_lag1  song_station_share_1wk_lag2  \\\ncount                 656338.000000                656337.000000   \nmean                       0.003461                     0.007221   \nstd                        0.003991                     0.013682   \nmin                        0.000000                     0.000000   \n25%                        0.000459                     0.000000   \n50%                        0.001958                     0.000623   \n75%                        0.005183                     0.006854   \nmax                        0.030342                     0.076466   \n\n       artist_station_share_1wk_lag2  song_market_share_1wk_lag2  \\\ncount                  656337.000000               656337.000000   \nmean                        0.018340                    0.001298   \nstd                         0.026579                    0.002027   \nmin                         0.000000                    0.000000   \n25%                         0.000000                    0.000075   \n50%                         0.005675                    0.000449   \n75%                         0.026555                    0.001514   \nmax                         0.194773                    0.023200   \n\n       artist_market_share_1wk_lag2  ...  song_market_share_26wk_lag2  \\\ncount                 656337.000000  ...                656337.000000   \nmean                       0.003461  ...                     0.001408   \nstd                        0.003991  ...                     0.001864   \nmin                        0.000000  ...                     0.000000   \n25%                        0.000459  ...                     0.000143   \n50%                        0.001958  ...                     0.000584   \n75%                        0.005183  ...                     0.001950   \nmax                        0.030342  ...                     0.019100   \n\n       artist_market_share_26wk_lag2  song_station_share_26wk_lag3  \\\ncount                  656337.000000                 656336.000000   \nmean                        0.003641                      0.007928   \nstd                         0.003815                      0.011914   \nmin                         0.000000                      0.000000   \n25%                         0.000642                      0.000052   \n50%                         0.002352                      0.001852   \n75%                         0.005513                      0.010972   \nmax                         0.026437                      0.063313   \n\n       artist_station_share_26wk_lag3  song_market_share_26wk_lag3  \\\ncount                   656336.000000                656336.000000   \nmean                         0.019519                     0.001408   \nstd                          0.024847                     0.001864   \nmin                          0.000000                     0.000000   \n25%                          0.001201                     0.000143   \n50%                          0.009084                     0.000584   \n75%                          0.029883                     0.001950   \nmax                          0.189623                     0.019100   \n\n       artist_market_share_26wk_lag3  song_station_share_26wk_lag4  \\\ncount                  656336.000000                 656335.000000   \nmean                        0.003641                      0.007928   \nstd                         0.003815                      0.011914   \nmin                         0.000000                      0.000000   \n25%                         0.000642                      0.000052   \n50%                         0.002352                      0.001852   \n75%                         0.005513                      0.010972   \nmax                         0.026437                      0.063313   \n\n       artist_station_share_26wk_lag4  song_market_share_26wk_lag4  \\\ncount                   656335.000000                656335.000000   \nmean                         0.019519                     0.001408   \nstd                          0.024847                     0.001864   \nmin                          0.000000                     0.000000   \n25%                          0.001201                     0.000143   \n50%                          0.009084                     0.000584   \n75%                          0.029883                     0.001950   \nmax                          0.189623                     0.019100   \n\n       artist_market_share_26wk_lag4  \ncount                  656335.000000  \nmean                        0.003641  \nstd                         0.003815  \nmin                         0.000000  \n25%                         0.000642  \n50%                         0.002352  \n75%                         0.005513  \nmax                         0.026437  \n\n[8 rows x 82 columns]",
      "text/html": "<div>\n<style scoped>\n    .dataframe tbody tr th:only-of-type {\n        vertical-align: middle;\n    }\n\n    .dataframe tbody tr th {\n        vertical-align: top;\n    }\n\n    .dataframe thead th {\n        text-align: right;\n    }\n</style>\n<table border=\"1\" class=\"dataframe\">\n  <thead>\n    <tr style=\"text-align: right;\">\n      <th></th>\n      <th>mediabase_id</th>\n      <th>weeks_since_hit</th>\n      <th>song_station_share_1wk_lag1</th>\n      <th>artist_station_share_1wk_lag1</th>\n      <th>song_market_share_1wk_lag1</th>\n      <th>artist_market_share_1wk_lag1</th>\n      <th>song_station_share_1wk_lag2</th>\n      <th>artist_station_share_1wk_lag2</th>\n      <th>song_market_share_1wk_lag2</th>\n      <th>artist_market_share_1wk_lag2</th>\n      <th>...</th>\n      <th>song_market_share_26wk_lag2</th>\n      <th>artist_market_share_26wk_lag2</th>\n      <th>song_station_share_26wk_lag3</th>\n      <th>artist_station_share_26wk_lag3</th>\n      <th>song_market_share_26wk_lag3</th>\n      <th>artist_market_share_26wk_lag3</th>\n      <th>song_station_share_26wk_lag4</th>\n      <th>artist_station_share_26wk_lag4</th>\n      <th>song_market_share_26wk_lag4</th>\n      <th>artist_market_share_26wk_lag4</th>\n    </tr>\n  </thead>\n  <tbody>\n    <tr>\n      <th>count</th>\n      <td>6.563390e+05</td>\n      <td>656339.000000</td>\n      <td>656338.000000</td>\n      <td>656338.000000</td>\n      <td>656338.000000</td>\n      <td>656338.000000</td>\n      <td>656337.000000</td>\n      <td>656337.000000</td>\n      <td>656337.000000</td>\n      <td>656337.000000</td>\n      <td>...</td>\n      <td>656337.000000</td>\n      <td>656337.000000</td>\n      <td>656336.000000</td>\n      <td>656336.000000</td>\n      <td>656336.000000</td>\n      <td>656336.000000</td>\n      <td>656335.000000</td>\n      <td>656335.000000</td>\n      <td>656335.000000</td>\n      <td>656335.000000</td>\n    </tr>\n    <tr>\n      <th>mean</th>\n      <td>2.425751e+06</td>\n      <td>93.443221</td>\n      <td>0.007221</td>\n      <td>0.018340</td>\n      <td>0.001298</td>\n      <td>0.003461</td>\n      <td>0.007221</td>\n      <td>0.018340</td>\n      <td>0.001298</td>\n      <td>0.003461</td>\n      <td>...</td>\n      <td>0.001408</td>\n      <td>0.003641</td>\n      <td>0.007928</td>\n      <td>0.019519</td>\n      <td>0.001408</td>\n      <td>0.003641</td>\n      <td>0.007928</td>\n      <td>0.019519</td>\n      <td>0.001408</td>\n      <td>0.003641</td>\n    </tr>\n    <tr>\n      <th>std</th>\n      <td>1.409448e+05</td>\n      <td>82.006548</td>\n      <td>0.013682</td>\n      <td>0.026579</td>\n      <td>0.002027</td>\n      <td>0.003991</td>\n      <td>0.013682</td>\n      <td>0.026579</td>\n      <td>0.002027</td>\n      <td>0.003991</td>\n      <td>...</td>\n      <td>0.001864</td>\n      <td>0.003815</td>\n      <td>0.011914</td>\n      <td>0.024847</td>\n      <td>0.001864</td>\n      <td>0.003815</td>\n      <td>0.011914</td>\n      <td>0.024847</td>\n      <td>0.001864</td>\n      <td>0.003815</td>\n    </tr>\n    <tr>\n      <th>min</th>\n      <td>1.086587e+06</td>\n      <td>-291.000000</td>\n      <td>0.000000</td>\n      <td>0.000000</td>\n      <td>0.000000</td>\n      <td>0.000000</td>\n      <td>0.000000</td>\n      <td>0.000000</td>\n      <td>0.000000</td>\n      <td>0.000000</td>\n      <td>...</td>\n      <td>0.000000</td>\n      <td>0.000000</td>\n      <td>0.000000</td>\n      <td>0.000000</td>\n      <td>0.000000</td>\n      <td>0.000000</td>\n      <td>0.000000</td>\n      <td>0.000000</td>\n      <td>0.000000</td>\n      <td>0.000000</td>\n    </tr>\n    <tr>\n      <th>25%</th>\n      <td>2.305938e+06</td>\n      <td>26.000000</td>\n      <td>0.000000</td>\n      <td>0.000000</td>\n      <td>0.000075</td>\n      <td>0.000459</td>\n      <td>0.000000</td>\n      <td>0.000000</td>\n      <td>0.000075</td>\n      <td>0.000459</td>\n      <td>...</td>\n      <td>0.000143</td>\n      <td>0.000642</td>\n      <td>0.000052</td>\n      <td>0.001201</td>\n      <td>0.000143</td>\n      <td>0.000642</td>\n      <td>0.000052</td>\n      <td>0.001201</td>\n      <td>0.000143</td>\n      <td>0.000642</td>\n    </tr>\n    <tr>\n      <th>50%</th>\n      <td>2.393994e+06</td>\n      <td>82.000000</td>\n      <td>0.000623</td>\n      <td>0.005675</td>\n      <td>0.000449</td>\n      <td>0.001958</td>\n      <td>0.000623</td>\n      <td>0.005675</td>\n      <td>0.000449</td>\n      <td>0.001958</td>\n      <td>...</td>\n      <td>0.000584</td>\n      <td>0.002352</td>\n      <td>0.001852</td>\n      <td>0.009084</td>\n      <td>0.000584</td>\n      <td>0.002352</td>\n      <td>0.001852</td>\n      <td>0.009084</td>\n      <td>0.000584</td>\n      <td>0.002352</td>\n    </tr>\n    <tr>\n      <th>75%</th>\n      <td>2.522450e+06</td>\n      <td>153.000000</td>\n      <td>0.006854</td>\n      <td>0.026555</td>\n      <td>0.001514</td>\n      <td>0.005183</td>\n      <td>0.006854</td>\n      <td>0.026555</td>\n      <td>0.001514</td>\n      <td>0.005183</td>\n      <td>...</td>\n      <td>0.001950</td>\n      <td>0.005513</td>\n      <td>0.010972</td>\n      <td>0.029883</td>\n      <td>0.001950</td>\n      <td>0.005513</td>\n      <td>0.010972</td>\n      <td>0.029883</td>\n      <td>0.001950</td>\n      <td>0.005513</td>\n    </tr>\n    <tr>\n      <th>max</th>\n      <td>2.865765e+06</td>\n      <td>322.000000</td>\n      <td>0.076466</td>\n      <td>0.194773</td>\n      <td>0.023200</td>\n      <td>0.030342</td>\n      <td>0.076466</td>\n      <td>0.194773</td>\n      <td>0.023200</td>\n      <td>0.030342</td>\n      <td>...</td>\n      <td>0.019100</td>\n      <td>0.026437</td>\n      <td>0.063313</td>\n      <td>0.189623</td>\n      <td>0.019100</td>\n      <td>0.026437</td>\n      <td>0.063313</td>\n      <td>0.189623</td>\n      <td>0.019100</td>\n      <td>0.026437</td>\n    </tr>\n  </tbody>\n</table>\n<p>8 rows × 82 columns</p>\n</div>"
     },
     "execution_count": 59,
     "metadata": {},
     "output_type": "execute_result"
    }
   ],
   "source": [
    "df_spins_propn_features.describe()"
   ],
   "metadata": {
    "collapsed": false,
    "pycharm": {
     "name": "#%%\n"
    }
   }
  },
  {
   "cell_type": "code",
   "execution_count": 309,
   "outputs": [
    {
     "data": {
      "text/plain": "        mediabase_id call_letters    week_dt  weeks_since_hit  \\\n0            1086587      KHTS-FM 2022-06-12            -19.0   \n1            1086587      KHTS-FM 2022-06-19            -18.0   \n2            1086587      KHTS-FM 2022-06-26            -17.0   \n3            1086587      KHTS-FM 2022-07-03            -16.0   \n4            1086587      KHTS-FM 2022-07-10            -15.0   \n...              ...          ...        ...              ...   \n656703       2865765      WZFT-FM 2023-02-26              3.0   \n656704       2865765      WZFT-FM 2023-03-05              4.0   \n656705       2865765      WZFT-FM 2023-03-12              5.0   \n656706       2865765      WZFT-FM 2023-03-19              6.0   \n656707       2865765      WZFT-FM 2023-03-26              7.0   \n\n        song_station_share_1wk_lag1  artist_station_share_1wk_lag1  \\\n0                               NaN                            NaN   \n1                          0.006087                       0.006087   \n2                          0.008919                       0.008919   \n3                          0.010615                       0.010615   \n4                          0.016631                       0.016631   \n...                             ...                            ...   \n656703                     0.048106                       0.072760   \n656704                     0.056104                       0.098027   \n656705                     0.059473                       0.092581   \n656706                     0.056627                       0.084007   \n656707                     0.057178                       0.085766   \n\n        song_market_share_1wk_lag1  artist_market_share_1wk_lag1  \\\n0                              NaN                           NaN   \n1                         0.001392                      0.001423   \n2                         0.001893                      0.001956   \n3                         0.002025                      0.002243   \n4                         0.002639                      0.002851   \n...                            ...                           ...   \n656703                    0.005337                      0.009660   \n656704                    0.006118                      0.012289   \n656705                    0.007125                      0.012283   \n656706                    0.006559                      0.011506   \n656707                    0.006582                      0.011545   \n\n        song_station_share_1wk_lag2  artist_station_share_1wk_lag2  ...  \\\n0                               NaN                            NaN  ...   \n1                               NaN                            NaN  ...   \n2                          0.006087                       0.006087  ...   \n3                          0.008919                       0.008919  ...   \n4                          0.010615                       0.010615  ...   \n...                             ...                            ...  ...   \n656703                     0.047001                       0.058132  ...   \n656704                     0.048106                       0.072760  ...   \n656705                     0.056104                       0.098027  ...   \n656706                     0.059473                       0.092581  ...   \n656707                     0.056627                       0.084007  ...   \n\n        song_market_share_26wk_lag2  artist_market_share_26wk_lag2  \\\n0                               NaN                            NaN   \n1                               NaN                            NaN   \n2                          0.001392                       0.001423   \n3                          0.001643                       0.001690   \n4                          0.001771                       0.001876   \n...                             ...                            ...   \n656703                     0.003062                       0.005338   \n656704                     0.003324                       0.005836   \n656705                     0.003616                       0.006511   \n656706                     0.003946                       0.007053   \n656707                     0.004168                       0.007431   \n\n        song_station_share_26wk_lag3  artist_station_share_26wk_lag3  \\\n0                                NaN                             NaN   \n1                                NaN                             NaN   \n2                                NaN                             NaN   \n3                           0.006087                        0.006087   \n4                           0.007498                        0.007498   \n...                              ...                             ...   \n656703                      0.024797                        0.030971   \n656704                      0.027834                        0.034687   \n656705                      0.030334                        0.039383   \n656706                      0.033102                        0.045680   \n656707                      0.035672                        0.050251   \n\n        song_market_share_26wk_lag3  artist_market_share_26wk_lag3  \\\n0                               NaN                            NaN   \n1                               NaN                            NaN   \n2                               NaN                            NaN   \n3                          0.001392                       0.001423   \n4                          0.001643                       0.001690   \n...                             ...                            ...   \n656703                     0.002745                       0.004850   \n656704                     0.003062                       0.005338   \n656705                     0.003324                       0.005836   \n656706                     0.003616                       0.006511   \n656707                     0.003946                       0.007053   \n\n        song_station_share_26wk_lag4  artist_station_share_26wk_lag4  \\\n0                                NaN                             NaN   \n1                                NaN                             NaN   \n2                                NaN                             NaN   \n3                                NaN                             NaN   \n4                           0.006087                        0.006087   \n...                              ...                             ...   \n656703                      0.021234                        0.026835   \n656704                      0.024797                        0.030971   \n656705                      0.027834                        0.034687   \n656706                      0.030334                        0.039383   \n656707                      0.033102                        0.045680   \n\n        song_market_share_26wk_lag4  artist_market_share_26wk_lag4  \n0                               NaN                            NaN  \n1                               NaN                            NaN  \n2                               NaN                            NaN  \n3                               NaN                            NaN  \n4                          0.001392                       0.001423  \n...                             ...                            ...  \n656703                     0.002325                       0.004259  \n656704                     0.002745                       0.004850  \n656705                     0.003062                       0.005338  \n656706                     0.003324                       0.005836  \n656707                     0.003616                       0.006511  \n\n[656708 rows x 84 columns]",
      "text/html": "<div>\n<style scoped>\n    .dataframe tbody tr th:only-of-type {\n        vertical-align: middle;\n    }\n\n    .dataframe tbody tr th {\n        vertical-align: top;\n    }\n\n    .dataframe thead th {\n        text-align: right;\n    }\n</style>\n<table border=\"1\" class=\"dataframe\">\n  <thead>\n    <tr style=\"text-align: right;\">\n      <th></th>\n      <th>mediabase_id</th>\n      <th>call_letters</th>\n      <th>week_dt</th>\n      <th>weeks_since_hit</th>\n      <th>song_station_share_1wk_lag1</th>\n      <th>artist_station_share_1wk_lag1</th>\n      <th>song_market_share_1wk_lag1</th>\n      <th>artist_market_share_1wk_lag1</th>\n      <th>song_station_share_1wk_lag2</th>\n      <th>artist_station_share_1wk_lag2</th>\n      <th>...</th>\n      <th>song_market_share_26wk_lag2</th>\n      <th>artist_market_share_26wk_lag2</th>\n      <th>song_station_share_26wk_lag3</th>\n      <th>artist_station_share_26wk_lag3</th>\n      <th>song_market_share_26wk_lag3</th>\n      <th>artist_market_share_26wk_lag3</th>\n      <th>song_station_share_26wk_lag4</th>\n      <th>artist_station_share_26wk_lag4</th>\n      <th>song_market_share_26wk_lag4</th>\n      <th>artist_market_share_26wk_lag4</th>\n    </tr>\n  </thead>\n  <tbody>\n    <tr>\n      <th>0</th>\n      <td>1086587</td>\n      <td>KHTS-FM</td>\n      <td>2022-06-12</td>\n      <td>-19.0</td>\n      <td>NaN</td>\n      <td>NaN</td>\n      <td>NaN</td>\n      <td>NaN</td>\n      <td>NaN</td>\n      <td>NaN</td>\n      <td>...</td>\n      <td>NaN</td>\n      <td>NaN</td>\n      <td>NaN</td>\n      <td>NaN</td>\n      <td>NaN</td>\n      <td>NaN</td>\n      <td>NaN</td>\n      <td>NaN</td>\n      <td>NaN</td>\n      <td>NaN</td>\n    </tr>\n    <tr>\n      <th>1</th>\n      <td>1086587</td>\n      <td>KHTS-FM</td>\n      <td>2022-06-19</td>\n      <td>-18.0</td>\n      <td>0.006087</td>\n      <td>0.006087</td>\n      <td>0.001392</td>\n      <td>0.001423</td>\n      <td>NaN</td>\n      <td>NaN</td>\n      <td>...</td>\n      <td>NaN</td>\n      <td>NaN</td>\n      <td>NaN</td>\n      <td>NaN</td>\n      <td>NaN</td>\n      <td>NaN</td>\n      <td>NaN</td>\n      <td>NaN</td>\n      <td>NaN</td>\n      <td>NaN</td>\n    </tr>\n    <tr>\n      <th>2</th>\n      <td>1086587</td>\n      <td>KHTS-FM</td>\n      <td>2022-06-26</td>\n      <td>-17.0</td>\n      <td>0.008919</td>\n      <td>0.008919</td>\n      <td>0.001893</td>\n      <td>0.001956</td>\n      <td>0.006087</td>\n      <td>0.006087</td>\n      <td>...</td>\n      <td>0.001392</td>\n      <td>0.001423</td>\n      <td>NaN</td>\n      <td>NaN</td>\n      <td>NaN</td>\n      <td>NaN</td>\n      <td>NaN</td>\n      <td>NaN</td>\n      <td>NaN</td>\n      <td>NaN</td>\n    </tr>\n    <tr>\n      <th>3</th>\n      <td>1086587</td>\n      <td>KHTS-FM</td>\n      <td>2022-07-03</td>\n      <td>-16.0</td>\n      <td>0.010615</td>\n      <td>0.010615</td>\n      <td>0.002025</td>\n      <td>0.002243</td>\n      <td>0.008919</td>\n      <td>0.008919</td>\n      <td>...</td>\n      <td>0.001643</td>\n      <td>0.001690</td>\n      <td>0.006087</td>\n      <td>0.006087</td>\n      <td>0.001392</td>\n      <td>0.001423</td>\n      <td>NaN</td>\n      <td>NaN</td>\n      <td>NaN</td>\n      <td>NaN</td>\n    </tr>\n    <tr>\n      <th>4</th>\n      <td>1086587</td>\n      <td>KHTS-FM</td>\n      <td>2022-07-10</td>\n      <td>-15.0</td>\n      <td>0.016631</td>\n      <td>0.016631</td>\n      <td>0.002639</td>\n      <td>0.002851</td>\n      <td>0.010615</td>\n      <td>0.010615</td>\n      <td>...</td>\n      <td>0.001771</td>\n      <td>0.001876</td>\n      <td>0.007498</td>\n      <td>0.007498</td>\n      <td>0.001643</td>\n      <td>0.001690</td>\n      <td>0.006087</td>\n      <td>0.006087</td>\n      <td>0.001392</td>\n      <td>0.001423</td>\n    </tr>\n    <tr>\n      <th>...</th>\n      <td>...</td>\n      <td>...</td>\n      <td>...</td>\n      <td>...</td>\n      <td>...</td>\n      <td>...</td>\n      <td>...</td>\n      <td>...</td>\n      <td>...</td>\n      <td>...</td>\n      <td>...</td>\n      <td>...</td>\n      <td>...</td>\n      <td>...</td>\n      <td>...</td>\n      <td>...</td>\n      <td>...</td>\n      <td>...</td>\n      <td>...</td>\n      <td>...</td>\n      <td>...</td>\n    </tr>\n    <tr>\n      <th>656703</th>\n      <td>2865765</td>\n      <td>WZFT-FM</td>\n      <td>2023-02-26</td>\n      <td>3.0</td>\n      <td>0.048106</td>\n      <td>0.072760</td>\n      <td>0.005337</td>\n      <td>0.009660</td>\n      <td>0.047001</td>\n      <td>0.058132</td>\n      <td>...</td>\n      <td>0.003062</td>\n      <td>0.005338</td>\n      <td>0.024797</td>\n      <td>0.030971</td>\n      <td>0.002745</td>\n      <td>0.004850</td>\n      <td>0.021234</td>\n      <td>0.026835</td>\n      <td>0.002325</td>\n      <td>0.004259</td>\n    </tr>\n    <tr>\n      <th>656704</th>\n      <td>2865765</td>\n      <td>WZFT-FM</td>\n      <td>2023-03-05</td>\n      <td>4.0</td>\n      <td>0.056104</td>\n      <td>0.098027</td>\n      <td>0.006118</td>\n      <td>0.012289</td>\n      <td>0.048106</td>\n      <td>0.072760</td>\n      <td>...</td>\n      <td>0.003324</td>\n      <td>0.005836</td>\n      <td>0.027834</td>\n      <td>0.034687</td>\n      <td>0.003062</td>\n      <td>0.005338</td>\n      <td>0.024797</td>\n      <td>0.030971</td>\n      <td>0.002745</td>\n      <td>0.004850</td>\n    </tr>\n    <tr>\n      <th>656705</th>\n      <td>2865765</td>\n      <td>WZFT-FM</td>\n      <td>2023-03-12</td>\n      <td>5.0</td>\n      <td>0.059473</td>\n      <td>0.092581</td>\n      <td>0.007125</td>\n      <td>0.012283</td>\n      <td>0.056104</td>\n      <td>0.098027</td>\n      <td>...</td>\n      <td>0.003616</td>\n      <td>0.006511</td>\n      <td>0.030334</td>\n      <td>0.039383</td>\n      <td>0.003324</td>\n      <td>0.005836</td>\n      <td>0.027834</td>\n      <td>0.034687</td>\n      <td>0.003062</td>\n      <td>0.005338</td>\n    </tr>\n    <tr>\n      <th>656706</th>\n      <td>2865765</td>\n      <td>WZFT-FM</td>\n      <td>2023-03-19</td>\n      <td>6.0</td>\n      <td>0.056627</td>\n      <td>0.084007</td>\n      <td>0.006559</td>\n      <td>0.011506</td>\n      <td>0.059473</td>\n      <td>0.092581</td>\n      <td>...</td>\n      <td>0.003946</td>\n      <td>0.007053</td>\n      <td>0.033102</td>\n      <td>0.045680</td>\n      <td>0.003616</td>\n      <td>0.006511</td>\n      <td>0.030334</td>\n      <td>0.039383</td>\n      <td>0.003324</td>\n      <td>0.005836</td>\n    </tr>\n    <tr>\n      <th>656707</th>\n      <td>2865765</td>\n      <td>WZFT-FM</td>\n      <td>2023-03-26</td>\n      <td>7.0</td>\n      <td>0.057178</td>\n      <td>0.085766</td>\n      <td>0.006582</td>\n      <td>0.011545</td>\n      <td>0.056627</td>\n      <td>0.084007</td>\n      <td>...</td>\n      <td>0.004168</td>\n      <td>0.007431</td>\n      <td>0.035672</td>\n      <td>0.050251</td>\n      <td>0.003946</td>\n      <td>0.007053</td>\n      <td>0.033102</td>\n      <td>0.045680</td>\n      <td>0.003616</td>\n      <td>0.006511</td>\n    </tr>\n  </tbody>\n</table>\n<p>656708 rows × 84 columns</p>\n</div>"
     },
     "execution_count": 309,
     "metadata": {},
     "output_type": "execute_result"
    }
   ],
   "source": [
    "df_spins_propn_features"
   ],
   "metadata": {
    "collapsed": false,
    "pycharm": {
     "name": "#%%\n"
    }
   }
  },
  {
   "cell_type": "code",
   "execution_count": 245,
   "outputs": [],
   "source": [
    "df_spins_propn_features.to_pickle('ebw_propn_features_h1.pkl')"
   ],
   "metadata": {
    "collapsed": false,
    "pycharm": {
     "name": "#%%\n"
    }
   }
  },
  {
   "cell_type": "markdown",
   "source": [
    "##### rolling statistics look back"
   ],
   "metadata": {
    "collapsed": false
   }
  },
  {
   "cell_type": "markdown",
   "source": [
    "##### rolling stats from ftq to hit\n"
   ],
   "metadata": {
    "collapsed": false
   }
  },
  {
   "cell_type": "code",
   "execution_count": 83,
   "outputs": [],
   "source": [
    "# for col in propn_cols:\n",
    "#     col_name = f\"{col}_ftq_to_hit\"\n",
    "#     col_names = [f\"{col_name}_min\", f\"{col_name}_max\", f\"{col_name}_mean\", f\"{col_name}_std\"]\n",
    "#     mask = (df_raw_features['week_dt'] >= df_raw_features['week_dt_at_ftq']) & (\n",
    "#             df_raw_features['week_dt'] <= df_raw_features['week_dt_at_hit'])\n",
    "#     df_sub = df_raw_features.loc[mask]\n",
    "#     df_sub_grpd = df_sub.groupby(['mediabase_id', 'call_letters'])[col]\n",
    "#     df_temp = pd.concat([df_sub_grpd.min(), df_sub_grpd.max(), df_sub_grpd.mean(), df_sub_grpd.std()], axis=1)\n",
    "#     df_temp.columns=col_names\n",
    "#     df_raw_features = df_raw_features.join(df_temp, on =['mediabase_id', 'call_letters'], how='left')"
   ],
   "metadata": {
    "collapsed": false,
    "pycharm": {
     "name": "#%%\n"
    }
   }
  },
  {
   "cell_type": "code",
   "execution_count": 70,
   "outputs": [
    {
     "data": {
      "text/plain": "(675941, 3644)"
     },
     "execution_count": 70,
     "metadata": {},
     "output_type": "execute_result"
    }
   ],
   "source": [
    "df_raw_features.shape"
   ],
   "metadata": {
    "collapsed": false,
    "pycharm": {
     "name": "#%%\n"
    }
   }
  },
  {
   "cell_type": "code",
   "execution_count": null,
   "outputs": [],
   "source": [
    "# propogate censoring flag back to raw features\n",
    "join_cols = ['mediabase_id', 'call_letters']\n",
    "df_sub = df_hits_tracker.set_index(join_cols)['censoring_flg']\n",
    "\n",
    "df_raw_features = df_raw_features.join(df_sub, on=join_cols, how='left')"
   ],
   "metadata": {
    "collapsed": false,
    "pycharm": {
     "name": "#%%\n"
    }
   }
  },
  {
   "cell_type": "code",
   "execution_count": 71,
   "outputs": [],
   "source": [
    "df_hits_tracker.to_pickle('ebw_hits_tracker_h1.pkl')\n",
    "df_raw_features.to_pickle('ebw_temp_features_h1.pkl')"
   ],
   "metadata": {
    "collapsed": false,
    "pycharm": {
     "name": "#%%\n"
    }
   }
  },
  {
   "cell_type": "code",
   "execution_count": 3,
   "outputs": [],
   "source": [
    "import pandas as pd\n",
    "df_hits_tracker = pd.read_pickle('ebw_hits_tracker_h1.pkl')"
   ],
   "metadata": {
    "collapsed": false,
    "pycharm": {
     "name": "#%%\n"
    }
   }
  },
  {
   "cell_type": "code",
   "execution_count": null,
   "outputs": [],
   "source": [
    "# import pandas as pd\n",
    "# df_raw_features = pd.read_pickle('ebw_temp_features_h1.pkl')\n",
    "# df_hits_tracker = pd.read_pickle('ebw_hits_tracker_h1.pkl')"
   ],
   "metadata": {
    "collapsed": false,
    "pycharm": {
     "name": "#%%\n",
     "is_executing": true
    }
   }
  },
  {
   "cell_type": "code",
   "execution_count": 223,
   "outputs": [
    {
     "ename": "ValueError",
     "evalue": "The number of FixedLocator locations (2), usually from a call to set_ticks, does not match the number of ticklabels (1).",
     "output_type": "error",
     "traceback": [
      "\u001B[0;31m---------------------------------------------------------------------------\u001B[0m",
      "\u001B[0;31mValueError\u001B[0m                                Traceback (most recent call last)",
      "\u001B[0;32m/var/folders/kt/bsj56gs152d_8fz3jclnl1440000gq/T/ipykernel_35386/1154307338.py\u001B[0m in \u001B[0;36m<module>\u001B[0;34m\u001B[0m\n\u001B[0;32m----> 1\u001B[0;31m \u001B[0mdf_hits_tracker\u001B[0m\u001B[0;34m.\u001B[0m\u001B[0mgroupby\u001B[0m\u001B[0;34m(\u001B[0m\u001B[0;34m[\u001B[0m\u001B[0;34m'censoring_flg'\u001B[0m\u001B[0;34m]\u001B[0m\u001B[0;34m)\u001B[0m\u001B[0;34m[\u001B[0m\u001B[0;34m'spins_to_burnout_from_hit'\u001B[0m\u001B[0;34m]\u001B[0m\u001B[0;34m.\u001B[0m\u001B[0mplot\u001B[0m\u001B[0;34m(\u001B[0m\u001B[0mkind\u001B[0m\u001B[0;34m=\u001B[0m\u001B[0;34m'box'\u001B[0m\u001B[0;34m)\u001B[0m\u001B[0;34m\u001B[0m\u001B[0;34m\u001B[0m\u001B[0m\n\u001B[0m",
      "\u001B[0;32m~/Documents/GitHub/adds-early-burnout-warning-model/venv/lib/python3.7/site-packages/pandas/core/groupby/groupby.py\u001B[0m in \u001B[0;36m__call__\u001B[0;34m(self, *args, **kwargs)\u001B[0m\n\u001B[1;32m    446\u001B[0m \u001B[0;34m\u001B[0m\u001B[0m\n\u001B[1;32m    447\u001B[0m         \u001B[0mf\u001B[0m\u001B[0;34m.\u001B[0m\u001B[0m__name__\u001B[0m \u001B[0;34m=\u001B[0m \u001B[0;34m\"plot\"\u001B[0m\u001B[0;34m\u001B[0m\u001B[0;34m\u001B[0m\u001B[0m\n\u001B[0;32m--> 448\u001B[0;31m         \u001B[0;32mreturn\u001B[0m \u001B[0mself\u001B[0m\u001B[0;34m.\u001B[0m\u001B[0m_groupby\u001B[0m\u001B[0;34m.\u001B[0m\u001B[0mapply\u001B[0m\u001B[0;34m(\u001B[0m\u001B[0mf\u001B[0m\u001B[0;34m)\u001B[0m\u001B[0;34m\u001B[0m\u001B[0;34m\u001B[0m\u001B[0m\n\u001B[0m\u001B[1;32m    449\u001B[0m \u001B[0;34m\u001B[0m\u001B[0m\n\u001B[1;32m    450\u001B[0m     \u001B[0;32mdef\u001B[0m \u001B[0m__getattr__\u001B[0m\u001B[0;34m(\u001B[0m\u001B[0mself\u001B[0m\u001B[0;34m,\u001B[0m \u001B[0mname\u001B[0m\u001B[0;34m:\u001B[0m \u001B[0mstr\u001B[0m\u001B[0;34m)\u001B[0m\u001B[0;34m:\u001B[0m\u001B[0;34m\u001B[0m\u001B[0;34m\u001B[0m\u001B[0m\n",
      "\u001B[0;32m~/Documents/GitHub/adds-early-burnout-warning-model/venv/lib/python3.7/site-packages/pandas/core/groupby/generic.py\u001B[0m in \u001B[0;36mapply\u001B[0;34m(self, func, *args, **kwargs)\u001B[0m\n\u001B[1;32m    224\u001B[0m     )\n\u001B[1;32m    225\u001B[0m     \u001B[0;32mdef\u001B[0m \u001B[0mapply\u001B[0m\u001B[0;34m(\u001B[0m\u001B[0mself\u001B[0m\u001B[0;34m,\u001B[0m \u001B[0mfunc\u001B[0m\u001B[0;34m,\u001B[0m \u001B[0;34m*\u001B[0m\u001B[0margs\u001B[0m\u001B[0;34m,\u001B[0m \u001B[0;34m**\u001B[0m\u001B[0mkwargs\u001B[0m\u001B[0;34m)\u001B[0m\u001B[0;34m:\u001B[0m\u001B[0;34m\u001B[0m\u001B[0;34m\u001B[0m\u001B[0m\n\u001B[0;32m--> 226\u001B[0;31m         \u001B[0;32mreturn\u001B[0m \u001B[0msuper\u001B[0m\u001B[0;34m(\u001B[0m\u001B[0;34m)\u001B[0m\u001B[0;34m.\u001B[0m\u001B[0mapply\u001B[0m\u001B[0;34m(\u001B[0m\u001B[0mfunc\u001B[0m\u001B[0;34m,\u001B[0m \u001B[0;34m*\u001B[0m\u001B[0margs\u001B[0m\u001B[0;34m,\u001B[0m \u001B[0;34m**\u001B[0m\u001B[0mkwargs\u001B[0m\u001B[0;34m)\u001B[0m\u001B[0;34m\u001B[0m\u001B[0;34m\u001B[0m\u001B[0m\n\u001B[0m\u001B[1;32m    227\u001B[0m \u001B[0;34m\u001B[0m\u001B[0m\n\u001B[1;32m    228\u001B[0m     @doc(\n",
      "\u001B[0;32m~/Documents/GitHub/adds-early-burnout-warning-model/venv/lib/python3.7/site-packages/pandas/core/groupby/groupby.py\u001B[0m in \u001B[0;36mapply\u001B[0;34m(self, func, *args, **kwargs)\u001B[0m\n\u001B[1;32m    857\u001B[0m         \u001B[0;32mwith\u001B[0m \u001B[0moption_context\u001B[0m\u001B[0;34m(\u001B[0m\u001B[0;34m\"mode.chained_assignment\"\u001B[0m\u001B[0;34m,\u001B[0m \u001B[0;32mNone\u001B[0m\u001B[0;34m)\u001B[0m\u001B[0;34m:\u001B[0m\u001B[0;34m\u001B[0m\u001B[0;34m\u001B[0m\u001B[0m\n\u001B[1;32m    858\u001B[0m             \u001B[0;32mtry\u001B[0m\u001B[0;34m:\u001B[0m\u001B[0;34m\u001B[0m\u001B[0;34m\u001B[0m\u001B[0m\n\u001B[0;32m--> 859\u001B[0;31m                 \u001B[0mresult\u001B[0m \u001B[0;34m=\u001B[0m \u001B[0mself\u001B[0m\u001B[0;34m.\u001B[0m\u001B[0m_python_apply_general\u001B[0m\u001B[0;34m(\u001B[0m\u001B[0mf\u001B[0m\u001B[0;34m,\u001B[0m \u001B[0mself\u001B[0m\u001B[0;34m.\u001B[0m\u001B[0m_selected_obj\u001B[0m\u001B[0;34m)\u001B[0m\u001B[0;34m\u001B[0m\u001B[0;34m\u001B[0m\u001B[0m\n\u001B[0m\u001B[1;32m    860\u001B[0m             \u001B[0;32mexcept\u001B[0m \u001B[0mTypeError\u001B[0m\u001B[0;34m:\u001B[0m\u001B[0;34m\u001B[0m\u001B[0;34m\u001B[0m\u001B[0m\n\u001B[1;32m    861\u001B[0m                 \u001B[0;31m# gh-20949\u001B[0m\u001B[0;34m\u001B[0m\u001B[0;34m\u001B[0m\u001B[0;34m\u001B[0m\u001B[0m\n",
      "\u001B[0;32m~/Documents/GitHub/adds-early-burnout-warning-model/venv/lib/python3.7/site-packages/pandas/core/groupby/groupby.py\u001B[0m in \u001B[0;36m_python_apply_general\u001B[0;34m(self, f, data)\u001B[0m\n\u001B[1;32m    890\u001B[0m             \u001B[0mdata\u001B[0m \u001B[0mafter\u001B[0m \u001B[0mapplying\u001B[0m \u001B[0mf\u001B[0m\u001B[0;34m\u001B[0m\u001B[0;34m\u001B[0m\u001B[0m\n\u001B[1;32m    891\u001B[0m         \"\"\"\n\u001B[0;32m--> 892\u001B[0;31m         \u001B[0mkeys\u001B[0m\u001B[0;34m,\u001B[0m \u001B[0mvalues\u001B[0m\u001B[0;34m,\u001B[0m \u001B[0mmutated\u001B[0m \u001B[0;34m=\u001B[0m \u001B[0mself\u001B[0m\u001B[0;34m.\u001B[0m\u001B[0mgrouper\u001B[0m\u001B[0;34m.\u001B[0m\u001B[0mapply\u001B[0m\u001B[0;34m(\u001B[0m\u001B[0mf\u001B[0m\u001B[0;34m,\u001B[0m \u001B[0mdata\u001B[0m\u001B[0;34m,\u001B[0m \u001B[0mself\u001B[0m\u001B[0;34m.\u001B[0m\u001B[0maxis\u001B[0m\u001B[0;34m)\u001B[0m\u001B[0;34m\u001B[0m\u001B[0;34m\u001B[0m\u001B[0m\n\u001B[0m\u001B[1;32m    893\u001B[0m \u001B[0;34m\u001B[0m\u001B[0m\n\u001B[1;32m    894\u001B[0m         return self._wrap_applied_output(\n",
      "\u001B[0;32m~/Documents/GitHub/adds-early-burnout-warning-model/venv/lib/python3.7/site-packages/pandas/core/groupby/ops.py\u001B[0m in \u001B[0;36mapply\u001B[0;34m(self, f, data, axis)\u001B[0m\n\u001B[1;32m    218\u001B[0m             \u001B[0;31m# group might be modified\u001B[0m\u001B[0;34m\u001B[0m\u001B[0;34m\u001B[0m\u001B[0;34m\u001B[0m\u001B[0m\n\u001B[1;32m    219\u001B[0m             \u001B[0mgroup_axes\u001B[0m \u001B[0;34m=\u001B[0m \u001B[0mgroup\u001B[0m\u001B[0;34m.\u001B[0m\u001B[0maxes\u001B[0m\u001B[0;34m\u001B[0m\u001B[0;34m\u001B[0m\u001B[0m\n\u001B[0;32m--> 220\u001B[0;31m             \u001B[0mres\u001B[0m \u001B[0;34m=\u001B[0m \u001B[0mf\u001B[0m\u001B[0;34m(\u001B[0m\u001B[0mgroup\u001B[0m\u001B[0;34m)\u001B[0m\u001B[0;34m\u001B[0m\u001B[0;34m\u001B[0m\u001B[0m\n\u001B[0m\u001B[1;32m    221\u001B[0m             \u001B[0;32mif\u001B[0m \u001B[0;32mnot\u001B[0m \u001B[0m_is_indexed_like\u001B[0m\u001B[0;34m(\u001B[0m\u001B[0mres\u001B[0m\u001B[0;34m,\u001B[0m \u001B[0mgroup_axes\u001B[0m\u001B[0;34m)\u001B[0m\u001B[0;34m:\u001B[0m\u001B[0;34m\u001B[0m\u001B[0;34m\u001B[0m\u001B[0m\n\u001B[1;32m    222\u001B[0m                 \u001B[0mmutated\u001B[0m \u001B[0;34m=\u001B[0m \u001B[0;32mTrue\u001B[0m\u001B[0;34m\u001B[0m\u001B[0;34m\u001B[0m\u001B[0m\n",
      "\u001B[0;32m~/Documents/GitHub/adds-early-burnout-warning-model/venv/lib/python3.7/site-packages/pandas/core/groupby/groupby.py\u001B[0m in \u001B[0;36mf\u001B[0;34m(self)\u001B[0m\n\u001B[1;32m    443\u001B[0m     \u001B[0;32mdef\u001B[0m \u001B[0m__call__\u001B[0m\u001B[0;34m(\u001B[0m\u001B[0mself\u001B[0m\u001B[0;34m,\u001B[0m \u001B[0;34m*\u001B[0m\u001B[0margs\u001B[0m\u001B[0;34m,\u001B[0m \u001B[0;34m**\u001B[0m\u001B[0mkwargs\u001B[0m\u001B[0;34m)\u001B[0m\u001B[0;34m:\u001B[0m\u001B[0;34m\u001B[0m\u001B[0;34m\u001B[0m\u001B[0m\n\u001B[1;32m    444\u001B[0m         \u001B[0;32mdef\u001B[0m \u001B[0mf\u001B[0m\u001B[0;34m(\u001B[0m\u001B[0mself\u001B[0m\u001B[0;34m)\u001B[0m\u001B[0;34m:\u001B[0m\u001B[0;34m\u001B[0m\u001B[0;34m\u001B[0m\u001B[0m\n\u001B[0;32m--> 445\u001B[0;31m             \u001B[0;32mreturn\u001B[0m \u001B[0mself\u001B[0m\u001B[0;34m.\u001B[0m\u001B[0mplot\u001B[0m\u001B[0;34m(\u001B[0m\u001B[0;34m*\u001B[0m\u001B[0margs\u001B[0m\u001B[0;34m,\u001B[0m \u001B[0;34m**\u001B[0m\u001B[0mkwargs\u001B[0m\u001B[0;34m)\u001B[0m\u001B[0;34m\u001B[0m\u001B[0;34m\u001B[0m\u001B[0m\n\u001B[0m\u001B[1;32m    446\u001B[0m \u001B[0;34m\u001B[0m\u001B[0m\n\u001B[1;32m    447\u001B[0m         \u001B[0mf\u001B[0m\u001B[0;34m.\u001B[0m\u001B[0m__name__\u001B[0m \u001B[0;34m=\u001B[0m \u001B[0;34m\"plot\"\u001B[0m\u001B[0;34m\u001B[0m\u001B[0;34m\u001B[0m\u001B[0m\n",
      "\u001B[0;32m~/Documents/GitHub/adds-early-burnout-warning-model/venv/lib/python3.7/site-packages/pandas/plotting/_core.py\u001B[0m in \u001B[0;36m__call__\u001B[0;34m(self, *args, **kwargs)\u001B[0m\n\u001B[1;32m    947\u001B[0m                     \u001B[0mdata\u001B[0m\u001B[0;34m.\u001B[0m\u001B[0mcolumns\u001B[0m \u001B[0;34m=\u001B[0m \u001B[0mlabel_name\u001B[0m\u001B[0;34m\u001B[0m\u001B[0;34m\u001B[0m\u001B[0m\n\u001B[1;32m    948\u001B[0m \u001B[0;34m\u001B[0m\u001B[0m\n\u001B[0;32m--> 949\u001B[0;31m         \u001B[0;32mreturn\u001B[0m \u001B[0mplot_backend\u001B[0m\u001B[0;34m.\u001B[0m\u001B[0mplot\u001B[0m\u001B[0;34m(\u001B[0m\u001B[0mdata\u001B[0m\u001B[0;34m,\u001B[0m \u001B[0mkind\u001B[0m\u001B[0;34m=\u001B[0m\u001B[0mkind\u001B[0m\u001B[0;34m,\u001B[0m \u001B[0;34m**\u001B[0m\u001B[0mkwargs\u001B[0m\u001B[0;34m)\u001B[0m\u001B[0;34m\u001B[0m\u001B[0;34m\u001B[0m\u001B[0m\n\u001B[0m\u001B[1;32m    950\u001B[0m \u001B[0;34m\u001B[0m\u001B[0m\n\u001B[1;32m    951\u001B[0m     \u001B[0m__call__\u001B[0m\u001B[0;34m.\u001B[0m\u001B[0m__doc__\u001B[0m \u001B[0;34m=\u001B[0m \u001B[0m__doc__\u001B[0m\u001B[0;34m\u001B[0m\u001B[0;34m\u001B[0m\u001B[0m\n",
      "\u001B[0;32m~/Documents/GitHub/adds-early-burnout-warning-model/venv/lib/python3.7/site-packages/pandas/plotting/_matplotlib/__init__.py\u001B[0m in \u001B[0;36mplot\u001B[0;34m(data, kind, **kwargs)\u001B[0m\n\u001B[1;32m     59\u001B[0m             \u001B[0mkwargs\u001B[0m\u001B[0;34m[\u001B[0m\u001B[0;34m\"ax\"\u001B[0m\u001B[0;34m]\u001B[0m \u001B[0;34m=\u001B[0m \u001B[0mgetattr\u001B[0m\u001B[0;34m(\u001B[0m\u001B[0max\u001B[0m\u001B[0;34m,\u001B[0m \u001B[0;34m\"left_ax\"\u001B[0m\u001B[0;34m,\u001B[0m \u001B[0max\u001B[0m\u001B[0;34m)\u001B[0m\u001B[0;34m\u001B[0m\u001B[0;34m\u001B[0m\u001B[0m\n\u001B[1;32m     60\u001B[0m     \u001B[0mplot_obj\u001B[0m \u001B[0;34m=\u001B[0m \u001B[0mPLOT_CLASSES\u001B[0m\u001B[0;34m[\u001B[0m\u001B[0mkind\u001B[0m\u001B[0;34m]\u001B[0m\u001B[0;34m(\u001B[0m\u001B[0mdata\u001B[0m\u001B[0;34m,\u001B[0m \u001B[0;34m**\u001B[0m\u001B[0mkwargs\u001B[0m\u001B[0;34m)\u001B[0m\u001B[0;34m\u001B[0m\u001B[0;34m\u001B[0m\u001B[0m\n\u001B[0;32m---> 61\u001B[0;31m     \u001B[0mplot_obj\u001B[0m\u001B[0;34m.\u001B[0m\u001B[0mgenerate\u001B[0m\u001B[0;34m(\u001B[0m\u001B[0;34m)\u001B[0m\u001B[0;34m\u001B[0m\u001B[0;34m\u001B[0m\u001B[0m\n\u001B[0m\u001B[1;32m     62\u001B[0m     \u001B[0mplot_obj\u001B[0m\u001B[0;34m.\u001B[0m\u001B[0mdraw\u001B[0m\u001B[0;34m(\u001B[0m\u001B[0;34m)\u001B[0m\u001B[0;34m\u001B[0m\u001B[0;34m\u001B[0m\u001B[0m\n\u001B[1;32m     63\u001B[0m     \u001B[0;32mreturn\u001B[0m \u001B[0mplot_obj\u001B[0m\u001B[0;34m.\u001B[0m\u001B[0mresult\u001B[0m\u001B[0;34m\u001B[0m\u001B[0;34m\u001B[0m\u001B[0m\n",
      "\u001B[0;32m~/Documents/GitHub/adds-early-burnout-warning-model/venv/lib/python3.7/site-packages/pandas/plotting/_matplotlib/core.py\u001B[0m in \u001B[0;36mgenerate\u001B[0;34m(self)\u001B[0m\n\u001B[1;32m    269\u001B[0m         \u001B[0mself\u001B[0m\u001B[0;34m.\u001B[0m\u001B[0m_compute_plot_data\u001B[0m\u001B[0;34m(\u001B[0m\u001B[0;34m)\u001B[0m\u001B[0;34m\u001B[0m\u001B[0;34m\u001B[0m\u001B[0m\n\u001B[1;32m    270\u001B[0m         \u001B[0mself\u001B[0m\u001B[0;34m.\u001B[0m\u001B[0m_setup_subplots\u001B[0m\u001B[0;34m(\u001B[0m\u001B[0;34m)\u001B[0m\u001B[0;34m\u001B[0m\u001B[0;34m\u001B[0m\u001B[0m\n\u001B[0;32m--> 271\u001B[0;31m         \u001B[0mself\u001B[0m\u001B[0;34m.\u001B[0m\u001B[0m_make_plot\u001B[0m\u001B[0;34m(\u001B[0m\u001B[0;34m)\u001B[0m\u001B[0;34m\u001B[0m\u001B[0;34m\u001B[0m\u001B[0m\n\u001B[0m\u001B[1;32m    272\u001B[0m         \u001B[0mself\u001B[0m\u001B[0;34m.\u001B[0m\u001B[0m_add_table\u001B[0m\u001B[0;34m(\u001B[0m\u001B[0;34m)\u001B[0m\u001B[0;34m\u001B[0m\u001B[0;34m\u001B[0m\u001B[0m\n\u001B[1;32m    273\u001B[0m         \u001B[0mself\u001B[0m\u001B[0;34m.\u001B[0m\u001B[0m_make_legend\u001B[0m\u001B[0;34m(\u001B[0m\u001B[0;34m)\u001B[0m\u001B[0;34m\u001B[0m\u001B[0;34m\u001B[0m\u001B[0m\n",
      "\u001B[0;32m~/Documents/GitHub/adds-early-burnout-warning-model/venv/lib/python3.7/site-packages/pandas/plotting/_matplotlib/boxplot.py\u001B[0m in \u001B[0;36m_make_plot\u001B[0;34m(self)\u001B[0m\n\u001B[1;32m    149\u001B[0m             \u001B[0;32mif\u001B[0m \u001B[0;32mnot\u001B[0m \u001B[0mself\u001B[0m\u001B[0;34m.\u001B[0m\u001B[0muse_index\u001B[0m\u001B[0;34m:\u001B[0m\u001B[0;34m\u001B[0m\u001B[0;34m\u001B[0m\u001B[0m\n\u001B[1;32m    150\u001B[0m                 \u001B[0mlabels\u001B[0m \u001B[0;34m=\u001B[0m \u001B[0;34m[\u001B[0m\u001B[0mpprint_thing\u001B[0m\u001B[0;34m(\u001B[0m\u001B[0mkey\u001B[0m\u001B[0;34m)\u001B[0m \u001B[0;32mfor\u001B[0m \u001B[0mkey\u001B[0m \u001B[0;32min\u001B[0m \u001B[0mrange\u001B[0m\u001B[0;34m(\u001B[0m\u001B[0mlen\u001B[0m\u001B[0;34m(\u001B[0m\u001B[0mlabels\u001B[0m\u001B[0;34m)\u001B[0m\u001B[0;34m)\u001B[0m\u001B[0;34m]\u001B[0m\u001B[0;34m\u001B[0m\u001B[0;34m\u001B[0m\u001B[0m\n\u001B[0;32m--> 151\u001B[0;31m             \u001B[0mself\u001B[0m\u001B[0;34m.\u001B[0m\u001B[0m_set_ticklabels\u001B[0m\u001B[0;34m(\u001B[0m\u001B[0max\u001B[0m\u001B[0;34m,\u001B[0m \u001B[0mlabels\u001B[0m\u001B[0;34m)\u001B[0m\u001B[0;34m\u001B[0m\u001B[0;34m\u001B[0m\u001B[0m\n\u001B[0m\u001B[1;32m    152\u001B[0m \u001B[0;34m\u001B[0m\u001B[0m\n\u001B[1;32m    153\u001B[0m     \u001B[0;32mdef\u001B[0m \u001B[0m_set_ticklabels\u001B[0m\u001B[0;34m(\u001B[0m\u001B[0mself\u001B[0m\u001B[0;34m,\u001B[0m \u001B[0max\u001B[0m\u001B[0;34m,\u001B[0m \u001B[0mlabels\u001B[0m\u001B[0;34m)\u001B[0m\u001B[0;34m:\u001B[0m\u001B[0;34m\u001B[0m\u001B[0;34m\u001B[0m\u001B[0m\n",
      "\u001B[0;32m~/Documents/GitHub/adds-early-burnout-warning-model/venv/lib/python3.7/site-packages/pandas/plotting/_matplotlib/boxplot.py\u001B[0m in \u001B[0;36m_set_ticklabels\u001B[0;34m(self, ax, labels)\u001B[0m\n\u001B[1;32m    153\u001B[0m     \u001B[0;32mdef\u001B[0m \u001B[0m_set_ticklabels\u001B[0m\u001B[0;34m(\u001B[0m\u001B[0mself\u001B[0m\u001B[0;34m,\u001B[0m \u001B[0max\u001B[0m\u001B[0;34m,\u001B[0m \u001B[0mlabels\u001B[0m\u001B[0;34m)\u001B[0m\u001B[0;34m:\u001B[0m\u001B[0;34m\u001B[0m\u001B[0;34m\u001B[0m\u001B[0m\n\u001B[1;32m    154\u001B[0m         \u001B[0;32mif\u001B[0m \u001B[0mself\u001B[0m\u001B[0;34m.\u001B[0m\u001B[0morientation\u001B[0m \u001B[0;34m==\u001B[0m \u001B[0;34m\"vertical\"\u001B[0m\u001B[0;34m:\u001B[0m\u001B[0;34m\u001B[0m\u001B[0;34m\u001B[0m\u001B[0m\n\u001B[0;32m--> 155\u001B[0;31m             \u001B[0max\u001B[0m\u001B[0;34m.\u001B[0m\u001B[0mset_xticklabels\u001B[0m\u001B[0;34m(\u001B[0m\u001B[0mlabels\u001B[0m\u001B[0;34m)\u001B[0m\u001B[0;34m\u001B[0m\u001B[0;34m\u001B[0m\u001B[0m\n\u001B[0m\u001B[1;32m    156\u001B[0m         \u001B[0;32melse\u001B[0m\u001B[0;34m:\u001B[0m\u001B[0;34m\u001B[0m\u001B[0;34m\u001B[0m\u001B[0m\n\u001B[1;32m    157\u001B[0m             \u001B[0max\u001B[0m\u001B[0;34m.\u001B[0m\u001B[0mset_yticklabels\u001B[0m\u001B[0;34m(\u001B[0m\u001B[0mlabels\u001B[0m\u001B[0;34m)\u001B[0m\u001B[0;34m\u001B[0m\u001B[0;34m\u001B[0m\u001B[0m\n",
      "\u001B[0;32m~/Documents/GitHub/adds-early-burnout-warning-model/venv/lib/python3.7/site-packages/matplotlib/axes/_base.py\u001B[0m in \u001B[0;36mwrapper\u001B[0;34m(self, *args, **kwargs)\u001B[0m\n\u001B[1;32m     61\u001B[0m \u001B[0;34m\u001B[0m\u001B[0m\n\u001B[1;32m     62\u001B[0m         \u001B[0;32mdef\u001B[0m \u001B[0mwrapper\u001B[0m\u001B[0;34m(\u001B[0m\u001B[0mself\u001B[0m\u001B[0;34m,\u001B[0m \u001B[0;34m*\u001B[0m\u001B[0margs\u001B[0m\u001B[0;34m,\u001B[0m \u001B[0;34m**\u001B[0m\u001B[0mkwargs\u001B[0m\u001B[0;34m)\u001B[0m\u001B[0;34m:\u001B[0m\u001B[0;34m\u001B[0m\u001B[0;34m\u001B[0m\u001B[0m\n\u001B[0;32m---> 63\u001B[0;31m             \u001B[0;32mreturn\u001B[0m \u001B[0mget_method\u001B[0m\u001B[0;34m(\u001B[0m\u001B[0mself\u001B[0m\u001B[0;34m)\u001B[0m\u001B[0;34m(\u001B[0m\u001B[0;34m*\u001B[0m\u001B[0margs\u001B[0m\u001B[0;34m,\u001B[0m \u001B[0;34m**\u001B[0m\u001B[0mkwargs\u001B[0m\u001B[0;34m)\u001B[0m\u001B[0;34m\u001B[0m\u001B[0;34m\u001B[0m\u001B[0m\n\u001B[0m\u001B[1;32m     64\u001B[0m \u001B[0;34m\u001B[0m\u001B[0m\n\u001B[1;32m     65\u001B[0m         \u001B[0mwrapper\u001B[0m\u001B[0;34m.\u001B[0m\u001B[0m__module__\u001B[0m \u001B[0;34m=\u001B[0m \u001B[0mowner\u001B[0m\u001B[0;34m.\u001B[0m\u001B[0m__module__\u001B[0m\u001B[0;34m\u001B[0m\u001B[0;34m\u001B[0m\u001B[0m\n",
      "\u001B[0;32m~/Documents/GitHub/adds-early-burnout-warning-model/venv/lib/python3.7/site-packages/matplotlib/cbook/deprecation.py\u001B[0m in \u001B[0;36mwrapper\u001B[0;34m(*args, **kwargs)\u001B[0m\n\u001B[1;32m    449\u001B[0m                 \u001B[0;34m\"parameter will become keyword-only %(removal)s.\"\u001B[0m\u001B[0;34m,\u001B[0m\u001B[0;34m\u001B[0m\u001B[0;34m\u001B[0m\u001B[0m\n\u001B[1;32m    450\u001B[0m                 name=name, obj_type=f\"parameter of {func.__name__}()\")\n\u001B[0;32m--> 451\u001B[0;31m         \u001B[0;32mreturn\u001B[0m \u001B[0mfunc\u001B[0m\u001B[0;34m(\u001B[0m\u001B[0;34m*\u001B[0m\u001B[0margs\u001B[0m\u001B[0;34m,\u001B[0m \u001B[0;34m**\u001B[0m\u001B[0mkwargs\u001B[0m\u001B[0;34m)\u001B[0m\u001B[0;34m\u001B[0m\u001B[0;34m\u001B[0m\u001B[0m\n\u001B[0m\u001B[1;32m    452\u001B[0m \u001B[0;34m\u001B[0m\u001B[0m\n\u001B[1;32m    453\u001B[0m     \u001B[0;32mreturn\u001B[0m \u001B[0mwrapper\u001B[0m\u001B[0;34m\u001B[0m\u001B[0;34m\u001B[0m\u001B[0m\n",
      "\u001B[0;32m~/Documents/GitHub/adds-early-burnout-warning-model/venv/lib/python3.7/site-packages/matplotlib/axis.py\u001B[0m in \u001B[0;36m_set_ticklabels\u001B[0;34m(self, labels, fontdict, minor, **kwargs)\u001B[0m\n\u001B[1;32m   1794\u001B[0m         \u001B[0;32mif\u001B[0m \u001B[0mfontdict\u001B[0m \u001B[0;32mis\u001B[0m \u001B[0;32mnot\u001B[0m \u001B[0;32mNone\u001B[0m\u001B[0;34m:\u001B[0m\u001B[0;34m\u001B[0m\u001B[0;34m\u001B[0m\u001B[0m\n\u001B[1;32m   1795\u001B[0m             \u001B[0mkwargs\u001B[0m\u001B[0;34m.\u001B[0m\u001B[0mupdate\u001B[0m\u001B[0;34m(\u001B[0m\u001B[0mfontdict\u001B[0m\u001B[0;34m)\u001B[0m\u001B[0;34m\u001B[0m\u001B[0;34m\u001B[0m\u001B[0m\n\u001B[0;32m-> 1796\u001B[0;31m         \u001B[0;32mreturn\u001B[0m \u001B[0mself\u001B[0m\u001B[0;34m.\u001B[0m\u001B[0mset_ticklabels\u001B[0m\u001B[0;34m(\u001B[0m\u001B[0mlabels\u001B[0m\u001B[0;34m,\u001B[0m \u001B[0mminor\u001B[0m\u001B[0;34m=\u001B[0m\u001B[0mminor\u001B[0m\u001B[0;34m,\u001B[0m \u001B[0;34m**\u001B[0m\u001B[0mkwargs\u001B[0m\u001B[0;34m)\u001B[0m\u001B[0;34m\u001B[0m\u001B[0;34m\u001B[0m\u001B[0m\n\u001B[0m\u001B[1;32m   1797\u001B[0m \u001B[0;34m\u001B[0m\u001B[0m\n\u001B[1;32m   1798\u001B[0m     \u001B[0;34m@\u001B[0m\u001B[0mcbook\u001B[0m\u001B[0;34m.\u001B[0m\u001B[0m_make_keyword_only\u001B[0m\u001B[0;34m(\u001B[0m\u001B[0;34m\"3.2\"\u001B[0m\u001B[0;34m,\u001B[0m \u001B[0;34m\"minor\"\u001B[0m\u001B[0;34m)\u001B[0m\u001B[0;34m\u001B[0m\u001B[0;34m\u001B[0m\u001B[0m\n",
      "\u001B[0;32m~/Documents/GitHub/adds-early-burnout-warning-model/venv/lib/python3.7/site-packages/matplotlib/axis.py\u001B[0m in \u001B[0;36mset_ticklabels\u001B[0;34m(self, ticklabels, minor, **kwargs)\u001B[0m\n\u001B[1;32m   1716\u001B[0m             \u001B[0;32mif\u001B[0m \u001B[0mlen\u001B[0m\u001B[0;34m(\u001B[0m\u001B[0mlocator\u001B[0m\u001B[0;34m.\u001B[0m\u001B[0mlocs\u001B[0m\u001B[0;34m)\u001B[0m \u001B[0;34m!=\u001B[0m \u001B[0mlen\u001B[0m\u001B[0;34m(\u001B[0m\u001B[0mticklabels\u001B[0m\u001B[0;34m)\u001B[0m \u001B[0;32mand\u001B[0m \u001B[0mlen\u001B[0m\u001B[0;34m(\u001B[0m\u001B[0mticklabels\u001B[0m\u001B[0;34m)\u001B[0m \u001B[0;34m!=\u001B[0m \u001B[0;36m0\u001B[0m\u001B[0;34m:\u001B[0m\u001B[0;34m\u001B[0m\u001B[0;34m\u001B[0m\u001B[0m\n\u001B[1;32m   1717\u001B[0m                 raise ValueError(\n\u001B[0;32m-> 1718\u001B[0;31m                     \u001B[0;34m\"The number of FixedLocator locations\"\u001B[0m\u001B[0;34m\u001B[0m\u001B[0;34m\u001B[0m\u001B[0m\n\u001B[0m\u001B[1;32m   1719\u001B[0m                     \u001B[0;34mf\" ({len(locator.locs)}), usually from a call to\"\u001B[0m\u001B[0;34m\u001B[0m\u001B[0;34m\u001B[0m\u001B[0m\n\u001B[1;32m   1720\u001B[0m                     \u001B[0;34m\" set_ticks, does not match\"\u001B[0m\u001B[0;34m\u001B[0m\u001B[0;34m\u001B[0m\u001B[0m\n",
      "\u001B[0;31mValueError\u001B[0m: The number of FixedLocator locations (2), usually from a call to set_ticks, does not match the number of ticklabels (1)."
     ]
    },
    {
     "data": {
      "text/plain": "<Figure size 640x480 with 1 Axes>",
      "image/png": "[encoded data removed]"
     },
     "metadata": {},
     "output_type": "display_data"
    }
   ],
   "source": [
    "df_hits_tracker.groupby(['censoring_flg'])['spins_to_burnout_from_hit'].plot(kind='box')"
   ],
   "metadata": {
    "collapsed": false,
    "pycharm": {
     "name": "#%%\n"
    }
   }
  },
  {
   "cell_type": "code",
   "execution_count": 5,
   "outputs": [],
   "source": [
    "import seaborn as sns"
   ],
   "metadata": {
    "collapsed": false,
    "pycharm": {
     "name": "#%%\n"
    }
   }
  },
  {
   "cell_type": "code",
   "execution_count": 6,
   "outputs": [
    {
     "data": {
      "text/plain": "<AxesSubplot:xlabel='censoring_flg', ylabel='spins_to_burnout_from_hit'>"
     },
     "execution_count": 6,
     "metadata": {},
     "output_type": "execute_result"
    },
    {
     "data": {
      "text/plain": "<Figure size 640x480 with 1 Axes>",
      "image/png": "[encoded data removed]"
     },
     "metadata": {},
     "output_type": "display_data"
    }
   ],
   "source": [
    "sns.boxplot(x='censoring_flg', y='spins_to_burnout_from_hit', data=df_hits_tracker)"
   ],
   "metadata": {
    "collapsed": false,
    "pycharm": {
     "name": "#%%\n"
    }
   }
  },
  {
   "cell_type": "code",
   "execution_count": 214,
   "outputs": [
    {
     "data": {
      "text/plain": "<AxesSubplot:ylabel='Frequency'>"
     },
     "execution_count": 214,
     "metadata": {},
     "output_type": "execute_result"
    },
    {
     "data": {
      "text/plain": "<Figure size 640x480 with 1 Axes>",
      "image/png": "[encoded data removed]"
     },
     "metadata": {},
     "output_type": "display_data"
    }
   ],
   "source": [
    "df_hits_tracker['spins_to_burnout_from_hit'].plot(kind='hist')"
   ],
   "metadata": {
    "collapsed": false,
    "pycharm": {
     "name": "#%%\n"
    }
   }
  },
  {
   "cell_type": "code",
   "execution_count": 9,
   "outputs": [
    {
     "data": {
      "text/plain": "0        28 days\n42           NaT\n84           NaT\n127          NaT\n169      49 days\n           ...  \n656542       NaT\n656555       NaT\n656568       NaT\n656581       NaT\n656594       NaT\nLength: 3384, dtype: timedelta64[ns]"
     },
     "execution_count": 9,
     "metadata": {},
     "output_type": "execute_result"
    }
   ],
   "source": [
    "pd.to_datetime(df_hits_tracker['ddl_over_thresh_dt_second']) - df_hits_tracker['hit_tag_date']"
   ],
   "metadata": {
    "collapsed": false,
    "pycharm": {
     "name": "#%%\n"
    }
   }
  },
  {
   "cell_type": "markdown",
   "source": [
    "#### create percentage delta features"
   ],
   "metadata": {
    "collapsed": false
   }
  },
  {
   "cell_type": "code",
   "execution_count": 246,
   "outputs": [],
   "source": [
    "feature_types = ['pop', 'spins']\n",
    "id_cols = ['mediabase_id', 'call_letters', 'week_dt', 'weeks_since_hit']\n",
    "df_pct_chg_features = df_raw_features[id_cols]\n",
    "for typ in feature_types:\n",
    "    df_temp_features = pd.read_pickle(f'ebw_{typ}_features_h1.pkl')\n",
    "    df_temp_features.sort_values(by=['mediabase_id', 'call_letters', 'week_dt'], inplace=True)\n",
    "    change_cols = list(set([col for col in df_temp_features.columns if '1wk' in col]) - set([col for col in df_temp_features.columns if 'std' in col]))\n",
    "    for col in change_cols:\n",
    "        df_pct_chg_features[col + '_pct_chg'] = df_temp_features.groupby(['mediabase_id', 'call_letters'])[col].pct_change().replace([np.inf], 1.0).replace([-np.inf], -1.0).fillna(0)"
   ],
   "metadata": {
    "collapsed": false,
    "pycharm": {
     "name": "#%%\n"
    }
   }
  },
  {
   "cell_type": "code",
   "execution_count": 247,
   "outputs": [
    {
     "data": {
      "text/plain": "(656708, 328)"
     },
     "execution_count": 247,
     "metadata": {},
     "output_type": "execute_result"
    }
   ],
   "source": [
    "df_pct_chg_features.shape"
   ],
   "metadata": {
    "collapsed": false,
    "pycharm": {
     "name": "#%%\n"
    }
   }
  },
  {
   "cell_type": "code",
   "execution_count": 248,
   "outputs": [],
   "source": [
    "df_pct_chg_features.to_pickle('ebw_pctchg_features_h1.pkl')"
   ],
   "metadata": {
    "collapsed": false,
    "pycharm": {
     "name": "#%%\n"
    }
   }
  },
  {
   "cell_type": "code",
   "execution_count": 249,
   "outputs": [
    {
     "data": {
      "text/plain": "Index(['mediabase_id', 'call_letters', 'week_dt', 'weeks_since_hit',\n       'artist_format_ddl_1wk_lag2_min_pct_chg',\n       'artist_format_ddl_1wk_lag4_mean_pct_chg',\n       'song_format_pop_1wk_lag2_mean_pct_chg',\n       'count_song_format_pop_1wk_lag2_max_pct_chg',\n       'song_station_pop_1wk_lag2_mean_pct_chg',\n       'song_station_ddl_1wk_lag3_mean_pct_chg',\n       ...\n       'song_station_spins_non_on_1wk_lag4_sum_pct_chg',\n       'song_format_spins_non_on_1wk_lag1_mean_pct_chg',\n       'artist_station_spins_am_pm_dr_1wk_lag3_sum_pct_chg',\n       'artist_station_spins_non_on_1wk_lag2_min_pct_chg',\n       'artist_format_spins_non_on_1wk_lag4_min_pct_chg',\n       'song_market_spins_non_on_1wk_lag1_max_pct_chg',\n       'song_market_spins_non_on_1wk_lag1_mean_pct_chg',\n       'artist_station_spins_am_pm_dr_1wk_lag2_min_pct_chg',\n       'artist_station_spins_non_on_1wk_lag3_sum_pct_chg',\n       'artist_market_spins_am_pm_dr_1wk_lag3_max_pct_chg'],\n      dtype='object', length=328)"
     },
     "execution_count": 249,
     "metadata": {},
     "output_type": "execute_result"
    }
   ],
   "source": [
    "df_pct_chg_features.columns"
   ],
   "metadata": {
    "collapsed": false,
    "pycharm": {
     "name": "#%%\n"
    }
   }
  },
  {
   "cell_type": "code",
   "execution_count": 262,
   "outputs": [
    {
     "data": {
      "text/plain": "mediabase_id                                          0.0\ncall_letters                                          0.0\nweek_dt                                               0.0\nweeks_since_hit                                       0.0\nartist_format_ddl_1wk_lag2_min_pct_chg                0.0\n                                                     ... \nsong_market_spins_non_on_1wk_lag1_max_pct_chg         0.0\nsong_market_spins_non_on_1wk_lag1_mean_pct_chg        0.0\nartist_station_spins_am_pm_dr_1wk_lag2_min_pct_chg    0.0\nartist_station_spins_non_on_1wk_lag3_sum_pct_chg      0.0\nartist_market_spins_am_pm_dr_1wk_lag3_max_pct_chg     0.0\nLength: 328, dtype: float64"
     },
     "execution_count": 262,
     "metadata": {},
     "output_type": "execute_result"
    }
   ],
   "source": [
    "df_pct_chg_features.apply(lambda x: (pd.isna(x).sum())/(1.0*len(x)))"
   ],
   "metadata": {
    "collapsed": false,
    "pycharm": {
     "name": "#%%\n"
    }
   }
  },
  {
   "cell_type": "code",
   "execution_count": 270,
   "outputs": [
    {
     "data": {
      "text/plain": "0         0.000000\n1         0.000000\n2         0.000000\n3         0.000000\n4         0.000000\n            ...   \n656703    0.000000\n656704    0.000000\n656705    0.000000\n656706   -0.085366\n656707    0.000000\nName: song_station_pop_1wk_lag2_mean_pct_chg, Length: 656708, dtype: float64"
     },
     "execution_count": 270,
     "metadata": {},
     "output_type": "execute_result"
    }
   ],
   "source": [
    "df_pct_chg_features['song_station_pop_1wk_lag2_mean_pct_chg']"
   ],
   "metadata": {
    "collapsed": false,
    "pycharm": {
     "name": "#%%\n"
    }
   }
  },
  {
   "cell_type": "code",
   "execution_count": 286,
   "outputs": [],
   "source": [
    "mediabase_id = df_pct_chg_features.iloc[1000]['mediabase_id']\n",
    "call_letters = df_pct_chg_features.iloc[1000]['call_letters']\n",
    "mask = (df_pct_chg_features['mediabase_id'] == mediabase_id) & (df_pct_chg_features['call_letters'] == call_letters)\n",
    "df_sub = df_pct_chg_features.loc[mask]\n",
    "# df_sub = df_pct_chg_features.set_index(['mediabase_id', 'call_letters', 'week_dt']).loc[mask]\n",
    "df_extract = df_raw_features.join(df_sub.set_index(['mediabase_id', 'call_letters', 'week_dt'])[['song_station_pop_1wk_lag2_mean_pct_chg', 'song_station_spins_non_on_1wk_lag2_mean_pct_chg']], on=['mediabase_id', 'call_letters', 'week_dt'], how='right')"
   ],
   "metadata": {
    "collapsed": false,
    "pycharm": {
     "name": "#%%\n"
    }
   }
  },
  {
   "cell_type": "code",
   "execution_count": 287,
   "outputs": [],
   "source": [
    "df_extract = df_extract.join(df_spins_features.set_index(['mediabase_id', 'call_letters', 'week_dt'])['song_station_spins_non_on_1wk_lag2_mean'], on=['mediabase_id', 'call_letters', 'week_dt'], how='left')"
   ],
   "metadata": {
    "collapsed": false,
    "pycharm": {
     "name": "#%%\n"
    }
   }
  },
  {
   "cell_type": "code",
   "execution_count": 288,
   "outputs": [],
   "source": [
    "df_extract = df_extract[df_extract['weeks_since_hit'] >= 0]"
   ],
   "metadata": {
    "collapsed": false,
    "pycharm": {
     "name": "#%%\n"
    }
   }
  },
  {
   "cell_type": "code",
   "execution_count": 308,
   "outputs": [
    {
     "data": {
      "text/plain": "      mediabase_id   song_id call_letters market_name  artist_id format_code  \\\n802        2211649  92967329      WDCG-FM     Raleigh   26366913          H1   \n803        2211649  92967329      WDCG-FM     Raleigh   26366913          H1   \n804        2211649  92967329      WDCG-FM     Raleigh   26366913          H1   \n805        2211649  92967329      WDCG-FM     Raleigh   26366913          H1   \n806        2211649  92967329      WDCG-FM     Raleigh   26366913          H1   \n...            ...       ...          ...         ...        ...         ...   \n1081       2211649  92967329      WDCG-FM     Raleigh   26366913          H1   \n1082       2211649  92967329      WDCG-FM     Raleigh   26366913          H1   \n1083       2211649  92967329      WDCG-FM     Raleigh   26366913          H1   \n1084       2211649  92967329      WDCG-FM     Raleigh   26366913          H1   \n1085       2211649  92967329      WDCG-FM     Raleigh   26366913          H1   \n\n     song_release_date first_callout_date last_callout_date first_spin_date  \\\n802         2017-03-01         2017-10-02        2021-08-23      2017-07-09   \n803         2017-03-01         2017-10-02        2021-08-23      2017-07-09   \n804         2017-03-01         2017-10-02        2021-08-23      2017-07-09   \n805         2017-03-01         2017-10-02        2021-08-23      2017-07-09   \n806         2017-03-01         2017-10-02        2021-08-23      2017-07-09   \n...                ...                ...               ...             ...   \n1081        2017-03-01         2017-10-02        2021-08-23      2017-07-09   \n1082        2017-03-01         2017-10-02        2021-08-23      2017-07-09   \n1083        2017-03-01         2017-10-02        2021-08-23      2017-07-09   \n1084        2017-03-01         2017-10-02        2021-08-23      2017-07-09   \n1085        2017-03-01         2017-10-02        2021-08-23      2017-07-09   \n\n      ... market_spins_total market_spins_non_on market_spins_am_pm_dr  \\\n802   ...              22575               16122                 11230   \n803   ...              19479               13900                  9662   \n804   ...              22702               16057                 11155   \n805   ...              22308               15798                 11051   \n806   ...              22881               16203                 11281   \n...   ...                ...                 ...                   ...   \n1081  ...              29206               20964                 14713   \n1082  ...              28697               20628                 14497   \n1083  ...              28583               20625                 14409   \n1084  ...              28958               20763                 14571   \n1085  ...              29353               21083                 14823   \n\n      station_spins_total station_spins_non_on station_spins_am_pm_dr  \\\n802                  2080                 1503                   1026   \n803                  1771                 1263                    853   \n804                  2044                 1462                    992   \n805                  2019                 1444                    973   \n806                  1955                 1360                    884   \n...                   ...                  ...                    ...   \n1081                 2324                 1650                   1130   \n1082                 2278                 1624                   1110   \n1083                 2231                 1608                   1094   \n1084                 2253                 1627                   1108   \n1085                 2277                 1617                   1127   \n\n     thumbs_all_count song_station_pop_1wk_lag2_mean_pct_chg  \\\n802               NaN                                    0.0   \n803               NaN                                    0.0   \n804               NaN                                    0.0   \n805               NaN                                    0.0   \n806               NaN                                    0.0   \n...               ...                                    ...   \n1081            955.0                                    0.0   \n1082            589.0                                    0.0   \n1083            739.0                                    0.0   \n1084            743.0                                    0.0   \n1085            631.0                                    0.0   \n\n      song_station_spins_non_on_1wk_lag2_mean_pct_chg  \\\n802                                               0.0   \n803                                               0.0   \n804                                               0.0   \n805                                               0.0   \n806                                               0.0   \n...                                               ...   \n1081                                              0.0   \n1082                                              0.0   \n1083                                              0.0   \n1084                                              0.0   \n1085                                              0.0   \n\n      song_station_spins_non_on_1wk_lag2_mean  \n802                                       NaN  \n803                                       NaN  \n804                                       NaN  \n805                                       NaN  \n806                                       NaN  \n...                                       ...  \n1081                                      NaN  \n1082                                      NaN  \n1083                                      NaN  \n1084                                      NaN  \n1085                                      NaN  \n\n[284 rows x 83 columns]",
      "text/html": "<div>\n<style scoped>\n    .dataframe tbody tr th:only-of-type {\n        vertical-align: middle;\n    }\n\n    .dataframe tbody tr th {\n        vertical-align: top;\n    }\n\n    .dataframe thead th {\n        text-align: right;\n    }\n</style>\n<table border=\"1\" class=\"dataframe\">\n  <thead>\n    <tr style=\"text-align: right;\">\n      <th></th>\n      <th>mediabase_id</th>\n      <th>song_id</th>\n      <th>call_letters</th>\n      <th>market_name</th>\n      <th>artist_id</th>\n      <th>format_code</th>\n      <th>song_release_date</th>\n      <th>first_callout_date</th>\n      <th>last_callout_date</th>\n      <th>first_spin_date</th>\n      <th>...</th>\n      <th>market_spins_total</th>\n      <th>market_spins_non_on</th>\n      <th>market_spins_am_pm_dr</th>\n      <th>station_spins_total</th>\n      <th>station_spins_non_on</th>\n      <th>station_spins_am_pm_dr</th>\n      <th>thumbs_all_count</th>\n      <th>song_station_pop_1wk_lag2_mean_pct_chg</th>\n      <th>song_station_spins_non_on_1wk_lag2_mean_pct_chg</th>\n      <th>song_station_spins_non_on_1wk_lag2_mean</th>\n    </tr>\n  </thead>\n  <tbody>\n    <tr>\n      <th>802</th>\n      <td>2211649</td>\n      <td>92967329</td>\n      <td>WDCG-FM</td>\n      <td>Raleigh</td>\n      <td>26366913</td>\n      <td>H1</td>\n      <td>2017-03-01</td>\n      <td>2017-10-02</td>\n      <td>2021-08-23</td>\n      <td>2017-07-09</td>\n      <td>...</td>\n      <td>22575</td>\n      <td>16122</td>\n      <td>11230</td>\n      <td>2080</td>\n      <td>1503</td>\n      <td>1026</td>\n      <td>NaN</td>\n      <td>0.0</td>\n      <td>0.0</td>\n      <td>NaN</td>\n    </tr>\n    <tr>\n      <th>803</th>\n      <td>2211649</td>\n      <td>92967329</td>\n      <td>WDCG-FM</td>\n      <td>Raleigh</td>\n      <td>26366913</td>\n      <td>H1</td>\n      <td>2017-03-01</td>\n      <td>2017-10-02</td>\n      <td>2021-08-23</td>\n      <td>2017-07-09</td>\n      <td>...</td>\n      <td>19479</td>\n      <td>13900</td>\n      <td>9662</td>\n      <td>1771</td>\n      <td>1263</td>\n      <td>853</td>\n      <td>NaN</td>\n      <td>0.0</td>\n      <td>0.0</td>\n      <td>NaN</td>\n    </tr>\n    <tr>\n      <th>804</th>\n      <td>2211649</td>\n      <td>92967329</td>\n      <td>WDCG-FM</td>\n      <td>Raleigh</td>\n      <td>26366913</td>\n      <td>H1</td>\n      <td>2017-03-01</td>\n      <td>2017-10-02</td>\n      <td>2021-08-23</td>\n      <td>2017-07-09</td>\n      <td>...</td>\n      <td>22702</td>\n      <td>16057</td>\n      <td>11155</td>\n      <td>2044</td>\n      <td>1462</td>\n      <td>992</td>\n      <td>NaN</td>\n      <td>0.0</td>\n      <td>0.0</td>\n      <td>NaN</td>\n    </tr>\n    <tr>\n      <th>805</th>\n      <td>2211649</td>\n      <td>92967329</td>\n      <td>WDCG-FM</td>\n      <td>Raleigh</td>\n      <td>26366913</td>\n      <td>H1</td>\n      <td>2017-03-01</td>\n      <td>2017-10-02</td>\n      <td>2021-08-23</td>\n      <td>2017-07-09</td>\n      <td>...</td>\n      <td>22308</td>\n      <td>15798</td>\n      <td>11051</td>\n      <td>2019</td>\n      <td>1444</td>\n      <td>973</td>\n      <td>NaN</td>\n      <td>0.0</td>\n      <td>0.0</td>\n      <td>NaN</td>\n    </tr>\n    <tr>\n      <th>806</th>\n      <td>2211649</td>\n      <td>92967329</td>\n      <td>WDCG-FM</td>\n      <td>Raleigh</td>\n      <td>26366913</td>\n      <td>H1</td>\n      <td>2017-03-01</td>\n      <td>2017-10-02</td>\n      <td>2021-08-23</td>\n      <td>2017-07-09</td>\n      <td>...</td>\n      <td>22881</td>\n      <td>16203</td>\n      <td>11281</td>\n      <td>1955</td>\n      <td>1360</td>\n      <td>884</td>\n      <td>NaN</td>\n      <td>0.0</td>\n      <td>0.0</td>\n      <td>NaN</td>\n    </tr>\n    <tr>\n      <th>...</th>\n      <td>...</td>\n      <td>...</td>\n      <td>...</td>\n      <td>...</td>\n      <td>...</td>\n      <td>...</td>\n      <td>...</td>\n      <td>...</td>\n      <td>...</td>\n      <td>...</td>\n      <td>...</td>\n      <td>...</td>\n      <td>...</td>\n      <td>...</td>\n      <td>...</td>\n      <td>...</td>\n      <td>...</td>\n      <td>...</td>\n      <td>...</td>\n      <td>...</td>\n      <td>...</td>\n    </tr>\n    <tr>\n      <th>1081</th>\n      <td>2211649</td>\n      <td>92967329</td>\n      <td>WDCG-FM</td>\n      <td>Raleigh</td>\n      <td>26366913</td>\n      <td>H1</td>\n      <td>2017-03-01</td>\n      <td>2017-10-02</td>\n      <td>2021-08-23</td>\n      <td>2017-07-09</td>\n      <td>...</td>\n      <td>29206</td>\n      <td>20964</td>\n      <td>14713</td>\n      <td>2324</td>\n      <td>1650</td>\n      <td>1130</td>\n      <td>955.0</td>\n      <td>0.0</td>\n      <td>0.0</td>\n      <td>NaN</td>\n    </tr>\n    <tr>\n      <th>1082</th>\n      <td>2211649</td>\n      <td>92967329</td>\n      <td>WDCG-FM</td>\n      <td>Raleigh</td>\n      <td>26366913</td>\n      <td>H1</td>\n      <td>2017-03-01</td>\n      <td>2017-10-02</td>\n      <td>2021-08-23</td>\n      <td>2017-07-09</td>\n      <td>...</td>\n      <td>28697</td>\n      <td>20628</td>\n      <td>14497</td>\n      <td>2278</td>\n      <td>1624</td>\n      <td>1110</td>\n      <td>589.0</td>\n      <td>0.0</td>\n      <td>0.0</td>\n      <td>NaN</td>\n    </tr>\n    <tr>\n      <th>1083</th>\n      <td>2211649</td>\n      <td>92967329</td>\n      <td>WDCG-FM</td>\n      <td>Raleigh</td>\n      <td>26366913</td>\n      <td>H1</td>\n      <td>2017-03-01</td>\n      <td>2017-10-02</td>\n      <td>2021-08-23</td>\n      <td>2017-07-09</td>\n      <td>...</td>\n      <td>28583</td>\n      <td>20625</td>\n      <td>14409</td>\n      <td>2231</td>\n      <td>1608</td>\n      <td>1094</td>\n      <td>739.0</td>\n      <td>0.0</td>\n      <td>0.0</td>\n      <td>NaN</td>\n    </tr>\n    <tr>\n      <th>1084</th>\n      <td>2211649</td>\n      <td>92967329</td>\n      <td>WDCG-FM</td>\n      <td>Raleigh</td>\n      <td>26366913</td>\n      <td>H1</td>\n      <td>2017-03-01</td>\n      <td>2017-10-02</td>\n      <td>2021-08-23</td>\n      <td>2017-07-09</td>\n      <td>...</td>\n      <td>28958</td>\n      <td>20763</td>\n      <td>14571</td>\n      <td>2253</td>\n      <td>1627</td>\n      <td>1108</td>\n      <td>743.0</td>\n      <td>0.0</td>\n      <td>0.0</td>\n      <td>NaN</td>\n    </tr>\n    <tr>\n      <th>1085</th>\n      <td>2211649</td>\n      <td>92967329</td>\n      <td>WDCG-FM</td>\n      <td>Raleigh</td>\n      <td>26366913</td>\n      <td>H1</td>\n      <td>2017-03-01</td>\n      <td>2017-10-02</td>\n      <td>2021-08-23</td>\n      <td>2017-07-09</td>\n      <td>...</td>\n      <td>29353</td>\n      <td>21083</td>\n      <td>14823</td>\n      <td>2277</td>\n      <td>1617</td>\n      <td>1127</td>\n      <td>631.0</td>\n      <td>0.0</td>\n      <td>0.0</td>\n      <td>NaN</td>\n    </tr>\n  </tbody>\n</table>\n<p>284 rows × 83 columns</p>\n</div>"
     },
     "execution_count": 308,
     "metadata": {},
     "output_type": "execute_result"
    }
   ],
   "source": [
    "df_extract"
   ],
   "metadata": {
    "collapsed": false,
    "pycharm": {
     "name": "#%%\n"
    }
   }
  },
  {
   "cell_type": "code",
   "execution_count": 1,
   "outputs": [
    {
     "ename": "NameError",
     "evalue": "name 'df_extract' is not defined",
     "output_type": "error",
     "traceback": [
      "\u001B[0;31m---------------------------------------------------------------------------\u001B[0m",
      "\u001B[0;31mNameError\u001B[0m                                 Traceback (most recent call last)",
      "\u001B[0;32m/var/folders/kt/bsj56gs152d_8fz3jclnl1440000gq/T/ipykernel_49947/3019542308.py\u001B[0m in \u001B[0;36m<module>\u001B[0;34m\u001B[0m\n\u001B[1;32m      2\u001B[0m \u001B[0;31m# plt.plot(df_extract['weeks_since_hit'], df_extract['song_station_pop_1wk_lag2_mean_pct_chg'])\u001B[0m\u001B[0;34m\u001B[0m\u001B[0;34m\u001B[0m\u001B[0;34m\u001B[0m\u001B[0m\n\u001B[1;32m      3\u001B[0m \u001B[0;31m# plt.plot(df_extract['weeks_since_hit'], df_extract['song_station_spins_non_on_1wk_lag2_mean_pct_chg'])\u001B[0m\u001B[0;34m\u001B[0m\u001B[0;34m\u001B[0m\u001B[0;34m\u001B[0m\u001B[0m\n\u001B[0;32m----> 4\u001B[0;31m \u001B[0mplt\u001B[0m\u001B[0;34m.\u001B[0m\u001B[0mscatter\u001B[0m\u001B[0;34m(\u001B[0m\u001B[0mdf_extract\u001B[0m\u001B[0;34m[\u001B[0m\u001B[0;34m'weeks_since_hit'\u001B[0m\u001B[0;34m]\u001B[0m\u001B[0;34m,\u001B[0m \u001B[0mdf_extract\u001B[0m\u001B[0;34m[\u001B[0m\u001B[0;34m'song_station_pop'\u001B[0m\u001B[0;34m]\u001B[0m\u001B[0;34m)\u001B[0m\u001B[0;34m\u001B[0m\u001B[0;34m\u001B[0m\u001B[0m\n\u001B[0m\u001B[1;32m      5\u001B[0m \u001B[0mplt\u001B[0m\u001B[0;34m.\u001B[0m\u001B[0mscatter\u001B[0m\u001B[0;34m(\u001B[0m\u001B[0mdf_extract\u001B[0m\u001B[0;34m[\u001B[0m\u001B[0;34m'weeks_since_hit'\u001B[0m\u001B[0;34m]\u001B[0m\u001B[0;34m,\u001B[0m \u001B[0mdf_extract\u001B[0m\u001B[0;34m[\u001B[0m\u001B[0;34m'song_format_pop'\u001B[0m\u001B[0;34m]\u001B[0m\u001B[0;34m)\u001B[0m\u001B[0;34m\u001B[0m\u001B[0;34m\u001B[0m\u001B[0m\n\u001B[1;32m      6\u001B[0m \u001B[0mplt\u001B[0m\u001B[0;34m.\u001B[0m\u001B[0mplot\u001B[0m\u001B[0;34m(\u001B[0m\u001B[0mdf_extract\u001B[0m\u001B[0;34m[\u001B[0m\u001B[0;34m'weeks_since_hit'\u001B[0m\u001B[0;34m]\u001B[0m\u001B[0;34m,\u001B[0m \u001B[0mdf_extract\u001B[0m\u001B[0;34m[\u001B[0m\u001B[0;34m'song_station_spins_non_on'\u001B[0m\u001B[0;34m]\u001B[0m\u001B[0;34m)\u001B[0m\u001B[0;34m\u001B[0m\u001B[0;34m\u001B[0m\u001B[0m\n",
      "\u001B[0;31mNameError\u001B[0m: name 'df_extract' is not defined"
     ]
    }
   ],
   "source": [
    "import matplotlib.pyplot as plt\n",
    "# plt.plot(df_extract['weeks_since_hit'], df_extract['song_station_pop_1wk_lag2_mean_pct_chg'])\n",
    "# plt.plot(df_extract['weeks_since_hit'], df_extract['song_station_spins_non_on_1wk_lag2_mean_pct_chg'])\n",
    "plt.scatter(df_extract['weeks_since_hit'], df_extract['song_station_pop'])\n",
    "plt.scatter(df_extract['weeks_since_hit'], df_extract['song_format_pop'])\n",
    "plt.plot(df_extract['weeks_since_hit'], df_extract['song_station_spins_non_on'])\n",
    "plt.plot(df_extract['weeks_since_hit'], df_extract['song_market_spins_non_on'])"
   ],
   "metadata": {
    "collapsed": false,
    "pycharm": {
     "name": "#%%\n"
    }
   }
  },
  {
   "cell_type": "code",
   "execution_count": 295,
   "outputs": [
    {
     "data": {
      "text/plain": "      mediabase_id   song_id call_letters market_name  artist_id format_code  \\\n802        2211649  92967329      WDCG-FM     Raleigh   26366913          H1   \n803        2211649  92967329      WDCG-FM     Raleigh   26366913          H1   \n804        2211649  92967329      WDCG-FM     Raleigh   26366913          H1   \n805        2211649  92967329      WDCG-FM     Raleigh   26366913          H1   \n806        2211649  92967329      WDCG-FM     Raleigh   26366913          H1   \n...            ...       ...          ...         ...        ...         ...   \n1081       2211649  92967329      WDCG-FM     Raleigh   26366913          H1   \n1082       2211649  92967329      WDCG-FM     Raleigh   26366913          H1   \n1083       2211649  92967329      WDCG-FM     Raleigh   26366913          H1   \n1084       2211649  92967329      WDCG-FM     Raleigh   26366913          H1   \n1085       2211649  92967329      WDCG-FM     Raleigh   26366913          H1   \n\n     song_release_date first_callout_date last_callout_date first_spin_date  \\\n802         2017-03-01         2017-10-02        2021-08-23      2017-07-09   \n803         2017-03-01         2017-10-02        2021-08-23      2017-07-09   \n804         2017-03-01         2017-10-02        2021-08-23      2017-07-09   \n805         2017-03-01         2017-10-02        2021-08-23      2017-07-09   \n806         2017-03-01         2017-10-02        2021-08-23      2017-07-09   \n...                ...                ...               ...             ...   \n1081        2017-03-01         2017-10-02        2021-08-23      2017-07-09   \n1082        2017-03-01         2017-10-02        2021-08-23      2017-07-09   \n1083        2017-03-01         2017-10-02        2021-08-23      2017-07-09   \n1084        2017-03-01         2017-10-02        2021-08-23      2017-07-09   \n1085        2017-03-01         2017-10-02        2021-08-23      2017-07-09   \n\n      ... market_spins_total market_spins_non_on market_spins_am_pm_dr  \\\n802   ...              22575               16122                 11230   \n803   ...              19479               13900                  9662   \n804   ...              22702               16057                 11155   \n805   ...              22308               15798                 11051   \n806   ...              22881               16203                 11281   \n...   ...                ...                 ...                   ...   \n1081  ...              29206               20964                 14713   \n1082  ...              28697               20628                 14497   \n1083  ...              28583               20625                 14409   \n1084  ...              28958               20763                 14571   \n1085  ...              29353               21083                 14823   \n\n      station_spins_total station_spins_non_on station_spins_am_pm_dr  \\\n802                  2080                 1503                   1026   \n803                  1771                 1263                    853   \n804                  2044                 1462                    992   \n805                  2019                 1444                    973   \n806                  1955                 1360                    884   \n...                   ...                  ...                    ...   \n1081                 2324                 1650                   1130   \n1082                 2278                 1624                   1110   \n1083                 2231                 1608                   1094   \n1084                 2253                 1627                   1108   \n1085                 2277                 1617                   1127   \n\n     thumbs_all_count song_station_pop_1wk_lag2_mean_pct_chg  \\\n802               NaN                                    0.0   \n803               NaN                                    0.0   \n804               NaN                                    0.0   \n805               NaN                                    0.0   \n806               NaN                                    0.0   \n...               ...                                    ...   \n1081            955.0                                    0.0   \n1082            589.0                                    0.0   \n1083            739.0                                    0.0   \n1084            743.0                                    0.0   \n1085            631.0                                    0.0   \n\n      song_station_spins_non_on_1wk_lag2_mean_pct_chg  \\\n802                                               0.0   \n803                                               0.0   \n804                                               0.0   \n805                                               0.0   \n806                                               0.0   \n...                                               ...   \n1081                                              0.0   \n1082                                              0.0   \n1083                                              0.0   \n1084                                              0.0   \n1085                                              0.0   \n\n      song_station_spins_non_on_1wk_lag2_mean  \n802                                       NaN  \n803                                       NaN  \n804                                       NaN  \n805                                       NaN  \n806                                       NaN  \n...                                       ...  \n1081                                      NaN  \n1082                                      NaN  \n1083                                      NaN  \n1084                                      NaN  \n1085                                      NaN  \n\n[284 rows x 83 columns]",
      "text/html": "<div>\n<style scoped>\n    .dataframe tbody tr th:only-of-type {\n        vertical-align: middle;\n    }\n\n    .dataframe tbody tr th {\n        vertical-align: top;\n    }\n\n    .dataframe thead th {\n        text-align: right;\n    }\n</style>\n<table border=\"1\" class=\"dataframe\">\n  <thead>\n    <tr style=\"text-align: right;\">\n      <th></th>\n      <th>mediabase_id</th>\n      <th>song_id</th>\n      <th>call_letters</th>\n      <th>market_name</th>\n      <th>artist_id</th>\n      <th>format_code</th>\n      <th>song_release_date</th>\n      <th>first_callout_date</th>\n      <th>last_callout_date</th>\n      <th>first_spin_date</th>\n      <th>...</th>\n      <th>market_spins_total</th>\n      <th>market_spins_non_on</th>\n      <th>market_spins_am_pm_dr</th>\n      <th>station_spins_total</th>\n      <th>station_spins_non_on</th>\n      <th>station_spins_am_pm_dr</th>\n      <th>thumbs_all_count</th>\n      <th>song_station_pop_1wk_lag2_mean_pct_chg</th>\n      <th>song_station_spins_non_on_1wk_lag2_mean_pct_chg</th>\n      <th>song_station_spins_non_on_1wk_lag2_mean</th>\n    </tr>\n  </thead>\n  <tbody>\n    <tr>\n      <th>802</th>\n      <td>2211649</td>\n      <td>92967329</td>\n      <td>WDCG-FM</td>\n      <td>Raleigh</td>\n      <td>26366913</td>\n      <td>H1</td>\n      <td>2017-03-01</td>\n      <td>2017-10-02</td>\n      <td>2021-08-23</td>\n      <td>2017-07-09</td>\n      <td>...</td>\n      <td>22575</td>\n      <td>16122</td>\n      <td>11230</td>\n      <td>2080</td>\n      <td>1503</td>\n      <td>1026</td>\n      <td>NaN</td>\n      <td>0.0</td>\n      <td>0.0</td>\n      <td>NaN</td>\n    </tr>\n    <tr>\n      <th>803</th>\n      <td>2211649</td>\n      <td>92967329</td>\n      <td>WDCG-FM</td>\n      <td>Raleigh</td>\n      <td>26366913</td>\n      <td>H1</td>\n      <td>2017-03-01</td>\n      <td>2017-10-02</td>\n      <td>2021-08-23</td>\n      <td>2017-07-09</td>\n      <td>...</td>\n      <td>19479</td>\n      <td>13900</td>\n      <td>9662</td>\n      <td>1771</td>\n      <td>1263</td>\n      <td>853</td>\n      <td>NaN</td>\n      <td>0.0</td>\n      <td>0.0</td>\n      <td>NaN</td>\n    </tr>\n    <tr>\n      <th>804</th>\n      <td>2211649</td>\n      <td>92967329</td>\n      <td>WDCG-FM</td>\n      <td>Raleigh</td>\n      <td>26366913</td>\n      <td>H1</td>\n      <td>2017-03-01</td>\n      <td>2017-10-02</td>\n      <td>2021-08-23</td>\n      <td>2017-07-09</td>\n      <td>...</td>\n      <td>22702</td>\n      <td>16057</td>\n      <td>11155</td>\n      <td>2044</td>\n      <td>1462</td>\n      <td>992</td>\n      <td>NaN</td>\n      <td>0.0</td>\n      <td>0.0</td>\n      <td>NaN</td>\n    </tr>\n    <tr>\n      <th>805</th>\n      <td>2211649</td>\n      <td>92967329</td>\n      <td>WDCG-FM</td>\n      <td>Raleigh</td>\n      <td>26366913</td>\n      <td>H1</td>\n      <td>2017-03-01</td>\n      <td>2017-10-02</td>\n      <td>2021-08-23</td>\n      <td>2017-07-09</td>\n      <td>...</td>\n      <td>22308</td>\n      <td>15798</td>\n      <td>11051</td>\n      <td>2019</td>\n      <td>1444</td>\n      <td>973</td>\n      <td>NaN</td>\n      <td>0.0</td>\n      <td>0.0</td>\n      <td>NaN</td>\n    </tr>\n    <tr>\n      <th>806</th>\n      <td>2211649</td>\n      <td>92967329</td>\n      <td>WDCG-FM</td>\n      <td>Raleigh</td>\n      <td>26366913</td>\n      <td>H1</td>\n      <td>2017-03-01</td>\n      <td>2017-10-02</td>\n      <td>2021-08-23</td>\n      <td>2017-07-09</td>\n      <td>...</td>\n      <td>22881</td>\n      <td>16203</td>\n      <td>11281</td>\n      <td>1955</td>\n      <td>1360</td>\n      <td>884</td>\n      <td>NaN</td>\n      <td>0.0</td>\n      <td>0.0</td>\n      <td>NaN</td>\n    </tr>\n    <tr>\n      <th>...</th>\n      <td>...</td>\n      <td>...</td>\n      <td>...</td>\n      <td>...</td>\n      <td>...</td>\n      <td>...</td>\n      <td>...</td>\n      <td>...</td>\n      <td>...</td>\n      <td>...</td>\n      <td>...</td>\n      <td>...</td>\n      <td>...</td>\n      <td>...</td>\n      <td>...</td>\n      <td>...</td>\n      <td>...</td>\n      <td>...</td>\n      <td>...</td>\n      <td>...</td>\n      <td>...</td>\n    </tr>\n    <tr>\n      <th>1081</th>\n      <td>2211649</td>\n      <td>92967329</td>\n      <td>WDCG-FM</td>\n      <td>Raleigh</td>\n      <td>26366913</td>\n      <td>H1</td>\n      <td>2017-03-01</td>\n      <td>2017-10-02</td>\n      <td>2021-08-23</td>\n      <td>2017-07-09</td>\n      <td>...</td>\n      <td>29206</td>\n      <td>20964</td>\n      <td>14713</td>\n      <td>2324</td>\n      <td>1650</td>\n      <td>1130</td>\n      <td>955.0</td>\n      <td>0.0</td>\n      <td>0.0</td>\n      <td>NaN</td>\n    </tr>\n    <tr>\n      <th>1082</th>\n      <td>2211649</td>\n      <td>92967329</td>\n      <td>WDCG-FM</td>\n      <td>Raleigh</td>\n      <td>26366913</td>\n      <td>H1</td>\n      <td>2017-03-01</td>\n      <td>2017-10-02</td>\n      <td>2021-08-23</td>\n      <td>2017-07-09</td>\n      <td>...</td>\n      <td>28697</td>\n      <td>20628</td>\n      <td>14497</td>\n      <td>2278</td>\n      <td>1624</td>\n      <td>1110</td>\n      <td>589.0</td>\n      <td>0.0</td>\n      <td>0.0</td>\n      <td>NaN</td>\n    </tr>\n    <tr>\n      <th>1083</th>\n      <td>2211649</td>\n      <td>92967329</td>\n      <td>WDCG-FM</td>\n      <td>Raleigh</td>\n      <td>26366913</td>\n      <td>H1</td>\n      <td>2017-03-01</td>\n      <td>2017-10-02</td>\n      <td>2021-08-23</td>\n      <td>2017-07-09</td>\n      <td>...</td>\n      <td>28583</td>\n      <td>20625</td>\n      <td>14409</td>\n      <td>2231</td>\n      <td>1608</td>\n      <td>1094</td>\n      <td>739.0</td>\n      <td>0.0</td>\n      <td>0.0</td>\n      <td>NaN</td>\n    </tr>\n    <tr>\n      <th>1084</th>\n      <td>2211649</td>\n      <td>92967329</td>\n      <td>WDCG-FM</td>\n      <td>Raleigh</td>\n      <td>26366913</td>\n      <td>H1</td>\n      <td>2017-03-01</td>\n      <td>2017-10-02</td>\n      <td>2021-08-23</td>\n      <td>2017-07-09</td>\n      <td>...</td>\n      <td>28958</td>\n      <td>20763</td>\n      <td>14571</td>\n      <td>2253</td>\n      <td>1627</td>\n      <td>1108</td>\n      <td>743.0</td>\n      <td>0.0</td>\n      <td>0.0</td>\n      <td>NaN</td>\n    </tr>\n    <tr>\n      <th>1085</th>\n      <td>2211649</td>\n      <td>92967329</td>\n      <td>WDCG-FM</td>\n      <td>Raleigh</td>\n      <td>26366913</td>\n      <td>H1</td>\n      <td>2017-03-01</td>\n      <td>2017-10-02</td>\n      <td>2021-08-23</td>\n      <td>2017-07-09</td>\n      <td>...</td>\n      <td>29353</td>\n      <td>21083</td>\n      <td>14823</td>\n      <td>2277</td>\n      <td>1617</td>\n      <td>1127</td>\n      <td>631.0</td>\n      <td>0.0</td>\n      <td>0.0</td>\n      <td>NaN</td>\n    </tr>\n  </tbody>\n</table>\n<p>284 rows × 83 columns</p>\n</div>"
     },
     "execution_count": 295,
     "metadata": {},
     "output_type": "execute_result"
    }
   ],
   "source": [
    "df_extract"
   ],
   "metadata": {
    "collapsed": false,
    "pycharm": {
     "name": "#%%\n"
    }
   }
  },
  {
   "cell_type": "code",
   "execution_count": null,
   "outputs": [],
   "source": [],
   "metadata": {
    "collapsed": false,
    "pycharm": {
     "name": "#%%\n"
    }
   }
  },
  {
   "cell_type": "code",
   "execution_count": 307,
   "outputs": [
    {
     "name": "stdout",
     "output_type": "stream",
     "text": [
      "song_station_ddl_1wk_lag1_max_pct_chg\n"
     ]
    },
    {
     "data": {
      "text/plain": "<Figure size 640x480 with 1 Axes>",
      "image/png": "[encoded data removed]"
     },
     "metadata": {},
     "output_type": "display_data"
    }
   ],
   "source": [
    "import matplotlib.pyplot as plt\n",
    "from sklearn.preprocessing import StandardScaler\n",
    "med_id = df_pct_chg_features.loc[5000]['mediabase_id']\n",
    "call_letters = df_pct_chg_features.loc[5000]['call_letters']\n",
    "mask = (df_pct_chg_features['mediabase_id'] == med_id) & (df_pct_chg_features['call_letters'] == call_letters) & (df_pct_chg_features['weeks_since_hit'] > 0)\n",
    "df_sub = df_pct_chg_features.loc[mask]\n",
    "scaler = StandardScaler()\n",
    "\n",
    "for wk in [1]:\n",
    "    col_name = f'song_station_ddl_{wk}wk_lag1_max_pct_chg'\n",
    "    col_name_spins = f'song_station_spins_non_on_{wk}wk_lag1_mean_pct_chg'\n",
    "    scaler.fit(df_sub[[col_name_spins]])\n",
    "    df_sub[col_name_spins] = scaler.transform(df_sub[[col_name_spins]])\n",
    "    print(col_name)\n",
    "    plt.plot(df_sub['weeks_since_hit'], df_sub[col_name])\n",
    "    plt.plot(df_sub['weeks_since_hit'], df_sub[col_name_spins])"
   ],
   "metadata": {
    "collapsed": false,
    "pycharm": {
     "name": "#%%\n"
    }
   }
  },
  {
   "cell_type": "code",
   "execution_count": 306,
   "outputs": [
    {
     "data": {
      "text/plain": "      mediabase_id call_letters    week_dt  weeks_since_hit  \\\n803        2211649      WDCG-FM 2017-10-29              1.0   \n804        2211649      WDCG-FM 2017-11-05              2.0   \n805        2211649      WDCG-FM 2017-11-12              3.0   \n806        2211649      WDCG-FM 2017-11-19              4.0   \n807        2211649      WDCG-FM 2017-11-26              5.0   \n...            ...          ...        ...              ...   \n1081       2211649      WDCG-FM 2023-02-26            279.0   \n1082       2211649      WDCG-FM 2023-03-05            280.0   \n1083       2211649      WDCG-FM 2023-03-12            281.0   \n1084       2211649      WDCG-FM 2023-03-19            282.0   \n1085       2211649      WDCG-FM 2023-03-26            283.0   \n\n      artist_format_ddl_1wk_lag2_min_pct_chg  \\\n803                                      0.0   \n804                                      0.0   \n805                                      0.0   \n806                                      0.0   \n807                                      0.0   \n...                                      ...   \n1081                                     0.0   \n1082                                     0.0   \n1083                                     0.0   \n1084                                     0.0   \n1085                                     0.0   \n\n      artist_format_ddl_1wk_lag4_mean_pct_chg  \\\n803                                       0.0   \n804                                       0.0   \n805                                       0.0   \n806                                       0.0   \n807                                       0.0   \n...                                       ...   \n1081                                      0.0   \n1082                                      0.0   \n1083                                      0.0   \n1084                                      0.0   \n1085                                      0.0   \n\n      song_format_pop_1wk_lag2_mean_pct_chg  \\\n803                                     0.0   \n804                                     0.0   \n805                                     0.0   \n806                                     0.0   \n807                                     0.0   \n...                                     ...   \n1081                                    0.0   \n1082                                    0.0   \n1083                                    0.0   \n1084                                    0.0   \n1085                                    0.0   \n\n      count_song_format_pop_1wk_lag2_max_pct_chg  \\\n803                                          0.0   \n804                                          0.0   \n805                                          0.0   \n806                                          0.0   \n807                                          0.0   \n...                                          ...   \n1081                                         0.0   \n1082                                         0.0   \n1083                                         0.0   \n1084                                         0.0   \n1085                                         0.0   \n\n      song_station_pop_1wk_lag2_mean_pct_chg  \\\n803                                      0.0   \n804                                      0.0   \n805                                      0.0   \n806                                      0.0   \n807                                      0.0   \n...                                      ...   \n1081                                     0.0   \n1082                                     0.0   \n1083                                     0.0   \n1084                                     0.0   \n1085                                     0.0   \n\n      song_station_ddl_1wk_lag3_mean_pct_chg  ...  \\\n803                                      0.0  ...   \n804                                      0.0  ...   \n805                                      0.0  ...   \n806                                      0.0  ...   \n807                                      0.0  ...   \n...                                      ...  ...   \n1081                                     0.0  ...   \n1082                                     0.0  ...   \n1083                                     0.0  ...   \n1084                                     0.0  ...   \n1085                                     0.0  ...   \n\n      song_station_spins_non_on_1wk_lag4_sum_pct_chg  \\\n803                                              0.0   \n804                                              0.0   \n805                                              0.0   \n806                                              0.0   \n807                                              0.0   \n...                                              ...   \n1081                                             0.0   \n1082                                             0.0   \n1083                                             0.0   \n1084                                             0.0   \n1085                                             0.0   \n\n      song_format_spins_non_on_1wk_lag1_mean_pct_chg  \\\n803                                              0.0   \n804                                              0.0   \n805                                              0.0   \n806                                              0.0   \n807                                              0.0   \n...                                              ...   \n1081                                             0.0   \n1082                                             0.0   \n1083                                             0.0   \n1084                                             0.0   \n1085                                             0.0   \n\n      artist_station_spins_am_pm_dr_1wk_lag3_sum_pct_chg  \\\n803                                                 0.0    \n804                                                 0.0    \n805                                                 0.0    \n806                                                 0.0    \n807                                                 0.0    \n...                                                 ...    \n1081                                                0.0    \n1082                                                0.0    \n1083                                                0.0    \n1084                                                0.0    \n1085                                                0.0    \n\n      artist_station_spins_non_on_1wk_lag2_min_pct_chg  \\\n803                                                0.0   \n804                                                0.0   \n805                                                0.0   \n806                                                0.0   \n807                                                0.0   \n...                                                ...   \n1081                                               0.0   \n1082                                               0.0   \n1083                                               0.0   \n1084                                               0.0   \n1085                                               0.0   \n\n      artist_format_spins_non_on_1wk_lag4_min_pct_chg  \\\n803                                               0.0   \n804                                               0.0   \n805                                               0.0   \n806                                               0.0   \n807                                               0.0   \n...                                               ...   \n1081                                              0.0   \n1082                                              0.0   \n1083                                              0.0   \n1084                                              0.0   \n1085                                              0.0   \n\n      song_market_spins_non_on_1wk_lag1_max_pct_chg  \\\n803                                             0.0   \n804                                             0.0   \n805                                             0.0   \n806                                             0.0   \n807                                             0.0   \n...                                             ...   \n1081                                            0.0   \n1082                                            0.0   \n1083                                            0.0   \n1084                                            0.0   \n1085                                            0.0   \n\n      song_market_spins_non_on_1wk_lag1_mean_pct_chg  \\\n803                                              0.0   \n804                                              0.0   \n805                                              0.0   \n806                                              0.0   \n807                                              0.0   \n...                                              ...   \n1081                                             0.0   \n1082                                             0.0   \n1083                                             0.0   \n1084                                             0.0   \n1085                                             0.0   \n\n      artist_station_spins_am_pm_dr_1wk_lag2_min_pct_chg  \\\n803                                                 0.0    \n804                                                 0.0    \n805                                                 0.0    \n806                                                 0.0    \n807                                                 0.0    \n...                                                 ...    \n1081                                                0.0    \n1082                                                0.0    \n1083                                                0.0    \n1084                                                0.0    \n1085                                                0.0    \n\n      artist_station_spins_non_on_1wk_lag3_sum_pct_chg  \\\n803                                                0.0   \n804                                                0.0   \n805                                                0.0   \n806                                                0.0   \n807                                                0.0   \n...                                                ...   \n1081                                               0.0   \n1082                                               0.0   \n1083                                               0.0   \n1084                                               0.0   \n1085                                               0.0   \n\n      artist_market_spins_am_pm_dr_1wk_lag3_max_pct_chg  \n803                                                 0.0  \n804                                                 0.0  \n805                                                 0.0  \n806                                                 0.0  \n807                                                 0.0  \n...                                                 ...  \n1081                                                0.0  \n1082                                                0.0  \n1083                                                0.0  \n1084                                                0.0  \n1085                                                0.0  \n\n[283 rows x 328 columns]",
      "text/html": "<div>\n<style scoped>\n    .dataframe tbody tr th:only-of-type {\n        vertical-align: middle;\n    }\n\n    .dataframe tbody tr th {\n        vertical-align: top;\n    }\n\n    .dataframe thead th {\n        text-align: right;\n    }\n</style>\n<table border=\"1\" class=\"dataframe\">\n  <thead>\n    <tr style=\"text-align: right;\">\n      <th></th>\n      <th>mediabase_id</th>\n      <th>call_letters</th>\n      <th>week_dt</th>\n      <th>weeks_since_hit</th>\n      <th>artist_format_ddl_1wk_lag2_min_pct_chg</th>\n      <th>artist_format_ddl_1wk_lag4_mean_pct_chg</th>\n      <th>song_format_pop_1wk_lag2_mean_pct_chg</th>\n      <th>count_song_format_pop_1wk_lag2_max_pct_chg</th>\n      <th>song_station_pop_1wk_lag2_mean_pct_chg</th>\n      <th>song_station_ddl_1wk_lag3_mean_pct_chg</th>\n      <th>...</th>\n      <th>song_station_spins_non_on_1wk_lag4_sum_pct_chg</th>\n      <th>song_format_spins_non_on_1wk_lag1_mean_pct_chg</th>\n      <th>artist_station_spins_am_pm_dr_1wk_lag3_sum_pct_chg</th>\n      <th>artist_station_spins_non_on_1wk_lag2_min_pct_chg</th>\n      <th>artist_format_spins_non_on_1wk_lag4_min_pct_chg</th>\n      <th>song_market_spins_non_on_1wk_lag1_max_pct_chg</th>\n      <th>song_market_spins_non_on_1wk_lag1_mean_pct_chg</th>\n      <th>artist_station_spins_am_pm_dr_1wk_lag2_min_pct_chg</th>\n      <th>artist_station_spins_non_on_1wk_lag3_sum_pct_chg</th>\n      <th>artist_market_spins_am_pm_dr_1wk_lag3_max_pct_chg</th>\n    </tr>\n  </thead>\n  <tbody>\n    <tr>\n      <th>803</th>\n      <td>2211649</td>\n      <td>WDCG-FM</td>\n      <td>2017-10-29</td>\n      <td>1.0</td>\n      <td>0.0</td>\n      <td>0.0</td>\n      <td>0.0</td>\n      <td>0.0</td>\n      <td>0.0</td>\n      <td>0.0</td>\n      <td>...</td>\n      <td>0.0</td>\n      <td>0.0</td>\n      <td>0.0</td>\n      <td>0.0</td>\n      <td>0.0</td>\n      <td>0.0</td>\n      <td>0.0</td>\n      <td>0.0</td>\n      <td>0.0</td>\n      <td>0.0</td>\n    </tr>\n    <tr>\n      <th>804</th>\n      <td>2211649</td>\n      <td>WDCG-FM</td>\n      <td>2017-11-05</td>\n      <td>2.0</td>\n      <td>0.0</td>\n      <td>0.0</td>\n      <td>0.0</td>\n      <td>0.0</td>\n      <td>0.0</td>\n      <td>0.0</td>\n      <td>...</td>\n      <td>0.0</td>\n      <td>0.0</td>\n      <td>0.0</td>\n      <td>0.0</td>\n      <td>0.0</td>\n      <td>0.0</td>\n      <td>0.0</td>\n      <td>0.0</td>\n      <td>0.0</td>\n      <td>0.0</td>\n    </tr>\n    <tr>\n      <th>805</th>\n      <td>2211649</td>\n      <td>WDCG-FM</td>\n      <td>2017-11-12</td>\n      <td>3.0</td>\n      <td>0.0</td>\n      <td>0.0</td>\n      <td>0.0</td>\n      <td>0.0</td>\n      <td>0.0</td>\n      <td>0.0</td>\n      <td>...</td>\n      <td>0.0</td>\n      <td>0.0</td>\n      <td>0.0</td>\n      <td>0.0</td>\n      <td>0.0</td>\n      <td>0.0</td>\n      <td>0.0</td>\n      <td>0.0</td>\n      <td>0.0</td>\n      <td>0.0</td>\n    </tr>\n    <tr>\n      <th>806</th>\n      <td>2211649</td>\n      <td>WDCG-FM</td>\n      <td>2017-11-19</td>\n      <td>4.0</td>\n      <td>0.0</td>\n      <td>0.0</td>\n      <td>0.0</td>\n      <td>0.0</td>\n      <td>0.0</td>\n      <td>0.0</td>\n      <td>...</td>\n      <td>0.0</td>\n      <td>0.0</td>\n      <td>0.0</td>\n      <td>0.0</td>\n      <td>0.0</td>\n      <td>0.0</td>\n      <td>0.0</td>\n      <td>0.0</td>\n      <td>0.0</td>\n      <td>0.0</td>\n    </tr>\n    <tr>\n      <th>807</th>\n      <td>2211649</td>\n      <td>WDCG-FM</td>\n      <td>2017-11-26</td>\n      <td>5.0</td>\n      <td>0.0</td>\n      <td>0.0</td>\n      <td>0.0</td>\n      <td>0.0</td>\n      <td>0.0</td>\n      <td>0.0</td>\n      <td>...</td>\n      <td>0.0</td>\n      <td>0.0</td>\n      <td>0.0</td>\n      <td>0.0</td>\n      <td>0.0</td>\n      <td>0.0</td>\n      <td>0.0</td>\n      <td>0.0</td>\n      <td>0.0</td>\n      <td>0.0</td>\n    </tr>\n    <tr>\n      <th>...</th>\n      <td>...</td>\n      <td>...</td>\n      <td>...</td>\n      <td>...</td>\n      <td>...</td>\n      <td>...</td>\n      <td>...</td>\n      <td>...</td>\n      <td>...</td>\n      <td>...</td>\n      <td>...</td>\n      <td>...</td>\n      <td>...</td>\n      <td>...</td>\n      <td>...</td>\n      <td>...</td>\n      <td>...</td>\n      <td>...</td>\n      <td>...</td>\n      <td>...</td>\n      <td>...</td>\n    </tr>\n    <tr>\n      <th>1081</th>\n      <td>2211649</td>\n      <td>WDCG-FM</td>\n      <td>2023-02-26</td>\n      <td>279.0</td>\n      <td>0.0</td>\n      <td>0.0</td>\n      <td>0.0</td>\n      <td>0.0</td>\n      <td>0.0</td>\n      <td>0.0</td>\n      <td>...</td>\n      <td>0.0</td>\n      <td>0.0</td>\n      <td>0.0</td>\n      <td>0.0</td>\n      <td>0.0</td>\n      <td>0.0</td>\n      <td>0.0</td>\n      <td>0.0</td>\n      <td>0.0</td>\n      <td>0.0</td>\n    </tr>\n    <tr>\n      <th>1082</th>\n      <td>2211649</td>\n      <td>WDCG-FM</td>\n      <td>2023-03-05</td>\n      <td>280.0</td>\n      <td>0.0</td>\n      <td>0.0</td>\n      <td>0.0</td>\n      <td>0.0</td>\n      <td>0.0</td>\n      <td>0.0</td>\n      <td>...</td>\n      <td>0.0</td>\n      <td>0.0</td>\n      <td>0.0</td>\n      <td>0.0</td>\n      <td>0.0</td>\n      <td>0.0</td>\n      <td>0.0</td>\n      <td>0.0</td>\n      <td>0.0</td>\n      <td>0.0</td>\n    </tr>\n    <tr>\n      <th>1083</th>\n      <td>2211649</td>\n      <td>WDCG-FM</td>\n      <td>2023-03-12</td>\n      <td>281.0</td>\n      <td>0.0</td>\n      <td>0.0</td>\n      <td>0.0</td>\n      <td>0.0</td>\n      <td>0.0</td>\n      <td>0.0</td>\n      <td>...</td>\n      <td>0.0</td>\n      <td>0.0</td>\n      <td>0.0</td>\n      <td>0.0</td>\n      <td>0.0</td>\n      <td>0.0</td>\n      <td>0.0</td>\n      <td>0.0</td>\n      <td>0.0</td>\n      <td>0.0</td>\n    </tr>\n    <tr>\n      <th>1084</th>\n      <td>2211649</td>\n      <td>WDCG-FM</td>\n      <td>2023-03-19</td>\n      <td>282.0</td>\n      <td>0.0</td>\n      <td>0.0</td>\n      <td>0.0</td>\n      <td>0.0</td>\n      <td>0.0</td>\n      <td>0.0</td>\n      <td>...</td>\n      <td>0.0</td>\n      <td>0.0</td>\n      <td>0.0</td>\n      <td>0.0</td>\n      <td>0.0</td>\n      <td>0.0</td>\n      <td>0.0</td>\n      <td>0.0</td>\n      <td>0.0</td>\n      <td>0.0</td>\n    </tr>\n    <tr>\n      <th>1085</th>\n      <td>2211649</td>\n      <td>WDCG-FM</td>\n      <td>2023-03-26</td>\n      <td>283.0</td>\n      <td>0.0</td>\n      <td>0.0</td>\n      <td>0.0</td>\n      <td>0.0</td>\n      <td>0.0</td>\n      <td>0.0</td>\n      <td>...</td>\n      <td>0.0</td>\n      <td>0.0</td>\n      <td>0.0</td>\n      <td>0.0</td>\n      <td>0.0</td>\n      <td>0.0</td>\n      <td>0.0</td>\n      <td>0.0</td>\n      <td>0.0</td>\n      <td>0.0</td>\n    </tr>\n  </tbody>\n</table>\n<p>283 rows × 328 columns</p>\n</div>"
     },
     "execution_count": 306,
     "metadata": {},
     "output_type": "execute_result"
    }
   ],
   "source": [
    "df_sub"
   ],
   "metadata": {
    "collapsed": false,
    "pycharm": {
     "name": "#%%\n"
    }
   }
  },
  {
   "cell_type": "code",
   "execution_count": 89,
   "outputs": [
    {
     "data": {
      "text/plain": "        mediabase_id call_letters    week_dt  weeks_since_hit  \\\n0            1086587      KHTS-FM 2022-06-12            -19.0   \n1            1086587      KHTS-FM 2022-06-19            -18.0   \n2            1086587      KHTS-FM 2022-06-26            -17.0   \n3            1086587      KHTS-FM 2022-07-03            -16.0   \n4            1086587      KHTS-FM 2022-07-10            -15.0   \n...              ...          ...        ...              ...   \n656334       2865765      WZFT-FM 2023-02-26              3.0   \n656335       2865765      WZFT-FM 2023-03-05              4.0   \n656336       2865765      WZFT-FM 2023-03-12              5.0   \n656337       2865765      WZFT-FM 2023-03-19              6.0   \n656338       2865765      WZFT-FM 2023-03-26              7.0   \n\n        song_format_fav_1wk_lag1_max_pct_chg  \\\n0                                   0.000000   \n1                                   0.000000   \n2                                  -0.133333   \n3                                   0.000000   \n4                                  -0.038462   \n...                                      ...   \n656334                              0.250000   \n656335                             -0.066667   \n656336                             -0.035714   \n656337                             -0.074074   \n656338                              0.120000   \n\n        count_artist_format_pop_1wk_lag2_max_pct_chg  \\\n0                                           0.000000   \n1                                           0.000000   \n2                                           0.000000   \n3                                           5.000000   \n4                                           0.000000   \n...                                              ...   \n656334                                     -0.421053   \n656335                                      0.545455   \n656336                                     -0.117647   \n656337                                      0.533333   \n656338                                     -0.217391   \n\n        song_station_pop_1wk_lag2_mean_pct_chg  \\\n0                                     0.000000   \n1                                     0.000000   \n2                                     0.000000   \n3                                     0.000000   \n4                                     0.000000   \n...                                        ...   \n656334                                0.000000   \n656335                                0.000000   \n656336                                0.000000   \n656337                               -0.085366   \n656338                                0.000000   \n\n        count_song_format_pop_1wk_lag3_mean_pct_chg  \\\n0                                          0.000000   \n1                                          0.000000   \n2                                          0.000000   \n3                                          0.000000   \n4                                          5.000000   \n...                                             ...   \n656334                                     0.666667   \n656335                                    -0.400000   \n656336                                     0.555556   \n656337                                    -0.142857   \n656338                                     0.333333   \n\n        count_artist_format_pop_1wk_lag3_max_pct_chg  \\\n0                                           0.000000   \n1                                           0.000000   \n2                                           0.000000   \n3                                           0.000000   \n4                                           5.000000   \n...                                              ...   \n656334                                      0.583333   \n656335                                     -0.421053   \n656336                                      0.545455   \n656337                                     -0.117647   \n656338                                      0.533333   \n\n        artist_format_ddl_1wk_lag3_min_pct_chg  ...  \\\n0                                     0.000000  ...   \n1                                     0.000000  ...   \n2                                     0.000000  ...   \n3                                     0.000000  ...   \n4                                     1.000000  ...   \n...                                        ...  ...   \n656334                                0.000000  ...   \n656335                                0.000000  ...   \n656336                                0.285714  ...   \n656337                               -0.111111  ...   \n656338                                0.125000  ...   \n\n        artist_format_spins_non_on_1wk_lag3_max_pct_chg  \\\n0                                              0.000000   \n1                                              0.000000   \n2                                              0.000000   \n3                                              0.000000   \n4                                              1.963892   \n...                                                 ...   \n656334                                         0.147008   \n656335                                         0.087550   \n656336                                         0.101049   \n656337                                         0.108622   \n656338                                         0.100537   \n\n        song_format_spins_non_on_1wk_lag4_min_pct_chg  \\\n0                                            0.000000   \n1                                            0.000000   \n2                                            0.000000   \n3                                            0.000000   \n4                                            0.000000   \n...                                               ...   \n656334                                       0.223988   \n656335                                       0.183802   \n656336                                       0.106647   \n656337                                       0.131620   \n656338                                       0.135141   \n\n        song_format_spins_non_on_1wk_lag3_sum_pct_chg  \\\n0                                            0.000000   \n1                                            0.000000   \n2                                            0.000000   \n3                                            0.000000   \n4                                            1.963892   \n...                                               ...   \n656334                                       0.183802   \n656335                                       0.106647   \n656336                                       0.131620   \n656337                                       0.135141   \n656338                                       0.147450   \n\n        song_station_spins_non_on_1wk_lag3_max_pct_chg  \\\n0                                             0.000000   \n1                                             0.000000   \n2                                             0.000000   \n3                                             0.000000   \n4                                             0.454545   \n...                                                ...   \n656334                                        0.075758   \n656335                                        0.070423   \n656336                                        0.052632   \n656337                                        0.137500   \n656338                                        0.065934   \n\n        artist_market_spins_non_on_1wk_lag2_min_pct_chg  \\\n0                                              0.000000   \n1                                              0.000000   \n2                                              0.000000   \n3                                              0.377778   \n4                                              0.161290   \n...                                                 ...   \n656334                                         0.012579   \n656335                                         0.124224   \n656336                                         0.287293   \n656337                                        -0.008584   \n656338                                        -0.073593   \n\n        song_station_spins_non_on_1wk_lag1_sum_pct_chg  \\\n0                                             0.000000   \n1                                             0.000000   \n2                                             0.454545   \n3                                             0.187500   \n4                                             0.631579   \n...                                                ...   \n656334                                        0.052632   \n656335                                        0.137500   \n656336                                        0.065934   \n656337                                       -0.061856   \n656338                                        0.032967   \n\n        song_market_spins_am_pm_dr_1wk_lag3_max_pct_chg  \\\n0                                              0.000000   \n1                                              0.000000   \n2                                              0.000000   \n3                                              0.000000   \n4                                              0.318182   \n...                                                 ...   \n656334                                         0.126984   \n656335                                        -0.042254   \n656336                                         0.044118   \n656337                                         0.183099   \n656338                                         0.190476   \n\n        song_format_spins_am_pm_dr_1wk_lag3_mean_pct_chg  \\\n0                                               0.000000   \n1                                               0.000000   \n2                                               0.000000   \n3                                               0.000000   \n4                                               1.814093   \n...                                                  ...   \n656334                                          0.213575   \n656335                                          0.125234   \n656336                                          0.146307   \n656337                                          0.130978   \n656338                                          0.156712   \n\n        artist_station_spins_am_pm_dr_1wk_lag3_mean_pct_chg  \\\n0                                                0.000000     \n1                                                0.000000     \n2                                                0.000000     \n3                                                0.000000     \n4                                                0.000000     \n...                                                   ...     \n656334                                           0.125000     \n656335                                           0.074074     \n656336                                           0.431034     \n656337                                           0.361446     \n656338                                          -0.026549     \n\n        artist_station_spins_non_on_1wk_lag1_mean_pct_chg  \n0                                                0.000000  \n1                                                0.000000  \n2                                                0.454545  \n3                                                0.187500  \n4                                                0.631579  \n...                                                   ...  \n656334                                           0.287234  \n656335                                           0.314050  \n656336                                          -0.050314  \n656337                                          -0.105960  \n656338                                           0.044444  \n\n[656339 rows x 328 columns]",
      "text/html": "<div>\n<style scoped>\n    .dataframe tbody tr th:only-of-type {\n        vertical-align: middle;\n    }\n\n    .dataframe tbody tr th {\n        vertical-align: top;\n    }\n\n    .dataframe thead th {\n        text-align: right;\n    }\n</style>\n<table border=\"1\" class=\"dataframe\">\n  <thead>\n    <tr style=\"text-align: right;\">\n      <th></th>\n      <th>mediabase_id</th>\n      <th>call_letters</th>\n      <th>week_dt</th>\n      <th>weeks_since_hit</th>\n      <th>song_format_fav_1wk_lag1_max_pct_chg</th>\n      <th>count_artist_format_pop_1wk_lag2_max_pct_chg</th>\n      <th>song_station_pop_1wk_lag2_mean_pct_chg</th>\n      <th>count_song_format_pop_1wk_lag3_mean_pct_chg</th>\n      <th>count_artist_format_pop_1wk_lag3_max_pct_chg</th>\n      <th>artist_format_ddl_1wk_lag3_min_pct_chg</th>\n      <th>...</th>\n      <th>artist_format_spins_non_on_1wk_lag3_max_pct_chg</th>\n      <th>song_format_spins_non_on_1wk_lag4_min_pct_chg</th>\n      <th>song_format_spins_non_on_1wk_lag3_sum_pct_chg</th>\n      <th>song_station_spins_non_on_1wk_lag3_max_pct_chg</th>\n      <th>artist_market_spins_non_on_1wk_lag2_min_pct_chg</th>\n      <th>song_station_spins_non_on_1wk_lag1_sum_pct_chg</th>\n      <th>song_market_spins_am_pm_dr_1wk_lag3_max_pct_chg</th>\n      <th>song_format_spins_am_pm_dr_1wk_lag3_mean_pct_chg</th>\n      <th>artist_station_spins_am_pm_dr_1wk_lag3_mean_pct_chg</th>\n      <th>artist_station_spins_non_on_1wk_lag1_mean_pct_chg</th>\n    </tr>\n  </thead>\n  <tbody>\n    <tr>\n      <th>0</th>\n      <td>1086587</td>\n      <td>KHTS-FM</td>\n      <td>2022-06-12</td>\n      <td>-19.0</td>\n      <td>0.000000</td>\n      <td>0.000000</td>\n      <td>0.000000</td>\n      <td>0.000000</td>\n      <td>0.000000</td>\n      <td>0.000000</td>\n      <td>...</td>\n      <td>0.000000</td>\n      <td>0.000000</td>\n      <td>0.000000</td>\n      <td>0.000000</td>\n      <td>0.000000</td>\n      <td>0.000000</td>\n      <td>0.000000</td>\n      <td>0.000000</td>\n      <td>0.000000</td>\n      <td>0.000000</td>\n    </tr>\n    <tr>\n      <th>1</th>\n      <td>1086587</td>\n      <td>KHTS-FM</td>\n      <td>2022-06-19</td>\n      <td>-18.0</td>\n      <td>0.000000</td>\n      <td>0.000000</td>\n      <td>0.000000</td>\n      <td>0.000000</td>\n      <td>0.000000</td>\n      <td>0.000000</td>\n      <td>...</td>\n      <td>0.000000</td>\n      <td>0.000000</td>\n      <td>0.000000</td>\n      <td>0.000000</td>\n      <td>0.000000</td>\n      <td>0.000000</td>\n      <td>0.000000</td>\n      <td>0.000000</td>\n      <td>0.000000</td>\n      <td>0.000000</td>\n    </tr>\n    <tr>\n      <th>2</th>\n      <td>1086587</td>\n      <td>KHTS-FM</td>\n      <td>2022-06-26</td>\n      <td>-17.0</td>\n      <td>-0.133333</td>\n      <td>0.000000</td>\n      <td>0.000000</td>\n      <td>0.000000</td>\n      <td>0.000000</td>\n      <td>0.000000</td>\n      <td>...</td>\n      <td>0.000000</td>\n      <td>0.000000</td>\n      <td>0.000000</td>\n      <td>0.000000</td>\n      <td>0.000000</td>\n      <td>0.454545</td>\n      <td>0.000000</td>\n      <td>0.000000</td>\n      <td>0.000000</td>\n      <td>0.454545</td>\n    </tr>\n    <tr>\n      <th>3</th>\n      <td>1086587</td>\n      <td>KHTS-FM</td>\n      <td>2022-07-03</td>\n      <td>-16.0</td>\n      <td>0.000000</td>\n      <td>5.000000</td>\n      <td>0.000000</td>\n      <td>0.000000</td>\n      <td>0.000000</td>\n      <td>0.000000</td>\n      <td>...</td>\n      <td>0.000000</td>\n      <td>0.000000</td>\n      <td>0.000000</td>\n      <td>0.000000</td>\n      <td>0.377778</td>\n      <td>0.187500</td>\n      <td>0.000000</td>\n      <td>0.000000</td>\n      <td>0.000000</td>\n      <td>0.187500</td>\n    </tr>\n    <tr>\n      <th>4</th>\n      <td>1086587</td>\n      <td>KHTS-FM</td>\n      <td>2022-07-10</td>\n      <td>-15.0</td>\n      <td>-0.038462</td>\n      <td>0.000000</td>\n      <td>0.000000</td>\n      <td>5.000000</td>\n      <td>5.000000</td>\n      <td>1.000000</td>\n      <td>...</td>\n      <td>1.963892</td>\n      <td>0.000000</td>\n      <td>1.963892</td>\n      <td>0.454545</td>\n      <td>0.161290</td>\n      <td>0.631579</td>\n      <td>0.318182</td>\n      <td>1.814093</td>\n      <td>0.000000</td>\n      <td>0.631579</td>\n    </tr>\n    <tr>\n      <th>...</th>\n      <td>...</td>\n      <td>...</td>\n      <td>...</td>\n      <td>...</td>\n      <td>...</td>\n      <td>...</td>\n      <td>...</td>\n      <td>...</td>\n      <td>...</td>\n      <td>...</td>\n      <td>...</td>\n      <td>...</td>\n      <td>...</td>\n      <td>...</td>\n      <td>...</td>\n      <td>...</td>\n      <td>...</td>\n      <td>...</td>\n      <td>...</td>\n      <td>...</td>\n      <td>...</td>\n    </tr>\n    <tr>\n      <th>656334</th>\n      <td>2865765</td>\n      <td>WZFT-FM</td>\n      <td>2023-02-26</td>\n      <td>3.0</td>\n      <td>0.250000</td>\n      <td>-0.421053</td>\n      <td>0.000000</td>\n      <td>0.666667</td>\n      <td>0.583333</td>\n      <td>0.000000</td>\n      <td>...</td>\n      <td>0.147008</td>\n      <td>0.223988</td>\n      <td>0.183802</td>\n      <td>0.075758</td>\n      <td>0.012579</td>\n      <td>0.052632</td>\n      <td>0.126984</td>\n      <td>0.213575</td>\n      <td>0.125000</td>\n      <td>0.287234</td>\n    </tr>\n    <tr>\n      <th>656335</th>\n      <td>2865765</td>\n      <td>WZFT-FM</td>\n      <td>2023-03-05</td>\n      <td>4.0</td>\n      <td>-0.066667</td>\n      <td>0.545455</td>\n      <td>0.000000</td>\n      <td>-0.400000</td>\n      <td>-0.421053</td>\n      <td>0.000000</td>\n      <td>...</td>\n      <td>0.087550</td>\n      <td>0.183802</td>\n      <td>0.106647</td>\n      <td>0.070423</td>\n      <td>0.124224</td>\n      <td>0.137500</td>\n      <td>-0.042254</td>\n      <td>0.125234</td>\n      <td>0.074074</td>\n      <td>0.314050</td>\n    </tr>\n    <tr>\n      <th>656336</th>\n      <td>2865765</td>\n      <td>WZFT-FM</td>\n      <td>2023-03-12</td>\n      <td>5.0</td>\n      <td>-0.035714</td>\n      <td>-0.117647</td>\n      <td>0.000000</td>\n      <td>0.555556</td>\n      <td>0.545455</td>\n      <td>0.285714</td>\n      <td>...</td>\n      <td>0.101049</td>\n      <td>0.106647</td>\n      <td>0.131620</td>\n      <td>0.052632</td>\n      <td>0.287293</td>\n      <td>0.065934</td>\n      <td>0.044118</td>\n      <td>0.146307</td>\n      <td>0.431034</td>\n      <td>-0.050314</td>\n    </tr>\n    <tr>\n      <th>656337</th>\n      <td>2865765</td>\n      <td>WZFT-FM</td>\n      <td>2023-03-19</td>\n      <td>6.0</td>\n      <td>-0.074074</td>\n      <td>0.533333</td>\n      <td>-0.085366</td>\n      <td>-0.142857</td>\n      <td>-0.117647</td>\n      <td>-0.111111</td>\n      <td>...</td>\n      <td>0.108622</td>\n      <td>0.131620</td>\n      <td>0.135141</td>\n      <td>0.137500</td>\n      <td>-0.008584</td>\n      <td>-0.061856</td>\n      <td>0.183099</td>\n      <td>0.130978</td>\n      <td>0.361446</td>\n      <td>-0.105960</td>\n    </tr>\n    <tr>\n      <th>656338</th>\n      <td>2865765</td>\n      <td>WZFT-FM</td>\n      <td>2023-03-26</td>\n      <td>7.0</td>\n      <td>0.120000</td>\n      <td>-0.217391</td>\n      <td>0.000000</td>\n      <td>0.333333</td>\n      <td>0.533333</td>\n      <td>0.125000</td>\n      <td>...</td>\n      <td>0.100537</td>\n      <td>0.135141</td>\n      <td>0.147450</td>\n      <td>0.065934</td>\n      <td>-0.073593</td>\n      <td>0.032967</td>\n      <td>0.190476</td>\n      <td>0.156712</td>\n      <td>-0.026549</td>\n      <td>0.044444</td>\n    </tr>\n  </tbody>\n</table>\n<p>656339 rows × 328 columns</p>\n</div>"
     },
     "execution_count": 89,
     "metadata": {},
     "output_type": "execute_result"
    }
   ],
   "source": [
    "df_pct_chg_features"
   ],
   "metadata": {
    "collapsed": false,
    "pycharm": {
     "name": "#%%\n"
    }
   }
  },
  {
   "cell_type": "code",
   "execution_count": 37,
   "outputs": [],
   "source": [
    "df_temp_features.to_pickle('ebw_temp_features_with_chg_h1.pkl')"
   ],
   "metadata": {
    "collapsed": false,
    "pycharm": {
     "name": "#%%\n"
    }
   }
  },
  {
   "cell_type": "markdown",
   "source": [
    "##### A/B/C Classfn"
   ],
   "metadata": {
    "collapsed": false
   }
  },
  {
   "cell_type": "code",
   "execution_count": 40,
   "outputs": [],
   "source": [
    "query_abc_classfn ='''\n",
    "SELECT\n",
    "    essch.*, eh.category\n",
    "FROM\n",
    "    adds_temp.ebw_song_station_calendar_h1 AS essch\n",
    "     join adds_temp.ebw_abc_status_tracker_with_end_h1 as eh\n",
    "    on eh.call_letters=essch.call_letters\n",
    "    and eh.mediabase_id=essch.mediabase_id\n",
    "    and essch.week_dt >= eh.assignment_date\n",
    "    and essch.week_dt <= eh.assignment_date_end\n",
    "where extract(year from essch.song_release_date) >= 2020\n",
    "and song_release_date <= '2022-05-31'\n",
    "'''\n",
    "\n",
    "with engine.connect() as conn:\n",
    "    with conn.begin():\n",
    "        df_abc_classfn = pd.read_sql(query_abc_classfn, conn)"
   ],
   "metadata": {
    "collapsed": false,
    "pycharm": {
     "name": "#%%\n"
    }
   }
  },
  {
   "cell_type": "code",
   "execution_count": null,
   "outputs": [],
   "source": [],
   "metadata": {
    "collapsed": false,
    "pycharm": {
     "name": "#%%\n"
    }
   }
  },
  {
   "cell_type": "code",
   "execution_count": 41,
   "outputs": [],
   "source": [
    "df_abc_classfn['week_dt'] = pd.to_datetime(df_abc_classfn['week_dt'])"
   ],
   "metadata": {
    "collapsed": false,
    "pycharm": {
     "name": "#%%\n"
    }
   }
  },
  {
   "cell_type": "code",
   "execution_count": 42,
   "outputs": [],
   "source": [
    "df_abc_classfn = df_abc_classfn.join(df_raw_features.set_index(['call_letters', 'mediabase_id', 'week_dt'])['weeks_since_hit'], on=['call_letters', 'mediabase_id', 'week_dt'], how='left')"
   ],
   "metadata": {
    "collapsed": false,
    "pycharm": {
     "name": "#%%\n"
    }
   }
  },
  {
   "cell_type": "code",
   "execution_count": 43,
   "outputs": [],
   "source": [
    "df_abc_classfn.sort_values(by=['call_letters', 'mediabase_id', 'week_dt'], inplace=True)"
   ],
   "metadata": {
    "collapsed": false,
    "pycharm": {
     "name": "#%%\n"
    }
   }
  },
  {
   "cell_type": "code",
   "execution_count": 44,
   "outputs": [],
   "source": [
    "df_abc_classfn['category_new'] = df_abc_classfn['category'].apply(lambda x: x if x in ['A', 'B', 'C', 'D'] else 'Other')"
   ],
   "metadata": {
    "collapsed": false,
    "pycharm": {
     "name": "#%%\n"
    }
   }
  },
  {
   "cell_type": "code",
   "execution_count": 50,
   "outputs": [],
   "source": [
    "df_classfn_ratios = df_abc_classfn[df_abc_classfn['weeks_since_hit'] > 0].groupby(['weeks_since_hit', 'category_new'])['mediabase_id'].count()/(df_abc_classfn[df_abc_classfn['weeks_since_hit'] > 0].groupby(['weeks_since_hit'])['mediabase_id'].count())"
   ],
   "metadata": {
    "collapsed": false,
    "pycharm": {
     "name": "#%%\n"
    }
   }
  },
  {
   "cell_type": "code",
   "execution_count": 55,
   "outputs": [],
   "source": [
    "df_classfn_ratios_pvt = df_classfn_ratios.reset_index().pivot_table(index=['weeks_since_hit'], columns=['category_new'], values=['mediabase_id'])"
   ],
   "metadata": {
    "collapsed": false,
    "pycharm": {
     "name": "#%%\n"
    }
   }
  },
  {
   "cell_type": "code",
   "execution_count": 57,
   "outputs": [],
   "source": [
    "df_classfn_ratios_pvt.columns = ['A', 'B', 'C', 'D', 'Other']"
   ],
   "metadata": {
    "collapsed": false,
    "pycharm": {
     "name": "#%%\n"
    }
   }
  },
  {
   "cell_type": "code",
   "execution_count": 77,
   "outputs": [],
   "source": [
    "df_classfn_ratios_pvt.fillna(0, inplace=True)"
   ],
   "metadata": {
    "collapsed": false,
    "pycharm": {
     "name": "#%%\n"
    }
   }
  },
  {
   "cell_type": "code",
   "execution_count": 61,
   "outputs": [
    {
     "data": {
      "text/plain": "Float64Index([  1.0,   2.0,   3.0,   4.0,   5.0,   6.0,   7.0,   8.0,   9.0,\n               10.0,\n              ...\n              141.0, 142.0, 143.0, 144.0, 145.0, 146.0, 147.0, 148.0, 149.0,\n              150.0],\n             dtype='float64', name='weeks_since_hit', length=150)"
     },
     "execution_count": 61,
     "metadata": {},
     "output_type": "execute_result"
    }
   ],
   "source": [
    "df_classfn_ratios_pvt.index"
   ],
   "metadata": {
    "collapsed": false,
    "pycharm": {
     "name": "#%%\n"
    }
   }
  },
  {
   "cell_type": "code",
   "execution_count": 84,
   "outputs": [
    {
     "data": {
      "text/plain": "Float64Index([  1.0,   2.0,   3.0,   4.0,   5.0,   6.0,   7.0,   8.0,   9.0,\n               10.0,\n              ...\n              141.0, 142.0, 143.0, 144.0, 145.0, 146.0, 147.0, 148.0, 149.0,\n              150.0],\n             dtype='float64', name='weeks_since_hit', length=150)"
     },
     "execution_count": 84,
     "metadata": {},
     "output_type": "execute_result"
    }
   ],
   "source": [
    "df_classfn_ratios_pvt.index"
   ],
   "metadata": {
    "collapsed": false,
    "pycharm": {
     "name": "#%%\n"
    }
   }
  },
  {
   "cell_type": "code",
   "execution_count": 89,
   "outputs": [
    {
     "data": {
      "text/plain": "<Figure size 640x480 with 1 Axes>",
      "image/png": "[encoded data removed]"
     },
     "metadata": {},
     "output_type": "display_data"
    }
   ],
   "source": [
    "import matplotlib.pyplot as plt\n",
    "plt.stackplot(df_classfn_ratios_pvt.index.values, 100*df_classfn_ratios_pvt.to_numpy().T, baseline='zero', labels=['A', 'B', 'C', 'D', 'Other'])\n",
    "plt.xlim([3, 52])\n",
    "plt.xlabel('weeks since hit')\n",
    "plt.ylabel('percent share by category')\n",
    "plt.legend()\n",
    "plt.savefig('abc_share_h1.jpeg', format='jpeg', dpi=300)"
   ],
   "metadata": {
    "collapsed": false,
    "pycharm": {
     "name": "#%%\n"
    }
   }
  },
  {
   "cell_type": "code",
   "execution_count": 70,
   "outputs": [
    {
     "data": {
      "text/plain": "array([[0.45893224, 0.10882957, 0.00616016, 0.13963039, 0.28644764],\n       [0.53869654, 0.0712831 , 0.00509165, 0.16191446, 0.22301426],\n       [0.51938776, 0.07346939, 0.00306122, 0.17244898, 0.23163265],\n       [0.45259939, 0.0764526 , 0.00407747, 0.19266055, 0.27420999],\n       [0.43398158, 0.07062436, 0.00511771, 0.18833163, 0.30194473],\n       [0.38696538, 0.05702648, 0.00509165, 0.2209776 , 0.3299389 ],\n       [0.36567926, 0.05413687, 0.0040858 , 0.23391216, 0.3421859 ],\n       [0.33705584, 0.05583756, 0.00203046, 0.2213198 , 0.38375635],\n       [0.32098765, 0.04938272, 0.00308642, 0.23868313, 0.38786008],\n       [0.29774127, 0.04825462, 0.00308008, 0.23819302, 0.41273101],\n       [0.29149378, 0.04045643, 0.00103734, 0.23443983, 0.43257261],\n       [0.26299376, 0.03534304,        nan, 0.25051975, 0.45114345],\n       [0.23229167, 0.02708333,        nan, 0.259375  , 0.48125   ],\n       [0.20820189, 0.01997897,        nan, 0.2597266 , 0.51209253],\n       [0.19017764, 0.02507837,        nan, 0.25496343, 0.52978056],\n       [0.19047619, 0.02070393,        nan, 0.23809524, 0.55072464],\n       [0.17101147, 0.0198123 ,        nan, 0.25234619, 0.55683003],\n       [0.15440415, 0.0134715 ,        nan, 0.25388601, 0.57823834],\n       [0.12578616, 0.01048218,        nan, 0.278826  , 0.58490566],\n       [0.1105318 , 0.01147028, 0.00104275, 0.28467153, 0.59228363],\n       [0.09312169, 0.01587302,        nan, 0.26560847, 0.62539683],\n       [0.09100529, 0.01164021,        nan, 0.25714286, 0.64021164],\n       [0.08200213, 0.01277955,        nan, 0.26091587, 0.64430245],\n       [0.07332625, 0.01168969,        nan, 0.26354942, 0.65143464],\n       [0.06148867, 0.01186624, 0.00107875, 0.25782093, 0.66774542],\n       [0.05591398, 0.00752688, 0.00107527, 0.25483871, 0.68064516],\n       [0.05411255, 0.00324675, 0.00108225, 0.24891775, 0.69264069],\n       [0.04366812, 0.00545852, 0.0010917 , 0.24126638, 0.70851528],\n       [0.0369164 , 0.00542888, 0.00108578, 0.24647123, 0.71009772],\n       [0.03107658, 0.00554939, 0.00110988, 0.23307436, 0.72918979],\n       [0.02552719, 0.00443951, 0.00110988, 0.23973363, 0.72918979],\n       [0.01567749, 0.00223964,        nan, 0.24636058, 0.73572228],\n       [0.01573034, 0.00337079,        nan, 0.23033708, 0.7505618 ],\n       [0.01247166, 0.00340136,        nan, 0.21428571, 0.76984127],\n       [0.01596351, 0.00342075,        nan, 0.21094641, 0.76966933],\n       [0.01144165, 0.00457666,        nan, 0.20022883, 0.78375286],\n       [0.01265823, 0.00575374,        nan, 0.17951669, 0.80207135],\n       [0.00929152, 0.00464576,        nan, 0.19047619, 0.79558653],\n       [0.00469484, 0.00352113,        nan, 0.17957746, 0.81220657],\n       [0.00352941, 0.00117647,        nan, 0.17058824, 0.82470588],\n       [0.00238379,        nan,        nan, 0.17520858, 0.82240763],\n       [0.00363196,        nan,        nan, 0.1622276 , 0.83414044],\n       [0.00243605,        nan,        nan, 0.17174178, 0.82582217],\n       [0.00376884,        nan,        nan, 0.15201005, 0.84422111],\n       [0.00373134,        nan,        nan, 0.14054726, 0.85572139],\n       [0.0025413 ,        nan,        nan, 0.1270648 , 0.8703939 ],\n       [0.00128535,        nan,        nan, 0.13367609, 0.86503856],\n       [0.00129199,        nan,        nan, 0.12015504, 0.87855297],\n       [0.00130208,        nan,        nan, 0.12760417, 0.87109375],\n       [0.00131752,        nan,        nan, 0.12779974, 0.87088274],\n       [       nan,        nan,        nan, 0.12566138, 0.87433862],\n       [       nan,        nan,        nan, 0.11198946, 0.88801054],\n       [       nan,        nan,        nan, 0.10294118, 0.89705882],\n       [       nan,        nan,        nan, 0.08433735, 0.91566265],\n       [       nan,        nan,        nan, 0.08038147, 0.91961853],\n       [       nan, 0.00138504,        nan, 0.09418283, 0.90443213],\n       [       nan,        nan,        nan, 0.09957924, 0.90042076],\n       [       nan,        nan,        nan, 0.09103841, 0.90896159],\n       [0.00142653,        nan,        nan, 0.08701854, 0.91155492],\n       [0.00146413,        nan,        nan, 0.07467057, 0.9238653 ],\n       [       nan,        nan,        nan, 0.07988166, 0.92011834],\n       [       nan, 0.00150602,        nan, 0.06475904, 0.93373494],\n       [       nan, 0.00152905,        nan, 0.07186544, 0.9266055 ],\n       [       nan, 0.00156006,        nan, 0.06396256, 0.93447738],\n       [       nan, 0.00158479,        nan, 0.05229794, 0.94611727],\n       [       nan, 0.00159744,        nan, 0.05750799, 0.94089457],\n       [       nan,        nan,        nan, 0.0589172 , 0.9410828 ],\n       [       nan,        nan,        nan, 0.05414013, 0.94585987],\n       [       nan,        nan,        nan, 0.0529695 , 0.9470305 ],\n       [       nan,        nan,        nan, 0.05140962, 0.94859038],\n       [       nan,        nan,        nan, 0.04340568, 0.95659432],\n       [       nan,        nan,        nan, 0.04530201, 0.95469799],\n       [       nan,        nan,        nan, 0.04482759, 0.95517241],\n       [       nan,        nan,        nan, 0.03819444, 0.96180556],\n       [       nan,        nan,        nan, 0.02807018, 0.97192982],\n       [       nan,        nan,        nan, 0.03448276, 0.96551724],\n       [       nan,        nan,        nan, 0.02747253, 0.97252747],\n       [       nan,        nan,        nan, 0.02448211, 0.97551789],\n       [       nan,        nan,        nan, 0.02884615, 0.97115385],\n       [       nan,        nan,        nan, 0.02777778, 0.97222222],\n       [       nan,        nan,        nan, 0.02244898, 0.97755102],\n       [       nan,        nan,        nan, 0.02898551, 0.97101449],\n       [       nan,        nan,        nan, 0.02725367, 0.97274633],\n       [       nan,        nan,        nan, 0.02320675, 0.97679325],\n       [       nan,        nan,        nan, 0.01952278, 0.98047722],\n       [       nan,        nan,        nan, 0.01106195, 0.98893805],\n       [       nan,        nan,        nan, 0.01587302, 0.98412698],\n       [0.00228833,        nan,        nan, 0.01372998, 0.98398169],\n       [       nan,        nan,        nan, 0.01909308, 0.98090692],\n       [       nan,        nan,        nan, 0.0248139 , 0.9751861 ],\n       [       nan,        nan,        nan, 0.01538462, 0.98461538],\n       [       nan,        nan,        nan, 0.00769231, 0.99230769],\n       [       nan,        nan,        nan, 0.01362398, 0.98637602],\n       [       nan,        nan,        nan, 0.00854701, 0.99145299],\n       [       nan,        nan,        nan, 0.01176471, 0.98823529],\n       [       nan,        nan,        nan, 0.00928793, 0.99071207],\n       [       nan,        nan,        nan, 0.00626959, 0.99373041],\n       [       nan,        nan,        nan, 0.00331126, 0.99668874],\n       [       nan,        nan,        nan, 0.00689655, 0.99310345],\n       [       nan,        nan,        nan, 0.01052632, 0.98947368],\n       [       nan,        nan,        nan, 0.003663  , 0.996337  ],\n       [       nan,        nan,        nan,        nan, 1.        ],\n       [       nan,        nan,        nan,        nan, 1.        ],\n       [       nan,        nan,        nan,        nan, 1.        ],\n       [       nan,        nan,        nan,        nan, 1.        ],\n       [       nan,        nan,        nan, 0.00462963, 0.99537037],\n       [       nan,        nan,        nan, 0.00473934, 0.99526066],\n       [       nan,        nan,        nan, 0.00502513, 0.99497487],\n       [       nan,        nan,        nan,        nan, 1.        ],\n       [       nan,        nan,        nan,        nan, 1.        ],\n       [       nan,        nan,        nan, 0.00621118, 0.99378882],\n       [       nan,        nan,        nan, 0.01273885, 0.98726115],\n       [       nan,        nan,        nan, 0.00675676, 0.99324324],\n       [       nan,        nan,        nan,        nan, 1.        ],\n       [       nan,        nan,        nan, 0.00934579, 0.99065421],\n       [       nan,        nan,        nan, 0.01010101, 0.98989899],\n       [       nan,        nan,        nan, 0.01190476, 0.98809524],\n       [       nan,        nan,        nan,        nan, 1.        ],\n       [       nan,        nan,        nan,        nan, 1.        ],\n       [       nan,        nan,        nan,        nan, 1.        ],\n       [       nan,        nan,        nan,        nan, 1.        ],\n       [       nan,        nan,        nan,        nan, 1.        ],\n       [       nan,        nan,        nan,        nan, 1.        ],\n       [       nan,        nan,        nan,        nan, 1.        ],\n       [       nan,        nan,        nan,        nan, 1.        ],\n       [       nan,        nan,        nan,        nan, 1.        ],\n       [       nan,        nan,        nan,        nan, 1.        ],\n       [       nan,        nan,        nan,        nan, 1.        ],\n       [       nan,        nan,        nan,        nan, 1.        ],\n       [       nan,        nan,        nan,        nan, 1.        ],\n       [       nan,        nan,        nan,        nan, 1.        ],\n       [       nan,        nan,        nan,        nan, 1.        ],\n       [       nan,        nan,        nan,        nan, 1.        ],\n       [       nan,        nan,        nan,        nan, 1.        ],\n       [       nan,        nan,        nan,        nan, 1.        ],\n       [       nan,        nan,        nan,        nan, 1.        ],\n       [       nan,        nan,        nan,        nan, 1.        ],\n       [       nan,        nan,        nan,        nan, 1.        ],\n       [       nan,        nan,        nan,        nan, 1.        ],\n       [       nan,        nan,        nan,        nan, 1.        ],\n       [       nan,        nan,        nan,        nan, 1.        ],\n       [       nan,        nan,        nan,        nan, 1.        ],\n       [       nan,        nan,        nan,        nan, 1.        ],\n       [       nan,        nan,        nan,        nan, 1.        ],\n       [       nan,        nan,        nan,        nan, 1.        ],\n       [       nan,        nan,        nan,        nan, 1.        ],\n       [       nan,        nan,        nan,        nan, 1.        ],\n       [       nan,        nan,        nan,        nan, 1.        ],\n       [       nan,        nan,        nan,        nan, 1.        ],\n       [       nan,        nan,        nan,        nan, 1.        ]])"
     },
     "execution_count": 70,
     "metadata": {},
     "output_type": "execute_result"
    }
   ],
   "source": [
    " df_classfn_ratios_pvt.to_numpy()"
   ],
   "metadata": {
    "collapsed": false,
    "pycharm": {
     "name": "#%%\n"
    }
   }
  },
  {
   "cell_type": "code",
   "execution_count": 47,
   "outputs": [
    {
     "data": {
      "text/plain": "      call_letters  mediabase_id\n25         KBKS-FM       2256903\n2142       KBKS-FM       2570716\n2294       KBKS-FM       2580292\n2628       KBKS-FM       2583267\n3132       KBKS-FM       2584541\n...            ...           ...\n76507      WZFT-FM       2750191\n76509      WZFT-FM       2754544\n98886      WZFT-FM       2794968\n98952      WZFT-FM       2797282\n98996      WZFT-FM       2804653\n\n[1025 rows x 2 columns]",
      "text/html": "<div>\n<style scoped>\n    .dataframe tbody tr th:only-of-type {\n        vertical-align: middle;\n    }\n\n    .dataframe tbody tr th {\n        vertical-align: top;\n    }\n\n    .dataframe thead th {\n        text-align: right;\n    }\n</style>\n<table border=\"1\" class=\"dataframe\">\n  <thead>\n    <tr style=\"text-align: right;\">\n      <th></th>\n      <th>call_letters</th>\n      <th>mediabase_id</th>\n    </tr>\n  </thead>\n  <tbody>\n    <tr>\n      <th>25</th>\n      <td>KBKS-FM</td>\n      <td>2256903</td>\n    </tr>\n    <tr>\n      <th>2142</th>\n      <td>KBKS-FM</td>\n      <td>2570716</td>\n    </tr>\n    <tr>\n      <th>2294</th>\n      <td>KBKS-FM</td>\n      <td>2580292</td>\n    </tr>\n    <tr>\n      <th>2628</th>\n      <td>KBKS-FM</td>\n      <td>2583267</td>\n    </tr>\n    <tr>\n      <th>3132</th>\n      <td>KBKS-FM</td>\n      <td>2584541</td>\n    </tr>\n    <tr>\n      <th>...</th>\n      <td>...</td>\n      <td>...</td>\n    </tr>\n    <tr>\n      <th>76507</th>\n      <td>WZFT-FM</td>\n      <td>2750191</td>\n    </tr>\n    <tr>\n      <th>76509</th>\n      <td>WZFT-FM</td>\n      <td>2754544</td>\n    </tr>\n    <tr>\n      <th>98886</th>\n      <td>WZFT-FM</td>\n      <td>2794968</td>\n    </tr>\n    <tr>\n      <th>98952</th>\n      <td>WZFT-FM</td>\n      <td>2797282</td>\n    </tr>\n    <tr>\n      <th>98996</th>\n      <td>WZFT-FM</td>\n      <td>2804653</td>\n    </tr>\n  </tbody>\n</table>\n<p>1025 rows × 2 columns</p>\n</div>"
     },
     "execution_count": 47,
     "metadata": {},
     "output_type": "execute_result"
    }
   ],
   "source": [
    "df_abc_classfn[['call_letters', 'mediabase_id']].drop_duplicates()"
   ],
   "metadata": {
    "collapsed": false,
    "pycharm": {
     "name": "#%%\n"
    }
   }
  },
  {
   "cell_type": "code",
   "execution_count": null,
   "outputs": [],
   "source": [],
   "metadata": {
    "collapsed": false,
    "pycharm": {
     "name": "#%%\n"
    }
   }
  }
 ],
 "metadata": {
  "kernelspec": {
   "display_name": "Python 3",
   "language": "python",
   "name": "python3"
  },
  "language_info": {
   "codemirror_mode": {
    "name": "ipython",
    "version": 2
   },
   "file_extension": ".py",
   "mimetype": "text/x-python",
   "name": "python",
   "nbconvert_exporter": "python",
   "pygments_lexer": "ipython2",
   "version": "2.7.6"
  }
 },
 "nbformat": 4,
 "nbformat_minor": 0
}