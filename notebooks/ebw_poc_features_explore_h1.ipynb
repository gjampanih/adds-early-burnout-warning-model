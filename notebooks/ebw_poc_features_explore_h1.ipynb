{
 "cells": [
  {
   "cell_type": "code",
   "execution_count": 174,
   "outputs": [],
   "source": [
    "# import packages\n",
    "import numpy as np\n",
    "import pandas as pd"
   ],
   "metadata": {
    "collapsed": false,
    "pycharm": {
     "name": "#%%\n"
    }
   }
  },
  {
   "cell_type": "markdown",
   "source": [
    "### Read in hits tracker and base features table"
   ],
   "metadata": {
    "collapsed": false
   }
  },
  {
   "cell_type": "code",
   "execution_count": 183,
   "outputs": [],
   "source": [
    "# read base features data\n",
    "df_features_base = pd.read_pickle('ebw_raw_features_base_h1.pkl')"
   ],
   "metadata": {
    "collapsed": false,
    "pycharm": {
     "name": "#%%\n"
    }
   }
  },
  {
   "cell_type": "code",
   "execution_count": 184,
   "outputs": [],
   "source": [
    "# read in hits\n",
    "df_hits = pd.read_pickle('ebw_hits_tracker_h1.pkl')"
   ],
   "metadata": {
    "collapsed": false,
    "pycharm": {
     "name": "#%%\n"
    }
   }
  },
  {
   "cell_type": "code",
   "execution_count": 185,
   "outputs": [],
   "source": [
    "# pull in hit tag year from features base into hits tracker\n",
    "df_sub = df_features_base[['mediabase_id', 'call_letters', 'hit_tag_date']].drop_duplicates()\n",
    "df_hits = df_hits.join(df_sub.set_index(['mediabase_id', 'call_letters']), on=['mediabase_id', 'call_letters'],\n",
    "                       how='left')"
   ],
   "metadata": {
    "collapsed": false,
    "pycharm": {
     "name": "#%%\n"
    }
   }
  },
  {
   "cell_type": "code",
   "execution_count": 186,
   "outputs": [],
   "source": [
    "# calculate weeks since\n",
    "df_hits['weeks_since_hit_tag'] = (pd.to_datetime('today').normalize() - df_hits['hit_tag_date']) / (\n",
    "    np.timedelta64(1, 'W'))\n",
    "df_hits['weeks_since_hit_tag'] = df_hits['weeks_since_hit_tag'].astype(int)"
   ],
   "metadata": {
    "collapsed": false,
    "pycharm": {
     "name": "#%%\n"
    }
   }
  },
  {
   "cell_type": "code",
   "execution_count": 187,
   "outputs": [
    {
     "data": {
      "text/plain": "        mediabase_id call_letters song_release_date  song_release_year  \\\n0            1086587      KHTS-FM        2022-06-01             2022.0   \n42           1086587      KIIS-FM        2022-06-01             2022.0   \n84           1086587      KYLD-FM        2022-06-01             2022.0   \n127          1086587      KZZP-FM        2022-06-01             2022.0   \n169          1086587      WHTZ-FM        2022-06-01             2022.0   \n...              ...          ...               ...                ...   \n656643       2865765      WRVW-FM        2022-12-01             2022.0   \n656656       2865765      WWPW-FM        2022-12-01             2022.0   \n656669       2865765      WXKS-FM        2022-12-01             2022.0   \n656682       2865765      WXXL-FM        2022-12-01             2022.0   \n656695       2865765      WZFT-FM        2022-12-01             2022.0   \n\n         ftq_date  hit_tag_year ddl_over_thresh_dt_first  \\\n0      2022-07-10          2022               2022-11-06   \n42     2022-07-03          2022               2022-08-21   \n84     2022-07-03          2022               2022-09-11   \n127    2022-07-17          2022               2022-09-18   \n169    2022-06-19          2022               2022-09-04   \n...           ...           ...                      ...   \n656643 2023-04-02          2023                     None   \n656656 2023-02-19          2023                     None   \n656669 2023-01-15          2023                     None   \n656682 2023-02-19          2023                     None   \n656695 2023-01-22          2023                     None   \n\n       ddl_over_thresh_dt_second  weeks_bw_ftq_first_spins  \\\n0                     2022-11-20                       4.0   \n42                          None                       3.0   \n84                          None                       4.0   \n127                         None                       5.0   \n169                   2022-09-18                       1.0   \n...                          ...                       ...   \n656643                      None                      13.0   \n656656                      None                       7.0   \n656669                      None                       2.0   \n656682                      None                       7.0   \n656695                      None                       3.0   \n\n        weeks_bw_top_quintiles  ...  cuml_song_station_spins_non_on_at_hit  \\\n0                         15.0  ...                                  989.0   \n42                         2.0  ...                                  168.0   \n84                         6.0  ...                                  445.0   \n127                        5.0  ...                                  592.0   \n169                        6.0  ...                                  283.0   \n...                        ...  ...                                    ...   \n656643                     5.0  ...                                    NaN   \n656656                     2.0  ...                                  691.0   \n656669                     3.0  ...                                  240.0   \n656682                     4.0  ...                                  571.0   \n656695                     2.0  ...                                  253.0   \n\n        cuml_song_station_spins_non_on_at_pre_burnout  \\\n0                                              1086.0   \n42                                              612.0   \n84                                              602.0   \n127                                             748.0   \n169                                             616.0   \n...                                               ...   \n656643                                            NaN   \n656656                                            NaN   \n656669                                            NaN   \n656682                                            NaN   \n656695                                            NaN   \n\n        cuml_song_station_spins_non_on_at_burnout  spins_to_hit_from_ftq  \\\n0                                          1182.0                  875.0   \n42                                            NaN                  122.0   \n84                                            NaN                  312.0   \n127                                           NaN                  405.0   \n169                                         664.0                  267.0   \n...                                           ...                    ...   \n656643                                        NaN                    NaN   \n656656                                        NaN                  202.0   \n656669                                        NaN                  189.0   \n656682                                        NaN                  336.0   \n656695                                        NaN                  137.0   \n\n        spins_to_burnout_from_hit  cuml_song_station_spins_non_on_max  \\\n0                           193.0                                1274   \n42                            NaN                                 731   \n84                            NaN                                 611   \n127                           NaN                                 761   \n169                         381.0                                 687   \n...                           ...                                 ...   \n656643                        NaN                                 699   \n656656                        NaN                                 994   \n656669                        NaN                                 820   \n656682                        NaN                                 652   \n656695                        NaN                                 869   \n\n        cuml_song_station_spins_non_on_since_hit_max  censoring_flg  \\\n0                                              285.0          False   \n42                                             563.0          False   \n84                                             166.0          False   \n127                                            169.0          False   \n169                                            404.0          False   \n...                                              ...            ...   \n656643                                           NaN          False   \n656656                                         303.0          False   \n656669                                         580.0          False   \n656682                                          81.0          False   \n656695                                         616.0          False   \n\n        hit_tag_date weeks_since_hit_tag  \n0         2022-10-23                  34  \n42        2022-07-17                  48  \n84        2022-08-14                  44  \n127       2022-08-21                  43  \n169       2022-07-31                  46  \n...              ...                 ...  \n656643    2023-05-07                   6  \n656656    2023-03-05                  15  \n656669    2023-02-05                  19  \n656682    2023-03-19                  13  \n656695    2023-02-05                  19  \n\n[3389 rows x 21 columns]",
      "text/html": "<div>\n<style scoped>\n    .dataframe tbody tr th:only-of-type {\n        vertical-align: middle;\n    }\n\n    .dataframe tbody tr th {\n        vertical-align: top;\n    }\n\n    .dataframe thead th {\n        text-align: right;\n    }\n</style>\n<table border=\"1\" class=\"dataframe\">\n  <thead>\n    <tr style=\"text-align: right;\">\n      <th></th>\n      <th>mediabase_id</th>\n      <th>call_letters</th>\n      <th>song_release_date</th>\n      <th>song_release_year</th>\n      <th>ftq_date</th>\n      <th>hit_tag_year</th>\n      <th>ddl_over_thresh_dt_first</th>\n      <th>ddl_over_thresh_dt_second</th>\n      <th>weeks_bw_ftq_first_spins</th>\n      <th>weeks_bw_top_quintiles</th>\n      <th>...</th>\n      <th>cuml_song_station_spins_non_on_at_hit</th>\n      <th>cuml_song_station_spins_non_on_at_pre_burnout</th>\n      <th>cuml_song_station_spins_non_on_at_burnout</th>\n      <th>spins_to_hit_from_ftq</th>\n      <th>spins_to_burnout_from_hit</th>\n      <th>cuml_song_station_spins_non_on_max</th>\n      <th>cuml_song_station_spins_non_on_since_hit_max</th>\n      <th>censoring_flg</th>\n      <th>hit_tag_date</th>\n      <th>weeks_since_hit_tag</th>\n    </tr>\n  </thead>\n  <tbody>\n    <tr>\n      <th>0</th>\n      <td>1086587</td>\n      <td>KHTS-FM</td>\n      <td>2022-06-01</td>\n      <td>2022.0</td>\n      <td>2022-07-10</td>\n      <td>2022</td>\n      <td>2022-11-06</td>\n      <td>2022-11-20</td>\n      <td>4.0</td>\n      <td>15.0</td>\n      <td>...</td>\n      <td>989.0</td>\n      <td>1086.0</td>\n      <td>1182.0</td>\n      <td>875.0</td>\n      <td>193.0</td>\n      <td>1274</td>\n      <td>285.0</td>\n      <td>False</td>\n      <td>2022-10-23</td>\n      <td>34</td>\n    </tr>\n    <tr>\n      <th>42</th>\n      <td>1086587</td>\n      <td>KIIS-FM</td>\n      <td>2022-06-01</td>\n      <td>2022.0</td>\n      <td>2022-07-03</td>\n      <td>2022</td>\n      <td>2022-08-21</td>\n      <td>None</td>\n      <td>3.0</td>\n      <td>2.0</td>\n      <td>...</td>\n      <td>168.0</td>\n      <td>612.0</td>\n      <td>NaN</td>\n      <td>122.0</td>\n      <td>NaN</td>\n      <td>731</td>\n      <td>563.0</td>\n      <td>False</td>\n      <td>2022-07-17</td>\n      <td>48</td>\n    </tr>\n    <tr>\n      <th>84</th>\n      <td>1086587</td>\n      <td>KYLD-FM</td>\n      <td>2022-06-01</td>\n      <td>2022.0</td>\n      <td>2022-07-03</td>\n      <td>2022</td>\n      <td>2022-09-11</td>\n      <td>None</td>\n      <td>4.0</td>\n      <td>6.0</td>\n      <td>...</td>\n      <td>445.0</td>\n      <td>602.0</td>\n      <td>NaN</td>\n      <td>312.0</td>\n      <td>NaN</td>\n      <td>611</td>\n      <td>166.0</td>\n      <td>False</td>\n      <td>2022-08-14</td>\n      <td>44</td>\n    </tr>\n    <tr>\n      <th>127</th>\n      <td>1086587</td>\n      <td>KZZP-FM</td>\n      <td>2022-06-01</td>\n      <td>2022.0</td>\n      <td>2022-07-17</td>\n      <td>2022</td>\n      <td>2022-09-18</td>\n      <td>None</td>\n      <td>5.0</td>\n      <td>5.0</td>\n      <td>...</td>\n      <td>592.0</td>\n      <td>748.0</td>\n      <td>NaN</td>\n      <td>405.0</td>\n      <td>NaN</td>\n      <td>761</td>\n      <td>169.0</td>\n      <td>False</td>\n      <td>2022-08-21</td>\n      <td>43</td>\n    </tr>\n    <tr>\n      <th>169</th>\n      <td>1086587</td>\n      <td>WHTZ-FM</td>\n      <td>2022-06-01</td>\n      <td>2022.0</td>\n      <td>2022-06-19</td>\n      <td>2022</td>\n      <td>2022-09-04</td>\n      <td>2022-09-18</td>\n      <td>1.0</td>\n      <td>6.0</td>\n      <td>...</td>\n      <td>283.0</td>\n      <td>616.0</td>\n      <td>664.0</td>\n      <td>267.0</td>\n      <td>381.0</td>\n      <td>687</td>\n      <td>404.0</td>\n      <td>False</td>\n      <td>2022-07-31</td>\n      <td>46</td>\n    </tr>\n    <tr>\n      <th>...</th>\n      <td>...</td>\n      <td>...</td>\n      <td>...</td>\n      <td>...</td>\n      <td>...</td>\n      <td>...</td>\n      <td>...</td>\n      <td>...</td>\n      <td>...</td>\n      <td>...</td>\n      <td>...</td>\n      <td>...</td>\n      <td>...</td>\n      <td>...</td>\n      <td>...</td>\n      <td>...</td>\n      <td>...</td>\n      <td>...</td>\n      <td>...</td>\n      <td>...</td>\n      <td>...</td>\n    </tr>\n    <tr>\n      <th>656643</th>\n      <td>2865765</td>\n      <td>WRVW-FM</td>\n      <td>2022-12-01</td>\n      <td>2022.0</td>\n      <td>2023-04-02</td>\n      <td>2023</td>\n      <td>None</td>\n      <td>None</td>\n      <td>13.0</td>\n      <td>5.0</td>\n      <td>...</td>\n      <td>NaN</td>\n      <td>NaN</td>\n      <td>NaN</td>\n      <td>NaN</td>\n      <td>NaN</td>\n      <td>699</td>\n      <td>NaN</td>\n      <td>False</td>\n      <td>2023-05-07</td>\n      <td>6</td>\n    </tr>\n    <tr>\n      <th>656656</th>\n      <td>2865765</td>\n      <td>WWPW-FM</td>\n      <td>2022-12-01</td>\n      <td>2022.0</td>\n      <td>2023-02-19</td>\n      <td>2023</td>\n      <td>None</td>\n      <td>None</td>\n      <td>7.0</td>\n      <td>2.0</td>\n      <td>...</td>\n      <td>691.0</td>\n      <td>NaN</td>\n      <td>NaN</td>\n      <td>202.0</td>\n      <td>NaN</td>\n      <td>994</td>\n      <td>303.0</td>\n      <td>False</td>\n      <td>2023-03-05</td>\n      <td>15</td>\n    </tr>\n    <tr>\n      <th>656669</th>\n      <td>2865765</td>\n      <td>WXKS-FM</td>\n      <td>2022-12-01</td>\n      <td>2022.0</td>\n      <td>2023-01-15</td>\n      <td>2023</td>\n      <td>None</td>\n      <td>None</td>\n      <td>2.0</td>\n      <td>3.0</td>\n      <td>...</td>\n      <td>240.0</td>\n      <td>NaN</td>\n      <td>NaN</td>\n      <td>189.0</td>\n      <td>NaN</td>\n      <td>820</td>\n      <td>580.0</td>\n      <td>False</td>\n      <td>2023-02-05</td>\n      <td>19</td>\n    </tr>\n    <tr>\n      <th>656682</th>\n      <td>2865765</td>\n      <td>WXXL-FM</td>\n      <td>2022-12-01</td>\n      <td>2022.0</td>\n      <td>2023-02-19</td>\n      <td>2023</td>\n      <td>None</td>\n      <td>None</td>\n      <td>7.0</td>\n      <td>4.0</td>\n      <td>...</td>\n      <td>571.0</td>\n      <td>NaN</td>\n      <td>NaN</td>\n      <td>336.0</td>\n      <td>NaN</td>\n      <td>652</td>\n      <td>81.0</td>\n      <td>False</td>\n      <td>2023-03-19</td>\n      <td>13</td>\n    </tr>\n    <tr>\n      <th>656695</th>\n      <td>2865765</td>\n      <td>WZFT-FM</td>\n      <td>2022-12-01</td>\n      <td>2022.0</td>\n      <td>2023-01-22</td>\n      <td>2023</td>\n      <td>None</td>\n      <td>None</td>\n      <td>3.0</td>\n      <td>2.0</td>\n      <td>...</td>\n      <td>253.0</td>\n      <td>NaN</td>\n      <td>NaN</td>\n      <td>137.0</td>\n      <td>NaN</td>\n      <td>869</td>\n      <td>616.0</td>\n      <td>False</td>\n      <td>2023-02-05</td>\n      <td>19</td>\n    </tr>\n  </tbody>\n</table>\n<p>3389 rows × 21 columns</p>\n</div>"
     },
     "execution_count": 187,
     "metadata": {},
     "output_type": "execute_result"
    }
   ],
   "source": [
    "df_hits"
   ],
   "metadata": {
    "collapsed": false,
    "pycharm": {
     "name": "#%%\n"
    }
   }
  },
  {
   "cell_type": "code",
   "execution_count": 191,
   "outputs": [],
   "source": [
    "# limit hits tracker to songs which turned hit in 2020/2021 and 2022 (either burned out or 52 weeks since hit)\n",
    "mask = (df_hits['hit_tag_year'] == 2020) | (df_hits['hit_tag_year'] == 2021) | ((df_hits['hit_tag_year'] == 2022) & (\n",
    "        (~pd.isna(df_hits['spins_to_burnout_from_hit'])) | (\n",
    "        (pd.isna(df_hits['spins_to_burnout_from_hit'])) & (df_hits['weeks_since_hit_tag'] >= 52))))\n",
    "df_hits = df_hits.loc[mask]"
   ],
   "metadata": {
    "collapsed": false,
    "pycharm": {
     "name": "#%%\n"
    }
   }
  },
  {
   "cell_type": "code",
   "execution_count": 192,
   "outputs": [],
   "source": [
    "# pull data from hits tracker to features base\n",
    "sub_idx_cols = ['mediabase_id', 'call_letters']\n",
    "sub_cols = ['cuml_song_station_spins_non_on_max', 'cuml_song_station_spins_non_on_since_hit_max']\n",
    "df_sub = df_hits[sub_idx_cols + sub_cols]\n",
    "df_features_base = df_features_base.join(df_sub.set_index(sub_idx_cols), on=sub_idx_cols, how='right')"
   ],
   "metadata": {
    "collapsed": false,
    "pycharm": {
     "name": "#%%\n"
    }
   }
  },
  {
   "cell_type": "code",
   "execution_count": 193,
   "outputs": [],
   "source": [
    "# subset base features for minimalist df\n",
    "id_cols = ['mediabase_id', 'call_letters', 'week_dt', 'weeks_since_hit', 'week_dt_at_burnout']\n",
    "sub_cols = ['cuml_song_station_spins_non_on', 'cuml_song_station_spins_non_on_at_hit',\n",
    "            'cuml_song_station_spins_non_on_at_burnout',\n",
    "            'cuml_song_station_spins_non_on_max', 'cuml_song_station_spins_non_on_since_hit_max']\n",
    "df_features_base_sub = df_features_base[id_cols + sub_cols]\n",
    "df_features_base_sub = df_features_base_sub[(df_features_base_sub['weeks_since_hit'] >= 0) & (\n",
    "        ((~pd.isna(df_features_base_sub['week_dt_at_burnout'])) & (\n",
    "                df_features_base_sub['week_dt'] <= df_features_base_sub['week_dt_at_burnout'])) | (\n",
    "                (pd.isna(df_features_base_sub['week_dt_at_burnout'])) & (\n",
    "                df_features_base_sub['cuml_song_station_spins_non_on'] <= df_features_base_sub[\n",
    "            'cuml_song_station_spins_non_on_max'])))]"
   ],
   "metadata": {
    "collapsed": false,
    "pycharm": {
     "name": "#%%\n"
    }
   }
  },
  {
   "cell_type": "markdown",
   "source": [
    "### Read in features"
   ],
   "metadata": {
    "collapsed": false
   }
  },
  {
   "cell_type": "code",
   "execution_count": 194,
   "outputs": [],
   "source": [
    "# read in spins features\n",
    "df_spins_features = pd.read_pickle('ebw_spins_features_h1.pkl')\n",
    "df_spins_features = df_spins_features[df_spins_features['weeks_since_hit'] >= 0]\n",
    "\n",
    "# read in pop features\n",
    "df_pop_features = pd.read_pickle('ebw_pop_features_h1.pkl')\n",
    "df_pop_features = df_pop_features[df_pop_features['weeks_since_hit'] >= 0]\n",
    "\n",
    "# read in percent change features\n",
    "df_pct_chg_features = pd.read_pickle('ebw_pctchg_features_h1.pkl')\n",
    "df_pct_chg_features = df_pct_chg_features[df_pct_chg_features['weeks_since_hit'] >= 0]\n",
    "\n",
    "# read in streams features\n",
    "df_streams_features = pd.read_pickle('ebw_streams_features_h1.pkl')\n",
    "df_streams_features = df_streams_features[df_streams_features['weeks_since_hit'] >= 0]"
   ],
   "metadata": {
    "collapsed": false,
    "pycharm": {
     "name": "#%%\n"
    }
   }
  },
  {
   "cell_type": "markdown",
   "source": [
    "### Create dataframe with all features merged and unnecessary ones dropped out"
   ],
   "metadata": {
    "collapsed": false
   }
  },
  {
   "cell_type": "code",
   "execution_count": 197,
   "outputs": [],
   "source": [
    "# drop off all other lags than lag 1 for pop score indicators\n",
    "pop_id_cols = ['mediabase_id', 'call_letters', 'week_dt', 'weeks_since_hit']\n",
    "sub_pop_cols = [col for col in df_pop_features.columns if 'lag1' in col]\n",
    "df_pop_features = df_pop_features[pop_id_cols + sub_pop_cols]"
   ],
   "metadata": {
    "collapsed": false,
    "pycharm": {
     "name": "#%%\n"
    }
   }
  },
  {
   "cell_type": "code",
   "execution_count": 224,
   "outputs": [],
   "source": [
    "# create a massive dataset with base feature subset, spins and pop features\n",
    "join_cols = ['mediabase_id', 'call_letters', 'week_dt', 'weeks_since_hit']\n",
    "df_sample = (((df_features_base_sub.join(df_spins_features.set_index(join_cols), on=join_cols, how='left')).join(\n",
    "    df_pop_features.set_index(join_cols), on=join_cols, how='left')).join(df_pct_chg_features.set_index(join_cols),\n",
    "                                                                          on=join_cols, how='left')).join(\n",
    "    df_streams_features.set_index(join_cols), on=join_cols, how='left')"
   ],
   "metadata": {
    "collapsed": false,
    "pycharm": {
     "name": "#%%\n"
    }
   }
  },
  {
   "cell_type": "code",
   "execution_count": 226,
   "outputs": [],
   "source": [
    "# drop columns\n",
    "drop_cols = [col for col in df_sample.columns if\n",
    "             (('1wk' in col) or ('4wk' in col) or ('8wk' in col)) and ('std' in col)]\n",
    "drop_cols = drop_cols + [col for col in df_sample.columns if\n",
    "                         ('1wk' in col) and (('sum' in col) or ('min' in col) or ('max' in col))]\n",
    "drop_cols = drop_cols + [col for col in df_sample.columns if\n",
    "                         ('thumbs_up_rate' in col) or ('thumbs_up_rate_total' in col) or ('completed_rate' in col)]\n",
    "drop_cols = drop_cols + [col for col in df_sample if 'sum' in col]\n",
    "df_sample.drop(drop_cols, axis=1, inplace=True)"
   ],
   "metadata": {
    "collapsed": false,
    "pycharm": {
     "name": "#%%\n"
    }
   }
  },
  {
   "cell_type": "code",
   "execution_count": 227,
   "outputs": [
    {
     "data": {
      "text/plain": "(58637, 1227)"
     },
     "execution_count": 227,
     "metadata": {},
     "output_type": "execute_result"
    }
   ],
   "source": [
    "df_sample.shape"
   ],
   "metadata": {
    "collapsed": false,
    "pycharm": {
     "name": "#%%\n"
    }
   }
  },
  {
   "cell_type": "code",
   "execution_count": 228,
   "outputs": [],
   "source": [
    "# define target feature\n",
    "df_sample['target'] = df_sample['cuml_song_station_spins_non_on_at_burnout'].combine_first(\n",
    "    df_sample['cuml_song_station_spins_non_on_max']) - df_sample['cuml_song_station_spins_non_on']"
   ],
   "metadata": {
    "collapsed": false,
    "pycharm": {
     "name": "#%%\n"
    }
   }
  },
  {
   "cell_type": "code",
   "execution_count": 214,
   "outputs": [
    {
     "data": {
      "text/plain": "    mediabase_id call_letters    week_dt  weeks_since_hit week_dt_at_burnout  \\\n19       1086587      KHTS-FM 2022-10-23              0.0         2022-11-20   \n20       1086587      KHTS-FM 2022-10-30              1.0         2022-11-20   \n21       1086587      KHTS-FM 2022-11-06              2.0         2022-11-20   \n22       1086587      KHTS-FM 2022-11-13              3.0         2022-11-20   \n23       1086587      KHTS-FM 2022-11-20              4.0         2022-11-20   \n\n    cuml_song_station_spins_non_on  cuml_song_station_spins_non_on_at_hit  \\\n19                             989                                  989.0   \n20                            1036                                  989.0   \n21                            1086                                  989.0   \n22                            1137                                  989.0   \n23                            1182                                  989.0   \n\n    cuml_song_station_spins_non_on_at_burnout  \\\n19                                     1182.0   \n20                                     1182.0   \n21                                     1182.0   \n22                                     1182.0   \n23                                     1182.0   \n\n    cuml_song_station_spins_non_on_max  \\\n19                                1274   \n20                                1274   \n21                                1274   \n22                                1274   \n23                                1274   \n\n    cuml_song_station_spins_non_on_since_hit_max  ...  completed_rate_8wk  \\\n19                                         285.0  ...            0.567842   \n20                                         285.0  ...            0.585410   \n21                                         285.0  ...            0.600206   \n22                                         285.0  ...            0.604227   \n23                                         285.0  ...            0.594566   \n\n    thumbs_up_rate_8wk  thumbs_up_rate_total_8wk  completed_rate_13wk  \\\n19            0.864181                  0.011626             0.575236   \n20            0.854827                  0.010525             0.583967   \n21            0.855784                  0.009580             0.584132   \n22            0.840770                  0.008315             0.578556   \n23            0.841748                  0.006986             0.577249   \n\n    thumbs_up_rate_13wk  thumbs_up_rate_total_13wk  completed_rate_26wk  \\\n19             0.874914                   0.014436             0.596217   \n20             0.867713                   0.013291             0.596346   \n21             0.864558                   0.012028             0.595183   \n22             0.860517                   0.010778             0.594522   \n23             0.857759                   0.009789             0.592935   \n\n    thumbs_up_rate_26wk  thumbs_up_rate_total_26wk  target  \n19             0.903644                   0.019032   193.0  \n20             0.901590                   0.018292   146.0  \n21             0.901088                   0.017567    96.0  \n22             0.897803                   0.016911    45.0  \n23             0.897344                   0.016161     0.0  \n\n[5 rows x 1243 columns]",
      "text/html": "<div>\n<style scoped>\n    .dataframe tbody tr th:only-of-type {\n        vertical-align: middle;\n    }\n\n    .dataframe tbody tr th {\n        vertical-align: top;\n    }\n\n    .dataframe thead th {\n        text-align: right;\n    }\n</style>\n<table border=\"1\" class=\"dataframe\">\n  <thead>\n    <tr style=\"text-align: right;\">\n      <th></th>\n      <th>mediabase_id</th>\n      <th>call_letters</th>\n      <th>week_dt</th>\n      <th>weeks_since_hit</th>\n      <th>week_dt_at_burnout</th>\n      <th>cuml_song_station_spins_non_on</th>\n      <th>cuml_song_station_spins_non_on_at_hit</th>\n      <th>cuml_song_station_spins_non_on_at_burnout</th>\n      <th>cuml_song_station_spins_non_on_max</th>\n      <th>cuml_song_station_spins_non_on_since_hit_max</th>\n      <th>...</th>\n      <th>completed_rate_8wk</th>\n      <th>thumbs_up_rate_8wk</th>\n      <th>thumbs_up_rate_total_8wk</th>\n      <th>completed_rate_13wk</th>\n      <th>thumbs_up_rate_13wk</th>\n      <th>thumbs_up_rate_total_13wk</th>\n      <th>completed_rate_26wk</th>\n      <th>thumbs_up_rate_26wk</th>\n      <th>thumbs_up_rate_total_26wk</th>\n      <th>target</th>\n    </tr>\n  </thead>\n  <tbody>\n    <tr>\n      <th>19</th>\n      <td>1086587</td>\n      <td>KHTS-FM</td>\n      <td>2022-10-23</td>\n      <td>0.0</td>\n      <td>2022-11-20</td>\n      <td>989</td>\n      <td>989.0</td>\n      <td>1182.0</td>\n      <td>1274</td>\n      <td>285.0</td>\n      <td>...</td>\n      <td>0.567842</td>\n      <td>0.864181</td>\n      <td>0.011626</td>\n      <td>0.575236</td>\n      <td>0.874914</td>\n      <td>0.014436</td>\n      <td>0.596217</td>\n      <td>0.903644</td>\n      <td>0.019032</td>\n      <td>193.0</td>\n    </tr>\n    <tr>\n      <th>20</th>\n      <td>1086587</td>\n      <td>KHTS-FM</td>\n      <td>2022-10-30</td>\n      <td>1.0</td>\n      <td>2022-11-20</td>\n      <td>1036</td>\n      <td>989.0</td>\n      <td>1182.0</td>\n      <td>1274</td>\n      <td>285.0</td>\n      <td>...</td>\n      <td>0.585410</td>\n      <td>0.854827</td>\n      <td>0.010525</td>\n      <td>0.583967</td>\n      <td>0.867713</td>\n      <td>0.013291</td>\n      <td>0.596346</td>\n      <td>0.901590</td>\n      <td>0.018292</td>\n      <td>146.0</td>\n    </tr>\n    <tr>\n      <th>21</th>\n      <td>1086587</td>\n      <td>KHTS-FM</td>\n      <td>2022-11-06</td>\n      <td>2.0</td>\n      <td>2022-11-20</td>\n      <td>1086</td>\n      <td>989.0</td>\n      <td>1182.0</td>\n      <td>1274</td>\n      <td>285.0</td>\n      <td>...</td>\n      <td>0.600206</td>\n      <td>0.855784</td>\n      <td>0.009580</td>\n      <td>0.584132</td>\n      <td>0.864558</td>\n      <td>0.012028</td>\n      <td>0.595183</td>\n      <td>0.901088</td>\n      <td>0.017567</td>\n      <td>96.0</td>\n    </tr>\n    <tr>\n      <th>22</th>\n      <td>1086587</td>\n      <td>KHTS-FM</td>\n      <td>2022-11-13</td>\n      <td>3.0</td>\n      <td>2022-11-20</td>\n      <td>1137</td>\n      <td>989.0</td>\n      <td>1182.0</td>\n      <td>1274</td>\n      <td>285.0</td>\n      <td>...</td>\n      <td>0.604227</td>\n      <td>0.840770</td>\n      <td>0.008315</td>\n      <td>0.578556</td>\n      <td>0.860517</td>\n      <td>0.010778</td>\n      <td>0.594522</td>\n      <td>0.897803</td>\n      <td>0.016911</td>\n      <td>45.0</td>\n    </tr>\n    <tr>\n      <th>23</th>\n      <td>1086587</td>\n      <td>KHTS-FM</td>\n      <td>2022-11-20</td>\n      <td>4.0</td>\n      <td>2022-11-20</td>\n      <td>1182</td>\n      <td>989.0</td>\n      <td>1182.0</td>\n      <td>1274</td>\n      <td>285.0</td>\n      <td>...</td>\n      <td>0.594566</td>\n      <td>0.841748</td>\n      <td>0.006986</td>\n      <td>0.577249</td>\n      <td>0.857759</td>\n      <td>0.009789</td>\n      <td>0.592935</td>\n      <td>0.897344</td>\n      <td>0.016161</td>\n      <td>0.0</td>\n    </tr>\n  </tbody>\n</table>\n<p>5 rows × 1243 columns</p>\n</div>"
     },
     "execution_count": 214,
     "metadata": {},
     "output_type": "execute_result"
    }
   ],
   "source": [
    "df_sample.head()"
   ],
   "metadata": {
    "collapsed": false,
    "pycharm": {
     "name": "#%%\n"
    }
   }
  },
  {
   "cell_type": "code",
   "execution_count": 229,
   "outputs": [
    {
     "data": {
      "text/plain": "week_dt_at_burnout                              0.643075\ncuml_song_station_spins_non_on_at_burnout       0.643075\ncuml_song_station_spins_non_on_at_hit           0.000921\ncuml_song_station_spins_non_on_since_hit_max    0.000921\ntarget                                          0.000000\n                                                  ...   \ncount_song_format_pop_13wk_lag1_min             0.000000\ncount_song_format_pop_13wk_lag1_max             0.000000\ncount_song_format_pop_13wk_lag1_mean            0.000000\ncount_song_format_pop_13wk_lag1_std             0.000000\nmediabase_id                                    0.000000\nLength: 1228, dtype: float64"
     },
     "execution_count": 229,
     "metadata": {},
     "output_type": "execute_result"
    }
   ],
   "source": [
    "# check missingness of data in features\n",
    "df_sample.apply(lambda x: pd.isna(x).sum() / len(x)).sort_values(ascending=False)"
   ],
   "metadata": {
    "collapsed": false,
    "pycharm": {
     "name": "#%%\n"
    }
   }
  },
  {
   "cell_type": "markdown",
   "source": [
    "### drop all rows after max spins for song which did not experience burnout or with target set to zero"
   ],
   "metadata": {
    "collapsed": false
   }
  },
  {
   "cell_type": "code",
   "execution_count": 239,
   "outputs": [],
   "source": [
    "mask = (df_sample['cuml_song_station_spins_non_on'] == df_sample['cuml_song_station_spins_non_on_max']) & (\n",
    "    pd.isna(df_sample['week_dt_at_burnout']))\n",
    "df_sub = df_sample.loc[mask].groupby(['mediabase_id', 'call_letters']).agg({'week_dt': np.min})\n",
    "df_drop_sub = df_sample.join(df_sub, on=['mediabase_id', 'call_letters'], how='right', rsuffix='_r')"
   ],
   "metadata": {
    "collapsed": false,
    "pycharm": {
     "name": "#%%\n"
    }
   }
  },
  {
   "cell_type": "code",
   "execution_count": 242,
   "outputs": [],
   "source": [
    "drp_idx = df_drop_sub[df_drop_sub['week_dt'] > df_drop_sub['week_dt_r']].index\n",
    "df_sample.drop(drp_idx, inplace=True)"
   ],
   "metadata": {
    "collapsed": false,
    "pycharm": {
     "name": "#%%\n"
    }
   }
  },
  {
   "cell_type": "code",
   "execution_count": 256,
   "outputs": [],
   "source": [
    "drop_idx = df_sample[df_sample['target'] == 0].index\n",
    "df_sample.drop(drop_idx, inplace=True)"
   ],
   "metadata": {
    "collapsed": false,
    "pycharm": {
     "name": "#%%\n"
    }
   }
  },
  {
   "cell_type": "code",
   "execution_count": 295,
   "outputs": [
    {
     "data": {
      "text/plain": "<AxesSubplot:ylabel='Frequency'>"
     },
     "execution_count": 295,
     "metadata": {},
     "output_type": "execute_result"
    },
    {
     "data": {
      "text/plain": "<Figure size 640x480 with 1 Axes>",
      "image/png": "[encoded data removed]"
     },
     "metadata": {},
     "output_type": "display_data"
    }
   ],
   "source": [
    "import matplotlib.pyplot as plt\n",
    "\n",
    "ax = plt.gca()\n",
    "df_hits.loc[~pd.isna(df_hits['cuml_song_station_spins_non_on_at_burnout']), 'spins_to_burnout_from_hit'].plot(\n",
    "    kind='hist', ax=ax, color='orange', alpha=0.25, bins=np.arange(0,3500,250))\n",
    "df_hits.loc[\n",
    "    pd.isna(df_hits['cuml_song_station_spins_non_on_at_burnout']), 'cuml_song_station_spins_non_on_since_hit_max'].plot(\n",
    "    kind='hist', ax=ax, color='blue', alpha=0.5, bins=np.arange(0,3500,250))"
   ],
   "metadata": {
    "collapsed": false,
    "pycharm": {
     "name": "#%%\n"
    }
   }
  },
  {
   "cell_type": "code",
   "execution_count": 363,
   "outputs": [],
   "source": [
    "# use 2500 spins as the cutoff point for defining burnout\n",
    "df_hits['censoring_flg_mod'] = True\n",
    "mask = pd.isna(df_hits['cuml_song_station_spins_non_on_at_burnout']) | (\n",
    "            ~pd.isna(df_hits['cuml_song_station_spins_non_on_at_burnout']) & (\n",
    "                df_hits['spins_to_burnout_from_hit'] > 2500))\n",
    "df_hits.loc[mask, 'censoring_flg_mod'] = False"
   ],
   "metadata": {
    "collapsed": false,
    "pycharm": {
     "name": "#%%\n"
    }
   }
  },
  {
   "cell_type": "code",
   "execution_count": 364,
   "outputs": [
    {
     "data": {
      "text/plain": "(1357, 24)"
     },
     "execution_count": 364,
     "metadata": {},
     "output_type": "execute_result"
    }
   ],
   "source": [
    "df_hits.shape"
   ],
   "metadata": {
    "collapsed": false,
    "pycharm": {
     "name": "#%%\n"
    }
   }
  },
  {
   "cell_type": "code",
   "execution_count": 368,
   "outputs": [],
   "source": [
    "# copy back the censoring flag to sample\n",
    "df_sample = df_sample.join(df_hits.set_index(['mediabase_id', 'call_letters'])['censoring_flg_mod'],\n",
    "               on=['mediabase_id', 'call_letters'], how='right')"
   ],
   "metadata": {
    "collapsed": false,
    "pycharm": {
     "name": "#%%\n"
    }
   }
  },
  {
   "cell_type": "code",
   "execution_count": 369,
   "outputs": [],
   "source": [
    "df_sub = (df_sample.groupby(['weeks_since_hit', 'censoring_flg_mod'])['mediabase_id'].count()) / (\n",
    "    df_sample.groupby(['weeks_since_hit'])['mediabase_id'].count())\n",
    "df_sub = df_sub.reset_index()\n",
    "df_sub_pvt = df_sub.pivot_table(index=['weeks_since_hit'], columns=['censoring_flg_mod'], values=['mediabase_id'])"
   ],
   "metadata": {
    "collapsed": false,
    "pycharm": {
     "name": "#%%\n"
    }
   }
  },
  {
   "cell_type": "code",
   "execution_count": 370,
   "outputs": [
    {
     "data": {
      "text/plain": "                  mediabase_id          \ncensoring_flg_mod        False     True \nweeks_since_hit                         \n0.0                   0.294465  0.705535\n1.0                   0.294985  0.705015\n2.0                   0.298507  0.701493\n3.0                   0.300075  0.699925\n4.0                   0.308642  0.691358\n...                        ...       ...\n154.0                 0.875000  0.125000\n155.0                 0.875000  0.125000\n156.0                 1.000000       NaN\n157.0                 1.000000       NaN\n158.0                 1.000000       NaN\n\n[159 rows x 2 columns]",
      "text/html": "<div>\n<style scoped>\n    .dataframe tbody tr th:only-of-type {\n        vertical-align: middle;\n    }\n\n    .dataframe tbody tr th {\n        vertical-align: top;\n    }\n\n    .dataframe thead tr th {\n        text-align: left;\n    }\n\n    .dataframe thead tr:last-of-type th {\n        text-align: right;\n    }\n</style>\n<table border=\"1\" class=\"dataframe\">\n  <thead>\n    <tr>\n      <th></th>\n      <th colspan=\"2\" halign=\"left\">mediabase_id</th>\n    </tr>\n    <tr>\n      <th>censoring_flg_mod</th>\n      <th>False</th>\n      <th>True</th>\n    </tr>\n    <tr>\n      <th>weeks_since_hit</th>\n      <th></th>\n      <th></th>\n    </tr>\n  </thead>\n  <tbody>\n    <tr>\n      <th>0.0</th>\n      <td>0.294465</td>\n      <td>0.705535</td>\n    </tr>\n    <tr>\n      <th>1.0</th>\n      <td>0.294985</td>\n      <td>0.705015</td>\n    </tr>\n    <tr>\n      <th>2.0</th>\n      <td>0.298507</td>\n      <td>0.701493</td>\n    </tr>\n    <tr>\n      <th>3.0</th>\n      <td>0.300075</td>\n      <td>0.699925</td>\n    </tr>\n    <tr>\n      <th>4.0</th>\n      <td>0.308642</td>\n      <td>0.691358</td>\n    </tr>\n    <tr>\n      <th>...</th>\n      <td>...</td>\n      <td>...</td>\n    </tr>\n    <tr>\n      <th>154.0</th>\n      <td>0.875000</td>\n      <td>0.125000</td>\n    </tr>\n    <tr>\n      <th>155.0</th>\n      <td>0.875000</td>\n      <td>0.125000</td>\n    </tr>\n    <tr>\n      <th>156.0</th>\n      <td>1.000000</td>\n      <td>NaN</td>\n    </tr>\n    <tr>\n      <th>157.0</th>\n      <td>1.000000</td>\n      <td>NaN</td>\n    </tr>\n    <tr>\n      <th>158.0</th>\n      <td>1.000000</td>\n      <td>NaN</td>\n    </tr>\n  </tbody>\n</table>\n<p>159 rows × 2 columns</p>\n</div>"
     },
     "execution_count": 370,
     "metadata": {},
     "output_type": "execute_result"
    }
   ],
   "source": [
    "df_sub_pvt"
   ],
   "metadata": {
    "collapsed": false,
    "pycharm": {
     "name": "#%%\n"
    }
   }
  },
  {
   "cell_type": "code",
   "execution_count": 371,
   "outputs": [],
   "source": [
    "df_sub_pvt.columns = ['censoring_flg_False', 'censoring_flg_True']"
   ],
   "metadata": {
    "collapsed": false,
    "pycharm": {
     "name": "#%%\n"
    }
   }
  },
  {
   "cell_type": "code",
   "execution_count": 372,
   "outputs": [
    {
     "data": {
      "text/plain": "<AxesSubplot:xlabel='weeks_since_hit'>"
     },
     "execution_count": 372,
     "metadata": {},
     "output_type": "execute_result"
    },
    {
     "data": {
      "text/plain": "<Figure size 640x480 with 1 Axes>",
      "image/png": "[encoded data removed]"
     },
     "metadata": {},
     "output_type": "display_data"
    }
   ],
   "source": [
    "df_sub_pvt.plot()"
   ],
   "metadata": {
    "collapsed": false,
    "pycharm": {
     "name": "#%%\n"
    }
   }
  },
  {
   "cell_type": "code",
   "execution_count": 373,
   "outputs": [],
   "source": [
    "df_hits['weeks_to_burnout_from_hit'] = (pd.to_datetime(df_hits['ddl_over_thresh_dt_second']) - df_hits['hit_tag_date'])/(np.timedelta64(1, 'W'))"
   ],
   "metadata": {
    "collapsed": false,
    "pycharm": {
     "name": "#%%\n"
    }
   }
  },
  {
   "cell_type": "code",
   "execution_count": 374,
   "outputs": [
    {
     "ename": "ValueError",
     "evalue": "columns overlap but no suffix specified: Index(['week_dt_at_max_spins'], dtype='object')",
     "output_type": "error",
     "traceback": [
      "\u001B[0;31m---------------------------------------------------------------------------\u001B[0m",
      "\u001B[0;31mValueError\u001B[0m                                Traceback (most recent call last)",
      "\u001B[0;32m/var/folders/kt/bsj56gs152d_8fz3jclnl1440000gq/T/ipykernel_71463/518437342.py\u001B[0m in \u001B[0;36m<module>\u001B[0;34m\u001B[0m\n\u001B[1;32m      1\u001B[0m \u001B[0mdf_sub\u001B[0m \u001B[0;34m=\u001B[0m \u001B[0mdf_features_base\u001B[0m\u001B[0;34m[\u001B[0m\u001B[0mdf_features_base\u001B[0m\u001B[0;34m[\u001B[0m\u001B[0;34m'cuml_song_station_spins_non_on_max'\u001B[0m\u001B[0;34m]\u001B[0m \u001B[0;34m==\u001B[0m \u001B[0mdf_features_base\u001B[0m\u001B[0;34m[\u001B[0m\u001B[0;34m'cuml_song_station_spins_non_on'\u001B[0m\u001B[0;34m]\u001B[0m\u001B[0;34m]\u001B[0m\u001B[0;34m.\u001B[0m\u001B[0mgroupby\u001B[0m\u001B[0;34m(\u001B[0m\u001B[0;34m[\u001B[0m\u001B[0;34m'mediabase_id'\u001B[0m\u001B[0;34m,\u001B[0m \u001B[0;34m'call_letters'\u001B[0m\u001B[0;34m]\u001B[0m\u001B[0;34m)\u001B[0m\u001B[0;34m.\u001B[0m\u001B[0magg\u001B[0m\u001B[0;34m(\u001B[0m\u001B[0;34m{\u001B[0m\u001B[0;34m'week_dt'\u001B[0m\u001B[0;34m:\u001B[0m \u001B[0mnp\u001B[0m\u001B[0;34m.\u001B[0m\u001B[0mmin\u001B[0m\u001B[0;34m}\u001B[0m\u001B[0;34m)\u001B[0m\u001B[0;34m\u001B[0m\u001B[0;34m\u001B[0m\u001B[0m\n\u001B[1;32m      2\u001B[0m \u001B[0mdf_sub\u001B[0m\u001B[0;34m.\u001B[0m\u001B[0mcolumns\u001B[0m \u001B[0;34m=\u001B[0m \u001B[0;34m[\u001B[0m\u001B[0;34m'week_dt_at_max_spins'\u001B[0m\u001B[0;34m]\u001B[0m\u001B[0;34m\u001B[0m\u001B[0;34m\u001B[0m\u001B[0m\n\u001B[0;32m----> 3\u001B[0;31m \u001B[0mdf_hits\u001B[0m \u001B[0;34m=\u001B[0m \u001B[0mdf_hits\u001B[0m\u001B[0;34m.\u001B[0m\u001B[0mjoin\u001B[0m\u001B[0;34m(\u001B[0m\u001B[0mdf_sub\u001B[0m\u001B[0;34m,\u001B[0m \u001B[0mon\u001B[0m\u001B[0;34m=\u001B[0m\u001B[0;34m[\u001B[0m\u001B[0;34m'mediabase_id'\u001B[0m\u001B[0;34m,\u001B[0m \u001B[0;34m'call_letters'\u001B[0m\u001B[0;34m]\u001B[0m\u001B[0;34m,\u001B[0m \u001B[0mhow\u001B[0m\u001B[0;34m=\u001B[0m\u001B[0;34m'left'\u001B[0m\u001B[0;34m)\u001B[0m\u001B[0;34m\u001B[0m\u001B[0;34m\u001B[0m\u001B[0m\n\u001B[0m",
      "\u001B[0;32m~/Documents/GitHub/adds-early-burnout-warning-model/venv/lib/python3.7/site-packages/pandas/core/frame.py\u001B[0m in \u001B[0;36mjoin\u001B[0;34m(self, other, on, how, lsuffix, rsuffix, sort)\u001B[0m\n\u001B[1;32m   7873\u001B[0m         \"\"\"\n\u001B[1;32m   7874\u001B[0m         return self._join_compat(\n\u001B[0;32m-> 7875\u001B[0;31m             \u001B[0mother\u001B[0m\u001B[0;34m,\u001B[0m \u001B[0mon\u001B[0m\u001B[0;34m=\u001B[0m\u001B[0mon\u001B[0m\u001B[0;34m,\u001B[0m \u001B[0mhow\u001B[0m\u001B[0;34m=\u001B[0m\u001B[0mhow\u001B[0m\u001B[0;34m,\u001B[0m \u001B[0mlsuffix\u001B[0m\u001B[0;34m=\u001B[0m\u001B[0mlsuffix\u001B[0m\u001B[0;34m,\u001B[0m \u001B[0mrsuffix\u001B[0m\u001B[0;34m=\u001B[0m\u001B[0mrsuffix\u001B[0m\u001B[0;34m,\u001B[0m \u001B[0msort\u001B[0m\u001B[0;34m=\u001B[0m\u001B[0msort\u001B[0m\u001B[0;34m\u001B[0m\u001B[0;34m\u001B[0m\u001B[0m\n\u001B[0m\u001B[1;32m   7876\u001B[0m         )\n\u001B[1;32m   7877\u001B[0m \u001B[0;34m\u001B[0m\u001B[0m\n",
      "\u001B[0;32m~/Documents/GitHub/adds-early-burnout-warning-model/venv/lib/python3.7/site-packages/pandas/core/frame.py\u001B[0m in \u001B[0;36m_join_compat\u001B[0;34m(self, other, on, how, lsuffix, rsuffix, sort)\u001B[0m\n\u001B[1;32m   7896\u001B[0m                 \u001B[0mright_index\u001B[0m\u001B[0;34m=\u001B[0m\u001B[0;32mTrue\u001B[0m\u001B[0;34m,\u001B[0m\u001B[0;34m\u001B[0m\u001B[0;34m\u001B[0m\u001B[0m\n\u001B[1;32m   7897\u001B[0m                 \u001B[0msuffixes\u001B[0m\u001B[0;34m=\u001B[0m\u001B[0;34m(\u001B[0m\u001B[0mlsuffix\u001B[0m\u001B[0;34m,\u001B[0m \u001B[0mrsuffix\u001B[0m\u001B[0;34m)\u001B[0m\u001B[0;34m,\u001B[0m\u001B[0;34m\u001B[0m\u001B[0;34m\u001B[0m\u001B[0m\n\u001B[0;32m-> 7898\u001B[0;31m                 \u001B[0msort\u001B[0m\u001B[0;34m=\u001B[0m\u001B[0msort\u001B[0m\u001B[0;34m,\u001B[0m\u001B[0;34m\u001B[0m\u001B[0;34m\u001B[0m\u001B[0m\n\u001B[0m\u001B[1;32m   7899\u001B[0m             )\n\u001B[1;32m   7900\u001B[0m         \u001B[0;32melse\u001B[0m\u001B[0;34m:\u001B[0m\u001B[0;34m\u001B[0m\u001B[0;34m\u001B[0m\u001B[0m\n",
      "\u001B[0;32m~/Documents/GitHub/adds-early-burnout-warning-model/venv/lib/python3.7/site-packages/pandas/core/reshape/merge.py\u001B[0m in \u001B[0;36mmerge\u001B[0;34m(left, right, how, on, left_on, right_on, left_index, right_index, sort, suffixes, copy, indicator, validate)\u001B[0m\n\u001B[1;32m     87\u001B[0m         \u001B[0mvalidate\u001B[0m\u001B[0;34m=\u001B[0m\u001B[0mvalidate\u001B[0m\u001B[0;34m,\u001B[0m\u001B[0;34m\u001B[0m\u001B[0;34m\u001B[0m\u001B[0m\n\u001B[1;32m     88\u001B[0m     )\n\u001B[0;32m---> 89\u001B[0;31m     \u001B[0;32mreturn\u001B[0m \u001B[0mop\u001B[0m\u001B[0;34m.\u001B[0m\u001B[0mget_result\u001B[0m\u001B[0;34m(\u001B[0m\u001B[0;34m)\u001B[0m\u001B[0;34m\u001B[0m\u001B[0;34m\u001B[0m\u001B[0m\n\u001B[0m\u001B[1;32m     90\u001B[0m \u001B[0;34m\u001B[0m\u001B[0m\n\u001B[1;32m     91\u001B[0m \u001B[0;34m\u001B[0m\u001B[0m\n",
      "\u001B[0;32m~/Documents/GitHub/adds-early-burnout-warning-model/venv/lib/python3.7/site-packages/pandas/core/reshape/merge.py\u001B[0m in \u001B[0;36mget_result\u001B[0;34m(self)\u001B[0m\n\u001B[1;32m    669\u001B[0m \u001B[0;34m\u001B[0m\u001B[0m\n\u001B[1;32m    670\u001B[0m         llabels, rlabels = _items_overlap_with_suffix(\n\u001B[0;32m--> 671\u001B[0;31m             \u001B[0mself\u001B[0m\u001B[0;34m.\u001B[0m\u001B[0mleft\u001B[0m\u001B[0;34m.\u001B[0m\u001B[0m_info_axis\u001B[0m\u001B[0;34m,\u001B[0m \u001B[0mself\u001B[0m\u001B[0;34m.\u001B[0m\u001B[0mright\u001B[0m\u001B[0;34m.\u001B[0m\u001B[0m_info_axis\u001B[0m\u001B[0;34m,\u001B[0m \u001B[0mself\u001B[0m\u001B[0;34m.\u001B[0m\u001B[0msuffixes\u001B[0m\u001B[0;34m\u001B[0m\u001B[0;34m\u001B[0m\u001B[0m\n\u001B[0m\u001B[1;32m    672\u001B[0m         )\n\u001B[1;32m    673\u001B[0m \u001B[0;34m\u001B[0m\u001B[0m\n",
      "\u001B[0;32m~/Documents/GitHub/adds-early-burnout-warning-model/venv/lib/python3.7/site-packages/pandas/core/reshape/merge.py\u001B[0m in \u001B[0;36m_items_overlap_with_suffix\u001B[0;34m(left, right, suffixes)\u001B[0m\n\u001B[1;32m   2094\u001B[0m \u001B[0;34m\u001B[0m\u001B[0m\n\u001B[1;32m   2095\u001B[0m     \u001B[0;32mif\u001B[0m \u001B[0;32mnot\u001B[0m \u001B[0mlsuffix\u001B[0m \u001B[0;32mand\u001B[0m \u001B[0;32mnot\u001B[0m \u001B[0mrsuffix\u001B[0m\u001B[0;34m:\u001B[0m\u001B[0;34m\u001B[0m\u001B[0;34m\u001B[0m\u001B[0m\n\u001B[0;32m-> 2096\u001B[0;31m         \u001B[0;32mraise\u001B[0m \u001B[0mValueError\u001B[0m\u001B[0;34m(\u001B[0m\u001B[0;34mf\"columns overlap but no suffix specified: {to_rename}\"\u001B[0m\u001B[0;34m)\u001B[0m\u001B[0;34m\u001B[0m\u001B[0;34m\u001B[0m\u001B[0m\n\u001B[0m\u001B[1;32m   2097\u001B[0m \u001B[0;34m\u001B[0m\u001B[0m\n\u001B[1;32m   2098\u001B[0m     \u001B[0;32mdef\u001B[0m \u001B[0mrenamer\u001B[0m\u001B[0;34m(\u001B[0m\u001B[0mx\u001B[0m\u001B[0;34m,\u001B[0m \u001B[0msuffix\u001B[0m\u001B[0;34m)\u001B[0m\u001B[0;34m:\u001B[0m\u001B[0;34m\u001B[0m\u001B[0;34m\u001B[0m\u001B[0m\n",
      "\u001B[0;31mValueError\u001B[0m: columns overlap but no suffix specified: Index(['week_dt_at_max_spins'], dtype='object')"
     ]
    }
   ],
   "source": [
    "df_sub = df_features_base[df_features_base['cuml_song_station_spins_non_on_max'] == df_features_base['cuml_song_station_spins_non_on']].groupby(['mediabase_id', 'call_letters']).agg({'week_dt': np.min})\n",
    "df_sub.columns = ['week_dt_at_max_spins']\n",
    "df_hits = df_hits.join(df_sub, on=['mediabase_id', 'call_letters'], how='left')"
   ],
   "metadata": {
    "collapsed": false,
    "pycharm": {
     "name": "#%%\n"
    }
   }
  },
  {
   "cell_type": "code",
   "execution_count": 333,
   "outputs": [
    {
     "data": {
      "text/plain": "        mediabase_id call_letters song_release_date  song_release_year  \\\n0            1086587      KHTS-FM        2022-06-01             2022.0   \n169          1086587      WHTZ-FM        2022-06-01             2022.0   \n159130       2305938      KZHT-FM        2017-06-01             2017.0   \n212605       2334402      KBKS-FM        2017-09-01             2017.0   \n228781       2337260      WRVW-FM        2017-09-01             2017.0   \n...              ...          ...               ...                ...   \n655069       2831617      KDWB-FM        2022-08-01             2022.0   \n655123       2831617      KZHT-FM        2022-08-01             2022.0   \n655205       2831617      WIHT-FM        2022-08-01             2022.0   \n655289       2831617      WXKS-FM        2022-08-01             2022.0   \n655344       2831617      WZFT-FM        2022-08-01             2022.0   \n\n         ftq_date  hit_tag_year ddl_over_thresh_dt_first  \\\n0      2022-07-10          2022               2022-11-06   \n169    2022-06-19          2022               2022-09-04   \n159130 2020-03-15          2020               2020-04-12   \n212605 2018-08-19          2021               2022-02-13   \n228781 2019-08-18          2021                     None   \n...           ...           ...                      ...   \n655069 2022-10-16          2022               2023-01-29   \n655123 2022-10-30          2022               2023-01-22   \n655205 2022-11-06          2022               2022-12-25   \n655289 2022-10-30          2022               2023-02-05   \n655344 2022-10-23          2022               2023-01-22   \n\n       ddl_over_thresh_dt_second  weeks_bw_ftq_first_spins  \\\n0                     2022-11-20                       4.0   \n169                   2022-09-18                       1.0   \n159130                2021-05-30                     136.0   \n212605                      None                      16.0   \n228781                      None                      15.0   \n...                          ...                       ...   \n655069                2023-02-12                       3.0   \n655123                2023-02-05                       5.0   \n655205                2023-02-05                       7.0   \n655289                2023-02-19                       6.0   \n655344                2023-02-05                       4.0   \n\n        weeks_bw_top_quintiles  ...  spins_to_hit_from_ftq  \\\n0                         15.0  ...                  875.0   \n169                        6.0  ...                  267.0   \n159130                     2.0  ...                  109.0   \n212605                   156.0  ...                  673.0   \n228781                    99.0  ...                 1959.0   \n...                        ...  ...                    ...   \n655069                     2.0  ...                  166.0   \n655123                     4.0  ...                  341.0   \n655205                     4.0  ...                  319.0   \n655289                     4.0  ...                  338.0   \n655344                     2.0  ...                  138.0   \n\n        spins_to_burnout_from_hit  cuml_song_station_spins_non_on_max  \\\n0                           193.0                                1274   \n169                         381.0                                 687   \n159130                      282.0                                1972   \n212605                        NaN                                1321   \n228781                        NaN                                2719   \n...                           ...                                 ...   \n655069                     1154.0                                1676   \n655123                      838.0                                1898   \n655205                      714.0                                1655   \n655289                      942.0                                1707   \n655344                     1059.0                                1628   \n\n        cuml_song_station_spins_non_on_since_hit_max  censoring_flg  \\\n0                                              285.0          False   \n169                                            404.0          False   \n159130                                         511.0          False   \n212605                                         459.0          False   \n228781                                         288.0          False   \n...                                              ...            ...   \n655069                                        1354.0          False   \n655123                                        1349.0          False   \n655205                                        1023.0          False   \n655289                                        1064.0          False   \n655344                                        1313.0          False   \n\n        hit_tag_date  weeks_since_hit_tag  censoring_flg_mod  \\\n0         2022-10-23                   34              False   \n169       2022-07-31                   46              False   \n159130    2020-03-29                  168              False   \n212605    2021-08-15                   96               True   \n228781    2021-07-11                  101               True   \n...              ...                  ...                ...   \n655069    2022-10-30                   33              False   \n655123    2022-11-27                   29              False   \n655205    2022-12-04                   28              False   \n655289    2022-11-27                   29              False   \n655344    2022-11-06                   32              False   \n\n        weeks_to_burnout_from_hit week_dt_at_max_spins  \n0                             4.0           2023-02-19  \n169                           7.0           2023-01-01  \n159130                       61.0           2023-02-19  \n212605                        NaN           2023-03-26  \n228781                        NaN           2023-02-26  \n...                           ...                  ...  \n655069                       15.0           2023-03-26  \n655123                       10.0           2023-03-26  \n655205                        9.0           2023-03-26  \n655289                       12.0           2023-03-26  \n655344                       13.0           2023-03-26  \n\n[1357 rows x 24 columns]",
      "text/html": "<div>\n<style scoped>\n    .dataframe tbody tr th:only-of-type {\n        vertical-align: middle;\n    }\n\n    .dataframe tbody tr th {\n        vertical-align: top;\n    }\n\n    .dataframe thead th {\n        text-align: right;\n    }\n</style>\n<table border=\"1\" class=\"dataframe\">\n  <thead>\n    <tr style=\"text-align: right;\">\n      <th></th>\n      <th>mediabase_id</th>\n      <th>call_letters</th>\n      <th>song_release_date</th>\n      <th>song_release_year</th>\n      <th>ftq_date</th>\n      <th>hit_tag_year</th>\n      <th>ddl_over_thresh_dt_first</th>\n      <th>ddl_over_thresh_dt_second</th>\n      <th>weeks_bw_ftq_first_spins</th>\n      <th>weeks_bw_top_quintiles</th>\n      <th>...</th>\n      <th>spins_to_hit_from_ftq</th>\n      <th>spins_to_burnout_from_hit</th>\n      <th>cuml_song_station_spins_non_on_max</th>\n      <th>cuml_song_station_spins_non_on_since_hit_max</th>\n      <th>censoring_flg</th>\n      <th>hit_tag_date</th>\n      <th>weeks_since_hit_tag</th>\n      <th>censoring_flg_mod</th>\n      <th>weeks_to_burnout_from_hit</th>\n      <th>week_dt_at_max_spins</th>\n    </tr>\n  </thead>\n  <tbody>\n    <tr>\n      <th>0</th>\n      <td>1086587</td>\n      <td>KHTS-FM</td>\n      <td>2022-06-01</td>\n      <td>2022.0</td>\n      <td>2022-07-10</td>\n      <td>2022</td>\n      <td>2022-11-06</td>\n      <td>2022-11-20</td>\n      <td>4.0</td>\n      <td>15.0</td>\n      <td>...</td>\n      <td>875.0</td>\n      <td>193.0</td>\n      <td>1274</td>\n      <td>285.0</td>\n      <td>False</td>\n      <td>2022-10-23</td>\n      <td>34</td>\n      <td>False</td>\n      <td>4.0</td>\n      <td>2023-02-19</td>\n    </tr>\n    <tr>\n      <th>169</th>\n      <td>1086587</td>\n      <td>WHTZ-FM</td>\n      <td>2022-06-01</td>\n      <td>2022.0</td>\n      <td>2022-06-19</td>\n      <td>2022</td>\n      <td>2022-09-04</td>\n      <td>2022-09-18</td>\n      <td>1.0</td>\n      <td>6.0</td>\n      <td>...</td>\n      <td>267.0</td>\n      <td>381.0</td>\n      <td>687</td>\n      <td>404.0</td>\n      <td>False</td>\n      <td>2022-07-31</td>\n      <td>46</td>\n      <td>False</td>\n      <td>7.0</td>\n      <td>2023-01-01</td>\n    </tr>\n    <tr>\n      <th>159130</th>\n      <td>2305938</td>\n      <td>KZHT-FM</td>\n      <td>2017-06-01</td>\n      <td>2017.0</td>\n      <td>2020-03-15</td>\n      <td>2020</td>\n      <td>2020-04-12</td>\n      <td>2021-05-30</td>\n      <td>136.0</td>\n      <td>2.0</td>\n      <td>...</td>\n      <td>109.0</td>\n      <td>282.0</td>\n      <td>1972</td>\n      <td>511.0</td>\n      <td>False</td>\n      <td>2020-03-29</td>\n      <td>168</td>\n      <td>False</td>\n      <td>61.0</td>\n      <td>2023-02-19</td>\n    </tr>\n    <tr>\n      <th>212605</th>\n      <td>2334402</td>\n      <td>KBKS-FM</td>\n      <td>2017-09-01</td>\n      <td>2017.0</td>\n      <td>2018-08-19</td>\n      <td>2021</td>\n      <td>2022-02-13</td>\n      <td>None</td>\n      <td>16.0</td>\n      <td>156.0</td>\n      <td>...</td>\n      <td>673.0</td>\n      <td>NaN</td>\n      <td>1321</td>\n      <td>459.0</td>\n      <td>False</td>\n      <td>2021-08-15</td>\n      <td>96</td>\n      <td>True</td>\n      <td>NaN</td>\n      <td>2023-03-26</td>\n    </tr>\n    <tr>\n      <th>228781</th>\n      <td>2337260</td>\n      <td>WRVW-FM</td>\n      <td>2017-09-01</td>\n      <td>2017.0</td>\n      <td>2019-08-18</td>\n      <td>2021</td>\n      <td>None</td>\n      <td>None</td>\n      <td>15.0</td>\n      <td>99.0</td>\n      <td>...</td>\n      <td>1959.0</td>\n      <td>NaN</td>\n      <td>2719</td>\n      <td>288.0</td>\n      <td>False</td>\n      <td>2021-07-11</td>\n      <td>101</td>\n      <td>True</td>\n      <td>NaN</td>\n      <td>2023-02-26</td>\n    </tr>\n    <tr>\n      <th>...</th>\n      <td>...</td>\n      <td>...</td>\n      <td>...</td>\n      <td>...</td>\n      <td>...</td>\n      <td>...</td>\n      <td>...</td>\n      <td>...</td>\n      <td>...</td>\n      <td>...</td>\n      <td>...</td>\n      <td>...</td>\n      <td>...</td>\n      <td>...</td>\n      <td>...</td>\n      <td>...</td>\n      <td>...</td>\n      <td>...</td>\n      <td>...</td>\n      <td>...</td>\n      <td>...</td>\n    </tr>\n    <tr>\n      <th>655069</th>\n      <td>2831617</td>\n      <td>KDWB-FM</td>\n      <td>2022-08-01</td>\n      <td>2022.0</td>\n      <td>2022-10-16</td>\n      <td>2022</td>\n      <td>2023-01-29</td>\n      <td>2023-02-12</td>\n      <td>3.0</td>\n      <td>2.0</td>\n      <td>...</td>\n      <td>166.0</td>\n      <td>1154.0</td>\n      <td>1676</td>\n      <td>1354.0</td>\n      <td>False</td>\n      <td>2022-10-30</td>\n      <td>33</td>\n      <td>False</td>\n      <td>15.0</td>\n      <td>2023-03-26</td>\n    </tr>\n    <tr>\n      <th>655123</th>\n      <td>2831617</td>\n      <td>KZHT-FM</td>\n      <td>2022-08-01</td>\n      <td>2022.0</td>\n      <td>2022-10-30</td>\n      <td>2022</td>\n      <td>2023-01-22</td>\n      <td>2023-02-05</td>\n      <td>5.0</td>\n      <td>4.0</td>\n      <td>...</td>\n      <td>341.0</td>\n      <td>838.0</td>\n      <td>1898</td>\n      <td>1349.0</td>\n      <td>False</td>\n      <td>2022-11-27</td>\n      <td>29</td>\n      <td>False</td>\n      <td>10.0</td>\n      <td>2023-03-26</td>\n    </tr>\n    <tr>\n      <th>655205</th>\n      <td>2831617</td>\n      <td>WIHT-FM</td>\n      <td>2022-08-01</td>\n      <td>2022.0</td>\n      <td>2022-11-06</td>\n      <td>2022</td>\n      <td>2022-12-25</td>\n      <td>2023-02-05</td>\n      <td>7.0</td>\n      <td>4.0</td>\n      <td>...</td>\n      <td>319.0</td>\n      <td>714.0</td>\n      <td>1655</td>\n      <td>1023.0</td>\n      <td>False</td>\n      <td>2022-12-04</td>\n      <td>28</td>\n      <td>False</td>\n      <td>9.0</td>\n      <td>2023-03-26</td>\n    </tr>\n    <tr>\n      <th>655289</th>\n      <td>2831617</td>\n      <td>WXKS-FM</td>\n      <td>2022-08-01</td>\n      <td>2022.0</td>\n      <td>2022-10-30</td>\n      <td>2022</td>\n      <td>2023-02-05</td>\n      <td>2023-02-19</td>\n      <td>6.0</td>\n      <td>4.0</td>\n      <td>...</td>\n      <td>338.0</td>\n      <td>942.0</td>\n      <td>1707</td>\n      <td>1064.0</td>\n      <td>False</td>\n      <td>2022-11-27</td>\n      <td>29</td>\n      <td>False</td>\n      <td>12.0</td>\n      <td>2023-03-26</td>\n    </tr>\n    <tr>\n      <th>655344</th>\n      <td>2831617</td>\n      <td>WZFT-FM</td>\n      <td>2022-08-01</td>\n      <td>2022.0</td>\n      <td>2022-10-23</td>\n      <td>2022</td>\n      <td>2023-01-22</td>\n      <td>2023-02-05</td>\n      <td>4.0</td>\n      <td>2.0</td>\n      <td>...</td>\n      <td>138.0</td>\n      <td>1059.0</td>\n      <td>1628</td>\n      <td>1313.0</td>\n      <td>False</td>\n      <td>2022-11-06</td>\n      <td>32</td>\n      <td>False</td>\n      <td>13.0</td>\n      <td>2023-03-26</td>\n    </tr>\n  </tbody>\n</table>\n<p>1357 rows × 24 columns</p>\n</div>"
     },
     "execution_count": 333,
     "metadata": {},
     "output_type": "execute_result"
    }
   ],
   "source": [
    "df_hits"
   ],
   "metadata": {
    "collapsed": false,
    "pycharm": {
     "name": "#%%\n"
    }
   }
  },
  {
   "cell_type": "code",
   "execution_count": 327,
   "outputs": [
    {
     "data": {
      "text/plain": "count    995.000000\nmean      20.533668\nstd       16.692075\nmin        2.000000\n25%       10.000000\n50%       16.000000\n75%       26.000000\nmax      156.000000\nName: weeks_to_burnout_from_hit, dtype: float64"
     },
     "execution_count": 327,
     "metadata": {},
     "output_type": "execute_result"
    }
   ],
   "source": [
    "df_hits['weeks_to_burnout_from_hit'].describe()"
   ],
   "metadata": {
    "collapsed": false,
    "pycharm": {
     "name": "#%%\n"
    }
   }
  },
  {
   "cell_type": "code",
   "execution_count": 300,
   "outputs": [
    {
     "data": {
      "text/plain": "censoring_flg_mod\nFalse    956\nTrue     401\nName: mediabase_id, dtype: int64"
     },
     "execution_count": 300,
     "metadata": {},
     "output_type": "execute_result"
    }
   ],
   "source": [
    "df_hits.groupby(['censoring_flg_mod'])['mediabase_id'].count()"
   ],
   "metadata": {
    "collapsed": false,
    "pycharm": {
     "name": "#%%\n"
    }
   }
  },
  {
   "cell_type": "code",
   "execution_count": 375,
   "outputs": [
    {
     "data": {
      "text/plain": "        mediabase_id call_letters song_release_date  song_release_year  \\\n212605       2334402      KBKS-FM        2017-09-01             2017.0   \n228781       2337260      WRVW-FM        2017-09-01             2017.0   \n239698       2345185      WNCI-FM        2017-10-01             2017.0   \n244425       2345779      WKSC-FM        2017-10-01             2017.0   \n313392       2388055      WRVW-FM        2018-04-01             2018.0   \n...              ...          ...               ...                ...   \n649250       2780626      WRVW-FM        2022-02-01             2022.0   \n649308       2780771      KHTS-FM        2022-02-01             2022.0   \n650142       2794968      KHKS-FM        2022-03-01             2022.0   \n650990       2794968      WRVW-FM        2022-03-01             2022.0   \n651814       2798183      KIIS-FM        2022-04-01             2022.0   \n\n         ftq_date  hit_tag_year ddl_over_thresh_dt_first  \\\n212605 2018-08-19          2021               2022-02-13   \n228781 2019-08-18          2021                     None   \n239698 2019-01-27          2022                     None   \n244425 2019-06-16          2021                     None   \n313392 2019-01-20          2021                     None   \n...           ...           ...                      ...   \n649250 2022-05-22          2022                     None   \n649308 2022-04-24          2022                     None   \n650142 2022-05-01          2022               2022-07-24   \n650990 2022-06-05          2022               2023-01-08   \n651814 2022-05-15          2022               2022-10-16   \n\n       ddl_over_thresh_dt_second  weeks_bw_ftq_first_spins  \\\n212605                      None                      16.0   \n228781                      None                      15.0   \n239698                      None                      48.0   \n244425                      None                      70.0   \n313392                      None                      32.0   \n...                          ...                       ...   \n649250                      None                      13.0   \n649308                      None                       9.0   \n650142                2023-01-15                       5.0   \n650990                2023-05-07                      10.0   \n651814                2023-04-02                       5.0   \n\n        weeks_bw_top_quintiles  ...  spins_to_hit_from_ftq  \\\n212605                   156.0  ...                  673.0   \n228781                    99.0  ...                 1959.0   \n239698                   171.0  ...                  932.0   \n244425                    89.0  ...                  168.0   \n313392                   109.0  ...                  313.0   \n...                        ...  ...                    ...   \n649250                     2.0  ...                  186.0   \n649308                     8.0  ...                  616.0   \n650142                     2.0  ...                  170.0   \n650990                     2.0  ...                  180.0   \n651814                     5.0  ...                  353.0   \n\n        spins_to_burnout_from_hit  cuml_song_station_spins_non_on_max  \\\n212605                        NaN                                1321   \n228781                        NaN                                2719   \n239698                        NaN                                2358   \n244425                        NaN                                1461   \n313392                        NaN                                 777   \n...                           ...                                 ...   \n649250                        NaN                                1935   \n649308                        NaN                                2297   \n650142                     2551.0                                3583   \n650990                        NaN                                4220   \n651814                        NaN                                1803   \n\n        cuml_song_station_spins_non_on_since_hit_max  censoring_flg  \\\n212605                                         459.0          False   \n228781                                         288.0          False   \n239698                                          36.0          False   \n244425                                         208.0          False   \n313392                                          19.0          False   \n...                                              ...            ...   \n649250                                        1081.0          False   \n649308                                        1491.0          False   \n650142                                        3087.0          False   \n650990                                        3182.0          False   \n651814                                        1362.0          False   \n\n        hit_tag_date  weeks_since_hit_tag  censoring_flg_mod  \\\n212605    2021-08-15                   96              False   \n228781    2021-07-11                  101              False   \n239698    2022-05-08                   58              False   \n244425    2021-02-28                  120              False   \n313392    2021-02-21                  121              False   \n...              ...                  ...                ...   \n649250    2022-06-05                   54              False   \n649308    2022-06-19                   52              False   \n650142    2022-05-15                   57              False   \n650990    2022-06-19                   52              False   \n651814    2022-06-19                   52              False   \n\n        weeks_to_burnout_from_hit week_dt_at_max_spins  \n212605                        NaN           2023-03-26  \n228781                        NaN           2023-02-26  \n239698                        NaN           2023-03-26  \n244425                        NaN           2023-03-26  \n313392                        NaN           2023-02-26  \n...                           ...                  ...  \n649250                        NaN           2023-03-19  \n649308                        NaN           2023-02-26  \n650142                       35.0           2023-03-26  \n650990                       46.0           2023-03-26  \n651814                       41.0           2023-03-26  \n\n[401 rows x 24 columns]",
      "text/html": "<div>\n<style scoped>\n    .dataframe tbody tr th:only-of-type {\n        vertical-align: middle;\n    }\n\n    .dataframe tbody tr th {\n        vertical-align: top;\n    }\n\n    .dataframe thead th {\n        text-align: right;\n    }\n</style>\n<table border=\"1\" class=\"dataframe\">\n  <thead>\n    <tr style=\"text-align: right;\">\n      <th></th>\n      <th>mediabase_id</th>\n      <th>call_letters</th>\n      <th>song_release_date</th>\n      <th>song_release_year</th>\n      <th>ftq_date</th>\n      <th>hit_tag_year</th>\n      <th>ddl_over_thresh_dt_first</th>\n      <th>ddl_over_thresh_dt_second</th>\n      <th>weeks_bw_ftq_first_spins</th>\n      <th>weeks_bw_top_quintiles</th>\n      <th>...</th>\n      <th>spins_to_hit_from_ftq</th>\n      <th>spins_to_burnout_from_hit</th>\n      <th>cuml_song_station_spins_non_on_max</th>\n      <th>cuml_song_station_spins_non_on_since_hit_max</th>\n      <th>censoring_flg</th>\n      <th>hit_tag_date</th>\n      <th>weeks_since_hit_tag</th>\n      <th>censoring_flg_mod</th>\n      <th>weeks_to_burnout_from_hit</th>\n      <th>week_dt_at_max_spins</th>\n    </tr>\n  </thead>\n  <tbody>\n    <tr>\n      <th>212605</th>\n      <td>2334402</td>\n      <td>KBKS-FM</td>\n      <td>2017-09-01</td>\n      <td>2017.0</td>\n      <td>2018-08-19</td>\n      <td>2021</td>\n      <td>2022-02-13</td>\n      <td>None</td>\n      <td>16.0</td>\n      <td>156.0</td>\n      <td>...</td>\n      <td>673.0</td>\n      <td>NaN</td>\n      <td>1321</td>\n      <td>459.0</td>\n      <td>False</td>\n      <td>2021-08-15</td>\n      <td>96</td>\n      <td>False</td>\n      <td>NaN</td>\n      <td>2023-03-26</td>\n    </tr>\n    <tr>\n      <th>228781</th>\n      <td>2337260</td>\n      <td>WRVW-FM</td>\n      <td>2017-09-01</td>\n      <td>2017.0</td>\n      <td>2019-08-18</td>\n      <td>2021</td>\n      <td>None</td>\n      <td>None</td>\n      <td>15.0</td>\n      <td>99.0</td>\n      <td>...</td>\n      <td>1959.0</td>\n      <td>NaN</td>\n      <td>2719</td>\n      <td>288.0</td>\n      <td>False</td>\n      <td>2021-07-11</td>\n      <td>101</td>\n      <td>False</td>\n      <td>NaN</td>\n      <td>2023-02-26</td>\n    </tr>\n    <tr>\n      <th>239698</th>\n      <td>2345185</td>\n      <td>WNCI-FM</td>\n      <td>2017-10-01</td>\n      <td>2017.0</td>\n      <td>2019-01-27</td>\n      <td>2022</td>\n      <td>None</td>\n      <td>None</td>\n      <td>48.0</td>\n      <td>171.0</td>\n      <td>...</td>\n      <td>932.0</td>\n      <td>NaN</td>\n      <td>2358</td>\n      <td>36.0</td>\n      <td>False</td>\n      <td>2022-05-08</td>\n      <td>58</td>\n      <td>False</td>\n      <td>NaN</td>\n      <td>2023-03-26</td>\n    </tr>\n    <tr>\n      <th>244425</th>\n      <td>2345779</td>\n      <td>WKSC-FM</td>\n      <td>2017-10-01</td>\n      <td>2017.0</td>\n      <td>2019-06-16</td>\n      <td>2021</td>\n      <td>None</td>\n      <td>None</td>\n      <td>70.0</td>\n      <td>89.0</td>\n      <td>...</td>\n      <td>168.0</td>\n      <td>NaN</td>\n      <td>1461</td>\n      <td>208.0</td>\n      <td>False</td>\n      <td>2021-02-28</td>\n      <td>120</td>\n      <td>False</td>\n      <td>NaN</td>\n      <td>2023-03-26</td>\n    </tr>\n    <tr>\n      <th>313392</th>\n      <td>2388055</td>\n      <td>WRVW-FM</td>\n      <td>2018-04-01</td>\n      <td>2018.0</td>\n      <td>2019-01-20</td>\n      <td>2021</td>\n      <td>None</td>\n      <td>None</td>\n      <td>32.0</td>\n      <td>109.0</td>\n      <td>...</td>\n      <td>313.0</td>\n      <td>NaN</td>\n      <td>777</td>\n      <td>19.0</td>\n      <td>False</td>\n      <td>2021-02-21</td>\n      <td>121</td>\n      <td>False</td>\n      <td>NaN</td>\n      <td>2023-02-26</td>\n    </tr>\n    <tr>\n      <th>...</th>\n      <td>...</td>\n      <td>...</td>\n      <td>...</td>\n      <td>...</td>\n      <td>...</td>\n      <td>...</td>\n      <td>...</td>\n      <td>...</td>\n      <td>...</td>\n      <td>...</td>\n      <td>...</td>\n      <td>...</td>\n      <td>...</td>\n      <td>...</td>\n      <td>...</td>\n      <td>...</td>\n      <td>...</td>\n      <td>...</td>\n      <td>...</td>\n      <td>...</td>\n      <td>...</td>\n    </tr>\n    <tr>\n      <th>649250</th>\n      <td>2780626</td>\n      <td>WRVW-FM</td>\n      <td>2022-02-01</td>\n      <td>2022.0</td>\n      <td>2022-05-22</td>\n      <td>2022</td>\n      <td>None</td>\n      <td>None</td>\n      <td>13.0</td>\n      <td>2.0</td>\n      <td>...</td>\n      <td>186.0</td>\n      <td>NaN</td>\n      <td>1935</td>\n      <td>1081.0</td>\n      <td>False</td>\n      <td>2022-06-05</td>\n      <td>54</td>\n      <td>False</td>\n      <td>NaN</td>\n      <td>2023-03-19</td>\n    </tr>\n    <tr>\n      <th>649308</th>\n      <td>2780771</td>\n      <td>KHTS-FM</td>\n      <td>2022-02-01</td>\n      <td>2022.0</td>\n      <td>2022-04-24</td>\n      <td>2022</td>\n      <td>None</td>\n      <td>None</td>\n      <td>9.0</td>\n      <td>8.0</td>\n      <td>...</td>\n      <td>616.0</td>\n      <td>NaN</td>\n      <td>2297</td>\n      <td>1491.0</td>\n      <td>False</td>\n      <td>2022-06-19</td>\n      <td>52</td>\n      <td>False</td>\n      <td>NaN</td>\n      <td>2023-02-26</td>\n    </tr>\n    <tr>\n      <th>650142</th>\n      <td>2794968</td>\n      <td>KHKS-FM</td>\n      <td>2022-03-01</td>\n      <td>2022.0</td>\n      <td>2022-05-01</td>\n      <td>2022</td>\n      <td>2022-07-24</td>\n      <td>2023-01-15</td>\n      <td>5.0</td>\n      <td>2.0</td>\n      <td>...</td>\n      <td>170.0</td>\n      <td>2551.0</td>\n      <td>3583</td>\n      <td>3087.0</td>\n      <td>False</td>\n      <td>2022-05-15</td>\n      <td>57</td>\n      <td>False</td>\n      <td>35.0</td>\n      <td>2023-03-26</td>\n    </tr>\n    <tr>\n      <th>650990</th>\n      <td>2794968</td>\n      <td>WRVW-FM</td>\n      <td>2022-03-01</td>\n      <td>2022.0</td>\n      <td>2022-06-05</td>\n      <td>2022</td>\n      <td>2023-01-08</td>\n      <td>2023-05-07</td>\n      <td>10.0</td>\n      <td>2.0</td>\n      <td>...</td>\n      <td>180.0</td>\n      <td>NaN</td>\n      <td>4220</td>\n      <td>3182.0</td>\n      <td>False</td>\n      <td>2022-06-19</td>\n      <td>52</td>\n      <td>False</td>\n      <td>46.0</td>\n      <td>2023-03-26</td>\n    </tr>\n    <tr>\n      <th>651814</th>\n      <td>2798183</td>\n      <td>KIIS-FM</td>\n      <td>2022-04-01</td>\n      <td>2022.0</td>\n      <td>2022-05-15</td>\n      <td>2022</td>\n      <td>2022-10-16</td>\n      <td>2023-04-02</td>\n      <td>5.0</td>\n      <td>5.0</td>\n      <td>...</td>\n      <td>353.0</td>\n      <td>NaN</td>\n      <td>1803</td>\n      <td>1362.0</td>\n      <td>False</td>\n      <td>2022-06-19</td>\n      <td>52</td>\n      <td>False</td>\n      <td>41.0</td>\n      <td>2023-03-26</td>\n    </tr>\n  </tbody>\n</table>\n<p>401 rows × 24 columns</p>\n</div>"
     },
     "execution_count": 375,
     "metadata": {},
     "output_type": "execute_result"
    }
   ],
   "source": [
    "df_hits[df_hits['censoring_flg_mod'] == False]"
   ],
   "metadata": {
    "collapsed": false,
    "pycharm": {
     "name": "#%%\n"
    }
   }
  },
  {
   "cell_type": "code",
   "execution_count": 274,
   "outputs": [
    {
     "data": {
      "text/plain": "<AxesSubplot:>"
     },
     "execution_count": 274,
     "metadata": {},
     "output_type": "execute_result"
    },
    {
     "data": {
      "text/plain": "<Figure size 640x480 with 1 Axes>",
      "image/png": "[encoded data removed]"
     },
     "metadata": {},
     "output_type": "display_data"
    }
   ],
   "source": [
    "df_hits.loc[pd.isna(df_hits['cuml_song_station_spins_non_on_at_burnout']), 'cuml_song_station_spins_non_on_since_hit_max'].plot(kind='box')"
   ],
   "metadata": {
    "collapsed": false,
    "pycharm": {
     "name": "#%%\n"
    }
   }
  },
  {
   "cell_type": "code",
   "execution_count": 297,
   "outputs": [
    {
     "data": {
      "text/plain": "0          285.0\n169        404.0\n159130     511.0\n212605     459.0\n228781     288.0\n           ...  \n655069    1354.0\n655123    1349.0\n655205    1023.0\n655289    1064.0\n655344    1313.0\nName: cuml_song_station_spins_non_on_since_hit_max, Length: 1357, dtype: float64"
     },
     "execution_count": 297,
     "metadata": {},
     "output_type": "execute_result"
    }
   ],
   "source": [
    "df_hits['cuml_song_station_spins_non_on_since_hit_max']"
   ],
   "metadata": {
    "collapsed": false,
    "pycharm": {
     "name": "#%%\n"
    }
   }
  },
  {
   "cell_type": "code",
   "execution_count": 376,
   "outputs": [],
   "source": [
    "df_sub = df_sample.groupby(['weeks_since_hit', 'censoring_flg_mod']).apply(lambda x: (x['cuml_song_station_spins_non_on'] - x['cuml_song_station_spins_non_on_at_hit']).mean())\n",
    "df_sub = df_sub.reset_index()\n",
    "df_sub.columns=['weeks_since_hit', 'censoring_flg_mod', 'average_spins_since_hit']\n",
    "df_sub_pvt = df_sub.reset_index().pivot_table(index=['weeks_since_hit'], columns=['censoring_flg_mod'], values=['average_spins_since_hit'])"
   ],
   "metadata": {
    "collapsed": false,
    "pycharm": {
     "name": "#%%\n"
    }
   }
  },
  {
   "cell_type": "code",
   "execution_count": 377,
   "outputs": [],
   "source": [
    "df_sub_pvt.columns=['censoring_flg_False', 'censoring_flg_True']"
   ],
   "metadata": {
    "collapsed": false,
    "pycharm": {
     "name": "#%%\n"
    }
   }
  },
  {
   "cell_type": "code",
   "execution_count": 378,
   "outputs": [
    {
     "data": {
      "text/plain": "<AxesSubplot:xlabel='weeks_since_hit'>"
     },
     "execution_count": 378,
     "metadata": {},
     "output_type": "execute_result"
    },
    {
     "data": {
      "text/plain": "<Figure size 640x480 with 1 Axes>",
      "image/png": "[encoded data removed]"
     },
     "metadata": {},
     "output_type": "display_data"
    }
   ],
   "source": [
    "df_sub_pvt.plot()"
   ],
   "metadata": {
    "collapsed": false,
    "pycharm": {
     "name": "#%%\n"
    }
   }
  },
  {
   "cell_type": "code",
   "execution_count": 353,
   "outputs": [
    {
     "data": {
      "text/plain": "weeks_since_hit  censoring_flg_mod\n0.0              False                956\n                 True                 399\n1.0              False                956\n                 True                 400\n2.0              False                940\n                                     ... \n155.0            False                  1\n                 True                   7\n156.0            True                   4\n157.0            True                   4\n158.0            True                   4\nLength: 315, dtype: int64"
     },
     "execution_count": 353,
     "metadata": {},
     "output_type": "execute_result"
    }
   ],
   "source": [
    "df_sample.groupby(['weeks_since_hit', 'censoring_flg_mod']).apply(lambda x: len(x))"
   ],
   "metadata": {
    "collapsed": false,
    "pycharm": {
     "name": "#%%\n"
    }
   }
  },
  {
   "cell_type": "markdown",
   "source": [
    "### create ddl-to-spins and spins-to-ddl features"
   ],
   "metadata": {
    "collapsed": false,
    "pycharm": {
     "name": "#%% md\n"
    }
   }
  },
  {
   "cell_type": "code",
   "execution_count": 380,
   "outputs": [],
   "source": [
    "for wk in [1, 4, 8, 13, 26]:\n",
    "    df_sample[f'ddl_to_spins_ratio_{wk}wk'] = df_sample[\n",
    "                                                  f'song_station_ddl_{wk}wk_lag1_mean'] /\\\n",
    "                                              df_sample[\n",
    "                                                  f'song_station_spins_non_on_{wk}wk_lag1_mean']"
   ],
   "metadata": {
    "collapsed": false,
    "pycharm": {
     "name": "#%%\n"
    }
   }
  },
  {
   "cell_type": "code",
   "execution_count": 381,
   "outputs": [],
   "source": [
    "for wk in [1, 4, 8, 13, 26]:\n",
    "    df_sample[f'spins_to_ddl_ratio_{wk}wk'] = df_sample[\n",
    "                                                  f'song_station_spins_non_on_{wk}wk_lag1_mean'] /\\\n",
    "                                              df_sample[f'song_station_ddl_{wk}wk_lag1_mean']\n",
    "df_sample[f'spins_to_ddl_change_ratio_{wk}wk'] = df_sample[\n",
    "                                                     f'song_station_spins_non_on_{wk}wk_lag1_mean'] /\\\n",
    "                                                 df_sample[\n",
    "                                                     f'song_station_ddl_{wk}wk_lag1_mean'].diff()"
   ],
   "metadata": {
    "collapsed": false,
    "pycharm": {
     "name": "#%%\n"
    }
   }
  },
  {
   "cell_type": "markdown",
   "source": [
    "### write to pickle files"
   ],
   "metadata": {
    "collapsed": false
   }
  },
  {
   "cell_type": "code",
   "execution_count": 383,
   "outputs": [],
   "source": [
    "df_hits.to_pickle('ebw_hits_tracker_sample_h1.pkl')"
   ],
   "metadata": {
    "collapsed": false,
    "pycharm": {
     "name": "#%%\n"
    }
   }
  },
  {
   "cell_type": "code",
   "execution_count": 384,
   "outputs": [],
   "source": [
    "df_sample.to_pickle('ebw_train_test_sample_h1.pkl')"
   ],
   "metadata": {
    "collapsed": false,
    "pycharm": {
     "name": "#%%\n"
    }
   }
  },
  {
   "cell_type": "markdown",
   "source": [
    "### check correlation"
   ],
   "metadata": {
    "collapsed": false
   }
  },
  {
   "cell_type": "markdown",
   "source": [
    "### Analyze correlation b/w target and features"
   ],
   "metadata": {
    "collapsed": false,
    "pycharm": {
     "name": "#%% md\n"
    }
   }
  },
  {
   "cell_type": "code",
   "execution_count": 385,
   "outputs": [],
   "source": [
    "df_corr_test = df_sample.groupby(['weeks_since_hit']).corr()['target']"
   ],
   "metadata": {
    "collapsed": false,
    "pycharm": {
     "name": "#%%\n"
    }
   }
  },
  {
   "cell_type": "code",
   "execution_count": 386,
   "outputs": [],
   "source": [
    "df_corr_pivot = pd.DataFrame()\n",
    "for wk in pd.unique(df_corr_test.index.get_level_values(0)):\n",
    "    if int(wk) <= 52:\n",
    "        df_corr_pivot['wk_' + str(int(wk))] = df_corr_test[wk]"
   ],
   "metadata": {
    "collapsed": false,
    "pycharm": {
     "name": "#%%\n"
    }
   }
  },
  {
   "cell_type": "code",
   "execution_count": 387,
   "outputs": [
    {
     "data": {
      "text/plain": "target                                          1.000000\ncuml_song_station_spins_non_on_since_hit_max    0.641994\ncuml_song_station_spins_non_on_at_burnout       0.635296\ncuml_song_station_spins_non_on_max              0.592382\nspins_to_ddl_ratio_4wk                          0.556331\n                                                  ...   \nddl_to_spins_ratio_1wk                         -0.317826\nsong_format_ddl_26wk_lag1_max                  -0.324511\nsong_station_ddl_26wk_lag1_min                 -0.334462\nsong_station_ddl_8wk_lag1_min                  -0.345296\nsong_station_ddl_13wk_lag1_min                 -0.365984\nLength: 1236, dtype: float64"
     },
     "execution_count": 387,
     "metadata": {},
     "output_type": "execute_result"
    }
   ],
   "source": [
    "df_corr_pivot.T.mean().sort_values(ascending=False)"
   ],
   "metadata": {
    "collapsed": false,
    "pycharm": {
     "name": "#%%\n"
    }
   }
  }
 ],
 "metadata": {
  "kernelspec": {
   "display_name": "Python 3",
   "language": "python",
   "name": "python3"
  },
  "language_info": {
   "codemirror_mode": {
    "name": "ipython",
    "version": 2
   },
   "file_extension": ".py",
   "mimetype": "text/x-python",
   "name": "python",
   "nbconvert_exporter": "python",
   "pygments_lexer": "ipython2",
   "version": "2.7.6"
  }
 },
 "nbformat": 4,
 "nbformat_minor": 0
}