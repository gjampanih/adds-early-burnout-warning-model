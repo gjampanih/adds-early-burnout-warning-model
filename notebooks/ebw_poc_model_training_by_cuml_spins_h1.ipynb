{
 "cells": [
  {
   "cell_type": "code",
   "execution_count": 2,
   "outputs": [],
   "source": [
    "# import packages\n",
    "import pandas as pd\n",
    "import numpy as np\n",
    "import matplotlib.pyplot as plt"
   ],
   "metadata": {
    "collapsed": false
   }
  },
  {
   "cell_type": "markdown",
   "source": [
    "#### Examine Train/Test Sets"
   ],
   "metadata": {
    "collapsed": false
   }
  },
  {
   "cell_type": "code",
   "execution_count": 3,
   "outputs": [],
   "source": [
    "df_train_sets = pd.read_pickle('ebw_poc_train_sample_expt2_h1.pkl')\n",
    "df_test_sets  = pd.read_pickle('ebw_poc_test_sample_expt2_h1.pkl')"
   ],
   "metadata": {
    "collapsed": false
   }
  },
  {
   "cell_type": "code",
   "execution_count": 4,
   "outputs": [],
   "source": [
    "df_all_prep = pd.concat([df_train_sets, df_test_sets])"
   ],
   "metadata": {
    "collapsed": false
   }
  },
  {
   "cell_type": "code",
   "execution_count": 5,
   "outputs": [],
   "source": [
    "df_cuml_spins=pd.read_pickle('ebw_raw_features_base_cuml_spins_h1.pkl')"
   ],
   "metadata": {
    "collapsed": false
   }
  },
  {
   "cell_type": "code",
   "execution_count": 6,
   "outputs": [],
   "source": [
    "df_cuml_spins['cuml_song_station_spins_non_on_since_hit'] = df_cuml_spins['cuml_song_station_spins_non_on'] - df_cuml_spins['cuml_song_station_spins_non_on_at_hit']"
   ],
   "metadata": {
    "collapsed": false
   }
  },
  {
   "cell_type": "code",
   "execution_count": 7,
   "outputs": [
    {
     "data": {
      "text/plain": "        mediabase_id call_letters    week_dt  weeks_since_hit  \\\n0            1086587      KHTS-FM 2022-06-12            -19.0   \n1            1086587      KHTS-FM 2022-06-19            -18.0   \n2            1086587      KHTS-FM 2022-06-26            -17.0   \n3            1086587      KHTS-FM 2022-07-03            -16.0   \n4            1086587      KHTS-FM 2022-07-10            -15.0   \n...              ...          ...        ...              ...   \n656703       2865765      WZFT-FM 2023-02-26              3.0   \n656704       2865765      WZFT-FM 2023-03-05              4.0   \n656705       2865765      WZFT-FM 2023-03-12              5.0   \n656706       2865765      WZFT-FM 2023-03-19              6.0   \n656707       2865765      WZFT-FM 2023-03-26              7.0   \n\n        cuml_song_station_spins_non_on  cuml_song_station_spins_non_on_at_hit  \\\n0                                   11                                  989.0   \n1                                   27                                  989.0   \n2                                   46                                  989.0   \n3                                   77                                  989.0   \n4                                  114                                  989.0   \n...                                ...                                    ...   \n656703                             500                                  253.0   \n656704                             597                                  253.0   \n656705                             688                                  253.0   \n656706                             782                                  253.0   \n656707                             869                                  253.0   \n\n        cuml_song_station_spins_non_on_since_hit  \n0                                         -978.0  \n1                                         -962.0  \n2                                         -943.0  \n3                                         -912.0  \n4                                         -875.0  \n...                                          ...  \n656703                                     247.0  \n656704                                     344.0  \n656705                                     435.0  \n656706                                     529.0  \n656707                                     616.0  \n\n[656708 rows x 7 columns]",
      "text/html": "<div>\n<style scoped>\n    .dataframe tbody tr th:only-of-type {\n        vertical-align: middle;\n    }\n\n    .dataframe tbody tr th {\n        vertical-align: top;\n    }\n\n    .dataframe thead th {\n        text-align: right;\n    }\n</style>\n<table border=\"1\" class=\"dataframe\">\n  <thead>\n    <tr style=\"text-align: right;\">\n      <th></th>\n      <th>mediabase_id</th>\n      <th>call_letters</th>\n      <th>week_dt</th>\n      <th>weeks_since_hit</th>\n      <th>cuml_song_station_spins_non_on</th>\n      <th>cuml_song_station_spins_non_on_at_hit</th>\n      <th>cuml_song_station_spins_non_on_since_hit</th>\n    </tr>\n  </thead>\n  <tbody>\n    <tr>\n      <th>0</th>\n      <td>1086587</td>\n      <td>KHTS-FM</td>\n      <td>2022-06-12</td>\n      <td>-19.0</td>\n      <td>11</td>\n      <td>989.0</td>\n      <td>-978.0</td>\n    </tr>\n    <tr>\n      <th>1</th>\n      <td>1086587</td>\n      <td>KHTS-FM</td>\n      <td>2022-06-19</td>\n      <td>-18.0</td>\n      <td>27</td>\n      <td>989.0</td>\n      <td>-962.0</td>\n    </tr>\n    <tr>\n      <th>2</th>\n      <td>1086587</td>\n      <td>KHTS-FM</td>\n      <td>2022-06-26</td>\n      <td>-17.0</td>\n      <td>46</td>\n      <td>989.0</td>\n      <td>-943.0</td>\n    </tr>\n    <tr>\n      <th>3</th>\n      <td>1086587</td>\n      <td>KHTS-FM</td>\n      <td>2022-07-03</td>\n      <td>-16.0</td>\n      <td>77</td>\n      <td>989.0</td>\n      <td>-912.0</td>\n    </tr>\n    <tr>\n      <th>4</th>\n      <td>1086587</td>\n      <td>KHTS-FM</td>\n      <td>2022-07-10</td>\n      <td>-15.0</td>\n      <td>114</td>\n      <td>989.0</td>\n      <td>-875.0</td>\n    </tr>\n    <tr>\n      <th>...</th>\n      <td>...</td>\n      <td>...</td>\n      <td>...</td>\n      <td>...</td>\n      <td>...</td>\n      <td>...</td>\n      <td>...</td>\n    </tr>\n    <tr>\n      <th>656703</th>\n      <td>2865765</td>\n      <td>WZFT-FM</td>\n      <td>2023-02-26</td>\n      <td>3.0</td>\n      <td>500</td>\n      <td>253.0</td>\n      <td>247.0</td>\n    </tr>\n    <tr>\n      <th>656704</th>\n      <td>2865765</td>\n      <td>WZFT-FM</td>\n      <td>2023-03-05</td>\n      <td>4.0</td>\n      <td>597</td>\n      <td>253.0</td>\n      <td>344.0</td>\n    </tr>\n    <tr>\n      <th>656705</th>\n      <td>2865765</td>\n      <td>WZFT-FM</td>\n      <td>2023-03-12</td>\n      <td>5.0</td>\n      <td>688</td>\n      <td>253.0</td>\n      <td>435.0</td>\n    </tr>\n    <tr>\n      <th>656706</th>\n      <td>2865765</td>\n      <td>WZFT-FM</td>\n      <td>2023-03-19</td>\n      <td>6.0</td>\n      <td>782</td>\n      <td>253.0</td>\n      <td>529.0</td>\n    </tr>\n    <tr>\n      <th>656707</th>\n      <td>2865765</td>\n      <td>WZFT-FM</td>\n      <td>2023-03-26</td>\n      <td>7.0</td>\n      <td>869</td>\n      <td>253.0</td>\n      <td>616.0</td>\n    </tr>\n  </tbody>\n</table>\n<p>656708 rows × 7 columns</p>\n</div>"
     },
     "execution_count": 7,
     "metadata": {},
     "output_type": "execute_result"
    }
   ],
   "source": [
    "df_cuml_spins"
   ],
   "metadata": {
    "collapsed": false
   }
  },
  {
   "cell_type": "code",
   "execution_count": 10,
   "outputs": [
    {
     "data": {
      "text/plain": "weeks_since_hit        \n1.0              20        2.0\n                 48        5.0\n                 95        4.0\n                 138       4.0\n                 177       2.0\n                          ... \n26.0             653670    4.0\n                 653758    6.0\n                 653976    9.0\n                 654105    9.0\n                 654474    6.0\nName: cuml_song_station_spins_non_on_since_hit, Length: 84147, dtype: float64"
     },
     "execution_count": 10,
     "metadata": {},
     "output_type": "execute_result"
    }
   ],
   "source": [
    "df_cuml_spins[(df_cuml_spins['weeks_since_hit'] > 0) & (df_cuml_spins['weeks_since_hit'] <=26)].groupby(['weeks_since_hit']).apply(lambda x: pd.qcut(x['cuml_song_station_spins_non_on_since_hit'], q=5, labels=False))"
   ],
   "metadata": {
    "collapsed": false
   }
  },
  {
   "cell_type": "code",
   "execution_count": 37,
   "outputs": [],
   "source": [
    "df_train_sets = df_train_sets.join(df_cuml_spins.set_index(['mediabase_id', 'call_letters', 'week_dt', 'weeks_since_hit']), how='left')\n",
    "df_test_sets = df_test_sets.join(df_cuml_spins.set_index(['mediabase_id', 'call_letters', 'week_dt', 'weeks_since_hit']), how='left')"
   ],
   "metadata": {
    "collapsed": false
   }
  },
  {
   "cell_type": "code",
   "execution_count": 12,
   "outputs": [
    {
     "data": {
      "text/plain": "        mediabase_id call_letters    week_dt  weeks_since_hit  \\\n0            1086587      KHTS-FM 2022-06-12            -19.0   \n1            1086587      KHTS-FM 2022-06-19            -18.0   \n2            1086587      KHTS-FM 2022-06-26            -17.0   \n3            1086587      KHTS-FM 2022-07-03            -16.0   \n4            1086587      KHTS-FM 2022-07-10            -15.0   \n...              ...          ...        ...              ...   \n656703       2865765      WZFT-FM 2023-02-26              3.0   \n656704       2865765      WZFT-FM 2023-03-05              4.0   \n656705       2865765      WZFT-FM 2023-03-12              5.0   \n656706       2865765      WZFT-FM 2023-03-19              6.0   \n656707       2865765      WZFT-FM 2023-03-26              7.0   \n\n        cuml_song_station_spins_non_on  cuml_song_station_spins_non_on_at_hit  \\\n0                                   11                                  989.0   \n1                                   27                                  989.0   \n2                                   46                                  989.0   \n3                                   77                                  989.0   \n4                                  114                                  989.0   \n...                                ...                                    ...   \n656703                             500                                  253.0   \n656704                             597                                  253.0   \n656705                             688                                  253.0   \n656706                             782                                  253.0   \n656707                             869                                  253.0   \n\n        cuml_song_station_spins_non_on_since_hit  \n0                                         -978.0  \n1                                         -962.0  \n2                                         -943.0  \n3                                         -912.0  \n4                                         -875.0  \n...                                          ...  \n656703                                     247.0  \n656704                                     344.0  \n656705                                     435.0  \n656706                                     529.0  \n656707                                     616.0  \n\n[656708 rows x 7 columns]",
      "text/html": "<div>\n<style scoped>\n    .dataframe tbody tr th:only-of-type {\n        vertical-align: middle;\n    }\n\n    .dataframe tbody tr th {\n        vertical-align: top;\n    }\n\n    .dataframe thead th {\n        text-align: right;\n    }\n</style>\n<table border=\"1\" class=\"dataframe\">\n  <thead>\n    <tr style=\"text-align: right;\">\n      <th></th>\n      <th>mediabase_id</th>\n      <th>call_letters</th>\n      <th>week_dt</th>\n      <th>weeks_since_hit</th>\n      <th>cuml_song_station_spins_non_on</th>\n      <th>cuml_song_station_spins_non_on_at_hit</th>\n      <th>cuml_song_station_spins_non_on_since_hit</th>\n    </tr>\n  </thead>\n  <tbody>\n    <tr>\n      <th>0</th>\n      <td>1086587</td>\n      <td>KHTS-FM</td>\n      <td>2022-06-12</td>\n      <td>-19.0</td>\n      <td>11</td>\n      <td>989.0</td>\n      <td>-978.0</td>\n    </tr>\n    <tr>\n      <th>1</th>\n      <td>1086587</td>\n      <td>KHTS-FM</td>\n      <td>2022-06-19</td>\n      <td>-18.0</td>\n      <td>27</td>\n      <td>989.0</td>\n      <td>-962.0</td>\n    </tr>\n    <tr>\n      <th>2</th>\n      <td>1086587</td>\n      <td>KHTS-FM</td>\n      <td>2022-06-26</td>\n      <td>-17.0</td>\n      <td>46</td>\n      <td>989.0</td>\n      <td>-943.0</td>\n    </tr>\n    <tr>\n      <th>3</th>\n      <td>1086587</td>\n      <td>KHTS-FM</td>\n      <td>2022-07-03</td>\n      <td>-16.0</td>\n      <td>77</td>\n      <td>989.0</td>\n      <td>-912.0</td>\n    </tr>\n    <tr>\n      <th>4</th>\n      <td>1086587</td>\n      <td>KHTS-FM</td>\n      <td>2022-07-10</td>\n      <td>-15.0</td>\n      <td>114</td>\n      <td>989.0</td>\n      <td>-875.0</td>\n    </tr>\n    <tr>\n      <th>...</th>\n      <td>...</td>\n      <td>...</td>\n      <td>...</td>\n      <td>...</td>\n      <td>...</td>\n      <td>...</td>\n      <td>...</td>\n    </tr>\n    <tr>\n      <th>656703</th>\n      <td>2865765</td>\n      <td>WZFT-FM</td>\n      <td>2023-02-26</td>\n      <td>3.0</td>\n      <td>500</td>\n      <td>253.0</td>\n      <td>247.0</td>\n    </tr>\n    <tr>\n      <th>656704</th>\n      <td>2865765</td>\n      <td>WZFT-FM</td>\n      <td>2023-03-05</td>\n      <td>4.0</td>\n      <td>597</td>\n      <td>253.0</td>\n      <td>344.0</td>\n    </tr>\n    <tr>\n      <th>656705</th>\n      <td>2865765</td>\n      <td>WZFT-FM</td>\n      <td>2023-03-12</td>\n      <td>5.0</td>\n      <td>688</td>\n      <td>253.0</td>\n      <td>435.0</td>\n    </tr>\n    <tr>\n      <th>656706</th>\n      <td>2865765</td>\n      <td>WZFT-FM</td>\n      <td>2023-03-19</td>\n      <td>6.0</td>\n      <td>782</td>\n      <td>253.0</td>\n      <td>529.0</td>\n    </tr>\n    <tr>\n      <th>656707</th>\n      <td>2865765</td>\n      <td>WZFT-FM</td>\n      <td>2023-03-26</td>\n      <td>7.0</td>\n      <td>869</td>\n      <td>253.0</td>\n      <td>616.0</td>\n    </tr>\n  </tbody>\n</table>\n<p>656708 rows × 7 columns</p>\n</div>"
     },
     "execution_count": 12,
     "metadata": {},
     "output_type": "execute_result"
    }
   ],
   "source": [
    "df_cuml_spins"
   ],
   "metadata": {
    "collapsed": false
   }
  },
  {
   "cell_type": "code",
   "execution_count": 8,
   "outputs": [
    {
     "data": {
      "text/plain": "                                                      artist_format_ddl_13wk_lag1_std  \\\nmediabase_id call_letters week_dt    weeks_since_hit                                    \n2575311      KBKS-FM      2021-04-11 0.0                                     1.951331   \n2720326      KBKS-FM      2022-07-31 0.0                                     1.497473   \n2653276      WIOQ-FM      2021-10-03 0.0                                     1.165751   \n2655256      WIOQ-FM      2021-06-13 0.0                                     1.436698   \n2440816      KZHT-FM      2020-04-12 0.0                                     0.953463   \n\n                                                      artist_station_spins_am_pm_dr_4wk_lag1_min  \\\nmediabase_id call_letters week_dt    weeks_since_hit                                               \n2575311      KBKS-FM      2021-04-11 0.0                                                     0.0   \n2720326      KBKS-FM      2022-07-31 0.0                                                    89.0   \n2653276      WIOQ-FM      2021-10-03 0.0                                                    35.0   \n2655256      WIOQ-FM      2021-06-13 0.0                                                    29.0   \n2440816      KZHT-FM      2020-04-12 0.0                                                    69.0   \n\n                                                      song_station_ddl_pct_delta_26wk_lag1_mean  \\\nmediabase_id call_letters week_dt    weeks_since_hit                                              \n2575311      KBKS-FM      2021-04-11 0.0                                               0.136399   \n2720326      KBKS-FM      2022-07-31 0.0                                               0.216540   \n2653276      WIOQ-FM      2021-10-03 0.0                                               0.034370   \n2655256      WIOQ-FM      2021-06-13 0.0                                               0.036922   \n2440816      KZHT-FM      2020-04-12 0.0                                               0.363636   \n\n                                                      artist_market_spins_non_on_8wk_lag2_max  \\\nmediabase_id call_letters week_dt    weeks_since_hit                                            \n2575311      KBKS-FM      2021-04-11 0.0                                                103.0   \n2720326      KBKS-FM      2022-07-31 0.0                                                508.0   \n2653276      WIOQ-FM      2021-10-03 0.0                                                155.0   \n2655256      WIOQ-FM      2021-06-13 0.0                                                174.0   \n2440816      KZHT-FM      2020-04-12 0.0                                                409.0   \n\n                                                      artist_format_spins_am_pm_dr_4wk_lag2_min  \\\nmediabase_id call_letters week_dt    weeks_since_hit                                              \n2575311      KBKS-FM      2021-04-11 0.0                                                 1445.0   \n2720326      KBKS-FM      2022-07-31 0.0                                                18522.0   \n2653276      WIOQ-FM      2021-10-03 0.0                                                 9581.0   \n2655256      WIOQ-FM      2021-06-13 0.0                                                 8164.0   \n2440816      KZHT-FM      2020-04-12 0.0                                                10634.0   \n\n                                                      artist_station_spins_am_pm_dr_8wk_lag1_max  \\\nmediabase_id call_letters week_dt    weeks_since_hit                                               \n2575311      KBKS-FM      2021-04-11 0.0                                                     1.0   \n2720326      KBKS-FM      2022-07-31 0.0                                                   184.0   \n2653276      WIOQ-FM      2021-10-03 0.0                                                    41.0   \n2655256      WIOQ-FM      2021-06-13 0.0                                                    62.0   \n2440816      KZHT-FM      2020-04-12 0.0                                                    87.0   \n\n                                                      song_market_spins_non_on_delta_13wk_lag1_mean  \\\nmediabase_id call_letters week_dt    weeks_since_hit                                                  \n2575311      KBKS-FM      2021-04-11 0.0                                                  -1.076923   \n2720326      KBKS-FM      2022-07-31 0.0                                                  10.923077   \n2653276      WIOQ-FM      2021-10-03 0.0                                                  -4.615385   \n2655256      WIOQ-FM      2021-06-13 0.0                                                   3.846154   \n2440816      KZHT-FM      2020-04-12 0.0                                                   0.307692   \n\n                                                      count_song_format_pop_13wk_lag1_mean  \\\nmediabase_id call_letters week_dt    weeks_since_hit                                         \n2575311      KBKS-FM      2021-04-11 0.0                                          8.230769   \n2720326      KBKS-FM      2022-07-31 0.0                                          9.833333   \n2653276      WIOQ-FM      2021-10-03 0.0                                         10.076923   \n2655256      WIOQ-FM      2021-06-13 0.0                                         13.230769   \n2440816      KZHT-FM      2020-04-12 0.0                                          3.000000   \n\n                                                      thumbs_up_rate_total_13wk  \\\nmediabase_id call_letters week_dt    weeks_since_hit                              \n2575311      KBKS-FM      2021-04-11 0.0                                    NaN   \n2720326      KBKS-FM      2022-07-31 0.0                                    NaN   \n2653276      WIOQ-FM      2021-10-03 0.0                                    NaN   \n2655256      WIOQ-FM      2021-06-13 0.0                                    NaN   \n2440816      KZHT-FM      2020-04-12 0.0                               0.015675   \n\n                                                      artist_format_spins_am_pm_dr_13wk_lag1_std  \\\nmediabase_id call_letters week_dt    weeks_since_hit                                               \n2575311      KBKS-FM      2021-04-11 0.0                                              718.533130   \n2720326      KBKS-FM      2022-07-31 0.0                                              933.801240   \n2653276      WIOQ-FM      2021-10-03 0.0                                             2104.704709   \n2655256      WIOQ-FM      2021-06-13 0.0                                             2083.052654   \n2440816      KZHT-FM      2020-04-12 0.0                                             1665.163964   \n\n                                                      ...  \\\nmediabase_id call_letters week_dt    weeks_since_hit  ...   \n2575311      KBKS-FM      2021-04-11 0.0              ...   \n2720326      KBKS-FM      2022-07-31 0.0              ...   \n2653276      WIOQ-FM      2021-10-03 0.0              ...   \n2655256      WIOQ-FM      2021-06-13 0.0              ...   \n2440816      KZHT-FM      2020-04-12 0.0              ...   \n\n                                                      thumbs_up_rate_total_26wk  \\\nmediabase_id call_letters week_dt    weeks_since_hit                              \n2575311      KBKS-FM      2021-04-11 0.0                                    NaN   \n2720326      KBKS-FM      2022-07-31 0.0                                    NaN   \n2653276      WIOQ-FM      2021-10-03 0.0                                    NaN   \n2655256      WIOQ-FM      2021-06-13 0.0                                    NaN   \n2440816      KZHT-FM      2020-04-12 0.0                               0.015904   \n\n                                                      artist_format_pop_26wk_lag1_max  \\\nmediabase_id call_letters week_dt    weeks_since_hit                                    \n2575311      KBKS-FM      2021-04-11 0.0                                         79.0   \n2720326      KBKS-FM      2022-07-31 0.0                                         91.0   \n2653276      WIOQ-FM      2021-10-03 0.0                                         83.0   \n2655256      WIOQ-FM      2021-06-13 0.0                                         86.0   \n2440816      KZHT-FM      2020-04-12 0.0                                         80.0   \n\n                                                      artist_market_spins_non_on_8wk_lag1_mean  \\\nmediabase_id call_letters week_dt    weeks_since_hit                                             \n2575311      KBKS-FM      2021-04-11 0.0                                                85.250   \n2720326      KBKS-FM      2022-07-31 0.0                                               418.750   \n2653276      WIOQ-FM      2021-10-03 0.0                                               126.875   \n2655256      WIOQ-FM      2021-06-13 0.0                                               140.375   \n2440816      KZHT-FM      2020-04-12 0.0                                               376.875   \n\n                                                      song_station_ddl_delta_4wk_lag2_max  \\\nmediabase_id call_letters week_dt    weeks_since_hit                                        \n2575311      KBKS-FM      2021-04-11 0.0                                             -8.0   \n2720326      KBKS-FM      2022-07-31 0.0                                              2.0   \n2653276      WIOQ-FM      2021-10-03 0.0                                              8.0   \n2655256      WIOQ-FM      2021-06-13 0.0                                             -1.0   \n2440816      KZHT-FM      2020-04-12 0.0                                              4.0   \n\n                                                      artist_format_spins_non_on_13wk_lag1_max  \\\nmediabase_id call_letters week_dt    weeks_since_hit                                             \n2575311      KBKS-FM      2021-04-11 0.0                                                5103.0   \n2720326      KBKS-FM      2022-07-31 0.0                                               30917.0   \n2653276      WIOQ-FM      2021-10-03 0.0                                               21645.0   \n2655256      WIOQ-FM      2021-06-13 0.0                                               13756.0   \n2440816      KZHT-FM      2020-04-12 0.0                                               17391.0   \n\n                                                      song_market_spins_non_on_pct_delta_8wk_lag1_min  \\\nmediabase_id call_letters week_dt    weeks_since_hit                                                    \n2575311      KBKS-FM      2021-04-11 0.0                                                    -0.262626   \n2720326      KBKS-FM      2022-07-31 0.0                                                    -0.316901   \n2653276      WIOQ-FM      2021-10-03 0.0                                                    -0.250000   \n2655256      WIOQ-FM      2021-06-13 0.0                                                    -0.201149   \n2440816      KZHT-FM      2020-04-12 0.0                                                    -0.300000   \n\n                                                      market_spins_ddl_sens_abs_4wk_lag2_median  \\\nmediabase_id call_letters week_dt    weeks_since_hit                                              \n2575311      KBKS-FM      2021-04-11 0.0                                              12.117647   \n2720326      KBKS-FM      2022-07-31 0.0                                               0.546761   \n2653276      WIOQ-FM      2021-10-03 0.0                                               1.250000   \n2655256      WIOQ-FM      2021-06-13 0.0                                               0.882430   \n2440816      KZHT-FM      2020-04-12 0.0                                               0.008264   \n\n                                                      artist_market_share_13wk_lag2  \\\nmediabase_id call_letters week_dt    weeks_since_hit                                  \n2575311      KBKS-FM      2021-04-11 0.0                                   0.003538   \n2720326      KBKS-FM      2022-07-31 0.0                                   0.017981   \n2653276      WIOQ-FM      2021-10-03 0.0                                   0.006191   \n2655256      WIOQ-FM      2021-06-13 0.0                                   0.005883   \n2440816      KZHT-FM      2020-04-12 0.0                                   0.010893   \n\n                                                      censoring_flg_mod  \\\nmediabase_id call_letters week_dt    weeks_since_hit                      \n2575311      KBKS-FM      2021-04-11 0.0                           True   \n2720326      KBKS-FM      2022-07-31 0.0                           True   \n2653276      WIOQ-FM      2021-10-03 0.0                          False   \n2655256      WIOQ-FM      2021-06-13 0.0                           True   \n2440816      KZHT-FM      2020-04-12 0.0                          False   \n\n                                                      target  \nmediabase_id call_letters week_dt    weeks_since_hit          \n2575311      KBKS-FM      2021-04-11 0.0               200.0  \n2720326      KBKS-FM      2022-07-31 0.0              1229.0  \n2653276      WIOQ-FM      2021-10-03 0.0                53.0  \n2655256      WIOQ-FM      2021-06-13 0.0               399.0  \n2440816      KZHT-FM      2020-04-12 0.0               267.0  \n\n[5 rows x 1056 columns]",
      "text/html": "<div>\n<style scoped>\n    .dataframe tbody tr th:only-of-type {\n        vertical-align: middle;\n    }\n\n    .dataframe tbody tr th {\n        vertical-align: top;\n    }\n\n    .dataframe thead th {\n        text-align: right;\n    }\n</style>\n<table border=\"1\" class=\"dataframe\">\n  <thead>\n    <tr style=\"text-align: right;\">\n      <th></th>\n      <th></th>\n      <th></th>\n      <th></th>\n      <th>artist_format_ddl_13wk_lag1_std</th>\n      <th>artist_station_spins_am_pm_dr_4wk_lag1_min</th>\n      <th>song_station_ddl_pct_delta_26wk_lag1_mean</th>\n      <th>artist_market_spins_non_on_8wk_lag2_max</th>\n      <th>artist_format_spins_am_pm_dr_4wk_lag2_min</th>\n      <th>artist_station_spins_am_pm_dr_8wk_lag1_max</th>\n      <th>song_market_spins_non_on_delta_13wk_lag1_mean</th>\n      <th>count_song_format_pop_13wk_lag1_mean</th>\n      <th>thumbs_up_rate_total_13wk</th>\n      <th>artist_format_spins_am_pm_dr_13wk_lag1_std</th>\n      <th>...</th>\n      <th>thumbs_up_rate_total_26wk</th>\n      <th>artist_format_pop_26wk_lag1_max</th>\n      <th>artist_market_spins_non_on_8wk_lag1_mean</th>\n      <th>song_station_ddl_delta_4wk_lag2_max</th>\n      <th>artist_format_spins_non_on_13wk_lag1_max</th>\n      <th>song_market_spins_non_on_pct_delta_8wk_lag1_min</th>\n      <th>market_spins_ddl_sens_abs_4wk_lag2_median</th>\n      <th>artist_market_share_13wk_lag2</th>\n      <th>censoring_flg_mod</th>\n      <th>target</th>\n    </tr>\n    <tr>\n      <th>mediabase_id</th>\n      <th>call_letters</th>\n      <th>week_dt</th>\n      <th>weeks_since_hit</th>\n      <th></th>\n      <th></th>\n      <th></th>\n      <th></th>\n      <th></th>\n      <th></th>\n      <th></th>\n      <th></th>\n      <th></th>\n      <th></th>\n      <th></th>\n      <th></th>\n      <th></th>\n      <th></th>\n      <th></th>\n      <th></th>\n      <th></th>\n      <th></th>\n      <th></th>\n      <th></th>\n      <th></th>\n    </tr>\n  </thead>\n  <tbody>\n    <tr>\n      <th>2575311</th>\n      <th>KBKS-FM</th>\n      <th>2021-04-11</th>\n      <th>0.0</th>\n      <td>1.951331</td>\n      <td>0.0</td>\n      <td>0.136399</td>\n      <td>103.0</td>\n      <td>1445.0</td>\n      <td>1.0</td>\n      <td>-1.076923</td>\n      <td>8.230769</td>\n      <td>NaN</td>\n      <td>718.533130</td>\n      <td>...</td>\n      <td>NaN</td>\n      <td>79.0</td>\n      <td>85.250</td>\n      <td>-8.0</td>\n      <td>5103.0</td>\n      <td>-0.262626</td>\n      <td>12.117647</td>\n      <td>0.003538</td>\n      <td>True</td>\n      <td>200.0</td>\n    </tr>\n    <tr>\n      <th>2720326</th>\n      <th>KBKS-FM</th>\n      <th>2022-07-31</th>\n      <th>0.0</th>\n      <td>1.497473</td>\n      <td>89.0</td>\n      <td>0.216540</td>\n      <td>508.0</td>\n      <td>18522.0</td>\n      <td>184.0</td>\n      <td>10.923077</td>\n      <td>9.833333</td>\n      <td>NaN</td>\n      <td>933.801240</td>\n      <td>...</td>\n      <td>NaN</td>\n      <td>91.0</td>\n      <td>418.750</td>\n      <td>2.0</td>\n      <td>30917.0</td>\n      <td>-0.316901</td>\n      <td>0.546761</td>\n      <td>0.017981</td>\n      <td>True</td>\n      <td>1229.0</td>\n    </tr>\n    <tr>\n      <th>2653276</th>\n      <th>WIOQ-FM</th>\n      <th>2021-10-03</th>\n      <th>0.0</th>\n      <td>1.165751</td>\n      <td>35.0</td>\n      <td>0.034370</td>\n      <td>155.0</td>\n      <td>9581.0</td>\n      <td>41.0</td>\n      <td>-4.615385</td>\n      <td>10.076923</td>\n      <td>NaN</td>\n      <td>2104.704709</td>\n      <td>...</td>\n      <td>NaN</td>\n      <td>83.0</td>\n      <td>126.875</td>\n      <td>8.0</td>\n      <td>21645.0</td>\n      <td>-0.250000</td>\n      <td>1.250000</td>\n      <td>0.006191</td>\n      <td>False</td>\n      <td>53.0</td>\n    </tr>\n    <tr>\n      <th>2655256</th>\n      <th>WIOQ-FM</th>\n      <th>2021-06-13</th>\n      <th>0.0</th>\n      <td>1.436698</td>\n      <td>29.0</td>\n      <td>0.036922</td>\n      <td>174.0</td>\n      <td>8164.0</td>\n      <td>62.0</td>\n      <td>3.846154</td>\n      <td>13.230769</td>\n      <td>NaN</td>\n      <td>2083.052654</td>\n      <td>...</td>\n      <td>NaN</td>\n      <td>86.0</td>\n      <td>140.375</td>\n      <td>-1.0</td>\n      <td>13756.0</td>\n      <td>-0.201149</td>\n      <td>0.882430</td>\n      <td>0.005883</td>\n      <td>True</td>\n      <td>399.0</td>\n    </tr>\n    <tr>\n      <th>2440816</th>\n      <th>KZHT-FM</th>\n      <th>2020-04-12</th>\n      <th>0.0</th>\n      <td>0.953463</td>\n      <td>69.0</td>\n      <td>0.363636</td>\n      <td>409.0</td>\n      <td>10634.0</td>\n      <td>87.0</td>\n      <td>0.307692</td>\n      <td>3.000000</td>\n      <td>0.015675</td>\n      <td>1665.163964</td>\n      <td>...</td>\n      <td>0.015904</td>\n      <td>80.0</td>\n      <td>376.875</td>\n      <td>4.0</td>\n      <td>17391.0</td>\n      <td>-0.300000</td>\n      <td>0.008264</td>\n      <td>0.010893</td>\n      <td>False</td>\n      <td>267.0</td>\n    </tr>\n  </tbody>\n</table>\n<p>5 rows × 1056 columns</p>\n</div>"
     },
     "execution_count": 8,
     "metadata": {},
     "output_type": "execute_result"
    }
   ],
   "source": [
    "df_test_sets.head()"
   ],
   "metadata": {
    "collapsed": false
   }
  },
  {
   "cell_type": "code",
   "execution_count": 14,
   "outputs": [],
   "source": [
    "df_all_prep = df_all_prep.join(df_cuml_spins.set_index(['mediabase_id', 'call_letters', 'week_dt', 'weeks_since_hit'])['cuml_song_station_spins_non_on_since_hit'], how='left')"
   ],
   "metadata": {
    "collapsed": false
   }
  },
  {
   "cell_type": "code",
   "execution_count": 16,
   "outputs": [
    {
     "data": {
      "text/plain": "(26239, 1057)"
     },
     "execution_count": 16,
     "metadata": {},
     "output_type": "execute_result"
    }
   ],
   "source": [
    "df_all_prep.shape"
   ],
   "metadata": {
    "collapsed": false
   }
  },
  {
   "cell_type": "code",
   "execution_count": 36,
   "outputs": [
    {
     "data": {
      "text/plain": "mediabase_id  call_letters\n1086587       KHTS-FM         2\n              WHTZ-FM         2\n2305938       KZHT-FM         2\n2334402       KBKS-FM         8\n2337260       WRVW-FM         7\n                             ..\n2831617       KDWB-FM         1\n              KZHT-FM         1\n              WIHT-FM         1\n              WXKS-FM         1\n              WZFT-FM         1\nName: target, Length: 1361, dtype: int64"
     },
     "execution_count": 36,
     "metadata": {},
     "output_type": "execute_result"
    }
   ],
   "source": [
    "mask = (df_all_prep['cuml_song_station_spins_non_on_since_hit'] >= 0) & (df_all_prep['cuml_song_station_spins_non_on_since_hit'] < 50)\n",
    "df_all_prep.loc[mask].groupby(['mediabase_id', 'call_letters'])['target'].count()"
   ],
   "metadata": {
    "collapsed": false
   }
  },
  {
   "cell_type": "code",
   "execution_count": 23,
   "outputs": [
    {
     "data": {
      "text/plain": "mediabase_id  call_letters\n1086587       KHTS-FM          4\n              WHTZ-FM          7\n2305938       KZHT-FM         27\n2334402       KBKS-FM         27\n2337260       WRVW-FM         27\n                              ..\n2831617       KDWB-FM         15\n              KZHT-FM         10\n              WIHT-FM          9\n              WXKS-FM         12\n              WZFT-FM         13\nName: target, Length: 1362, dtype: int64"
     },
     "execution_count": 23,
     "metadata": {},
     "output_type": "execute_result"
    }
   ],
   "source": [
    "df_all_prep.groupby(['mediabase_id', 'call_letters'])['target'].count()"
   ],
   "metadata": {
    "collapsed": false
   }
  },
  {
   "cell_type": "code",
   "execution_count": 4,
   "outputs": [],
   "source": [
    "df_cuml_spins=pd.read_pickle('ebw_raw_features_base_cuml_spins_h1.pkl')"
   ],
   "metadata": {
    "collapsed": false
   }
  },
  {
   "cell_type": "code",
   "execution_count": 8,
   "outputs": [
    {
     "data": {
      "text/plain": "                                   target  count        mean         std  min  \\\nweeks_since_hit censoring_flg_mod                                               \n0.0             False                 304  304.0  906.983553  906.694459  1.0   \n                True                  716  716.0  939.405028  590.508408  8.0   \n1.0             False                 304  304.0  854.125000  887.555149  1.0   \n                True                  717  717.0  861.264993  578.967712  6.0   \n2.0             False                 304  304.0  805.421053  867.949623  1.0   \n                True                  705  705.0  797.595745  562.298484  3.0   \n3.0             False                 304  304.0  760.723684  847.141906  1.0   \n                True                  700  700.0  735.588571  548.769613  2.0   \n4.0             False                 304  304.0  720.220395  825.283194  1.0   \n                True                  672  672.0  702.635417  525.827996  1.0   \n5.0             False                 304  304.0  690.105263  792.091143  1.0   \n                True                  657  657.0  660.923896  513.672140  1.0   \n6.0             False                 304  304.0  654.424342  769.925920  1.0   \n                True                  623  623.0  610.833066  487.721968  2.0   \n7.0             False                 302  302.0  611.811258  734.178553  1.0   \n                True                  600  600.0  574.593333  464.198138  1.0   \n8.0             False                 302  302.0  581.655629  710.186247  1.0   \n                True                  567  567.0  544.751323  453.966270  1.0   \n9.0             False                 301  301.0  564.720930  709.664260  1.0   \n                True                  548  548.0  536.308394  449.174821  1.0   \n10.0            False                 300  300.0  537.586667  685.836659  1.0   \n                True                  501  501.0  480.568862  401.905688  1.0   \n11.0            False                 301  301.0  511.970100  659.611251  1.0   \n                True                  475  475.0  471.867368  405.774424  1.0   \n12.0            False                 301  301.0  487.043189  633.970531  1.0   \n                True                  440  440.0  439.300000  381.431342  1.0   \n13.0            False                 300  300.0  486.250000  611.537954  1.0   \n                True                  409  409.0  413.555012  348.541981  1.0   \n14.0            False                 300  300.0  463.026667  588.499906  1.0   \n                True                  378  378.0  411.010582  355.840776  2.0   \n15.0            False                 300  300.0  441.496667  566.336856  1.0   \n                True                  357  357.0  376.140056  342.504183  1.0   \n16.0            False                 299  299.0  408.204013  537.702447  1.0   \n                True                  328  328.0  345.643293  320.854361  1.0   \n17.0            False                 299  299.0  390.100334  517.695464  1.0   \n                True                  304  304.0  347.404605  322.261241  2.0   \n18.0            False                 299  299.0  371.839465  496.937326  1.0   \n                True                  280  280.0  330.832143  322.658797  2.0   \n19.0            False                 299  299.0  354.033445  476.683846  1.0   \n                True                  257  257.0  314.233463  286.446071  1.0   \n20.0            False                 298  298.0  332.221477  452.244494  1.0   \n                True                  239  239.0  286.066946  270.074538  2.0   \n21.0            False                 299  299.0  315.622074  432.859713  1.0   \n                True                  223  223.0  294.825112  288.678444  1.0   \n22.0            False                 297  297.0  304.589226  428.278357  1.0   \n                True                  202  202.0  293.242574  291.169790  1.0   \n23.0            False                 296  296.0  282.638514  401.561361  1.0   \n                True                  190  190.0  271.394737  276.914207  2.0   \n24.0            False                 295  295.0  269.654237  385.125171  1.0   \n                True                  171  171.0  263.730994  272.724485  2.0   \n25.0            False                 294  294.0  247.170068  365.291326  1.0   \n                True                  162  162.0  252.413580  276.731110  1.0   \n26.0            False                 293  293.0  238.767918  347.687134  1.0   \n                True                  145  145.0  238.710345  255.716801  1.0   \n\n                                      25%    50%      75%     max  \nweeks_since_hit censoring_flg_mod                                  \n0.0             False              238.25  532.0  1311.75  3652.0  \n                True               455.75  886.5  1351.50  2466.0  \n1.0             False              207.50  484.0  1215.50  3560.0  \n                True               383.00  776.0  1255.00  2405.0  \n2.0             False              165.75  432.0  1142.50  3470.0  \n                True               324.00  717.0  1184.00  2344.0  \n3.0             False              150.75  388.0  1081.25  3386.0  \n                True               269.00  632.5  1117.25  2302.0  \n4.0             False              132.75  359.0  1007.25  3297.0  \n                True               245.00  628.0  1052.50  2262.0  \n5.0             False              110.75  353.5   951.75  3199.0  \n                True               224.00  578.0  1004.00  2218.0  \n6.0             False               96.25  327.5   903.25  3106.0  \n                True               194.50  509.0   936.50  2116.0  \n7.0             False               79.25  279.5   801.75  2905.0  \n                True               176.75  481.5   851.25  2051.0  \n8.0             False               64.25  268.5   765.00  2838.0  \n                True               162.00  436.0   788.00  1994.0  \n9.0             False               50.00  250.0   719.00  2858.0  \n                True               147.50  437.0   811.00  1936.0  \n10.0            False               44.75  232.0   692.50  2767.0  \n                True               168.00  396.0   717.00  1879.0  \n11.0            False               37.00  219.0   649.00  2673.0  \n                True               141.00  393.0   672.00  1825.0  \n12.0            False               32.00  183.0   631.00  2598.0  \n                True               120.75  352.0   658.00  1787.0  \n13.0            False               31.75  207.5   740.75  2540.0  \n                True               124.00  335.0   615.00  1648.0  \n14.0            False               23.75  200.5   699.50  2459.0  \n                True               131.50  320.0   597.00  1742.0  \n15.0            False               19.00  187.5   645.00  2418.0  \n                True               115.00  272.0   530.00  1676.0  \n16.0            False               19.50  154.0   578.00  2395.0  \n                True               109.00  249.5   487.75  1587.0  \n17.0            False               17.00  142.0   551.50  2369.0  \n                True               102.50  250.0   475.25  1509.0  \n18.0            False               17.00  129.0   524.50  2306.0  \n                True                90.75  217.5   517.25  1478.0  \n19.0            False               14.00  118.0   502.00  2227.0  \n                True                95.00  235.0   467.00  1455.0  \n20.0            False               12.00  121.5   440.25  2141.0  \n                True                87.00  193.0   411.00  1431.0  \n21.0            False               10.00  117.0   421.50  2081.0  \n                True                87.00  187.0   414.00  1416.0  \n22.0            False               11.00  102.0   429.00  2067.0  \n                True                81.00  184.5   425.50  1392.0  \n23.0            False                9.00   82.5   387.00  2034.0  \n                True                73.00  179.5   398.00  1382.0  \n24.0            False                9.00   79.0   366.50  1995.0  \n                True                76.00  175.0   359.50  1356.0  \n25.0            False                8.25   74.0   300.50  1954.0  \n                True                58.00  156.0   343.25  1340.0  \n26.0            False                8.00   86.0   299.00  1912.0  \n                True                66.00  162.0   330.00  1284.0  ",
      "text/html": "<div>\n<style scoped>\n    .dataframe tbody tr th:only-of-type {\n        vertical-align: middle;\n    }\n\n    .dataframe tbody tr th {\n        vertical-align: top;\n    }\n\n    .dataframe thead th {\n        text-align: right;\n    }\n</style>\n<table border=\"1\" class=\"dataframe\">\n  <thead>\n    <tr style=\"text-align: right;\">\n      <th></th>\n      <th></th>\n      <th>target</th>\n      <th>count</th>\n      <th>mean</th>\n      <th>std</th>\n      <th>min</th>\n      <th>25%</th>\n      <th>50%</th>\n      <th>75%</th>\n      <th>max</th>\n    </tr>\n    <tr>\n      <th>weeks_since_hit</th>\n      <th>censoring_flg_mod</th>\n      <th></th>\n      <th></th>\n      <th></th>\n      <th></th>\n      <th></th>\n      <th></th>\n      <th></th>\n      <th></th>\n      <th></th>\n    </tr>\n  </thead>\n  <tbody>\n    <tr>\n      <th rowspan=\"2\" valign=\"top\">0.0</th>\n      <th>False</th>\n      <td>304</td>\n      <td>304.0</td>\n      <td>906.983553</td>\n      <td>906.694459</td>\n      <td>1.0</td>\n      <td>238.25</td>\n      <td>532.0</td>\n      <td>1311.75</td>\n      <td>3652.0</td>\n    </tr>\n    <tr>\n      <th>True</th>\n      <td>716</td>\n      <td>716.0</td>\n      <td>939.405028</td>\n      <td>590.508408</td>\n      <td>8.0</td>\n      <td>455.75</td>\n      <td>886.5</td>\n      <td>1351.50</td>\n      <td>2466.0</td>\n    </tr>\n    <tr>\n      <th rowspan=\"2\" valign=\"top\">1.0</th>\n      <th>False</th>\n      <td>304</td>\n      <td>304.0</td>\n      <td>854.125000</td>\n      <td>887.555149</td>\n      <td>1.0</td>\n      <td>207.50</td>\n      <td>484.0</td>\n      <td>1215.50</td>\n      <td>3560.0</td>\n    </tr>\n    <tr>\n      <th>True</th>\n      <td>717</td>\n      <td>717.0</td>\n      <td>861.264993</td>\n      <td>578.967712</td>\n      <td>6.0</td>\n      <td>383.00</td>\n      <td>776.0</td>\n      <td>1255.00</td>\n      <td>2405.0</td>\n    </tr>\n    <tr>\n      <th rowspan=\"2\" valign=\"top\">2.0</th>\n      <th>False</th>\n      <td>304</td>\n      <td>304.0</td>\n      <td>805.421053</td>\n      <td>867.949623</td>\n      <td>1.0</td>\n      <td>165.75</td>\n      <td>432.0</td>\n      <td>1142.50</td>\n      <td>3470.0</td>\n    </tr>\n    <tr>\n      <th>True</th>\n      <td>705</td>\n      <td>705.0</td>\n      <td>797.595745</td>\n      <td>562.298484</td>\n      <td>3.0</td>\n      <td>324.00</td>\n      <td>717.0</td>\n      <td>1184.00</td>\n      <td>2344.0</td>\n    </tr>\n    <tr>\n      <th rowspan=\"2\" valign=\"top\">3.0</th>\n      <th>False</th>\n      <td>304</td>\n      <td>304.0</td>\n      <td>760.723684</td>\n      <td>847.141906</td>\n      <td>1.0</td>\n      <td>150.75</td>\n      <td>388.0</td>\n      <td>1081.25</td>\n      <td>3386.0</td>\n    </tr>\n    <tr>\n      <th>True</th>\n      <td>700</td>\n      <td>700.0</td>\n      <td>735.588571</td>\n      <td>548.769613</td>\n      <td>2.0</td>\n      <td>269.00</td>\n      <td>632.5</td>\n      <td>1117.25</td>\n      <td>2302.0</td>\n    </tr>\n    <tr>\n      <th rowspan=\"2\" valign=\"top\">4.0</th>\n      <th>False</th>\n      <td>304</td>\n      <td>304.0</td>\n      <td>720.220395</td>\n      <td>825.283194</td>\n      <td>1.0</td>\n      <td>132.75</td>\n      <td>359.0</td>\n      <td>1007.25</td>\n      <td>3297.0</td>\n    </tr>\n    <tr>\n      <th>True</th>\n      <td>672</td>\n      <td>672.0</td>\n      <td>702.635417</td>\n      <td>525.827996</td>\n      <td>1.0</td>\n      <td>245.00</td>\n      <td>628.0</td>\n      <td>1052.50</td>\n      <td>2262.0</td>\n    </tr>\n    <tr>\n      <th rowspan=\"2\" valign=\"top\">5.0</th>\n      <th>False</th>\n      <td>304</td>\n      <td>304.0</td>\n      <td>690.105263</td>\n      <td>792.091143</td>\n      <td>1.0</td>\n      <td>110.75</td>\n      <td>353.5</td>\n      <td>951.75</td>\n      <td>3199.0</td>\n    </tr>\n    <tr>\n      <th>True</th>\n      <td>657</td>\n      <td>657.0</td>\n      <td>660.923896</td>\n      <td>513.672140</td>\n      <td>1.0</td>\n      <td>224.00</td>\n      <td>578.0</td>\n      <td>1004.00</td>\n      <td>2218.0</td>\n    </tr>\n    <tr>\n      <th rowspan=\"2\" valign=\"top\">6.0</th>\n      <th>False</th>\n      <td>304</td>\n      <td>304.0</td>\n      <td>654.424342</td>\n      <td>769.925920</td>\n      <td>1.0</td>\n      <td>96.25</td>\n      <td>327.5</td>\n      <td>903.25</td>\n      <td>3106.0</td>\n    </tr>\n    <tr>\n      <th>True</th>\n      <td>623</td>\n      <td>623.0</td>\n      <td>610.833066</td>\n      <td>487.721968</td>\n      <td>2.0</td>\n      <td>194.50</td>\n      <td>509.0</td>\n      <td>936.50</td>\n      <td>2116.0</td>\n    </tr>\n    <tr>\n      <th rowspan=\"2\" valign=\"top\">7.0</th>\n      <th>False</th>\n      <td>302</td>\n      <td>302.0</td>\n      <td>611.811258</td>\n      <td>734.178553</td>\n      <td>1.0</td>\n      <td>79.25</td>\n      <td>279.5</td>\n      <td>801.75</td>\n      <td>2905.0</td>\n    </tr>\n    <tr>\n      <th>True</th>\n      <td>600</td>\n      <td>600.0</td>\n      <td>574.593333</td>\n      <td>464.198138</td>\n      <td>1.0</td>\n      <td>176.75</td>\n      <td>481.5</td>\n      <td>851.25</td>\n      <td>2051.0</td>\n    </tr>\n    <tr>\n      <th rowspan=\"2\" valign=\"top\">8.0</th>\n      <th>False</th>\n      <td>302</td>\n      <td>302.0</td>\n      <td>581.655629</td>\n      <td>710.186247</td>\n      <td>1.0</td>\n      <td>64.25</td>\n      <td>268.5</td>\n      <td>765.00</td>\n      <td>2838.0</td>\n    </tr>\n    <tr>\n      <th>True</th>\n      <td>567</td>\n      <td>567.0</td>\n      <td>544.751323</td>\n      <td>453.966270</td>\n      <td>1.0</td>\n      <td>162.00</td>\n      <td>436.0</td>\n      <td>788.00</td>\n      <td>1994.0</td>\n    </tr>\n    <tr>\n      <th rowspan=\"2\" valign=\"top\">9.0</th>\n      <th>False</th>\n      <td>301</td>\n      <td>301.0</td>\n      <td>564.720930</td>\n      <td>709.664260</td>\n      <td>1.0</td>\n      <td>50.00</td>\n      <td>250.0</td>\n      <td>719.00</td>\n      <td>2858.0</td>\n    </tr>\n    <tr>\n      <th>True</th>\n      <td>548</td>\n      <td>548.0</td>\n      <td>536.308394</td>\n      <td>449.174821</td>\n      <td>1.0</td>\n      <td>147.50</td>\n      <td>437.0</td>\n      <td>811.00</td>\n      <td>1936.0</td>\n    </tr>\n    <tr>\n      <th rowspan=\"2\" valign=\"top\">10.0</th>\n      <th>False</th>\n      <td>300</td>\n      <td>300.0</td>\n      <td>537.586667</td>\n      <td>685.836659</td>\n      <td>1.0</td>\n      <td>44.75</td>\n      <td>232.0</td>\n      <td>692.50</td>\n      <td>2767.0</td>\n    </tr>\n    <tr>\n      <th>True</th>\n      <td>501</td>\n      <td>501.0</td>\n      <td>480.568862</td>\n      <td>401.905688</td>\n      <td>1.0</td>\n      <td>168.00</td>\n      <td>396.0</td>\n      <td>717.00</td>\n      <td>1879.0</td>\n    </tr>\n    <tr>\n      <th rowspan=\"2\" valign=\"top\">11.0</th>\n      <th>False</th>\n      <td>301</td>\n      <td>301.0</td>\n      <td>511.970100</td>\n      <td>659.611251</td>\n      <td>1.0</td>\n      <td>37.00</td>\n      <td>219.0</td>\n      <td>649.00</td>\n      <td>2673.0</td>\n    </tr>\n    <tr>\n      <th>True</th>\n      <td>475</td>\n      <td>475.0</td>\n      <td>471.867368</td>\n      <td>405.774424</td>\n      <td>1.0</td>\n      <td>141.00</td>\n      <td>393.0</td>\n      <td>672.00</td>\n      <td>1825.0</td>\n    </tr>\n    <tr>\n      <th rowspan=\"2\" valign=\"top\">12.0</th>\n      <th>False</th>\n      <td>301</td>\n      <td>301.0</td>\n      <td>487.043189</td>\n      <td>633.970531</td>\n      <td>1.0</td>\n      <td>32.00</td>\n      <td>183.0</td>\n      <td>631.00</td>\n      <td>2598.0</td>\n    </tr>\n    <tr>\n      <th>True</th>\n      <td>440</td>\n      <td>440.0</td>\n      <td>439.300000</td>\n      <td>381.431342</td>\n      <td>1.0</td>\n      <td>120.75</td>\n      <td>352.0</td>\n      <td>658.00</td>\n      <td>1787.0</td>\n    </tr>\n    <tr>\n      <th rowspan=\"2\" valign=\"top\">13.0</th>\n      <th>False</th>\n      <td>300</td>\n      <td>300.0</td>\n      <td>486.250000</td>\n      <td>611.537954</td>\n      <td>1.0</td>\n      <td>31.75</td>\n      <td>207.5</td>\n      <td>740.75</td>\n      <td>2540.0</td>\n    </tr>\n    <tr>\n      <th>True</th>\n      <td>409</td>\n      <td>409.0</td>\n      <td>413.555012</td>\n      <td>348.541981</td>\n      <td>1.0</td>\n      <td>124.00</td>\n      <td>335.0</td>\n      <td>615.00</td>\n      <td>1648.0</td>\n    </tr>\n    <tr>\n      <th rowspan=\"2\" valign=\"top\">14.0</th>\n      <th>False</th>\n      <td>300</td>\n      <td>300.0</td>\n      <td>463.026667</td>\n      <td>588.499906</td>\n      <td>1.0</td>\n      <td>23.75</td>\n      <td>200.5</td>\n      <td>699.50</td>\n      <td>2459.0</td>\n    </tr>\n    <tr>\n      <th>True</th>\n      <td>378</td>\n      <td>378.0</td>\n      <td>411.010582</td>\n      <td>355.840776</td>\n      <td>2.0</td>\n      <td>131.50</td>\n      <td>320.0</td>\n      <td>597.00</td>\n      <td>1742.0</td>\n    </tr>\n    <tr>\n      <th rowspan=\"2\" valign=\"top\">15.0</th>\n      <th>False</th>\n      <td>300</td>\n      <td>300.0</td>\n      <td>441.496667</td>\n      <td>566.336856</td>\n      <td>1.0</td>\n      <td>19.00</td>\n      <td>187.5</td>\n      <td>645.00</td>\n      <td>2418.0</td>\n    </tr>\n    <tr>\n      <th>True</th>\n      <td>357</td>\n      <td>357.0</td>\n      <td>376.140056</td>\n      <td>342.504183</td>\n      <td>1.0</td>\n      <td>115.00</td>\n      <td>272.0</td>\n      <td>530.00</td>\n      <td>1676.0</td>\n    </tr>\n    <tr>\n      <th rowspan=\"2\" valign=\"top\">16.0</th>\n      <th>False</th>\n      <td>299</td>\n      <td>299.0</td>\n      <td>408.204013</td>\n      <td>537.702447</td>\n      <td>1.0</td>\n      <td>19.50</td>\n      <td>154.0</td>\n      <td>578.00</td>\n      <td>2395.0</td>\n    </tr>\n    <tr>\n      <th>True</th>\n      <td>328</td>\n      <td>328.0</td>\n      <td>345.643293</td>\n      <td>320.854361</td>\n      <td>1.0</td>\n      <td>109.00</td>\n      <td>249.5</td>\n      <td>487.75</td>\n      <td>1587.0</td>\n    </tr>\n    <tr>\n      <th rowspan=\"2\" valign=\"top\">17.0</th>\n      <th>False</th>\n      <td>299</td>\n      <td>299.0</td>\n      <td>390.100334</td>\n      <td>517.695464</td>\n      <td>1.0</td>\n      <td>17.00</td>\n      <td>142.0</td>\n      <td>551.50</td>\n      <td>2369.0</td>\n    </tr>\n    <tr>\n      <th>True</th>\n      <td>304</td>\n      <td>304.0</td>\n      <td>347.404605</td>\n      <td>322.261241</td>\n      <td>2.0</td>\n      <td>102.50</td>\n      <td>250.0</td>\n      <td>475.25</td>\n      <td>1509.0</td>\n    </tr>\n    <tr>\n      <th rowspan=\"2\" valign=\"top\">18.0</th>\n      <th>False</th>\n      <td>299</td>\n      <td>299.0</td>\n      <td>371.839465</td>\n      <td>496.937326</td>\n      <td>1.0</td>\n      <td>17.00</td>\n      <td>129.0</td>\n      <td>524.50</td>\n      <td>2306.0</td>\n    </tr>\n    <tr>\n      <th>True</th>\n      <td>280</td>\n      <td>280.0</td>\n      <td>330.832143</td>\n      <td>322.658797</td>\n      <td>2.0</td>\n      <td>90.75</td>\n      <td>217.5</td>\n      <td>517.25</td>\n      <td>1478.0</td>\n    </tr>\n    <tr>\n      <th rowspan=\"2\" valign=\"top\">19.0</th>\n      <th>False</th>\n      <td>299</td>\n      <td>299.0</td>\n      <td>354.033445</td>\n      <td>476.683846</td>\n      <td>1.0</td>\n      <td>14.00</td>\n      <td>118.0</td>\n      <td>502.00</td>\n      <td>2227.0</td>\n    </tr>\n    <tr>\n      <th>True</th>\n      <td>257</td>\n      <td>257.0</td>\n      <td>314.233463</td>\n      <td>286.446071</td>\n      <td>1.0</td>\n      <td>95.00</td>\n      <td>235.0</td>\n      <td>467.00</td>\n      <td>1455.0</td>\n    </tr>\n    <tr>\n      <th rowspan=\"2\" valign=\"top\">20.0</th>\n      <th>False</th>\n      <td>298</td>\n      <td>298.0</td>\n      <td>332.221477</td>\n      <td>452.244494</td>\n      <td>1.0</td>\n      <td>12.00</td>\n      <td>121.5</td>\n      <td>440.25</td>\n      <td>2141.0</td>\n    </tr>\n    <tr>\n      <th>True</th>\n      <td>239</td>\n      <td>239.0</td>\n      <td>286.066946</td>\n      <td>270.074538</td>\n      <td>2.0</td>\n      <td>87.00</td>\n      <td>193.0</td>\n      <td>411.00</td>\n      <td>1431.0</td>\n    </tr>\n    <tr>\n      <th rowspan=\"2\" valign=\"top\">21.0</th>\n      <th>False</th>\n      <td>299</td>\n      <td>299.0</td>\n      <td>315.622074</td>\n      <td>432.859713</td>\n      <td>1.0</td>\n      <td>10.00</td>\n      <td>117.0</td>\n      <td>421.50</td>\n      <td>2081.0</td>\n    </tr>\n    <tr>\n      <th>True</th>\n      <td>223</td>\n      <td>223.0</td>\n      <td>294.825112</td>\n      <td>288.678444</td>\n      <td>1.0</td>\n      <td>87.00</td>\n      <td>187.0</td>\n      <td>414.00</td>\n      <td>1416.0</td>\n    </tr>\n    <tr>\n      <th rowspan=\"2\" valign=\"top\">22.0</th>\n      <th>False</th>\n      <td>297</td>\n      <td>297.0</td>\n      <td>304.589226</td>\n      <td>428.278357</td>\n      <td>1.0</td>\n      <td>11.00</td>\n      <td>102.0</td>\n      <td>429.00</td>\n      <td>2067.0</td>\n    </tr>\n    <tr>\n      <th>True</th>\n      <td>202</td>\n      <td>202.0</td>\n      <td>293.242574</td>\n      <td>291.169790</td>\n      <td>1.0</td>\n      <td>81.00</td>\n      <td>184.5</td>\n      <td>425.50</td>\n      <td>1392.0</td>\n    </tr>\n    <tr>\n      <th rowspan=\"2\" valign=\"top\">23.0</th>\n      <th>False</th>\n      <td>296</td>\n      <td>296.0</td>\n      <td>282.638514</td>\n      <td>401.561361</td>\n      <td>1.0</td>\n      <td>9.00</td>\n      <td>82.5</td>\n      <td>387.00</td>\n      <td>2034.0</td>\n    </tr>\n    <tr>\n      <th>True</th>\n      <td>190</td>\n      <td>190.0</td>\n      <td>271.394737</td>\n      <td>276.914207</td>\n      <td>2.0</td>\n      <td>73.00</td>\n      <td>179.5</td>\n      <td>398.00</td>\n      <td>1382.0</td>\n    </tr>\n    <tr>\n      <th rowspan=\"2\" valign=\"top\">24.0</th>\n      <th>False</th>\n      <td>295</td>\n      <td>295.0</td>\n      <td>269.654237</td>\n      <td>385.125171</td>\n      <td>1.0</td>\n      <td>9.00</td>\n      <td>79.0</td>\n      <td>366.50</td>\n      <td>1995.0</td>\n    </tr>\n    <tr>\n      <th>True</th>\n      <td>171</td>\n      <td>171.0</td>\n      <td>263.730994</td>\n      <td>272.724485</td>\n      <td>2.0</td>\n      <td>76.00</td>\n      <td>175.0</td>\n      <td>359.50</td>\n      <td>1356.0</td>\n    </tr>\n    <tr>\n      <th rowspan=\"2\" valign=\"top\">25.0</th>\n      <th>False</th>\n      <td>294</td>\n      <td>294.0</td>\n      <td>247.170068</td>\n      <td>365.291326</td>\n      <td>1.0</td>\n      <td>8.25</td>\n      <td>74.0</td>\n      <td>300.50</td>\n      <td>1954.0</td>\n    </tr>\n    <tr>\n      <th>True</th>\n      <td>162</td>\n      <td>162.0</td>\n      <td>252.413580</td>\n      <td>276.731110</td>\n      <td>1.0</td>\n      <td>58.00</td>\n      <td>156.0</td>\n      <td>343.25</td>\n      <td>1340.0</td>\n    </tr>\n    <tr>\n      <th rowspan=\"2\" valign=\"top\">26.0</th>\n      <th>False</th>\n      <td>293</td>\n      <td>293.0</td>\n      <td>238.767918</td>\n      <td>347.687134</td>\n      <td>1.0</td>\n      <td>8.00</td>\n      <td>86.0</td>\n      <td>299.00</td>\n      <td>1912.0</td>\n    </tr>\n    <tr>\n      <th>True</th>\n      <td>145</td>\n      <td>145.0</td>\n      <td>238.710345</td>\n      <td>255.716801</td>\n      <td>1.0</td>\n      <td>66.00</td>\n      <td>162.0</td>\n      <td>330.00</td>\n      <td>1284.0</td>\n    </tr>\n  </tbody>\n</table>\n</div>"
     },
     "execution_count": 8,
     "metadata": {},
     "output_type": "execute_result"
    }
   ],
   "source": [
    "pd.concat([df_train_sets.groupby(['weeks_since_hit', 'censoring_flg_mod'])['target'].count(), df_train_sets.groupby(['weeks_since_hit', 'censoring_flg_mod'])['target'].describe()], axis=1)"
   ],
   "metadata": {
    "collapsed": false
   }
  },
  {
   "cell_type": "code",
   "execution_count": 4,
   "outputs": [
    {
     "data": {
      "text/plain": "                 target  target\nweeks_since_hit                \n0.0                1019     340\n1.0                1020     340\n2.0                1008     336\n3.0                1002     335\n4.0                 975     325\n5.0                 960     320\n6.0                 925     309\n7.0                 900     301\n8.0                 867     290\n9.0                 847     283\n10.0                800     267\n11.0                774     259\n12.0                739     247\n13.0                708     236\n14.0                677     226\n15.0                655     219\n16.0                626     209\n17.0                601     201\n18.0                578     193\n19.0                555     185\n20.0                536     179\n21.0                520     174\n22.0                498     166\n23.0                484     162\n24.0                465     155\n25.0                454     152\n26.0                437     146",
      "text/html": "<div>\n<style scoped>\n    .dataframe tbody tr th:only-of-type {\n        vertical-align: middle;\n    }\n\n    .dataframe tbody tr th {\n        vertical-align: top;\n    }\n\n    .dataframe thead th {\n        text-align: right;\n    }\n</style>\n<table border=\"1\" class=\"dataframe\">\n  <thead>\n    <tr style=\"text-align: right;\">\n      <th></th>\n      <th>target</th>\n      <th>target</th>\n    </tr>\n    <tr>\n      <th>weeks_since_hit</th>\n      <th></th>\n      <th></th>\n    </tr>\n  </thead>\n  <tbody>\n    <tr>\n      <th>0.0</th>\n      <td>1019</td>\n      <td>340</td>\n    </tr>\n    <tr>\n      <th>1.0</th>\n      <td>1020</td>\n      <td>340</td>\n    </tr>\n    <tr>\n      <th>2.0</th>\n      <td>1008</td>\n      <td>336</td>\n    </tr>\n    <tr>\n      <th>3.0</th>\n      <td>1002</td>\n      <td>335</td>\n    </tr>\n    <tr>\n      <th>4.0</th>\n      <td>975</td>\n      <td>325</td>\n    </tr>\n    <tr>\n      <th>5.0</th>\n      <td>960</td>\n      <td>320</td>\n    </tr>\n    <tr>\n      <th>6.0</th>\n      <td>925</td>\n      <td>309</td>\n    </tr>\n    <tr>\n      <th>7.0</th>\n      <td>900</td>\n      <td>301</td>\n    </tr>\n    <tr>\n      <th>8.0</th>\n      <td>867</td>\n      <td>290</td>\n    </tr>\n    <tr>\n      <th>9.0</th>\n      <td>847</td>\n      <td>283</td>\n    </tr>\n    <tr>\n      <th>10.0</th>\n      <td>800</td>\n      <td>267</td>\n    </tr>\n    <tr>\n      <th>11.0</th>\n      <td>774</td>\n      <td>259</td>\n    </tr>\n    <tr>\n      <th>12.0</th>\n      <td>739</td>\n      <td>247</td>\n    </tr>\n    <tr>\n      <th>13.0</th>\n      <td>708</td>\n      <td>236</td>\n    </tr>\n    <tr>\n      <th>14.0</th>\n      <td>677</td>\n      <td>226</td>\n    </tr>\n    <tr>\n      <th>15.0</th>\n      <td>655</td>\n      <td>219</td>\n    </tr>\n    <tr>\n      <th>16.0</th>\n      <td>626</td>\n      <td>209</td>\n    </tr>\n    <tr>\n      <th>17.0</th>\n      <td>601</td>\n      <td>201</td>\n    </tr>\n    <tr>\n      <th>18.0</th>\n      <td>578</td>\n      <td>193</td>\n    </tr>\n    <tr>\n      <th>19.0</th>\n      <td>555</td>\n      <td>185</td>\n    </tr>\n    <tr>\n      <th>20.0</th>\n      <td>536</td>\n      <td>179</td>\n    </tr>\n    <tr>\n      <th>21.0</th>\n      <td>520</td>\n      <td>174</td>\n    </tr>\n    <tr>\n      <th>22.0</th>\n      <td>498</td>\n      <td>166</td>\n    </tr>\n    <tr>\n      <th>23.0</th>\n      <td>484</td>\n      <td>162</td>\n    </tr>\n    <tr>\n      <th>24.0</th>\n      <td>465</td>\n      <td>155</td>\n    </tr>\n    <tr>\n      <th>25.0</th>\n      <td>454</td>\n      <td>152</td>\n    </tr>\n    <tr>\n      <th>26.0</th>\n      <td>437</td>\n      <td>146</td>\n    </tr>\n  </tbody>\n</table>\n</div>"
     },
     "execution_count": 4,
     "metadata": {},
     "output_type": "execute_result"
    }
   ],
   "source": [
    "pd.concat([df_train_sets.groupby(['weeks_since_hit'])['target'].count(), df_test_sets.groupby(['weeks_since_hit'])['target'].count()], axis=1)"
   ],
   "metadata": {
    "collapsed": false
   }
  },
  {
   "cell_type": "code",
   "execution_count": 5,
   "outputs": [
    {
     "data": {
      "text/plain": "weeks_since_hit  censoring_flg_mod\n0.0              False                0.296369\n                 True                 0.703631\n1.0              False                0.297059\n                 True                 0.702941\n2.0              False                0.300595\n                 True                 0.699405\n3.0              False                0.302395\n                 True                 0.697605\n4.0              False                0.310769\n                 True                 0.689231\n5.0              False                0.314583\n                 True                 0.685417\n6.0              False                0.326486\n                 True                 0.673514\n7.0              False                0.333333\n                 True                 0.666667\n8.0              False                0.346021\n                 True                 0.653979\n9.0              False                0.353011\n                 True                 0.646989\n10.0             False                0.373750\n                 True                 0.626250\n11.0             False                0.386305\n                 True                 0.613695\n12.0             False                0.404601\n                 True                 0.595399\n13.0             False                0.422316\n                 True                 0.577684\n14.0             False                0.440177\n                 True                 0.559823\n15.0             False                0.454962\n                 True                 0.545038\n16.0             False                0.476038\n                 True                 0.523962\n17.0             False                0.495840\n                 True                 0.504160\n18.0             False                0.515571\n                 True                 0.484429\n19.0             False                0.536937\n                 True                 0.463063\n20.0             False                0.554104\n                 True                 0.445896\n21.0             False                0.571154\n                 True                 0.428846\n22.0             False                0.594378\n                 True                 0.405622\n23.0             False                0.607438\n                 True                 0.392562\n24.0             False                0.632258\n                 True                 0.367742\n25.0             False                0.643172\n                 True                 0.356828\n26.0             False                0.668192\n                 True                 0.331808\nName: target, dtype: float64"
     },
     "execution_count": 5,
     "metadata": {},
     "output_type": "execute_result"
    }
   ],
   "source": [
    "df_train_sets.groupby(['weeks_since_hit', 'censoring_flg_mod'])['target'].count()/df_train_sets.groupby(['weeks_since_hit'])['target'].count()"
   ],
   "metadata": {
    "collapsed": false
   }
  },
  {
   "cell_type": "code",
   "execution_count": null,
   "outputs": [],
   "source": [
    "df_extract_train = df_train_sets[df_train_sets.index.get_level_values(3) == 5]\n",
    "df_extract_test =  df_test_sets[df_test_sets.index.get_level_values(3) == 5]"
   ],
   "metadata": {
    "collapsed": false
   }
  },
  {
   "cell_type": "code",
   "execution_count": null,
   "outputs": [],
   "source": [
    "df_extract_train.groupby(['weeks_since_hit', 'censoring_flg_mod'])['target'].count()"
   ],
   "metadata": {
    "collapsed": false
   }
  },
  {
   "cell_type": "code",
   "execution_count": null,
   "outputs": [],
   "source": [
    "df_extract_test.groupby(['weeks_since_hit', 'censoring_flg_mod'])['target'].count()"
   ],
   "metadata": {
    "collapsed": false
   }
  },
  {
   "cell_type": "code",
   "execution_count": null,
   "outputs": [],
   "source": [
    "df_extract_train['target'].plot(kind='hist')"
   ],
   "metadata": {
    "collapsed": false
   }
  },
  {
   "cell_type": "code",
   "execution_count": null,
   "outputs": [],
   "source": [
    "df_extract_train['target'].apply(lambda x: np.log(x)).plot(kind='hist')"
   ],
   "metadata": {
    "collapsed": false
   }
  },
  {
   "cell_type": "markdown",
   "source": [
    "## Model Training"
   ],
   "metadata": {
    "collapsed": false
   }
  },
  {
   "cell_type": "code",
   "execution_count": 38,
   "outputs": [],
   "source": [
    "# import sksurv and sklearn packages\n",
    "from sksurv.linear_model import CoxnetSurvivalAnalysis\n",
    "from sksurv.ensemble import GradientBoostingSurvivalAnalysis, RandomSurvivalForest\n",
    "from sksurv.metrics import as_concordance_index_ipcw_scorer\n",
    "from sklearn.ensemble import GradientBoostingClassifier\n",
    "from sklearn.metrics import f1_score, auc\n",
    "from sklearn.model_selection import RandomizedSearchCV\n",
    "from sklearn.preprocessing import StandardScaler\n",
    "import time\n",
    "import pickle"
   ],
   "metadata": {
    "collapsed": false
   }
  },
  {
   "cell_type": "markdown",
   "source": [
    "#### define prereqs"
   ],
   "metadata": {
    "collapsed": false
   }
  },
  {
   "cell_type": "code",
   "execution_count": 39,
   "outputs": [],
   "source": [
    "id_cols = list(df_train_sets.index)\n",
    "target_cols = ['censoring_flg_mod', 'target']\n",
    "cat_cols = ['market_name']\n",
    "feature_cols = list(set(df_train_sets.columns) - set(target_cols))\n",
    "num_cols = list(set(feature_cols) -set(cat_cols))"
   ],
   "metadata": {
    "collapsed": false
   }
  },
  {
   "cell_type": "code",
   "execution_count": 41,
   "outputs": [],
   "source": [
    "split_number = 5\n",
    "random_state = 1000\n",
    "weeks_range = range(27)\n",
    "\n",
    "# hyperparam grid for ElasticNet Baseline\n",
    "param_grid_cnet = {\n",
    "    'estimator__l1_ratio': [0.5, 0.1, 0.01, 0.001]\n",
    "}\n",
    "\n",
    "# hyperparam grid for Gradient Boosted Model\n",
    "param_grid_gbm = {\n",
    "    'estimator__max_depth': [2, 4, 6, 8, 10],\n",
    "    'estimator__max_features': ['auto', 'sqrt', 'log2', None],\n",
    "    'estimator__n_estimators': [50, 100, 150, 200],\n",
    "    'estimator__learning_rate': [0.01, 0.001, 0.5, 0.1],\n",
    "    'estimator__loss': ['coxph'],\n",
    "    'estimator__subsample': [0.70, 0.80, 0.9, 1.0],\n",
    "    'estimator__min_samples_split': [2, 4, 8, 16],\n",
    "    'estimator__min_samples_leaf': [2, 4, 8, 16]\n",
    "}\n",
    "\n",
    "# hyperparam grid for Random Survival Forest\n",
    "param_grid_rsf = {\n",
    "    'estimator__max_depth': [2, 4, 6, 8, 10],\n",
    "    'estimator__max_features': ['auto', 'sqrt', 'log2', None],\n",
    "    'estimator__n_estimators': [50, 100, 150, 200],\n",
    "    'estimator__min_samples_split': [2, 4, 8, 16, 32],\n",
    "    'estimator__min_samples_leaf': [2, 4, 8, 16, 32],\n",
    "    'estimator__max_leaf_nodes': [2, 4, 8, 16, 32],\n",
    "    'estimator__bootstrap': [True, False],\n",
    "    'estimator__oob_score': [False, True],\n",
    "    'estimator__max_samples': [0.70, 0.80, 0.90, 1.0]\n",
    "}\n",
    "\n",
    "# hyperparam for GBM classifier\n",
    "param_grid_gbm_clf = {\n",
    "    'max_depth': [2, 4, 6, 8, 10],\n",
    "    'max_features': ['auto', 'sqrt', 'log2', None],\n",
    "    'n_estimators': [50, 100, 150, 200],\n",
    "    'learning_rate': [0.01, 0.001, 0.5, 0.1],\n",
    "    # 'loss': ['log_loss', 'exponential'],\n",
    "    'subsample': [0.70, 0.80, 0.9, 1.0],\n",
    "    'min_samples_split': [2, 4, 8, 16],\n",
    "    'min_samples_leaf': [2, 4, 8, 16]\n",
    "}\n",
    "\n",
    "# best scores - train/test\n",
    "best_scores_cnet_train = {}\n",
    "best_scores_gbm_train = {}\n",
    "best_scores_rsf_train = {}\n",
    "\n",
    "best_scores_cnet_test = {}\n",
    "best_scores_gbm_test = {}\n",
    "best_scores_rsf_test = {}\n",
    "\n",
    "# best estimators\n",
    "best_estimators_cnet = {}\n",
    "best_estimators_gbm = {}\n",
    "best_estimators_rsf = {}\n",
    "\n",
    "# pickle file names\n",
    "file_cnet='best_est_cnet_h1_expt2.pkl'\n",
    "file_gbm='best_est_gbm_h1_expt2.pkl'\n",
    "file_rsf='best_est_rsf_h1_expt2.pkl'"
   ],
   "metadata": {
    "collapsed": false
   }
  },
  {
   "cell_type": "markdown",
   "source": [
    "#### train a baseline ElasticNet model"
   ],
   "metadata": {
    "collapsed": false
   }
  },
  {
   "cell_type": "code",
   "execution_count": 42,
   "outputs": [
    {
     "name": "stdout",
     "output_type": "stream",
     "text": [
      "Fitting 5 folds for each of 4 candidates, totalling 20 fits\n"
     ]
    },
    {
     "name": "stderr",
     "output_type": "stream",
     "text": [
      "/home/ubuntu/PycharmProjects/adds-early-burnout-warning-model/venv/lib/python3.8/site-packages/sklearn/model_selection/_search.py:292: UserWarning: The total space of parameters 4 is smaller than n_iter=50. Running 4 iterations. For exhaustive searches, use GridSearchCV.\n",
      "  warnings.warn(\n"
     ]
    },
    {
     "name": "stdout",
     "output_type": "stream",
     "text": [
      "0_best_score: 0.7116690995850231\n",
      "Elapsed time: 3\n"
     ]
    },
    {
     "name": "stderr",
     "output_type": "stream",
     "text": [
      "/home/ubuntu/PycharmProjects/adds-early-burnout-warning-model/venv/lib/python3.8/site-packages/sklearn/model_selection/_search.py:292: UserWarning: The total space of parameters 4 is smaller than n_iter=50. Running 4 iterations. For exhaustive searches, use GridSearchCV.\n",
      "  warnings.warn(\n"
     ]
    },
    {
     "name": "stdout",
     "output_type": "stream",
     "text": [
      "Fitting 5 folds for each of 4 candidates, totalling 20 fits\n",
      "1_best_score: 0.7291907920495058\n",
      "Elapsed time: 1\n"
     ]
    },
    {
     "name": "stderr",
     "output_type": "stream",
     "text": [
      "/home/ubuntu/PycharmProjects/adds-early-burnout-warning-model/venv/lib/python3.8/site-packages/sklearn/model_selection/_search.py:292: UserWarning: The total space of parameters 4 is smaller than n_iter=50. Running 4 iterations. For exhaustive searches, use GridSearchCV.\n",
      "  warnings.warn(\n"
     ]
    },
    {
     "name": "stdout",
     "output_type": "stream",
     "text": [
      "Fitting 5 folds for each of 4 candidates, totalling 20 fits\n",
      "2_best_score: 0.721362826624204\n",
      "Elapsed time: 1\n"
     ]
    },
    {
     "name": "stderr",
     "output_type": "stream",
     "text": [
      "/home/ubuntu/PycharmProjects/adds-early-burnout-warning-model/venv/lib/python3.8/site-packages/sklearn/model_selection/_search.py:292: UserWarning: The total space of parameters 4 is smaller than n_iter=50. Running 4 iterations. For exhaustive searches, use GridSearchCV.\n",
      "  warnings.warn(\n"
     ]
    },
    {
     "name": "stdout",
     "output_type": "stream",
     "text": [
      "Fitting 5 folds for each of 4 candidates, totalling 20 fits\n",
      "3_best_score: 0.7265100418712027\n",
      "Elapsed time: 1\n"
     ]
    },
    {
     "name": "stderr",
     "output_type": "stream",
     "text": [
      "/home/ubuntu/PycharmProjects/adds-early-burnout-warning-model/venv/lib/python3.8/site-packages/sklearn/model_selection/_search.py:292: UserWarning: The total space of parameters 4 is smaller than n_iter=50. Running 4 iterations. For exhaustive searches, use GridSearchCV.\n",
      "  warnings.warn(\n"
     ]
    },
    {
     "name": "stdout",
     "output_type": "stream",
     "text": [
      "Fitting 5 folds for each of 4 candidates, totalling 20 fits\n",
      "4_best_score: 0.7204718085965627\n",
      "Elapsed time: 1\n"
     ]
    },
    {
     "name": "stderr",
     "output_type": "stream",
     "text": [
      "/home/ubuntu/PycharmProjects/adds-early-burnout-warning-model/venv/lib/python3.8/site-packages/sklearn/model_selection/_search.py:292: UserWarning: The total space of parameters 4 is smaller than n_iter=50. Running 4 iterations. For exhaustive searches, use GridSearchCV.\n",
      "  warnings.warn(\n"
     ]
    },
    {
     "name": "stdout",
     "output_type": "stream",
     "text": [
      "Fitting 5 folds for each of 4 candidates, totalling 20 fits\n",
      "5_best_score: 0.729979551731477\n",
      "Elapsed time: 1\n"
     ]
    },
    {
     "name": "stderr",
     "output_type": "stream",
     "text": [
      "/home/ubuntu/PycharmProjects/adds-early-burnout-warning-model/venv/lib/python3.8/site-packages/sklearn/model_selection/_search.py:292: UserWarning: The total space of parameters 4 is smaller than n_iter=50. Running 4 iterations. For exhaustive searches, use GridSearchCV.\n",
      "  warnings.warn(\n"
     ]
    },
    {
     "name": "stdout",
     "output_type": "stream",
     "text": [
      "Fitting 5 folds for each of 4 candidates, totalling 20 fits\n",
      "6_best_score: 0.7267829151272275\n",
      "Elapsed time: 1\n"
     ]
    },
    {
     "name": "stderr",
     "output_type": "stream",
     "text": [
      "/home/ubuntu/PycharmProjects/adds-early-burnout-warning-model/venv/lib/python3.8/site-packages/sklearn/model_selection/_search.py:292: UserWarning: The total space of parameters 4 is smaller than n_iter=50. Running 4 iterations. For exhaustive searches, use GridSearchCV.\n",
      "  warnings.warn(\n"
     ]
    },
    {
     "name": "stdout",
     "output_type": "stream",
     "text": [
      "Fitting 5 folds for each of 4 candidates, totalling 20 fits\n",
      "7_best_score: 0.723182174164443\n",
      "Elapsed time: 1\n"
     ]
    },
    {
     "name": "stderr",
     "output_type": "stream",
     "text": [
      "/home/ubuntu/PycharmProjects/adds-early-burnout-warning-model/venv/lib/python3.8/site-packages/sklearn/model_selection/_search.py:292: UserWarning: The total space of parameters 4 is smaller than n_iter=50. Running 4 iterations. For exhaustive searches, use GridSearchCV.\n",
      "  warnings.warn(\n"
     ]
    },
    {
     "name": "stdout",
     "output_type": "stream",
     "text": [
      "Fitting 5 folds for each of 4 candidates, totalling 20 fits\n"
     ]
    },
    {
     "ename": "KeyboardInterrupt",
     "evalue": "",
     "output_type": "error",
     "traceback": [
      "\u001B[0;31m---------------------------------------------------------------------------\u001B[0m",
      "\u001B[0;31mKeyboardInterrupt\u001B[0m                         Traceback (most recent call last)",
      "\u001B[0;32m/tmp/ipykernel_17649/4251699858.py\u001B[0m in \u001B[0;36m<cell line: 1>\u001B[0;34m()\u001B[0m\n\u001B[1;32m     14\u001B[0m     sv_model = RandomizedSearchCV(estimator=as_concordance_index_ipcw_scorer(sv), param_distributions=param_grid_cnet,\n\u001B[1;32m     15\u001B[0m                                   cv=split_number, verbose=1, n_iter=50, n_jobs=-1)\n\u001B[0;32m---> 16\u001B[0;31m     \u001B[0msv_model\u001B[0m\u001B[0;34m.\u001B[0m\u001B[0mfit\u001B[0m\u001B[0;34m(\u001B[0m\u001B[0mX_train\u001B[0m\u001B[0;34m,\u001B[0m \u001B[0my_train\u001B[0m\u001B[0;34m)\u001B[0m\u001B[0;34m\u001B[0m\u001B[0;34m\u001B[0m\u001B[0m\n\u001B[0m\u001B[1;32m     17\u001B[0m     \u001B[0mbest_estimators_cnet\u001B[0m\u001B[0;34m[\u001B[0m\u001B[0mwk\u001B[0m\u001B[0;34m]\u001B[0m \u001B[0;34m=\u001B[0m \u001B[0msv_model\u001B[0m\u001B[0;34m.\u001B[0m\u001B[0mbest_estimator_\u001B[0m\u001B[0;34m\u001B[0m\u001B[0;34m\u001B[0m\u001B[0m\n\u001B[1;32m     18\u001B[0m     \u001B[0mstop\u001B[0m \u001B[0;34m=\u001B[0m \u001B[0mtime\u001B[0m\u001B[0;34m.\u001B[0m\u001B[0mperf_counter\u001B[0m\u001B[0;34m(\u001B[0m\u001B[0;34m)\u001B[0m\u001B[0;34m\u001B[0m\u001B[0;34m\u001B[0m\u001B[0m\n",
      "\u001B[0;32m~/PycharmProjects/adds-early-burnout-warning-model/venv/lib/python3.8/site-packages/sklearn/model_selection/_search.py\u001B[0m in \u001B[0;36mfit\u001B[0;34m(self, X, y, groups, **fit_params)\u001B[0m\n\u001B[1;32m    889\u001B[0m                 \u001B[0;32mreturn\u001B[0m \u001B[0mresults\u001B[0m\u001B[0;34m\u001B[0m\u001B[0;34m\u001B[0m\u001B[0m\n\u001B[1;32m    890\u001B[0m \u001B[0;34m\u001B[0m\u001B[0m\n\u001B[0;32m--> 891\u001B[0;31m             \u001B[0mself\u001B[0m\u001B[0;34m.\u001B[0m\u001B[0m_run_search\u001B[0m\u001B[0;34m(\u001B[0m\u001B[0mevaluate_candidates\u001B[0m\u001B[0;34m)\u001B[0m\u001B[0;34m\u001B[0m\u001B[0;34m\u001B[0m\u001B[0m\n\u001B[0m\u001B[1;32m    892\u001B[0m \u001B[0;34m\u001B[0m\u001B[0m\n\u001B[1;32m    893\u001B[0m             \u001B[0;31m# multimetric is determined here because in the case of a callable\u001B[0m\u001B[0;34m\u001B[0m\u001B[0;34m\u001B[0m\u001B[0;34m\u001B[0m\u001B[0m\n",
      "\u001B[0;32m~/PycharmProjects/adds-early-burnout-warning-model/venv/lib/python3.8/site-packages/sklearn/model_selection/_search.py\u001B[0m in \u001B[0;36m_run_search\u001B[0;34m(self, evaluate_candidates)\u001B[0m\n\u001B[1;32m   1764\u001B[0m     \u001B[0;32mdef\u001B[0m \u001B[0m_run_search\u001B[0m\u001B[0;34m(\u001B[0m\u001B[0mself\u001B[0m\u001B[0;34m,\u001B[0m \u001B[0mevaluate_candidates\u001B[0m\u001B[0;34m)\u001B[0m\u001B[0;34m:\u001B[0m\u001B[0;34m\u001B[0m\u001B[0;34m\u001B[0m\u001B[0m\n\u001B[1;32m   1765\u001B[0m         \u001B[0;34m\"\"\"Search n_iter candidates from param_distributions\"\"\"\u001B[0m\u001B[0;34m\u001B[0m\u001B[0;34m\u001B[0m\u001B[0m\n\u001B[0;32m-> 1766\u001B[0;31m         evaluate_candidates(\n\u001B[0m\u001B[1;32m   1767\u001B[0m             ParameterSampler(\n\u001B[1;32m   1768\u001B[0m                 \u001B[0mself\u001B[0m\u001B[0;34m.\u001B[0m\u001B[0mparam_distributions\u001B[0m\u001B[0;34m,\u001B[0m \u001B[0mself\u001B[0m\u001B[0;34m.\u001B[0m\u001B[0mn_iter\u001B[0m\u001B[0;34m,\u001B[0m \u001B[0mrandom_state\u001B[0m\u001B[0;34m=\u001B[0m\u001B[0mself\u001B[0m\u001B[0;34m.\u001B[0m\u001B[0mrandom_state\u001B[0m\u001B[0;34m\u001B[0m\u001B[0;34m\u001B[0m\u001B[0m\n",
      "\u001B[0;32m~/PycharmProjects/adds-early-burnout-warning-model/venv/lib/python3.8/site-packages/sklearn/model_selection/_search.py\u001B[0m in \u001B[0;36mevaluate_candidates\u001B[0;34m(candidate_params, cv, more_results)\u001B[0m\n\u001B[1;32m    836\u001B[0m                     )\n\u001B[1;32m    837\u001B[0m \u001B[0;34m\u001B[0m\u001B[0m\n\u001B[0;32m--> 838\u001B[0;31m                 out = parallel(\n\u001B[0m\u001B[1;32m    839\u001B[0m                     delayed(_fit_and_score)(\n\u001B[1;32m    840\u001B[0m                         \u001B[0mclone\u001B[0m\u001B[0;34m(\u001B[0m\u001B[0mbase_estimator\u001B[0m\u001B[0;34m)\u001B[0m\u001B[0;34m,\u001B[0m\u001B[0;34m\u001B[0m\u001B[0;34m\u001B[0m\u001B[0m\n",
      "\u001B[0;32m~/PycharmProjects/adds-early-burnout-warning-model/venv/lib/python3.8/site-packages/joblib/parallel.py\u001B[0m in \u001B[0;36m__call__\u001B[0;34m(self, iterable)\u001B[0m\n\u001B[1;32m   1096\u001B[0m \u001B[0;34m\u001B[0m\u001B[0m\n\u001B[1;32m   1097\u001B[0m             \u001B[0;32mwith\u001B[0m \u001B[0mself\u001B[0m\u001B[0;34m.\u001B[0m\u001B[0m_backend\u001B[0m\u001B[0;34m.\u001B[0m\u001B[0mretrieval_context\u001B[0m\u001B[0;34m(\u001B[0m\u001B[0;34m)\u001B[0m\u001B[0;34m:\u001B[0m\u001B[0;34m\u001B[0m\u001B[0;34m\u001B[0m\u001B[0m\n\u001B[0;32m-> 1098\u001B[0;31m                 \u001B[0mself\u001B[0m\u001B[0;34m.\u001B[0m\u001B[0mretrieve\u001B[0m\u001B[0;34m(\u001B[0m\u001B[0;34m)\u001B[0m\u001B[0;34m\u001B[0m\u001B[0;34m\u001B[0m\u001B[0m\n\u001B[0m\u001B[1;32m   1099\u001B[0m             \u001B[0;31m# Make sure that we get a last message telling us we are done\u001B[0m\u001B[0;34m\u001B[0m\u001B[0;34m\u001B[0m\u001B[0;34m\u001B[0m\u001B[0m\n\u001B[1;32m   1100\u001B[0m             \u001B[0melapsed_time\u001B[0m \u001B[0;34m=\u001B[0m \u001B[0mtime\u001B[0m\u001B[0;34m.\u001B[0m\u001B[0mtime\u001B[0m\u001B[0;34m(\u001B[0m\u001B[0;34m)\u001B[0m \u001B[0;34m-\u001B[0m \u001B[0mself\u001B[0m\u001B[0;34m.\u001B[0m\u001B[0m_start_time\u001B[0m\u001B[0;34m\u001B[0m\u001B[0;34m\u001B[0m\u001B[0m\n",
      "\u001B[0;32m~/PycharmProjects/adds-early-burnout-warning-model/venv/lib/python3.8/site-packages/joblib/parallel.py\u001B[0m in \u001B[0;36mretrieve\u001B[0;34m(self)\u001B[0m\n\u001B[1;32m    973\u001B[0m             \u001B[0;32mtry\u001B[0m\u001B[0;34m:\u001B[0m\u001B[0;34m\u001B[0m\u001B[0;34m\u001B[0m\u001B[0m\n\u001B[1;32m    974\u001B[0m                 \u001B[0;32mif\u001B[0m \u001B[0mgetattr\u001B[0m\u001B[0;34m(\u001B[0m\u001B[0mself\u001B[0m\u001B[0;34m.\u001B[0m\u001B[0m_backend\u001B[0m\u001B[0;34m,\u001B[0m \u001B[0;34m'supports_timeout'\u001B[0m\u001B[0;34m,\u001B[0m \u001B[0;32mFalse\u001B[0m\u001B[0;34m)\u001B[0m\u001B[0;34m:\u001B[0m\u001B[0;34m\u001B[0m\u001B[0;34m\u001B[0m\u001B[0m\n\u001B[0;32m--> 975\u001B[0;31m                     \u001B[0mself\u001B[0m\u001B[0;34m.\u001B[0m\u001B[0m_output\u001B[0m\u001B[0;34m.\u001B[0m\u001B[0mextend\u001B[0m\u001B[0;34m(\u001B[0m\u001B[0mjob\u001B[0m\u001B[0;34m.\u001B[0m\u001B[0mget\u001B[0m\u001B[0;34m(\u001B[0m\u001B[0mtimeout\u001B[0m\u001B[0;34m=\u001B[0m\u001B[0mself\u001B[0m\u001B[0;34m.\u001B[0m\u001B[0mtimeout\u001B[0m\u001B[0;34m)\u001B[0m\u001B[0;34m)\u001B[0m\u001B[0;34m\u001B[0m\u001B[0;34m\u001B[0m\u001B[0m\n\u001B[0m\u001B[1;32m    976\u001B[0m                 \u001B[0;32melse\u001B[0m\u001B[0;34m:\u001B[0m\u001B[0;34m\u001B[0m\u001B[0;34m\u001B[0m\u001B[0m\n\u001B[1;32m    977\u001B[0m                     \u001B[0mself\u001B[0m\u001B[0;34m.\u001B[0m\u001B[0m_output\u001B[0m\u001B[0;34m.\u001B[0m\u001B[0mextend\u001B[0m\u001B[0;34m(\u001B[0m\u001B[0mjob\u001B[0m\u001B[0;34m.\u001B[0m\u001B[0mget\u001B[0m\u001B[0;34m(\u001B[0m\u001B[0;34m)\u001B[0m\u001B[0;34m)\u001B[0m\u001B[0;34m\u001B[0m\u001B[0;34m\u001B[0m\u001B[0m\n",
      "\u001B[0;32m~/PycharmProjects/adds-early-burnout-warning-model/venv/lib/python3.8/site-packages/joblib/_parallel_backends.py\u001B[0m in \u001B[0;36mwrap_future_result\u001B[0;34m(future, timeout)\u001B[0m\n\u001B[1;32m    565\u001B[0m         AsyncResults.get from multiprocessing.\"\"\"\n\u001B[1;32m    566\u001B[0m         \u001B[0;32mtry\u001B[0m\u001B[0;34m:\u001B[0m\u001B[0;34m\u001B[0m\u001B[0;34m\u001B[0m\u001B[0m\n\u001B[0;32m--> 567\u001B[0;31m             \u001B[0;32mreturn\u001B[0m \u001B[0mfuture\u001B[0m\u001B[0;34m.\u001B[0m\u001B[0mresult\u001B[0m\u001B[0;34m(\u001B[0m\u001B[0mtimeout\u001B[0m\u001B[0;34m=\u001B[0m\u001B[0mtimeout\u001B[0m\u001B[0;34m)\u001B[0m\u001B[0;34m\u001B[0m\u001B[0;34m\u001B[0m\u001B[0m\n\u001B[0m\u001B[1;32m    568\u001B[0m         \u001B[0;32mexcept\u001B[0m \u001B[0mCfTimeoutError\u001B[0m \u001B[0;32mas\u001B[0m \u001B[0me\u001B[0m\u001B[0;34m:\u001B[0m\u001B[0;34m\u001B[0m\u001B[0;34m\u001B[0m\u001B[0m\n\u001B[1;32m    569\u001B[0m             \u001B[0;32mraise\u001B[0m \u001B[0mTimeoutError\u001B[0m \u001B[0;32mfrom\u001B[0m \u001B[0me\u001B[0m\u001B[0;34m\u001B[0m\u001B[0;34m\u001B[0m\u001B[0m\n",
      "\u001B[0;32m/usr/lib/python3.8/concurrent/futures/_base.py\u001B[0m in \u001B[0;36mresult\u001B[0;34m(self, timeout)\u001B[0m\n\u001B[1;32m    437\u001B[0m                     \u001B[0;32mreturn\u001B[0m \u001B[0mself\u001B[0m\u001B[0;34m.\u001B[0m\u001B[0m__get_result\u001B[0m\u001B[0;34m(\u001B[0m\u001B[0;34m)\u001B[0m\u001B[0;34m\u001B[0m\u001B[0;34m\u001B[0m\u001B[0m\n\u001B[1;32m    438\u001B[0m \u001B[0;34m\u001B[0m\u001B[0m\n\u001B[0;32m--> 439\u001B[0;31m                 \u001B[0mself\u001B[0m\u001B[0;34m.\u001B[0m\u001B[0m_condition\u001B[0m\u001B[0;34m.\u001B[0m\u001B[0mwait\u001B[0m\u001B[0;34m(\u001B[0m\u001B[0mtimeout\u001B[0m\u001B[0;34m)\u001B[0m\u001B[0;34m\u001B[0m\u001B[0;34m\u001B[0m\u001B[0m\n\u001B[0m\u001B[1;32m    440\u001B[0m \u001B[0;34m\u001B[0m\u001B[0m\n\u001B[1;32m    441\u001B[0m                 \u001B[0;32mif\u001B[0m \u001B[0mself\u001B[0m\u001B[0;34m.\u001B[0m\u001B[0m_state\u001B[0m \u001B[0;32min\u001B[0m \u001B[0;34m[\u001B[0m\u001B[0mCANCELLED\u001B[0m\u001B[0;34m,\u001B[0m \u001B[0mCANCELLED_AND_NOTIFIED\u001B[0m\u001B[0;34m]\u001B[0m\u001B[0;34m:\u001B[0m\u001B[0;34m\u001B[0m\u001B[0;34m\u001B[0m\u001B[0m\n",
      "\u001B[0;32m/usr/lib/python3.8/threading.py\u001B[0m in \u001B[0;36mwait\u001B[0;34m(self, timeout)\u001B[0m\n\u001B[1;32m    300\u001B[0m         \u001B[0;32mtry\u001B[0m\u001B[0;34m:\u001B[0m    \u001B[0;31m# restore state no matter what (e.g., KeyboardInterrupt)\u001B[0m\u001B[0;34m\u001B[0m\u001B[0;34m\u001B[0m\u001B[0m\n\u001B[1;32m    301\u001B[0m             \u001B[0;32mif\u001B[0m \u001B[0mtimeout\u001B[0m \u001B[0;32mis\u001B[0m \u001B[0;32mNone\u001B[0m\u001B[0;34m:\u001B[0m\u001B[0;34m\u001B[0m\u001B[0;34m\u001B[0m\u001B[0m\n\u001B[0;32m--> 302\u001B[0;31m                 \u001B[0mwaiter\u001B[0m\u001B[0;34m.\u001B[0m\u001B[0macquire\u001B[0m\u001B[0;34m(\u001B[0m\u001B[0;34m)\u001B[0m\u001B[0;34m\u001B[0m\u001B[0;34m\u001B[0m\u001B[0m\n\u001B[0m\u001B[1;32m    303\u001B[0m                 \u001B[0mgotit\u001B[0m \u001B[0;34m=\u001B[0m \u001B[0;32mTrue\u001B[0m\u001B[0;34m\u001B[0m\u001B[0;34m\u001B[0m\u001B[0m\n\u001B[1;32m    304\u001B[0m             \u001B[0;32melse\u001B[0m\u001B[0;34m:\u001B[0m\u001B[0;34m\u001B[0m\u001B[0;34m\u001B[0m\u001B[0m\n",
      "\u001B[0;31mKeyboardInterrupt\u001B[0m: "
     ]
    }
   ],
   "source": [
    "for wk in weeks_range:\n",
    "    start = time.perf_counter()\n",
    "\n",
    "    sv = CoxnetSurvivalAnalysis()\n",
    "\n",
    "    X_train = df_train_sets[df_train_sets.index.get_level_values(3) == wk][feature_cols]\n",
    "    drop_cols = X_train.columns[X_train.isna().any()].tolist()\n",
    "    X_train.drop(drop_cols, axis=1, inplace=True)\n",
    "    X_train = pd.get_dummies(X_train, columns=['market_name'])\n",
    "    sel_cols = list(set(num_cols) - set(drop_cols))\n",
    "    X_train[sel_cols] = StandardScaler().fit_transform(X_train[sel_cols])\n",
    "    y_train = df_train_sets[df_train_sets.index.get_level_values(3) == wk][target_cols].to_records(index=False)\n",
    "\n",
    "    sv_model = RandomizedSearchCV(estimator=as_concordance_index_ipcw_scorer(sv), param_distributions=param_grid_cnet,\n",
    "                                  cv=split_number, verbose=1, n_iter=50, n_jobs=-1)\n",
    "    sv_model.fit(X_train, y_train)\n",
    "    best_estimators_cnet[wk] = sv_model.best_estimator_\n",
    "    stop = time.perf_counter()\n",
    "    print(str(wk) + '_' + 'best_score: ' + f'{sv_model.best_score_}')\n",
    "    print('Elapsed time: '  + str(int((stop-start))))"
   ],
   "metadata": {
    "collapsed": false
   }
  },
  {
   "cell_type": "code",
   "execution_count": 8,
   "outputs": [
    {
     "data": {
      "text/plain": "['completed_rate_26wk',\n 'thumbs_up_rate_total_13wk',\n 'thumbs_up_rate_1wk',\n 'completed_rate_13wk',\n 'thumbs_up_rate_total_26wk',\n 'thumbs_up_rate_26wk',\n 'completed_rate_4wk',\n 'thumbs_up_rate_4wk',\n 'thumbs_up_rate_total_1wk',\n 'thumbs_up_rate_8wk',\n 'thumbs_up_rate_total_4wk',\n 'thumbs_up_rate_total_8wk',\n 'completed_rate_8wk',\n 'thumbs_up_rate_13wk',\n 'completed_rate_1wk']"
     },
     "execution_count": 8,
     "metadata": {},
     "output_type": "execute_result"
    }
   ],
   "source": [
    "X_train.columns[X_train.isna().any()].tolist()"
   ],
   "metadata": {
    "collapsed": false
   }
  },
  {
   "cell_type": "code",
   "execution_count": 15,
   "outputs": [],
   "source": [
    "# write best estimators to a pickle file\n",
    "with open(file_cnet, 'wb') as file:\n",
    "    pickle.dump(best_estimators_cnet, file)"
   ],
   "metadata": {
    "collapsed": false
   }
  },
  {
   "cell_type": "markdown",
   "source": [
    "### train a GBM model"
   ],
   "metadata": {
    "collapsed": false
   }
  },
  {
   "cell_type": "code",
   "execution_count": 43,
   "outputs": [
    {
     "name": "stdout",
     "output_type": "stream",
     "text": [
      "Fitting 5 folds for each of 50 candidates, totalling 250 fits\n",
      "0_best_score: 0.713463072871176\n",
      "Elapsed time: 176\n",
      "Fitting 5 folds for each of 50 candidates, totalling 250 fits\n"
     ]
    },
    {
     "name": "stderr",
     "output_type": "stream",
     "text": [
      "Process LokyProcess-42:\n",
      "Traceback (most recent call last):\n",
      "  File \"/home/ubuntu/PycharmProjects/adds-early-burnout-warning-model/venv/lib/python3.8/site-packages/joblib/_parallel_backends.py\", line 620, in __call__\n",
      "    return self.func(*args, **kwargs)\n",
      "  File \"/home/ubuntu/PycharmProjects/adds-early-burnout-warning-model/venv/lib/python3.8/site-packages/joblib/parallel.py\", line 288, in __call__\n",
      "    return [func(*args, **kwargs)\n",
      "  File \"/home/ubuntu/PycharmProjects/adds-early-burnout-warning-model/venv/lib/python3.8/site-packages/joblib/parallel.py\", line 288, in <listcomp>\n",
      "    return [func(*args, **kwargs)\n",
      "  File \"/home/ubuntu/PycharmProjects/adds-early-burnout-warning-model/venv/lib/python3.8/site-packages/sklearn/utils/fixes.py\", line 216, in __call__\n",
      "    return self.function(*args, **kwargs)\n",
      "  File \"/home/ubuntu/PycharmProjects/adds-early-burnout-warning-model/venv/lib/python3.8/site-packages/sklearn/model_selection/_validation.py\", line 680, in _fit_and_score\n",
      "    estimator.fit(X_train, y_train, **fit_params)\n",
      "  File \"/home/ubuntu/PycharmProjects/adds-early-burnout-warning-model/venv/lib/python3.8/site-packages/sksurv/metrics.py\", line 766, in fit\n",
      "    self.estimator_ = self.estimator.fit(X, y, **fit_params)\n",
      "  File \"/home/ubuntu/PycharmProjects/adds-early-burnout-warning-model/venv/lib/python3.8/site-packages/sksurv/ensemble/boosting.py\", line 971, in fit\n",
      "    n_stages = self._fit_stages(X, y, raw_predictions, sample_weight, self._rng,\n",
      "  File \"/home/ubuntu/PycharmProjects/adds-early-burnout-warning-model/venv/lib/python3.8/site-packages/sksurv/ensemble/boosting.py\", line 878, in _fit_stages\n",
      "    raw_predictions = self._fit_stage(\n",
      "  File \"/home/ubuntu/PycharmProjects/adds-early-burnout-warning-model/venv/lib/python3.8/site-packages/sksurv/ensemble/boosting.py\", line 805, in _fit_stage\n",
      "    tree.fit(X, residual, sample_weight=sample_weight,\n",
      "  File \"/home/ubuntu/PycharmProjects/adds-early-burnout-warning-model/venv/lib/python3.8/site-packages/sklearn/tree/_classes.py\", line 1315, in fit\n",
      "    super().fit(\n",
      "  File \"/home/ubuntu/PycharmProjects/adds-early-burnout-warning-model/venv/lib/python3.8/site-packages/sklearn/tree/_classes.py\", line 420, in fit\n",
      "    builder.build(self.tree_, X, y, sample_weight)\n",
      "KeyboardInterrupt\n",
      "\n",
      "The above exception was the direct cause of the following exception:\n",
      "\n",
      "Traceback (most recent call last):\n",
      "  File \"/home/ubuntu/PycharmProjects/adds-early-burnout-warning-model/venv/lib/python3.8/site-packages/joblib/externals/loky/process_executor.py\", line 428, in _process_worker\n",
      "    r = call_item()\n",
      "  File \"/home/ubuntu/PycharmProjects/adds-early-burnout-warning-model/venv/lib/python3.8/site-packages/joblib/externals/loky/process_executor.py\", line 275, in __call__\n",
      "    return self.fn(*self.args, **self.kwargs)\n",
      "  File \"/home/ubuntu/PycharmProjects/adds-early-burnout-warning-model/venv/lib/python3.8/site-packages/joblib/_parallel_backends.py\", line 625, in __call__\n",
      "    raise WorkerInterrupt() from e\n",
      "joblib.my_exceptions.WorkerInterrupt\n",
      "\n",
      "During handling of the above exception, another exception occurred:\n",
      "\n",
      "Traceback (most recent call last):\n",
      "  File \"/usr/lib/python3.8/multiprocessing/process.py\", line 315, in _bootstrap\n",
      "    self.run()\n",
      "  File \"/usr/lib/python3.8/multiprocessing/process.py\", line 108, in run\n",
      "    self._target(*self._args, **self._kwargs)\n",
      "  File \"/home/ubuntu/PycharmProjects/adds-early-burnout-warning-model/venv/lib/python3.8/site-packages/joblib/externals/loky/process_executor.py\", line 431, in _process_worker\n",
      "    result_queue.put(_ResultItem(call_item.work_id, exception=exc))\n",
      "  File \"/home/ubuntu/PycharmProjects/adds-early-burnout-warning-model/venv/lib/python3.8/site-packages/joblib/externals/loky/backend/queues.py\", line 192, in put\n",
      "    self._writer.send_bytes(obj)\n",
      "  File \"/usr/lib/python3.8/multiprocessing/connection.py\", line 200, in send_bytes\n",
      "    self._send_bytes(m[offset:offset + size])\n",
      "  File \"/usr/lib/python3.8/multiprocessing/connection.py\", line 411, in _send_bytes\n",
      "    self._send(header + buf)\n",
      "  File \"/usr/lib/python3.8/multiprocessing/connection.py\", line 368, in _send\n",
      "    n = write(self._handle, buf)\n",
      "KeyboardInterrupt\n",
      "Process LokyProcess-40:\n",
      "Traceback (most recent call last):\n",
      "  File \"/home/ubuntu/PycharmProjects/adds-early-burnout-warning-model/venv/lib/python3.8/site-packages/joblib/_parallel_backends.py\", line 620, in __call__\n",
      "    return self.func(*args, **kwargs)\n",
      "  File \"/home/ubuntu/PycharmProjects/adds-early-burnout-warning-model/venv/lib/python3.8/site-packages/joblib/parallel.py\", line 288, in __call__\n",
      "    return [func(*args, **kwargs)\n",
      "  File \"/home/ubuntu/PycharmProjects/adds-early-burnout-warning-model/venv/lib/python3.8/site-packages/joblib/parallel.py\", line 288, in <listcomp>\n",
      "    return [func(*args, **kwargs)\n",
      "  File \"/home/ubuntu/PycharmProjects/adds-early-burnout-warning-model/venv/lib/python3.8/site-packages/sklearn/utils/fixes.py\", line 216, in __call__\n",
      "    return self.function(*args, **kwargs)\n",
      "  File \"/home/ubuntu/PycharmProjects/adds-early-burnout-warning-model/venv/lib/python3.8/site-packages/sklearn/model_selection/_validation.py\", line 680, in _fit_and_score\n",
      "    estimator.fit(X_train, y_train, **fit_params)\n",
      "  File \"/home/ubuntu/PycharmProjects/adds-early-burnout-warning-model/venv/lib/python3.8/site-packages/sksurv/metrics.py\", line 766, in fit\n",
      "    self.estimator_ = self.estimator.fit(X, y, **fit_params)\n",
      "  File \"/home/ubuntu/PycharmProjects/adds-early-burnout-warning-model/venv/lib/python3.8/site-packages/sksurv/ensemble/boosting.py\", line 971, in fit\n",
      "    n_stages = self._fit_stages(X, y, raw_predictions, sample_weight, self._rng,\n",
      "  File \"/home/ubuntu/PycharmProjects/adds-early-burnout-warning-model/venv/lib/python3.8/site-packages/sksurv/ensemble/boosting.py\", line 878, in _fit_stages\n",
      "    raw_predictions = self._fit_stage(\n",
      "  File \"/home/ubuntu/PycharmProjects/adds-early-burnout-warning-model/venv/lib/python3.8/site-packages/sksurv/ensemble/boosting.py\", line 805, in _fit_stage\n",
      "    tree.fit(X, residual, sample_weight=sample_weight,\n",
      "  File \"/home/ubuntu/PycharmProjects/adds-early-burnout-warning-model/venv/lib/python3.8/site-packages/sklearn/tree/_classes.py\", line 1315, in fit\n",
      "    super().fit(\n",
      "  File \"/home/ubuntu/PycharmProjects/adds-early-burnout-warning-model/venv/lib/python3.8/site-packages/sklearn/tree/_classes.py\", line 420, in fit\n",
      "    builder.build(self.tree_, X, y, sample_weight)\n",
      "KeyboardInterrupt\n",
      "\n",
      "The above exception was the direct cause of the following exception:\n",
      "\n",
      "Traceback (most recent call last):\n",
      "  File \"/home/ubuntu/PycharmProjects/adds-early-burnout-warning-model/venv/lib/python3.8/site-packages/joblib/externals/loky/process_executor.py\", line 428, in _process_worker\n",
      "    r = call_item()\n",
      "  File \"/home/ubuntu/PycharmProjects/adds-early-burnout-warning-model/venv/lib/python3.8/site-packages/joblib/externals/loky/process_executor.py\", line 275, in __call__\n",
      "    return self.fn(*self.args, **self.kwargs)\n",
      "  File \"/home/ubuntu/PycharmProjects/adds-early-burnout-warning-model/venv/lib/python3.8/site-packages/joblib/_parallel_backends.py\", line 625, in __call__\n",
      "    raise WorkerInterrupt() from e\n",
      "joblib.my_exceptions.WorkerInterrupt\n",
      "\n",
      "During handling of the above exception, another exception occurred:\n",
      "\n",
      "Traceback (most recent call last):\n",
      "  File \"/usr/lib/python3.8/multiprocessing/process.py\", line 315, in _bootstrap\n",
      "    self.run()\n",
      "  File \"/usr/lib/python3.8/multiprocessing/process.py\", line 108, in run\n",
      "    self._target(*self._args, **self._kwargs)\n",
      "  File \"/home/ubuntu/PycharmProjects/adds-early-burnout-warning-model/venv/lib/python3.8/site-packages/joblib/externals/loky/process_executor.py\", line 431, in _process_worker\n",
      "    result_queue.put(_ResultItem(call_item.work_id, exception=exc))\n",
      "  File \"/home/ubuntu/PycharmProjects/adds-early-burnout-warning-model/venv/lib/python3.8/site-packages/joblib/externals/loky/backend/queues.py\", line 191, in put\n",
      "    with self._wlock:\n",
      "  File \"/home/ubuntu/PycharmProjects/adds-early-burnout-warning-model/venv/lib/python3.8/site-packages/joblib/externals/loky/backend/synchronize.py\", line 112, in __enter__\n",
      "    return self._semlock.acquire()\n",
      "KeyboardInterrupt\n",
      "Process LokyProcess-35:\n",
      "Traceback (most recent call last):\n",
      "  File \"/home/ubuntu/PycharmProjects/adds-early-burnout-warning-model/venv/lib/python3.8/site-packages/joblib/_parallel_backends.py\", line 620, in __call__\n",
      "    return self.func(*args, **kwargs)\n",
      "  File \"/home/ubuntu/PycharmProjects/adds-early-burnout-warning-model/venv/lib/python3.8/site-packages/joblib/parallel.py\", line 288, in __call__\n",
      "    return [func(*args, **kwargs)\n",
      "  File \"/home/ubuntu/PycharmProjects/adds-early-burnout-warning-model/venv/lib/python3.8/site-packages/joblib/parallel.py\", line 288, in <listcomp>\n",
      "    return [func(*args, **kwargs)\n",
      "  File \"/home/ubuntu/PycharmProjects/adds-early-burnout-warning-model/venv/lib/python3.8/site-packages/sklearn/utils/fixes.py\", line 216, in __call__\n",
      "    return self.function(*args, **kwargs)\n",
      "  File \"/home/ubuntu/PycharmProjects/adds-early-burnout-warning-model/venv/lib/python3.8/site-packages/sklearn/model_selection/_validation.py\", line 680, in _fit_and_score\n",
      "    estimator.fit(X_train, y_train, **fit_params)\n",
      "  File \"/home/ubuntu/PycharmProjects/adds-early-burnout-warning-model/venv/lib/python3.8/site-packages/sksurv/metrics.py\", line 766, in fit\n",
      "    self.estimator_ = self.estimator.fit(X, y, **fit_params)\n",
      "  File \"/home/ubuntu/PycharmProjects/adds-early-burnout-warning-model/venv/lib/python3.8/site-packages/sksurv/ensemble/boosting.py\", line 971, in fit\n",
      "    n_stages = self._fit_stages(X, y, raw_predictions, sample_weight, self._rng,\n",
      "  File \"/home/ubuntu/PycharmProjects/adds-early-burnout-warning-model/venv/lib/python3.8/site-packages/sksurv/ensemble/boosting.py\", line 878, in _fit_stages\n",
      "    raw_predictions = self._fit_stage(\n",
      "  File \"/home/ubuntu/PycharmProjects/adds-early-burnout-warning-model/venv/lib/python3.8/site-packages/sksurv/ensemble/boosting.py\", line 805, in _fit_stage\n",
      "    tree.fit(X, residual, sample_weight=sample_weight,\n",
      "  File \"/home/ubuntu/PycharmProjects/adds-early-burnout-warning-model/venv/lib/python3.8/site-packages/sklearn/tree/_classes.py\", line 1315, in fit\n",
      "    super().fit(\n",
      "  File \"/home/ubuntu/PycharmProjects/adds-early-burnout-warning-model/venv/lib/python3.8/site-packages/sklearn/tree/_classes.py\", line 420, in fit\n",
      "    builder.build(self.tree_, X, y, sample_weight)\n",
      "KeyboardInterrupt\n",
      "\n",
      "The above exception was the direct cause of the following exception:\n",
      "\n",
      "Traceback (most recent call last):\n",
      "  File \"/home/ubuntu/PycharmProjects/adds-early-burnout-warning-model/venv/lib/python3.8/site-packages/joblib/externals/loky/process_executor.py\", line 428, in _process_worker\n",
      "    r = call_item()\n",
      "  File \"/home/ubuntu/PycharmProjects/adds-early-burnout-warning-model/venv/lib/python3.8/site-packages/joblib/externals/loky/process_executor.py\", line 275, in __call__\n",
      "    return self.fn(*self.args, **self.kwargs)\n",
      "  File \"/home/ubuntu/PycharmProjects/adds-early-burnout-warning-model/venv/lib/python3.8/site-packages/joblib/_parallel_backends.py\", line 625, in __call__\n",
      "    raise WorkerInterrupt() from e\n",
      "joblib.my_exceptions.WorkerInterrupt\n",
      "\n",
      "During handling of the above exception, another exception occurred:\n",
      "\n",
      "Traceback (most recent call last):\n",
      "  File \"/usr/lib/python3.8/multiprocessing/process.py\", line 315, in _bootstrap\n",
      "    self.run()\n",
      "  File \"/usr/lib/python3.8/multiprocessing/process.py\", line 108, in run\n",
      "    self._target(*self._args, **self._kwargs)\n",
      "  File \"/home/ubuntu/PycharmProjects/adds-early-burnout-warning-model/venv/lib/python3.8/site-packages/joblib/externals/loky/process_executor.py\", line 431, in _process_worker\n",
      "    result_queue.put(_ResultItem(call_item.work_id, exception=exc))\n",
      "  File \"/home/ubuntu/PycharmProjects/adds-early-burnout-warning-model/venv/lib/python3.8/site-packages/joblib/externals/loky/backend/queues.py\", line 191, in put\n",
      "    with self._wlock:\n",
      "  File \"/home/ubuntu/PycharmProjects/adds-early-burnout-warning-model/venv/lib/python3.8/site-packages/joblib/externals/loky/backend/synchronize.py\", line 112, in __enter__\n",
      "    return self._semlock.acquire()\n",
      "KeyboardInterrupt\n",
      "Process LokyProcess-43:\n",
      "Traceback (most recent call last):\n",
      "  File \"/home/ubuntu/PycharmProjects/adds-early-burnout-warning-model/venv/lib/python3.8/site-packages/joblib/_parallel_backends.py\", line 620, in __call__\n",
      "    return self.func(*args, **kwargs)\n",
      "  File \"/home/ubuntu/PycharmProjects/adds-early-burnout-warning-model/venv/lib/python3.8/site-packages/joblib/parallel.py\", line 288, in __call__\n",
      "    return [func(*args, **kwargs)\n",
      "  File \"/home/ubuntu/PycharmProjects/adds-early-burnout-warning-model/venv/lib/python3.8/site-packages/joblib/parallel.py\", line 288, in <listcomp>\n",
      "    return [func(*args, **kwargs)\n",
      "  File \"/home/ubuntu/PycharmProjects/adds-early-burnout-warning-model/venv/lib/python3.8/site-packages/sklearn/utils/fixes.py\", line 216, in __call__\n",
      "    return self.function(*args, **kwargs)\n",
      "  File \"/home/ubuntu/PycharmProjects/adds-early-burnout-warning-model/venv/lib/python3.8/site-packages/sklearn/model_selection/_validation.py\", line 680, in _fit_and_score\n",
      "    estimator.fit(X_train, y_train, **fit_params)\n",
      "  File \"/home/ubuntu/PycharmProjects/adds-early-burnout-warning-model/venv/lib/python3.8/site-packages/sksurv/metrics.py\", line 766, in fit\n",
      "    self.estimator_ = self.estimator.fit(X, y, **fit_params)\n",
      "  File \"/home/ubuntu/PycharmProjects/adds-early-burnout-warning-model/venv/lib/python3.8/site-packages/sksurv/ensemble/boosting.py\", line 971, in fit\n",
      "    n_stages = self._fit_stages(X, y, raw_predictions, sample_weight, self._rng,\n",
      "  File \"/home/ubuntu/PycharmProjects/adds-early-burnout-warning-model/venv/lib/python3.8/site-packages/sksurv/ensemble/boosting.py\", line 878, in _fit_stages\n",
      "    raw_predictions = self._fit_stage(\n",
      "  File \"/home/ubuntu/PycharmProjects/adds-early-burnout-warning-model/venv/lib/python3.8/site-packages/sksurv/ensemble/boosting.py\", line 805, in _fit_stage\n",
      "    tree.fit(X, residual, sample_weight=sample_weight,\n",
      "  File \"/home/ubuntu/PycharmProjects/adds-early-burnout-warning-model/venv/lib/python3.8/site-packages/sklearn/tree/_classes.py\", line 1315, in fit\n",
      "    super().fit(\n",
      "  File \"/home/ubuntu/PycharmProjects/adds-early-burnout-warning-model/venv/lib/python3.8/site-packages/sklearn/tree/_classes.py\", line 420, in fit\n",
      "    builder.build(self.tree_, X, y, sample_weight)\n",
      "KeyboardInterrupt\n",
      "\n",
      "The above exception was the direct cause of the following exception:\n",
      "\n",
      "Traceback (most recent call last):\n",
      "  File \"/home/ubuntu/PycharmProjects/adds-early-burnout-warning-model/venv/lib/python3.8/site-packages/joblib/externals/loky/process_executor.py\", line 428, in _process_worker\n",
      "    r = call_item()\n",
      "  File \"/home/ubuntu/PycharmProjects/adds-early-burnout-warning-model/venv/lib/python3.8/site-packages/joblib/externals/loky/process_executor.py\", line 275, in __call__\n",
      "    return self.fn(*self.args, **self.kwargs)\n",
      "  File \"/home/ubuntu/PycharmProjects/adds-early-burnout-warning-model/venv/lib/python3.8/site-packages/joblib/_parallel_backends.py\", line 625, in __call__\n",
      "    raise WorkerInterrupt() from e\n",
      "joblib.my_exceptions.WorkerInterrupt\n",
      "\n",
      "During handling of the above exception, another exception occurred:\n",
      "\n",
      "Traceback (most recent call last):\n",
      "  File \"/usr/lib/python3.8/multiprocessing/process.py\", line 315, in _bootstrap\n",
      "    self.run()\n",
      "  File \"/usr/lib/python3.8/multiprocessing/process.py\", line 108, in run\n",
      "    self._target(*self._args, **self._kwargs)\n",
      "  File \"/home/ubuntu/PycharmProjects/adds-early-burnout-warning-model/venv/lib/python3.8/site-packages/joblib/externals/loky/process_executor.py\", line 431, in _process_worker\n",
      "    result_queue.put(_ResultItem(call_item.work_id, exception=exc))\n",
      "  File \"/home/ubuntu/PycharmProjects/adds-early-burnout-warning-model/venv/lib/python3.8/site-packages/joblib/externals/loky/backend/queues.py\", line 191, in put\n",
      "    with self._wlock:\n",
      "  File \"/home/ubuntu/PycharmProjects/adds-early-burnout-warning-model/venv/lib/python3.8/site-packages/joblib/externals/loky/backend/synchronize.py\", line 112, in __enter__\n",
      "    return self._semlock.acquire()\n",
      "KeyboardInterrupt\n",
      "Process LokyProcess-51:\n",
      "Traceback (most recent call last):\n",
      "  File \"/home/ubuntu/PycharmProjects/adds-early-burnout-warning-model/venv/lib/python3.8/site-packages/joblib/_parallel_backends.py\", line 620, in __call__\n",
      "    return self.func(*args, **kwargs)\n",
      "  File \"/home/ubuntu/PycharmProjects/adds-early-burnout-warning-model/venv/lib/python3.8/site-packages/joblib/parallel.py\", line 288, in __call__\n",
      "    return [func(*args, **kwargs)\n",
      "  File \"/home/ubuntu/PycharmProjects/adds-early-burnout-warning-model/venv/lib/python3.8/site-packages/joblib/parallel.py\", line 288, in <listcomp>\n",
      "    return [func(*args, **kwargs)\n",
      "  File \"/home/ubuntu/PycharmProjects/adds-early-burnout-warning-model/venv/lib/python3.8/site-packages/sklearn/utils/fixes.py\", line 216, in __call__\n",
      "    return self.function(*args, **kwargs)\n",
      "  File \"/home/ubuntu/PycharmProjects/adds-early-burnout-warning-model/venv/lib/python3.8/site-packages/sklearn/model_selection/_validation.py\", line 680, in _fit_and_score\n",
      "    estimator.fit(X_train, y_train, **fit_params)\n",
      "  File \"/home/ubuntu/PycharmProjects/adds-early-burnout-warning-model/venv/lib/python3.8/site-packages/sksurv/metrics.py\", line 766, in fit\n",
      "    self.estimator_ = self.estimator.fit(X, y, **fit_params)\n",
      "  File \"/home/ubuntu/PycharmProjects/adds-early-burnout-warning-model/venv/lib/python3.8/site-packages/sksurv/ensemble/boosting.py\", line 971, in fit\n",
      "    n_stages = self._fit_stages(X, y, raw_predictions, sample_weight, self._rng,\n",
      "  File \"/home/ubuntu/PycharmProjects/adds-early-burnout-warning-model/venv/lib/python3.8/site-packages/sksurv/ensemble/boosting.py\", line 878, in _fit_stages\n",
      "    raw_predictions = self._fit_stage(\n",
      "  File \"/home/ubuntu/PycharmProjects/adds-early-burnout-warning-model/venv/lib/python3.8/site-packages/sksurv/ensemble/boosting.py\", line 805, in _fit_stage\n",
      "    tree.fit(X, residual, sample_weight=sample_weight,\n",
      "  File \"/home/ubuntu/PycharmProjects/adds-early-burnout-warning-model/venv/lib/python3.8/site-packages/sklearn/tree/_classes.py\", line 1315, in fit\n",
      "    super().fit(\n",
      "  File \"/home/ubuntu/PycharmProjects/adds-early-burnout-warning-model/venv/lib/python3.8/site-packages/sklearn/tree/_classes.py\", line 420, in fit\n",
      "    builder.build(self.tree_, X, y, sample_weight)\n",
      "KeyboardInterrupt\n",
      "\n",
      "The above exception was the direct cause of the following exception:\n",
      "\n",
      "Traceback (most recent call last):\n",
      "  File \"/home/ubuntu/PycharmProjects/adds-early-burnout-warning-model/venv/lib/python3.8/site-packages/joblib/externals/loky/process_executor.py\", line 428, in _process_worker\n",
      "    r = call_item()\n",
      "  File \"/home/ubuntu/PycharmProjects/adds-early-burnout-warning-model/venv/lib/python3.8/site-packages/joblib/externals/loky/process_executor.py\", line 275, in __call__\n",
      "    return self.fn(*self.args, **self.kwargs)\n",
      "  File \"/home/ubuntu/PycharmProjects/adds-early-burnout-warning-model/venv/lib/python3.8/site-packages/joblib/_parallel_backends.py\", line 625, in __call__\n",
      "    raise WorkerInterrupt() from e\n",
      "joblib.my_exceptions.WorkerInterrupt\n",
      "\n",
      "During handling of the above exception, another exception occurred:\n",
      "\n",
      "Traceback (most recent call last):\n",
      "  File \"/usr/lib/python3.8/multiprocessing/process.py\", line 315, in _bootstrap\n",
      "    self.run()\n",
      "  File \"/usr/lib/python3.8/multiprocessing/process.py\", line 108, in run\n",
      "    self._target(*self._args, **self._kwargs)\n",
      "  File \"/home/ubuntu/PycharmProjects/adds-early-burnout-warning-model/venv/lib/python3.8/site-packages/joblib/externals/loky/process_executor.py\", line 430, in _process_worker\n",
      "    exc = _ExceptionWithTraceback(e)\n",
      "  File \"/home/ubuntu/PycharmProjects/adds-early-burnout-warning-model/venv/lib/python3.8/site-packages/joblib/externals/loky/process_executor.py\", line 229, in __init__\n",
      "    tb = traceback.format_exception(type(exc), exc, tb)\n",
      "  File \"/usr/lib/python3.8/traceback.py\", line 120, in format_exception\n",
      "    return list(TracebackException(\n",
      "  File \"/usr/lib/python3.8/traceback.py\", line 524, in __init__\n",
      "    self._load_lines()\n",
      "  File \"/usr/lib/python3.8/traceback.py\", line 538, in _load_lines\n",
      "    self.__cause__._load_lines()\n",
      "  File \"/usr/lib/python3.8/traceback.py\", line 534, in _load_lines\n",
      "    frame.line\n",
      "  File \"/usr/lib/python3.8/traceback.py\", line 288, in line\n",
      "    self._line = linecache.getline(self.filename, self.lineno).strip()\n",
      "  File \"/usr/lib/python3.8/linecache.py\", line 16, in getline\n",
      "    lines = getlines(filename, module_globals)\n",
      "  File \"/usr/lib/python3.8/linecache.py\", line 47, in getlines\n",
      "    return updatecache(filename, module_globals)\n",
      "  File \"/usr/lib/python3.8/linecache.py\", line 137, in updatecache\n",
      "    lines = fp.readlines()\n",
      "  File \"/usr/lib/python3.8/codecs.py\", line 319, in decode\n",
      "    def decode(self, input, final=False):\n",
      "KeyboardInterrupt\n",
      "Process LokyProcess-44:\n",
      "Traceback (most recent call last):\n",
      "  File \"/home/ubuntu/PycharmProjects/adds-early-burnout-warning-model/venv/lib/python3.8/site-packages/joblib/_parallel_backends.py\", line 620, in __call__\n",
      "    return self.func(*args, **kwargs)\n",
      "  File \"/home/ubuntu/PycharmProjects/adds-early-burnout-warning-model/venv/lib/python3.8/site-packages/joblib/parallel.py\", line 288, in __call__\n",
      "    return [func(*args, **kwargs)\n",
      "  File \"/home/ubuntu/PycharmProjects/adds-early-burnout-warning-model/venv/lib/python3.8/site-packages/joblib/parallel.py\", line 288, in <listcomp>\n",
      "    return [func(*args, **kwargs)\n",
      "  File \"/home/ubuntu/PycharmProjects/adds-early-burnout-warning-model/venv/lib/python3.8/site-packages/sklearn/utils/fixes.py\", line 216, in __call__\n",
      "    return self.function(*args, **kwargs)\n",
      "  File \"/home/ubuntu/PycharmProjects/adds-early-burnout-warning-model/venv/lib/python3.8/site-packages/sklearn/model_selection/_validation.py\", line 680, in _fit_and_score\n",
      "    estimator.fit(X_train, y_train, **fit_params)\n",
      "  File \"/home/ubuntu/PycharmProjects/adds-early-burnout-warning-model/venv/lib/python3.8/site-packages/sksurv/metrics.py\", line 766, in fit\n",
      "    self.estimator_ = self.estimator.fit(X, y, **fit_params)\n",
      "  File \"/home/ubuntu/PycharmProjects/adds-early-burnout-warning-model/venv/lib/python3.8/site-packages/sksurv/ensemble/boosting.py\", line 971, in fit\n",
      "    n_stages = self._fit_stages(X, y, raw_predictions, sample_weight, self._rng,\n",
      "  File \"/home/ubuntu/PycharmProjects/adds-early-burnout-warning-model/venv/lib/python3.8/site-packages/sksurv/ensemble/boosting.py\", line 878, in _fit_stages\n",
      "    raw_predictions = self._fit_stage(\n",
      "  File \"/home/ubuntu/PycharmProjects/adds-early-burnout-warning-model/venv/lib/python3.8/site-packages/sksurv/ensemble/boosting.py\", line 805, in _fit_stage\n",
      "    tree.fit(X, residual, sample_weight=sample_weight,\n",
      "  File \"/home/ubuntu/PycharmProjects/adds-early-burnout-warning-model/venv/lib/python3.8/site-packages/sklearn/tree/_classes.py\", line 1315, in fit\n",
      "    super().fit(\n",
      "  File \"/home/ubuntu/PycharmProjects/adds-early-burnout-warning-model/venv/lib/python3.8/site-packages/sklearn/tree/_classes.py\", line 420, in fit\n",
      "    builder.build(self.tree_, X, y, sample_weight)\n",
      "KeyboardInterrupt\n",
      "\n",
      "The above exception was the direct cause of the following exception:\n",
      "\n",
      "Traceback (most recent call last):\n",
      "  File \"/home/ubuntu/PycharmProjects/adds-early-burnout-warning-model/venv/lib/python3.8/site-packages/joblib/externals/loky/process_executor.py\", line 428, in _process_worker\n",
      "    r = call_item()\n",
      "  File \"/home/ubuntu/PycharmProjects/adds-early-burnout-warning-model/venv/lib/python3.8/site-packages/joblib/externals/loky/process_executor.py\", line 275, in __call__\n",
      "    return self.fn(*self.args, **self.kwargs)\n",
      "  File \"/home/ubuntu/PycharmProjects/adds-early-burnout-warning-model/venv/lib/python3.8/site-packages/joblib/_parallel_backends.py\", line 625, in __call__\n",
      "    raise WorkerInterrupt() from e\n",
      "joblib.my_exceptions.WorkerInterrupt\n",
      "\n",
      "During handling of the above exception, another exception occurred:\n",
      "\n",
      "Traceback (most recent call last):\n",
      "  File \"/usr/lib/python3.8/multiprocessing/process.py\", line 315, in _bootstrap\n",
      "    self.run()\n",
      "  File \"/usr/lib/python3.8/multiprocessing/process.py\", line 108, in run\n",
      "    self._target(*self._args, **self._kwargs)\n",
      "  File \"/home/ubuntu/PycharmProjects/adds-early-burnout-warning-model/venv/lib/python3.8/site-packages/joblib/externals/loky/process_executor.py\", line 431, in _process_worker\n",
      "    result_queue.put(_ResultItem(call_item.work_id, exception=exc))\n",
      "  File \"/home/ubuntu/PycharmProjects/adds-early-burnout-warning-model/venv/lib/python3.8/site-packages/joblib/externals/loky/backend/queues.py\", line 191, in put\n",
      "    with self._wlock:\n",
      "  File \"/home/ubuntu/PycharmProjects/adds-early-burnout-warning-model/venv/lib/python3.8/site-packages/joblib/externals/loky/backend/synchronize.py\", line 112, in __enter__\n",
      "    return self._semlock.acquire()\n",
      "KeyboardInterrupt\n",
      "Process LokyProcess-33:\n",
      "Traceback (most recent call last):\n",
      "  File \"/home/ubuntu/PycharmProjects/adds-early-burnout-warning-model/venv/lib/python3.8/site-packages/joblib/_parallel_backends.py\", line 620, in __call__\n",
      "    return self.func(*args, **kwargs)\n",
      "  File \"/home/ubuntu/PycharmProjects/adds-early-burnout-warning-model/venv/lib/python3.8/site-packages/joblib/parallel.py\", line 288, in __call__\n",
      "    return [func(*args, **kwargs)\n",
      "  File \"/home/ubuntu/PycharmProjects/adds-early-burnout-warning-model/venv/lib/python3.8/site-packages/joblib/parallel.py\", line 288, in <listcomp>\n",
      "    return [func(*args, **kwargs)\n",
      "  File \"/home/ubuntu/PycharmProjects/adds-early-burnout-warning-model/venv/lib/python3.8/site-packages/sklearn/utils/fixes.py\", line 216, in __call__\n",
      "    return self.function(*args, **kwargs)\n",
      "  File \"/home/ubuntu/PycharmProjects/adds-early-burnout-warning-model/venv/lib/python3.8/site-packages/sklearn/model_selection/_validation.py\", line 680, in _fit_and_score\n",
      "    estimator.fit(X_train, y_train, **fit_params)\n",
      "  File \"/home/ubuntu/PycharmProjects/adds-early-burnout-warning-model/venv/lib/python3.8/site-packages/sksurv/metrics.py\", line 766, in fit\n",
      "    self.estimator_ = self.estimator.fit(X, y, **fit_params)\n",
      "  File \"/home/ubuntu/PycharmProjects/adds-early-burnout-warning-model/venv/lib/python3.8/site-packages/sksurv/ensemble/boosting.py\", line 971, in fit\n",
      "    n_stages = self._fit_stages(X, y, raw_predictions, sample_weight, self._rng,\n",
      "  File \"/home/ubuntu/PycharmProjects/adds-early-burnout-warning-model/venv/lib/python3.8/site-packages/sksurv/ensemble/boosting.py\", line 873, in _fit_stages\n",
      "    old_oob_score = loss_(y_oob_sample,\n",
      "  File \"/home/ubuntu/PycharmProjects/adds-early-burnout-warning-model/venv/lib/python3.8/site-packages/sksurv/ensemble/survival_loss.py\", line 52, in __call__\n",
      "    return coxph_loss(y['event'].astype(numpy.uint8), y['time'], raw_predictions.ravel())\n",
      "KeyboardInterrupt\n",
      "\n",
      "The above exception was the direct cause of the following exception:\n",
      "\n",
      "Traceback (most recent call last):\n",
      "  File \"/home/ubuntu/PycharmProjects/adds-early-burnout-warning-model/venv/lib/python3.8/site-packages/joblib/externals/loky/process_executor.py\", line 428, in _process_worker\n",
      "    r = call_item()\n",
      "  File \"/home/ubuntu/PycharmProjects/adds-early-burnout-warning-model/venv/lib/python3.8/site-packages/joblib/externals/loky/process_executor.py\", line 275, in __call__\n",
      "    return self.fn(*self.args, **self.kwargs)\n",
      "  File \"/home/ubuntu/PycharmProjects/adds-early-burnout-warning-model/venv/lib/python3.8/site-packages/joblib/_parallel_backends.py\", line 625, in __call__\n",
      "    raise WorkerInterrupt() from e\n",
      "joblib.my_exceptions.WorkerInterrupt\n",
      "\n",
      "During handling of the above exception, another exception occurred:\n",
      "\n",
      "Traceback (most recent call last):\n",
      "  File \"/usr/lib/python3.8/multiprocessing/process.py\", line 315, in _bootstrap\n",
      "    self.run()\n",
      "  File \"/usr/lib/python3.8/multiprocessing/process.py\", line 108, in run\n",
      "    self._target(*self._args, **self._kwargs)\n",
      "  File \"/home/ubuntu/PycharmProjects/adds-early-burnout-warning-model/venv/lib/python3.8/site-packages/joblib/externals/loky/process_executor.py\", line 431, in _process_worker\n",
      "    result_queue.put(_ResultItem(call_item.work_id, exception=exc))\n",
      "  File \"/home/ubuntu/PycharmProjects/adds-early-burnout-warning-model/venv/lib/python3.8/site-packages/joblib/externals/loky/backend/queues.py\", line 191, in put\n",
      "    with self._wlock:\n",
      "  File \"/home/ubuntu/PycharmProjects/adds-early-burnout-warning-model/venv/lib/python3.8/site-packages/joblib/externals/loky/backend/synchronize.py\", line 112, in __enter__\n",
      "    return self._semlock.acquire()\n",
      "KeyboardInterrupt\n",
      "Process LokyProcess-37:\n",
      "Traceback (most recent call last):\n",
      "  File \"/home/ubuntu/PycharmProjects/adds-early-burnout-warning-model/venv/lib/python3.8/site-packages/joblib/_parallel_backends.py\", line 620, in __call__\n",
      "    return self.func(*args, **kwargs)\n",
      "  File \"/home/ubuntu/PycharmProjects/adds-early-burnout-warning-model/venv/lib/python3.8/site-packages/joblib/parallel.py\", line 288, in __call__\n",
      "    return [func(*args, **kwargs)\n",
      "  File \"/home/ubuntu/PycharmProjects/adds-early-burnout-warning-model/venv/lib/python3.8/site-packages/joblib/parallel.py\", line 288, in <listcomp>\n",
      "    return [func(*args, **kwargs)\n",
      "  File \"/home/ubuntu/PycharmProjects/adds-early-burnout-warning-model/venv/lib/python3.8/site-packages/sklearn/utils/fixes.py\", line 216, in __call__\n",
      "    return self.function(*args, **kwargs)\n",
      "  File \"/home/ubuntu/PycharmProjects/adds-early-burnout-warning-model/venv/lib/python3.8/site-packages/sklearn/model_selection/_validation.py\", line 680, in _fit_and_score\n",
      "    estimator.fit(X_train, y_train, **fit_params)\n",
      "  File \"/home/ubuntu/PycharmProjects/adds-early-burnout-warning-model/venv/lib/python3.8/site-packages/sksurv/metrics.py\", line 766, in fit\n",
      "    self.estimator_ = self.estimator.fit(X, y, **fit_params)\n",
      "  File \"/home/ubuntu/PycharmProjects/adds-early-burnout-warning-model/venv/lib/python3.8/site-packages/sksurv/ensemble/boosting.py\", line 971, in fit\n",
      "    n_stages = self._fit_stages(X, y, raw_predictions, sample_weight, self._rng,\n",
      "  File \"/home/ubuntu/PycharmProjects/adds-early-burnout-warning-model/venv/lib/python3.8/site-packages/sksurv/ensemble/boosting.py\", line 878, in _fit_stages\n",
      "    raw_predictions = self._fit_stage(\n",
      "  File \"/home/ubuntu/PycharmProjects/adds-early-burnout-warning-model/venv/lib/python3.8/site-packages/sksurv/ensemble/boosting.py\", line 805, in _fit_stage\n",
      "    tree.fit(X, residual, sample_weight=sample_weight,\n",
      "  File \"/home/ubuntu/PycharmProjects/adds-early-burnout-warning-model/venv/lib/python3.8/site-packages/sklearn/tree/_classes.py\", line 1315, in fit\n",
      "    super().fit(\n",
      "  File \"/home/ubuntu/PycharmProjects/adds-early-burnout-warning-model/venv/lib/python3.8/site-packages/sklearn/tree/_classes.py\", line 420, in fit\n",
      "    builder.build(self.tree_, X, y, sample_weight)\n",
      "KeyboardInterrupt\n",
      "\n",
      "The above exception was the direct cause of the following exception:\n",
      "\n",
      "Traceback (most recent call last):\n",
      "  File \"/home/ubuntu/PycharmProjects/adds-early-burnout-warning-model/venv/lib/python3.8/site-packages/joblib/externals/loky/process_executor.py\", line 428, in _process_worker\n",
      "    r = call_item()\n",
      "  File \"/home/ubuntu/PycharmProjects/adds-early-burnout-warning-model/venv/lib/python3.8/site-packages/joblib/externals/loky/process_executor.py\", line 275, in __call__\n",
      "    return self.fn(*self.args, **self.kwargs)\n",
      "  File \"/home/ubuntu/PycharmProjects/adds-early-burnout-warning-model/venv/lib/python3.8/site-packages/joblib/_parallel_backends.py\", line 625, in __call__\n",
      "    raise WorkerInterrupt() from e\n",
      "joblib.my_exceptions.WorkerInterrupt\n",
      "\n",
      "During handling of the above exception, another exception occurred:\n",
      "\n",
      "Traceback (most recent call last):\n",
      "  File \"/usr/lib/python3.8/multiprocessing/process.py\", line 315, in _bootstrap\n",
      "    self.run()\n",
      "  File \"/usr/lib/python3.8/multiprocessing/process.py\", line 108, in run\n",
      "    self._target(*self._args, **self._kwargs)\n",
      "  File \"/home/ubuntu/PycharmProjects/adds-early-burnout-warning-model/venv/lib/python3.8/site-packages/joblib/externals/loky/process_executor.py\", line 431, in _process_worker\n",
      "    result_queue.put(_ResultItem(call_item.work_id, exception=exc))\n",
      "  File \"/home/ubuntu/PycharmProjects/adds-early-burnout-warning-model/venv/lib/python3.8/site-packages/joblib/externals/loky/backend/queues.py\", line 191, in put\n",
      "    with self._wlock:\n",
      "  File \"/home/ubuntu/PycharmProjects/adds-early-burnout-warning-model/venv/lib/python3.8/site-packages/joblib/externals/loky/backend/synchronize.py\", line 112, in __enter__\n",
      "    return self._semlock.acquire()\n",
      "KeyboardInterrupt\n",
      "Process LokyProcess-52:\n",
      "Traceback (most recent call last):\n",
      "  File \"/home/ubuntu/PycharmProjects/adds-early-burnout-warning-model/venv/lib/python3.8/site-packages/joblib/_parallel_backends.py\", line 620, in __call__\n",
      "    return self.func(*args, **kwargs)\n",
      "  File \"/home/ubuntu/PycharmProjects/adds-early-burnout-warning-model/venv/lib/python3.8/site-packages/joblib/parallel.py\", line 288, in __call__\n",
      "    return [func(*args, **kwargs)\n",
      "  File \"/home/ubuntu/PycharmProjects/adds-early-burnout-warning-model/venv/lib/python3.8/site-packages/joblib/parallel.py\", line 288, in <listcomp>\n",
      "    return [func(*args, **kwargs)\n",
      "  File \"/home/ubuntu/PycharmProjects/adds-early-burnout-warning-model/venv/lib/python3.8/site-packages/sklearn/utils/fixes.py\", line 216, in __call__\n",
      "    return self.function(*args, **kwargs)\n",
      "  File \"/home/ubuntu/PycharmProjects/adds-early-burnout-warning-model/venv/lib/python3.8/site-packages/sklearn/model_selection/_validation.py\", line 680, in _fit_and_score\n",
      "    estimator.fit(X_train, y_train, **fit_params)\n",
      "  File \"/home/ubuntu/PycharmProjects/adds-early-burnout-warning-model/venv/lib/python3.8/site-packages/sksurv/metrics.py\", line 766, in fit\n",
      "    self.estimator_ = self.estimator.fit(X, y, **fit_params)\n",
      "  File \"/home/ubuntu/PycharmProjects/adds-early-burnout-warning-model/venv/lib/python3.8/site-packages/sksurv/ensemble/boosting.py\", line 971, in fit\n",
      "    n_stages = self._fit_stages(X, y, raw_predictions, sample_weight, self._rng,\n",
      "  File \"/home/ubuntu/PycharmProjects/adds-early-burnout-warning-model/venv/lib/python3.8/site-packages/sksurv/ensemble/boosting.py\", line 878, in _fit_stages\n",
      "    raw_predictions = self._fit_stage(\n",
      "  File \"/home/ubuntu/PycharmProjects/adds-early-burnout-warning-model/venv/lib/python3.8/site-packages/sksurv/ensemble/boosting.py\", line 805, in _fit_stage\n",
      "    tree.fit(X, residual, sample_weight=sample_weight,\n",
      "  File \"/home/ubuntu/PycharmProjects/adds-early-burnout-warning-model/venv/lib/python3.8/site-packages/sklearn/tree/_classes.py\", line 1315, in fit\n",
      "    super().fit(\n",
      "  File \"/home/ubuntu/PycharmProjects/adds-early-burnout-warning-model/venv/lib/python3.8/site-packages/sklearn/tree/_classes.py\", line 154, in fit\n",
      "    random_state = check_random_state(self.random_state)\n",
      "  File \"/home/ubuntu/PycharmProjects/adds-early-burnout-warning-model/venv/lib/python3.8/site-packages/sklearn/utils/validation.py\", line 1058, in check_random_state\n",
      "    if isinstance(seed, np.random.RandomState):\n",
      "KeyboardInterrupt\n",
      "\n",
      "The above exception was the direct cause of the following exception:\n",
      "\n",
      "Traceback (most recent call last):\n",
      "  File \"/home/ubuntu/PycharmProjects/adds-early-burnout-warning-model/venv/lib/python3.8/site-packages/joblib/externals/loky/process_executor.py\", line 428, in _process_worker\n",
      "    r = call_item()\n",
      "  File \"/home/ubuntu/PycharmProjects/adds-early-burnout-warning-model/venv/lib/python3.8/site-packages/joblib/externals/loky/process_executor.py\", line 275, in __call__\n",
      "    return self.fn(*self.args, **self.kwargs)\n",
      "  File \"/home/ubuntu/PycharmProjects/adds-early-burnout-warning-model/venv/lib/python3.8/site-packages/joblib/_parallel_backends.py\", line 625, in __call__\n",
      "    raise WorkerInterrupt() from e\n",
      "joblib.my_exceptions.WorkerInterrupt\n",
      "\n",
      "During handling of the above exception, another exception occurred:\n",
      "\n",
      "Traceback (most recent call last):\n",
      "  File \"/usr/lib/python3.8/multiprocessing/process.py\", line 315, in _bootstrap\n",
      "    self.run()\n",
      "  File \"/usr/lib/python3.8/multiprocessing/process.py\", line 108, in run\n",
      "    self._target(*self._args, **self._kwargs)\n",
      "  File \"/home/ubuntu/PycharmProjects/adds-early-burnout-warning-model/venv/lib/python3.8/site-packages/joblib/externals/loky/process_executor.py\", line 431, in _process_worker\n",
      "    result_queue.put(_ResultItem(call_item.work_id, exception=exc))\n",
      "  File \"/home/ubuntu/PycharmProjects/adds-early-burnout-warning-model/venv/lib/python3.8/site-packages/joblib/externals/loky/backend/queues.py\", line 191, in put\n",
      "    with self._wlock:\n",
      "  File \"/home/ubuntu/PycharmProjects/adds-early-burnout-warning-model/venv/lib/python3.8/site-packages/joblib/externals/loky/backend/synchronize.py\", line 112, in __enter__\n",
      "    return self._semlock.acquire()\n",
      "KeyboardInterrupt\n",
      "Process LokyProcess-38:\n",
      "Traceback (most recent call last):\n",
      "  File \"/home/ubuntu/PycharmProjects/adds-early-burnout-warning-model/venv/lib/python3.8/site-packages/joblib/_parallel_backends.py\", line 620, in __call__\n",
      "    return sel"
     ]
    },
    {
     "ename": "KeyboardInterrupt",
     "evalue": "",
     "output_type": "error",
     "traceback": [
      "\u001B[0;31m---------------------------------------------------------------------------\u001B[0m",
      "\u001B[0;31mKeyboardInterrupt\u001B[0m                         Traceback (most recent call last)",
      "\u001B[0;32m~/PycharmProjects/adds-early-burnout-warning-model/venv/lib/python3.8/site-packages/joblib/parallel.py\u001B[0m in \u001B[0;36mretrieve\u001B[0;34m(self)\u001B[0m\n\u001B[1;32m    974\u001B[0m                 \u001B[0;32mif\u001B[0m \u001B[0mgetattr\u001B[0m\u001B[0;34m(\u001B[0m\u001B[0mself\u001B[0m\u001B[0;34m.\u001B[0m\u001B[0m_backend\u001B[0m\u001B[0;34m,\u001B[0m \u001B[0;34m'supports_timeout'\u001B[0m\u001B[0;34m,\u001B[0m \u001B[0;32mFalse\u001B[0m\u001B[0;34m)\u001B[0m\u001B[0;34m:\u001B[0m\u001B[0;34m\u001B[0m\u001B[0;34m\u001B[0m\u001B[0m\n\u001B[0;32m--> 975\u001B[0;31m                     \u001B[0mself\u001B[0m\u001B[0;34m.\u001B[0m\u001B[0m_output\u001B[0m\u001B[0;34m.\u001B[0m\u001B[0mextend\u001B[0m\u001B[0;34m(\u001B[0m\u001B[0mjob\u001B[0m\u001B[0;34m.\u001B[0m\u001B[0mget\u001B[0m\u001B[0;34m(\u001B[0m\u001B[0mtimeout\u001B[0m\u001B[0;34m=\u001B[0m\u001B[0mself\u001B[0m\u001B[0;34m.\u001B[0m\u001B[0mtimeout\u001B[0m\u001B[0;34m)\u001B[0m\u001B[0;34m)\u001B[0m\u001B[0;34m\u001B[0m\u001B[0;34m\u001B[0m\u001B[0m\n\u001B[0m\u001B[1;32m    976\u001B[0m                 \u001B[0;32melse\u001B[0m\u001B[0;34m:\u001B[0m\u001B[0;34m\u001B[0m\u001B[0;34m\u001B[0m\u001B[0m\n",
      "\u001B[0;32m~/PycharmProjects/adds-early-burnout-warning-model/venv/lib/python3.8/site-packages/joblib/_parallel_backends.py\u001B[0m in \u001B[0;36mwrap_future_result\u001B[0;34m(future, timeout)\u001B[0m\n\u001B[1;32m    566\u001B[0m         \u001B[0;32mtry\u001B[0m\u001B[0;34m:\u001B[0m\u001B[0;34m\u001B[0m\u001B[0;34m\u001B[0m\u001B[0m\n\u001B[0;32m--> 567\u001B[0;31m             \u001B[0;32mreturn\u001B[0m \u001B[0mfuture\u001B[0m\u001B[0;34m.\u001B[0m\u001B[0mresult\u001B[0m\u001B[0;34m(\u001B[0m\u001B[0mtimeout\u001B[0m\u001B[0;34m=\u001B[0m\u001B[0mtimeout\u001B[0m\u001B[0;34m)\u001B[0m\u001B[0;34m\u001B[0m\u001B[0;34m\u001B[0m\u001B[0m\n\u001B[0m\u001B[1;32m    568\u001B[0m         \u001B[0;32mexcept\u001B[0m \u001B[0mCfTimeoutError\u001B[0m \u001B[0;32mas\u001B[0m \u001B[0me\u001B[0m\u001B[0;34m:\u001B[0m\u001B[0;34m\u001B[0m\u001B[0;34m\u001B[0m\u001B[0m\n",
      "\u001B[0;32m/usr/lib/python3.8/concurrent/futures/_base.py\u001B[0m in \u001B[0;36mresult\u001B[0;34m(self, timeout)\u001B[0m\n\u001B[1;32m    438\u001B[0m \u001B[0;34m\u001B[0m\u001B[0m\n\u001B[0;32m--> 439\u001B[0;31m                 \u001B[0mself\u001B[0m\u001B[0;34m.\u001B[0m\u001B[0m_condition\u001B[0m\u001B[0;34m.\u001B[0m\u001B[0mwait\u001B[0m\u001B[0;34m(\u001B[0m\u001B[0mtimeout\u001B[0m\u001B[0;34m)\u001B[0m\u001B[0;34m\u001B[0m\u001B[0;34m\u001B[0m\u001B[0m\n\u001B[0m\u001B[1;32m    440\u001B[0m \u001B[0;34m\u001B[0m\u001B[0m\n",
      "\u001B[0;32m/usr/lib/python3.8/threading.py\u001B[0m in \u001B[0;36mwait\u001B[0;34m(self, timeout)\u001B[0m\n\u001B[1;32m    301\u001B[0m             \u001B[0;32mif\u001B[0m \u001B[0mtimeout\u001B[0m \u001B[0;32mis\u001B[0m \u001B[0;32mNone\u001B[0m\u001B[0;34m:\u001B[0m\u001B[0;34m\u001B[0m\u001B[0;34m\u001B[0m\u001B[0m\n\u001B[0;32m--> 302\u001B[0;31m                 \u001B[0mwaiter\u001B[0m\u001B[0;34m.\u001B[0m\u001B[0macquire\u001B[0m\u001B[0;34m(\u001B[0m\u001B[0;34m)\u001B[0m\u001B[0;34m\u001B[0m\u001B[0;34m\u001B[0m\u001B[0m\n\u001B[0m\u001B[1;32m    303\u001B[0m                 \u001B[0mgotit\u001B[0m \u001B[0;34m=\u001B[0m \u001B[0;32mTrue\u001B[0m\u001B[0;34m\u001B[0m\u001B[0;34m\u001B[0m\u001B[0m\n",
      "\u001B[0;31mKeyboardInterrupt\u001B[0m: ",
      "\nDuring handling of the above exception, another exception occurred:\n",
      "\u001B[0;31mKeyboardInterrupt\u001B[0m                         Traceback (most recent call last)",
      "\u001B[0;32m~/PycharmProjects/adds-early-burnout-warning-model/venv/lib/python3.8/site-packages/sklearn/model_selection/_search.py\u001B[0m in \u001B[0;36mfit\u001B[0;34m(self, X, y, groups, **fit_params)\u001B[0m\n\u001B[1;32m    890\u001B[0m \u001B[0;34m\u001B[0m\u001B[0m\n\u001B[0;32m--> 891\u001B[0;31m             \u001B[0mself\u001B[0m\u001B[0;34m.\u001B[0m\u001B[0m_run_search\u001B[0m\u001B[0;34m(\u001B[0m\u001B[0mevaluate_candidates\u001B[0m\u001B[0;34m)\u001B[0m\u001B[0;34m\u001B[0m\u001B[0;34m\u001B[0m\u001B[0m\n\u001B[0m\u001B[1;32m    892\u001B[0m \u001B[0;34m\u001B[0m\u001B[0m\n",
      "\u001B[0;32m~/PycharmProjects/adds-early-burnout-warning-model/venv/lib/python3.8/site-packages/sklearn/model_selection/_search.py\u001B[0m in \u001B[0;36m_run_search\u001B[0;34m(self, evaluate_candidates)\u001B[0m\n\u001B[1;32m   1765\u001B[0m         \u001B[0;34m\"\"\"Search n_iter candidates from param_distributions\"\"\"\u001B[0m\u001B[0;34m\u001B[0m\u001B[0;34m\u001B[0m\u001B[0m\n\u001B[0;32m-> 1766\u001B[0;31m         evaluate_candidates(\n\u001B[0m\u001B[1;32m   1767\u001B[0m             ParameterSampler(\n",
      "\u001B[0;32m~/PycharmProjects/adds-early-burnout-warning-model/venv/lib/python3.8/site-packages/sklearn/model_selection/_search.py\u001B[0m in \u001B[0;36mevaluate_candidates\u001B[0;34m(candidate_params, cv, more_results)\u001B[0m\n\u001B[1;32m    837\u001B[0m \u001B[0;34m\u001B[0m\u001B[0m\n\u001B[0;32m--> 838\u001B[0;31m                 out = parallel(\n\u001B[0m\u001B[1;32m    839\u001B[0m                     delayed(_fit_and_score)(\n",
      "\u001B[0;32m~/PycharmProjects/adds-early-burnout-warning-model/venv/lib/python3.8/site-packages/joblib/parallel.py\u001B[0m in \u001B[0;36m__call__\u001B[0;34m(self, iterable)\u001B[0m\n\u001B[1;32m   1097\u001B[0m             \u001B[0;32mwith\u001B[0m \u001B[0mself\u001B[0m\u001B[0;34m.\u001B[0m\u001B[0m_backend\u001B[0m\u001B[0;34m.\u001B[0m\u001B[0mretrieval_context\u001B[0m\u001B[0;34m(\u001B[0m\u001B[0;34m)\u001B[0m\u001B[0;34m:\u001B[0m\u001B[0;34m\u001B[0m\u001B[0;34m\u001B[0m\u001B[0m\n\u001B[0;32m-> 1098\u001B[0;31m                 \u001B[0mself\u001B[0m\u001B[0;34m.\u001B[0m\u001B[0mretrieve\u001B[0m\u001B[0;34m(\u001B[0m\u001B[0;34m)\u001B[0m\u001B[0;34m\u001B[0m\u001B[0;34m\u001B[0m\u001B[0m\n\u001B[0m\u001B[1;32m   1099\u001B[0m             \u001B[0;31m# Make sure that we get a last message telling us we are done\u001B[0m\u001B[0;34m\u001B[0m\u001B[0;34m\u001B[0m\u001B[0;34m\u001B[0m\u001B[0m\n",
      "\u001B[0;32m~/PycharmProjects/adds-early-burnout-warning-model/venv/lib/python3.8/site-packages/joblib/parallel.py\u001B[0m in \u001B[0;36mretrieve\u001B[0;34m(self)\u001B[0m\n\u001B[1;32m    996\u001B[0m                     \u001B[0mensure_ready\u001B[0m \u001B[0;34m=\u001B[0m \u001B[0mself\u001B[0m\u001B[0;34m.\u001B[0m\u001B[0m_managed_backend\u001B[0m\u001B[0;34m\u001B[0m\u001B[0;34m\u001B[0m\u001B[0m\n\u001B[0;32m--> 997\u001B[0;31m                     \u001B[0mbackend\u001B[0m\u001B[0;34m.\u001B[0m\u001B[0mabort_everything\u001B[0m\u001B[0;34m(\u001B[0m\u001B[0mensure_ready\u001B[0m\u001B[0;34m=\u001B[0m\u001B[0mensure_ready\u001B[0m\u001B[0;34m)\u001B[0m\u001B[0;34m\u001B[0m\u001B[0;34m\u001B[0m\u001B[0m\n\u001B[0m\u001B[1;32m    998\u001B[0m                 \u001B[0;32mraise\u001B[0m\u001B[0;34m\u001B[0m\u001B[0;34m\u001B[0m\u001B[0m\n",
      "\u001B[0;32m~/PycharmProjects/adds-early-burnout-warning-model/venv/lib/python3.8/site-packages/joblib/_parallel_backends.py\u001B[0m in \u001B[0;36mabort_everything\u001B[0;34m(self, ensure_ready)\u001B[0m\n\u001B[1;32m    585\u001B[0m         \"\"\"\n\u001B[0;32m--> 586\u001B[0;31m         \u001B[0mself\u001B[0m\u001B[0;34m.\u001B[0m\u001B[0m_workers\u001B[0m\u001B[0;34m.\u001B[0m\u001B[0mterminate\u001B[0m\u001B[0;34m(\u001B[0m\u001B[0mkill_workers\u001B[0m\u001B[0;34m=\u001B[0m\u001B[0;32mTrue\u001B[0m\u001B[0;34m)\u001B[0m\u001B[0;34m\u001B[0m\u001B[0;34m\u001B[0m\u001B[0m\n\u001B[0m\u001B[1;32m    587\u001B[0m         \u001B[0mself\u001B[0m\u001B[0;34m.\u001B[0m\u001B[0m_workers\u001B[0m \u001B[0;34m=\u001B[0m \u001B[0;32mNone\u001B[0m\u001B[0;34m\u001B[0m\u001B[0;34m\u001B[0m\u001B[0m\n",
      "\u001B[0;32m~/PycharmProjects/adds-early-burnout-warning-model/venv/lib/python3.8/site-packages/joblib/executor.py\u001B[0m in \u001B[0;36mterminate\u001B[0;34m(self, kill_workers)\u001B[0m\n\u001B[1;32m     73\u001B[0m     \u001B[0;32mdef\u001B[0m \u001B[0mterminate\u001B[0m\u001B[0;34m(\u001B[0m\u001B[0mself\u001B[0m\u001B[0;34m,\u001B[0m \u001B[0mkill_workers\u001B[0m\u001B[0;34m=\u001B[0m\u001B[0;32mFalse\u001B[0m\u001B[0;34m)\u001B[0m\u001B[0;34m:\u001B[0m\u001B[0;34m\u001B[0m\u001B[0;34m\u001B[0m\u001B[0m\n\u001B[0;32m---> 74\u001B[0;31m         \u001B[0mself\u001B[0m\u001B[0;34m.\u001B[0m\u001B[0mshutdown\u001B[0m\u001B[0;34m(\u001B[0m\u001B[0mkill_workers\u001B[0m\u001B[0;34m=\u001B[0m\u001B[0mkill_workers\u001B[0m\u001B[0;34m)\u001B[0m\u001B[0;34m\u001B[0m\u001B[0;34m\u001B[0m\u001B[0m\n\u001B[0m\u001B[1;32m     75\u001B[0m         \u001B[0;32mif\u001B[0m \u001B[0mkill_workers\u001B[0m\u001B[0;34m:\u001B[0m\u001B[0;34m\u001B[0m\u001B[0;34m\u001B[0m\u001B[0m\n",
      "\u001B[0;32m~/PycharmProjects/adds-early-burnout-warning-model/venv/lib/python3.8/site-packages/joblib/externals/loky/process_executor.py\u001B[0m in \u001B[0;36mshutdown\u001B[0;34m(self, wait, kill_workers)\u001B[0m\n\u001B[1;32m   1198\u001B[0m         \u001B[0;32mif\u001B[0m \u001B[0mexecutor_manager_thread\u001B[0m \u001B[0;32mis\u001B[0m \u001B[0;32mnot\u001B[0m \u001B[0;32mNone\u001B[0m \u001B[0;32mand\u001B[0m \u001B[0mwait\u001B[0m\u001B[0;34m:\u001B[0m\u001B[0;34m\u001B[0m\u001B[0;34m\u001B[0m\u001B[0m\n\u001B[0;32m-> 1199\u001B[0;31m             \u001B[0mexecutor_manager_thread\u001B[0m\u001B[0;34m.\u001B[0m\u001B[0mjoin\u001B[0m\u001B[0;34m(\u001B[0m\u001B[0;34m)\u001B[0m\u001B[0;34m\u001B[0m\u001B[0;34m\u001B[0m\u001B[0m\n\u001B[0m\u001B[1;32m   1200\u001B[0m \u001B[0;34m\u001B[0m\u001B[0m\n",
      "\u001B[0;32m/usr/lib/python3.8/threading.py\u001B[0m in \u001B[0;36mjoin\u001B[0;34m(self, timeout)\u001B[0m\n\u001B[1;32m   1010\u001B[0m         \u001B[0;32mif\u001B[0m \u001B[0mtimeout\u001B[0m \u001B[0;32mis\u001B[0m \u001B[0;32mNone\u001B[0m\u001B[0;34m:\u001B[0m\u001B[0;34m\u001B[0m\u001B[0;34m\u001B[0m\u001B[0m\n\u001B[0;32m-> 1011\u001B[0;31m             \u001B[0mself\u001B[0m\u001B[0;34m.\u001B[0m\u001B[0m_wait_for_tstate_lock\u001B[0m\u001B[0;34m(\u001B[0m\u001B[0;34m)\u001B[0m\u001B[0;34m\u001B[0m\u001B[0;34m\u001B[0m\u001B[0m\n\u001B[0m\u001B[1;32m   1012\u001B[0m         \u001B[0;32melse\u001B[0m\u001B[0;34m:\u001B[0m\u001B[0;34m\u001B[0m\u001B[0;34m\u001B[0m\u001B[0m\n",
      "\u001B[0;32m/usr/lib/python3.8/threading.py\u001B[0m in \u001B[0;36m_wait_for_tstate_lock\u001B[0;34m(self, block, timeout)\u001B[0m\n\u001B[1;32m   1026\u001B[0m             \u001B[0;32massert\u001B[0m \u001B[0mself\u001B[0m\u001B[0;34m.\u001B[0m\u001B[0m_is_stopped\u001B[0m\u001B[0;34m\u001B[0m\u001B[0;34m\u001B[0m\u001B[0m\n\u001B[0;32m-> 1027\u001B[0;31m         \u001B[0;32melif\u001B[0m \u001B[0mlock\u001B[0m\u001B[0;34m.\u001B[0m\u001B[0macquire\u001B[0m\u001B[0;34m(\u001B[0m\u001B[0mblock\u001B[0m\u001B[0;34m,\u001B[0m \u001B[0mtimeout\u001B[0m\u001B[0;34m)\u001B[0m\u001B[0;34m:\u001B[0m\u001B[0;34m\u001B[0m\u001B[0;34m\u001B[0m\u001B[0m\n\u001B[0m\u001B[1;32m   1028\u001B[0m             \u001B[0mlock\u001B[0m\u001B[0;34m.\u001B[0m\u001B[0mrelease\u001B[0m\u001B[0;34m(\u001B[0m\u001B[0;34m)\u001B[0m\u001B[0;34m\u001B[0m\u001B[0;34m\u001B[0m\u001B[0m\n",
      "\u001B[0;31mKeyboardInterrupt\u001B[0m: ",
      "\nDuring handling of the above exception, another exception occurred:\n",
      "\u001B[0;31mKeyboardInterrupt\u001B[0m                         Traceback (most recent call last)",
      "\u001B[0;32m/tmp/ipykernel_17649/2237731319.py\u001B[0m in \u001B[0;36m<cell line: 2>\u001B[0;34m()\u001B[0m\n\u001B[1;32m     15\u001B[0m     sv_model = RandomizedSearchCV(estimator=as_concordance_index_ipcw_scorer(sv), param_distributions=param_grid_gbm,\n\u001B[1;32m     16\u001B[0m                                   cv=split_number, verbose=1, n_iter=50, n_jobs=-1)\n\u001B[0;32m---> 17\u001B[0;31m     \u001B[0msv_model\u001B[0m\u001B[0;34m.\u001B[0m\u001B[0mfit\u001B[0m\u001B[0;34m(\u001B[0m\u001B[0mX_train\u001B[0m\u001B[0;34m,\u001B[0m \u001B[0my_train\u001B[0m\u001B[0;34m)\u001B[0m\u001B[0;34m\u001B[0m\u001B[0;34m\u001B[0m\u001B[0m\n\u001B[0m\u001B[1;32m     18\u001B[0m     \u001B[0mbest_estimators_gbm\u001B[0m\u001B[0;34m[\u001B[0m\u001B[0mwk\u001B[0m\u001B[0;34m]\u001B[0m \u001B[0;34m=\u001B[0m \u001B[0msv_model\u001B[0m\u001B[0;34m.\u001B[0m\u001B[0mbest_estimator_\u001B[0m\u001B[0;34m\u001B[0m\u001B[0;34m\u001B[0m\u001B[0m\n\u001B[1;32m     19\u001B[0m     \u001B[0mstop\u001B[0m \u001B[0;34m=\u001B[0m \u001B[0mtime\u001B[0m\u001B[0;34m.\u001B[0m\u001B[0mperf_counter\u001B[0m\u001B[0;34m(\u001B[0m\u001B[0;34m)\u001B[0m\u001B[0;34m\u001B[0m\u001B[0;34m\u001B[0m\u001B[0m\n",
      "\u001B[0;32m~/PycharmProjects/adds-early-burnout-warning-model/venv/lib/python3.8/site-packages/sklearn/model_selection/_search.py\u001B[0m in \u001B[0;36mfit\u001B[0;34m(self, X, y, groups, **fit_params)\u001B[0m\n\u001B[1;32m    899\u001B[0m             \u001B[0;32mif\u001B[0m \u001B[0mcallable\u001B[0m\u001B[0;34m(\u001B[0m\u001B[0mself\u001B[0m\u001B[0;34m.\u001B[0m\u001B[0mscoring\u001B[0m\u001B[0;34m)\u001B[0m \u001B[0;32mand\u001B[0m \u001B[0mself\u001B[0m\u001B[0;34m.\u001B[0m\u001B[0mmultimetric_\u001B[0m\u001B[0;34m:\u001B[0m\u001B[0;34m\u001B[0m\u001B[0;34m\u001B[0m\u001B[0m\n\u001B[1;32m    900\u001B[0m                 \u001B[0mself\u001B[0m\u001B[0;34m.\u001B[0m\u001B[0m_check_refit_for_multimetric\u001B[0m\u001B[0;34m(\u001B[0m\u001B[0mfirst_test_score\u001B[0m\u001B[0;34m)\u001B[0m\u001B[0;34m\u001B[0m\u001B[0;34m\u001B[0m\u001B[0m\n\u001B[0;32m--> 901\u001B[0;31m                 \u001B[0mrefit_metric\u001B[0m \u001B[0;34m=\u001B[0m \u001B[0mself\u001B[0m\u001B[0;34m.\u001B[0m\u001B[0mrefit\u001B[0m\u001B[0;34m\u001B[0m\u001B[0;34m\u001B[0m\u001B[0m\n\u001B[0m\u001B[1;32m    902\u001B[0m \u001B[0;34m\u001B[0m\u001B[0m\n\u001B[1;32m    903\u001B[0m         \u001B[0;31m# For multi-metric evaluation, store the best_index_, best_params_ and\u001B[0m\u001B[0;34m\u001B[0m\u001B[0;34m\u001B[0m\u001B[0;34m\u001B[0m\u001B[0m\n",
      "\u001B[0;32m~/PycharmProjects/adds-early-burnout-warning-model/venv/lib/python3.8/site-packages/joblib/parallel.py\u001B[0m in \u001B[0;36m__exit__\u001B[0;34m(self, exc_type, exc_value, traceback)\u001B[0m\n\u001B[1;32m    767\u001B[0m \u001B[0;34m\u001B[0m\u001B[0m\n\u001B[1;32m    768\u001B[0m     \u001B[0;32mdef\u001B[0m \u001B[0m__exit__\u001B[0m\u001B[0;34m(\u001B[0m\u001B[0mself\u001B[0m\u001B[0;34m,\u001B[0m \u001B[0mexc_type\u001B[0m\u001B[0;34m,\u001B[0m \u001B[0mexc_value\u001B[0m\u001B[0;34m,\u001B[0m \u001B[0mtraceback\u001B[0m\u001B[0;34m)\u001B[0m\u001B[0;34m:\u001B[0m\u001B[0;34m\u001B[0m\u001B[0;34m\u001B[0m\u001B[0m\n\u001B[0;32m--> 769\u001B[0;31m         \u001B[0mself\u001B[0m\u001B[0;34m.\u001B[0m\u001B[0m_terminate_backend\u001B[0m\u001B[0;34m(\u001B[0m\u001B[0;34m)\u001B[0m\u001B[0;34m\u001B[0m\u001B[0;34m\u001B[0m\u001B[0m\n\u001B[0m\u001B[1;32m    770\u001B[0m         \u001B[0mself\u001B[0m\u001B[0;34m.\u001B[0m\u001B[0m_managed_backend\u001B[0m \u001B[0;34m=\u001B[0m \u001B[0;32mFalse\u001B[0m\u001B[0;34m\u001B[0m\u001B[0;34m\u001B[0m\u001B[0m\n\u001B[1;32m    771\u001B[0m \u001B[0;34m\u001B[0m\u001B[0m\n",
      "\u001B[0;32m~/PycharmProjects/adds-early-burnout-warning-model/venv/lib/python3.8/site-packages/joblib/parallel.py\u001B[0m in \u001B[0;36m_terminate_backend\u001B[0;34m(self)\u001B[0m\n\u001B[1;32m    797\u001B[0m     \u001B[0;32mdef\u001B[0m \u001B[0m_terminate_backend\u001B[0m\u001B[0;34m(\u001B[0m\u001B[0mself\u001B[0m\u001B[0;34m)\u001B[0m\u001B[0;34m:\u001B[0m\u001B[0;34m\u001B[0m\u001B[0;34m\u001B[0m\u001B[0m\n\u001B[1;32m    798\u001B[0m         \u001B[0;32mif\u001B[0m \u001B[0mself\u001B[0m\u001B[0;34m.\u001B[0m\u001B[0m_backend\u001B[0m \u001B[0;32mis\u001B[0m \u001B[0;32mnot\u001B[0m \u001B[0;32mNone\u001B[0m\u001B[0;34m:\u001B[0m\u001B[0;34m\u001B[0m\u001B[0;34m\u001B[0m\u001B[0m\n\u001B[0;32m--> 799\u001B[0;31m             \u001B[0mself\u001B[0m\u001B[0;34m.\u001B[0m\u001B[0m_backend\u001B[0m\u001B[0;34m.\u001B[0m\u001B[0mterminate\u001B[0m\u001B[0;34m(\u001B[0m\u001B[0;34m)\u001B[0m\u001B[0;34m\u001B[0m\u001B[0;34m\u001B[0m\u001B[0m\n\u001B[0m\u001B[1;32m    800\u001B[0m \u001B[0;34m\u001B[0m\u001B[0m\n\u001B[1;32m    801\u001B[0m     \u001B[0;32mdef\u001B[0m \u001B[0m_dispatch\u001B[0m\u001B[0;34m(\u001B[0m\u001B[0mself\u001B[0m\u001B[0;34m,\u001B[0m \u001B[0mbatch\u001B[0m\u001B[0;34m)\u001B[0m\u001B[0;34m:\u001B[0m\u001B[0;34m\u001B[0m\u001B[0;34m\u001B[0m\u001B[0m\n",
      "\u001B[0;32m~/PycharmProjects/adds-early-burnout-warning-model/venv/lib/python3.8/site-packages/joblib/_parallel_backends.py\u001B[0m in \u001B[0;36mterminate\u001B[0;34m(self)\u001B[0m\n\u001B[1;32m    574\u001B[0m             \u001B[0;31m# calls, but cleanup the temporary resources that the Parallel call\u001B[0m\u001B[0;34m\u001B[0m\u001B[0;34m\u001B[0m\u001B[0;34m\u001B[0m\u001B[0m\n\u001B[1;32m    575\u001B[0m             \u001B[0;31m# created. This 'hack' requires a private, low-level operation.\u001B[0m\u001B[0;34m\u001B[0m\u001B[0;34m\u001B[0m\u001B[0;34m\u001B[0m\u001B[0m\n\u001B[0;32m--> 576\u001B[0;31m             self._workers._temp_folder_manager._unlink_temporary_resources(\n\u001B[0m\u001B[1;32m    577\u001B[0m                 \u001B[0mcontext_id\u001B[0m\u001B[0;34m=\u001B[0m\u001B[0mself\u001B[0m\u001B[0;34m.\u001B[0m\u001B[0mparallel\u001B[0m\u001B[0;34m.\u001B[0m\u001B[0m_id\u001B[0m\u001B[0;34m\u001B[0m\u001B[0;34m\u001B[0m\u001B[0m\n\u001B[1;32m    578\u001B[0m             )\n",
      "\u001B[0;32m~/PycharmProjects/adds-early-burnout-warning-model/venv/lib/python3.8/site-packages/joblib/_memmapping_reducer.py\u001B[0m in \u001B[0;36m_unlink_temporary_resources\u001B[0;34m(self, context_id)\u001B[0m\n\u001B[1;32m    629\u001B[0m                         \u001B[0mos\u001B[0m\u001B[0;34m.\u001B[0m\u001B[0mpath\u001B[0m\u001B[0;34m.\u001B[0m\u001B[0mjoin\u001B[0m\u001B[0;34m(\u001B[0m\u001B[0mtemp_folder\u001B[0m\u001B[0;34m,\u001B[0m \u001B[0mfilename\u001B[0m\u001B[0;34m)\u001B[0m\u001B[0;34m,\u001B[0m \u001B[0;34m\"file\"\u001B[0m\u001B[0;34m\u001B[0m\u001B[0;34m\u001B[0m\u001B[0m\n\u001B[1;32m    630\u001B[0m                     )\n\u001B[0;32m--> 631\u001B[0;31m                 self._try_delete_folder(\n\u001B[0m\u001B[1;32m    632\u001B[0m                     \u001B[0mallow_non_empty\u001B[0m\u001B[0;34m=\u001B[0m\u001B[0;32mFalse\u001B[0m\u001B[0;34m,\u001B[0m \u001B[0mcontext_id\u001B[0m\u001B[0;34m=\u001B[0m\u001B[0mcontext_id\u001B[0m\u001B[0;34m\u001B[0m\u001B[0;34m\u001B[0m\u001B[0m\n\u001B[1;32m    633\u001B[0m                 )\n",
      "\u001B[0;32m~/PycharmProjects/adds-early-burnout-warning-model/venv/lib/python3.8/site-packages/joblib/_memmapping_reducer.py\u001B[0m in \u001B[0;36m_try_delete_folder\u001B[0;34m(self, allow_non_empty, context_id)\u001B[0m\n\u001B[1;32m    656\u001B[0m             \u001B[0mtemp_folder\u001B[0m \u001B[0;34m=\u001B[0m \u001B[0mself\u001B[0m\u001B[0;34m.\u001B[0m\u001B[0m_cached_temp_folders\u001B[0m\u001B[0;34m[\u001B[0m\u001B[0mcontext_id\u001B[0m\u001B[0;34m]\u001B[0m\u001B[0;34m\u001B[0m\u001B[0;34m\u001B[0m\u001B[0m\n\u001B[1;32m    657\u001B[0m             \u001B[0;32mtry\u001B[0m\u001B[0;34m:\u001B[0m\u001B[0;34m\u001B[0m\u001B[0;34m\u001B[0m\u001B[0m\n\u001B[0;32m--> 658\u001B[0;31m                 delete_folder(\n\u001B[0m\u001B[1;32m    659\u001B[0m                     \u001B[0mtemp_folder\u001B[0m\u001B[0;34m,\u001B[0m \u001B[0mallow_non_empty\u001B[0m\u001B[0;34m=\u001B[0m\u001B[0mallow_non_empty\u001B[0m\u001B[0;34m\u001B[0m\u001B[0;34m\u001B[0m\u001B[0m\n\u001B[1;32m    660\u001B[0m                 )\n",
      "\u001B[0;32m~/PycharmProjects/adds-early-burnout-warning-model/venv/lib/python3.8/site-packages/joblib/disk.py\u001B[0m in \u001B[0;36mdelete_folder\u001B[0;34m(folder_path, onerror, allow_non_empty)\u001B[0m\n\u001B[1;32m    134\u001B[0m                         \u001B[0;31m# yet.\u001B[0m\u001B[0;34m\u001B[0m\u001B[0;34m\u001B[0m\u001B[0;34m\u001B[0m\u001B[0m\n\u001B[1;32m    135\u001B[0m                         \u001B[0;32mraise\u001B[0m\u001B[0;34m\u001B[0m\u001B[0;34m\u001B[0m\u001B[0m\n\u001B[0;32m--> 136\u001B[0;31m                 \u001B[0mtime\u001B[0m\u001B[0;34m.\u001B[0m\u001B[0msleep\u001B[0m\u001B[0;34m(\u001B[0m\u001B[0mRM_SUBDIRS_RETRY_TIME\u001B[0m\u001B[0;34m)\u001B[0m\u001B[0;34m\u001B[0m\u001B[0;34m\u001B[0m\u001B[0m\n\u001B[0m",
      "\u001B[0;31mKeyboardInterrupt\u001B[0m: "
     ]
    },
    {
     "name": "stderr",
     "output_type": "stream",
     "text": [
      "f.func(*args, **kwargs)\n",
      "  File \"/home/ubuntu/PycharmProjects/adds-early-burnout-warning-model/venv/lib/python3.8/site-packages/joblib/parallel.py\", line 288, in __call__\n",
      "    return [func(*args, **kwargs)\n",
      "  File \"/home/ubuntu/PycharmProjects/adds-early-burnout-warning-model/venv/lib/python3.8/site-packages/joblib/parallel.py\", line 288, in <listcomp>\n",
      "    return [func(*args, **kwargs)\n",
      "  File \"/home/ubuntu/PycharmProjects/adds-early-burnout-warning-model/venv/lib/python3.8/site-packages/sklearn/utils/fixes.py\", line 216, in __call__\n",
      "    return self.function(*args, **kwargs)\n",
      "  File \"/home/ubuntu/PycharmProjects/adds-early-burnout-warning-model/venv/lib/python3.8/site-packages/sklearn/model_selection/_validation.py\", line 680, in _fit_and_score\n",
      "    estimator.fit(X_train, y_train, **fit_params)\n",
      "  File \"/home/ubuntu/PycharmProjects/adds-early-burnout-warning-model/venv/lib/python3.8/site-packages/sksurv/metrics.py\", line 766, in fit\n",
      "    self.estimator_ = self.estimator.fit(X, y, **fit_params)\n",
      "  File \"/home/ubuntu/PycharmProjects/adds-early-burnout-warning-model/venv/lib/python3.8/site-packages/sksurv/ensemble/boosting.py\", line 971, in fit\n",
      "    n_stages = self._fit_stages(X, y, raw_predictions, sample_weight, self._rng,\n",
      "  File \"/home/ubuntu/PycharmProjects/adds-early-burnout-warning-model/venv/lib/python3.8/site-packages/sksurv/ensemble/boosting.py\", line 878, in _fit_stages\n",
      "    raw_predictions = self._fit_stage(\n",
      "  File \"/home/ubuntu/PycharmProjects/adds-early-burnout-warning-model/venv/lib/python3.8/site-packages/sksurv/ensemble/boosting.py\", line 805, in _fit_stage\n",
      "    tree.fit(X, residual, sample_weight=sample_weight,\n",
      "  File \"/home/ubuntu/PycharmProjects/adds-early-burnout-warning-model/venv/lib/python3.8/site-packages/sklearn/tree/_classes.py\", line 1315, in fit\n",
      "    super().fit(\n",
      "  File \"/home/ubuntu/PycharmProjects/adds-early-burnout-warning-model/venv/lib/python3.8/site-packages/sklearn/tree/_classes.py\", line 420, in fit\n",
      "    builder.build(self.tree_, X, y, sample_weight)\n",
      "KeyboardInterrupt\n",
      "\n",
      "The above exception was the direct cause of the following exception:\n",
      "\n",
      "Traceback (most recent call last):\n",
      "  File \"/home/ubuntu/PycharmProjects/adds-early-burnout-warning-model/venv/lib/python3.8/site-packages/joblib/externals/loky/process_executor.py\", line 428, in _process_worker\n",
      "    r = call_item()\n",
      "  File \"/home/ubuntu/PycharmProjects/adds-early-burnout-warning-model/venv/lib/python3.8/site-packages/joblib/externals/loky/process_executor.py\", line 275, in __call__\n",
      "    return self.fn(*self.args, **self.kwargs)\n",
      "  File \"/home/ubuntu/PycharmProjects/adds-early-burnout-warning-model/venv/lib/python3.8/site-packages/joblib/_parallel_backends.py\", line 625, in __call__\n",
      "    raise WorkerInterrupt() from e\n",
      "joblib.my_exceptions.WorkerInterrupt\n",
      "\n",
      "During handling of the above exception, another exception occurred:\n",
      "\n",
      "Traceback (most recent call last):\n",
      "  File \"/usr/lib/python3.8/multiprocessing/process.py\", line 315, in _bootstrap\n",
      "    self.run()\n",
      "  File \"/usr/lib/python3.8/multiprocessing/process.py\", line 108, in run\n",
      "    self._target(*self._args, **self._kwargs)\n",
      "  File \"/home/ubuntu/PycharmProjects/adds-early-burnout-warning-model/venv/lib/python3.8/site-packages/joblib/externals/loky/process_executor.py\", line 431, in _process_worker\n",
      "    result_queue.put(_ResultItem(call_item.work_id, exception=exc))\n",
      "  File \"/home/ubuntu/PycharmProjects/adds-early-burnout-warning-model/venv/lib/python3.8/site-packages/joblib/externals/loky/backend/queues.py\", line 191, in put\n",
      "    with self._wlock:\n",
      "  File \"/home/ubuntu/PycharmProjects/adds-early-burnout-warning-model/venv/lib/python3.8/site-packages/joblib/externals/loky/backend/synchronize.py\", line 112, in __enter__\n",
      "    return self._semlock.acquire()\n",
      "KeyboardInterrupt\n",
      "/home/ubuntu/PycharmProjects/adds-early-burnout-warning-model/venv/lib/python3.8/site-packages/sksurv/linear_model/coxph.py:80: RuntimeWarning: overflow encountered in exp\n",
      "  numpy.exp(- self.cum_baseline_hazard_.y))\n",
      "Process LokyProcess-48:\n",
      "Traceback (most recent call last):\n",
      "  File \"/home/ubuntu/PycharmProjects/adds-early-burnout-warning-model/venv/lib/python3.8/site-packages/joblib/_parallel_backends.py\", line 620, in __call__\n",
      "    return self.func(*args, **kwargs)\n",
      "  File \"/home/ubuntu/PycharmProjects/adds-early-burnout-warning-model/venv/lib/python3.8/site-packages/joblib/parallel.py\", line 288, in __call__\n",
      "    return [func(*args, **kwargs)\n",
      "  File \"/home/ubuntu/PycharmProjects/adds-early-burnout-warning-model/venv/lib/python3.8/site-packages/joblib/parallel.py\", line 288, in <listcomp>\n",
      "    return [func(*args, **kwargs)\n",
      "  File \"/home/ubuntu/PycharmProjects/adds-early-burnout-warning-model/venv/lib/python3.8/site-packages/sklearn/utils/fixes.py\", line 216, in __call__\n",
      "    return self.function(*args, **kwargs)\n",
      "  File \"/home/ubuntu/PycharmProjects/adds-early-burnout-warning-model/venv/lib/python3.8/site-packages/sklearn/model_selection/_validation.py\", line 680, in _fit_and_score\n",
      "    estimator.fit(X_train, y_train, **fit_params)\n",
      "  File \"/home/ubuntu/PycharmProjects/adds-early-burnout-warning-model/venv/lib/python3.8/site-packages/sksurv/metrics.py\", line 766, in fit\n",
      "    self.estimator_ = self.estimator.fit(X, y, **fit_params)\n",
      "  File \"/home/ubuntu/PycharmProjects/adds-early-burnout-warning-model/venv/lib/python3.8/site-packages/sksurv/ensemble/boosting.py\", line 971, in fit\n",
      "    n_stages = self._fit_stages(X, y, raw_predictions, sample_weight, self._rng,\n",
      "  File \"/home/ubuntu/PycharmProjects/adds-early-burnout-warning-model/venv/lib/python3.8/site-packages/sksurv/ensemble/boosting.py\", line 878, in _fit_stages\n",
      "    raw_predictions = self._fit_stage(\n",
      "  File \"/home/ubuntu/PycharmProjects/adds-early-burnout-warning-model/venv/lib/python3.8/site-packages/sksurv/ensemble/boosting.py\", line 805, in _fit_stage\n",
      "    tree.fit(X, residual, sample_weight=sample_weight,\n",
      "  File \"/home/ubuntu/PycharmProjects/adds-early-burnout-warning-model/venv/lib/python3.8/site-packages/sklearn/tree/_classes.py\", line 1315, in fit\n",
      "    super().fit(\n",
      "  File \"/home/ubuntu/PycharmProjects/adds-early-burnout-warning-model/venv/lib/python3.8/site-packages/sklearn/tree/_classes.py\", line 420, in fit\n",
      "    builder.build(self.tree_, X, y, sample_weight)\n",
      "KeyboardInterrupt\n",
      "\n",
      "The above exception was the direct cause of the following exception:\n",
      "\n",
      "Traceback (most recent call last):\n",
      "  File \"/home/ubuntu/PycharmProjects/adds-early-burnout-warning-model/venv/lib/python3.8/site-packages/joblib/externals/loky/process_executor.py\", line 428, in _process_worker\n",
      "    r = call_item()\n",
      "  File \"/home/ubuntu/PycharmProjects/adds-early-burnout-warning-model/venv/lib/python3.8/site-packages/joblib/externals/loky/process_executor.py\", line 275, in __call__\n",
      "    return self.fn(*self.args, **self.kwargs)\n",
      "  File \"/home/ubuntu/PycharmProjects/adds-early-burnout-warning-model/venv/lib/python3.8/site-packages/joblib/_parallel_backends.py\", line 625, in __call__\n",
      "    raise WorkerInterrupt() from e\n",
      "joblib.my_exceptions.WorkerInterrupt\n",
      "\n",
      "During handling of the above exception, another exception occurred:\n",
      "\n",
      "Traceback (most recent call last):\n",
      "  File \"/usr/lib/python3.8/multiprocessing/process.py\", line 315, in _bootstrap\n",
      "    self.run()\n",
      "  File \"/usr/lib/python3.8/multiprocessing/process.py\", line 108, in run\n",
      "    self._target(*self._args, **self._kwargs)\n",
      "  File \"/home/ubuntu/PycharmProjects/adds-early-burnout-warning-model/venv/lib/python3.8/site-packages/joblib/externals/loky/process_executor.py\", line 431, in _process_worker\n",
      "    result_queue.put(_ResultItem(call_item.work_id, exception=exc))\n",
      "  File \"/home/ubuntu/PycharmProjects/adds-early-burnout-warning-model/venv/lib/python3.8/site-packages/joblib/externals/loky/backend/queues.py\", line 191, in put\n",
      "    with self._wlock:\n",
      "  File \"/home/ubuntu/PycharmProjects/adds-early-burnout-warning-model/venv/lib/python3.8/site-packages/joblib/externals/loky/backend/synchronize.py\", line 112, in __enter__\n",
      "    return self._semlock.acquire()\n",
      "KeyboardInterrupt\n",
      "Process LokyProcess-49:\n",
      "Traceback (most recent call last):\n",
      "  File \"/home/ubuntu/PycharmProjects/adds-early-burnout-warning-model/venv/lib/python3.8/site-packages/joblib/_parallel_backends.py\", line 620, in __call__\n",
      "    return self.func(*args, **kwargs)\n",
      "  File \"/home/ubuntu/PycharmProjects/adds-early-burnout-warning-model/venv/lib/python3.8/site-packages/joblib/parallel.py\", line 288, in __call__\n",
      "    return [func(*args, **kwargs)\n",
      "  File \"/home/ubuntu/PycharmProjects/adds-early-burnout-warning-model/venv/lib/python3.8/site-packages/joblib/parallel.py\", line 288, in <listcomp>\n",
      "    return [func(*args, **kwargs)\n",
      "  File \"/home/ubuntu/PycharmProjects/adds-early-burnout-warning-model/venv/lib/python3.8/site-packages/sklearn/utils/fixes.py\", line 216, in __call__\n",
      "    return self.function(*args, **kwargs)\n",
      "  File \"/home/ubuntu/PycharmProjects/adds-early-burnout-warning-model/venv/lib/python3.8/site-packages/sklearn/model_selection/_validation.py\", line 680, in _fit_and_score\n",
      "    estimator.fit(X_train, y_train, **fit_params)\n",
      "  File \"/home/ubuntu/PycharmProjects/adds-early-burnout-warning-model/venv/lib/python3.8/site-packages/sksurv/metrics.py\", line 766, in fit\n",
      "    self.estimator_ = self.estimator.fit(X, y, **fit_params)\n",
      "  File \"/home/ubuntu/PycharmProjects/adds-early-burnout-warning-model/venv/lib/python3.8/site-packages/sksurv/ensemble/boosting.py\", line 971, in fit\n",
      "    n_stages = self._fit_stages(X, y, raw_predictions, sample_weight, self._rng,\n",
      "  File \"/home/ubuntu/PycharmProjects/adds-early-burnout-warning-model/venv/lib/python3.8/site-packages/sksurv/ensemble/boosting.py\", line 873, in _fit_stages\n",
      "    old_oob_score = loss_(y_oob_sample,\n",
      "  File \"/home/ubuntu/PycharmProjects/adds-early-burnout-warning-model/venv/lib/python3.8/site-packages/sksurv/ensemble/survival_loss.py\", line 52, in __call__\n",
      "    return coxph_loss(y['event'].astype(numpy.uint8), y['time'], raw_predictions.ravel())\n",
      "KeyboardInterrupt\n",
      "\n",
      "The above exception was the direct cause of the following exception:\n",
      "\n",
      "Traceback (most recent call last):\n",
      "  File \"/home/ubuntu/PycharmProjects/adds-early-burnout-warning-model/venv/lib/python3.8/site-packages/joblib/externals/loky/process_executor.py\", line 428, in _process_worker\n",
      "    r = call_item()\n",
      "  File \"/home/ubuntu/PycharmProjects/adds-early-burnout-warning-model/venv/lib/python3.8/site-packages/joblib/externals/loky/process_executor.py\", line 275, in __call__\n",
      "    return self.fn(*self.args, **self.kwargs)\n",
      "  File \"/home/ubuntu/PycharmProjects/adds-early-burnout-warning-model/venv/lib/python3.8/site-packages/joblib/_parallel_backends.py\", line 625, in __call__\n",
      "    raise WorkerInterrupt() from e\n",
      "joblib.my_exceptions.WorkerInterrupt\n",
      "\n",
      "During handling of the above exception, another exception occurred:\n",
      "\n",
      "Traceback (most recent call last):\n",
      "  File \"/usr/lib/python3.8/multiprocessing/process.py\", line 315, in _bootstrap\n",
      "    self.run()\n",
      "  File \"/usr/lib/python3.8/multiprocessing/process.py\", line 108, in run\n",
      "    self._target(*self._args, **self._kwargs)\n",
      "  File \"/home/ubuntu/PycharmProjects/adds-early-burnout-warning-model/venv/lib/python3.8/site-packages/joblib/externals/loky/process_executor.py\", line 431, in _process_worker\n",
      "    result_queue.put(_ResultItem(call_item.work_id, exception=exc))\n",
      "  File \"/home/ubuntu/PycharmProjects/adds-early-burnout-warning-model/venv/lib/python3.8/site-packages/joblib/externals/loky/backend/queues.py\", line 191, in put\n",
      "    with self._wlock:\n",
      "  File \"/home/ubuntu/PycharmProjects/adds-early-burnout-warning-model/venv/lib/python3.8/site-packages/joblib/externals/loky/backend/synchronize.py\", line 112, in __enter__\n",
      "    return self._semlock.acquire()\n",
      "KeyboardInterrupt\n",
      "Process LokyProcess-53:\n",
      "Traceback (most recent call last):\n",
      "  File \"/home/ubuntu/PycharmProjects/adds-early-burnout-warning-model/venv/lib/python3.8/site-packages/joblib/_parallel_backends.py\", line 620, in __call__\n",
      "    return self.func(*args, **kwargs)\n",
      "  File \"/home/ubuntu/PycharmProjects/adds-early-burnout-warning-model/venv/lib/python3.8/site-packages/joblib/parallel.py\", line 288, in __call__\n",
      "    return [func(*args, **kwargs)\n",
      "  File \"/home/ubuntu/PycharmProjects/adds-early-burnout-warning-model/venv/lib/python3.8/site-packages/joblib/parallel.py\", line 288, in <listcomp>\n",
      "    return [func(*args, **kwargs)\n",
      "  File \"/home/ubuntu/PycharmProjects/adds-early-burnout-warning-model/venv/lib/python3.8/site-packages/sklearn/utils/fixes.py\", line 216, in __call__\n",
      "    return self.function(*args, **kwargs)\n",
      "  File \"/home/ubuntu/PycharmProjects/adds-early-burnout-warning-model/venv/lib/python3.8/site-packages/sklearn/model_selection/_validation.py\", line 680, in _fit_and_score\n",
      "    estimator.fit(X_train, y_train, **fit_params)\n",
      "  File \"/home/ubuntu/PycharmProjects/adds-early-burnout-warning-model/venv/lib/python3.8/site-packages/sksurv/metrics.py\", line 766, in fit\n",
      "    self.estimator_ = self.estimator.fit(X, y, **fit_params)\n",
      "  File \"/home/ubuntu/PycharmProjects/adds-early-burnout-warning-model/venv/lib/python3.8/site-packages/sksurv/ensemble/boosting.py\", line 971, in fit\n",
      "    n_stages = self._fit_stages(X, y, raw_predictions, sample_weight, self._rng,\n",
      "  File \"/home/ubuntu/PycharmProjects/adds-early-burnout-warning-model/venv/lib/python3.8/site-packages/sksurv/ensemble/boosting.py\", line 878, in _fit_stages\n",
      "    raw_predictions = self._fit_stage(\n",
      "  File \"/home/ubuntu/PycharmProjects/adds-early-burnout-warning-model/venv/lib/python3.8/site-packages/sksurv/ensemble/boosting.py\", line 805, in _fit_stage\n",
      "    tree.fit(X, residual, sample_weight=sample_weight,\n",
      "  File \"/home/ubuntu/PycharmProjects/adds-early-burnout-warning-model/venv/lib/python3.8/site-packages/sklearn/tree/_classes.py\", line 1315, in fit\n",
      "    super().fit(\n",
      "  File \"/home/ubuntu/PycharmProjects/adds-early-burnout-warning-model/venv/lib/python3.8/site-packages/sklearn/tree/_classes.py\", line 420, in fit\n",
      "    builder.build(self.tree_, X, y, sample_weight)\n",
      "KeyboardInterrupt\n",
      "\n",
      "The above exception was the direct cause of the following exception:\n",
      "\n",
      "Traceback (most recent call last):\n",
      "  File \"/home/ubuntu/PycharmProjects/adds-early-burnout-warning-model/venv/lib/python3.8/site-packages/joblib/externals/loky/process_executor.py\", line 428, in _process_worker\n",
      "    r = call_item()\n",
      "  File \"/home/ubuntu/PycharmProjects/adds-early-burnout-warning-model/venv/lib/python3.8/site-packages/joblib/externals/loky/process_executor.py\", line 275, in __call__\n",
      "    return self.fn(*self.args, **self.kwargs)\n",
      "  File \"/home/ubuntu/PycharmProjects/adds-early-burnout-warning-model/venv/lib/python3.8/site-packages/joblib/_parallel_backends.py\", line 625, in __call__\n",
      "    raise WorkerInterrupt() from e\n",
      "joblib.my_exceptions.WorkerInterrupt\n",
      "\n",
      "During handling of the above exception, another exception occurred:\n",
      "\n",
      "Traceback (most recent call last):\n",
      "  File \"/usr/lib/python3.8/multiprocessing/process.py\", line 315, in _bootstrap\n",
      "    self.run()\n",
      "  File \"/usr/lib/python3.8/multiprocessing/process.py\", line 108, in run\n",
      "    self._target(*self._args, **self._kwargs)\n",
      "  File \"/home/ubuntu/PycharmProjects/adds-early-burnout-warning-model/venv/lib/python3.8/site-packages/joblib/externals/loky/process_executor.py\", line 431, in _process_worker\n",
      "    result_queue.put(_ResultItem(call_item.work_id, exception=exc))\n",
      "  File \"/home/ubuntu/PycharmProjects/adds-early-burnout-warning-model/venv/lib/python3.8/site-packages/joblib/externals/loky/backend/queues.py\", line 191, in put\n",
      "    with self._wlock:\n",
      "  File \"/home/ubuntu/PycharmProjects/adds-early-burnout-warning-model/venv/lib/python3.8/site-packages/joblib/externals/loky/backend/synchronize.py\", line 112, in __enter__\n",
      "    return self._semlock.acquire()\n",
      "KeyboardInterrupt\n",
      "Process LokyProcess-46:\n",
      "Traceback (most recent call last):\n",
      "  File \"/home/ubuntu/PycharmProjects/adds-early-burnout-warning-model/venv/lib/python3.8/site-packages/joblib/_parallel_backends.py\", line 620, in __call__\n",
      "    return self.func(*args, **kwargs)\n",
      "  File \"/home/ubuntu/PycharmProjects/adds-early-burnout-warning-model/venv/lib/python3.8/site-packages/joblib/parallel.py\", line 288, in __call__\n",
      "    return [func(*args, **kwargs)\n",
      "  File \"/home/ubuntu/PycharmProjects/adds-early-burnout-warning-model/venv/lib/python3.8/site-packages/joblib/parallel.py\", line 288, in <listcomp>\n",
      "    return [func(*args, **kwargs)\n",
      "  File \"/home/ubuntu/PycharmProjects/adds-early-burnout-warning-model/venv/lib/python3.8/site-packages/sklearn/utils/fixes.py\", line 216, in __call__\n",
      "    return self.function(*args, **kwargs)\n",
      "  File \"/home/ubuntu/PycharmProjects/adds-early-burnout-warning-model/venv/lib/python3.8/site-packages/sklearn/model_selection/_validation.py\", line 680, in _fit_and_score\n",
      "    estimator.fit(X_train, y_train, **fit_params)\n",
      "  File \"/home/ubuntu/PycharmProjects/adds-early-burnout-warning-model/venv/lib/python3.8/site-packages/sksurv/metrics.py\", line 766, in fit\n",
      "    self.estimator_ = self.estimator.fit(X, y, **fit_params)\n",
      "  File \"/home/ubuntu/PycharmProjects/adds-early-burnout-warning-model/venv/lib/python3.8/site-packages/sksurv/ensemble/boosting.py\", line 971, in fit\n",
      "    n_stages = self._fit_stages(X, y, raw_predictions, sample_weight, self._rng,\n",
      "  File \"/home/ubuntu/PycharmProjects/adds-early-burnout-warning-model/venv/lib/python3.8/site-packages/sksurv/ensemble/boosting.py\", line 878, in _fit_stages\n",
      "    raw_predictions = self._fit_stage(\n",
      "  File \"/home/ubuntu/PycharmProjects/adds-early-burnout-warning-model/venv/lib/python3.8/site-packages/sksurv/ensemble/boosting.py\", line 805, in _fit_stage\n",
      "    tree.fit(X, residual, sample_weight=sample_weight,\n",
      "  File \"/home/ubuntu/PycharmProjects/adds-early-burnout-warning-model/venv/lib/python3.8/site-packages/sklearn/tree/_classes.py\", line 1315, in fit\n",
      "    super().fit(\n",
      "  File \"/home/ubuntu/PycharmProjects/adds-early-burnout-warning-model/venv/lib/python3.8/site-packages/sklearn/tree/_classes.py\", line 420, in fit\n",
      "    builder.build(self.tree_, X, y, sample_weight)\n",
      "KeyboardInterrupt\n",
      "\n",
      "The above exception was the direct cause of the following exception:\n",
      "\n",
      "Traceback (most recent call last):\n",
      "  File \"/home/ubuntu/PycharmProjects/adds-early-burnout-warning-model/venv/lib/python3.8/site-packages/joblib/externals/loky/process_executor.py\", line 428, in _process_worker\n",
      "    r = call_item()\n",
      "  File \"/home/ubuntu/PycharmProjects/adds-early-burnout-warning-model/venv/lib/python3.8/site-packages/joblib/externals/loky/process_executor.py\", line 275, in __call__\n",
      "    return self.fn(*self.args, **self.kwargs)\n",
      "  File \"/home/ubuntu/PycharmProjects/adds-early-burnout-warning-model/venv/lib/python3.8/site-packages/joblib/_parallel_backends.py\", line 625, in __call__\n",
      "    raise WorkerInterrupt() from e\n",
      "joblib.my_exceptions.WorkerInterrupt\n",
      "\n",
      "During handling of the above exception, another exception occurred:\n",
      "\n",
      "Traceback (most recent call last):\n",
      "  File \"/usr/lib/python3.8/multiprocessing/process.py\", line 315, in _bootstrap\n",
      "    self.run()\n",
      "  File \"/usr/lib/python3.8/multiprocessing/process.py\", line 108, in run\n",
      "    self._target(*self._args, **self._kwargs)\n",
      "  File \"/home/ubuntu/PycharmProjects/adds-early-burnout-warning-model/venv/lib/python3.8/site-packages/joblib/externals/loky/process_executor.py\", line 431, in _process_worker\n",
      "    result_queue.put(_ResultItem(call_item.work_id, exception=exc))\n",
      "  File \"/home/ubuntu/PycharmProjects/adds-early-burnout-warning-model/venv/lib/python3.8/site-packages/joblib/externals/loky/backend/queues.py\", line 191, in put\n",
      "    with self._wlock:\n",
      "  File \"/home/ubuntu/PycharmProjects/adds-early-burnout-warning-model/venv/lib/python3.8/site-packages/joblib/externals/loky/backend/synchronize.py\", line 112, in __enter__\n",
      "    return self._semlock.acquire()\n",
      "KeyboardInterrupt\n",
      "Process LokyProcess-39:\n",
      "Traceback (most recent call last):\n",
      "  File \"/home/ubuntu/PycharmProjects/adds-early-burnout-warning-model/venv/lib/python3.8/site-packages/joblib/_parallel_backends.py\", line 620, in __call__\n",
      "    return self.func(*args, **kwargs)\n",
      "  File \"/home/ubuntu/PycharmProjects/adds-early-burnout-warning-model/venv/lib/python3.8/site-packages/joblib/parallel.py\", line 288, in __call__\n",
      "    return [func(*args, **kwargs)\n",
      "  File \"/home/ubuntu/PycharmProjects/adds-early-burnout-warning-model/venv/lib/python3.8/site-packages/joblib/parallel.py\", line 288, in <listcomp>\n",
      "    return [func(*args, **kwargs)\n",
      "  File \"/home/ubuntu/PycharmProjects/adds-early-burnout-warning-model/venv/lib/python3.8/site-packages/sklearn/utils/fixes.py\", line 216, in __call__\n",
      "    return self.function(*args, **kwargs)\n",
      "  File \"/home/ubuntu/PycharmProjects/adds-early-burnout-warning-model/venv/lib/python3.8/site-packages/sklearn/model_selection/_validation.py\", line 680, in _fit_and_score\n",
      "    estimator.fit(X_train, y_train, **fit_params)\n",
      "  File \"/home/ubuntu/PycharmProjects/adds-early-burnout-warning-model/venv/lib/python3.8/site-packages/sksurv/metrics.py\", line 766, in fit\n",
      "    self.estimator_ = self.estimator.fit(X, y, **fit_params)\n",
      "  File \"/home/ubuntu/PycharmProjects/adds-early-burnout-warning-model/venv/lib/python3.8/site-packages/sksurv/ensemble/boosting.py\", line 971, in fit\n",
      "    n_stages = self._fit_stages(X, y, raw_predictions, sample_weight, self._rng,\n",
      "  File \"/home/ubuntu/PycharmProjects/adds-early-burnout-warning-model/venv/lib/python3.8/site-packages/sksurv/ensemble/boosting.py\", line 878, in _fit_stages\n",
      "    raw_predictions = self._fit_stage(\n",
      "  File \"/home/ubuntu/PycharmProjects/adds-early-burnout-warning-model/venv/lib/python3.8/site-packages/sksurv/ensemble/boosting.py\", line 805, in _fit_stage\n",
      "    tree.fit(X, residual, sample_weight=sample_weight,\n",
      "  File \"/home/ubuntu/PycharmProjects/adds-early-burnout-warning-model/venv/lib/python3.8/site-packages/sklearn/tree/_classes.py\", line 1315, in fit\n",
      "    super().fit(\n",
      "  File \"/home/ubuntu/PycharmProjects/adds-early-burnout-warning-model/venv/lib/python3.8/site-packages/sklearn/tree/_classes.py\", line 154, in fit\n",
      "    random_state = check_random_state(self.random_state)\n",
      "  File \"/home/ubuntu/PycharmProjects/adds-early-burnout-warning-model/venv/lib/python3.8/site-packages/sklearn/utils/validation.py\", line 1056, in check_random_state\n",
      "    if isinstance(seed, numbers.Integral):\n",
      "  File \"/usr/lib/python3.8/abc.py\", line 98, in __instancecheck__\n",
      "    return _abc_instancecheck(cls, instance)\n",
      "KeyboardInterrupt\n",
      "\n",
      "The above exception was the direct cause of the following exception:\n",
      "\n",
      "Traceback (most recent call last):\n",
      "  File \"/home/ubuntu/PycharmProjects/adds-early-burnout-warning-model/venv/lib/python3.8/site-packages/joblib/externals/loky/process_executor.py\", line 428, in _process_worker\n",
      "    r = call_item()\n",
      "  File \"/home/ubuntu/PycharmProjects/adds-early-burnout-warning-model/venv/lib/python3.8/site-packages/joblib/externals/loky/process_executor.py\", line 275, in __call__\n",
      "    return self.fn(*self.args, **self.kwargs)\n",
      "  File \"/home/ubuntu/PycharmProjects/adds-early-burnout-warning-model/venv/lib/python3.8/site-packages/joblib/_parallel_backends.py\", line 625, in __call__\n",
      "    raise WorkerInterrupt() from e\n",
      "joblib.my_exceptions.WorkerInterrupt\n",
      "\n",
      "During handling of the above exception, another exception occurred:\n",
      "\n",
      "Traceback (most recent call last):\n",
      "  File \"/usr/lib/python3.8/multiprocessing/process.py\", line 315, in _bootstrap\n",
      "    self.run()\n",
      "  File \"/usr/lib/python3.8/multiprocessing/process.py\", line 108, in run\n",
      "    self._target(*self._args, **self._kwargs)\n",
      "  File \"/home/ubuntu/PycharmProjects/adds-early-burnout-warning-model/venv/lib/python3.8/site-packages/joblib/externals/loky/process_executor.py\", line 431, in _process_worker\n",
      "    result_queue.put(_ResultItem(call_item.work_id, exception=exc))\n",
      "  File \"/home/ubuntu/PycharmProjects/adds-early-burnout-warning-model/venv/lib/python3.8/site-packages/joblib/externals/loky/backend/queues.py\", line 191, in put\n",
      "    with self._wlock:\n",
      "  File \"/home/ubuntu/PycharmProjects/adds-early-burnout-warning-model/venv/lib/python3.8/site-packages/joblib/externals/loky/backend/synchronize.py\", line 112, in __enter__\n",
      "    return self._semlock.acquire()\n",
      "KeyboardInterrupt\n",
      "Process LokyProcess-45:\n",
      "Traceback (most recent call last):\n",
      "  File \"/home/ubuntu/PycharmProjects/adds-early-burnout-warning-model/venv/lib/python3.8/site-packages/joblib/_parallel_backends.py\", line 620, in __call__\n",
      "    return self.func(*args, **kwargs)\n",
      "  File \"/home/ubuntu/PycharmProjects/adds-early-burnout-warning-model/venv/lib/python3.8/site-packages/joblib/parallel.py\", line 288, in __call__\n",
      "    return [func(*args, **kwargs)\n",
      "  File \"/home/ubuntu/PycharmProjects/adds-early-burnout-warning-model/venv/lib/python3.8/site-packages/joblib/parallel.py\", line 288, in <listcomp>\n",
      "    return [func(*args, **kwargs)\n",
      "  File \"/home/ubuntu/PycharmProjects/adds-early-burnout-warning-model/venv/lib/python3.8/site-packages/sklearn/utils/fixes.py\", line 216, in __call__\n",
      "    return self.function(*args, **kwargs)\n",
      "  File \"/home/ubuntu/PycharmProjects/adds-early-burnout-warning-model/venv/lib/python3.8/site-packages/sklearn/model_selection/_validation.py\", line 680, in _fit_and_score\n",
      "    estimator.fit(X_train, y_train, **fit_params)\n",
      "  File \"/home/ubuntu/PycharmProjects/adds-early-burnout-warning-model/venv/lib/python3.8/site-packages/sksurv/metrics.py\", line 766, in fit\n",
      "    self.estimator_ = self.estimator.fit(X, y, **fit_params)\n",
      "  File \"/home/ubuntu/PycharmProjects/adds-early-burnout-warning-model/venv/lib/python3.8/site-packages/sksurv/ensemble/boosting.py\", line 938, in fit\n",
      "    X = self._validate_data(\n",
      "  File \"/home/ubuntu/PycharmProjects/adds-early-burnout-warning-model/venv/lib/python3.8/site-packages/sklearn/base.py\", line 566, in _validate_data\n",
      "    X = check_array(X, **check_params)\n",
      "  File \"/home/ubuntu/PycharmProjects/adds-early-burnout-warning-model/venv/lib/python3.8/site-packages/sklearn/utils/validation.py\", line 800, in check_array\n",
      "    _assert_all_finite(array, allow_nan=force_all_finite == \"allow-nan\")\n",
      "  File \"/home/ubuntu/PycharmProjects/adds-early-burnout-warning-model/venv/lib/python3.8/site-packages/sklearn/utils/validation.py\", line 103, in _assert_all_finite\n",
      "    if is_float and (np.isfinite(_safe_accumulator_op(np.sum, X))):\n",
      "  File \"/home/ubuntu/PycharmProjects/adds-early-burnout-warning-model/venv/lib/python3.8/site-packages/sklearn/utils/extmath.py\", line 893, in _safe_accumulator_op\n",
      "    result = op(x, *args, **kwargs, dtype=np.float64)\n",
      "  File \"<__array_function__ internals>\", line 5, in sum\n",
      "  File \"/home/ubuntu/PycharmProjects/adds-early-burnout-warning-model/venv/lib/python3.8/site-packages/numpy/core/fromnumeric.py\", line 2259, in sum\n",
      "    return _wrapreduction(a, np.add, 'sum', axis, dtype, out, keepdims=keepdims,\n",
      "  File \"/home/ubuntu/PycharmProjects/adds-early-burnout-warning-model/venv/lib/python3.8/site-packages/numpy/core/fromnumeric.py\", line 86, in _wrapreduction\n",
      "    return ufunc.reduce(obj, axis, dtype, out, **passkwargs)\n",
      "KeyboardInterrupt\n",
      "\n",
      "The above exception was the direct cause of the following exception:\n",
      "\n",
      "Traceback (most recent call last):\n",
      "  File \"/home/ubuntu/PycharmProjects/adds-early-burnout-warning-model/venv/lib/python3.8/site-packages/joblib/externals/loky/process_executor.py\", line 428, in _process_worker\n",
      "    r = call_item()\n",
      "  File \"/home/ubuntu/PycharmProjects/adds-early-burnout-warning-model/venv/lib/python3.8/site-packages/joblib/externals/loky/process_executor.py\", line 275, in __call__\n",
      "    return self.fn(*self.args, **self.kwargs)\n",
      "  File \"/home/ubuntu/PycharmProjects/adds-early-burnout-warning-model/venv/lib/python3.8/site-packages/joblib/_parallel_backends.py\", line 625, in __call__\n",
      "    raise WorkerInterrupt() from e\n",
      "joblib.my_exceptions.WorkerInterrupt\n",
      "\n",
      "During handling of the above exception, another exception occurred:\n",
      "\n",
      "Traceback (most recent call last):\n",
      "  File \"/usr/lib/python3.8/multiprocessing/process.py\", line 315, in _bootstrap\n",
      "    self.run()\n",
      "  File \"/usr/lib/python3.8/multiprocessing/process.py\", line 108, in run\n",
      "    self._target(*self._args, **self._kwargs)\n",
      "  File \"/home/ubuntu/PycharmProjects/adds-early-burnout-warning-model/venv/lib/python3.8/site-packages/joblib/externals/loky/process_executor.py\", line 431, in _process_worker\n",
      "    result_queue.put(_ResultItem(call_item.work_id, exception=exc))\n",
      "  File \"/home/ubuntu/PycharmProjects/adds-early-burnout-warning-model/venv/lib/python3.8/site-packages/joblib/externals/loky/backend/queues.py\", line 191, in put\n",
      "    with self._wlock:\n",
      "  File \"/home/ubuntu/PycharmProjects/adds-early-burnout-warning-model/venv/lib/python3.8/site-packages/joblib/externals/loky/backend/synchronize.py\", line 112, in __enter__\n",
      "    return self._semlock.acquire()\n",
      "KeyboardInterrupt\n",
      "Process LokyProcess-34:\n",
      "Traceback (most recent call last):\n",
      "  File \"/home/ubuntu/PycharmProjects/adds-early-burnout-warning-model/venv/lib/python3.8/site-packages/joblib/_parallel_backends.py\", line 620, in __call__\n",
      "    return self.func(*args, **kwargs)\n",
      "  File \"/home/ubuntu/PycharmProjects/adds-early-burnout-warning-model/venv/lib/python3.8/site-packages/joblib/parallel.py\", line 288, in __call__\n",
      "    return [func(*args, **kwargs)\n",
      "  File \"/home/ubuntu/PycharmProjects/adds-early-burnout-warning-model/venv/lib/python3.8/site-packages/joblib/parallel.py\", line 288, in <listcomp>\n",
      "    return [func(*args, **kwargs)\n",
      "  File \"/home/ubuntu/PycharmProjects/adds-early-burnout-warning-model/venv/lib/python3.8/site-packages/sklearn/utils/fixes.py\", line 216, in __call__\n",
      "    return self.function(*args, **kwargs)\n",
      "  File \"/home/ubuntu/PycharmProjects/adds-early-burnout-warning-model/venv/lib/python3.8/site-packages/sklearn/model_selection/_validation.py\", line 680, in _fit_and_score\n",
      "    estimator.fit(X_train, y_train, **fit_params)\n",
      "  File \"/home/ubuntu/PycharmProjects/adds-early-burnout-warning-model/venv/lib/python3.8/site-packages/sksurv/metrics.py\", line 766, in fit\n",
      "    self.estimator_ = self.estimator.fit(X, y, **fit_params)\n",
      "  File \"/home/ubuntu/PycharmProjects/adds-early-burnout-warning-model/venv/lib/python3.8/site-packages/sksurv/ensemble/boosting.py\", line 971, in fit\n",
      "    n_stages = self._fit_stages(X, y, raw_predictions, sample_weight, self._rng,\n",
      "  File \"/home/ubuntu/PycharmProjects/adds-early-burnout-warning-model/venv/lib/python3.8/site-packages/sksurv/ensemble/boosting.py\", line 878, in _fit_stages\n",
      "    raw_predictions = self._fit_stage(\n",
      "  File \"/home/ubuntu/PycharmProjects/adds-early-burnout-warning-model/venv/lib/python3.8/site-packages/sksurv/ensemble/boosting.py\", line 805, in _fit_stage\n",
      "    tree.fit(X, residual, sample_weight=sample_weight,\n",
      "  File \"/home/ubuntu/PycharmProjects/adds-early-burnout-warning-model/venv/lib/python3.8/site-packages/sklearn/tree/_classes.py\", line 1315, in fit\n",
      "    super().fit(\n",
      "  File \"/home/ubuntu/PycharmProjects/adds-early-burnout-warning-model/venv/lib/python3.8/site-packages/sklearn/tree/_classes.py\", line 420, in fit\n",
      "    builder.build(self.tree_, X, y, sample_weight)\n",
      "KeyboardInterrupt\n",
      "\n",
      "The above exception was the direct cause of the following exception:\n",
      "\n",
      "Traceback (most recent call last):\n",
      "  File \"/home/ubuntu/PycharmProjects/adds-early-burnout-warning-model/venv/lib/python3.8/site-packages/joblib/externals/loky/process_executor.py\", line 428, in _process_worker\n",
      "    r = call_item()\n",
      "  File \"/home/ubuntu/PycharmProjects/adds-early-burnout-warning-model/venv/lib/python3.8/site-packages/joblib/externals/loky/process_executor.py\", line 275, in __call__\n",
      "    return self.fn(*self.args, **self.kwargs)\n",
      "  File \"/home/ubuntu/PycharmProjects/adds-early-burnout-warning-model/venv/lib/python3.8/site-packages/joblib/_parallel_backends.py\", line 625, in __call__\n",
      "    raise WorkerInterrupt() from e\n",
      "joblib.my_exceptions.WorkerInterrupt\n",
      "\n",
      "During handling of the above exception, another exception occurred:\n",
      "\n",
      "Traceback (most recent call last):\n",
      "  File \"/usr/lib/python3.8/multiprocessing/process.py\", line 315, in _bootstrap\n",
      "    self.run()\n",
      "  File \"/usr/lib/python3.8/multiprocessing/process.py\", line 108, in run\n",
      "    self._target(*self._args, **self._kwargs)\n",
      "  File \"/home/ubuntu/PycharmProjects/adds-early-burnout-warning-model/venv/lib/python3.8/site-packages/joblib/externals/loky/process_executor.py\", line 431, in _process_worker\n",
      "    result_queue.put(_ResultItem(call_item.work_id, exception=exc))\n",
      "  File \"/home/ubuntu/PycharmProjects/adds-early-burnout-warning-model/venv/lib/python3.8/site-packages/joblib/externals/loky/backend/queues.py\", line 191, in put\n",
      "    with self._wlock:\n",
      "  File \"/home/ubuntu/PycharmProjects/adds-early-burnout-warning-model/venv/lib/python3.8/site-packages/joblib/externals/loky/backend/synchronize.py\", line 112, in __enter__\n",
      "    return self._semlock.acquire()\n",
      "KeyboardInterrupt\n",
      "Process LokyProcess-47:\n",
      "Traceback (most recent call last):\n",
      "  File \"/home/ubuntu/PycharmProjects/adds-early-burnout-warning-model/venv/lib/python3.8/site-packages/joblib/_parallel_backends.py\", line 620, in __call__\n",
      "    return self.func(*args, **kwargs)\n",
      "  File \"/home/ubuntu/PycharmProjects/adds-early-burnout-warning-model/venv/lib/python3.8/site-packages/joblib/parallel.py\", line 288, in __call__\n",
      "    return [func(*args, **kwargs)\n",
      "  File \"/home/ubuntu/PycharmProjects/adds-early-burnout-warning-model/venv/lib/python3.8/site-packages/joblib/parallel.py\", line 288, in <listcomp>\n",
      "    return [func(*args, **kwargs)\n",
      "  File \"/home/ubuntu/PycharmProjects/adds-early-burnout-warning-model/venv/lib/python3.8/site-packages/sklearn/utils/fixes.py\", line 216, in __call__\n",
      "    return self.function(*args, **kwargs)\n",
      "  File \"/home/ubuntu/PycharmProjects/adds-early-burnout-warning-model/venv/lib/python3.8/site-packages/sklearn/model_selection/_validation.py\", line 680, in _fit_and_score\n",
      "    estimator.fit(X_train, y_train, **fit_params)\n",
      "  File \"/home/ubuntu/PycharmProjects/adds-early-burnout-warning-model/venv/lib/python3.8/site-packages/sksurv/metrics.py\", line 766, in fit\n",
      "    self.estimator_ = self.estimator.fit(X, y, **fit_params)\n",
      "  File \"/home/ubuntu/PycharmProjects/adds-early-burnout-warning-model/venv/lib/python3.8/site-packages/sksurv/ensemble/boosting.py\", line 971, in fit\n",
      "    n_stages = self._fit_stages(X, y, raw_predictions, sample_weight, self._rng,\n",
      "  File \"/home/ubuntu/PycharmProjects/adds-early-burnout-warning-model/venv/lib/python3.8/site-packages/sksurv/ensemble/boosting.py\", line 878, in _fit_stages\n",
      "    raw_predictions = self._fit_stage(\n",
      "  File \"/home/ubuntu/PycharmProjects/adds-early-burnout-warning-model/venv/lib/python3.8/site-packages/sksurv/ensemble/boosting.py\", line 805, in _fit_stage\n",
      "    tree.fit(X, residual, sample_weight=sample_weight,\n",
      "  File \"/home/ubuntu/PycharmProjects/adds-early-burnout-warning-model/venv/lib/python3.8/site-packages/sklearn/tree/_classes.py\", line 1315, in fit\n",
      "    super().fit(\n",
      "  File \"/home/ubuntu/PycharmProjects/adds-early-burnout-warning-model/venv/lib/python3.8/site-packages/sklearn/tree/_classes.py\", line 420, in fit\n",
      "    builder.build(self.tree_, X, y, sample_weight)\n",
      "KeyboardInterrupt\n",
      "\n",
      "The above exception was the direct cause of the following exception:\n",
      "\n",
      "Traceback (most recent call last):\n",
      "  File \"/home/ubuntu/PycharmProjects/adds-early-burnout-warning-model/venv/lib/python3.8/site-packages/joblib/externals/loky/process_executor.py\", line 428, in _process_worker\n",
      "    r = call_item()\n",
      "  File \"/home/ubuntu/PycharmProjects/adds-early-burnout-warning-model/venv/lib/python3.8/site-packages/joblib/externals/loky/process_executor.py\", line 275, in __call__\n",
      "    return self.fn(*self.args, **self.kwargs)\n",
      "  File \"/home/ubuntu/PycharmProjects/adds-early-burnout-warning-model/venv/lib/python3.8/site-packages/joblib/_parallel_backends.py\", line 625, in __call__\n",
      "    raise WorkerInterrupt() from e\n",
      "joblib.my_exceptions.WorkerInterrupt\n",
      "\n",
      "During handling of the above exception, another exception occurred:\n",
      "\n",
      "Traceback (most recent call last):\n",
      "  File \"/usr/lib/python3.8/multiprocessing/process.py\", line 315, in _bootstrap\n",
      "    self.run()\n",
      "  File \"/usr/lib/python3.8/multiprocessing/process.py\", line 108, in run\n",
      "    self._target(*self._args, **self._kwargs)\n",
      "  File \"/home/ubuntu/PycharmProjects/adds-early-burnout-warning-model/venv/lib/python3.8/site-packages/joblib/externals/loky/process_executor.py\", line 431, in _process_worker\n",
      "    result_queue.put(_ResultItem(call_item.work_id, exception=exc))\n",
      "  File \"/home/ubuntu/PycharmProjects/adds-early-burnout-warning-model/venv/lib/python3.8/site-packages/joblib/externals/loky/backend/queues.py\", line 191, in put\n",
      "    with self._wlock:\n",
      "  File \"/home/ubuntu/PycharmProjects/adds-early-burnout-warning-model/venv/lib/python3.8/site-packages/joblib/externals/loky/backend/synchronize.py\", line 112, in __enter__\n",
      "    return self._semlock.acquire()\n",
      "KeyboardInterrupt\n",
      "Process LokyProcess-36:\n",
      "Traceback (most recent call last):\n",
      "  File \"/home/ubuntu/PycharmProjects/adds-early-burnout-warning-model/venv/lib/python3.8/site-packages/joblib/_parallel_backends.py\", line 620, in __call__\n",
      "    return self.func(*args, **kwargs)\n",
      "  File \"/home/ubuntu/PycharmProjects/adds-early-burnout-warning-model/venv/lib/python3.8/site-packages/joblib/parallel.py\", line 288, in __call__\n",
      "    return [func(*args, **kwargs)\n",
      "  File \"/home/ubuntu/PycharmProjects/adds-early-burnout-warning-model/venv/lib/python3.8/site-packages/joblib/parallel.py\", line 288, in <listcomp>\n",
      "    return [func(*args, **kwargs)\n",
      "  File \"/home/ubuntu/PycharmProjects/adds-early-burnout-warning-model/venv/lib/python3.8/site-packages/sklearn/utils/fixes.py\", line 216, in __call__\n",
      "    return self.function(*args, **kwargs)\n",
      "  File \"/home/ubuntu/PycharmProjects/adds-early-burnout-warning-model/venv/lib/python3.8/site-packages/sklearn/model_selection/_validation.py\", line 680, in _fit_and_score\n",
      "    estimator.fit(X_train, y_train, **fit_params)\n",
      "  File \"/home/ubuntu/PycharmProjects/adds-early-burnout-warning-model/venv/lib/python3.8/site-packages/sksurv/metrics.py\", line 766, in fit\n",
      "    self.estimator_ = self.estimator.fit(X, y, **fit_params)\n",
      "  File \"/home/ubuntu/PycharmProjects/adds-early-burnout-warning-model/venv/lib/python3.8/site-packages/sksurv/ensemble/boosting.py\", line 971, in fit\n",
      "    n_stages = self._fit_stages(X, y, raw_predictions, sample_weight, self._rng,\n",
      "  File \"/home/ubuntu/PycharmProjects/adds-early-burnout-warning-model/venv/lib/python3.8/site-packages/sksurv/ensemble/boosting.py\", line 878, in _fit_stages\n",
      "    raw_predictions = self._fit_stage(\n",
      "  File \"/home/ubuntu/PycharmProjects/adds-early-burnout-warning-model/venv/lib/python3.8/site-packages/sksurv/ensemble/boosting.py\", line 805, in _fit_stage\n",
      "    tree.fit(X, residual, sample_weight=sample_weight,\n",
      "  File \"/home/ubuntu/PycharmProjects/adds-early-burnout-warning-model/venv/lib/python3.8/site-packages/sklearn/tree/_classes.py\", line 1315, in fit\n",
      "    super().fit(\n",
      "  File \"/home/ubuntu/PycharmProjects/adds-early-burnout-warning-model/venv/lib/python3.8/site-packages/sklearn/tree/_classes.py\", line 420, in fit\n",
      "    builder.build(self.tree_, X, y, sample_weight)\n",
      "KeyboardInterrupt\n",
      "\n",
      "The above exception was the direct cause of the following exception:\n",
      "\n",
      "Traceback (most recent call last):\n",
      "  File \"/home/ubuntu/PycharmProjects/adds-early-burnout-warning-model/venv/lib/python3.8/site-packages/joblib/externals/loky/process_executor.py\", line 428, in _process_worker\n",
      "    r = call_item()\n",
      "  File \"/home/ubuntu/PycharmProjects/adds-early-burnout-warning-model/venv/lib/python3.8/site-packages/joblib/externals/loky/process_executor.py\", line 275, in __call__\n",
      "    return self.fn(*self.args, **self.kwargs)\n",
      "  File \"/home/ubuntu/PycharmProjects/adds-early-burnout-warning-model/venv/lib/python3.8/site-packages/joblib/_parallel_backends.py\", line 625, in __call__\n",
      "    raise WorkerInterrupt() from e\n",
      "joblib.my_exceptions.WorkerInterrupt\n",
      "\n",
      "During handling of the above exception, another exception occurred:\n",
      "\n",
      "Traceback (most recent call last):\n",
      "  File \"/usr/lib/python3.8/multiprocessing/process.py\", line 315, in _bootstrap\n",
      "    self.run()\n",
      "  File \"/usr/lib/python3.8/multiprocessing/process.py\", line 108, in run\n",
      "    self._target(*self._args, **self._kwargs)\n",
      "  File \"/home/ubuntu/PycharmProjects/adds-early-burnout-warning-model/venv/lib/python3.8/site-packages/joblib/externals/loky/process_executor.py\", line 431, in _process_worker\n",
      "    result_queue.put(_ResultItem(call_item.work_id, exception=exc))\n",
      "  File \"/home/ubuntu/PycharmProjects/adds-early-burnout-warning-model/venv/lib/python3.8/site-packages/joblib/externals/loky/backend/queues.py\", line 191, in put\n",
      "    with self._wlock:\n",
      "  File \"/home/ubuntu/PycharmProjects/adds-early-burnout-warning-model/venv/lib/python3.8/site-packages/joblib/externals/loky/backend/synchronize.py\", line 112, in __enter__\n",
      "    return self._semlock.acquire()\n",
      "KeyboardInterrupt\n"
     ]
    }
   ],
   "source": [
    "# train a gbm\n",
    "for wk in weeks_range:\n",
    "    start = time.perf_counter()\n",
    "\n",
    "    sv = GradientBoostingSurvivalAnalysis()\n",
    "\n",
    "    X_train = df_train_sets[df_train_sets.index.get_level_values(3) == wk][feature_cols]\n",
    "    drop_cols = X_train.columns[X_train.isna().any()].tolist()\n",
    "    X_train.drop(drop_cols, axis=1, inplace=True)\n",
    "    X_train = pd.get_dummies(X_train, columns=['market_name'])\n",
    "    df_y_temp = df_train_sets[df_train_sets.index.get_level_values(3) == wk][target_cols]\n",
    "    y_train = df_y_temp.to_records(index=False)\n",
    "\n",
    "    # train gbm model\n",
    "    sv_model = RandomizedSearchCV(estimator=as_concordance_index_ipcw_scorer(sv), param_distributions=param_grid_gbm,\n",
    "                                  cv=split_number, verbose=1, n_iter=50, n_jobs=-1)\n",
    "    sv_model.fit(X_train, y_train)\n",
    "    best_estimators_gbm[wk] = sv_model.best_estimator_\n",
    "    stop = time.perf_counter()\n",
    "    print(str(wk) + '_' + 'best_score: ' + f'{sv_model.best_score_}')\n",
    "    print('Elapsed time: '  + str(int((stop-start))))"
   ],
   "metadata": {
    "collapsed": false
   }
  },
  {
   "cell_type": "code",
   "execution_count": 14,
   "outputs": [],
   "source": [
    "# write best estimators to a pickle file\n",
    "with open(file_gbm, 'wb') as file:\n",
    "    pickle.dump(best_estimators_gbm, file)"
   ],
   "metadata": {
    "collapsed": false
   }
  },
  {
   "cell_type": "markdown",
   "source": [
    "#### train a gmb classifier"
   ],
   "metadata": {
    "collapsed": false
   }
  },
  {
   "cell_type": "code",
   "execution_count": 34,
   "outputs": [
    {
     "name": "stdout",
     "output_type": "stream",
     "text": [
      "Fitting 5 folds for each of 10 candidates, totalling 50 fits\n",
      "0_best_score: 0.7429377051303281\n",
      "Elapsed time: 35\n",
      "Fitting 5 folds for each of 10 candidates, totalling 50 fits\n",
      "1_best_score: 0.7603969868928886\n",
      "Elapsed time: 21\n",
      "Fitting 5 folds for each of 10 candidates, totalling 50 fits\n",
      "2_best_score: 0.7769146998411038\n",
      "Elapsed time: 73\n",
      "Fitting 5 folds for each of 10 candidates, totalling 50 fits\n",
      "3_best_score: 0.7892861046057769\n",
      "Elapsed time: 68\n",
      "Fitting 5 folds for each of 10 candidates, totalling 50 fits\n",
      "4_best_score: 0.7987278362286926\n",
      "Elapsed time: 43\n",
      "Fitting 5 folds for each of 10 candidates, totalling 50 fits\n",
      "5_best_score: 0.8012965343587295\n",
      "Elapsed time: 25\n",
      "Fitting 5 folds for each of 10 candidates, totalling 50 fits\n",
      "6_best_score: 0.8072415864621894\n",
      "Elapsed time: 35\n",
      "Fitting 5 folds for each of 10 candidates, totalling 50 fits\n",
      "7_best_score: 0.8179676684881603\n",
      "Elapsed time: 75\n",
      "Fitting 5 folds for each of 10 candidates, totalling 50 fits\n",
      "8_best_score: 0.8207856559285928\n",
      "Elapsed time: 32\n",
      "Fitting 5 folds for each of 10 candidates, totalling 50 fits\n",
      "9_best_score: 0.8216626514809701\n",
      "Elapsed time: 78\n",
      "Fitting 5 folds for each of 10 candidates, totalling 50 fits\n",
      "10_best_score: 0.8333260726072605\n",
      "Elapsed time: 60\n",
      "Fitting 5 folds for each of 10 candidates, totalling 50 fits\n",
      "11_best_score: 0.8380540696002301\n",
      "Elapsed time: 63\n",
      "Fitting 5 folds for each of 10 candidates, totalling 50 fits\n",
      "12_best_score: 0.8293647540983606\n",
      "Elapsed time: 46\n",
      "Fitting 5 folds for each of 10 candidates, totalling 50 fits\n",
      "13_best_score: 0.8390198735320686\n",
      "Elapsed time: 23\n",
      "Fitting 5 folds for each of 10 candidates, totalling 50 fits\n",
      "14_best_score: 0.8173426900584795\n",
      "Elapsed time: 22\n",
      "Fitting 5 folds for each of 10 candidates, totalling 50 fits\n",
      "15_best_score: 0.8253501564945227\n",
      "Elapsed time: 44\n",
      "Fitting 5 folds for each of 10 candidates, totalling 50 fits\n",
      "16_best_score: 0.8377684274294444\n",
      "Elapsed time: 45\n",
      "Fitting 5 folds for each of 10 candidates, totalling 50 fits\n",
      "17_best_score: 0.8328759068877158\n",
      "Elapsed time: 21\n",
      "Fitting 5 folds for each of 10 candidates, totalling 50 fits\n",
      "18_best_score: 0.8324949556093623\n",
      "Elapsed time: 13\n",
      "Fitting 5 folds for each of 10 candidates, totalling 50 fits\n",
      "19_best_score: 0.8303746665984952\n",
      "Elapsed time: 27\n",
      "Fitting 5 folds for each of 10 candidates, totalling 50 fits\n",
      "20_best_score: 0.8396926213086509\n",
      "Elapsed time: 38\n",
      "Fitting 5 folds for each of 10 candidates, totalling 50 fits\n",
      "21_best_score: 0.8408134166523997\n",
      "Elapsed time: 23\n",
      "Fitting 5 folds for each of 10 candidates, totalling 50 fits\n",
      "22_best_score: 0.8465923591015571\n",
      "Elapsed time: 32\n",
      "Fitting 5 folds for each of 10 candidates, totalling 50 fits\n",
      "23_best_score: 0.8507701457032413\n",
      "Elapsed time: 20\n",
      "Fitting 5 folds for each of 10 candidates, totalling 50 fits\n",
      "24_best_score: 0.8533884062099416\n",
      "Elapsed time: 43\n",
      "Fitting 5 folds for each of 10 candidates, totalling 50 fits\n",
      "25_best_score: 0.8653278474399164\n",
      "Elapsed time: 41\n",
      "Fitting 5 folds for each of 10 candidates, totalling 50 fits\n",
      "26_best_score: 0.8568169451218284\n",
      "Elapsed time: 43\n"
     ]
    }
   ],
   "source": [
    "# train a gbm classifier\n",
    "for wk in weeks_range:\n",
    "    start = time.perf_counter()\n",
    "\n",
    "    sv = GradientBoostingClassifier()\n",
    "\n",
    "    X_train = df_train_sets[df_train_sets.index.get_level_values(3) == wk][feature_cols]\n",
    "    drop_cols = X_train.columns[X_train.isna().any()].tolist()\n",
    "    X_train.drop(drop_cols, axis=1, inplace=True)\n",
    "    X_train = pd.get_dummies(X_train, columns=['market_name'])\n",
    "    df_y_temp = df_train_sets[df_train_sets.index.get_level_values(3) == wk][target_cols[0]]\n",
    "    y_train = df_y_temp\n",
    "    # y_train = df_y_temp.to_records(index=False)\n",
    "\n",
    "    # train gbm model\n",
    "    sv_model = RandomizedSearchCV(estimator=sv, param_distributions=param_grid_gbm_clf, scoring='roc_auc',\n",
    "                                  cv=split_number, verbose=1, n_iter=10, n_jobs=-1)\n",
    "    sv_model.fit(X_train, y_train)\n",
    "    best_estimators_gbm[wk] = sv_model.best_estimator_\n",
    "    stop = time.perf_counter()\n",
    "    print(str(wk) + '_' + 'best_score: ' + f'{sv_model.best_score_}')\n",
    "    print('Elapsed time: '  + str(int((stop-start))))"
   ],
   "metadata": {
    "collapsed": false
   }
  },
  {
   "cell_type": "code",
   "execution_count": 33,
   "outputs": [
    {
     "data": {
      "text/plain": "                                                      artist_format_spins_am_pm_dr_13wk_lag2_std  \\\nmediabase_id call_letters week_dt    weeks_since_hit                                               \n2638062      WXXL-FM      2021-01-17 1.0                                             1596.437681   \n2691407      WHTZ-FM      2022-01-02 1.0                                             1156.636115   \n2831030      WKST-FM      2022-11-20 1.0                                             1948.095645   \n2797282      WXKS-FM      2022-05-22 1.0                                             1962.706974   \n2550239      KBKS-FM      2020-08-16 1.0                                             1100.998876   \n...                                                                                          ...   \n2697903      WWPW-FM      2021-08-22 1.0                                             3734.987674   \n2550239      WIOQ-FM      2020-06-07 1.0                                              381.599367   \n2720462      WDCG-FM      2021-09-19 1.0                                             2561.793684   \n2744465      WKFS-FM      2022-06-26 1.0                                              958.197139   \n2522450      KZHT-FM      2020-01-12 1.0                                             1857.735577   \n\n                                                      thumbs_down_count_13wk_lag1_max  \\\nmediabase_id call_letters week_dt    weeks_since_hit                                    \n2638062      WXXL-FM      2021-01-17 1.0                                          0.0   \n2691407      WHTZ-FM      2022-01-02 1.0                                          0.0   \n2831030      WKST-FM      2022-11-20 1.0                                          0.0   \n2797282      WXKS-FM      2022-05-22 1.0                                          0.0   \n2550239      KBKS-FM      2020-08-16 1.0                                        972.0   \n...                                                                               ...   \n2697903      WWPW-FM      2021-08-22 1.0                                          0.0   \n2550239      WIOQ-FM      2020-06-07 1.0                                       1088.0   \n2720462      WDCG-FM      2021-09-19 1.0                                          0.0   \n2744465      WKFS-FM      2022-06-26 1.0                                          0.0   \n2522450      KZHT-FM      2020-01-12 1.0                                       2064.0   \n\n                                                      thumbs_up_count_26wk_lag2_max  \\\nmediabase_id call_letters week_dt    weeks_since_hit                                  \n2638062      WXXL-FM      2021-01-17 1.0                                        0.0   \n2691407      WHTZ-FM      2022-01-02 1.0                                        0.0   \n2831030      WKST-FM      2022-11-20 1.0                                        0.0   \n2797282      WXKS-FM      2022-05-22 1.0                                        0.0   \n2550239      KBKS-FM      2020-08-16 1.0                                     7137.0   \n...                                                                             ...   \n2697903      WWPW-FM      2021-08-22 1.0                                        0.0   \n2550239      WIOQ-FM      2020-06-07 1.0                                     5067.0   \n2720462      WDCG-FM      2021-09-19 1.0                                        0.0   \n2744465      WKFS-FM      2022-06-26 1.0                                        0.0   \n2522450      KZHT-FM      2020-01-12 1.0                                    10674.0   \n\n                                                      song_format_spins_non_on_13wk_lag1_mean  \\\nmediabase_id call_letters week_dt    weeks_since_hit                                            \n2638062      WXXL-FM      2021-01-17 1.0                                         11359.769231   \n2691407      WHTZ-FM      2022-01-02 1.0                                          7063.230769   \n2831030      WKST-FM      2022-11-20 1.0                                          6056.615385   \n2797282      WXKS-FM      2022-05-22 1.0                                          7105.800000   \n2550239      KBKS-FM      2020-08-16 1.0                                          7634.769231   \n...                                                                                       ...   \n2697903      WWPW-FM      2021-08-22 1.0                                         13773.153846   \n2550239      WIOQ-FM      2020-06-07 1.0                                          3326.538462   \n2720462      WDCG-FM      2021-09-19 1.0                                         12386.076923   \n2744465      WKFS-FM      2022-06-26 1.0                                         14879.461538   \n2522450      KZHT-FM      2020-01-12 1.0                                         14433.384615   \n\n                                                      song_market_spins_non_on_4wk_lag2_mean  \\\nmediabase_id call_letters week_dt    weeks_since_hit                                           \n2638062      WXXL-FM      2021-01-17 1.0                                              164.25   \n2691407      WHTZ-FM      2022-01-02 1.0                                               67.75   \n2831030      WKST-FM      2022-11-20 1.0                                              170.50   \n2797282      WXKS-FM      2022-05-22 1.0                                              103.00   \n2550239      KBKS-FM      2020-08-16 1.0                                              195.50   \n...                                                                                      ...   \n2697903      WWPW-FM      2021-08-22 1.0                                              179.75   \n2550239      WIOQ-FM      2020-06-07 1.0                                               80.75   \n2720462      WDCG-FM      2021-09-19 1.0                                              162.00   \n2744465      WKFS-FM      2022-06-26 1.0                                              138.75   \n2522450      KZHT-FM      2020-01-12 1.0                                              400.25   \n\n                                                      market_spins_ddl_sens_26wk_lag1_median  \\\nmediabase_id call_letters week_dt    weeks_since_hit                                           \n2638062      WXXL-FM      2021-01-17 1.0                                            0.526984   \n2691407      WHTZ-FM      2022-01-02 1.0                                           -0.670139   \n2831030      WKST-FM      2022-11-20 1.0                                            0.000000   \n2797282      WXKS-FM      2022-05-22 1.0                                           -0.000000   \n2550239      KBKS-FM      2020-08-16 1.0                                            0.058642   \n...                                                                                      ...   \n2697903      WWPW-FM      2021-08-22 1.0                                            0.198611   \n2550239      WIOQ-FM      2020-06-07 1.0                                            1.376290   \n2720462      WDCG-FM      2021-09-19 1.0                                            0.419872   \n2744465      WKFS-FM      2022-06-26 1.0                                            4.099206   \n2522450      KZHT-FM      2020-01-12 1.0                                           -0.328383   \n\n                                                      completed_count_8wk_lag1_min  \\\nmediabase_id call_letters week_dt    weeks_since_hit                                 \n2638062      WXXL-FM      2021-01-17 1.0                                       6.0   \n2691407      WHTZ-FM      2022-01-02 1.0                                       6.0   \n2831030      WKST-FM      2022-11-20 1.0                                       6.0   \n2797282      WXKS-FM      2022-05-22 1.0                                       6.0   \n2550239      KBKS-FM      2020-08-16 1.0                                  232641.0   \n...                                                                            ...   \n2697903      WWPW-FM      2021-08-22 1.0                                       6.0   \n2550239      WIOQ-FM      2020-06-07 1.0                                  204808.0   \n2720462      WDCG-FM      2021-09-19 1.0                                       6.0   \n2744465      WKFS-FM      2022-06-26 1.0                                       6.0   \n2522450      KZHT-FM      2020-01-12 1.0                                  179673.0   \n\n                                                      song_format_spins_am_pm_dr_1wk_lag2_mean  \\\nmediabase_id call_letters week_dt    weeks_since_hit                                             \n2638062      WXXL-FM      2021-01-17 1.0                                                7588.0   \n2691407      WHTZ-FM      2022-01-02 1.0                                                6559.0   \n2831030      WKST-FM      2022-11-20 1.0                                                7030.0   \n2797282      WXKS-FM      2022-05-22 1.0                                                5915.0   \n2550239      KBKS-FM      2020-08-16 1.0                                                7640.0   \n...                                                                                        ...   \n2697903      WWPW-FM      2021-08-22 1.0                                               10583.0   \n2550239      WIOQ-FM      2020-06-07 1.0                                                3649.0   \n2720462      WDCG-FM      2021-09-19 1.0                                               10756.0   \n2744465      WKFS-FM      2022-06-26 1.0                                                9031.0   \n2522450      KZHT-FM      2020-01-12 1.0                                               11115.0   \n\n                                                      artist_format_spins_am_pm_dr_26wk_lag2_std  \\\nmediabase_id call_letters week_dt    weeks_since_hit                                               \n2638062      WXXL-FM      2021-01-17 1.0                                             2240.410293   \n2691407      WHTZ-FM      2022-01-02 1.0                                             1657.672376   \n2831030      WKST-FM      2022-11-20 1.0                                             2015.214139   \n2797282      WXKS-FM      2022-05-22 1.0                                             1962.706974   \n2550239      KBKS-FM      2020-08-16 1.0                                             1229.682976   \n...                                                                                          ...   \n2697903      WWPW-FM      2021-08-22 1.0                                             4859.487387   \n2550239      WIOQ-FM      2020-06-07 1.0                                             1099.133665   \n2720462      WDCG-FM      2021-09-19 1.0                                             2561.793684   \n2744465      WKFS-FM      2022-06-26 1.0                                             4310.519814   \n2522450      KZHT-FM      2020-01-12 1.0                                             2570.007622   \n\n                                                      thumbs_up_count_8wk_lag2_mean  \\\nmediabase_id call_letters week_dt    weeks_since_hit                                  \n2638062      WXXL-FM      2021-01-17 1.0                                      0.000   \n2691407      WHTZ-FM      2022-01-02 1.0                                      0.000   \n2831030      WKST-FM      2022-11-20 1.0                                      0.000   \n2797282      WXKS-FM      2022-05-22 1.0                                      0.000   \n2550239      KBKS-FM      2020-08-16 1.0                                   6472.125   \n...                                                                             ...   \n2697903      WWPW-FM      2021-08-22 1.0                                      0.000   \n2550239      WIOQ-FM      2020-06-07 1.0                                   4706.000   \n2720462      WDCG-FM      2021-09-19 1.0                                      0.000   \n2744465      WKFS-FM      2022-06-26 1.0                                      0.000   \n2522450      KZHT-FM      2020-01-12 1.0                                   5104.375   \n\n                                                      ...  \\\nmediabase_id call_letters week_dt    weeks_since_hit  ...   \n2638062      WXXL-FM      2021-01-17 1.0              ...   \n2691407      WHTZ-FM      2022-01-02 1.0              ...   \n2831030      WKST-FM      2022-11-20 1.0              ...   \n2797282      WXKS-FM      2022-05-22 1.0              ...   \n2550239      KBKS-FM      2020-08-16 1.0              ...   \n...                                                   ...   \n2697903      WWPW-FM      2021-08-22 1.0              ...   \n2550239      WIOQ-FM      2020-06-07 1.0              ...   \n2720462      WDCG-FM      2021-09-19 1.0              ...   \n2744465      WKFS-FM      2022-06-26 1.0              ...   \n2522450      KZHT-FM      2020-01-12 1.0              ...   \n\n                                                      market_name_Pittsburgh  \\\nmediabase_id call_letters week_dt    weeks_since_hit                           \n2638062      WXXL-FM      2021-01-17 1.0                                   0   \n2691407      WHTZ-FM      2022-01-02 1.0                                   0   \n2831030      WKST-FM      2022-11-20 1.0                                   1   \n2797282      WXKS-FM      2022-05-22 1.0                                   0   \n2550239      KBKS-FM      2020-08-16 1.0                                   0   \n...                                                                      ...   \n2697903      WWPW-FM      2021-08-22 1.0                                   0   \n2550239      WIOQ-FM      2020-06-07 1.0                                   0   \n2720462      WDCG-FM      2021-09-19 1.0                                   0   \n2744465      WKFS-FM      2022-06-26 1.0                                   0   \n2522450      KZHT-FM      2020-01-12 1.0                                   0   \n\n                                                      market_name_Portland, OR  \\\nmediabase_id call_letters week_dt    weeks_since_hit                             \n2638062      WXXL-FM      2021-01-17 1.0                                     0   \n2691407      WHTZ-FM      2022-01-02 1.0                                     0   \n2831030      WKST-FM      2022-11-20 1.0                                     0   \n2797282      WXKS-FM      2022-05-22 1.0                                     0   \n2550239      KBKS-FM      2020-08-16 1.0                                     0   \n...                                                                        ...   \n2697903      WWPW-FM      2021-08-22 1.0                                     0   \n2550239      WIOQ-FM      2020-06-07 1.0                                     0   \n2720462      WDCG-FM      2021-09-19 1.0                                     0   \n2744465      WKFS-FM      2022-06-26 1.0                                     0   \n2522450      KZHT-FM      2020-01-12 1.0                                     0   \n\n                                                      market_name_Raleigh  \\\nmediabase_id call_letters week_dt    weeks_since_hit                        \n2638062      WXXL-FM      2021-01-17 1.0                                0   \n2691407      WHTZ-FM      2022-01-02 1.0                                0   \n2831030      WKST-FM      2022-11-20 1.0                                0   \n2797282      WXKS-FM      2022-05-22 1.0                                0   \n2550239      KBKS-FM      2020-08-16 1.0                                0   \n...                                                                   ...   \n2697903      WWPW-FM      2021-08-22 1.0                                0   \n2550239      WIOQ-FM      2020-06-07 1.0                                0   \n2720462      WDCG-FM      2021-09-19 1.0                                1   \n2744465      WKFS-FM      2022-06-26 1.0                                0   \n2522450      KZHT-FM      2020-01-12 1.0                                0   \n\n                                                      market_name_Salt Lake City  \\\nmediabase_id call_letters week_dt    weeks_since_hit                               \n2638062      WXXL-FM      2021-01-17 1.0                                       0   \n2691407      WHTZ-FM      2022-01-02 1.0                                       0   \n2831030      WKST-FM      2022-11-20 1.0                                       0   \n2797282      WXKS-FM      2022-05-22 1.0                                       0   \n2550239      KBKS-FM      2020-08-16 1.0                                       0   \n...                                                                          ...   \n2697903      WWPW-FM      2021-08-22 1.0                                       0   \n2550239      WIOQ-FM      2020-06-07 1.0                                       0   \n2720462      WDCG-FM      2021-09-19 1.0                                       0   \n2744465      WKFS-FM      2022-06-26 1.0                                       0   \n2522450      KZHT-FM      2020-01-12 1.0                                       1   \n\n                                                      market_name_San Diego  \\\nmediabase_id call_letters week_dt    weeks_since_hit                          \n2638062      WXXL-FM      2021-01-17 1.0                                  0   \n2691407      WHTZ-FM      2022-01-02 1.0                                  0   \n2831030      WKST-FM      2022-11-20 1.0                                  0   \n2797282      WXKS-FM      2022-05-22 1.0                                  0   \n2550239      KBKS-FM      2020-08-16 1.0                                  0   \n...                                                                     ...   \n2697903      WWPW-FM      2021-08-22 1.0                                  0   \n2550239      WIOQ-FM      2020-06-07 1.0                                  0   \n2720462      WDCG-FM      2021-09-19 1.0                                  0   \n2744465      WKFS-FM      2022-06-26 1.0                                  0   \n2522450      KZHT-FM      2020-01-12 1.0                                  0   \n\n                                                      market_name_San Francisco  \\\nmediabase_id call_letters week_dt    weeks_since_hit                              \n2638062      WXXL-FM      2021-01-17 1.0                                      0   \n2691407      WHTZ-FM      2022-01-02 1.0                                      0   \n2831030      WKST-FM      2022-11-20 1.0                                      0   \n2797282      WXKS-FM      2022-05-22 1.0                                      0   \n2550239      KBKS-FM      2020-08-16 1.0                                      0   \n...                                                                         ...   \n2697903      WWPW-FM      2021-08-22 1.0                                      0   \n2550239      WIOQ-FM      2020-06-07 1.0                                      0   \n2720462      WDCG-FM      2021-09-19 1.0                                      0   \n2744465      WKFS-FM      2022-06-26 1.0                                      0   \n2522450      KZHT-FM      2020-01-12 1.0                                      0   \n\n                                                      market_name_Seattle  \\\nmediabase_id call_letters week_dt    weeks_since_hit                        \n2638062      WXXL-FM      2021-01-17 1.0                                0   \n2691407      WHTZ-FM      2022-01-02 1.0                                0   \n2831030      WKST-FM      2022-11-20 1.0                                0   \n2797282      WXKS-FM      2022-05-22 1.0                                0   \n2550239      KBKS-FM      2020-08-16 1.0                                1   \n...                                                                   ...   \n2697903      WWPW-FM      2021-08-22 1.0                                0   \n2550239      WIOQ-FM      2020-06-07 1.0                                0   \n2720462      WDCG-FM      2021-09-19 1.0                                0   \n2744465      WKFS-FM      2022-06-26 1.0                                0   \n2522450      KZHT-FM      2020-01-12 1.0                                0   \n\n                                                      market_name_St. Louis  \\\nmediabase_id call_letters week_dt    weeks_since_hit                          \n2638062      WXXL-FM      2021-01-17 1.0                                  0   \n2691407      WHTZ-FM      2022-01-02 1.0                                  0   \n2831030      WKST-FM      2022-11-20 1.0                                  0   \n2797282      WXKS-FM      2022-05-22 1.0                                  0   \n2550239      KBKS-FM      2020-08-16 1.0                                  0   \n...                                                                     ...   \n2697903      WWPW-FM      2021-08-22 1.0                                  0   \n2550239      WIOQ-FM      2020-06-07 1.0                                  0   \n2720462      WDCG-FM      2021-09-19 1.0                                  0   \n2744465      WKFS-FM      2022-06-26 1.0                                  0   \n2522450      KZHT-FM      2020-01-12 1.0                                  0   \n\n                                                      market_name_Tampa  \\\nmediabase_id call_letters week_dt    weeks_since_hit                      \n2638062      WXXL-FM      2021-01-17 1.0                              0   \n2691407      WHTZ-FM      2022-01-02 1.0                              0   \n2831030      WKST-FM      2022-11-20 1.0                              0   \n2797282      WXKS-FM      2022-05-22 1.0                              0   \n2550239      KBKS-FM      2020-08-16 1.0                              0   \n...                                                                 ...   \n2697903      WWPW-FM      2021-08-22 1.0                              0   \n2550239      WIOQ-FM      2020-06-07 1.0                              0   \n2720462      WDCG-FM      2021-09-19 1.0                              0   \n2744465      WKFS-FM      2022-06-26 1.0                              0   \n2522450      KZHT-FM      2020-01-12 1.0                              0   \n\n                                                      market_name_Washington, DC  \nmediabase_id call_letters week_dt    weeks_since_hit                              \n2638062      WXXL-FM      2021-01-17 1.0                                       0  \n2691407      WHTZ-FM      2022-01-02 1.0                                       0  \n2831030      WKST-FM      2022-11-20 1.0                                       0  \n2797282      WXKS-FM      2022-05-22 1.0                                       0  \n2550239      KBKS-FM      2020-08-16 1.0                                       0  \n...                                                                          ...  \n2697903      WWPW-FM      2021-08-22 1.0                                       0  \n2550239      WIOQ-FM      2020-06-07 1.0                                       0  \n2720462      WDCG-FM      2021-09-19 1.0                                       0  \n2744465      WKFS-FM      2022-06-26 1.0                                       0  \n2522450      KZHT-FM      2020-01-12 1.0                                       0  \n\n[1021 rows x 1067 columns]",
      "text/html": "<div>\n<style scoped>\n    .dataframe tbody tr th:only-of-type {\n        vertical-align: middle;\n    }\n\n    .dataframe tbody tr th {\n        vertical-align: top;\n    }\n\n    .dataframe thead th {\n        text-align: right;\n    }\n</style>\n<table border=\"1\" class=\"dataframe\">\n  <thead>\n    <tr style=\"text-align: right;\">\n      <th></th>\n      <th></th>\n      <th></th>\n      <th></th>\n      <th>artist_format_spins_am_pm_dr_13wk_lag2_std</th>\n      <th>thumbs_down_count_13wk_lag1_max</th>\n      <th>thumbs_up_count_26wk_lag2_max</th>\n      <th>song_format_spins_non_on_13wk_lag1_mean</th>\n      <th>song_market_spins_non_on_4wk_lag2_mean</th>\n      <th>market_spins_ddl_sens_26wk_lag1_median</th>\n      <th>completed_count_8wk_lag1_min</th>\n      <th>song_format_spins_am_pm_dr_1wk_lag2_mean</th>\n      <th>artist_format_spins_am_pm_dr_26wk_lag2_std</th>\n      <th>thumbs_up_count_8wk_lag2_mean</th>\n      <th>...</th>\n      <th>market_name_Pittsburgh</th>\n      <th>market_name_Portland, OR</th>\n      <th>market_name_Raleigh</th>\n      <th>market_name_Salt Lake City</th>\n      <th>market_name_San Diego</th>\n      <th>market_name_San Francisco</th>\n      <th>market_name_Seattle</th>\n      <th>market_name_St. Louis</th>\n      <th>market_name_Tampa</th>\n      <th>market_name_Washington, DC</th>\n    </tr>\n    <tr>\n      <th>mediabase_id</th>\n      <th>call_letters</th>\n      <th>week_dt</th>\n      <th>weeks_since_hit</th>\n      <th></th>\n      <th></th>\n      <th></th>\n      <th></th>\n      <th></th>\n      <th></th>\n      <th></th>\n      <th></th>\n      <th></th>\n      <th></th>\n      <th></th>\n      <th></th>\n      <th></th>\n      <th></th>\n      <th></th>\n      <th></th>\n      <th></th>\n      <th></th>\n      <th></th>\n      <th></th>\n      <th></th>\n    </tr>\n  </thead>\n  <tbody>\n    <tr>\n      <th>2638062</th>\n      <th>WXXL-FM</th>\n      <th>2021-01-17</th>\n      <th>1.0</th>\n      <td>1596.437681</td>\n      <td>0.0</td>\n      <td>0.0</td>\n      <td>11359.769231</td>\n      <td>164.25</td>\n      <td>0.526984</td>\n      <td>6.0</td>\n      <td>7588.0</td>\n      <td>2240.410293</td>\n      <td>0.000</td>\n      <td>...</td>\n      <td>0</td>\n      <td>0</td>\n      <td>0</td>\n      <td>0</td>\n      <td>0</td>\n      <td>0</td>\n      <td>0</td>\n      <td>0</td>\n      <td>0</td>\n      <td>0</td>\n    </tr>\n    <tr>\n      <th>2691407</th>\n      <th>WHTZ-FM</th>\n      <th>2022-01-02</th>\n      <th>1.0</th>\n      <td>1156.636115</td>\n      <td>0.0</td>\n      <td>0.0</td>\n      <td>7063.230769</td>\n      <td>67.75</td>\n      <td>-0.670139</td>\n      <td>6.0</td>\n      <td>6559.0</td>\n      <td>1657.672376</td>\n      <td>0.000</td>\n      <td>...</td>\n      <td>0</td>\n      <td>0</td>\n      <td>0</td>\n      <td>0</td>\n      <td>0</td>\n      <td>0</td>\n      <td>0</td>\n      <td>0</td>\n      <td>0</td>\n      <td>0</td>\n    </tr>\n    <tr>\n      <th>2831030</th>\n      <th>WKST-FM</th>\n      <th>2022-11-20</th>\n      <th>1.0</th>\n      <td>1948.095645</td>\n      <td>0.0</td>\n      <td>0.0</td>\n      <td>6056.615385</td>\n      <td>170.50</td>\n      <td>0.000000</td>\n      <td>6.0</td>\n      <td>7030.0</td>\n      <td>2015.214139</td>\n      <td>0.000</td>\n      <td>...</td>\n      <td>1</td>\n      <td>0</td>\n      <td>0</td>\n      <td>0</td>\n      <td>0</td>\n      <td>0</td>\n      <td>0</td>\n      <td>0</td>\n      <td>0</td>\n      <td>0</td>\n    </tr>\n    <tr>\n      <th>2797282</th>\n      <th>WXKS-FM</th>\n      <th>2022-05-22</th>\n      <th>1.0</th>\n      <td>1962.706974</td>\n      <td>0.0</td>\n      <td>0.0</td>\n      <td>7105.800000</td>\n      <td>103.00</td>\n      <td>-0.000000</td>\n      <td>6.0</td>\n      <td>5915.0</td>\n      <td>1962.706974</td>\n      <td>0.000</td>\n      <td>...</td>\n      <td>0</td>\n      <td>0</td>\n      <td>0</td>\n      <td>0</td>\n      <td>0</td>\n      <td>0</td>\n      <td>0</td>\n      <td>0</td>\n      <td>0</td>\n      <td>0</td>\n    </tr>\n    <tr>\n      <th>2550239</th>\n      <th>KBKS-FM</th>\n      <th>2020-08-16</th>\n      <th>1.0</th>\n      <td>1100.998876</td>\n      <td>972.0</td>\n      <td>7137.0</td>\n      <td>7634.769231</td>\n      <td>195.50</td>\n      <td>0.058642</td>\n      <td>232641.0</td>\n      <td>7640.0</td>\n      <td>1229.682976</td>\n      <td>6472.125</td>\n      <td>...</td>\n      <td>0</td>\n      <td>0</td>\n      <td>0</td>\n      <td>0</td>\n      <td>0</td>\n      <td>0</td>\n      <td>1</td>\n      <td>0</td>\n      <td>0</td>\n      <td>0</td>\n    </tr>\n    <tr>\n      <th>...</th>\n      <th>...</th>\n      <th>...</th>\n      <th>...</th>\n      <td>...</td>\n      <td>...</td>\n      <td>...</td>\n      <td>...</td>\n      <td>...</td>\n      <td>...</td>\n      <td>...</td>\n      <td>...</td>\n      <td>...</td>\n      <td>...</td>\n      <td>...</td>\n      <td>...</td>\n      <td>...</td>\n      <td>...</td>\n      <td>...</td>\n      <td>...</td>\n      <td>...</td>\n      <td>...</td>\n      <td>...</td>\n      <td>...</td>\n      <td>...</td>\n    </tr>\n    <tr>\n      <th>2697903</th>\n      <th>WWPW-FM</th>\n      <th>2021-08-22</th>\n      <th>1.0</th>\n      <td>3734.987674</td>\n      <td>0.0</td>\n      <td>0.0</td>\n      <td>13773.153846</td>\n      <td>179.75</td>\n      <td>0.198611</td>\n      <td>6.0</td>\n      <td>10583.0</td>\n      <td>4859.487387</td>\n      <td>0.000</td>\n      <td>...</td>\n      <td>0</td>\n      <td>0</td>\n      <td>0</td>\n      <td>0</td>\n      <td>0</td>\n      <td>0</td>\n      <td>0</td>\n      <td>0</td>\n      <td>0</td>\n      <td>0</td>\n    </tr>\n    <tr>\n      <th>2550239</th>\n      <th>WIOQ-FM</th>\n      <th>2020-06-07</th>\n      <th>1.0</th>\n      <td>381.599367</td>\n      <td>1088.0</td>\n      <td>5067.0</td>\n      <td>3326.538462</td>\n      <td>80.75</td>\n      <td>1.376290</td>\n      <td>204808.0</td>\n      <td>3649.0</td>\n      <td>1099.133665</td>\n      <td>4706.000</td>\n      <td>...</td>\n      <td>0</td>\n      <td>0</td>\n      <td>0</td>\n      <td>0</td>\n      <td>0</td>\n      <td>0</td>\n      <td>0</td>\n      <td>0</td>\n      <td>0</td>\n      <td>0</td>\n    </tr>\n    <tr>\n      <th>2720462</th>\n      <th>WDCG-FM</th>\n      <th>2021-09-19</th>\n      <th>1.0</th>\n      <td>2561.793684</td>\n      <td>0.0</td>\n      <td>0.0</td>\n      <td>12386.076923</td>\n      <td>162.00</td>\n      <td>0.419872</td>\n      <td>6.0</td>\n      <td>10756.0</td>\n      <td>2561.793684</td>\n      <td>0.000</td>\n      <td>...</td>\n      <td>0</td>\n      <td>0</td>\n      <td>1</td>\n      <td>0</td>\n      <td>0</td>\n      <td>0</td>\n      <td>0</td>\n      <td>0</td>\n      <td>0</td>\n      <td>0</td>\n    </tr>\n    <tr>\n      <th>2744465</th>\n      <th>WKFS-FM</th>\n      <th>2022-06-26</th>\n      <th>1.0</th>\n      <td>958.197139</td>\n      <td>0.0</td>\n      <td>0.0</td>\n      <td>14879.461538</td>\n      <td>138.75</td>\n      <td>4.099206</td>\n      <td>6.0</td>\n      <td>9031.0</td>\n      <td>4310.519814</td>\n      <td>0.000</td>\n      <td>...</td>\n      <td>0</td>\n      <td>0</td>\n      <td>0</td>\n      <td>0</td>\n      <td>0</td>\n      <td>0</td>\n      <td>0</td>\n      <td>0</td>\n      <td>0</td>\n      <td>0</td>\n    </tr>\n    <tr>\n      <th>2522450</th>\n      <th>KZHT-FM</th>\n      <th>2020-01-12</th>\n      <th>1.0</th>\n      <td>1857.735577</td>\n      <td>2064.0</td>\n      <td>10674.0</td>\n      <td>14433.384615</td>\n      <td>400.25</td>\n      <td>-0.328383</td>\n      <td>179673.0</td>\n      <td>11115.0</td>\n      <td>2570.007622</td>\n      <td>5104.375</td>\n      <td>...</td>\n      <td>0</td>\n      <td>0</td>\n      <td>0</td>\n      <td>1</td>\n      <td>0</td>\n      <td>0</td>\n      <td>0</td>\n      <td>0</td>\n      <td>0</td>\n      <td>0</td>\n    </tr>\n  </tbody>\n</table>\n<p>1021 rows × 1067 columns</p>\n</div>"
     },
     "execution_count": 33,
     "metadata": {},
     "output_type": "execute_result"
    }
   ],
   "source": [
    "X_train"
   ],
   "metadata": {
    "collapsed": false
   }
  },
  {
   "cell_type": "markdown",
   "source": [
    "#### train a RandomSurvivalForest"
   ],
   "metadata": {
    "collapsed": false
   }
  },
  {
   "cell_type": "code",
   "execution_count": null,
   "outputs": [],
   "source": [
    "# train a gbm\n",
    "for wk in weeks_range:\n",
    "    start = time.perf_counter()\n",
    "\n",
    "    sv = RandomSurvivalForest()\n",
    "\n",
    "    X_train = df_train_sets[df_train_sets.index.get_level_values(3) == wk][feature_cols]\n",
    "    X_train = pd.get_dummies(X_train, columns=['market_name'])\n",
    "    df_y_temp = df_train_sets[df_train_sets.index.get_level_values(3) == wk][target_cols]\n",
    "    y_train = df_y_temp.to_records(index=False)\n",
    "\n",
    "    # train rsf model\n",
    "    sv_model = RandomizedSearchCV(estimator=as_concordance_index_ipcw_scorer(sv), param_distributions=param_grid_rsf,\n",
    "                                  cv=split_number, verbose=1, n_iter=50, n_jobs=-1)\n",
    "    sv_model.fit(X_train, y_train)\n",
    "    best_estimators_rsf[wk] = sv_model.best_estimator_\n",
    "    stop = time.perf_counter()\n",
    "    print(str(wk) + '_' + 'best_score: ' + f'{sv_model.best_score_}')\n",
    "    print('Elapsed time: '  + str(int((stop-start))))"
   ],
   "metadata": {
    "collapsed": false,
    "pycharm": {
     "is_executing": true
    }
   }
  },
  {
   "cell_type": "code",
   "execution_count": null,
   "outputs": [],
   "source": [
    "# write best estimators to a pickle file\n",
    "with open(file_rsf, 'wb') as file:\n",
    "    pickle.dump(best_estimators_rsf, file)"
   ],
   "metadata": {
    "collapsed": false
   }
  }
 ],
 "metadata": {
  "kernelspec": {
   "display_name": "Python 3",
   "language": "python",
   "name": "python3"
  },
  "language_info": {
   "codemirror_mode": {
    "name": "ipython",
    "version": 2
   },
   "file_extension": ".py",
   "mimetype": "text/x-python",
   "name": "python",
   "nbconvert_exporter": "python",
   "pygments_lexer": "ipython2",
   "version": "2.7.6"
  }
 },
 "nbformat": 4,
 "nbformat_minor": 0
}
