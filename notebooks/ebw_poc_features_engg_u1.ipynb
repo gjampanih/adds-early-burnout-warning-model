{
 "cells": [
  {
   "cell_type": "code",
   "execution_count": 1,
   "outputs": [],
   "source": [
    "import numpy as np\n",
    "import pandas as pd\n",
    "\n",
    "pd.options.mode.chained_assignment = None  # default='warn'\n",
    "import seaborn as sns\n",
    "\n",
    "sns.set_theme()"
   ],
   "metadata": {
    "collapsed": false,
    "pycharm": {
     "name": "#%%\n"
    }
   }
  },
  {
   "cell_type": "markdown",
   "source": [
    "#### setup db connection"
   ],
   "metadata": {
    "collapsed": false
   }
  },
  {
   "cell_type": "code",
   "execution_count": 2,
   "outputs": [],
   "source": [
    "from sqlalchemy import create_engine\n",
    "\n",
    "\n",
    "def postgresql_engine(user, pwd, host, port, dbname):\n",
    "    # Need psycopg2-binary package\n",
    "    sql_engine = create_engine('postgres://' + user + ':' + pwd + '@' + host + ':' + port + '/' + dbname, echo=False)\n",
    "    return sql_engine"
   ],
   "metadata": {
    "collapsed": false,
    "pycharm": {
     "name": "#%%\n"
    }
   }
  },
  {
   "cell_type": "code",
   "execution_count": 3,
   "outputs": [],
   "source": [
    "# DB username & password\n",
    "import getpass\n",
    "\n",
    "username = getpass.getpass()\n",
    "password = getpass.getpass()"
   ],
   "metadata": {
    "collapsed": false,
    "pycharm": {
     "name": "#%%\n"
    }
   }
  },
  {
   "cell_type": "code",
   "execution_count": 4,
   "outputs": [],
   "source": [
    "# misc db parameters\n",
    "url = 'adds-postgres-dev.cfgztrijqgvp.us-east-1.rds.amazonaws.com'\n",
    "database = 'musiclab'\n",
    "port = '5432'"
   ],
   "metadata": {
    "collapsed": false,
    "pycharm": {
     "name": "#%%\n"
    }
   }
  },
  {
   "cell_type": "code",
   "execution_count": 5,
   "outputs": [],
   "source": [
    "# create DB engine\n",
    "engine = postgresql_engine(username, password, url, port, database)"
   ],
   "metadata": {
    "collapsed": false,
    "pycharm": {
     "name": "#%%\n"
    }
   }
  },
  {
   "cell_type": "markdown",
   "source": [
    "#### read in raw features from postgres DB"
   ],
   "metadata": {
    "collapsed": false
   }
  },
  {
   "cell_type": "code",
   "execution_count": 6,
   "outputs": [],
   "source": [
    "# read raw features table\n",
    "query_raw_features = '''\n",
    "Select *\n",
    "from adds_temp.ebw_raw_features_u1 as eh\n",
    "--where extract (year from eh.song_release_date) >= 2020\n",
    "'''\n",
    "\n",
    "with engine.connect() as conn:\n",
    "    with conn.begin():\n",
    "        df_raw_features = pd.read_sql(query_raw_features, con=conn)"
   ],
   "metadata": {
    "collapsed": false,
    "pycharm": {
     "name": "#%%\n"
    }
   }
  },
  {
   "cell_type": "code",
   "execution_count": 6,
   "outputs": [
    {
     "ename": "NameError",
     "evalue": "name 'df_raw_features' is not defined",
     "output_type": "error",
     "traceback": [
      "\u001B[0;31m---------------------------------------------------------------------------\u001B[0m",
      "\u001B[0;31mNameError\u001B[0m                                 Traceback (most recent call last)",
      "\u001B[0;32m/var/folders/kt/bsj56gs152d_8fz3jclnl1440000gq/T/ipykernel_20454/263866116.py\u001B[0m in \u001B[0;36m<module>\u001B[0;34m\u001B[0m\n\u001B[1;32m      1\u001B[0m \u001B[0;31m# write to pickle file\u001B[0m\u001B[0;34m\u001B[0m\u001B[0;34m\u001B[0m\u001B[0;34m\u001B[0m\u001B[0m\n\u001B[0;32m----> 2\u001B[0;31m \u001B[0mdf_raw_features\u001B[0m\u001B[0;34m.\u001B[0m\u001B[0mto_pickle\u001B[0m\u001B[0;34m(\u001B[0m\u001B[0;34m'ebw_df_raw_features_h1_from_psql.pkl'\u001B[0m\u001B[0;34m)\u001B[0m\u001B[0;34m\u001B[0m\u001B[0;34m\u001B[0m\u001B[0m\n\u001B[0m",
      "\u001B[0;31mNameError\u001B[0m: name 'df_raw_features' is not defined"
     ]
    }
   ],
   "source": [
    "# write to pickle file\n",
    "# df_raw_features.to_pickle('ebw_df_raw_features_h1_from_psql.pkl')"
   ],
   "metadata": {
    "collapsed": false,
    "pycharm": {
     "name": "#%%\n"
    }
   }
  },
  {
   "cell_type": "code",
   "execution_count": 7,
   "outputs": [],
   "source": [
    "# read in pickle file\n",
    "# df_raw_features = pd.read_pickle('ebw_df_raw_features_h1_from_psql.pkl')"
   ],
   "metadata": {
    "collapsed": false,
    "pycharm": {
     "name": "#%%\n"
    }
   }
  },
  {
   "cell_type": "code",
   "execution_count": 8,
   "outputs": [],
   "source": [
    "# explicit cast for date related fields\n",
    "date_cols = ['week_dt', 'song_release_date', 'hit_tag_date', 'first_spin_date', 'last_spin_date', 'ftq_date',\n",
    "             'last_callout_date', 'first_callout_date']\n",
    "\n",
    "df_raw_features[date_cols] = df_raw_features[date_cols].apply(pd.to_datetime)"
   ],
   "metadata": {
    "collapsed": false,
    "pycharm": {
     "name": "#%%\n"
    }
   }
  },
  {
   "cell_type": "code",
   "execution_count": 11,
   "outputs": [],
   "source": [
    "# sort data\n",
    "df_raw_features.sort_values(by=['mediabase_id', 'call_letters', 'week_dt'], inplace=True)"
   ],
   "metadata": {
    "collapsed": false,
    "pycharm": {
     "name": "#%%\n"
    }
   }
  },
  {
   "cell_type": "markdown",
   "source": [
    "#### calculated fields"
   ],
   "metadata": {
    "collapsed": false
   }
  },
  {
   "cell_type": "code",
   "execution_count": 9,
   "outputs": [],
   "source": [
    "# Define a dictionary of computed columns to create\n",
    "computed_cols = {\n",
    "    'cuml_song_station_spins_non_on': lambda df: df.groupby(['mediabase_id', 'call_letters'])['song_station_spins_non_on'].cumsum(),\n",
    "    'weeks_since_first_spins': lambda df: (df['week_dt'] - df['first_spin_date']) / np.timedelta64(1, 'W'),\n",
    "    'weeks_since_release': lambda df: np.round((df['week_dt'] - df['song_release_date']) / np.timedelta64(1, 'W')),\n",
    "    'weeks_since_hit': lambda df: (df['week_dt'] - df['hit_tag_date']) / np.timedelta64(1, 'W'),\n",
    "    'weeks_bw_ftq_first_spins': lambda df: (df['ftq_date'] - df['first_spin_date']) / np.timedelta64(1, 'W'),\n",
    "    'weeks_bw_top_quintiles': lambda df: (df['hit_tag_date'] - df['ftq_date']) / np.timedelta64(1, 'W'),\n",
    "    'weeks_bw_ddl_thresh_cross': lambda df: (df['ddl_over_thresh_dt_second'] - df['ddl_over_thresh_dt_first']) / np.timedelta64(1, 'W'),\n",
    "    'market_spins_propn': lambda df: df['song_station_spins_non_on'] / df['song_market_spins_non_on'],\n",
    "    'artist_spins_propn': lambda df: df['song_station_spins_non_on'] / df['artist_station_spins_non_on']\n",
    "}\n",
    "\n",
    "# Use assign with a dictionary comprehension to create the computed columns\n",
    "df_raw_features = df_raw_features.assign(**{col_name: func(df_raw_features) for col_name, func in computed_cols.items()})"
   ],
   "metadata": {
    "collapsed": false,
    "pycharm": {
     "name": "#%%\n"
    }
   }
  },
  {
   "cell_type": "code",
   "execution_count": 10,
   "outputs": [],
   "source": [
    "# Define a sub-dataframe containing only the rows where week_dt equals hit_tag_date\n",
    "mask = df_raw_features['week_dt'] == df_raw_features['hit_tag_date']\n",
    "sub_df = df_raw_features.loc[mask, ['mediabase_id', 'call_letters', 'week_dt', 'cuml_song_station_spins_non_on']]\n",
    "sub_df = sub_df.set_index(['mediabase_id', 'call_letters'])\n",
    "\n",
    "# Join the sub-dataframe back onto the original dataframe\n",
    "df_raw_features = df_raw_features.join(sub_df, on=['mediabase_id', 'call_letters'], rsuffix='_at_hit', how='left')"
   ],
   "metadata": {
    "collapsed": false,
    "pycharm": {
     "name": "#%%\n"
    }
   }
  },
  {
   "cell_type": "code",
   "execution_count": 11,
   "outputs": [],
   "source": [
    "# Define a sub-dataframe containing only the rows where week_dt equals ftq_date\n",
    "mask = df_raw_features['week_dt'] == df_raw_features['ftq_date']\n",
    "sub_df = df_raw_features.loc[mask, ['mediabase_id', 'call_letters', 'week_dt', 'cuml_song_station_spins_non_on']]\n",
    "sub_df = sub_df.set_index(['mediabase_id', 'call_letters'])\n",
    "\n",
    "# Join the sub-dataframe back onto the original dataframe\n",
    "df_raw_features = df_raw_features.join(sub_df, on=['mediabase_id', 'call_letters'], rsuffix='_at_ftq', how='left')"
   ],
   "metadata": {
    "collapsed": false,
    "pycharm": {
     "name": "#%%\n"
    }
   }
  },
  {
   "cell_type": "code",
   "execution_count": 12,
   "outputs": [],
   "source": [
    "# Filter rows where week_dt equals ddl_over_thresh_dt_first\n",
    "mask = df_raw_features['week_dt'] == df_raw_features['ddl_over_thresh_dt_first']\n",
    "sub_df = df_raw_features.loc[mask, ['mediabase_id', 'call_letters', 'week_dt', 'cuml_song_station_spins_non_on']]\n",
    "sub_df = sub_df.set_index(['mediabase_id', 'call_letters'])\n",
    "\n",
    "# Join sub-dataframe to original dataframe\n",
    "df_raw_features = df_raw_features.join(sub_df, on=['mediabase_id', 'call_letters'], rsuffix='_at_pre_burnout',\n",
    "                                       how='left')"
   ],
   "metadata": {
    "collapsed": false,
    "pycharm": {
     "name": "#%%\n"
    }
   }
  },
  {
   "cell_type": "code",
   "execution_count": 13,
   "outputs": [],
   "source": [
    "# Filter rows where week_dt equals ddl_over_thresh_dt_second\n",
    "mask = df_raw_features['week_dt'] == df_raw_features['ddl_over_thresh_dt_second']\n",
    "sub_df = df_raw_features.loc[mask, ['mediabase_id', 'call_letters', 'week_dt', 'cuml_song_station_spins_non_on']]\n",
    "sub_df = sub_df.set_index(['mediabase_id', 'call_letters'])\n",
    "\n",
    "# Join sub-dataframe to original dataframe\n",
    "df_raw_features = df_raw_features.join(sub_df, on=['mediabase_id', 'call_letters'], rsuffix='_at_burnout', how='left')"
   ],
   "metadata": {
    "collapsed": false,
    "pycharm": {
     "name": "#%%\n"
    }
   }
  },
  {
   "cell_type": "code",
   "execution_count": 14,
   "outputs": [],
   "source": [
    "# measures spins to burnout after song turns into a hit\n",
    "df_raw_features['spins_to_burnout_from_hit'] = df_raw_features['cuml_song_station_spins_non_on_at_burnout'] -\\\n",
    "                                               df_raw_features['cuml_song_station_spins_non_on_at_hit']\n",
    "\n",
    "# measure spins to hit from ftq\n",
    "df_raw_features['spins_to_hit_from_ftq'] = df_raw_features['cuml_song_station_spins_non_on_at_hit'] -\\\n",
    "                                           df_raw_features['cuml_song_station_spins_non_on_at_ftq']"
   ],
   "metadata": {
    "collapsed": false,
    "pycharm": {
     "name": "#%%\n"
    }
   }
  },
  {
   "cell_type": "code",
   "execution_count": 15,
   "outputs": [],
   "source": [
    "df_raw_features['hit_spins_bucket'] = pd.cut(df_raw_features['cuml_song_station_spins_non_on_at_hit'], np.arange(0,\n",
    "                                                                                                                 np.max(\n",
    "                                                                                                                     df_raw_features[\n",
    "                                                                                                                         'cuml_song_station_spins_non_on_at_hit']),\n",
    "                                                                                                                 250))"
   ],
   "metadata": {
    "collapsed": false,
    "pycharm": {
     "name": "#%%\n"
    }
   }
  },
  {
   "cell_type": "code",
   "execution_count": 19,
   "outputs": [
    {
     "data": {
      "text/plain": "0         (750.0, 1000.0]\n1         (750.0, 1000.0]\n2         (750.0, 1000.0]\n3         (750.0, 1000.0]\n4         (750.0, 1000.0]\n               ...       \n656334     (250.0, 500.0]\n656335     (250.0, 500.0]\n656336     (250.0, 500.0]\n656337     (250.0, 500.0]\n656338     (250.0, 500.0]\nName: hit_spins_bucket, Length: 656339, dtype: category\nCategories (15, interval[float64]): [(0.0, 250.0] < (250.0, 500.0] < (500.0, 750.0] < (750.0, 1000.0] ... (2750.0, 3000.0] < (3000.0, 3250.0] < (3250.0, 3500.0] < (3500.0, 3750.0]]"
     },
     "execution_count": 19,
     "metadata": {},
     "output_type": "execute_result"
    }
   ],
   "source": [
    "df_raw_features['hit_spins_bucket']"
   ],
   "metadata": {
    "collapsed": false,
    "pycharm": {
     "name": "#%%\n"
    }
   }
  },
  {
   "cell_type": "code",
   "execution_count": 16,
   "outputs": [],
   "source": [
    "# df_raw_features.to_pickle('ebw_raw_features_base_h1.pkl')"
   ],
   "metadata": {
    "collapsed": false,
    "pycharm": {
     "name": "#%%\n"
    }
   }
  },
  {
   "cell_type": "code",
   "execution_count": 6,
   "outputs": [],
   "source": [
    "df_raw_features = pd.read_pickle('ebw_raw_features_base_h1.pkl')"
   ],
   "metadata": {
    "collapsed": false,
    "pycharm": {
     "name": "#%%\n"
    }
   }
  },
  {
   "cell_type": "markdown",
   "source": [
    "#### extract unique hit information (spins/dates)"
   ],
   "metadata": {
    "collapsed": false
   }
  },
  {
   "cell_type": "code",
   "execution_count": 17,
   "outputs": [],
   "source": [
    "# de-dupe raw features to obtain unique hit info\n",
    "id_cols = ['mediabase_id', 'call_letters']\n",
    "date_cols = ['song_release_date', 'song_release_year', 'ftq_date', 'hit_tag_date', 'ddl_over_thresh_dt_first',\n",
    "             'ddl_over_thresh_dt_second']\n",
    "weeks_cols = ['weeks_bw_ftq_first_spins', 'weeks_bw_top_quintiles']\n",
    "spins_cols = ['cuml_song_station_spins_non_on_at_ftq', 'cuml_song_station_spins_non_on_at_hit',\n",
    "              'cuml_song_station_spins_non_on_at_pre_burnout', 'cuml_song_station_spins_non_on_at_burnout',\n",
    "              'spins_to_hit_from_ftq', 'spins_to_burnout_from_hit']\n",
    "\n",
    "# create dataframe with unique hit information\n",
    "df_hits_tracker = df_raw_features[id_cols + date_cols + weeks_cols + spins_cols].drop_duplicates()"
   ],
   "metadata": {
    "collapsed": false,
    "pycharm": {
     "name": "#%%\n"
    }
   }
  },
  {
   "cell_type": "code",
   "execution_count": 61,
   "outputs": [
    {
     "data": {
      "text/plain": "        mediabase_id call_letters song_release_date  song_release_year  \\\n0            1086587      KHTS-FM        2022-06-01             2022.0   \n42           1086587      KIIS-FM        2022-06-01             2022.0   \n84           1086587      KYLD-FM        2022-06-01             2022.0   \n127          1086587      KZZP-FM        2022-06-01             2022.0   \n169          1086587      WHTZ-FM        2022-06-01             2022.0   \n...              ...          ...               ...                ...   \n675876       2865765      WKST-FM        2022-12-01             2022.0   \n675889       2865765      WWPW-FM        2022-12-01             2022.0   \n675902       2865765      WXKS-FM        2022-12-01             2022.0   \n675915       2865765      WXXL-FM        2022-12-01             2022.0   \n675928       2865765      WZFT-FM        2022-12-01             2022.0   \n\n         ftq_date hit_tag_date ddl_over_thresh_dt_first  \\\n0      2022-07-10   2022-10-23               2022-11-06   \n42     2022-07-03   2022-07-17               2022-08-21   \n84     2022-07-03   2022-08-14               2022-09-11   \n127    2022-07-17   2022-08-21               2022-09-18   \n169    2022-06-19   2022-07-31               2022-09-04   \n...           ...          ...                      ...   \n675876 2023-02-26   2023-03-12                     None   \n675889 2023-02-19   2023-03-05                     None   \n675902 2023-01-15   2023-02-05                     None   \n675915 2023-02-19   2023-03-19                     None   \n675928 2023-01-22   2023-02-05                     None   \n\n       ddl_over_thresh_dt_second  weeks_bw_ftq_first_spins  \\\n0                     2022-11-20                       4.0   \n42                          None                       3.0   \n84                          None                       4.0   \n127                         None                       5.0   \n169                   2022-09-18                       1.0   \n...                          ...                       ...   \n675876                      None                       8.0   \n675889                      None                       7.0   \n675902                      None                       2.0   \n675915                      None                       7.0   \n675928                      None                       3.0   \n\n        weeks_bw_top_quintiles  cuml_song_station_spins_non_on_at_ftq  \\\n0                         15.0                                  114.0   \n42                         2.0                                   46.0   \n84                         6.0                                  133.0   \n127                        5.0                                  187.0   \n169                        6.0                                   16.0   \n...                        ...                                    ...   \n675876                     2.0                                  327.0   \n675889                     2.0                                  489.0   \n675902                     3.0                                   51.0   \n675915                     4.0                                  235.0   \n675928                     2.0                                  116.0   \n\n        cuml_song_station_spins_non_on_at_hit  \\\n0                                       989.0   \n42                                      168.0   \n84                                      445.0   \n127                                     592.0   \n169                                     283.0   \n...                                       ...   \n675876                                  520.0   \n675889                                  691.0   \n675902                                  240.0   \n675915                                  571.0   \n675928                                  253.0   \n\n        cuml_song_station_spins_non_on_at_pre_burnout  \\\n0                                              1086.0   \n42                                              612.0   \n84                                              602.0   \n127                                             748.0   \n169                                             616.0   \n...                                               ...   \n675876                                            NaN   \n675889                                            NaN   \n675902                                            NaN   \n675915                                            NaN   \n675928                                            NaN   \n\n        cuml_song_station_spins_non_on_at_burnout  spins_to_hit_from_ftq  \\\n0                                          1182.0                  875.0   \n42                                            NaN                  122.0   \n84                                            NaN                  312.0   \n127                                           NaN                  405.0   \n169                                         664.0                  267.0   \n...                                           ...                    ...   \n675876                                        NaN                  193.0   \n675889                                        NaN                  202.0   \n675902                                        NaN                  189.0   \n675915                                        NaN                  336.0   \n675928                                        NaN                  137.0   \n\n        spins_to_burnout_from_hit  \n0                           193.0  \n42                            NaN  \n84                            NaN  \n127                           NaN  \n169                         381.0  \n...                           ...  \n675876                        NaN  \n675889                        NaN  \n675902                        NaN  \n675915                        NaN  \n675928                        NaN  \n\n[3488 rows x 16 columns]",
      "text/html": "<div>\n<style scoped>\n    .dataframe tbody tr th:only-of-type {\n        vertical-align: middle;\n    }\n\n    .dataframe tbody tr th {\n        vertical-align: top;\n    }\n\n    .dataframe thead th {\n        text-align: right;\n    }\n</style>\n<table border=\"1\" class=\"dataframe\">\n  <thead>\n    <tr style=\"text-align: right;\">\n      <th></th>\n      <th>mediabase_id</th>\n      <th>call_letters</th>\n      <th>song_release_date</th>\n      <th>song_release_year</th>\n      <th>ftq_date</th>\n      <th>hit_tag_date</th>\n      <th>ddl_over_thresh_dt_first</th>\n      <th>ddl_over_thresh_dt_second</th>\n      <th>weeks_bw_ftq_first_spins</th>\n      <th>weeks_bw_top_quintiles</th>\n      <th>cuml_song_station_spins_non_on_at_ftq</th>\n      <th>cuml_song_station_spins_non_on_at_hit</th>\n      <th>cuml_song_station_spins_non_on_at_pre_burnout</th>\n      <th>cuml_song_station_spins_non_on_at_burnout</th>\n      <th>spins_to_hit_from_ftq</th>\n      <th>spins_to_burnout_from_hit</th>\n    </tr>\n  </thead>\n  <tbody>\n    <tr>\n      <th>0</th>\n      <td>1086587</td>\n      <td>KHTS-FM</td>\n      <td>2022-06-01</td>\n      <td>2022.0</td>\n      <td>2022-07-10</td>\n      <td>2022-10-23</td>\n      <td>2022-11-06</td>\n      <td>2022-11-20</td>\n      <td>4.0</td>\n      <td>15.0</td>\n      <td>114.0</td>\n      <td>989.0</td>\n      <td>1086.0</td>\n      <td>1182.0</td>\n      <td>875.0</td>\n      <td>193.0</td>\n    </tr>\n    <tr>\n      <th>42</th>\n      <td>1086587</td>\n      <td>KIIS-FM</td>\n      <td>2022-06-01</td>\n      <td>2022.0</td>\n      <td>2022-07-03</td>\n      <td>2022-07-17</td>\n      <td>2022-08-21</td>\n      <td>None</td>\n      <td>3.0</td>\n      <td>2.0</td>\n      <td>46.0</td>\n      <td>168.0</td>\n      <td>612.0</td>\n      <td>NaN</td>\n      <td>122.0</td>\n      <td>NaN</td>\n    </tr>\n    <tr>\n      <th>84</th>\n      <td>1086587</td>\n      <td>KYLD-FM</td>\n      <td>2022-06-01</td>\n      <td>2022.0</td>\n      <td>2022-07-03</td>\n      <td>2022-08-14</td>\n      <td>2022-09-11</td>\n      <td>None</td>\n      <td>4.0</td>\n      <td>6.0</td>\n      <td>133.0</td>\n      <td>445.0</td>\n      <td>602.0</td>\n      <td>NaN</td>\n      <td>312.0</td>\n      <td>NaN</td>\n    </tr>\n    <tr>\n      <th>127</th>\n      <td>1086587</td>\n      <td>KZZP-FM</td>\n      <td>2022-06-01</td>\n      <td>2022.0</td>\n      <td>2022-07-17</td>\n      <td>2022-08-21</td>\n      <td>2022-09-18</td>\n      <td>None</td>\n      <td>5.0</td>\n      <td>5.0</td>\n      <td>187.0</td>\n      <td>592.0</td>\n      <td>748.0</td>\n      <td>NaN</td>\n      <td>405.0</td>\n      <td>NaN</td>\n    </tr>\n    <tr>\n      <th>169</th>\n      <td>1086587</td>\n      <td>WHTZ-FM</td>\n      <td>2022-06-01</td>\n      <td>2022.0</td>\n      <td>2022-06-19</td>\n      <td>2022-07-31</td>\n      <td>2022-09-04</td>\n      <td>2022-09-18</td>\n      <td>1.0</td>\n      <td>6.0</td>\n      <td>16.0</td>\n      <td>283.0</td>\n      <td>616.0</td>\n      <td>664.0</td>\n      <td>267.0</td>\n      <td>381.0</td>\n    </tr>\n    <tr>\n      <th>...</th>\n      <td>...</td>\n      <td>...</td>\n      <td>...</td>\n      <td>...</td>\n      <td>...</td>\n      <td>...</td>\n      <td>...</td>\n      <td>...</td>\n      <td>...</td>\n      <td>...</td>\n      <td>...</td>\n      <td>...</td>\n      <td>...</td>\n      <td>...</td>\n      <td>...</td>\n      <td>...</td>\n    </tr>\n    <tr>\n      <th>675876</th>\n      <td>2865765</td>\n      <td>WKST-FM</td>\n      <td>2022-12-01</td>\n      <td>2022.0</td>\n      <td>2023-02-26</td>\n      <td>2023-03-12</td>\n      <td>None</td>\n      <td>None</td>\n      <td>8.0</td>\n      <td>2.0</td>\n      <td>327.0</td>\n      <td>520.0</td>\n      <td>NaN</td>\n      <td>NaN</td>\n      <td>193.0</td>\n      <td>NaN</td>\n    </tr>\n    <tr>\n      <th>675889</th>\n      <td>2865765</td>\n      <td>WWPW-FM</td>\n      <td>2022-12-01</td>\n      <td>2022.0</td>\n      <td>2023-02-19</td>\n      <td>2023-03-05</td>\n      <td>None</td>\n      <td>None</td>\n      <td>7.0</td>\n      <td>2.0</td>\n      <td>489.0</td>\n      <td>691.0</td>\n      <td>NaN</td>\n      <td>NaN</td>\n      <td>202.0</td>\n      <td>NaN</td>\n    </tr>\n    <tr>\n      <th>675902</th>\n      <td>2865765</td>\n      <td>WXKS-FM</td>\n      <td>2022-12-01</td>\n      <td>2022.0</td>\n      <td>2023-01-15</td>\n      <td>2023-02-05</td>\n      <td>None</td>\n      <td>None</td>\n      <td>2.0</td>\n      <td>3.0</td>\n      <td>51.0</td>\n      <td>240.0</td>\n      <td>NaN</td>\n      <td>NaN</td>\n      <td>189.0</td>\n      <td>NaN</td>\n    </tr>\n    <tr>\n      <th>675915</th>\n      <td>2865765</td>\n      <td>WXXL-FM</td>\n      <td>2022-12-01</td>\n      <td>2022.0</td>\n      <td>2023-02-19</td>\n      <td>2023-03-19</td>\n      <td>None</td>\n      <td>None</td>\n      <td>7.0</td>\n      <td>4.0</td>\n      <td>235.0</td>\n      <td>571.0</td>\n      <td>NaN</td>\n      <td>NaN</td>\n      <td>336.0</td>\n      <td>NaN</td>\n    </tr>\n    <tr>\n      <th>675928</th>\n      <td>2865765</td>\n      <td>WZFT-FM</td>\n      <td>2022-12-01</td>\n      <td>2022.0</td>\n      <td>2023-01-22</td>\n      <td>2023-02-05</td>\n      <td>None</td>\n      <td>None</td>\n      <td>3.0</td>\n      <td>2.0</td>\n      <td>116.0</td>\n      <td>253.0</td>\n      <td>NaN</td>\n      <td>NaN</td>\n      <td>137.0</td>\n      <td>NaN</td>\n    </tr>\n  </tbody>\n</table>\n<p>3488 rows × 16 columns</p>\n</div>"
     },
     "execution_count": 61,
     "metadata": {},
     "output_type": "execute_result"
    }
   ],
   "source": [
    "df_hits_tracker"
   ],
   "metadata": {
    "collapsed": false,
    "pycharm": {
     "name": "#%%\n"
    }
   }
  },
  {
   "cell_type": "code",
   "execution_count": 21,
   "outputs": [
    {
     "data": {
      "text/plain": "song_release_year\n2017.0                         [916, 115.2, 1628.0, 0, 0.0]\n2018.0    [667, 126.65, 1890.4999999999995, 2, 0.0029985...\n2019.0      [650, 137.5, 2164.75, 10, 0.015384615384615385]\n2020.0    [407, 106.65, 2064.4999999999977, 7, 0.0171990...\n2021.0    [489, 158.5, 2489.9999999999995, 17, 0.0347648...\n2022.0    [246, 176.20000000000002, 1932.1999999999994, ...\ndtype: object"
     },
     "execution_count": 21,
     "metadata": {},
     "output_type": "execute_result"
    }
   ],
   "source": [
    "# determine spins cutoff for end of burn monitoring\n",
    "df_hits_tracker.groupby(['song_release_year']).apply(lambda x: [len(x), np.nanquantile(x['spins_to_burnout_from_hit'], 0.05), np.nanquantile(x['spins_to_burnout_from_hit'], 0.95), (x['spins_to_burnout_from_hit'] > 2500).sum(),\n",
    "                                                                (x['spins_to_burnout_from_hit'] > 2500).sum() / len(x)])"
   ],
   "metadata": {
    "collapsed": false,
    "pycharm": {
     "name": "#%%\n"
    }
   }
  },
  {
   "cell_type": "code",
   "execution_count": null,
   "outputs": [],
   "source": [
    "mask = df_hits_tracker['spins_to_burnout_from_hit'] < 150\n",
    "df_hits_tracker.loc[mask]"
   ],
   "metadata": {
    "collapsed": false,
    "pycharm": {
     "name": "#%%\n"
    }
   }
  },
  {
   "cell_type": "markdown",
   "source": [
    "Based on the above information about 2-3% of the songs which experienced burnout in 2020 and 2021 took more than 2500 spins after turning into a hit. 2500 spins seems to be a reasonable cutoff for end of burnout monitoring"
   ],
   "metadata": {
    "collapsed": false
   }
  },
  {
   "cell_type": "code",
   "execution_count": 18,
   "outputs": [],
   "source": [
    "# define censoring flag\n",
    "burn_end_spins_cutoff = 2500\n",
    "df_hits_tracker['censoring_flg'] = ~(pd.isna(df_hits_tracker['ddl_over_thresh_dt_second']) | (\n",
    "            df_hits_tracker['spins_to_burnout_from_hit'] > burn_end_spins_cutoff))"
   ],
   "metadata": {
    "collapsed": false,
    "pycharm": {
     "name": "#%%\n"
    }
   }
  },
  {
   "cell_type": "code",
   "execution_count": 19,
   "outputs": [],
   "source": [
    "id_cols = ['mediabase_id','call_letters']\n",
    "df_sub = df_raw_features.groupby(id_cols)['cuml_song_station_spins_non_on'].max().reset_index()\n",
    "df_sub.columns = id_cols + ['cuml_song_station_spins_non_on_max']\n",
    "df_hits_tracker = df_hits_tracker.join(df_sub.set_index(id_cols), on=id_cols)"
   ],
   "metadata": {
    "collapsed": false,
    "pycharm": {
     "name": "#%%\n"
    }
   }
  },
  {
   "cell_type": "code",
   "execution_count": 43,
   "outputs": [
    {
     "data": {
      "text/plain": "song_release_year  censoring_flg\n2017.0             False            123\n                   True             793\n2018.0             False            134\n                   True             533\n2019.0             False            134\n                   True             516\n2020.0             False            139\n                   True             268\n2021.0             False            173\n                   True             316\n2022.0             False            160\n                   True              86\nName: mediabase_id, dtype: int64"
     },
     "execution_count": 43,
     "metadata": {},
     "output_type": "execute_result"
    }
   ],
   "source": [
    "df_hits_tracker.groupby(['song_release_year', 'censoring_flg'])['mediabase_id'].count()"
   ],
   "metadata": {
    "collapsed": false,
    "pycharm": {
     "name": "#%%\n"
    }
   }
  },
  {
   "cell_type": "markdown",
   "source": [
    "#### feature engineering"
   ],
   "metadata": {
    "collapsed": false
   }
  },
  {
   "cell_type": "code",
   "execution_count": 16,
   "outputs": [],
   "source": [
    "rolling_weeks = [1, 4, 8 ,13, 26]\n",
    "lags = [1, 2, 3, 4]"
   ],
   "metadata": {
    "collapsed": false,
    "pycharm": {
     "name": "#%%\n"
    }
   }
  },
  {
   "cell_type": "markdown",
   "source": [
    "##### pop score related columns"
   ],
   "metadata": {
    "collapsed": false
   }
  },
  {
   "cell_type": "code",
   "execution_count": 22,
   "outputs": [],
   "source": [
    "pop_cols = [col for col in df_raw_features.columns if\n",
    "            (('_pop' in col) or ('_ddl' in col) or ('_fav' in col)) and ('weeks_' not in col)]"
   ],
   "metadata": {
    "collapsed": false,
    "pycharm": {
     "name": "#%%\n"
    }
   }
  },
  {
   "cell_type": "code",
   "execution_count": 23,
   "outputs": [
    {
     "data": {
      "text/plain": "['song_station_pop',\n 'song_station_ddl',\n 'song_station_fav',\n 'count_song_format_pop',\n 'song_format_pop',\n 'song_format_ddl',\n 'song_format_fav',\n 'count_artist_format_pop',\n 'artist_format_pop',\n 'artist_format_ddl',\n 'artist_format_fav']"
     },
     "execution_count": 23,
     "metadata": {},
     "output_type": "execute_result"
    }
   ],
   "source": [
    "pop_cols"
   ],
   "metadata": {
    "collapsed": false,
    "pycharm": {
     "name": "#%%\n"
    }
   }
  },
  {
   "cell_type": "markdown",
   "source": [
    "##### rolling statistics look back"
   ],
   "metadata": {
    "collapsed": false
   }
  },
  {
   "cell_type": "code",
   "execution_count": 24,
   "outputs": [],
   "source": [
    "id_cols = ['mediabase_id', 'call_letters', 'week_dt', 'weeks_since_hit']\n",
    "df_pop_features = df_raw_features[id_cols]\n",
    "for win_len in rolling_weeks:\n",
    "    for lag in lags:\n",
    "        for col in pop_cols:\n",
    "            col_name = f\"{col}_{win_len}wk_lag{lag}\"\n",
    "            roll_col = df_raw_features.groupby(['mediabase_id', 'call_letters'])[col].rolling(window=win_len, min_periods=0)\n",
    "            df_pop_features[f\"{col_name}_min\"] = (roll_col.min().shift(lag).droplevel([0,1])).ffill()\n",
    "            df_pop_features[f\"{col_name}_max\"] = (roll_col.max().shift(lag).droplevel([0,1])).ffill()\n",
    "            df_pop_features[f\"{col_name}_mean\"] = (roll_col.mean().shift(lag).droplevel([0,1])).ffill()\n",
    "            df_pop_features[f\"{col_name}_std\"] = (roll_col.std().shift(lag).droplevel([0,1])).ffill()"
   ],
   "metadata": {
    "collapsed": false,
    "pycharm": {
     "name": "#%%\n"
    }
   }
  },
  {
   "cell_type": "code",
   "execution_count": 27,
   "outputs": [],
   "source": [
    "df_pop_features.to_pickle('ebw_pop_features_h1.pkl')"
   ],
   "metadata": {
    "collapsed": false,
    "pycharm": {
     "name": "#%%\n"
    }
   }
  },
  {
   "cell_type": "code",
   "execution_count": 26,
   "outputs": [
    {
     "data": {
      "text/plain": "        mediabase_id call_letters    week_dt  weeks_since_hit  \\\n20           1086587      KHTS-FM 2022-10-30              1.0   \n21           1086587      KHTS-FM 2022-11-06              2.0   \n22           1086587      KHTS-FM 2022-11-13              3.0   \n23           1086587      KHTS-FM 2022-11-20              4.0   \n24           1086587      KHTS-FM 2022-11-27              5.0   \n...              ...          ...        ...              ...   \n656334       2865765      WZFT-FM 2023-02-26              3.0   \n656335       2865765      WZFT-FM 2023-03-05              4.0   \n656336       2865765      WZFT-FM 2023-03-12              5.0   \n656337       2865765      WZFT-FM 2023-03-19              6.0   \n656338       2865765      WZFT-FM 2023-03-26              7.0   \n\n        song_station_pop_1wk_lag1_min  song_station_pop_1wk_lag1_max  \\\n20                               89.0                           89.0   \n21                               89.0                           89.0   \n22                               79.0                           79.0   \n23                               79.0                           79.0   \n24                               69.0                           69.0   \n...                               ...                            ...   \n656334                           82.0                           82.0   \n656335                           82.0                           82.0   \n656336                           75.0                           75.0   \n656337                           75.0                           75.0   \n656338                           88.0                           88.0   \n\n        song_station_pop_1wk_lag1_mean  song_station_pop_1wk_lag1_std  \\\n20                                89.0                            NaN   \n21                                89.0                            NaN   \n22                                79.0                            NaN   \n23                                79.0                            NaN   \n24                                69.0                            NaN   \n...                                ...                            ...   \n656334                            82.0                            NaN   \n656335                            82.0                            NaN   \n656336                            75.0                            NaN   \n656337                            75.0                            NaN   \n656338                            88.0                            NaN   \n\n        song_station_ddl_1wk_lag1_min  song_station_ddl_1wk_lag1_max  ...  \\\n20                               10.0                           10.0  ...   \n21                               10.0                           10.0  ...   \n22                               21.0                           21.0  ...   \n23                               21.0                           21.0  ...   \n24                               26.0                           26.0  ...   \n...                               ...                            ...  ...   \n656334                           12.0                           12.0  ...   \n656335                           12.0                           12.0  ...   \n656336                           15.0                           15.0  ...   \n656337                           15.0                           15.0  ...   \n656338                            9.0                            9.0  ...   \n\n        artist_format_pop_26wk_lag4_mean  artist_format_pop_26wk_lag4_std  \\\n20                             79.200000                         5.002856   \n21                             79.187500                         4.833477   \n22                             79.176471                         4.680215   \n23                             79.333333                         4.588989   \n24                             79.473684                         4.501462   \n...                                  ...                              ...   \n656334                         75.750000                         4.349329   \n656335                         76.600000                         4.219005   \n656336                         76.833333                         3.816630   \n656337                         78.142857                         4.913538   \n656338                         78.750000                         4.862392   \n\n        artist_format_ddl_26wk_lag4_min  artist_format_ddl_26wk_lag4_max  \\\n20                                  5.0                             22.0   \n21                                  5.0                             22.0   \n22                                  5.0                             22.0   \n23                                  5.0                             22.0   \n24                                  5.0                             22.0   \n...                                 ...                              ...   \n656334                              7.0                             12.0   \n656335                              7.0                             12.0   \n656336                              7.0                             12.0   \n656337                              7.0                             12.0   \n656338                              7.0                             12.0   \n\n        artist_format_ddl_26wk_lag4_mean  artist_format_ddl_26wk_lag4_std  \\\n20                             14.933333                         4.636296   \n21                             15.125000                         4.544227   \n22                             15.352941                         4.499183   \n23                             15.333333                         4.365641   \n24                             15.473684                         4.286522   \n...                                  ...                              ...   \n656334                          8.250000                         2.500000   \n656335                          8.000000                         2.236068   \n656336                          7.833333                         2.041241   \n656337                          8.000000                         1.914854   \n656338                          8.000000                         1.772811   \n\n        artist_format_fav_26wk_lag4_min  artist_format_fav_26wk_lag4_max  \\\n20                                 20.0                             32.0   \n21                                 20.0                             32.0   \n22                                 20.0                             32.0   \n23                                 20.0                             32.0   \n24                                 20.0                             32.0   \n...                                 ...                              ...   \n656334                             18.0                             27.0   \n656335                             18.0                             27.0   \n656336                             18.0                             27.0   \n656337                             18.0                             28.0   \n656338                             18.0                             28.0   \n\n        artist_format_fav_26wk_lag4_mean  artist_format_fav_26wk_lag4_std  \n20                             27.066667                         2.987275  \n21                             27.000000                         2.898275  \n22                             27.000000                         2.806243  \n23                             26.944444                         2.732640  \n24                             27.052632                         2.697194  \n...                                  ...                              ...  \n656334                         22.250000                         3.774917  \n656335                         22.400000                         3.286335  \n656336                         22.166667                         2.994439  \n656337                         23.000000                         3.511885  \n656338                         23.375000                         3.420004  \n\n[575546 rows x 884 columns]",
      "text/html": "<div>\n<style scoped>\n    .dataframe tbody tr th:only-of-type {\n        vertical-align: middle;\n    }\n\n    .dataframe tbody tr th {\n        vertical-align: top;\n    }\n\n    .dataframe thead th {\n        text-align: right;\n    }\n</style>\n<table border=\"1\" class=\"dataframe\">\n  <thead>\n    <tr style=\"text-align: right;\">\n      <th></th>\n      <th>mediabase_id</th>\n      <th>call_letters</th>\n      <th>week_dt</th>\n      <th>weeks_since_hit</th>\n      <th>song_station_pop_1wk_lag1_min</th>\n      <th>song_station_pop_1wk_lag1_max</th>\n      <th>song_station_pop_1wk_lag1_mean</th>\n      <th>song_station_pop_1wk_lag1_std</th>\n      <th>song_station_ddl_1wk_lag1_min</th>\n      <th>song_station_ddl_1wk_lag1_max</th>\n      <th>...</th>\n      <th>artist_format_pop_26wk_lag4_mean</th>\n      <th>artist_format_pop_26wk_lag4_std</th>\n      <th>artist_format_ddl_26wk_lag4_min</th>\n      <th>artist_format_ddl_26wk_lag4_max</th>\n      <th>artist_format_ddl_26wk_lag4_mean</th>\n      <th>artist_format_ddl_26wk_lag4_std</th>\n      <th>artist_format_fav_26wk_lag4_min</th>\n      <th>artist_format_fav_26wk_lag4_max</th>\n      <th>artist_format_fav_26wk_lag4_mean</th>\n      <th>artist_format_fav_26wk_lag4_std</th>\n    </tr>\n  </thead>\n  <tbody>\n    <tr>\n      <th>20</th>\n      <td>1086587</td>\n      <td>KHTS-FM</td>\n      <td>2022-10-30</td>\n      <td>1.0</td>\n      <td>89.0</td>\n      <td>89.0</td>\n      <td>89.0</td>\n      <td>NaN</td>\n      <td>10.0</td>\n      <td>10.0</td>\n      <td>...</td>\n      <td>79.200000</td>\n      <td>5.002856</td>\n      <td>5.0</td>\n      <td>22.0</td>\n      <td>14.933333</td>\n      <td>4.636296</td>\n      <td>20.0</td>\n      <td>32.0</td>\n      <td>27.066667</td>\n      <td>2.987275</td>\n    </tr>\n    <tr>\n      <th>21</th>\n      <td>1086587</td>\n      <td>KHTS-FM</td>\n      <td>2022-11-06</td>\n      <td>2.0</td>\n      <td>89.0</td>\n      <td>89.0</td>\n      <td>89.0</td>\n      <td>NaN</td>\n      <td>10.0</td>\n      <td>10.0</td>\n      <td>...</td>\n      <td>79.187500</td>\n      <td>4.833477</td>\n      <td>5.0</td>\n      <td>22.0</td>\n      <td>15.125000</td>\n      <td>4.544227</td>\n      <td>20.0</td>\n      <td>32.0</td>\n      <td>27.000000</td>\n      <td>2.898275</td>\n    </tr>\n    <tr>\n      <th>22</th>\n      <td>1086587</td>\n      <td>KHTS-FM</td>\n      <td>2022-11-13</td>\n      <td>3.0</td>\n      <td>79.0</td>\n      <td>79.0</td>\n      <td>79.0</td>\n      <td>NaN</td>\n      <td>21.0</td>\n      <td>21.0</td>\n      <td>...</td>\n      <td>79.176471</td>\n      <td>4.680215</td>\n      <td>5.0</td>\n      <td>22.0</td>\n      <td>15.352941</td>\n      <td>4.499183</td>\n      <td>20.0</td>\n      <td>32.0</td>\n      <td>27.000000</td>\n      <td>2.806243</td>\n    </tr>\n    <tr>\n      <th>23</th>\n      <td>1086587</td>\n      <td>KHTS-FM</td>\n      <td>2022-11-20</td>\n      <td>4.0</td>\n      <td>79.0</td>\n      <td>79.0</td>\n      <td>79.0</td>\n      <td>NaN</td>\n      <td>21.0</td>\n      <td>21.0</td>\n      <td>...</td>\n      <td>79.333333</td>\n      <td>4.588989</td>\n      <td>5.0</td>\n      <td>22.0</td>\n      <td>15.333333</td>\n      <td>4.365641</td>\n      <td>20.0</td>\n      <td>32.0</td>\n      <td>26.944444</td>\n      <td>2.732640</td>\n    </tr>\n    <tr>\n      <th>24</th>\n      <td>1086587</td>\n      <td>KHTS-FM</td>\n      <td>2022-11-27</td>\n      <td>5.0</td>\n      <td>69.0</td>\n      <td>69.0</td>\n      <td>69.0</td>\n      <td>NaN</td>\n      <td>26.0</td>\n      <td>26.0</td>\n      <td>...</td>\n      <td>79.473684</td>\n      <td>4.501462</td>\n      <td>5.0</td>\n      <td>22.0</td>\n      <td>15.473684</td>\n      <td>4.286522</td>\n      <td>20.0</td>\n      <td>32.0</td>\n      <td>27.052632</td>\n      <td>2.697194</td>\n    </tr>\n    <tr>\n      <th>...</th>\n      <td>...</td>\n      <td>...</td>\n      <td>...</td>\n      <td>...</td>\n      <td>...</td>\n      <td>...</td>\n      <td>...</td>\n      <td>...</td>\n      <td>...</td>\n      <td>...</td>\n      <td>...</td>\n      <td>...</td>\n      <td>...</td>\n      <td>...</td>\n      <td>...</td>\n      <td>...</td>\n      <td>...</td>\n      <td>...</td>\n      <td>...</td>\n      <td>...</td>\n      <td>...</td>\n    </tr>\n    <tr>\n      <th>656334</th>\n      <td>2865765</td>\n      <td>WZFT-FM</td>\n      <td>2023-02-26</td>\n      <td>3.0</td>\n      <td>82.0</td>\n      <td>82.0</td>\n      <td>82.0</td>\n      <td>NaN</td>\n      <td>12.0</td>\n      <td>12.0</td>\n      <td>...</td>\n      <td>75.750000</td>\n      <td>4.349329</td>\n      <td>7.0</td>\n      <td>12.0</td>\n      <td>8.250000</td>\n      <td>2.500000</td>\n      <td>18.0</td>\n      <td>27.0</td>\n      <td>22.250000</td>\n      <td>3.774917</td>\n    </tr>\n    <tr>\n      <th>656335</th>\n      <td>2865765</td>\n      <td>WZFT-FM</td>\n      <td>2023-03-05</td>\n      <td>4.0</td>\n      <td>82.0</td>\n      <td>82.0</td>\n      <td>82.0</td>\n      <td>NaN</td>\n      <td>12.0</td>\n      <td>12.0</td>\n      <td>...</td>\n      <td>76.600000</td>\n      <td>4.219005</td>\n      <td>7.0</td>\n      <td>12.0</td>\n      <td>8.000000</td>\n      <td>2.236068</td>\n      <td>18.0</td>\n      <td>27.0</td>\n      <td>22.400000</td>\n      <td>3.286335</td>\n    </tr>\n    <tr>\n      <th>656336</th>\n      <td>2865765</td>\n      <td>WZFT-FM</td>\n      <td>2023-03-12</td>\n      <td>5.0</td>\n      <td>75.0</td>\n      <td>75.0</td>\n      <td>75.0</td>\n      <td>NaN</td>\n      <td>15.0</td>\n      <td>15.0</td>\n      <td>...</td>\n      <td>76.833333</td>\n      <td>3.816630</td>\n      <td>7.0</td>\n      <td>12.0</td>\n      <td>7.833333</td>\n      <td>2.041241</td>\n      <td>18.0</td>\n      <td>27.0</td>\n      <td>22.166667</td>\n      <td>2.994439</td>\n    </tr>\n    <tr>\n      <th>656337</th>\n      <td>2865765</td>\n      <td>WZFT-FM</td>\n      <td>2023-03-19</td>\n      <td>6.0</td>\n      <td>75.0</td>\n      <td>75.0</td>\n      <td>75.0</td>\n      <td>NaN</td>\n      <td>15.0</td>\n      <td>15.0</td>\n      <td>...</td>\n      <td>78.142857</td>\n      <td>4.913538</td>\n      <td>7.0</td>\n      <td>12.0</td>\n      <td>8.000000</td>\n      <td>1.914854</td>\n      <td>18.0</td>\n      <td>28.0</td>\n      <td>23.000000</td>\n      <td>3.511885</td>\n    </tr>\n    <tr>\n      <th>656338</th>\n      <td>2865765</td>\n      <td>WZFT-FM</td>\n      <td>2023-03-26</td>\n      <td>7.0</td>\n      <td>88.0</td>\n      <td>88.0</td>\n      <td>88.0</td>\n      <td>NaN</td>\n      <td>9.0</td>\n      <td>9.0</td>\n      <td>...</td>\n      <td>78.750000</td>\n      <td>4.862392</td>\n      <td>7.0</td>\n      <td>12.0</td>\n      <td>8.000000</td>\n      <td>1.772811</td>\n      <td>18.0</td>\n      <td>28.0</td>\n      <td>23.375000</td>\n      <td>3.420004</td>\n    </tr>\n  </tbody>\n</table>\n<p>575546 rows × 884 columns</p>\n</div>"
     },
     "execution_count": 26,
     "metadata": {},
     "output_type": "execute_result"
    }
   ],
   "source": [
    "df_pop_features[df_pop_features['weeks_since_hit'] > 0]"
   ],
   "metadata": {
    "collapsed": false,
    "pycharm": {
     "name": "#%%\n"
    }
   }
  },
  {
   "cell_type": "code",
   "execution_count": 62,
   "outputs": [
    {
     "data": {
      "text/plain": "<matplotlib.legend.Legend at 0x7fded40620d0>"
     },
     "execution_count": 62,
     "metadata": {},
     "output_type": "execute_result"
    },
    {
     "data": {
      "text/plain": "<Figure size 640x480 with 1 Axes>",
      "image/png": "[encoded data removed]"
     },
     "metadata": {},
     "output_type": "display_data"
    }
   ],
   "source": [
    "import matplotlib.pyplot as plt\n",
    "mask = (df_raw_features['mediabase_id'] == 1086587) & (df_raw_features['call_letters'] == 'KHTS-FM')\n",
    "sel_cols = ['song_format_pop','song_format_pop_4wk_lag1_mean', 'song_format_pop_4wk_lag2_mean', 'song_format_pop_4wk_lag3_mean', 'song_format_pop_4wk_lag4_mean', 'song_format_pop_1wk_lag1_mean']\n",
    "plt.scatter(df_raw_features.loc[mask, 'week_dt'], df_raw_features.loc[mask, sel_cols[0]], label=sel_cols[0])\n",
    "plt.plot(df_raw_features.loc[mask, 'week_dt'], df_raw_features.loc[mask, sel_cols[1]], label=sel_cols[1])\n",
    "plt.plot(df_raw_features.loc[mask, 'week_dt'], df_raw_features.loc[mask, sel_cols[2]], label=sel_cols[2])\n",
    "plt.plot(df_raw_features.loc[mask, 'week_dt'], df_raw_features.loc[mask, sel_cols[3]], label=sel_cols[3])\n",
    "plt.plot(df_raw_features.loc[mask, 'week_dt'], df_raw_features.loc[mask, sel_cols[4]], label=sel_cols[4])\n",
    "plt.plot(df_raw_features.loc[mask, 'week_dt'], df_raw_features.loc[mask, sel_cols[5]], label=sel_cols[5])\n",
    "plt.legend()"
   ],
   "metadata": {
    "collapsed": false,
    "pycharm": {
     "name": "#%%\n"
    }
   }
  },
  {
   "cell_type": "markdown",
   "source": [
    "##### rolling stats from ftq to hit\n"
   ],
   "metadata": {
    "collapsed": false
   }
  },
  {
   "cell_type": "code",
   "execution_count": 71,
   "outputs": [],
   "source": [
    "# for col in pop_cols:\n",
    "#     col_name = f\"{col}_ftq_to_hit\"\n",
    "#     col_names = [f\"{col_name}_min\", f\"{col_name}_max\", f\"{col_name}_mean\", f\"{col_name}_std\"]\n",
    "#     mask = (df_raw_features['week_dt'] >= df_raw_features['week_dt_at_ftq']) & (\n",
    "#             df_raw_features['week_dt'] <= df_raw_features['week_dt_at_hit'])\n",
    "#     df_sub = df_raw_features.loc[mask]\n",
    "#     df_sub_grpd = df_sub.groupby(['mediabase_id', 'call_letters'])[col]\n",
    "#     df_temp = pd.concat([df_sub_grpd.min(), df_sub_grpd.max(), df_sub_grpd.mean(), df_sub_grpd.std()], axis=1)\n",
    "#     df_temp.columns=col_names\n",
    "#     df_raw_features = df_raw_features.join(df_temp, on =['mediabase_id', 'call_letters'], how='left')"
   ],
   "metadata": {
    "collapsed": false,
    "pycharm": {
     "name": "#%%\n"
    }
   }
  },
  {
   "cell_type": "markdown",
   "source": [],
   "metadata": {
    "collapsed": false
   }
  },
  {
   "cell_type": "markdown",
   "source": [
    "##### spins related information"
   ],
   "metadata": {
    "collapsed": false
   }
  },
  {
   "cell_type": "code",
   "execution_count": 12,
   "outputs": [],
   "source": [
    "spins_cols = [col for col in df_raw_features.columns if\n",
    "              ('_spins' in col) and ('cuml_' not in col) and ('_bucket' not in col) and ('_propn' not in col) and (\n",
    "                      'weeks_' not in col)]"
   ],
   "metadata": {
    "collapsed": false,
    "pycharm": {
     "name": "#%%\n"
    }
   }
  },
  {
   "cell_type": "code",
   "execution_count": 14,
   "outputs": [
    {
     "data": {
      "text/plain": "['song_station_spins_total',\n 'song_station_spins_non_on',\n 'song_station_spins_am_pm_dr',\n 'song_format_spins_total',\n 'song_format_spins_non_on',\n 'song_format_spins_am_pm_dr',\n 'song_market_spins_total',\n 'song_market_spins_non_on',\n 'song_market_spins_am_pm_dr',\n 'artist_station_spins_total',\n 'artist_station_spins_non_on',\n 'artist_station_spins_am_pm_dr',\n 'artist_format_spins_total',\n 'artist_format_spins_non_on',\n 'artist_format_spins_am_pm_dr',\n 'artist_market_spins_total',\n 'artist_market_spins_non_on',\n 'artist_market_spins_am_pm_dr']"
     },
     "execution_count": 14,
     "metadata": {},
     "output_type": "execute_result"
    }
   ],
   "source": [
    "spins_cols"
   ],
   "metadata": {
    "collapsed": false,
    "pycharm": {
     "name": "#%%\n"
    }
   }
  },
  {
   "cell_type": "markdown",
   "source": [
    "##### rolling statistics look back"
   ],
   "metadata": {
    "collapsed": false
   }
  },
  {
   "cell_type": "code",
   "execution_count": 17,
   "outputs": [],
   "source": [
    "id_cols = ['mediabase_id', 'call_letters', 'week_dt', 'weeks_since_hit']\n",
    "df_spins_features = df_raw_features[id_cols]\n",
    "for win_len in rolling_weeks:\n",
    "    for lag in lags:\n",
    "        for col in spins_cols:\n",
    "            col_name = f\"{col}_{win_len}wk_lag{lag}\"\n",
    "            roll_col = df_raw_features.groupby(['mediabase_id', 'call_letters'])[col].rolling(window=win_len, min_periods=0)\n",
    "            df_spins_features[f\"{col_name}_sum\"] = (roll_col.sum().shift(lag).droplevel([0,1])).ffill()\n",
    "            df_spins_features[f\"{col_name}_min\"] = (roll_col.min().shift(lag).droplevel([0,1])).ffill()\n",
    "            df_spins_features[f\"{col_name}_max\"] = (roll_col.max().shift(lag).droplevel([0,1])).ffill()\n",
    "            df_spins_features[f\"{col_name}_mean\"] = (roll_col.mean().shift(lag).droplevel([0,1])).ffill()\n",
    "            df_spins_features[f\"{col_name}_std\"] = (roll_col.std().shift(lag).droplevel([0,1])).ffill()"
   ],
   "metadata": {
    "collapsed": false,
    "pycharm": {
     "name": "#%%\n"
    }
   }
  },
  {
   "cell_type": "code",
   "execution_count": 18,
   "outputs": [],
   "source": [
    "df_spins_features.to_pickle('ebw_spins_features_h1.pkl')"
   ],
   "metadata": {
    "collapsed": false,
    "pycharm": {
     "name": "#%%\n"
    }
   }
  },
  {
   "cell_type": "code",
   "execution_count": 19,
   "outputs": [
    {
     "data": {
      "text/plain": "(656339, 1804)"
     },
     "execution_count": 19,
     "metadata": {},
     "output_type": "execute_result"
    }
   ],
   "source": [
    "df_spins_features.shape"
   ],
   "metadata": {
    "collapsed": false,
    "pycharm": {
     "name": "#%%\n"
    }
   }
  },
  {
   "cell_type": "markdown",
   "source": [
    "##### rolling stats from ftq to hit\n"
   ],
   "metadata": {
    "collapsed": false
   }
  },
  {
   "cell_type": "code",
   "execution_count": 75,
   "outputs": [],
   "source": [
    "# for col in spins_cols:\n",
    "#     col_name = f\"{col}_ftq_to_hit\"\n",
    "#     col_names = [f\"{col_name}_min\", f\"{col_name}_max\", f\"{col_name}_mean\", f\"{col_name}_std\"]\n",
    "#     mask = (df_raw_features['week_dt'] >= df_raw_features['week_dt_at_ftq']) & (\n",
    "#             df_raw_features['week_dt'] <= df_raw_features['week_dt_at_hit'])\n",
    "#     df_sub = df_raw_features.loc[mask]\n",
    "#     df_sub_grpd = df_sub.groupby(['mediabase_id', 'call_letters'])[col]\n",
    "#     df_temp = pd.concat([df_sub_grpd.min(), df_sub_grpd.max(), df_sub_grpd.mean(), df_sub_grpd.std()], axis=1)\n",
    "#     df_temp.columns=col_names\n",
    "#     df_raw_features = df_raw_features.join(df_temp, on =['mediabase_id', 'call_letters'], how='left')"
   ],
   "metadata": {
    "collapsed": false,
    "pycharm": {
     "name": "#%%\n"
    }
   }
  },
  {
   "cell_type": "markdown",
   "source": [
    "##### stream related data"
   ],
   "metadata": {
    "collapsed": false
   }
  },
  {
   "cell_type": "code",
   "execution_count": 7,
   "outputs": [],
   "source": [
    "stream_cols = [col for col in df_raw_features.columns if '_unv' in col]"
   ],
   "metadata": {
    "collapsed": false,
    "pycharm": {
     "name": "#%%\n"
    }
   }
  },
  {
   "cell_type": "code",
   "execution_count": 8,
   "outputs": [
    {
     "data": {
      "text/plain": "['max_stream_count_prior_unv',\n 'min_stream_count_prior_unv',\n 'mean_stream_count_prior_unv',\n 'std_stream_count_prior_unv',\n 'med_stream_count_prior_unv',\n 'mr_stream_count_prior_unv',\n 'max_completed_count_prior_unv',\n 'min_completed_count_prior_unv',\n 'mean_completed_count_prior_unv',\n 'std_completed_count_prior_unv',\n 'med_completed_count_prior_unv',\n 'mr_completed_count_prior_unv',\n 'max_completed_rate_prior_unv',\n 'min_completed_rate_prior_unv',\n 'mean_completed_rate_prior_unv',\n 'std_completed_rate_prior_unv',\n 'med_completed_rate_prior_unv',\n 'mr_completed_rate_prior_unv',\n 'max_thumbs_up_rate_prior_unv',\n 'min_thumbs_up_rate_prior_unv',\n 'mean_thumbs_up_rate_prior_unv',\n 'std_thumbs_up_rate_prior_unv',\n 'med_thumbs_up_rate_prior_unv',\n 'mr_thumbs_up_rate_prior_unv']"
     },
     "execution_count": 8,
     "metadata": {},
     "output_type": "execute_result"
    }
   ],
   "source": [
    "stream_cols"
   ],
   "metadata": {
    "collapsed": false,
    "pycharm": {
     "name": "#%%\n"
    }
   }
  },
  {
   "cell_type": "code",
   "execution_count": 9,
   "outputs": [],
   "source": [
    "id_cols = ['mediabase_id', 'call_letters', 'week_dt', 'weeks_since_hit']\n",
    "df_streams_features = df_raw_features[id_cols + stream_cols]"
   ],
   "metadata": {
    "collapsed": false,
    "pycharm": {
     "name": "#%%\n"
    }
   }
  },
  {
   "cell_type": "code",
   "execution_count": 10,
   "outputs": [
    {
     "data": {
      "text/plain": "        mediabase_id call_letters    week_dt  weeks_since_hit  \\\n0            1086587      KHTS-FM 2022-06-12            -19.0   \n1            1086587      KHTS-FM 2022-06-19            -18.0   \n2            1086587      KHTS-FM 2022-06-26            -17.0   \n3            1086587      KHTS-FM 2022-07-03            -16.0   \n4            1086587      KHTS-FM 2022-07-10            -15.0   \n...              ...          ...        ...              ...   \n656334       2865765      WZFT-FM 2023-02-26              3.0   \n656335       2865765      WZFT-FM 2023-03-05              4.0   \n656336       2865765      WZFT-FM 2023-03-12              5.0   \n656337       2865765      WZFT-FM 2023-03-19              6.0   \n656338       2865765      WZFT-FM 2023-03-26              7.0   \n\n        max_stream_count_prior_unv  min_stream_count_prior_unv  \\\n0                          11852.0                      9952.0   \n1                          12578.0                      9952.0   \n2                          12578.0                      9952.0   \n3                          22934.0                      9952.0   \n4                          22934.0                      9952.0   \n...                            ...                         ...   \n656334                         NaN                         NaN   \n656335                         NaN                         NaN   \n656336                         NaN                         NaN   \n656337                         NaN                         NaN   \n656338                         NaN                         NaN   \n\n        mean_stream_count_prior_unv  std_stream_count_prior_unv  \\\n0                      11377.000000                  859.307332   \n1                      11922.909091                  872.602616   \n2                      11920.125000                  718.212106   \n3                      14542.476190                 4788.763857   \n4                      15050.461538                 4420.497170   \n...                             ...                         ...   \n656334                          NaN                         NaN   \n656335                          NaN                         NaN   \n656336                          NaN                         NaN   \n656337                          NaN                         NaN   \n656338                          NaN                         NaN   \n\n        med_stream_count_prior_unv  mr_stream_count_prior_unv  ...  \\\n0                          11852.0                    11852.0  ...   \n1                          11852.0                    12578.0  ...   \n2                          11914.0                    11914.0  ...   \n3                          11914.0                    22934.0  ...   \n4                          12578.0                    17184.0  ...   \n...                            ...                        ...  ...   \n656334                         NaN                        NaN  ...   \n656335                         NaN                        NaN  ...   \n656336                         NaN                        NaN  ...   \n656337                         NaN                        NaN  ...   \n656338                         NaN                        NaN  ...   \n\n        mean_completed_rate_prior_unv  std_completed_rate_prior_unv  \\\n0                            0.688990                      0.004898   \n1                            0.688697                      0.003560   \n2                            0.686726                      0.004172   \n3                            0.670828                      0.029012   \n4                            0.667968                      0.026677   \n...                               ...                           ...   \n656334                            NaN                           NaN   \n656335                            NaN                           NaN   \n656336                            NaN                           NaN   \n656337                            NaN                           NaN   \n656338                            NaN                           NaN   \n\n        med_completed_rate_prior_unv  mr_completed_rate_prior_unv  \\\n0                           0.691698                     0.691698   \n1                           0.688345                     0.688345   \n2                           0.688345                     0.682390   \n3                           0.682390                     0.619953   \n4                           0.682390                     0.655959   \n...                              ...                          ...   \n656334                           NaN                          NaN   \n656335                           NaN                          NaN   \n656336                           NaN                          NaN   \n656337                           NaN                          NaN   \n656338                           NaN                          NaN   \n\n        max_thumbs_up_rate_prior_unv  min_thumbs_up_rate_prior_unv  \\\n0                           0.979094                      0.938017   \n1                           0.979094                      0.938017   \n2                           0.979094                      0.938017   \n3                           0.979094                      0.938017   \n4                           0.979094                      0.938017   \n...                              ...                           ...   \n656334                           NaN                           NaN   \n656335                           NaN                           NaN   \n656336                           NaN                           NaN   \n656337                           NaN                           NaN   \n656338                           NaN                           NaN   \n\n        mean_thumbs_up_rate_prior_unv  std_thumbs_up_rate_prior_unv  \\\n0                            0.948286                      0.018578   \n1                            0.953009                      0.014451   \n2                            0.955675                      0.012554   \n3                            0.952516                      0.012324   \n4                            0.954275                      0.011633   \n...                               ...                           ...   \n656334                            NaN                           NaN   \n656335                            NaN                           NaN   \n656336                            NaN                           NaN   \n656337                            NaN                           NaN   \n656338                            NaN                           NaN   \n\n        med_thumbs_up_rate_prior_unv  mr_thumbs_up_rate_prior_unv  \n0                           0.938017                     0.938017  \n1                           0.958678                     0.958678  \n2                           0.958678                     0.961538  \n3                           0.958678                     0.942408  \n4                           0.958678                     0.961661  \n...                              ...                          ...  \n656334                           NaN                          NaN  \n656335                           NaN                          NaN  \n656336                           NaN                          NaN  \n656337                           NaN                          NaN  \n656338                           NaN                          NaN  \n\n[656339 rows x 28 columns]",
      "text/html": "<div>\n<style scoped>\n    .dataframe tbody tr th:only-of-type {\n        vertical-align: middle;\n    }\n\n    .dataframe tbody tr th {\n        vertical-align: top;\n    }\n\n    .dataframe thead th {\n        text-align: right;\n    }\n</style>\n<table border=\"1\" class=\"dataframe\">\n  <thead>\n    <tr style=\"text-align: right;\">\n      <th></th>\n      <th>mediabase_id</th>\n      <th>call_letters</th>\n      <th>week_dt</th>\n      <th>weeks_since_hit</th>\n      <th>max_stream_count_prior_unv</th>\n      <th>min_stream_count_prior_unv</th>\n      <th>mean_stream_count_prior_unv</th>\n      <th>std_stream_count_prior_unv</th>\n      <th>med_stream_count_prior_unv</th>\n      <th>mr_stream_count_prior_unv</th>\n      <th>...</th>\n      <th>mean_completed_rate_prior_unv</th>\n      <th>std_completed_rate_prior_unv</th>\n      <th>med_completed_rate_prior_unv</th>\n      <th>mr_completed_rate_prior_unv</th>\n      <th>max_thumbs_up_rate_prior_unv</th>\n      <th>min_thumbs_up_rate_prior_unv</th>\n      <th>mean_thumbs_up_rate_prior_unv</th>\n      <th>std_thumbs_up_rate_prior_unv</th>\n      <th>med_thumbs_up_rate_prior_unv</th>\n      <th>mr_thumbs_up_rate_prior_unv</th>\n    </tr>\n  </thead>\n  <tbody>\n    <tr>\n      <th>0</th>\n      <td>1086587</td>\n      <td>KHTS-FM</td>\n      <td>2022-06-12</td>\n      <td>-19.0</td>\n      <td>11852.0</td>\n      <td>9952.0</td>\n      <td>11377.000000</td>\n      <td>859.307332</td>\n      <td>11852.0</td>\n      <td>11852.0</td>\n      <td>...</td>\n      <td>0.688990</td>\n      <td>0.004898</td>\n      <td>0.691698</td>\n      <td>0.691698</td>\n      <td>0.979094</td>\n      <td>0.938017</td>\n      <td>0.948286</td>\n      <td>0.018578</td>\n      <td>0.938017</td>\n      <td>0.938017</td>\n    </tr>\n    <tr>\n      <th>1</th>\n      <td>1086587</td>\n      <td>KHTS-FM</td>\n      <td>2022-06-19</td>\n      <td>-18.0</td>\n      <td>12578.0</td>\n      <td>9952.0</td>\n      <td>11922.909091</td>\n      <td>872.602616</td>\n      <td>11852.0</td>\n      <td>12578.0</td>\n      <td>...</td>\n      <td>0.688697</td>\n      <td>0.003560</td>\n      <td>0.688345</td>\n      <td>0.688345</td>\n      <td>0.979094</td>\n      <td>0.938017</td>\n      <td>0.953009</td>\n      <td>0.014451</td>\n      <td>0.958678</td>\n      <td>0.958678</td>\n    </tr>\n    <tr>\n      <th>2</th>\n      <td>1086587</td>\n      <td>KHTS-FM</td>\n      <td>2022-06-26</td>\n      <td>-17.0</td>\n      <td>12578.0</td>\n      <td>9952.0</td>\n      <td>11920.125000</td>\n      <td>718.212106</td>\n      <td>11914.0</td>\n      <td>11914.0</td>\n      <td>...</td>\n      <td>0.686726</td>\n      <td>0.004172</td>\n      <td>0.688345</td>\n      <td>0.682390</td>\n      <td>0.979094</td>\n      <td>0.938017</td>\n      <td>0.955675</td>\n      <td>0.012554</td>\n      <td>0.958678</td>\n      <td>0.961538</td>\n    </tr>\n    <tr>\n      <th>3</th>\n      <td>1086587</td>\n      <td>KHTS-FM</td>\n      <td>2022-07-03</td>\n      <td>-16.0</td>\n      <td>22934.0</td>\n      <td>9952.0</td>\n      <td>14542.476190</td>\n      <td>4788.763857</td>\n      <td>11914.0</td>\n      <td>22934.0</td>\n      <td>...</td>\n      <td>0.670828</td>\n      <td>0.029012</td>\n      <td>0.682390</td>\n      <td>0.619953</td>\n      <td>0.979094</td>\n      <td>0.938017</td>\n      <td>0.952516</td>\n      <td>0.012324</td>\n      <td>0.958678</td>\n      <td>0.942408</td>\n    </tr>\n    <tr>\n      <th>4</th>\n      <td>1086587</td>\n      <td>KHTS-FM</td>\n      <td>2022-07-10</td>\n      <td>-15.0</td>\n      <td>22934.0</td>\n      <td>9952.0</td>\n      <td>15050.461538</td>\n      <td>4420.497170</td>\n      <td>12578.0</td>\n      <td>17184.0</td>\n      <td>...</td>\n      <td>0.667968</td>\n      <td>0.026677</td>\n      <td>0.682390</td>\n      <td>0.655959</td>\n      <td>0.979094</td>\n      <td>0.938017</td>\n      <td>0.954275</td>\n      <td>0.011633</td>\n      <td>0.958678</td>\n      <td>0.961661</td>\n    </tr>\n    <tr>\n      <th>...</th>\n      <td>...</td>\n      <td>...</td>\n      <td>...</td>\n      <td>...</td>\n      <td>...</td>\n      <td>...</td>\n      <td>...</td>\n      <td>...</td>\n      <td>...</td>\n      <td>...</td>\n      <td>...</td>\n      <td>...</td>\n      <td>...</td>\n      <td>...</td>\n      <td>...</td>\n      <td>...</td>\n      <td>...</td>\n      <td>...</td>\n      <td>...</td>\n      <td>...</td>\n      <td>...</td>\n    </tr>\n    <tr>\n      <th>656334</th>\n      <td>2865765</td>\n      <td>WZFT-FM</td>\n      <td>2023-02-26</td>\n      <td>3.0</td>\n      <td>NaN</td>\n      <td>NaN</td>\n      <td>NaN</td>\n      <td>NaN</td>\n      <td>NaN</td>\n      <td>NaN</td>\n      <td>...</td>\n      <td>NaN</td>\n      <td>NaN</td>\n      <td>NaN</td>\n      <td>NaN</td>\n      <td>NaN</td>\n      <td>NaN</td>\n      <td>NaN</td>\n      <td>NaN</td>\n      <td>NaN</td>\n      <td>NaN</td>\n    </tr>\n    <tr>\n      <th>656335</th>\n      <td>2865765</td>\n      <td>WZFT-FM</td>\n      <td>2023-03-05</td>\n      <td>4.0</td>\n      <td>NaN</td>\n      <td>NaN</td>\n      <td>NaN</td>\n      <td>NaN</td>\n      <td>NaN</td>\n      <td>NaN</td>\n      <td>...</td>\n      <td>NaN</td>\n      <td>NaN</td>\n      <td>NaN</td>\n      <td>NaN</td>\n      <td>NaN</td>\n      <td>NaN</td>\n      <td>NaN</td>\n      <td>NaN</td>\n      <td>NaN</td>\n      <td>NaN</td>\n    </tr>\n    <tr>\n      <th>656336</th>\n      <td>2865765</td>\n      <td>WZFT-FM</td>\n      <td>2023-03-12</td>\n      <td>5.0</td>\n      <td>NaN</td>\n      <td>NaN</td>\n      <td>NaN</td>\n      <td>NaN</td>\n      <td>NaN</td>\n      <td>NaN</td>\n      <td>...</td>\n      <td>NaN</td>\n      <td>NaN</td>\n      <td>NaN</td>\n      <td>NaN</td>\n      <td>NaN</td>\n      <td>NaN</td>\n      <td>NaN</td>\n      <td>NaN</td>\n      <td>NaN</td>\n      <td>NaN</td>\n    </tr>\n    <tr>\n      <th>656337</th>\n      <td>2865765</td>\n      <td>WZFT-FM</td>\n      <td>2023-03-19</td>\n      <td>6.0</td>\n      <td>NaN</td>\n      <td>NaN</td>\n      <td>NaN</td>\n      <td>NaN</td>\n      <td>NaN</td>\n      <td>NaN</td>\n      <td>...</td>\n      <td>NaN</td>\n      <td>NaN</td>\n      <td>NaN</td>\n      <td>NaN</td>\n      <td>NaN</td>\n      <td>NaN</td>\n      <td>NaN</td>\n      <td>NaN</td>\n      <td>NaN</td>\n      <td>NaN</td>\n    </tr>\n    <tr>\n      <th>656338</th>\n      <td>2865765</td>\n      <td>WZFT-FM</td>\n      <td>2023-03-26</td>\n      <td>7.0</td>\n      <td>NaN</td>\n      <td>NaN</td>\n      <td>NaN</td>\n      <td>NaN</td>\n      <td>NaN</td>\n      <td>NaN</td>\n      <td>...</td>\n      <td>NaN</td>\n      <td>NaN</td>\n      <td>NaN</td>\n      <td>NaN</td>\n      <td>NaN</td>\n      <td>NaN</td>\n      <td>NaN</td>\n      <td>NaN</td>\n      <td>NaN</td>\n      <td>NaN</td>\n    </tr>\n  </tbody>\n</table>\n<p>656339 rows × 28 columns</p>\n</div>"
     },
     "execution_count": 10,
     "metadata": {},
     "output_type": "execute_result"
    }
   ],
   "source": [
    "df_streams_features"
   ],
   "metadata": {
    "collapsed": false,
    "pycharm": {
     "name": "#%%\n"
    }
   }
  },
  {
   "cell_type": "code",
   "execution_count": 11,
   "outputs": [],
   "source": [
    "df_streams_features.to_pickle('ebw_streams_features_h1.pkl')"
   ],
   "metadata": {
    "collapsed": false,
    "pycharm": {
     "name": "#%%\n"
    }
   }
  },
  {
   "cell_type": "markdown",
   "source": [
    "##### rolling statistics look back"
   ],
   "metadata": {
    "collapsed": false
   }
  },
  {
   "cell_type": "code",
   "execution_count": null,
   "outputs": [],
   "source": [
    "# for win_len in rolling_weeks:\n",
    "#     for lag in lags:\n",
    "#         for col in stream_cols:\n",
    "#             col_name = f\"{col}_prior_{win_len}wk_lag{lag}\"\n",
    "#             roll_col = df_raw_features.groupby(['mediabase_id', 'call_letters'])[col].rolling(window=win_len, min_periods=0)\n",
    "#             df_raw_features[f\"{col_name}_min\"] = (roll_col.min().shift(lag).droplevel([0,1])).ffill()\n",
    "#             df_raw_features[f\"{col_name}_max\"] = (roll_col.max().shift(lag).droplevel([0,1])).ffill()\n",
    "#             df_raw_features[f\"{col_name}_mean\"] = (roll_col.mean().shift(lag).droplevel([0,1])).ffill()\n",
    "#             # df_raw_features[f\"{col_name}_std\"] = (roll_col.std().shift(1).droplevel([0,1])).ffill()"
   ],
   "metadata": {
    "collapsed": false,
    "pycharm": {
     "name": "#%%\n",
     "is_executing": true
    }
   }
  },
  {
   "cell_type": "markdown",
   "source": [
    "##### rolling stats from ftq to hit\n"
   ],
   "metadata": {
    "collapsed": false
   }
  },
  {
   "cell_type": "code",
   "execution_count": 79,
   "outputs": [],
   "source": [
    "# for col in stream_cols:\n",
    "#     col_name = f\"{col}_ftq_to_hit\"\n",
    "#     col_names = [f\"{col_name}_min\", f\"{col_name}_max\", f\"{col_name}_mean\", f\"{col_name}_std\"]\n",
    "#     mask = (df_raw_features['week_dt'] >= df_raw_features['week_dt_at_ftq']) & (\n",
    "#             df_raw_features['week_dt'] <= df_raw_features['week_dt_at_hit'])\n",
    "#     df_sub = df_raw_features.loc[mask]\n",
    "#     df_sub_grpd = df_sub.groupby(['mediabase_id', 'call_letters'])[col]\n",
    "#     df_temp = pd.concat([df_sub_grpd.min(), df_sub_grpd.max(), df_sub_grpd.mean(), df_sub_grpd.std()], axis=1)\n",
    "#     df_temp.columns=col_names\n",
    "#     df_raw_features = df_raw_features.join(df_temp, on =['mediabase_id', 'call_letters'], how='left')"
   ],
   "metadata": {
    "collapsed": false,
    "pycharm": {
     "name": "#%%\n"
    }
   }
  },
  {
   "cell_type": "markdown",
   "source": [
    "##### proportion related data"
   ],
   "metadata": {
    "collapsed": false
   }
  },
  {
   "cell_type": "code",
   "execution_count": 23,
   "outputs": [
    {
     "data": {
      "text/plain": "['song_station_spins_non_on_1wk_lag1_sum',\n 'song_market_spins_non_on_1wk_lag1_sum',\n 'song_station_spins_non_on_1wk_lag2_sum',\n 'song_market_spins_non_on_1wk_lag2_sum',\n 'song_station_spins_non_on_1wk_lag3_sum',\n 'song_market_spins_non_on_1wk_lag3_sum',\n 'song_station_spins_non_on_1wk_lag4_sum',\n 'song_market_spins_non_on_1wk_lag4_sum',\n 'song_station_spins_non_on_4wk_lag1_sum',\n 'song_market_spins_non_on_4wk_lag1_sum',\n 'song_station_spins_non_on_4wk_lag2_sum',\n 'song_market_spins_non_on_4wk_lag2_sum',\n 'song_station_spins_non_on_4wk_lag3_sum',\n 'song_market_spins_non_on_4wk_lag3_sum',\n 'song_station_spins_non_on_4wk_lag4_sum',\n 'song_market_spins_non_on_4wk_lag4_sum',\n 'song_station_spins_non_on_8wk_lag1_sum',\n 'song_market_spins_non_on_8wk_lag1_sum',\n 'song_station_spins_non_on_8wk_lag2_sum',\n 'song_market_spins_non_on_8wk_lag2_sum',\n 'song_station_spins_non_on_8wk_lag3_sum',\n 'song_market_spins_non_on_8wk_lag3_sum',\n 'song_station_spins_non_on_8wk_lag4_sum',\n 'song_market_spins_non_on_8wk_lag4_sum',\n 'song_station_spins_non_on_13wk_lag1_sum',\n 'song_market_spins_non_on_13wk_lag1_sum',\n 'song_station_spins_non_on_13wk_lag2_sum',\n 'song_market_spins_non_on_13wk_lag2_sum',\n 'song_station_spins_non_on_13wk_lag3_sum',\n 'song_market_spins_non_on_13wk_lag3_sum',\n 'song_station_spins_non_on_13wk_lag4_sum',\n 'song_market_spins_non_on_13wk_lag4_sum',\n 'song_station_spins_non_on_26wk_lag1_sum',\n 'song_market_spins_non_on_26wk_lag1_sum',\n 'song_station_spins_non_on_26wk_lag2_sum',\n 'song_market_spins_non_on_26wk_lag2_sum',\n 'song_station_spins_non_on_26wk_lag3_sum',\n 'song_market_spins_non_on_26wk_lag3_sum',\n 'song_station_spins_non_on_26wk_lag4_sum',\n 'song_market_spins_non_on_26wk_lag4_sum']"
     },
     "execution_count": 23,
     "metadata": {},
     "output_type": "execute_result"
    }
   ],
   "source": [
    "\n",
    "[ col for col in df_spins_features.columns if ('_sum' in col) and (('song_station_spins_non_on' in col) or ('song_market_spins_non_on' in col))]"
   ],
   "metadata": {
    "collapsed": false,
    "pycharm": {
     "name": "#%%\n"
    }
   }
  },
  {
   "cell_type": "code",
   "execution_count": 80,
   "outputs": [],
   "source": [
    "propn_cols = [col for col in df_raw_features.columns if 'propn' in col]"
   ],
   "metadata": {
    "collapsed": false,
    "pycharm": {
     "name": "#%%\n"
    }
   }
  },
  {
   "cell_type": "code",
   "execution_count": 81,
   "outputs": [
    {
     "data": {
      "text/plain": "['market_spins_propn', 'artist_spins_propn']"
     },
     "execution_count": 81,
     "metadata": {},
     "output_type": "execute_result"
    }
   ],
   "source": [
    "propn_cols"
   ],
   "metadata": {
    "collapsed": false,
    "pycharm": {
     "name": "#%%\n"
    }
   }
  },
  {
   "cell_type": "code",
   "execution_count": 28,
   "outputs": [
    {
     "data": {
      "text/plain": "(656339, 1804)"
     },
     "execution_count": 28,
     "metadata": {},
     "output_type": "execute_result"
    }
   ],
   "source": [
    "df_spins_features.shape"
   ],
   "metadata": {
    "collapsed": false,
    "pycharm": {
     "name": "#%%\n"
    }
   }
  },
  {
   "cell_type": "code",
   "execution_count": 31,
   "outputs": [],
   "source": [
    "df_test = df_spins_features.set_index(['call_letters', 'mediabase_id', 'week_dt'])['song_station_spins_non_on_1wk_lag1_sum']/df_spins_features.groupby(['call_letters', 'week_dt'])['song_station_spins_non_on_1wk_lag1_sum'].sum()"
   ],
   "metadata": {
    "collapsed": false,
    "pycharm": {
     "name": "#%%\n"
    }
   }
  },
  {
   "cell_type": "code",
   "execution_count": 36,
   "outputs": [
    {
     "data": {
      "text/plain": "        mediabase_id call_letters    week_dt  weeks_since_hit  \\\n0            1086587      KHTS-FM 2022-06-12            -19.0   \n1            1086587      KHTS-FM 2022-06-19            -18.0   \n2            1086587      KHTS-FM 2022-06-26            -17.0   \n3            1086587      KHTS-FM 2022-07-03            -16.0   \n4            1086587      KHTS-FM 2022-07-10            -15.0   \n...              ...          ...        ...              ...   \n656334       2865765      WZFT-FM 2023-02-26              3.0   \n656335       2865765      WZFT-FM 2023-03-05              4.0   \n656336       2865765      WZFT-FM 2023-03-12              5.0   \n656337       2865765      WZFT-FM 2023-03-19              6.0   \n656338       2865765      WZFT-FM 2023-03-26              7.0   \n\n        song_station_spins_total_1wk_lag1_sum  \\\n0                                         NaN   \n1                                        17.0   \n2                                        30.0   \n3                                        29.0   \n4                                        37.0   \n...                                       ...   \n656334                                  108.0   \n656335                                  121.0   \n656336                                  129.0   \n656337                                  121.0   \n656338                                  128.0   \n\n        song_station_spins_total_1wk_lag1_min  \\\n0                                         NaN   \n1                                        17.0   \n2                                        30.0   \n3                                        29.0   \n4                                        37.0   \n...                                       ...   \n656334                                  108.0   \n656335                                  121.0   \n656336                                  129.0   \n656337                                  121.0   \n656338                                  128.0   \n\n        song_station_spins_total_1wk_lag1_max  \\\n0                                         NaN   \n1                                        17.0   \n2                                        30.0   \n3                                        29.0   \n4                                        37.0   \n...                                       ...   \n656334                                  108.0   \n656335                                  121.0   \n656336                                  129.0   \n656337                                  121.0   \n656338                                  128.0   \n\n        song_station_spins_total_1wk_lag1_mean  \\\n0                                          NaN   \n1                                         17.0   \n2                                         30.0   \n3                                         29.0   \n4                                         37.0   \n...                                        ...   \n656334                                   108.0   \n656335                                   121.0   \n656336                                   129.0   \n656337                                   121.0   \n656338                                   128.0   \n\n        song_station_spins_total_1wk_lag1_std  \\\n0                                         NaN   \n1                                         NaN   \n2                                         NaN   \n3                                         NaN   \n4                                         NaN   \n...                                       ...   \n656334                                    NaN   \n656335                                    NaN   \n656336                                    NaN   \n656337                                    NaN   \n656338                                    NaN   \n\n        song_station_spins_non_on_1wk_lag1_sum  ...  \\\n0                                          NaN  ...   \n1                                         11.0  ...   \n2                                         16.0  ...   \n3                                         19.0  ...   \n4                                         31.0  ...   \n...                                        ...  ...   \n656334                                    80.0  ...   \n656335                                    91.0  ...   \n656336                                    97.0  ...   \n656337                                    91.0  ...   \n656338                                    94.0  ...   \n\n        artist_market_spins_non_on_26wk_lag4_sum  \\\n0                                            NaN   \n1                                            NaN   \n2                                            NaN   \n3                                            NaN   \n4                                           45.0   \n...                                          ...   \n656334                                     447.0   \n656335                                     606.0   \n656336                                     767.0   \n656337                                     948.0   \n656338                                    1181.0   \n\n        artist_market_spins_non_on_26wk_lag4_min  \\\n0                                            NaN   \n1                                            NaN   \n2                                            NaN   \n3                                            NaN   \n4                                           45.0   \n...                                          ...   \n656334                                      31.0   \n656335                                      31.0   \n656336                                      31.0   \n656337                                      31.0   \n656338                                      31.0   \n\n        artist_market_spins_non_on_26wk_lag4_max  \\\n0                                            NaN   \n1                                            NaN   \n2                                            NaN   \n3                                            NaN   \n4                                           45.0   \n...                                          ...   \n656334                                     139.0   \n656335                                     159.0   \n656336                                     161.0   \n656337                                     181.0   \n656338                                     233.0   \n\n        artist_market_spins_non_on_26wk_lag4_mean  \\\n0                                             NaN   \n1                                             NaN   \n2                                             NaN   \n3                                             NaN   \n4                                       45.000000   \n...                                           ...   \n656334                                  89.400000   \n656335                                 101.000000   \n656336                                 109.571429   \n656337                                 118.500000   \n656338                                 131.222222   \n\n        artist_market_spins_non_on_26wk_lag4_std  \\\n0                                            NaN   \n1                                            NaN   \n2                                            NaN   \n3                                            NaN   \n4                                            NaN   \n...                                          ...   \n656334                                 46.182248   \n656335                                 50.135816   \n656336                                 51.077905   \n656337                                 53.609701   \n656338                                 63.019397   \n\n        artist_market_spins_am_pm_dr_26wk_lag4_sum  \\\n0                                              NaN   \n1                                              NaN   \n2                                              NaN   \n3                                              NaN   \n4                                             22.0   \n...                                            ...   \n656334                                       312.0   \n656335                                       416.0   \n656336                                       522.0   \n656337                                       650.0   \n656338                                       815.0   \n\n        artist_market_spins_am_pm_dr_26wk_lag4_min  \\\n0                                              NaN   \n1                                              NaN   \n2                                              NaN   \n3                                              NaN   \n4                                             22.0   \n...                                            ...   \n656334                                        22.0   \n656335                                        22.0   \n656336                                        22.0   \n656337                                        22.0   \n656338                                        22.0   \n\n        artist_market_spins_am_pm_dr_26wk_lag4_max  \\\n0                                              NaN   \n1                                              NaN   \n2                                              NaN   \n3                                              NaN   \n4                                             22.0   \n...                                            ...   \n656334                                        91.0   \n656335                                       104.0   \n656336                                       106.0   \n656337                                       128.0   \n656338                                       165.0   \n\n        artist_market_spins_am_pm_dr_26wk_lag4_mean  \\\n0                                               NaN   \n1                                               NaN   \n2                                               NaN   \n3                                               NaN   \n4                                         22.000000   \n...                                             ...   \n656334                                    62.400000   \n656335                                    69.333333   \n656336                                    74.571429   \n656337                                    81.250000   \n656338                                    90.555556   \n\n        artist_market_spins_am_pm_dr_26wk_lag4_std  \n0                                              NaN  \n1                                              NaN  \n2                                              NaN  \n3                                              NaN  \n4                                              NaN  \n...                                            ...  \n656334                                   31.572140  \n656335                                   32.952491  \n656336                                   33.120271  \n656337                                   36.014878  \n656338                                   43.752460  \n\n[656339 rows x 1804 columns]",
      "text/html": "<div>\n<style scoped>\n    .dataframe tbody tr th:only-of-type {\n        vertical-align: middle;\n    }\n\n    .dataframe tbody tr th {\n        vertical-align: top;\n    }\n\n    .dataframe thead th {\n        text-align: right;\n    }\n</style>\n<table border=\"1\" class=\"dataframe\">\n  <thead>\n    <tr style=\"text-align: right;\">\n      <th></th>\n      <th>mediabase_id</th>\n      <th>call_letters</th>\n      <th>week_dt</th>\n      <th>weeks_since_hit</th>\n      <th>song_station_spins_total_1wk_lag1_sum</th>\n      <th>song_station_spins_total_1wk_lag1_min</th>\n      <th>song_station_spins_total_1wk_lag1_max</th>\n      <th>song_station_spins_total_1wk_lag1_mean</th>\n      <th>song_station_spins_total_1wk_lag1_std</th>\n      <th>song_station_spins_non_on_1wk_lag1_sum</th>\n      <th>...</th>\n      <th>artist_market_spins_non_on_26wk_lag4_sum</th>\n      <th>artist_market_spins_non_on_26wk_lag4_min</th>\n      <th>artist_market_spins_non_on_26wk_lag4_max</th>\n      <th>artist_market_spins_non_on_26wk_lag4_mean</th>\n      <th>artist_market_spins_non_on_26wk_lag4_std</th>\n      <th>artist_market_spins_am_pm_dr_26wk_lag4_sum</th>\n      <th>artist_market_spins_am_pm_dr_26wk_lag4_min</th>\n      <th>artist_market_spins_am_pm_dr_26wk_lag4_max</th>\n      <th>artist_market_spins_am_pm_dr_26wk_lag4_mean</th>\n      <th>artist_market_spins_am_pm_dr_26wk_lag4_std</th>\n    </tr>\n  </thead>\n  <tbody>\n    <tr>\n      <th>0</th>\n      <td>1086587</td>\n      <td>KHTS-FM</td>\n      <td>2022-06-12</td>\n      <td>-19.0</td>\n      <td>NaN</td>\n      <td>NaN</td>\n      <td>NaN</td>\n      <td>NaN</td>\n      <td>NaN</td>\n      <td>NaN</td>\n      <td>...</td>\n      <td>NaN</td>\n      <td>NaN</td>\n      <td>NaN</td>\n      <td>NaN</td>\n      <td>NaN</td>\n      <td>NaN</td>\n      <td>NaN</td>\n      <td>NaN</td>\n      <td>NaN</td>\n      <td>NaN</td>\n    </tr>\n    <tr>\n      <th>1</th>\n      <td>1086587</td>\n      <td>KHTS-FM</td>\n      <td>2022-06-19</td>\n      <td>-18.0</td>\n      <td>17.0</td>\n      <td>17.0</td>\n      <td>17.0</td>\n      <td>17.0</td>\n      <td>NaN</td>\n      <td>11.0</td>\n      <td>...</td>\n      <td>NaN</td>\n      <td>NaN</td>\n      <td>NaN</td>\n      <td>NaN</td>\n      <td>NaN</td>\n      <td>NaN</td>\n      <td>NaN</td>\n      <td>NaN</td>\n      <td>NaN</td>\n      <td>NaN</td>\n    </tr>\n    <tr>\n      <th>2</th>\n      <td>1086587</td>\n      <td>KHTS-FM</td>\n      <td>2022-06-26</td>\n      <td>-17.0</td>\n      <td>30.0</td>\n      <td>30.0</td>\n      <td>30.0</td>\n      <td>30.0</td>\n      <td>NaN</td>\n      <td>16.0</td>\n      <td>...</td>\n      <td>NaN</td>\n      <td>NaN</td>\n      <td>NaN</td>\n      <td>NaN</td>\n      <td>NaN</td>\n      <td>NaN</td>\n      <td>NaN</td>\n      <td>NaN</td>\n      <td>NaN</td>\n      <td>NaN</td>\n    </tr>\n    <tr>\n      <th>3</th>\n      <td>1086587</td>\n      <td>KHTS-FM</td>\n      <td>2022-07-03</td>\n      <td>-16.0</td>\n      <td>29.0</td>\n      <td>29.0</td>\n      <td>29.0</td>\n      <td>29.0</td>\n      <td>NaN</td>\n      <td>19.0</td>\n      <td>...</td>\n      <td>NaN</td>\n      <td>NaN</td>\n      <td>NaN</td>\n      <td>NaN</td>\n      <td>NaN</td>\n      <td>NaN</td>\n      <td>NaN</td>\n      <td>NaN</td>\n      <td>NaN</td>\n      <td>NaN</td>\n    </tr>\n    <tr>\n      <th>4</th>\n      <td>1086587</td>\n      <td>KHTS-FM</td>\n      <td>2022-07-10</td>\n      <td>-15.0</td>\n      <td>37.0</td>\n      <td>37.0</td>\n      <td>37.0</td>\n      <td>37.0</td>\n      <td>NaN</td>\n      <td>31.0</td>\n      <td>...</td>\n      <td>45.0</td>\n      <td>45.0</td>\n      <td>45.0</td>\n      <td>45.000000</td>\n      <td>NaN</td>\n      <td>22.0</td>\n      <td>22.0</td>\n      <td>22.0</td>\n      <td>22.000000</td>\n      <td>NaN</td>\n    </tr>\n    <tr>\n      <th>...</th>\n      <td>...</td>\n      <td>...</td>\n      <td>...</td>\n      <td>...</td>\n      <td>...</td>\n      <td>...</td>\n      <td>...</td>\n      <td>...</td>\n      <td>...</td>\n      <td>...</td>\n      <td>...</td>\n      <td>...</td>\n      <td>...</td>\n      <td>...</td>\n      <td>...</td>\n      <td>...</td>\n      <td>...</td>\n      <td>...</td>\n      <td>...</td>\n      <td>...</td>\n      <td>...</td>\n    </tr>\n    <tr>\n      <th>656334</th>\n      <td>2865765</td>\n      <td>WZFT-FM</td>\n      <td>2023-02-26</td>\n      <td>3.0</td>\n      <td>108.0</td>\n      <td>108.0</td>\n      <td>108.0</td>\n      <td>108.0</td>\n      <td>NaN</td>\n      <td>80.0</td>\n      <td>...</td>\n      <td>447.0</td>\n      <td>31.0</td>\n      <td>139.0</td>\n      <td>89.400000</td>\n      <td>46.182248</td>\n      <td>312.0</td>\n      <td>22.0</td>\n      <td>91.0</td>\n      <td>62.400000</td>\n      <td>31.572140</td>\n    </tr>\n    <tr>\n      <th>656335</th>\n      <td>2865765</td>\n      <td>WZFT-FM</td>\n      <td>2023-03-05</td>\n      <td>4.0</td>\n      <td>121.0</td>\n      <td>121.0</td>\n      <td>121.0</td>\n      <td>121.0</td>\n      <td>NaN</td>\n      <td>91.0</td>\n      <td>...</td>\n      <td>606.0</td>\n      <td>31.0</td>\n      <td>159.0</td>\n      <td>101.000000</td>\n      <td>50.135816</td>\n      <td>416.0</td>\n      <td>22.0</td>\n      <td>104.0</td>\n      <td>69.333333</td>\n      <td>32.952491</td>\n    </tr>\n    <tr>\n      <th>656336</th>\n      <td>2865765</td>\n      <td>WZFT-FM</td>\n      <td>2023-03-12</td>\n      <td>5.0</td>\n      <td>129.0</td>\n      <td>129.0</td>\n      <td>129.0</td>\n      <td>129.0</td>\n      <td>NaN</td>\n      <td>97.0</td>\n      <td>...</td>\n      <td>767.0</td>\n      <td>31.0</td>\n      <td>161.0</td>\n      <td>109.571429</td>\n      <td>51.077905</td>\n      <td>522.0</td>\n      <td>22.0</td>\n      <td>106.0</td>\n      <td>74.571429</td>\n      <td>33.120271</td>\n    </tr>\n    <tr>\n      <th>656337</th>\n      <td>2865765</td>\n      <td>WZFT-FM</td>\n      <td>2023-03-19</td>\n      <td>6.0</td>\n      <td>121.0</td>\n      <td>121.0</td>\n      <td>121.0</td>\n      <td>121.0</td>\n      <td>NaN</td>\n      <td>91.0</td>\n      <td>...</td>\n      <td>948.0</td>\n      <td>31.0</td>\n      <td>181.0</td>\n      <td>118.500000</td>\n      <td>53.609701</td>\n      <td>650.0</td>\n      <td>22.0</td>\n      <td>128.0</td>\n      <td>81.250000</td>\n      <td>36.014878</td>\n    </tr>\n    <tr>\n      <th>656338</th>\n      <td>2865765</td>\n      <td>WZFT-FM</td>\n      <td>2023-03-26</td>\n      <td>7.0</td>\n      <td>128.0</td>\n      <td>128.0</td>\n      <td>128.0</td>\n      <td>128.0</td>\n      <td>NaN</td>\n      <td>94.0</td>\n      <td>...</td>\n      <td>1181.0</td>\n      <td>31.0</td>\n      <td>233.0</td>\n      <td>131.222222</td>\n      <td>63.019397</td>\n      <td>815.0</td>\n      <td>22.0</td>\n      <td>165.0</td>\n      <td>90.555556</td>\n      <td>43.752460</td>\n    </tr>\n  </tbody>\n</table>\n<p>656339 rows × 1804 columns</p>\n</div>"
     },
     "execution_count": 36,
     "metadata": {},
     "output_type": "execute_result"
    }
   ],
   "source": [
    "df_spins_features"
   ],
   "metadata": {
    "collapsed": false,
    "pycharm": {
     "name": "#%%\n"
    }
   }
  },
  {
   "cell_type": "code",
   "execution_count": null,
   "outputs": [],
   "source": [
    "id_cols = ['mediabase_id', 'call_letters', 'week_dt', 'weeks_since_hit']\n",
    "df_spins_propn_features = df_raw_features[id_cols]\n",
    "for win_len in rolling_weeks:\n",
    "    for lag in lags:\n",
    "        df_spins_propn_features[f'song_station_spins_non_on_{wk}_lag{lag}_sum'] = f'song_station_spins_non_on_{wk}_lag{lag}_sum'\n",
    "        col_name_artist = f''"
   ],
   "metadata": {
    "collapsed": false,
    "pycharm": {
     "name": "#%%\n"
    }
   }
  },
  {
   "cell_type": "markdown",
   "source": [
    "##### rolling statistics look back"
   ],
   "metadata": {
    "collapsed": false
   }
  },
  {
   "cell_type": "code",
   "execution_count": 82,
   "outputs": [],
   "source": [
    "# for win_len in rolling_weeks:\n",
    "#     for col in propn_cols:\n",
    "#         col_name = f\"{col}_prior_{win_len}wk\"\n",
    "#         roll_col = df_raw_features.groupby(['mediabase_id', 'call_letters'])[col].rolling(window=win_len, min_periods=0)\n",
    "#         df_raw_features[f\"{col_name}_min\"] = (roll_col.min().shift(1).droplevel([0,1])).ffill()\n",
    "#         df_raw_features[f\"{col_name}_max\"] = (roll_col.max().shift(1).droplevel([0,1])).ffill()\n",
    "#         df_raw_features[f\"{col_name}_mean\"] = (roll_col.mean().shift(1).droplevel([0,1])).ffill()\n",
    "#         df_raw_features[f\"{col_name}_std\"] = (roll_col.std().shift(1).droplevel([0,1])).ffill()"
   ],
   "metadata": {
    "collapsed": false,
    "pycharm": {
     "name": "#%%\n"
    }
   }
  },
  {
   "cell_type": "code",
   "execution_count": null,
   "outputs": [],
   "source": [
    "'market_spins_propn': lambda df: df['song_station_spins_non_on'] / df['song_market_spins_non_on'],\n",
    "'artist_spins_propn': lambda df: df['song_station_spins_non_on'] / df['artist_station_spins_non_on']"
   ],
   "metadata": {
    "collapsed": false,
    "pycharm": {
     "name": "#%%\n"
    }
   }
  },
  {
   "cell_type": "markdown",
   "source": [
    "##### rolling stats from ftq to hit\n"
   ],
   "metadata": {
    "collapsed": false
   }
  },
  {
   "cell_type": "code",
   "execution_count": 83,
   "outputs": [],
   "source": [
    "# for col in propn_cols:\n",
    "#     col_name = f\"{col}_ftq_to_hit\"\n",
    "#     col_names = [f\"{col_name}_min\", f\"{col_name}_max\", f\"{col_name}_mean\", f\"{col_name}_std\"]\n",
    "#     mask = (df_raw_features['week_dt'] >= df_raw_features['week_dt_at_ftq']) & (\n",
    "#             df_raw_features['week_dt'] <= df_raw_features['week_dt_at_hit'])\n",
    "#     df_sub = df_raw_features.loc[mask]\n",
    "#     df_sub_grpd = df_sub.groupby(['mediabase_id', 'call_letters'])[col]\n",
    "#     df_temp = pd.concat([df_sub_grpd.min(), df_sub_grpd.max(), df_sub_grpd.mean(), df_sub_grpd.std()], axis=1)\n",
    "#     df_temp.columns=col_names\n",
    "#     df_raw_features = df_raw_features.join(df_temp, on =['mediabase_id', 'call_letters'], how='left')"
   ],
   "metadata": {
    "collapsed": false,
    "pycharm": {
     "name": "#%%\n"
    }
   }
  },
  {
   "cell_type": "code",
   "execution_count": 70,
   "outputs": [
    {
     "data": {
      "text/plain": "(675941, 3644)"
     },
     "execution_count": 70,
     "metadata": {},
     "output_type": "execute_result"
    }
   ],
   "source": [
    "df_raw_features.shape"
   ],
   "metadata": {
    "collapsed": false,
    "pycharm": {
     "name": "#%%\n"
    }
   }
  },
  {
   "cell_type": "code",
   "execution_count": null,
   "outputs": [],
   "source": [
    "# propogate censoring flag back to raw features\n",
    "join_cols = ['mediabase_id', 'call_letters']\n",
    "df_sub = df_hits_tracker.set_index(join_cols)['censoring_flg']\n",
    "\n",
    "df_raw_features = df_raw_features.join(df_sub, on=join_cols, how='left')"
   ],
   "metadata": {
    "collapsed": false,
    "pycharm": {
     "name": "#%%\n"
    }
   }
  },
  {
   "cell_type": "code",
   "execution_count": 71,
   "outputs": [],
   "source": [
    "df_hits_tracker.to_pickle('ebw_hits_tracker_h1.pkl')\n",
    "df_raw_features.to_pickle('ebw_temp_features_h1.pkl')"
   ],
   "metadata": {
    "collapsed": false,
    "pycharm": {
     "name": "#%%\n"
    }
   }
  },
  {
   "cell_type": "code",
   "execution_count": null,
   "outputs": [],
   "source": [
    "# import pandas as pd\n",
    "# df_raw_features = pd.read_pickle('ebw_temp_features_h1.pkl')\n",
    "# df_hits_tracker = pd.read_pickle('ebw_hits_tracker_h1.pkl')"
   ],
   "metadata": {
    "collapsed": false,
    "pycharm": {
     "name": "#%%\n",
     "is_executing": true
    }
   }
  },
  {
   "cell_type": "code",
   "execution_count": 93,
   "outputs": [
    {
     "data": {
      "text/plain": "<AxesSubplot:>"
     },
     "execution_count": 93,
     "metadata": {},
     "output_type": "execute_result"
    },
    {
     "data": {
      "text/plain": "<Figure size 640x480 with 1 Axes>",
      "image/png": "[encoded data removed]"
     },
     "metadata": {},
     "output_type": "display_data"
    }
   ],
   "source": [
    "df_hits_tracker['spins_to_burnout_from_hit'].plot(kind='box')"
   ],
   "metadata": {
    "collapsed": false,
    "pycharm": {
     "name": "#%%\n"
    }
   }
  },
  {
   "cell_type": "code",
   "execution_count": 92,
   "outputs": [
    {
     "data": {
      "text/plain": "<AxesSubplot:ylabel='Frequency'>"
     },
     "execution_count": 92,
     "metadata": {},
     "output_type": "execute_result"
    },
    {
     "data": {
      "text/plain": "<Figure size 640x480 with 1 Axes>",
      "image/png": "[encoded data removed]"
     },
     "metadata": {},
     "output_type": "display_data"
    }
   ],
   "source": [
    "df_hits_tracker['spins_to_burnout_from_hit'].plot(kind='hist')"
   ],
   "metadata": {
    "collapsed": false,
    "pycharm": {
     "name": "#%%\n"
    }
   }
  },
  {
   "cell_type": "markdown",
   "source": [
    "#### create percentage delta features"
   ],
   "metadata": {
    "collapsed": false
   }
  },
  {
   "cell_type": "code",
   "execution_count": 6,
   "outputs": [],
   "source": [
    "df_temp_features = pd.read_pickle('ebw_temp_features_h1.pkl')"
   ],
   "metadata": {
    "collapsed": false,
    "pycharm": {
     "name": "#%%\n"
    }
   }
  },
  {
   "cell_type": "code",
   "execution_count": 8,
   "outputs": [],
   "source": [
    "df_temp_features.sort_values(by=['mediabase_id', 'call_letters', 'week_dt'], inplace=True)"
   ],
   "metadata": {
    "collapsed": false,
    "pycharm": {
     "name": "#%%\n"
    }
   }
  },
  {
   "cell_type": "code",
   "execution_count": 9,
   "outputs": [],
   "source": [
    "change_cols = list(set([col for col in df_temp_features.columns if 'wk' in col]) - set([col for col in df_temp_features.columns if '1wk' in col]) - set([col for col in df_temp_features.columns if 'std' in col]))"
   ],
   "metadata": {
    "collapsed": false,
    "pycharm": {
     "name": "#%%\n"
    }
   }
  },
  {
   "cell_type": "code",
   "execution_count": 10,
   "outputs": [
    {
     "data": {
      "text/plain": "['max_stream_count_prior_unv_prior_26wk_mean',\n 'med_completed_count_prior_unv_prior_4wk_mean',\n 'count_song_format_pop_prior_8wk_max',\n 'mr_stream_count_prior_unv_prior_4wk_max',\n 'song_station_spins_total_prior_13wk_mean',\n 'artist_format_spins_am_pm_dr_prior_4wk_mean',\n 'artist_format_spins_non_on_prior_4wk_mean',\n 'artist_market_spins_am_pm_dr_prior_26wk_min',\n 'market_spins_propn_prior_26wk_mean',\n 'artist_station_spins_non_on_prior_8wk_mean',\n 'song_format_ddl_prior_13wk_max',\n 'song_station_fav_prior_8wk_max',\n 'mean_completed_rate_prior_unv_prior_4wk_max',\n 'artist_market_spins_non_on_prior_13wk_max',\n 'song_market_spins_total_prior_13wk_min',\n 'artist_format_ddl_prior_8wk_mean',\n 'count_song_format_pop_prior_4wk_mean',\n 'artist_market_spins_non_on_prior_8wk_min',\n 'mean_completed_count_prior_unv_prior_4wk_min',\n 'med_completed_count_prior_unv_prior_8wk_min',\n 'artist_station_spins_non_on_prior_4wk_mean',\n 'min_completed_rate_prior_unv_prior_13wk_max',\n 'song_format_fav_prior_4wk_mean',\n 'song_market_spins_total_prior_13wk_mean',\n 'max_completed_count_prior_unv_prior_13wk_max',\n 'mean_completed_rate_prior_unv_prior_4wk_mean',\n 'mr_completed_rate_prior_unv_prior_26wk_mean',\n 'min_thumbs_up_rate_prior_unv_prior_8wk_mean',\n 'song_station_pop_prior_8wk_max',\n 'mr_thumbs_up_rate_prior_unv_prior_26wk_mean',\n 'artist_format_fav_prior_13wk_min',\n 'song_format_spins_total_prior_13wk_min',\n 'artist_market_spins_am_pm_dr_prior_4wk_max',\n 'song_format_spins_total_prior_26wk_min',\n 'artist_station_spins_total_prior_8wk_min',\n 'song_station_pop_prior_8wk_mean',\n 'min_thumbs_up_rate_prior_unv_prior_13wk_max',\n 'count_song_format_pop_prior_4wk_max',\n 'artist_station_spins_total_prior_26wk_max',\n 'song_market_spins_am_pm_dr_prior_26wk_max',\n 'mean_thumbs_up_rate_prior_unv_prior_13wk_mean',\n 'mean_thumbs_up_rate_prior_unv_prior_26wk_min',\n 'min_completed_count_prior_unv_prior_26wk_mean',\n 'artist_format_spins_am_pm_dr_prior_4wk_max',\n 'min_stream_count_prior_unv_prior_13wk_min',\n 'artist_station_spins_total_prior_13wk_min',\n 'count_artist_format_pop_prior_13wk_max',\n 'song_format_spins_total_prior_8wk_min',\n 'artist_format_pop_prior_13wk_max',\n 'min_stream_count_prior_unv_prior_4wk_mean',\n 'min_completed_rate_prior_unv_prior_8wk_mean',\n 'min_stream_count_prior_unv_prior_26wk_max',\n 'mr_completed_count_prior_unv_prior_26wk_max',\n 'min_completed_count_prior_unv_prior_4wk_max',\n 'artist_format_spins_total_prior_13wk_min',\n 'med_thumbs_up_rate_prior_unv_prior_26wk_min',\n 'song_station_pop_prior_4wk_max',\n 'artist_station_spins_total_prior_13wk_mean',\n 'max_thumbs_up_rate_prior_unv_prior_8wk_max',\n 'mean_stream_count_prior_unv_prior_4wk_mean',\n 'max_completed_rate_prior_unv_prior_13wk_max',\n 'med_stream_count_prior_unv_prior_8wk_max',\n 'song_station_spins_non_on_prior_26wk_mean',\n 'song_format_pop_prior_13wk_min',\n 'artist_market_spins_non_on_prior_26wk_min',\n 'song_format_pop_prior_4wk_min',\n 'med_thumbs_up_rate_prior_unv_prior_26wk_mean',\n 'mr_completed_count_prior_unv_prior_13wk_min',\n 'song_format_pop_prior_4wk_mean',\n 'mean_stream_count_prior_unv_prior_4wk_max',\n 'count_artist_format_pop_prior_4wk_max',\n 'song_market_spins_total_prior_8wk_min',\n 'artist_market_spins_total_prior_8wk_mean',\n 'song_format_spins_non_on_prior_13wk_min',\n 'song_station_ddl_prior_13wk_mean',\n 'med_stream_count_prior_unv_prior_4wk_mean',\n 'med_completed_rate_prior_unv_prior_4wk_mean',\n 'mr_completed_count_prior_unv_prior_8wk_min',\n 'mean_completed_count_prior_unv_prior_8wk_mean',\n 'med_completed_count_prior_unv_prior_13wk_mean',\n 'artist_format_spins_total_prior_4wk_max',\n 'artist_market_spins_non_on_prior_13wk_min',\n 'med_stream_count_prior_unv_prior_4wk_min',\n 'market_spins_propn_prior_4wk_max',\n 'song_station_spins_non_on_prior_13wk_min',\n 'song_station_pop_prior_13wk_mean',\n 'mr_thumbs_up_rate_prior_unv_prior_8wk_max',\n 'max_stream_count_prior_unv_prior_4wk_mean',\n 'song_format_spins_total_prior_4wk_mean',\n 'song_format_pop_prior_26wk_mean',\n 'min_thumbs_up_rate_prior_unv_prior_26wk_max',\n 'artist_station_spins_am_pm_dr_prior_13wk_mean',\n 'song_station_pop_prior_26wk_max',\n 'song_format_pop_prior_26wk_max',\n 'artist_format_fav_prior_4wk_max',\n 'max_stream_count_prior_unv_prior_4wk_max',\n 'song_station_spins_am_pm_dr_prior_4wk_max',\n 'song_station_spins_non_on_prior_8wk_max',\n 'song_station_spins_total_prior_8wk_min',\n 'artist_station_spins_am_pm_dr_prior_8wk_mean',\n 'song_station_spins_non_on_prior_8wk_min',\n 'max_completed_count_prior_unv_prior_8wk_mean',\n 'artist_market_spins_total_prior_4wk_mean',\n 'song_station_spins_am_pm_dr_prior_4wk_min',\n 'artist_format_spins_am_pm_dr_prior_26wk_mean',\n 'artist_market_spins_non_on_prior_4wk_mean',\n 'song_station_ddl_prior_4wk_mean',\n 'market_spins_propn_prior_8wk_max',\n 'mean_completed_count_prior_unv_prior_26wk_max',\n 'song_station_spins_non_on_prior_4wk_mean',\n 'artist_station_spins_am_pm_dr_prior_13wk_min',\n 'song_station_ddl_prior_26wk_mean',\n 'song_market_spins_non_on_prior_4wk_max',\n 'artist_format_fav_prior_4wk_mean',\n 'artist_format_fav_prior_26wk_max',\n 'mr_stream_count_prior_unv_prior_13wk_max',\n 'artist_station_spins_non_on_prior_8wk_min',\n 'song_format_spins_total_prior_26wk_max',\n 'song_format_spins_non_on_prior_4wk_min',\n 'artist_market_spins_am_pm_dr_prior_8wk_mean',\n 'artist_market_spins_non_on_prior_13wk_mean',\n 'mr_thumbs_up_rate_prior_unv_prior_4wk_min',\n 'artist_spins_propn_prior_4wk_min',\n 'artist_format_spins_non_on_prior_4wk_max',\n 'song_station_fav_prior_26wk_max',\n 'med_thumbs_up_rate_prior_unv_prior_4wk_max',\n 'mr_completed_count_prior_unv_prior_4wk_mean',\n 'market_spins_propn_prior_13wk_min',\n 'med_thumbs_up_rate_prior_unv_prior_8wk_max',\n 'min_stream_count_prior_unv_prior_26wk_min',\n 'med_completed_count_prior_unv_prior_8wk_mean',\n 'artist_format_ddl_prior_13wk_max',\n 'med_stream_count_prior_unv_prior_8wk_min',\n 'med_stream_count_prior_unv_prior_26wk_max',\n 'med_completed_count_prior_unv_prior_4wk_min',\n 'count_artist_format_pop_prior_13wk_min',\n 'song_market_spins_am_pm_dr_prior_13wk_mean',\n 'min_thumbs_up_rate_prior_unv_prior_4wk_max',\n 'song_format_ddl_prior_4wk_mean',\n 'med_stream_count_prior_unv_prior_13wk_min',\n 'artist_format_ddl_prior_4wk_mean',\n 'mean_completed_count_prior_unv_prior_13wk_min',\n 'market_spins_propn_prior_8wk_mean',\n 'artist_spins_propn_prior_8wk_min',\n 'artist_market_spins_am_pm_dr_prior_13wk_max',\n 'mr_thumbs_up_rate_prior_unv_prior_13wk_max',\n 'mean_thumbs_up_rate_prior_unv_prior_13wk_min',\n 'max_completed_count_prior_unv_prior_8wk_max',\n 'mr_thumbs_up_rate_prior_unv_prior_8wk_min',\n 'artist_format_pop_prior_4wk_mean',\n 'artist_market_spins_total_prior_8wk_min',\n 'artist_spins_propn_prior_8wk_max',\n 'song_format_spins_am_pm_dr_prior_26wk_min',\n 'max_thumbs_up_rate_prior_unv_prior_13wk_min',\n 'song_format_spins_am_pm_dr_prior_4wk_mean',\n 'song_format_fav_prior_4wk_min',\n 'min_completed_count_prior_unv_prior_8wk_mean',\n 'song_market_spins_am_pm_dr_prior_26wk_mean',\n 'artist_market_spins_total_prior_26wk_max',\n 'med_thumbs_up_rate_prior_unv_prior_4wk_min',\n 'song_format_spins_total_prior_8wk_max',\n 'mr_completed_count_prior_unv_prior_4wk_min',\n 'med_completed_count_prior_unv_prior_26wk_max',\n 'song_station_spins_total_prior_26wk_max',\n 'song_format_spins_non_on_prior_13wk_max',\n 'song_station_spins_am_pm_dr_prior_8wk_mean',\n 'artist_market_spins_total_prior_4wk_max',\n 'song_format_spins_am_pm_dr_prior_4wk_max',\n 'mean_completed_rate_prior_unv_prior_4wk_min',\n 'mr_completed_rate_prior_unv_prior_4wk_min',\n 'mean_completed_rate_prior_unv_prior_8wk_min',\n 'artist_market_spins_non_on_prior_4wk_min',\n 'mean_stream_count_prior_unv_prior_13wk_mean',\n 'artist_format_spins_am_pm_dr_prior_13wk_min',\n 'artist_station_spins_am_pm_dr_prior_26wk_mean',\n 'mr_stream_count_prior_unv_prior_13wk_min',\n 'min_stream_count_prior_unv_prior_13wk_mean',\n 'artist_format_spins_non_on_prior_13wk_max',\n 'song_station_ddl_prior_8wk_min',\n 'mean_completed_count_prior_unv_prior_4wk_max',\n 'max_completed_rate_prior_unv_prior_8wk_min',\n 'artist_format_pop_prior_8wk_max',\n 'artist_format_ddl_prior_8wk_min',\n 'mean_completed_rate_prior_unv_prior_8wk_mean',\n 'song_station_pop_prior_26wk_mean',\n 'song_station_spins_total_prior_13wk_min',\n 'max_completed_count_prior_unv_prior_26wk_mean',\n 'artist_market_spins_non_on_prior_8wk_mean',\n 'artist_format_spins_total_prior_26wk_min',\n 'max_completed_count_prior_unv_prior_26wk_min',\n 'min_completed_count_prior_unv_prior_13wk_max',\n 'min_thumbs_up_rate_prior_unv_prior_26wk_mean',\n 'count_song_format_pop_prior_4wk_min',\n 'artist_format_pop_prior_8wk_min',\n 'artist_market_spins_am_pm_dr_prior_26wk_mean',\n 'mean_completed_rate_prior_unv_prior_13wk_min',\n 'mean_thumbs_up_rate_prior_unv_prior_13wk_max',\n 'song_format_fav_prior_8wk_max',\n 'artist_station_spins_total_prior_26wk_min',\n 'song_station_spins_non_on_prior_26wk_max',\n 'artist_station_spins_total_prior_26wk_mean',\n 'song_format_spins_am_pm_dr_prior_13wk_mean',\n 'market_spins_propn_prior_26wk_max',\n 'artist_station_spins_non_on_prior_13wk_min',\n 'med_completed_rate_prior_unv_prior_26wk_mean',\n 'mean_thumbs_up_rate_prior_unv_prior_4wk_max',\n 'mean_thumbs_up_rate_prior_unv_prior_4wk_mean',\n 'market_spins_propn_prior_8wk_min',\n 'mean_completed_count_prior_unv_prior_13wk_mean',\n 'mean_completed_rate_prior_unv_prior_13wk_max',\n 'artist_format_spins_total_prior_4wk_mean',\n 'song_format_spins_am_pm_dr_prior_13wk_max',\n 'mr_completed_rate_prior_unv_prior_8wk_mean',\n 'mean_thumbs_up_rate_prior_unv_prior_8wk_mean',\n 'song_format_ddl_prior_8wk_mean',\n 'artist_market_spins_am_pm_dr_prior_13wk_min',\n 'song_station_spins_am_pm_dr_prior_26wk_min',\n 'mean_completed_count_prior_unv_prior_13wk_max',\n 'artist_format_fav_prior_8wk_min',\n 'song_format_spins_total_prior_8wk_mean',\n 'mean_completed_rate_prior_unv_prior_26wk_max',\n 'count_song_format_pop_prior_13wk_min',\n 'artist_format_spins_non_on_prior_26wk_min',\n 'artist_format_fav_prior_8wk_mean',\n 'artist_station_spins_am_pm_dr_prior_4wk_mean',\n 'song_station_spins_am_pm_dr_prior_13wk_max',\n 'med_completed_rate_prior_unv_prior_13wk_mean',\n 'song_station_spins_non_on_prior_26wk_min',\n 'med_stream_count_prior_unv_prior_8wk_mean',\n 'min_thumbs_up_rate_prior_unv_prior_26wk_min',\n 'song_format_spins_non_on_prior_8wk_max',\n 'med_completed_count_prior_unv_prior_8wk_max',\n 'song_format_spins_non_on_prior_26wk_max',\n 'mr_completed_rate_prior_unv_prior_26wk_max',\n 'med_completed_rate_prior_unv_prior_8wk_min',\n 'mr_stream_count_prior_unv_prior_8wk_max',\n 'artist_format_fav_prior_4wk_min',\n 'artist_spins_propn_prior_13wk_max',\n 'mr_completed_rate_prior_unv_prior_4wk_max',\n 'market_spins_propn_prior_13wk_max',\n 'med_completed_rate_prior_unv_prior_13wk_min',\n 'mr_completed_count_prior_unv_prior_4wk_max',\n 'song_station_fav_prior_4wk_min',\n 'song_format_spins_total_prior_13wk_max',\n 'song_station_ddl_prior_26wk_max',\n 'song_station_spins_am_pm_dr_prior_13wk_min',\n 'artist_station_spins_am_pm_dr_prior_4wk_min',\n 'song_market_spins_am_pm_dr_prior_4wk_mean',\n 'mean_completed_count_prior_unv_prior_8wk_min',\n 'song_station_ddl_prior_4wk_min',\n 'med_stream_count_prior_unv_prior_13wk_mean',\n 'min_completed_count_prior_unv_prior_8wk_max',\n 'min_thumbs_up_rate_prior_unv_prior_13wk_mean',\n 'song_format_fav_prior_13wk_min',\n 'mean_completed_rate_prior_unv_prior_26wk_min',\n 'artist_format_fav_prior_13wk_mean',\n 'mean_stream_count_prior_unv_prior_26wk_mean',\n 'max_completed_rate_prior_unv_prior_13wk_mean',\n 'song_market_spins_total_prior_13wk_max',\n 'song_station_fav_prior_4wk_max',\n 'song_market_spins_non_on_prior_26wk_min',\n 'med_thumbs_up_rate_prior_unv_prior_8wk_min',\n 'count_artist_format_pop_prior_8wk_max',\n 'song_station_pop_prior_4wk_mean',\n 'mean_stream_count_prior_unv_prior_8wk_max',\n 'song_station_spins_am_pm_dr_prior_8wk_min',\n 'max_stream_count_prior_unv_prior_13wk_mean',\n 'artist_format_spins_am_pm_dr_prior_13wk_mean',\n 'max_thumbs_up_rate_prior_unv_prior_8wk_min',\n 'artist_format_fav_prior_26wk_min',\n 'min_stream_count_prior_unv_prior_8wk_max',\n 'artist_station_spins_total_prior_13wk_max',\n 'med_completed_count_prior_unv_prior_4wk_max',\n 'song_format_ddl_prior_13wk_min',\n 'song_station_spins_total_prior_4wk_mean',\n 'count_artist_format_pop_prior_26wk_min',\n 'song_format_spins_am_pm_dr_prior_4wk_min',\n 'artist_format_spins_am_pm_dr_prior_8wk_min',\n 'mr_stream_count_prior_unv_prior_26wk_min',\n 'artist_market_spins_non_on_prior_4wk_max',\n 'song_station_spins_total_prior_26wk_mean',\n 'song_market_spins_am_pm_dr_prior_4wk_min',\n 'song_format_fav_prior_26wk_max',\n 'mr_completed_count_prior_unv_prior_8wk_max',\n 'mr_completed_count_prior_unv_prior_26wk_min',\n 'count_artist_format_pop_prior_26wk_mean',\n 'song_station_spins_non_on_prior_8wk_mean',\n 'artist_market_spins_am_pm_dr_prior_4wk_min',\n 'artist_format_spins_am_pm_dr_prior_13wk_max',\n 'artist_format_pop_prior_8wk_mean',\n 'min_completed_count_prior_unv_prior_4wk_min',\n 'artist_market_spins_am_pm_dr_prior_13wk_mean',\n 'mean_thumbs_up_rate_prior_unv_prior_8wk_max',\n 'song_market_spins_non_on_prior_4wk_min',\n 'song_station_fav_prior_13wk_min',\n 'market_spins_propn_prior_26wk_min',\n 'song_market_spins_total_prior_4wk_mean',\n 'song_format_spins_total_prior_4wk_max',\n 'song_station_spins_total_prior_13wk_max',\n 'max_completed_count_prior_unv_prior_13wk_mean',\n 'max_thumbs_up_rate_prior_unv_prior_4wk_max',\n 'song_station_pop_prior_13wk_min',\n 'song_format_pop_prior_8wk_max',\n 'max_stream_count_prior_unv_prior_8wk_max',\n 'max_thumbs_up_rate_prior_unv_prior_26wk_mean',\n 'artist_format_spins_am_pm_dr_prior_8wk_max',\n 'med_thumbs_up_rate_prior_unv_prior_13wk_min',\n 'artist_format_pop_prior_13wk_min',\n 'med_stream_count_prior_unv_prior_26wk_mean',\n 'med_completed_count_prior_unv_prior_26wk_min',\n 'max_completed_count_prior_unv_prior_13wk_min',\n 'max_stream_count_prior_unv_prior_8wk_mean',\n 'song_station_spins_am_pm_dr_prior_13wk_mean',\n 'count_artist_format_pop_prior_4wk_min',\n 'med_completed_rate_prior_unv_prior_4wk_max',\n 'min_completed_rate_prior_unv_prior_26wk_mean',\n 'mean_stream_count_prior_unv_prior_13wk_max',\n 'artist_station_spins_am_pm_dr_prior_4wk_max',\n 'min_completed_rate_prior_unv_prior_4wk_min',\n 'artist_market_spins_total_prior_8wk_max',\n 'artist_format_ddl_prior_13wk_min',\n 'max_completed_rate_prior_unv_prior_13wk_min',\n 'med_completed_count_prior_unv_prior_13wk_min',\n 'max_completed_rate_prior_unv_prior_26wk_mean',\n 'mean_thumbs_up_rate_prior_unv_prior_26wk_mean',\n 'mr_completed_rate_prior_unv_prior_26wk_min',\n 'med_completed_rate_prior_unv_prior_26wk_max',\n 'song_format_fav_prior_4wk_max',\n 'song_market_spins_total_prior_26wk_min',\n 'artist_format_fav_prior_13wk_max',\n 'song_format_spins_non_on_prior_4wk_max',\n 'mean_thumbs_up_rate_prior_unv_prior_4wk_min',\n 'artist_format_spins_total_prior_8wk_min',\n 'song_format_ddl_prior_13wk_mean',\n 'min_thumbs_up_rate_prior_unv_prior_4wk_mean',\n 'song_format_ddl_prior_4wk_min',\n 'min_completed_rate_prior_unv_prior_4wk_mean',\n 'mean_completed_rate_prior_unv_prior_13wk_mean',\n 'artist_station_spins_non_on_prior_4wk_min',\n 'mean_stream_count_prior_unv_prior_26wk_max',\n 'mr_stream_count_prior_unv_prior_8wk_mean',\n 'min_stream_count_prior_unv_prior_26wk_mean',\n 'artist_format_spins_non_on_prior_8wk_min',\n 'min_completed_rate_prior_unv_prior_13wk_mean',\n 'song_format_fav_prior_13wk_max',\n 'max_completed_rate_prior_unv_prior_4wk_max',\n 'artist_station_spins_am_pm_dr_prior_8wk_min',\n 'max_completed_count_prior_unv_prior_4wk_mean',\n 'song_market_spins_am_pm_dr_prior_8wk_mean',\n 'artist_format_fav_prior_8wk_max',\n 'song_station_spins_non_on_prior_4wk_min',\n 'song_market_spins_non_on_prior_13wk_mean',\n 'min_completed_rate_prior_unv_prior_4wk_max',\n 'mr_thumbs_up_rate_prior_unv_prior_4wk_max',\n 'max_completed_rate_prior_unv_prior_8wk_max',\n 'market_spins_propn_prior_13wk_mean',\n 'song_station_ddl_prior_26wk_min',\n 'song_market_spins_total_prior_4wk_max',\n 'min_stream_count_prior_unv_prior_8wk_min',\n 'max_stream_count_prior_unv_prior_13wk_min',\n 'min_thumbs_up_rate_prior_unv_prior_8wk_max',\n 'artist_format_pop_prior_4wk_max',\n 'count_artist_format_pop_prior_8wk_min',\n 'song_format_spins_non_on_prior_8wk_min',\n 'mean_stream_count_prior_unv_prior_8wk_mean',\n 'song_market_spins_non_on_prior_8wk_max',\n 'artist_format_spins_total_prior_4wk_min',\n 'song_format_spins_non_on_prior_4wk_mean',\n 'mean_completed_rate_prior_unv_prior_8wk_max',\n 'artist_format_spins_total_prior_8wk_mean',\n 'song_format_fav_prior_26wk_min',\n 'artist_format_spins_am_pm_dr_prior_4wk_min',\n 'song_market_spins_non_on_prior_8wk_mean',\n 'min_stream_count_prior_unv_prior_8wk_mean',\n 'max_completed_rate_prior_unv_prior_8wk_mean',\n 'song_market_spins_am_pm_dr_prior_8wk_min',\n 'mr_stream_count_prior_unv_prior_8wk_min',\n 'artist_spins_propn_prior_4wk_mean',\n 'song_station_spins_am_pm_dr_prior_26wk_max',\n 'min_completed_rate_prior_unv_prior_8wk_max',\n 'max_completed_count_prior_unv_prior_4wk_max',\n 'artist_station_spins_non_on_prior_13wk_max',\n 'min_completed_count_prior_unv_prior_13wk_min',\n 'count_song_format_pop_prior_26wk_min',\n 'mr_completed_count_prior_unv_prior_13wk_mean',\n 'song_station_fav_prior_8wk_mean',\n 'song_format_ddl_prior_26wk_mean',\n 'song_market_spins_non_on_prior_26wk_max',\n 'mr_thumbs_up_rate_prior_unv_prior_8wk_mean',\n 'artist_spins_propn_prior_26wk_max',\n 'song_format_ddl_prior_4wk_max',\n 'artist_format_spins_am_pm_dr_prior_8wk_mean',\n 'artist_station_spins_total_prior_4wk_min',\n 'artist_format_spins_non_on_prior_4wk_min',\n 'song_market_spins_am_pm_dr_prior_8wk_max',\n 'mean_completed_count_prior_unv_prior_26wk_min',\n 'artist_station_spins_total_prior_8wk_max',\n 'song_format_fav_prior_13wk_mean',\n 'song_market_spins_am_pm_dr_prior_4wk_max',\n 'artist_format_ddl_prior_26wk_min',\n 'count_song_format_pop_prior_26wk_mean',\n 'med_thumbs_up_rate_prior_unv_prior_8wk_mean',\n 'song_format_spins_am_pm_dr_prior_8wk_min',\n 'song_station_spins_total_prior_26wk_min',\n 'artist_format_ddl_prior_4wk_min',\n 'artist_station_spins_non_on_prior_4wk_max',\n 'min_thumbs_up_rate_prior_unv_prior_4wk_min',\n 'max_stream_count_prior_unv_prior_13wk_max',\n 'med_thumbs_up_rate_prior_unv_prior_13wk_mean',\n 'song_market_spins_non_on_prior_26wk_mean',\n 'song_station_pop_prior_13wk_max',\n 'artist_format_spins_non_on_prior_26wk_max',\n 'song_station_spins_am_pm_dr_prior_8wk_max',\n 'artist_spins_propn_prior_13wk_min',\n 'artist_market_spins_total_prior_4wk_min',\n 'artist_market_spins_total_prior_13wk_min',\n 'song_station_ddl_prior_8wk_mean',\n 'count_song_format_pop_prior_13wk_max',\n 'song_station_fav_prior_26wk_mean',\n 'min_completed_rate_prior_unv_prior_26wk_max',\n 'mr_thumbs_up_rate_prior_unv_prior_4wk_mean',\n 'song_format_spins_am_pm_dr_prior_13wk_min',\n 'mr_stream_count_prior_unv_prior_4wk_min',\n 'artist_station_spins_am_pm_dr_prior_8wk_max',\n 'song_market_spins_am_pm_dr_prior_13wk_max',\n 'max_stream_count_prior_unv_prior_8wk_min',\n 'min_completed_rate_prior_unv_prior_13wk_min',\n 'artist_station_spins_total_prior_4wk_mean',\n 'max_completed_count_prior_unv_prior_4wk_min',\n 'song_market_spins_am_pm_dr_prior_13wk_min',\n 'mr_stream_count_prior_unv_prior_13wk_mean',\n 'artist_format_spins_non_on_prior_13wk_min',\n 'mean_thumbs_up_rate_prior_unv_prior_26wk_max',\n 'mean_stream_count_prior_unv_prior_4wk_min',\n 'artist_station_spins_non_on_prior_26wk_mean',\n 'artist_market_spins_non_on_prior_8wk_max',\n 'song_station_pop_prior_26wk_min',\n 'med_thumbs_up_rate_prior_unv_prior_26wk_max',\n 'min_completed_count_prior_unv_prior_13wk_mean',\n 'artist_station_spins_total_prior_8wk_mean',\n 'min_stream_count_prior_unv_prior_4wk_max',\n 'artist_format_pop_prior_26wk_max',\n 'med_thumbs_up_rate_prior_unv_prior_4wk_mean',\n 'med_stream_count_prior_unv_prior_26wk_min',\n 'mean_stream_count_prior_unv_prior_26wk_min',\n 'artist_format_spins_non_on_prior_13wk_mean',\n 'med_stream_count_prior_unv_prior_4wk_max',\n 'min_completed_count_prior_unv_prior_8wk_min',\n 'artist_market_spins_am_pm_dr_prior_4wk_mean',\n 'artist_station_spins_non_on_prior_26wk_min',\n 'song_format_pop_prior_26wk_min',\n 'artist_format_pop_prior_26wk_min',\n 'artist_format_spins_non_on_prior_26wk_mean',\n 'min_stream_count_prior_unv_prior_13wk_max',\n 'mean_thumbs_up_rate_prior_unv_prior_8wk_min',\n 'min_thumbs_up_rate_prior_unv_prior_13wk_min',\n 'min_completed_count_prior_unv_prior_26wk_min',\n 'artist_format_spins_am_pm_dr_prior_26wk_max',\n 'song_market_spins_non_on_prior_4wk_mean',\n 'min_stream_count_prior_unv_prior_4wk_min',\n 'med_thumbs_up_rate_prior_unv_prior_13wk_max',\n 'med_completed_rate_prior_unv_prior_26wk_min',\n 'song_market_spins_total_prior_26wk_max',\n 'artist_station_spins_non_on_prior_26wk_max',\n 'song_format_ddl_prior_26wk_min',\n 'song_market_spins_non_on_prior_13wk_min',\n 'song_format_spins_am_pm_dr_prior_26wk_max',\n 'song_station_spins_non_on_prior_13wk_mean',\n 'song_format_ddl_prior_8wk_max',\n 'song_format_pop_prior_4wk_max',\n 'song_format_ddl_prior_26wk_max',\n 'max_thumbs_up_rate_prior_unv_prior_26wk_min',\n 'artist_market_spins_am_pm_dr_prior_8wk_min',\n 'count_artist_format_pop_prior_4wk_mean',\n 'song_format_ddl_prior_8wk_min',\n 'song_format_pop_prior_13wk_mean',\n 'artist_format_ddl_prior_26wk_mean',\n 'song_station_fav_prior_4wk_mean',\n 'mr_thumbs_up_rate_prior_unv_prior_13wk_mean',\n 'max_thumbs_up_rate_prior_unv_prior_4wk_mean',\n 'song_market_spins_non_on_prior_13wk_max',\n 'min_completed_rate_prior_unv_prior_8wk_min',\n 'song_market_spins_total_prior_8wk_mean',\n 'song_station_fav_prior_8wk_min',\n 'mean_completed_rate_prior_unv_prior_26wk_mean',\n 'min_completed_count_prior_unv_prior_26wk_max',\n 'song_format_spins_non_on_prior_8wk_mean',\n 'artist_format_pop_prior_4wk_min',\n 'song_format_spins_total_prior_26wk_mean',\n 'artist_market_spins_am_pm_dr_prior_8wk_max',\n 'song_station_fav_prior_26wk_min',\n 'max_completed_rate_prior_unv_prior_4wk_mean',\n 'song_station_pop_prior_4wk_min',\n 'count_artist_format_pop_prior_13wk_mean',\n 'min_thumbs_up_rate_prior_unv_prior_8wk_min',\n 'artist_market_spins_non_on_prior_26wk_mean',\n 'mr_completed_rate_prior_unv_prior_13wk_min',\n 'max_thumbs_up_rate_prior_unv_prior_8wk_mean',\n 'artist_station_spins_am_pm_dr_prior_13wk_max',\n 'max_stream_count_prior_unv_prior_4wk_min',\n 'song_format_spins_am_pm_dr_prior_8wk_max',\n 'artist_format_spins_total_prior_13wk_max',\n 'artist_format_pop_prior_26wk_mean',\n 'artist_format_spins_non_on_prior_8wk_max',\n 'artist_format_spins_total_prior_13wk_mean',\n 'mr_completed_count_prior_unv_prior_13wk_max',\n 'market_spins_propn_prior_4wk_mean',\n 'song_station_spins_total_prior_8wk_mean',\n 'max_completed_rate_prior_unv_prior_4wk_min',\n 'artist_market_spins_am_pm_dr_prior_26wk_max',\n 'count_song_format_pop_prior_8wk_mean',\n 'song_format_fav_prior_8wk_min',\n 'song_station_spins_am_pm_dr_prior_4wk_mean',\n 'artist_spins_propn_prior_26wk_mean',\n 'med_completed_rate_prior_unv_prior_13wk_max',\n 'song_station_spins_non_on_prior_13wk_max',\n 'mr_stream_count_prior_unv_prior_26wk_mean',\n 'artist_market_spins_non_on_prior_26wk_max',\n 'mr_completed_count_prior_unv_prior_8wk_mean',\n 'artist_market_spins_total_prior_13wk_max',\n 'artist_station_spins_total_prior_4wk_max',\n 'song_market_spins_total_prior_4wk_min',\n 'song_station_spins_am_pm_dr_prior_26wk_mean',\n 'artist_format_spins_am_pm_dr_prior_26wk_min',\n 'count_artist_format_pop_prior_8wk_mean',\n 'med_completed_rate_prior_unv_prior_4wk_min',\n 'artist_station_spins_am_pm_dr_prior_26wk_max',\n 'mr_completed_count_prior_unv_prior_26wk_mean',\n 'artist_spins_propn_prior_13wk_mean',\n 'max_completed_count_prior_unv_prior_26wk_max',\n 'song_station_ddl_prior_13wk_min',\n 'mr_completed_rate_prior_unv_prior_13wk_max',\n 'song_market_spins_total_prior_26wk_mean',\n 'artist_format_pop_prior_13wk_mean',\n 'song_format_fav_prior_8wk_mean',\n 'min_completed_rate_prior_unv_prior_26wk_min',\n 'song_format_spins_non_on_prior_13wk_mean',\n 'artist_spins_propn_prior_26wk_min',\n 'max_thumbs_up_rate_prior_unv_prior_26wk_max',\n 'count_artist_format_pop_prior_26wk_max',\n 'song_station_spins_total_prior_4wk_min',\n 'max_stream_count_prior_unv_prior_26wk_min',\n 'song_station_pop_prior_8wk_min',\n 'max_stream_count_prior_unv_prior_26wk_max',\n 'song_station_ddl_prior_13wk_max',\n 'artist_format_spins_total_prior_26wk_max',\n 'mean_stream_count_prior_unv_prior_8wk_min',\n 'artist_station_spins_non_on_prior_8wk_max',\n 'artist_format_ddl_prior_4wk_max',\n 'song_format_pop_prior_8wk_min',\n 'mean_stream_count_prior_unv_prior_13wk_min',\n 'mr_thumbs_up_rate_prior_unv_prior_26wk_max',\n 'mr_completed_rate_prior_unv_prior_8wk_min',\n 'song_format_spins_total_prior_13wk_mean',\n 'mean_completed_count_prior_unv_prior_4wk_mean',\n 'count_song_format_pop_prior_13wk_mean',\n 'song_station_spins_total_prior_4wk_max',\n 'artist_format_ddl_prior_26wk_max',\n 'artist_spins_propn_prior_4wk_max',\n 'med_completed_rate_prior_unv_prior_8wk_max',\n 'artist_market_spins_total_prior_13wk_mean',\n 'song_format_spins_am_pm_dr_prior_8wk_mean',\n 'mr_thumbs_up_rate_prior_unv_prior_13wk_min',\n 'count_song_format_pop_prior_8wk_min',\n 'max_completed_rate_prior_unv_prior_26wk_max',\n 'artist_format_ddl_prior_8wk_max',\n 'song_market_spins_total_prior_8wk_max',\n 'artist_station_spins_am_pm_dr_prior_26wk_min',\n 'song_format_spins_total_prior_4wk_min',\n 'mr_completed_rate_prior_unv_prior_4wk_mean',\n 'med_completed_rate_prior_unv_prior_8wk_mean',\n 'med_stream_count_prior_unv_prior_13wk_max',\n 'song_format_fav_prior_26wk_mean',\n 'song_station_spins_total_prior_8wk_max',\n 'med_completed_count_prior_unv_prior_13wk_max',\n 'song_format_pop_prior_13wk_max',\n 'artist_format_spins_non_on_prior_8wk_mean',\n 'min_completed_count_prior_unv_prior_4wk_mean',\n 'artist_market_spins_total_prior_26wk_mean',\n 'artist_station_spins_non_on_prior_13wk_mean',\n 'song_market_spins_non_on_prior_8wk_min',\n 'song_station_spins_non_on_prior_4wk_max',\n 'mr_thumbs_up_rate_prior_unv_prior_26wk_min',\n 'song_station_ddl_prior_8wk_max',\n 'count_song_format_pop_prior_26wk_max',\n 'song_format_spins_am_pm_dr_prior_26wk_mean',\n 'artist_format_ddl_prior_13wk_mean',\n 'max_thumbs_up_rate_prior_unv_prior_4wk_min',\n 'song_station_ddl_prior_4wk_max',\n 'max_thumbs_up_rate_prior_unv_prior_13wk_mean',\n 'song_format_spins_non_on_prior_26wk_mean',\n 'mr_completed_rate_prior_unv_prior_13wk_mean',\n 'max_thumbs_up_rate_prior_unv_prior_13wk_max',\n 'mean_completed_count_prior_unv_prior_26wk_mean',\n 'song_market_spins_am_pm_dr_prior_26wk_min',\n 'artist_market_spins_total_prior_26wk_min',\n 'song_format_spins_non_on_prior_26wk_min',\n 'song_station_fav_prior_13wk_max',\n 'med_completed_count_prior_unv_prior_26wk_mean',\n 'mr_completed_rate_prior_unv_prior_8wk_max',\n 'song_format_pop_prior_8wk_mean',\n 'market_spins_propn_prior_4wk_min',\n 'song_station_fav_prior_13wk_mean',\n 'max_completed_rate_prior_unv_prior_26wk_min',\n 'mean_completed_count_prior_unv_prior_8wk_max',\n 'max_completed_count_prior_unv_prior_8wk_min',\n 'artist_format_spins_total_prior_26wk_mean',\n 'mr_stream_count_prior_unv_prior_4wk_mean',\n 'artist_spins_propn_prior_8wk_mean',\n 'artist_format_fav_prior_26wk_mean',\n 'artist_format_spins_total_prior_8wk_max',\n 'mr_stream_count_prior_unv_prior_26wk_max']"
     },
     "execution_count": 10,
     "metadata": {},
     "output_type": "execute_result"
    }
   ],
   "source": [
    "change_cols"
   ],
   "metadata": {
    "collapsed": false,
    "pycharm": {
     "name": "#%%\n"
    }
   }
  },
  {
   "cell_type": "code",
   "execution_count": 11,
   "outputs": [],
   "source": [
    "df_temp_features = df_temp_features.assign(**{col + '_pct_chg': df_temp_features.groupby(['mediabase_id', 'call_letters'])[col].pct_change().replace([np.inf], 1.0).replace([-np.inf], -1.0).fillna(0) for col in change_cols})"
   ],
   "metadata": {
    "collapsed": false,
    "pycharm": {
     "name": "#%%\n"
    }
   }
  },
  {
   "cell_type": "code",
   "execution_count": 98,
   "outputs": [
    {
     "data": {
      "text/plain": "Index(['mediabase_id', 'song_id', 'call_letters', 'market_name', 'artist_id',\n       'format_code', 'song_release_date', 'first_callout_date',\n       'last_callout_date', 'first_spin_date',\n       ...\n       'artist_station_spins_total_prior_4wk_min_pct_chg',\n       'artist_market_spins_total_prior_8wk_max_pct_chg',\n       'song_station_pop_prior_4wk_max_pct_chg',\n       'artist_format_fav_prior_26wk_mean_pct_chg',\n       'min_stream_count_prior_unv_prior_4wk_max_pct_chg',\n       'med_thumbs_up_rate_prior_unv_prior_4wk_min_pct_chg',\n       'med_completed_count_prior_unv_prior_4wk_min_pct_chg',\n       'artist_format_pop_prior_13wk_min_pct_chg',\n       'mr_thumbs_up_rate_prior_unv_prior_8wk_max_pct_chg',\n       'count_artist_format_pop_prior_4wk_min_pct_chg'],\n      dtype='object', length=2025)"
     },
     "execution_count": 98,
     "metadata": {},
     "output_type": "execute_result"
    }
   ],
   "source": [
    "df_temp_features.columns"
   ],
   "metadata": {
    "collapsed": false,
    "pycharm": {
     "name": "#%%\n"
    }
   }
  },
  {
   "cell_type": "code",
   "execution_count": 36,
   "outputs": [
    {
     "name": "stdout",
     "output_type": "stream",
     "text": [
      "song_station_ddl_prior_13wk_max_pct_chg\n"
     ]
    },
    {
     "data": {
      "text/plain": "<Figure size 640x480 with 1 Axes>",
      "image/png": "[encoded data removed]"
     },
     "metadata": {},
     "output_type": "display_data"
    }
   ],
   "source": [
    "import matplotlib.pyplot as plt\n",
    "from sklearn.preprocessing import StandardScaler\n",
    "med_id = df_temp_features.loc[400]['mediabase_id']\n",
    "call_letters = df_temp_features.loc[400]['call_letters']\n",
    "mask = (df_temp_features['mediabase_id'] == med_id) & (df_temp_features['call_letters'] == call_letters) & (df_temp_features['weeks_since_hit'] > 0)\n",
    "df_sub = df_temp_features.loc[mask]\n",
    "scaler = StandardScaler()\n",
    "\n",
    "for wk in [13]:\n",
    "    col_name = f'song_station_ddl_prior_{wk}wk_max_pct_chg'\n",
    "    col_name_spins = f'song_station_spins_non_on_prior_{wk}wk_mean'\n",
    "    scaler.fit(df_sub[[col_name_spins]])\n",
    "    df_sub[col_name_spins] = scaler.transform(df_sub[[col_name_spins]])\n",
    "    print(col_name)\n",
    "    plt.plot(df_sub['weeks_since_hit'], df_sub[col_name])\n",
    "    plt.plot(df_sub['weeks_since_hit'], df_sub[col_name_spins])"
   ],
   "metadata": {
    "collapsed": false,
    "pycharm": {
     "name": "#%%\n"
    }
   }
  },
  {
   "cell_type": "code",
   "execution_count": 37,
   "outputs": [],
   "source": [
    "df_temp_features.to_pickle('ebw_temp_features_with_chg_h1.pkl')"
   ],
   "metadata": {
    "collapsed": false,
    "pycharm": {
     "name": "#%%\n"
    }
   }
  }
 ],
 "metadata": {
  "kernelspec": {
   "display_name": "Python 3",
   "language": "python",
   "name": "python3"
  },
  "language_info": {
   "codemirror_mode": {
    "name": "ipython",
    "version": 2
   },
   "file_extension": ".py",
   "mimetype": "text/x-python",
   "name": "python",
   "nbconvert_exporter": "python",
   "pygments_lexer": "ipython2",
   "version": "2.7.6"
  }
 },
 "nbformat": 4,
 "nbformat_minor": 0
}