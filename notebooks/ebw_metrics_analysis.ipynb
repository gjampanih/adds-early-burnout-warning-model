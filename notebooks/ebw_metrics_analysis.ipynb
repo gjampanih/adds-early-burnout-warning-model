{
 "cells": [
  {
   "cell_type": "code",
   "execution_count": 2,
   "metadata": {
    "collapsed": true
   },
   "outputs": [
    {
     "name": "stderr",
     "output_type": "stream",
     "text": [
      "/home/ubuntu/PycharmProjects/adds-early-burnout-warning-model/venv/lib/python3.8/site-packages/xgboost/compat.py:93: FutureWarning: pandas.Int64Index is deprecated and will be removed from pandas in a future version. Use pandas.Index with the appropriate dtype instead.\n",
      "  from pandas import MultiIndex, Int64Index\n"
     ]
    }
   ],
   "source": [
    "import pandas as pd\n",
    "import numpy as np\n",
    "import re\n",
    "\n",
    "from sklearn.model_selection import train_test_split\n",
    "from sklearn.tree import DecisionTreeRegressor\n",
    "from sklearn import metrics\n",
    "from sklearn.ensemble import RandomForestRegressor\n",
    "from xgboost import XGBRegressor\n",
    "from sklearn.preprocessing import StandardScaler\n",
    "import random"
   ]
  },
  {
   "cell_type": "code",
   "execution_count": 3,
   "outputs": [],
   "source": [
    "from sqlalchemy import create_engine, text\n",
    "\n",
    "def postgresql_engine(user, pwd, host, port, dbname):\n",
    "    # Need psycopg2-binary package\n",
    "    sql_engine = create_engine('postgres://' + user + ':' + pwd + '@' + host + ':' + port + '/' + dbname, echo=False)\n",
    "    return sql_engine"
   ],
   "metadata": {
    "collapsed": false
   }
  },
  {
   "cell_type": "code",
   "execution_count": 4,
   "outputs": [],
   "source": [
    "# DB username & password\n",
    "import getpass\n",
    "\n",
    "username = getpass.getpass()\n",
    "password = getpass.getpass()"
   ],
   "metadata": {
    "collapsed": false
   }
  },
  {
   "cell_type": "code",
   "execution_count": 5,
   "outputs": [],
   "source": [
    "# misc db parameters\n",
    "url= 'adds-postgres-dev.cfgztrijqgvp.us-east-1.rds.amazonaws.com'\n",
    "database= 'musiclab'\n",
    "port= '5432'"
   ],
   "metadata": {
    "collapsed": false
   }
  },
  {
   "cell_type": "code",
   "execution_count": 6,
   "outputs": [],
   "source": [
    "data_query = '''\n",
    "Select *\n",
    "from adds_temp.ebw_metric_analysis as ema\n",
    "'''"
   ],
   "metadata": {
    "collapsed": false
   }
  },
  {
   "cell_type": "code",
   "execution_count": 7,
   "outputs": [],
   "source": [
    "engine = postgresql_engine(username, password, url, port, database)\n",
    "with engine.connect() as conn:\n",
    "    with conn.begin():\n",
    "        df_ebw_metrics = pd.read_sql(data_query, con=conn)"
   ],
   "metadata": {
    "collapsed": false
   }
  },
  {
   "cell_type": "code",
   "execution_count": 8,
   "outputs": [
    {
     "data": {
      "text/plain": "2354683"
     },
     "execution_count": 8,
     "metadata": {},
     "output_type": "execute_result"
    }
   ],
   "source": [
    "len(df_ebw_metrics)"
   ],
   "metadata": {
    "collapsed": false
   }
  },
  {
   "cell_type": "code",
   "execution_count": 9,
   "outputs": [],
   "source": [
    "df_ebw_metrics.drop_duplicates(inplace=True)"
   ],
   "metadata": {
    "collapsed": false
   }
  },
  {
   "cell_type": "code",
   "execution_count": 10,
   "outputs": [
    {
     "data": {
      "text/plain": "      week_dt  mediabase_id    song_id call_letters format_code  \\\n0  2018-10-01       2356990  290730733      WMIB-FM          U1   \n1  2018-10-01       2436027  544577900      WPGB-FM          C1   \n2  2018-10-01       2436027  544577900      WSIX-FM          C1   \n3  2018-10-01       2436027  544577900      WUBL-FM          C1   \n4  2018-10-01       2436027  544577900      WPOC-FM          C1   \n\n  song_release_date last_callout_date first_spin_date  StartDate    EndDate  \\\n0        2018-10-01        2019-01-14      2018-10-08 2018-09-30 2018-10-06   \n1        2018-10-01        2021-03-22      2018-10-08        NaT        NaT   \n2        2018-10-01        2021-03-01      2018-10-08        NaT        NaT   \n3        2018-10-01        2020-10-12      2018-10-08        NaT        NaT   \n4        2018-10-01        2021-08-30      2018-10-08        NaT        NaT   \n\n   ...   gcr  gcr_adj  station_id  cmm_station_calls   test_date  \\\n0  ...  None     None   3322924.0            WMIB-FM  2018-10-01   \n1  ...  None     None         NaN               None        None   \n2  ...  None     None         NaN               None        None   \n3  ...  None     None         NaN               None        None   \n4  ...  None     None         NaN               None        None   \n\n  breakout_respondents   pop  fav_metric ddl_metric f2b_ratio  \n0                 90.0  73.0        20.0        6.0      3.33  \n1                  NaN   NaN         NaN        NaN       NaN  \n2                  NaN   NaN         NaN        NaN       NaN  \n3                  NaN   NaN         NaN        NaN       NaN  \n4                  NaN   NaN         NaN        NaN       NaN  \n\n[5 rows x 25 columns]",
      "text/html": "<div>\n<style scoped>\n    .dataframe tbody tr th:only-of-type {\n        vertical-align: middle;\n    }\n\n    .dataframe tbody tr th {\n        vertical-align: top;\n    }\n\n    .dataframe thead th {\n        text-align: right;\n    }\n</style>\n<table border=\"1\" class=\"dataframe\">\n  <thead>\n    <tr style=\"text-align: right;\">\n      <th></th>\n      <th>week_dt</th>\n      <th>mediabase_id</th>\n      <th>song_id</th>\n      <th>call_letters</th>\n      <th>format_code</th>\n      <th>song_release_date</th>\n      <th>last_callout_date</th>\n      <th>first_spin_date</th>\n      <th>StartDate</th>\n      <th>EndDate</th>\n      <th>...</th>\n      <th>gcr</th>\n      <th>gcr_adj</th>\n      <th>station_id</th>\n      <th>cmm_station_calls</th>\n      <th>test_date</th>\n      <th>breakout_respondents</th>\n      <th>pop</th>\n      <th>fav_metric</th>\n      <th>ddl_metric</th>\n      <th>f2b_ratio</th>\n    </tr>\n  </thead>\n  <tbody>\n    <tr>\n      <th>0</th>\n      <td>2018-10-01</td>\n      <td>2356990</td>\n      <td>290730733</td>\n      <td>WMIB-FM</td>\n      <td>U1</td>\n      <td>2018-10-01</td>\n      <td>2019-01-14</td>\n      <td>2018-10-08</td>\n      <td>2018-09-30</td>\n      <td>2018-10-06</td>\n      <td>...</td>\n      <td>None</td>\n      <td>None</td>\n      <td>3322924.0</td>\n      <td>WMIB-FM</td>\n      <td>2018-10-01</td>\n      <td>90.0</td>\n      <td>73.0</td>\n      <td>20.0</td>\n      <td>6.0</td>\n      <td>3.33</td>\n    </tr>\n    <tr>\n      <th>1</th>\n      <td>2018-10-01</td>\n      <td>2436027</td>\n      <td>544577900</td>\n      <td>WPGB-FM</td>\n      <td>C1</td>\n      <td>2018-10-01</td>\n      <td>2021-03-22</td>\n      <td>2018-10-08</td>\n      <td>NaT</td>\n      <td>NaT</td>\n      <td>...</td>\n      <td>None</td>\n      <td>None</td>\n      <td>NaN</td>\n      <td>None</td>\n      <td>None</td>\n      <td>NaN</td>\n      <td>NaN</td>\n      <td>NaN</td>\n      <td>NaN</td>\n      <td>NaN</td>\n    </tr>\n    <tr>\n      <th>2</th>\n      <td>2018-10-01</td>\n      <td>2436027</td>\n      <td>544577900</td>\n      <td>WSIX-FM</td>\n      <td>C1</td>\n      <td>2018-10-01</td>\n      <td>2021-03-01</td>\n      <td>2018-10-08</td>\n      <td>NaT</td>\n      <td>NaT</td>\n      <td>...</td>\n      <td>None</td>\n      <td>None</td>\n      <td>NaN</td>\n      <td>None</td>\n      <td>None</td>\n      <td>NaN</td>\n      <td>NaN</td>\n      <td>NaN</td>\n      <td>NaN</td>\n      <td>NaN</td>\n    </tr>\n    <tr>\n      <th>3</th>\n      <td>2018-10-01</td>\n      <td>2436027</td>\n      <td>544577900</td>\n      <td>WUBL-FM</td>\n      <td>C1</td>\n      <td>2018-10-01</td>\n      <td>2020-10-12</td>\n      <td>2018-10-08</td>\n      <td>NaT</td>\n      <td>NaT</td>\n      <td>...</td>\n      <td>None</td>\n      <td>None</td>\n      <td>NaN</td>\n      <td>None</td>\n      <td>None</td>\n      <td>NaN</td>\n      <td>NaN</td>\n      <td>NaN</td>\n      <td>NaN</td>\n      <td>NaN</td>\n    </tr>\n    <tr>\n      <th>4</th>\n      <td>2018-10-01</td>\n      <td>2436027</td>\n      <td>544577900</td>\n      <td>WPOC-FM</td>\n      <td>C1</td>\n      <td>2018-10-01</td>\n      <td>2021-08-30</td>\n      <td>2018-10-08</td>\n      <td>NaT</td>\n      <td>NaT</td>\n      <td>...</td>\n      <td>None</td>\n      <td>None</td>\n      <td>NaN</td>\n      <td>None</td>\n      <td>None</td>\n      <td>NaN</td>\n      <td>NaN</td>\n      <td>NaN</td>\n      <td>NaN</td>\n      <td>NaN</td>\n    </tr>\n  </tbody>\n</table>\n<p>5 rows × 25 columns</p>\n</div>"
     },
     "execution_count": 10,
     "metadata": {},
     "output_type": "execute_result"
    }
   ],
   "source": [
    "df_ebw_metrics.head()"
   ],
   "metadata": {
    "collapsed": false
   }
  },
  {
   "cell_type": "code",
   "execution_count": 11,
   "outputs": [],
   "source": [
    "# song-artist lookup\n",
    "song_query = '''\n",
    "Select mediabase_id, song_name, artist_name\n",
    "from data.songs_v as sv\n",
    "'''\n",
    "engine = postgresql_engine(username, password, url, port, database)\n",
    "with engine.connect() as conn:\n",
    "    with conn.begin():\n",
    "        df_song_lookup = pd.read_sql(song_query, con=conn)"
   ],
   "metadata": {
    "collapsed": false
   }
  },
  {
   "cell_type": "code",
   "execution_count": 12,
   "outputs": [],
   "source": [
    "df_song_lookup.set_index(['mediabase_id'], inplace=True)"
   ],
   "metadata": {
    "collapsed": false
   }
  },
  {
   "cell_type": "code",
   "execution_count": 13,
   "outputs": [
    {
     "data": {
      "text/plain": "                                   song_name                   artist_name\nmediabase_id                                                              \n1178830                    Thorazine Shuffle                    GOV'T MULE\n1906303                              Be Mine  JESSICA BREANNE/ELEC. HEARTS\n1114516                              Odorono                           WHO\n1175101               One Day You'll Be Mine                         USHER\n2849810       Takin' Care Of Business (Live)                       ALABAMA",
      "text/html": "<div>\n<style scoped>\n    .dataframe tbody tr th:only-of-type {\n        vertical-align: middle;\n    }\n\n    .dataframe tbody tr th {\n        vertical-align: top;\n    }\n\n    .dataframe thead th {\n        text-align: right;\n    }\n</style>\n<table border=\"1\" class=\"dataframe\">\n  <thead>\n    <tr style=\"text-align: right;\">\n      <th></th>\n      <th>song_name</th>\n      <th>artist_name</th>\n    </tr>\n    <tr>\n      <th>mediabase_id</th>\n      <th></th>\n      <th></th>\n    </tr>\n  </thead>\n  <tbody>\n    <tr>\n      <th>1178830</th>\n      <td>Thorazine Shuffle</td>\n      <td>GOV'T MULE</td>\n    </tr>\n    <tr>\n      <th>1906303</th>\n      <td>Be Mine</td>\n      <td>JESSICA BREANNE/ELEC. HEARTS</td>\n    </tr>\n    <tr>\n      <th>1114516</th>\n      <td>Odorono</td>\n      <td>WHO</td>\n    </tr>\n    <tr>\n      <th>1175101</th>\n      <td>One Day You'll Be Mine</td>\n      <td>USHER</td>\n    </tr>\n    <tr>\n      <th>2849810</th>\n      <td>Takin' Care Of Business (Live)</td>\n      <td>ALABAMA</td>\n    </tr>\n  </tbody>\n</table>\n</div>"
     },
     "execution_count": 13,
     "metadata": {},
     "output_type": "execute_result"
    }
   ],
   "source": [
    "df_song_lookup.head()"
   ],
   "metadata": {
    "collapsed": false
   }
  },
  {
   "cell_type": "code",
   "execution_count": 14,
   "outputs": [
    {
     "data": {
      "text/plain": "['A1', 'A2', 'C1', 'H1', 'L1', 'L3', 'O1', 'R1', 'R2', 'R3', 'U1', 'U2', 'Y0']"
     },
     "execution_count": 14,
     "metadata": {},
     "output_type": "execute_result"
    }
   ],
   "source": [
    "# extract all formats\n",
    "all_formats = list(pd.unique(df_ebw_metrics['format_code']))\n",
    "all_formats.sort()\n",
    "all_formats"
   ],
   "metadata": {
    "collapsed": false
   }
  },
  {
   "cell_type": "code",
   "execution_count": 15,
   "outputs": [],
   "source": [
    "# define major formats\n",
    "major_formats = ['C1', 'H1', 'U1']"
   ],
   "metadata": {
    "collapsed": false
   }
  },
  {
   "cell_type": "markdown",
   "source": [
    "#### Unique songs"
   ],
   "metadata": {
    "collapsed": false
   }
  },
  {
   "cell_type": "code",
   "execution_count": 16,
   "outputs": [
    {
     "data": {
      "text/plain": "format_code\nA1     (92, 10)\nA2     (272, 9)\nC1    (273, 19)\nH1    (453, 33)\nL1     (263, 5)\nL3      (87, 3)\nO1      (29, 2)\nR1     (160, 2)\nR2     (128, 6)\nR3     (253, 9)\nU1    (499, 17)\nU2     (133, 4)\nY0     (366, 7)\ndtype: object"
     },
     "execution_count": 16,
     "metadata": {},
     "output_type": "execute_result"
    }
   ],
   "source": [
    "df_ebw_metrics.groupby(['format_code']).apply(lambda x:(len(pd.unique(x['mediabase_id'])), len(pd.unique(x['station_id']))))"
   ],
   "metadata": {
    "collapsed": false
   }
  },
  {
   "cell_type": "markdown",
   "source": [
    "#### Unique songs and stations"
   ],
   "metadata": {
    "collapsed": false
   }
  },
  {
   "cell_type": "code",
   "execution_count": 17,
   "outputs": [
    {
     "data": {
      "text/plain": "format_code\nA1     490\nA2    1149\nC1    3409\nH1    7260\nL1     818\nL3     229\nO1      58\nR1     319\nR2     496\nR3     969\nU1    3125\nU2     417\nY0    1390\ndtype: int64"
     },
     "execution_count": 17,
     "metadata": {},
     "output_type": "execute_result"
    }
   ],
   "source": [
    "df_ebw_metrics.groupby(['format_code']).apply(lambda x:len((x[['mediabase_id', 'station_id']].drop_duplicates())))"
   ],
   "metadata": {
    "collapsed": false
   }
  },
  {
   "cell_type": "markdown",
   "source": [
    "### Analyze Favorite, DDL and F2B ratio"
   ],
   "metadata": {
    "collapsed": false
   }
  },
  {
   "cell_type": "code",
   "execution_count": 18,
   "outputs": [
    {
     "data": {
      "text/plain": "<Figure size 640x480 with 2 Axes>",
      "image/png": "[encoded data removed]"
     },
     "metadata": {},
     "output_type": "display_data"
    }
   ],
   "source": [
    "import matplotlib as mpl\n",
    "import matplotlib.pyplot as plt\n",
    "import matplotlib.cm as cm\n",
    "pd.options.mode.chained_assignment = None  # default='warn'\n",
    "\n",
    "# plot out favorite, f2b ratio, and pop scoress\n",
    "for fmt in major_formats:\n",
    "    df_temp = df_ebw_metrics[(df_ebw_metrics['format_code']==fmt) & (~pd.isna(df_ebw_metrics['pop'])) & (df_ebw_metrics['f2b_ratio']<=2)]\n",
    "\n",
    "    # Discretize DDL and F2B\n",
    "    df_temp.loc[:, 'fav_bucket'] = pd.cut(df_temp['fav_metric'], bins=pd.interval_range(start=0, end=40, freq=5))\n",
    "    df_temp.loc[:, 'ddl_bucket'] = pd.cut(df_temp['ddl_metric'], bins=pd.interval_range(start=0, end=40, freq=5))\n",
    "\n",
    "    df_temp_agg_f2b = pd.pivot_table(df_temp.groupby(['ddl_bucket', 'fav_bucket']).agg({'f2b_ratio': np.mean}).reset_index(), index = ['fav_bucket'], columns=['ddl_bucket'])\n",
    "    df_temp_agg_pop = pd.pivot_table(df_temp.groupby(['ddl_bucket', 'fav_bucket']).agg({'pop': np.mean}).reset_index(), index = ['fav_bucket'], columns=['ddl_bucket'])\n",
    "\n",
    "    # print(df_temp_agg_f2b)\n",
    "    ax1 = plt.subplot(1,2,1)\n",
    "    im = ax1.imshow(df_temp_agg_f2b, origin='lower')\n",
    "\n",
    "    # Show all ticks and label them with the respective list entries\n",
    "    ax1.set_yticks(ticks=np.arange(len(df_temp_agg_f2b.index)), labels=df_temp_agg_f2b.index)\n",
    "    ax1.set_xticks(ticks=np.arange(len( df_temp_agg_f2b.columns)), labels=['(' + str(i.left) + ',' +  str(i.right) + ']' for (j,i) in df_temp_agg_f2b.columns])\n",
    "    #\n",
    "    # # Rotate the tick labels and set their alignment.\n",
    "    plt.setp(ax1.get_xticklabels(), rotation=45, ha=\"right\",\n",
    "             rotation_mode=\"anchor\")\n",
    "    #\n",
    "    # # Loop over data dimensions and create text annotations.\n",
    "    for i in np.arange(len(df_temp_agg_f2b.columns)):\n",
    "        for j in np.arange(len(df_temp_agg_f2b.index)):\n",
    "            text = ax1.text(i, j, \"%.2f\"%df_temp_agg_f2b.iloc[j, i],\n",
    "                           ha=\"center\", va=\"center\", color=\"w\", fontsize='small')\n",
    "\n",
    "    ax1.set_title(\"F2B ratio\")\n",
    "    ax1.set_aspect(1/ax1.get_data_ratio())\n",
    "\n",
    "    # plot pop\n",
    "    ax2 = plt.subplot(1,2,2)\n",
    "    im = ax2.imshow(df_temp_agg_pop, origin='lower')\n",
    "\n",
    "    # Show all ticks and label them with the respective list entries\n",
    "    ax2.set_yticks(ticks=np.arange(len(df_temp_agg_pop.index)), labels=df_temp_agg_pop.index)\n",
    "    ax2.set_xticks(ticks=np.arange(len( df_temp_agg_pop.columns)), labels=['(' + str(i.left) + ',' +  str(i.right) + ']' for (j,i) in df_temp_agg_pop.columns])\n",
    "    #\n",
    "    # # Rotate the tick labels and set their alignment.\n",
    "    plt.setp(ax2.get_xticklabels(), rotation=45, ha=\"right\",\n",
    "             rotation_mode=\"anchor\")\n",
    "    #\n",
    "    # # Loop over data dimensions and create text annotations.\n",
    "    for i in np.arange(len(df_temp_agg_pop.columns)):\n",
    "        for j in np.arange(len(df_temp_agg_pop.index)):\n",
    "            text = ax2.text(i, j, \"%.2f\"%df_temp_agg_pop.iloc[j, i],\n",
    "                           ha=\"center\", va=\"center\", color=\"w\", fontsize = 'small')\n",
    "\n",
    "    ax2.set_title(\"Avg. Pop \")\n",
    "    ax2.set_aspect(1/ax2.get_data_ratio())\n",
    "\n",
    "    plt.tight_layout()\n",
    "    break"
   ],
   "metadata": {
    "collapsed": false
   }
  },
  {
   "cell_type": "markdown",
   "source": [
    "### Calculated fields for analysis"
   ],
   "metadata": {
    "collapsed": false
   }
  },
  {
   "cell_type": "code",
   "execution_count": 19,
   "outputs": [],
   "source": [
    "# Look at two appearances in top quintile of callout research\n",
    "df_pop_quintile = pd.DataFrame(df_ebw_metrics[~pd.isna(df_ebw_metrics['pop'])].groupby(['format_code', 'cmm_station_calls', 'week_dt']).apply(lambda x: np.quantile(x['pop'], 0.80)), columns=['top_quintile_cutoff'])"
   ],
   "metadata": {
    "collapsed": false
   }
  },
  {
   "cell_type": "code",
   "execution_count": 20,
   "outputs": [
    {
     "data": {
      "text/plain": "                                          top_quintile_cutoff\nformat_code cmm_station_calls week_dt                        \nA1          KDGE-FM           2019-06-10                 67.0\n                              2019-07-08                 80.2\n                              2019-07-22                 79.4\n                              2019-08-05                 93.0\n                              2019-08-19                 77.4\n...                                                       ...\nY0          WJMN-FM           2022-08-08                 86.0\n                              2022-08-22                 90.4\n                              2022-08-29                 94.2\n                              2022-09-12                 90.0\n                              2022-09-26                 92.8\n\n[7862 rows x 1 columns]",
      "text/html": "<div>\n<style scoped>\n    .dataframe tbody tr th:only-of-type {\n        vertical-align: middle;\n    }\n\n    .dataframe tbody tr th {\n        vertical-align: top;\n    }\n\n    .dataframe thead th {\n        text-align: right;\n    }\n</style>\n<table border=\"1\" class=\"dataframe\">\n  <thead>\n    <tr style=\"text-align: right;\">\n      <th></th>\n      <th></th>\n      <th></th>\n      <th>top_quintile_cutoff</th>\n    </tr>\n    <tr>\n      <th>format_code</th>\n      <th>cmm_station_calls</th>\n      <th>week_dt</th>\n      <th></th>\n    </tr>\n  </thead>\n  <tbody>\n    <tr>\n      <th rowspan=\"5\" valign=\"top\">A1</th>\n      <th rowspan=\"5\" valign=\"top\">KDGE-FM</th>\n      <th>2019-06-10</th>\n      <td>67.0</td>\n    </tr>\n    <tr>\n      <th>2019-07-08</th>\n      <td>80.2</td>\n    </tr>\n    <tr>\n      <th>2019-07-22</th>\n      <td>79.4</td>\n    </tr>\n    <tr>\n      <th>2019-08-05</th>\n      <td>93.0</td>\n    </tr>\n    <tr>\n      <th>2019-08-19</th>\n      <td>77.4</td>\n    </tr>\n    <tr>\n      <th>...</th>\n      <th>...</th>\n      <th>...</th>\n      <td>...</td>\n    </tr>\n    <tr>\n      <th rowspan=\"5\" valign=\"top\">Y0</th>\n      <th rowspan=\"5\" valign=\"top\">WJMN-FM</th>\n      <th>2022-08-08</th>\n      <td>86.0</td>\n    </tr>\n    <tr>\n      <th>2022-08-22</th>\n      <td>90.4</td>\n    </tr>\n    <tr>\n      <th>2022-08-29</th>\n      <td>94.2</td>\n    </tr>\n    <tr>\n      <th>2022-09-12</th>\n      <td>90.0</td>\n    </tr>\n    <tr>\n      <th>2022-09-26</th>\n      <td>92.8</td>\n    </tr>\n  </tbody>\n</table>\n<p>7862 rows × 1 columns</p>\n</div>"
     },
     "execution_count": 20,
     "metadata": {},
     "output_type": "execute_result"
    }
   ],
   "source": [
    "df_pop_quintile"
   ],
   "metadata": {
    "collapsed": false
   }
  },
  {
   "cell_type": "code",
   "execution_count": 21,
   "outputs": [],
   "source": [
    "df_ebw_metrics['is_top_quintile'] = df_ebw_metrics.join(df_pop_quintile, on=['format_code', 'cmm_station_calls', 'week_dt'], rsuffix='_r').apply(lambda x: int(x['pop'] >= x['top_quintile_cutoff']), axis=1)"
   ],
   "metadata": {
    "collapsed": false
   }
  },
  {
   "cell_type": "code",
   "execution_count": 22,
   "outputs": [],
   "source": [
    "df_ebw_metrics['week_dt'] = pd.to_datetime(df_ebw_metrics['week_dt'])"
   ],
   "metadata": {
    "collapsed": false
   }
  },
  {
   "cell_type": "code",
   "execution_count": 23,
   "outputs": [],
   "source": [
    "df_ebw_metrics.sort_values(by=['format_code', 'call_letters', 'mediabase_id', 'week_dt'], inplace=True)"
   ],
   "metadata": {
    "collapsed": false
   }
  },
  {
   "cell_type": "code",
   "execution_count": 24,
   "outputs": [],
   "source": [
    "df_ebw_metrics['num_top_quintile'] = df_ebw_metrics.groupby(['format_code', 'call_letters', 'mediabase_id'])['is_top_quintile'].cumsum()"
   ],
   "metadata": {
    "collapsed": false
   }
  },
  {
   "cell_type": "code",
   "execution_count": 25,
   "outputs": [],
   "source": [
    "df_ebw_metrics['cuml_spins_non_on'] = df_ebw_metrics.groupby(['format_code', 'call_letters', 'mediabase_id'])['spins_non_on'].cumsum()"
   ],
   "metadata": {
    "collapsed": false
   }
  },
  {
   "cell_type": "code",
   "execution_count": 26,
   "outputs": [
    {
     "data": {
      "text/plain": "7400"
     },
     "execution_count": 26,
     "metadata": {},
     "output_type": "execute_result"
    }
   ],
   "source": [
    "100*(int(np.max(df_ebw_metrics['cuml_spins_non_on'])/100) + 1)"
   ],
   "metadata": {
    "collapsed": false
   }
  },
  {
   "cell_type": "code",
   "execution_count": 27,
   "outputs": [],
   "source": [
    "df_ebw_metrics['cuml_spins_bucket'] = pd.cut(df_ebw_metrics['cuml_spins_non_on'], bins=pd.interval_range(start=0, end=100*(int(np.max(df_ebw_metrics['cuml_spins_non_on'])/100) + 1), freq=100))"
   ],
   "metadata": {
    "collapsed": false
   }
  },
  {
   "cell_type": "code",
   "execution_count": 28,
   "outputs": [],
   "source": [
    "df_ebw_metrics['weeks_since_release'] = ((df_ebw_metrics['week_dt'] - pd.to_datetime(df_ebw_metrics['song_release_date']))/np.timedelta64(1, 'W')).apply(int)"
   ],
   "metadata": {
    "collapsed": false
   }
  },
  {
   "cell_type": "code",
   "execution_count": 29,
   "outputs": [],
   "source": [
    "df_ebw_metrics = df_ebw_metrics.join(df_song_lookup, on=['mediabase_id'])"
   ],
   "metadata": {
    "collapsed": false
   }
  },
  {
   "cell_type": "code",
   "execution_count": 31,
   "outputs": [
    {
     "data": {
      "text/plain": "array([0.85, 0.88, 0.91, 0.94, 0.97, 1.  , 1.03, 1.06, 1.09, 1.12, 1.15])"
     },
     "execution_count": 31,
     "metadata": {},
     "output_type": "execute_result"
    }
   ],
   "source": [
    "ddl_range = np.arange(15, 26, 1)\n",
    "f2b_range = np.arange(0.85, 1.18, 0.03)"
   ],
   "metadata": {
    "collapsed": false
   }
  },
  {
   "cell_type": "code",
   "execution_count": 38,
   "outputs": [
    {
     "data": {
      "text/plain": "['f2b_leq_0.85',\n 'f2b_leq_0.88',\n 'f2b_leq_0.91',\n 'f2b_leq_0.94',\n 'f2b_leq_0.97',\n 'f2b_leq_1.00',\n 'f2b_leq_1.03',\n 'f2b_leq_1.06',\n 'f2b_leq_1.09',\n 'f2b_leq_1.12',\n 'f2b_leq_1.15']"
     },
     "execution_count": 38,
     "metadata": {},
     "output_type": "execute_result"
    }
   ],
   "source": [
    "ddl_geq_cols = ['ddl_geq_' + str(int(i)) for i in ddl_range]\n",
    "ddl_track_cols = ['ddl_track_' + str(int(i)) for i in ddl_range]\n",
    "\n",
    "f2b_leq_cols = ['f2b_leq_' + '%.2f'%i for i in f2b_range]\n",
    "f2b_track_cols = ['f2b_track_' + '%.2f'%i  for i in f2b_range]"
   ],
   "metadata": {
    "collapsed": false
   }
  },
  {
   "cell_type": "code",
   "execution_count": 39,
   "outputs": [],
   "source": [
    "for i in range(len(ddl_range)):\n",
    "    df_ebw_metrics[ddl_geq_cols[i]] = df_ebw_metrics['ddl_metric'].apply(lambda x: int(x >= ddl_range[i]))\n",
    "    df_ebw_metrics[ddl_track_cols[i]] = df_ebw_metrics.groupby(['format_code', 'call_letters', 'mediabase_id'])[ddl_geq_cols[i]].cumsum()\n",
    "\n",
    "    df_ebw_metrics[f2b_leq_cols[i]] = df_ebw_metrics['f2b_ratio'].apply(lambda x: int(x <= f2b_range[i]))\n",
    "    df_ebw_metrics[f2b_track_cols[i]] = df_ebw_metrics.groupby(['format_code', 'call_letters', 'mediabase_id'])[f2b_leq_cols[i]].cumsum()"
   ],
   "metadata": {
    "collapsed": false
   }
  },
  {
   "cell_type": "code",
   "execution_count": 40,
   "outputs": [
    {
     "data": {
      "text/plain": "         week_dt  mediabase_id    song_id call_letters format_code  \\\n1720  2018-10-01       2436510  545826696      KIIS-FM          H1   \n2048  2018-10-08       2436510  545826696      KIIS-FM          H1   \n2331  2018-10-15       2436510  545826696      KIIS-FM          H1   \n2669  2018-10-22       2436510  545826696      KIIS-FM          H1   \n2965  2018-10-29       2436510  545826696      KIIS-FM          H1   \n3277  2018-11-05       2436510  545826696      KIIS-FM          H1   \n3658  2018-11-12       2436510  545826696      KIIS-FM          H1   \n4044  2018-11-19       2436510  545826696      KIIS-FM          H1   \n4445  2018-11-26       2436510  545826696      KIIS-FM          H1   \n4812  2018-12-03       2436510  545826696      KIIS-FM          H1   \n5269  2018-12-10       2436510  545826696      KIIS-FM          H1   \n5694  2018-12-17       2436510  545826696      KIIS-FM          H1   \n6143  2018-12-24       2436510  545826696      KIIS-FM          H1   \n6596  2018-12-31       2436510  545826696      KIIS-FM          H1   \n7023  2019-01-07       2436510  545826696      KIIS-FM          H1   \n7662  2019-01-14       2436510  545826696      KIIS-FM          H1   \n8329  2019-01-21       2436510  545826696      KIIS-FM          H1   \n8932  2019-01-28       2436510  545826696      KIIS-FM          H1   \n9570  2019-02-04       2436510  545826696      KIIS-FM          H1   \n10366 2019-02-11       2436510  545826696      KIIS-FM          H1   \n\n      song_release_date last_callout_date first_spin_date  StartDate  \\\n1720         2018-10-01        2021-02-22      2018-10-08 2018-09-30   \n2048         2018-10-01        2021-02-22      2018-10-08 2018-10-07   \n2331         2018-10-01        2021-02-22      2018-10-08 2018-10-14   \n2669         2018-10-01        2021-02-22      2018-10-08 2018-10-21   \n2965         2018-10-01        2021-02-22      2018-10-08 2018-10-28   \n3277         2018-10-01        2021-02-22      2018-10-08 2018-11-04   \n3658         2018-10-01        2021-02-22      2018-10-08 2018-11-11   \n4044         2018-10-01        2021-02-22      2018-10-08 2018-11-18   \n4445         2018-10-01        2021-02-22      2018-10-08 2018-11-25   \n4812         2018-10-01        2021-02-22      2018-10-08 2018-12-02   \n5269         2018-10-01        2021-02-22      2018-10-08 2018-12-09   \n5694         2018-10-01        2021-02-22      2018-10-08 2018-12-16   \n6143         2018-10-01        2021-02-22      2018-10-08 2018-12-23   \n6596         2018-10-01        2021-02-22      2018-10-08 2018-12-30   \n7023         2018-10-01        2021-02-22      2018-10-08 2019-01-06   \n7662         2018-10-01        2021-02-22      2018-10-08 2019-01-13   \n8329         2018-10-01        2021-02-22      2018-10-08 2019-01-20   \n8932         2018-10-01        2021-02-22      2018-10-08 2019-01-27   \n9570         2018-10-01        2021-02-22      2018-10-08 2019-02-03   \n10366        2018-10-01        2021-02-22      2018-10-08 2019-02-10   \n\n         EndDate  ...  f2b_leq_1.09  f2b_track_1.09  ddl_geq_24  ddl_track_24  \\\n1720  2018-10-06  ...             0               0           0             0   \n2048  2018-10-13  ...             0               0           0             0   \n2331  2018-10-20  ...             0               0           0             0   \n2669  2018-10-27  ...             0               0           0             0   \n2965  2018-11-03  ...             0               0           0             0   \n3277  2018-11-10  ...             0               0           0             0   \n3658  2018-11-17  ...             0               0           0             0   \n4044  2018-11-24  ...             0               0           0             0   \n4445  2018-12-01  ...             0               0           0             0   \n4812  2018-12-08  ...             0               0           0             0   \n5269  2018-12-15  ...             0               0           0             0   \n5694  2018-12-22  ...             0               0           0             0   \n6143  2018-12-29  ...             0               0           0             0   \n6596  2019-01-05  ...             0               0           0             0   \n7023  2019-01-12  ...             0               0           0             0   \n7662  2019-01-19  ...             0               0           0             0   \n8329  2019-01-26  ...             0               0           0             0   \n8932  2019-02-02  ...             0               0           0             0   \n9570  2019-02-09  ...             0               0           0             0   \n10366 2019-02-16  ...             0               0           0             0   \n\n       f2b_leq_1.12 f2b_track_1.12 ddl_geq_25  ddl_track_25 f2b_leq_1.15  \\\n1720              0              0          0             0            0   \n2048              0              0          0             0            0   \n2331              0              0          0             0            0   \n2669              0              0          0             0            0   \n2965              0              0          0             0            0   \n3277              0              0          0             0            0   \n3658              0              0          0             0            0   \n4044              0              0          0             0            0   \n4445              0              0          0             0            0   \n4812              0              0          0             0            0   \n5269              0              0          0             0            0   \n5694              0              0          0             0            0   \n6143              0              0          0             0            0   \n6596              0              0          0             0            0   \n7023              0              0          0             0            0   \n7662              0              0          0             0            0   \n8329              0              0          0             0            0   \n8932              0              0          0             0            0   \n9570              0              0          0             0            0   \n10366             0              0          0             0            0   \n\n      f2b_track_1.15  \n1720               0  \n2048               0  \n2331               0  \n2669               0  \n2965               0  \n3277               0  \n3658               0  \n4044               0  \n4445               0  \n4812               0  \n5269               0  \n5694               0  \n6143               0  \n6596               0  \n7023               0  \n7662               0  \n8329               0  \n8932               0  \n9570               0  \n10366              0  \n\n[20 rows x 76 columns]",
      "text/html": "<div>\n<style scoped>\n    .dataframe tbody tr th:only-of-type {\n        vertical-align: middle;\n    }\n\n    .dataframe tbody tr th {\n        vertical-align: top;\n    }\n\n    .dataframe thead th {\n        text-align: right;\n    }\n</style>\n<table border=\"1\" class=\"dataframe\">\n  <thead>\n    <tr style=\"text-align: right;\">\n      <th></th>\n      <th>week_dt</th>\n      <th>mediabase_id</th>\n      <th>song_id</th>\n      <th>call_letters</th>\n      <th>format_code</th>\n      <th>song_release_date</th>\n      <th>last_callout_date</th>\n      <th>first_spin_date</th>\n      <th>StartDate</th>\n      <th>EndDate</th>\n      <th>...</th>\n      <th>f2b_leq_1.09</th>\n      <th>f2b_track_1.09</th>\n      <th>ddl_geq_24</th>\n      <th>ddl_track_24</th>\n      <th>f2b_leq_1.12</th>\n      <th>f2b_track_1.12</th>\n      <th>ddl_geq_25</th>\n      <th>ddl_track_25</th>\n      <th>f2b_leq_1.15</th>\n      <th>f2b_track_1.15</th>\n    </tr>\n  </thead>\n  <tbody>\n    <tr>\n      <th>1720</th>\n      <td>2018-10-01</td>\n      <td>2436510</td>\n      <td>545826696</td>\n      <td>KIIS-FM</td>\n      <td>H1</td>\n      <td>2018-10-01</td>\n      <td>2021-02-22</td>\n      <td>2018-10-08</td>\n      <td>2018-09-30</td>\n      <td>2018-10-06</td>\n      <td>...</td>\n      <td>0</td>\n      <td>0</td>\n      <td>0</td>\n      <td>0</td>\n      <td>0</td>\n      <td>0</td>\n      <td>0</td>\n      <td>0</td>\n      <td>0</td>\n      <td>0</td>\n    </tr>\n    <tr>\n      <th>2048</th>\n      <td>2018-10-08</td>\n      <td>2436510</td>\n      <td>545826696</td>\n      <td>KIIS-FM</td>\n      <td>H1</td>\n      <td>2018-10-01</td>\n      <td>2021-02-22</td>\n      <td>2018-10-08</td>\n      <td>2018-10-07</td>\n      <td>2018-10-13</td>\n      <td>...</td>\n      <td>0</td>\n      <td>0</td>\n      <td>0</td>\n      <td>0</td>\n      <td>0</td>\n      <td>0</td>\n      <td>0</td>\n      <td>0</td>\n      <td>0</td>\n      <td>0</td>\n    </tr>\n    <tr>\n      <th>2331</th>\n      <td>2018-10-15</td>\n      <td>2436510</td>\n      <td>545826696</td>\n      <td>KIIS-FM</td>\n      <td>H1</td>\n      <td>2018-10-01</td>\n      <td>2021-02-22</td>\n      <td>2018-10-08</td>\n      <td>2018-10-14</td>\n      <td>2018-10-20</td>\n      <td>...</td>\n      <td>0</td>\n      <td>0</td>\n      <td>0</td>\n      <td>0</td>\n      <td>0</td>\n      <td>0</td>\n      <td>0</td>\n      <td>0</td>\n      <td>0</td>\n      <td>0</td>\n    </tr>\n    <tr>\n      <th>2669</th>\n      <td>2018-10-22</td>\n      <td>2436510</td>\n      <td>545826696</td>\n      <td>KIIS-FM</td>\n      <td>H1</td>\n      <td>2018-10-01</td>\n      <td>2021-02-22</td>\n      <td>2018-10-08</td>\n      <td>2018-10-21</td>\n      <td>2018-10-27</td>\n      <td>...</td>\n      <td>0</td>\n      <td>0</td>\n      <td>0</td>\n      <td>0</td>\n      <td>0</td>\n      <td>0</td>\n      <td>0</td>\n      <td>0</td>\n      <td>0</td>\n      <td>0</td>\n    </tr>\n    <tr>\n      <th>2965</th>\n      <td>2018-10-29</td>\n      <td>2436510</td>\n      <td>545826696</td>\n      <td>KIIS-FM</td>\n      <td>H1</td>\n      <td>2018-10-01</td>\n      <td>2021-02-22</td>\n      <td>2018-10-08</td>\n      <td>2018-10-28</td>\n      <td>2018-11-03</td>\n      <td>...</td>\n      <td>0</td>\n      <td>0</td>\n      <td>0</td>\n      <td>0</td>\n      <td>0</td>\n      <td>0</td>\n      <td>0</td>\n      <td>0</td>\n      <td>0</td>\n      <td>0</td>\n    </tr>\n    <tr>\n      <th>3277</th>\n      <td>2018-11-05</td>\n      <td>2436510</td>\n      <td>545826696</td>\n      <td>KIIS-FM</td>\n      <td>H1</td>\n      <td>2018-10-01</td>\n      <td>2021-02-22</td>\n      <td>2018-10-08</td>\n      <td>2018-11-04</td>\n      <td>2018-11-10</td>\n      <td>...</td>\n      <td>0</td>\n      <td>0</td>\n      <td>0</td>\n      <td>0</td>\n      <td>0</td>\n      <td>0</td>\n      <td>0</td>\n      <td>0</td>\n      <td>0</td>\n      <td>0</td>\n    </tr>\n    <tr>\n      <th>3658</th>\n      <td>2018-11-12</td>\n      <td>2436510</td>\n      <td>545826696</td>\n      <td>KIIS-FM</td>\n      <td>H1</td>\n      <td>2018-10-01</td>\n      <td>2021-02-22</td>\n      <td>2018-10-08</td>\n      <td>2018-11-11</td>\n      <td>2018-11-17</td>\n      <td>...</td>\n      <td>0</td>\n      <td>0</td>\n      <td>0</td>\n      <td>0</td>\n      <td>0</td>\n      <td>0</td>\n      <td>0</td>\n      <td>0</td>\n      <td>0</td>\n      <td>0</td>\n    </tr>\n    <tr>\n      <th>4044</th>\n      <td>2018-11-19</td>\n      <td>2436510</td>\n      <td>545826696</td>\n      <td>KIIS-FM</td>\n      <td>H1</td>\n      <td>2018-10-01</td>\n      <td>2021-02-22</td>\n      <td>2018-10-08</td>\n      <td>2018-11-18</td>\n      <td>2018-11-24</td>\n      <td>...</td>\n      <td>0</td>\n      <td>0</td>\n      <td>0</td>\n      <td>0</td>\n      <td>0</td>\n      <td>0</td>\n      <td>0</td>\n      <td>0</td>\n      <td>0</td>\n      <td>0</td>\n    </tr>\n    <tr>\n      <th>4445</th>\n      <td>2018-11-26</td>\n      <td>2436510</td>\n      <td>545826696</td>\n      <td>KIIS-FM</td>\n      <td>H1</td>\n      <td>2018-10-01</td>\n      <td>2021-02-22</td>\n      <td>2018-10-08</td>\n      <td>2018-11-25</td>\n      <td>2018-12-01</td>\n      <td>...</td>\n      <td>0</td>\n      <td>0</td>\n      <td>0</td>\n      <td>0</td>\n      <td>0</td>\n      <td>0</td>\n      <td>0</td>\n      <td>0</td>\n      <td>0</td>\n      <td>0</td>\n    </tr>\n    <tr>\n      <th>4812</th>\n      <td>2018-12-03</td>\n      <td>2436510</td>\n      <td>545826696</td>\n      <td>KIIS-FM</td>\n      <td>H1</td>\n      <td>2018-10-01</td>\n      <td>2021-02-22</td>\n      <td>2018-10-08</td>\n      <td>2018-12-02</td>\n      <td>2018-12-08</td>\n      <td>...</td>\n      <td>0</td>\n      <td>0</td>\n      <td>0</td>\n      <td>0</td>\n      <td>0</td>\n      <td>0</td>\n      <td>0</td>\n      <td>0</td>\n      <td>0</td>\n      <td>0</td>\n    </tr>\n    <tr>\n      <th>5269</th>\n      <td>2018-12-10</td>\n      <td>2436510</td>\n      <td>545826696</td>\n      <td>KIIS-FM</td>\n      <td>H1</td>\n      <td>2018-10-01</td>\n      <td>2021-02-22</td>\n      <td>2018-10-08</td>\n      <td>2018-12-09</td>\n      <td>2018-12-15</td>\n      <td>...</td>\n      <td>0</td>\n      <td>0</td>\n      <td>0</td>\n      <td>0</td>\n      <td>0</td>\n      <td>0</td>\n      <td>0</td>\n      <td>0</td>\n      <td>0</td>\n      <td>0</td>\n    </tr>\n    <tr>\n      <th>5694</th>\n      <td>2018-12-17</td>\n      <td>2436510</td>\n      <td>545826696</td>\n      <td>KIIS-FM</td>\n      <td>H1</td>\n      <td>2018-10-01</td>\n      <td>2021-02-22</td>\n      <td>2018-10-08</td>\n      <td>2018-12-16</td>\n      <td>2018-12-22</td>\n      <td>...</td>\n      <td>0</td>\n      <td>0</td>\n      <td>0</td>\n      <td>0</td>\n      <td>0</td>\n      <td>0</td>\n      <td>0</td>\n      <td>0</td>\n      <td>0</td>\n      <td>0</td>\n    </tr>\n    <tr>\n      <th>6143</th>\n      <td>2018-12-24</td>\n      <td>2436510</td>\n      <td>545826696</td>\n      <td>KIIS-FM</td>\n      <td>H1</td>\n      <td>2018-10-01</td>\n      <td>2021-02-22</td>\n      <td>2018-10-08</td>\n      <td>2018-12-23</td>\n      <td>2018-12-29</td>\n      <td>...</td>\n      <td>0</td>\n      <td>0</td>\n      <td>0</td>\n      <td>0</td>\n      <td>0</td>\n      <td>0</td>\n      <td>0</td>\n      <td>0</td>\n      <td>0</td>\n      <td>0</td>\n    </tr>\n    <tr>\n      <th>6596</th>\n      <td>2018-12-31</td>\n      <td>2436510</td>\n      <td>545826696</td>\n      <td>KIIS-FM</td>\n      <td>H1</td>\n      <td>2018-10-01</td>\n      <td>2021-02-22</td>\n      <td>2018-10-08</td>\n      <td>2018-12-30</td>\n      <td>2019-01-05</td>\n      <td>...</td>\n      <td>0</td>\n      <td>0</td>\n      <td>0</td>\n      <td>0</td>\n      <td>0</td>\n      <td>0</td>\n      <td>0</td>\n      <td>0</td>\n      <td>0</td>\n      <td>0</td>\n    </tr>\n    <tr>\n      <th>7023</th>\n      <td>2019-01-07</td>\n      <td>2436510</td>\n      <td>545826696</td>\n      <td>KIIS-FM</td>\n      <td>H1</td>\n      <td>2018-10-01</td>\n      <td>2021-02-22</td>\n      <td>2018-10-08</td>\n      <td>2019-01-06</td>\n      <td>2019-01-12</td>\n      <td>...</td>\n      <td>0</td>\n      <td>0</td>\n      <td>0</td>\n      <td>0</td>\n      <td>0</td>\n      <td>0</td>\n      <td>0</td>\n      <td>0</td>\n      <td>0</td>\n      <td>0</td>\n    </tr>\n    <tr>\n      <th>7662</th>\n      <td>2019-01-14</td>\n      <td>2436510</td>\n      <td>545826696</td>\n      <td>KIIS-FM</td>\n      <td>H1</td>\n      <td>2018-10-01</td>\n      <td>2021-02-22</td>\n      <td>2018-10-08</td>\n      <td>2019-01-13</td>\n      <td>2019-01-19</td>\n      <td>...</td>\n      <td>0</td>\n      <td>0</td>\n      <td>0</td>\n      <td>0</td>\n      <td>0</td>\n      <td>0</td>\n      <td>0</td>\n      <td>0</td>\n      <td>0</td>\n      <td>0</td>\n    </tr>\n    <tr>\n      <th>8329</th>\n      <td>2019-01-21</td>\n      <td>2436510</td>\n      <td>545826696</td>\n      <td>KIIS-FM</td>\n      <td>H1</td>\n      <td>2018-10-01</td>\n      <td>2021-02-22</td>\n      <td>2018-10-08</td>\n      <td>2019-01-20</td>\n      <td>2019-01-26</td>\n      <td>...</td>\n      <td>0</td>\n      <td>0</td>\n      <td>0</td>\n      <td>0</td>\n      <td>0</td>\n      <td>0</td>\n      <td>0</td>\n      <td>0</td>\n      <td>0</td>\n      <td>0</td>\n    </tr>\n    <tr>\n      <th>8932</th>\n      <td>2019-01-28</td>\n      <td>2436510</td>\n      <td>545826696</td>\n      <td>KIIS-FM</td>\n      <td>H1</td>\n      <td>2018-10-01</td>\n      <td>2021-02-22</td>\n      <td>2018-10-08</td>\n      <td>2019-01-27</td>\n      <td>2019-02-02</td>\n      <td>...</td>\n      <td>0</td>\n      <td>0</td>\n      <td>0</td>\n      <td>0</td>\n      <td>0</td>\n      <td>0</td>\n      <td>0</td>\n      <td>0</td>\n      <td>0</td>\n      <td>0</td>\n    </tr>\n    <tr>\n      <th>9570</th>\n      <td>2019-02-04</td>\n      <td>2436510</td>\n      <td>545826696</td>\n      <td>KIIS-FM</td>\n      <td>H1</td>\n      <td>2018-10-01</td>\n      <td>2021-02-22</td>\n      <td>2018-10-08</td>\n      <td>2019-02-03</td>\n      <td>2019-02-09</td>\n      <td>...</td>\n      <td>0</td>\n      <td>0</td>\n      <td>0</td>\n      <td>0</td>\n      <td>0</td>\n      <td>0</td>\n      <td>0</td>\n      <td>0</td>\n      <td>0</td>\n      <td>0</td>\n    </tr>\n    <tr>\n      <th>10366</th>\n      <td>2019-02-11</td>\n      <td>2436510</td>\n      <td>545826696</td>\n      <td>KIIS-FM</td>\n      <td>H1</td>\n      <td>2018-10-01</td>\n      <td>2021-02-22</td>\n      <td>2018-10-08</td>\n      <td>2019-02-10</td>\n      <td>2019-02-16</td>\n      <td>...</td>\n      <td>0</td>\n      <td>0</td>\n      <td>0</td>\n      <td>0</td>\n      <td>0</td>\n      <td>0</td>\n      <td>0</td>\n      <td>0</td>\n      <td>0</td>\n      <td>0</td>\n    </tr>\n  </tbody>\n</table>\n<p>20 rows × 76 columns</p>\n</div>"
     },
     "execution_count": 40,
     "metadata": {},
     "output_type": "execute_result"
    }
   ],
   "source": [
    "df_ebw_metrics[(df_ebw_metrics['mediabase_id']==2436510) & (df_ebw_metrics['call_letters'] == 'KIIS-FM')].head(20)"
   ],
   "metadata": {
    "collapsed": false
   }
  },
  {
   "cell_type": "markdown",
   "source": [
    "### Examples of Burnout and indicators (spins, market spins, streams)"
   ],
   "metadata": {
    "collapsed": false
   }
  },
  {
   "cell_type": "code",
   "execution_count": 130,
   "outputs": [
    {
     "data": {
      "text/plain": "   mediabase_id                       song_name    artist_name  \\\n6       2706913                      Fancy Like   WALKER HAYES   \n1       2496571                   Don't Let Her   WALKER HAYES   \n4       2569833                  Hard To Forget       SAM HUNT   \n3       2537662                        Kinfolks       SAM HUNT   \n5       2585510  Breaking Up Was Easy In The...       SAM HUNT   \n7       2739937                              23       SAM HUNT   \n0       2466281           I Hope f/Charlie Puth  GABBY BARRETT   \n2       2512461                   The Good Ones  GABBY BARRETT   \n\n   cuml_spins_non_on song_release_date  \n6               2009        2021-06-01  \n1                211        2019-05-01  \n4               2116        2020-02-01  \n3               2066        2019-10-01  \n5               2024        2020-04-01  \n7               1902        2021-09-01  \n0               2610        2019-01-01  \n2               1404        2019-07-01  ",
      "text/html": "<div>\n<style scoped>\n    .dataframe tbody tr th:only-of-type {\n        vertical-align: middle;\n    }\n\n    .dataframe tbody tr th {\n        vertical-align: top;\n    }\n\n    .dataframe thead th {\n        text-align: right;\n    }\n</style>\n<table border=\"1\" class=\"dataframe\">\n  <thead>\n    <tr style=\"text-align: right;\">\n      <th></th>\n      <th>mediabase_id</th>\n      <th>song_name</th>\n      <th>artist_name</th>\n      <th>cuml_spins_non_on</th>\n      <th>song_release_date</th>\n    </tr>\n  </thead>\n  <tbody>\n    <tr>\n      <th>6</th>\n      <td>2706913</td>\n      <td>Fancy Like</td>\n      <td>WALKER HAYES</td>\n      <td>2009</td>\n      <td>2021-06-01</td>\n    </tr>\n    <tr>\n      <th>1</th>\n      <td>2496571</td>\n      <td>Don't Let Her</td>\n      <td>WALKER HAYES</td>\n      <td>211</td>\n      <td>2019-05-01</td>\n    </tr>\n    <tr>\n      <th>4</th>\n      <td>2569833</td>\n      <td>Hard To Forget</td>\n      <td>SAM HUNT</td>\n      <td>2116</td>\n      <td>2020-02-01</td>\n    </tr>\n    <tr>\n      <th>3</th>\n      <td>2537662</td>\n      <td>Kinfolks</td>\n      <td>SAM HUNT</td>\n      <td>2066</td>\n      <td>2019-10-01</td>\n    </tr>\n    <tr>\n      <th>5</th>\n      <td>2585510</td>\n      <td>Breaking Up Was Easy In The...</td>\n      <td>SAM HUNT</td>\n      <td>2024</td>\n      <td>2020-04-01</td>\n    </tr>\n    <tr>\n      <th>7</th>\n      <td>2739937</td>\n      <td>23</td>\n      <td>SAM HUNT</td>\n      <td>1902</td>\n      <td>2021-09-01</td>\n    </tr>\n    <tr>\n      <th>0</th>\n      <td>2466281</td>\n      <td>I Hope f/Charlie Puth</td>\n      <td>GABBY BARRETT</td>\n      <td>2610</td>\n      <td>2019-01-01</td>\n    </tr>\n    <tr>\n      <th>2</th>\n      <td>2512461</td>\n      <td>The Good Ones</td>\n      <td>GABBY BARRETT</td>\n      <td>1404</td>\n      <td>2019-07-01</td>\n    </tr>\n  </tbody>\n</table>\n</div>"
     },
     "execution_count": 130,
     "metadata": {},
     "output_type": "execute_result"
    }
   ],
   "source": [
    "artists = ['WALKER HAYES', 'SAM HUNT', 'GABBY BARRETT']\n",
    "df_ebw_metrics[(df_ebw_metrics['artist_name'].isin(artists)) & (df_ebw_metrics['weeks_since_release'] <= 104)].groupby (['mediabase_id', 'song_name', 'artist_name']).agg({'cuml_spins_non_on': np.max, 'song_release_date': np.min}).reset_index().sort_values(by=['artist_name', 'cuml_spins_non_on'], ascending=False)"
   ],
   "metadata": {
    "collapsed": false
   }
  },
  {
   "cell_type": "code",
   "execution_count": 100,
   "outputs": [],
   "source": [
    "songs_sample = ['Fancy Like', 'Hard To Forget', 'I Hope f/Charlie Puth']"
   ],
   "metadata": {
    "collapsed": false
   }
  },
  {
   "cell_type": "code",
   "execution_count": 141,
   "outputs": [
    {
     "ename": "SyntaxError",
     "evalue": "invalid syntax (150695658.py, line 6)",
     "output_type": "error",
     "traceback": [
      "\u001B[0;36m  Cell \u001B[0;32mIn [141], line 6\u001B[0;36m\u001B[0m\n\u001B[0;31m    & (df_ebw_metrics['call_letters'] == 'WUBL-FM')][['week_dt', 'pop', 'ddl_metric', 'fav_metric', 'f2b_ratio']].set_index(['week_dt'])plot()\u001B[0m\n\u001B[0m                                                                                                                                        ^\u001B[0m\n\u001B[0;31mSyntaxError\u001B[0m\u001B[0;31m:\u001B[0m invalid syntax\n"
     ]
    }
   ],
   "source": [
    "# plot F2B, Fav, DDL\n",
    "for i in zip(artists, songs_sample):\n",
    "    #print(df_temp =\n",
    "    print(i[0])\n",
    "    df_ebw_metrics[(~pd.isna(df_ebw_metrics['pop'])) & (df_ebw_metrics['artist_name']== i[0]) & (df_ebw_metrics['song_name'] == i[1]) & (df_ebw_metrics['format_code'] == 'C1')\n",
    "    & (df_ebw_metrics['call_letters'] == 'WUBL-FM')][['week_dt', 'pop', 'ddl_metric', 'fav_metric', 'f2b_ratio']].set_index(['week_dt']).plot()\n",
    "    break"
   ],
   "metadata": {
    "collapsed": false
   }
  },
  {
   "cell_type": "code",
   "execution_count": null,
   "outputs": [],
   "source": [
    "# plot market spins, weekly spinss"
   ],
   "metadata": {
    "collapsed": false
   }
  },
  {
   "cell_type": "markdown",
   "source": [
    "### Analyze candidate population for burnout analysis"
   ],
   "metadata": {
    "collapsed": false
   }
  },
  {
   "cell_type": "code",
   "execution_count": 71,
   "outputs": [],
   "source": [],
   "metadata": {
    "collapsed": false
   }
  },
  {
   "cell_type": "markdown",
   "source": [
    "### DDL and F2B analysis"
   ],
   "metadata": {
    "collapsed": false
   }
  },
  {
   "cell_type": "code",
   "execution_count": 71,
   "outputs": [],
   "source": [],
   "metadata": {
    "collapsed": false
   }
  }
 ],
 "metadata": {
  "kernelspec": {
   "display_name": "Python 3",
   "language": "python",
   "name": "python3"
  },
  "language_info": {
   "codemirror_mode": {
    "name": "ipython",
    "version": 2
   },
   "file_extension": ".py",
   "mimetype": "text/x-python",
   "name": "python",
   "nbconvert_exporter": "python",
   "pygments_lexer": "ipython2",
   "version": "2.7.6"
  }
 },
 "nbformat": 4,
 "nbformat_minor": 0
}
