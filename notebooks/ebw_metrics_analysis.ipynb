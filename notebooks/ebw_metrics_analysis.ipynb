{
 "cells": [
  {
   "cell_type": "code",
   "execution_count": 1,
   "metadata": {
    "collapsed": true
   },
   "outputs": [],
   "source": [
    "import pandas as pd\n",
    "import numpy as np\n",
    "import re\n",
    "\n",
    "from sklearn.model_selection import train_test_split\n",
    "from sklearn.tree import DecisionTreeRegressor\n",
    "from sklearn import metrics\n",
    "from sklearn.ensemble import RandomForestRegressor\n",
    "from xgboost import XGBRegressor\n",
    "from sklearn.preprocessing import StandardScaler\n",
    "import random"
   ]
  },
  {
   "cell_type": "code",
   "execution_count": 2,
   "outputs": [],
   "source": [
    "from sqlalchemy import create_engine, text\n",
    "\n",
    "def postgresql_engine(user, pwd, host, port, dbname):\n",
    "    # Need psycopg2-binary package\n",
    "    sql_engine = create_engine('postgres://' + user + ':' + pwd + '@' + host + ':' + port + '/' + dbname, echo=False)\n",
    "    return sql_engine"
   ],
   "metadata": {
    "collapsed": false
   }
  },
  {
   "cell_type": "code",
   "execution_count": 3,
   "outputs": [],
   "source": [
    "# DB username & password\n",
    "import getpass\n",
    "\n",
    "username = getpass.getpass()\n",
    "password = getpass.getpass()"
   ],
   "metadata": {
    "collapsed": false
   }
  },
  {
   "cell_type": "code",
   "execution_count": 6,
   "outputs": [],
   "source": [
    "# misc db parameters\n",
    "url= 'adds-postgres-dev.cfgztrijqgvp.us-east-1.rds.amazonaws.com'\n",
    "database= 'musiclab'\n",
    "port= '5432'"
   ],
   "metadata": {
    "collapsed": false
   }
  },
  {
   "cell_type": "code",
   "execution_count": 9,
   "outputs": [],
   "source": [
    "data_query = '''\n",
    "Select *\n",
    "from adds_temp.ebw_metric_analysis as ema\n",
    "'''"
   ],
   "metadata": {
    "collapsed": false
   }
  },
  {
   "cell_type": "code",
   "execution_count": 10,
   "outputs": [],
   "source": [
    "engine = postgresql_engine(username, password, url, port, database)\n",
    "with engine.connect() as conn:\n",
    "    with conn.begin():\n",
    "        df_ebw_metrics = pd.read_sql(data_query, con=conn)"
   ],
   "metadata": {
    "collapsed": false
   }
  },
  {
   "cell_type": "code",
   "execution_count": 11,
   "outputs": [
    {
     "data": {
      "text/plain": "      week_dt  mediabase_id    song_id call_letters format_code  \\\n0  2018-10-01       2356990  290730733      WMIB-FM          U1   \n1  2018-10-01       2438895  554650644      WCOL-FM          C1   \n2  2018-10-01       2438895  554650644      WFUS-FM          C1   \n3  2018-10-01       2438895  554650644      WEBG-FM          C1   \n4  2018-10-01       2439230  555200329      WDAS-FM          U2   \n\n  song_release_date last_callout_date first_spin_date  StartDate    EndDate  \\\n0        2018-10-01        2019-01-14      2018-10-08 2018-09-30 2018-10-06   \n1        2018-10-01        2021-04-12      2019-01-28        NaT        NaT   \n2        2018-10-01        2021-03-29      2019-02-25        NaT        NaT   \n3        2018-10-01        2020-08-03      2019-02-04        NaT        NaT   \n4        2018-10-01        2020-04-06      2021-03-08        NaT        NaT   \n\n   ...   gcr  gcr_adj  station_id  cmm_station_calls   test_date  \\\n0  ...  None     None   3322924.0            WMIB-FM  2018-10-01   \n1  ...  None     None         NaN               None        None   \n2  ...  None     None         NaN               None        None   \n3  ...  None     None         NaN               None        None   \n4  ...  None     None         NaN               None        None   \n\n  breakout_respondents   pop  fav_metric ddl_metric f2b_ratio  \n0                 90.0  73.0        20.0        6.0      3.33  \n1                  NaN   NaN         NaN        NaN       NaN  \n2                  NaN   NaN         NaN        NaN       NaN  \n3                  NaN   NaN         NaN        NaN       NaN  \n4                  NaN   NaN         NaN        NaN       NaN  \n\n[5 rows x 25 columns]",
      "text/html": "<div>\n<style scoped>\n    .dataframe tbody tr th:only-of-type {\n        vertical-align: middle;\n    }\n\n    .dataframe tbody tr th {\n        vertical-align: top;\n    }\n\n    .dataframe thead th {\n        text-align: right;\n    }\n</style>\n<table border=\"1\" class=\"dataframe\">\n  <thead>\n    <tr style=\"text-align: right;\">\n      <th></th>\n      <th>week_dt</th>\n      <th>mediabase_id</th>\n      <th>song_id</th>\n      <th>call_letters</th>\n      <th>format_code</th>\n      <th>song_release_date</th>\n      <th>last_callout_date</th>\n      <th>first_spin_date</th>\n      <th>StartDate</th>\n      <th>EndDate</th>\n      <th>...</th>\n      <th>gcr</th>\n      <th>gcr_adj</th>\n      <th>station_id</th>\n      <th>cmm_station_calls</th>\n      <th>test_date</th>\n      <th>breakout_respondents</th>\n      <th>pop</th>\n      <th>fav_metric</th>\n      <th>ddl_metric</th>\n      <th>f2b_ratio</th>\n    </tr>\n  </thead>\n  <tbody>\n    <tr>\n      <th>0</th>\n      <td>2018-10-01</td>\n      <td>2356990</td>\n      <td>290730733</td>\n      <td>WMIB-FM</td>\n      <td>U1</td>\n      <td>2018-10-01</td>\n      <td>2019-01-14</td>\n      <td>2018-10-08</td>\n      <td>2018-09-30</td>\n      <td>2018-10-06</td>\n      <td>...</td>\n      <td>None</td>\n      <td>None</td>\n      <td>3322924.0</td>\n      <td>WMIB-FM</td>\n      <td>2018-10-01</td>\n      <td>90.0</td>\n      <td>73.0</td>\n      <td>20.0</td>\n      <td>6.0</td>\n      <td>3.33</td>\n    </tr>\n    <tr>\n      <th>1</th>\n      <td>2018-10-01</td>\n      <td>2438895</td>\n      <td>554650644</td>\n      <td>WCOL-FM</td>\n      <td>C1</td>\n      <td>2018-10-01</td>\n      <td>2021-04-12</td>\n      <td>2019-01-28</td>\n      <td>NaT</td>\n      <td>NaT</td>\n      <td>...</td>\n      <td>None</td>\n      <td>None</td>\n      <td>NaN</td>\n      <td>None</td>\n      <td>None</td>\n      <td>NaN</td>\n      <td>NaN</td>\n      <td>NaN</td>\n      <td>NaN</td>\n      <td>NaN</td>\n    </tr>\n    <tr>\n      <th>2</th>\n      <td>2018-10-01</td>\n      <td>2438895</td>\n      <td>554650644</td>\n      <td>WFUS-FM</td>\n      <td>C1</td>\n      <td>2018-10-01</td>\n      <td>2021-03-29</td>\n      <td>2019-02-25</td>\n      <td>NaT</td>\n      <td>NaT</td>\n      <td>...</td>\n      <td>None</td>\n      <td>None</td>\n      <td>NaN</td>\n      <td>None</td>\n      <td>None</td>\n      <td>NaN</td>\n      <td>NaN</td>\n      <td>NaN</td>\n      <td>NaN</td>\n      <td>NaN</td>\n    </tr>\n    <tr>\n      <th>3</th>\n      <td>2018-10-01</td>\n      <td>2438895</td>\n      <td>554650644</td>\n      <td>WEBG-FM</td>\n      <td>C1</td>\n      <td>2018-10-01</td>\n      <td>2020-08-03</td>\n      <td>2019-02-04</td>\n      <td>NaT</td>\n      <td>NaT</td>\n      <td>...</td>\n      <td>None</td>\n      <td>None</td>\n      <td>NaN</td>\n      <td>None</td>\n      <td>None</td>\n      <td>NaN</td>\n      <td>NaN</td>\n      <td>NaN</td>\n      <td>NaN</td>\n      <td>NaN</td>\n    </tr>\n    <tr>\n      <th>4</th>\n      <td>2018-10-01</td>\n      <td>2439230</td>\n      <td>555200329</td>\n      <td>WDAS-FM</td>\n      <td>U2</td>\n      <td>2018-10-01</td>\n      <td>2020-04-06</td>\n      <td>2021-03-08</td>\n      <td>NaT</td>\n      <td>NaT</td>\n      <td>...</td>\n      <td>None</td>\n      <td>None</td>\n      <td>NaN</td>\n      <td>None</td>\n      <td>None</td>\n      <td>NaN</td>\n      <td>NaN</td>\n      <td>NaN</td>\n      <td>NaN</td>\n      <td>NaN</td>\n    </tr>\n  </tbody>\n</table>\n<p>5 rows × 25 columns</p>\n</div>"
     },
     "execution_count": 11,
     "metadata": {},
     "output_type": "execute_result"
    }
   ],
   "source": [
    "df_ebw_metrics.head()"
   ],
   "metadata": {
    "collapsed": false
   }
  },
  {
   "cell_type": "code",
   "execution_count": null,
   "outputs": [],
   "source": [
    "# song-artist lookup"
   ],
   "metadata": {
    "collapsed": false
   }
  },
  {
   "cell_type": "code",
   "execution_count": null,
   "outputs": [],
   "source": [
    "# pull in data for analysis"
   ],
   "metadata": {
    "collapsed": false
   }
  },
  {
   "cell_type": "code",
   "execution_count": 33,
   "outputs": [
    {
     "data": {
      "text/plain": "['A1', 'A2', 'C1', 'H1', 'L1', 'L3', 'O1', 'R1', 'R2', 'R3', 'U1', 'U2', 'Y0']"
     },
     "execution_count": 33,
     "metadata": {},
     "output_type": "execute_result"
    }
   ],
   "source": [
    "all_formats = list(pd.unique(df_ebw_metrics['format_code']))\n",
    "all_formats.sort()\n",
    "all_formats"
   ],
   "metadata": {
    "collapsed": false
   }
  },
  {
   "cell_type": "markdown",
   "source": [
    "#### Unique songs"
   ],
   "metadata": {
    "collapsed": false
   }
  },
  {
   "cell_type": "code",
   "execution_count": 24,
   "outputs": [
    {
     "data": {
      "text/plain": "format_code\nA1     (92, 10)\nA2     (272, 9)\nC1    (272, 19)\nH1    (452, 33)\nL1     (263, 5)\nL3      (86, 3)\nO1      (29, 2)\nR1     (160, 2)\nR2     (128, 6)\nR3     (253, 9)\nU1    (499, 17)\nU2     (133, 4)\nY0     (366, 7)\ndtype: object"
     },
     "execution_count": 24,
     "metadata": {},
     "output_type": "execute_result"
    }
   ],
   "source": [
    "df_ebw_metrics.groupby(['format_code']).apply(lambda x:(len(pd.unique(x['mediabase_id'])), len(pd.unique(x['station_id']))))"
   ],
   "metadata": {
    "collapsed": false
   }
  },
  {
   "cell_type": "markdown",
   "source": [
    "#### Unique songs and stations"
   ],
   "metadata": {
    "collapsed": false
   }
  },
  {
   "cell_type": "code",
   "execution_count": 20,
   "outputs": [
    {
     "data": {
      "text/plain": "format_code\nA1     490\nA2    1149\nC1    3408\nH1    7259\nL1     818\nL3     228\nO1      58\nR1     319\nR2     496\nR3     969\nU1    3125\nU2     417\nY0    1390\ndtype: int64"
     },
     "execution_count": 20,
     "metadata": {},
     "output_type": "execute_result"
    }
   ],
   "source": [
    "df_ebw_metrics.groupby(['format_code']).apply(lambda x:len((x[['mediabase_id', 'station_id']].drop_duplicates())))"
   ],
   "metadata": {
    "collapsed": false
   }
  },
  {
   "cell_type": "markdown",
   "source": [
    "### Analyze Favorite, DDL and F2B ratio"
   ],
   "metadata": {
    "collapsed": false
   }
  },
  {
   "cell_type": "code",
   "execution_count": 26,
   "outputs": [
    {
     "name": "stdout",
     "output_type": "stream",
     "text": [
      "         week_dt  mediabase_id    song_id call_letters format_code  \\\n",
      "0     2018-10-01       2356990  290730733      WMIB-FM          U1   \n",
      "2322  2018-10-01       2356990  290730733      WUSL-FM          U1   \n",
      "2601  2018-10-08       2356990  290730733      WGCI-FM          U1   \n",
      "2602  2018-10-08       2356990  290730733      KQBT-FM          U1   \n",
      "2603  2018-10-08       2356990  290730733      WJLB-FM          U1   \n",
      "\n",
      "     song_release_date last_callout_date first_spin_date  StartDate  \\\n",
      "0           2018-10-01        2019-01-14      2018-10-08 2018-09-30   \n",
      "2322        2018-10-01        2018-10-01      2018-10-08 2018-09-30   \n",
      "2601        2018-10-01        2019-03-18      2018-10-08 2018-10-07   \n",
      "2602        2018-10-01        2019-06-03      2018-10-08 2018-10-07   \n",
      "2603        2018-10-01        2020-03-09      2018-10-08 2018-10-07   \n",
      "\n",
      "        EndDate  ...   gcr  gcr_adj  station_id  cmm_station_calls  \\\n",
      "0    2018-10-06  ...  None     None   3322924.0            WMIB-FM   \n",
      "2322 2018-10-06  ...  None     None   3323628.0            WUSL-FM   \n",
      "2601 2018-10-13  ...  None     None   3322220.0            WGCI-FM   \n",
      "2602 2018-10-13  ...  None     None   3322611.0            KQBT-FM   \n",
      "2603 2018-10-13  ...  None     None   3323401.0            WJLB-FM   \n",
      "\n",
      "       test_date breakout_respondents    pop  fav_metric ddl_metric f2b_ratio  \n",
      "0     2018-10-01                 90.0   73.0        20.0        6.0      3.33  \n",
      "2322  2018-10-01                 80.0   94.0        36.0        6.0      6.00  \n",
      "2601  2018-10-08                 90.0   88.0        33.0        8.0      4.13  \n",
      "2602  2018-10-08                100.0  100.0        42.0        5.0      8.40  \n",
      "2603  2018-10-08                 90.0   87.0        23.0        6.0      3.83  \n",
      "\n",
      "[5 rows x 25 columns]\n"
     ]
    }
   ],
   "source": [
    "# plot out favorite, f2b ratio, and pop scores\n",
    "for fmt in all_formats:\n",
    "    print(df_ebw_metrics[(df_ebw_metrics['format_code']==fmt) & (~pd.isna(df_ebw_metrics['pop']))].head())\n",
    "    break"
   ],
   "metadata": {
    "collapsed": false
   }
  }
 ],
 "metadata": {
  "kernelspec": {
   "display_name": "Python 3",
   "language": "python",
   "name": "python3"
  },
  "language_info": {
   "codemirror_mode": {
    "name": "ipython",
    "version": 2
   },
   "file_extension": ".py",
   "mimetype": "text/x-python",
   "name": "python",
   "nbconvert_exporter": "python",
   "pygments_lexer": "ipython2",
   "version": "2.7.6"
  }
 },
 "nbformat": 4,
 "nbformat_minor": 0
}
