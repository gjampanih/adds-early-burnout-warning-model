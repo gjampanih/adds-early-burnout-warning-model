{
 "cells": [
  {
   "cell_type": "code",
   "execution_count": 19,
   "metadata": {
    "collapsed": true
   },
   "outputs": [],
   "source": [
    "import pandas as pd\n",
    "import numpy as np\n",
    "import re\n",
    "import os\n",
    "\n",
    "\n",
    "import matplotlib as mpl\n",
    "import matplotlib.pyplot as plt\n",
    "import matplotlib.cm as cm\n",
    "pd.options.mode.chained_assignment = None  # default='warn'\n",
    "import seaborn as sns\n",
    "sns.set_theme(style='white')\n",
    "import matplotlib.dates as mdates\n",
    "\n",
    "from sklearn.model_selection import train_test_split\n",
    "from sklearn.tree import DecisionTreeRegressor\n",
    "from sklearn import metrics\n",
    "from sklearn.ensemble import RandomForestRegressor\n",
    "from xgboost import XGBRegressor\n",
    "from sklearn.preprocessing import StandardScaler\n",
    "import random"
   ]
  },
  {
   "cell_type": "code",
   "execution_count": 20,
   "outputs": [],
   "source": [
    "from sqlalchemy import create_engine, text\n",
    "\n",
    "def postgresql_engine(user, pwd, host, port, dbname):\n",
    "    # Need psycopg2-binary package\n",
    "    sql_engine = create_engine('postgres://' + user + ':' + pwd + '@' + host + ':' + port + '/' + dbname, echo=False)\n",
    "    return sql_engine"
   ],
   "metadata": {
    "collapsed": false
   }
  },
  {
   "cell_type": "code",
   "execution_count": 3,
   "outputs": [],
   "source": [
    "# DB username & password\n",
    "import getpass\n",
    "\n",
    "username = getpass.getpass()\n",
    "password = getpass.getpass()"
   ],
   "metadata": {
    "collapsed": false
   }
  },
  {
   "cell_type": "code",
   "execution_count": 4,
   "outputs": [],
   "source": [
    "# misc db parameters\n",
    "url= 'adds-postgres-dev.cfgztrijqgvp.us-east-1.rds.amazonaws.com'\n",
    "database= 'musiclab'\n",
    "port= '5432'"
   ],
   "metadata": {
    "collapsed": false
   }
  },
  {
   "cell_type": "code",
   "execution_count": 21,
   "outputs": [],
   "source": [
    "data_query = '''\n",
    "Select *\n",
    "from adds_temp.ebw_metric_analysis as ema\n",
    "'''"
   ],
   "metadata": {
    "collapsed": false
   }
  },
  {
   "cell_type": "code",
   "execution_count": 22,
   "outputs": [],
   "source": [
    "engine = postgresql_engine(username, password, url, port, database)\n",
    "with engine.connect() as conn:\n",
    "    with conn.begin():\n",
    "        df_ebw_metrics = pd.read_sql(data_query, con=conn)"
   ],
   "metadata": {
    "collapsed": false
   }
  },
  {
   "cell_type": "code",
   "execution_count": 23,
   "outputs": [
    {
     "data": {
      "text/plain": "410844"
     },
     "execution_count": 23,
     "metadata": {},
     "output_type": "execute_result"
    }
   ],
   "source": [
    "len(df_ebw_metrics)"
   ],
   "metadata": {
    "collapsed": false
   }
  },
  {
   "cell_type": "code",
   "execution_count": 8,
   "outputs": [],
   "source": [
    "df_ebw_metrics.drop_duplicates(inplace=True)"
   ],
   "metadata": {
    "collapsed": false
   }
  },
  {
   "cell_type": "code",
   "execution_count": 9,
   "outputs": [
    {
     "data": {
      "text/plain": "      week_dt  mediabase_id    song_id call_letters format_code  \\\n0  2019-01-07       2448791  588714941      KBCO-FM          R1   \n1  2019-01-07       2459206  649525954      KAJA-FM          C1   \n2  2019-01-07       2459206  649525954      KASE-FM          C1   \n3  2019-01-07       2459206  649525954      KEEY-FM          C1   \n4  2019-01-07       2459206  649525954      KNIX-FM          C1   \n\n  song_release_date last_callout_date first_spin_date StartDate EndDate  ...  \\\n0        2019-01-01        2019-07-22      2019-01-14       NaT     NaT  ...   \n1        2019-01-01        2021-03-08      2019-01-14       NaT     NaT  ...   \n2        2019-01-01        2021-04-12      2019-02-25       NaT     NaT  ...   \n3        2019-01-01        2021-02-08      2019-02-25       NaT     NaT  ...   \n4        2019-01-01        2022-04-18      2019-01-14       NaT     NaT  ...   \n\n    gcr  gcr_adj  station_id  cmm_station_calls  test_date  \\\n0  None     None         NaN               None       None   \n1  None     None         NaN               None       None   \n2  None     None         NaN               None       None   \n3  None     None         NaN               None       None   \n4  None     None         NaN               None       None   \n\n   breakout_respondents  pop  fav_metric  ddl_metric  f2b_ratio  \n0                   NaN  NaN         NaN         NaN        NaN  \n1                   NaN  NaN         NaN         NaN        NaN  \n2                   NaN  NaN         NaN         NaN        NaN  \n3                   NaN  NaN         NaN         NaN        NaN  \n4                   NaN  NaN         NaN         NaN        NaN  \n\n[5 rows x 32 columns]",
      "text/html": "<div>\n<style scoped>\n    .dataframe tbody tr th:only-of-type {\n        vertical-align: middle;\n    }\n\n    .dataframe tbody tr th {\n        vertical-align: top;\n    }\n\n    .dataframe thead th {\n        text-align: right;\n    }\n</style>\n<table border=\"1\" class=\"dataframe\">\n  <thead>\n    <tr style=\"text-align: right;\">\n      <th></th>\n      <th>week_dt</th>\n      <th>mediabase_id</th>\n      <th>song_id</th>\n      <th>call_letters</th>\n      <th>format_code</th>\n      <th>song_release_date</th>\n      <th>last_callout_date</th>\n      <th>first_spin_date</th>\n      <th>StartDate</th>\n      <th>EndDate</th>\n      <th>...</th>\n      <th>gcr</th>\n      <th>gcr_adj</th>\n      <th>station_id</th>\n      <th>cmm_station_calls</th>\n      <th>test_date</th>\n      <th>breakout_respondents</th>\n      <th>pop</th>\n      <th>fav_metric</th>\n      <th>ddl_metric</th>\n      <th>f2b_ratio</th>\n    </tr>\n  </thead>\n  <tbody>\n    <tr>\n      <th>0</th>\n      <td>2019-01-07</td>\n      <td>2448791</td>\n      <td>588714941</td>\n      <td>KBCO-FM</td>\n      <td>R1</td>\n      <td>2019-01-01</td>\n      <td>2019-07-22</td>\n      <td>2019-01-14</td>\n      <td>NaT</td>\n      <td>NaT</td>\n      <td>...</td>\n      <td>None</td>\n      <td>None</td>\n      <td>NaN</td>\n      <td>None</td>\n      <td>None</td>\n      <td>NaN</td>\n      <td>NaN</td>\n      <td>NaN</td>\n      <td>NaN</td>\n      <td>NaN</td>\n    </tr>\n    <tr>\n      <th>1</th>\n      <td>2019-01-07</td>\n      <td>2459206</td>\n      <td>649525954</td>\n      <td>KAJA-FM</td>\n      <td>C1</td>\n      <td>2019-01-01</td>\n      <td>2021-03-08</td>\n      <td>2019-01-14</td>\n      <td>NaT</td>\n      <td>NaT</td>\n      <td>...</td>\n      <td>None</td>\n      <td>None</td>\n      <td>NaN</td>\n      <td>None</td>\n      <td>None</td>\n      <td>NaN</td>\n      <td>NaN</td>\n      <td>NaN</td>\n      <td>NaN</td>\n      <td>NaN</td>\n    </tr>\n    <tr>\n      <th>2</th>\n      <td>2019-01-07</td>\n      <td>2459206</td>\n      <td>649525954</td>\n      <td>KASE-FM</td>\n      <td>C1</td>\n      <td>2019-01-01</td>\n      <td>2021-04-12</td>\n      <td>2019-02-25</td>\n      <td>NaT</td>\n      <td>NaT</td>\n      <td>...</td>\n      <td>None</td>\n      <td>None</td>\n      <td>NaN</td>\n      <td>None</td>\n      <td>None</td>\n      <td>NaN</td>\n      <td>NaN</td>\n      <td>NaN</td>\n      <td>NaN</td>\n      <td>NaN</td>\n    </tr>\n    <tr>\n      <th>3</th>\n      <td>2019-01-07</td>\n      <td>2459206</td>\n      <td>649525954</td>\n      <td>KEEY-FM</td>\n      <td>C1</td>\n      <td>2019-01-01</td>\n      <td>2021-02-08</td>\n      <td>2019-02-25</td>\n      <td>NaT</td>\n      <td>NaT</td>\n      <td>...</td>\n      <td>None</td>\n      <td>None</td>\n      <td>NaN</td>\n      <td>None</td>\n      <td>None</td>\n      <td>NaN</td>\n      <td>NaN</td>\n      <td>NaN</td>\n      <td>NaN</td>\n      <td>NaN</td>\n    </tr>\n    <tr>\n      <th>4</th>\n      <td>2019-01-07</td>\n      <td>2459206</td>\n      <td>649525954</td>\n      <td>KNIX-FM</td>\n      <td>C1</td>\n      <td>2019-01-01</td>\n      <td>2022-04-18</td>\n      <td>2019-01-14</td>\n      <td>NaT</td>\n      <td>NaT</td>\n      <td>...</td>\n      <td>None</td>\n      <td>None</td>\n      <td>NaN</td>\n      <td>None</td>\n      <td>None</td>\n      <td>NaN</td>\n      <td>NaN</td>\n      <td>NaN</td>\n      <td>NaN</td>\n      <td>NaN</td>\n    </tr>\n  </tbody>\n</table>\n<p>5 rows × 32 columns</p>\n</div>"
     },
     "execution_count": 9,
     "metadata": {},
     "output_type": "execute_result"
    }
   ],
   "source": [
    "df_ebw_metrics.head()"
   ],
   "metadata": {
    "collapsed": false
   }
  },
  {
   "cell_type": "code",
   "execution_count": 24,
   "outputs": [
    {
     "ename": "KeyboardInterrupt",
     "evalue": "",
     "output_type": "error",
     "traceback": [
      "\u001B[0;31m---------------------------------------------------------------------------\u001B[0m",
      "\u001B[0;31mKeyboardInterrupt\u001B[0m                         Traceback (most recent call last)",
      "\u001B[0;32m/var/folders/kt/bsj56gs152d_8fz3jclnl1440000gq/T/ipykernel_1562/275386391.py\u001B[0m in \u001B[0;36m<module>\u001B[0;34m\u001B[0m\n\u001B[1;32m      7\u001B[0m \u001B[0;32mwith\u001B[0m \u001B[0mengine\u001B[0m\u001B[0;34m.\u001B[0m\u001B[0mconnect\u001B[0m\u001B[0;34m(\u001B[0m\u001B[0;34m)\u001B[0m \u001B[0;32mas\u001B[0m \u001B[0mconn\u001B[0m\u001B[0;34m:\u001B[0m\u001B[0;34m\u001B[0m\u001B[0;34m\u001B[0m\u001B[0m\n\u001B[1;32m      8\u001B[0m     \u001B[0;32mwith\u001B[0m \u001B[0mconn\u001B[0m\u001B[0;34m.\u001B[0m\u001B[0mbegin\u001B[0m\u001B[0;34m(\u001B[0m\u001B[0;34m)\u001B[0m\u001B[0;34m:\u001B[0m\u001B[0;34m\u001B[0m\u001B[0;34m\u001B[0m\u001B[0m\n\u001B[0;32m----> 9\u001B[0;31m         \u001B[0mdf_song_lookup\u001B[0m \u001B[0;34m=\u001B[0m \u001B[0mpd\u001B[0m\u001B[0;34m.\u001B[0m\u001B[0mread_sql\u001B[0m\u001B[0;34m(\u001B[0m\u001B[0msong_query\u001B[0m\u001B[0;34m,\u001B[0m \u001B[0mcon\u001B[0m\u001B[0;34m=\u001B[0m\u001B[0mconn\u001B[0m\u001B[0;34m)\u001B[0m\u001B[0;34m\u001B[0m\u001B[0;34m\u001B[0m\u001B[0m\n\u001B[0m",
      "\u001B[0;32m~/Documents/GitHub/adds-early-burnout-warning-model/venv/lib/python3.7/site-packages/pandas/io/sql.py\u001B[0m in \u001B[0;36mread_sql\u001B[0;34m(sql, con, index_col, coerce_float, params, parse_dates, columns, chunksize)\u001B[0m\n\u001B[1;32m    513\u001B[0m             \u001B[0mcoerce_float\u001B[0m\u001B[0;34m=\u001B[0m\u001B[0mcoerce_float\u001B[0m\u001B[0;34m,\u001B[0m\u001B[0;34m\u001B[0m\u001B[0;34m\u001B[0m\u001B[0m\n\u001B[1;32m    514\u001B[0m             \u001B[0mparse_dates\u001B[0m\u001B[0;34m=\u001B[0m\u001B[0mparse_dates\u001B[0m\u001B[0;34m,\u001B[0m\u001B[0;34m\u001B[0m\u001B[0;34m\u001B[0m\u001B[0m\n\u001B[0;32m--> 515\u001B[0;31m             \u001B[0mchunksize\u001B[0m\u001B[0;34m=\u001B[0m\u001B[0mchunksize\u001B[0m\u001B[0;34m,\u001B[0m\u001B[0;34m\u001B[0m\u001B[0;34m\u001B[0m\u001B[0m\n\u001B[0m\u001B[1;32m    516\u001B[0m         )\n\u001B[1;32m    517\u001B[0m \u001B[0;34m\u001B[0m\u001B[0m\n",
      "\u001B[0;32m~/Documents/GitHub/adds-early-burnout-warning-model/venv/lib/python3.7/site-packages/pandas/io/sql.py\u001B[0m in \u001B[0;36mread_query\u001B[0;34m(self, sql, index_col, coerce_float, parse_dates, params, chunksize)\u001B[0m\n\u001B[1;32m   1293\u001B[0m         \u001B[0margs\u001B[0m \u001B[0;34m=\u001B[0m \u001B[0m_convert_params\u001B[0m\u001B[0;34m(\u001B[0m\u001B[0msql\u001B[0m\u001B[0;34m,\u001B[0m \u001B[0mparams\u001B[0m\u001B[0;34m)\u001B[0m\u001B[0;34m\u001B[0m\u001B[0;34m\u001B[0m\u001B[0m\n\u001B[1;32m   1294\u001B[0m \u001B[0;34m\u001B[0m\u001B[0m\n\u001B[0;32m-> 1295\u001B[0;31m         \u001B[0mresult\u001B[0m \u001B[0;34m=\u001B[0m \u001B[0mself\u001B[0m\u001B[0;34m.\u001B[0m\u001B[0mexecute\u001B[0m\u001B[0;34m(\u001B[0m\u001B[0;34m*\u001B[0m\u001B[0margs\u001B[0m\u001B[0;34m)\u001B[0m\u001B[0;34m\u001B[0m\u001B[0;34m\u001B[0m\u001B[0m\n\u001B[0m\u001B[1;32m   1296\u001B[0m         \u001B[0mcolumns\u001B[0m \u001B[0;34m=\u001B[0m \u001B[0mresult\u001B[0m\u001B[0;34m.\u001B[0m\u001B[0mkeys\u001B[0m\u001B[0;34m(\u001B[0m\u001B[0;34m)\u001B[0m\u001B[0;34m\u001B[0m\u001B[0;34m\u001B[0m\u001B[0m\n\u001B[1;32m   1297\u001B[0m \u001B[0;34m\u001B[0m\u001B[0m\n",
      "\u001B[0;32m~/Documents/GitHub/adds-early-burnout-warning-model/venv/lib/python3.7/site-packages/pandas/io/sql.py\u001B[0m in \u001B[0;36mexecute\u001B[0;34m(self, *args, **kwargs)\u001B[0m\n\u001B[1;32m   1160\u001B[0m         \u001B[0;34m\"\"\"Simple passthrough to SQLAlchemy connectable\"\"\"\u001B[0m\u001B[0;34m\u001B[0m\u001B[0;34m\u001B[0m\u001B[0m\n\u001B[1;32m   1161\u001B[0m         return self.connectable.execution_options(no_parameters=True).execute(\n\u001B[0;32m-> 1162\u001B[0;31m             \u001B[0;34m*\u001B[0m\u001B[0margs\u001B[0m\u001B[0;34m,\u001B[0m \u001B[0;34m**\u001B[0m\u001B[0mkwargs\u001B[0m\u001B[0;34m\u001B[0m\u001B[0;34m\u001B[0m\u001B[0m\n\u001B[0m\u001B[1;32m   1163\u001B[0m         )\n\u001B[1;32m   1164\u001B[0m \u001B[0;34m\u001B[0m\u001B[0m\n",
      "\u001B[0;32m~/Documents/GitHub/adds-early-burnout-warning-model/venv/lib/python3.7/site-packages/sqlalchemy/engine/base.py\u001B[0m in \u001B[0;36mexecute\u001B[0;34m(self, object_, *multiparams, **params)\u001B[0m\n\u001B[1;32m   1001\u001B[0m         \"\"\"\n\u001B[1;32m   1002\u001B[0m         \u001B[0;32mif\u001B[0m \u001B[0misinstance\u001B[0m\u001B[0;34m(\u001B[0m\u001B[0mobject_\u001B[0m\u001B[0;34m,\u001B[0m \u001B[0mutil\u001B[0m\u001B[0;34m.\u001B[0m\u001B[0mstring_types\u001B[0m\u001B[0;34m[\u001B[0m\u001B[0;36m0\u001B[0m\u001B[0;34m]\u001B[0m\u001B[0;34m)\u001B[0m\u001B[0;34m:\u001B[0m\u001B[0;34m\u001B[0m\u001B[0;34m\u001B[0m\u001B[0m\n\u001B[0;32m-> 1003\u001B[0;31m             \u001B[0;32mreturn\u001B[0m \u001B[0mself\u001B[0m\u001B[0;34m.\u001B[0m\u001B[0m_execute_text\u001B[0m\u001B[0;34m(\u001B[0m\u001B[0mobject_\u001B[0m\u001B[0;34m,\u001B[0m \u001B[0mmultiparams\u001B[0m\u001B[0;34m,\u001B[0m \u001B[0mparams\u001B[0m\u001B[0;34m)\u001B[0m\u001B[0;34m\u001B[0m\u001B[0;34m\u001B[0m\u001B[0m\n\u001B[0m\u001B[1;32m   1004\u001B[0m         \u001B[0;32mtry\u001B[0m\u001B[0;34m:\u001B[0m\u001B[0;34m\u001B[0m\u001B[0;34m\u001B[0m\u001B[0m\n\u001B[1;32m   1005\u001B[0m             \u001B[0mmeth\u001B[0m \u001B[0;34m=\u001B[0m \u001B[0mobject_\u001B[0m\u001B[0;34m.\u001B[0m\u001B[0m_execute_on_connection\u001B[0m\u001B[0;34m\u001B[0m\u001B[0;34m\u001B[0m\u001B[0m\n",
      "\u001B[0;32m~/Documents/GitHub/adds-early-burnout-warning-model/venv/lib/python3.7/site-packages/sqlalchemy/engine/base.py\u001B[0m in \u001B[0;36m_execute_text\u001B[0;34m(self, statement, multiparams, params)\u001B[0m\n\u001B[1;32m   1176\u001B[0m             \u001B[0mparameters\u001B[0m\u001B[0;34m,\u001B[0m\u001B[0;34m\u001B[0m\u001B[0;34m\u001B[0m\u001B[0m\n\u001B[1;32m   1177\u001B[0m             \u001B[0mstatement\u001B[0m\u001B[0;34m,\u001B[0m\u001B[0;34m\u001B[0m\u001B[0;34m\u001B[0m\u001B[0m\n\u001B[0;32m-> 1178\u001B[0;31m             \u001B[0mparameters\u001B[0m\u001B[0;34m,\u001B[0m\u001B[0;34m\u001B[0m\u001B[0;34m\u001B[0m\u001B[0m\n\u001B[0m\u001B[1;32m   1179\u001B[0m         )\n\u001B[1;32m   1180\u001B[0m         \u001B[0;32mif\u001B[0m \u001B[0mself\u001B[0m\u001B[0;34m.\u001B[0m\u001B[0m_has_events\u001B[0m \u001B[0;32mor\u001B[0m \u001B[0mself\u001B[0m\u001B[0;34m.\u001B[0m\u001B[0mengine\u001B[0m\u001B[0;34m.\u001B[0m\u001B[0m_has_events\u001B[0m\u001B[0;34m:\u001B[0m\u001B[0;34m\u001B[0m\u001B[0;34m\u001B[0m\u001B[0m\n",
      "\u001B[0;32m~/Documents/GitHub/adds-early-burnout-warning-model/venv/lib/python3.7/site-packages/sqlalchemy/engine/base.py\u001B[0m in \u001B[0;36m_execute_context\u001B[0;34m(self, dialect, constructor, statement, parameters, *args)\u001B[0m\n\u001B[1;32m   1315\u001B[0m         \u001B[0;32mexcept\u001B[0m \u001B[0mBaseException\u001B[0m \u001B[0;32mas\u001B[0m \u001B[0me\u001B[0m\u001B[0;34m:\u001B[0m\u001B[0;34m\u001B[0m\u001B[0;34m\u001B[0m\u001B[0m\n\u001B[1;32m   1316\u001B[0m             self._handle_dbapi_exception(\n\u001B[0;32m-> 1317\u001B[0;31m                 \u001B[0me\u001B[0m\u001B[0;34m,\u001B[0m \u001B[0mstatement\u001B[0m\u001B[0;34m,\u001B[0m \u001B[0mparameters\u001B[0m\u001B[0;34m,\u001B[0m \u001B[0mcursor\u001B[0m\u001B[0;34m,\u001B[0m \u001B[0mcontext\u001B[0m\u001B[0;34m\u001B[0m\u001B[0;34m\u001B[0m\u001B[0m\n\u001B[0m\u001B[1;32m   1318\u001B[0m             )\n\u001B[1;32m   1319\u001B[0m \u001B[0;34m\u001B[0m\u001B[0m\n",
      "\u001B[0;32m~/Documents/GitHub/adds-early-burnout-warning-model/venv/lib/python3.7/site-packages/sqlalchemy/engine/base.py\u001B[0m in \u001B[0;36m_handle_dbapi_exception\u001B[0;34m(self, e, statement, parameters, cursor, context)\u001B[0m\n\u001B[1;32m   1512\u001B[0m                 )\n\u001B[1;32m   1513\u001B[0m             \u001B[0;32melse\u001B[0m\u001B[0;34m:\u001B[0m\u001B[0;34m\u001B[0m\u001B[0;34m\u001B[0m\u001B[0m\n\u001B[0;32m-> 1514\u001B[0;31m                 \u001B[0mutil\u001B[0m\u001B[0;34m.\u001B[0m\u001B[0mraise_\u001B[0m\u001B[0;34m(\u001B[0m\u001B[0mexc_info\u001B[0m\u001B[0;34m[\u001B[0m\u001B[0;36m1\u001B[0m\u001B[0;34m]\u001B[0m\u001B[0;34m,\u001B[0m \u001B[0mwith_traceback\u001B[0m\u001B[0;34m=\u001B[0m\u001B[0mexc_info\u001B[0m\u001B[0;34m[\u001B[0m\u001B[0;36m2\u001B[0m\u001B[0;34m]\u001B[0m\u001B[0;34m)\u001B[0m\u001B[0;34m\u001B[0m\u001B[0;34m\u001B[0m\u001B[0m\n\u001B[0m\u001B[1;32m   1515\u001B[0m \u001B[0;34m\u001B[0m\u001B[0m\n\u001B[1;32m   1516\u001B[0m         \u001B[0;32mfinally\u001B[0m\u001B[0;34m:\u001B[0m\u001B[0;34m\u001B[0m\u001B[0;34m\u001B[0m\u001B[0m\n",
      "\u001B[0;32m~/Documents/GitHub/adds-early-burnout-warning-model/venv/lib/python3.7/site-packages/sqlalchemy/util/compat.py\u001B[0m in \u001B[0;36mraise_\u001B[0;34m(***failed resolving arguments***)\u001B[0m\n\u001B[1;32m    180\u001B[0m \u001B[0;34m\u001B[0m\u001B[0m\n\u001B[1;32m    181\u001B[0m         \u001B[0;32mtry\u001B[0m\u001B[0;34m:\u001B[0m\u001B[0;34m\u001B[0m\u001B[0;34m\u001B[0m\u001B[0m\n\u001B[0;32m--> 182\u001B[0;31m             \u001B[0;32mraise\u001B[0m \u001B[0mexception\u001B[0m\u001B[0;34m\u001B[0m\u001B[0;34m\u001B[0m\u001B[0m\n\u001B[0m\u001B[1;32m    183\u001B[0m         \u001B[0;32mfinally\u001B[0m\u001B[0;34m:\u001B[0m\u001B[0;34m\u001B[0m\u001B[0;34m\u001B[0m\u001B[0m\n\u001B[1;32m    184\u001B[0m             \u001B[0;31m# credit to\u001B[0m\u001B[0;34m\u001B[0m\u001B[0;34m\u001B[0m\u001B[0;34m\u001B[0m\u001B[0m\n",
      "\u001B[0;32m~/Documents/GitHub/adds-early-burnout-warning-model/venv/lib/python3.7/site-packages/sqlalchemy/engine/base.py\u001B[0m in \u001B[0;36m_execute_context\u001B[0;34m(self, dialect, constructor, statement, parameters, *args)\u001B[0m\n\u001B[1;32m   1265\u001B[0m                 \u001B[0;32mif\u001B[0m \u001B[0;32mnot\u001B[0m \u001B[0mevt_handled\u001B[0m\u001B[0;34m:\u001B[0m\u001B[0;34m\u001B[0m\u001B[0;34m\u001B[0m\u001B[0m\n\u001B[1;32m   1266\u001B[0m                     self.dialect.do_execute_no_params(\n\u001B[0;32m-> 1267\u001B[0;31m                         \u001B[0mcursor\u001B[0m\u001B[0;34m,\u001B[0m \u001B[0mstatement\u001B[0m\u001B[0;34m,\u001B[0m \u001B[0mcontext\u001B[0m\u001B[0;34m\u001B[0m\u001B[0;34m\u001B[0m\u001B[0m\n\u001B[0m\u001B[1;32m   1268\u001B[0m                     )\n\u001B[1;32m   1269\u001B[0m             \u001B[0;32melse\u001B[0m\u001B[0;34m:\u001B[0m\u001B[0;34m\u001B[0m\u001B[0;34m\u001B[0m\u001B[0m\n",
      "\u001B[0;32m~/Documents/GitHub/adds-early-burnout-warning-model/venv/lib/python3.7/site-packages/sqlalchemy/engine/default.py\u001B[0m in \u001B[0;36mdo_execute_no_params\u001B[0;34m(self, cursor, statement, context)\u001B[0m\n\u001B[1;32m    610\u001B[0m \u001B[0;34m\u001B[0m\u001B[0m\n\u001B[1;32m    611\u001B[0m     \u001B[0;32mdef\u001B[0m \u001B[0mdo_execute_no_params\u001B[0m\u001B[0;34m(\u001B[0m\u001B[0mself\u001B[0m\u001B[0;34m,\u001B[0m \u001B[0mcursor\u001B[0m\u001B[0;34m,\u001B[0m \u001B[0mstatement\u001B[0m\u001B[0;34m,\u001B[0m \u001B[0mcontext\u001B[0m\u001B[0;34m=\u001B[0m\u001B[0;32mNone\u001B[0m\u001B[0;34m)\u001B[0m\u001B[0;34m:\u001B[0m\u001B[0;34m\u001B[0m\u001B[0;34m\u001B[0m\u001B[0m\n\u001B[0;32m--> 612\u001B[0;31m         \u001B[0mcursor\u001B[0m\u001B[0;34m.\u001B[0m\u001B[0mexecute\u001B[0m\u001B[0;34m(\u001B[0m\u001B[0mstatement\u001B[0m\u001B[0;34m)\u001B[0m\u001B[0;34m\u001B[0m\u001B[0;34m\u001B[0m\u001B[0m\n\u001B[0m\u001B[1;32m    613\u001B[0m \u001B[0;34m\u001B[0m\u001B[0m\n\u001B[1;32m    614\u001B[0m     \u001B[0;32mdef\u001B[0m \u001B[0mis_disconnect\u001B[0m\u001B[0;34m(\u001B[0m\u001B[0mself\u001B[0m\u001B[0;34m,\u001B[0m \u001B[0me\u001B[0m\u001B[0;34m,\u001B[0m \u001B[0mconnection\u001B[0m\u001B[0;34m,\u001B[0m \u001B[0mcursor\u001B[0m\u001B[0;34m)\u001B[0m\u001B[0;34m:\u001B[0m\u001B[0;34m\u001B[0m\u001B[0;34m\u001B[0m\u001B[0m\n",
      "\u001B[0;32m/Library/Frameworks/Python.framework/Versions/3.7/lib/python3.7/encodings/utf_8.py\u001B[0m in \u001B[0;36mdecode\u001B[0;34m(input, errors)\u001B[0m\n\u001B[1;32m     13\u001B[0m \u001B[0mencode\u001B[0m \u001B[0;34m=\u001B[0m \u001B[0mcodecs\u001B[0m\u001B[0;34m.\u001B[0m\u001B[0mutf_8_encode\u001B[0m\u001B[0;34m\u001B[0m\u001B[0;34m\u001B[0m\u001B[0m\n\u001B[1;32m     14\u001B[0m \u001B[0;34m\u001B[0m\u001B[0m\n\u001B[0;32m---> 15\u001B[0;31m \u001B[0;32mdef\u001B[0m \u001B[0mdecode\u001B[0m\u001B[0;34m(\u001B[0m\u001B[0minput\u001B[0m\u001B[0;34m,\u001B[0m \u001B[0merrors\u001B[0m\u001B[0;34m=\u001B[0m\u001B[0;34m'strict'\u001B[0m\u001B[0;34m)\u001B[0m\u001B[0;34m:\u001B[0m\u001B[0;34m\u001B[0m\u001B[0;34m\u001B[0m\u001B[0m\n\u001B[0m\u001B[1;32m     16\u001B[0m     \u001B[0;32mreturn\u001B[0m \u001B[0mcodecs\u001B[0m\u001B[0;34m.\u001B[0m\u001B[0mutf_8_decode\u001B[0m\u001B[0;34m(\u001B[0m\u001B[0minput\u001B[0m\u001B[0;34m,\u001B[0m \u001B[0merrors\u001B[0m\u001B[0;34m,\u001B[0m \u001B[0;32mTrue\u001B[0m\u001B[0;34m)\u001B[0m\u001B[0;34m\u001B[0m\u001B[0;34m\u001B[0m\u001B[0m\n\u001B[1;32m     17\u001B[0m \u001B[0;34m\u001B[0m\u001B[0m\n",
      "\u001B[0;31mKeyboardInterrupt\u001B[0m: "
     ]
    }
   ],
   "source": [
    "# song-artist lookup\n",
    "song_query = '''\n",
    "Select mediabase_id, song_name, artist_name\n",
    "from data.songs_v as sv\n",
    "'''\n",
    "engine = postgresql_engine(username, password, url, port, database)\n",
    "with engine.connect() as conn:\n",
    "    with conn.begin():\n",
    "        df_song_lookup = pd.read_sql(song_query, con=conn)"
   ],
   "metadata": {
    "collapsed": false
   }
  },
  {
   "cell_type": "code",
   "execution_count": 10,
   "outputs": [],
   "source": [
    "df_song_lookup.set_index(['mediabase_id'], inplace=True)"
   ],
   "metadata": {
    "collapsed": false
   }
  },
  {
   "cell_type": "code",
   "execution_count": 12,
   "outputs": [
    {
     "data": {
      "text/plain": "                                  song_name            artist_name\nmediabase_id                                                      \n1342132            Maui Hawaiian Sup'pa Man  ISRAEL KAMAKAWIWO'OLE\n2318242                     Under The Pines             TWIN PEAKS\n2825802       Love Is Bigger...(Apollo '18)                     U2\n2019373                              I Be U                 FUTURE\n2159334        Burn Down The ... (Live '09)             ELTON JOHN",
      "text/html": "<div>\n<style scoped>\n    .dataframe tbody tr th:only-of-type {\n        vertical-align: middle;\n    }\n\n    .dataframe tbody tr th {\n        vertical-align: top;\n    }\n\n    .dataframe thead th {\n        text-align: right;\n    }\n</style>\n<table border=\"1\" class=\"dataframe\">\n  <thead>\n    <tr style=\"text-align: right;\">\n      <th></th>\n      <th>song_name</th>\n      <th>artist_name</th>\n    </tr>\n    <tr>\n      <th>mediabase_id</th>\n      <th></th>\n      <th></th>\n    </tr>\n  </thead>\n  <tbody>\n    <tr>\n      <th>1342132</th>\n      <td>Maui Hawaiian Sup'pa Man</td>\n      <td>ISRAEL KAMAKAWIWO'OLE</td>\n    </tr>\n    <tr>\n      <th>2318242</th>\n      <td>Under The Pines</td>\n      <td>TWIN PEAKS</td>\n    </tr>\n    <tr>\n      <th>2825802</th>\n      <td>Love Is Bigger...(Apollo '18)</td>\n      <td>U2</td>\n    </tr>\n    <tr>\n      <th>2019373</th>\n      <td>I Be U</td>\n      <td>FUTURE</td>\n    </tr>\n    <tr>\n      <th>2159334</th>\n      <td>Burn Down The ... (Live '09)</td>\n      <td>ELTON JOHN</td>\n    </tr>\n  </tbody>\n</table>\n</div>"
     },
     "execution_count": 12,
     "metadata": {},
     "output_type": "execute_result"
    }
   ],
   "source": [
    "df_song_lookup.head()"
   ],
   "metadata": {
    "collapsed": false
   }
  },
  {
   "cell_type": "code",
   "execution_count": 13,
   "outputs": [
    {
     "data": {
      "text/plain": "['A1', 'A2', 'C1', 'H1', 'L1', 'L3', 'O1', 'R1', 'R2', 'R3', 'U1', 'U2', 'Y0']"
     },
     "execution_count": 13,
     "metadata": {},
     "output_type": "execute_result"
    }
   ],
   "source": [
    "# extract all formats\n",
    "all_formats = list(pd.unique(df_ebw_metrics['format_code']))\n",
    "all_formats.sort()\n",
    "all_formats"
   ],
   "metadata": {
    "collapsed": false
   }
  },
  {
   "cell_type": "code",
   "execution_count": 14,
   "outputs": [],
   "source": [
    "# define major formats\n",
    "major_formats = ['C1', 'H1', 'U1']"
   ],
   "metadata": {
    "collapsed": false
   }
  },
  {
   "cell_type": "markdown",
   "source": [
    "#### Unique songs"
   ],
   "metadata": {
    "collapsed": false
   }
  },
  {
   "cell_type": "code",
   "execution_count": 15,
   "outputs": [
    {
     "data": {
      "text/plain": "format_code\nA1     (92, 10)\nA2     (272, 9)\nC1    (273, 19)\nH1    (453, 33)\nL1     (263, 5)\nL3      (87, 3)\nO1      (29, 2)\nR1     (160, 2)\nR2     (128, 6)\nR3     (253, 9)\nU1    (500, 17)\nU2     (133, 4)\nY0     (367, 7)\ndtype: object"
     },
     "execution_count": 15,
     "metadata": {},
     "output_type": "execute_result"
    }
   ],
   "source": [
    "df_ebw_metrics.groupby(['format_code']).apply(lambda x:(len(pd.unique(x['mediabase_id'])), len(pd.unique(x['station_id']))))"
   ],
   "metadata": {
    "collapsed": false
   }
  },
  {
   "cell_type": "markdown",
   "source": [
    "#### Unique songs and stations"
   ],
   "metadata": {
    "collapsed": false
   }
  },
  {
   "cell_type": "code",
   "execution_count": 16,
   "outputs": [
    {
     "data": {
      "text/plain": "format_code\nA1     490\nA2    1149\nC1    3409\nH1    7260\nL1     818\nL3     229\nO1      58\nR1     319\nR2     496\nR3     969\nU1    3126\nU2     417\nY0    1391\ndtype: int64"
     },
     "execution_count": 16,
     "metadata": {},
     "output_type": "execute_result"
    }
   ],
   "source": [
    "df_ebw_metrics.groupby(['format_code']).apply(lambda x:len((x[['mediabase_id', 'station_id']].drop_duplicates())))"
   ],
   "metadata": {
    "collapsed": false
   }
  },
  {
   "cell_type": "markdown",
   "source": [
    "### Calculated fields for analysis"
   ],
   "metadata": {
    "collapsed": false
   }
  },
  {
   "cell_type": "code",
   "execution_count": 16,
   "outputs": [],
   "source": [
    "# Look at two appearances in top quintile of callout research\n",
    "df_pop_quintile = pd.DataFrame(df_ebw_metrics[~pd.isna(df_ebw_metrics['pop'])].groupby(['format_code', 'cmm_station_calls', 'week_dt']).apply(lambda x: np.quantile(x['pop'], 0.80)), columns=['top_quintile_cutoff'])"
   ],
   "metadata": {
    "collapsed": false
   }
  },
  {
   "cell_type": "code",
   "execution_count": 18,
   "outputs": [
    {
     "data": {
      "text/plain": "          week_dt    score_dt  mediabase_id     song_id call_letters  \\\n0      2019-01-06  2019-01-14       2459206   649525954      KAJA-FM   \n1      2019-01-06  2019-01-14       2459206   649525954      KASE-FM   \n2      2019-01-06  2019-01-14       2459206   649525954      KEEY-FM   \n3      2019-01-06  2019-01-14       2459206   649525954      KNIX-FM   \n4      2019-01-06  2019-01-14       2459206   649525954       KSD-FM   \n...           ...         ...           ...         ...          ...   \n410839 2023-01-22  2023-01-30       2678774  1639822632      WMZQ-FM   \n410840 2023-01-22  2023-01-30       2678774  1639822632      WPGB-FM   \n410841 2023-01-22  2023-01-30       2678774  1639822632      WPOC-FM   \n410842 2023-01-22  2023-01-30       2678774  1639822632      WSIX-FM   \n410843 2023-01-22  2023-01-30       2678774  1639822632      WUBL-FM   \n\n       format_code song_release_date last_callout_date first_spin_date  \\\n0               C1        2019-01-01        2021-03-08      2019-01-14   \n1               C1        2019-01-01        2021-04-12      2019-02-25   \n2               C1        2019-01-01        2021-02-08      2019-02-25   \n3               C1        2019-01-01        2022-04-18      2019-01-14   \n4               C1        2019-01-01        2020-09-21      2019-01-14   \n...            ...               ...               ...             ...   \n410839          C1        2021-01-01        2022-04-25      2021-04-19   \n410840          C1        2021-01-01        2022-06-27      2021-04-19   \n410841          C1        2021-01-01        2022-04-25      2021-04-19   \n410842          C1        2021-01-01        2022-05-02      2021-04-19   \n410843          C1        2021-01-01        2022-05-09      2021-04-19   \n\n       StartDate  ...   gcr  gcr_adj  station_id cmm_station_calls test_date  \\\n0           None  ...  None     None        None              None      None   \n1           None  ...  None     None        None              None      None   \n2           None  ...  None     None        None              None      None   \n3           None  ...  None     None        None              None      None   \n4           None  ...  None     None        None              None      None   \n...          ...  ...   ...      ...         ...               ...       ...   \n410839      None  ...  None     None        None              None      None   \n410840      None  ...  None     None        None              None      None   \n410841      None  ...  None     None        None              None      None   \n410842      None  ...  None     None        None              None      None   \n410843      None  ...  None     None        None              None      None   \n\n       breakout_respondents   pop fav_metric ddl_metric f2b_ratio  \n0                      None  None       None       None      None  \n1                      None  None       None       None      None  \n2                      None  None       None       None      None  \n3                      None  None       None       None      None  \n4                      None  None       None       None      None  \n...                     ...   ...        ...        ...       ...  \n410839                 None  None       None       None      None  \n410840                 None  None       None       None      None  \n410841                 None  None       None       None      None  \n410842                 None  None       None       None      None  \n410843                 None  None       None       None      None  \n\n[410844 rows x 33 columns]",
      "text/html": "<div>\n<style scoped>\n    .dataframe tbody tr th:only-of-type {\n        vertical-align: middle;\n    }\n\n    .dataframe tbody tr th {\n        vertical-align: top;\n    }\n\n    .dataframe thead th {\n        text-align: right;\n    }\n</style>\n<table border=\"1\" class=\"dataframe\">\n  <thead>\n    <tr style=\"text-align: right;\">\n      <th></th>\n      <th>week_dt</th>\n      <th>score_dt</th>\n      <th>mediabase_id</th>\n      <th>song_id</th>\n      <th>call_letters</th>\n      <th>format_code</th>\n      <th>song_release_date</th>\n      <th>last_callout_date</th>\n      <th>first_spin_date</th>\n      <th>StartDate</th>\n      <th>...</th>\n      <th>gcr</th>\n      <th>gcr_adj</th>\n      <th>station_id</th>\n      <th>cmm_station_calls</th>\n      <th>test_date</th>\n      <th>breakout_respondents</th>\n      <th>pop</th>\n      <th>fav_metric</th>\n      <th>ddl_metric</th>\n      <th>f2b_ratio</th>\n    </tr>\n  </thead>\n  <tbody>\n    <tr>\n      <th>0</th>\n      <td>2019-01-06</td>\n      <td>2019-01-14</td>\n      <td>2459206</td>\n      <td>649525954</td>\n      <td>KAJA-FM</td>\n      <td>C1</td>\n      <td>2019-01-01</td>\n      <td>2021-03-08</td>\n      <td>2019-01-14</td>\n      <td>None</td>\n      <td>...</td>\n      <td>None</td>\n      <td>None</td>\n      <td>None</td>\n      <td>None</td>\n      <td>None</td>\n      <td>None</td>\n      <td>None</td>\n      <td>None</td>\n      <td>None</td>\n      <td>None</td>\n    </tr>\n    <tr>\n      <th>1</th>\n      <td>2019-01-06</td>\n      <td>2019-01-14</td>\n      <td>2459206</td>\n      <td>649525954</td>\n      <td>KASE-FM</td>\n      <td>C1</td>\n      <td>2019-01-01</td>\n      <td>2021-04-12</td>\n      <td>2019-02-25</td>\n      <td>None</td>\n      <td>...</td>\n      <td>None</td>\n      <td>None</td>\n      <td>None</td>\n      <td>None</td>\n      <td>None</td>\n      <td>None</td>\n      <td>None</td>\n      <td>None</td>\n      <td>None</td>\n      <td>None</td>\n    </tr>\n    <tr>\n      <th>2</th>\n      <td>2019-01-06</td>\n      <td>2019-01-14</td>\n      <td>2459206</td>\n      <td>649525954</td>\n      <td>KEEY-FM</td>\n      <td>C1</td>\n      <td>2019-01-01</td>\n      <td>2021-02-08</td>\n      <td>2019-02-25</td>\n      <td>None</td>\n      <td>...</td>\n      <td>None</td>\n      <td>None</td>\n      <td>None</td>\n      <td>None</td>\n      <td>None</td>\n      <td>None</td>\n      <td>None</td>\n      <td>None</td>\n      <td>None</td>\n      <td>None</td>\n    </tr>\n    <tr>\n      <th>3</th>\n      <td>2019-01-06</td>\n      <td>2019-01-14</td>\n      <td>2459206</td>\n      <td>649525954</td>\n      <td>KNIX-FM</td>\n      <td>C1</td>\n      <td>2019-01-01</td>\n      <td>2022-04-18</td>\n      <td>2019-01-14</td>\n      <td>None</td>\n      <td>...</td>\n      <td>None</td>\n      <td>None</td>\n      <td>None</td>\n      <td>None</td>\n      <td>None</td>\n      <td>None</td>\n      <td>None</td>\n      <td>None</td>\n      <td>None</td>\n      <td>None</td>\n    </tr>\n    <tr>\n      <th>4</th>\n      <td>2019-01-06</td>\n      <td>2019-01-14</td>\n      <td>2459206</td>\n      <td>649525954</td>\n      <td>KSD-FM</td>\n      <td>C1</td>\n      <td>2019-01-01</td>\n      <td>2020-09-21</td>\n      <td>2019-01-14</td>\n      <td>None</td>\n      <td>...</td>\n      <td>None</td>\n      <td>None</td>\n      <td>None</td>\n      <td>None</td>\n      <td>None</td>\n      <td>None</td>\n      <td>None</td>\n      <td>None</td>\n      <td>None</td>\n      <td>None</td>\n    </tr>\n    <tr>\n      <th>...</th>\n      <td>...</td>\n      <td>...</td>\n      <td>...</td>\n      <td>...</td>\n      <td>...</td>\n      <td>...</td>\n      <td>...</td>\n      <td>...</td>\n      <td>...</td>\n      <td>...</td>\n      <td>...</td>\n      <td>...</td>\n      <td>...</td>\n      <td>...</td>\n      <td>...</td>\n      <td>...</td>\n      <td>...</td>\n      <td>...</td>\n      <td>...</td>\n      <td>...</td>\n      <td>...</td>\n    </tr>\n    <tr>\n      <th>410839</th>\n      <td>2023-01-22</td>\n      <td>2023-01-30</td>\n      <td>2678774</td>\n      <td>1639822632</td>\n      <td>WMZQ-FM</td>\n      <td>C1</td>\n      <td>2021-01-01</td>\n      <td>2022-04-25</td>\n      <td>2021-04-19</td>\n      <td>None</td>\n      <td>...</td>\n      <td>None</td>\n      <td>None</td>\n      <td>None</td>\n      <td>None</td>\n      <td>None</td>\n      <td>None</td>\n      <td>None</td>\n      <td>None</td>\n      <td>None</td>\n      <td>None</td>\n    </tr>\n    <tr>\n      <th>410840</th>\n      <td>2023-01-22</td>\n      <td>2023-01-30</td>\n      <td>2678774</td>\n      <td>1639822632</td>\n      <td>WPGB-FM</td>\n      <td>C1</td>\n      <td>2021-01-01</td>\n      <td>2022-06-27</td>\n      <td>2021-04-19</td>\n      <td>None</td>\n      <td>...</td>\n      <td>None</td>\n      <td>None</td>\n      <td>None</td>\n      <td>None</td>\n      <td>None</td>\n      <td>None</td>\n      <td>None</td>\n      <td>None</td>\n      <td>None</td>\n      <td>None</td>\n    </tr>\n    <tr>\n      <th>410841</th>\n      <td>2023-01-22</td>\n      <td>2023-01-30</td>\n      <td>2678774</td>\n      <td>1639822632</td>\n      <td>WPOC-FM</td>\n      <td>C1</td>\n      <td>2021-01-01</td>\n      <td>2022-04-25</td>\n      <td>2021-04-19</td>\n      <td>None</td>\n      <td>...</td>\n      <td>None</td>\n      <td>None</td>\n      <td>None</td>\n      <td>None</td>\n      <td>None</td>\n      <td>None</td>\n      <td>None</td>\n      <td>None</td>\n      <td>None</td>\n      <td>None</td>\n    </tr>\n    <tr>\n      <th>410842</th>\n      <td>2023-01-22</td>\n      <td>2023-01-30</td>\n      <td>2678774</td>\n      <td>1639822632</td>\n      <td>WSIX-FM</td>\n      <td>C1</td>\n      <td>2021-01-01</td>\n      <td>2022-05-02</td>\n      <td>2021-04-19</td>\n      <td>None</td>\n      <td>...</td>\n      <td>None</td>\n      <td>None</td>\n      <td>None</td>\n      <td>None</td>\n      <td>None</td>\n      <td>None</td>\n      <td>None</td>\n      <td>None</td>\n      <td>None</td>\n      <td>None</td>\n    </tr>\n    <tr>\n      <th>410843</th>\n      <td>2023-01-22</td>\n      <td>2023-01-30</td>\n      <td>2678774</td>\n      <td>1639822632</td>\n      <td>WUBL-FM</td>\n      <td>C1</td>\n      <td>2021-01-01</td>\n      <td>2022-05-09</td>\n      <td>2021-04-19</td>\n      <td>None</td>\n      <td>...</td>\n      <td>None</td>\n      <td>None</td>\n      <td>None</td>\n      <td>None</td>\n      <td>None</td>\n      <td>None</td>\n      <td>None</td>\n      <td>None</td>\n      <td>None</td>\n      <td>None</td>\n    </tr>\n  </tbody>\n</table>\n<p>410844 rows × 33 columns</p>\n</div>"
     },
     "execution_count": 18,
     "metadata": {},
     "output_type": "execute_result"
    }
   ],
   "source": [
    "df_ebw_metrics"
   ],
   "metadata": {
    "collapsed": false,
    "pycharm": {
     "name": "#%%\n"
    }
   }
  },
  {
   "cell_type": "code",
   "execution_count": 17,
   "outputs": [
    {
     "data": {
      "text/plain": "Empty DataFrame\nColumns: [top_quintile_cutoff]\nIndex: []",
      "text/html": "<div>\n<style scoped>\n    .dataframe tbody tr th:only-of-type {\n        vertical-align: middle;\n    }\n\n    .dataframe tbody tr th {\n        vertical-align: top;\n    }\n\n    .dataframe thead th {\n        text-align: right;\n    }\n</style>\n<table border=\"1\" class=\"dataframe\">\n  <thead>\n    <tr style=\"text-align: right;\">\n      <th></th>\n      <th>top_quintile_cutoff</th>\n    </tr>\n  </thead>\n  <tbody>\n  </tbody>\n</table>\n</div>"
     },
     "execution_count": 17,
     "metadata": {},
     "output_type": "execute_result"
    }
   ],
   "source": [
    "df_pop_quintile"
   ],
   "metadata": {
    "collapsed": false
   }
  },
  {
   "cell_type": "code",
   "execution_count": 12,
   "outputs": [
    {
     "ename": "ValueError",
     "evalue": "len(left_on) must equal the number of levels in the index of \"right\"",
     "output_type": "error",
     "traceback": [
      "\u001B[0;31m---------------------------------------------------------------------------\u001B[0m",
      "\u001B[0;31mValueError\u001B[0m                                Traceback (most recent call last)",
      "\u001B[0;32m/var/folders/kt/bsj56gs152d_8fz3jclnl1440000gq/T/ipykernel_1562/3830261260.py\u001B[0m in \u001B[0;36m<module>\u001B[0;34m\u001B[0m\n\u001B[0;32m----> 1\u001B[0;31m \u001B[0mdf_ebw_metrics\u001B[0m\u001B[0;34m[\u001B[0m\u001B[0;34m'is_top_quintile'\u001B[0m\u001B[0;34m]\u001B[0m \u001B[0;34m=\u001B[0m \u001B[0mdf_ebw_metrics\u001B[0m\u001B[0;34m.\u001B[0m\u001B[0mjoin\u001B[0m\u001B[0;34m(\u001B[0m\u001B[0mdf_pop_quintile\u001B[0m\u001B[0;34m,\u001B[0m \u001B[0mon\u001B[0m\u001B[0;34m=\u001B[0m\u001B[0;34m[\u001B[0m\u001B[0;34m'format_code'\u001B[0m\u001B[0;34m,\u001B[0m \u001B[0;34m'cmm_station_calls'\u001B[0m\u001B[0;34m,\u001B[0m \u001B[0;34m'week_dt'\u001B[0m\u001B[0;34m]\u001B[0m\u001B[0;34m,\u001B[0m \u001B[0mrsuffix\u001B[0m\u001B[0;34m=\u001B[0m\u001B[0;34m'_r'\u001B[0m\u001B[0;34m)\u001B[0m\u001B[0;34m.\u001B[0m\u001B[0mapply\u001B[0m\u001B[0;34m(\u001B[0m\u001B[0;32mlambda\u001B[0m \u001B[0mx\u001B[0m\u001B[0;34m:\u001B[0m \u001B[0mint\u001B[0m\u001B[0;34m(\u001B[0m\u001B[0mx\u001B[0m\u001B[0;34m[\u001B[0m\u001B[0;34m'pop'\u001B[0m\u001B[0;34m]\u001B[0m \u001B[0;34m>=\u001B[0m \u001B[0mx\u001B[0m\u001B[0;34m[\u001B[0m\u001B[0;34m'top_quintile_cutoff'\u001B[0m\u001B[0;34m]\u001B[0m\u001B[0;34m)\u001B[0m\u001B[0;34m,\u001B[0m \u001B[0maxis\u001B[0m\u001B[0;34m=\u001B[0m\u001B[0;36m1\u001B[0m\u001B[0;34m)\u001B[0m\u001B[0;34m\u001B[0m\u001B[0;34m\u001B[0m\u001B[0m\n\u001B[0m",
      "\u001B[0;32m~/Documents/GitHub/adds-early-burnout-warning-model/venv/lib/python3.7/site-packages/pandas/core/frame.py\u001B[0m in \u001B[0;36mjoin\u001B[0;34m(self, other, on, how, lsuffix, rsuffix, sort)\u001B[0m\n\u001B[1;32m   7873\u001B[0m         \"\"\"\n\u001B[1;32m   7874\u001B[0m         return self._join_compat(\n\u001B[0;32m-> 7875\u001B[0;31m             \u001B[0mother\u001B[0m\u001B[0;34m,\u001B[0m \u001B[0mon\u001B[0m\u001B[0;34m=\u001B[0m\u001B[0mon\u001B[0m\u001B[0;34m,\u001B[0m \u001B[0mhow\u001B[0m\u001B[0;34m=\u001B[0m\u001B[0mhow\u001B[0m\u001B[0;34m,\u001B[0m \u001B[0mlsuffix\u001B[0m\u001B[0;34m=\u001B[0m\u001B[0mlsuffix\u001B[0m\u001B[0;34m,\u001B[0m \u001B[0mrsuffix\u001B[0m\u001B[0;34m=\u001B[0m\u001B[0mrsuffix\u001B[0m\u001B[0;34m,\u001B[0m \u001B[0msort\u001B[0m\u001B[0;34m=\u001B[0m\u001B[0msort\u001B[0m\u001B[0;34m\u001B[0m\u001B[0;34m\u001B[0m\u001B[0m\n\u001B[0m\u001B[1;32m   7876\u001B[0m         )\n\u001B[1;32m   7877\u001B[0m \u001B[0;34m\u001B[0m\u001B[0m\n",
      "\u001B[0;32m~/Documents/GitHub/adds-early-burnout-warning-model/venv/lib/python3.7/site-packages/pandas/core/frame.py\u001B[0m in \u001B[0;36m_join_compat\u001B[0;34m(self, other, on, how, lsuffix, rsuffix, sort)\u001B[0m\n\u001B[1;32m   7896\u001B[0m                 \u001B[0mright_index\u001B[0m\u001B[0;34m=\u001B[0m\u001B[0;32mTrue\u001B[0m\u001B[0;34m,\u001B[0m\u001B[0;34m\u001B[0m\u001B[0;34m\u001B[0m\u001B[0m\n\u001B[1;32m   7897\u001B[0m                 \u001B[0msuffixes\u001B[0m\u001B[0;34m=\u001B[0m\u001B[0;34m(\u001B[0m\u001B[0mlsuffix\u001B[0m\u001B[0;34m,\u001B[0m \u001B[0mrsuffix\u001B[0m\u001B[0;34m)\u001B[0m\u001B[0;34m,\u001B[0m\u001B[0;34m\u001B[0m\u001B[0;34m\u001B[0m\u001B[0m\n\u001B[0;32m-> 7898\u001B[0;31m                 \u001B[0msort\u001B[0m\u001B[0;34m=\u001B[0m\u001B[0msort\u001B[0m\u001B[0;34m,\u001B[0m\u001B[0;34m\u001B[0m\u001B[0;34m\u001B[0m\u001B[0m\n\u001B[0m\u001B[1;32m   7899\u001B[0m             )\n\u001B[1;32m   7900\u001B[0m         \u001B[0;32melse\u001B[0m\u001B[0;34m:\u001B[0m\u001B[0;34m\u001B[0m\u001B[0;34m\u001B[0m\u001B[0m\n",
      "\u001B[0;32m~/Documents/GitHub/adds-early-burnout-warning-model/venv/lib/python3.7/site-packages/pandas/core/reshape/merge.py\u001B[0m in \u001B[0;36mmerge\u001B[0;34m(left, right, how, on, left_on, right_on, left_index, right_index, sort, suffixes, copy, indicator, validate)\u001B[0m\n\u001B[1;32m     85\u001B[0m         \u001B[0mcopy\u001B[0m\u001B[0;34m=\u001B[0m\u001B[0mcopy\u001B[0m\u001B[0;34m,\u001B[0m\u001B[0;34m\u001B[0m\u001B[0;34m\u001B[0m\u001B[0m\n\u001B[1;32m     86\u001B[0m         \u001B[0mindicator\u001B[0m\u001B[0;34m=\u001B[0m\u001B[0mindicator\u001B[0m\u001B[0;34m,\u001B[0m\u001B[0;34m\u001B[0m\u001B[0;34m\u001B[0m\u001B[0m\n\u001B[0;32m---> 87\u001B[0;31m         \u001B[0mvalidate\u001B[0m\u001B[0;34m=\u001B[0m\u001B[0mvalidate\u001B[0m\u001B[0;34m,\u001B[0m\u001B[0;34m\u001B[0m\u001B[0;34m\u001B[0m\u001B[0m\n\u001B[0m\u001B[1;32m     88\u001B[0m     )\n\u001B[1;32m     89\u001B[0m     \u001B[0;32mreturn\u001B[0m \u001B[0mop\u001B[0m\u001B[0;34m.\u001B[0m\u001B[0mget_result\u001B[0m\u001B[0;34m(\u001B[0m\u001B[0;34m)\u001B[0m\u001B[0;34m\u001B[0m\u001B[0;34m\u001B[0m\u001B[0m\n",
      "\u001B[0;32m~/Documents/GitHub/adds-early-burnout-warning-model/venv/lib/python3.7/site-packages/pandas/core/reshape/merge.py\u001B[0m in \u001B[0;36m__init__\u001B[0;34m(self, left, right, how, on, left_on, right_on, axis, left_index, right_index, sort, suffixes, copy, indicator, validate)\u001B[0m\n\u001B[1;32m    643\u001B[0m             \u001B[0mwarnings\u001B[0m\u001B[0;34m.\u001B[0m\u001B[0mwarn\u001B[0m\u001B[0;34m(\u001B[0m\u001B[0mmsg\u001B[0m\u001B[0;34m,\u001B[0m \u001B[0mUserWarning\u001B[0m\u001B[0;34m)\u001B[0m\u001B[0;34m\u001B[0m\u001B[0;34m\u001B[0m\u001B[0m\n\u001B[1;32m    644\u001B[0m \u001B[0;34m\u001B[0m\u001B[0m\n\u001B[0;32m--> 645\u001B[0;31m         \u001B[0mself\u001B[0m\u001B[0;34m.\u001B[0m\u001B[0m_validate_specification\u001B[0m\u001B[0;34m(\u001B[0m\u001B[0;34m)\u001B[0m\u001B[0;34m\u001B[0m\u001B[0;34m\u001B[0m\u001B[0m\n\u001B[0m\u001B[1;32m    646\u001B[0m \u001B[0;34m\u001B[0m\u001B[0m\n\u001B[1;32m    647\u001B[0m         \u001B[0;31m# note this function has side effects\u001B[0m\u001B[0;34m\u001B[0m\u001B[0;34m\u001B[0m\u001B[0;34m\u001B[0m\u001B[0m\n",
      "\u001B[0;32m~/Documents/GitHub/adds-early-burnout-warning-model/venv/lib/python3.7/site-packages/pandas/core/reshape/merge.py\u001B[0m in \u001B[0;36m_validate_specification\u001B[0;34m(self)\u001B[0m\n\u001B[1;32m   1239\u001B[0m                 \u001B[0;32mif\u001B[0m \u001B[0mlen\u001B[0m\u001B[0;34m(\u001B[0m\u001B[0mself\u001B[0m\u001B[0;34m.\u001B[0m\u001B[0mleft_on\u001B[0m\u001B[0;34m)\u001B[0m \u001B[0;34m!=\u001B[0m \u001B[0mself\u001B[0m\u001B[0;34m.\u001B[0m\u001B[0mright\u001B[0m\u001B[0;34m.\u001B[0m\u001B[0mindex\u001B[0m\u001B[0;34m.\u001B[0m\u001B[0mnlevels\u001B[0m\u001B[0;34m:\u001B[0m\u001B[0;34m\u001B[0m\u001B[0;34m\u001B[0m\u001B[0m\n\u001B[1;32m   1240\u001B[0m                     raise ValueError(\n\u001B[0;32m-> 1241\u001B[0;31m                         \u001B[0;34m\"len(left_on) must equal the number \"\u001B[0m\u001B[0;34m\u001B[0m\u001B[0;34m\u001B[0m\u001B[0m\n\u001B[0m\u001B[1;32m   1242\u001B[0m                         \u001B[0;34m'of levels in the index of \"right\"'\u001B[0m\u001B[0;34m\u001B[0m\u001B[0;34m\u001B[0m\u001B[0m\n\u001B[1;32m   1243\u001B[0m                     )\n",
      "\u001B[0;31mValueError\u001B[0m: len(left_on) must equal the number of levels in the index of \"right\""
     ]
    }
   ],
   "source": [
    "df_ebw_metrics['is_top_quintile'] = df_ebw_metrics.join(df_pop_quintile, on=['format_code', 'cmm_station_calls', 'week_dt'], rsuffix='_r').apply(lambda x: int(x['pop'] >= x['top_quintile_cutoff']), axis=1)"
   ],
   "metadata": {
    "collapsed": false
   }
  },
  {
   "cell_type": "code",
   "execution_count": null,
   "outputs": [],
   "source": [
    "df_ebw_metrics['week_dt'] = pd.to_datetime(df_ebw_metrics['week_dt'])"
   ],
   "metadata": {
    "collapsed": false
   }
  },
  {
   "cell_type": "code",
   "execution_count": null,
   "outputs": [],
   "source": [
    "df_ebw_metrics.sort_values(by=['format_code', 'call_letters', 'mediabase_id', 'week_dt'], inplace=True)"
   ],
   "metadata": {
    "collapsed": false
   }
  },
  {
   "cell_type": "code",
   "execution_count": null,
   "outputs": [],
   "source": [
    "df_ebw_metrics['spins_non_on_prev'] = df_ebw_metrics.groupby(['format_code', 'call_letters', 'mediabase_id'])['spins_non_on'].shift(1)"
   ],
   "metadata": {
    "collapsed": false
   }
  },
  {
   "cell_type": "code",
   "execution_count": null,
   "outputs": [],
   "source": [
    "df_ebw_metrics['cuml_spins_non_on'] = df_ebw_metrics.groupby(['format_code', 'call_letters', 'mediabase_id'])['spins_non_on'].cumsum()"
   ],
   "metadata": {
    "collapsed": false
   }
  },
  {
   "cell_type": "code",
   "execution_count": null,
   "outputs": [],
   "source": [
    "df_ebw_metrics['num_top_quintile'] = df_ebw_metrics[df_ebw_metrics['cuml_spins_non_on'] >= 50].groupby(['format_code', 'call_letters', 'mediabase_id'])['is_top_quintile'].cumsum()"
   ],
   "metadata": {
    "collapsed": false
   }
  },
  {
   "cell_type": "code",
   "execution_count": 23,
   "outputs": [
    {
     "data": {
      "text/plain": "7600"
     },
     "execution_count": 23,
     "metadata": {},
     "output_type": "execute_result"
    }
   ],
   "source": [
    "100*(int(np.max(df_ebw_metrics['cuml_spins_non_on'])/100) + 1)"
   ],
   "metadata": {
    "collapsed": false
   }
  },
  {
   "cell_type": "code",
   "execution_count": null,
   "outputs": [],
   "source": [
    "df_ebw_metrics['cuml_spins_bucket'] = pd.cut(df_ebw_metrics['cuml_spins_non_on'], bins=pd.interval_range(start=0, end=100*(int(np.max(df_ebw_metrics['cuml_spins_non_on'])/100) + 1), freq=100))"
   ],
   "metadata": {
    "collapsed": false
   }
  },
  {
   "cell_type": "code",
   "execution_count": null,
   "outputs": [],
   "source": [
    "df_ebw_metrics['weeks_since_release'] = ((df_ebw_metrics['week_dt'] - pd.to_datetime(df_ebw_metrics['song_release_date']))/np.timedelta64(1, 'W')).apply(int)"
   ],
   "metadata": {
    "collapsed": false
   }
  },
  {
   "cell_type": "code",
   "execution_count": null,
   "outputs": [],
   "source": [
    "df_ebw_metrics['propn_market_spins'] = df_ebw_metrics['spins_non_on']/df_ebw_metrics['MarketSpinsToDate']"
   ],
   "metadata": {
    "collapsed": false
   }
  },
  {
   "cell_type": "code",
   "execution_count": 28,
   "outputs": [],
   "source": [
    "df_ebw_metrics = df_ebw_metrics.join(df_song_lookup, on=['mediabase_id'])"
   ],
   "metadata": {
    "collapsed": false
   }
  },
  {
   "cell_type": "code",
   "execution_count": 29,
   "outputs": [],
   "source": [
    "ddl_range = np.arange(10, 26, 1)\n",
    "f2b_range = np.arange(0.85, 1.55, 0.05)"
   ],
   "metadata": {
    "collapsed": false
   }
  },
  {
   "cell_type": "code",
   "execution_count": 30,
   "outputs": [],
   "source": [
    "ddl_geq_cols = ['ddl_geq_' + str(int(i)) for i in ddl_range]\n",
    "ddl_track_cols = ['ddl_track_' + str(int(i)) for i in ddl_range]\n",
    "\n",
    "f2b_leq_cols = ['f2b_leq_' + '%.2f'%i for i in f2b_range]\n",
    "f2b_track_cols = ['f2b_track_' + '%.2f'%i  for i in f2b_range]"
   ],
   "metadata": {
    "collapsed": false
   }
  },
  {
   "cell_type": "code",
   "execution_count": 31,
   "outputs": [],
   "source": [
    "for i in range(len(ddl_range)):\n",
    "    df_ebw_metrics[ddl_geq_cols[i]] = df_ebw_metrics['ddl_metric'].apply(lambda x: int(x >= ddl_range[i]))\n",
    "    df_ebw_metrics[ddl_track_cols[i]] = df_ebw_metrics.groupby(['format_code', 'call_letters', 'mediabase_id'])[ddl_geq_cols[i]].cumsum()\n",
    "\n",
    "for i in range(len(f2b_range)):\n",
    "    df_ebw_metrics[f2b_leq_cols[i]] = df_ebw_metrics['f2b_ratio'].apply(lambda x: int(x <= f2b_range[i]))\n",
    "    df_ebw_metrics[f2b_track_cols[i]] = df_ebw_metrics.groupby(['format_code', 'call_letters', 'mediabase_id'])[f2b_leq_cols[i]].cumsum()"
   ],
   "metadata": {
    "collapsed": false
   }
  },
  {
   "cell_type": "code",
   "execution_count": 32,
   "outputs": [
    {
     "data": {
      "text/plain": "                                         week_dt  cuml_spins_non_on  \\\nformat_code call_letters mediabase_id                                 \nA1          KDGE-FM      2461348      2021-03-08                 50   \n                         2475394      2021-02-22                931   \n                         2502821      2021-02-08                  0   \n                         2506820      2020-06-08                 50   \n                         2554446      2021-01-25                  0   \n...                                          ...                ...   \nY0          WJMN-FM      2745318      2022-01-10                227   \n                         2746130      2022-01-10                259   \n                         2753540      2022-03-14                332   \n                         2756995      2022-02-28               1098   \n                         2763070      2022-05-09                199   \n\n                                       weeks_since_release  \nformat_code call_letters mediabase_id                       \nA1          KDGE-FM      2461348                       113  \n                         2475394                       103  \n                         2502821                        88  \n                         2506820                        53  \n                         2554446                        60  \n...                                                    ...  \nY0          WJMN-FM      2745318                        18  \n                         2746130                        18  \n                         2753540                        36  \n                         2756995                        17  \n                         2763070                        27  \n\n[3286 rows x 3 columns]",
      "text/html": "<div>\n<style scoped>\n    .dataframe tbody tr th:only-of-type {\n        vertical-align: middle;\n    }\n\n    .dataframe tbody tr th {\n        vertical-align: top;\n    }\n\n    .dataframe thead th {\n        text-align: right;\n    }\n</style>\n<table border=\"1\" class=\"dataframe\">\n  <thead>\n    <tr style=\"text-align: right;\">\n      <th></th>\n      <th></th>\n      <th></th>\n      <th>week_dt</th>\n      <th>cuml_spins_non_on</th>\n      <th>weeks_since_release</th>\n    </tr>\n    <tr>\n      <th>format_code</th>\n      <th>call_letters</th>\n      <th>mediabase_id</th>\n      <th></th>\n      <th></th>\n      <th></th>\n    </tr>\n  </thead>\n  <tbody>\n    <tr>\n      <th rowspan=\"5\" valign=\"top\">A1</th>\n      <th rowspan=\"5\" valign=\"top\">KDGE-FM</th>\n      <th>2461348</th>\n      <td>2021-03-08</td>\n      <td>50</td>\n      <td>113</td>\n    </tr>\n    <tr>\n      <th>2475394</th>\n      <td>2021-02-22</td>\n      <td>931</td>\n      <td>103</td>\n    </tr>\n    <tr>\n      <th>2502821</th>\n      <td>2021-02-08</td>\n      <td>0</td>\n      <td>88</td>\n    </tr>\n    <tr>\n      <th>2506820</th>\n      <td>2020-06-08</td>\n      <td>50</td>\n      <td>53</td>\n    </tr>\n    <tr>\n      <th>2554446</th>\n      <td>2021-01-25</td>\n      <td>0</td>\n      <td>60</td>\n    </tr>\n    <tr>\n      <th>...</th>\n      <th>...</th>\n      <th>...</th>\n      <td>...</td>\n      <td>...</td>\n      <td>...</td>\n    </tr>\n    <tr>\n      <th rowspan=\"5\" valign=\"top\">Y0</th>\n      <th rowspan=\"5\" valign=\"top\">WJMN-FM</th>\n      <th>2745318</th>\n      <td>2022-01-10</td>\n      <td>227</td>\n      <td>18</td>\n    </tr>\n    <tr>\n      <th>2746130</th>\n      <td>2022-01-10</td>\n      <td>259</td>\n      <td>18</td>\n    </tr>\n    <tr>\n      <th>2753540</th>\n      <td>2022-03-14</td>\n      <td>332</td>\n      <td>36</td>\n    </tr>\n    <tr>\n      <th>2756995</th>\n      <td>2022-02-28</td>\n      <td>1098</td>\n      <td>17</td>\n    </tr>\n    <tr>\n      <th>2763070</th>\n      <td>2022-05-09</td>\n      <td>199</td>\n      <td>27</td>\n    </tr>\n  </tbody>\n</table>\n<p>3286 rows × 3 columns</p>\n</div>"
     },
     "execution_count": 32,
     "metadata": {},
     "output_type": "execute_result"
    }
   ],
   "source": [
    "df_ebw_metrics[df_ebw_metrics['f2b_track_1.00'] >= 2].groupby(['format_code', 'call_letters', 'mediabase_id']).agg({'week_dt':np.min, 'cuml_spins_non_on': np.min, 'weeks_since_release': np.min})"
   ],
   "metadata": {
    "collapsed": false
   }
  },
  {
   "cell_type": "code",
   "execution_count": 33,
   "outputs": [
    {
     "data": {
      "text/plain": "Empty DataFrame\nColumns: [week_dt, mediabase_id, song_id, call_letters, format_code, song_release_date, last_callout_date, first_spin_date, StartDate, EndDate, spins_total, spins_non_on, MarketSpinsToDate, stream_count, completed_count, thumbs_up_count, thumbs_count, completed_rate, thumbs_up_rate, thumbs_up_rate_total, taa, taa_quintile, gcr, gcr_adj, station_id, cmm_station_calls, test_date, breakout_respondents, pop, fav_metric, ddl_metric, f2b_ratio, is_top_quintile, spins_non_on_prev, cuml_spins_non_on, num_top_quintile, cuml_spins_bucket, weeks_since_release, propn_market_spins, song_name, artist_name, ddl_geq_10, ddl_track_10, ddl_geq_11, ddl_track_11, ddl_geq_12, ddl_track_12, ddl_geq_13, ddl_track_13, ddl_geq_14, ddl_track_14, ddl_geq_15, ddl_track_15, ddl_geq_16, ddl_track_16, ddl_geq_17, ddl_track_17, ddl_geq_18, ddl_track_18, ddl_geq_19, ddl_track_19, ddl_geq_20, ddl_track_20, ddl_geq_21, ddl_track_21, ddl_geq_22, ddl_track_22, ddl_geq_23, ddl_track_23, ddl_geq_24, ddl_track_24, ddl_geq_25, ddl_track_25, f2b_leq_0.85, f2b_track_0.85, f2b_leq_0.90, f2b_track_0.90, f2b_leq_0.95, f2b_track_0.95, f2b_leq_1.00, f2b_track_1.00, f2b_leq_1.05, f2b_track_1.05, f2b_leq_1.10, f2b_track_1.10, f2b_leq_1.15, f2b_track_1.15, f2b_leq_1.20, f2b_track_1.20, f2b_leq_1.25, f2b_track_1.25, f2b_leq_1.30, f2b_track_1.30, f2b_leq_1.35, f2b_track_1.35, f2b_leq_1.40, f2b_track_1.40, f2b_leq_1.45, f2b_track_1.45, f2b_leq_1.50, ...]\nIndex: []\n\n[0 rows x 101 columns]",
      "text/html": "<div>\n<style scoped>\n    .dataframe tbody tr th:only-of-type {\n        vertical-align: middle;\n    }\n\n    .dataframe tbody tr th {\n        vertical-align: top;\n    }\n\n    .dataframe thead th {\n        text-align: right;\n    }\n</style>\n<table border=\"1\" class=\"dataframe\">\n  <thead>\n    <tr style=\"text-align: right;\">\n      <th></th>\n      <th>week_dt</th>\n      <th>mediabase_id</th>\n      <th>song_id</th>\n      <th>call_letters</th>\n      <th>format_code</th>\n      <th>song_release_date</th>\n      <th>last_callout_date</th>\n      <th>first_spin_date</th>\n      <th>StartDate</th>\n      <th>EndDate</th>\n      <th>...</th>\n      <th>f2b_leq_1.30</th>\n      <th>f2b_track_1.30</th>\n      <th>f2b_leq_1.35</th>\n      <th>f2b_track_1.35</th>\n      <th>f2b_leq_1.40</th>\n      <th>f2b_track_1.40</th>\n      <th>f2b_leq_1.45</th>\n      <th>f2b_track_1.45</th>\n      <th>f2b_leq_1.50</th>\n      <th>f2b_track_1.50</th>\n    </tr>\n  </thead>\n  <tbody>\n  </tbody>\n</table>\n<p>0 rows × 101 columns</p>\n</div>"
     },
     "execution_count": 33,
     "metadata": {},
     "output_type": "execute_result"
    }
   ],
   "source": [
    "df_ebw_metrics[(df_ebw_metrics['mediabase_id']==2436510) & (df_ebw_metrics['call_letters'] == 'KIIS-FM')].head(100)"
   ],
   "metadata": {
    "collapsed": false
   }
  },
  {
   "cell_type": "markdown",
   "source": [
    "### Analyze Favorite, DDL and F2B ratio"
   ],
   "metadata": {
    "collapsed": false
   }
  },
  {
   "cell_type": "code",
   "execution_count": 63,
   "outputs": [
    {
     "data": {
      "text/plain": "<Figure size 600x200 with 3 Axes>",
      "image/png": "[encoded data removed]"
     },
     "metadata": {},
     "output_type": "display_data"
    },
    {
     "data": {
      "text/plain": "<Figure size 600x200 with 3 Axes>",
      "image/png": "[encoded data removed]"
     },
     "metadata": {},
     "output_type": "display_data"
    },
    {
     "data": {
      "text/plain": "<Figure size 600x200 with 3 Axes>",
      "image/png": "[encoded data removed]"
     },
     "metadata": {},
     "output_type": "display_data"
    }
   ],
   "source": [
    "# Look a distribution of DDL and F2b for major formats\n",
    "for fmt in major_formats:\n",
    "    idx = (df_ebw_metrics['format_code']==fmt) & (~pd.isna(df_ebw_metrics['pop']))\n",
    "    fig = plt.figure(figsize=(6, 2))\n",
    "    ax1= plt.subplot(1,3,1)\n",
    "    df_ebw_metrics[idx]['fav_metric'].plot(ax=ax1, kind='hist', bins=np.arange(0,45,5))\n",
    "\n",
    "    ax2= plt.subplot(1,3,2)\n",
    "    df_ebw_metrics[idx]['ddl_metric'].plot(ax=ax2, kind='hist', bins=np.arange(0,45,5))\n",
    "\n",
    "    ax3=plt.subplot(1,3,3)\n",
    "    df_ebw_metrics[idx]['f2b_ratio'].plot(ax=ax3, kind='hist', bins=np.arange(0,20,0.5))\n",
    "\n",
    "    ax1.set_aspect(1/ax1.get_data_ratio())\n",
    "    ax2.set_aspect(1/ax2.get_data_ratio())\n",
    "    ax3.set_aspect(1/ax3.get_data_ratio())\n",
    "\n",
    "    plt.suptitle(fmt)\n",
    "    fig.tight_layout()\n",
    "    plt.show()"
   ],
   "metadata": {
    "collapsed": false
   }
  },
  {
   "cell_type": "markdown",
   "source": [
    "### What does burnout look like?"
   ],
   "metadata": {
    "collapsed": false
   }
  },
  {
   "cell_type": "code",
   "execution_count": 361,
   "outputs": [
    {
     "data": {
      "text/plain": "   mediabase_id                       song_name    artist_name  \\\n6       2706913                      Fancy Like   WALKER HAYES   \n1       2496571                   Don't Let Her   WALKER HAYES   \n4       2569833                  Hard To Forget       SAM HUNT   \n3       2537662                        Kinfolks       SAM HUNT   \n5       2585510  Breaking Up Was Easy In The...       SAM HUNT   \n7       2739937                              23       SAM HUNT   \n0       2466281           I Hope f/Charlie Puth  GABBY BARRETT   \n2       2512461                   The Good Ones  GABBY BARRETT   \n\n   cuml_spins_non_on song_release_date  \n6               2009        2021-06-01  \n1                211        2019-05-01  \n4               2116        2020-02-01  \n3               2066        2019-10-01  \n5               2024        2020-04-01  \n7               1902        2021-09-01  \n0               2610        2019-01-01  \n2               1404        2019-07-01  ",
      "text/html": "<div>\n<style scoped>\n    .dataframe tbody tr th:only-of-type {\n        vertical-align: middle;\n    }\n\n    .dataframe tbody tr th {\n        vertical-align: top;\n    }\n\n    .dataframe thead th {\n        text-align: right;\n    }\n</style>\n<table border=\"1\" class=\"dataframe\">\n  <thead>\n    <tr style=\"text-align: right;\">\n      <th></th>\n      <th>mediabase_id</th>\n      <th>song_name</th>\n      <th>artist_name</th>\n      <th>cuml_spins_non_on</th>\n      <th>song_release_date</th>\n    </tr>\n  </thead>\n  <tbody>\n    <tr>\n      <th>6</th>\n      <td>2706913</td>\n      <td>Fancy Like</td>\n      <td>WALKER HAYES</td>\n      <td>2009</td>\n      <td>2021-06-01</td>\n    </tr>\n    <tr>\n      <th>1</th>\n      <td>2496571</td>\n      <td>Don't Let Her</td>\n      <td>WALKER HAYES</td>\n      <td>211</td>\n      <td>2019-05-01</td>\n    </tr>\n    <tr>\n      <th>4</th>\n      <td>2569833</td>\n      <td>Hard To Forget</td>\n      <td>SAM HUNT</td>\n      <td>2116</td>\n      <td>2020-02-01</td>\n    </tr>\n    <tr>\n      <th>3</th>\n      <td>2537662</td>\n      <td>Kinfolks</td>\n      <td>SAM HUNT</td>\n      <td>2066</td>\n      <td>2019-10-01</td>\n    </tr>\n    <tr>\n      <th>5</th>\n      <td>2585510</td>\n      <td>Breaking Up Was Easy In The...</td>\n      <td>SAM HUNT</td>\n      <td>2024</td>\n      <td>2020-04-01</td>\n    </tr>\n    <tr>\n      <th>7</th>\n      <td>2739937</td>\n      <td>23</td>\n      <td>SAM HUNT</td>\n      <td>1902</td>\n      <td>2021-09-01</td>\n    </tr>\n    <tr>\n      <th>0</th>\n      <td>2466281</td>\n      <td>I Hope f/Charlie Puth</td>\n      <td>GABBY BARRETT</td>\n      <td>2610</td>\n      <td>2019-01-01</td>\n    </tr>\n    <tr>\n      <th>2</th>\n      <td>2512461</td>\n      <td>The Good Ones</td>\n      <td>GABBY BARRETT</td>\n      <td>1404</td>\n      <td>2019-07-01</td>\n    </tr>\n  </tbody>\n</table>\n</div>"
     },
     "execution_count": 361,
     "metadata": {},
     "output_type": "execute_result"
    }
   ],
   "source": [
    "# explore songs suggested by Marc\n",
    "artists = ['WALKER HAYES', 'SAM HUNT', 'GABBY BARRETT']\n",
    "#artists=['LUKE BRYAN']\n",
    "idx = (df_ebw_metrics['artist_name'].isin(artists)) & (df_ebw_metrics['weeks_since_release'] <= 104)\n",
    "df_ebw_metrics[idx].groupby (['mediabase_id', 'song_name', 'artist_name']).agg({'cuml_spins_non_on': np.max, 'song_release_date': np.min}).reset_index().sort_values(by=['artist_name', 'cuml_spins_non_on'], ascending=False)"
   ],
   "metadata": {
    "collapsed": false
   }
  },
  {
   "cell_type": "code",
   "execution_count": 362,
   "outputs": [],
   "source": [
    "songs_sample = ['Fancy Like', 'Hard To Forget', 'Kinfolks', 'Breaking Up Was Easy In The...', '23', 'The Good Ones', 'I Hope f/Charlie Puth']\n",
    "#songs_sample  = ['One Margarita']"
   ],
   "metadata": {
    "collapsed": false
   }
  },
  {
   "cell_type": "code",
   "execution_count": 363,
   "outputs": [],
   "source": [
    "idx = (df_ebw_metrics['ddl_track_16'] >= 2) & (df_ebw_metrics['format_code'] == 'C1') & (df_ebw_metrics['song_name'].isin(songs_sample))\n",
    "# idx = (df_ebw_metrics['f2b_track_1.15'] >= 2) & (df_ebw_metrics['format_code'] == 'C1') & (df_ebw_metrics['song_name'].isin(songs_sample))\n",
    "df_brn_temp = df_ebw_metrics.loc[idx].groupby(['format_code', 'call_letters', 'mediabase_id']).agg({'week_dt': np.min})"
   ],
   "metadata": {
    "collapsed": false
   }
  },
  {
   "cell_type": "code",
   "execution_count": 364,
   "outputs": [],
   "source": [
    "df_brn_instances = df_ebw_metrics.join(df_brn_temp, on=['format_code', 'call_letters', 'mediabase_id'], how='inner', rsuffix='_r')[['mediabase_id', 'call_letters', 'week_dt', 'song_name', 'artist_name', 'pop', 'ddl_metric', 'fav_metric', 'f2b_ratio', 'spins_non_on', 'cuml_spins_non_on', 'MarketSpinsToDate', 'stream_count', 'propn_market_spins']]"
   ],
   "metadata": {
    "collapsed": false
   }
  },
  {
   "cell_type": "code",
   "execution_count": 365,
   "outputs": [],
   "source": [
    "song_artist_pairs = [(i,j) for (i,j) in list(df_brn_instances[['mediabase_id', 'call_letters']].drop_duplicates().values)]"
   ],
   "metadata": {
    "collapsed": false
   }
  },
  {
   "cell_type": "code",
   "execution_count": 366,
   "outputs": [
    {
     "data": {
      "text/plain": "40"
     },
     "execution_count": 366,
     "metadata": {},
     "output_type": "execute_result"
    }
   ],
   "source": [
    "len(song_artist_pairs)"
   ],
   "metadata": {
    "collapsed": false
   }
  },
  {
   "cell_type": "code",
   "execution_count": 368,
   "outputs": [],
   "source": [
    "# Inspect Data for Gabby Barrett (I Hope f/Charlie Puth)\n",
    "for i in song_artist_pairs:\n",
    "    fig = plt.gcf()\n",
    "    fig.set_size_inches(9,4.5)\n",
    "    ax = plt.subplot(1,2,1)\n",
    "    df_brn_instances[(df_brn_instances['call_letters'] == i[1]) & (df_brn_instances['mediabase_id'] == i[0])].set_index(['week_dt'])['spins_non_on'].rolling(2).mean().plot(ax=ax, marker='^', color='orange')\n",
    "\n",
    "\n",
    "    # df_brn_instances[(df_brn_instances['call_letters'] == 'WPGB-FM') & (df_brn_instances['mediabase_id'] == 2466281)].set_index(['week_dt'])['stream_count']plot(ax=ax, marker='^', color='orange')\n",
    "    ax1=ax.twinx()\n",
    "    df_brn_instances[(df_brn_instances['call_letters'] == i[1]) & (df_brn_instances['mediabase_id'] == i[0]) & (~pd.isna(df_brn_instances['pop']))].set_index(['week_dt'])['ddl_metric'].plot(ax=ax1, marker='o', label='DDL')\n",
    "    #ax1.set_ylim([0, 25])\n",
    "    ax.legend(loc='upper right',bbox_to_anchor=(1,1.1))\n",
    "    ax1.legend(loc='upper left',bbox_to_anchor=(0,1.1))\n",
    "    ax.set_ylim([-10, 70])\n",
    "\n",
    "    ax.set_aspect(1/ax.get_data_ratio())\n",
    "\n",
    "    # ax = plt.subplot(2,2,2)\n",
    "    # df_brn_instances[(df_brn_instances['call_letters'] == i[1]) & (df_brn_instances['mediabase_id'] == i[0])].set_index(['week_dt'])['propn_market_spins'].rolling(1).mean().plot(ax=ax, marker='^', color='orange')\n",
    "    #\n",
    "    # ax1=ax.twinx()\n",
    "    # df_brn_instances[(df_brn_instances['call_letters'] == i[1]) & (df_brn_instances['mediabase_id'] == i[0]) & (~pd.isna(df_brn_instances['pop']))].set_index(['week_dt'])['ddl_metric'].plot(ax=ax1, marker='o', label='DDL')\n",
    "    # ax1.set_ylim([0, 25])\n",
    "    # plt.legend(['market spins', 'DDL'])\n",
    "    # ax.legend(loc='upper right',bbox_to_anchor=(1,1.1))\n",
    "    # ax1.legend(loc='upper left',bbox_to_anchor=(0,1.1))\n",
    "    #\n",
    "    # ax = plt.subplot(2,2,3)\n",
    "    # df_brn_instances[(df_brn_instances['call_letters'] == i[1]) & (df_brn_instances['mediabase_id'] == i[0])].set_index(['week_dt'])['stream_count'].rolling(1).mean().plot(ax=ax, marker='^', color='orange')\n",
    "    #\n",
    "    # ax1=ax.twinx()\n",
    "    # df_brn_instances[(df_brn_instances['call_letters'] == i[1]) & (df_brn_instances['mediabase_id'] == i[0]) & (~pd.isna(df_brn_instances['pop']))].set_index(['week_dt'])['ddl_metric'].plot(ax=ax1, marker='o', label='DDL')\n",
    "    # ax1.set_ylim([0, 25])\n",
    "    # plt.legend(['stream count', 'DDL'])\n",
    "    # ax.legend(loc='upper right',bbox_to_anchor=(1,1.1))\n",
    "    # ax1.legend(loc='upper left',bbox_to_anchor=(0,1.1))\n",
    "\n",
    "    ax = plt.subplot(1,2,2)\n",
    "    df_brn_instances[(df_brn_instances['call_letters'] == i[1]) & (df_brn_instances['mediabase_id'] == i[0]) & (~pd.isna(df_brn_instances['pop']))].set_index(['week_dt'])['pop'].rolling(1).mean().plot(ax=ax, marker='^', color='orange', label='POP')\n",
    "\n",
    "    ax1=ax.twinx()\n",
    "    df_brn_instances[(df_brn_instances['call_letters'] == i[1]) & (df_brn_instances['mediabase_id'] == i[0]) & (~pd.isna(df_brn_instances['pop']))].set_index(['week_dt'])['ddl_metric'].plot(ax=ax1, marker='o', label='DDL')\n",
    "    #ax1.set_ylim([0, 25])\n",
    "    plt.legend()\n",
    "    ax.legend(loc='upper right',bbox_to_anchor=(1,1.1))\n",
    "    ax1.legend(loc='upper left',bbox_to_anchor=(0,1.1))\n",
    "    ax.set_ylim([60, 120])\n",
    "    ax.set_aspect(1/ax.get_data_ratio())\n",
    "\n",
    "    plt.suptitle(df_ebw_metrics[df_ebw_metrics['mediabase_id'] == i[0]]['song_name'].drop_duplicates().iloc[0] + ' (' + df_ebw_metrics[df_ebw_metrics['mediabase_id'] == i[0]]['artist_name'].drop_duplicates().iloc[0] + ') @ ' + i[1])\n",
    "    plt.tight_layout()\n",
    "    plt.savefig(os.getcwd() + '/img/' + df_ebw_metrics[df_ebw_metrics['mediabase_id'] == i[0]]['song_name'].drop_duplicates().iloc[0].replace('/', '_') + '_' + df_ebw_metrics[df_ebw_metrics['mediabase_id'] == i[0]]['artist_name'].drop_duplicates().iloc[0] + '_' + i[1] + '_f2b.jpeg', format='jpeg', dpi=300)\n",
    "    plt.close()"
   ],
   "metadata": {
    "collapsed": false
   }
  },
  {
   "cell_type": "code",
   "execution_count": 42,
   "outputs": [],
   "source": [
    "# Plot pop/ddl/fav, f2b, spins(weekly, market), streams"
   ],
   "metadata": {
    "collapsed": false
   }
  },
  {
   "cell_type": "markdown",
   "source": [
    "### Analyze candidate population for burnout analysis"
   ],
   "metadata": {
    "collapsed": false
   }
  },
  {
   "cell_type": "code",
   "execution_count": 14,
   "outputs": [
    {
     "ename": "KeyError",
     "evalue": "'num_top_quintile'",
     "output_type": "error",
     "traceback": [
      "\u001B[0;31m---------------------------------------------------------------------------\u001B[0m",
      "\u001B[0;31mKeyError\u001B[0m                                  Traceback (most recent call last)",
      "\u001B[0;32m~/Documents/GitHub/adds-early-burnout-warning-model/venv/lib/python3.7/site-packages/pandas/core/indexes/base.py\u001B[0m in \u001B[0;36mget_loc\u001B[0;34m(self, key, method, tolerance)\u001B[0m\n\u001B[1;32m   2897\u001B[0m             \u001B[0;32mtry\u001B[0m\u001B[0;34m:\u001B[0m\u001B[0;34m\u001B[0m\u001B[0;34m\u001B[0m\u001B[0m\n\u001B[0;32m-> 2898\u001B[0;31m                 \u001B[0;32mreturn\u001B[0m \u001B[0mself\u001B[0m\u001B[0;34m.\u001B[0m\u001B[0m_engine\u001B[0m\u001B[0;34m.\u001B[0m\u001B[0mget_loc\u001B[0m\u001B[0;34m(\u001B[0m\u001B[0mcasted_key\u001B[0m\u001B[0;34m)\u001B[0m\u001B[0;34m\u001B[0m\u001B[0;34m\u001B[0m\u001B[0m\n\u001B[0m\u001B[1;32m   2899\u001B[0m             \u001B[0;32mexcept\u001B[0m \u001B[0mKeyError\u001B[0m \u001B[0;32mas\u001B[0m \u001B[0merr\u001B[0m\u001B[0;34m:\u001B[0m\u001B[0;34m\u001B[0m\u001B[0;34m\u001B[0m\u001B[0m\n",
      "\u001B[0;32mpandas/_libs/index.pyx\u001B[0m in \u001B[0;36mpandas._libs.index.IndexEngine.get_loc\u001B[0;34m()\u001B[0m\n",
      "\u001B[0;32mpandas/_libs/index.pyx\u001B[0m in \u001B[0;36mpandas._libs.index.IndexEngine.get_loc\u001B[0;34m()\u001B[0m\n",
      "\u001B[0;32mpandas/_libs/hashtable_class_helper.pxi\u001B[0m in \u001B[0;36mpandas._libs.hashtable.PyObjectHashTable.get_item\u001B[0;34m()\u001B[0m\n",
      "\u001B[0;32mpandas/_libs/hashtable_class_helper.pxi\u001B[0m in \u001B[0;36mpandas._libs.hashtable.PyObjectHashTable.get_item\u001B[0;34m()\u001B[0m\n",
      "\u001B[0;31mKeyError\u001B[0m: 'num_top_quintile'",
      "\nThe above exception was the direct cause of the following exception:\n",
      "\u001B[0;31mKeyError\u001B[0m                                  Traceback (most recent call last)",
      "\u001B[0;32m/var/folders/kt/bsj56gs152d_8fz3jclnl1440000gq/T/ipykernel_1562/2744183829.py\u001B[0m in \u001B[0;36m<module>\u001B[0;34m\u001B[0m\n\u001B[0;32m----> 1\u001B[0;31m \u001B[0mdf_hits\u001B[0m \u001B[0;34m=\u001B[0m \u001B[0mdf_ebw_metrics\u001B[0m\u001B[0;34m.\u001B[0m\u001B[0mjoin\u001B[0m\u001B[0;34m(\u001B[0m\u001B[0mdf_ebw_metrics\u001B[0m\u001B[0;34m[\u001B[0m\u001B[0mdf_ebw_metrics\u001B[0m\u001B[0;34m[\u001B[0m\u001B[0;34m'num_top_quintile'\u001B[0m\u001B[0;34m]\u001B[0m \u001B[0;34m>=\u001B[0m\u001B[0;36m2\u001B[0m\u001B[0;34m]\u001B[0m\u001B[0;34m.\u001B[0m\u001B[0mgroupby\u001B[0m\u001B[0;34m(\u001B[0m\u001B[0;34m[\u001B[0m\u001B[0;34m'format_code'\u001B[0m\u001B[0;34m,\u001B[0m \u001B[0;34m'call_letters'\u001B[0m\u001B[0;34m,\u001B[0m \u001B[0;34m'mediabase_id'\u001B[0m\u001B[0;34m]\u001B[0m\u001B[0;34m)\u001B[0m\u001B[0;34m.\u001B[0m\u001B[0magg\u001B[0m\u001B[0;34m(\u001B[0m\u001B[0;34m{\u001B[0m\u001B[0;34m'week_dt'\u001B[0m\u001B[0;34m:\u001B[0m \u001B[0mnp\u001B[0m\u001B[0;34m.\u001B[0m\u001B[0mmin\u001B[0m\u001B[0;34m,\u001B[0m \u001B[0;34m'weeks_since_release'\u001B[0m\u001B[0;34m:\u001B[0m \u001B[0mnp\u001B[0m\u001B[0;34m.\u001B[0m\u001B[0mmin\u001B[0m\u001B[0;34m,\u001B[0m \u001B[0;34m'cuml_spins_non_on'\u001B[0m\u001B[0;34m:\u001B[0m \u001B[0mnp\u001B[0m\u001B[0;34m.\u001B[0m\u001B[0mmin\u001B[0m\u001B[0;34m}\u001B[0m\u001B[0;34m)\u001B[0m\u001B[0;34m,\u001B[0m \u001B[0mhow\u001B[0m\u001B[0;34m=\u001B[0m\u001B[0;34m'right'\u001B[0m\u001B[0;34m,\u001B[0m \u001B[0mon\u001B[0m \u001B[0;34m=\u001B[0m \u001B[0;34m[\u001B[0m\u001B[0;34m'format_code'\u001B[0m\u001B[0;34m,\u001B[0m \u001B[0;34m'call_letters'\u001B[0m\u001B[0;34m,\u001B[0m \u001B[0;34m'mediabase_id'\u001B[0m\u001B[0;34m]\u001B[0m\u001B[0;34m,\u001B[0m \u001B[0mrsuffix\u001B[0m\u001B[0;34m=\u001B[0m\u001B[0;34m'_r'\u001B[0m\u001B[0;34m)\u001B[0m\u001B[0;34m\u001B[0m\u001B[0;34m\u001B[0m\u001B[0m\n\u001B[0m",
      "\u001B[0;32m~/Documents/GitHub/adds-early-burnout-warning-model/venv/lib/python3.7/site-packages/pandas/core/frame.py\u001B[0m in \u001B[0;36m__getitem__\u001B[0;34m(self, key)\u001B[0m\n\u001B[1;32m   2904\u001B[0m             \u001B[0;32mif\u001B[0m \u001B[0mself\u001B[0m\u001B[0;34m.\u001B[0m\u001B[0mcolumns\u001B[0m\u001B[0;34m.\u001B[0m\u001B[0mnlevels\u001B[0m \u001B[0;34m>\u001B[0m \u001B[0;36m1\u001B[0m\u001B[0;34m:\u001B[0m\u001B[0;34m\u001B[0m\u001B[0;34m\u001B[0m\u001B[0m\n\u001B[1;32m   2905\u001B[0m                 \u001B[0;32mreturn\u001B[0m \u001B[0mself\u001B[0m\u001B[0;34m.\u001B[0m\u001B[0m_getitem_multilevel\u001B[0m\u001B[0;34m(\u001B[0m\u001B[0mkey\u001B[0m\u001B[0;34m)\u001B[0m\u001B[0;34m\u001B[0m\u001B[0;34m\u001B[0m\u001B[0m\n\u001B[0;32m-> 2906\u001B[0;31m             \u001B[0mindexer\u001B[0m \u001B[0;34m=\u001B[0m \u001B[0mself\u001B[0m\u001B[0;34m.\u001B[0m\u001B[0mcolumns\u001B[0m\u001B[0;34m.\u001B[0m\u001B[0mget_loc\u001B[0m\u001B[0;34m(\u001B[0m\u001B[0mkey\u001B[0m\u001B[0;34m)\u001B[0m\u001B[0;34m\u001B[0m\u001B[0;34m\u001B[0m\u001B[0m\n\u001B[0m\u001B[1;32m   2907\u001B[0m             \u001B[0;32mif\u001B[0m \u001B[0mis_integer\u001B[0m\u001B[0;34m(\u001B[0m\u001B[0mindexer\u001B[0m\u001B[0;34m)\u001B[0m\u001B[0;34m:\u001B[0m\u001B[0;34m\u001B[0m\u001B[0;34m\u001B[0m\u001B[0m\n\u001B[1;32m   2908\u001B[0m                 \u001B[0mindexer\u001B[0m \u001B[0;34m=\u001B[0m \u001B[0;34m[\u001B[0m\u001B[0mindexer\u001B[0m\u001B[0;34m]\u001B[0m\u001B[0;34m\u001B[0m\u001B[0;34m\u001B[0m\u001B[0m\n",
      "\u001B[0;32m~/Documents/GitHub/adds-early-burnout-warning-model/venv/lib/python3.7/site-packages/pandas/core/indexes/base.py\u001B[0m in \u001B[0;36mget_loc\u001B[0;34m(self, key, method, tolerance)\u001B[0m\n\u001B[1;32m   2898\u001B[0m                 \u001B[0;32mreturn\u001B[0m \u001B[0mself\u001B[0m\u001B[0;34m.\u001B[0m\u001B[0m_engine\u001B[0m\u001B[0;34m.\u001B[0m\u001B[0mget_loc\u001B[0m\u001B[0;34m(\u001B[0m\u001B[0mcasted_key\u001B[0m\u001B[0;34m)\u001B[0m\u001B[0;34m\u001B[0m\u001B[0;34m\u001B[0m\u001B[0m\n\u001B[1;32m   2899\u001B[0m             \u001B[0;32mexcept\u001B[0m \u001B[0mKeyError\u001B[0m \u001B[0;32mas\u001B[0m \u001B[0merr\u001B[0m\u001B[0;34m:\u001B[0m\u001B[0;34m\u001B[0m\u001B[0;34m\u001B[0m\u001B[0m\n\u001B[0;32m-> 2900\u001B[0;31m                 \u001B[0;32mraise\u001B[0m \u001B[0mKeyError\u001B[0m\u001B[0;34m(\u001B[0m\u001B[0mkey\u001B[0m\u001B[0;34m)\u001B[0m \u001B[0;32mfrom\u001B[0m \u001B[0merr\u001B[0m\u001B[0;34m\u001B[0m\u001B[0;34m\u001B[0m\u001B[0m\n\u001B[0m\u001B[1;32m   2901\u001B[0m \u001B[0;34m\u001B[0m\u001B[0m\n\u001B[1;32m   2902\u001B[0m         \u001B[0;32mif\u001B[0m \u001B[0mtolerance\u001B[0m \u001B[0;32mis\u001B[0m \u001B[0;32mnot\u001B[0m \u001B[0;32mNone\u001B[0m\u001B[0;34m:\u001B[0m\u001B[0;34m\u001B[0m\u001B[0;34m\u001B[0m\u001B[0m\n",
      "\u001B[0;31mKeyError\u001B[0m: 'num_top_quintile'"
     ]
    }
   ],
   "source": [
    "df_hits = df_ebw_metrics.join(df_ebw_metrics[df_ebw_metrics['num_top_quintile'] >=2].groupby(['format_code', 'call_letters', 'mediabase_id']).agg({'week_dt': np.min, 'weeks_since_release': np.min, 'cuml_spins_non_on': np.min}), how='right', on = ['format_code', 'call_letters', 'mediabase_id'], rsuffix='_r')"
   ],
   "metadata": {
    "collapsed": false
   }
  },
  {
   "cell_type": "markdown",
   "source": [
    "#### late hits analysis"
   ],
   "metadata": {
    "collapsed": false
   }
  },
  {
   "cell_type": "code",
   "execution_count": 43,
   "outputs": [],
   "source": [
    "col_names = ['format_code', 'mediabase_id', 'call_letters', 'week_dt', 'song_name', 'artist_name', 'num_top_quintile', 'week_dt_r', 'cuml_spins_non_on', 'cuml_spins_non_on_r']\n",
    "spins_cutoff = 1000\n",
    "idx = (df_hits['format_code'].isin(major_formats)) & (df_hits['cuml_spins_non_on_r'] >= spins_cutoff)\n",
    "df_late_hits = df_hits.loc[idx][col_names]"
   ],
   "metadata": {
    "collapsed": false
   }
  },
  {
   "cell_type": "code",
   "execution_count": 49,
   "outputs": [],
   "source": [
    "grp_cols = ['format_code', 'call_letters', 'mediabase_id', 'song_name', 'artist_name', 'week_dt_r', 'cuml_spins_non_on_r']\n",
    "idx = df_late_hits['num_top_quintile'] >= 1.0\n",
    "df_late_hits_summ = df_late_hits.loc[idx].groupby(grp_cols).agg({'week_dt': np.min, 'cuml_spins_non_on': np.min}).reset_index()"
   ],
   "metadata": {
    "collapsed": false
   }
  },
  {
   "cell_type": "code",
   "execution_count": 60,
   "outputs": [],
   "source": [
    "format_name = {'C1' : 'Country', 'H1': 'Top_40', 'U1': 'Urban_Contemporary'}\n",
    "with pd.ExcelWriter('LateHits.xlsx') as writer:\n",
    "    for fmt in major_formats:\n",
    "        idx = df_late_hits_summ['format_code'] == fmt\n",
    "        df_late_hits_summ.loc[idx].to_excel(writer, sheet_name=format_name[fmt])"
   ],
   "metadata": {
    "collapsed": false
   }
  },
  {
   "cell_type": "markdown",
   "source": [
    "#### end of late hits analysis"
   ],
   "metadata": {
    "collapsed": false
   }
  },
  {
   "cell_type": "code",
   "execution_count": 35,
   "outputs": [
    {
     "data": {
      "text/plain": "        call_letters  mediabase_id\n425          KDGE-FM       2466281\n8315         KDGE-FM       2475394\n26839        KDGE-FM       2495830\n39336        KDGE-FM       2506820\n74409        KDGE-FM       2522450\n...              ...           ...\n1063292      WJMN-FM       2723707\n1063435      WJMN-FM       2727194\n1202455      WJMN-FM       2739037\n1202471      WJMN-FM       2739232\n1334847      WJMN-FM       2769933\n\n[4733 rows x 2 columns]",
      "text/html": "<div>\n<style scoped>\n    .dataframe tbody tr th:only-of-type {\n        vertical-align: middle;\n    }\n\n    .dataframe tbody tr th {\n        vertical-align: top;\n    }\n\n    .dataframe thead th {\n        text-align: right;\n    }\n</style>\n<table border=\"1\" class=\"dataframe\">\n  <thead>\n    <tr style=\"text-align: right;\">\n      <th></th>\n      <th>call_letters</th>\n      <th>mediabase_id</th>\n    </tr>\n  </thead>\n  <tbody>\n    <tr>\n      <th>425</th>\n      <td>KDGE-FM</td>\n      <td>2466281</td>\n    </tr>\n    <tr>\n      <th>8315</th>\n      <td>KDGE-FM</td>\n      <td>2475394</td>\n    </tr>\n    <tr>\n      <th>26839</th>\n      <td>KDGE-FM</td>\n      <td>2495830</td>\n    </tr>\n    <tr>\n      <th>39336</th>\n      <td>KDGE-FM</td>\n      <td>2506820</td>\n    </tr>\n    <tr>\n      <th>74409</th>\n      <td>KDGE-FM</td>\n      <td>2522450</td>\n    </tr>\n    <tr>\n      <th>...</th>\n      <td>...</td>\n      <td>...</td>\n    </tr>\n    <tr>\n      <th>1063292</th>\n      <td>WJMN-FM</td>\n      <td>2723707</td>\n    </tr>\n    <tr>\n      <th>1063435</th>\n      <td>WJMN-FM</td>\n      <td>2727194</td>\n    </tr>\n    <tr>\n      <th>1202455</th>\n      <td>WJMN-FM</td>\n      <td>2739037</td>\n    </tr>\n    <tr>\n      <th>1202471</th>\n      <td>WJMN-FM</td>\n      <td>2739232</td>\n    </tr>\n    <tr>\n      <th>1334847</th>\n      <td>WJMN-FM</td>\n      <td>2769933</td>\n    </tr>\n  </tbody>\n</table>\n<p>4733 rows × 2 columns</p>\n</div>"
     },
     "execution_count": 35,
     "metadata": {},
     "output_type": "execute_result"
    }
   ],
   "source": [
    "df_hits[['call_letters', 'mediabase_id']].drop_duplicates()"
   ],
   "metadata": {
    "collapsed": false
   }
  },
  {
   "cell_type": "code",
   "execution_count": 36,
   "outputs": [],
   "source": [
    "df_hits['hit_spins_bucket'] = pd.cut(df_hits['cuml_spins_non_on_r'],bins=pd.interval_range(50, 100*(int(np.max(df_hits['cuml_spins_non_on_r'])/100) + 1), freq=100))"
   ],
   "metadata": {
    "collapsed": false
   }
  },
  {
   "cell_type": "code",
   "execution_count": 37,
   "outputs": [
    {
     "data": {
      "text/plain": "format_code  hit_spins_bucket\nA1           (50, 150]           25\n             (150, 250]          52\n             (250, 350]          32\n             (350, 450]          25\n             (450, 550]          16\n                                 ..\nY0           (2350, 2450]         1\n             (2550, 2650]         1\n             (2750, 2850]         1\n             (2950, 3050]         1\n             (3150, 3250]         1\nLength: 220, dtype: int64"
     },
     "execution_count": 37,
     "metadata": {},
     "output_type": "execute_result"
    }
   ],
   "source": [
    "df_hits.groupby(['format_code', 'hit_spins_bucket']).apply(lambda x: len(x[['call_letters', 'mediabase_id']].drop_duplicates()))"
   ],
   "metadata": {
    "collapsed": false
   }
  },
  {
   "cell_type": "code",
   "execution_count": 68,
   "outputs": [
    {
     "name": "stdout",
     "output_type": "stream",
     "text": [
      "2.13\n"
     ]
    },
    {
     "data": {
      "text/plain": "<Figure size 900x300 with 3 Axes>",
      "image/png": "[encoded data removed]"
     },
     "metadata": {},
     "output_type": "display_data"
    },
    {
     "name": "stdout",
     "output_type": "stream",
     "text": [
      "1.09\n"
     ]
    },
    {
     "data": {
      "text/plain": "<Figure size 900x300 with 3 Axes>",
      "image/png": "[encoded data removed]"
     },
     "metadata": {},
     "output_type": "display_data"
    },
    {
     "name": "stdout",
     "output_type": "stream",
     "text": [
      "2.45\n"
     ]
    },
    {
     "data": {
      "text/plain": "<Figure size 900x300 with 3 Axes>",
      "image/png": "[encoded data removed]"
     },
     "metadata": {},
     "output_type": "display_data"
    }
   ],
   "source": [
    "# Look a distribution of DDL and F2b for major formats\n",
    "for fmt in major_formats:\n",
    "    idx = (df_hits['format_code']==fmt) & (~pd.isna(df_hits['pop']))\n",
    "    fig = plt.figure(figsize=(9, 3))\n",
    "    ax1= plt.subplot(1,3,1)\n",
    "    df_hits[idx]['fav_metric'].plot(ax=ax1, kind='hist', bins=np.arange(0,45,5))\n",
    "    ax1.text(y= 5000, x= 10, s='[' + str(np.quantile(df_hits[idx]['fav_metric'], 0.90)) + ',' + str(np.max(df_hits[idx]['fav_metric'])) + ']')\n",
    "\n",
    "    ax2= plt.subplot(1,3,2)\n",
    "    df_hits[idx]['ddl_metric'].plot(ax=ax2, kind='hist', bins=np.arange(0,45,5))\n",
    "    ax2.text(y= 5000, x= 10, s='[' + str(np.quantile(df_hits[idx]['ddl_metric'], 0.90)) + ',' + str(np.max(df_hits[idx]['ddl_metric'])) + ']')\n",
    "\n",
    "    ax3=plt.subplot(1,3,3)\n",
    "    print(np.nanpercentile(df_hits[idx]['f2b_ratio'], 20))\n",
    "    df_hits[idx]['f2b_ratio'].plot(ax=ax3, kind='hist', bins=np.arange(0,20,0.5))\n",
    "\n",
    "\n",
    "    ax1.set_aspect(1/ax1.get_data_ratio())\n",
    "    ax2.set_aspect(1/ax2.get_data_ratio())\n",
    "    ax3.set_aspect(1/ax3.get_data_ratio())\n",
    "\n",
    "    plt.suptitle(fmt)\n",
    "    fig.tight_layout()\n",
    "    plt.show()"
   ],
   "metadata": {
    "collapsed": false
   }
  },
  {
   "cell_type": "code",
   "execution_count": 69,
   "outputs": [
    {
     "data": {
      "text/plain": "<Figure size 900x300 with 3 Axes>",
      "image/png": "[encoded data removed]"
     },
     "metadata": {},
     "output_type": "display_data"
    }
   ],
   "source": [
    "f2b_dict = {'C1': 1.5, 'H1': 1, 'U1': 1.5}\n",
    "fav_dict = {'C1': 12, 'H1': 15, 'U1': 15}\n",
    "idx = (df_hits['f2b_ratio'] <= f2b_dict[df_hits['format_code'][0]]) & (df_hits['format_code'].isin(major_formats))\n",
    "df_hits.loc[idx].groupby(['format_code']).agg({'fav_metric': {np.min, np.mean, np.max}})\n",
    "\n",
    "df_hits_grp = df_hits.loc[idx].groupby(['format_code'])\n",
    "fig,axs=plt.subplots(1,3,sharex=True)\n",
    "fig.set_size_inches(9,3)\n",
    "plt_counter = 0\n",
    "for grp in df_hits_grp.groups:\n",
    "    # print(grp)\n",
    "    # print(pd.DataFrame(df_hits_grp.get_group(grp)['fav_metric']).apply(lambda x: x >= 10, axis=1).sum()/len(df_hits_grp.get_group(grp)['fav_metric']))\n",
    "    df_hits_grp.get_group(grp)['fav_metric'].plot(kind='hist', alpha=0.5, ax=axs[plt_counter])\n",
    "    axs[plt_counter].text(x=10, y=axs[plt_counter].get_ylim()[1]/2, s='%.0f'%((pd.DataFrame(df_hits_grp.get_group(grp)['fav_metric']).apply(lambda x: x >= fav_dict[grp], axis=1).sum()/(0.01*len(df_hits_grp.get_group(grp)['fav_metric'])))[0]))\n",
    "    axs[plt_counter].axvline(fav_dict[grp], linestyle='--')\n",
    "    axs[plt_counter].set_title(grp)\n",
    "    plt_counter = plt_counter + 1\n",
    "\n",
    "for i in range(len(axs)):\n",
    "    axs[i].set_aspect(1/axs[i].get_data_ratio())\n",
    "\n",
    "plt.suptitle('Distribution of FAV for hits at low F2B levels')\n",
    "plt.tight_layout()\n",
    "\n",
    "plt.savefig(os.getcwd() + '/img/fav_dist_low_f2b.jpeg', format='jpeg', dpi=300)"
   ],
   "metadata": {
    "collapsed": false
   }
  },
  {
   "cell_type": "code",
   "execution_count": 70,
   "outputs": [],
   "source": [
    "df_hits_brn = df_hits.join(df_hits[(df_hits['ddl_track_16'] >= 2) & (df_hits['week_dt'] > df_hits['week_dt_r'])].groupby(['format_code', 'call_letters', 'mediabase_id']).agg({'week_dt': np.min, 'weeks_since_release': np.min, 'cuml_spins_non_on':np.min}), how='right', on = ['format_code', 'call_letters', 'mediabase_id'], rsuffix='_brn')"
   ],
   "metadata": {
    "collapsed": false
   }
  },
  {
   "cell_type": "code",
   "execution_count": 71,
   "outputs": [],
   "source": [
    "df_hits_brn_h1 = df_hits.join(df_hits[(df_hits['ddl_track_20'] >= 2) & (df_hits['week_dt'] > df_hits['week_dt_r'])].groupby(['format_code', 'call_letters', 'mediabase_id']).agg({'week_dt': np.min, 'weeks_since_release': np.min, 'cuml_spins_non_on':np.min}), how='right', on = ['format_code', 'call_letters', 'mediabase_id'], rsuffix='_brn')"
   ],
   "metadata": {
    "collapsed": false
   }
  },
  {
   "cell_type": "code",
   "execution_count": 72,
   "outputs": [],
   "source": [
    "df_hits_brn_f2b = df_hits.join(df_hits[(df_hits['f2b_track_1.00'] >= 2) & (df_hits['week_dt'] > df_hits['week_dt_r'])].groupby(['format_code', 'call_letters', 'mediabase_id']).agg({'week_dt': np.min, 'weeks_since_release': np.min, 'cuml_spins_non_on':np.min}), how='right', on = ['format_code', 'call_letters', 'mediabase_id'], rsuffix='_brn')"
   ],
   "metadata": {
    "collapsed": false
   }
  },
  {
   "cell_type": "code",
   "execution_count": 73,
   "outputs": [
    {
     "data": {
      "text/plain": "Index(['week_dt', 'mediabase_id', 'song_id', 'call_letters', 'format_code',\n       'song_release_date', 'last_callout_date', 'first_spin_date',\n       'StartDate', 'EndDate',\n       ...\n       'f2b_track_1.45', 'f2b_leq_1.50', 'f2b_track_1.50', 'week_dt_r',\n       'weeks_since_release_r', 'cuml_spins_non_on_r', 'hit_spins_bucket',\n       'week_dt_brn', 'weeks_since_release_brn', 'cuml_spins_non_on_brn'],\n      dtype='object', length=108)"
     },
     "execution_count": 73,
     "metadata": {},
     "output_type": "execute_result"
    }
   ],
   "source": [
    "df_hits_brn.columns"
   ],
   "metadata": {
    "collapsed": false
   }
  },
  {
   "cell_type": "code",
   "execution_count": 74,
   "outputs": [],
   "source": [
    "fn1=lambda x: np.mean(x['week_dt_brn'] - x['week_dt_r'])/np.timedelta64(1, 'W')\n",
    "fn2=lambda x: np.mean(x['cuml_spins_non_on_brn'] - x['cuml_spins_non_on_r'])\n",
    "fn3=lambda x: len(x[['call_letters', 'mediabase_id']].drop_duplicates())\n",
    "\n",
    "\n",
    "grp_cols = ['format_code', 'hit_spins_bucket']\n",
    "df_time_to_burn = pd.DataFrame(df_hits.groupby(grp_cols).apply(fn3), columns=['total_instances']).join(pd.DataFrame(df_hits_brn.groupby(grp_cols).apply(fn3), columns=['burnout_instance']).join(pd.DataFrame(df_hits_brn.groupby(['format_code', 'hit_spins_bucket']).apply(fn1), columns=['diff_weeks']).join(pd.DataFrame(df_hits_brn.groupby(['format_code', 'hit_spins_bucket']).apply(fn2), columns=['diff_spins']), rsuffix='_r')).join(pd.DataFrame(df_hits_brn.groupby(['format_code', 'hit_spins_bucket']).apply(lambda x: np.mean(x['cuml_spins_non_on_brn'])), columns=['cuml_spins']), rsuffix='_r'))"
   ],
   "metadata": {
    "collapsed": false
   }
  },
  {
   "cell_type": "code",
   "execution_count": 75,
   "outputs": [
    {
     "data": {
      "text/plain": "                              total_instances  burnout_instance  diff_weeks  \\\nformat_code hit_spins_bucket                                                  \nC1          (50, 150]                       6               NaN         NaN   \n            (150, 250]                     51               3.0   40.679688   \n            (250, 350]                     82              11.0   60.734917   \n            (350, 450]                    139              19.0   38.484671   \n            (450, 550]                    160              25.0   47.396648   \n            (550, 650]                    159              13.0   36.616972   \n            (650, 750]                    113              25.0   24.926963   \n            (750, 850]                    110              16.0   26.951491   \n            (850, 950]                     90              12.0   27.693015   \n            (950, 1050]                    42               6.0   26.337531   \n            (1050, 1150]                   31               4.0   12.859100   \n            (1150, 1250]                   22               2.0    5.204545   \n            (1250, 1350]                   15               2.0    1.000000   \n            (1350, 1450]                    7               NaN         NaN   \n            (1450, 1550]                    2               1.0    1.000000   \n            (1550, 1650]                    5               NaN         NaN   \n            (1650, 1750]                    2               NaN         NaN   \n            (2050, 2150]                    1               1.0    1.000000   \n\n                               diff_spins   cuml_spins  \nformat_code hit_spins_bucket                            \nC1          (50, 150]                 NaN          NaN  \n            (150, 250]        1331.205078  1513.480469  \n            (250, 350]        1307.294608  1604.451861  \n            (350, 450]        1054.726027  1457.561644  \n            (450, 550]         989.584828  1494.869156  \n            (550, 650]         765.687615  1364.182569  \n            (650, 750]         617.397806  1322.492494  \n            (750, 850]         547.136182  1352.659546  \n            (850, 950]         552.284926  1452.644761  \n            (950, 1050]        659.992443  1670.021411  \n            (1050, 1150]       193.718200  1279.675147  \n            (1150, 1250]        36.602273  1249.431818  \n            (1250, 1350]        10.641509  1290.509434  \n            (1350, 1450]              NaN          NaN  \n            (1450, 1550]        17.000000  1543.000000  \n            (1550, 1650]              NaN          NaN  \n            (1650, 1750]              NaN          NaN  \n            (2050, 2150]        18.000000  2131.000000  ",
      "text/html": "<div>\n<style scoped>\n    .dataframe tbody tr th:only-of-type {\n        vertical-align: middle;\n    }\n\n    .dataframe tbody tr th {\n        vertical-align: top;\n    }\n\n    .dataframe thead th {\n        text-align: right;\n    }\n</style>\n<table border=\"1\" class=\"dataframe\">\n  <thead>\n    <tr style=\"text-align: right;\">\n      <th></th>\n      <th></th>\n      <th>total_instances</th>\n      <th>burnout_instance</th>\n      <th>diff_weeks</th>\n      <th>diff_spins</th>\n      <th>cuml_spins</th>\n    </tr>\n    <tr>\n      <th>format_code</th>\n      <th>hit_spins_bucket</th>\n      <th></th>\n      <th></th>\n      <th></th>\n      <th></th>\n      <th></th>\n    </tr>\n  </thead>\n  <tbody>\n    <tr>\n      <th rowspan=\"18\" valign=\"top\">C1</th>\n      <th>(50, 150]</th>\n      <td>6</td>\n      <td>NaN</td>\n      <td>NaN</td>\n      <td>NaN</td>\n      <td>NaN</td>\n    </tr>\n    <tr>\n      <th>(150, 250]</th>\n      <td>51</td>\n      <td>3.0</td>\n      <td>40.679688</td>\n      <td>1331.205078</td>\n      <td>1513.480469</td>\n    </tr>\n    <tr>\n      <th>(250, 350]</th>\n      <td>82</td>\n      <td>11.0</td>\n      <td>60.734917</td>\n      <td>1307.294608</td>\n      <td>1604.451861</td>\n    </tr>\n    <tr>\n      <th>(350, 450]</th>\n      <td>139</td>\n      <td>19.0</td>\n      <td>38.484671</td>\n      <td>1054.726027</td>\n      <td>1457.561644</td>\n    </tr>\n    <tr>\n      <th>(450, 550]</th>\n      <td>160</td>\n      <td>25.0</td>\n      <td>47.396648</td>\n      <td>989.584828</td>\n      <td>1494.869156</td>\n    </tr>\n    <tr>\n      <th>(550, 650]</th>\n      <td>159</td>\n      <td>13.0</td>\n      <td>36.616972</td>\n      <td>765.687615</td>\n      <td>1364.182569</td>\n    </tr>\n    <tr>\n      <th>(650, 750]</th>\n      <td>113</td>\n      <td>25.0</td>\n      <td>24.926963</td>\n      <td>617.397806</td>\n      <td>1322.492494</td>\n    </tr>\n    <tr>\n      <th>(750, 850]</th>\n      <td>110</td>\n      <td>16.0</td>\n      <td>26.951491</td>\n      <td>547.136182</td>\n      <td>1352.659546</td>\n    </tr>\n    <tr>\n      <th>(850, 950]</th>\n      <td>90</td>\n      <td>12.0</td>\n      <td>27.693015</td>\n      <td>552.284926</td>\n      <td>1452.644761</td>\n    </tr>\n    <tr>\n      <th>(950, 1050]</th>\n      <td>42</td>\n      <td>6.0</td>\n      <td>26.337531</td>\n      <td>659.992443</td>\n      <td>1670.021411</td>\n    </tr>\n    <tr>\n      <th>(1050, 1150]</th>\n      <td>31</td>\n      <td>4.0</td>\n      <td>12.859100</td>\n      <td>193.718200</td>\n      <td>1279.675147</td>\n    </tr>\n    <tr>\n      <th>(1150, 1250]</th>\n      <td>22</td>\n      <td>2.0</td>\n      <td>5.204545</td>\n      <td>36.602273</td>\n      <td>1249.431818</td>\n    </tr>\n    <tr>\n      <th>(1250, 1350]</th>\n      <td>15</td>\n      <td>2.0</td>\n      <td>1.000000</td>\n      <td>10.641509</td>\n      <td>1290.509434</td>\n    </tr>\n    <tr>\n      <th>(1350, 1450]</th>\n      <td>7</td>\n      <td>NaN</td>\n      <td>NaN</td>\n      <td>NaN</td>\n      <td>NaN</td>\n    </tr>\n    <tr>\n      <th>(1450, 1550]</th>\n      <td>2</td>\n      <td>1.0</td>\n      <td>1.000000</td>\n      <td>17.000000</td>\n      <td>1543.000000</td>\n    </tr>\n    <tr>\n      <th>(1550, 1650]</th>\n      <td>5</td>\n      <td>NaN</td>\n      <td>NaN</td>\n      <td>NaN</td>\n      <td>NaN</td>\n    </tr>\n    <tr>\n      <th>(1650, 1750]</th>\n      <td>2</td>\n      <td>NaN</td>\n      <td>NaN</td>\n      <td>NaN</td>\n      <td>NaN</td>\n    </tr>\n    <tr>\n      <th>(2050, 2150]</th>\n      <td>1</td>\n      <td>1.0</td>\n      <td>1.000000</td>\n      <td>18.000000</td>\n      <td>2131.000000</td>\n    </tr>\n  </tbody>\n</table>\n</div>"
     },
     "execution_count": 75,
     "metadata": {},
     "output_type": "execute_result"
    }
   ],
   "source": [
    "df_time_to_burn[df_time_to_burn.index.get_level_values(0) == 'C1']"
   ],
   "metadata": {
    "collapsed": false
   }
  },
  {
   "cell_type": "code",
   "execution_count": 76,
   "outputs": [],
   "source": [
    "df_hits_brn_ctry = df_hits_brn[df_hits_brn['format_code'] == 'C1'].groupby(['format_code', 'call_letters' , 'mediabase_id', 'song_release_date']).agg({'weeks_since_release_brn':np.min, 'cuml_spins_non_on_brn':np.min}).reset_index()"
   ],
   "metadata": {
    "collapsed": false
   }
  },
  {
   "cell_type": "code",
   "execution_count": 13,
   "outputs": [
    {
     "ename": "NameError",
     "evalue": "name 'df_hits_brn' is not defined",
     "output_type": "error",
     "traceback": [
      "\u001B[0;31m---------------------------------------------------------------------------\u001B[0m",
      "\u001B[0;31mNameError\u001B[0m                                 Traceback (most recent call last)",
      "\u001B[0;32m/var/folders/kt/bsj56gs152d_8fz3jclnl1440000gq/T/ipykernel_1562/2731845624.py\u001B[0m in \u001B[0;36m<module>\u001B[0;34m\u001B[0m\n\u001B[0;32m----> 1\u001B[0;31m \u001B[0mdf_hits_brn_urban\u001B[0m \u001B[0;34m=\u001B[0m \u001B[0mdf_hits_brn\u001B[0m\u001B[0;34m[\u001B[0m\u001B[0mdf_hits_brn\u001B[0m\u001B[0;34m[\u001B[0m\u001B[0;34m'format_code'\u001B[0m\u001B[0;34m]\u001B[0m \u001B[0;34m==\u001B[0m \u001B[0;34m'U1'\u001B[0m\u001B[0;34m]\u001B[0m\u001B[0;34m.\u001B[0m\u001B[0mgroupby\u001B[0m\u001B[0;34m(\u001B[0m\u001B[0;34m[\u001B[0m\u001B[0;34m'format_code'\u001B[0m\u001B[0;34m,\u001B[0m \u001B[0;34m'call_letters'\u001B[0m \u001B[0;34m,\u001B[0m \u001B[0;34m'mediabase_id'\u001B[0m\u001B[0;34m,\u001B[0m \u001B[0;34m'song_release_date'\u001B[0m\u001B[0;34m]\u001B[0m\u001B[0;34m)\u001B[0m\u001B[0;34m.\u001B[0m\u001B[0magg\u001B[0m\u001B[0;34m(\u001B[0m\u001B[0;34m{\u001B[0m\u001B[0;34m'weeks_since_release_brn'\u001B[0m\u001B[0;34m:\u001B[0m\u001B[0mnp\u001B[0m\u001B[0;34m.\u001B[0m\u001B[0mmin\u001B[0m\u001B[0;34m,\u001B[0m \u001B[0;34m'cuml_spins_non_on_brn'\u001B[0m\u001B[0;34m:\u001B[0m\u001B[0mnp\u001B[0m\u001B[0;34m.\u001B[0m\u001B[0mmin\u001B[0m\u001B[0;34m}\u001B[0m\u001B[0;34m)\u001B[0m\u001B[0;34m.\u001B[0m\u001B[0mreset_index\u001B[0m\u001B[0;34m(\u001B[0m\u001B[0;34m)\u001B[0m\u001B[0;34m\u001B[0m\u001B[0;34m\u001B[0m\u001B[0m\n\u001B[0m",
      "\u001B[0;31mNameError\u001B[0m: name 'df_hits_brn' is not defined"
     ]
    }
   ],
   "source": [
    "df_hits_brn_urban = df_hits_brn[df_hits_brn['format_code'] == 'U1'].groupby(['format_code', 'call_letters' , 'mediabase_id', 'song_release_date']).agg({'weeks_since_release_brn':np.min, 'cuml_spins_non_on_brn':np.min}).reset_index()"
   ],
   "metadata": {
    "collapsed": false
   }
  },
  {
   "cell_type": "code",
   "execution_count": 78,
   "outputs": [],
   "source": [
    "df_hits_brn_top40 = df_hits_brn_h1[df_hits_brn_h1['format_code'] == 'H1'].groupby(['format_code', 'call_letters' , 'mediabase_id', 'song_release_date']).agg({'weeks_since_release_brn':np.min, 'cuml_spins_non_on_brn':np.min}).reset_index()"
   ],
   "metadata": {
    "collapsed": false
   }
  },
  {
   "cell_type": "code",
   "execution_count": 79,
   "outputs": [],
   "source": [
    "df_monitor_time = pd.concat([df_hits_brn_ctry, df_hits_brn_urban, df_hits_brn_top40])"
   ],
   "metadata": {
    "collapsed": false
   }
  },
  {
   "cell_type": "code",
   "execution_count": 80,
   "outputs": [],
   "source": [
    "df_monitor_time['pandemic_flg'] = df_monitor_time['song_release_date'] >= pd.to_datetime('2020-05-10').date()"
   ],
   "metadata": {
    "collapsed": false
   }
  },
  {
   "cell_type": "code",
   "execution_count": 81,
   "outputs": [
    {
     "data": {
      "text/plain": "format_code  pandemic_flg\nC1           False           [(1036.0, 1460.0566037735848, 2113.5), (51.0, ...\n             True            [(1021.8000000000001, 1373.5, 1983.8), (43.6, ...\nH1           False           [(1223.2, 1703.2438764643236, 2499.8), (29.0, ...\n             True            [(1208.2, 1795.7426326129666, 2637.0), (27.0, ...\nU1           False           [(989.4, 1848.1643192488264, 3299.200000000000...\n             True            [(1167.4, 1909.6203703703704, 3130.7), (42.2, ...\ndtype: object"
     },
     "execution_count": 81,
     "metadata": {},
     "output_type": "execute_result"
    }
   ],
   "source": [
    "df_monitor_time.groupby(['format_code', 'pandemic_flg']).apply(lambda x: [(np.percentile(x['cuml_spins_non_on_brn'], 20), np.mean(x['cuml_spins_non_on_brn']),  np.percentile(x['cuml_spins_non_on_brn'], 90)), (np.percentile(x['weeks_since_release_brn'], 20), np.mean(x['weeks_since_release_brn']),  np.percentile(x['weeks_since_release_brn'], 90))])"
   ],
   "metadata": {
    "collapsed": false
   }
  },
  {
   "cell_type": "code",
   "execution_count": 82,
   "outputs": [
    {
     "data": {
      "text/plain": "                              total_instances  bunrout_instance  diff_weeks  \\\nformat_code hit_spins_bucket                                                  \nA1          (50, 150]                      22               5.0   20.904452   \n            (150, 250]                     49              11.0   53.715481   \n            (250, 350]                     40               7.0   35.204870   \n            (350, 450]                     21               2.0   15.693333   \n            (450, 550]                     15               4.0   17.876823   \n...                                       ...               ...         ...   \nY0          (2250, 2350]                    1               NaN         NaN   \n            (2350, 2450]                    1               NaN         NaN   \n            (2750, 2850]                    1               NaN         NaN   \n            (2950, 3050]                    1               1.0   25.000000   \n            (3150, 3250]                    1               1.0    1.000000   \n\n                              diff_spins  \nformat_code hit_spins_bucket              \nA1          (50, 150]         289.978284  \n            (150, 250]        559.779812  \n            (250, 350]        450.503778  \n            (350, 450]        112.320000  \n            (450, 550]        122.379254  \n...                                  ...  \nY0          (2250, 2350]             NaN  \n            (2350, 2450]             NaN  \n            (2750, 2850]             NaN  \n            (2950, 3050]      901.000000  \n            (3150, 3250]       48.000000  \n\n[227 rows x 4 columns]",
      "text/html": "<div>\n<style scoped>\n    .dataframe tbody tr th:only-of-type {\n        vertical-align: middle;\n    }\n\n    .dataframe tbody tr th {\n        vertical-align: top;\n    }\n\n    .dataframe thead th {\n        text-align: right;\n    }\n</style>\n<table border=\"1\" class=\"dataframe\">\n  <thead>\n    <tr style=\"text-align: right;\">\n      <th></th>\n      <th></th>\n      <th>total_instances</th>\n      <th>bunrout_instance</th>\n      <th>diff_weeks</th>\n      <th>diff_spins</th>\n    </tr>\n    <tr>\n      <th>format_code</th>\n      <th>hit_spins_bucket</th>\n      <th></th>\n      <th></th>\n      <th></th>\n      <th></th>\n    </tr>\n  </thead>\n  <tbody>\n    <tr>\n      <th rowspan=\"5\" valign=\"top\">A1</th>\n      <th>(50, 150]</th>\n      <td>22</td>\n      <td>5.0</td>\n      <td>20.904452</td>\n      <td>289.978284</td>\n    </tr>\n    <tr>\n      <th>(150, 250]</th>\n      <td>49</td>\n      <td>11.0</td>\n      <td>53.715481</td>\n      <td>559.779812</td>\n    </tr>\n    <tr>\n      <th>(250, 350]</th>\n      <td>40</td>\n      <td>7.0</td>\n      <td>35.204870</td>\n      <td>450.503778</td>\n    </tr>\n    <tr>\n      <th>(350, 450]</th>\n      <td>21</td>\n      <td>2.0</td>\n      <td>15.693333</td>\n      <td>112.320000</td>\n    </tr>\n    <tr>\n      <th>(450, 550]</th>\n      <td>15</td>\n      <td>4.0</td>\n      <td>17.876823</td>\n      <td>122.379254</td>\n    </tr>\n    <tr>\n      <th>...</th>\n      <th>...</th>\n      <td>...</td>\n      <td>...</td>\n      <td>...</td>\n      <td>...</td>\n    </tr>\n    <tr>\n      <th rowspan=\"5\" valign=\"top\">Y0</th>\n      <th>(2250, 2350]</th>\n      <td>1</td>\n      <td>NaN</td>\n      <td>NaN</td>\n      <td>NaN</td>\n    </tr>\n    <tr>\n      <th>(2350, 2450]</th>\n      <td>1</td>\n      <td>NaN</td>\n      <td>NaN</td>\n      <td>NaN</td>\n    </tr>\n    <tr>\n      <th>(2750, 2850]</th>\n      <td>1</td>\n      <td>NaN</td>\n      <td>NaN</td>\n      <td>NaN</td>\n    </tr>\n    <tr>\n      <th>(2950, 3050]</th>\n      <td>1</td>\n      <td>1.0</td>\n      <td>25.000000</td>\n      <td>901.000000</td>\n    </tr>\n    <tr>\n      <th>(3150, 3250]</th>\n      <td>1</td>\n      <td>1.0</td>\n      <td>1.000000</td>\n      <td>48.000000</td>\n    </tr>\n  </tbody>\n</table>\n<p>227 rows × 4 columns</p>\n</div>"
     },
     "execution_count": 82,
     "metadata": {},
     "output_type": "execute_result"
    }
   ],
   "source": [
    "pd.DataFrame(df_hits.groupby(grp_cols).apply(fn3), columns=['total_instances']).join(pd.DataFrame(df_hits_brn_f2b.groupby(grp_cols).apply(fn3), columns=['bunrout_instance']).join(pd.DataFrame(df_hits_brn_f2b.groupby(['format_code', 'hit_spins_bucket']).apply(fn1), columns=['diff_weeks']).join(pd.DataFrame(df_hits_brn_f2b.groupby(['format_code', 'hit_spins_bucket']).apply(fn2), columns=['diff_spins']), rsuffix='_r')))"
   ],
   "metadata": {
    "collapsed": false
   }
  },
  {
   "cell_type": "markdown",
   "source": [
    "### How do we define burnout? (appropriate metric - DDL or F2B)? What is an appropriate threshold for DDL/F2B"
   ],
   "metadata": {
    "collapsed": false
   }
  },
  {
   "cell_type": "code",
   "execution_count": 83,
   "outputs": [],
   "source": [
    "from datetime import timedelta"
   ],
   "metadata": {
    "collapsed": false
   }
  },
  {
   "cell_type": "code",
   "execution_count": 84,
   "outputs": [
    {
     "name": "stdout",
     "output_type": "stream",
     "text": [
      "10\n",
      "11\n",
      "12\n",
      "13\n",
      "14\n",
      "15\n",
      "16\n",
      "17\n",
      "18\n",
      "19\n",
      "20\n",
      "21\n",
      "22\n",
      "23\n"
     ]
    },
    {
     "ename": "IndexError",
     "evalue": "Too many levels: Index has only 2 levels, not 3",
     "output_type": "error",
     "traceback": [
      "\u001B[0;31m---------------------------------------------------------------------------\u001B[0m",
      "\u001B[0;31mValueError\u001B[0m                                Traceback (most recent call last)",
      "File \u001B[0;32m~/PycharmProjects/adds-early-burnout-warning-model/venv/lib/python3.8/site-packages/pandas/core/indexes/multi.py:1555\u001B[0m, in \u001B[0;36mMultiIndex._get_level_number\u001B[0;34m(self, level)\u001B[0m\n\u001B[1;32m   1554\u001B[0m \u001B[38;5;28;01mtry\u001B[39;00m:\n\u001B[0;32m-> 1555\u001B[0m     level \u001B[38;5;241m=\u001B[39m \u001B[38;5;28;43mself\u001B[39;49m\u001B[38;5;241;43m.\u001B[39;49m\u001B[43mnames\u001B[49m\u001B[38;5;241;43m.\u001B[39;49m\u001B[43mindex\u001B[49m\u001B[43m(\u001B[49m\u001B[43mlevel\u001B[49m\u001B[43m)\u001B[49m\n\u001B[1;32m   1556\u001B[0m \u001B[38;5;28;01mexcept\u001B[39;00m \u001B[38;5;167;01mValueError\u001B[39;00m \u001B[38;5;28;01mas\u001B[39;00m err:\n",
      "\u001B[0;31mValueError\u001B[0m: 2 is not in list",
      "\nThe above exception was the direct cause of the following exception:\n",
      "\u001B[0;31mIndexError\u001B[0m                                Traceback (most recent call last)",
      "Cell \u001B[0;32mIn [84], line 13\u001B[0m\n\u001B[1;32m     11\u001B[0m \u001B[38;5;66;03m# Spins Delta and sign\u001B[39;00m\n\u001B[1;32m     12\u001B[0m df_test \u001B[38;5;241m=\u001B[39m pd\u001B[38;5;241m.\u001B[39mDataFrame(df_temp_filter\u001B[38;5;241m.\u001B[39mgroupby([\u001B[38;5;124m'\u001B[39m\u001B[38;5;124mcall_letters\u001B[39m\u001B[38;5;124m'\u001B[39m , \u001B[38;5;124m'\u001B[39m\u001B[38;5;124mmediabase_id\u001B[39m\u001B[38;5;124m'\u001B[39m])\u001B[38;5;241m.\u001B[39mapply(\u001B[38;5;28;01mlambda\u001B[39;00m x: np\u001B[38;5;241m.\u001B[39msign(x[\u001B[38;5;124m'\u001B[39m\u001B[38;5;124mspins_non_on_prev\u001B[39m\u001B[38;5;124m'\u001B[39m] \u001B[38;5;241m-\u001B[39m x[\u001B[38;5;124m'\u001B[39m\u001B[38;5;124mspins_non_on_prev\u001B[39m\u001B[38;5;124m'\u001B[39m]\u001B[38;5;241m.\u001B[39mshift(\u001B[38;5;241m1\u001B[39m))))\n\u001B[0;32m---> 13\u001B[0m df_test\u001B[38;5;241m.\u001B[39mset_index(\u001B[43mdf_test\u001B[49m\u001B[38;5;241;43m.\u001B[39;49m\u001B[43mindex\u001B[49m\u001B[38;5;241;43m.\u001B[39;49m\u001B[43mget_level_values\u001B[49m\u001B[43m(\u001B[49m\u001B[38;5;241;43m2\u001B[39;49m\u001B[43m)\u001B[49m, inplace\u001B[38;5;241m=\u001B[39m\u001B[38;5;28;01mTrue\u001B[39;00m)\n\u001B[1;32m     14\u001B[0m df_temp_filter[\u001B[38;5;124m'\u001B[39m\u001B[38;5;124mspins_non_on_delta_sgn\u001B[39m\u001B[38;5;124m'\u001B[39m] \u001B[38;5;241m=\u001B[39m df_test\n\u001B[1;32m     16\u001B[0m df_test \u001B[38;5;241m=\u001B[39m pd\u001B[38;5;241m.\u001B[39mDataFrame(df_temp_filter\u001B[38;5;241m.\u001B[39mgroupby([\u001B[38;5;124m'\u001B[39m\u001B[38;5;124mcall_letters\u001B[39m\u001B[38;5;124m'\u001B[39m , \u001B[38;5;124m'\u001B[39m\u001B[38;5;124mmediabase_id\u001B[39m\u001B[38;5;124m'\u001B[39m])\u001B[38;5;241m.\u001B[39mapply(\u001B[38;5;28;01mlambda\u001B[39;00m x: x[\u001B[38;5;124m'\u001B[39m\u001B[38;5;124mspins_non_on_prev\u001B[39m\u001B[38;5;124m'\u001B[39m] \u001B[38;5;241m-\u001B[39m x[\u001B[38;5;124m'\u001B[39m\u001B[38;5;124mspins_non_on_prev\u001B[39m\u001B[38;5;124m'\u001B[39m]\u001B[38;5;241m.\u001B[39mshift(\u001B[38;5;241m1\u001B[39m)))\n",
      "File \u001B[0;32m~/PycharmProjects/adds-early-burnout-warning-model/venv/lib/python3.8/site-packages/pandas/core/indexes/multi.py:1723\u001B[0m, in \u001B[0;36mMultiIndex.get_level_values\u001B[0;34m(self, level)\u001B[0m\n\u001B[1;32m   1675\u001B[0m \u001B[38;5;28;01mdef\u001B[39;00m \u001B[38;5;21mget_level_values\u001B[39m(\u001B[38;5;28mself\u001B[39m, level):\n\u001B[1;32m   1676\u001B[0m     \u001B[38;5;124;03m\"\"\"\u001B[39;00m\n\u001B[1;32m   1677\u001B[0m \u001B[38;5;124;03m    Return vector of label values for requested level.\u001B[39;00m\n\u001B[1;32m   1678\u001B[0m \n\u001B[0;32m   (...)\u001B[0m\n\u001B[1;32m   1721\u001B[0m \u001B[38;5;124;03m    Float64Index([1.0, nan, 2.0], dtype='float64')\u001B[39;00m\n\u001B[1;32m   1722\u001B[0m \u001B[38;5;124;03m    \"\"\"\u001B[39;00m\n\u001B[0;32m-> 1723\u001B[0m     level \u001B[38;5;241m=\u001B[39m \u001B[38;5;28;43mself\u001B[39;49m\u001B[38;5;241;43m.\u001B[39;49m\u001B[43m_get_level_number\u001B[49m\u001B[43m(\u001B[49m\u001B[43mlevel\u001B[49m\u001B[43m)\u001B[49m\n\u001B[1;32m   1724\u001B[0m     values \u001B[38;5;241m=\u001B[39m \u001B[38;5;28mself\u001B[39m\u001B[38;5;241m.\u001B[39m_get_level_values(level)\n\u001B[1;32m   1725\u001B[0m     \u001B[38;5;28;01mreturn\u001B[39;00m values\n",
      "File \u001B[0;32m~/PycharmProjects/adds-early-burnout-warning-model/venv/lib/python3.8/site-packages/pandas/core/indexes/multi.py:1569\u001B[0m, in \u001B[0;36mMultiIndex._get_level_number\u001B[0;34m(self, level)\u001B[0m\n\u001B[1;32m   1567\u001B[0m     \u001B[38;5;66;03m# Note: levels are zero-based\u001B[39;00m\n\u001B[1;32m   1568\u001B[0m     \u001B[38;5;28;01melif\u001B[39;00m level \u001B[38;5;241m>\u001B[39m\u001B[38;5;241m=\u001B[39m \u001B[38;5;28mself\u001B[39m\u001B[38;5;241m.\u001B[39mnlevels:\n\u001B[0;32m-> 1569\u001B[0m         \u001B[38;5;28;01mraise\u001B[39;00m \u001B[38;5;167;01mIndexError\u001B[39;00m(\n\u001B[1;32m   1570\u001B[0m             \u001B[38;5;124mf\u001B[39m\u001B[38;5;124m\"\u001B[39m\u001B[38;5;124mToo many levels: Index has only \u001B[39m\u001B[38;5;132;01m{\u001B[39;00m\u001B[38;5;28mself\u001B[39m\u001B[38;5;241m.\u001B[39mnlevels\u001B[38;5;132;01m}\u001B[39;00m\u001B[38;5;124m levels, \u001B[39m\u001B[38;5;124m\"\u001B[39m\n\u001B[1;32m   1571\u001B[0m             \u001B[38;5;124mf\u001B[39m\u001B[38;5;124m\"\u001B[39m\u001B[38;5;124mnot \u001B[39m\u001B[38;5;132;01m{\u001B[39;00mlevel \u001B[38;5;241m+\u001B[39m \u001B[38;5;241m1\u001B[39m\u001B[38;5;132;01m}\u001B[39;00m\u001B[38;5;124m\"\u001B[39m\n\u001B[1;32m   1572\u001B[0m         ) \u001B[38;5;28;01mfrom\u001B[39;00m \u001B[38;5;21;01merr\u001B[39;00m\n\u001B[1;32m   1573\u001B[0m \u001B[38;5;28;01mreturn\u001B[39;00m level\n",
      "\u001B[0;31mIndexError\u001B[0m: Too many levels: Index has only 2 levels, not 3"
     ]
    }
   ],
   "source": [
    "df_all_stats = pd.DataFrame( columns=['spins_non_on_delta_sgn', 'total', 'avg_pop_delta', 'min_pop_delta', 'max_pop_delta', 'avg_fav_delta', 'min_fav_delta', 'max_fav_delta', 'avg_ddl_delta', 'min_ddl_delta', 'max_ddl_delta', 'ddl_threshold'])\n",
    "\n",
    "for i in ddl_range:\n",
    "    print(i)\n",
    "    idx = (df_hits['ddl_track_' + str(int(i))] >= 2) & (df_hits['week_dt'] > df_hits['week_dt_r']) & (df_hits['format_code'] == 'C1')\n",
    "\n",
    "    df_temp  = df_hits.join(df_hits[idx].groupby(['call_letters' , 'mediabase_id']).agg({'week_dt':np.min}), on=['call_letters', 'mediabase_id'], how='right', rsuffix='_brn')\n",
    "    filter_idx = (df_temp['week_dt'] >= df_temp['week_dt_brn']) & (df_temp['week_dt'] <=  (df_temp['week_dt_brn']) + timedelta(weeks=26)) & (~pd.isna(df_temp['pop']))\n",
    "    df_temp_filter = df_temp[filter_idx][['format_code', 'call_letters', 'mediabase_id', 'week_dt', 'spins_non_on', 'spins_non_on_prev', 'pop', 'fav_metric', 'ddl_metric']]\n",
    "\n",
    "    # Spins Delta and sign\n",
    "    df_test = pd.DataFrame(df_temp_filter.groupby(['call_letters' , 'mediabase_id']).apply(lambda x: np.sign(x['spins_non_on_prev'] - x['spins_non_on_prev'].shift(1))))\n",
    "    df_test.set_index(df_test.index.get_level_values(2), inplace=True)\n",
    "    df_temp_filter['spins_non_on_delta_sgn'] = df_test\n",
    "\n",
    "    df_test = pd.DataFrame(df_temp_filter.groupby(['call_letters' , 'mediabase_id']).apply(lambda x: x['spins_non_on_prev'] - x['spins_non_on_prev'].shift(1)))\n",
    "    df_test.set_index(df_test.index.get_level_values(2), inplace=True)\n",
    "    df_temp_filter['spins_non_on_delta'] = df_test\n",
    "\n",
    "    # DDL delta and sign\n",
    "    df_test = pd.DataFrame(df_temp_filter.groupby(['call_letters' , 'mediabase_id']).apply(lambda x: np.sign(x['ddl_metric'] - x['ddl_metric'].shift(1))))\n",
    "    df_test.set_index(df_test.index.get_level_values(2), inplace=True)\n",
    "    df_temp_filter['ddl_metric_delta_sgn'] = df_test\n",
    "\n",
    "    df_test = pd.DataFrame(df_temp_filter.groupby(['call_letters' , 'mediabase_id']).apply(lambda x: x['ddl_metric'] - x['ddl_metric'].shift(1)))\n",
    "    df_test.set_index(df_test.index.get_level_values(2), inplace=True)\n",
    "    df_temp_filter['ddl_metric_delta'] = df_test\n",
    "\n",
    "    # Fav delta and sign\n",
    "    df_test = pd.DataFrame(df_temp_filter.groupby(['call_letters' , 'mediabase_id']).apply(lambda x: np.sign(x['fav_metric'] - x['fav_metric'].shift(1))))\n",
    "    df_test.set_index(df_test.index.get_level_values(2), inplace=True)\n",
    "    df_temp_filter['fav_metric_delta_sgn'] = df_test\n",
    "\n",
    "    df_test = pd.DataFrame(df_temp_filter.groupby(['call_letters' , 'mediabase_id']).apply(lambda x: x['fav_metric'] - x['fav_metric'].shift(1)))\n",
    "    df_test.set_index(df_test.index.get_level_values(2), inplace=True)\n",
    "    df_temp_filter['fav_metric_delta'] = df_test\n",
    "\n",
    "    # Pop delta and sign\n",
    "    df_test = pd.DataFrame(df_temp_filter.groupby(['call_letters' , 'mediabase_id']).apply(lambda x: np.sign(x['pop'] - x['pop'].shift(1))))\n",
    "    df_test.set_index(df_test.index.get_level_values(2), inplace=True)\n",
    "    df_temp_filter['pop_delta_sgn'] = df_test\n",
    "\n",
    "    df_test = pd.DataFrame(df_temp_filter.groupby(['call_letters' , 'mediabase_id']).apply(lambda x: x['pop'] - x['pop'].shift(1)))\n",
    "    df_test.set_index(df_test.index.get_level_values(2), inplace=True)\n",
    "    df_temp_filter['pop_delta'] = df_test\n",
    "\n",
    "    # df_temp_filter['spins_non_on_delta'].plot(kind='hist', bins=np.arange(-60,68,2))\n",
    "    # plt.show()\n",
    "\n",
    "    df_out = df_temp_filter.groupby(['spins_non_on_delta_sgn']).agg({'week_dt': len, 'pop_delta':[np.mean, np.min, np.max], 'fav_metric_delta': [np.mean, np.min, np.max], 'ddl_metric_delta': [np.mean, np.min, np.max]}).reset_index()\n",
    "    df_out.columns = ['spins_non_on_delta_sgn', 'total', 'avg_pop_delta', 'min_pop_delta', 'max_pop_delta', 'avg_fav_delta', 'min_fav_delta', 'max_fav_delta',\n",
    "                      'avg_ddl_delta', 'min_ddl_delta', 'max_ddl_delta']\n",
    "\n",
    "    df_out['ddl_threshold'] = int(i)\n",
    "    df_all_stats =  pd.concat([df_all_stats, df_out])"
   ],
   "metadata": {
    "collapsed": false
   }
  },
  {
   "cell_type": "code",
   "execution_count": 85,
   "outputs": [
    {
     "data": {
      "text/plain": "    spins_non_on_delta_sgn ddl_threshold total  avg_pop_delta  avg_fav_delta  \\\n0                     -1.0            10  2098       0.660153       0.433270   \n1                      0.0            10   317       0.148265      -0.230284   \n2                      1.0            10  1297      -0.161912      -0.207402   \n3                     -1.0            11  1612       0.789082       0.352357   \n4                      0.0            11   242       0.157025      -0.239669   \n5                      1.0            11  1028      -0.098249      -0.132296   \n6                     -1.0            12  1119       0.982127       0.445934   \n7                      0.0            12   186      -0.091398      -0.446237   \n8                      1.0            12   737       0.073270      -0.202171   \n9                     -1.0            13   695       0.949640       0.568345   \n10                     0.0            13   116      -0.224138      -1.172414   \n11                     1.0            13   495       0.563636      -0.139394   \n12                    -1.0            14   500       1.392000       0.922000   \n13                     0.0            14    92      -0.260870      -1.293478   \n14                     1.0            14   363       0.289256      -0.454545   \n15                    -1.0            15   315       1.876190       1.180952   \n16                     0.0            15    71      -0.281690      -1.211268   \n17                     1.0            15   214       0.098131      -0.836449   \n18                    -1.0            16   246       1.934959       1.386179   \n19                     0.0            16    67      -0.388060      -0.865672   \n20                     1.0            16   166       0.126506      -0.783133   \n21                    -1.0            17   145       1.827586       1.268966   \n22                     0.0            17    56       0.232143      -0.589286   \n23                     1.0            17    97       0.237113      -0.804124   \n24                    -1.0            18   109       2.055046       1.467890   \n25                     0.0            18    40       1.725000       0.125000   \n26                     1.0            18    73       0.191781      -0.643836   \n27                    -1.0            19    41       3.073171       1.853659   \n28                     0.0            19    17       1.235294      -0.647059   \n29                     1.0            19    26       0.692308       1.230769   \n30                    -1.0            20    16       6.187500       3.687500   \n31                     0.0            20     8       0.625000      -0.750000   \n32                     1.0            20     9       0.555556       0.222222   \n33                    -1.0            21    10       6.500000       5.200000   \n34                     0.0            21     6      -1.166667      -1.000000   \n35                     1.0            21     6       2.333333       0.666667   \n36                    -1.0            22     5      13.200000       9.200000   \n37                     0.0            22     5      -1.600000      -2.000000   \n38                     1.0            22     4       1.500000       2.750000   \n\n    avg_ddl_delta  \n0       -0.307912  \n1       -0.432177  \n2       -0.062452  \n3       -0.490695  \n4       -0.475207  \n5       -0.097276  \n6       -0.643432  \n7       -0.381720  \n8       -0.344640  \n9       -0.710791  \n10      -0.905172  \n11      -0.830303  \n12      -0.930000  \n13      -0.804348  \n14      -0.672176  \n15      -1.257143  \n16      -0.802817  \n17      -0.518692  \n18      -1.284553  \n19      -0.895522  \n20      -0.626506  \n21      -1.337931  \n22      -0.803571  \n23      -1.051546  \n24      -1.449541  \n25      -2.025000  \n26      -0.767123  \n27      -1.804878  \n28      -1.470588  \n29      -0.923077  \n30      -3.750000  \n31      -2.125000  \n32       0.888889  \n33      -3.300000  \n34      -1.000000  \n35      -1.166667  \n36      -6.400000  \n37       0.400000  \n38      -1.750000  ",
      "text/html": "<div>\n<style scoped>\n    .dataframe tbody tr th:only-of-type {\n        vertical-align: middle;\n    }\n\n    .dataframe tbody tr th {\n        vertical-align: top;\n    }\n\n    .dataframe thead th {\n        text-align: right;\n    }\n</style>\n<table border=\"1\" class=\"dataframe\">\n  <thead>\n    <tr style=\"text-align: right;\">\n      <th></th>\n      <th>spins_non_on_delta_sgn</th>\n      <th>ddl_threshold</th>\n      <th>total</th>\n      <th>avg_pop_delta</th>\n      <th>avg_fav_delta</th>\n      <th>avg_ddl_delta</th>\n    </tr>\n  </thead>\n  <tbody>\n    <tr>\n      <th>0</th>\n      <td>-1.0</td>\n      <td>10</td>\n      <td>2098</td>\n      <td>0.660153</td>\n      <td>0.433270</td>\n      <td>-0.307912</td>\n    </tr>\n    <tr>\n      <th>1</th>\n      <td>0.0</td>\n      <td>10</td>\n      <td>317</td>\n      <td>0.148265</td>\n      <td>-0.230284</td>\n      <td>-0.432177</td>\n    </tr>\n    <tr>\n      <th>2</th>\n      <td>1.0</td>\n      <td>10</td>\n      <td>1297</td>\n      <td>-0.161912</td>\n      <td>-0.207402</td>\n      <td>-0.062452</td>\n    </tr>\n    <tr>\n      <th>3</th>\n      <td>-1.0</td>\n      <td>11</td>\n      <td>1612</td>\n      <td>0.789082</td>\n      <td>0.352357</td>\n      <td>-0.490695</td>\n    </tr>\n    <tr>\n      <th>4</th>\n      <td>0.0</td>\n      <td>11</td>\n      <td>242</td>\n      <td>0.157025</td>\n      <td>-0.239669</td>\n      <td>-0.475207</td>\n    </tr>\n    <tr>\n      <th>5</th>\n      <td>1.0</td>\n      <td>11</td>\n      <td>1028</td>\n      <td>-0.098249</td>\n      <td>-0.132296</td>\n      <td>-0.097276</td>\n    </tr>\n    <tr>\n      <th>6</th>\n      <td>-1.0</td>\n      <td>12</td>\n      <td>1119</td>\n      <td>0.982127</td>\n      <td>0.445934</td>\n      <td>-0.643432</td>\n    </tr>\n    <tr>\n      <th>7</th>\n      <td>0.0</td>\n      <td>12</td>\n      <td>186</td>\n      <td>-0.091398</td>\n      <td>-0.446237</td>\n      <td>-0.381720</td>\n    </tr>\n    <tr>\n      <th>8</th>\n      <td>1.0</td>\n      <td>12</td>\n      <td>737</td>\n      <td>0.073270</td>\n      <td>-0.202171</td>\n      <td>-0.344640</td>\n    </tr>\n    <tr>\n      <th>9</th>\n      <td>-1.0</td>\n      <td>13</td>\n      <td>695</td>\n      <td>0.949640</td>\n      <td>0.568345</td>\n      <td>-0.710791</td>\n    </tr>\n    <tr>\n      <th>10</th>\n      <td>0.0</td>\n      <td>13</td>\n      <td>116</td>\n      <td>-0.224138</td>\n      <td>-1.172414</td>\n      <td>-0.905172</td>\n    </tr>\n    <tr>\n      <th>11</th>\n      <td>1.0</td>\n      <td>13</td>\n      <td>495</td>\n      <td>0.563636</td>\n      <td>-0.139394</td>\n      <td>-0.830303</td>\n    </tr>\n    <tr>\n      <th>12</th>\n      <td>-1.0</td>\n      <td>14</td>\n      <td>500</td>\n      <td>1.392000</td>\n      <td>0.922000</td>\n      <td>-0.930000</td>\n    </tr>\n    <tr>\n      <th>13</th>\n      <td>0.0</td>\n      <td>14</td>\n      <td>92</td>\n      <td>-0.260870</td>\n      <td>-1.293478</td>\n      <td>-0.804348</td>\n    </tr>\n    <tr>\n      <th>14</th>\n      <td>1.0</td>\n      <td>14</td>\n      <td>363</td>\n      <td>0.289256</td>\n      <td>-0.454545</td>\n      <td>-0.672176</td>\n    </tr>\n    <tr>\n      <th>15</th>\n      <td>-1.0</td>\n      <td>15</td>\n      <td>315</td>\n      <td>1.876190</td>\n      <td>1.180952</td>\n      <td>-1.257143</td>\n    </tr>\n    <tr>\n      <th>16</th>\n      <td>0.0</td>\n      <td>15</td>\n      <td>71</td>\n      <td>-0.281690</td>\n      <td>-1.211268</td>\n      <td>-0.802817</td>\n    </tr>\n    <tr>\n      <th>17</th>\n      <td>1.0</td>\n      <td>15</td>\n      <td>214</td>\n      <td>0.098131</td>\n      <td>-0.836449</td>\n      <td>-0.518692</td>\n    </tr>\n    <tr>\n      <th>18</th>\n      <td>-1.0</td>\n      <td>16</td>\n      <td>246</td>\n      <td>1.934959</td>\n      <td>1.386179</td>\n      <td>-1.284553</td>\n    </tr>\n    <tr>\n      <th>19</th>\n      <td>0.0</td>\n      <td>16</td>\n      <td>67</td>\n      <td>-0.388060</td>\n      <td>-0.865672</td>\n      <td>-0.895522</td>\n    </tr>\n    <tr>\n      <th>20</th>\n      <td>1.0</td>\n      <td>16</td>\n      <td>166</td>\n      <td>0.126506</td>\n      <td>-0.783133</td>\n      <td>-0.626506</td>\n    </tr>\n    <tr>\n      <th>21</th>\n      <td>-1.0</td>\n      <td>17</td>\n      <td>145</td>\n      <td>1.827586</td>\n      <td>1.268966</td>\n      <td>-1.337931</td>\n    </tr>\n    <tr>\n      <th>22</th>\n      <td>0.0</td>\n      <td>17</td>\n      <td>56</td>\n      <td>0.232143</td>\n      <td>-0.589286</td>\n      <td>-0.803571</td>\n    </tr>\n    <tr>\n      <th>23</th>\n      <td>1.0</td>\n      <td>17</td>\n      <td>97</td>\n      <td>0.237113</td>\n      <td>-0.804124</td>\n      <td>-1.051546</td>\n    </tr>\n    <tr>\n      <th>24</th>\n      <td>-1.0</td>\n      <td>18</td>\n      <td>109</td>\n      <td>2.055046</td>\n      <td>1.467890</td>\n      <td>-1.449541</td>\n    </tr>\n    <tr>\n      <th>25</th>\n      <td>0.0</td>\n      <td>18</td>\n      <td>40</td>\n      <td>1.725000</td>\n      <td>0.125000</td>\n      <td>-2.025000</td>\n    </tr>\n    <tr>\n      <th>26</th>\n      <td>1.0</td>\n      <td>18</td>\n      <td>73</td>\n      <td>0.191781</td>\n      <td>-0.643836</td>\n      <td>-0.767123</td>\n    </tr>\n    <tr>\n      <th>27</th>\n      <td>-1.0</td>\n      <td>19</td>\n      <td>41</td>\n      <td>3.073171</td>\n      <td>1.853659</td>\n      <td>-1.804878</td>\n    </tr>\n    <tr>\n      <th>28</th>\n      <td>0.0</td>\n      <td>19</td>\n      <td>17</td>\n      <td>1.235294</td>\n      <td>-0.647059</td>\n      <td>-1.470588</td>\n    </tr>\n    <tr>\n      <th>29</th>\n      <td>1.0</td>\n      <td>19</td>\n      <td>26</td>\n      <td>0.692308</td>\n      <td>1.230769</td>\n      <td>-0.923077</td>\n    </tr>\n    <tr>\n      <th>30</th>\n      <td>-1.0</td>\n      <td>20</td>\n      <td>16</td>\n      <td>6.187500</td>\n      <td>3.687500</td>\n      <td>-3.750000</td>\n    </tr>\n    <tr>\n      <th>31</th>\n      <td>0.0</td>\n      <td>20</td>\n      <td>8</td>\n      <td>0.625000</td>\n      <td>-0.750000</td>\n      <td>-2.125000</td>\n    </tr>\n    <tr>\n      <th>32</th>\n      <td>1.0</td>\n      <td>20</td>\n      <td>9</td>\n      <td>0.555556</td>\n      <td>0.222222</td>\n      <td>0.888889</td>\n    </tr>\n    <tr>\n      <th>33</th>\n      <td>-1.0</td>\n      <td>21</td>\n      <td>10</td>\n      <td>6.500000</td>\n      <td>5.200000</td>\n      <td>-3.300000</td>\n    </tr>\n    <tr>\n      <th>34</th>\n      <td>0.0</td>\n      <td>21</td>\n      <td>6</td>\n      <td>-1.166667</td>\n      <td>-1.000000</td>\n      <td>-1.000000</td>\n    </tr>\n    <tr>\n      <th>35</th>\n      <td>1.0</td>\n      <td>21</td>\n      <td>6</td>\n      <td>2.333333</td>\n      <td>0.666667</td>\n      <td>-1.166667</td>\n    </tr>\n    <tr>\n      <th>36</th>\n      <td>-1.0</td>\n      <td>22</td>\n      <td>5</td>\n      <td>13.200000</td>\n      <td>9.200000</td>\n      <td>-6.400000</td>\n    </tr>\n    <tr>\n      <th>37</th>\n      <td>0.0</td>\n      <td>22</td>\n      <td>5</td>\n      <td>-1.600000</td>\n      <td>-2.000000</td>\n      <td>0.400000</td>\n    </tr>\n    <tr>\n      <th>38</th>\n      <td>1.0</td>\n      <td>22</td>\n      <td>4</td>\n      <td>1.500000</td>\n      <td>2.750000</td>\n      <td>-1.750000</td>\n    </tr>\n  </tbody>\n</table>\n</div>"
     },
     "execution_count": 85,
     "metadata": {},
     "output_type": "execute_result"
    }
   ],
   "source": [
    "(df_all_stats.reset_index(drop=True))[['spins_non_on_delta_sgn', 'ddl_threshold', 'total', 'avg_pop_delta', 'avg_fav_delta', 'avg_ddl_delta']]"
   ],
   "metadata": {
    "collapsed": false
   }
  },
  {
   "cell_type": "code",
   "execution_count": 86,
   "outputs": [
    {
     "data": {
      "text/plain": "0   -1.0\n1    0.0\n2    1.0\n0   -1.0\n1    0.0\n2    1.0\n0   -1.0\n1    0.0\n2    1.0\n0   -1.0\n1    0.0\n2    1.0\n0   -1.0\n1    0.0\n2    1.0\n0   -1.0\n1    0.0\n2    1.0\n0   -1.0\n1    0.0\n2    1.0\n0   -1.0\n1    0.0\n2    1.0\n0   -1.0\n1    0.0\n2    1.0\n0   -1.0\n1    0.0\n2    1.0\n0   -1.0\n1    0.0\n2    1.0\n0   -1.0\n1    0.0\n2    1.0\n0   -1.0\n1    0.0\n2    1.0\nName: spins_non_on_delta_sgn, dtype: float64"
     },
     "execution_count": 86,
     "metadata": {},
     "output_type": "execute_result"
    }
   ],
   "source": [
    "df_all_stats['spins_non_on_delta_sgn']"
   ],
   "metadata": {
    "collapsed": false
   }
  },
  {
   "cell_type": "code",
   "execution_count": 87,
   "outputs": [
    {
     "name": "stdout",
     "output_type": "stream",
     "text": [
      "0.85\n",
      "0.90\n",
      "0.95\n",
      "1.00\n",
      "1.05\n",
      "1.10\n",
      "1.15\n",
      "1.20\n",
      "1.25\n",
      "1.30\n",
      "1.35\n",
      "1.40\n",
      "1.45\n",
      "1.50\n"
     ]
    }
   ],
   "source": [
    "df_all_stats_f2b = pd.DataFrame( columns=['spins_non_on_delta_sgn', 'total', 'avg_pop_delta', 'min_pop_delta', 'max_pop_delta', 'avg_fav_delta', 'min_fav_delta', 'max_fav_delta', 'avg_ddl_delta', 'min_ddl_delta', 'max_ddl_delta', 'f2b_threshold'])\n",
    "\n",
    "for i in f2b_range:\n",
    "    print('%.2f'%i)\n",
    "    idx = (df_hits['f2b_track_' + '%.2f'%i] >= 2) & (df_hits['week_dt'] > df_hits['week_dt_r']) & (df_hits['format_code'] == 'C1')\n",
    "\n",
    "    df_temp  = df_hits.join(df_hits[idx].groupby(['call_letters' , 'mediabase_id']).agg({'week_dt':np.min}), on=['call_letters', 'mediabase_id'], how='right', rsuffix='_brn')\n",
    "    filter_idx = (df_temp['week_dt'] >= df_temp['week_dt_brn']) & (df_temp['week_dt'] <=  (df_temp['week_dt_brn']) + timedelta(weeks=26)) & (~pd.isna(df_temp['pop']))\n",
    "    df_temp_filter = df_temp[filter_idx][['format_code', 'call_letters', 'mediabase_id', 'week_dt', 'spins_non_on', 'spins_non_on_prev', 'pop', 'fav_metric', 'ddl_metric']]\n",
    "\n",
    "    # Spins Delta and sign\n",
    "    df_test = pd.DataFrame(df_temp_filter.groupby(['call_letters' , 'mediabase_id']).apply(lambda x: np.sign(x['spins_non_on_prev'] - x['spins_non_on_prev'].shift(1))))\n",
    "    df_test.set_index(df_test.index.get_level_values(2), inplace=True)\n",
    "    df_temp_filter['spins_non_on_delta_sgn'] = df_test\n",
    "\n",
    "    df_test = pd.DataFrame(df_temp_filter.groupby(['call_letters' , 'mediabase_id']).apply(lambda x: x['spins_non_on_prev'] - x['spins_non_on_prev'].shift(1)))\n",
    "    df_test.set_index(df_test.index.get_level_values(2), inplace=True)\n",
    "    df_temp_filter['spins_non_on_delta'] = df_test\n",
    "\n",
    "    # DDL delta and sign\n",
    "    df_test = pd.DataFrame(df_temp_filter.groupby(['call_letters' , 'mediabase_id']).apply(lambda x: np.sign(x['ddl_metric'] - x['ddl_metric'].shift(1))))\n",
    "    df_test.set_index(df_test.index.get_level_values(2), inplace=True)\n",
    "    df_temp_filter['ddl_metric_delta_sgn'] = df_test\n",
    "\n",
    "    df_test = pd.DataFrame(df_temp_filter.groupby(['call_letters' , 'mediabase_id']).apply(lambda x: x['ddl_metric'] - x['ddl_metric'].shift(1)))\n",
    "    df_test.set_index(df_test.index.get_level_values(2), inplace=True)\n",
    "    df_temp_filter['ddl_metric_delta'] = df_test\n",
    "\n",
    "    # Fav delta and sign\n",
    "    df_test = pd.DataFrame(df_temp_filter.groupby(['call_letters' , 'mediabase_id']).apply(lambda x: np.sign(x['fav_metric'] - x['fav_metric'].shift(1))))\n",
    "    df_test.set_index(df_test.index.get_level_values(2), inplace=True)\n",
    "    df_temp_filter['fav_metric_delta_sgn'] = df_test\n",
    "\n",
    "    df_test = pd.DataFrame(df_temp_filter.groupby(['call_letters' , 'mediabase_id']).apply(lambda x: x['fav_metric'] - x['fav_metric'].shift(1)))\n",
    "    df_test.set_index(df_test.index.get_level_values(2), inplace=True)\n",
    "    df_temp_filter['fav_metric_delta'] = df_test\n",
    "\n",
    "    # Pop delta and sign\n",
    "    df_test = pd.DataFrame(df_temp_filter.groupby(['call_letters' , 'mediabase_id']).apply(lambda x: np.sign(x['pop'] - x['pop'].shift(1))))\n",
    "    df_test.set_index(df_test.index.get_level_values(2), inplace=True)\n",
    "    df_temp_filter['pop_delta_sgn'] = df_test\n",
    "\n",
    "    df_test = pd.DataFrame(df_temp_filter.groupby(['call_letters' , 'mediabase_id']).apply(lambda x: x['pop'] - x['pop'].shift(1)))\n",
    "    df_test.set_index(df_test.index.get_level_values(2), inplace=True)\n",
    "    df_temp_filter['pop_delta'] = df_test\n",
    "\n",
    "    # df_temp_filter['spins_non_on_delta'].plot(kind='hist', bins=np.arange(-60,68,2))\n",
    "    # plt.show()\n",
    "\n",
    "    df_out = df_temp_filter.groupby(['spins_non_on_delta_sgn']).agg({'week_dt': len, 'pop_delta':[np.mean, np.min, np.max], 'fav_metric_delta': [np.mean, np.min, np.max], 'ddl_metric_delta': [np.mean, np.min, np.max]}).reset_index()\n",
    "    df_out.columns = ['spins_non_on_delta_sgn', 'total', 'avg_pop_delta', 'min_pop_delta', 'max_pop_delta', 'avg_fav_delta', 'min_fav_delta', 'max_fav_delta',\n",
    "                      'avg_ddl_delta', 'min_ddl_delta', 'max_ddl_delta']\n",
    "\n",
    "    df_out['f2b_threshold'] = '%.2f'%i\n",
    "    df_all_stats_f2b =  pd.concat([df_all_stats_f2b, df_out])"
   ],
   "metadata": {
    "collapsed": false
   }
  },
  {
   "cell_type": "code",
   "execution_count": 88,
   "outputs": [
    {
     "data": {
      "text/plain": "    spins_non_on_delta_sgn f2b_threshold total  avg_pop_delta  avg_fav_delta  \\\n0                     -1.0          0.85    16      -0.250000      -0.187500   \n1                      0.0          0.85     4      -0.250000      -2.500000   \n2                      1.0          0.85    19       1.894737       2.000000   \n3                     -1.0          0.90    27       0.925926       0.962963   \n4                      0.0          0.90     5      -1.600000      -2.600000   \n5                      1.0          0.90    27       1.407407       1.370370   \n6                     -1.0          0.95    44       0.431818       0.795455   \n7                      0.0          0.95     6      -0.333333      -0.333333   \n8                      1.0          0.95    34       1.941176       1.500000   \n9                     -1.0          1.00    59       1.084746       1.033898   \n10                     0.0          1.00     6      -2.500000      -2.833333   \n11                     1.0          1.00    40       1.425000       1.375000   \n12                    -1.0          1.05    60       0.866667       1.000000   \n13                     0.0          1.05     8       0.375000      -1.875000   \n14                     1.0          1.05    40       1.425000       1.375000   \n15                    -1.0          1.10   100       1.750000       1.930000   \n16                     0.0          1.10    16      -1.875000      -2.937500   \n17                     1.0          1.10    59       1.322034       1.305085   \n18                    -1.0          1.15   117       1.974359       1.846154   \n19                     0.0          1.15    18      -1.555556      -2.777778   \n20                     1.0          1.15    72       0.444444       1.083333   \n21                    -1.0          1.20   155       2.432258       2.296774   \n22                     0.0          1.20    24      -1.500000      -2.875000   \n23                     1.0          1.20   103       0.689320       0.873786   \n24                    -1.0          1.25   187       2.427807       2.283422   \n25                     0.0          1.25    39      -0.307692      -1.615385   \n26                     1.0          1.25   129       0.542636       0.496124   \n27                    -1.0          1.30   238       1.882353       2.042017   \n28                     0.0          1.30    48       0.270833      -1.354167   \n29                     1.0          1.30   155       0.464516       0.277419   \n30                    -1.0          1.35   287       2.010453       2.080139   \n31                     0.0          1.35    51      -0.411765      -1.490196   \n32                     1.0          1.35   187       0.085561       0.042781   \n33                    -1.0          1.40   357       1.661064       1.848739   \n34                     0.0          1.40    63      -0.269841      -1.476190   \n35                     1.0          1.40   218       0.123853      -0.160550   \n36                    -1.0          1.45   417       1.666667       1.755396   \n37                     0.0          1.45    71      -0.478873      -1.676056   \n38                     1.0          1.45   263       0.410646      -0.076046   \n39                    -1.0          1.50   495       2.038384       1.866667   \n40                     0.0          1.50    84       0.214286      -0.809524   \n41                     1.0          1.50   306       0.062092      -0.019608   \n\n    avg_ddl_delta  \n0        0.062500  \n1       -1.750000  \n2       -0.631579  \n3       -0.148148  \n4       -1.400000  \n5       -0.407407  \n6        0.113636  \n7       -0.833333  \n8       -0.382353  \n9       -0.067797  \n10      -0.166667  \n11      -0.200000  \n12       0.116667  \n13      -1.875000  \n14      -0.200000  \n15      -0.490000  \n16      -1.062500  \n17      -0.338983  \n18      -0.666667  \n19      -1.166667  \n20       0.472222  \n21      -0.709677  \n22      -1.458333  \n23       0.077670  \n24      -0.695187  \n25      -1.051282  \n26       0.015504  \n27      -0.495798  \n28      -0.833333  \n29      -0.006452  \n30      -0.536585  \n31      -0.568627  \n32      -0.176471  \n33      -0.324930  \n34      -0.857143  \n35      -0.261468  \n36      -0.484412  \n37      -0.647887  \n38      -0.361217  \n39      -0.652525  \n40      -1.154762  \n41      -0.107843  ",
      "text/html": "<div>\n<style scoped>\n    .dataframe tbody tr th:only-of-type {\n        vertical-align: middle;\n    }\n\n    .dataframe tbody tr th {\n        vertical-align: top;\n    }\n\n    .dataframe thead th {\n        text-align: right;\n    }\n</style>\n<table border=\"1\" class=\"dataframe\">\n  <thead>\n    <tr style=\"text-align: right;\">\n      <th></th>\n      <th>spins_non_on_delta_sgn</th>\n      <th>f2b_threshold</th>\n      <th>total</th>\n      <th>avg_pop_delta</th>\n      <th>avg_fav_delta</th>\n      <th>avg_ddl_delta</th>\n    </tr>\n  </thead>\n  <tbody>\n    <tr>\n      <th>0</th>\n      <td>-1.0</td>\n      <td>0.85</td>\n      <td>16</td>\n      <td>-0.250000</td>\n      <td>-0.187500</td>\n      <td>0.062500</td>\n    </tr>\n    <tr>\n      <th>1</th>\n      <td>0.0</td>\n      <td>0.85</td>\n      <td>4</td>\n      <td>-0.250000</td>\n      <td>-2.500000</td>\n      <td>-1.750000</td>\n    </tr>\n    <tr>\n      <th>2</th>\n      <td>1.0</td>\n      <td>0.85</td>\n      <td>19</td>\n      <td>1.894737</td>\n      <td>2.000000</td>\n      <td>-0.631579</td>\n    </tr>\n    <tr>\n      <th>3</th>\n      <td>-1.0</td>\n      <td>0.90</td>\n      <td>27</td>\n      <td>0.925926</td>\n      <td>0.962963</td>\n      <td>-0.148148</td>\n    </tr>\n    <tr>\n      <th>4</th>\n      <td>0.0</td>\n      <td>0.90</td>\n      <td>5</td>\n      <td>-1.600000</td>\n      <td>-2.600000</td>\n      <td>-1.400000</td>\n    </tr>\n    <tr>\n      <th>5</th>\n      <td>1.0</td>\n      <td>0.90</td>\n      <td>27</td>\n      <td>1.407407</td>\n      <td>1.370370</td>\n      <td>-0.407407</td>\n    </tr>\n    <tr>\n      <th>6</th>\n      <td>-1.0</td>\n      <td>0.95</td>\n      <td>44</td>\n      <td>0.431818</td>\n      <td>0.795455</td>\n      <td>0.113636</td>\n    </tr>\n    <tr>\n      <th>7</th>\n      <td>0.0</td>\n      <td>0.95</td>\n      <td>6</td>\n      <td>-0.333333</td>\n      <td>-0.333333</td>\n      <td>-0.833333</td>\n    </tr>\n    <tr>\n      <th>8</th>\n      <td>1.0</td>\n      <td>0.95</td>\n      <td>34</td>\n      <td>1.941176</td>\n      <td>1.500000</td>\n      <td>-0.382353</td>\n    </tr>\n    <tr>\n      <th>9</th>\n      <td>-1.0</td>\n      <td>1.00</td>\n      <td>59</td>\n      <td>1.084746</td>\n      <td>1.033898</td>\n      <td>-0.067797</td>\n    </tr>\n    <tr>\n      <th>10</th>\n      <td>0.0</td>\n      <td>1.00</td>\n      <td>6</td>\n      <td>-2.500000</td>\n      <td>-2.833333</td>\n      <td>-0.166667</td>\n    </tr>\n    <tr>\n      <th>11</th>\n      <td>1.0</td>\n      <td>1.00</td>\n      <td>40</td>\n      <td>1.425000</td>\n      <td>1.375000</td>\n      <td>-0.200000</td>\n    </tr>\n    <tr>\n      <th>12</th>\n      <td>-1.0</td>\n      <td>1.05</td>\n      <td>60</td>\n      <td>0.866667</td>\n      <td>1.000000</td>\n      <td>0.116667</td>\n    </tr>\n    <tr>\n      <th>13</th>\n      <td>0.0</td>\n      <td>1.05</td>\n      <td>8</td>\n      <td>0.375000</td>\n      <td>-1.875000</td>\n      <td>-1.875000</td>\n    </tr>\n    <tr>\n      <th>14</th>\n      <td>1.0</td>\n      <td>1.05</td>\n      <td>40</td>\n      <td>1.425000</td>\n      <td>1.375000</td>\n      <td>-0.200000</td>\n    </tr>\n    <tr>\n      <th>15</th>\n      <td>-1.0</td>\n      <td>1.10</td>\n      <td>100</td>\n      <td>1.750000</td>\n      <td>1.930000</td>\n      <td>-0.490000</td>\n    </tr>\n    <tr>\n      <th>16</th>\n      <td>0.0</td>\n      <td>1.10</td>\n      <td>16</td>\n      <td>-1.875000</td>\n      <td>-2.937500</td>\n      <td>-1.062500</td>\n    </tr>\n    <tr>\n      <th>17</th>\n      <td>1.0</td>\n      <td>1.10</td>\n      <td>59</td>\n      <td>1.322034</td>\n      <td>1.305085</td>\n      <td>-0.338983</td>\n    </tr>\n    <tr>\n      <th>18</th>\n      <td>-1.0</td>\n      <td>1.15</td>\n      <td>117</td>\n      <td>1.974359</td>\n      <td>1.846154</td>\n      <td>-0.666667</td>\n    </tr>\n    <tr>\n      <th>19</th>\n      <td>0.0</td>\n      <td>1.15</td>\n      <td>18</td>\n      <td>-1.555556</td>\n      <td>-2.777778</td>\n      <td>-1.166667</td>\n    </tr>\n    <tr>\n      <th>20</th>\n      <td>1.0</td>\n      <td>1.15</td>\n      <td>72</td>\n      <td>0.444444</td>\n      <td>1.083333</td>\n      <td>0.472222</td>\n    </tr>\n    <tr>\n      <th>21</th>\n      <td>-1.0</td>\n      <td>1.20</td>\n      <td>155</td>\n      <td>2.432258</td>\n      <td>2.296774</td>\n      <td>-0.709677</td>\n    </tr>\n    <tr>\n      <th>22</th>\n      <td>0.0</td>\n      <td>1.20</td>\n      <td>24</td>\n      <td>-1.500000</td>\n      <td>-2.875000</td>\n      <td>-1.458333</td>\n    </tr>\n    <tr>\n      <th>23</th>\n      <td>1.0</td>\n      <td>1.20</td>\n      <td>103</td>\n      <td>0.689320</td>\n      <td>0.873786</td>\n      <td>0.077670</td>\n    </tr>\n    <tr>\n      <th>24</th>\n      <td>-1.0</td>\n      <td>1.25</td>\n      <td>187</td>\n      <td>2.427807</td>\n      <td>2.283422</td>\n      <td>-0.695187</td>\n    </tr>\n    <tr>\n      <th>25</th>\n      <td>0.0</td>\n      <td>1.25</td>\n      <td>39</td>\n      <td>-0.307692</td>\n      <td>-1.615385</td>\n      <td>-1.051282</td>\n    </tr>\n    <tr>\n      <th>26</th>\n      <td>1.0</td>\n      <td>1.25</td>\n      <td>129</td>\n      <td>0.542636</td>\n      <td>0.496124</td>\n      <td>0.015504</td>\n    </tr>\n    <tr>\n      <th>27</th>\n      <td>-1.0</td>\n      <td>1.30</td>\n      <td>238</td>\n      <td>1.882353</td>\n      <td>2.042017</td>\n      <td>-0.495798</td>\n    </tr>\n    <tr>\n      <th>28</th>\n      <td>0.0</td>\n      <td>1.30</td>\n      <td>48</td>\n      <td>0.270833</td>\n      <td>-1.354167</td>\n      <td>-0.833333</td>\n    </tr>\n    <tr>\n      <th>29</th>\n      <td>1.0</td>\n      <td>1.30</td>\n      <td>155</td>\n      <td>0.464516</td>\n      <td>0.277419</td>\n      <td>-0.006452</td>\n    </tr>\n    <tr>\n      <th>30</th>\n      <td>-1.0</td>\n      <td>1.35</td>\n      <td>287</td>\n      <td>2.010453</td>\n      <td>2.080139</td>\n      <td>-0.536585</td>\n    </tr>\n    <tr>\n      <th>31</th>\n      <td>0.0</td>\n      <td>1.35</td>\n      <td>51</td>\n      <td>-0.411765</td>\n      <td>-1.490196</td>\n      <td>-0.568627</td>\n    </tr>\n    <tr>\n      <th>32</th>\n      <td>1.0</td>\n      <td>1.35</td>\n      <td>187</td>\n      <td>0.085561</td>\n      <td>0.042781</td>\n      <td>-0.176471</td>\n    </tr>\n    <tr>\n      <th>33</th>\n      <td>-1.0</td>\n      <td>1.40</td>\n      <td>357</td>\n      <td>1.661064</td>\n      <td>1.848739</td>\n      <td>-0.324930</td>\n    </tr>\n    <tr>\n      <th>34</th>\n      <td>0.0</td>\n      <td>1.40</td>\n      <td>63</td>\n      <td>-0.269841</td>\n      <td>-1.476190</td>\n      <td>-0.857143</td>\n    </tr>\n    <tr>\n      <th>35</th>\n      <td>1.0</td>\n      <td>1.40</td>\n      <td>218</td>\n      <td>0.123853</td>\n      <td>-0.160550</td>\n      <td>-0.261468</td>\n    </tr>\n    <tr>\n      <th>36</th>\n      <td>-1.0</td>\n      <td>1.45</td>\n      <td>417</td>\n      <td>1.666667</td>\n      <td>1.755396</td>\n      <td>-0.484412</td>\n    </tr>\n    <tr>\n      <th>37</th>\n      <td>0.0</td>\n      <td>1.45</td>\n      <td>71</td>\n      <td>-0.478873</td>\n      <td>-1.676056</td>\n      <td>-0.647887</td>\n    </tr>\n    <tr>\n      <th>38</th>\n      <td>1.0</td>\n      <td>1.45</td>\n      <td>263</td>\n      <td>0.410646</td>\n      <td>-0.076046</td>\n      <td>-0.361217</td>\n    </tr>\n    <tr>\n      <th>39</th>\n      <td>-1.0</td>\n      <td>1.50</td>\n      <td>495</td>\n      <td>2.038384</td>\n      <td>1.866667</td>\n      <td>-0.652525</td>\n    </tr>\n    <tr>\n      <th>40</th>\n      <td>0.0</td>\n      <td>1.50</td>\n      <td>84</td>\n      <td>0.214286</td>\n      <td>-0.809524</td>\n      <td>-1.154762</td>\n    </tr>\n    <tr>\n      <th>41</th>\n      <td>1.0</td>\n      <td>1.50</td>\n      <td>306</td>\n      <td>0.062092</td>\n      <td>-0.019608</td>\n      <td>-0.107843</td>\n    </tr>\n  </tbody>\n</table>\n</div>"
     },
     "execution_count": 88,
     "metadata": {},
     "output_type": "execute_result"
    }
   ],
   "source": [
    "(df_all_stats_f2b.reset_index(drop=True))[['spins_non_on_delta_sgn', 'f2b_threshold', 'total', 'avg_pop_delta', 'avg_fav_delta', 'avg_ddl_delta']]"
   ],
   "metadata": {
    "collapsed": false
   }
  },
  {
   "cell_type": "code",
   "execution_count": 89,
   "outputs": [
    {
     "data": {
      "text/plain": "f2b_threshold\n0.85    0.866025\n0.90    0.149031\n0.95    0.652065\n1.00    0.078236\n1.05    0.531389\n1.10   -0.108021\n1.15   -0.432139\n1.20   -0.442292\n1.25   -0.673279\n1.30   -0.805730\n1.35   -0.752321\n1.40   -0.753293\n1.45   -0.582584\n1.50   -0.898548\ndtype: float64"
     },
     "execution_count": 89,
     "metadata": {},
     "output_type": "execute_result"
    }
   ],
   "source": [
    "df_all_stats_f2b.groupby(['f2b_threshold']).apply(lambda x: (x['spins_non_on_delta_sgn'].corr( x['avg_pop_delta'])))"
   ],
   "metadata": {
    "collapsed": false
   }
  },
  {
   "cell_type": "markdown",
   "source": [
    "#### pre-burn vs post burn drop off in pop"
   ],
   "metadata": {
    "collapsed": false
   }
  },
  {
   "cell_type": "code",
   "execution_count": 90,
   "outputs": [],
   "source": [
    "df_test_count = pd.DataFrame(columns= ['format_code', 'call_letters', 'mediabase_id', 'weeks', 'pre_test', 'post_tests', 'metric', 'metric_threshold'])\n",
    "for i in ddl_range:\n",
    "    for fmt in major_formats:\n",
    "        for wks in [4, 8 ,13, 26]:\n",
    "            # print(fmt)\n",
    "            id_cols = ['format_code', 'call_letters', 'mediabase_id']\n",
    "            idx = (df_hits['ddl_track_' + str(int(i))] >= 2) & (df_hits['week_dt'] > df_hits['week_dt_r']) & (df_hits['format_code'] == fmt)\n",
    "\n",
    "            df_temp  = df_hits.join(df_hits[idx].groupby(['format_code', 'call_letters' , 'mediabase_id']).agg({'week_dt':np.min}), on=['format_code', 'call_letters', 'mediabase_id'], how='right', rsuffix='_brn')\n",
    "            filter_idx_post = (df_temp['week_dt'] > df_temp['week_dt_brn']) & (df_temp['week_dt'] <=  (df_temp['week_dt_brn']) + timedelta(weeks=wks)) & (~pd.isna(df_temp['pop']))\n",
    "            df_temp_filter_post = df_temp[filter_idx_post][['format_code', 'call_letters', 'mediabase_id', 'week_dt', 'spins_non_on', 'spins_non_on_prev', 'pop', 'fav_metric', 'ddl_metric']]\n",
    "\n",
    "            filter_idx_pre = (df_temp['week_dt'] < df_temp['week_dt_brn']) & (df_temp['week_dt'] >=  (df_temp['week_dt_brn']) + timedelta(weeks=-wks)) & (~pd.isna(df_temp['pop']))\n",
    "            df_temp_filter_pre = df_temp[filter_idx_pre][['format_code', 'call_letters', 'mediabase_id', 'week_dt', 'spins_non_on', 'spins_non_on_prev', 'pop', 'fav_metric', 'ddl_metric']]\n",
    "\n",
    "            test_count = pd.DataFrame(df_temp_filter_pre.groupby(id_cols).apply(lambda x: len(~pd.isna(x['pop']))), columns=['pre_test'])\n",
    "\n",
    "            test_count['post_tests'] = df_temp_filter_post.groupby(id_cols).apply(lambda x: len(~pd.isna(x['pop'])))\n",
    "\n",
    "            test_count['weeks'] = wks\n",
    "            test_count.reset_index(inplace=True)\n",
    "            test_count['metric'] = 'ddl'\n",
    "            test_count['metric_threshold'] = str(int(i))\n",
    "\n",
    "            df_test_count = pd.concat([test_count, df_test_count])"
   ],
   "metadata": {
    "collapsed": false
   }
  },
  {
   "cell_type": "code",
   "execution_count": 91,
   "outputs": [],
   "source": [
    "df_tests_avl = df_test_count.groupby(['format_code', 'metric_threshold', 'weeks']).apply(lambda x: [len(x), sum(x['pre_test'] >= 2), sum(x['post_tests'] >= 2), sum(x['post_tests'] == 1), sum(x['post_tests'].fillna(0) == 0)])"
   ],
   "metadata": {
    "collapsed": false
   }
  },
  {
   "cell_type": "code",
   "execution_count": 92,
   "outputs": [],
   "source": [
    "df_temp_diff = pd.DataFrame(columns= ['format_code', 'call_letters', 'mediabase_id', 'fav_metric', 'ddl_metric', 'pop', 'metric', 'metric_threshold'])\n",
    "df_test_track = pd.DataFrame(columns= ['format_code', 'call_letters', 'mediabase_id', 'fav_metric', 'ddl_metric', 'pop','num_tests_pre', 'num_tests_post', 'metric', 'metric_threshold'])\n",
    "for i in ddl_range:\n",
    "    for fmt in major_formats:\n",
    "        # print(fmt)\n",
    "        id_cols = ['format_code', 'call_letters', 'mediabase_id']\n",
    "        idx = (df_hits['ddl_track_' + str(int(i))] >= 2) & (df_hits['week_dt'] > df_hits['week_dt_r']) & (df_hits['format_code'] == fmt)\n",
    "\n",
    "        df_temp  = df_hits.join(df_hits[idx].groupby(['format_code', 'call_letters' , 'mediabase_id']).agg({'week_dt':np.min}), on=['format_code', 'call_letters', 'mediabase_id'], how='right', rsuffix='_brn')\n",
    "        filter_idx_post = (df_temp['week_dt'] > df_temp['week_dt_brn']) & (df_temp['week_dt'] <=  (df_temp['week_dt_brn']) + timedelta(weeks=13)) & (~pd.isna(df_temp['pop']))\n",
    "        df_temp_filter_post = df_temp[filter_idx_post][['format_code', 'call_letters', 'mediabase_id', 'week_dt', 'spins_non_on', 'spins_non_on_prev', 'pop', 'fav_metric', 'ddl_metric']]\n",
    "\n",
    "        filter_idx_pre = (df_temp['week_dt'] < df_temp['week_dt_brn']) & (df_temp['week_dt'] >=  (df_temp['week_dt_brn']) + timedelta(weeks=-13)) & (~pd.isna(df_temp['pop']))\n",
    "        df_temp_filter_pre = df_temp[filter_idx_pre][['format_code', 'call_letters', 'mediabase_id', 'week_dt', 'spins_non_on', 'spins_non_on_prev', 'pop', 'fav_metric', 'ddl_metric']]\n",
    "\n",
    "\n",
    "        temp_diff = pd.DataFrame(df_temp_filter_post.groupby(id_cols).agg({'fav_metric': np.nanmean, 'ddl_metric':np.nanmean, 'pop':np.nanmean}) - df_temp_filter_pre.groupby(id_cols).agg({'fav_metric': np.nanmean, 'ddl_metric':np.nanmean, 'pop':np.nanmean}))\n",
    "        # print(df_temp_filter_pre.groupby(id_cols).agg({'pop': np.mean}))\n",
    "\n",
    "        test_track = pd.DataFrame(df_temp_filter_post.groupby(id_cols).agg({'fav_metric': np.mean, 'ddl_metric':np.mean, 'pop':np.mean}) - df_temp_filter_pre.groupby(id_cols).agg({'fav_metric': np.mean, 'ddl_metric':np.mean, 'pop':np.mean}))\n",
    "        test_track['num_tests_pre'] = df_temp_filter_pre.groupby(id_cols).apply(lambda x: len(~pd.isna(x['pop'])))\n",
    "        test_track['num_tests_post'] = df_temp_filter_post.groupby(id_cols).apply(lambda x: len(~pd.isna(x['pop'])))\n",
    "        test_track['metric'] = 'ddl'\n",
    "        test_track['metric_threshold'] = str(int(i))\n",
    "        test_track.reset_index(inplace=True)\n",
    "        df_test_track = pd.concat([test_track, df_test_track])\n",
    "\n",
    "\n",
    "        temp_diff.dropna(inplace=True)\n",
    "        temp_diff.reset_index(inplace=True)\n",
    "        temp_diff['metric'] = 'ddl'\n",
    "        temp_diff['metric_threshold'] = str(int(i))\n",
    "\n",
    "        df_temp_diff = pd.concat([temp_diff, df_temp_diff])"
   ],
   "metadata": {
    "collapsed": false
   }
  },
  {
   "cell_type": "code",
   "execution_count": 93,
   "outputs": [
    {
     "data": {
      "text/plain": "array(['U1', 'H1', 'C1'], dtype=object)"
     },
     "execution_count": 93,
     "metadata": {},
     "output_type": "execute_result"
    }
   ],
   "source": [
    "pd.unique(df_temp_diff['format_code'])"
   ],
   "metadata": {
    "collapsed": false
   }
  },
  {
   "cell_type": "code",
   "execution_count": 94,
   "outputs": [],
   "source": [
    "df_temp_diff_f2b = pd.DataFrame(columns= ['format_code', 'call_letters', 'mediabase_id', 'fav_metric', 'ddl_metric', 'pop', 'metric', 'metric_threshold'])\n",
    "df_test_track_f2b = pd.DataFrame(columns= ['format_code', 'call_letters', 'mediabase_id', 'fav_metric', 'ddl_metric', 'pop','num_tests_pre', 'num_tests_post', 'metric', 'metric_threshold'])\n",
    "for i in f2b_range:\n",
    "    for fmt in major_formats:\n",
    "        id_cols = ['format_code', 'call_letters', 'mediabase_id']\n",
    "        idx = (df_hits['f2b_track_' + '%.2f'%i] >= 2) & (df_hits['week_dt'] > df_hits['week_dt_r']) & (df_hits['format_code'] == fmt)\n",
    "\n",
    "        df_temp  = df_hits.join(df_hits[idx].groupby(['format_code', 'call_letters' , 'mediabase_id']).agg({'week_dt':np.min}), on=['format_code', 'call_letters', 'mediabase_id'], how='right', rsuffix='_brn')\n",
    "        filter_idx_post = (df_temp['week_dt'] > df_temp['week_dt_brn']) & (df_temp['week_dt'] <=  (df_temp['week_dt_brn']) + timedelta(weeks=13)) & (~pd.isna(df_temp['pop']))\n",
    "        df_temp_filter_post = df_temp[filter_idx_post][['format_code', 'call_letters', 'mediabase_id', 'week_dt', 'spins_non_on', 'spins_non_on_prev', 'pop', 'fav_metric', 'ddl_metric']]\n",
    "\n",
    "        filter_idx_pre = (df_temp['week_dt'] < df_temp['week_dt_brn']) & (df_temp['week_dt'] >=  (df_temp['week_dt_brn']) + timedelta(weeks=-13)) & (~pd.isna(df_temp['pop']))\n",
    "        df_temp_filter_pre = df_temp[filter_idx_pre][['format_code', 'call_letters', 'mediabase_id', 'week_dt', 'spins_non_on', 'spins_non_on_prev', 'pop', 'fav_metric', 'ddl_metric']]\n",
    "\n",
    "\n",
    "        temp_diff = pd.DataFrame(df_temp_filter_post.groupby(id_cols).agg({'fav_metric': np.mean, 'ddl_metric':np.mean, 'pop':np.mean}) - df_temp_filter_pre.groupby(id_cols).agg({'fav_metric': np.mean, 'ddl_metric':np.mean, 'pop':np.mean}))\n",
    "        # print(df_temp_filter_pre.groupby(id_cols).agg({'pop': np.mean}))\n",
    "\n",
    "        test_track = pd.DataFrame(df_temp_filter_post.groupby(id_cols).agg({'fav_metric': np.mean, 'ddl_metric':np.mean, 'pop':np.mean}) - df_temp_filter_pre.groupby(id_cols).agg({'fav_metric': np.mean, 'ddl_metric':np.mean, 'pop':np.mean}))\n",
    "        test_track['num_tests_pre'] = df_temp_filter_pre.groupby(id_cols).apply(lambda x: len(~pd.isna(x['pop'])))\n",
    "        test_track['num_tests_post'] = df_temp_filter_post.groupby(id_cols).apply(lambda x: len(~pd.isna(x['pop'])))\n",
    "        test_track['metric'] = 'f2b'\n",
    "        test_track['metric_threshold'] = '%.2f'%i\n",
    "        test_track.reset_index(inplace=True)\n",
    "        df_test_track_f2b = pd.concat([test_track, df_test_track_f2b])\n",
    "\n",
    "\n",
    "        temp_diff.dropna(inplace=True)\n",
    "        temp_diff.reset_index(inplace=True)\n",
    "        temp_diff['metric'] = 'f2b'\n",
    "        temp_diff['metric_threshold'] = '%.2f'%i\n",
    "\n",
    "        df_temp_diff_f2b = pd.concat([temp_diff, df_temp_diff_f2b])"
   ],
   "metadata": {
    "collapsed": false
   }
  },
  {
   "cell_type": "code",
   "execution_count": 95,
   "outputs": [],
   "source": [
    "df_diff = pd.concat([df_temp_diff, df_temp_diff_f2b])"
   ],
   "metadata": {
    "collapsed": false
   }
  },
  {
   "cell_type": "code",
   "execution_count": 96,
   "outputs": [
    {
     "data": {
      "text/plain": "array(['U1', 'H1', 'C1'], dtype=object)"
     },
     "execution_count": 96,
     "metadata": {},
     "output_type": "execute_result"
    }
   ],
   "source": [
    "pd.unique(df_diff['format_code'])"
   ],
   "metadata": {
    "collapsed": false
   }
  },
  {
   "cell_type": "code",
   "execution_count": 97,
   "outputs": [
    {
     "data": {
      "text/plain": "format_code\nA1     173\nA2     248\nC1    1037\nH1    2006\nL1     141\nL3      60\nO1      12\nR1      55\nR2     105\nR3     168\nU1     673\nU2      41\nY0     263\ndtype: int64"
     },
     "execution_count": 97,
     "metadata": {},
     "output_type": "execute_result"
    }
   ],
   "source": [
    "df_hits.groupby(['format_code']).apply(lambda x:len(x[['call_letters', 'mediabase_id']].drop_duplicates()))"
   ],
   "metadata": {
    "collapsed": false
   }
  },
  {
   "cell_type": "code",
   "execution_count": 98,
   "outputs": [],
   "source": [
    "df_diff_summ = df_diff.groupby(['format_code', 'metric', 'metric_threshold']).agg({'mediabase_id':len}).join(pd.DataFrame(df_hits[df_hits['format_code'].isin(major_formats)].groupby(['format_code']).apply(lambda x:len(x[['call_letters', 'mediabase_id']].drop_duplicates())), columns=['total_songs']), on = ['format_code'], how='left')"
   ],
   "metadata": {
    "collapsed": false
   }
  },
  {
   "cell_type": "code",
   "execution_count": 99,
   "outputs": [],
   "source": [
    "df_diff_summ.columns = ['burnout_songs', 'total_songs']"
   ],
   "metadata": {
    "collapsed": false
   }
  },
  {
   "cell_type": "code",
   "execution_count": 100,
   "outputs": [],
   "source": [
    "df_diff_summ['fav_drop_count'] = df_diff.groupby(['format_code', 'metric', 'metric_threshold']).apply(lambda x: sum(x['fav_metric'] < -3))"
   ],
   "metadata": {
    "collapsed": false
   }
  },
  {
   "cell_type": "code",
   "execution_count": 101,
   "outputs": [],
   "source": [
    "df_diff_summ['ddl_inc_count'] = df_diff.groupby(['format_code', 'metric', 'metric_threshold']).apply(lambda x: sum(x['ddl_metric'] > 3))"
   ],
   "metadata": {
    "collapsed": false
   }
  },
  {
   "cell_type": "code",
   "execution_count": 102,
   "outputs": [],
   "source": [
    "df_diff_summ['pop_drop_count'] = df_diff.groupby(['format_code', 'metric', 'metric_threshold']).apply(lambda x: sum(x['pop'] < -5))"
   ],
   "metadata": {
    "collapsed": false
   }
  },
  {
   "cell_type": "code",
   "execution_count": 103,
   "outputs": [
    {
     "data": {
      "text/plain": "    format_code call_letters mediabase_id  fav_metric  ddl_metric        pop  \\\n3            C1      KEEY-FM      2684877   -2.050000    5.400000  -5.950000   \n5            C1      KEEY-FM      2727745    0.333333   11.333333  -5.333333   \n7            C1      KNIX-FM      2494621   -1.100000    1.250000  -5.150000   \n14           C1       KSD-FM      2537662  -16.000000    3.000000 -15.500000   \n16           C1       KSD-FM      2559023   -5.000000    0.333333  -9.166667   \n17           C1       KSD-FM      2589487  -10.333333    3.333333  -9.000000   \n18           C1       KSD-FM      2706913   -1.250000    8.250000  -8.750000   \n20           C1      KWBL-FM      2462855   -3.750000    5.500000  -7.250000   \n29           C1      WBWL-FM      2450485    0.500000    4.000000  -5.200000   \n30           C1      WBWL-FM      2466281   -8.750000    1.500000  -9.000000   \n32           C1      WBWL-FM      2494621   -1.733333    3.200000  -5.533333   \n33           C1      WBWL-FM      2497089  -16.200000    4.600000 -19.000000   \n34           C1      WBWL-FM      2535744   -5.000000    1.000000  -8.000000   \n35           C1      WBWL-FM      2569290   -1.333333    0.000000  -5.333333   \n43           C1      WCOL-FM      2706913   -4.000000    5.250000  -8.000000   \n47           C1      WFUS-FM      2450485   -5.600000    5.266667 -10.733333   \n48           C1      WGAR-FM      2430114   -1.500000    7.500000  -6.000000   \n49           C1      WGAR-FM      2462855   -3.250000    3.000000  -9.000000   \n53           C1      WGAR-FM      2535744    2.333333    2.333333  -5.666667   \n56           C1      WGAR-FM      2581334   -4.666667    2.333333  -8.666667   \n57           C1      WGAR-FM      2583792   -6.333333    4.000000  -6.666667   \n64           C1      WKKT-FM      2639159   -0.800000   15.800000 -20.400000   \n67           C1      WMIL-FM      2472878   -4.333333    3.000000  -9.000000   \n68           C1      WMIL-FM      2535744   -2.833333    4.333333  -6.666667   \n77           C1      WPGB-FM      2535744   -9.000000    8.250000 -13.000000   \n83           C1      WPGB-FM      2581334   -6.000000    9.250000 -10.000000   \n91           C1      WPOC-FM      2506847   -3.000000    0.166667  -5.333333   \n92           C1      WPOC-FM      2535744   -7.666667    4.333333 -11.000000   \n94           C1      WPOC-FM      2575049   -7.500000    7.000000 -14.750000   \n96           C1      WPOC-FM      2706913   -2.833333    4.666667  -8.416667   \n101          C1      WSIX-FM      2537662   -3.666667   -2.000000  -9.666667   \n103          C1      WSIX-FM      2648985   -8.500000    0.000000  -8.000000   \n107          C1      WUBL-FM      2542818  -14.200000   12.400000 -19.800000   \n109          C1      WUBL-FM      2706913   -6.750000    2.750000  -5.666667   \n\n    metric metric_threshold  \n3      ddl               16  \n5      ddl               16  \n7      ddl               16  \n14     ddl               16  \n16     ddl               16  \n17     ddl               16  \n18     ddl               16  \n20     ddl               16  \n29     ddl               16  \n30     ddl               16  \n32     ddl               16  \n33     ddl               16  \n34     ddl               16  \n35     ddl               16  \n43     ddl               16  \n47     ddl               16  \n48     ddl               16  \n49     ddl               16  \n53     ddl               16  \n56     ddl               16  \n57     ddl               16  \n64     ddl               16  \n67     ddl               16  \n68     ddl               16  \n77     ddl               16  \n83     ddl               16  \n91     ddl               16  \n92     ddl               16  \n94     ddl               16  \n96     ddl               16  \n101    ddl               16  \n103    ddl               16  \n107    ddl               16  \n109    ddl               16  ",
      "text/html": "<div>\n<style scoped>\n    .dataframe tbody tr th:only-of-type {\n        vertical-align: middle;\n    }\n\n    .dataframe tbody tr th {\n        vertical-align: top;\n    }\n\n    .dataframe thead th {\n        text-align: right;\n    }\n</style>\n<table border=\"1\" class=\"dataframe\">\n  <thead>\n    <tr style=\"text-align: right;\">\n      <th></th>\n      <th>format_code</th>\n      <th>call_letters</th>\n      <th>mediabase_id</th>\n      <th>fav_metric</th>\n      <th>ddl_metric</th>\n      <th>pop</th>\n      <th>metric</th>\n      <th>metric_threshold</th>\n    </tr>\n  </thead>\n  <tbody>\n    <tr>\n      <th>3</th>\n      <td>C1</td>\n      <td>KEEY-FM</td>\n      <td>2684877</td>\n      <td>-2.050000</td>\n      <td>5.400000</td>\n      <td>-5.950000</td>\n      <td>ddl</td>\n      <td>16</td>\n    </tr>\n    <tr>\n      <th>5</th>\n      <td>C1</td>\n      <td>KEEY-FM</td>\n      <td>2727745</td>\n      <td>0.333333</td>\n      <td>11.333333</td>\n      <td>-5.333333</td>\n      <td>ddl</td>\n      <td>16</td>\n    </tr>\n    <tr>\n      <th>7</th>\n      <td>C1</td>\n      <td>KNIX-FM</td>\n      <td>2494621</td>\n      <td>-1.100000</td>\n      <td>1.250000</td>\n      <td>-5.150000</td>\n      <td>ddl</td>\n      <td>16</td>\n    </tr>\n    <tr>\n      <th>14</th>\n      <td>C1</td>\n      <td>KSD-FM</td>\n      <td>2537662</td>\n      <td>-16.000000</td>\n      <td>3.000000</td>\n      <td>-15.500000</td>\n      <td>ddl</td>\n      <td>16</td>\n    </tr>\n    <tr>\n      <th>16</th>\n      <td>C1</td>\n      <td>KSD-FM</td>\n      <td>2559023</td>\n      <td>-5.000000</td>\n      <td>0.333333</td>\n      <td>-9.166667</td>\n      <td>ddl</td>\n      <td>16</td>\n    </tr>\n    <tr>\n      <th>17</th>\n      <td>C1</td>\n      <td>KSD-FM</td>\n      <td>2589487</td>\n      <td>-10.333333</td>\n      <td>3.333333</td>\n      <td>-9.000000</td>\n      <td>ddl</td>\n      <td>16</td>\n    </tr>\n    <tr>\n      <th>18</th>\n      <td>C1</td>\n      <td>KSD-FM</td>\n      <td>2706913</td>\n      <td>-1.250000</td>\n      <td>8.250000</td>\n      <td>-8.750000</td>\n      <td>ddl</td>\n      <td>16</td>\n    </tr>\n    <tr>\n      <th>20</th>\n      <td>C1</td>\n      <td>KWBL-FM</td>\n      <td>2462855</td>\n      <td>-3.750000</td>\n      <td>5.500000</td>\n      <td>-7.250000</td>\n      <td>ddl</td>\n      <td>16</td>\n    </tr>\n    <tr>\n      <th>29</th>\n      <td>C1</td>\n      <td>WBWL-FM</td>\n      <td>2450485</td>\n      <td>0.500000</td>\n      <td>4.000000</td>\n      <td>-5.200000</td>\n      <td>ddl</td>\n      <td>16</td>\n    </tr>\n    <tr>\n      <th>30</th>\n      <td>C1</td>\n      <td>WBWL-FM</td>\n      <td>2466281</td>\n      <td>-8.750000</td>\n      <td>1.500000</td>\n      <td>-9.000000</td>\n      <td>ddl</td>\n      <td>16</td>\n    </tr>\n    <tr>\n      <th>32</th>\n      <td>C1</td>\n      <td>WBWL-FM</td>\n      <td>2494621</td>\n      <td>-1.733333</td>\n      <td>3.200000</td>\n      <td>-5.533333</td>\n      <td>ddl</td>\n      <td>16</td>\n    </tr>\n    <tr>\n      <th>33</th>\n      <td>C1</td>\n      <td>WBWL-FM</td>\n      <td>2497089</td>\n      <td>-16.200000</td>\n      <td>4.600000</td>\n      <td>-19.000000</td>\n      <td>ddl</td>\n      <td>16</td>\n    </tr>\n    <tr>\n      <th>34</th>\n      <td>C1</td>\n      <td>WBWL-FM</td>\n      <td>2535744</td>\n      <td>-5.000000</td>\n      <td>1.000000</td>\n      <td>-8.000000</td>\n      <td>ddl</td>\n      <td>16</td>\n    </tr>\n    <tr>\n      <th>35</th>\n      <td>C1</td>\n      <td>WBWL-FM</td>\n      <td>2569290</td>\n      <td>-1.333333</td>\n      <td>0.000000</td>\n      <td>-5.333333</td>\n      <td>ddl</td>\n      <td>16</td>\n    </tr>\n    <tr>\n      <th>43</th>\n      <td>C1</td>\n      <td>WCOL-FM</td>\n      <td>2706913</td>\n      <td>-4.000000</td>\n      <td>5.250000</td>\n      <td>-8.000000</td>\n      <td>ddl</td>\n      <td>16</td>\n    </tr>\n    <tr>\n      <th>47</th>\n      <td>C1</td>\n      <td>WFUS-FM</td>\n      <td>2450485</td>\n      <td>-5.600000</td>\n      <td>5.266667</td>\n      <td>-10.733333</td>\n      <td>ddl</td>\n      <td>16</td>\n    </tr>\n    <tr>\n      <th>48</th>\n      <td>C1</td>\n      <td>WGAR-FM</td>\n      <td>2430114</td>\n      <td>-1.500000</td>\n      <td>7.500000</td>\n      <td>-6.000000</td>\n      <td>ddl</td>\n      <td>16</td>\n    </tr>\n    <tr>\n      <th>49</th>\n      <td>C1</td>\n      <td>WGAR-FM</td>\n      <td>2462855</td>\n      <td>-3.250000</td>\n      <td>3.000000</td>\n      <td>-9.000000</td>\n      <td>ddl</td>\n      <td>16</td>\n    </tr>\n    <tr>\n      <th>53</th>\n      <td>C1</td>\n      <td>WGAR-FM</td>\n      <td>2535744</td>\n      <td>2.333333</td>\n      <td>2.333333</td>\n      <td>-5.666667</td>\n      <td>ddl</td>\n      <td>16</td>\n    </tr>\n    <tr>\n      <th>56</th>\n      <td>C1</td>\n      <td>WGAR-FM</td>\n      <td>2581334</td>\n      <td>-4.666667</td>\n      <td>2.333333</td>\n      <td>-8.666667</td>\n      <td>ddl</td>\n      <td>16</td>\n    </tr>\n    <tr>\n      <th>57</th>\n      <td>C1</td>\n      <td>WGAR-FM</td>\n      <td>2583792</td>\n      <td>-6.333333</td>\n      <td>4.000000</td>\n      <td>-6.666667</td>\n      <td>ddl</td>\n      <td>16</td>\n    </tr>\n    <tr>\n      <th>64</th>\n      <td>C1</td>\n      <td>WKKT-FM</td>\n      <td>2639159</td>\n      <td>-0.800000</td>\n      <td>15.800000</td>\n      <td>-20.400000</td>\n      <td>ddl</td>\n      <td>16</td>\n    </tr>\n    <tr>\n      <th>67</th>\n      <td>C1</td>\n      <td>WMIL-FM</td>\n      <td>2472878</td>\n      <td>-4.333333</td>\n      <td>3.000000</td>\n      <td>-9.000000</td>\n      <td>ddl</td>\n      <td>16</td>\n    </tr>\n    <tr>\n      <th>68</th>\n      <td>C1</td>\n      <td>WMIL-FM</td>\n      <td>2535744</td>\n      <td>-2.833333</td>\n      <td>4.333333</td>\n      <td>-6.666667</td>\n      <td>ddl</td>\n      <td>16</td>\n    </tr>\n    <tr>\n      <th>77</th>\n      <td>C1</td>\n      <td>WPGB-FM</td>\n      <td>2535744</td>\n      <td>-9.000000</td>\n      <td>8.250000</td>\n      <td>-13.000000</td>\n      <td>ddl</td>\n      <td>16</td>\n    </tr>\n    <tr>\n      <th>83</th>\n      <td>C1</td>\n      <td>WPGB-FM</td>\n      <td>2581334</td>\n      <td>-6.000000</td>\n      <td>9.250000</td>\n      <td>-10.000000</td>\n      <td>ddl</td>\n      <td>16</td>\n    </tr>\n    <tr>\n      <th>91</th>\n      <td>C1</td>\n      <td>WPOC-FM</td>\n      <td>2506847</td>\n      <td>-3.000000</td>\n      <td>0.166667</td>\n      <td>-5.333333</td>\n      <td>ddl</td>\n      <td>16</td>\n    </tr>\n    <tr>\n      <th>92</th>\n      <td>C1</td>\n      <td>WPOC-FM</td>\n      <td>2535744</td>\n      <td>-7.666667</td>\n      <td>4.333333</td>\n      <td>-11.000000</td>\n      <td>ddl</td>\n      <td>16</td>\n    </tr>\n    <tr>\n      <th>94</th>\n      <td>C1</td>\n      <td>WPOC-FM</td>\n      <td>2575049</td>\n      <td>-7.500000</td>\n      <td>7.000000</td>\n      <td>-14.750000</td>\n      <td>ddl</td>\n      <td>16</td>\n    </tr>\n    <tr>\n      <th>96</th>\n      <td>C1</td>\n      <td>WPOC-FM</td>\n      <td>2706913</td>\n      <td>-2.833333</td>\n      <td>4.666667</td>\n      <td>-8.416667</td>\n      <td>ddl</td>\n      <td>16</td>\n    </tr>\n    <tr>\n      <th>101</th>\n      <td>C1</td>\n      <td>WSIX-FM</td>\n      <td>2537662</td>\n      <td>-3.666667</td>\n      <td>-2.000000</td>\n      <td>-9.666667</td>\n      <td>ddl</td>\n      <td>16</td>\n    </tr>\n    <tr>\n      <th>103</th>\n      <td>C1</td>\n      <td>WSIX-FM</td>\n      <td>2648985</td>\n      <td>-8.500000</td>\n      <td>0.000000</td>\n      <td>-8.000000</td>\n      <td>ddl</td>\n      <td>16</td>\n    </tr>\n    <tr>\n      <th>107</th>\n      <td>C1</td>\n      <td>WUBL-FM</td>\n      <td>2542818</td>\n      <td>-14.200000</td>\n      <td>12.400000</td>\n      <td>-19.800000</td>\n      <td>ddl</td>\n      <td>16</td>\n    </tr>\n    <tr>\n      <th>109</th>\n      <td>C1</td>\n      <td>WUBL-FM</td>\n      <td>2706913</td>\n      <td>-6.750000</td>\n      <td>2.750000</td>\n      <td>-5.666667</td>\n      <td>ddl</td>\n      <td>16</td>\n    </tr>\n  </tbody>\n</table>\n</div>"
     },
     "execution_count": 103,
     "metadata": {},
     "output_type": "execute_result"
    }
   ],
   "source": [
    "df_diff[(df_diff['format_code'] == 'C1') & (df_diff['pop'] < -5) & (df_diff['metric'] == 'ddl') & (df_diff['metric_threshold'] == '16')]"
   ],
   "metadata": {
    "collapsed": false
   }
  },
  {
   "cell_type": "code",
   "execution_count": 104,
   "outputs": [
    {
     "data": {
      "text/plain": "   format_code metric metric_threshold  burnout_songs  total_songs  \\\n0           C1    ddl               10            719         1037   \n1           C1    ddl               11            566         1037   \n2           C1    ddl               12            412         1037   \n3           C1    ddl               13            283         1037   \n4           C1    ddl               14            212         1037   \n..         ...    ...              ...            ...          ...   \n85          U1    f2b             1.30             36          673   \n86          U1    f2b             1.35             38          673   \n87          U1    f2b             1.40             47          673   \n88          U1    f2b             1.45             57          673   \n89          U1    f2b             1.50             68          673   \n\n    fav_drop_count  ddl_inc_count  pop_drop_count  \n0              139            178             130  \n1              114            152             109  \n2               87            112              75  \n3               73             77              64  \n4               56             49              52  \n..             ...            ...             ...  \n85               8             14              12  \n86              10             13              14  \n87              14             14              16  \n88              18             17              17  \n89              23             18              22  \n\n[90 rows x 8 columns]",
      "text/html": "<div>\n<style scoped>\n    .dataframe tbody tr th:only-of-type {\n        vertical-align: middle;\n    }\n\n    .dataframe tbody tr th {\n        vertical-align: top;\n    }\n\n    .dataframe thead th {\n        text-align: right;\n    }\n</style>\n<table border=\"1\" class=\"dataframe\">\n  <thead>\n    <tr style=\"text-align: right;\">\n      <th></th>\n      <th>format_code</th>\n      <th>metric</th>\n      <th>metric_threshold</th>\n      <th>burnout_songs</th>\n      <th>total_songs</th>\n      <th>fav_drop_count</th>\n      <th>ddl_inc_count</th>\n      <th>pop_drop_count</th>\n    </tr>\n  </thead>\n  <tbody>\n    <tr>\n      <th>0</th>\n      <td>C1</td>\n      <td>ddl</td>\n      <td>10</td>\n      <td>719</td>\n      <td>1037</td>\n      <td>139</td>\n      <td>178</td>\n      <td>130</td>\n    </tr>\n    <tr>\n      <th>1</th>\n      <td>C1</td>\n      <td>ddl</td>\n      <td>11</td>\n      <td>566</td>\n      <td>1037</td>\n      <td>114</td>\n      <td>152</td>\n      <td>109</td>\n    </tr>\n    <tr>\n      <th>2</th>\n      <td>C1</td>\n      <td>ddl</td>\n      <td>12</td>\n      <td>412</td>\n      <td>1037</td>\n      <td>87</td>\n      <td>112</td>\n      <td>75</td>\n    </tr>\n    <tr>\n      <th>3</th>\n      <td>C1</td>\n      <td>ddl</td>\n      <td>13</td>\n      <td>283</td>\n      <td>1037</td>\n      <td>73</td>\n      <td>77</td>\n      <td>64</td>\n    </tr>\n    <tr>\n      <th>4</th>\n      <td>C1</td>\n      <td>ddl</td>\n      <td>14</td>\n      <td>212</td>\n      <td>1037</td>\n      <td>56</td>\n      <td>49</td>\n      <td>52</td>\n    </tr>\n    <tr>\n      <th>...</th>\n      <td>...</td>\n      <td>...</td>\n      <td>...</td>\n      <td>...</td>\n      <td>...</td>\n      <td>...</td>\n      <td>...</td>\n      <td>...</td>\n    </tr>\n    <tr>\n      <th>85</th>\n      <td>U1</td>\n      <td>f2b</td>\n      <td>1.30</td>\n      <td>36</td>\n      <td>673</td>\n      <td>8</td>\n      <td>14</td>\n      <td>12</td>\n    </tr>\n    <tr>\n      <th>86</th>\n      <td>U1</td>\n      <td>f2b</td>\n      <td>1.35</td>\n      <td>38</td>\n      <td>673</td>\n      <td>10</td>\n      <td>13</td>\n      <td>14</td>\n    </tr>\n    <tr>\n      <th>87</th>\n      <td>U1</td>\n      <td>f2b</td>\n      <td>1.40</td>\n      <td>47</td>\n      <td>673</td>\n      <td>14</td>\n      <td>14</td>\n      <td>16</td>\n    </tr>\n    <tr>\n      <th>88</th>\n      <td>U1</td>\n      <td>f2b</td>\n      <td>1.45</td>\n      <td>57</td>\n      <td>673</td>\n      <td>18</td>\n      <td>17</td>\n      <td>17</td>\n    </tr>\n    <tr>\n      <th>89</th>\n      <td>U1</td>\n      <td>f2b</td>\n      <td>1.50</td>\n      <td>68</td>\n      <td>673</td>\n      <td>23</td>\n      <td>18</td>\n      <td>22</td>\n    </tr>\n  </tbody>\n</table>\n<p>90 rows × 8 columns</p>\n</div>"
     },
     "execution_count": 104,
     "metadata": {},
     "output_type": "execute_result"
    }
   ],
   "source": [
    "df_diff_summ.reset_index()"
   ],
   "metadata": {
    "collapsed": false
   }
  },
  {
   "cell_type": "code",
   "execution_count": 105,
   "outputs": [],
   "source": [
    "df_diff_summ['burn_perc'] = df_diff_summ['burnout_songs']/df_diff_summ['total_songs']\n",
    "df_diff_summ['fav_drop_perc'] = df_diff_summ['fav_drop_count']/df_diff_summ['burnout_songs']\n",
    "df_diff_summ['ddl_inc_perc'] = df_diff_summ['ddl_inc_count']/df_diff_summ['burnout_songs']\n",
    "df_diff_summ['pop_drop_perc'] = df_diff_summ['pop_drop_count']/df_diff_summ['burnout_songs']"
   ],
   "metadata": {
    "collapsed": false
   }
  },
  {
   "cell_type": "code",
   "execution_count": 106,
   "outputs": [],
   "source": [
    "for fmt in major_formats:\n",
    "    idx = (df_diff_summ.index.get_level_values(1) == 'ddl') & (df_diff_summ.index.get_level_values(0) == fmt) & (df_diff_summ['burnout_songs'] >= 50)\n",
    "    fig = plt.gcf()\n",
    "    fig.set_size_inches(9, 6)\n",
    "    ax=plt.subplot(2,2,1)\n",
    "    ax.plot(df_diff_summ[idx].index.get_level_values(2), 100*df_diff_summ[idx]['pop_drop_perc'], marker='o')\n",
    "    ax.tick_params(axis='both', which='major', labelsize=7)\n",
    "    #ax.set_title('% Drop in 13 week Avg. Pop pre vs. post')\n",
    "    ax.legend(['pop_drop_perc'])\n",
    "\n",
    "    ax2= ax.twinx()\n",
    "    ax2.bar(df_diff_summ[idx].index.get_level_values(2), 100*df_diff_summ[idx]['burn_perc'], alpha=0.5)\n",
    "\n",
    "    rects = ax2.patches\n",
    "\n",
    "    # Make some labels.\n",
    "    labels = [f\"label{i}\" for i in range(len(rects))]\n",
    "    labels = ['%.0f'%i for i in list(100*df_diff_summ[idx]['burn_perc'])]\n",
    "\n",
    "    for rect, label in zip(rects, labels):\n",
    "        height = rect.get_height()\n",
    "        ax2.text(\n",
    "            rect.get_x() + rect.get_width() / 2, height + 2, label, ha=\"center\", va=\"bottom\"\n",
    "        )\n",
    "\n",
    "\n",
    "    ax=plt.subplot(2,2,2)\n",
    "    ax.plot(df_diff_summ[idx].index.get_level_values(2), 100*df_diff_summ[idx]['fav_drop_perc'], marker='o')\n",
    "    ax.plot(df_diff_summ[idx].index.get_level_values(2), 100*df_diff_summ[idx]['ddl_inc_perc'], marker='o')\n",
    "    ax.tick_params(axis='both', which='major', labelsize=7)\n",
    "    ax.legend(['fav_drop_perc', 'ddl_inc_perc'])\n",
    "\n",
    "\n",
    "    idx = (df_diff_summ.index.get_level_values(1) == 'f2b') & (df_diff_summ.index.get_level_values(0) == fmt) & (df_diff_summ['burnout_songs'] >= 50)\n",
    "\n",
    "    ax=plt.subplot(2,2,3)\n",
    "    ax.plot(df_diff_summ[idx].index.get_level_values(2), 100*df_diff_summ[idx]['pop_drop_perc'], marker='o')\n",
    "    ax.tick_params(axis='both', which='major', labelsize=7)\n",
    "    #ax.set_title('% Drop in 13 week Avg. Pop pre vs. post')\n",
    "    ax.legend(['pop_drop_perc'])\n",
    "\n",
    "    ax2= ax.twinx()\n",
    "    ax2.bar(df_diff_summ[idx].index.get_level_values(2), 100*df_diff_summ[idx]['burn_perc'], alpha=0.5)\n",
    "\n",
    "    rects = ax2.patches\n",
    "\n",
    "    # Make some labels.\n",
    "    labels = [f\"label{i}\" for i in range(len(rects))]\n",
    "    labels = ['%.0f'%i for i in list(100*df_diff_summ[idx]['burn_perc'])]\n",
    "\n",
    "    for rect, label in zip(rects, labels):\n",
    "        height = rect.get_height()\n",
    "        ax2.text(\n",
    "            rect.get_x() + rect.get_width() / 2, height + 2, label, ha=\"center\", va=\"bottom\"\n",
    "        )\n",
    "\n",
    "    ax=plt.subplot(2,2,4)\n",
    "    ax.plot(df_diff_summ[idx].index.get_level_values(2), 100*df_diff_summ[idx]['fav_drop_perc'], marker='o')\n",
    "    ax.plot(df_diff_summ[idx].index.get_level_values(2), 100*df_diff_summ[idx]['ddl_inc_perc'], marker='o')\n",
    "    ax.tick_params(axis='both', which='major', labelsize=7)\n",
    "    ax.legend(['fav_drop_perc', 'ddl_inc_perc'])\n",
    "\n",
    "\n",
    "    plt.tight_layout()\n",
    "    plt.savefig(os.getcwd() + '/img/dll_vs_f2b_' + fmt + '.jpeg', format='jpeg', dpi=300)\n",
    "    plt.close()"
   ],
   "metadata": {
    "collapsed": false
   }
  },
  {
   "cell_type": "code",
   "execution_count": 107,
   "outputs": [],
   "source": [
    "df_ttrack = pd.concat([df_test_track, df_test_track_f2b])"
   ],
   "metadata": {
    "collapsed": false
   }
  },
  {
   "cell_type": "code",
   "execution_count": 108,
   "outputs": [],
   "source": [
    "df_ttrack['single_test_flg'] = df_ttrack['num_tests_post'].fillna(0) == 1.0"
   ],
   "metadata": {
    "collapsed": false
   }
  },
  {
   "cell_type": "code",
   "execution_count": 109,
   "outputs": [
    {
     "data": {
      "text/plain": "   format_code call_letters mediabase_id  fav_metric  ddl_metric       pop  \\\n0           U1      KRRL-FM      2438707    0.833333    7.333333 -3.833333   \n1           U1      KRRL-FM      2493080   -6.000000   -3.500000 -0.500000   \n2           U1      KRRL-FM      2591543    0.000000   -0.333333  1.333333   \n3           U1      WBTP-FM      2468842    5.250000    0.750000  0.500000   \n4           U1      WBTP-FM      2471308   -1.500000    6.250000 -7.750000   \n..         ...          ...          ...         ...         ...       ...   \n6           C1      WMIL-FM      2437992         NaN         NaN       NaN   \n7           C1      WMZQ-FM      2435718   -1.928571    1.214286  3.285714   \n8           C1      WPGB-FM      2430136         NaN         NaN       NaN   \n9           C1      WSIX-FM      2455380    3.833333    3.880952  1.666667   \n10          C1      WSIX-FM      2468697    4.333333    1.333333  1.000000   \n\n    num_tests_pre  num_tests_post metric metric_threshold  single_test_flg  \n0             3.0             2.0    ddl               25            False  \n1             2.0             2.0    ddl               25            False  \n2             2.0             3.0    ddl               25            False  \n3             4.0             4.0    ddl               25            False  \n4             4.0             4.0    ddl               25            False  \n..            ...             ...    ...              ...              ...  \n6             1.0             NaN    f2b             0.85            False  \n7             7.0             2.0    f2b             0.85            False  \n8             NaN             4.0    f2b             0.85            False  \n9             7.0             6.0    f2b             0.85            False  \n10            3.0             1.0    f2b             0.85             True  \n\n[53574 rows x 11 columns]",
      "text/html": "<div>\n<style scoped>\n    .dataframe tbody tr th:only-of-type {\n        vertical-align: middle;\n    }\n\n    .dataframe tbody tr th {\n        vertical-align: top;\n    }\n\n    .dataframe thead th {\n        text-align: right;\n    }\n</style>\n<table border=\"1\" class=\"dataframe\">\n  <thead>\n    <tr style=\"text-align: right;\">\n      <th></th>\n      <th>format_code</th>\n      <th>call_letters</th>\n      <th>mediabase_id</th>\n      <th>fav_metric</th>\n      <th>ddl_metric</th>\n      <th>pop</th>\n      <th>num_tests_pre</th>\n      <th>num_tests_post</th>\n      <th>metric</th>\n      <th>metric_threshold</th>\n      <th>single_test_flg</th>\n    </tr>\n  </thead>\n  <tbody>\n    <tr>\n      <th>0</th>\n      <td>U1</td>\n      <td>KRRL-FM</td>\n      <td>2438707</td>\n      <td>0.833333</td>\n      <td>7.333333</td>\n      <td>-3.833333</td>\n      <td>3.0</td>\n      <td>2.0</td>\n      <td>ddl</td>\n      <td>25</td>\n      <td>False</td>\n    </tr>\n    <tr>\n      <th>1</th>\n      <td>U1</td>\n      <td>KRRL-FM</td>\n      <td>2493080</td>\n      <td>-6.000000</td>\n      <td>-3.500000</td>\n      <td>-0.500000</td>\n      <td>2.0</td>\n      <td>2.0</td>\n      <td>ddl</td>\n      <td>25</td>\n      <td>False</td>\n    </tr>\n    <tr>\n      <th>2</th>\n      <td>U1</td>\n      <td>KRRL-FM</td>\n      <td>2591543</td>\n      <td>0.000000</td>\n      <td>-0.333333</td>\n      <td>1.333333</td>\n      <td>2.0</td>\n      <td>3.0</td>\n      <td>ddl</td>\n      <td>25</td>\n      <td>False</td>\n    </tr>\n    <tr>\n      <th>3</th>\n      <td>U1</td>\n      <td>WBTP-FM</td>\n      <td>2468842</td>\n      <td>5.250000</td>\n      <td>0.750000</td>\n      <td>0.500000</td>\n      <td>4.0</td>\n      <td>4.0</td>\n      <td>ddl</td>\n      <td>25</td>\n      <td>False</td>\n    </tr>\n    <tr>\n      <th>4</th>\n      <td>U1</td>\n      <td>WBTP-FM</td>\n      <td>2471308</td>\n      <td>-1.500000</td>\n      <td>6.250000</td>\n      <td>-7.750000</td>\n      <td>4.0</td>\n      <td>4.0</td>\n      <td>ddl</td>\n      <td>25</td>\n      <td>False</td>\n    </tr>\n    <tr>\n      <th>...</th>\n      <td>...</td>\n      <td>...</td>\n      <td>...</td>\n      <td>...</td>\n      <td>...</td>\n      <td>...</td>\n      <td>...</td>\n      <td>...</td>\n      <td>...</td>\n      <td>...</td>\n      <td>...</td>\n    </tr>\n    <tr>\n      <th>6</th>\n      <td>C1</td>\n      <td>WMIL-FM</td>\n      <td>2437992</td>\n      <td>NaN</td>\n      <td>NaN</td>\n      <td>NaN</td>\n      <td>1.0</td>\n      <td>NaN</td>\n      <td>f2b</td>\n      <td>0.85</td>\n      <td>False</td>\n    </tr>\n    <tr>\n      <th>7</th>\n      <td>C1</td>\n      <td>WMZQ-FM</td>\n      <td>2435718</td>\n      <td>-1.928571</td>\n      <td>1.214286</td>\n      <td>3.285714</td>\n      <td>7.0</td>\n      <td>2.0</td>\n      <td>f2b</td>\n      <td>0.85</td>\n      <td>False</td>\n    </tr>\n    <tr>\n      <th>8</th>\n      <td>C1</td>\n      <td>WPGB-FM</td>\n      <td>2430136</td>\n      <td>NaN</td>\n      <td>NaN</td>\n      <td>NaN</td>\n      <td>NaN</td>\n      <td>4.0</td>\n      <td>f2b</td>\n      <td>0.85</td>\n      <td>False</td>\n    </tr>\n    <tr>\n      <th>9</th>\n      <td>C1</td>\n      <td>WSIX-FM</td>\n      <td>2455380</td>\n      <td>3.833333</td>\n      <td>3.880952</td>\n      <td>1.666667</td>\n      <td>7.0</td>\n      <td>6.0</td>\n      <td>f2b</td>\n      <td>0.85</td>\n      <td>False</td>\n    </tr>\n    <tr>\n      <th>10</th>\n      <td>C1</td>\n      <td>WSIX-FM</td>\n      <td>2468697</td>\n      <td>4.333333</td>\n      <td>1.333333</td>\n      <td>1.000000</td>\n      <td>3.0</td>\n      <td>1.0</td>\n      <td>f2b</td>\n      <td>0.85</td>\n      <td>True</td>\n    </tr>\n  </tbody>\n</table>\n<p>53574 rows × 11 columns</p>\n</div>"
     },
     "execution_count": 109,
     "metadata": {},
     "output_type": "execute_result"
    }
   ],
   "source": [
    "df_ttrack"
   ],
   "metadata": {
    "collapsed": false
   }
  },
  {
   "cell_type": "code",
   "execution_count": 110,
   "outputs": [
    {
     "data": {
      "text/plain": "                                                     mediabase_id\nformat_code metric metric_threshold single_test_flg              \nC1          ddl    10               False                     710\n                                    True                      108\n                   11               False                     565\n                                    True                       92\n                   12               False                     404\n...                                                           ...\nU1          f2b    1.40             True                        5\n                   1.45             False                      62\n                                    True                        6\n                   1.50             False                      71\n                                    True                       10\n\n[172 rows x 1 columns]",
      "text/html": "<div>\n<style scoped>\n    .dataframe tbody tr th:only-of-type {\n        vertical-align: middle;\n    }\n\n    .dataframe tbody tr th {\n        vertical-align: top;\n    }\n\n    .dataframe thead th {\n        text-align: right;\n    }\n</style>\n<table border=\"1\" class=\"dataframe\">\n  <thead>\n    <tr style=\"text-align: right;\">\n      <th></th>\n      <th></th>\n      <th></th>\n      <th></th>\n      <th>mediabase_id</th>\n    </tr>\n    <tr>\n      <th>format_code</th>\n      <th>metric</th>\n      <th>metric_threshold</th>\n      <th>single_test_flg</th>\n      <th></th>\n    </tr>\n  </thead>\n  <tbody>\n    <tr>\n      <th rowspan=\"5\" valign=\"top\">C1</th>\n      <th rowspan=\"5\" valign=\"top\">ddl</th>\n      <th rowspan=\"2\" valign=\"top\">10</th>\n      <th>False</th>\n      <td>710</td>\n    </tr>\n    <tr>\n      <th>True</th>\n      <td>108</td>\n    </tr>\n    <tr>\n      <th rowspan=\"2\" valign=\"top\">11</th>\n      <th>False</th>\n      <td>565</td>\n    </tr>\n    <tr>\n      <th>True</th>\n      <td>92</td>\n    </tr>\n    <tr>\n      <th>12</th>\n      <th>False</th>\n      <td>404</td>\n    </tr>\n    <tr>\n      <th>...</th>\n      <th>...</th>\n      <th>...</th>\n      <th>...</th>\n      <td>...</td>\n    </tr>\n    <tr>\n      <th rowspan=\"5\" valign=\"top\">U1</th>\n      <th rowspan=\"5\" valign=\"top\">f2b</th>\n      <th>1.40</th>\n      <th>True</th>\n      <td>5</td>\n    </tr>\n    <tr>\n      <th rowspan=\"2\" valign=\"top\">1.45</th>\n      <th>False</th>\n      <td>62</td>\n    </tr>\n    <tr>\n      <th>True</th>\n      <td>6</td>\n    </tr>\n    <tr>\n      <th rowspan=\"2\" valign=\"top\">1.50</th>\n      <th>False</th>\n      <td>71</td>\n    </tr>\n    <tr>\n      <th>True</th>\n      <td>10</td>\n    </tr>\n  </tbody>\n</table>\n<p>172 rows × 1 columns</p>\n</div>"
     },
     "execution_count": 110,
     "metadata": {},
     "output_type": "execute_result"
    }
   ],
   "source": [
    "df_ttrack.groupby(['format_code', 'metric', 'metric_threshold', 'single_test_flg']).agg({'mediabase_id':len})"
   ],
   "metadata": {
    "collapsed": false
   }
  },
  {
   "cell_type": "code",
   "execution_count": 111,
   "outputs": [],
   "source": [
    "df_popdrop_tests = df_ttrack[(df_ttrack['pop'] < -5) & (df_ttrack['format_code'] == 'C1')].groupby(['format_code', 'metric', 'metric_threshold']).apply(lambda x: sum(x['single_test_flg']== True)/len(x['single_test_flg']))"
   ],
   "metadata": {
    "collapsed": false
   }
  },
  {
   "cell_type": "code",
   "execution_count": 112,
   "outputs": [
    {
     "data": {
      "text/plain": "format_code  metric  metric_threshold\nC1           ddl     10                  0.215385\n                     11                  0.311927\n                     12                  0.320000\n                     13                  0.421875\n                     14                  0.403846\n                     15                  0.378378\n                     16                  0.352941\n                     17                  0.363636\n                     18                  0.411765\n                     19                  0.400000\n                     20                  0.500000\n                     21                  0.666667\n                     22                  0.000000\n             f2b     0.85                0.000000\n                     0.90                0.000000\n                     0.95                0.500000\n                     1.00                0.750000\n                     1.05                0.750000\n                     1.10                0.714286\n                     1.15                0.555556\n                     1.20                0.666667\n                     1.25                0.642857\n                     1.30                0.500000\n                     1.35                0.523810\n                     1.40                0.458333\n                     1.45                0.371429\n                     1.50                0.388889\ndtype: float64"
     },
     "execution_count": 112,
     "metadata": {},
     "output_type": "execute_result"
    }
   ],
   "source": [
    "df_popdrop_tests"
   ],
   "metadata": {
    "collapsed": false
   }
  },
  {
   "cell_type": "code",
   "execution_count": 112,
   "outputs": [],
   "source": [],
   "metadata": {
    "collapsed": false
   }
  },
  {
   "cell_type": "code",
   "execution_count": 113,
   "outputs": [
    {
     "name": "stdout",
     "output_type": "stream",
     "text": [
      "\n",
      "\n"
     ]
    }
   ],
   "source": [
    "for metric in ['ddl', 'f2b']:\n",
    "    idx = df_popdrop_tests.index.get_level_values(2) == metric\n",
    "    df_temp = df_popdrop_tests.loc[idx]\n",
    "    print()"
   ],
   "metadata": {
    "collapsed": false
   }
  },
  {
   "cell_type": "markdown",
   "source": [
    "#### separation between stations analysis"
   ],
   "metadata": {
    "collapsed": false
   }
  },
  {
   "cell_type": "code",
   "execution_count": 114,
   "outputs": [],
   "source": [
    "df_extract = df_hits[df_hits['format_code'] == 'C1']\n",
    "idx = (df_extract['ddl_track_16']  >= 2) & (df_hits['week_dt'] > df_hits['week_dt_r'])\n",
    "df_extract  = df_extract.join(df_extract.loc[idx].groupby(['format_code', 'call_letters' , 'mediabase_id']).agg({'week_dt':np.min, 'cuml_spins_non_on':np.min}), on=['format_code', 'call_letters', 'mediabase_id'], how='left', rsuffix='_brn')"
   ],
   "metadata": {
    "collapsed": false
   }
  },
  {
   "cell_type": "code",
   "execution_count": 115,
   "outputs": [],
   "source": [
    "df_extract_summ = df_extract.groupby(['call_letters', 'mediabase_id']).agg({'cuml_spins_non_on_brn':np.min, 'cuml_spins_non_on': np.max})"
   ],
   "metadata": {
    "collapsed": false
   }
  },
  {
   "cell_type": "code",
   "execution_count": 116,
   "outputs": [
    {
     "name": "stdout",
     "output_type": "stream",
     "text": [
      "2538.9999999999995\n"
     ]
    },
    {
     "data": {
      "text/plain": "<AxesSubplot: ylabel='Frequency'>"
     },
     "execution_count": 116,
     "metadata": {},
     "output_type": "execute_result"
    },
    {
     "data": {
      "text/plain": "<Figure size 640x480 with 1 Axes>",
      "image/png": "[encoded data removed]"
     },
     "metadata": {},
     "output_type": "display_data"
    }
   ],
   "source": [
    "print(np.percentile(df_extract_summ['cuml_spins_non_on'], 95))\n",
    "df_extract_summ['cuml_spins_non_on'].plot(kind='hist')"
   ],
   "metadata": {
    "collapsed": false
   }
  },
  {
   "cell_type": "code",
   "execution_count": 117,
   "outputs": [],
   "source": [
    "df_extract_summ['censored_flag'] = df_extract_summ.apply(lambda x: 0 if (pd.isna(x['cuml_spins_non_on_brn'])) else 1, axis=1)"
   ],
   "metadata": {
    "collapsed": false
   }
  },
  {
   "cell_type": "code",
   "execution_count": 118,
   "outputs": [],
   "source": [
    "df_extract_summ['survival_time'] = df_extract_summ.apply(lambda x: x['cuml_spins_non_on'] if x['censored_flag'] == 0 else x['cuml_spins_non_on_brn'], axis=1)"
   ],
   "metadata": {
    "collapsed": false
   }
  },
  {
   "cell_type": "code",
   "execution_count": 119,
   "outputs": [],
   "source": [
    "df_extract_summ.reset_index(inplace=True)"
   ],
   "metadata": {
    "collapsed": false
   }
  },
  {
   "cell_type": "code",
   "execution_count": 120,
   "outputs": [
    {
     "data": {
      "text/plain": "     call_letters  mediabase_id  cuml_spins_non_on_brn  cuml_spins_non_on  \\\n0         KAJA-FM       2430114                    NaN                469   \n1         KAJA-FM       2430136                    NaN               1181   \n2         KAJA-FM       2437992                    NaN               2850   \n3         KAJA-FM       2440624                    NaN               1834   \n4         KAJA-FM       2450485                    NaN               1979   \n...           ...           ...                    ...                ...   \n1032      WUBL-FM       2716615                    NaN               1551   \n1033      WUBL-FM       2716916                    NaN               1561   \n1034      WUBL-FM       2720003                    NaN               1102   \n1035      WUBL-FM       2727745                 1622.0               2131   \n1036      WUBL-FM       2739937                    NaN               1767   \n\n      censored_flag  survival_time  \n0                 0          469.0  \n1                 0         1181.0  \n2                 0         2850.0  \n3                 0         1834.0  \n4                 0         1979.0  \n...             ...            ...  \n1032              0         1551.0  \n1033              0         1561.0  \n1034              0         1102.0  \n1035              1         1622.0  \n1036              0         1767.0  \n\n[1037 rows x 6 columns]",
      "text/html": "<div>\n<style scoped>\n    .dataframe tbody tr th:only-of-type {\n        vertical-align: middle;\n    }\n\n    .dataframe tbody tr th {\n        vertical-align: top;\n    }\n\n    .dataframe thead th {\n        text-align: right;\n    }\n</style>\n<table border=\"1\" class=\"dataframe\">\n  <thead>\n    <tr style=\"text-align: right;\">\n      <th></th>\n      <th>call_letters</th>\n      <th>mediabase_id</th>\n      <th>cuml_spins_non_on_brn</th>\n      <th>cuml_spins_non_on</th>\n      <th>censored_flag</th>\n      <th>survival_time</th>\n    </tr>\n  </thead>\n  <tbody>\n    <tr>\n      <th>0</th>\n      <td>KAJA-FM</td>\n      <td>2430114</td>\n      <td>NaN</td>\n      <td>469</td>\n      <td>0</td>\n      <td>469.0</td>\n    </tr>\n    <tr>\n      <th>1</th>\n      <td>KAJA-FM</td>\n      <td>2430136</td>\n      <td>NaN</td>\n      <td>1181</td>\n      <td>0</td>\n      <td>1181.0</td>\n    </tr>\n    <tr>\n      <th>2</th>\n      <td>KAJA-FM</td>\n      <td>2437992</td>\n      <td>NaN</td>\n      <td>2850</td>\n      <td>0</td>\n      <td>2850.0</td>\n    </tr>\n    <tr>\n      <th>3</th>\n      <td>KAJA-FM</td>\n      <td>2440624</td>\n      <td>NaN</td>\n      <td>1834</td>\n      <td>0</td>\n      <td>1834.0</td>\n    </tr>\n    <tr>\n      <th>4</th>\n      <td>KAJA-FM</td>\n      <td>2450485</td>\n      <td>NaN</td>\n      <td>1979</td>\n      <td>0</td>\n      <td>1979.0</td>\n    </tr>\n    <tr>\n      <th>...</th>\n      <td>...</td>\n      <td>...</td>\n      <td>...</td>\n      <td>...</td>\n      <td>...</td>\n      <td>...</td>\n    </tr>\n    <tr>\n      <th>1032</th>\n      <td>WUBL-FM</td>\n      <td>2716615</td>\n      <td>NaN</td>\n      <td>1551</td>\n      <td>0</td>\n      <td>1551.0</td>\n    </tr>\n    <tr>\n      <th>1033</th>\n      <td>WUBL-FM</td>\n      <td>2716916</td>\n      <td>NaN</td>\n      <td>1561</td>\n      <td>0</td>\n      <td>1561.0</td>\n    </tr>\n    <tr>\n      <th>1034</th>\n      <td>WUBL-FM</td>\n      <td>2720003</td>\n      <td>NaN</td>\n      <td>1102</td>\n      <td>0</td>\n      <td>1102.0</td>\n    </tr>\n    <tr>\n      <th>1035</th>\n      <td>WUBL-FM</td>\n      <td>2727745</td>\n      <td>1622.0</td>\n      <td>2131</td>\n      <td>1</td>\n      <td>1622.0</td>\n    </tr>\n    <tr>\n      <th>1036</th>\n      <td>WUBL-FM</td>\n      <td>2739937</td>\n      <td>NaN</td>\n      <td>1767</td>\n      <td>0</td>\n      <td>1767.0</td>\n    </tr>\n  </tbody>\n</table>\n<p>1037 rows × 6 columns</p>\n</div>"
     },
     "execution_count": 120,
     "metadata": {},
     "output_type": "execute_result"
    }
   ],
   "source": [
    "df_extract_summ"
   ],
   "metadata": {
    "collapsed": false
   }
  },
  {
   "cell_type": "code",
   "execution_count": 121,
   "outputs": [
    {
     "data": {
      "text/plain": "Text(0.5, 0, 'time $t$')"
     },
     "execution_count": 121,
     "metadata": {},
     "output_type": "execute_result"
    },
    {
     "data": {
      "text/plain": "<Figure size 640x480 with 1 Axes>",
      "image/png": "[encoded data removed]"
     },
     "metadata": {},
     "output_type": "display_data"
    }
   ],
   "source": [
    "from sksurv.nonparametric import kaplan_meier_estimator\n",
    "time, survival_prob = kaplan_meier_estimator(df_extract_summ[\"censored_flag\"].astype('bool'), df_extract_summ[\"survival_time\"])\n",
    "plt.step(time, survival_prob, where=\"post\")\n",
    "plt.ylabel(\"est. probability of survival $\\hat{S}(t)$\")\n",
    "plt.xlabel(\"time $t$\")"
   ],
   "metadata": {
    "collapsed": false
   }
  },
  {
   "cell_type": "code",
   "execution_count": 122,
   "outputs": [
    {
     "data": {
      "text/plain": "Text(0.5, 0, 'cumulative spins')"
     },
     "execution_count": 122,
     "metadata": {},
     "output_type": "execute_result"
    },
    {
     "data": {
      "text/plain": "<Figure size 640x480 with 1 Axes>",
      "image/png": "[encoded data removed]"
     },
     "metadata": {},
     "output_type": "display_data"
    }
   ],
   "source": [
    "for st in pd.unique(df_extract_summ['call_letters']):\n",
    "    idx = (df_extract_summ['call_letters'] == st)\n",
    "    time_st, surv_prob_st = kaplan_meier_estimator(df_extract_summ.loc[idx]['censored_flag'].astype('bool'), df_extract_summ.loc[idx]['survival_time'])\n",
    "\n",
    "    plt.step(time_st, surv_prob_st, where='post', label=st)\n",
    "\n",
    "plt.ylabel(\"est. probability of burnout$\")\n",
    "plt.xlabel('cumulative spins')\n",
    "#plt.legend(loc=\"best\")"
   ],
   "metadata": {
    "collapsed": false
   }
  },
  {
   "cell_type": "code",
   "execution_count": 123,
   "outputs": [],
   "source": [
    "df_extract_fb = df_hits[df_hits['format_code'] == 'C1']\n",
    "idx_f2b = (df_extract['f2b_track_1.30']  >= 2) & (df_hits['week_dt'] > df_hits['week_dt_r'])\n",
    "df_extract_fb  = df_extract_fb.join(df_extract_fb.loc[idx_f2b].groupby(['format_code', 'call_letters' , 'mediabase_id']).agg({'week_dt':np.min, 'cuml_spins_non_on':np.min}), on=['format_code', 'call_letters', 'mediabase_id'], how='left', rsuffix='_brn')"
   ],
   "metadata": {
    "collapsed": false
   }
  },
  {
   "cell_type": "code",
   "execution_count": 124,
   "outputs": [],
   "source": [
    "df_extract_fb_summ = df_extract_fb.groupby(['call_letters', 'mediabase_id']).agg({'cuml_spins_non_on_brn':np.min, 'cuml_spins_non_on': np.max})"
   ],
   "metadata": {
    "collapsed": false
   }
  },
  {
   "cell_type": "code",
   "execution_count": 125,
   "outputs": [],
   "source": [
    "df_extract_fb_summ['censored_flag'] = df_extract_fb_summ.apply(lambda x: 0 if (pd.isna(x['cuml_spins_non_on_brn'])) else 1, axis=1)\n",
    "df_extract_fb_summ['survival_time'] = df_extract_fb_summ.apply(lambda x: x['cuml_spins_non_on']\n",
    "if x['censored_flag'] == 0 else x['cuml_spins_non_on_brn'], axis=1)\n",
    "df_extract_fb_summ.reset_index(inplace=True)"
   ],
   "metadata": {
    "collapsed": false
   }
  },
  {
   "cell_type": "code",
   "execution_count": 126,
   "outputs": [
    {
     "data": {
      "text/plain": "<Figure size 900x600 with 2 Axes>",
      "image/png": "[encoded data removed]"
     },
     "metadata": {},
     "output_type": "display_data"
    }
   ],
   "source": [
    "fig = plt.gcf()\n",
    "fig.set_size_inches(9,6)\n",
    "ax1 = plt.subplot(1,2,1)\n",
    "for st in pd.unique(df_extract_summ['call_letters']):\n",
    "    idx = (df_extract_summ['call_letters'] == st)\n",
    "    time_st, surv_prob_st = kaplan_meier_estimator(df_extract_summ.loc[idx]['censored_flag'].astype('bool'), df_extract_summ.loc[idx]['survival_time'])\n",
    "\n",
    "    ax1.step(time_st, surv_prob_st, where='post', label=st)\n",
    "\n",
    "ax1.set_ylabel(\"est. probability of burnout$\")\n",
    "ax1.set_xlabel('cumulative spins')\n",
    "#plt.legend(loc=\"best\")\n",
    "\n",
    "ax2 = plt.subplot(1,2,2)\n",
    "for st in pd.unique(df_extract_fb_summ['call_letters']):\n",
    "    idx = (df_extract_fb_summ['call_letters'] == st)\n",
    "    time_st, surv_prob_st = kaplan_meier_estimator(df_extract_fb_summ.loc[idx]['censored_flag'].astype('bool'), df_extract_fb_summ.loc[idx]['survival_time'])\n",
    "\n",
    "    ax2.step(time_st, surv_prob_st, where='post', label=st)\n",
    "\n",
    "ax2.set_ylabel(\"est. probability of burnout\")\n",
    "ax2.set_xlabel(\"cumulative spins\")\n",
    "#plt.legend(loc=\"best\")\n",
    "\n",
    "ax1.set_aspect(1/ax1.get_data_ratio())\n",
    "ax2.set_aspect(1/ax2.get_data_ratio())\n",
    "\n",
    "ax1.legend(loc='upper center', bbox_to_anchor=(0.5, -0.15),\n",
    "          ncol=3, fancybox=True, shadow=True, fontsize='x-small')\n",
    "ax1.tick_params(axis='both', which='major', labelsize=10)\n",
    "\n",
    "ax2.legend(loc='upper center', bbox_to_anchor=(0.5, -0.15),\n",
    "          ncol=3, fancybox=True, shadow=True, fontsize='x-small')\n",
    "\n",
    "\n",
    "ax1.set_title('Survival Curve for DDL (16)')\n",
    "ax2.set_title('Survival Curve for F2B (1.3)')\n",
    "\n",
    "plt.tight_layout()\n",
    "plt.savefig(os.getcwd() + '/img/DDLvsF2B_survival_by_station.jpeg', format='jpeg', dpi=300)"
   ],
   "metadata": {
    "collapsed": false
   }
  },
  {
   "cell_type": "code",
   "execution_count": 127,
   "outputs": [
    {
     "data": {
      "text/plain": "(105.42468242212303, 8.701813409217614e-15)"
     },
     "execution_count": 127,
     "metadata": {},
     "output_type": "execute_result"
    }
   ],
   "source": [
    "from sksurv.compare import compare_survival\n",
    "compare_survival(np.array(list(zip(df_extract_fb_summ['censored_flag'].astype('bool'), df_extract_fb_summ['survival_time'])), dtype=[('status', '?'), ('surv_time', 'f')]), group_indicator=df_extract_fb_summ['call_letters'])"
   ],
   "metadata": {
    "collapsed": false
   }
  },
  {
   "cell_type": "code",
   "execution_count": 128,
   "outputs": [
    {
     "data": {
      "text/plain": "(51.36329825624442, 2.5883333044445313e-05)"
     },
     "execution_count": 128,
     "metadata": {},
     "output_type": "execute_result"
    }
   ],
   "source": [
    "compare_survival(np.array(list(zip(df_extract_summ['censored_flag'].astype('bool'), df_extract_summ['survival_time'])), dtype=[('status', '?'), ('surv_time', 'f')]), group_indicator=df_extract_summ['call_letters'])"
   ],
   "metadata": {
    "collapsed": false
   }
  },
  {
   "cell_type": "markdown",
   "source": [
    "## Time-to-burn analysis & Monitoring Timeline"
   ],
   "metadata": {
    "collapsed": false
   }
  },
  {
   "cell_type": "code",
   "execution_count": 39,
   "outputs": [],
   "source": [
    "final_metric = {'C1': 'ddl', 'H1': 'ddl', 'U1': 'ddl'}\n",
    "final_metric_thresholds = {'C1': 16, 'H1': 20, 'U1': 16}"
   ],
   "metadata": {
    "collapsed": false
   }
  },
  {
   "cell_type": "code",
   "execution_count": 38,
   "outputs": [
    {
     "data": {
      "text/plain": "format_code\nA1     173\nA2     234\nC1     983\nH1    1903\nL1     141\nL3      64\nO1      13\nR1      53\nR2     107\nR3     159\nU1     664\nU2      39\nY0     241\ndtype: int64"
     },
     "execution_count": 38,
     "metadata": {},
     "output_type": "execute_result"
    }
   ],
   "source": [
    "df_hits.groupby(['format_code']).apply(lambda x: len(x[['call_letters', 'mediabase_id']].drop_duplicates()))"
   ],
   "metadata": {
    "collapsed": false
   }
  },
  {
   "cell_type": "code",
   "execution_count": 101,
   "outputs": [],
   "source": [
    "df_hits_brn_final = pd.DataFrame()\n",
    "for fmt in major_formats:\n",
    "    df_brn_temp = df_hits.join(df_hits[(df_hits[final_metric[fmt] + '_track_' + (str(int(final_metric_thresholds[fmt])) if final_metric[fmt]=='ddl' else '%.2f'%final_metric_thresholds[fmt])] >= 2) & (df_hits['week_dt'] > df_hits['week_dt_r']) & (df_hits['format_code'] == fmt)].groupby(['format_code', 'call_letters', 'mediabase_id']).agg({'week_dt': np.min, 'weeks_since_release': np.min, 'cuml_spins_non_on':np.min}), how='right', on = ['format_code', 'call_letters', 'mediabase_id'], rsuffix='_brn')\n",
    "\n",
    "    df_hits_brn_final = pd.concat([df_brn_temp, df_hits_brn_final])"
   ],
   "metadata": {
    "collapsed": false
   }
  },
  {
   "cell_type": "code",
   "execution_count": 41,
   "outputs": [
    {
     "data": {
      "text/plain": "array(['U1', 'H1', 'C1'], dtype=object)"
     },
     "execution_count": 41,
     "metadata": {},
     "output_type": "execute_result"
    }
   ],
   "source": [
    "pd.unique(df_hits_brn_final['format_code'])"
   ],
   "metadata": {
    "collapsed": false
   }
  },
  {
   "cell_type": "code",
   "execution_count": 102,
   "outputs": [],
   "source": [
    "fn1=lambda x: np.mean(x['week_dt_brn'] - x['week_dt_r'])/np.timedelta64(1, 'W')\n",
    "fn2=lambda x: np.mean(x['cuml_spins_non_on_brn'] - x['cuml_spins_non_on_r'])\n",
    "fn3=lambda x: len(x[['call_letters', 'mediabase_id']].drop_duplicates())\n",
    "\n",
    "grp_cols = ['format_code', 'hit_spins_bucket']\n",
    "\n",
    "df_time_to_burn_final = pd.DataFrame(df_hits[df_hits['format_code'].isin(major_formats)].groupby(grp_cols).apply(fn3), columns=['total_instances']).join(pd.DataFrame(df_hits_brn_final.groupby(grp_cols).apply(fn3), columns=['burnout_instances']).join(pd.DataFrame(df_hits_brn_final.groupby(['format_code', 'hit_spins_bucket']).apply(fn1), columns=['diff_weeks']).join(pd.DataFrame(df_hits_brn_final.groupby(['format_code', 'hit_spins_bucket']).apply(fn2), columns=['diff_spins']), rsuffix='_r')).join(pd.DataFrame(df_hits_brn_final.groupby(['format_code', 'hit_spins_bucket']).apply(lambda x: np.mean(x['cuml_spins_non_on_brn'])), columns=['cuml_spins']), rsuffix='_r'))"
   ],
   "metadata": {
    "collapsed": false
   }
  },
  {
   "cell_type": "code",
   "execution_count": 103,
   "outputs": [
    {
     "name": "stdout",
     "output_type": "stream",
     "text": [
      "{'C1': [(50, 450), (450, 550), (550, 750), (750, 950), (950, 1750)]}\n",
      "{'C1': [(50, 450), (450, 550), (550, 750), (750, 950), (950, 1750)], 'H1': [(50, 250), (250, 350), (350, 450), (450, 550), (550, 650), (650, 750), (750, 850), (850, 950), (950, 1050), (1050, 1150), (1150, 1250), (1250, 1350), (1350, 1450), (1450, 1550), (1550, 1750), (1750, 2050), (2050, 3550), (3550, 3650)]}\n",
      "{'C1': [(50, 450), (450, 550), (550, 750), (750, 950), (950, 1750)], 'H1': [(50, 250), (250, 350), (350, 450), (450, 550), (550, 650), (650, 750), (750, 850), (850, 950), (950, 1050), (1050, 1150), (1150, 1250), (1250, 1350), (1350, 1450), (1450, 1550), (1550, 1750), (1750, 2050), (2050, 3550), (3550, 3650)], 'U1': [(50, 250), (250, 350), (350, 450), (450, 550), (550, 650), (650, 750), (750, 950), (950, 1250), (1250, 1750), (1750, 3750)]}\n"
     ]
    }
   ],
   "source": [
    "min_num_obs = 20\n",
    "collapse_dict = {}\n",
    "for fmt in major_formats:\n",
    "    df_temp = df_time_to_burn_final[df_time_to_burn_final.index.get_level_values(0) == fmt]\n",
    "    temp_list = []\n",
    "    obs_total = 0\n",
    "    lb = 0\n",
    "    ub = 0\n",
    "    start_new_interval = True\n",
    "\n",
    "    for idx in df_temp.index:\n",
    "        old_obs = obs_total\n",
    "        new_obs = np.nan_to_num(df_temp.loc[idx]['burnout_instances'])\n",
    "        obs_total = old_obs + new_obs\n",
    "        if start_new_interval:\n",
    "            lb=idx[1].left\n",
    "            ub = idx[1].right\n",
    "            start_new_interval=False\n",
    "\n",
    "        if obs_total < min_num_obs:\n",
    "            ub=idx[1].right\n",
    "        else:\n",
    "            #print((lb, ub, obs_total))\n",
    "            obs_total = 0\n",
    "            start_new_interval=True\n",
    "            temp_list.append((lb,idx[1].right))\n",
    "    temp_list.append((lb, idx[1].right))\n",
    "    collapse_dict[fmt] = list(pd.unique(temp_list))\n",
    "    print(collapse_dict)"
   ],
   "metadata": {
    "collapsed": false
   }
  },
  {
   "cell_type": "code",
   "execution_count": 104,
   "outputs": [
    {
     "name": "stdout",
     "output_type": "stream",
     "text": [
      "C1\n",
      "H1\n",
      "U1\n"
     ]
    }
   ],
   "source": [
    "pd.options.mode.chained_assignment = 'warn'  # default='warn'\n",
    "df_hits_spins_bucket_new = pd.DataFrame()\n",
    "for fmt in major_formats:\n",
    "    print(fmt)\n",
    "    idx = df_hits['format_code'] == fmt\n",
    "    df_temp = pd.DataFrame(pd.cut(df_hits.loc[idx]['cuml_spins_non_on_r'],bins=pd.IntervalIndex.from_tuples(collapse_dict[fmt])))\n",
    "    df_hits_spins_bucket_new = pd.concat([df_temp.dropna(), df_hits_spins_bucket_new])"
   ],
   "metadata": {
    "collapsed": false
   }
  },
  {
   "cell_type": "code",
   "execution_count": 105,
   "outputs": [],
   "source": [
    "df_hits['hit_spins_bucket_new'] = df_hits_spins_bucket_new"
   ],
   "metadata": {
    "collapsed": false
   }
  },
  {
   "cell_type": "code",
   "execution_count": 106,
   "outputs": [],
   "source": [
    "df_hits_brn_final['hit_spins_bucket_new'] = df_hits_spins_bucket_new"
   ],
   "metadata": {
    "collapsed": false
   }
  },
  {
   "cell_type": "code",
   "execution_count": 170,
   "outputs": [],
   "source": [
    "fn1=lambda x: np.mean(x['week_dt_brn'] - x['week_dt_r'])/np.timedelta64(1, 'W')\n",
    "fn2=lambda x: np.mean(x['cuml_spins_non_on_brn'] - x['cuml_spins_non_on_r'])\n",
    "fn3=lambda x: len(x[['call_letters', 'mediabase_id']].drop_duplicates())\n",
    "\n",
    "grp_cols = ['format_code', 'hit_spins_bucket_new']\n",
    "\n",
    "df_time_to_burn_collaps = pd.DataFrame(df_hits[df_hits['format_code'].isin(major_formats)].groupby(grp_cols).apply(fn3), columns=['total_instances']).join(pd.DataFrame(df_hits_brn_final.groupby(grp_cols).apply(fn3), columns=['burnout_instances']).join(pd.DataFrame(df_hits_brn_final.groupby(['format_code', 'hit_spins_bucket_new']).apply(fn1), columns=['diff_weeks']).join(pd.DataFrame(df_hits_brn_final.groupby(['format_code', 'hit_spins_bucket_new']).apply(fn2), columns=['diff_spins']), rsuffix='_r')).join(pd.DataFrame(df_hits_brn_final.groupby(['format_code', 'hit_spins_bucket_new']).apply(lambda x: np.mean(x['cuml_spins_non_on_brn'])), columns=['cuml_spins']), rsuffix='_r'))"
   ],
   "metadata": {
    "collapsed": false
   }
  },
  {
   "cell_type": "code",
   "execution_count": 173,
   "outputs": [],
   "source": [
    "df_time_to_burn_collaps['burn_perc'] = df_time_to_burn_collaps['burnout_instances']/ df_time_to_burn_collaps['total_instances']"
   ],
   "metadata": {
    "collapsed": false
   }
  },
  {
   "cell_type": "code",
   "execution_count": 175,
   "outputs": [],
   "source": [
    "df_time_to_burn_collaps['ddl_threshold'] = [final_metric_thresholds[i] for i in df_time_to_burn_collaps.index.get_level_values(0)]"
   ],
   "metadata": {
    "collapsed": false
   }
  },
  {
   "cell_type": "code",
   "execution_count": 176,
   "outputs": [
    {
     "data": {
      "text/plain": "                                  total_instances  burnout_instances  \\\nformat_code hit_spins_bucket_new                                       \nC1          (50.0, 450.0]                     278                 33   \n            (450.0, 550.0]                    160                 25   \n            (550.0, 750.0]                    272                 38   \n            (750.0, 950.0]                    200                 28   \n            (950.0, 2150.0]                   127                 16   \nH1          (50.0, 250.0]                     126                 53   \n            (250.0, 350.0]                    119                 82   \n            (350.0, 450.0]                    158                118   \n            (450.0, 550.0]                    180                135   \n            (550.0, 650.0]                    205                150   \n            (650.0, 750.0]                    189                145   \n            (750.0, 850.0]                    219                169   \n            (850.0, 950.0]                    158                116   \n            (950.0, 1050.0]                   146                 96   \n            (1050.0, 1150.0]                  115                 85   \n            (1150.0, 1250.0]                   87                 67   \n            (1250.0, 1350.0]                   62                 45   \n            (1350.0, 1450.0]                   76                 59   \n            (1450.0, 1550.0]                   52                 36   \n            (1550.0, 1750.0]                   47                 37   \n            (1750.0, 1950.0]                   30                 24   \n            (1950.0, 2250.0]                   25                 21   \n            (2250.0, 3650.0]                   11                 10   \nU1          (50.0, 250.0]                      58                 29   \n            (250.0, 350.0]                     53                 33   \n            (350.0, 450.0]                    103                 53   \n            (450.0, 550.0]                     88                 48   \n            (550.0, 650.0]                     82                 39   \n            (650.0, 850.0]                     89                 36   \n            (850.0, 1050.0]                    63                 25   \n            (1050.0, 1350.0]                   60                 28   \n            (1350.0, 2950.0]                   64                 21   \n            (2950.0, 3750.0]                   13                  9   \n\n                                  diff_weeks   diff_spins   cuml_spins  \\\nformat_code hit_spins_bucket_new                                         \nC1          (50.0, 450.0]          45.453076  1158.904206  1507.695093   \n            (450.0, 550.0]         47.396648   989.584828  1494.869156   \n            (550.0, 750.0]         29.442240   674.674876  1338.595322   \n            (750.0, 950.0]         27.316301   549.669229  1401.849650   \n            (950.0, 2150.0]        13.526268   291.539855  1485.250906   \nH1          (50.0, 250.0]          26.637035  1405.468451  1603.079206   \n            (250.0, 350.0]         25.297548  1309.328589  1614.885526   \n            (350.0, 450.0]         26.900502  1305.941954  1707.584435   \n            (450.0, 550.0]         23.580321  1175.739979  1674.723097   \n            (550.0, 650.0]         19.979896  1026.927089  1628.711460   \n            (650.0, 750.0]         18.035933   907.343110  1608.615981   \n            (750.0, 850.0]         21.157827   941.900555  1743.419657   \n            (850.0, 950.0]         16.809227   829.752945  1728.485303   \n            (950.0, 1050.0]        17.264293   654.675532  1656.234918   \n            (1050.0, 1150.0]       14.835877   534.009561  1630.085206   \n            (1150.0, 1250.0]       10.041084   474.382280  1670.664560   \n            (1250.0, 1350.0]       14.043417   508.258403  1808.985819   \n            (1350.0, 1450.0]       11.109330   399.450173  1797.745819   \n            (1450.0, 1550.0]       12.541033   588.163526  2081.412969   \n            (1550.0, 1750.0]        9.462823   463.006679  2112.516028   \n            (1750.0, 1950.0]        6.886998   378.275357  2211.872703   \n            (1950.0, 2250.0]        4.891304   184.512422  2238.511646   \n            (2250.0, 3650.0]        6.071066   229.373604  2936.928934   \nU1          (50.0, 250.0]          29.827808  1276.447161  1473.659138   \n            (250.0, 350.0]         31.371855  1422.027959  1717.842870   \n            (350.0, 450.0]         32.189651  1270.139515  1668.530701   \n            (450.0, 550.0]         36.067982  1403.774260  1905.247122   \n            (550.0, 650.0]         26.467460  1029.122409  1629.884081   \n            (650.0, 850.0]         36.540846  1253.334154  1992.741995   \n            (850.0, 1050.0]        20.136835   656.702737  1590.780434   \n            (1050.0, 1350.0]       22.000326   665.686991  1871.030649   \n            (1350.0, 2950.0]       27.565543   733.767416  2818.303371   \n            (2950.0, 3750.0]       10.447729   155.676280  3577.560923   \n\n                                  burn_perc  ddl_threshold  \nformat_code hit_spins_bucket_new                            \nC1          (50.0, 450.0]          0.118705             16  \n            (450.0, 550.0]         0.156250             16  \n            (550.0, 750.0]         0.139706             16  \n            (750.0, 950.0]         0.140000             16  \n            (950.0, 2150.0]        0.125984             16  \nH1          (50.0, 250.0]          0.420635             20  \n            (250.0, 350.0]         0.689076             20  \n            (350.0, 450.0]         0.746835             20  \n            (450.0, 550.0]         0.750000             20  \n            (550.0, 650.0]         0.731707             20  \n            (650.0, 750.0]         0.767196             20  \n            (750.0, 850.0]         0.771689             20  \n            (850.0, 950.0]         0.734177             20  \n            (950.0, 1050.0]        0.657534             20  \n            (1050.0, 1150.0]       0.739130             20  \n            (1150.0, 1250.0]       0.770115             20  \n            (1250.0, 1350.0]       0.725806             20  \n            (1350.0, 1450.0]       0.776316             20  \n            (1450.0, 1550.0]       0.692308             20  \n            (1550.0, 1750.0]       0.787234             20  \n            (1750.0, 1950.0]       0.800000             20  \n            (1950.0, 2250.0]       0.840000             20  \n            (2250.0, 3650.0]       0.909091             20  \nU1          (50.0, 250.0]          0.500000             16  \n            (250.0, 350.0]         0.622642             16  \n            (350.0, 450.0]         0.514563             16  \n            (450.0, 550.0]         0.545455             16  \n            (550.0, 650.0]         0.475610             16  \n            (650.0, 850.0]         0.404494             16  \n            (850.0, 1050.0]        0.396825             16  \n            (1050.0, 1350.0]       0.466667             16  \n            (1350.0, 2950.0]       0.328125             16  \n            (2950.0, 3750.0]       0.692308             16  ",
      "text/html": "<div>\n<style scoped>\n    .dataframe tbody tr th:only-of-type {\n        vertical-align: middle;\n    }\n\n    .dataframe tbody tr th {\n        vertical-align: top;\n    }\n\n    .dataframe thead th {\n        text-align: right;\n    }\n</style>\n<table border=\"1\" class=\"dataframe\">\n  <thead>\n    <tr style=\"text-align: right;\">\n      <th></th>\n      <th></th>\n      <th>total_instances</th>\n      <th>burnout_instances</th>\n      <th>diff_weeks</th>\n      <th>diff_spins</th>\n      <th>cuml_spins</th>\n      <th>burn_perc</th>\n      <th>ddl_threshold</th>\n    </tr>\n    <tr>\n      <th>format_code</th>\n      <th>hit_spins_bucket_new</th>\n      <th></th>\n      <th></th>\n      <th></th>\n      <th></th>\n      <th></th>\n      <th></th>\n      <th></th>\n    </tr>\n  </thead>\n  <tbody>\n    <tr>\n      <th rowspan=\"5\" valign=\"top\">C1</th>\n      <th>(50.0, 450.0]</th>\n      <td>278</td>\n      <td>33</td>\n      <td>45.453076</td>\n      <td>1158.904206</td>\n      <td>1507.695093</td>\n      <td>0.118705</td>\n      <td>16</td>\n    </tr>\n    <tr>\n      <th>(450.0, 550.0]</th>\n      <td>160</td>\n      <td>25</td>\n      <td>47.396648</td>\n      <td>989.584828</td>\n      <td>1494.869156</td>\n      <td>0.156250</td>\n      <td>16</td>\n    </tr>\n    <tr>\n      <th>(550.0, 750.0]</th>\n      <td>272</td>\n      <td>38</td>\n      <td>29.442240</td>\n      <td>674.674876</td>\n      <td>1338.595322</td>\n      <td>0.139706</td>\n      <td>16</td>\n    </tr>\n    <tr>\n      <th>(750.0, 950.0]</th>\n      <td>200</td>\n      <td>28</td>\n      <td>27.316301</td>\n      <td>549.669229</td>\n      <td>1401.849650</td>\n      <td>0.140000</td>\n      <td>16</td>\n    </tr>\n    <tr>\n      <th>(950.0, 2150.0]</th>\n      <td>127</td>\n      <td>16</td>\n      <td>13.526268</td>\n      <td>291.539855</td>\n      <td>1485.250906</td>\n      <td>0.125984</td>\n      <td>16</td>\n    </tr>\n    <tr>\n      <th rowspan=\"18\" valign=\"top\">H1</th>\n      <th>(50.0, 250.0]</th>\n      <td>126</td>\n      <td>53</td>\n      <td>26.637035</td>\n      <td>1405.468451</td>\n      <td>1603.079206</td>\n      <td>0.420635</td>\n      <td>20</td>\n    </tr>\n    <tr>\n      <th>(250.0, 350.0]</th>\n      <td>119</td>\n      <td>82</td>\n      <td>25.297548</td>\n      <td>1309.328589</td>\n      <td>1614.885526</td>\n      <td>0.689076</td>\n      <td>20</td>\n    </tr>\n    <tr>\n      <th>(350.0, 450.0]</th>\n      <td>158</td>\n      <td>118</td>\n      <td>26.900502</td>\n      <td>1305.941954</td>\n      <td>1707.584435</td>\n      <td>0.746835</td>\n      <td>20</td>\n    </tr>\n    <tr>\n      <th>(450.0, 550.0]</th>\n      <td>180</td>\n      <td>135</td>\n      <td>23.580321</td>\n      <td>1175.739979</td>\n      <td>1674.723097</td>\n      <td>0.750000</td>\n      <td>20</td>\n    </tr>\n    <tr>\n      <th>(550.0, 650.0]</th>\n      <td>205</td>\n      <td>150</td>\n      <td>19.979896</td>\n      <td>1026.927089</td>\n      <td>1628.711460</td>\n      <td>0.731707</td>\n      <td>20</td>\n    </tr>\n    <tr>\n      <th>(650.0, 750.0]</th>\n      <td>189</td>\n      <td>145</td>\n      <td>18.035933</td>\n      <td>907.343110</td>\n      <td>1608.615981</td>\n      <td>0.767196</td>\n      <td>20</td>\n    </tr>\n    <tr>\n      <th>(750.0, 850.0]</th>\n      <td>219</td>\n      <td>169</td>\n      <td>21.157827</td>\n      <td>941.900555</td>\n      <td>1743.419657</td>\n      <td>0.771689</td>\n      <td>20</td>\n    </tr>\n    <tr>\n      <th>(850.0, 950.0]</th>\n      <td>158</td>\n      <td>116</td>\n      <td>16.809227</td>\n      <td>829.752945</td>\n      <td>1728.485303</td>\n      <td>0.734177</td>\n      <td>20</td>\n    </tr>\n    <tr>\n      <th>(950.0, 1050.0]</th>\n      <td>146</td>\n      <td>96</td>\n      <td>17.264293</td>\n      <td>654.675532</td>\n      <td>1656.234918</td>\n      <td>0.657534</td>\n      <td>20</td>\n    </tr>\n    <tr>\n      <th>(1050.0, 1150.0]</th>\n      <td>115</td>\n      <td>85</td>\n      <td>14.835877</td>\n      <td>534.009561</td>\n      <td>1630.085206</td>\n      <td>0.739130</td>\n      <td>20</td>\n    </tr>\n    <tr>\n      <th>(1150.0, 1250.0]</th>\n      <td>87</td>\n      <td>67</td>\n      <td>10.041084</td>\n      <td>474.382280</td>\n      <td>1670.664560</td>\n      <td>0.770115</td>\n      <td>20</td>\n    </tr>\n    <tr>\n      <th>(1250.0, 1350.0]</th>\n      <td>62</td>\n      <td>45</td>\n      <td>14.043417</td>\n      <td>508.258403</td>\n      <td>1808.985819</td>\n      <td>0.725806</td>\n      <td>20</td>\n    </tr>\n    <tr>\n      <th>(1350.0, 1450.0]</th>\n      <td>76</td>\n      <td>59</td>\n      <td>11.109330</td>\n      <td>399.450173</td>\n      <td>1797.745819</td>\n      <td>0.776316</td>\n      <td>20</td>\n    </tr>\n    <tr>\n      <th>(1450.0, 1550.0]</th>\n      <td>52</td>\n      <td>36</td>\n      <td>12.541033</td>\n      <td>588.163526</td>\n      <td>2081.412969</td>\n      <td>0.692308</td>\n      <td>20</td>\n    </tr>\n    <tr>\n      <th>(1550.0, 1750.0]</th>\n      <td>47</td>\n      <td>37</td>\n      <td>9.462823</td>\n      <td>463.006679</td>\n      <td>2112.516028</td>\n      <td>0.787234</td>\n      <td>20</td>\n    </tr>\n    <tr>\n      <th>(1750.0, 1950.0]</th>\n      <td>30</td>\n      <td>24</td>\n      <td>6.886998</td>\n      <td>378.275357</td>\n      <td>2211.872703</td>\n      <td>0.800000</td>\n      <td>20</td>\n    </tr>\n    <tr>\n      <th>(1950.0, 2250.0]</th>\n      <td>25</td>\n      <td>21</td>\n      <td>4.891304</td>\n      <td>184.512422</td>\n      <td>2238.511646</td>\n      <td>0.840000</td>\n      <td>20</td>\n    </tr>\n    <tr>\n      <th>(2250.0, 3650.0]</th>\n      <td>11</td>\n      <td>10</td>\n      <td>6.071066</td>\n      <td>229.373604</td>\n      <td>2936.928934</td>\n      <td>0.909091</td>\n      <td>20</td>\n    </tr>\n    <tr>\n      <th rowspan=\"10\" valign=\"top\">U1</th>\n      <th>(50.0, 250.0]</th>\n      <td>58</td>\n      <td>29</td>\n      <td>29.827808</td>\n      <td>1276.447161</td>\n      <td>1473.659138</td>\n      <td>0.500000</td>\n      <td>16</td>\n    </tr>\n    <tr>\n      <th>(250.0, 350.0]</th>\n      <td>53</td>\n      <td>33</td>\n      <td>31.371855</td>\n      <td>1422.027959</td>\n      <td>1717.842870</td>\n      <td>0.622642</td>\n      <td>16</td>\n    </tr>\n    <tr>\n      <th>(350.0, 450.0]</th>\n      <td>103</td>\n      <td>53</td>\n      <td>32.189651</td>\n      <td>1270.139515</td>\n      <td>1668.530701</td>\n      <td>0.514563</td>\n      <td>16</td>\n    </tr>\n    <tr>\n      <th>(450.0, 550.0]</th>\n      <td>88</td>\n      <td>48</td>\n      <td>36.067982</td>\n      <td>1403.774260</td>\n      <td>1905.247122</td>\n      <td>0.545455</td>\n      <td>16</td>\n    </tr>\n    <tr>\n      <th>(550.0, 650.0]</th>\n      <td>82</td>\n      <td>39</td>\n      <td>26.467460</td>\n      <td>1029.122409</td>\n      <td>1629.884081</td>\n      <td>0.475610</td>\n      <td>16</td>\n    </tr>\n    <tr>\n      <th>(650.0, 850.0]</th>\n      <td>89</td>\n      <td>36</td>\n      <td>36.540846</td>\n      <td>1253.334154</td>\n      <td>1992.741995</td>\n      <td>0.404494</td>\n      <td>16</td>\n    </tr>\n    <tr>\n      <th>(850.0, 1050.0]</th>\n      <td>63</td>\n      <td>25</td>\n      <td>20.136835</td>\n      <td>656.702737</td>\n      <td>1590.780434</td>\n      <td>0.396825</td>\n      <td>16</td>\n    </tr>\n    <tr>\n      <th>(1050.0, 1350.0]</th>\n      <td>60</td>\n      <td>28</td>\n      <td>22.000326</td>\n      <td>665.686991</td>\n      <td>1871.030649</td>\n      <td>0.466667</td>\n      <td>16</td>\n    </tr>\n    <tr>\n      <th>(1350.0, 2950.0]</th>\n      <td>64</td>\n      <td>21</td>\n      <td>27.565543</td>\n      <td>733.767416</td>\n      <td>2818.303371</td>\n      <td>0.328125</td>\n      <td>16</td>\n    </tr>\n    <tr>\n      <th>(2950.0, 3750.0]</th>\n      <td>13</td>\n      <td>9</td>\n      <td>10.447729</td>\n      <td>155.676280</td>\n      <td>3577.560923</td>\n      <td>0.692308</td>\n      <td>16</td>\n    </tr>\n  </tbody>\n</table>\n</div>"
     },
     "execution_count": 176,
     "metadata": {},
     "output_type": "execute_result"
    }
   ],
   "source": [
    "df_time_to_burn_collaps"
   ],
   "metadata": {
    "collapsed": false
   }
  },
  {
   "cell_type": "code",
   "execution_count": 190,
   "outputs": [],
   "source": [
    "file_path = os.getcwd() + '/Time_to_Burn_by_Format.xlsx'\n",
    "format_name = {'C1' : 'Country', 'H1': 'Top_40', 'U1': 'Urban_Contemporary'}\n",
    "with pd.ExcelWriter(file_path) as writer:\n",
    "    for fmt in major_formats:\n",
    "        idx = df_time_to_burn_collaps.index.get_level_values(0) == fmt\n",
    "        df_time_to_burn_collaps.loc[idx].to_excel(writer, sheet_name=format_name[fmt])"
   ],
   "metadata": {
    "collapsed": false
   }
  },
  {
   "cell_type": "code",
   "execution_count": 147,
   "outputs": [
    {
     "data": {
      "text/plain": "Empty DataFrame\nColumns: [total_instances, burnout_instances, diff_weeks, diff_spins, cuml_spins]\nIndex: []",
      "text/html": "<div>\n<style scoped>\n    .dataframe tbody tr th:only-of-type {\n        vertical-align: middle;\n    }\n\n    .dataframe tbody tr th {\n        vertical-align: top;\n    }\n\n    .dataframe thead th {\n        text-align: right;\n    }\n</style>\n<table border=\"1\" class=\"dataframe\">\n  <thead>\n    <tr style=\"text-align: right;\">\n      <th></th>\n      <th></th>\n      <th>total_instances</th>\n      <th>burnout_instances</th>\n      <th>diff_weeks</th>\n      <th>diff_spins</th>\n      <th>cuml_spins</th>\n    </tr>\n    <tr>\n      <th>format_code</th>\n      <th>hit_spins_bucket_new</th>\n      <th></th>\n      <th></th>\n      <th></th>\n      <th></th>\n      <th></th>\n    </tr>\n  </thead>\n  <tbody>\n  </tbody>\n</table>\n</div>"
     },
     "execution_count": 147,
     "metadata": {},
     "output_type": "execute_result"
    }
   ],
   "source": [
    "df_time_to_burn_collaps"
   ],
   "metadata": {
    "collapsed": false
   }
  },
  {
   "cell_type": "markdown",
   "source": [
    "### Post Burnout Pop Analysis - cool-off period"
   ],
   "metadata": {
    "collapsed": false
   }
  },
  {
   "cell_type": "markdown",
   "source": [
    "##### Idea : Look at a 13 week rolling window post burnout and figure out earliest window with atleast two scores and avg. pop within 1 point (or better) of pop pre burnout"
   ],
   "metadata": {
    "collapsed": false
   }
  },
  {
   "cell_type": "code",
   "execution_count": 57,
   "outputs": [
    {
     "data": {
      "text/plain": "        call_letters  mediabase_id    week_dt             song_name  \\\n276          KQBT-FM       2464748 2019-01-07          MIDDLE CHILD   \n905          KQBT-FM       2464748 2019-01-14          MIDDLE CHILD   \n1534         KQBT-FM       2464748 2019-01-21          MIDDLE CHILD   \n2163         KQBT-FM       2464748 2019-01-28          MIDDLE CHILD   \n2805         KQBT-FM       2464748 2019-02-04          MIDDLE CHILD   \n...              ...           ...        ...                   ...   \n2290973      WUBL-FM       2727745 2022-11-28  If I Didn't Love You   \n2308086      WUBL-FM       2727745 2022-12-05  If I Didn't Love You   \n2325199      WUBL-FM       2727745 2022-12-12  If I Didn't Love You   \n2342312      WUBL-FM       2727745 2022-12-19  If I Didn't Love You   \n2359425      WUBL-FM       2727745 2022-12-26  If I Didn't Love You   \n\n                           artist_name  week_dt_r week_dt_brn  \\\n276                            J. COLE 2019-07-15  2020-03-02   \n905                            J. COLE 2019-07-15  2020-03-02   \n1534                           J. COLE 2019-07-15  2020-03-02   \n2163                           J. COLE 2019-07-15  2020-03-02   \n2805                           J. COLE 2019-07-15  2020-03-02   \n...                                ...        ...         ...   \n2290973  JASON ALDEAN/CARRIE UNDERWOOD 2021-11-22  2022-05-09   \n2308086  JASON ALDEAN/CARRIE UNDERWOOD 2021-11-22  2022-05-09   \n2325199  JASON ALDEAN/CARRIE UNDERWOOD 2021-11-22  2022-05-09   \n2342312  JASON ALDEAN/CARRIE UNDERWOOD 2021-11-22  2022-05-09   \n2359425  JASON ALDEAN/CARRIE UNDERWOOD 2021-11-22  2022-05-09   \n\n         cuml_spins_non_on_r  cuml_spins_non_on_brn  pop  fav_metric  \\\n276                      634                   2053  NaN         NaN   \n905                      634                   2053  NaN         NaN   \n1534                     634                   2053  NaN         NaN   \n2163                     634                   2053  NaN         NaN   \n2805                     634                   2053  NaN         NaN   \n...                      ...                    ...  ...         ...   \n2290973                  704                   1622  NaN         NaN   \n2308086                  704                   1622  NaN         NaN   \n2325199                  704                   1622  NaN         NaN   \n2342312                  704                   1622  NaN         NaN   \n2359425                  704                   1622  NaN         NaN   \n\n         ddl_metric hit_spins_bucket_new  \n276             NaN           (550, 650]  \n905             NaN           (550, 650]  \n1534            NaN           (550, 650]  \n2163            NaN           (550, 650]  \n2805            NaN           (550, 650]  \n...             ...                  ...  \n2290973         NaN           (550, 750]  \n2308086         NaN           (550, 750]  \n2325199         NaN           (550, 750]  \n2342312         NaN           (550, 750]  \n2359425         NaN           (550, 750]  \n\n[262972 rows x 13 columns]",
      "text/html": "<div>\n<style scoped>\n    .dataframe tbody tr th:only-of-type {\n        vertical-align: middle;\n    }\n\n    .dataframe tbody tr th {\n        vertical-align: top;\n    }\n\n    .dataframe thead th {\n        text-align: right;\n    }\n</style>\n<table border=\"1\" class=\"dataframe\">\n  <thead>\n    <tr style=\"text-align: right;\">\n      <th></th>\n      <th>call_letters</th>\n      <th>mediabase_id</th>\n      <th>week_dt</th>\n      <th>song_name</th>\n      <th>artist_name</th>\n      <th>week_dt_r</th>\n      <th>week_dt_brn</th>\n      <th>cuml_spins_non_on_r</th>\n      <th>cuml_spins_non_on_brn</th>\n      <th>pop</th>\n      <th>fav_metric</th>\n      <th>ddl_metric</th>\n      <th>hit_spins_bucket_new</th>\n    </tr>\n  </thead>\n  <tbody>\n    <tr>\n      <th>276</th>\n      <td>KQBT-FM</td>\n      <td>2464748</td>\n      <td>2019-01-07</td>\n      <td>MIDDLE CHILD</td>\n      <td>J. COLE</td>\n      <td>2019-07-15</td>\n      <td>2020-03-02</td>\n      <td>634</td>\n      <td>2053</td>\n      <td>NaN</td>\n      <td>NaN</td>\n      <td>NaN</td>\n      <td>(550, 650]</td>\n    </tr>\n    <tr>\n      <th>905</th>\n      <td>KQBT-FM</td>\n      <td>2464748</td>\n      <td>2019-01-14</td>\n      <td>MIDDLE CHILD</td>\n      <td>J. COLE</td>\n      <td>2019-07-15</td>\n      <td>2020-03-02</td>\n      <td>634</td>\n      <td>2053</td>\n      <td>NaN</td>\n      <td>NaN</td>\n      <td>NaN</td>\n      <td>(550, 650]</td>\n    </tr>\n    <tr>\n      <th>1534</th>\n      <td>KQBT-FM</td>\n      <td>2464748</td>\n      <td>2019-01-21</td>\n      <td>MIDDLE CHILD</td>\n      <td>J. COLE</td>\n      <td>2019-07-15</td>\n      <td>2020-03-02</td>\n      <td>634</td>\n      <td>2053</td>\n      <td>NaN</td>\n      <td>NaN</td>\n      <td>NaN</td>\n      <td>(550, 650]</td>\n    </tr>\n    <tr>\n      <th>2163</th>\n      <td>KQBT-FM</td>\n      <td>2464748</td>\n      <td>2019-01-28</td>\n      <td>MIDDLE CHILD</td>\n      <td>J. COLE</td>\n      <td>2019-07-15</td>\n      <td>2020-03-02</td>\n      <td>634</td>\n      <td>2053</td>\n      <td>NaN</td>\n      <td>NaN</td>\n      <td>NaN</td>\n      <td>(550, 650]</td>\n    </tr>\n    <tr>\n      <th>2805</th>\n      <td>KQBT-FM</td>\n      <td>2464748</td>\n      <td>2019-02-04</td>\n      <td>MIDDLE CHILD</td>\n      <td>J. COLE</td>\n      <td>2019-07-15</td>\n      <td>2020-03-02</td>\n      <td>634</td>\n      <td>2053</td>\n      <td>NaN</td>\n      <td>NaN</td>\n      <td>NaN</td>\n      <td>(550, 650]</td>\n    </tr>\n    <tr>\n      <th>...</th>\n      <td>...</td>\n      <td>...</td>\n      <td>...</td>\n      <td>...</td>\n      <td>...</td>\n      <td>...</td>\n      <td>...</td>\n      <td>...</td>\n      <td>...</td>\n      <td>...</td>\n      <td>...</td>\n      <td>...</td>\n      <td>...</td>\n    </tr>\n    <tr>\n      <th>2290973</th>\n      <td>WUBL-FM</td>\n      <td>2727745</td>\n      <td>2022-11-28</td>\n      <td>If I Didn't Love You</td>\n      <td>JASON ALDEAN/CARRIE UNDERWOOD</td>\n      <td>2021-11-22</td>\n      <td>2022-05-09</td>\n      <td>704</td>\n      <td>1622</td>\n      <td>NaN</td>\n      <td>NaN</td>\n      <td>NaN</td>\n      <td>(550, 750]</td>\n    </tr>\n    <tr>\n      <th>2308086</th>\n      <td>WUBL-FM</td>\n      <td>2727745</td>\n      <td>2022-12-05</td>\n      <td>If I Didn't Love You</td>\n      <td>JASON ALDEAN/CARRIE UNDERWOOD</td>\n      <td>2021-11-22</td>\n      <td>2022-05-09</td>\n      <td>704</td>\n      <td>1622</td>\n      <td>NaN</td>\n      <td>NaN</td>\n      <td>NaN</td>\n      <td>(550, 750]</td>\n    </tr>\n    <tr>\n      <th>2325199</th>\n      <td>WUBL-FM</td>\n      <td>2727745</td>\n      <td>2022-12-12</td>\n      <td>If I Didn't Love You</td>\n      <td>JASON ALDEAN/CARRIE UNDERWOOD</td>\n      <td>2021-11-22</td>\n      <td>2022-05-09</td>\n      <td>704</td>\n      <td>1622</td>\n      <td>NaN</td>\n      <td>NaN</td>\n      <td>NaN</td>\n      <td>(550, 750]</td>\n    </tr>\n    <tr>\n      <th>2342312</th>\n      <td>WUBL-FM</td>\n      <td>2727745</td>\n      <td>2022-12-19</td>\n      <td>If I Didn't Love You</td>\n      <td>JASON ALDEAN/CARRIE UNDERWOOD</td>\n      <td>2021-11-22</td>\n      <td>2022-05-09</td>\n      <td>704</td>\n      <td>1622</td>\n      <td>NaN</td>\n      <td>NaN</td>\n      <td>NaN</td>\n      <td>(550, 750]</td>\n    </tr>\n    <tr>\n      <th>2359425</th>\n      <td>WUBL-FM</td>\n      <td>2727745</td>\n      <td>2022-12-26</td>\n      <td>If I Didn't Love You</td>\n      <td>JASON ALDEAN/CARRIE UNDERWOOD</td>\n      <td>2021-11-22</td>\n      <td>2022-05-09</td>\n      <td>704</td>\n      <td>1622</td>\n      <td>NaN</td>\n      <td>NaN</td>\n      <td>NaN</td>\n      <td>(550, 750]</td>\n    </tr>\n  </tbody>\n</table>\n<p>262972 rows × 13 columns</p>\n</div>"
     },
     "execution_count": 57,
     "metadata": {},
     "output_type": "execute_result"
    }
   ],
   "source": [
    "id_cols = ['call_letters', 'mediabase_id', 'week_dt', 'song_name', 'artist_name', 'week_dt_r', 'week_dt_brn', 'cuml_spins_non_on_r', 'cuml_spins_non_on_brn', 'pop', 'fav_metric', 'ddl_metric', 'hit_spins_bucket_new']\n",
    "df_hits_brn_final[id_cols]"
   ],
   "metadata": {
    "collapsed": false
   }
  },
  {
   "cell_type": "code",
   "execution_count": 107,
   "outputs": [],
   "source": [
    "from numpy.lib.stride_tricks import sliding_window_view\n",
    "df_pop_rolling_mean = df_hits_brn_final[df_hits_brn_final['week_dt'] > df_hits_brn_final['week_dt_brn']].groupby(['call_letters', 'mediabase_id'])['pop'].rolling(13, min_periods=1).mean()"
   ],
   "metadata": {
    "collapsed": false
   }
  },
  {
   "cell_type": "code",
   "execution_count": 108,
   "outputs": [],
   "source": [
    "df_pop_rolling_count= df_hits_brn_final[df_hits_brn_final['week_dt'] > df_hits_brn_final['week_dt_brn']].groupby(['call_letters', 'mediabase_id'])['pop'].rolling(13, min_periods=1).count()"
   ],
   "metadata": {
    "collapsed": false
   }
  },
  {
   "cell_type": "code",
   "execution_count": 109,
   "outputs": [],
   "source": [
    "df_hits_brn_final = (df_hits_brn_final.join(df_pop_rolling_mean.droplevel([0,1]), rsuffix='_mean_rolling', how='left')).join(df_pop_rolling_count.droplevel([0,1]), rsuffix='_count_rolling', how='left')"
   ],
   "metadata": {
    "collapsed": false
   }
  },
  {
   "cell_type": "code",
   "execution_count": 110,
   "outputs": [
    {
     "data": {
      "text/plain": "        call_letters  mediabase_id\n1938721      KAJA-FM       2535744\n1913218      KAJA-FM       2706913\n2139645      KEEY-FM       2466281\n362533       KEEY-FM       2469941\n962932       KEEY-FM       2472878\n...              ...           ...\n318385       WUBL-FM       2494621\n2264317      WUBL-FM       2542818\n1100279      WUBL-FM       2556654\n1725022      WUBL-FM       2706913\n1880261      WUBL-FM       2727745\n\n[107 rows x 2 columns]",
      "text/html": "<div>\n<style scoped>\n    .dataframe tbody tr th:only-of-type {\n        vertical-align: middle;\n    }\n\n    .dataframe tbody tr th {\n        vertical-align: top;\n    }\n\n    .dataframe thead th {\n        text-align: right;\n    }\n</style>\n<table border=\"1\" class=\"dataframe\">\n  <thead>\n    <tr style=\"text-align: right;\">\n      <th></th>\n      <th>call_letters</th>\n      <th>mediabase_id</th>\n    </tr>\n  </thead>\n  <tbody>\n    <tr>\n      <th>1938721</th>\n      <td>KAJA-FM</td>\n      <td>2535744</td>\n    </tr>\n    <tr>\n      <th>1913218</th>\n      <td>KAJA-FM</td>\n      <td>2706913</td>\n    </tr>\n    <tr>\n      <th>2139645</th>\n      <td>KEEY-FM</td>\n      <td>2466281</td>\n    </tr>\n    <tr>\n      <th>362533</th>\n      <td>KEEY-FM</td>\n      <td>2469941</td>\n    </tr>\n    <tr>\n      <th>962932</th>\n      <td>KEEY-FM</td>\n      <td>2472878</td>\n    </tr>\n    <tr>\n      <th>...</th>\n      <td>...</td>\n      <td>...</td>\n    </tr>\n    <tr>\n      <th>318385</th>\n      <td>WUBL-FM</td>\n      <td>2494621</td>\n    </tr>\n    <tr>\n      <th>2264317</th>\n      <td>WUBL-FM</td>\n      <td>2542818</td>\n    </tr>\n    <tr>\n      <th>1100279</th>\n      <td>WUBL-FM</td>\n      <td>2556654</td>\n    </tr>\n    <tr>\n      <th>1725022</th>\n      <td>WUBL-FM</td>\n      <td>2706913</td>\n    </tr>\n    <tr>\n      <th>1880261</th>\n      <td>WUBL-FM</td>\n      <td>2727745</td>\n    </tr>\n  </tbody>\n</table>\n<p>107 rows × 2 columns</p>\n</div>"
     },
     "execution_count": 110,
     "metadata": {},
     "output_type": "execute_result"
    }
   ],
   "source": [
    "df_hits_brn_final[(df_hits_brn_final['pop_count_rolling'] >= 2) & (df_hits_brn_final['format_code'] == 'C1')][['call_letters', 'mediabase_id']].drop_duplicates()"
   ],
   "metadata": {
    "collapsed": false
   }
  },
  {
   "cell_type": "code",
   "execution_count": 119,
   "outputs": [],
   "source": [
    "df_hits_brn_pre_pop = df_hits_brn_final[(df_hits_brn_final['week_dt'] < df_hits_brn_final['week_dt_brn']) & (df_hits_brn_final['week_dt'] >= df_hits_brn_final['week_dt_brn'] - np.timedelta64(13, 'W'))].groupby(['format_code', 'call_letters', 'mediabase_id'])['pop'].mean()"
   ],
   "metadata": {
    "collapsed": false
   }
  },
  {
   "cell_type": "code",
   "execution_count": 121,
   "outputs": [],
   "source": [
    "df_hits_brn_final = df_hits_brn_final.join(df_hits_brn_pre_pop, on=['format_code', 'call_letters', 'mediabase_id'], how='left', rsuffix='_pre_13')"
   ],
   "metadata": {
    "collapsed": false
   }
  },
  {
   "cell_type": "code",
   "execution_count": 163,
   "outputs": [
    {
     "data": {
      "text/plain": "                                    0\nformat_code hit_spins_bucket_new     \nC1          (50.0, 450.0]         251\n            (450.0, 550.0]        142\n            (550.0, 750.0]        269\n            (750.0, 950.0]        181\n            (950.0, 1750.0]       140\nH1          (50.0, 250.0]         116\n            (250.0, 350.0]        118\n            (350.0, 450.0]        159\n            (450.0, 550.0]        201\n            (550.0, 650.0]        209\n            (650.0, 750.0]        186\n            (750.0, 850.0]        186\n            (850.0, 950.0]        137\n            (950.0, 1050.0]       135\n            (1050.0, 1150.0]      106\n            (1150.0, 1250.0]       86\n            (1250.0, 1350.0]       62\n            (1350.0, 1450.0]       63\n            (1450.0, 1550.0]       40\n            (1550.0, 1750.0]       47\n            (1750.0, 2050.0]       29\n            (2050.0, 3550.0]       21\n            (3550.0, 3650.0]        1\nU1          (50.0, 250.0]          61\n            (250.0, 350.0]         47\n            (350.0, 450.0]         97\n            (450.0, 550.0]         76\n            (550.0, 650.0]         81\n            (650.0, 750.0]         48\n            (750.0, 950.0]         87\n            (950.0, 1250.0]        70\n            (1250.0, 1750.0]       51\n            (1750.0, 3750.0]       46",
      "text/html": "<div>\n<style scoped>\n    .dataframe tbody tr th:only-of-type {\n        vertical-align: middle;\n    }\n\n    .dataframe tbody tr th {\n        vertical-align: top;\n    }\n\n    .dataframe thead th {\n        text-align: right;\n    }\n</style>\n<table border=\"1\" class=\"dataframe\">\n  <thead>\n    <tr style=\"text-align: right;\">\n      <th></th>\n      <th></th>\n      <th>0</th>\n    </tr>\n    <tr>\n      <th>format_code</th>\n      <th>hit_spins_bucket_new</th>\n      <th></th>\n    </tr>\n  </thead>\n  <tbody>\n    <tr>\n      <th rowspan=\"5\" valign=\"top\">C1</th>\n      <th>(50.0, 450.0]</th>\n      <td>251</td>\n    </tr>\n    <tr>\n      <th>(450.0, 550.0]</th>\n      <td>142</td>\n    </tr>\n    <tr>\n      <th>(550.0, 750.0]</th>\n      <td>269</td>\n    </tr>\n    <tr>\n      <th>(750.0, 950.0]</th>\n      <td>181</td>\n    </tr>\n    <tr>\n      <th>(950.0, 1750.0]</th>\n      <td>140</td>\n    </tr>\n    <tr>\n      <th rowspan=\"18\" valign=\"top\">H1</th>\n      <th>(50.0, 250.0]</th>\n      <td>116</td>\n    </tr>\n    <tr>\n      <th>(250.0, 350.0]</th>\n      <td>118</td>\n    </tr>\n    <tr>\n      <th>(350.0, 450.0]</th>\n      <td>159</td>\n    </tr>\n    <tr>\n      <th>(450.0, 550.0]</th>\n      <td>201</td>\n    </tr>\n    <tr>\n      <th>(550.0, 650.0]</th>\n      <td>209</td>\n    </tr>\n    <tr>\n      <th>(650.0, 750.0]</th>\n      <td>186</td>\n    </tr>\n    <tr>\n      <th>(750.0, 850.0]</th>\n      <td>186</td>\n    </tr>\n    <tr>\n      <th>(850.0, 950.0]</th>\n      <td>137</td>\n    </tr>\n    <tr>\n      <th>(950.0, 1050.0]</th>\n      <td>135</td>\n    </tr>\n    <tr>\n      <th>(1050.0, 1150.0]</th>\n      <td>106</td>\n    </tr>\n    <tr>\n      <th>(1150.0, 1250.0]</th>\n      <td>86</td>\n    </tr>\n    <tr>\n      <th>(1250.0, 1350.0]</th>\n      <td>62</td>\n    </tr>\n    <tr>\n      <th>(1350.0, 1450.0]</th>\n      <td>63</td>\n    </tr>\n    <tr>\n      <th>(1450.0, 1550.0]</th>\n      <td>40</td>\n    </tr>\n    <tr>\n      <th>(1550.0, 1750.0]</th>\n      <td>47</td>\n    </tr>\n    <tr>\n      <th>(1750.0, 2050.0]</th>\n      <td>29</td>\n    </tr>\n    <tr>\n      <th>(2050.0, 3550.0]</th>\n      <td>21</td>\n    </tr>\n    <tr>\n      <th>(3550.0, 3650.0]</th>\n      <td>1</td>\n    </tr>\n    <tr>\n      <th rowspan=\"10\" valign=\"top\">U1</th>\n      <th>(50.0, 250.0]</th>\n      <td>61</td>\n    </tr>\n    <tr>\n      <th>(250.0, 350.0]</th>\n      <td>47</td>\n    </tr>\n    <tr>\n      <th>(350.0, 450.0]</th>\n      <td>97</td>\n    </tr>\n    <tr>\n      <th>(450.0, 550.0]</th>\n      <td>76</td>\n    </tr>\n    <tr>\n      <th>(550.0, 650.0]</th>\n      <td>81</td>\n    </tr>\n    <tr>\n      <th>(650.0, 750.0]</th>\n      <td>48</td>\n    </tr>\n    <tr>\n      <th>(750.0, 950.0]</th>\n      <td>87</td>\n    </tr>\n    <tr>\n      <th>(950.0, 1250.0]</th>\n      <td>70</td>\n    </tr>\n    <tr>\n      <th>(1250.0, 1750.0]</th>\n      <td>51</td>\n    </tr>\n    <tr>\n      <th>(1750.0, 3750.0]</th>\n      <td>46</td>\n    </tr>\n  </tbody>\n</table>\n</div>"
     },
     "execution_count": 163,
     "metadata": {},
     "output_type": "execute_result"
    }
   ],
   "source": [
    "pd.DataFrame(df_hits.groupby(['format_code', 'hit_spins_bucket_new']).apply(lambda x: len(x[['mediabase_id', 'call_letters']].drop_duplicates())))"
   ],
   "metadata": {
    "collapsed": false
   }
  },
  {
   "cell_type": "code",
   "execution_count": 162,
   "outputs": [
    {
     "data": {
      "text/plain": "                                    0\nformat_code hit_spins_bucket_new     \nC1          (50, 450]              36\n            (450, 550]             28\n            (550, 750]             42\n            (750, 950]             24\n            (950, 1750]            19\nH1          (50, 250]              43\n            (250, 350]             81\n            (350, 450]            115\n            (450, 550]            147\n            (550, 650]            155\n            (650, 750]            137\n            (750, 850]            141\n            (850, 950]            100\n            (950, 1050]            93\n            (1050, 1150]           79\n            (1150, 1250]           71\n            (1250, 1350]           45\n            (1350, 1450]           47\n            (1450, 1550]           34\n            (1550, 1750]           35\n            (1750, 2050]           22\n            (2050, 3550]           20\n            (3550, 3650]            1\nU1          (50, 250]              28\n            (250, 350]             26\n            (350, 450]             48\n            (450, 550]             41\n            (550, 650]             37\n            (650, 750]             23\n            (750, 950]             37\n            (950, 1250]            25\n            (1250, 1750]           21\n            (1750, 3750]           22",
      "text/html": "<div>\n<style scoped>\n    .dataframe tbody tr th:only-of-type {\n        vertical-align: middle;\n    }\n\n    .dataframe tbody tr th {\n        vertical-align: top;\n    }\n\n    .dataframe thead th {\n        text-align: right;\n    }\n</style>\n<table border=\"1\" class=\"dataframe\">\n  <thead>\n    <tr style=\"text-align: right;\">\n      <th></th>\n      <th></th>\n      <th>0</th>\n    </tr>\n    <tr>\n      <th>format_code</th>\n      <th>hit_spins_bucket_new</th>\n      <th></th>\n    </tr>\n  </thead>\n  <tbody>\n    <tr>\n      <th rowspan=\"5\" valign=\"top\">C1</th>\n      <th>(50, 450]</th>\n      <td>36</td>\n    </tr>\n    <tr>\n      <th>(450, 550]</th>\n      <td>28</td>\n    </tr>\n    <tr>\n      <th>(550, 750]</th>\n      <td>42</td>\n    </tr>\n    <tr>\n      <th>(750, 950]</th>\n      <td>24</td>\n    </tr>\n    <tr>\n      <th>(950, 1750]</th>\n      <td>19</td>\n    </tr>\n    <tr>\n      <th rowspan=\"18\" valign=\"top\">H1</th>\n      <th>(50, 250]</th>\n      <td>43</td>\n    </tr>\n    <tr>\n      <th>(250, 350]</th>\n      <td>81</td>\n    </tr>\n    <tr>\n      <th>(350, 450]</th>\n      <td>115</td>\n    </tr>\n    <tr>\n      <th>(450, 550]</th>\n      <td>147</td>\n    </tr>\n    <tr>\n      <th>(550, 650]</th>\n      <td>155</td>\n    </tr>\n    <tr>\n      <th>(650, 750]</th>\n      <td>137</td>\n    </tr>\n    <tr>\n      <th>(750, 850]</th>\n      <td>141</td>\n    </tr>\n    <tr>\n      <th>(850, 950]</th>\n      <td>100</td>\n    </tr>\n    <tr>\n      <th>(950, 1050]</th>\n      <td>93</td>\n    </tr>\n    <tr>\n      <th>(1050, 1150]</th>\n      <td>79</td>\n    </tr>\n    <tr>\n      <th>(1150, 1250]</th>\n      <td>71</td>\n    </tr>\n    <tr>\n      <th>(1250, 1350]</th>\n      <td>45</td>\n    </tr>\n    <tr>\n      <th>(1350, 1450]</th>\n      <td>47</td>\n    </tr>\n    <tr>\n      <th>(1450, 1550]</th>\n      <td>34</td>\n    </tr>\n    <tr>\n      <th>(1550, 1750]</th>\n      <td>35</td>\n    </tr>\n    <tr>\n      <th>(1750, 2050]</th>\n      <td>22</td>\n    </tr>\n    <tr>\n      <th>(2050, 3550]</th>\n      <td>20</td>\n    </tr>\n    <tr>\n      <th>(3550, 3650]</th>\n      <td>1</td>\n    </tr>\n    <tr>\n      <th rowspan=\"10\" valign=\"top\">U1</th>\n      <th>(50, 250]</th>\n      <td>28</td>\n    </tr>\n    <tr>\n      <th>(250, 350]</th>\n      <td>26</td>\n    </tr>\n    <tr>\n      <th>(350, 450]</th>\n      <td>48</td>\n    </tr>\n    <tr>\n      <th>(450, 550]</th>\n      <td>41</td>\n    </tr>\n    <tr>\n      <th>(550, 650]</th>\n      <td>37</td>\n    </tr>\n    <tr>\n      <th>(650, 750]</th>\n      <td>23</td>\n    </tr>\n    <tr>\n      <th>(750, 950]</th>\n      <td>37</td>\n    </tr>\n    <tr>\n      <th>(950, 1250]</th>\n      <td>25</td>\n    </tr>\n    <tr>\n      <th>(1250, 1750]</th>\n      <td>21</td>\n    </tr>\n    <tr>\n      <th>(1750, 3750]</th>\n      <td>22</td>\n    </tr>\n  </tbody>\n</table>\n</div>"
     },
     "execution_count": 162,
     "metadata": {},
     "output_type": "execute_result"
    }
   ],
   "source": [
    "pd.DataFrame(df_hits_brn_final.groupby(['format_code', 'hit_spins_bucket_new']).apply(lambda x: len(x[['mediabase_id', 'call_letters']].drop_duplicates())))"
   ],
   "metadata": {
    "collapsed": false
   }
  },
  {
   "cell_type": "code",
   "execution_count": 129,
   "outputs": [],
   "source": [
    "df_hits_brn_to_recovery = df_hits_brn_final[(df_hits_brn_final['pop_mean_rolling'] >= (df_hits_brn_final['pop_pre_13'] - 1)) & (df_hits_brn_final['pop_count_rolling'] >= 2)].groupby(['format_code', 'call_letters', 'mediabase_id', 'hit_spins_bucket_new']).agg({'week_dt': np.min, 'week_dt_brn':np.min}).reset_index()"
   ],
   "metadata": {
    "collapsed": false
   }
  },
  {
   "cell_type": "code",
   "execution_count": 150,
   "outputs": [
    {
     "data": {
      "text/plain": "                                  week_dt  weeks_to_recovery\nformat_code hit_spins_bucket_new                            \nC1          (50, 450]                  18               28.4\n            (450, 550]                 17               16.4\n            (550, 750]                 19               22.6\n            (750, 950]                 15               23.4\n            (950, 1750]                 6               11.0\nH1          (50, 250]                  23               22.8\n            (250, 350]                 39               28.8\n            (350, 450]                 70               30.2\n            (450, 550]                 84               31.2\n            (550, 650]                 87               32.6\n            (650, 750]                 77               22.6\n            (750, 850]                 74               24.0\n            (850, 950]                 52               15.0\n            (950, 1050]                60               31.2\n            (1050, 1150]               47               15.0\n            (1150, 1250]               45               20.2\n            (1250, 1350]               28               15.0\n            (1350, 1450]               31               14.0\n            (1450, 1550]               26               24.0\n            (1550, 1750]               26               18.0\n            (1750, 2050]               16                7.0\n            (2050, 3550]               12                8.0\n            (3550, 3650]                1                3.0\nU1          (50, 250]                  16               15.0\n            (250, 350]                 14                7.6\n            (350, 450]                 27               14.6\n            (450, 550]                 21               14.0\n            (550, 650]                 22               18.8\n            (650, 750]                 14               30.4\n            (750, 950]                 23               17.6\n            (950, 1250]                16               10.0\n            (1250, 1750]               11               20.0\n            (1750, 3750]               20               14.4",
      "text/html": "<div>\n<style scoped>\n    .dataframe tbody tr th:only-of-type {\n        vertical-align: middle;\n    }\n\n    .dataframe tbody tr th {\n        vertical-align: top;\n    }\n\n    .dataframe thead th {\n        text-align: right;\n    }\n</style>\n<table border=\"1\" class=\"dataframe\">\n  <thead>\n    <tr style=\"text-align: right;\">\n      <th></th>\n      <th></th>\n      <th>week_dt</th>\n      <th>weeks_to_recovery</th>\n    </tr>\n    <tr>\n      <th>format_code</th>\n      <th>hit_spins_bucket_new</th>\n      <th></th>\n      <th></th>\n    </tr>\n  </thead>\n  <tbody>\n    <tr>\n      <th rowspan=\"5\" valign=\"top\">C1</th>\n      <th>(50, 450]</th>\n      <td>18</td>\n      <td>28.4</td>\n    </tr>\n    <tr>\n      <th>(450, 550]</th>\n      <td>17</td>\n      <td>16.4</td>\n    </tr>\n    <tr>\n      <th>(550, 750]</th>\n      <td>19</td>\n      <td>22.6</td>\n    </tr>\n    <tr>\n      <th>(750, 950]</th>\n      <td>15</td>\n      <td>23.4</td>\n    </tr>\n    <tr>\n      <th>(950, 1750]</th>\n      <td>6</td>\n      <td>11.0</td>\n    </tr>\n    <tr>\n      <th rowspan=\"18\" valign=\"top\">H1</th>\n      <th>(50, 250]</th>\n      <td>23</td>\n      <td>22.8</td>\n    </tr>\n    <tr>\n      <th>(250, 350]</th>\n      <td>39</td>\n      <td>28.8</td>\n    </tr>\n    <tr>\n      <th>(350, 450]</th>\n      <td>70</td>\n      <td>30.2</td>\n    </tr>\n    <tr>\n      <th>(450, 550]</th>\n      <td>84</td>\n      <td>31.2</td>\n    </tr>\n    <tr>\n      <th>(550, 650]</th>\n      <td>87</td>\n      <td>32.6</td>\n    </tr>\n    <tr>\n      <th>(650, 750]</th>\n      <td>77</td>\n      <td>22.6</td>\n    </tr>\n    <tr>\n      <th>(750, 850]</th>\n      <td>74</td>\n      <td>24.0</td>\n    </tr>\n    <tr>\n      <th>(850, 950]</th>\n      <td>52</td>\n      <td>15.0</td>\n    </tr>\n    <tr>\n      <th>(950, 1050]</th>\n      <td>60</td>\n      <td>31.2</td>\n    </tr>\n    <tr>\n      <th>(1050, 1150]</th>\n      <td>47</td>\n      <td>15.0</td>\n    </tr>\n    <tr>\n      <th>(1150, 1250]</th>\n      <td>45</td>\n      <td>20.2</td>\n    </tr>\n    <tr>\n      <th>(1250, 1350]</th>\n      <td>28</td>\n      <td>15.0</td>\n    </tr>\n    <tr>\n      <th>(1350, 1450]</th>\n      <td>31</td>\n      <td>14.0</td>\n    </tr>\n    <tr>\n      <th>(1450, 1550]</th>\n      <td>26</td>\n      <td>24.0</td>\n    </tr>\n    <tr>\n      <th>(1550, 1750]</th>\n      <td>26</td>\n      <td>18.0</td>\n    </tr>\n    <tr>\n      <th>(1750, 2050]</th>\n      <td>16</td>\n      <td>7.0</td>\n    </tr>\n    <tr>\n      <th>(2050, 3550]</th>\n      <td>12</td>\n      <td>8.0</td>\n    </tr>\n    <tr>\n      <th>(3550, 3650]</th>\n      <td>1</td>\n      <td>3.0</td>\n    </tr>\n    <tr>\n      <th rowspan=\"10\" valign=\"top\">U1</th>\n      <th>(50, 250]</th>\n      <td>16</td>\n      <td>15.0</td>\n    </tr>\n    <tr>\n      <th>(250, 350]</th>\n      <td>14</td>\n      <td>7.6</td>\n    </tr>\n    <tr>\n      <th>(350, 450]</th>\n      <td>27</td>\n      <td>14.6</td>\n    </tr>\n    <tr>\n      <th>(450, 550]</th>\n      <td>21</td>\n      <td>14.0</td>\n    </tr>\n    <tr>\n      <th>(550, 650]</th>\n      <td>22</td>\n      <td>18.8</td>\n    </tr>\n    <tr>\n      <th>(650, 750]</th>\n      <td>14</td>\n      <td>30.4</td>\n    </tr>\n    <tr>\n      <th>(750, 950]</th>\n      <td>23</td>\n      <td>17.6</td>\n    </tr>\n    <tr>\n      <th>(950, 1250]</th>\n      <td>16</td>\n      <td>10.0</td>\n    </tr>\n    <tr>\n      <th>(1250, 1750]</th>\n      <td>11</td>\n      <td>20.0</td>\n    </tr>\n    <tr>\n      <th>(1750, 3750]</th>\n      <td>20</td>\n      <td>14.4</td>\n    </tr>\n  </tbody>\n</table>\n</div>"
     },
     "execution_count": 150,
     "metadata": {},
     "output_type": "execute_result"
    }
   ],
   "source": [
    "df_hits_brn_to_recovery.groupby(['format_code', 'hit_spins_bucket_new'])[['week_dt']].count().join(pd.DataFrame(df_hits_brn_to_recovery.groupby(['format_code', 'hit_spins_bucket_new']).apply(lambda x: np.quantile((x['week_dt'] - x['week_dt_brn'])/np.timedelta64(1, 'W'), 0.8)), columns=['weeks_to_recovery']))"
   ],
   "metadata": {
    "collapsed": false
   }
  },
  {
   "cell_type": "code",
   "execution_count": 152,
   "outputs": [
    {
     "data": {
      "text/plain": "             week_dt  weeks_to_recovery\nformat_code                            \nC1                75               21.2\nH1               798               23.0\nU1               184               17.0",
      "text/html": "<div>\n<style scoped>\n    .dataframe tbody tr th:only-of-type {\n        vertical-align: middle;\n    }\n\n    .dataframe tbody tr th {\n        vertical-align: top;\n    }\n\n    .dataframe thead th {\n        text-align: right;\n    }\n</style>\n<table border=\"1\" class=\"dataframe\">\n  <thead>\n    <tr style=\"text-align: right;\">\n      <th></th>\n      <th>week_dt</th>\n      <th>weeks_to_recovery</th>\n    </tr>\n    <tr>\n      <th>format_code</th>\n      <th></th>\n      <th></th>\n    </tr>\n  </thead>\n  <tbody>\n    <tr>\n      <th>C1</th>\n      <td>75</td>\n      <td>21.2</td>\n    </tr>\n    <tr>\n      <th>H1</th>\n      <td>798</td>\n      <td>23.0</td>\n    </tr>\n    <tr>\n      <th>U1</th>\n      <td>184</td>\n      <td>17.0</td>\n    </tr>\n  </tbody>\n</table>\n</div>"
     },
     "execution_count": 152,
     "metadata": {},
     "output_type": "execute_result"
    }
   ],
   "source": [
    "df_hits_brn_to_recovery.groupby(['format_code'])[['week_dt']].count().join(pd.DataFrame(df_hits_brn_to_recovery.groupby(['format_code']).apply(lambda x: np.quantile((x['week_dt'] - x['week_dt_brn'])/np.timedelta64(1, 'W'), 0.8)), columns=['weeks_to_recovery']))"
   ],
   "metadata": {
    "collapsed": false
   }
  },
  {
   "cell_type": "code",
   "execution_count": 165,
   "outputs": [],
   "source": [
    "df_temp = df_hits_brn_final[(df_hits_brn_final['pop_count_rolling'] >= 2)].groupby(['format_code', 'call_letters', 'mediabase_id', 'hit_spins_bucket_new']).agg({'week_dt': np.min, 'week_dt_brn':np.min}).reset_index()"
   ],
   "metadata": {
    "collapsed": false
   }
  },
  {
   "cell_type": "code",
   "execution_count": 173,
   "outputs": [
    {
     "data": {
      "text/plain": "format_code  hit_spins_bucket_new\nC1           (50, 450]               7.5\n             (450, 550]              6.0\n             (550, 750]              6.0\n             (750, 950]              6.0\n             (950, 1750]             6.0\nH1           (50, 250]               4.0\n             (250, 350]              4.0\n             (350, 450]              4.0\n             (450, 550]              4.0\n             (550, 650]              4.0\n             (650, 750]              4.0\n             (750, 850]              4.0\n             (850, 950]              4.0\n             (950, 1050]             4.0\n             (1050, 1150]            4.0\n             (1150, 1250]            4.0\n             (1250, 1350]            4.0\n             (1350, 1450]            4.0\n             (1450, 1550]            4.0\n             (1550, 1750]            4.0\n             (1750, 2050]            4.0\n             (2050, 3550]            4.0\n             (3550, 3650]            3.0\nU1           (50, 250]               5.0\n             (250, 350]              4.0\n             (350, 450]              4.0\n             (450, 550]              4.0\n             (550, 650]              4.0\n             (650, 750]              6.0\n             (750, 950]              4.0\n             (950, 1250]             5.5\n             (1250, 1750]            7.0\n             (1750, 3750]            7.5\ndtype: float64"
     },
     "execution_count": 173,
     "metadata": {},
     "output_type": "execute_result"
    }
   ],
   "source": [
    "df_temp.groupby(['format_code', 'hit_spins_bucket_new']).apply(lambda x: np.quantile((x['week_dt'] - x['week_dt_brn'])/np.timedelta64(1, 'W'), 0.5))"
   ],
   "metadata": {
    "collapsed": false
   }
  }
 ],
 "metadata": {
  "kernelspec": {
   "display_name": "Python 3",
   "language": "python",
   "name": "python3"
  },
  "language_info": {
   "codemirror_mode": {
    "name": "ipython",
    "version": 2
   },
   "file_extension": ".py",
   "mimetype": "text/x-python",
   "name": "python",
   "nbconvert_exporter": "python",
   "pygments_lexer": "ipython2",
   "version": "2.7.6"
  }
 },
 "nbformat": 4,
 "nbformat_minor": 0
}