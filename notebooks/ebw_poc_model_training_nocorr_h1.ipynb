{
 "cells": [
  {
   "cell_type": "code",
   "execution_count": 1,
   "outputs": [],
   "source": [
    "# import packages\n",
    "import pandas as pd\n",
    "import numpy as np\n",
    "import matplotlib.pyplot as plt"
   ],
   "metadata": {
    "collapsed": false
   }
  },
  {
   "cell_type": "markdown",
   "source": [
    "#### Examine Train/Test Sets"
   ],
   "metadata": {
    "collapsed": false
   }
  },
  {
   "cell_type": "code",
   "execution_count": 2,
   "outputs": [],
   "source": [
    "df_train_sets = pd.read_pickle('ebw_poc_train_sample_expt3_with_shf_aligned_h1.pkl')\n",
    "df_test_sets  = pd.read_pickle('ebw_poc_test_sample_expt3_with_shf_aligned_h1.pkl')"
   ],
   "metadata": {
    "collapsed": false
   }
  },
  {
   "cell_type": "code",
   "execution_count": 55,
   "outputs": [
    {
     "data": {
      "text/plain": "                                   count        mean         std  min    25%  \\\nweeks_since_hit censoring_flg_mod                                              \n0.0             False              305.0  914.255738  912.276516  1.0  244.0   \n                True               717.0  909.008368  573.162303  8.0  430.0   \n1.0             False              305.0  866.613115  890.652703  1.0  208.0   \n                True               717.0  839.200837  560.242646  6.0  367.0   \n2.0             False              305.0  816.406557  869.391097  1.0  171.0   \n...                                  ...         ...         ...  ...    ...   \n155.0           False                5.0    1.000000    0.000000  1.0    1.0   \n                True                 1.0    7.000000         NaN  7.0    7.0   \n156.0           False                2.0    1.000000    0.000000  1.0    1.0   \n157.0           False                2.0    1.000000    0.000000  1.0    1.0   \n158.0           False                2.0    1.000000    0.000000  1.0    1.0   \n\n                                     50%     75%     max  count        mean  \\\nweeks_since_hit censoring_flg_mod                                             \n0.0             False              565.0  1262.0  3688.0  103.0  885.893204   \n                True               867.0  1298.0  2481.0  239.0  967.175732   \n1.0             False              504.0  1209.0  3595.0  103.0  840.281553   \n                True               779.0  1212.0  2394.0  239.0  898.845188   \n2.0             False              448.0  1121.0  3497.0  103.0  793.592233   \n...                                  ...     ...     ...    ...         ...   \n155.0           False                1.0     1.0     1.0    2.0    1.000000   \n                True                 7.0     7.0     7.0    NaN         NaN   \n156.0           False                1.0     1.0     1.0    2.0    1.000000   \n157.0           False                1.0     1.0     1.0    2.0    1.000000   \n158.0           False                1.0     1.0     1.0    2.0    1.000000   \n\n                                          std   min    25%    50%     75%  \\\nweeks_since_hit censoring_flg_mod                                           \n0.0             False              858.584208   4.0  232.5  566.0  1344.0   \n                True               633.310923  14.0  433.0  856.0  1442.5   \n1.0             False              841.171678   4.0  200.0  514.0  1284.5   \n                True               619.497090  10.0  394.0  798.0  1379.0   \n2.0             False              824.320997   2.0  170.5  483.0  1211.0   \n...                                       ...   ...    ...    ...     ...   \n155.0           False                0.000000   1.0    1.0    1.0     1.0   \n                True                      NaN   NaN    NaN    NaN     NaN   \n156.0           False                0.000000   1.0    1.0    1.0     1.0   \n157.0           False                0.000000   1.0    1.0    1.0     1.0   \n158.0           False                0.000000   1.0    1.0    1.0     1.0   \n\n                                      max  \nweeks_since_hit censoring_flg_mod          \n0.0             False              3210.0  \n                True               2462.0  \n1.0             False              3169.0  \n                True               2405.0  \n2.0             False              3136.0  \n...                                   ...  \n155.0           False                 1.0  \n                True                  NaN  \n156.0           False                 1.0  \n157.0           False                 1.0  \n158.0           False                 1.0  \n\n[315 rows x 16 columns]",
      "text/html": "<div>\n<style scoped>\n    .dataframe tbody tr th:only-of-type {\n        vertical-align: middle;\n    }\n\n    .dataframe tbody tr th {\n        vertical-align: top;\n    }\n\n    .dataframe thead th {\n        text-align: right;\n    }\n</style>\n<table border=\"1\" class=\"dataframe\">\n  <thead>\n    <tr style=\"text-align: right;\">\n      <th></th>\n      <th></th>\n      <th>count</th>\n      <th>mean</th>\n      <th>std</th>\n      <th>min</th>\n      <th>25%</th>\n      <th>50%</th>\n      <th>75%</th>\n      <th>max</th>\n      <th>count</th>\n      <th>mean</th>\n      <th>std</th>\n      <th>min</th>\n      <th>25%</th>\n      <th>50%</th>\n      <th>75%</th>\n      <th>max</th>\n    </tr>\n    <tr>\n      <th>weeks_since_hit</th>\n      <th>censoring_flg_mod</th>\n      <th></th>\n      <th></th>\n      <th></th>\n      <th></th>\n      <th></th>\n      <th></th>\n      <th></th>\n      <th></th>\n      <th></th>\n      <th></th>\n      <th></th>\n      <th></th>\n      <th></th>\n      <th></th>\n      <th></th>\n      <th></th>\n    </tr>\n  </thead>\n  <tbody>\n    <tr>\n      <th rowspan=\"2\" valign=\"top\">0.0</th>\n      <th>False</th>\n      <td>305.0</td>\n      <td>914.255738</td>\n      <td>912.276516</td>\n      <td>1.0</td>\n      <td>244.0</td>\n      <td>565.0</td>\n      <td>1262.0</td>\n      <td>3688.0</td>\n      <td>103.0</td>\n      <td>885.893204</td>\n      <td>858.584208</td>\n      <td>4.0</td>\n      <td>232.5</td>\n      <td>566.0</td>\n      <td>1344.0</td>\n      <td>3210.0</td>\n    </tr>\n    <tr>\n      <th>True</th>\n      <td>717.0</td>\n      <td>909.008368</td>\n      <td>573.162303</td>\n      <td>8.0</td>\n      <td>430.0</td>\n      <td>867.0</td>\n      <td>1298.0</td>\n      <td>2481.0</td>\n      <td>239.0</td>\n      <td>967.175732</td>\n      <td>633.310923</td>\n      <td>14.0</td>\n      <td>433.0</td>\n      <td>856.0</td>\n      <td>1442.5</td>\n      <td>2462.0</td>\n    </tr>\n    <tr>\n      <th rowspan=\"2\" valign=\"top\">1.0</th>\n      <th>False</th>\n      <td>305.0</td>\n      <td>866.613115</td>\n      <td>890.652703</td>\n      <td>1.0</td>\n      <td>208.0</td>\n      <td>504.0</td>\n      <td>1209.0</td>\n      <td>3595.0</td>\n      <td>103.0</td>\n      <td>840.281553</td>\n      <td>841.171678</td>\n      <td>4.0</td>\n      <td>200.0</td>\n      <td>514.0</td>\n      <td>1284.5</td>\n      <td>3169.0</td>\n    </tr>\n    <tr>\n      <th>True</th>\n      <td>717.0</td>\n      <td>839.200837</td>\n      <td>560.242646</td>\n      <td>6.0</td>\n      <td>367.0</td>\n      <td>779.0</td>\n      <td>1212.0</td>\n      <td>2394.0</td>\n      <td>239.0</td>\n      <td>898.845188</td>\n      <td>619.497090</td>\n      <td>10.0</td>\n      <td>394.0</td>\n      <td>798.0</td>\n      <td>1379.0</td>\n      <td>2405.0</td>\n    </tr>\n    <tr>\n      <th>2.0</th>\n      <th>False</th>\n      <td>305.0</td>\n      <td>816.406557</td>\n      <td>869.391097</td>\n      <td>1.0</td>\n      <td>171.0</td>\n      <td>448.0</td>\n      <td>1121.0</td>\n      <td>3497.0</td>\n      <td>103.0</td>\n      <td>793.592233</td>\n      <td>824.320997</td>\n      <td>2.0</td>\n      <td>170.5</td>\n      <td>483.0</td>\n      <td>1211.0</td>\n      <td>3136.0</td>\n    </tr>\n    <tr>\n      <th>...</th>\n      <th>...</th>\n      <td>...</td>\n      <td>...</td>\n      <td>...</td>\n      <td>...</td>\n      <td>...</td>\n      <td>...</td>\n      <td>...</td>\n      <td>...</td>\n      <td>...</td>\n      <td>...</td>\n      <td>...</td>\n      <td>...</td>\n      <td>...</td>\n      <td>...</td>\n      <td>...</td>\n      <td>...</td>\n    </tr>\n    <tr>\n      <th rowspan=\"2\" valign=\"top\">155.0</th>\n      <th>False</th>\n      <td>5.0</td>\n      <td>1.000000</td>\n      <td>0.000000</td>\n      <td>1.0</td>\n      <td>1.0</td>\n      <td>1.0</td>\n      <td>1.0</td>\n      <td>1.0</td>\n      <td>2.0</td>\n      <td>1.000000</td>\n      <td>0.000000</td>\n      <td>1.0</td>\n      <td>1.0</td>\n      <td>1.0</td>\n      <td>1.0</td>\n      <td>1.0</td>\n    </tr>\n    <tr>\n      <th>True</th>\n      <td>1.0</td>\n      <td>7.000000</td>\n      <td>NaN</td>\n      <td>7.0</td>\n      <td>7.0</td>\n      <td>7.0</td>\n      <td>7.0</td>\n      <td>7.0</td>\n      <td>NaN</td>\n      <td>NaN</td>\n      <td>NaN</td>\n      <td>NaN</td>\n      <td>NaN</td>\n      <td>NaN</td>\n      <td>NaN</td>\n      <td>NaN</td>\n    </tr>\n    <tr>\n      <th>156.0</th>\n      <th>False</th>\n      <td>2.0</td>\n      <td>1.000000</td>\n      <td>0.000000</td>\n      <td>1.0</td>\n      <td>1.0</td>\n      <td>1.0</td>\n      <td>1.0</td>\n      <td>1.0</td>\n      <td>2.0</td>\n      <td>1.000000</td>\n      <td>0.000000</td>\n      <td>1.0</td>\n      <td>1.0</td>\n      <td>1.0</td>\n      <td>1.0</td>\n      <td>1.0</td>\n    </tr>\n    <tr>\n      <th>157.0</th>\n      <th>False</th>\n      <td>2.0</td>\n      <td>1.000000</td>\n      <td>0.000000</td>\n      <td>1.0</td>\n      <td>1.0</td>\n      <td>1.0</td>\n      <td>1.0</td>\n      <td>1.0</td>\n      <td>2.0</td>\n      <td>1.000000</td>\n      <td>0.000000</td>\n      <td>1.0</td>\n      <td>1.0</td>\n      <td>1.0</td>\n      <td>1.0</td>\n      <td>1.0</td>\n    </tr>\n    <tr>\n      <th>158.0</th>\n      <th>False</th>\n      <td>2.0</td>\n      <td>1.000000</td>\n      <td>0.000000</td>\n      <td>1.0</td>\n      <td>1.0</td>\n      <td>1.0</td>\n      <td>1.0</td>\n      <td>1.0</td>\n      <td>2.0</td>\n      <td>1.000000</td>\n      <td>0.000000</td>\n      <td>1.0</td>\n      <td>1.0</td>\n      <td>1.0</td>\n      <td>1.0</td>\n      <td>1.0</td>\n    </tr>\n  </tbody>\n</table>\n<p>315 rows × 16 columns</p>\n</div>"
     },
     "execution_count": 55,
     "metadata": {},
     "output_type": "execute_result"
    }
   ],
   "source": [
    "pd.concat([df_train_sets.groupby(['weeks_since_hit', 'censoring_flg_mod'])['target'].describe(), df_test_sets.groupby(['weeks_since_hit', 'censoring_flg_mod'])['target'].describe()], axis=1)"
   ],
   "metadata": {
    "collapsed": false
   }
  },
  {
   "cell_type": "code",
   "execution_count": 3,
   "outputs": [],
   "source": [
    "df_cuml_spins=pd.read_pickle('ebw_raw_features_base_cuml_spins_h1.pkl')"
   ],
   "metadata": {
    "collapsed": false
   }
  },
  {
   "cell_type": "code",
   "execution_count": 4,
   "outputs": [],
   "source": [
    "df_cuml_spins['cuml_song_station_spins_non_on_since_hit'] = df_cuml_spins['cuml_song_station_spins_non_on'] - df_cuml_spins['cuml_song_station_spins_non_on_at_hit']"
   ],
   "metadata": {
    "collapsed": false
   }
  },
  {
   "cell_type": "code",
   "execution_count": 5,
   "outputs": [],
   "source": [
    "mask = (df_cuml_spins['weeks_since_hit'] >= 0) & (df_cuml_spins['weeks_since_hit'] <= 26)\n",
    "df_sub = df_cuml_spins.loc[mask]"
   ],
   "metadata": {
    "collapsed": false
   }
  },
  {
   "cell_type": "code",
   "execution_count": 10,
   "outputs": [
    {
     "data": {
      "text/plain": "19        3.0\n47        0.0\n94        1.0\n137       1.0\n176       0.0\n         ... \n653670    3.0\n653758    3.0\n653976    3.0\n654105    3.0\n654474    1.0\nName: cuml_song_station_spins_non_on_at_hit, Length: 87493, dtype: float64"
     },
     "execution_count": 10,
     "metadata": {},
     "output_type": "execute_result"
    }
   ],
   "source": [
    "df_sub.groupby(['weeks_since_hit']).apply(\n",
    "    lambda x: pd.qcut(x['cuml_song_station_spins_non_on_at_hit'], q=5, labels=False)).droplevel(0)"
   ],
   "metadata": {
    "collapsed": false
   }
  },
  {
   "cell_type": "code",
   "execution_count": 6,
   "outputs": [
    {
     "name": "stderr",
     "output_type": "stream",
     "text": [
      "/tmp/ipykernel_4247/1754467671.py:1: SettingWithCopyWarning: \n",
      "A value is trying to be set on a copy of a slice from a DataFrame.\n",
      "Try using .loc[row_indexer,col_indexer] = value instead\n",
      "\n",
      "See the caveats in the documentation: https://pandas.pydata.org/pandas-docs/stable/user_guide/indexing.html#returning-a-view-versus-a-copy\n",
      "  df_sub['at_hit_quintile'] = df_sub.groupby(['weeks_since_hit']).apply(\n"
     ]
    }
   ],
   "source": [
    "df_sub['at_hit_quintile'] = df_sub.groupby(['weeks_since_hit']).apply(\n",
    "    lambda x: pd.qcut(x['cuml_song_station_spins_non_on_at_hit'], q=5, labels=False)).droplevel(0)\n",
    "# df_sub['since_hit_quintile'] = df_sub.groupby(['weeks_since_hit']).apply(\n",
    "#     lambda x: pd.qcut(x['cuml_song_station_spins_non_on_since_hit'], q=5, labels=False)).droplevel(0)"
   ],
   "metadata": {
    "collapsed": false
   }
  },
  {
   "cell_type": "code",
   "execution_count": 7,
   "outputs": [],
   "source": [
    "df_train_sets = df_train_sets.join(df_sub.set_index(['mediabase_id', 'call_letters', 'week_dt', 'weeks_since_hit'])['at_hit_quintile'], how='left')"
   ],
   "metadata": {
    "collapsed": false
   }
  },
  {
   "cell_type": "code",
   "execution_count": 8,
   "outputs": [],
   "source": [
    "df_test_sets = df_test_sets.join(df_sub.set_index(['mediabase_id', 'call_letters', 'week_dt', 'weeks_since_hit'])['at_hit_quintile'], how='left')"
   ],
   "metadata": {
    "collapsed": false
   }
  },
  {
   "cell_type": "code",
   "execution_count": 14,
   "outputs": [
    {
     "data": {
      "text/plain": "                                                      song_format_spins_am_pm_dr_26wk_lag1_std  \\\nmediabase_id call_letters week_dt    weeks_since_hit                                             \n2720314      WZFT-FM      2022-04-17 0.0                                           4085.365153   \n2722189      KBKS-FM      2021-10-10 0.0                                           3214.443637   \n2693277      KZZP-FM      2021-05-30 0.0                                           1796.030922   \n2546146      WHTZ-FM      2020-11-08 0.0                                           3486.337605   \n2647678      WDCG-FM      2021-02-21 0.0                                           3216.618054   \n...                                                                                        ...   \n2337260      WRVW-FM      2022-01-09 26.0                                            32.911723   \n2687270      KHTS-FM      2021-11-14 26.0                                          1568.837971   \n2580292      KZHT-FM      2021-11-07 26.0                                           523.153463   \n2495830      WHQC-FM      2020-09-20 26.0                                           329.128661   \n2671521      WHQC-FM      2022-03-20 26.0                                           181.765411   \n\n                                                      artist_market_spins_non_on_4wk_lag1_min  \\\nmediabase_id call_letters week_dt    weeks_since_hit                                            \n2720314      WZFT-FM      2022-04-17 0.0                                                273.0   \n2722189      KBKS-FM      2021-10-10 0.0                                                 79.0   \n2693277      KZZP-FM      2021-05-30 0.0                                                 40.0   \n2546146      WHTZ-FM      2020-11-08 0.0                                                 18.0   \n2647678      WDCG-FM      2021-02-21 0.0                                                113.0   \n...                                                                                       ...   \n2337260      WRVW-FM      2022-01-09 26.0                                                16.0   \n2687270      KHTS-FM      2021-11-14 26.0                                               161.0   \n2580292      KZHT-FM      2021-11-07 26.0                                               155.0   \n2495830      WHQC-FM      2020-09-20 26.0                                                37.0   \n2671521      WHQC-FM      2022-03-20 26.0                                               134.0   \n\n                                                      completed_rate_13wk  \\\nmediabase_id call_letters week_dt    weeks_since_hit                        \n2720314      WZFT-FM      2022-04-17 0.0                              NaN   \n2722189      KBKS-FM      2021-10-10 0.0                              NaN   \n2693277      KZZP-FM      2021-05-30 0.0                              NaN   \n2546146      WHTZ-FM      2020-11-08 0.0                         0.623427   \n2647678      WDCG-FM      2021-02-21 0.0                              NaN   \n...                                                                   ...   \n2337260      WRVW-FM      2022-01-09 26.0                        0.612335   \n2687270      KHTS-FM      2021-11-14 26.0                             NaN   \n2580292      KZHT-FM      2021-11-07 26.0                             NaN   \n2495830      WHQC-FM      2020-09-20 26.0                        0.710329   \n2671521      WHQC-FM      2022-03-20 26.0                             NaN   \n\n                                                      song_station_share_26wk_lag2  \\\nmediabase_id call_letters week_dt    weeks_since_hit                                 \n2720314      WZFT-FM      2022-04-17 0.0                                  0.023007   \n2722189      KBKS-FM      2021-10-10 0.0                                  0.015350   \n2693277      KZZP-FM      2021-05-30 0.0                                  0.011718   \n2546146      WHTZ-FM      2020-11-08 0.0                                  0.013154   \n2647678      WDCG-FM      2021-02-21 0.0                                  0.027064   \n...                                                                            ...   \n2337260      WRVW-FM      2022-01-09 26.0                                 0.003092   \n2687270      KHTS-FM      2021-11-14 26.0                                 0.034171   \n2580292      KZHT-FM      2021-11-07 26.0                                 0.005912   \n2495830      WHQC-FM      2020-09-20 26.0                                 0.010957   \n2671521      WHQC-FM      2022-03-20 26.0                                 0.023840   \n\n                                                      song_market_spins_non_on_delta_26wk_lag1_max  \\\nmediabase_id call_letters week_dt    weeks_since_hit                                                 \n2720314      WZFT-FM      2022-04-17 0.0                                                      20.0   \n2722189      KBKS-FM      2021-10-10 0.0                                                      74.0   \n2693277      KZZP-FM      2021-05-30 0.0                                                      33.0   \n2546146      WHTZ-FM      2020-11-08 0.0                                                      49.0   \n2647678      WDCG-FM      2021-02-21 0.0                                                      42.0   \n...                                                                                            ...   \n2337260      WRVW-FM      2022-01-09 26.0                                                     16.0   \n2687270      KHTS-FM      2021-11-14 26.0                                                     50.0   \n2580292      KZHT-FM      2021-11-07 26.0                                                     28.0   \n2495830      WHQC-FM      2020-09-20 26.0                                                     34.0   \n2671521      WHQC-FM      2022-03-20 26.0                                                     20.0   \n\n                                                      artist_format_ddl_1wk_lag1_mean  \\\nmediabase_id call_letters week_dt    weeks_since_hit                                    \n2720314      WZFT-FM      2022-04-17 0.0                                         13.0   \n2722189      KBKS-FM      2021-10-10 0.0                                         15.0   \n2693277      KZZP-FM      2021-05-30 0.0                                          8.0   \n2546146      WHTZ-FM      2020-11-08 0.0                                         18.0   \n2647678      WDCG-FM      2021-02-21 0.0                                         15.0   \n...                                                                               ...   \n2337260      WRVW-FM      2022-01-09 26.0                                        17.0   \n2687270      KHTS-FM      2021-11-14 26.0                                        13.0   \n2580292      KZHT-FM      2021-11-07 26.0                                        15.0   \n2495830      WHQC-FM      2020-09-20 26.0                                        22.0   \n2671521      WHQC-FM      2022-03-20 26.0                                        11.0   \n\n                                                      song_station_spins_non_on_pct_delta_26wk_lag2_max  \\\nmediabase_id call_letters week_dt    weeks_since_hit                                                      \n2720314      WZFT-FM      2022-04-17 0.0                                                       3.000000   \n2722189      KBKS-FM      2021-10-10 0.0                                                       5.000000   \n2693277      KZZP-FM      2021-05-30 0.0                                                       1.500000   \n2546146      WHTZ-FM      2020-11-08 0.0                                                       2.000000   \n2647678      WDCG-FM      2021-02-21 0.0                                                       5.500000   \n...                                                                                                 ...   \n2337260      WRVW-FM      2022-01-09 26.0                                                      2.333333   \n2687270      KHTS-FM      2021-11-14 26.0                                                      1.055556   \n2580292      KZHT-FM      2021-11-07 26.0                                                      2.428571   \n2495830      WHQC-FM      2020-09-20 26.0                                                      3.000000   \n2671521      WHQC-FM      2022-03-20 26.0                                                      1.500000   \n\n                                                      artist_format_spins_am_pm_dr_8wk_lag1_min  \\\nmediabase_id call_letters week_dt    weeks_since_hit                                              \n2720314      WZFT-FM      2022-04-17 0.0                                                21770.0   \n2722189      KBKS-FM      2021-10-10 0.0                                                 1467.0   \n2693277      KZZP-FM      2021-05-30 0.0                                                  514.0   \n2546146      WHTZ-FM      2020-11-08 0.0                                                 3057.0   \n2647678      WDCG-FM      2021-02-21 0.0                                                 5162.0   \n...                                                                                         ...   \n2337260      WRVW-FM      2022-01-09 26.0                                                 934.0   \n2687270      KHTS-FM      2021-11-14 26.0                                                 578.0   \n2580292      KZHT-FM      2021-11-07 26.0                                                1338.0   \n2495830      WHQC-FM      2020-09-20 26.0                                                1116.0   \n2671521      WHQC-FM      2022-03-20 26.0                                                 703.0   \n\n                                                      song_market_spins_non_on_delta_4wk_lag2_median  \\\nmediabase_id call_letters week_dt    weeks_since_hit                                                   \n2720314      WZFT-FM      2022-04-17 0.0                                                         0.5   \n2722189      KBKS-FM      2021-10-10 0.0                                                        33.0   \n2693277      KZZP-FM      2021-05-30 0.0                                                        16.5   \n2546146      WHTZ-FM      2020-11-08 0.0                                                         1.0   \n2647678      WDCG-FM      2021-02-21 0.0                                                         6.5   \n...                                                                                              ...   \n2337260      WRVW-FM      2022-01-09 26.0                                                       -0.5   \n2687270      KHTS-FM      2021-11-14 26.0                                                       -4.5   \n2580292      KZHT-FM      2021-11-07 26.0                                                       -1.5   \n2495830      WHQC-FM      2020-09-20 26.0                                                        2.5   \n2671521      WHQC-FM      2022-03-20 26.0                                                       -9.5   \n\n                                                      song_station_spins_am_pm_dr_8wk_lag2_mean  \\\nmediabase_id call_letters week_dt    weeks_since_hit                                              \n2720314      WZFT-FM      2022-04-17 0.0                                              51.500000   \n2722189      KBKS-FM      2021-10-10 0.0                                              24.125000   \n2693277      KZZP-FM      2021-05-30 0.0                                               8.142857   \n2546146      WHTZ-FM      2020-11-08 0.0                                               0.875000   \n2647678      WDCG-FM      2021-02-21 0.0                                              48.375000   \n...                                                                                         ...   \n2337260      WRVW-FM      2022-01-09 26.0                                              1.125000   \n2687270      KHTS-FM      2021-11-14 26.0                                             30.750000   \n2580292      KZHT-FM      2021-11-07 26.0                                              0.000000   \n2495830      WHQC-FM      2020-09-20 26.0                                              0.625000   \n2671521      WHQC-FM      2022-03-20 26.0                                             26.875000   \n\n                                                      ...  \\\nmediabase_id call_letters week_dt    weeks_since_hit  ...   \n2720314      WZFT-FM      2022-04-17 0.0              ...   \n2722189      KBKS-FM      2021-10-10 0.0              ...   \n2693277      KZZP-FM      2021-05-30 0.0              ...   \n2546146      WHTZ-FM      2020-11-08 0.0              ...   \n2647678      WDCG-FM      2021-02-21 0.0              ...   \n...                                                   ...   \n2337260      WRVW-FM      2022-01-09 26.0             ...   \n2687270      KHTS-FM      2021-11-14 26.0             ...   \n2580292      KZHT-FM      2021-11-07 26.0             ...   \n2495830      WHQC-FM      2020-09-20 26.0             ...   \n2671521      WHQC-FM      2022-03-20 26.0             ...   \n\n                                                      thumbs_down_count_13wk_lag2_max  \\\nmediabase_id call_letters week_dt    weeks_since_hit                                    \n2720314      WZFT-FM      2022-04-17 0.0                                          0.0   \n2722189      KBKS-FM      2021-10-10 0.0                                          0.0   \n2693277      KZZP-FM      2021-05-30 0.0                                          0.0   \n2546146      WHTZ-FM      2020-11-08 0.0                                       2712.0   \n2647678      WDCG-FM      2021-02-21 0.0                                          0.0   \n...                                                                               ...   \n2337260      WRVW-FM      2022-01-09 26.0                                      3668.0   \n2687270      KHTS-FM      2021-11-14 26.0                                         0.0   \n2580292      KZHT-FM      2021-11-07 26.0                                        56.0   \n2495830      WHQC-FM      2020-09-20 26.0                                       182.0   \n2671521      WHQC-FM      2022-03-20 26.0                                         0.0   \n\n                                                      thumbs_up_count_4wk_lag1_min  \\\nmediabase_id call_letters week_dt    weeks_since_hit                                 \n2720314      WZFT-FM      2022-04-17 0.0                                       0.0   \n2722189      KBKS-FM      2021-10-10 0.0                                       0.0   \n2693277      KZZP-FM      2021-05-30 0.0                                       0.0   \n2546146      WHTZ-FM      2020-11-08 0.0                                    9720.0   \n2647678      WDCG-FM      2021-02-21 0.0                                       0.0   \n...                                                                            ...   \n2337260      WRVW-FM      2022-01-09 26.0                                  13412.0   \n2687270      KHTS-FM      2021-11-14 26.0                                      0.0   \n2580292      KZHT-FM      2021-11-07 26.0                                     48.0   \n2495830      WHQC-FM      2020-09-20 26.0                                    130.0   \n2671521      WHQC-FM      2022-03-20 26.0                                      0.0   \n\n                                                      song_format_spins_non_on_1wk_lag1_mean  \\\nmediabase_id call_letters week_dt    weeks_since_hit                                           \n2720314      WZFT-FM      2022-04-17 0.0                                             15263.0   \n2722189      KBKS-FM      2021-10-10 0.0                                             12980.0   \n2693277      KZZP-FM      2021-05-30 0.0                                              8332.0   \n2546146      WHTZ-FM      2020-11-08 0.0                                              3703.0   \n2647678      WDCG-FM      2021-02-21 0.0                                             11836.0   \n...                                                                                      ...   \n2337260      WRVW-FM      2022-01-09 26.0                                              710.0   \n2687270      KHTS-FM      2021-11-14 26.0                                              825.0   \n2580292      KZHT-FM      2021-11-07 26.0                                             1196.0   \n2495830      WHQC-FM      2020-09-20 26.0                                             1943.0   \n2671521      WHQC-FM      2022-03-20 26.0                                             1090.0   \n\n                                                      artist_station_spins_non_on_4wk_lag1_mean  \\\nmediabase_id call_letters week_dt    weeks_since_hit                                              \n2720314      WZFT-FM      2022-04-17 0.0                                                 234.50   \n2722189      KBKS-FM      2021-10-10 0.0                                                  64.50   \n2693277      KZZP-FM      2021-05-30 0.0                                                  38.25   \n2546146      WHTZ-FM      2020-11-08 0.0                                                   1.75   \n2647678      WDCG-FM      2021-02-21 0.0                                                  93.50   \n...                                                                                         ...   \n2337260      WRVW-FM      2022-01-09 26.0                                                  2.25   \n2687270      KHTS-FM      2021-11-14 26.0                                                 39.00   \n2580292      KZHT-FM      2021-11-07 26.0                                                  0.00   \n2495830      WHQC-FM      2020-09-20 26.0                                                  2.00   \n2671521      WHQC-FM      2022-03-20 26.0                                                 64.00   \n\n                                                      song_station_ddl_delta_13wk_lag2_max  \\\nmediabase_id call_letters week_dt    weeks_since_hit                                         \n2720314      WZFT-FM      2022-04-17 0.0                                              18.0   \n2722189      KBKS-FM      2021-10-10 0.0                                               6.0   \n2693277      KZZP-FM      2021-05-30 0.0                                              11.0   \n2546146      WHTZ-FM      2020-11-08 0.0                                               8.0   \n2647678      WDCG-FM      2021-02-21 0.0                                               3.0   \n...                                                                                    ...   \n2337260      WRVW-FM      2022-01-09 26.0                                              5.0   \n2687270      KHTS-FM      2021-11-14 26.0                                              2.0   \n2580292      KZHT-FM      2021-11-07 26.0                                              9.0   \n2495830      WHQC-FM      2020-09-20 26.0                                              4.0   \n2671521      WHQC-FM      2022-03-20 26.0                                              5.0   \n\n                                                      song_station_ddl_pct_delta_4wk_lag2_max  \\\nmediabase_id call_letters week_dt    weeks_since_hit                                            \n2720314      WZFT-FM      2022-04-17 0.0                                             1.800000   \n2722189      KBKS-FM      2021-10-10 0.0                                             0.800000   \n2693277      KZZP-FM      2021-05-30 0.0                                             0.000000   \n2546146      WHTZ-FM      2020-11-08 0.0                                             0.571429   \n2647678      WDCG-FM      2021-02-21 0.0                                             0.187500   \n...                                                                                       ...   \n2337260      WRVW-FM      2022-01-09 26.0                                            0.454545   \n2687270      KHTS-FM      2021-11-14 26.0                                            0.000000   \n2580292      KZHT-FM      2021-11-07 26.0                                            0.818182   \n2495830      WHQC-FM      2020-09-20 26.0                                            0.235294   \n2671521      WHQC-FM      2022-03-20 26.0                                            0.250000   \n\n                                                      completed_rate_8wk  \\\nmediabase_id call_letters week_dt    weeks_since_hit                       \n2720314      WZFT-FM      2022-04-17 0.0                             NaN   \n2722189      KBKS-FM      2021-10-10 0.0                             NaN   \n2693277      KZZP-FM      2021-05-30 0.0                             NaN   \n2546146      WHTZ-FM      2020-11-08 0.0                        0.612895   \n2647678      WDCG-FM      2021-02-21 0.0                             NaN   \n...                                                                  ...   \n2337260      WRVW-FM      2022-01-09 26.0                       0.587120   \n2687270      KHTS-FM      2021-11-14 26.0                            NaN   \n2580292      KZHT-FM      2021-11-07 26.0                            NaN   \n2495830      WHQC-FM      2020-09-20 26.0                       0.723552   \n2671521      WHQC-FM      2022-03-20 26.0                            NaN   \n\n                                                      censoring_flg_mod  \\\nmediabase_id call_letters week_dt    weeks_since_hit                      \n2720314      WZFT-FM      2022-04-17 0.0                           True   \n2722189      KBKS-FM      2021-10-10 0.0                           True   \n2693277      KZZP-FM      2021-05-30 0.0                           True   \n2546146      WHTZ-FM      2020-11-08 0.0                           True   \n2647678      WDCG-FM      2021-02-21 0.0                          False   \n...                                                                 ...   \n2337260      WRVW-FM      2022-01-09 26.0                         False   \n2687270      KHTS-FM      2021-11-14 26.0                         False   \n2580292      KZHT-FM      2021-11-07 26.0                          True   \n2495830      WHQC-FM      2020-09-20 26.0                          True   \n2671521      WHQC-FM      2022-03-20 26.0                          True   \n\n                                                      target  at_hit_quintile  \nmediabase_id call_letters week_dt    weeks_since_hit                           \n2720314      WZFT-FM      2022-04-17 0.0              1905.0              3.0  \n2722189      KBKS-FM      2021-10-10 0.0               485.0              1.0  \n2693277      KZZP-FM      2021-05-30 0.0              1408.0              0.0  \n2546146      WHTZ-FM      2020-11-08 0.0               209.0              3.0  \n2647678      WDCG-FM      2021-02-21 0.0               535.0              3.0  \n...                                                      ...              ...  \n2337260      WRVW-FM      2022-01-09 26.0              157.0              4.0  \n2687270      KHTS-FM      2021-11-14 26.0             1888.0              1.0  \n2580292      KZHT-FM      2021-11-07 26.0                4.0              4.0  \n2495830      WHQC-FM      2020-09-20 26.0                7.0              4.0  \n2671521      WHQC-FM      2022-03-20 26.0              970.0              4.0  \n\n[19707 rows x 1124 columns]",
      "text/html": "<div>\n<style scoped>\n    .dataframe tbody tr th:only-of-type {\n        vertical-align: middle;\n    }\n\n    .dataframe tbody tr th {\n        vertical-align: top;\n    }\n\n    .dataframe thead th {\n        text-align: right;\n    }\n</style>\n<table border=\"1\" class=\"dataframe\">\n  <thead>\n    <tr style=\"text-align: right;\">\n      <th></th>\n      <th></th>\n      <th></th>\n      <th></th>\n      <th>song_format_spins_am_pm_dr_26wk_lag1_std</th>\n      <th>artist_market_spins_non_on_4wk_lag1_min</th>\n      <th>completed_rate_13wk</th>\n      <th>song_station_share_26wk_lag2</th>\n      <th>song_market_spins_non_on_delta_26wk_lag1_max</th>\n      <th>artist_format_ddl_1wk_lag1_mean</th>\n      <th>song_station_spins_non_on_pct_delta_26wk_lag2_max</th>\n      <th>artist_format_spins_am_pm_dr_8wk_lag1_min</th>\n      <th>song_market_spins_non_on_delta_4wk_lag2_median</th>\n      <th>song_station_spins_am_pm_dr_8wk_lag2_mean</th>\n      <th>...</th>\n      <th>thumbs_down_count_13wk_lag2_max</th>\n      <th>thumbs_up_count_4wk_lag1_min</th>\n      <th>song_format_spins_non_on_1wk_lag1_mean</th>\n      <th>artist_station_spins_non_on_4wk_lag1_mean</th>\n      <th>song_station_ddl_delta_13wk_lag2_max</th>\n      <th>song_station_ddl_pct_delta_4wk_lag2_max</th>\n      <th>completed_rate_8wk</th>\n      <th>censoring_flg_mod</th>\n      <th>target</th>\n      <th>at_hit_quintile</th>\n    </tr>\n    <tr>\n      <th>mediabase_id</th>\n      <th>call_letters</th>\n      <th>week_dt</th>\n      <th>weeks_since_hit</th>\n      <th></th>\n      <th></th>\n      <th></th>\n      <th></th>\n      <th></th>\n      <th></th>\n      <th></th>\n      <th></th>\n      <th></th>\n      <th></th>\n      <th></th>\n      <th></th>\n      <th></th>\n      <th></th>\n      <th></th>\n      <th></th>\n      <th></th>\n      <th></th>\n      <th></th>\n      <th></th>\n      <th></th>\n    </tr>\n  </thead>\n  <tbody>\n    <tr>\n      <th>2720314</th>\n      <th>WZFT-FM</th>\n      <th>2022-04-17</th>\n      <th>0.0</th>\n      <td>4085.365153</td>\n      <td>273.0</td>\n      <td>NaN</td>\n      <td>0.023007</td>\n      <td>20.0</td>\n      <td>13.0</td>\n      <td>3.000000</td>\n      <td>21770.0</td>\n      <td>0.5</td>\n      <td>51.500000</td>\n      <td>...</td>\n      <td>0.0</td>\n      <td>0.0</td>\n      <td>15263.0</td>\n      <td>234.50</td>\n      <td>18.0</td>\n      <td>1.800000</td>\n      <td>NaN</td>\n      <td>True</td>\n      <td>1905.0</td>\n      <td>3.0</td>\n    </tr>\n    <tr>\n      <th>2722189</th>\n      <th>KBKS-FM</th>\n      <th>2021-10-10</th>\n      <th>0.0</th>\n      <td>3214.443637</td>\n      <td>79.0</td>\n      <td>NaN</td>\n      <td>0.015350</td>\n      <td>74.0</td>\n      <td>15.0</td>\n      <td>5.000000</td>\n      <td>1467.0</td>\n      <td>33.0</td>\n      <td>24.125000</td>\n      <td>...</td>\n      <td>0.0</td>\n      <td>0.0</td>\n      <td>12980.0</td>\n      <td>64.50</td>\n      <td>6.0</td>\n      <td>0.800000</td>\n      <td>NaN</td>\n      <td>True</td>\n      <td>485.0</td>\n      <td>1.0</td>\n    </tr>\n    <tr>\n      <th>2693277</th>\n      <th>KZZP-FM</th>\n      <th>2021-05-30</th>\n      <th>0.0</th>\n      <td>1796.030922</td>\n      <td>40.0</td>\n      <td>NaN</td>\n      <td>0.011718</td>\n      <td>33.0</td>\n      <td>8.0</td>\n      <td>1.500000</td>\n      <td>514.0</td>\n      <td>16.5</td>\n      <td>8.142857</td>\n      <td>...</td>\n      <td>0.0</td>\n      <td>0.0</td>\n      <td>8332.0</td>\n      <td>38.25</td>\n      <td>11.0</td>\n      <td>0.000000</td>\n      <td>NaN</td>\n      <td>True</td>\n      <td>1408.0</td>\n      <td>0.0</td>\n    </tr>\n    <tr>\n      <th>2546146</th>\n      <th>WHTZ-FM</th>\n      <th>2020-11-08</th>\n      <th>0.0</th>\n      <td>3486.337605</td>\n      <td>18.0</td>\n      <td>0.623427</td>\n      <td>0.013154</td>\n      <td>49.0</td>\n      <td>18.0</td>\n      <td>2.000000</td>\n      <td>3057.0</td>\n      <td>1.0</td>\n      <td>0.875000</td>\n      <td>...</td>\n      <td>2712.0</td>\n      <td>9720.0</td>\n      <td>3703.0</td>\n      <td>1.75</td>\n      <td>8.0</td>\n      <td>0.571429</td>\n      <td>0.612895</td>\n      <td>True</td>\n      <td>209.0</td>\n      <td>3.0</td>\n    </tr>\n    <tr>\n      <th>2647678</th>\n      <th>WDCG-FM</th>\n      <th>2021-02-21</th>\n      <th>0.0</th>\n      <td>3216.618054</td>\n      <td>113.0</td>\n      <td>NaN</td>\n      <td>0.027064</td>\n      <td>42.0</td>\n      <td>15.0</td>\n      <td>5.500000</td>\n      <td>5162.0</td>\n      <td>6.5</td>\n      <td>48.375000</td>\n      <td>...</td>\n      <td>0.0</td>\n      <td>0.0</td>\n      <td>11836.0</td>\n      <td>93.50</td>\n      <td>3.0</td>\n      <td>0.187500</td>\n      <td>NaN</td>\n      <td>False</td>\n      <td>535.0</td>\n      <td>3.0</td>\n    </tr>\n    <tr>\n      <th>...</th>\n      <th>...</th>\n      <th>...</th>\n      <th>...</th>\n      <td>...</td>\n      <td>...</td>\n      <td>...</td>\n      <td>...</td>\n      <td>...</td>\n      <td>...</td>\n      <td>...</td>\n      <td>...</td>\n      <td>...</td>\n      <td>...</td>\n      <td>...</td>\n      <td>...</td>\n      <td>...</td>\n      <td>...</td>\n      <td>...</td>\n      <td>...</td>\n      <td>...</td>\n      <td>...</td>\n      <td>...</td>\n      <td>...</td>\n      <td>...</td>\n    </tr>\n    <tr>\n      <th>2337260</th>\n      <th>WRVW-FM</th>\n      <th>2022-01-09</th>\n      <th>26.0</th>\n      <td>32.911723</td>\n      <td>16.0</td>\n      <td>0.612335</td>\n      <td>0.003092</td>\n      <td>16.0</td>\n      <td>17.0</td>\n      <td>2.333333</td>\n      <td>934.0</td>\n      <td>-0.5</td>\n      <td>1.125000</td>\n      <td>...</td>\n      <td>3668.0</td>\n      <td>13412.0</td>\n      <td>710.0</td>\n      <td>2.25</td>\n      <td>5.0</td>\n      <td>0.454545</td>\n      <td>0.587120</td>\n      <td>False</td>\n      <td>157.0</td>\n      <td>4.0</td>\n    </tr>\n    <tr>\n      <th>2687270</th>\n      <th>KHTS-FM</th>\n      <th>2021-11-14</th>\n      <th>26.0</th>\n      <td>1568.837971</td>\n      <td>161.0</td>\n      <td>NaN</td>\n      <td>0.034171</td>\n      <td>50.0</td>\n      <td>13.0</td>\n      <td>1.055556</td>\n      <td>578.0</td>\n      <td>-4.5</td>\n      <td>30.750000</td>\n      <td>...</td>\n      <td>0.0</td>\n      <td>0.0</td>\n      <td>825.0</td>\n      <td>39.00</td>\n      <td>2.0</td>\n      <td>0.000000</td>\n      <td>NaN</td>\n      <td>False</td>\n      <td>1888.0</td>\n      <td>1.0</td>\n    </tr>\n    <tr>\n      <th>2580292</th>\n      <th>KZHT-FM</th>\n      <th>2021-11-07</th>\n      <th>26.0</th>\n      <td>523.153463</td>\n      <td>155.0</td>\n      <td>NaN</td>\n      <td>0.005912</td>\n      <td>28.0</td>\n      <td>15.0</td>\n      <td>2.428571</td>\n      <td>1338.0</td>\n      <td>-1.5</td>\n      <td>0.000000</td>\n      <td>...</td>\n      <td>56.0</td>\n      <td>48.0</td>\n      <td>1196.0</td>\n      <td>0.00</td>\n      <td>9.0</td>\n      <td>0.818182</td>\n      <td>NaN</td>\n      <td>True</td>\n      <td>4.0</td>\n      <td>4.0</td>\n    </tr>\n    <tr>\n      <th>2495830</th>\n      <th>WHQC-FM</th>\n      <th>2020-09-20</th>\n      <th>26.0</th>\n      <td>329.128661</td>\n      <td>37.0</td>\n      <td>0.710329</td>\n      <td>0.010957</td>\n      <td>34.0</td>\n      <td>22.0</td>\n      <td>3.000000</td>\n      <td>1116.0</td>\n      <td>2.5</td>\n      <td>0.625000</td>\n      <td>...</td>\n      <td>182.0</td>\n      <td>130.0</td>\n      <td>1943.0</td>\n      <td>2.00</td>\n      <td>4.0</td>\n      <td>0.235294</td>\n      <td>0.723552</td>\n      <td>True</td>\n      <td>7.0</td>\n      <td>4.0</td>\n    </tr>\n    <tr>\n      <th>2671521</th>\n      <th>WHQC-FM</th>\n      <th>2022-03-20</th>\n      <th>26.0</th>\n      <td>181.765411</td>\n      <td>134.0</td>\n      <td>NaN</td>\n      <td>0.023840</td>\n      <td>20.0</td>\n      <td>11.0</td>\n      <td>1.500000</td>\n      <td>703.0</td>\n      <td>-9.5</td>\n      <td>26.875000</td>\n      <td>...</td>\n      <td>0.0</td>\n      <td>0.0</td>\n      <td>1090.0</td>\n      <td>64.00</td>\n      <td>5.0</td>\n      <td>0.250000</td>\n      <td>NaN</td>\n      <td>True</td>\n      <td>970.0</td>\n      <td>4.0</td>\n    </tr>\n  </tbody>\n</table>\n<p>19707 rows × 1124 columns</p>\n</div>"
     },
     "execution_count": 14,
     "metadata": {},
     "output_type": "execute_result"
    }
   ],
   "source": [
    "df_train_sets"
   ],
   "metadata": {
    "collapsed": false
   }
  },
  {
   "cell_type": "code",
   "execution_count": 9,
   "outputs": [
    {
     "data": {
      "text/plain": "                 target  target\nweeks_since_hit                \n0.0                1023     341\n1.0                1023     341\n2.0                1011     337\n3.0                1005     336\n4.0                 978     326\n5.0                 963     321\n6.0                 928     310\n7.0                 903     302\n8.0                 870     291\n9.0                 850     284\n10.0                803     268\n11.0                777     260\n12.0                742     248\n13.0                711     237\n14.0                680     227\n15.0                658     220\n16.0                629     210\n17.0                604     202\n18.0                581     194\n19.0                558     186\n20.0                539     180\n21.0                523     175\n22.0                501     167\n23.0                487     163\n24.0                466     156\n25.0                456     152\n26.0                438     147",
      "text/html": "<div>\n<style scoped>\n    .dataframe tbody tr th:only-of-type {\n        vertical-align: middle;\n    }\n\n    .dataframe tbody tr th {\n        vertical-align: top;\n    }\n\n    .dataframe thead th {\n        text-align: right;\n    }\n</style>\n<table border=\"1\" class=\"dataframe\">\n  <thead>\n    <tr style=\"text-align: right;\">\n      <th></th>\n      <th>target</th>\n      <th>target</th>\n    </tr>\n    <tr>\n      <th>weeks_since_hit</th>\n      <th></th>\n      <th></th>\n    </tr>\n  </thead>\n  <tbody>\n    <tr>\n      <th>0.0</th>\n      <td>1023</td>\n      <td>341</td>\n    </tr>\n    <tr>\n      <th>1.0</th>\n      <td>1023</td>\n      <td>341</td>\n    </tr>\n    <tr>\n      <th>2.0</th>\n      <td>1011</td>\n      <td>337</td>\n    </tr>\n    <tr>\n      <th>3.0</th>\n      <td>1005</td>\n      <td>336</td>\n    </tr>\n    <tr>\n      <th>4.0</th>\n      <td>978</td>\n      <td>326</td>\n    </tr>\n    <tr>\n      <th>5.0</th>\n      <td>963</td>\n      <td>321</td>\n    </tr>\n    <tr>\n      <th>6.0</th>\n      <td>928</td>\n      <td>310</td>\n    </tr>\n    <tr>\n      <th>7.0</th>\n      <td>903</td>\n      <td>302</td>\n    </tr>\n    <tr>\n      <th>8.0</th>\n      <td>870</td>\n      <td>291</td>\n    </tr>\n    <tr>\n      <th>9.0</th>\n      <td>850</td>\n      <td>284</td>\n    </tr>\n    <tr>\n      <th>10.0</th>\n      <td>803</td>\n      <td>268</td>\n    </tr>\n    <tr>\n      <th>11.0</th>\n      <td>777</td>\n      <td>260</td>\n    </tr>\n    <tr>\n      <th>12.0</th>\n      <td>742</td>\n      <td>248</td>\n    </tr>\n    <tr>\n      <th>13.0</th>\n      <td>711</td>\n      <td>237</td>\n    </tr>\n    <tr>\n      <th>14.0</th>\n      <td>680</td>\n      <td>227</td>\n    </tr>\n    <tr>\n      <th>15.0</th>\n      <td>658</td>\n      <td>220</td>\n    </tr>\n    <tr>\n      <th>16.0</th>\n      <td>629</td>\n      <td>210</td>\n    </tr>\n    <tr>\n      <th>17.0</th>\n      <td>604</td>\n      <td>202</td>\n    </tr>\n    <tr>\n      <th>18.0</th>\n      <td>581</td>\n      <td>194</td>\n    </tr>\n    <tr>\n      <th>19.0</th>\n      <td>558</td>\n      <td>186</td>\n    </tr>\n    <tr>\n      <th>20.0</th>\n      <td>539</td>\n      <td>180</td>\n    </tr>\n    <tr>\n      <th>21.0</th>\n      <td>523</td>\n      <td>175</td>\n    </tr>\n    <tr>\n      <th>22.0</th>\n      <td>501</td>\n      <td>167</td>\n    </tr>\n    <tr>\n      <th>23.0</th>\n      <td>487</td>\n      <td>163</td>\n    </tr>\n    <tr>\n      <th>24.0</th>\n      <td>466</td>\n      <td>156</td>\n    </tr>\n    <tr>\n      <th>25.0</th>\n      <td>456</td>\n      <td>152</td>\n    </tr>\n    <tr>\n      <th>26.0</th>\n      <td>438</td>\n      <td>147</td>\n    </tr>\n  </tbody>\n</table>\n</div>"
     },
     "execution_count": 9,
     "metadata": {},
     "output_type": "execute_result"
    }
   ],
   "source": [
    "pd.concat([df_train_sets.groupby(['weeks_since_hit'])['target'].count(), df_test_sets.groupby(['weeks_since_hit'])['target'].count()], axis=1)"
   ],
   "metadata": {
    "collapsed": false
   }
  },
  {
   "cell_type": "code",
   "execution_count": 5,
   "outputs": [
    {
     "data": {
      "text/plain": "weeks_since_hit  censoring_flg_mod\n0.0              False                0.296369\n                 True                 0.703631\n1.0              False                0.297059\n                 True                 0.702941\n2.0              False                0.300595\n                 True                 0.699405\n3.0              False                0.302395\n                 True                 0.697605\n4.0              False                0.310769\n                 True                 0.689231\n5.0              False                0.314583\n                 True                 0.685417\n6.0              False                0.326486\n                 True                 0.673514\n7.0              False                0.333333\n                 True                 0.666667\n8.0              False                0.346021\n                 True                 0.653979\n9.0              False                0.353011\n                 True                 0.646989\n10.0             False                0.373750\n                 True                 0.626250\n11.0             False                0.386305\n                 True                 0.613695\n12.0             False                0.404601\n                 True                 0.595399\n13.0             False                0.422316\n                 True                 0.577684\n14.0             False                0.440177\n                 True                 0.559823\n15.0             False                0.454962\n                 True                 0.545038\n16.0             False                0.476038\n                 True                 0.523962\n17.0             False                0.495840\n                 True                 0.504160\n18.0             False                0.515571\n                 True                 0.484429\n19.0             False                0.536937\n                 True                 0.463063\n20.0             False                0.554104\n                 True                 0.445896\n21.0             False                0.571154\n                 True                 0.428846\n22.0             False                0.594378\n                 True                 0.405622\n23.0             False                0.607438\n                 True                 0.392562\n24.0             False                0.632258\n                 True                 0.367742\n25.0             False                0.643172\n                 True                 0.356828\n26.0             False                0.668192\n                 True                 0.331808\nName: target, dtype: float64"
     },
     "execution_count": 5,
     "metadata": {},
     "output_type": "execute_result"
    }
   ],
   "source": [
    "df_train_sets.groupby(['weeks_since_hit', 'censoring_flg_mod'])['target'].count()/df_train_sets.groupby(['weeks_since_hit'])['target'].count()"
   ],
   "metadata": {
    "collapsed": false
   }
  },
  {
   "cell_type": "code",
   "execution_count": null,
   "outputs": [],
   "source": [
    "df_extract_train = df_train_sets[df_train_sets.index.get_level_values(3) == 5]\n",
    "df_extract_test =  df_test_sets[df_test_sets.index.get_level_values(3) == 5]"
   ],
   "metadata": {
    "collapsed": false
   }
  },
  {
   "cell_type": "code",
   "execution_count": null,
   "outputs": [],
   "source": [
    "df_extract_train.groupby(['weeks_since_hit', 'censoring_flg_mod'])['target'].count()"
   ],
   "metadata": {
    "collapsed": false
   }
  },
  {
   "cell_type": "code",
   "execution_count": null,
   "outputs": [],
   "source": [
    "df_extract_test.groupby(['weeks_since_hit', 'censoring_flg_mod'])['target'].count()"
   ],
   "metadata": {
    "collapsed": false
   }
  },
  {
   "cell_type": "code",
   "execution_count": null,
   "outputs": [],
   "source": [
    "df_extract_train['target'].plot(kind='hist')"
   ],
   "metadata": {
    "collapsed": false
   }
  },
  {
   "cell_type": "code",
   "execution_count": null,
   "outputs": [],
   "source": [
    "df_extract_train['target'].apply(lambda x: np.log(x)).plot(kind='hist')"
   ],
   "metadata": {
    "collapsed": false
   }
  },
  {
   "cell_type": "markdown",
   "source": [
    "## Model Training"
   ],
   "metadata": {
    "collapsed": false
   }
  },
  {
   "cell_type": "code",
   "execution_count": 3,
   "outputs": [],
   "source": [
    "# import sksurv and sklearn packages\n",
    "from sksurv.linear_model import CoxnetSurvivalAnalysis\n",
    "from sksurv.ensemble import GradientBoostingSurvivalAnalysis, RandomSurvivalForest\n",
    "from sksurv.metrics import as_concordance_index_ipcw_scorer, as_cumulative_dynamic_auc_scorer\n",
    "from sklearn.ensemble import GradientBoostingClassifier\n",
    "from sklearn.metrics import f1_score, auc\n",
    "from sklearn.model_selection import RandomizedSearchCV, StratifiedGroupKFold, StratifiedKFold, KFold\n",
    "from sklearn.preprocessing import StandardScaler\n",
    "import time\n",
    "import pickle\n",
    "from feature_engine.selection import DropCorrelatedFeatures"
   ],
   "metadata": {
    "collapsed": false
   }
  },
  {
   "cell_type": "markdown",
   "source": [
    "#### define prereqs"
   ],
   "metadata": {
    "collapsed": false
   }
  },
  {
   "cell_type": "code",
   "execution_count": 4,
   "outputs": [],
   "source": [
    "id_cols = list(df_train_sets.index)\n",
    "target_cols = ['censoring_flg_mod', 'target']\n",
    "cat_cols =['market_name']\n",
    "# cat_cols = ['market_name', 'at_hit_quintile']\n",
    "feature_cols = list(set(df_train_sets.columns) - set(target_cols))\n",
    "num_cols = list(set(feature_cols) -set(cat_cols))"
   ],
   "metadata": {
    "collapsed": false
   }
  },
  {
   "cell_type": "code",
   "execution_count": 5,
   "outputs": [],
   "source": [
    "split_number = 5\n",
    "random_state = 1000\n",
    "weeks_range = range(27)\n",
    "\n",
    "# hyperparam grid for ElasticNet Baseline\n",
    "param_grid_cnet = {\n",
    "    'estimator__l1_ratio': [0.5, 0.1, 0.01, 0.001]\n",
    "}\n",
    "\n",
    "# hyperparam grid for Gradient Boosted Model\n",
    "param_grid_gbm = {\n",
    "    'estimator__max_depth': [2, 4, 6, 8, 10],\n",
    "    'estimator__max_features': ['auto', 'sqrt', 'log2', None],\n",
    "    'estimator__n_estimators': [50, 100, 150, 200],\n",
    "    'estimator__learning_rate': [0.01, 0.001, 0.5, 0.1],\n",
    "    'estimator__loss': ['coxph'],\n",
    "    'estimator__subsample': [0.70, 0.80, 0.9, 1.0],\n",
    "    'estimator__min_samples_split': [2, 4, 8, 16],\n",
    "    'estimator__min_samples_leaf': [2, 4, 8, 16]\n",
    "}\n",
    "\n",
    "# hyperparam grid for Random Survival Forest\n",
    "param_grid_rsf = {\n",
    "    'estimator__max_depth': [2, 4, 6, 8, 10],\n",
    "    'estimator__max_features': ['auto', 'sqrt', 'log2', None],\n",
    "    'estimator__n_estimators': [50, 100, 150, 200],\n",
    "    'estimator__min_samples_split': [2, 4, 8, 16, 32],\n",
    "    'estimator__min_samples_leaf': [2, 4, 8, 16, 32],\n",
    "    'estimator__max_leaf_nodes': [2, 4, 8, 16, 32],\n",
    "    'estimator__bootstrap': [True, False],\n",
    "    'estimator__oob_score': [False, True],\n",
    "    'estimator__max_samples': [0.70, 0.80, 0.90, 1.0]\n",
    "}\n",
    "\n",
    "# hyperparam for GBM classifier\n",
    "param_grid_gbm_clf = {\n",
    "    'max_depth': [2, 4, 6, 8, 10],\n",
    "    'max_features': ['auto', 'sqrt', 'log2', None],\n",
    "    'n_estimators': [50, 100, 150, 200],\n",
    "    'learning_rate': [0.01, 0.001, 0.5, 0.1],\n",
    "    # 'loss': ['log_loss', 'exponential'],\n",
    "    'subsample': [0.70, 0.80, 0.9, 1.0],\n",
    "    'min_samples_split': [2, 4, 8, 16],\n",
    "    'min_samples_leaf': [2, 4, 8, 16]\n",
    "}\n",
    "\n",
    "# best scores - train/test\n",
    "best_scores_cnet_train = {}\n",
    "best_scores_gbm_train = {}\n",
    "best_scores_rsf_train = {}\n",
    "\n",
    "best_scores_cnet_test = {}\n",
    "best_scores_gbm_test = {}\n",
    "best_scores_rsf_test = {}\n",
    "\n",
    "# best estimators\n",
    "best_estimators_cnet = {}\n",
    "best_estimators_gbm = {}\n",
    "best_estimators_rsf = {}\n",
    "\n",
    "# pickle file names\n",
    "file_cnet='best_est_cnet_h1_expt3_with_aligned_shf_nocorr.pkl'\n",
    "file_gbm='best_est_gbm_h1_expt3_with_aligned_shf_nocorr.pkl'\n",
    "file_rsf='best_est_rsf_h1_expt3_with_aligned_shf_nocorr.pkl'"
   ],
   "metadata": {
    "collapsed": false
   }
  },
  {
   "cell_type": "markdown",
   "source": [
    "#### train a baseline ElasticNet model"
   ],
   "metadata": {
    "collapsed": false
   }
  },
  {
   "cell_type": "code",
   "execution_count": 7,
   "outputs": [
    {
     "name": "stdout",
     "output_type": "stream",
     "text": [
      "Fitting 5 folds for each of 4 candidates, totalling 20 fits\n",
      "0_best_score: 0.7207829510680445\n",
      "Elapsed time: 4\n",
      "[]\n",
      "0_test_score: 0.4659885694887854\n",
      "Fitting 5 folds for each of 4 candidates, totalling 20 fits\n",
      "1_best_score: 0.716413438968135\n",
      "Elapsed time: 4\n",
      "[]\n",
      "1_test_score: 0.4640577737888606\n",
      "Fitting 5 folds for each of 4 candidates, totalling 20 fits\n",
      "2_best_score: 0.7141160311614859\n",
      "Elapsed time: 3\n",
      "[]\n",
      "2_test_score: 0.4936175111406107\n",
      "Fitting 5 folds for each of 4 candidates, totalling 20 fits\n",
      "3_best_score: 0.7123862283819228\n",
      "Elapsed time: 3\n",
      "[]\n",
      "3_test_score: 0.5111917957882369\n",
      "Fitting 5 folds for each of 4 candidates, totalling 20 fits\n",
      "4_best_score: 0.694939040107635\n",
      "Elapsed time: 3\n",
      "[]\n",
      "4_test_score: 0.5028163540801616\n",
      "Fitting 5 folds for each of 4 candidates, totalling 20 fits\n",
      "5_best_score: 0.7065386338756643\n",
      "Elapsed time: 3\n",
      "[]\n",
      "5_test_score: 0.49830343588506537\n",
      "Fitting 5 folds for each of 4 candidates, totalling 20 fits\n",
      "6_best_score: 0.699030843638532\n",
      "Elapsed time: 3\n",
      "[]\n",
      "6_test_score: 0.5039903811817417\n",
      "Fitting 5 folds for each of 4 candidates, totalling 20 fits\n",
      "7_best_score: 0.7020884913852545\n",
      "Elapsed time: 3\n",
      "[]\n",
      "7_test_score: 0.5044007611470354\n",
      "Fitting 5 folds for each of 4 candidates, totalling 20 fits\n",
      "8_best_score: 0.6906562497759788\n",
      "Elapsed time: 3\n",
      "[]\n",
      "8_test_score: 0.48945827327463626\n",
      "Fitting 5 folds for each of 4 candidates, totalling 20 fits\n",
      "9_best_score: 0.684719931593495\n",
      "Elapsed time: 3\n",
      "[]\n",
      "9_test_score: 0.5146979111336073\n",
      "Fitting 5 folds for each of 4 candidates, totalling 20 fits\n",
      "10_best_score: 0.6749352966891544\n",
      "Elapsed time: 3\n",
      "[]\n",
      "10_test_score: 0.5022185662910847\n",
      "Fitting 5 folds for each of 4 candidates, totalling 20 fits\n",
      "11_best_score: 0.6996177501517057\n",
      "Elapsed time: 3\n",
      "[]\n",
      "11_test_score: 0.7232867315737505\n",
      "Fitting 5 folds for each of 4 candidates, totalling 20 fits\n",
      "12_best_score: 0.6826599874797877\n",
      "Elapsed time: 3\n",
      "[]\n",
      "12_test_score: 0.5139194946092361\n",
      "Fitting 5 folds for each of 4 candidates, totalling 20 fits\n",
      "13_best_score: 0.6693090438329026\n",
      "Elapsed time: 3\n",
      "[]\n",
      "13_test_score: 0.49183663809105926\n",
      "Fitting 5 folds for each of 4 candidates, totalling 20 fits\n",
      "14_best_score: 0.6806063382446556\n",
      "Elapsed time: 3\n",
      "[]\n",
      "14_test_score: 0.5006989302860176\n",
      "Fitting 5 folds for each of 4 candidates, totalling 20 fits\n",
      "15_best_score: 0.6859850659772464\n",
      "Elapsed time: 3\n",
      "[]\n",
      "15_test_score: 0.510240664790541\n",
      "Fitting 5 folds for each of 4 candidates, totalling 20 fits\n",
      "16_best_score: 0.7065718291965346\n",
      "Elapsed time: 2\n",
      "[]\n",
      "16_test_score: 0.681960558058811\n",
      "Fitting 5 folds for each of 4 candidates, totalling 20 fits\n",
      "17_best_score: 0.6959030076052685\n",
      "Elapsed time: 3\n",
      "[]\n",
      "17_test_score: 0.4774524155950221\n",
      "Fitting 5 folds for each of 4 candidates, totalling 20 fits\n",
      "18_best_score: 0.6672268608662224\n",
      "Elapsed time: 3\n",
      "[]\n",
      "18_test_score: 0.49789032652321213\n",
      "Fitting 5 folds for each of 4 candidates, totalling 20 fits\n",
      "19_best_score: 0.7143063769449303\n",
      "Elapsed time: 3\n",
      "[]\n",
      "19_test_score: 0.4769881950643196\n",
      "Fitting 5 folds for each of 4 candidates, totalling 20 fits\n",
      "20_best_score: 0.7055349121319628\n",
      "Elapsed time: 3\n",
      "[]\n",
      "20_test_score: 0.697689104995998\n",
      "Fitting 5 folds for each of 4 candidates, totalling 20 fits\n",
      "21_best_score: 0.7121082460154586\n",
      "Elapsed time: 4\n",
      "[]\n",
      "21_test_score: 0.6464565922840896\n",
      "Fitting 5 folds for each of 4 candidates, totalling 20 fits\n",
      "22_best_score: 0.7245899507834543\n",
      "Elapsed time: 6\n",
      "[]\n",
      "22_test_score: 0.6832109751259262\n",
      "Fitting 5 folds for each of 4 candidates, totalling 20 fits\n",
      "23_best_score: 0.7040574491617391\n",
      "Elapsed time: 6\n",
      "['market_name_Minneapolis']\n",
      "23_test_score: 0.681767551122598\n",
      "Fitting 5 folds for each of 4 candidates, totalling 20 fits\n",
      "24_best_score: 0.7311302647481434\n",
      "Elapsed time: 6\n",
      "['market_name_Minneapolis']\n",
      "24_test_score: 0.6575909172330634\n",
      "Fitting 5 folds for each of 4 candidates, totalling 20 fits\n",
      "25_best_score: 0.6843954020689015\n",
      "Elapsed time: 6\n",
      "['market_name_Minneapolis']\n",
      "25_test_score: 0.5286856648000986\n",
      "Fitting 5 folds for each of 4 candidates, totalling 20 fits\n",
      "26_best_score: 0.7278884922216708\n",
      "Elapsed time: 5\n",
      "['market_name_Minneapolis']\n",
      "26_test_score: 0.6462560090262601\n"
     ]
    }
   ],
   "source": [
    "for wk in weeks_range:\n",
    "    start = time.perf_counter()\n",
    "\n",
    "    sv = CoxnetSurvivalAnalysis()\n",
    "\n",
    "    X_train = df_train_sets[df_train_sets.index.get_level_values(3) == wk][feature_cols]\n",
    "    drop_cols = X_train.columns[X_train.isna().any()].tolist()\n",
    "    X_train.drop(drop_cols, axis=1, inplace=True)\n",
    "    X_train = pd.get_dummies(X_train, columns=['market_name'])\n",
    "    sel_cols = list(set(num_cols) - set(drop_cols))\n",
    "    X_train[sel_cols] = StandardScaler().fit_transform(X_train[sel_cols])\n",
    "\n",
    "    dcf= DropCorrelatedFeatures(threshold=0.7)\n",
    "    X_train = dcf.fit_transform(X_train)\n",
    "\n",
    "    y_train = df_train_sets[df_train_sets.index.get_level_values(3) == wk][target_cols].to_records(index=False)\n",
    "\n",
    "    cv = KFold(n_splits=split_number, shuffle=True)\n",
    "    sv_model = RandomizedSearchCV(estimator=as_concordance_index_ipcw_scorer(sv), param_distributions=param_grid_cnet,\n",
    "                                  cv=cv, verbose=1, n_iter=4, n_jobs=-1)\n",
    "    sv_model.fit(X_train, y_train)\n",
    "    best_estimators_cnet[wk] = sv_model.best_estimator_\n",
    "    stop = time.perf_counter()\n",
    "    print(str(wk) + '_' + 'best_score: ' + f'{sv_model.best_score_}')\n",
    "    print('Elapsed time: '  + str(int((stop-start))))\n",
    "\n",
    "\n",
    "    X_test = df_test_sets[df_test_sets.index.get_level_values(3) == wk][feature_cols]\n",
    "    X_test = pd.get_dummies(X_test, columns=['market_name'])\n",
    "    missing_cols = list(set(sv_model.best_estimator_.estimator.feature_names_in_) - set(X_test.columns))\n",
    "    print(missing_cols)\n",
    "    for col in missing_cols:\n",
    "        X_test[col] = 0\n",
    "    test_idx = X_test[sv_model.best_estimator_.estimator.feature_names_in_].dropna().index\n",
    "    y_test = df_test_sets[df_test_sets.index.get_level_values(3) == wk].loc[test_idx, target_cols].to_records(index=False)\n",
    "\n",
    "    print(str(wk) + '_' + 'test_score: ' + f'{sv_model.best_estimator_.score(X_test[sv_model.best_estimator_.estimator.feature_names_in_].loc[test_idx], y_test)}')"
   ],
   "metadata": {
    "collapsed": false
   }
  },
  {
   "cell_type": "code",
   "execution_count": 89,
   "outputs": [
    {
     "data": {
      "text/plain": "{'estimator__l1_ratio': 0.5}"
     },
     "execution_count": 89,
     "metadata": {},
     "output_type": "execute_result"
    }
   ],
   "source": [
    "sv_model.best_params_"
   ],
   "metadata": {
    "collapsed": false
   }
  },
  {
   "cell_type": "code",
   "execution_count": 84,
   "outputs": [
    {
     "data": {
      "text/plain": "rec.array([(False, 1515.), (False, 1491.), (False,  673.), (False,  208.),\n           (False,  101.), (False, 1635.), (False,  358.), (False, 1461.),\n           (False,  269.), (False, 2572.), (False, 1378.), (False,  413.),\n           (False,  600.), (False, 3071.), (False,  267.), (False,   91.),\n           (False, 1149.), (False, 2891.), (False,  868.), (False, 1770.),\n           (False,  506.), (False,  335.), (False,  425.), (False,  790.),\n           (False,  424.), (False, 2704.), (False,  323.), (False, 1310.),\n           (False,  319.), (False,  529.), (False,  990.), (False,  860.),\n           (False,  258.), (False, 1010.), (False,  342.), (False, 1630.),\n           (False,  679.), (False,  847.), (False,  299.), (False,  232.),\n           (False,  791.), (False,  233.), (False, 2569.), (False, 2959.),\n           (False,  172.), (False,  220.), (False,   61.), (False,  118.),\n           (False, 1599.), (False, 1020.), (False, 2551.), (False,   59.),\n           (False, 2950.), (False, 1721.), (False,  137.), (False,  372.),\n           (False,  134.), (False,  926.), (False,  710.), (False, 2486.),\n           (False,  668.), (False,  360.), (False,  478.), (False,  913.),\n           (False,    8.), (False, 1848.), (False,  719.), (False,  345.),\n           (False,   60.), (False,  901.), (False, 1161.), (False,  132.),\n           (False, 1480.), (False,  121.), (False,  733.), (False,  698.),\n           (False,  276.), (False,  121.), (False,    4.), (False,  566.),\n           (False,  142.), (False, 1765.), (False,  142.), (False,  480.),\n           (False,  200.), (False,  374.), (False,   34.), (False,  262.),\n           (False, 1821.), (False,  401.), (False,  110.), (False,   76.),\n           (False,  522.), (False, 2287.), (False, 2549.), (False,  741.),\n           (False, 2589.), (False,  227.), (False,  122.), (False, 1244.),\n           (False,  802.), (False, 3210.), (False,  174.), ( True, 1073.),\n           ( True,  273.), ( True,  676.), ( True, 1445.), ( True,  620.),\n           ( True,  962.), ( True,  626.), ( True, 1974.), ( True,  178.),\n           ( True,  173.), ( True,  553.), ( True, 1411.), ( True,  668.),\n           ( True,  765.), ( True,  842.), ( True, 2102.), ( True,  574.),\n           ( True, 1087.), ( True,  374.), ( True,  269.), ( True, 1441.),\n           ( True, 2234.), ( True, 1967.), ( True,  525.), ( True,   84.),\n           ( True,  146.), ( True,  561.), ( True,  673.), ( True, 1208.),\n           ( True, 1524.), ( True,  377.), ( True,  995.), ( True,  150.),\n           ( True,  743.), ( True, 1792.), ( True,  766.), ( True, 1070.),\n           ( True, 1521.), ( True, 2352.), ( True,  857.), ( True,  635.),\n           ( True,  102.), ( True,  716.), ( True, 1444.), ( True,  856.),\n           ( True,  215.), ( True, 1482.), ( True, 1133.), ( True,  897.),\n           ( True, 1250.), ( True,  592.), ( True,  595.), ( True,  126.),\n           ( True,  406.), ( True,  303.), ( True,  502.), ( True, 1637.),\n           ( True,  380.), ( True, 1997.), ( True, 1421.), ( True,  541.),\n           ( True, 2000.), ( True,   65.), ( True,  528.), ( True, 1671.),\n           ( True,  704.), ( True,  785.), ( True,  401.), ( True,  395.),\n           ( True,  107.), ( True, 2099.), ( True, 1487.), ( True,  618.),\n           ( True, 1548.), ( True,  431.), ( True, 1342.), ( True, 1501.),\n           ( True,  299.), ( True, 2109.), ( True,   81.), ( True,  768.),\n           ( True,   14.), ( True,  553.), ( True, 1261.), ( True, 1275.),\n           ( True, 2068.), ( True, 1079.), ( True, 1015.), ( True,  413.),\n           ( True,  142.), ( True, 1060.), ( True,  174.), ( True,  431.),\n           ( True,  361.), ( True, 2118.), ( True, 2212.), ( True,  652.),\n           ( True, 1345.), ( True, 1524.), ( True,  734.), ( True, 1287.),\n           ( True,  635.), ( True,  408.), ( True,  615.), ( True,   30.),\n           ( True,  123.), ( True, 2462.), ( True,  243.), ( True,  105.),\n           ( True,  983.), ( True,  513.), ( True, 1509.), ( True, 1154.),\n           ( True, 2244.), ( True,  652.), ( True,  513.), ( True, 1009.),\n           ( True,  708.), ( True,   18.), ( True,  491.), ( True,  272.),\n           ( True, 1177.), ( True, 1496.), ( True,  253.), ( True,  473.),\n           ( True,  754.), ( True, 1040.), ( True,  449.), ( True, 1613.),\n           ( True, 2354.), ( True,  370.), ( True,  447.), ( True,  701.),\n           ( True, 1700.), ( True, 1381.), ( True,  136.), ( True,  171.),\n           ( True,  146.), ( True, 1638.), ( True,   31.), ( True,  357.),\n           ( True, 2357.), ( True, 1324.), ( True,  709.), ( True,  581.),\n           ( True,  539.), ( True, 1350.), ( True,  149.), ( True,  155.),\n           ( True, 2088.), ( True, 1270.), ( True,   15.), ( True,  589.),\n           ( True,  791.), ( True, 2124.), ( True,  471.), ( True,  106.),\n           ( True, 1408.), ( True, 1072.), ( True,  574.), ( True,   51.),\n           ( True,  227.), ( True,  644.), ( True, 1507.), ( True,  388.),\n           ( True, 2192.), ( True, 1527.), ( True, 1673.), ( True,  285.),\n           ( True, 1361.), ( True, 1905.), ( True, 1732.), ( True, 1569.),\n           ( True,  533.), ( True,  755.), ( True, 1809.), ( True,  415.),\n           ( True, 1466.), ( True, 1109.), ( True,   93.), ( True, 1630.),\n           ( True, 1123.), ( True, 1294.), ( True, 1438.), ( True,  328.),\n           ( True, 1149.), ( True, 1509.), ( True, 1090.), ( True,  314.),\n           ( True,  392.), ( True,  396.), ( True, 1967.), ( True, 1827.),\n           ( True,  908.), ( True,  714.), ( True, 1409.), ( True,  950.),\n           ( True, 1077.), ( True,  984.), ( True,  921.), ( True,  435.),\n           ( True, 1430.), ( True, 1076.), ( True, 1915.), ( True,  979.),\n           ( True,  851.), ( True, 1098.), ( True, 1249.), ( True,  954.),\n           ( True,  679.), ( True,  238.), ( True, 1425.), ( True, 1869.),\n           ( True, 1774.), ( True, 1172.), ( True, 1632.), ( True, 2267.),\n           ( True,  520.), ( True,  755.), ( True, 1503.), ( True, 2200.),\n           ( True,  732.), ( True, 2023.), ( True,  973.), ( True, 1368.),\n           ( True, 1229.), ( True,  444.), ( True, 1230.), ( True,  250.),\n           ( True,  766.), ( True, 1627.), ( True, 2003.), ( True,  317.),\n           ( True, 1411.), ( True, 1981.), ( True,  187.), ( True, 1534.),\n           ( True, 1296.), ( True,  538.)],\n          dtype=[('censoring_flg_mod', '?'), ('target', '<f8')])"
     },
     "execution_count": 84,
     "metadata": {},
     "output_type": "execute_result"
    }
   ],
   "source": [
    "y_test"
   ],
   "metadata": {
    "collapsed": false
   }
  },
  {
   "cell_type": "code",
   "execution_count": 8,
   "outputs": [
    {
     "data": {
      "text/plain": "['completed_rate_26wk',\n 'thumbs_up_rate_total_13wk',\n 'thumbs_up_rate_1wk',\n 'completed_rate_13wk',\n 'thumbs_up_rate_total_26wk',\n 'thumbs_up_rate_26wk',\n 'completed_rate_4wk',\n 'thumbs_up_rate_4wk',\n 'thumbs_up_rate_total_1wk',\n 'thumbs_up_rate_8wk',\n 'thumbs_up_rate_total_4wk',\n 'thumbs_up_rate_total_8wk',\n 'completed_rate_8wk',\n 'thumbs_up_rate_13wk',\n 'completed_rate_1wk']"
     },
     "execution_count": 8,
     "metadata": {},
     "output_type": "execute_result"
    }
   ],
   "source": [
    "X_train.columns[X_train.isna().any()].tolist()"
   ],
   "metadata": {
    "collapsed": false
   }
  },
  {
   "cell_type": "code",
   "execution_count": 38,
   "outputs": [],
   "source": [
    "# write best estimators to a pickle file\n",
    "with open(file_cnet, 'wb') as file:\n",
    "    pickle.dump(best_estimators_cnet, file)"
   ],
   "metadata": {
    "collapsed": false
   }
  },
  {
   "cell_type": "markdown",
   "source": [
    "### train a GBM model"
   ],
   "metadata": {
    "collapsed": false
   }
  },
  {
   "cell_type": "code",
   "execution_count": 8,
   "outputs": [
    {
     "name": "stdout",
     "output_type": "stream",
     "text": [
      "Fitting 5 folds for each of 50 candidates, totalling 250 fits\n",
      "0_best_score: 0.7678980573899497\n",
      "Elapsed time: 40\n",
      "0_test_score: 0.7962497473657871\n",
      "Fitting 5 folds for each of 50 candidates, totalling 250 fits\n",
      "1_best_score: 0.7613367015173241\n",
      "Elapsed time: 42\n",
      "1_test_score: 0.7630600813917788\n",
      "Fitting 5 folds for each of 50 candidates, totalling 250 fits\n",
      "2_best_score: 0.7474127000380252\n",
      "Elapsed time: 43\n",
      "2_test_score: 0.7613612866641993\n",
      "Fitting 5 folds for each of 50 candidates, totalling 250 fits\n",
      "3_best_score: 0.7547744160000283\n",
      "Elapsed time: 51\n",
      "3_test_score: 0.7847659199034301\n",
      "Fitting 5 folds for each of 50 candidates, totalling 250 fits\n",
      "4_best_score: 0.7455173706552571\n",
      "Elapsed time: 51\n",
      "4_test_score: 0.7764421259311449\n",
      "Fitting 5 folds for each of 50 candidates, totalling 250 fits\n",
      "5_best_score: 0.7545537943751384\n",
      "Elapsed time: 40\n",
      "5_test_score: 0.7718480616562635\n",
      "Fitting 5 folds for each of 50 candidates, totalling 250 fits\n",
      "6_best_score: 0.7441706491082055\n",
      "Elapsed time: 44\n",
      "6_test_score: 0.7605088247255524\n",
      "Fitting 5 folds for each of 50 candidates, totalling 250 fits\n",
      "7_best_score: 0.7477029546464686\n",
      "Elapsed time: 47\n",
      "7_test_score: 0.7566787484024476\n",
      "Fitting 5 folds for each of 50 candidates, totalling 250 fits\n",
      "8_best_score: 0.730198339917886\n",
      "Elapsed time: 42\n",
      "8_test_score: 0.7481816439892041\n",
      "Fitting 5 folds for each of 50 candidates, totalling 250 fits\n",
      "9_best_score: 0.7331907530365639\n",
      "Elapsed time: 31\n",
      "9_test_score: 0.7568795187644246\n",
      "Fitting 5 folds for each of 50 candidates, totalling 250 fits\n",
      "10_best_score: 0.7344223486778516\n",
      "Elapsed time: 44\n",
      "10_test_score: 0.7317354580263601\n",
      "Fitting 5 folds for each of 50 candidates, totalling 250 fits\n",
      "11_best_score: 0.740882869034446\n",
      "Elapsed time: 40\n",
      "11_test_score: 0.7222017538419256\n",
      "Fitting 5 folds for each of 50 candidates, totalling 250 fits\n",
      "12_best_score: 0.7322855549149161\n",
      "Elapsed time: 34\n",
      "12_test_score: 0.6995450971452634\n",
      "Fitting 5 folds for each of 50 candidates, totalling 250 fits\n",
      "13_best_score: 0.7216135717945742\n",
      "Elapsed time: 35\n",
      "13_test_score: 0.6990994213187879\n",
      "Fitting 5 folds for each of 50 candidates, totalling 250 fits\n",
      "14_best_score: 0.7184135390552082\n",
      "Elapsed time: 31\n",
      "14_test_score: 0.6893375916352978\n",
      "Fitting 5 folds for each of 50 candidates, totalling 250 fits\n",
      "15_best_score: 0.7152887628402491\n",
      "Elapsed time: 30\n",
      "15_test_score: 0.6251817778538896\n",
      "Fitting 5 folds for each of 50 candidates, totalling 250 fits\n",
      "16_best_score: 0.7121960549064671\n",
      "Elapsed time: 30\n",
      "16_test_score: 0.6633500584366647\n",
      "Fitting 5 folds for each of 50 candidates, totalling 250 fits\n",
      "17_best_score: 0.7149233868928381\n",
      "Elapsed time: 23\n",
      "17_test_score: 0.669466003953175\n",
      "Fitting 5 folds for each of 50 candidates, totalling 250 fits\n",
      "18_best_score: 0.7141578249794733\n",
      "Elapsed time: 23\n",
      "18_test_score: 0.6907317239565924\n",
      "Fitting 5 folds for each of 50 candidates, totalling 250 fits\n",
      "19_best_score: 0.7263401415543885\n",
      "Elapsed time: 19\n",
      "19_test_score: 0.6610213029571194\n",
      "Fitting 5 folds for each of 50 candidates, totalling 250 fits\n",
      "20_best_score: 0.7210340842962345\n",
      "Elapsed time: 26\n",
      "20_test_score: 0.6562729887934793\n",
      "Fitting 5 folds for each of 50 candidates, totalling 250 fits\n",
      "21_best_score: 0.7319359116297466\n",
      "Elapsed time: 21\n",
      "21_test_score: 0.6576729350322263\n",
      "Fitting 5 folds for each of 50 candidates, totalling 250 fits\n",
      "22_best_score: 0.730746656425248\n",
      "Elapsed time: 18\n",
      "22_test_score: 0.6251851994481445\n",
      "Fitting 5 folds for each of 50 candidates, totalling 250 fits\n",
      "23_best_score: 0.7317947582072998\n",
      "Elapsed time: 15\n",
      "23_test_score: 0.6883988551132265\n",
      "Fitting 5 folds for each of 50 candidates, totalling 250 fits\n",
      "24_best_score: 0.7527146790183432\n",
      "Elapsed time: 14\n",
      "24_test_score: 0.6755054379733846\n",
      "Fitting 5 folds for each of 50 candidates, totalling 250 fits\n",
      "25_best_score: 0.7125629812301685\n",
      "Elapsed time: 15\n",
      "25_test_score: 0.6691262127810371\n",
      "Fitting 5 folds for each of 50 candidates, totalling 250 fits\n",
      "26_best_score: 0.7531625968833107\n",
      "Elapsed time: 14\n",
      "26_test_score: 0.6625419716469408\n"
     ]
    }
   ],
   "source": [
    "# train a gbm\n",
    "times = np.arange(20,1010, 10)\n",
    "for wk in weeks_range:\n",
    "    start = time.perf_counter()\n",
    "\n",
    "    sv = GradientBoostingSurvivalAnalysis()\n",
    "\n",
    "    X_train = df_train_sets[df_train_sets.index.get_level_values(3) == wk][feature_cols]\n",
    "    drop_cols = X_train.columns[X_train.isna().any()].tolist()\n",
    "    X_train.drop(drop_cols, axis=1, inplace=True)\n",
    "    X_train = pd.get_dummies(X_train, columns=['market_name'])\n",
    "\n",
    "\n",
    "    dcf= DropCorrelatedFeatures(threshold=0.7)\n",
    "    X_train = dcf.fit_transform(X_train)\n",
    "\n",
    "    df_y_temp = df_train_sets[df_train_sets.index.get_level_values(3) == wk][target_cols]\n",
    "    y_train = df_y_temp.to_records(index=False)\n",
    "\n",
    "    # train gbm model\n",
    "    cv = KFold(n_splits=split_number, shuffle=True)\n",
    "    sv_model = RandomizedSearchCV(estimator=as_concordance_index_ipcw_scorer(sv, 1000), param_distributions=param_grid_gbm,\n",
    "                                  cv=cv, verbose=1, n_iter=50, n_jobs=-1)\n",
    "\n",
    "    # sv_model = RandomizedSearchCV(estimator=as_cumulative_dynamic_auc_scorer(sv, times), param_distributions=param_grid_gbm,\n",
    "    #                               cv=split_number, verbose=1, n_iter=50, n_jobs=-1)\n",
    "\n",
    "    sv_model.fit(X_train, y_train)\n",
    "    best_estimators_gbm[wk] = sv_model.best_estimator_\n",
    "    stop = time.perf_counter()\n",
    "    print(str(wk) + '_' + 'best_score: ' + f'{sv_model.best_score_}')\n",
    "    print('Elapsed time: '  + str(int((stop-start))))\n",
    "\n",
    "    X_test = df_test_sets[df_test_sets.index.get_level_values(3) == wk][feature_cols]\n",
    "    X_test = pd.get_dummies(X_test, columns=['market_name'])\n",
    "    missing_cols = list(set(sv_model.best_estimator_.estimator.feature_names_in_) - set(X_test.columns))\n",
    "    # print(missing_cols)\n",
    "    for col in missing_cols:\n",
    "        X_test[col] = 0\n",
    "    test_idx = X_test[sv_model.best_estimator_.estimator.feature_names_in_].dropna().index\n",
    "    y_test = df_test_sets[df_test_sets.index.get_level_values(3) == wk].loc[test_idx, target_cols].to_records(index=False)\n",
    "\n",
    "    print(str(wk) + '_' + 'test_score: ' + f'{sv_model.best_estimator_.score(X_test[sv_model.best_estimator_.estimator.feature_names_in_].loc[test_idx], y_test)}')"
   ],
   "metadata": {
    "collapsed": false
   }
  },
  {
   "cell_type": "code",
   "execution_count": 9,
   "outputs": [],
   "source": [
    "# write best estimators to a pickle file\n",
    "with open(file_gbm, 'wb') as file:\n",
    "    pickle.dump(best_estimators_gbm, file)"
   ],
   "metadata": {
    "collapsed": false
   }
  },
  {
   "cell_type": "markdown",
   "source": [
    "#### train a gmb classifier"
   ],
   "metadata": {
    "collapsed": false
   }
  },
  {
   "cell_type": "code",
   "execution_count": 34,
   "outputs": [
    {
     "name": "stdout",
     "output_type": "stream",
     "text": [
      "Fitting 5 folds for each of 10 candidates, totalling 50 fits\n",
      "0_best_score: 0.7429377051303281\n",
      "Elapsed time: 35\n",
      "Fitting 5 folds for each of 10 candidates, totalling 50 fits\n",
      "1_best_score: 0.7603969868928886\n",
      "Elapsed time: 21\n",
      "Fitting 5 folds for each of 10 candidates, totalling 50 fits\n",
      "2_best_score: 0.7769146998411038\n",
      "Elapsed time: 73\n",
      "Fitting 5 folds for each of 10 candidates, totalling 50 fits\n",
      "3_best_score: 0.7892861046057769\n",
      "Elapsed time: 68\n",
      "Fitting 5 folds for each of 10 candidates, totalling 50 fits\n",
      "4_best_score: 0.7987278362286926\n",
      "Elapsed time: 43\n",
      "Fitting 5 folds for each of 10 candidates, totalling 50 fits\n",
      "5_best_score: 0.8012965343587295\n",
      "Elapsed time: 25\n",
      "Fitting 5 folds for each of 10 candidates, totalling 50 fits\n",
      "6_best_score: 0.8072415864621894\n",
      "Elapsed time: 35\n",
      "Fitting 5 folds for each of 10 candidates, totalling 50 fits\n",
      "7_best_score: 0.8179676684881603\n",
      "Elapsed time: 75\n",
      "Fitting 5 folds for each of 10 candidates, totalling 50 fits\n",
      "8_best_score: 0.8207856559285928\n",
      "Elapsed time: 32\n",
      "Fitting 5 folds for each of 10 candidates, totalling 50 fits\n",
      "9_best_score: 0.8216626514809701\n",
      "Elapsed time: 78\n",
      "Fitting 5 folds for each of 10 candidates, totalling 50 fits\n",
      "10_best_score: 0.8333260726072605\n",
      "Elapsed time: 60\n",
      "Fitting 5 folds for each of 10 candidates, totalling 50 fits\n",
      "11_best_score: 0.8380540696002301\n",
      "Elapsed time: 63\n",
      "Fitting 5 folds for each of 10 candidates, totalling 50 fits\n",
      "12_best_score: 0.8293647540983606\n",
      "Elapsed time: 46\n",
      "Fitting 5 folds for each of 10 candidates, totalling 50 fits\n",
      "13_best_score: 0.8390198735320686\n",
      "Elapsed time: 23\n",
      "Fitting 5 folds for each of 10 candidates, totalling 50 fits\n",
      "14_best_score: 0.8173426900584795\n",
      "Elapsed time: 22\n",
      "Fitting 5 folds for each of 10 candidates, totalling 50 fits\n",
      "15_best_score: 0.8253501564945227\n",
      "Elapsed time: 44\n",
      "Fitting 5 folds for each of 10 candidates, totalling 50 fits\n",
      "16_best_score: 0.8377684274294444\n",
      "Elapsed time: 45\n",
      "Fitting 5 folds for each of 10 candidates, totalling 50 fits\n",
      "17_best_score: 0.8328759068877158\n",
      "Elapsed time: 21\n",
      "Fitting 5 folds for each of 10 candidates, totalling 50 fits\n",
      "18_best_score: 0.8324949556093623\n",
      "Elapsed time: 13\n",
      "Fitting 5 folds for each of 10 candidates, totalling 50 fits\n",
      "19_best_score: 0.8303746665984952\n",
      "Elapsed time: 27\n",
      "Fitting 5 folds for each of 10 candidates, totalling 50 fits\n",
      "20_best_score: 0.8396926213086509\n",
      "Elapsed time: 38\n",
      "Fitting 5 folds for each of 10 candidates, totalling 50 fits\n",
      "21_best_score: 0.8408134166523997\n",
      "Elapsed time: 23\n",
      "Fitting 5 folds for each of 10 candidates, totalling 50 fits\n",
      "22_best_score: 0.8465923591015571\n",
      "Elapsed time: 32\n",
      "Fitting 5 folds for each of 10 candidates, totalling 50 fits\n",
      "23_best_score: 0.8507701457032413\n",
      "Elapsed time: 20\n",
      "Fitting 5 folds for each of 10 candidates, totalling 50 fits\n",
      "24_best_score: 0.8533884062099416\n",
      "Elapsed time: 43\n",
      "Fitting 5 folds for each of 10 candidates, totalling 50 fits\n",
      "25_best_score: 0.8653278474399164\n",
      "Elapsed time: 41\n",
      "Fitting 5 folds for each of 10 candidates, totalling 50 fits\n",
      "26_best_score: 0.8568169451218284\n",
      "Elapsed time: 43\n"
     ]
    }
   ],
   "source": [
    "# train a gbm classifier\n",
    "for wk in weeks_range:\n",
    "    start = time.perf_counter()\n",
    "\n",
    "    sv = GradientBoostingClassifier()\n",
    "\n",
    "    X_train = df_train_sets[df_train_sets.index.get_level_values(3) == wk][feature_cols]\n",
    "    drop_cols = X_train.columns[X_train.isna().any()].tolist()\n",
    "    X_train.drop(drop_cols, axis=1, inplace=True)\n",
    "    X_train = pd.get_dummies(X_train, columns=['market_name'])\n",
    "\n",
    "    dcf= DropCorrelatedFeatures(threshold=0.7)\n",
    "    X_train = dcf.fit_transform(X_train)\n",
    "\n",
    "    df_y_temp = df_train_sets[df_train_sets.index.get_level_values(3) == wk][target_cols[0]]\n",
    "    y_train = df_y_temp\n",
    "    # y_train = df_y_temp.to_records(index=False)\n",
    "\n",
    "    # train gbm model\n",
    "    sv_model = RandomizedSearchCV(estimator=sv, param_distributions=param_grid_gbm_clf, scoring='roc_auc',\n",
    "                                  cv=split_number, verbose=1, n_iter=10, n_jobs=-1)\n",
    "    sv_model.fit(X_train, y_train)\n",
    "    best_estimators_gbm[wk] = sv_model.best_estimator_\n",
    "    stop = time.perf_counter()\n",
    "    print(str(wk) + '_' + 'best_score: ' + f'{sv_model.best_score_}')\n",
    "    print('Elapsed time: '  + str(int((stop-start))))"
   ],
   "metadata": {
    "collapsed": false
   }
  },
  {
   "cell_type": "code",
   "execution_count": 33,
   "outputs": [
    {
     "data": {
      "text/plain": "                                                      artist_format_spins_am_pm_dr_13wk_lag2_std  \\\nmediabase_id call_letters week_dt    weeks_since_hit                                               \n2638062      WXXL-FM      2021-01-17 1.0                                             1596.437681   \n2691407      WHTZ-FM      2022-01-02 1.0                                             1156.636115   \n2831030      WKST-FM      2022-11-20 1.0                                             1948.095645   \n2797282      WXKS-FM      2022-05-22 1.0                                             1962.706974   \n2550239      KBKS-FM      2020-08-16 1.0                                             1100.998876   \n...                                                                                          ...   \n2697903      WWPW-FM      2021-08-22 1.0                                             3734.987674   \n2550239      WIOQ-FM      2020-06-07 1.0                                              381.599367   \n2720462      WDCG-FM      2021-09-19 1.0                                             2561.793684   \n2744465      WKFS-FM      2022-06-26 1.0                                              958.197139   \n2522450      KZHT-FM      2020-01-12 1.0                                             1857.735577   \n\n                                                      thumbs_down_count_13wk_lag1_max  \\\nmediabase_id call_letters week_dt    weeks_since_hit                                    \n2638062      WXXL-FM      2021-01-17 1.0                                          0.0   \n2691407      WHTZ-FM      2022-01-02 1.0                                          0.0   \n2831030      WKST-FM      2022-11-20 1.0                                          0.0   \n2797282      WXKS-FM      2022-05-22 1.0                                          0.0   \n2550239      KBKS-FM      2020-08-16 1.0                                        972.0   \n...                                                                               ...   \n2697903      WWPW-FM      2021-08-22 1.0                                          0.0   \n2550239      WIOQ-FM      2020-06-07 1.0                                       1088.0   \n2720462      WDCG-FM      2021-09-19 1.0                                          0.0   \n2744465      WKFS-FM      2022-06-26 1.0                                          0.0   \n2522450      KZHT-FM      2020-01-12 1.0                                       2064.0   \n\n                                                      thumbs_up_count_26wk_lag2_max  \\\nmediabase_id call_letters week_dt    weeks_since_hit                                  \n2638062      WXXL-FM      2021-01-17 1.0                                        0.0   \n2691407      WHTZ-FM      2022-01-02 1.0                                        0.0   \n2831030      WKST-FM      2022-11-20 1.0                                        0.0   \n2797282      WXKS-FM      2022-05-22 1.0                                        0.0   \n2550239      KBKS-FM      2020-08-16 1.0                                     7137.0   \n...                                                                             ...   \n2697903      WWPW-FM      2021-08-22 1.0                                        0.0   \n2550239      WIOQ-FM      2020-06-07 1.0                                     5067.0   \n2720462      WDCG-FM      2021-09-19 1.0                                        0.0   \n2744465      WKFS-FM      2022-06-26 1.0                                        0.0   \n2522450      KZHT-FM      2020-01-12 1.0                                    10674.0   \n\n                                                      song_format_spins_non_on_13wk_lag1_mean  \\\nmediabase_id call_letters week_dt    weeks_since_hit                                            \n2638062      WXXL-FM      2021-01-17 1.0                                         11359.769231   \n2691407      WHTZ-FM      2022-01-02 1.0                                          7063.230769   \n2831030      WKST-FM      2022-11-20 1.0                                          6056.615385   \n2797282      WXKS-FM      2022-05-22 1.0                                          7105.800000   \n2550239      KBKS-FM      2020-08-16 1.0                                          7634.769231   \n...                                                                                       ...   \n2697903      WWPW-FM      2021-08-22 1.0                                         13773.153846   \n2550239      WIOQ-FM      2020-06-07 1.0                                          3326.538462   \n2720462      WDCG-FM      2021-09-19 1.0                                         12386.076923   \n2744465      WKFS-FM      2022-06-26 1.0                                         14879.461538   \n2522450      KZHT-FM      2020-01-12 1.0                                         14433.384615   \n\n                                                      song_market_spins_non_on_4wk_lag2_mean  \\\nmediabase_id call_letters week_dt    weeks_since_hit                                           \n2638062      WXXL-FM      2021-01-17 1.0                                              164.25   \n2691407      WHTZ-FM      2022-01-02 1.0                                               67.75   \n2831030      WKST-FM      2022-11-20 1.0                                              170.50   \n2797282      WXKS-FM      2022-05-22 1.0                                              103.00   \n2550239      KBKS-FM      2020-08-16 1.0                                              195.50   \n...                                                                                      ...   \n2697903      WWPW-FM      2021-08-22 1.0                                              179.75   \n2550239      WIOQ-FM      2020-06-07 1.0                                               80.75   \n2720462      WDCG-FM      2021-09-19 1.0                                              162.00   \n2744465      WKFS-FM      2022-06-26 1.0                                              138.75   \n2522450      KZHT-FM      2020-01-12 1.0                                              400.25   \n\n                                                      market_spins_ddl_sens_26wk_lag1_median  \\\nmediabase_id call_letters week_dt    weeks_since_hit                                           \n2638062      WXXL-FM      2021-01-17 1.0                                            0.526984   \n2691407      WHTZ-FM      2022-01-02 1.0                                           -0.670139   \n2831030      WKST-FM      2022-11-20 1.0                                            0.000000   \n2797282      WXKS-FM      2022-05-22 1.0                                           -0.000000   \n2550239      KBKS-FM      2020-08-16 1.0                                            0.058642   \n...                                                                                      ...   \n2697903      WWPW-FM      2021-08-22 1.0                                            0.198611   \n2550239      WIOQ-FM      2020-06-07 1.0                                            1.376290   \n2720462      WDCG-FM      2021-09-19 1.0                                            0.419872   \n2744465      WKFS-FM      2022-06-26 1.0                                            4.099206   \n2522450      KZHT-FM      2020-01-12 1.0                                           -0.328383   \n\n                                                      completed_count_8wk_lag1_min  \\\nmediabase_id call_letters week_dt    weeks_since_hit                                 \n2638062      WXXL-FM      2021-01-17 1.0                                       6.0   \n2691407      WHTZ-FM      2022-01-02 1.0                                       6.0   \n2831030      WKST-FM      2022-11-20 1.0                                       6.0   \n2797282      WXKS-FM      2022-05-22 1.0                                       6.0   \n2550239      KBKS-FM      2020-08-16 1.0                                  232641.0   \n...                                                                            ...   \n2697903      WWPW-FM      2021-08-22 1.0                                       6.0   \n2550239      WIOQ-FM      2020-06-07 1.0                                  204808.0   \n2720462      WDCG-FM      2021-09-19 1.0                                       6.0   \n2744465      WKFS-FM      2022-06-26 1.0                                       6.0   \n2522450      KZHT-FM      2020-01-12 1.0                                  179673.0   \n\n                                                      song_format_spins_am_pm_dr_1wk_lag2_mean  \\\nmediabase_id call_letters week_dt    weeks_since_hit                                             \n2638062      WXXL-FM      2021-01-17 1.0                                                7588.0   \n2691407      WHTZ-FM      2022-01-02 1.0                                                6559.0   \n2831030      WKST-FM      2022-11-20 1.0                                                7030.0   \n2797282      WXKS-FM      2022-05-22 1.0                                                5915.0   \n2550239      KBKS-FM      2020-08-16 1.0                                                7640.0   \n...                                                                                        ...   \n2697903      WWPW-FM      2021-08-22 1.0                                               10583.0   \n2550239      WIOQ-FM      2020-06-07 1.0                                                3649.0   \n2720462      WDCG-FM      2021-09-19 1.0                                               10756.0   \n2744465      WKFS-FM      2022-06-26 1.0                                                9031.0   \n2522450      KZHT-FM      2020-01-12 1.0                                               11115.0   \n\n                                                      artist_format_spins_am_pm_dr_26wk_lag2_std  \\\nmediabase_id call_letters week_dt    weeks_since_hit                                               \n2638062      WXXL-FM      2021-01-17 1.0                                             2240.410293   \n2691407      WHTZ-FM      2022-01-02 1.0                                             1657.672376   \n2831030      WKST-FM      2022-11-20 1.0                                             2015.214139   \n2797282      WXKS-FM      2022-05-22 1.0                                             1962.706974   \n2550239      KBKS-FM      2020-08-16 1.0                                             1229.682976   \n...                                                                                          ...   \n2697903      WWPW-FM      2021-08-22 1.0                                             4859.487387   \n2550239      WIOQ-FM      2020-06-07 1.0                                             1099.133665   \n2720462      WDCG-FM      2021-09-19 1.0                                             2561.793684   \n2744465      WKFS-FM      2022-06-26 1.0                                             4310.519814   \n2522450      KZHT-FM      2020-01-12 1.0                                             2570.007622   \n\n                                                      thumbs_up_count_8wk_lag2_mean  \\\nmediabase_id call_letters week_dt    weeks_since_hit                                  \n2638062      WXXL-FM      2021-01-17 1.0                                      0.000   \n2691407      WHTZ-FM      2022-01-02 1.0                                      0.000   \n2831030      WKST-FM      2022-11-20 1.0                                      0.000   \n2797282      WXKS-FM      2022-05-22 1.0                                      0.000   \n2550239      KBKS-FM      2020-08-16 1.0                                   6472.125   \n...                                                                             ...   \n2697903      WWPW-FM      2021-08-22 1.0                                      0.000   \n2550239      WIOQ-FM      2020-06-07 1.0                                   4706.000   \n2720462      WDCG-FM      2021-09-19 1.0                                      0.000   \n2744465      WKFS-FM      2022-06-26 1.0                                      0.000   \n2522450      KZHT-FM      2020-01-12 1.0                                   5104.375   \n\n                                                      ...  \\\nmediabase_id call_letters week_dt    weeks_since_hit  ...   \n2638062      WXXL-FM      2021-01-17 1.0              ...   \n2691407      WHTZ-FM      2022-01-02 1.0              ...   \n2831030      WKST-FM      2022-11-20 1.0              ...   \n2797282      WXKS-FM      2022-05-22 1.0              ...   \n2550239      KBKS-FM      2020-08-16 1.0              ...   \n...                                                   ...   \n2697903      WWPW-FM      2021-08-22 1.0              ...   \n2550239      WIOQ-FM      2020-06-07 1.0              ...   \n2720462      WDCG-FM      2021-09-19 1.0              ...   \n2744465      WKFS-FM      2022-06-26 1.0              ...   \n2522450      KZHT-FM      2020-01-12 1.0              ...   \n\n                                                      market_name_Pittsburgh  \\\nmediabase_id call_letters week_dt    weeks_since_hit                           \n2638062      WXXL-FM      2021-01-17 1.0                                   0   \n2691407      WHTZ-FM      2022-01-02 1.0                                   0   \n2831030      WKST-FM      2022-11-20 1.0                                   1   \n2797282      WXKS-FM      2022-05-22 1.0                                   0   \n2550239      KBKS-FM      2020-08-16 1.0                                   0   \n...                                                                      ...   \n2697903      WWPW-FM      2021-08-22 1.0                                   0   \n2550239      WIOQ-FM      2020-06-07 1.0                                   0   \n2720462      WDCG-FM      2021-09-19 1.0                                   0   \n2744465      WKFS-FM      2022-06-26 1.0                                   0   \n2522450      KZHT-FM      2020-01-12 1.0                                   0   \n\n                                                      market_name_Portland, OR  \\\nmediabase_id call_letters week_dt    weeks_since_hit                             \n2638062      WXXL-FM      2021-01-17 1.0                                     0   \n2691407      WHTZ-FM      2022-01-02 1.0                                     0   \n2831030      WKST-FM      2022-11-20 1.0                                     0   \n2797282      WXKS-FM      2022-05-22 1.0                                     0   \n2550239      KBKS-FM      2020-08-16 1.0                                     0   \n...                                                                        ...   \n2697903      WWPW-FM      2021-08-22 1.0                                     0   \n2550239      WIOQ-FM      2020-06-07 1.0                                     0   \n2720462      WDCG-FM      2021-09-19 1.0                                     0   \n2744465      WKFS-FM      2022-06-26 1.0                                     0   \n2522450      KZHT-FM      2020-01-12 1.0                                     0   \n\n                                                      market_name_Raleigh  \\\nmediabase_id call_letters week_dt    weeks_since_hit                        \n2638062      WXXL-FM      2021-01-17 1.0                                0   \n2691407      WHTZ-FM      2022-01-02 1.0                                0   \n2831030      WKST-FM      2022-11-20 1.0                                0   \n2797282      WXKS-FM      2022-05-22 1.0                                0   \n2550239      KBKS-FM      2020-08-16 1.0                                0   \n...                                                                   ...   \n2697903      WWPW-FM      2021-08-22 1.0                                0   \n2550239      WIOQ-FM      2020-06-07 1.0                                0   \n2720462      WDCG-FM      2021-09-19 1.0                                1   \n2744465      WKFS-FM      2022-06-26 1.0                                0   \n2522450      KZHT-FM      2020-01-12 1.0                                0   \n\n                                                      market_name_Salt Lake City  \\\nmediabase_id call_letters week_dt    weeks_since_hit                               \n2638062      WXXL-FM      2021-01-17 1.0                                       0   \n2691407      WHTZ-FM      2022-01-02 1.0                                       0   \n2831030      WKST-FM      2022-11-20 1.0                                       0   \n2797282      WXKS-FM      2022-05-22 1.0                                       0   \n2550239      KBKS-FM      2020-08-16 1.0                                       0   \n...                                                                          ...   \n2697903      WWPW-FM      2021-08-22 1.0                                       0   \n2550239      WIOQ-FM      2020-06-07 1.0                                       0   \n2720462      WDCG-FM      2021-09-19 1.0                                       0   \n2744465      WKFS-FM      2022-06-26 1.0                                       0   \n2522450      KZHT-FM      2020-01-12 1.0                                       1   \n\n                                                      market_name_San Diego  \\\nmediabase_id call_letters week_dt    weeks_since_hit                          \n2638062      WXXL-FM      2021-01-17 1.0                                  0   \n2691407      WHTZ-FM      2022-01-02 1.0                                  0   \n2831030      WKST-FM      2022-11-20 1.0                                  0   \n2797282      WXKS-FM      2022-05-22 1.0                                  0   \n2550239      KBKS-FM      2020-08-16 1.0                                  0   \n...                                                                     ...   \n2697903      WWPW-FM      2021-08-22 1.0                                  0   \n2550239      WIOQ-FM      2020-06-07 1.0                                  0   \n2720462      WDCG-FM      2021-09-19 1.0                                  0   \n2744465      WKFS-FM      2022-06-26 1.0                                  0   \n2522450      KZHT-FM      2020-01-12 1.0                                  0   \n\n                                                      market_name_San Francisco  \\\nmediabase_id call_letters week_dt    weeks_since_hit                              \n2638062      WXXL-FM      2021-01-17 1.0                                      0   \n2691407      WHTZ-FM      2022-01-02 1.0                                      0   \n2831030      WKST-FM      2022-11-20 1.0                                      0   \n2797282      WXKS-FM      2022-05-22 1.0                                      0   \n2550239      KBKS-FM      2020-08-16 1.0                                      0   \n...                                                                         ...   \n2697903      WWPW-FM      2021-08-22 1.0                                      0   \n2550239      WIOQ-FM      2020-06-07 1.0                                      0   \n2720462      WDCG-FM      2021-09-19 1.0                                      0   \n2744465      WKFS-FM      2022-06-26 1.0                                      0   \n2522450      KZHT-FM      2020-01-12 1.0                                      0   \n\n                                                      market_name_Seattle  \\\nmediabase_id call_letters week_dt    weeks_since_hit                        \n2638062      WXXL-FM      2021-01-17 1.0                                0   \n2691407      WHTZ-FM      2022-01-02 1.0                                0   \n2831030      WKST-FM      2022-11-20 1.0                                0   \n2797282      WXKS-FM      2022-05-22 1.0                                0   \n2550239      KBKS-FM      2020-08-16 1.0                                1   \n...                                                                   ...   \n2697903      WWPW-FM      2021-08-22 1.0                                0   \n2550239      WIOQ-FM      2020-06-07 1.0                                0   \n2720462      WDCG-FM      2021-09-19 1.0                                0   \n2744465      WKFS-FM      2022-06-26 1.0                                0   \n2522450      KZHT-FM      2020-01-12 1.0                                0   \n\n                                                      market_name_St. Louis  \\\nmediabase_id call_letters week_dt    weeks_since_hit                          \n2638062      WXXL-FM      2021-01-17 1.0                                  0   \n2691407      WHTZ-FM      2022-01-02 1.0                                  0   \n2831030      WKST-FM      2022-11-20 1.0                                  0   \n2797282      WXKS-FM      2022-05-22 1.0                                  0   \n2550239      KBKS-FM      2020-08-16 1.0                                  0   \n...                                                                     ...   \n2697903      WWPW-FM      2021-08-22 1.0                                  0   \n2550239      WIOQ-FM      2020-06-07 1.0                                  0   \n2720462      WDCG-FM      2021-09-19 1.0                                  0   \n2744465      WKFS-FM      2022-06-26 1.0                                  0   \n2522450      KZHT-FM      2020-01-12 1.0                                  0   \n\n                                                      market_name_Tampa  \\\nmediabase_id call_letters week_dt    weeks_since_hit                      \n2638062      WXXL-FM      2021-01-17 1.0                              0   \n2691407      WHTZ-FM      2022-01-02 1.0                              0   \n2831030      WKST-FM      2022-11-20 1.0                              0   \n2797282      WXKS-FM      2022-05-22 1.0                              0   \n2550239      KBKS-FM      2020-08-16 1.0                              0   \n...                                                                 ...   \n2697903      WWPW-FM      2021-08-22 1.0                              0   \n2550239      WIOQ-FM      2020-06-07 1.0                              0   \n2720462      WDCG-FM      2021-09-19 1.0                              0   \n2744465      WKFS-FM      2022-06-26 1.0                              0   \n2522450      KZHT-FM      2020-01-12 1.0                              0   \n\n                                                      market_name_Washington, DC  \nmediabase_id call_letters week_dt    weeks_since_hit                              \n2638062      WXXL-FM      2021-01-17 1.0                                       0  \n2691407      WHTZ-FM      2022-01-02 1.0                                       0  \n2831030      WKST-FM      2022-11-20 1.0                                       0  \n2797282      WXKS-FM      2022-05-22 1.0                                       0  \n2550239      KBKS-FM      2020-08-16 1.0                                       0  \n...                                                                          ...  \n2697903      WWPW-FM      2021-08-22 1.0                                       0  \n2550239      WIOQ-FM      2020-06-07 1.0                                       0  \n2720462      WDCG-FM      2021-09-19 1.0                                       0  \n2744465      WKFS-FM      2022-06-26 1.0                                       0  \n2522450      KZHT-FM      2020-01-12 1.0                                       0  \n\n[1021 rows x 1067 columns]",
      "text/html": "<div>\n<style scoped>\n    .dataframe tbody tr th:only-of-type {\n        vertical-align: middle;\n    }\n\n    .dataframe tbody tr th {\n        vertical-align: top;\n    }\n\n    .dataframe thead th {\n        text-align: right;\n    }\n</style>\n<table border=\"1\" class=\"dataframe\">\n  <thead>\n    <tr style=\"text-align: right;\">\n      <th></th>\n      <th></th>\n      <th></th>\n      <th></th>\n      <th>artist_format_spins_am_pm_dr_13wk_lag2_std</th>\n      <th>thumbs_down_count_13wk_lag1_max</th>\n      <th>thumbs_up_count_26wk_lag2_max</th>\n      <th>song_format_spins_non_on_13wk_lag1_mean</th>\n      <th>song_market_spins_non_on_4wk_lag2_mean</th>\n      <th>market_spins_ddl_sens_26wk_lag1_median</th>\n      <th>completed_count_8wk_lag1_min</th>\n      <th>song_format_spins_am_pm_dr_1wk_lag2_mean</th>\n      <th>artist_format_spins_am_pm_dr_26wk_lag2_std</th>\n      <th>thumbs_up_count_8wk_lag2_mean</th>\n      <th>...</th>\n      <th>market_name_Pittsburgh</th>\n      <th>market_name_Portland, OR</th>\n      <th>market_name_Raleigh</th>\n      <th>market_name_Salt Lake City</th>\n      <th>market_name_San Diego</th>\n      <th>market_name_San Francisco</th>\n      <th>market_name_Seattle</th>\n      <th>market_name_St. Louis</th>\n      <th>market_name_Tampa</th>\n      <th>market_name_Washington, DC</th>\n    </tr>\n    <tr>\n      <th>mediabase_id</th>\n      <th>call_letters</th>\n      <th>week_dt</th>\n      <th>weeks_since_hit</th>\n      <th></th>\n      <th></th>\n      <th></th>\n      <th></th>\n      <th></th>\n      <th></th>\n      <th></th>\n      <th></th>\n      <th></th>\n      <th></th>\n      <th></th>\n      <th></th>\n      <th></th>\n      <th></th>\n      <th></th>\n      <th></th>\n      <th></th>\n      <th></th>\n      <th></th>\n      <th></th>\n      <th></th>\n    </tr>\n  </thead>\n  <tbody>\n    <tr>\n      <th>2638062</th>\n      <th>WXXL-FM</th>\n      <th>2021-01-17</th>\n      <th>1.0</th>\n      <td>1596.437681</td>\n      <td>0.0</td>\n      <td>0.0</td>\n      <td>11359.769231</td>\n      <td>164.25</td>\n      <td>0.526984</td>\n      <td>6.0</td>\n      <td>7588.0</td>\n      <td>2240.410293</td>\n      <td>0.000</td>\n      <td>...</td>\n      <td>0</td>\n      <td>0</td>\n      <td>0</td>\n      <td>0</td>\n      <td>0</td>\n      <td>0</td>\n      <td>0</td>\n      <td>0</td>\n      <td>0</td>\n      <td>0</td>\n    </tr>\n    <tr>\n      <th>2691407</th>\n      <th>WHTZ-FM</th>\n      <th>2022-01-02</th>\n      <th>1.0</th>\n      <td>1156.636115</td>\n      <td>0.0</td>\n      <td>0.0</td>\n      <td>7063.230769</td>\n      <td>67.75</td>\n      <td>-0.670139</td>\n      <td>6.0</td>\n      <td>6559.0</td>\n      <td>1657.672376</td>\n      <td>0.000</td>\n      <td>...</td>\n      <td>0</td>\n      <td>0</td>\n      <td>0</td>\n      <td>0</td>\n      <td>0</td>\n      <td>0</td>\n      <td>0</td>\n      <td>0</td>\n      <td>0</td>\n      <td>0</td>\n    </tr>\n    <tr>\n      <th>2831030</th>\n      <th>WKST-FM</th>\n      <th>2022-11-20</th>\n      <th>1.0</th>\n      <td>1948.095645</td>\n      <td>0.0</td>\n      <td>0.0</td>\n      <td>6056.615385</td>\n      <td>170.50</td>\n      <td>0.000000</td>\n      <td>6.0</td>\n      <td>7030.0</td>\n      <td>2015.214139</td>\n      <td>0.000</td>\n      <td>...</td>\n      <td>1</td>\n      <td>0</td>\n      <td>0</td>\n      <td>0</td>\n      <td>0</td>\n      <td>0</td>\n      <td>0</td>\n      <td>0</td>\n      <td>0</td>\n      <td>0</td>\n    </tr>\n    <tr>\n      <th>2797282</th>\n      <th>WXKS-FM</th>\n      <th>2022-05-22</th>\n      <th>1.0</th>\n      <td>1962.706974</td>\n      <td>0.0</td>\n      <td>0.0</td>\n      <td>7105.800000</td>\n      <td>103.00</td>\n      <td>-0.000000</td>\n      <td>6.0</td>\n      <td>5915.0</td>\n      <td>1962.706974</td>\n      <td>0.000</td>\n      <td>...</td>\n      <td>0</td>\n      <td>0</td>\n      <td>0</td>\n      <td>0</td>\n      <td>0</td>\n      <td>0</td>\n      <td>0</td>\n      <td>0</td>\n      <td>0</td>\n      <td>0</td>\n    </tr>\n    <tr>\n      <th>2550239</th>\n      <th>KBKS-FM</th>\n      <th>2020-08-16</th>\n      <th>1.0</th>\n      <td>1100.998876</td>\n      <td>972.0</td>\n      <td>7137.0</td>\n      <td>7634.769231</td>\n      <td>195.50</td>\n      <td>0.058642</td>\n      <td>232641.0</td>\n      <td>7640.0</td>\n      <td>1229.682976</td>\n      <td>6472.125</td>\n      <td>...</td>\n      <td>0</td>\n      <td>0</td>\n      <td>0</td>\n      <td>0</td>\n      <td>0</td>\n      <td>0</td>\n      <td>1</td>\n      <td>0</td>\n      <td>0</td>\n      <td>0</td>\n    </tr>\n    <tr>\n      <th>...</th>\n      <th>...</th>\n      <th>...</th>\n      <th>...</th>\n      <td>...</td>\n      <td>...</td>\n      <td>...</td>\n      <td>...</td>\n      <td>...</td>\n      <td>...</td>\n      <td>...</td>\n      <td>...</td>\n      <td>...</td>\n      <td>...</td>\n      <td>...</td>\n      <td>...</td>\n      <td>...</td>\n      <td>...</td>\n      <td>...</td>\n      <td>...</td>\n      <td>...</td>\n      <td>...</td>\n      <td>...</td>\n      <td>...</td>\n      <td>...</td>\n    </tr>\n    <tr>\n      <th>2697903</th>\n      <th>WWPW-FM</th>\n      <th>2021-08-22</th>\n      <th>1.0</th>\n      <td>3734.987674</td>\n      <td>0.0</td>\n      <td>0.0</td>\n      <td>13773.153846</td>\n      <td>179.75</td>\n      <td>0.198611</td>\n      <td>6.0</td>\n      <td>10583.0</td>\n      <td>4859.487387</td>\n      <td>0.000</td>\n      <td>...</td>\n      <td>0</td>\n      <td>0</td>\n      <td>0</td>\n      <td>0</td>\n      <td>0</td>\n      <td>0</td>\n      <td>0</td>\n      <td>0</td>\n      <td>0</td>\n      <td>0</td>\n    </tr>\n    <tr>\n      <th>2550239</th>\n      <th>WIOQ-FM</th>\n      <th>2020-06-07</th>\n      <th>1.0</th>\n      <td>381.599367</td>\n      <td>1088.0</td>\n      <td>5067.0</td>\n      <td>3326.538462</td>\n      <td>80.75</td>\n      <td>1.376290</td>\n      <td>204808.0</td>\n      <td>3649.0</td>\n      <td>1099.133665</td>\n      <td>4706.000</td>\n      <td>...</td>\n      <td>0</td>\n      <td>0</td>\n      <td>0</td>\n      <td>0</td>\n      <td>0</td>\n      <td>0</td>\n      <td>0</td>\n      <td>0</td>\n      <td>0</td>\n      <td>0</td>\n    </tr>\n    <tr>\n      <th>2720462</th>\n      <th>WDCG-FM</th>\n      <th>2021-09-19</th>\n      <th>1.0</th>\n      <td>2561.793684</td>\n      <td>0.0</td>\n      <td>0.0</td>\n      <td>12386.076923</td>\n      <td>162.00</td>\n      <td>0.419872</td>\n      <td>6.0</td>\n      <td>10756.0</td>\n      <td>2561.793684</td>\n      <td>0.000</td>\n      <td>...</td>\n      <td>0</td>\n      <td>0</td>\n      <td>1</td>\n      <td>0</td>\n      <td>0</td>\n      <td>0</td>\n      <td>0</td>\n      <td>0</td>\n      <td>0</td>\n      <td>0</td>\n    </tr>\n    <tr>\n      <th>2744465</th>\n      <th>WKFS-FM</th>\n      <th>2022-06-26</th>\n      <th>1.0</th>\n      <td>958.197139</td>\n      <td>0.0</td>\n      <td>0.0</td>\n      <td>14879.461538</td>\n      <td>138.75</td>\n      <td>4.099206</td>\n      <td>6.0</td>\n      <td>9031.0</td>\n      <td>4310.519814</td>\n      <td>0.000</td>\n      <td>...</td>\n      <td>0</td>\n      <td>0</td>\n      <td>0</td>\n      <td>0</td>\n      <td>0</td>\n      <td>0</td>\n      <td>0</td>\n      <td>0</td>\n      <td>0</td>\n      <td>0</td>\n    </tr>\n    <tr>\n      <th>2522450</th>\n      <th>KZHT-FM</th>\n      <th>2020-01-12</th>\n      <th>1.0</th>\n      <td>1857.735577</td>\n      <td>2064.0</td>\n      <td>10674.0</td>\n      <td>14433.384615</td>\n      <td>400.25</td>\n      <td>-0.328383</td>\n      <td>179673.0</td>\n      <td>11115.0</td>\n      <td>2570.007622</td>\n      <td>5104.375</td>\n      <td>...</td>\n      <td>0</td>\n      <td>0</td>\n      <td>0</td>\n      <td>1</td>\n      <td>0</td>\n      <td>0</td>\n      <td>0</td>\n      <td>0</td>\n      <td>0</td>\n      <td>0</td>\n    </tr>\n  </tbody>\n</table>\n<p>1021 rows × 1067 columns</p>\n</div>"
     },
     "execution_count": 33,
     "metadata": {},
     "output_type": "execute_result"
    }
   ],
   "source": [
    "X_train"
   ],
   "metadata": {
    "collapsed": false
   }
  },
  {
   "cell_type": "markdown",
   "source": [
    "#### train a RandomSurvivalForest"
   ],
   "metadata": {
    "collapsed": false
   }
  },
  {
   "cell_type": "code",
   "execution_count": 7,
   "outputs": [
    {
     "name": "stdout",
     "output_type": "stream",
     "text": [
      "Fitting 5 folds for each of 50 candidates, totalling 250 fits\n"
     ]
    },
    {
     "name": "stderr",
     "output_type": "stream",
     "text": [
      "/home/ubuntu/PycharmProjects/adds-early-burnout-warning-model/venv/lib/python3.8/site-packages/sklearn/model_selection/_validation.py:372: FitFailedWarning: \n",
      "60 fits failed out of a total of 250.\n",
      "The score on these train-test partitions for these parameters will be set to nan.\n",
      "If these failures are not expected, you can try to debug them by setting error_score='raise'.\n",
      "\n",
      "Below are more details about the failures:\n",
      "--------------------------------------------------------------------------------\n",
      "60 fits failed with the following error:\n",
      "Traceback (most recent call last):\n",
      "  File \"/home/ubuntu/PycharmProjects/adds-early-burnout-warning-model/venv/lib/python3.8/site-packages/sklearn/model_selection/_validation.py\", line 680, in _fit_and_score\n",
      "    estimator.fit(X_train, y_train, **fit_params)\n",
      "  File \"/home/ubuntu/PycharmProjects/adds-early-burnout-warning-model/venv/lib/python3.8/site-packages/sksurv/metrics.py\", line 766, in fit\n",
      "    self.estimator_ = self.estimator.fit(X, y, **fit_params)\n",
      "  File \"/home/ubuntu/PycharmProjects/adds-early-burnout-warning-model/venv/lib/python3.8/site-packages/sksurv/ensemble/forest.py\", line 110, in fit\n",
      "    raise ValueError(\"Out of bag estimation only available\"\n",
      "ValueError: Out of bag estimation only available if bootstrap=True\n",
      "\n",
      "  warnings.warn(some_fits_failed_message, FitFailedWarning)\n",
      "/home/ubuntu/PycharmProjects/adds-early-burnout-warning-model/venv/lib/python3.8/site-packages/sklearn/model_selection/_search.py:969: UserWarning: One or more of the test scores are non-finite: [0.68101153 0.6837611  0.69193771        nan 0.684348   0.69089648\n",
      " 0.70075149        nan 0.69878734 0.68468394 0.69077447 0.65806328\n",
      " 0.69231074        nan 0.68568636 0.68812951 0.70953241 0.6823709\n",
      " 0.69031805 0.69772357 0.70671683 0.69229346 0.68742863 0.70439857\n",
      " 0.65240028        nan 0.70734698        nan 0.69355999 0.69665881\n",
      " 0.69051376        nan 0.70798627 0.69199946 0.6927115  0.69084417\n",
      " 0.55322652 0.68784632        nan 0.70752769 0.6372222         nan\n",
      "        nan 0.7083481         nan        nan 0.65881287 0.68574887\n",
      " 0.69044381        nan]\n",
      "  warnings.warn(\n"
     ]
    },
    {
     "name": "stdout",
     "output_type": "stream",
     "text": [
      "0_best_score: 0.7095324075023023\n",
      "Elapsed time: 2460\n",
      "0_test_score: 0.7130665297608472\n",
      "Fitting 5 folds for each of 50 candidates, totalling 250 fits\n"
     ]
    },
    {
     "ename": "KeyboardInterrupt",
     "evalue": "",
     "output_type": "error",
     "traceback": [
      "\u001B[0;31m---------------------------------------------------------------------------\u001B[0m",
      "\u001B[0;31mKeyboardInterrupt\u001B[0m                         Traceback (most recent call last)",
      "\u001B[0;32m/tmp/ipykernel_5096/999770507.py\u001B[0m in \u001B[0;36m<cell line: 2>\u001B[0;34m()\u001B[0m\n\u001B[1;32m     21\u001B[0m     sv_model = RandomizedSearchCV(estimator=as_concordance_index_ipcw_scorer(sv), param_distributions=param_grid_rsf,\n\u001B[1;32m     22\u001B[0m                                   cv=cv, verbose=1, n_iter=50, n_jobs=-1)\n\u001B[0;32m---> 23\u001B[0;31m     \u001B[0msv_model\u001B[0m\u001B[0;34m.\u001B[0m\u001B[0mfit\u001B[0m\u001B[0;34m(\u001B[0m\u001B[0mX_train\u001B[0m\u001B[0;34m,\u001B[0m \u001B[0my_train\u001B[0m\u001B[0;34m)\u001B[0m\u001B[0;34m\u001B[0m\u001B[0;34m\u001B[0m\u001B[0m\n\u001B[0m\u001B[1;32m     24\u001B[0m     \u001B[0mbest_estimators_rsf\u001B[0m\u001B[0;34m[\u001B[0m\u001B[0mwk\u001B[0m\u001B[0;34m]\u001B[0m \u001B[0;34m=\u001B[0m \u001B[0msv_model\u001B[0m\u001B[0;34m.\u001B[0m\u001B[0mbest_estimator_\u001B[0m\u001B[0;34m\u001B[0m\u001B[0;34m\u001B[0m\u001B[0m\n\u001B[1;32m     25\u001B[0m     \u001B[0mstop\u001B[0m \u001B[0;34m=\u001B[0m \u001B[0mtime\u001B[0m\u001B[0;34m.\u001B[0m\u001B[0mperf_counter\u001B[0m\u001B[0;34m(\u001B[0m\u001B[0;34m)\u001B[0m\u001B[0;34m\u001B[0m\u001B[0;34m\u001B[0m\u001B[0m\n",
      "\u001B[0;32m~/PycharmProjects/adds-early-burnout-warning-model/venv/lib/python3.8/site-packages/sklearn/model_selection/_search.py\u001B[0m in \u001B[0;36mfit\u001B[0;34m(self, X, y, groups, **fit_params)\u001B[0m\n\u001B[1;32m    889\u001B[0m                 \u001B[0;32mreturn\u001B[0m \u001B[0mresults\u001B[0m\u001B[0;34m\u001B[0m\u001B[0;34m\u001B[0m\u001B[0m\n\u001B[1;32m    890\u001B[0m \u001B[0;34m\u001B[0m\u001B[0m\n\u001B[0;32m--> 891\u001B[0;31m             \u001B[0mself\u001B[0m\u001B[0;34m.\u001B[0m\u001B[0m_run_search\u001B[0m\u001B[0;34m(\u001B[0m\u001B[0mevaluate_candidates\u001B[0m\u001B[0;34m)\u001B[0m\u001B[0;34m\u001B[0m\u001B[0;34m\u001B[0m\u001B[0m\n\u001B[0m\u001B[1;32m    892\u001B[0m \u001B[0;34m\u001B[0m\u001B[0m\n\u001B[1;32m    893\u001B[0m             \u001B[0;31m# multimetric is determined here because in the case of a callable\u001B[0m\u001B[0;34m\u001B[0m\u001B[0;34m\u001B[0m\u001B[0;34m\u001B[0m\u001B[0m\n",
      "\u001B[0;32m~/PycharmProjects/adds-early-burnout-warning-model/venv/lib/python3.8/site-packages/sklearn/model_selection/_search.py\u001B[0m in \u001B[0;36m_run_search\u001B[0;34m(self, evaluate_candidates)\u001B[0m\n\u001B[1;32m   1764\u001B[0m     \u001B[0;32mdef\u001B[0m \u001B[0m_run_search\u001B[0m\u001B[0;34m(\u001B[0m\u001B[0mself\u001B[0m\u001B[0;34m,\u001B[0m \u001B[0mevaluate_candidates\u001B[0m\u001B[0;34m)\u001B[0m\u001B[0;34m:\u001B[0m\u001B[0;34m\u001B[0m\u001B[0;34m\u001B[0m\u001B[0m\n\u001B[1;32m   1765\u001B[0m         \u001B[0;34m\"\"\"Search n_iter candidates from param_distributions\"\"\"\u001B[0m\u001B[0;34m\u001B[0m\u001B[0;34m\u001B[0m\u001B[0m\n\u001B[0;32m-> 1766\u001B[0;31m         evaluate_candidates(\n\u001B[0m\u001B[1;32m   1767\u001B[0m             ParameterSampler(\n\u001B[1;32m   1768\u001B[0m                 \u001B[0mself\u001B[0m\u001B[0;34m.\u001B[0m\u001B[0mparam_distributions\u001B[0m\u001B[0;34m,\u001B[0m \u001B[0mself\u001B[0m\u001B[0;34m.\u001B[0m\u001B[0mn_iter\u001B[0m\u001B[0;34m,\u001B[0m \u001B[0mrandom_state\u001B[0m\u001B[0;34m=\u001B[0m\u001B[0mself\u001B[0m\u001B[0;34m.\u001B[0m\u001B[0mrandom_state\u001B[0m\u001B[0;34m\u001B[0m\u001B[0;34m\u001B[0m\u001B[0m\n",
      "\u001B[0;32m~/PycharmProjects/adds-early-burnout-warning-model/venv/lib/python3.8/site-packages/sklearn/model_selection/_search.py\u001B[0m in \u001B[0;36mevaluate_candidates\u001B[0;34m(candidate_params, cv, more_results)\u001B[0m\n\u001B[1;32m    836\u001B[0m                     )\n\u001B[1;32m    837\u001B[0m \u001B[0;34m\u001B[0m\u001B[0m\n\u001B[0;32m--> 838\u001B[0;31m                 out = parallel(\n\u001B[0m\u001B[1;32m    839\u001B[0m                     delayed(_fit_and_score)(\n\u001B[1;32m    840\u001B[0m                         \u001B[0mclone\u001B[0m\u001B[0;34m(\u001B[0m\u001B[0mbase_estimator\u001B[0m\u001B[0;34m)\u001B[0m\u001B[0;34m,\u001B[0m\u001B[0;34m\u001B[0m\u001B[0;34m\u001B[0m\u001B[0m\n",
      "\u001B[0;32m~/PycharmProjects/adds-early-burnout-warning-model/venv/lib/python3.8/site-packages/joblib/parallel.py\u001B[0m in \u001B[0;36m__call__\u001B[0;34m(self, iterable)\u001B[0m\n\u001B[1;32m   1096\u001B[0m \u001B[0;34m\u001B[0m\u001B[0m\n\u001B[1;32m   1097\u001B[0m             \u001B[0;32mwith\u001B[0m \u001B[0mself\u001B[0m\u001B[0;34m.\u001B[0m\u001B[0m_backend\u001B[0m\u001B[0;34m.\u001B[0m\u001B[0mretrieval_context\u001B[0m\u001B[0;34m(\u001B[0m\u001B[0;34m)\u001B[0m\u001B[0;34m:\u001B[0m\u001B[0;34m\u001B[0m\u001B[0;34m\u001B[0m\u001B[0m\n\u001B[0;32m-> 1098\u001B[0;31m                 \u001B[0mself\u001B[0m\u001B[0;34m.\u001B[0m\u001B[0mretrieve\u001B[0m\u001B[0;34m(\u001B[0m\u001B[0;34m)\u001B[0m\u001B[0;34m\u001B[0m\u001B[0;34m\u001B[0m\u001B[0m\n\u001B[0m\u001B[1;32m   1099\u001B[0m             \u001B[0;31m# Make sure that we get a last message telling us we are done\u001B[0m\u001B[0;34m\u001B[0m\u001B[0;34m\u001B[0m\u001B[0;34m\u001B[0m\u001B[0m\n\u001B[1;32m   1100\u001B[0m             \u001B[0melapsed_time\u001B[0m \u001B[0;34m=\u001B[0m \u001B[0mtime\u001B[0m\u001B[0;34m.\u001B[0m\u001B[0mtime\u001B[0m\u001B[0;34m(\u001B[0m\u001B[0;34m)\u001B[0m \u001B[0;34m-\u001B[0m \u001B[0mself\u001B[0m\u001B[0;34m.\u001B[0m\u001B[0m_start_time\u001B[0m\u001B[0;34m\u001B[0m\u001B[0;34m\u001B[0m\u001B[0m\n",
      "\u001B[0;32m~/PycharmProjects/adds-early-burnout-warning-model/venv/lib/python3.8/site-packages/joblib/parallel.py\u001B[0m in \u001B[0;36mretrieve\u001B[0;34m(self)\u001B[0m\n\u001B[1;32m    973\u001B[0m             \u001B[0;32mtry\u001B[0m\u001B[0;34m:\u001B[0m\u001B[0;34m\u001B[0m\u001B[0;34m\u001B[0m\u001B[0m\n\u001B[1;32m    974\u001B[0m                 \u001B[0;32mif\u001B[0m \u001B[0mgetattr\u001B[0m\u001B[0;34m(\u001B[0m\u001B[0mself\u001B[0m\u001B[0;34m.\u001B[0m\u001B[0m_backend\u001B[0m\u001B[0;34m,\u001B[0m \u001B[0;34m'supports_timeout'\u001B[0m\u001B[0;34m,\u001B[0m \u001B[0;32mFalse\u001B[0m\u001B[0;34m)\u001B[0m\u001B[0;34m:\u001B[0m\u001B[0;34m\u001B[0m\u001B[0;34m\u001B[0m\u001B[0m\n\u001B[0;32m--> 975\u001B[0;31m                     \u001B[0mself\u001B[0m\u001B[0;34m.\u001B[0m\u001B[0m_output\u001B[0m\u001B[0;34m.\u001B[0m\u001B[0mextend\u001B[0m\u001B[0;34m(\u001B[0m\u001B[0mjob\u001B[0m\u001B[0;34m.\u001B[0m\u001B[0mget\u001B[0m\u001B[0;34m(\u001B[0m\u001B[0mtimeout\u001B[0m\u001B[0;34m=\u001B[0m\u001B[0mself\u001B[0m\u001B[0;34m.\u001B[0m\u001B[0mtimeout\u001B[0m\u001B[0;34m)\u001B[0m\u001B[0;34m)\u001B[0m\u001B[0;34m\u001B[0m\u001B[0;34m\u001B[0m\u001B[0m\n\u001B[0m\u001B[1;32m    976\u001B[0m                 \u001B[0;32melse\u001B[0m\u001B[0;34m:\u001B[0m\u001B[0;34m\u001B[0m\u001B[0;34m\u001B[0m\u001B[0m\n\u001B[1;32m    977\u001B[0m                     \u001B[0mself\u001B[0m\u001B[0;34m.\u001B[0m\u001B[0m_output\u001B[0m\u001B[0;34m.\u001B[0m\u001B[0mextend\u001B[0m\u001B[0;34m(\u001B[0m\u001B[0mjob\u001B[0m\u001B[0;34m.\u001B[0m\u001B[0mget\u001B[0m\u001B[0;34m(\u001B[0m\u001B[0;34m)\u001B[0m\u001B[0;34m)\u001B[0m\u001B[0;34m\u001B[0m\u001B[0;34m\u001B[0m\u001B[0m\n",
      "\u001B[0;32m~/PycharmProjects/adds-early-burnout-warning-model/venv/lib/python3.8/site-packages/joblib/_parallel_backends.py\u001B[0m in \u001B[0;36mwrap_future_result\u001B[0;34m(future, timeout)\u001B[0m\n\u001B[1;32m    565\u001B[0m         AsyncResults.get from multiprocessing.\"\"\"\n\u001B[1;32m    566\u001B[0m         \u001B[0;32mtry\u001B[0m\u001B[0;34m:\u001B[0m\u001B[0;34m\u001B[0m\u001B[0;34m\u001B[0m\u001B[0m\n\u001B[0;32m--> 567\u001B[0;31m             \u001B[0;32mreturn\u001B[0m \u001B[0mfuture\u001B[0m\u001B[0;34m.\u001B[0m\u001B[0mresult\u001B[0m\u001B[0;34m(\u001B[0m\u001B[0mtimeout\u001B[0m\u001B[0;34m=\u001B[0m\u001B[0mtimeout\u001B[0m\u001B[0;34m)\u001B[0m\u001B[0;34m\u001B[0m\u001B[0;34m\u001B[0m\u001B[0m\n\u001B[0m\u001B[1;32m    568\u001B[0m         \u001B[0;32mexcept\u001B[0m \u001B[0mCfTimeoutError\u001B[0m \u001B[0;32mas\u001B[0m \u001B[0me\u001B[0m\u001B[0;34m:\u001B[0m\u001B[0;34m\u001B[0m\u001B[0;34m\u001B[0m\u001B[0m\n\u001B[1;32m    569\u001B[0m             \u001B[0;32mraise\u001B[0m \u001B[0mTimeoutError\u001B[0m \u001B[0;32mfrom\u001B[0m \u001B[0me\u001B[0m\u001B[0;34m\u001B[0m\u001B[0;34m\u001B[0m\u001B[0m\n",
      "\u001B[0;32m/usr/lib/python3.8/concurrent/futures/_base.py\u001B[0m in \u001B[0;36mresult\u001B[0;34m(self, timeout)\u001B[0m\n\u001B[1;32m    437\u001B[0m                     \u001B[0;32mreturn\u001B[0m \u001B[0mself\u001B[0m\u001B[0;34m.\u001B[0m\u001B[0m__get_result\u001B[0m\u001B[0;34m(\u001B[0m\u001B[0;34m)\u001B[0m\u001B[0;34m\u001B[0m\u001B[0;34m\u001B[0m\u001B[0m\n\u001B[1;32m    438\u001B[0m \u001B[0;34m\u001B[0m\u001B[0m\n\u001B[0;32m--> 439\u001B[0;31m                 \u001B[0mself\u001B[0m\u001B[0;34m.\u001B[0m\u001B[0m_condition\u001B[0m\u001B[0;34m.\u001B[0m\u001B[0mwait\u001B[0m\u001B[0;34m(\u001B[0m\u001B[0mtimeout\u001B[0m\u001B[0;34m)\u001B[0m\u001B[0;34m\u001B[0m\u001B[0;34m\u001B[0m\u001B[0m\n\u001B[0m\u001B[1;32m    440\u001B[0m \u001B[0;34m\u001B[0m\u001B[0m\n\u001B[1;32m    441\u001B[0m                 \u001B[0;32mif\u001B[0m \u001B[0mself\u001B[0m\u001B[0;34m.\u001B[0m\u001B[0m_state\u001B[0m \u001B[0;32min\u001B[0m \u001B[0;34m[\u001B[0m\u001B[0mCANCELLED\u001B[0m\u001B[0;34m,\u001B[0m \u001B[0mCANCELLED_AND_NOTIFIED\u001B[0m\u001B[0;34m]\u001B[0m\u001B[0;34m:\u001B[0m\u001B[0;34m\u001B[0m\u001B[0;34m\u001B[0m\u001B[0m\n",
      "\u001B[0;32m/usr/lib/python3.8/threading.py\u001B[0m in \u001B[0;36mwait\u001B[0;34m(self, timeout)\u001B[0m\n\u001B[1;32m    300\u001B[0m         \u001B[0;32mtry\u001B[0m\u001B[0;34m:\u001B[0m    \u001B[0;31m# restore state no matter what (e.g., KeyboardInterrupt)\u001B[0m\u001B[0;34m\u001B[0m\u001B[0;34m\u001B[0m\u001B[0m\n\u001B[1;32m    301\u001B[0m             \u001B[0;32mif\u001B[0m \u001B[0mtimeout\u001B[0m \u001B[0;32mis\u001B[0m \u001B[0;32mNone\u001B[0m\u001B[0;34m:\u001B[0m\u001B[0;34m\u001B[0m\u001B[0;34m\u001B[0m\u001B[0m\n\u001B[0;32m--> 302\u001B[0;31m                 \u001B[0mwaiter\u001B[0m\u001B[0;34m.\u001B[0m\u001B[0macquire\u001B[0m\u001B[0;34m(\u001B[0m\u001B[0;34m)\u001B[0m\u001B[0;34m\u001B[0m\u001B[0;34m\u001B[0m\u001B[0m\n\u001B[0m\u001B[1;32m    303\u001B[0m                 \u001B[0mgotit\u001B[0m \u001B[0;34m=\u001B[0m \u001B[0;32mTrue\u001B[0m\u001B[0;34m\u001B[0m\u001B[0;34m\u001B[0m\u001B[0m\n\u001B[1;32m    304\u001B[0m             \u001B[0;32melse\u001B[0m\u001B[0;34m:\u001B[0m\u001B[0;34m\u001B[0m\u001B[0;34m\u001B[0m\u001B[0m\n",
      "\u001B[0;31mKeyboardInterrupt\u001B[0m: "
     ]
    }
   ],
   "source": [
    "# train a gbm\n",
    "for wk in weeks_range:\n",
    "    start = time.perf_counter()\n",
    "\n",
    "    sv = RandomSurvivalForest()\n",
    "\n",
    "    X_train = df_train_sets[df_train_sets.index.get_level_values(3) == wk][feature_cols]\n",
    "    drop_cols = X_train.columns[X_train.isna().any()].tolist()\n",
    "    X_train.drop(drop_cols, axis=1, inplace=True)\n",
    "    X_train = pd.get_dummies(X_train, columns=['market_name'])\n",
    "\n",
    "\n",
    "    dcf= DropCorrelatedFeatures(threshold=0.7)\n",
    "    X_train = dcf.fit_transform(X_train)\n",
    "\n",
    "    df_y_temp = df_train_sets[df_train_sets.index.get_level_values(3) == wk][target_cols]\n",
    "    y_train = df_y_temp.to_records(index=False)\n",
    "\n",
    "    # train rsf model\n",
    "    cv = KFold(n_splits=split_number, shuffle=True)\n",
    "    sv_model = RandomizedSearchCV(estimator=as_concordance_index_ipcw_scorer(sv), param_distributions=param_grid_rsf,\n",
    "                                  cv=cv, verbose=1, n_iter=50, n_jobs=-1)\n",
    "    sv_model.fit(X_train, y_train)\n",
    "    best_estimators_rsf[wk] = sv_model.best_estimator_\n",
    "    stop = time.perf_counter()\n",
    "    print(str(wk) + '_' + 'best_score: ' + f'{sv_model.best_score_}')\n",
    "    print('Elapsed time: '  + str(int((stop-start))))\n",
    "\n",
    "    X_test = df_test_sets[df_test_sets.index.get_level_values(3) == wk][feature_cols]\n",
    "    X_test = pd.get_dummies(X_test, columns=['market_name'])\n",
    "    missing_cols = list(set(sv_model.best_estimator_.estimator.feature_names_in_) - set(X_test.columns))\n",
    "    # print(missing_cols)\n",
    "    for col in missing_cols:\n",
    "        X_test[col] = 0\n",
    "    test_idx = X_test[sv_model.best_estimator_.estimator.feature_names_in_].dropna().index\n",
    "    y_test = df_test_sets[df_test_sets.index.get_level_values(3) == wk].loc[test_idx, target_cols].to_records(index=False)\n",
    "\n",
    "    print(str(wk) + '_' + 'test_score: ' + f'{sv_model.best_estimator_.score(X_test[sv_model.best_estimator_.estimator.feature_names_in_].loc[test_idx], y_test)}')"
   ],
   "metadata": {
    "collapsed": false
   }
  },
  {
   "cell_type": "code",
   "execution_count": null,
   "outputs": [],
   "source": [
    "# write best estimators to a pickle file\n",
    "with open(file_rsf, 'wb') as file:\n",
    "    pickle.dump(best_estimators_rsf, file)"
   ],
   "metadata": {
    "collapsed": false
   }
  }
 ],
 "metadata": {
  "kernelspec": {
   "display_name": "Python 3",
   "language": "python",
   "name": "python3"
  },
  "language_info": {
   "codemirror_mode": {
    "name": "ipython",
    "version": 2
   },
   "file_extension": ".py",
   "mimetype": "text/x-python",
   "name": "python",
   "nbconvert_exporter": "python",
   "pygments_lexer": "ipython2",
   "version": "2.7.6"
  }
 },
 "nbformat": 4,
 "nbformat_minor": 0
}
