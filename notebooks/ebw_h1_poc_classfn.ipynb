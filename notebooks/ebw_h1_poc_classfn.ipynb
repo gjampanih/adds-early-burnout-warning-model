{
 "cells": [
  {
   "cell_type": "code",
   "execution_count": 3,
   "metadata": {
    "collapsed": true
   },
   "outputs": [],
   "source": [
    "import numpy as np\n",
    "# import packages\n",
    "import pandas as pd"
   ]
  },
  {
   "cell_type": "code",
   "execution_count": 4,
   "outputs": [],
   "source": [
    "# read in features\n",
    "df_raw_features = pd.read_pickle('ebw_temp_features_h1.pkl')\n",
    "df_hits_tracker = pd.read_pickle('ebw_hits_tracker_h1.pkl')"
   ],
   "metadata": {
    "collapsed": false,
    "pycharm": {
     "name": "#%%\n"
    }
   }
  },
  {
   "cell_type": "code",
   "execution_count": 5,
   "outputs": [],
   "source": [
    "df_raw_features['first_spin_year'] = df_raw_features['first_spin_date'].dt.year"
   ],
   "metadata": {
    "collapsed": false,
    "pycharm": {
     "name": "#%%\n"
    }
   }
  },
  {
   "cell_type": "code",
   "execution_count": 6,
   "outputs": [],
   "source": [
    "df_raw_features['hit_tag_year'] = df_raw_features['hit_tag_date'].dt.year"
   ],
   "metadata": {
    "collapsed": false,
    "pycharm": {
     "name": "#%%\n"
    }
   }
  },
  {
   "cell_type": "code",
   "execution_count": 7,
   "outputs": [],
   "source": [
    "# do some digging around w.r.t weeks_from_hit\n",
    "mask = (df_raw_features['weeks_since_hit'] > 0) & (df_raw_features['hit_tag_year'] >= 2020) & (\n",
    "            df_raw_features['hit_tag_year'] <= 2021) & (df_raw_features['week_dt'] <= df_raw_features['week_dt_at_burnout'].fillna(df_raw_features['week_dt']))\n",
    "cols = ['mediabase_id', 'call_letters', 'week_dt', 'hit_tag_date', 'weeks_since_hit', 'spins_to_burnout_from_hit',\n",
    "        'cuml_song_station_spins_non_on', 'censoring_flg', 'week_dt_at_burnout']\n",
    "df_sub = df_raw_features.loc[mask, cols]"
   ],
   "metadata": {
    "collapsed": false,
    "pycharm": {
     "name": "#%%\n"
    }
   }
  },
  {
   "cell_type": "code",
   "execution_count": 61,
   "outputs": [
    {
     "data": {
      "text/plain": "        mediabase_id call_letters    week_dt hit_tag_date  weeks_since_hit  \\\n159252       2305938      KZHT-FM 2020-04-05   2020-03-29              1.0   \n159253       2305938      KZHT-FM 2020-04-12   2020-03-29              2.0   \n159254       2305938      KZHT-FM 2020-04-19   2020-03-29              3.0   \n159255       2305938      KZHT-FM 2020-04-26   2020-03-29              4.0   \n159256       2305938      KZHT-FM 2020-05-03   2020-03-29              5.0   \n...              ...          ...        ...          ...              ...   \n646417       2750191      WWPW-FM 2023-02-26   2021-11-28             65.0   \n646418       2750191      WWPW-FM 2023-03-05   2021-11-28             66.0   \n646419       2750191      WWPW-FM 2023-03-12   2021-11-28             67.0   \n646420       2750191      WWPW-FM 2023-03-19   2021-11-28             68.0   \n646421       2750191      WWPW-FM 2023-03-26   2021-11-28             69.0   \n\n        spins_to_burnout_from_hit  cuml_song_station_spins_non_on  \\\n159252                      282.0                            1507   \n159253                      282.0                            1557   \n159254                      282.0                            1580   \n159255                      282.0                            1590   \n159256                      282.0                            1598   \n...                           ...                             ...   \n646417                        NaN                            2119   \n646418                        NaN                            2119   \n646419                        NaN                            2119   \n646420                        NaN                            2119   \n646421                        NaN                            2119   \n\n        censoring_flg week_dt_at_burnout  \n159252           True         2021-05-30  \n159253           True         2021-05-30  \n159254           True         2021-05-30  \n159255           True         2021-05-30  \n159256           True         2021-05-30  \n...               ...                ...  \n646417          False                NaT  \n646418          False                NaT  \n646419          False                NaT  \n646420          False                NaT  \n646421          False                NaT  \n\n[50072 rows x 9 columns]",
      "text/html": "<div>\n<style scoped>\n    .dataframe tbody tr th:only-of-type {\n        vertical-align: middle;\n    }\n\n    .dataframe tbody tr th {\n        vertical-align: top;\n    }\n\n    .dataframe thead th {\n        text-align: right;\n    }\n</style>\n<table border=\"1\" class=\"dataframe\">\n  <thead>\n    <tr style=\"text-align: right;\">\n      <th></th>\n      <th>mediabase_id</th>\n      <th>call_letters</th>\n      <th>week_dt</th>\n      <th>hit_tag_date</th>\n      <th>weeks_since_hit</th>\n      <th>spins_to_burnout_from_hit</th>\n      <th>cuml_song_station_spins_non_on</th>\n      <th>censoring_flg</th>\n      <th>week_dt_at_burnout</th>\n    </tr>\n  </thead>\n  <tbody>\n    <tr>\n      <th>159252</th>\n      <td>2305938</td>\n      <td>KZHT-FM</td>\n      <td>2020-04-05</td>\n      <td>2020-03-29</td>\n      <td>1.0</td>\n      <td>282.0</td>\n      <td>1507</td>\n      <td>True</td>\n      <td>2021-05-30</td>\n    </tr>\n    <tr>\n      <th>159253</th>\n      <td>2305938</td>\n      <td>KZHT-FM</td>\n      <td>2020-04-12</td>\n      <td>2020-03-29</td>\n      <td>2.0</td>\n      <td>282.0</td>\n      <td>1557</td>\n      <td>True</td>\n      <td>2021-05-30</td>\n    </tr>\n    <tr>\n      <th>159254</th>\n      <td>2305938</td>\n      <td>KZHT-FM</td>\n      <td>2020-04-19</td>\n      <td>2020-03-29</td>\n      <td>3.0</td>\n      <td>282.0</td>\n      <td>1580</td>\n      <td>True</td>\n      <td>2021-05-30</td>\n    </tr>\n    <tr>\n      <th>159255</th>\n      <td>2305938</td>\n      <td>KZHT-FM</td>\n      <td>2020-04-26</td>\n      <td>2020-03-29</td>\n      <td>4.0</td>\n      <td>282.0</td>\n      <td>1590</td>\n      <td>True</td>\n      <td>2021-05-30</td>\n    </tr>\n    <tr>\n      <th>159256</th>\n      <td>2305938</td>\n      <td>KZHT-FM</td>\n      <td>2020-05-03</td>\n      <td>2020-03-29</td>\n      <td>5.0</td>\n      <td>282.0</td>\n      <td>1598</td>\n      <td>True</td>\n      <td>2021-05-30</td>\n    </tr>\n    <tr>\n      <th>...</th>\n      <td>...</td>\n      <td>...</td>\n      <td>...</td>\n      <td>...</td>\n      <td>...</td>\n      <td>...</td>\n      <td>...</td>\n      <td>...</td>\n      <td>...</td>\n    </tr>\n    <tr>\n      <th>646417</th>\n      <td>2750191</td>\n      <td>WWPW-FM</td>\n      <td>2023-02-26</td>\n      <td>2021-11-28</td>\n      <td>65.0</td>\n      <td>NaN</td>\n      <td>2119</td>\n      <td>False</td>\n      <td>NaT</td>\n    </tr>\n    <tr>\n      <th>646418</th>\n      <td>2750191</td>\n      <td>WWPW-FM</td>\n      <td>2023-03-05</td>\n      <td>2021-11-28</td>\n      <td>66.0</td>\n      <td>NaN</td>\n      <td>2119</td>\n      <td>False</td>\n      <td>NaT</td>\n    </tr>\n    <tr>\n      <th>646419</th>\n      <td>2750191</td>\n      <td>WWPW-FM</td>\n      <td>2023-03-12</td>\n      <td>2021-11-28</td>\n      <td>67.0</td>\n      <td>NaN</td>\n      <td>2119</td>\n      <td>False</td>\n      <td>NaT</td>\n    </tr>\n    <tr>\n      <th>646420</th>\n      <td>2750191</td>\n      <td>WWPW-FM</td>\n      <td>2023-03-19</td>\n      <td>2021-11-28</td>\n      <td>68.0</td>\n      <td>NaN</td>\n      <td>2119</td>\n      <td>False</td>\n      <td>NaT</td>\n    </tr>\n    <tr>\n      <th>646421</th>\n      <td>2750191</td>\n      <td>WWPW-FM</td>\n      <td>2023-03-26</td>\n      <td>2021-11-28</td>\n      <td>69.0</td>\n      <td>NaN</td>\n      <td>2119</td>\n      <td>False</td>\n      <td>NaT</td>\n    </tr>\n  </tbody>\n</table>\n<p>50072 rows × 9 columns</p>\n</div>"
     },
     "execution_count": 61,
     "metadata": {},
     "output_type": "execute_result"
    }
   ],
   "source": [
    "df_sub"
   ],
   "metadata": {
    "collapsed": false,
    "pycharm": {
     "name": "#%%\n"
    }
   }
  },
  {
   "cell_type": "code",
   "execution_count": 62,
   "outputs": [
    {
     "data": {
      "text/plain": "weeks_since_hit  censoring_flg\n1.0              False            321\n                 True             751\n2.0              False            321\n                 True             751\n3.0              False            321\n                                 ... \n164.0            False             13\n165.0            False             12\n166.0            False              9\n167.0            False              6\n168.0            False              6\nName: mediabase_id, Length: 324, dtype: int64"
     },
     "execution_count": 62,
     "metadata": {},
     "output_type": "execute_result"
    }
   ],
   "source": [
    "df_sub.groupby(['weeks_since_hit', 'censoring_flg'])['mediabase_id'].count()"
   ],
   "metadata": {
    "collapsed": false,
    "pycharm": {
     "name": "#%%\n"
    }
   }
  },
  {
   "cell_type": "code",
   "execution_count": 115,
   "outputs": [
    {
     "data": {
      "text/plain": "<AxesSubplot:>"
     },
     "execution_count": 115,
     "metadata": {},
     "output_type": "execute_result"
    },
    {
     "data": {
      "text/plain": "<Figure size 640x480 with 1 Axes>",
      "image/png": "[encoded data removed]"
     },
     "metadata": {},
     "output_type": "display_data"
    }
   ],
   "source": [
    "mask_burn = (df_sub['week_dt_at_burnout'] == df_sub['week_dt'])\n",
    "cols=['weeks_since_hit']\n",
    "df_sub.loc[mask_burn, cols].plot(kind='box')"
   ],
   "metadata": {
    "collapsed": false,
    "pycharm": {
     "name": "#%%\n"
    }
   }
  },
  {
   "cell_type": "code",
   "execution_count": 46,
   "outputs": [
    {
     "data": {
      "text/plain": "       weeks_since_hit\ncount       778.000000\nmean         21.399743\nstd          17.364985\nmin           2.000000\n25%          10.000000\n50%          17.000000\n75%          27.000000\nmax         156.000000",
      "text/html": "<div>\n<style scoped>\n    .dataframe tbody tr th:only-of-type {\n        vertical-align: middle;\n    }\n\n    .dataframe tbody tr th {\n        vertical-align: top;\n    }\n\n    .dataframe thead th {\n        text-align: right;\n    }\n</style>\n<table border=\"1\" class=\"dataframe\">\n  <thead>\n    <tr style=\"text-align: right;\">\n      <th></th>\n      <th>weeks_since_hit</th>\n    </tr>\n  </thead>\n  <tbody>\n    <tr>\n      <th>count</th>\n      <td>778.000000</td>\n    </tr>\n    <tr>\n      <th>mean</th>\n      <td>21.399743</td>\n    </tr>\n    <tr>\n      <th>std</th>\n      <td>17.364985</td>\n    </tr>\n    <tr>\n      <th>min</th>\n      <td>2.000000</td>\n    </tr>\n    <tr>\n      <th>25%</th>\n      <td>10.000000</td>\n    </tr>\n    <tr>\n      <th>50%</th>\n      <td>17.000000</td>\n    </tr>\n    <tr>\n      <th>75%</th>\n      <td>27.000000</td>\n    </tr>\n    <tr>\n      <th>max</th>\n      <td>156.000000</td>\n    </tr>\n  </tbody>\n</table>\n</div>"
     },
     "execution_count": 46,
     "metadata": {},
     "output_type": "execute_result"
    }
   ],
   "source": [
    "df_sub.loc[mask_burn, cols].describe()"
   ],
   "metadata": {
    "collapsed": false,
    "pycharm": {
     "name": "#%%\n"
    }
   }
  },
  {
   "cell_type": "code",
   "execution_count": 51,
   "outputs": [
    {
     "data": {
      "text/plain": "58.0"
     },
     "execution_count": 51,
     "metadata": {},
     "output_type": "execute_result"
    }
   ],
   "source": [
    "np.quantile(df_sub.loc[mask_burn, cols], 0.95)"
   ],
   "metadata": {
    "collapsed": false,
    "pycharm": {
     "name": "#%%\n"
    }
   }
  },
  {
   "cell_type": "code",
   "execution_count": 53,
   "outputs": [
    {
     "data": {
      "text/plain": "       spins_to_burnout_from_hit\ncount                 778.000000\nmean                 1026.242931\nstd                   696.100178\nmin                     8.000000\n25%                   471.500000\n50%                   944.000000\n75%                  1428.750000\nmax                  3652.000000",
      "text/html": "<div>\n<style scoped>\n    .dataframe tbody tr th:only-of-type {\n        vertical-align: middle;\n    }\n\n    .dataframe tbody tr th {\n        vertical-align: top;\n    }\n\n    .dataframe thead th {\n        text-align: right;\n    }\n</style>\n<table border=\"1\" class=\"dataframe\">\n  <thead>\n    <tr style=\"text-align: right;\">\n      <th></th>\n      <th>spins_to_burnout_from_hit</th>\n    </tr>\n  </thead>\n  <tbody>\n    <tr>\n      <th>count</th>\n      <td>778.000000</td>\n    </tr>\n    <tr>\n      <th>mean</th>\n      <td>1026.242931</td>\n    </tr>\n    <tr>\n      <th>std</th>\n      <td>696.100178</td>\n    </tr>\n    <tr>\n      <th>min</th>\n      <td>8.000000</td>\n    </tr>\n    <tr>\n      <th>25%</th>\n      <td>471.500000</td>\n    </tr>\n    <tr>\n      <th>50%</th>\n      <td>944.000000</td>\n    </tr>\n    <tr>\n      <th>75%</th>\n      <td>1428.750000</td>\n    </tr>\n    <tr>\n      <th>max</th>\n      <td>3652.000000</td>\n    </tr>\n  </tbody>\n</table>\n</div>"
     },
     "execution_count": 53,
     "metadata": {},
     "output_type": "execute_result"
    }
   ],
   "source": [
    "df_sub.loc[mask_burn, ['spins_to_burnout_from_hit']].describe()"
   ],
   "metadata": {
    "collapsed": false,
    "pycharm": {
     "name": "#%%\n"
    }
   }
  },
  {
   "cell_type": "code",
   "execution_count": 75,
   "outputs": [
    {
     "data": {
      "text/plain": "[450, 950, 1450, 2300]"
     },
     "execution_count": 75,
     "metadata": {},
     "output_type": "execute_result"
    }
   ],
   "source": [
    "quantile_levels = [0.25, 0.5, 0.75, 0.95]\n",
    "[round((np.quantile(df_sub.loc[mask_burn, ['spins_to_burnout_from_hit']], lvl)/50))*50 for lvl in quantile_levels]"
   ],
   "metadata": {
    "collapsed": false,
    "pycharm": {
     "name": "#%%\n"
    }
   }
  },
  {
   "cell_type": "code",
   "execution_count": 117,
   "outputs": [
    {
     "data": {
      "text/plain": "159312       0.0-450.0\n279513       0.0-450.0\n288201       0.0-450.0\n329700       0.0-450.0\n329851     450.0-950.0\n              ...     \n645750    950.0-1450.0\n645833    950.0-1450.0\n645981    950.0-1450.0\n646207     450.0-950.0\n646291    950.0-1450.0\nName: spins_to_burnout_from_hit, Length: 778, dtype: object"
     },
     "execution_count": 117,
     "metadata": {},
     "output_type": "execute_result"
    }
   ],
   "source": [
    "pd.cut(df_sub.loc[mask_burn, 'spins_to_burnout_from_hit'], bins=[0, 450, 950, 1450, 2300, np.ceil(\n",
    "    np.max(df_sub.loc[mask_burn, 'spins_to_burnout_from_hit']) / 50) * 50]).astype(str).str.replace(', ', '-').str.strip('()[]')"
   ],
   "metadata": {
    "collapsed": false,
    "pycharm": {
     "name": "#%%\n"
    }
   }
  },
  {
   "cell_type": "code",
   "execution_count": 71,
   "outputs": [
    {
     "data": {
      "text/plain": "        spins_to_burnout_from_hit\n159312                      282.0\n279513                      123.0\n288201                       79.0\n329700                      162.0\n329851                      592.0\n...                           ...\n645750                     1142.0\n645833                     1150.0\n645981                     1011.0\n646207                      740.0\n646291                     1038.0\n\n[778 rows x 1 columns]",
      "text/html": "<div>\n<style scoped>\n    .dataframe tbody tr th:only-of-type {\n        vertical-align: middle;\n    }\n\n    .dataframe tbody tr th {\n        vertical-align: top;\n    }\n\n    .dataframe thead th {\n        text-align: right;\n    }\n</style>\n<table border=\"1\" class=\"dataframe\">\n  <thead>\n    <tr style=\"text-align: right;\">\n      <th></th>\n      <th>spins_to_burnout_from_hit</th>\n    </tr>\n  </thead>\n  <tbody>\n    <tr>\n      <th>159312</th>\n      <td>282.0</td>\n    </tr>\n    <tr>\n      <th>279513</th>\n      <td>123.0</td>\n    </tr>\n    <tr>\n      <th>288201</th>\n      <td>79.0</td>\n    </tr>\n    <tr>\n      <th>329700</th>\n      <td>162.0</td>\n    </tr>\n    <tr>\n      <th>329851</th>\n      <td>592.0</td>\n    </tr>\n    <tr>\n      <th>...</th>\n      <td>...</td>\n    </tr>\n    <tr>\n      <th>645750</th>\n      <td>1142.0</td>\n    </tr>\n    <tr>\n      <th>645833</th>\n      <td>1150.0</td>\n    </tr>\n    <tr>\n      <th>645981</th>\n      <td>1011.0</td>\n    </tr>\n    <tr>\n      <th>646207</th>\n      <td>740.0</td>\n    </tr>\n    <tr>\n      <th>646291</th>\n      <td>1038.0</td>\n    </tr>\n  </tbody>\n</table>\n<p>778 rows × 1 columns</p>\n</div>"
     },
     "execution_count": 71,
     "metadata": {},
     "output_type": "execute_result"
    }
   ],
   "source": [
    "df_sub.loc[mask_burn, ['spins_to_burnout_from_hit']]"
   ],
   "metadata": {
    "collapsed": false,
    "pycharm": {
     "name": "#%%\n"
    }
   }
  },
  {
   "cell_type": "code",
   "execution_count": 15,
   "outputs": [],
   "source": [
    "id_cols = ['mediabase_id', 'call_letters']\n",
    "mask = (df_sub['weeks_since_hit'] == 2) & (df_sub['censoring_flg'] == False)\n",
    "mask_org = (df_sub['weeks_since_hit'] == 1) & (df_sub['censoring_flg'] == False)\n",
    "df_inv = df_sub.loc[mask_org].join(df_sub.loc[mask].set_index(id_cols), on=id_cols, how='left', rsuffix='_r')"
   ],
   "metadata": {
    "collapsed": false,
    "pycharm": {
     "name": "#%%\n"
    }
   }
  },
  {
   "cell_type": "code",
   "execution_count": 22,
   "outputs": [
    {
     "data": {
      "text/plain": "        mediabase_id     song_id call_letters     market_name  artist_id  \\\n641054       2738262  1932303516      WIHT-FM  Washington, DC  739047068   \n641055       2738262  1932303516      WIHT-FM  Washington, DC  739047068   \n641056       2738262  1932303516      WIHT-FM  Washington, DC  739047068   \n641057       2738262  1932303516      WIHT-FM  Washington, DC  739047068   \n641058       2738262  1932303516      WIHT-FM  Washington, DC  739047068   \n...              ...         ...          ...             ...        ...   \n641270       2738262  1932303516      WXXL-FM         Orlando  739047068   \n641271       2738262  1932303516      WXXL-FM         Orlando  739047068   \n641272       2738262  1932303516      WXXL-FM         Orlando  739047068   \n641273       2738262  1932303516      WXXL-FM         Orlando  739047068   \n641274       2738262  1932303516      WXXL-FM         Orlando  739047068   \n\n       format_code song_release_date first_callout_date last_callout_date  \\\n641054          H1        2021-09-01         2022-10-17        2023-04-10   \n641055          H1        2021-09-01         2022-10-17        2023-04-10   \n641056          H1        2021-09-01         2022-10-17        2023-04-10   \n641057          H1        2021-09-01         2022-10-17        2023-04-10   \n641058          H1        2021-09-01         2022-10-17        2023-04-10   \n...            ...               ...                ...               ...   \n641270          H1        2021-09-01         2022-10-17        2023-04-10   \n641271          H1        2021-09-01         2022-10-17        2023-04-10   \n641272          H1        2021-09-01         2022-10-17        2023-04-10   \n641273          H1        2021-09-01         2022-10-17        2023-04-10   \n641274          H1        2021-09-01         2022-10-17        2023-04-10   \n\n       first_spin_date  ... market_spins_propn_ftq_to_hit_min  \\\n641054      2022-05-29  ...                          0.117647   \n641055      2022-05-29  ...                          0.117647   \n641056      2022-05-29  ...                          0.117647   \n641057      2022-05-29  ...                          0.117647   \n641058      2022-05-29  ...                          0.117647   \n...                ...  ...                               ...   \n641270      2022-05-22  ...                          0.066667   \n641271      2022-05-22  ...                          0.066667   \n641272      2022-05-22  ...                          0.066667   \n641273      2022-05-22  ...                          0.066667   \n641274      2022-05-22  ...                          0.066667   \n\n       market_spins_propn_ftq_to_hit_max market_spins_propn_ftq_to_hit_mean  \\\n641054                          1.000000                           0.425395   \n641055                          1.000000                           0.425395   \n641056                          1.000000                           0.425395   \n641057                          1.000000                           0.425395   \n641058                          1.000000                           0.425395   \n...                                  ...                                ...   \n641270                          0.794118                           0.401042   \n641271                          0.794118                           0.401042   \n641272                          0.794118                           0.401042   \n641273                          0.794118                           0.401042   \n641274                          0.794118                           0.401042   \n\n        market_spins_propn_ftq_to_hit_std artist_spins_propn_ftq_to_hit_min  \\\n641054                           0.309865                              0.75   \n641055                           0.309865                              0.75   \n641056                           0.309865                              0.75   \n641057                           0.309865                              0.75   \n641058                           0.309865                              0.75   \n...                                   ...                               ...   \n641270                           0.238117                              1.00   \n641271                           0.238117                              1.00   \n641272                           0.238117                              1.00   \n641273                           0.238117                              1.00   \n641274                           0.238117                              1.00   \n\n       artist_spins_propn_ftq_to_hit_max artist_spins_propn_ftq_to_hit_mean  \\\n641054                               1.0                           0.964286   \n641055                               1.0                           0.964286   \n641056                               1.0                           0.964286   \n641057                               1.0                           0.964286   \n641058                               1.0                           0.964286   \n...                                  ...                                ...   \n641270                               1.0                           1.000000   \n641271                               1.0                           1.000000   \n641272                               1.0                           1.000000   \n641273                               1.0                           1.000000   \n641274                               1.0                           1.000000   \n\n       artist_spins_propn_ftq_to_hit_std  censoring_flg  week_dt_r  \n641054                          0.094491          False 2023-03-26  \n641055                          0.094491          False 2023-03-26  \n641056                          0.094491          False 2023-03-26  \n641057                          0.094491          False 2023-03-26  \n641058                          0.094491          False 2023-03-26  \n...                                  ...            ...        ...  \n641270                          0.000000          False 2023-03-26  \n641271                          0.000000          False 2023-03-26  \n641272                          0.000000          False 2023-03-26  \n641273                          0.000000          False 2023-03-26  \n641274                          0.000000          False 2023-03-26  \n\n[89 rows x 1414 columns]",
      "text/html": "<div>\n<style scoped>\n    .dataframe tbody tr th:only-of-type {\n        vertical-align: middle;\n    }\n\n    .dataframe tbody tr th {\n        vertical-align: top;\n    }\n\n    .dataframe thead th {\n        text-align: right;\n    }\n</style>\n<table border=\"1\" class=\"dataframe\">\n  <thead>\n    <tr style=\"text-align: right;\">\n      <th></th>\n      <th>mediabase_id</th>\n      <th>song_id</th>\n      <th>call_letters</th>\n      <th>market_name</th>\n      <th>artist_id</th>\n      <th>format_code</th>\n      <th>song_release_date</th>\n      <th>first_callout_date</th>\n      <th>last_callout_date</th>\n      <th>first_spin_date</th>\n      <th>...</th>\n      <th>market_spins_propn_ftq_to_hit_min</th>\n      <th>market_spins_propn_ftq_to_hit_max</th>\n      <th>market_spins_propn_ftq_to_hit_mean</th>\n      <th>market_spins_propn_ftq_to_hit_std</th>\n      <th>artist_spins_propn_ftq_to_hit_min</th>\n      <th>artist_spins_propn_ftq_to_hit_max</th>\n      <th>artist_spins_propn_ftq_to_hit_mean</th>\n      <th>artist_spins_propn_ftq_to_hit_std</th>\n      <th>censoring_flg</th>\n      <th>week_dt_r</th>\n    </tr>\n  </thead>\n  <tbody>\n    <tr>\n      <th>641054</th>\n      <td>2738262</td>\n      <td>1932303516</td>\n      <td>WIHT-FM</td>\n      <td>Washington, DC</td>\n      <td>739047068</td>\n      <td>H1</td>\n      <td>2021-09-01</td>\n      <td>2022-10-17</td>\n      <td>2023-04-10</td>\n      <td>2022-05-29</td>\n      <td>...</td>\n      <td>0.117647</td>\n      <td>1.000000</td>\n      <td>0.425395</td>\n      <td>0.309865</td>\n      <td>0.75</td>\n      <td>1.0</td>\n      <td>0.964286</td>\n      <td>0.094491</td>\n      <td>False</td>\n      <td>2023-03-26</td>\n    </tr>\n    <tr>\n      <th>641055</th>\n      <td>2738262</td>\n      <td>1932303516</td>\n      <td>WIHT-FM</td>\n      <td>Washington, DC</td>\n      <td>739047068</td>\n      <td>H1</td>\n      <td>2021-09-01</td>\n      <td>2022-10-17</td>\n      <td>2023-04-10</td>\n      <td>2022-05-29</td>\n      <td>...</td>\n      <td>0.117647</td>\n      <td>1.000000</td>\n      <td>0.425395</td>\n      <td>0.309865</td>\n      <td>0.75</td>\n      <td>1.0</td>\n      <td>0.964286</td>\n      <td>0.094491</td>\n      <td>False</td>\n      <td>2023-03-26</td>\n    </tr>\n    <tr>\n      <th>641056</th>\n      <td>2738262</td>\n      <td>1932303516</td>\n      <td>WIHT-FM</td>\n      <td>Washington, DC</td>\n      <td>739047068</td>\n      <td>H1</td>\n      <td>2021-09-01</td>\n      <td>2022-10-17</td>\n      <td>2023-04-10</td>\n      <td>2022-05-29</td>\n      <td>...</td>\n      <td>0.117647</td>\n      <td>1.000000</td>\n      <td>0.425395</td>\n      <td>0.309865</td>\n      <td>0.75</td>\n      <td>1.0</td>\n      <td>0.964286</td>\n      <td>0.094491</td>\n      <td>False</td>\n      <td>2023-03-26</td>\n    </tr>\n    <tr>\n      <th>641057</th>\n      <td>2738262</td>\n      <td>1932303516</td>\n      <td>WIHT-FM</td>\n      <td>Washington, DC</td>\n      <td>739047068</td>\n      <td>H1</td>\n      <td>2021-09-01</td>\n      <td>2022-10-17</td>\n      <td>2023-04-10</td>\n      <td>2022-05-29</td>\n      <td>...</td>\n      <td>0.117647</td>\n      <td>1.000000</td>\n      <td>0.425395</td>\n      <td>0.309865</td>\n      <td>0.75</td>\n      <td>1.0</td>\n      <td>0.964286</td>\n      <td>0.094491</td>\n      <td>False</td>\n      <td>2023-03-26</td>\n    </tr>\n    <tr>\n      <th>641058</th>\n      <td>2738262</td>\n      <td>1932303516</td>\n      <td>WIHT-FM</td>\n      <td>Washington, DC</td>\n      <td>739047068</td>\n      <td>H1</td>\n      <td>2021-09-01</td>\n      <td>2022-10-17</td>\n      <td>2023-04-10</td>\n      <td>2022-05-29</td>\n      <td>...</td>\n      <td>0.117647</td>\n      <td>1.000000</td>\n      <td>0.425395</td>\n      <td>0.309865</td>\n      <td>0.75</td>\n      <td>1.0</td>\n      <td>0.964286</td>\n      <td>0.094491</td>\n      <td>False</td>\n      <td>2023-03-26</td>\n    </tr>\n    <tr>\n      <th>...</th>\n      <td>...</td>\n      <td>...</td>\n      <td>...</td>\n      <td>...</td>\n      <td>...</td>\n      <td>...</td>\n      <td>...</td>\n      <td>...</td>\n      <td>...</td>\n      <td>...</td>\n      <td>...</td>\n      <td>...</td>\n      <td>...</td>\n      <td>...</td>\n      <td>...</td>\n      <td>...</td>\n      <td>...</td>\n      <td>...</td>\n      <td>...</td>\n      <td>...</td>\n      <td>...</td>\n    </tr>\n    <tr>\n      <th>641270</th>\n      <td>2738262</td>\n      <td>1932303516</td>\n      <td>WXXL-FM</td>\n      <td>Orlando</td>\n      <td>739047068</td>\n      <td>H1</td>\n      <td>2021-09-01</td>\n      <td>2022-10-17</td>\n      <td>2023-04-10</td>\n      <td>2022-05-22</td>\n      <td>...</td>\n      <td>0.066667</td>\n      <td>0.794118</td>\n      <td>0.401042</td>\n      <td>0.238117</td>\n      <td>1.00</td>\n      <td>1.0</td>\n      <td>1.000000</td>\n      <td>0.000000</td>\n      <td>False</td>\n      <td>2023-03-26</td>\n    </tr>\n    <tr>\n      <th>641271</th>\n      <td>2738262</td>\n      <td>1932303516</td>\n      <td>WXXL-FM</td>\n      <td>Orlando</td>\n      <td>739047068</td>\n      <td>H1</td>\n      <td>2021-09-01</td>\n      <td>2022-10-17</td>\n      <td>2023-04-10</td>\n      <td>2022-05-22</td>\n      <td>...</td>\n      <td>0.066667</td>\n      <td>0.794118</td>\n      <td>0.401042</td>\n      <td>0.238117</td>\n      <td>1.00</td>\n      <td>1.0</td>\n      <td>1.000000</td>\n      <td>0.000000</td>\n      <td>False</td>\n      <td>2023-03-26</td>\n    </tr>\n    <tr>\n      <th>641272</th>\n      <td>2738262</td>\n      <td>1932303516</td>\n      <td>WXXL-FM</td>\n      <td>Orlando</td>\n      <td>739047068</td>\n      <td>H1</td>\n      <td>2021-09-01</td>\n      <td>2022-10-17</td>\n      <td>2023-04-10</td>\n      <td>2022-05-22</td>\n      <td>...</td>\n      <td>0.066667</td>\n      <td>0.794118</td>\n      <td>0.401042</td>\n      <td>0.238117</td>\n      <td>1.00</td>\n      <td>1.0</td>\n      <td>1.000000</td>\n      <td>0.000000</td>\n      <td>False</td>\n      <td>2023-03-26</td>\n    </tr>\n    <tr>\n      <th>641273</th>\n      <td>2738262</td>\n      <td>1932303516</td>\n      <td>WXXL-FM</td>\n      <td>Orlando</td>\n      <td>739047068</td>\n      <td>H1</td>\n      <td>2021-09-01</td>\n      <td>2022-10-17</td>\n      <td>2023-04-10</td>\n      <td>2022-05-22</td>\n      <td>...</td>\n      <td>0.066667</td>\n      <td>0.794118</td>\n      <td>0.401042</td>\n      <td>0.238117</td>\n      <td>1.00</td>\n      <td>1.0</td>\n      <td>1.000000</td>\n      <td>0.000000</td>\n      <td>False</td>\n      <td>2023-03-26</td>\n    </tr>\n    <tr>\n      <th>641274</th>\n      <td>2738262</td>\n      <td>1932303516</td>\n      <td>WXXL-FM</td>\n      <td>Orlando</td>\n      <td>739047068</td>\n      <td>H1</td>\n      <td>2021-09-01</td>\n      <td>2022-10-17</td>\n      <td>2023-04-10</td>\n      <td>2022-05-22</td>\n      <td>...</td>\n      <td>0.066667</td>\n      <td>0.794118</td>\n      <td>0.401042</td>\n      <td>0.238117</td>\n      <td>1.00</td>\n      <td>1.0</td>\n      <td>1.000000</td>\n      <td>0.000000</td>\n      <td>False</td>\n      <td>2023-03-26</td>\n    </tr>\n  </tbody>\n</table>\n<p>89 rows × 1414 columns</p>\n</div>"
     },
     "execution_count": 22,
     "metadata": {},
     "output_type": "execute_result"
    }
   ],
   "source": [
    "mask_inv = pd.isna(df_inv['week_dt_r'])\n",
    "df_raw_features.join(df_inv.loc[mask_inv, id_cols + ['week_dt']].set_index(id_cols), on=id_cols, how='inner', rsuffix='_r')"
   ],
   "metadata": {
    "collapsed": false,
    "pycharm": {
     "name": "#%%\n"
    }
   }
  },
  {
   "cell_type": "code",
   "execution_count": 26,
   "outputs": [
    {
     "data": {
      "text/plain": "<AxesSubplot:>"
     },
     "execution_count": 26,
     "metadata": {},
     "output_type": "execute_result"
    },
    {
     "data": {
      "text/plain": "<Figure size 640x480 with 1 Axes>",
      "image/png": "[encoded data removed]"
     },
     "metadata": {},
     "output_type": "display_data"
    }
   ],
   "source": [
    "((df_raw_features['first_spin_date'] - df_raw_features['song_release_date'])/(np.timedelta64(1, 'W'))).drop_duplicates().plot(kind='box')"
   ],
   "metadata": {
    "collapsed": false,
    "pycharm": {
     "name": "#%%\n"
    }
   }
  },
  {
   "cell_type": "markdown",
   "source": [
    "#### prep training and test data"
   ],
   "metadata": {
    "collapsed": false
   }
  },
  {
   "cell_type": "code",
   "execution_count": 8,
   "outputs": [],
   "source": [
    "# define different types of feature columns\n",
    "feature_cols = [col for col in df_raw_features.columns if 'wk' in col]\n",
    "feature_cols = list(set(feature_cols) - set([col for col in feature_cols if '1wk' in col]))\n",
    "pop_cols = [col for col in feature_cols if 'pop' in col or 'ddl' in col or 'fav' in col]\n",
    "spins_cols = [col for col in feature_cols if 'spins' in col]\n",
    "propn_cols = [col for col in feature_cols if 'propn' in col]\n",
    "streams_cols = [col for col in feature_cols if 'unv' in col]"
   ],
   "metadata": {
    "collapsed": false,
    "pycharm": {
     "name": "#%%\n"
    }
   }
  },
  {
   "cell_type": "markdown",
   "source": [
    "##### small detour"
   ],
   "metadata": {
    "collapsed": false
   }
  },
  {
   "cell_type": "code",
   "execution_count": 93,
   "outputs": [],
   "source": [
    "df_hits_tracker['hit_tag_year'] = df_hits_tracker['hit_tag_date'].dt.year"
   ],
   "metadata": {
    "collapsed": false,
    "pycharm": {
     "name": "#%%\n"
    }
   }
  },
  {
   "cell_type": "code",
   "execution_count": 94,
   "outputs": [
    {
     "data": {
      "text/plain": "        mediabase_id call_letters song_release_date  song_release_year  \\\n0            1086587      KHTS-FM        2022-06-01             2022.0   \n42           1086587      KIIS-FM        2022-06-01             2022.0   \n84           1086587      KYLD-FM        2022-06-01             2022.0   \n127          1086587      KZZP-FM        2022-06-01             2022.0   \n169          1086587      WHTZ-FM        2022-06-01             2022.0   \n...              ...          ...               ...                ...   \n655418       2865765      WKST-FM        2022-12-01             2022.0   \n655431       2865765      WWPW-FM        2022-12-01             2022.0   \n655444       2865765      WXKS-FM        2022-12-01             2022.0   \n655457       2865765      WXXL-FM        2022-12-01             2022.0   \n655470       2865765      WZFT-FM        2022-12-01             2022.0   \n\n         ftq_date hit_tag_date ddl_over_thresh_dt_first  \\\n0      2022-07-10   2022-10-23               2022-11-06   \n42     2022-07-03   2022-07-17               2022-08-21   \n84     2022-07-03   2022-08-14               2022-09-11   \n127    2022-07-17   2022-08-21               2022-09-18   \n169    2022-06-19   2022-07-31               2022-09-04   \n...           ...          ...                      ...   \n655418 2023-02-26   2023-03-12                     None   \n655431 2023-02-19   2023-03-05                     None   \n655444 2023-01-15   2023-02-05                     None   \n655457 2023-02-19   2023-03-19                     None   \n655470 2023-01-22   2023-02-05                     None   \n\n       ddl_over_thresh_dt_second  weeks_bw_ftq_first_spins  \\\n0                     2022-11-20                       4.0   \n42                          None                       3.0   \n84                          None                       4.0   \n127                         None                       5.0   \n169                   2022-09-18                       1.0   \n...                          ...                       ...   \n655418                      None                       8.0   \n655431                      None                       7.0   \n655444                      None                       2.0   \n655457                      None                       7.0   \n655470                      None                       3.0   \n\n        weeks_bw_top_quintiles  cuml_song_station_spins_non_on_at_ftq  \\\n0                         15.0                                  114.0   \n42                         2.0                                   46.0   \n84                         6.0                                  133.0   \n127                        5.0                                  187.0   \n169                        6.0                                   16.0   \n...                        ...                                    ...   \n655418                     2.0                                  327.0   \n655431                     2.0                                  489.0   \n655444                     3.0                                   51.0   \n655457                     4.0                                  235.0   \n655470                     2.0                                  116.0   \n\n        cuml_song_station_spins_non_on_at_hit  \\\n0                                       989.0   \n42                                      168.0   \n84                                      445.0   \n127                                     592.0   \n169                                     283.0   \n...                                       ...   \n655418                                  520.0   \n655431                                  691.0   \n655444                                  240.0   \n655457                                  571.0   \n655470                                  253.0   \n\n        cuml_song_station_spins_non_on_at_pre_burnout  \\\n0                                              1086.0   \n42                                              612.0   \n84                                              602.0   \n127                                             748.0   \n169                                             616.0   \n...                                               ...   \n655418                                            NaN   \n655431                                            NaN   \n655444                                            NaN   \n655457                                            NaN   \n655470                                            NaN   \n\n        cuml_song_station_spins_non_on_at_burnout  spins_to_hit_from_ftq  \\\n0                                          1182.0                  875.0   \n42                                            NaN                  122.0   \n84                                            NaN                  312.0   \n127                                           NaN                  405.0   \n169                                         664.0                  267.0   \n...                                           ...                    ...   \n655418                                        NaN                  193.0   \n655431                                        NaN                  202.0   \n655444                                        NaN                  189.0   \n655457                                        NaN                  336.0   \n655470                                        NaN                  137.0   \n\n        spins_to_burnout_from_hit  censoring_flg  hit_tag_year  \n0                           193.0           True          2022  \n42                            NaN          False          2022  \n84                            NaN          False          2022  \n127                           NaN          False          2022  \n169                         381.0           True          2022  \n...                           ...            ...           ...  \n655418                        NaN          False          2023  \n655431                        NaN          False          2023  \n655444                        NaN          False          2023  \n655457                        NaN          False          2023  \n655470                        NaN          False          2023  \n\n[3355 rows x 18 columns]",
      "text/html": "<div>\n<style scoped>\n    .dataframe tbody tr th:only-of-type {\n        vertical-align: middle;\n    }\n\n    .dataframe tbody tr th {\n        vertical-align: top;\n    }\n\n    .dataframe thead th {\n        text-align: right;\n    }\n</style>\n<table border=\"1\" class=\"dataframe\">\n  <thead>\n    <tr style=\"text-align: right;\">\n      <th></th>\n      <th>mediabase_id</th>\n      <th>call_letters</th>\n      <th>song_release_date</th>\n      <th>song_release_year</th>\n      <th>ftq_date</th>\n      <th>hit_tag_date</th>\n      <th>ddl_over_thresh_dt_first</th>\n      <th>ddl_over_thresh_dt_second</th>\n      <th>weeks_bw_ftq_first_spins</th>\n      <th>weeks_bw_top_quintiles</th>\n      <th>cuml_song_station_spins_non_on_at_ftq</th>\n      <th>cuml_song_station_spins_non_on_at_hit</th>\n      <th>cuml_song_station_spins_non_on_at_pre_burnout</th>\n      <th>cuml_song_station_spins_non_on_at_burnout</th>\n      <th>spins_to_hit_from_ftq</th>\n      <th>spins_to_burnout_from_hit</th>\n      <th>censoring_flg</th>\n      <th>hit_tag_year</th>\n    </tr>\n  </thead>\n  <tbody>\n    <tr>\n      <th>0</th>\n      <td>1086587</td>\n      <td>KHTS-FM</td>\n      <td>2022-06-01</td>\n      <td>2022.0</td>\n      <td>2022-07-10</td>\n      <td>2022-10-23</td>\n      <td>2022-11-06</td>\n      <td>2022-11-20</td>\n      <td>4.0</td>\n      <td>15.0</td>\n      <td>114.0</td>\n      <td>989.0</td>\n      <td>1086.0</td>\n      <td>1182.0</td>\n      <td>875.0</td>\n      <td>193.0</td>\n      <td>True</td>\n      <td>2022</td>\n    </tr>\n    <tr>\n      <th>42</th>\n      <td>1086587</td>\n      <td>KIIS-FM</td>\n      <td>2022-06-01</td>\n      <td>2022.0</td>\n      <td>2022-07-03</td>\n      <td>2022-07-17</td>\n      <td>2022-08-21</td>\n      <td>None</td>\n      <td>3.0</td>\n      <td>2.0</td>\n      <td>46.0</td>\n      <td>168.0</td>\n      <td>612.0</td>\n      <td>NaN</td>\n      <td>122.0</td>\n      <td>NaN</td>\n      <td>False</td>\n      <td>2022</td>\n    </tr>\n    <tr>\n      <th>84</th>\n      <td>1086587</td>\n      <td>KYLD-FM</td>\n      <td>2022-06-01</td>\n      <td>2022.0</td>\n      <td>2022-07-03</td>\n      <td>2022-08-14</td>\n      <td>2022-09-11</td>\n      <td>None</td>\n      <td>4.0</td>\n      <td>6.0</td>\n      <td>133.0</td>\n      <td>445.0</td>\n      <td>602.0</td>\n      <td>NaN</td>\n      <td>312.0</td>\n      <td>NaN</td>\n      <td>False</td>\n      <td>2022</td>\n    </tr>\n    <tr>\n      <th>127</th>\n      <td>1086587</td>\n      <td>KZZP-FM</td>\n      <td>2022-06-01</td>\n      <td>2022.0</td>\n      <td>2022-07-17</td>\n      <td>2022-08-21</td>\n      <td>2022-09-18</td>\n      <td>None</td>\n      <td>5.0</td>\n      <td>5.0</td>\n      <td>187.0</td>\n      <td>592.0</td>\n      <td>748.0</td>\n      <td>NaN</td>\n      <td>405.0</td>\n      <td>NaN</td>\n      <td>False</td>\n      <td>2022</td>\n    </tr>\n    <tr>\n      <th>169</th>\n      <td>1086587</td>\n      <td>WHTZ-FM</td>\n      <td>2022-06-01</td>\n      <td>2022.0</td>\n      <td>2022-06-19</td>\n      <td>2022-07-31</td>\n      <td>2022-09-04</td>\n      <td>2022-09-18</td>\n      <td>1.0</td>\n      <td>6.0</td>\n      <td>16.0</td>\n      <td>283.0</td>\n      <td>616.0</td>\n      <td>664.0</td>\n      <td>267.0</td>\n      <td>381.0</td>\n      <td>True</td>\n      <td>2022</td>\n    </tr>\n    <tr>\n      <th>...</th>\n      <td>...</td>\n      <td>...</td>\n      <td>...</td>\n      <td>...</td>\n      <td>...</td>\n      <td>...</td>\n      <td>...</td>\n      <td>...</td>\n      <td>...</td>\n      <td>...</td>\n      <td>...</td>\n      <td>...</td>\n      <td>...</td>\n      <td>...</td>\n      <td>...</td>\n      <td>...</td>\n      <td>...</td>\n      <td>...</td>\n    </tr>\n    <tr>\n      <th>655418</th>\n      <td>2865765</td>\n      <td>WKST-FM</td>\n      <td>2022-12-01</td>\n      <td>2022.0</td>\n      <td>2023-02-26</td>\n      <td>2023-03-12</td>\n      <td>None</td>\n      <td>None</td>\n      <td>8.0</td>\n      <td>2.0</td>\n      <td>327.0</td>\n      <td>520.0</td>\n      <td>NaN</td>\n      <td>NaN</td>\n      <td>193.0</td>\n      <td>NaN</td>\n      <td>False</td>\n      <td>2023</td>\n    </tr>\n    <tr>\n      <th>655431</th>\n      <td>2865765</td>\n      <td>WWPW-FM</td>\n      <td>2022-12-01</td>\n      <td>2022.0</td>\n      <td>2023-02-19</td>\n      <td>2023-03-05</td>\n      <td>None</td>\n      <td>None</td>\n      <td>7.0</td>\n      <td>2.0</td>\n      <td>489.0</td>\n      <td>691.0</td>\n      <td>NaN</td>\n      <td>NaN</td>\n      <td>202.0</td>\n      <td>NaN</td>\n      <td>False</td>\n      <td>2023</td>\n    </tr>\n    <tr>\n      <th>655444</th>\n      <td>2865765</td>\n      <td>WXKS-FM</td>\n      <td>2022-12-01</td>\n      <td>2022.0</td>\n      <td>2023-01-15</td>\n      <td>2023-02-05</td>\n      <td>None</td>\n      <td>None</td>\n      <td>2.0</td>\n      <td>3.0</td>\n      <td>51.0</td>\n      <td>240.0</td>\n      <td>NaN</td>\n      <td>NaN</td>\n      <td>189.0</td>\n      <td>NaN</td>\n      <td>False</td>\n      <td>2023</td>\n    </tr>\n    <tr>\n      <th>655457</th>\n      <td>2865765</td>\n      <td>WXXL-FM</td>\n      <td>2022-12-01</td>\n      <td>2022.0</td>\n      <td>2023-02-19</td>\n      <td>2023-03-19</td>\n      <td>None</td>\n      <td>None</td>\n      <td>7.0</td>\n      <td>4.0</td>\n      <td>235.0</td>\n      <td>571.0</td>\n      <td>NaN</td>\n      <td>NaN</td>\n      <td>336.0</td>\n      <td>NaN</td>\n      <td>False</td>\n      <td>2023</td>\n    </tr>\n    <tr>\n      <th>655470</th>\n      <td>2865765</td>\n      <td>WZFT-FM</td>\n      <td>2022-12-01</td>\n      <td>2022.0</td>\n      <td>2023-01-22</td>\n      <td>2023-02-05</td>\n      <td>None</td>\n      <td>None</td>\n      <td>3.0</td>\n      <td>2.0</td>\n      <td>116.0</td>\n      <td>253.0</td>\n      <td>NaN</td>\n      <td>NaN</td>\n      <td>137.0</td>\n      <td>NaN</td>\n      <td>False</td>\n      <td>2023</td>\n    </tr>\n  </tbody>\n</table>\n<p>3355 rows × 18 columns</p>\n</div>"
     },
     "execution_count": 94,
     "metadata": {},
     "output_type": "execute_result"
    }
   ],
   "source": [
    "df_hits_tracker"
   ],
   "metadata": {
    "collapsed": false,
    "pycharm": {
     "name": "#%%\n"
    }
   }
  },
  {
   "cell_type": "code",
   "execution_count": 97,
   "outputs": [
    {
     "data": {
      "text/plain": "              mediabase_id      \ncensoring_flg        False True \nhit_tag_year                    \n2017                    53   456\n2018                    88   571\n2019                   107   492\n2020                   121   366\n2021                   200   385\n2022                   176   208\n2023                   125     7",
      "text/html": "<div>\n<style scoped>\n    .dataframe tbody tr th:only-of-type {\n        vertical-align: middle;\n    }\n\n    .dataframe tbody tr th {\n        vertical-align: top;\n    }\n\n    .dataframe thead tr th {\n        text-align: left;\n    }\n\n    .dataframe thead tr:last-of-type th {\n        text-align: right;\n    }\n</style>\n<table border=\"1\" class=\"dataframe\">\n  <thead>\n    <tr>\n      <th></th>\n      <th colspan=\"2\" halign=\"left\">mediabase_id</th>\n    </tr>\n    <tr>\n      <th>censoring_flg</th>\n      <th>False</th>\n      <th>True</th>\n    </tr>\n    <tr>\n      <th>hit_tag_year</th>\n      <th></th>\n      <th></th>\n    </tr>\n  </thead>\n  <tbody>\n    <tr>\n      <th>2017</th>\n      <td>53</td>\n      <td>456</td>\n    </tr>\n    <tr>\n      <th>2018</th>\n      <td>88</td>\n      <td>571</td>\n    </tr>\n    <tr>\n      <th>2019</th>\n      <td>107</td>\n      <td>492</td>\n    </tr>\n    <tr>\n      <th>2020</th>\n      <td>121</td>\n      <td>366</td>\n    </tr>\n    <tr>\n      <th>2021</th>\n      <td>200</td>\n      <td>385</td>\n    </tr>\n    <tr>\n      <th>2022</th>\n      <td>176</td>\n      <td>208</td>\n    </tr>\n    <tr>\n      <th>2023</th>\n      <td>125</td>\n      <td>7</td>\n    </tr>\n  </tbody>\n</table>\n</div>"
     },
     "execution_count": 97,
     "metadata": {},
     "output_type": "execute_result"
    }
   ],
   "source": [
    "pd.DataFrame(\n",
    "    df_hits_tracker.groupby(['hit_tag_year', 'censoring_flg'])['mediabase_id'].count().reset_index()).pivot_table(\n",
    "    index=['hit_tag_year'], columns=['censoring_flg'], values=['mediabase_id'])"
   ],
   "metadata": {
    "collapsed": false,
    "pycharm": {
     "name": "#%%\n"
    }
   }
  },
  {
   "cell_type": "code",
   "execution_count": 104,
   "outputs": [
    {
     "data": {
      "text/plain": "<Figure size 640x480 with 1 Axes>",
      "image/png": "[encoded data removed]"
     },
     "metadata": {},
     "output_type": "display_data"
    }
   ],
   "source": [
    "from sksurv.nonparametric import kaplan_meier_estimator\n",
    "import matplotlib.pyplot as plt\n",
    "\n",
    "for treatment_type in pd.unique(df_hits_tracker['hit_tag_year']):\n",
    "    if treatment_type < 2022:\n",
    "        mask_treat = df_hits_tracker[\"hit_tag_year\"] == treatment_type\n",
    "        time_treatment, survival_prob_treatment = kaplan_meier_estimator(\n",
    "            df_hits_tracker[\"censoring_flg\"][mask_treat],\n",
    "            df_hits_tracker[\"spins_to_burnout_from_hit\"][mask_treat].fillna(2500))\n",
    "\n",
    "        plt.step(time_treatment, 100 * survival_prob_treatment, where=\"post\",\n",
    "                 label=\"%s\" % int(treatment_type))\n",
    "\n",
    "plt.xlim([0, 2500])\n",
    "plt.ylabel(\"probability of survival(no burnout) (%)\")\n",
    "plt.xlabel(\"spins from hit\")\n",
    "plt.legend(loc=\"best\")\n",
    "plt.grid()\n",
    "#plt.tight_layout()\n",
    "plt.savefig('burnout_by_year.jpeg', format='jpeg', dpi=300)"
   ],
   "metadata": {
    "collapsed": false,
    "pycharm": {
     "name": "#%%\n"
    }
   }
  },
  {
   "cell_type": "code",
   "execution_count": 102,
   "outputs": [
    {
     "name": "stderr",
     "output_type": "stream",
     "text": [
      "/Users/girishhanumantha/Documents/GitHub/adds-early-burnout-warning-model/venv/lib/python3.7/site-packages/ipykernel_launcher.py:5: SettingWithCopyWarning: \n",
      "A value is trying to be set on a copy of a slice from a DataFrame.\n",
      "Try using .loc[row_indexer,col_indexer] = value instead\n",
      "\n",
      "See the caveats in the documentation: https://pandas.pydata.org/pandas-docs/stable/user_guide/indexing.html#returning-a-view-versus-a-copy\n",
      "  \"\"\"\n"
     ]
    }
   ],
   "source": [
    "from sksurv.compare import compare_survival\n",
    "\n",
    "mask = (df_hits_tracker['hit_tag_year'] >= 2020) & (df_hits_tracker['hit_tag_year'] <= 2021)\n",
    "df_sub = df_hits_tracker.loc[mask]\n",
    "df_sub['spins_to_burnout_from_hit'] = df_sub['spins_to_burnout_from_hit'].fillna(2500)\n",
    "y_cols = ['censoring_flg', 'spins_to_burnout_from_hit']\n",
    "chisq, pvalue, stats, covariance = compare_survival(df_sub[y_cols].to_records(index=False),\n",
    "                                                    group_indicator=df_sub['hit_tag_year'],\n",
    "                                                    return_stats=True)"
   ],
   "metadata": {
    "collapsed": false,
    "pycharm": {
     "name": "#%%\n"
    }
   }
  },
  {
   "cell_type": "code",
   "execution_count": 103,
   "outputs": [
    {
     "data": {
      "text/plain": "0.0005715849387866567"
     },
     "execution_count": 103,
     "metadata": {},
     "output_type": "execute_result"
    }
   ],
   "source": [
    "pvalue"
   ],
   "metadata": {
    "collapsed": false,
    "pycharm": {
     "name": "#%%\n"
    }
   }
  },
  {
   "cell_type": "code",
   "execution_count": 100,
   "outputs": [],
   "source": [
    "stats['burn_perc'] = stats['observed'] / stats['counts']"
   ],
   "metadata": {
    "collapsed": false,
    "pycharm": {
     "name": "#%%\n"
    }
   }
  },
  {
   "cell_type": "code",
   "execution_count": 101,
   "outputs": [
    {
     "data": {
      "text/plain": "       counts  observed    expected   statistic  burn_perc\ngroup                                                     \n2017      509       456  330.323059  125.676941   0.895874\n2018      659       571  456.309774  114.690226   0.866464\n2019      599       492  471.083814   20.916186   0.821369\n2020      487       366  430.685674  -64.685674   0.751540\n2021      585       385  581.597680 -196.597680   0.658120",
      "text/html": "<div>\n<style scoped>\n    .dataframe tbody tr th:only-of-type {\n        vertical-align: middle;\n    }\n\n    .dataframe tbody tr th {\n        vertical-align: top;\n    }\n\n    .dataframe thead th {\n        text-align: right;\n    }\n</style>\n<table border=\"1\" class=\"dataframe\">\n  <thead>\n    <tr style=\"text-align: right;\">\n      <th></th>\n      <th>counts</th>\n      <th>observed</th>\n      <th>expected</th>\n      <th>statistic</th>\n      <th>burn_perc</th>\n    </tr>\n    <tr>\n      <th>group</th>\n      <th></th>\n      <th></th>\n      <th></th>\n      <th></th>\n      <th></th>\n    </tr>\n  </thead>\n  <tbody>\n    <tr>\n      <th>2017</th>\n      <td>509</td>\n      <td>456</td>\n      <td>330.323059</td>\n      <td>125.676941</td>\n      <td>0.895874</td>\n    </tr>\n    <tr>\n      <th>2018</th>\n      <td>659</td>\n      <td>571</td>\n      <td>456.309774</td>\n      <td>114.690226</td>\n      <td>0.866464</td>\n    </tr>\n    <tr>\n      <th>2019</th>\n      <td>599</td>\n      <td>492</td>\n      <td>471.083814</td>\n      <td>20.916186</td>\n      <td>0.821369</td>\n    </tr>\n    <tr>\n      <th>2020</th>\n      <td>487</td>\n      <td>366</td>\n      <td>430.685674</td>\n      <td>-64.685674</td>\n      <td>0.751540</td>\n    </tr>\n    <tr>\n      <th>2021</th>\n      <td>585</td>\n      <td>385</td>\n      <td>581.597680</td>\n      <td>-196.597680</td>\n      <td>0.658120</td>\n    </tr>\n  </tbody>\n</table>\n</div>"
     },
     "execution_count": 101,
     "metadata": {},
     "output_type": "execute_result"
    }
   ],
   "source": [
    "stats"
   ],
   "metadata": {
    "collapsed": false,
    "pycharm": {
     "name": "#%%\n"
    }
   }
  },
  {
   "cell_type": "markdown",
   "source": [
    "#### quick detour to create spins to burn from hit bucket"
   ],
   "metadata": {
    "collapsed": false
   }
  },
  {
   "cell_type": "code",
   "execution_count": 9,
   "outputs": [],
   "source": [
    "df_raw_features['spins_to_burnout_from_hit_bucket'] = pd.cut(df_raw_features['spins_to_burnout_from_hit'].fillna(3001), bins=[0, 800, 1300, 1900, 3000, np.ceil(\n",
    "    np.max(df_raw_features['spins_to_burnout_from_hit']) / 50) * 50]).astype(str).str.replace(', ', '-').str.strip('()[]')"
   ],
   "metadata": {
    "collapsed": false,
    "pycharm": {
     "name": "#%%\n"
    }
   }
  },
  {
   "cell_type": "markdown",
   "source": [
    "##### train-test split and setup"
   ],
   "metadata": {
    "collapsed": false
   }
  },
  {
   "cell_type": "code",
   "execution_count": 73,
   "outputs": [],
   "source": [
    "# training data\n",
    "mask_train = (df_raw_features['weeks_since_hit'] > 0) & (df_raw_features['hit_tag_year'] >= 2020) & (\n",
    "        df_raw_features['hit_tag_year'] <= 2021) & (\n",
    "                         df_raw_features['week_dt'] <= df_raw_features['week_dt_at_burnout'].fillna(\n",
    "                     df_raw_features['week_dt']))\n",
    "#target_cols = ['spins_to_burnout_from_hit_bucket']\n",
    "target_cols = ['censoring_flg']\n",
    "id_cols = ['mediabase_id', 'call_letters', 'weeks_since_hit']\n",
    "cat_cols = ['market_name']\n",
    "df_train_prep = df_raw_features.loc[mask_train, id_cols + target_cols + feature_cols + cat_cols]\n",
    "df_train_prep.set_index(id_cols, inplace=True)"
   ],
   "metadata": {
    "collapsed": false,
    "pycharm": {
     "name": "#%%\n"
    }
   }
  },
  {
   "cell_type": "code",
   "execution_count": 105,
   "outputs": [],
   "source": [
    "df_censoring_by_wk = df_train_prep.groupby(['weeks_since_hit', 'censoring_flg'])['market_name'].count().reset_index().pivot_table(index=['weeks_since_hit'], columns=['censoring_flg'], values=['market_name']).reset_index()"
   ],
   "metadata": {
    "collapsed": false,
    "pycharm": {
     "name": "#%%\n"
    }
   }
  },
  {
   "cell_type": "code",
   "execution_count": 106,
   "outputs": [
    {
     "data": {
      "text/plain": "              weeks_since_hit market_name       \ncensoring_flg                       False   True\n0                         1.0       321.0  751.0\n1                         2.0       321.0  751.0\n2                         3.0       321.0  741.0\n3                         4.0       321.0  736.0\n4                         5.0       321.0  711.0\n..                        ...         ...    ...\n163                     164.0        13.0    NaN\n164                     165.0        12.0    NaN\n165                     166.0         9.0    NaN\n166                     167.0         6.0    NaN\n167                     168.0         6.0    NaN\n\n[168 rows x 3 columns]",
      "text/html": "<div>\n<style scoped>\n    .dataframe tbody tr th:only-of-type {\n        vertical-align: middle;\n    }\n\n    .dataframe tbody tr th {\n        vertical-align: top;\n    }\n\n    .dataframe thead tr th {\n        text-align: left;\n    }\n</style>\n<table border=\"1\" class=\"dataframe\">\n  <thead>\n    <tr>\n      <th></th>\n      <th>weeks_since_hit</th>\n      <th colspan=\"2\" halign=\"left\">market_name</th>\n    </tr>\n    <tr>\n      <th>censoring_flg</th>\n      <th></th>\n      <th>False</th>\n      <th>True</th>\n    </tr>\n  </thead>\n  <tbody>\n    <tr>\n      <th>0</th>\n      <td>1.0</td>\n      <td>321.0</td>\n      <td>751.0</td>\n    </tr>\n    <tr>\n      <th>1</th>\n      <td>2.0</td>\n      <td>321.0</td>\n      <td>751.0</td>\n    </tr>\n    <tr>\n      <th>2</th>\n      <td>3.0</td>\n      <td>321.0</td>\n      <td>741.0</td>\n    </tr>\n    <tr>\n      <th>3</th>\n      <td>4.0</td>\n      <td>321.0</td>\n      <td>736.0</td>\n    </tr>\n    <tr>\n      <th>4</th>\n      <td>5.0</td>\n      <td>321.0</td>\n      <td>711.0</td>\n    </tr>\n    <tr>\n      <th>...</th>\n      <td>...</td>\n      <td>...</td>\n      <td>...</td>\n    </tr>\n    <tr>\n      <th>163</th>\n      <td>164.0</td>\n      <td>13.0</td>\n      <td>NaN</td>\n    </tr>\n    <tr>\n      <th>164</th>\n      <td>165.0</td>\n      <td>12.0</td>\n      <td>NaN</td>\n    </tr>\n    <tr>\n      <th>165</th>\n      <td>166.0</td>\n      <td>9.0</td>\n      <td>NaN</td>\n    </tr>\n    <tr>\n      <th>166</th>\n      <td>167.0</td>\n      <td>6.0</td>\n      <td>NaN</td>\n    </tr>\n    <tr>\n      <th>167</th>\n      <td>168.0</td>\n      <td>6.0</td>\n      <td>NaN</td>\n    </tr>\n  </tbody>\n</table>\n<p>168 rows × 3 columns</p>\n</div>"
     },
     "execution_count": 106,
     "metadata": {},
     "output_type": "execute_result"
    }
   ],
   "source": [
    "df_censoring_by_wk"
   ],
   "metadata": {
    "collapsed": false,
    "pycharm": {
     "name": "#%%\n"
    }
   }
  },
  {
   "cell_type": "code",
   "execution_count": 110,
   "outputs": [],
   "source": [
    "df_censoring_by_wk.columns=['weeks_since_hit', 'censoring_flg_False', 'censoring_flg_True']"
   ],
   "metadata": {
    "collapsed": false,
    "pycharm": {
     "name": "#%%\n"
    }
   }
  },
  {
   "cell_type": "code",
   "execution_count": 111,
   "outputs": [],
   "source": [
    "df_censoring_by_wk['censoring_percent'] = df_censoring_by_wk['censoring_flg_False'] / (\n",
    "            df_censoring_by_wk['censoring_flg_True'] + df_censoring_by_wk['censoring_flg_False'])"
   ],
   "metadata": {
    "collapsed": false,
    "pycharm": {
     "name": "#%%\n"
    }
   }
  },
  {
   "cell_type": "code",
   "execution_count": 114,
   "outputs": [
    {
     "data": {
      "text/plain": "[<matplotlib.lines.Line2D at 0x7f8073d8e610>]"
     },
     "execution_count": 114,
     "metadata": {},
     "output_type": "execute_result"
    },
    {
     "data": {
      "text/plain": "<Figure size 640x480 with 1 Axes>",
      "image/png": "[encoded data removed]"
     },
     "metadata": {},
     "output_type": "display_data"
    }
   ],
   "source": [
    "import matplotlib.pyplot as plt\n",
    "plt.plot(df_censoring_by_wk['weeks_since_hit'], df_censoring_by_wk['censoring_percent']*100)"
   ],
   "metadata": {
    "collapsed": false,
    "pycharm": {
     "name": "#%%\n"
    }
   }
  },
  {
   "cell_type": "code",
   "execution_count": null,
   "outputs": [],
   "source": [],
   "metadata": {
    "collapsed": false,
    "pycharm": {
     "name": "#%%\n"
    }
   }
  },
  {
   "cell_type": "code",
   "execution_count": 34,
   "outputs": [
    {
     "data": {
      "text/plain": "                                           censoring_flg  \\\nmediabase_id call_letters weeks_since_hit                  \n2305938      KZHT-FM      1.0                       True   \n                          2.0                       True   \n                          3.0                       True   \n                          4.0                       True   \n                          5.0                       True   \n...                                                  ...   \n2750191      WWPW-FM      65.0                     False   \n                          66.0                     False   \n                          67.0                     False   \n                          68.0                     False   \n                          69.0                     False   \n\n                                           song_market_spins_total_prior_26wk_min  \\\nmediabase_id call_letters weeks_since_hit                                           \n2305938      KZHT-FM      1.0                                                 2.0   \n                          2.0                                                 2.0   \n                          3.0                                                 2.0   \n                          4.0                                                 2.0   \n                          5.0                                                 2.0   \n...                                                                           ...   \n2750191      WWPW-FM      65.0                                               16.0   \n                          66.0                                               16.0   \n                          67.0                                               16.0   \n                          68.0                                               16.0   \n                          69.0                                               16.0   \n\n                                           artist_format_fav_prior_8wk_mean  \\\nmediabase_id call_letters weeks_since_hit                                     \n2305938      KZHT-FM      1.0                                     22.750000   \n                          2.0                                     22.875000   \n                          3.0                                     23.125000   \n                          4.0                                     23.000000   \n                          5.0                                     22.250000   \n...                                                                     ...   \n2750191      WWPW-FM      65.0                                    29.500000   \n                          66.0                                    29.500000   \n                          67.0                                    27.666667   \n                          68.0                                    25.666667   \n                          69.0                                    24.333333   \n\n                                           artist_format_pop_prior_8wk_max  \\\nmediabase_id call_letters weeks_since_hit                                    \n2305938      KZHT-FM      1.0                                         84.0   \n                          2.0                                         84.0   \n                          3.0                                         84.0   \n                          4.0                                         84.0   \n                          5.0                                         82.0   \n...                                                                    ...   \n2750191      WWPW-FM      65.0                                        91.0   \n                          66.0                                        91.0   \n                          67.0                                        91.0   \n                          68.0                                        91.0   \n                          69.0                                        84.0   \n\n                                           song_format_ddl_prior_13wk_max  \\\nmediabase_id call_letters weeks_since_hit                                   \n2305938      KZHT-FM      1.0                                        28.0   \n                          2.0                                        28.0   \n                          3.0                                        28.0   \n                          4.0                                        28.0   \n                          5.0                                        29.0   \n...                                                                   ...   \n2750191      WWPW-FM      65.0                                       16.0   \n                          66.0                                       16.0   \n                          67.0                                       22.0   \n                          68.0                                       29.0   \n                          69.0                                       29.0   \n\n                                           song_station_pop_prior_13wk_max  \\\nmediabase_id call_letters weeks_since_hit                                    \n2305938      KZHT-FM      1.0                                         87.0   \n                          2.0                                         87.0   \n                          3.0                                         87.0   \n                          4.0                                         87.0   \n                          5.0                                         87.0   \n...                                                                    ...   \n2750191      WWPW-FM      65.0                                        86.0   \n                          66.0                                        86.0   \n                          67.0                                        86.0   \n                          68.0                                        86.0   \n                          69.0                                        86.0   \n\n                                           std_stream_count_prior_unv_prior_4wk_min  \\\nmediabase_id call_letters weeks_since_hit                                             \n2305938      KZHT-FM      1.0                                          1.142935e+06   \n                          2.0                                          1.142935e+06   \n                          3.0                                          1.144959e+06   \n                          4.0                                          1.147263e+06   \n                          5.0                                          1.149438e+06   \n...                                                                             ...   \n2750191      WWPW-FM      65.0                                         2.305926e+05   \n                          66.0                                         2.305926e+05   \n                          67.0                                         2.305926e+05   \n                          68.0                                         2.305926e+05   \n                          69.0                                         2.305926e+05   \n\n                                           max_thumbs_up_rate_prior_unv_prior_13wk_min  \\\nmediabase_id call_letters weeks_since_hit                                                \n2305938      KZHT-FM      1.0                                                 0.881367   \n                          2.0                                                 0.881367   \n                          3.0                                                 0.881367   \n                          4.0                                                 0.881367   \n                          5.0                                                 0.881367   \n...                                                                                ...   \n2750191      WWPW-FM      65.0                                                1.000000   \n                          66.0                                                1.000000   \n                          67.0                                                1.000000   \n                          68.0                                                1.000000   \n                          69.0                                                1.000000   \n\n                                           song_market_spins_total_prior_13wk_min  \\\nmediabase_id call_letters weeks_since_hit                                           \n2305938      KZHT-FM      1.0                                                 2.0   \n                          2.0                                                 2.0   \n                          3.0                                                 2.0   \n                          4.0                                                 2.0   \n                          5.0                                                 2.0   \n...                                                                           ...   \n2750191      WWPW-FM      65.0                                               16.0   \n                          66.0                                               16.0   \n                          67.0                                               16.0   \n                          68.0                                               16.0   \n                          69.0                                               16.0   \n\n                                           song_format_ddl_prior_13wk_min  \\\nmediabase_id call_letters weeks_since_hit                                   \n2305938      KZHT-FM      1.0                                        14.0   \n                          2.0                                        14.0   \n                          3.0                                        14.0   \n                          4.0                                        14.0   \n                          5.0                                        14.0   \n...                                                                   ...   \n2750191      WWPW-FM      65.0                                       12.0   \n                          66.0                                       12.0   \n                          67.0                                       12.0   \n                          68.0                                       12.0   \n                          69.0                                       12.0   \n\n                                           ...  \\\nmediabase_id call_letters weeks_since_hit  ...   \n2305938      KZHT-FM      1.0              ...   \n                          2.0              ...   \n                          3.0              ...   \n                          4.0              ...   \n                          5.0              ...   \n...                                        ...   \n2750191      WWPW-FM      65.0             ...   \n                          66.0             ...   \n                          67.0             ...   \n                          68.0             ...   \n                          69.0             ...   \n\n                                           count_song_format_pop_prior_13wk_max  \\\nmediabase_id call_letters weeks_since_hit                                         \n2305938      KZHT-FM      1.0                                               4.0   \n                          2.0                                               4.0   \n                          3.0                                               4.0   \n                          4.0                                               4.0   \n                          5.0                                               4.0   \n...                                                                         ...   \n2750191      WWPW-FM      65.0                                              2.0   \n                          66.0                                              2.0   \n                          67.0                                              2.0   \n                          68.0                                              2.0   \n                          69.0                                              2.0   \n\n                                           artist_format_spins_am_pm_dr_prior_4wk_std  \\\nmediabase_id call_letters weeks_since_hit                                               \n2305938      KZHT-FM      1.0                                              768.598074   \n                          2.0                                             1069.848276   \n                          3.0                                              911.716102   \n                          4.0                                              448.891969   \n                          5.0                                              338.302010   \n...                                                                               ...   \n2750191      WWPW-FM      65.0                                              34.102786   \n                          66.0                                              39.353102   \n                          67.0                                              37.214469   \n                          68.0                                              40.161134   \n                          69.0                                              51.279463   \n\n                                           song_station_fav_prior_26wk_std  \\\nmediabase_id call_letters weeks_since_hit                                    \n2305938      KZHT-FM      1.0                                     3.535534   \n                          2.0                                     3.535534   \n                          3.0                                     2.886751   \n                          4.0                                     2.886751   \n                          5.0                                     2.886751   \n...                                                                    ...   \n2750191      WWPW-FM      65.0                                    3.535534   \n                          66.0                                    3.535534   \n                          67.0                                    3.535534   \n                          68.0                                    3.535534   \n                          69.0                                    3.535534   \n\n                                           song_station_spins_am_pm_dr_prior_4wk_std  \\\nmediabase_id call_letters weeks_since_hit                                              \n2305938      KZHT-FM      1.0                                              22.381168   \n                          2.0                                              19.612921   \n                          3.0                                               3.559026   \n                          4.0                                              11.086779   \n                          5.0                                              14.174508   \n...                                                                              ...   \n2750191      WWPW-FM      65.0                                              0.000000   \n                          66.0                                              0.000000   \n                          67.0                                              0.000000   \n                          68.0                                              0.000000   \n                          69.0                                              0.000000   \n\n                                           artist_station_spins_non_on_prior_4wk_max  \\\nmediabase_id call_letters weeks_since_hit                                              \n2305938      KZHT-FM      1.0                                                  152.0   \n                          2.0                                                  152.0   \n                          3.0                                                  152.0   \n                          4.0                                                  152.0   \n                          5.0                                                  147.0   \n...                                                                              ...   \n2750191      WWPW-FM      65.0                                                   1.0   \n                          66.0                                                   0.0   \n                          67.0                                                   0.0   \n                          68.0                                                   0.0   \n                          69.0                                                   0.0   \n\n                                           artist_format_spins_am_pm_dr_prior_13wk_min  \\\nmediabase_id call_letters weeks_since_hit                                                \n2305938      KZHT-FM      1.0                                                   6704.0   \n                          2.0                                                   7743.0   \n                          3.0                                                   8682.0   \n                          4.0                                                  10181.0   \n                          5.0                                                  10583.0   \n...                                                                                ...   \n2750191      WWPW-FM      65.0                                                   496.0   \n                          66.0                                                   496.0   \n                          67.0                                                   496.0   \n                          68.0                                                   518.0   \n                          69.0                                                   477.0   \n\n                                           song_market_spins_non_on_prior_26wk_max  \\\nmediabase_id call_letters weeks_since_hit                                            \n2305938      KZHT-FM      1.0                                                 65.0   \n                          2.0                                                 65.0   \n                          3.0                                                 68.0   \n                          4.0                                                 68.0   \n                          5.0                                                 68.0   \n...                                                                            ...   \n2750191      WWPW-FM      65.0                                                36.0   \n                          66.0                                                32.0   \n                          67.0                                                20.0   \n                          68.0                                                20.0   \n                          69.0                                                20.0   \n\n                                           count_artist_format_pop_prior_4wk_min  \\\nmediabase_id call_letters weeks_since_hit                                          \n2305938      KZHT-FM      1.0                                               14.0   \n                          2.0                                               14.0   \n                          3.0                                               14.0   \n                          4.0                                               18.0   \n                          5.0                                               18.0   \n...                                                                          ...   \n2750191      WWPW-FM      65.0                                               3.0   \n                          66.0                                               3.0   \n                          67.0                                               1.0   \n                          68.0                                               1.0   \n                          69.0                                               1.0   \n\n                                           artist_spins_propn_prior_4wk_mean  \\\nmediabase_id call_letters weeks_since_hit                                      \n2305938      KZHT-FM      1.0                                   1.953141e-01   \n                          2.0                                   2.636418e-01   \n                          3.0                                   3.486758e-01   \n                          4.0                                   3.167977e-01   \n                          5.0                                   2.472308e-01   \n...                                                                      ...   \n2750191      WWPW-FM      65.0                                  3.197442e-14   \n                          66.0                                  3.197442e-14   \n                          67.0                                  3.197442e-14   \n                          68.0                                  3.197442e-14   \n                          69.0                                  3.197442e-14   \n\n                                           artist_station_spins_total_prior_26wk_mean  \nmediabase_id call_letters weeks_since_hit                                              \n2305938      KZHT-FM      1.0                                               55.730769  \n                          2.0                                               63.153846  \n                          3.0                                               70.807692  \n                          4.0                                               76.461538  \n                          5.0                                               80.730769  \n...                                                                               ...  \n2750191      WWPW-FM      65.0                                               1.769231  \n                          66.0                                               1.769231  \n                          67.0                                               1.769231  \n                          68.0                                               1.653846  \n                          69.0                                               1.576923  \n\n[50072 rows x 881 columns]",
      "text/html": "<div>\n<style scoped>\n    .dataframe tbody tr th:only-of-type {\n        vertical-align: middle;\n    }\n\n    .dataframe tbody tr th {\n        vertical-align: top;\n    }\n\n    .dataframe thead th {\n        text-align: right;\n    }\n</style>\n<table border=\"1\" class=\"dataframe\">\n  <thead>\n    <tr style=\"text-align: right;\">\n      <th></th>\n      <th></th>\n      <th></th>\n      <th>censoring_flg</th>\n      <th>song_market_spins_total_prior_26wk_min</th>\n      <th>artist_format_fav_prior_8wk_mean</th>\n      <th>artist_format_pop_prior_8wk_max</th>\n      <th>song_format_ddl_prior_13wk_max</th>\n      <th>song_station_pop_prior_13wk_max</th>\n      <th>std_stream_count_prior_unv_prior_4wk_min</th>\n      <th>max_thumbs_up_rate_prior_unv_prior_13wk_min</th>\n      <th>song_market_spins_total_prior_13wk_min</th>\n      <th>song_format_ddl_prior_13wk_min</th>\n      <th>...</th>\n      <th>count_song_format_pop_prior_13wk_max</th>\n      <th>artist_format_spins_am_pm_dr_prior_4wk_std</th>\n      <th>song_station_fav_prior_26wk_std</th>\n      <th>song_station_spins_am_pm_dr_prior_4wk_std</th>\n      <th>artist_station_spins_non_on_prior_4wk_max</th>\n      <th>artist_format_spins_am_pm_dr_prior_13wk_min</th>\n      <th>song_market_spins_non_on_prior_26wk_max</th>\n      <th>count_artist_format_pop_prior_4wk_min</th>\n      <th>artist_spins_propn_prior_4wk_mean</th>\n      <th>artist_station_spins_total_prior_26wk_mean</th>\n    </tr>\n    <tr>\n      <th>mediabase_id</th>\n      <th>call_letters</th>\n      <th>weeks_since_hit</th>\n      <th></th>\n      <th></th>\n      <th></th>\n      <th></th>\n      <th></th>\n      <th></th>\n      <th></th>\n      <th></th>\n      <th></th>\n      <th></th>\n      <th></th>\n      <th></th>\n      <th></th>\n      <th></th>\n      <th></th>\n      <th></th>\n      <th></th>\n      <th></th>\n      <th></th>\n      <th></th>\n      <th></th>\n    </tr>\n  </thead>\n  <tbody>\n    <tr>\n      <th rowspan=\"5\" valign=\"top\">2305938</th>\n      <th rowspan=\"5\" valign=\"top\">KZHT-FM</th>\n      <th>1.0</th>\n      <td>True</td>\n      <td>2.0</td>\n      <td>22.750000</td>\n      <td>84.0</td>\n      <td>28.0</td>\n      <td>87.0</td>\n      <td>1.142935e+06</td>\n      <td>0.881367</td>\n      <td>2.0</td>\n      <td>14.0</td>\n      <td>...</td>\n      <td>4.0</td>\n      <td>768.598074</td>\n      <td>3.535534</td>\n      <td>22.381168</td>\n      <td>152.0</td>\n      <td>6704.0</td>\n      <td>65.0</td>\n      <td>14.0</td>\n      <td>1.953141e-01</td>\n      <td>55.730769</td>\n    </tr>\n    <tr>\n      <th>2.0</th>\n      <td>True</td>\n      <td>2.0</td>\n      <td>22.875000</td>\n      <td>84.0</td>\n      <td>28.0</td>\n      <td>87.0</td>\n      <td>1.142935e+06</td>\n      <td>0.881367</td>\n      <td>2.0</td>\n      <td>14.0</td>\n      <td>...</td>\n      <td>4.0</td>\n      <td>1069.848276</td>\n      <td>3.535534</td>\n      <td>19.612921</td>\n      <td>152.0</td>\n      <td>7743.0</td>\n      <td>65.0</td>\n      <td>14.0</td>\n      <td>2.636418e-01</td>\n      <td>63.153846</td>\n    </tr>\n    <tr>\n      <th>3.0</th>\n      <td>True</td>\n      <td>2.0</td>\n      <td>23.125000</td>\n      <td>84.0</td>\n      <td>28.0</td>\n      <td>87.0</td>\n      <td>1.144959e+06</td>\n      <td>0.881367</td>\n      <td>2.0</td>\n      <td>14.0</td>\n      <td>...</td>\n      <td>4.0</td>\n      <td>911.716102</td>\n      <td>2.886751</td>\n      <td>3.559026</td>\n      <td>152.0</td>\n      <td>8682.0</td>\n      <td>68.0</td>\n      <td>14.0</td>\n      <td>3.486758e-01</td>\n      <td>70.807692</td>\n    </tr>\n    <tr>\n      <th>4.0</th>\n      <td>True</td>\n      <td>2.0</td>\n      <td>23.000000</td>\n      <td>84.0</td>\n      <td>28.0</td>\n      <td>87.0</td>\n      <td>1.147263e+06</td>\n      <td>0.881367</td>\n      <td>2.0</td>\n      <td>14.0</td>\n      <td>...</td>\n      <td>4.0</td>\n      <td>448.891969</td>\n      <td>2.886751</td>\n      <td>11.086779</td>\n      <td>152.0</td>\n      <td>10181.0</td>\n      <td>68.0</td>\n      <td>18.0</td>\n      <td>3.167977e-01</td>\n      <td>76.461538</td>\n    </tr>\n    <tr>\n      <th>5.0</th>\n      <td>True</td>\n      <td>2.0</td>\n      <td>22.250000</td>\n      <td>82.0</td>\n      <td>29.0</td>\n      <td>87.0</td>\n      <td>1.149438e+06</td>\n      <td>0.881367</td>\n      <td>2.0</td>\n      <td>14.0</td>\n      <td>...</td>\n      <td>4.0</td>\n      <td>338.302010</td>\n      <td>2.886751</td>\n      <td>14.174508</td>\n      <td>147.0</td>\n      <td>10583.0</td>\n      <td>68.0</td>\n      <td>18.0</td>\n      <td>2.472308e-01</td>\n      <td>80.730769</td>\n    </tr>\n    <tr>\n      <th>...</th>\n      <th>...</th>\n      <th>...</th>\n      <td>...</td>\n      <td>...</td>\n      <td>...</td>\n      <td>...</td>\n      <td>...</td>\n      <td>...</td>\n      <td>...</td>\n      <td>...</td>\n      <td>...</td>\n      <td>...</td>\n      <td>...</td>\n      <td>...</td>\n      <td>...</td>\n      <td>...</td>\n      <td>...</td>\n      <td>...</td>\n      <td>...</td>\n      <td>...</td>\n      <td>...</td>\n      <td>...</td>\n      <td>...</td>\n    </tr>\n    <tr>\n      <th rowspan=\"5\" valign=\"top\">2750191</th>\n      <th rowspan=\"5\" valign=\"top\">WWPW-FM</th>\n      <th>65.0</th>\n      <td>False</td>\n      <td>16.0</td>\n      <td>29.500000</td>\n      <td>91.0</td>\n      <td>16.0</td>\n      <td>86.0</td>\n      <td>2.305926e+05</td>\n      <td>1.000000</td>\n      <td>16.0</td>\n      <td>12.0</td>\n      <td>...</td>\n      <td>2.0</td>\n      <td>34.102786</td>\n      <td>3.535534</td>\n      <td>0.000000</td>\n      <td>1.0</td>\n      <td>496.0</td>\n      <td>36.0</td>\n      <td>3.0</td>\n      <td>3.197442e-14</td>\n      <td>1.769231</td>\n    </tr>\n    <tr>\n      <th>66.0</th>\n      <td>False</td>\n      <td>16.0</td>\n      <td>29.500000</td>\n      <td>91.0</td>\n      <td>16.0</td>\n      <td>86.0</td>\n      <td>2.305926e+05</td>\n      <td>1.000000</td>\n      <td>16.0</td>\n      <td>12.0</td>\n      <td>...</td>\n      <td>2.0</td>\n      <td>39.353102</td>\n      <td>3.535534</td>\n      <td>0.000000</td>\n      <td>0.0</td>\n      <td>496.0</td>\n      <td>32.0</td>\n      <td>3.0</td>\n      <td>3.197442e-14</td>\n      <td>1.769231</td>\n    </tr>\n    <tr>\n      <th>67.0</th>\n      <td>False</td>\n      <td>16.0</td>\n      <td>27.666667</td>\n      <td>91.0</td>\n      <td>22.0</td>\n      <td>86.0</td>\n      <td>2.305926e+05</td>\n      <td>1.000000</td>\n      <td>16.0</td>\n      <td>12.0</td>\n      <td>...</td>\n      <td>2.0</td>\n      <td>37.214469</td>\n      <td>3.535534</td>\n      <td>0.000000</td>\n      <td>0.0</td>\n      <td>496.0</td>\n      <td>20.0</td>\n      <td>1.0</td>\n      <td>3.197442e-14</td>\n      <td>1.769231</td>\n    </tr>\n    <tr>\n      <th>68.0</th>\n      <td>False</td>\n      <td>16.0</td>\n      <td>25.666667</td>\n      <td>91.0</td>\n      <td>29.0</td>\n      <td>86.0</td>\n      <td>2.305926e+05</td>\n      <td>1.000000</td>\n      <td>16.0</td>\n      <td>12.0</td>\n      <td>...</td>\n      <td>2.0</td>\n      <td>40.161134</td>\n      <td>3.535534</td>\n      <td>0.000000</td>\n      <td>0.0</td>\n      <td>518.0</td>\n      <td>20.0</td>\n      <td>1.0</td>\n      <td>3.197442e-14</td>\n      <td>1.653846</td>\n    </tr>\n    <tr>\n      <th>69.0</th>\n      <td>False</td>\n      <td>16.0</td>\n      <td>24.333333</td>\n      <td>84.0</td>\n      <td>29.0</td>\n      <td>86.0</td>\n      <td>2.305926e+05</td>\n      <td>1.000000</td>\n      <td>16.0</td>\n      <td>12.0</td>\n      <td>...</td>\n      <td>2.0</td>\n      <td>51.279463</td>\n      <td>3.535534</td>\n      <td>0.000000</td>\n      <td>0.0</td>\n      <td>477.0</td>\n      <td>20.0</td>\n      <td>1.0</td>\n      <td>3.197442e-14</td>\n      <td>1.576923</td>\n    </tr>\n  </tbody>\n</table>\n<p>50072 rows × 881 columns</p>\n</div>"
     },
     "execution_count": 34,
     "metadata": {},
     "output_type": "execute_result"
    }
   ],
   "source": [
    "df_train_prep"
   ],
   "metadata": {
    "collapsed": false,
    "pycharm": {
     "name": "#%%\n"
    }
   }
  },
  {
   "cell_type": "code",
   "execution_count": 195,
   "outputs": [
    {
     "data": {
      "text/plain": "[800, 1300, 1900, 3000]"
     },
     "execution_count": 195,
     "metadata": {},
     "output_type": "execute_result"
    }
   ],
   "source": [
    "[round((np.nanquantile(df_raw_features.loc[mask_train ,'spins_to_burnout_from_hit'], lvl)/100))*100 for lvl in quantile_levels]"
   ],
   "metadata": {
    "collapsed": false,
    "pycharm": {
     "name": "#%%\n"
    }
   }
  },
  {
   "cell_type": "code",
   "execution_count": 141,
   "outputs": [
    {
     "data": {
      "text/plain": "weeks_since_hit\n1.0      1072\n2.0      1072\n3.0      1062\n4.0      1057\n5.0      1032\n         ... \n164.0      13\n165.0      12\n166.0       9\n167.0       6\n168.0       6\nName: spins_to_burnout_from_hit_bucket, Length: 168, dtype: int64"
     },
     "execution_count": 141,
     "metadata": {},
     "output_type": "execute_result"
    }
   ],
   "source": [
    "df_train_prep.groupby(['weeks_since_hit'])['spins_to_burnout_from_hit_bucket'].count()"
   ],
   "metadata": {
    "collapsed": false,
    "pycharm": {
     "name": "#%%\n"
    }
   }
  },
  {
   "cell_type": "code",
   "execution_count": 83,
   "outputs": [],
   "source": [
    "# test data\n",
    "mask_test= (df_raw_features['weeks_since_hit'] > 0) & (df_raw_features['hit_tag_year'] > 2021) & (\n",
    "        df_raw_features['hit_tag_year'] <= 2022)  & (df_raw_features['hit_tag_date'] <= pd.to_datetime('2022-03-31'))\n",
    "df_test_prep = df_raw_features.loc[mask_test, id_cols + target_cols + feature_cols + cat_cols]\n",
    "df_test_prep.set_index(id_cols, inplace=True)"
   ],
   "metadata": {
    "collapsed": false,
    "pycharm": {
     "name": "#%%\n"
    }
   }
  },
  {
   "cell_type": "code",
   "execution_count": 40,
   "outputs": [
    {
     "data": {
      "text/plain": "                                           censoring_flg  \\\nmediabase_id call_letters weeks_since_hit                  \n2391754      WRVW-FM      1.0                      False   \n                          2.0                      False   \n                          3.0                      False   \n                          4.0                      False   \n                          5.0                      False   \n...                                                  ...   \n2760708      WKFS-FM      50.0                      True   \n                          51.0                      True   \n                          52.0                      True   \n                          53.0                      True   \n                          54.0                      True   \n\n                                           song_market_spins_total_prior_26wk_min  \\\nmediabase_id call_letters weeks_since_hit                                           \n2391754      WRVW-FM      1.0                                                 0.0   \n                          2.0                                                 0.0   \n                          3.0                                                 0.0   \n                          4.0                                                 0.0   \n                          5.0                                                 0.0   \n...                                                                           ...   \n2760708      WKFS-FM      50.0                                                1.0   \n                          51.0                                                1.0   \n                          52.0                                                1.0   \n                          53.0                                                1.0   \n                          54.0                                                1.0   \n\n                                           artist_format_fav_prior_8wk_mean  \\\nmediabase_id call_letters weeks_since_hit                                     \n2391754      WRVW-FM      1.0                                     24.000000   \n                          2.0                                     23.500000   \n                          3.0                                     24.125000   \n                          4.0                                     24.000000   \n                          5.0                                     24.375000   \n...                                                                     ...   \n2760708      WKFS-FM      50.0                                    24.000000   \n                          51.0                                    21.666667   \n                          52.0                                    21.666667   \n                          53.0                                    22.250000   \n                          54.0                                    22.200000   \n\n                                           artist_format_pop_prior_8wk_max  \\\nmediabase_id call_letters weeks_since_hit                                    \n2391754      WRVW-FM      1.0                                         80.0   \n                          2.0                                         80.0   \n                          3.0                                         83.0   \n                          4.0                                         83.0   \n                          5.0                                         83.0   \n...                                                                    ...   \n2760708      WKFS-FM      50.0                                        70.0   \n                          51.0                                        70.0   \n                          52.0                                        70.0   \n                          53.0                                        70.0   \n                          54.0                                        70.0   \n\n                                           song_format_ddl_prior_13wk_max  \\\nmediabase_id call_letters weeks_since_hit                                   \n2391754      WRVW-FM      1.0                                        22.0   \n                          2.0                                        22.0   \n                          3.0                                        22.0   \n                          4.0                                        22.0   \n                          5.0                                        22.0   \n...                                                                   ...   \n2760708      WKFS-FM      50.0                                       27.0   \n                          51.0                                       27.0   \n                          52.0                                       27.0   \n                          53.0                                       27.0   \n                          54.0                                       27.0   \n\n                                           song_station_pop_prior_13wk_max  \\\nmediabase_id call_letters weeks_since_hit                                    \n2391754      WRVW-FM      1.0                                         89.0   \n                          2.0                                         89.0   \n                          3.0                                         89.0   \n                          4.0                                         89.0   \n                          5.0                                         89.0   \n...                                                                    ...   \n2760708      WKFS-FM      50.0                                        77.0   \n                          51.0                                        77.0   \n                          52.0                                        77.0   \n                          53.0                                        77.0   \n                          54.0                                        77.0   \n\n                                           std_stream_count_prior_unv_prior_4wk_min  \\\nmediabase_id call_letters weeks_since_hit                                             \n2391754      WRVW-FM      1.0                                          1.246250e+06   \n                          2.0                                          1.250796e+06   \n                          3.0                                          1.255666e+06   \n                          4.0                                          1.257257e+06   \n                          5.0                                          1.262084e+06   \n...                                                                             ...   \n2760708      WKFS-FM      50.0                                         2.305926e+05   \n                          51.0                                         2.305926e+05   \n                          52.0                                         2.305926e+05   \n                          53.0                                         2.305926e+05   \n                          54.0                                         2.305926e+05   \n\n                                           max_thumbs_up_rate_prior_unv_prior_13wk_min  \\\nmediabase_id call_letters weeks_since_hit                                                \n2391754      WRVW-FM      1.0                                                      1.0   \n                          2.0                                                      1.0   \n                          3.0                                                      1.0   \n                          4.0                                                      1.0   \n                          5.0                                                      1.0   \n...                                                                                ...   \n2760708      WKFS-FM      50.0                                                     1.0   \n                          51.0                                                     1.0   \n                          52.0                                                     1.0   \n                          53.0                                                     1.0   \n                          54.0                                                     1.0   \n\n                                           song_market_spins_total_prior_13wk_min  \\\nmediabase_id call_letters weeks_since_hit                                           \n2391754      WRVW-FM      1.0                                                 0.0   \n                          2.0                                                 0.0   \n                          3.0                                                 0.0   \n                          4.0                                                 0.0   \n                          5.0                                                 0.0   \n...                                                                           ...   \n2760708      WKFS-FM      50.0                                                1.0   \n                          51.0                                                1.0   \n                          52.0                                                1.0   \n                          53.0                                                1.0   \n                          54.0                                                1.0   \n\n                                           song_format_ddl_prior_13wk_min  \\\nmediabase_id call_letters weeks_since_hit                                   \n2391754      WRVW-FM      1.0                                        17.0   \n                          2.0                                        17.0   \n                          3.0                                        17.0   \n                          4.0                                        17.0   \n                          5.0                                        17.0   \n...                                                                   ...   \n2760708      WKFS-FM      50.0                                       20.0   \n                          51.0                                       20.0   \n                          52.0                                       20.0   \n                          53.0                                       18.0   \n                          54.0                                       18.0   \n\n                                           ...  \\\nmediabase_id call_letters weeks_since_hit  ...   \n2391754      WRVW-FM      1.0              ...   \n                          2.0              ...   \n                          3.0              ...   \n                          4.0              ...   \n                          5.0              ...   \n...                                        ...   \n2760708      WKFS-FM      50.0             ...   \n                          51.0             ...   \n                          52.0             ...   \n                          53.0             ...   \n                          54.0             ...   \n\n                                           count_song_format_pop_prior_13wk_max  \\\nmediabase_id call_letters weeks_since_hit                                         \n2391754      WRVW-FM      1.0                                               3.0   \n                          2.0                                               3.0   \n                          3.0                                               3.0   \n                          4.0                                               3.0   \n                          5.0                                               3.0   \n...                                                                         ...   \n2760708      WKFS-FM      50.0                                              2.0   \n                          51.0                                              2.0   \n                          52.0                                              2.0   \n                          53.0                                              2.0   \n                          54.0                                              2.0   \n\n                                           artist_format_spins_am_pm_dr_prior_4wk_std  \\\nmediabase_id call_letters weeks_since_hit                                               \n2391754      WRVW-FM      1.0                                              210.680445   \n                          2.0                                              353.241537   \n                          3.0                                              273.382516   \n                          4.0                                              295.224632   \n                          5.0                                              117.190728   \n...                                                                               ...   \n2760708      WKFS-FM      50.0                                              38.117144   \n                          51.0                                              37.545528   \n                          52.0                                              39.126930   \n                          53.0                                              31.595095   \n                          54.0                                              32.897568   \n\n                                           song_station_fav_prior_26wk_std  \\\nmediabase_id call_letters weeks_since_hit                                    \n2391754      WRVW-FM      1.0                                     0.707107   \n                          2.0                                     0.707107   \n                          3.0                                     0.707107   \n                          4.0                                     0.707107   \n                          5.0                                     0.707107   \n...                                                                    ...   \n2760708      WKFS-FM      50.0                                    8.485281   \n                          51.0                                    8.485281   \n                          52.0                                    8.485281   \n                          53.0                                    8.485281   \n                          54.0                                    8.485281   \n\n                                           song_station_spins_am_pm_dr_prior_4wk_std  \\\nmediabase_id call_letters weeks_since_hit                                              \n2391754      WRVW-FM      1.0                                               0.500000   \n                          2.0                                               1.414214   \n                          3.0                                               1.290994   \n                          4.0                                               0.957427   \n                          5.0                                               0.500000   \n...                                                                              ...   \n2760708      WKFS-FM      50.0                                              0.000000   \n                          51.0                                              0.000000   \n                          52.0                                              0.000000   \n                          53.0                                              0.000000   \n                          54.0                                              0.000000   \n\n                                           artist_station_spins_non_on_prior_4wk_max  \\\nmediabase_id call_letters weeks_since_hit                                              \n2391754      WRVW-FM      1.0                                                   38.0   \n                          2.0                                                   39.0   \n                          3.0                                                   50.0   \n                          4.0                                                   50.0   \n                          5.0                                                   50.0   \n...                                                                              ...   \n2760708      WKFS-FM      50.0                                                   1.0   \n                          51.0                                                   1.0   \n                          52.0                                                   1.0   \n                          53.0                                                   0.0   \n                          54.0                                                   0.0   \n\n                                           artist_format_spins_am_pm_dr_prior_13wk_min  \\\nmediabase_id call_letters weeks_since_hit                                                \n2391754      WRVW-FM      1.0                                                   6127.0   \n                          2.0                                                   5676.0   \n                          3.0                                                   5653.0   \n                          4.0                                                   5421.0   \n                          5.0                                                   5421.0   \n...                                                                                ...   \n2760708      WKFS-FM      50.0                                                   664.0   \n                          51.0                                                   664.0   \n                          52.0                                                   659.0   \n                          53.0                                                   647.0   \n                          54.0                                                   647.0   \n\n                                           song_market_spins_non_on_prior_26wk_max  \\\nmediabase_id call_letters weeks_since_hit                                            \n2391754      WRVW-FM      1.0                                                  4.0   \n                          2.0                                                  4.0   \n                          3.0                                                  4.0   \n                          4.0                                                  4.0   \n                          5.0                                                  4.0   \n...                                                                            ...   \n2760708      WKFS-FM      50.0                                                 7.0   \n                          51.0                                                 7.0   \n                          52.0                                                 7.0   \n                          53.0                                                 7.0   \n                          54.0                                                 7.0   \n\n                                           count_artist_format_pop_prior_4wk_min  \\\nmediabase_id call_letters weeks_since_hit                                          \n2391754      WRVW-FM      1.0                                               21.0   \n                          2.0                                               22.0   \n                          3.0                                               18.0   \n                          4.0                                               18.0   \n                          5.0                                               18.0   \n...                                                                          ...   \n2760708      WKFS-FM      50.0                                               1.0   \n                          51.0                                               1.0   \n                          52.0                                               1.0   \n                          53.0                                               1.0   \n                          54.0                                               1.0   \n\n                                           artist_spins_propn_prior_4wk_mean  \\\nmediabase_id call_letters weeks_since_hit                                      \n2391754      WRVW-FM      1.0                                   1.393189e-02   \n                          2.0                                   3.316266e-02   \n                          3.0                                   4.158371e-02   \n                          4.0                                   6.380593e-02   \n                          5.0                                   7.431013e-02   \n...                                                                      ...   \n2760708      WKFS-FM      50.0                                  1.509903e-14   \n                          51.0                                  3.019807e-14   \n                          52.0                                  3.019807e-14   \n                          53.0                                  3.019807e-14   \n                          54.0                                  3.019807e-14   \n\n                                           artist_station_spins_total_prior_26wk_mean  \nmediabase_id call_letters weeks_since_hit                                              \n2391754      WRVW-FM      1.0                                               44.346154  \n                          2.0                                               44.692308  \n                          3.0                                               45.692308  \n                          4.0                                               46.576923  \n                          5.0                                               47.192308  \n...                                                                               ...  \n2760708      WKFS-FM      50.0                                               0.923077  \n                          51.0                                               0.923077  \n                          52.0                                               0.884615  \n                          53.0                                               0.884615  \n                          54.0                                               0.884615  \n\n[7569 rows x 881 columns]",
      "text/html": "<div>\n<style scoped>\n    .dataframe tbody tr th:only-of-type {\n        vertical-align: middle;\n    }\n\n    .dataframe tbody tr th {\n        vertical-align: top;\n    }\n\n    .dataframe thead th {\n        text-align: right;\n    }\n</style>\n<table border=\"1\" class=\"dataframe\">\n  <thead>\n    <tr style=\"text-align: right;\">\n      <th></th>\n      <th></th>\n      <th></th>\n      <th>censoring_flg</th>\n      <th>song_market_spins_total_prior_26wk_min</th>\n      <th>artist_format_fav_prior_8wk_mean</th>\n      <th>artist_format_pop_prior_8wk_max</th>\n      <th>song_format_ddl_prior_13wk_max</th>\n      <th>song_station_pop_prior_13wk_max</th>\n      <th>std_stream_count_prior_unv_prior_4wk_min</th>\n      <th>max_thumbs_up_rate_prior_unv_prior_13wk_min</th>\n      <th>song_market_spins_total_prior_13wk_min</th>\n      <th>song_format_ddl_prior_13wk_min</th>\n      <th>...</th>\n      <th>count_song_format_pop_prior_13wk_max</th>\n      <th>artist_format_spins_am_pm_dr_prior_4wk_std</th>\n      <th>song_station_fav_prior_26wk_std</th>\n      <th>song_station_spins_am_pm_dr_prior_4wk_std</th>\n      <th>artist_station_spins_non_on_prior_4wk_max</th>\n      <th>artist_format_spins_am_pm_dr_prior_13wk_min</th>\n      <th>song_market_spins_non_on_prior_26wk_max</th>\n      <th>count_artist_format_pop_prior_4wk_min</th>\n      <th>artist_spins_propn_prior_4wk_mean</th>\n      <th>artist_station_spins_total_prior_26wk_mean</th>\n    </tr>\n    <tr>\n      <th>mediabase_id</th>\n      <th>call_letters</th>\n      <th>weeks_since_hit</th>\n      <th></th>\n      <th></th>\n      <th></th>\n      <th></th>\n      <th></th>\n      <th></th>\n      <th></th>\n      <th></th>\n      <th></th>\n      <th></th>\n      <th></th>\n      <th></th>\n      <th></th>\n      <th></th>\n      <th></th>\n      <th></th>\n      <th></th>\n      <th></th>\n      <th></th>\n      <th></th>\n      <th></th>\n    </tr>\n  </thead>\n  <tbody>\n    <tr>\n      <th rowspan=\"5\" valign=\"top\">2391754</th>\n      <th rowspan=\"5\" valign=\"top\">WRVW-FM</th>\n      <th>1.0</th>\n      <td>False</td>\n      <td>0.0</td>\n      <td>24.000000</td>\n      <td>80.0</td>\n      <td>22.0</td>\n      <td>89.0</td>\n      <td>1.246250e+06</td>\n      <td>1.0</td>\n      <td>0.0</td>\n      <td>17.0</td>\n      <td>...</td>\n      <td>3.0</td>\n      <td>210.680445</td>\n      <td>0.707107</td>\n      <td>0.500000</td>\n      <td>38.0</td>\n      <td>6127.0</td>\n      <td>4.0</td>\n      <td>21.0</td>\n      <td>1.393189e-02</td>\n      <td>44.346154</td>\n    </tr>\n    <tr>\n      <th>2.0</th>\n      <td>False</td>\n      <td>0.0</td>\n      <td>23.500000</td>\n      <td>80.0</td>\n      <td>22.0</td>\n      <td>89.0</td>\n      <td>1.250796e+06</td>\n      <td>1.0</td>\n      <td>0.0</td>\n      <td>17.0</td>\n      <td>...</td>\n      <td>3.0</td>\n      <td>353.241537</td>\n      <td>0.707107</td>\n      <td>1.414214</td>\n      <td>39.0</td>\n      <td>5676.0</td>\n      <td>4.0</td>\n      <td>22.0</td>\n      <td>3.316266e-02</td>\n      <td>44.692308</td>\n    </tr>\n    <tr>\n      <th>3.0</th>\n      <td>False</td>\n      <td>0.0</td>\n      <td>24.125000</td>\n      <td>83.0</td>\n      <td>22.0</td>\n      <td>89.0</td>\n      <td>1.255666e+06</td>\n      <td>1.0</td>\n      <td>0.0</td>\n      <td>17.0</td>\n      <td>...</td>\n      <td>3.0</td>\n      <td>273.382516</td>\n      <td>0.707107</td>\n      <td>1.290994</td>\n      <td>50.0</td>\n      <td>5653.0</td>\n      <td>4.0</td>\n      <td>18.0</td>\n      <td>4.158371e-02</td>\n      <td>45.692308</td>\n    </tr>\n    <tr>\n      <th>4.0</th>\n      <td>False</td>\n      <td>0.0</td>\n      <td>24.000000</td>\n      <td>83.0</td>\n      <td>22.0</td>\n      <td>89.0</td>\n      <td>1.257257e+06</td>\n      <td>1.0</td>\n      <td>0.0</td>\n      <td>17.0</td>\n      <td>...</td>\n      <td>3.0</td>\n      <td>295.224632</td>\n      <td>0.707107</td>\n      <td>0.957427</td>\n      <td>50.0</td>\n      <td>5421.0</td>\n      <td>4.0</td>\n      <td>18.0</td>\n      <td>6.380593e-02</td>\n      <td>46.576923</td>\n    </tr>\n    <tr>\n      <th>5.0</th>\n      <td>False</td>\n      <td>0.0</td>\n      <td>24.375000</td>\n      <td>83.0</td>\n      <td>22.0</td>\n      <td>89.0</td>\n      <td>1.262084e+06</td>\n      <td>1.0</td>\n      <td>0.0</td>\n      <td>17.0</td>\n      <td>...</td>\n      <td>3.0</td>\n      <td>117.190728</td>\n      <td>0.707107</td>\n      <td>0.500000</td>\n      <td>50.0</td>\n      <td>5421.0</td>\n      <td>4.0</td>\n      <td>18.0</td>\n      <td>7.431013e-02</td>\n      <td>47.192308</td>\n    </tr>\n    <tr>\n      <th>...</th>\n      <th>...</th>\n      <th>...</th>\n      <td>...</td>\n      <td>...</td>\n      <td>...</td>\n      <td>...</td>\n      <td>...</td>\n      <td>...</td>\n      <td>...</td>\n      <td>...</td>\n      <td>...</td>\n      <td>...</td>\n      <td>...</td>\n      <td>...</td>\n      <td>...</td>\n      <td>...</td>\n      <td>...</td>\n      <td>...</td>\n      <td>...</td>\n      <td>...</td>\n      <td>...</td>\n      <td>...</td>\n      <td>...</td>\n    </tr>\n    <tr>\n      <th rowspan=\"5\" valign=\"top\">2760708</th>\n      <th rowspan=\"5\" valign=\"top\">WKFS-FM</th>\n      <th>50.0</th>\n      <td>True</td>\n      <td>1.0</td>\n      <td>24.000000</td>\n      <td>70.0</td>\n      <td>27.0</td>\n      <td>77.0</td>\n      <td>2.305926e+05</td>\n      <td>1.0</td>\n      <td>1.0</td>\n      <td>20.0</td>\n      <td>...</td>\n      <td>2.0</td>\n      <td>38.117144</td>\n      <td>8.485281</td>\n      <td>0.000000</td>\n      <td>1.0</td>\n      <td>664.0</td>\n      <td>7.0</td>\n      <td>1.0</td>\n      <td>1.509903e-14</td>\n      <td>0.923077</td>\n    </tr>\n    <tr>\n      <th>51.0</th>\n      <td>True</td>\n      <td>1.0</td>\n      <td>21.666667</td>\n      <td>70.0</td>\n      <td>27.0</td>\n      <td>77.0</td>\n      <td>2.305926e+05</td>\n      <td>1.0</td>\n      <td>1.0</td>\n      <td>20.0</td>\n      <td>...</td>\n      <td>2.0</td>\n      <td>37.545528</td>\n      <td>8.485281</td>\n      <td>0.000000</td>\n      <td>1.0</td>\n      <td>664.0</td>\n      <td>7.0</td>\n      <td>1.0</td>\n      <td>3.019807e-14</td>\n      <td>0.923077</td>\n    </tr>\n    <tr>\n      <th>52.0</th>\n      <td>True</td>\n      <td>1.0</td>\n      <td>21.666667</td>\n      <td>70.0</td>\n      <td>27.0</td>\n      <td>77.0</td>\n      <td>2.305926e+05</td>\n      <td>1.0</td>\n      <td>1.0</td>\n      <td>20.0</td>\n      <td>...</td>\n      <td>2.0</td>\n      <td>39.126930</td>\n      <td>8.485281</td>\n      <td>0.000000</td>\n      <td>1.0</td>\n      <td>659.0</td>\n      <td>7.0</td>\n      <td>1.0</td>\n      <td>3.019807e-14</td>\n      <td>0.884615</td>\n    </tr>\n    <tr>\n      <th>53.0</th>\n      <td>True</td>\n      <td>1.0</td>\n      <td>22.250000</td>\n      <td>70.0</td>\n      <td>27.0</td>\n      <td>77.0</td>\n      <td>2.305926e+05</td>\n      <td>1.0</td>\n      <td>1.0</td>\n      <td>18.0</td>\n      <td>...</td>\n      <td>2.0</td>\n      <td>31.595095</td>\n      <td>8.485281</td>\n      <td>0.000000</td>\n      <td>0.0</td>\n      <td>647.0</td>\n      <td>7.0</td>\n      <td>1.0</td>\n      <td>3.019807e-14</td>\n      <td>0.884615</td>\n    </tr>\n    <tr>\n      <th>54.0</th>\n      <td>True</td>\n      <td>1.0</td>\n      <td>22.200000</td>\n      <td>70.0</td>\n      <td>27.0</td>\n      <td>77.0</td>\n      <td>2.305926e+05</td>\n      <td>1.0</td>\n      <td>1.0</td>\n      <td>18.0</td>\n      <td>...</td>\n      <td>2.0</td>\n      <td>32.897568</td>\n      <td>8.485281</td>\n      <td>0.000000</td>\n      <td>0.0</td>\n      <td>647.0</td>\n      <td>7.0</td>\n      <td>1.0</td>\n      <td>3.019807e-14</td>\n      <td>0.884615</td>\n    </tr>\n  </tbody>\n</table>\n<p>7569 rows × 881 columns</p>\n</div>"
     },
     "execution_count": 40,
     "metadata": {},
     "output_type": "execute_result"
    }
   ],
   "source": [
    "df_test_prep"
   ],
   "metadata": {
    "collapsed": false,
    "pycharm": {
     "name": "#%%\n"
    }
   }
  },
  {
   "cell_type": "markdown",
   "source": [
    "#### train a random-forest model"
   ],
   "metadata": {
    "collapsed": false
   }
  },
  {
   "cell_type": "code",
   "execution_count": 118,
   "outputs": [
    {
     "data": {
      "text/plain": "[3,\n 4,\n 5,\n 6,\n 7,\n 8,\n 9,\n 10,\n 11,\n 12,\n 13,\n 14,\n 15,\n 16,\n 17,\n 18,\n 19,\n 20,\n 21,\n 22,\n 23,\n 24,\n 25,\n 26,\n 27,\n 28,\n 29,\n 30,\n 31,\n 32,\n 33,\n 34,\n 35,\n 36,\n 37,\n 38,\n 39,\n 40,\n 41,\n 42,\n 43,\n 44,\n 45,\n 46,\n 47,\n 48,\n 49,\n 50,\n 51,\n 52]"
     },
     "execution_count": 118,
     "metadata": {},
     "output_type": "execute_result"
    }
   ],
   "source": [
    "week_start = 3\n",
    "week_end = 53\n",
    "\n",
    "weeks_range = list(range(week_start, week_end))\n",
    "weeks_range"
   ],
   "metadata": {
    "collapsed": false,
    "pycharm": {
     "name": "#%%\n"
    }
   }
  },
  {
   "cell_type": "code",
   "source": [
    "from sklearn.ensemble import RandomForestClassifier\n",
    "from sklearn.model_selection import RandomizedSearchCV, StratifiedKFold\n",
    "split_number=5\n",
    "cross_val = StratifiedKFold(n_splits=split_number)\n",
    "\n",
    "param_grid = {\n",
    " 'max_depth': [2, 4, 6, 8, 10],\n",
    " 'max_features': ['auto', 'sqrt'],\n",
    " 'n_estimators': [50, 100, 150, 200],\n",
    "'class_weight': ['balanced', None]\n",
    "}\n",
    "\n",
    "week_start = 3\n",
    "week_end = 52\n",
    "\n",
    "weeks_range = list(range(week_start, week_end + 1))\n",
    "best_estimators = {}\n",
    "best_scores = {}\n",
    "\n",
    "for wk in weeks_range:\n",
    "    rf = RandomForestClassifier(random_state=100)\n",
    "    X_train = df_train_prep[df_train_prep.index.get_level_values(2) == wk][feature_cols + cat_cols]\n",
    "    X_train = pd.get_dummies(X_train, columns=['market_name'])\n",
    "    y_train = df_train_prep[df_train_prep.index.get_level_values(2) == wk][target_cols]\n",
    "\n",
    "    rf_model = RandomizedSearchCV(estimator=rf, param_distributions=param_grid, cv=cross_val, scoring= 'f1_micro', verbose=1, n_iter=50, n_jobs=-1)\n",
    "    rf_model.fit(X_train, np.ravel(y_train))\n",
    "    best_estimators[wk] = rf_model.best_estimator_\n",
    "    best_scores[wk] = rf_model.best_score_"
   ],
   "metadata": {
    "collapsed": false,
    "pycharm": {
     "name": "#%%\n"
    }
   },
   "execution_count": 121,
   "outputs": [
    {
     "name": "stdout",
     "output_type": "stream",
     "text": [
      "Fitting 5 folds for each of 50 candidates, totalling 250 fits\n"
     ]
    },
    {
     "name": "stderr",
     "output_type": "stream",
     "text": [
      "[Parallel(n_jobs=-1)]: Using backend LokyBackend with 16 concurrent workers.\n",
      "[Parallel(n_jobs=-1)]: Done  18 tasks      | elapsed:    4.5s\n",
      "[Parallel(n_jobs=-1)]: Done 168 tasks      | elapsed:   14.8s\n",
      "[Parallel(n_jobs=-1)]: Done 250 out of 250 | elapsed:   21.0s finished\n"
     ]
    },
    {
     "name": "stdout",
     "output_type": "stream",
     "text": [
      "Fitting 5 folds for each of 50 candidates, totalling 250 fits\n"
     ]
    },
    {
     "name": "stderr",
     "output_type": "stream",
     "text": [
      "[Parallel(n_jobs=-1)]: Using backend LokyBackend with 16 concurrent workers.\n",
      "[Parallel(n_jobs=-1)]: Done  18 tasks      | elapsed:    2.2s\n",
      "[Parallel(n_jobs=-1)]: Done 168 tasks      | elapsed:   15.2s\n",
      "[Parallel(n_jobs=-1)]: Done 250 out of 250 | elapsed:   20.2s finished\n"
     ]
    },
    {
     "name": "stdout",
     "output_type": "stream",
     "text": [
      "Fitting 5 folds for each of 50 candidates, totalling 250 fits\n"
     ]
    },
    {
     "name": "stderr",
     "output_type": "stream",
     "text": [
      "[Parallel(n_jobs=-1)]: Using backend LokyBackend with 16 concurrent workers.\n",
      "[Parallel(n_jobs=-1)]: Done  18 tasks      | elapsed:    1.7s\n",
      "[Parallel(n_jobs=-1)]: Done 168 tasks      | elapsed:   14.5s\n",
      "[Parallel(n_jobs=-1)]: Done 250 out of 250 | elapsed:   23.3s finished\n"
     ]
    },
    {
     "name": "stdout",
     "output_type": "stream",
     "text": [
      "Fitting 5 folds for each of 50 candidates, totalling 250 fits\n"
     ]
    },
    {
     "name": "stderr",
     "output_type": "stream",
     "text": [
      "[Parallel(n_jobs=-1)]: Using backend LokyBackend with 16 concurrent workers.\n",
      "[Parallel(n_jobs=-1)]: Done  18 tasks      | elapsed:    1.9s\n",
      "[Parallel(n_jobs=-1)]: Done 168 tasks      | elapsed:   13.4s\n",
      "[Parallel(n_jobs=-1)]: Done 250 out of 250 | elapsed:   19.7s finished\n"
     ]
    },
    {
     "name": "stdout",
     "output_type": "stream",
     "text": [
      "Fitting 5 folds for each of 50 candidates, totalling 250 fits\n"
     ]
    },
    {
     "name": "stderr",
     "output_type": "stream",
     "text": [
      "[Parallel(n_jobs=-1)]: Using backend LokyBackend with 16 concurrent workers.\n",
      "[Parallel(n_jobs=-1)]: Done  18 tasks      | elapsed:    1.6s\n",
      "[Parallel(n_jobs=-1)]: Done 168 tasks      | elapsed:   12.8s\n",
      "[Parallel(n_jobs=-1)]: Done 250 out of 250 | elapsed:   18.3s finished\n"
     ]
    },
    {
     "name": "stdout",
     "output_type": "stream",
     "text": [
      "Fitting 5 folds for each of 50 candidates, totalling 250 fits\n"
     ]
    },
    {
     "name": "stderr",
     "output_type": "stream",
     "text": [
      "[Parallel(n_jobs=-1)]: Using backend LokyBackend with 16 concurrent workers.\n",
      "[Parallel(n_jobs=-1)]: Done  18 tasks      | elapsed:    1.3s\n",
      "[Parallel(n_jobs=-1)]: Done 168 tasks      | elapsed:   12.1s\n",
      "[Parallel(n_jobs=-1)]: Done 250 out of 250 | elapsed:   17.3s finished\n"
     ]
    },
    {
     "name": "stdout",
     "output_type": "stream",
     "text": [
      "Fitting 5 folds for each of 50 candidates, totalling 250 fits\n"
     ]
    },
    {
     "name": "stderr",
     "output_type": "stream",
     "text": [
      "[Parallel(n_jobs=-1)]: Using backend LokyBackend with 16 concurrent workers.\n",
      "[Parallel(n_jobs=-1)]: Done  18 tasks      | elapsed:    2.0s\n",
      "[Parallel(n_jobs=-1)]: Done 168 tasks      | elapsed:   14.2s\n",
      "[Parallel(n_jobs=-1)]: Done 250 out of 250 | elapsed:   20.3s finished\n"
     ]
    },
    {
     "name": "stdout",
     "output_type": "stream",
     "text": [
      "Fitting 5 folds for each of 50 candidates, totalling 250 fits\n"
     ]
    },
    {
     "name": "stderr",
     "output_type": "stream",
     "text": [
      "[Parallel(n_jobs=-1)]: Using backend LokyBackend with 16 concurrent workers.\n",
      "[Parallel(n_jobs=-1)]: Done  18 tasks      | elapsed:    1.0s\n",
      "[Parallel(n_jobs=-1)]: Done 168 tasks      | elapsed:   11.7s\n",
      "[Parallel(n_jobs=-1)]: Done 250 out of 250 | elapsed:   17.3s finished\n"
     ]
    },
    {
     "name": "stdout",
     "output_type": "stream",
     "text": [
      "Fitting 5 folds for each of 50 candidates, totalling 250 fits\n"
     ]
    },
    {
     "name": "stderr",
     "output_type": "stream",
     "text": [
      "[Parallel(n_jobs=-1)]: Using backend LokyBackend with 16 concurrent workers.\n",
      "[Parallel(n_jobs=-1)]: Done  18 tasks      | elapsed:    1.4s\n",
      "[Parallel(n_jobs=-1)]: Done 168 tasks      | elapsed:   13.3s\n",
      "[Parallel(n_jobs=-1)]: Done 250 out of 250 | elapsed:   18.7s finished\n"
     ]
    },
    {
     "name": "stdout",
     "output_type": "stream",
     "text": [
      "Fitting 5 folds for each of 50 candidates, totalling 250 fits\n"
     ]
    },
    {
     "name": "stderr",
     "output_type": "stream",
     "text": [
      "[Parallel(n_jobs=-1)]: Using backend LokyBackend with 16 concurrent workers.\n",
      "[Parallel(n_jobs=-1)]: Done  18 tasks      | elapsed:    2.1s\n",
      "[Parallel(n_jobs=-1)]: Done 168 tasks      | elapsed:   12.4s\n",
      "[Parallel(n_jobs=-1)]: Done 250 out of 250 | elapsed:   19.3s finished\n"
     ]
    },
    {
     "name": "stdout",
     "output_type": "stream",
     "text": [
      "Fitting 5 folds for each of 50 candidates, totalling 250 fits\n"
     ]
    },
    {
     "name": "stderr",
     "output_type": "stream",
     "text": [
      "[Parallel(n_jobs=-1)]: Using backend LokyBackend with 16 concurrent workers.\n",
      "[Parallel(n_jobs=-1)]: Done  18 tasks      | elapsed:    2.5s\n",
      "[Parallel(n_jobs=-1)]: Done 168 tasks      | elapsed:   12.4s\n",
      "[Parallel(n_jobs=-1)]: Done 250 out of 250 | elapsed:   18.3s finished\n"
     ]
    },
    {
     "name": "stdout",
     "output_type": "stream",
     "text": [
      "Fitting 5 folds for each of 50 candidates, totalling 250 fits\n"
     ]
    },
    {
     "name": "stderr",
     "output_type": "stream",
     "text": [
      "[Parallel(n_jobs=-1)]: Using backend LokyBackend with 16 concurrent workers.\n",
      "[Parallel(n_jobs=-1)]: Done  18 tasks      | elapsed:    0.8s\n",
      "[Parallel(n_jobs=-1)]: Done 168 tasks      | elapsed:   11.1s\n",
      "[Parallel(n_jobs=-1)]: Done 250 out of 250 | elapsed:   16.2s finished\n"
     ]
    },
    {
     "name": "stdout",
     "output_type": "stream",
     "text": [
      "Fitting 5 folds for each of 50 candidates, totalling 250 fits\n"
     ]
    },
    {
     "name": "stderr",
     "output_type": "stream",
     "text": [
      "[Parallel(n_jobs=-1)]: Using backend LokyBackend with 16 concurrent workers.\n",
      "[Parallel(n_jobs=-1)]: Done  18 tasks      | elapsed:    1.2s\n",
      "[Parallel(n_jobs=-1)]: Done 168 tasks      | elapsed:   10.6s\n",
      "[Parallel(n_jobs=-1)]: Done 250 out of 250 | elapsed:   15.1s finished\n"
     ]
    },
    {
     "name": "stdout",
     "output_type": "stream",
     "text": [
      "Fitting 5 folds for each of 50 candidates, totalling 250 fits\n"
     ]
    },
    {
     "name": "stderr",
     "output_type": "stream",
     "text": [
      "[Parallel(n_jobs=-1)]: Using backend LokyBackend with 16 concurrent workers.\n",
      "[Parallel(n_jobs=-1)]: Done  18 tasks      | elapsed:    1.7s\n",
      "[Parallel(n_jobs=-1)]: Done 168 tasks      | elapsed:   12.1s\n",
      "[Parallel(n_jobs=-1)]: Done 250 out of 250 | elapsed:   17.0s finished\n"
     ]
    },
    {
     "name": "stdout",
     "output_type": "stream",
     "text": [
      "Fitting 5 folds for each of 50 candidates, totalling 250 fits\n"
     ]
    },
    {
     "name": "stderr",
     "output_type": "stream",
     "text": [
      "[Parallel(n_jobs=-1)]: Using backend LokyBackend with 16 concurrent workers.\n",
      "[Parallel(n_jobs=-1)]: Done  18 tasks      | elapsed:    0.9s\n",
      "[Parallel(n_jobs=-1)]: Done 168 tasks      | elapsed:   10.0s\n",
      "[Parallel(n_jobs=-1)]: Done 250 out of 250 | elapsed:   15.6s finished\n"
     ]
    },
    {
     "name": "stdout",
     "output_type": "stream",
     "text": [
      "Fitting 5 folds for each of 50 candidates, totalling 250 fits\n"
     ]
    },
    {
     "name": "stderr",
     "output_type": "stream",
     "text": [
      "[Parallel(n_jobs=-1)]: Using backend LokyBackend with 16 concurrent workers.\n",
      "[Parallel(n_jobs=-1)]: Done  18 tasks      | elapsed:    1.0s\n",
      "[Parallel(n_jobs=-1)]: Done 168 tasks      | elapsed:    9.7s\n",
      "[Parallel(n_jobs=-1)]: Done 250 out of 250 | elapsed:   14.4s finished\n"
     ]
    },
    {
     "name": "stdout",
     "output_type": "stream",
     "text": [
      "Fitting 5 folds for each of 50 candidates, totalling 250 fits\n"
     ]
    },
    {
     "name": "stderr",
     "output_type": "stream",
     "text": [
      "[Parallel(n_jobs=-1)]: Using backend LokyBackend with 16 concurrent workers.\n",
      "[Parallel(n_jobs=-1)]: Done  18 tasks      | elapsed:    1.4s\n",
      "[Parallel(n_jobs=-1)]: Done 168 tasks      | elapsed:    9.9s\n",
      "[Parallel(n_jobs=-1)]: Done 250 out of 250 | elapsed:   15.7s finished\n"
     ]
    },
    {
     "name": "stdout",
     "output_type": "stream",
     "text": [
      "Fitting 5 folds for each of 50 candidates, totalling 250 fits\n"
     ]
    },
    {
     "name": "stderr",
     "output_type": "stream",
     "text": [
      "[Parallel(n_jobs=-1)]: Using backend LokyBackend with 16 concurrent workers.\n",
      "[Parallel(n_jobs=-1)]: Done  18 tasks      | elapsed:    1.9s\n",
      "[Parallel(n_jobs=-1)]: Done 168 tasks      | elapsed:   10.8s\n",
      "[Parallel(n_jobs=-1)]: Done 250 out of 250 | elapsed:   17.0s finished\n"
     ]
    },
    {
     "name": "stdout",
     "output_type": "stream",
     "text": [
      "Fitting 5 folds for each of 50 candidates, totalling 250 fits\n"
     ]
    },
    {
     "name": "stderr",
     "output_type": "stream",
     "text": [
      "[Parallel(n_jobs=-1)]: Using backend LokyBackend with 16 concurrent workers.\n",
      "[Parallel(n_jobs=-1)]: Done  18 tasks      | elapsed:    1.6s\n",
      "[Parallel(n_jobs=-1)]: Done 168 tasks      | elapsed:   12.6s\n",
      "[Parallel(n_jobs=-1)]: Done 250 out of 250 | elapsed:   17.4s finished\n"
     ]
    },
    {
     "name": "stdout",
     "output_type": "stream",
     "text": [
      "Fitting 5 folds for each of 50 candidates, totalling 250 fits\n"
     ]
    },
    {
     "name": "stderr",
     "output_type": "stream",
     "text": [
      "[Parallel(n_jobs=-1)]: Using backend LokyBackend with 16 concurrent workers.\n",
      "[Parallel(n_jobs=-1)]: Done  18 tasks      | elapsed:    1.1s\n",
      "[Parallel(n_jobs=-1)]: Done 168 tasks      | elapsed:   11.2s\n",
      "[Parallel(n_jobs=-1)]: Done 250 out of 250 | elapsed:   16.9s finished\n"
     ]
    },
    {
     "name": "stdout",
     "output_type": "stream",
     "text": [
      "Fitting 5 folds for each of 50 candidates, totalling 250 fits\n"
     ]
    },
    {
     "name": "stderr",
     "output_type": "stream",
     "text": [
      "[Parallel(n_jobs=-1)]: Using backend LokyBackend with 16 concurrent workers.\n",
      "[Parallel(n_jobs=-1)]: Done  18 tasks      | elapsed:    1.8s\n",
      "[Parallel(n_jobs=-1)]: Done 168 tasks      | elapsed:   10.4s\n",
      "[Parallel(n_jobs=-1)]: Done 250 out of 250 | elapsed:   16.6s finished\n"
     ]
    },
    {
     "name": "stdout",
     "output_type": "stream",
     "text": [
      "Fitting 5 folds for each of 50 candidates, totalling 250 fits\n"
     ]
    },
    {
     "name": "stderr",
     "output_type": "stream",
     "text": [
      "[Parallel(n_jobs=-1)]: Using backend LokyBackend with 16 concurrent workers.\n",
      "[Parallel(n_jobs=-1)]: Done  18 tasks      | elapsed:    1.8s\n",
      "[Parallel(n_jobs=-1)]: Done 168 tasks      | elapsed:   10.1s\n",
      "[Parallel(n_jobs=-1)]: Done 250 out of 250 | elapsed:   16.1s finished\n"
     ]
    },
    {
     "name": "stdout",
     "output_type": "stream",
     "text": [
      "Fitting 5 folds for each of 50 candidates, totalling 250 fits\n"
     ]
    },
    {
     "name": "stderr",
     "output_type": "stream",
     "text": [
      "[Parallel(n_jobs=-1)]: Using backend LokyBackend with 16 concurrent workers.\n",
      "[Parallel(n_jobs=-1)]: Done  18 tasks      | elapsed:    1.3s\n",
      "[Parallel(n_jobs=-1)]: Done 168 tasks      | elapsed:   11.2s\n",
      "[Parallel(n_jobs=-1)]: Done 250 out of 250 | elapsed:   15.9s finished\n"
     ]
    },
    {
     "name": "stdout",
     "output_type": "stream",
     "text": [
      "Fitting 5 folds for each of 50 candidates, totalling 250 fits\n"
     ]
    },
    {
     "name": "stderr",
     "output_type": "stream",
     "text": [
      "[Parallel(n_jobs=-1)]: Using backend LokyBackend with 16 concurrent workers.\n",
      "[Parallel(n_jobs=-1)]: Done  18 tasks      | elapsed:    1.4s\n",
      "[Parallel(n_jobs=-1)]: Done 168 tasks      | elapsed:    9.9s\n",
      "[Parallel(n_jobs=-1)]: Done 250 out of 250 | elapsed:   13.7s finished\n"
     ]
    },
    {
     "name": "stdout",
     "output_type": "stream",
     "text": [
      "Fitting 5 folds for each of 50 candidates, totalling 250 fits\n"
     ]
    },
    {
     "name": "stderr",
     "output_type": "stream",
     "text": [
      "[Parallel(n_jobs=-1)]: Using backend LokyBackend with 16 concurrent workers.\n",
      "[Parallel(n_jobs=-1)]: Done  18 tasks      | elapsed:    1.3s\n",
      "[Parallel(n_jobs=-1)]: Done 168 tasks      | elapsed:    8.8s\n",
      "[Parallel(n_jobs=-1)]: Done 250 out of 250 | elapsed:   14.1s finished\n"
     ]
    },
    {
     "name": "stdout",
     "output_type": "stream",
     "text": [
      "Fitting 5 folds for each of 50 candidates, totalling 250 fits\n"
     ]
    },
    {
     "name": "stderr",
     "output_type": "stream",
     "text": [
      "[Parallel(n_jobs=-1)]: Using backend LokyBackend with 16 concurrent workers.\n",
      "[Parallel(n_jobs=-1)]: Done  18 tasks      | elapsed:    1.5s\n",
      "[Parallel(n_jobs=-1)]: Done 168 tasks      | elapsed:    9.3s\n",
      "[Parallel(n_jobs=-1)]: Done 250 out of 250 | elapsed:   13.4s finished\n"
     ]
    },
    {
     "name": "stdout",
     "output_type": "stream",
     "text": [
      "Fitting 5 folds for each of 50 candidates, totalling 250 fits\n"
     ]
    },
    {
     "name": "stderr",
     "output_type": "stream",
     "text": [
      "[Parallel(n_jobs=-1)]: Using backend LokyBackend with 16 concurrent workers.\n",
      "[Parallel(n_jobs=-1)]: Done  18 tasks      | elapsed:    1.1s\n",
      "[Parallel(n_jobs=-1)]: Done 168 tasks      | elapsed:    8.6s\n",
      "[Parallel(n_jobs=-1)]: Done 250 out of 250 | elapsed:   13.0s finished\n"
     ]
    },
    {
     "name": "stdout",
     "output_type": "stream",
     "text": [
      "Fitting 5 folds for each of 50 candidates, totalling 250 fits\n"
     ]
    },
    {
     "name": "stderr",
     "output_type": "stream",
     "text": [
      "[Parallel(n_jobs=-1)]: Using backend LokyBackend with 16 concurrent workers.\n",
      "[Parallel(n_jobs=-1)]: Done  18 tasks      | elapsed:    1.3s\n",
      "[Parallel(n_jobs=-1)]: Done 168 tasks      | elapsed:   11.2s\n",
      "[Parallel(n_jobs=-1)]: Done 250 out of 250 | elapsed:   14.8s finished\n"
     ]
    },
    {
     "name": "stdout",
     "output_type": "stream",
     "text": [
      "Fitting 5 folds for each of 50 candidates, totalling 250 fits\n"
     ]
    },
    {
     "name": "stderr",
     "output_type": "stream",
     "text": [
      "[Parallel(n_jobs=-1)]: Using backend LokyBackend with 16 concurrent workers.\n",
      "[Parallel(n_jobs=-1)]: Done  18 tasks      | elapsed:    1.3s\n",
      "[Parallel(n_jobs=-1)]: Done 168 tasks      | elapsed:    8.7s\n",
      "[Parallel(n_jobs=-1)]: Done 250 out of 250 | elapsed:   12.1s finished\n"
     ]
    },
    {
     "name": "stdout",
     "output_type": "stream",
     "text": [
      "Fitting 5 folds for each of 50 candidates, totalling 250 fits\n"
     ]
    },
    {
     "name": "stderr",
     "output_type": "stream",
     "text": [
      "[Parallel(n_jobs=-1)]: Using backend LokyBackend with 16 concurrent workers.\n",
      "[Parallel(n_jobs=-1)]: Done  18 tasks      | elapsed:    1.2s\n",
      "[Parallel(n_jobs=-1)]: Done 168 tasks      | elapsed:    7.2s\n",
      "[Parallel(n_jobs=-1)]: Done 250 out of 250 | elapsed:   11.7s finished\n"
     ]
    },
    {
     "name": "stdout",
     "output_type": "stream",
     "text": [
      "Fitting 5 folds for each of 50 candidates, totalling 250 fits\n"
     ]
    },
    {
     "name": "stderr",
     "output_type": "stream",
     "text": [
      "[Parallel(n_jobs=-1)]: Using backend LokyBackend with 16 concurrent workers.\n",
      "[Parallel(n_jobs=-1)]: Done  18 tasks      | elapsed:    1.4s\n",
      "[Parallel(n_jobs=-1)]: Done 168 tasks      | elapsed:    8.7s\n",
      "[Parallel(n_jobs=-1)]: Done 250 out of 250 | elapsed:   14.0s finished\n"
     ]
    },
    {
     "name": "stdout",
     "output_type": "stream",
     "text": [
      "Fitting 5 folds for each of 50 candidates, totalling 250 fits\n"
     ]
    },
    {
     "name": "stderr",
     "output_type": "stream",
     "text": [
      "[Parallel(n_jobs=-1)]: Using backend LokyBackend with 16 concurrent workers.\n",
      "[Parallel(n_jobs=-1)]: Done  18 tasks      | elapsed:    1.2s\n",
      "[Parallel(n_jobs=-1)]: Done 168 tasks      | elapsed:    8.8s\n",
      "[Parallel(n_jobs=-1)]: Done 250 out of 250 | elapsed:   12.4s finished\n"
     ]
    },
    {
     "name": "stdout",
     "output_type": "stream",
     "text": [
      "Fitting 5 folds for each of 50 candidates, totalling 250 fits\n"
     ]
    },
    {
     "name": "stderr",
     "output_type": "stream",
     "text": [
      "[Parallel(n_jobs=-1)]: Using backend LokyBackend with 16 concurrent workers.\n",
      "[Parallel(n_jobs=-1)]: Done  18 tasks      | elapsed:    1.2s\n",
      "[Parallel(n_jobs=-1)]: Done 168 tasks      | elapsed:    8.0s\n",
      "[Parallel(n_jobs=-1)]: Done 250 out of 250 | elapsed:   11.9s finished\n"
     ]
    },
    {
     "name": "stdout",
     "output_type": "stream",
     "text": [
      "Fitting 5 folds for each of 50 candidates, totalling 250 fits\n"
     ]
    },
    {
     "name": "stderr",
     "output_type": "stream",
     "text": [
      "[Parallel(n_jobs=-1)]: Using backend LokyBackend with 16 concurrent workers.\n",
      "[Parallel(n_jobs=-1)]: Done  18 tasks      | elapsed:    1.3s\n",
      "[Parallel(n_jobs=-1)]: Done 168 tasks      | elapsed:    8.4s\n",
      "[Parallel(n_jobs=-1)]: Done 250 out of 250 | elapsed:   12.6s finished\n"
     ]
    },
    {
     "name": "stdout",
     "output_type": "stream",
     "text": [
      "Fitting 5 folds for each of 50 candidates, totalling 250 fits\n"
     ]
    },
    {
     "name": "stderr",
     "output_type": "stream",
     "text": [
      "[Parallel(n_jobs=-1)]: Using backend LokyBackend with 16 concurrent workers.\n",
      "[Parallel(n_jobs=-1)]: Done  18 tasks      | elapsed:    0.9s\n",
      "[Parallel(n_jobs=-1)]: Done 168 tasks      | elapsed:    7.9s\n",
      "[Parallel(n_jobs=-1)]: Done 250 out of 250 | elapsed:   11.7s finished\n"
     ]
    },
    {
     "name": "stdout",
     "output_type": "stream",
     "text": [
      "Fitting 5 folds for each of 50 candidates, totalling 250 fits\n"
     ]
    },
    {
     "name": "stderr",
     "output_type": "stream",
     "text": [
      "[Parallel(n_jobs=-1)]: Using backend LokyBackend with 16 concurrent workers.\n",
      "[Parallel(n_jobs=-1)]: Done  18 tasks      | elapsed:    1.3s\n",
      "[Parallel(n_jobs=-1)]: Done 168 tasks      | elapsed:    7.8s\n",
      "[Parallel(n_jobs=-1)]: Done 250 out of 250 | elapsed:   11.8s finished\n"
     ]
    },
    {
     "name": "stdout",
     "output_type": "stream",
     "text": [
      "Fitting 5 folds for each of 50 candidates, totalling 250 fits\n"
     ]
    },
    {
     "name": "stderr",
     "output_type": "stream",
     "text": [
      "[Parallel(n_jobs=-1)]: Using backend LokyBackend with 16 concurrent workers.\n",
      "[Parallel(n_jobs=-1)]: Done  18 tasks      | elapsed:    1.0s\n",
      "[Parallel(n_jobs=-1)]: Done 168 tasks      | elapsed:    6.7s\n",
      "[Parallel(n_jobs=-1)]: Done 250 out of 250 | elapsed:   10.5s finished\n"
     ]
    },
    {
     "name": "stdout",
     "output_type": "stream",
     "text": [
      "Fitting 5 folds for each of 50 candidates, totalling 250 fits\n"
     ]
    },
    {
     "name": "stderr",
     "output_type": "stream",
     "text": [
      "[Parallel(n_jobs=-1)]: Using backend LokyBackend with 16 concurrent workers.\n",
      "[Parallel(n_jobs=-1)]: Done  18 tasks      | elapsed:    1.4s\n",
      "[Parallel(n_jobs=-1)]: Done 168 tasks      | elapsed:    7.1s\n",
      "[Parallel(n_jobs=-1)]: Done 250 out of 250 | elapsed:   10.1s finished\n"
     ]
    },
    {
     "name": "stdout",
     "output_type": "stream",
     "text": [
      "Fitting 5 folds for each of 50 candidates, totalling 250 fits\n"
     ]
    },
    {
     "name": "stderr",
     "output_type": "stream",
     "text": [
      "[Parallel(n_jobs=-1)]: Using backend LokyBackend with 16 concurrent workers.\n",
      "[Parallel(n_jobs=-1)]: Done  18 tasks      | elapsed:    1.1s\n",
      "[Parallel(n_jobs=-1)]: Done 168 tasks      | elapsed:    8.7s\n",
      "[Parallel(n_jobs=-1)]: Done 250 out of 250 | elapsed:   11.5s finished\n"
     ]
    },
    {
     "name": "stdout",
     "output_type": "stream",
     "text": [
      "Fitting 5 folds for each of 50 candidates, totalling 250 fits\n"
     ]
    },
    {
     "name": "stderr",
     "output_type": "stream",
     "text": [
      "[Parallel(n_jobs=-1)]: Using backend LokyBackend with 16 concurrent workers.\n",
      "[Parallel(n_jobs=-1)]: Done  18 tasks      | elapsed:    1.3s\n",
      "[Parallel(n_jobs=-1)]: Done 168 tasks      | elapsed:    7.2s\n",
      "[Parallel(n_jobs=-1)]: Done 250 out of 250 | elapsed:   10.1s finished\n"
     ]
    },
    {
     "name": "stdout",
     "output_type": "stream",
     "text": [
      "Fitting 5 folds for each of 50 candidates, totalling 250 fits\n"
     ]
    },
    {
     "name": "stderr",
     "output_type": "stream",
     "text": [
      "[Parallel(n_jobs=-1)]: Using backend LokyBackend with 16 concurrent workers.\n",
      "[Parallel(n_jobs=-1)]: Done  18 tasks      | elapsed:    1.6s\n",
      "[Parallel(n_jobs=-1)]: Done 168 tasks      | elapsed:    7.1s\n",
      "[Parallel(n_jobs=-1)]: Done 250 out of 250 | elapsed:   10.1s finished\n"
     ]
    },
    {
     "name": "stdout",
     "output_type": "stream",
     "text": [
      "Fitting 5 folds for each of 50 candidates, totalling 250 fits\n"
     ]
    },
    {
     "name": "stderr",
     "output_type": "stream",
     "text": [
      "[Parallel(n_jobs=-1)]: Using backend LokyBackend with 16 concurrent workers.\n",
      "[Parallel(n_jobs=-1)]: Done  18 tasks      | elapsed:    1.5s\n",
      "[Parallel(n_jobs=-1)]: Done 168 tasks      | elapsed:    6.4s\n",
      "[Parallel(n_jobs=-1)]: Done 250 out of 250 | elapsed:    9.7s finished\n"
     ]
    },
    {
     "name": "stdout",
     "output_type": "stream",
     "text": [
      "Fitting 5 folds for each of 50 candidates, totalling 250 fits\n"
     ]
    },
    {
     "name": "stderr",
     "output_type": "stream",
     "text": [
      "[Parallel(n_jobs=-1)]: Using backend LokyBackend with 16 concurrent workers.\n",
      "[Parallel(n_jobs=-1)]: Done  18 tasks      | elapsed:    1.4s\n",
      "[Parallel(n_jobs=-1)]: Done 168 tasks      | elapsed:    7.2s\n",
      "[Parallel(n_jobs=-1)]: Done 250 out of 250 | elapsed:   10.5s finished\n"
     ]
    },
    {
     "name": "stdout",
     "output_type": "stream",
     "text": [
      "Fitting 5 folds for each of 50 candidates, totalling 250 fits\n"
     ]
    },
    {
     "name": "stderr",
     "output_type": "stream",
     "text": [
      "[Parallel(n_jobs=-1)]: Using backend LokyBackend with 16 concurrent workers.\n",
      "[Parallel(n_jobs=-1)]: Done  18 tasks      | elapsed:    1.1s\n",
      "[Parallel(n_jobs=-1)]: Done 168 tasks      | elapsed:    7.2s\n",
      "[Parallel(n_jobs=-1)]: Done 250 out of 250 | elapsed:   10.5s finished\n"
     ]
    },
    {
     "name": "stdout",
     "output_type": "stream",
     "text": [
      "Fitting 5 folds for each of 50 candidates, totalling 250 fits\n"
     ]
    },
    {
     "name": "stderr",
     "output_type": "stream",
     "text": [
      "[Parallel(n_jobs=-1)]: Using backend LokyBackend with 16 concurrent workers.\n",
      "[Parallel(n_jobs=-1)]: Done  18 tasks      | elapsed:    1.5s\n",
      "[Parallel(n_jobs=-1)]: Done 168 tasks      | elapsed:    6.8s\n",
      "[Parallel(n_jobs=-1)]: Done 250 out of 250 | elapsed:   10.4s finished\n"
     ]
    },
    {
     "name": "stdout",
     "output_type": "stream",
     "text": [
      "Fitting 5 folds for each of 50 candidates, totalling 250 fits\n"
     ]
    },
    {
     "name": "stderr",
     "output_type": "stream",
     "text": [
      "[Parallel(n_jobs=-1)]: Using backend LokyBackend with 16 concurrent workers.\n",
      "[Parallel(n_jobs=-1)]: Done  18 tasks      | elapsed:    0.9s\n",
      "[Parallel(n_jobs=-1)]: Done 168 tasks      | elapsed:    6.7s\n",
      "[Parallel(n_jobs=-1)]: Done 250 out of 250 | elapsed:   10.6s finished\n"
     ]
    },
    {
     "name": "stdout",
     "output_type": "stream",
     "text": [
      "Fitting 5 folds for each of 50 candidates, totalling 250 fits\n"
     ]
    },
    {
     "name": "stderr",
     "output_type": "stream",
     "text": [
      "[Parallel(n_jobs=-1)]: Using backend LokyBackend with 16 concurrent workers.\n",
      "[Parallel(n_jobs=-1)]: Done  18 tasks      | elapsed:    1.1s\n",
      "[Parallel(n_jobs=-1)]: Done 168 tasks      | elapsed:    6.6s\n",
      "[Parallel(n_jobs=-1)]: Done 250 out of 250 | elapsed:    9.5s finished\n"
     ]
    },
    {
     "name": "stdout",
     "output_type": "stream",
     "text": [
      "Fitting 5 folds for each of 50 candidates, totalling 250 fits\n"
     ]
    },
    {
     "name": "stderr",
     "output_type": "stream",
     "text": [
      "[Parallel(n_jobs=-1)]: Using backend LokyBackend with 16 concurrent workers.\n",
      "[Parallel(n_jobs=-1)]: Done  18 tasks      | elapsed:    0.7s\n",
      "[Parallel(n_jobs=-1)]: Done 168 tasks      | elapsed:    6.6s\n",
      "[Parallel(n_jobs=-1)]: Done 250 out of 250 | elapsed:   10.2s finished\n"
     ]
    },
    {
     "name": "stdout",
     "output_type": "stream",
     "text": [
      "Fitting 5 folds for each of 50 candidates, totalling 250 fits\n"
     ]
    },
    {
     "name": "stderr",
     "output_type": "stream",
     "text": [
      "[Parallel(n_jobs=-1)]: Using backend LokyBackend with 16 concurrent workers.\n",
      "[Parallel(n_jobs=-1)]: Done  18 tasks      | elapsed:    0.9s\n",
      "[Parallel(n_jobs=-1)]: Done 168 tasks      | elapsed:    7.2s\n",
      "[Parallel(n_jobs=-1)]: Done 250 out of 250 | elapsed:   10.6s finished\n"
     ]
    },
    {
     "name": "stdout",
     "output_type": "stream",
     "text": [
      "Fitting 5 folds for each of 50 candidates, totalling 250 fits\n"
     ]
    },
    {
     "name": "stderr",
     "output_type": "stream",
     "text": [
      "[Parallel(n_jobs=-1)]: Using backend LokyBackend with 16 concurrent workers.\n",
      "[Parallel(n_jobs=-1)]: Done  18 tasks      | elapsed:    1.2s\n",
      "[Parallel(n_jobs=-1)]: Done 168 tasks      | elapsed:    7.4s\n",
      "[Parallel(n_jobs=-1)]: Done 250 out of 250 | elapsed:   11.1s finished\n"
     ]
    }
   ]
  },
  {
   "cell_type": "code",
   "execution_count": 123,
   "outputs": [
    {
     "data": {
      "text/plain": "{3: RandomForestClassifier(class_weight='balanced', max_depth=10, n_estimators=200,\n                        random_state=100),\n 4: RandomForestClassifier(class_weight='balanced', max_depth=10,\n                        max_features='sqrt', n_estimators=50, random_state=100),\n 5: RandomForestClassifier(class_weight='balanced', max_depth=8, n_estimators=200,\n                        random_state=100),\n 6: RandomForestClassifier(class_weight='balanced', max_depth=8,\n                        max_features='sqrt', n_estimators=150, random_state=100),\n 7: RandomForestClassifier(class_weight='balanced', max_depth=8, n_estimators=200,\n                        random_state=100),\n 8: RandomForestClassifier(max_depth=2, random_state=100),\n 9: RandomForestClassifier(max_depth=6, max_features='sqrt', random_state=100),\n 10: RandomForestClassifier(max_depth=6, n_estimators=50, random_state=100),\n 11: RandomForestClassifier(class_weight='balanced', max_depth=10,\n                        max_features='sqrt', n_estimators=150, random_state=100),\n 12: RandomForestClassifier(max_depth=2, max_features='sqrt', random_state=100),\n 13: RandomForestClassifier(max_depth=2, n_estimators=50, random_state=100),\n 14: RandomForestClassifier(max_depth=2, random_state=100),\n 15: RandomForestClassifier(max_depth=2, n_estimators=50, random_state=100),\n 16: RandomForestClassifier(class_weight='balanced', max_depth=2, random_state=100),\n 17: RandomForestClassifier(class_weight='balanced', max_depth=8,\n                        max_features='sqrt', random_state=100),\n 18: RandomForestClassifier(class_weight='balanced', max_depth=2,\n                        max_features='sqrt', n_estimators=50, random_state=100),\n 19: RandomForestClassifier(class_weight='balanced', max_depth=4, n_estimators=200,\n                        random_state=100),\n 20: RandomForestClassifier(max_depth=6, n_estimators=200, random_state=100),\n 21: RandomForestClassifier(max_depth=4, n_estimators=150, random_state=100),\n 22: RandomForestClassifier(max_depth=2, n_estimators=150, random_state=100),\n 23: RandomForestClassifier(class_weight='balanced', max_depth=10, n_estimators=200,\n                        random_state=100),\n 24: RandomForestClassifier(class_weight='balanced', max_depth=8, n_estimators=150,\n                        random_state=100),\n 25: RandomForestClassifier(class_weight='balanced', max_depth=10,\n                        max_features='sqrt', n_estimators=50, random_state=100),\n 26: RandomForestClassifier(class_weight='balanced', max_depth=6,\n                        max_features='sqrt', random_state=100),\n 27: RandomForestClassifier(class_weight='balanced', max_depth=8,\n                        max_features='sqrt', n_estimators=150, random_state=100),\n 28: RandomForestClassifier(class_weight='balanced', max_depth=8,\n                        max_features='sqrt', random_state=100),\n 29: RandomForestClassifier(class_weight='balanced', max_depth=8,\n                        max_features='sqrt', random_state=100),\n 30: RandomForestClassifier(class_weight='balanced', max_depth=10, random_state=100),\n 31: RandomForestClassifier(class_weight='balanced', max_depth=10,\n                        max_features='sqrt', n_estimators=200, random_state=100),\n 32: RandomForestClassifier(class_weight='balanced', max_depth=10, n_estimators=200,\n                        random_state=100),\n 33: RandomForestClassifier(class_weight='balanced', max_depth=8, n_estimators=200,\n                        random_state=100),\n 34: RandomForestClassifier(max_depth=4, max_features='sqrt', random_state=100),\n 35: RandomForestClassifier(class_weight='balanced', max_depth=10, n_estimators=200,\n                        random_state=100),\n 36: RandomForestClassifier(class_weight='balanced', max_depth=10,\n                        max_features='sqrt', n_estimators=200, random_state=100),\n 37: RandomForestClassifier(class_weight='balanced', max_depth=10,\n                        max_features='sqrt', n_estimators=150, random_state=100),\n 38: RandomForestClassifier(class_weight='balanced', max_depth=10,\n                        max_features='sqrt', n_estimators=150, random_state=100),\n 39: RandomForestClassifier(class_weight='balanced', max_depth=10, n_estimators=200,\n                        random_state=100),\n 40: RandomForestClassifier(class_weight='balanced', max_depth=10, n_estimators=200,\n                        random_state=100),\n 41: RandomForestClassifier(class_weight='balanced', max_depth=10,\n                        max_features='sqrt', n_estimators=150, random_state=100),\n 42: RandomForestClassifier(max_depth=4, n_estimators=50, random_state=100),\n 43: RandomForestClassifier(max_depth=10, max_features='sqrt', n_estimators=200,\n                        random_state=100),\n 44: RandomForestClassifier(max_depth=4, n_estimators=50, random_state=100),\n 45: RandomForestClassifier(class_weight='balanced', max_depth=10, n_estimators=50,\n                        random_state=100),\n 46: RandomForestClassifier(max_depth=2, max_features='sqrt', random_state=100),\n 47: RandomForestClassifier(class_weight='balanced', max_depth=10, random_state=100),\n 48: RandomForestClassifier(class_weight='balanced', max_depth=10,\n                        max_features='sqrt', n_estimators=50, random_state=100),\n 49: RandomForestClassifier(class_weight='balanced', max_depth=10, n_estimators=200,\n                        random_state=100),\n 50: RandomForestClassifier(class_weight='balanced', max_depth=10, n_estimators=50,\n                        random_state=100),\n 51: RandomForestClassifier(class_weight='balanced', max_depth=10, random_state=100),\n 52: RandomForestClassifier(class_weight='balanced', max_depth=10, n_estimators=200,\n                        random_state=100)}"
     },
     "execution_count": 123,
     "metadata": {},
     "output_type": "execute_result"
    }
   ],
   "source": [
    "best_estimators"
   ],
   "metadata": {
    "collapsed": false,
    "pycharm": {
     "name": "#%%\n"
    }
   }
  },
  {
   "cell_type": "code",
   "execution_count": 84,
   "outputs": [],
   "source": [
    "X_test = df_test_prep[df_test_prep.index.get_level_values(2) == 10][feature_cols + cat_cols]\n",
    "X_test = pd.get_dummies(X_test, columns=['market_name'])\n",
    "y_test = df_test_prep[df_test_prep.index.get_level_values(2) == 10][target_cols]"
   ],
   "metadata": {
    "collapsed": false,
    "pycharm": {
     "name": "#%%\n"
    }
   }
  },
  {
   "cell_type": "code",
   "execution_count": 130,
   "outputs": [],
   "source": [
    "import pickle\n",
    "with open('ebw_best_estimators_classfn_trial_h1.pkl', 'wb') as file:\n",
    "    pickle.dump(best_estimators, file)\n",
    "with open('ebw_best_scores_classfn_trial_h1.pkl', 'wb') as file:\n",
    "    pickle.dump(best_scores, file)"
   ],
   "metadata": {
    "collapsed": false,
    "pycharm": {
     "name": "#%%\n"
    }
   }
  },
  {
   "cell_type": "code",
   "execution_count": 137,
   "outputs": [
    {
     "data": {
      "text/plain": "<matplotlib.legend.Legend at 0x7f8089dbcc10>"
     },
     "execution_count": 137,
     "metadata": {},
     "output_type": "execute_result"
    },
    {
     "data": {
      "text/plain": "<Figure size 640x480 with 1 Axes>",
      "image/png": "[encoded data removed]"
     },
     "metadata": {},
     "output_type": "display_data"
    }
   ],
   "source": [
    "from sklearn.metrics import f1_score\n",
    "plt.plot(best_estimators.keys(), [f1_score(y_test, best_estimators[key].predict(X_test) , average='weighted') for key in best_estimators], label='test_score')\n",
    "plt.plot(best_scores.keys(), best_scores.values(), label='train_score')\n",
    "plt.legend()"
   ],
   "metadata": {
    "collapsed": false,
    "pycharm": {
     "name": "#%%\n"
    }
   }
  }
 ],
 "metadata": {
  "kernelspec": {
   "display_name": "Python 3",
   "language": "python",
   "name": "python3"
  },
  "language_info": {
   "codemirror_mode": {
    "name": "ipython",
    "version": 2
   },
   "file_extension": ".py",
   "mimetype": "text/x-python",
   "name": "python",
   "nbconvert_exporter": "python",
   "pygments_lexer": "ipython2",
   "version": "2.7.6"
  }
 },
 "nbformat": 4,
 "nbformat_minor": 0
}