{
 "cells": [
  {
   "cell_type": "code",
   "execution_count": 1,
   "outputs": [],
   "source": [
    "# import packages\n",
    "import pandas as pd\n",
    "import numpy as np\n",
    "import matplotlib.pyplot as plt\n",
    "import pickle\n",
    "import time\n",
    "from sklearn.preprocessing import StandardScaler"
   ],
   "metadata": {
    "collapsed": false
   }
  },
  {
   "cell_type": "markdown",
   "source": [
    "#### read in train/test sets"
   ],
   "metadata": {
    "collapsed": false
   }
  },
  {
   "cell_type": "code",
   "execution_count": 2,
   "outputs": [],
   "source": [
    "df_train_sets = pd.read_pickle('ebw_poc_train_sample_expt3_with_shf_aligned_h1.pkl')\n",
    "df_test_sets  = pd.read_pickle('ebw_poc_test_sample_expt3_with_shf_aligned_h1.pkl')"
   ],
   "metadata": {
    "collapsed": false
   }
  },
  {
   "cell_type": "code",
   "execution_count": 3,
   "outputs": [],
   "source": [
    "mask_train = (df_train_sets.index.get_level_values(3) <= 26)\n",
    "mask_test = (df_test_sets.index.get_level_values(3) <= 26)\n",
    "df_train_sets = df_train_sets.loc[mask_train]\n",
    "df_test_sets = df_test_sets.loc[mask_test]"
   ],
   "metadata": {
    "collapsed": false
   }
  },
  {
   "cell_type": "markdown",
   "source": [
    "#### read in GBM model"
   ],
   "metadata": {
    "collapsed": false
   }
  },
  {
   "cell_type": "code",
   "execution_count": 4,
   "outputs": [],
   "source": [
    "file_gbm='best_est_gbm_h1_expt3_with_aligned_shf_nocorr.pkl'\n",
    "with open(file_gbm, 'rb') as file:\n",
    "    best_estimators_gbm = pickle.load(file)"
   ],
   "metadata": {
    "collapsed": false
   }
  },
  {
   "cell_type": "markdown",
   "source": [
    "#### plot learning curve"
   ],
   "metadata": {
    "collapsed": false
   }
  },
  {
   "cell_type": "code",
   "execution_count": 5,
   "outputs": [],
   "source": [
    "id_cols = list(df_train_sets.index)\n",
    "target_cols = ['censoring_flg_mod', 'target']\n",
    "cat_cols = ['market_name']\n",
    "feature_cols = list(set(df_train_sets.columns) - set(target_cols))\n",
    "num_cols = list(set(feature_cols) -set(cat_cols))"
   ],
   "metadata": {
    "collapsed": false
   }
  },
  {
   "cell_type": "code",
   "execution_count": 6,
   "outputs": [],
   "source": [
    "split_number = 5\n",
    "random_state = 1000\n",
    "weeks_range = range(27)"
   ],
   "metadata": {
    "collapsed": false
   }
  },
  {
   "cell_type": "code",
   "execution_count": 7,
   "outputs": [
    {
     "data": {
      "text/plain": "as_concordance_index_ipcw_scorer(estimator=GradientBoostingSurvivalAnalysis(learning_rate=0.5,\n                                                                            max_depth=10,\n                                                                            max_features='sqrt',\n                                                                            min_samples_leaf=16,\n                                                                            min_samples_split=8,\n                                                                            n_estimators=200),\n                                 tau=1000)"
     },
     "execution_count": 7,
     "metadata": {},
     "output_type": "execute_result"
    }
   ],
   "source": [
    "best_estimators_gbm[0]"
   ],
   "metadata": {
    "collapsed": false
   }
  },
  {
   "cell_type": "code",
   "execution_count": 8,
   "outputs": [],
   "source": [
    "from sklearn.model_selection import learning_curve, cross_val_score\n",
    "from sksurv.metrics import concordance_index_ipcw, as_concordance_index_ipcw_scorer, cumulative_dynamic_auc, as_cumulative_dynamic_auc_scorer\n",
    "\n",
    "def concordance_scorer_ipcw(estimator, X, y):\n",
    "    return estimator.score(X, y)"
   ],
   "metadata": {
    "collapsed": false
   }
  },
  {
   "cell_type": "markdown",
   "source": [
    "#### predicted risk scores"
   ],
   "metadata": {
    "collapsed": false
   }
  },
  {
   "cell_type": "code",
   "execution_count": 9,
   "outputs": [
    {
     "name": "stdout",
     "output_type": "stream",
     "text": [
      "[]\n",
      "[]\n",
      "[]\n",
      "[]\n",
      "[]\n",
      "[]\n",
      "[]\n",
      "[]\n",
      "[]\n",
      "[]\n",
      "[]\n",
      "[]\n",
      "[]\n",
      "[]\n",
      "[]\n",
      "[]\n",
      "[]\n",
      "[]\n",
      "[]\n",
      "[]\n",
      "[]\n",
      "[]\n",
      "[]\n",
      "['market_name_Minneapolis']\n",
      "['market_name_Minneapolis']\n",
      "['market_name_Minneapolis']\n",
      "['market_name_Minneapolis']\n"
     ]
    }
   ],
   "source": [
    "preds_train = {}\n",
    "surv_fn_train = {}\n",
    "preds_test = {}\n",
    "surv_fn_test = {}\n",
    "\n",
    "for wk in weeks_range:\n",
    "    start = time.perf_counter()\n",
    "\n",
    "    estimator = best_estimators_gbm[wk]\n",
    "\n",
    "    X_train = df_train_sets[df_train_sets.index.get_level_values(3) == wk][feature_cols]\n",
    "    drop_cols = X_train.columns[X_train.isna().any()].tolist()\n",
    "    X_train.drop(drop_cols, axis=1, inplace=True)\n",
    "    X_train = pd.get_dummies(X_train, columns=['market_name'])\n",
    "    y_train = df_train_sets[df_train_sets.index.get_level_values(3) == wk][target_cols].to_records(index=False)\n",
    "    # scores_train[wk] = estimator.score(X_train[estimator.estimator.feature_names_in_], y_train)\n",
    "    preds_train[wk] = estimator.predict(X_train[estimator.estimator.feature_names_in_])\n",
    "    # surv_fn_train[wk] = estimator.predict_survival_function(X_train[estimator.estimator.feature_names_in_])\n",
    "\n",
    "    X_test = df_test_sets[df_test_sets.index.get_level_values(3) == wk][feature_cols]\n",
    "    X_test = pd.get_dummies(X_test, columns=['market_name'])\n",
    "    missing_cols = list(set(estimator.estimator.feature_names_in_) - set(X_test.columns))\n",
    "    print(missing_cols)\n",
    "    for col in missing_cols:\n",
    "        X_test[col] = 0\n",
    "    X_test.drop(drop_cols, axis=1, inplace=True)\n",
    "    test_idx = X_test[estimator.estimator.feature_names_in_].dropna().index\n",
    "    y_test = df_test_sets[df_test_sets.index.get_level_values(3) == wk].loc[test_idx, target_cols].to_records(index=False)\n",
    "\n",
    "    preds_test[wk] = estimator.predict(X_test[estimator.estimator.feature_names_in_].loc[test_idx])\n",
    "    # surv_fn_test[wk] = estimator.predict_survival_function(X_test[estimator.estimator.feature_names_in_].loc[test_idx])"
   ],
   "metadata": {
    "collapsed": false
   }
  },
  {
   "cell_type": "code",
   "execution_count": 10,
   "outputs": [],
   "source": [
    "df_train_sets['pred'] = np.nan\n",
    "df_test_sets['pred'] = np.nan"
   ],
   "metadata": {
    "collapsed": false
   }
  },
  {
   "cell_type": "code",
   "execution_count": 11,
   "outputs": [],
   "source": [
    "for wk in weeks_range:\n",
    "    # print(df_train_sets[df_train_sets.index.get_level_values(3) == wk].shape)\n",
    "    df_train_sets.loc[df_train_sets.index.get_level_values(3) == wk, 'pred'] = preds_train[wk]\n",
    "    df_test_sets.loc[df_test_sets.index.get_level_values(3) == wk, 'pred'] = preds_test[wk]\n",
    "    # print(len(preds_train[wk]))"
   ],
   "metadata": {
    "collapsed": false
   }
  },
  {
   "cell_type": "code",
   "execution_count": 12,
   "outputs": [],
   "source": [
    "# assign format quintile for train/test sets\n",
    "df_train_sets['format_quintile'] = df_train_sets.groupby(['weeks_since_hit']).apply(\n",
    "    lambda x: pd.qcut(x['pred'], q=5, labels=False)).droplevel([0])\n",
    "df_test_sets['format_quintile'] = df_test_sets.groupby(['weeks_since_hit']).apply(\n",
    "    lambda x: pd.qcut(x['pred'], q=5, labels=False)).droplevel([0])"
   ],
   "metadata": {
    "collapsed": false
   }
  },
  {
   "cell_type": "code",
   "execution_count": 13,
   "outputs": [],
   "source": [
    "# assign station quintile for train/test sets\n",
    "df_train_sets['station_quintile'] = df_train_sets.groupby(['weeks_since_hit', 'call_letters']).apply(\n",
    "    lambda x: pd.qcut(x['pred'], q=5, labels=False, duplicates='drop')).droplevel([0,1])\n",
    "df_test_sets['station_quintile'] = df_test_sets.groupby(['weeks_since_hit', 'call_letters']).apply(\n",
    "    lambda x: pd.qcut(x['pred'], q=5, labels=False, duplicates='drop')).droplevel([0,1])"
   ],
   "metadata": {
    "collapsed": false
   }
  },
  {
   "cell_type": "code",
   "execution_count": 14,
   "outputs": [],
   "source": [
    "# normalize risk score by format\n",
    "df_train_sets['pred_normalized_format'] = df_train_sets.groupby(['weeks_since_hit']).apply(lambda x: (x['pred'] - x['pred'].min())/(x['pred'].max() - x['pred'].min())).droplevel([0])\n",
    "\n",
    "df_test_sets['pred_normalized_format'] = df_test_sets.groupby(['weeks_since_hit']).apply(lambda x: (x['pred'] - x['pred'].min())/(x['pred'].max() - x['pred'].min())).droplevel([0])"
   ],
   "metadata": {
    "collapsed": false
   }
  },
  {
   "cell_type": "code",
   "execution_count": 15,
   "outputs": [],
   "source": [
    "# normalize risk score by station\n",
    "df_train_sets['pred_normalized_station'] = df_train_sets.groupby(['weeks_since_hit', 'call_letters']).apply(lambda x: (x['pred'] - x['pred'].min())/(x['pred'].max() - x['pred'].min())).droplevel([0,1])\n",
    "\n",
    "df_test_sets['pred_normalized_station'] = df_test_sets.groupby(['weeks_since_hit', 'call_letters']).apply(lambda x: (x['pred'] - x['pred'].min())/(x['pred'].max() - x['pred'].min())).droplevel([0,1])"
   ],
   "metadata": {
    "collapsed": false
   }
  },
  {
   "cell_type": "code",
   "execution_count": 15,
   "outputs": [
    {
     "data": {
      "text/plain": "mediabase_id  call_letters  week_dt     weeks_since_hit\n2591406       WNCI-FM       2021-09-26  0.0                 91.0\n                            2021-10-03  1.0                155.0\n                            2021-10-10  2.0                149.0\n                            2021-10-17  3.0                116.0\n                            2021-10-24  4.0                139.0\n                                                           ...  \n2598403       WXKS-FM       2021-02-07  22.0                81.0\n                            2021-02-14  23.0                59.0\n                            2021-02-21  24.0                32.0\n                            2021-02-28  25.0                71.0\n                            2021-03-07  26.0                30.0\nName: pred_normalized_format, Length: 19630, dtype: float64"
     },
     "execution_count": 15,
     "metadata": {},
     "output_type": "execute_result"
    }
   ],
   "source": [
    "# format quintile rank\n",
    "df_train_sets.groupby(['weeks_since_hit', 'station_quintile'])['pred_normalized_format'].rank()"
   ],
   "metadata": {
    "collapsed": false
   }
  },
  {
   "cell_type": "code",
   "execution_count": null,
   "outputs": [],
   "source": [
    "df_train_sets"
   ],
   "metadata": {
    "collapsed": false
   }
  },
  {
   "cell_type": "markdown",
   "source": [
    "#### predicted survival curves and MAPE for survival time point prediction"
   ],
   "metadata": {
    "collapsed": false
   }
  },
  {
   "cell_type": "code",
   "execution_count": 18,
   "outputs": [],
   "source": [
    "from sksurv.functions import StepFunction\n",
    "# define function to extract point estimate of survival time from survival curves\n",
    "def get_percentile_from_step_fn(step_fns_list, percs):\n",
    "    surv_time_preds=[]\n",
    "    try:\n",
    "        for step_fn in step_fns_list:\n",
    "            idxs = [np.argmin(step_fn.y[step_fn.y >=alpha]) for alpha in percs]\n",
    "            surv_time_pred = [step_fn.x[idx] for idx in idxs]\n",
    "            surv_time_preds.append(surv_time_pred)\n",
    "    except ValueError:\n",
    "        return\n",
    "    return surv_time_preds"
   ],
   "metadata": {
    "collapsed": false
   }
  },
  {
   "cell_type": "code",
   "execution_count": 19,
   "outputs": [],
   "source": [
    "def get_prob_from_step_fn(step_fns_list, spins):\n",
    "    surv_time_preds=[]\n",
    "    try:\n",
    "        for step_fn in step_fns_list:\n",
    "            idxs = [np.argmin(step_fn.x[step_fn.x >=alpha]) for alpha in spins]\n",
    "            surv_time_pred = [step_fn.y[idx] for idx in idxs]\n",
    "            surv_time_preds.append(surv_time_pred)\n",
    "    except ValueError:\n",
    "        return\n",
    "    return surv_time_preds"
   ],
   "metadata": {
    "collapsed": false
   }
  },
  {
   "cell_type": "code",
   "execution_count": 20,
   "outputs": [],
   "source": [
    "df_surv_time = pd.DataFrame()\n",
    "df_surv_time_test = pd.DataFrame()\n",
    "\n",
    "df_surv_prob_test_all = pd.DataFrame()\n",
    "\n",
    "for wk in weeks_range:\n",
    "    start = time.perf_counter()\n",
    "\n",
    "    estimator = best_estimators_gbm[wk]\n",
    "\n",
    "    X_train = df_train_sets[df_train_sets.index.get_level_values(3) == wk][feature_cols]\n",
    "    drop_cols = X_train.columns[X_train.isna().any()].tolist()\n",
    "    X_train.drop(drop_cols, axis=1, inplace=True)\n",
    "    X_train = pd.get_dummies(X_train, columns=['market_name'])\n",
    "    y_train = df_train_sets[df_train_sets.index.get_level_values(3) == wk][target_cols].to_records(index=False)\n",
    "    surv_fn_train = estimator.predict_survival_function(X_train[estimator.estimator.feature_names_in_])\n",
    "\n",
    "    alphas = list(np.arange(0,1,0.1)) + [0.25, 0.50, 0.75, 0.95, 0.99]\n",
    "    alphas = list(np.sort(alphas))\n",
    "    alphas = [0.10, 0.50, 0.90]\n",
    "    surv_time_preds = get_percentile_from_step_fn(surv_fn_train, alphas)\n",
    "    # df_surv_time_preds = pd.DataFrame(surv_time_preds, columns=['stp_perc_25', 'stp_perc_50', 'stp_perc_75'], index=X_train.index)\n",
    "    df_surv_time_preds = pd.DataFrame(surv_time_preds, columns=[f'stp_perc_{int(100*i)}' for i in alphas], index=X_train.index)\n",
    "    df_surv_time_preds = pd.concat([df_surv_time_preds, df_train_sets[df_train_sets.index.get_level_values(3) == wk][target_cols]], axis=1)\n",
    "    df_surv_time = pd.concat([df_surv_time, df_surv_time_preds])\n",
    "\n",
    "    X_test = df_test_sets[df_test_sets.index.get_level_values(3) == wk][feature_cols]\n",
    "    X_test = pd.get_dummies(X_test, columns=['market_name'])\n",
    "    missing_cols = list(set(estimator.estimator.feature_names_in_) - set(X_test.columns))\n",
    "    # print(missing_cols)\n",
    "    for col in missing_cols:\n",
    "        X_test[col] = 0\n",
    "    test_idx = X_test[estimator.estimator.feature_names_in_].dropna().index\n",
    "    y_test = df_test_sets[df_test_sets.index.get_level_values(3) == wk].loc[test_idx, target_cols].to_records(index=False)\n",
    "\n",
    "    surv_fn_test = estimator.predict_survival_function(X_test[estimator.estimator.feature_names_in_].loc[test_idx])\n",
    "\n",
    "    surv_time_preds_test = get_percentile_from_step_fn(surv_fn_test, alphas)\n",
    "    # df_surv_time_preds_test = pd.DataFrame(surv_time_preds_test, columns=['stp_perc_25', 'stp_perc_50', 'stp_perc_75'], index=test_idx)\n",
    "    df_surv_time_preds_test = pd.DataFrame(surv_time_preds_test, columns=[f'stp_perc_{int(100*i)}' for i in alphas], index=test_idx)\n",
    "    df_surv_time_preds_test = pd.concat([df_surv_time_preds_test, df_test_sets[df_test_sets.index.get_level_values(3) == wk][target_cols]], axis=1)\n",
    "    df_surv_time_test = pd.concat([df_surv_time_test, df_surv_time_preds_test])\n",
    "\n",
    "\n",
    "    # surv_prob_test = get_prob_from_step_fn(surv_fn_test, [25, 50, 75, 100])\n",
    "    # # df_surv_time_preds_test = pd.DataFrame(surv_time_preds_test, columns=['stp_perc_25', 'stp_perc_50', 'stp_perc_75'], index=test_idx)\n",
    "    # df_surv_prob_test = pd.DataFrame(surv_prob_test, columns=[f'prob_{int(i)}' for i in [25, 50, 75, 100]], index=test_idx)\n",
    "    # df_surv_prob_test = pd.concat([df_surv_prob_test, df_test_sets[df_test_sets.index.get_level_values(3) == wk][target_cols]], axis=1)\n",
    "    # df_surv_prob_test_all = pd.concat([df_surv_prob_test_all, df_surv_prob_test])"
   ],
   "metadata": {
    "collapsed": false
   }
  },
  {
   "cell_type": "code",
   "execution_count": 21,
   "outputs": [],
   "source": [
    "surv_cols = ['stp_perc_10', 'stp_perc_50', 'stp_perc_90']\n",
    "df_train_sets = df_train_sets.join(df_surv_time[surv_cols], how='left')\n",
    "df_test_sets = df_test_sets.join(df_surv_time_test[surv_cols], how='left')"
   ],
   "metadata": {
    "collapsed": false
   }
  },
  {
   "cell_type": "code",
   "execution_count": 22,
   "outputs": [],
   "source": [
    "df_train_sets['target_quintile'] = df_train_sets.groupby(['weeks_since_hit', 'censoring_flg_mod']).apply(lambda x: pd.qcut(x['target'], q=5, labels=[4,3,2,1,0])).droplevel([0,1])"
   ],
   "metadata": {
    "collapsed": false
   }
  },
  {
   "cell_type": "markdown",
   "source": [
    "##### predicted cumulative hazard functions"
   ],
   "metadata": {
    "collapsed": false
   }
  },
  {
   "cell_type": "code",
   "execution_count": 24,
   "outputs": [],
   "source": [
    "def get_cuml_hazard_from_step_fn(step_fns_list, spins):\n",
    "    cuml_hazard_preds=[]\n",
    "    try:\n",
    "        for step_fn in step_fns_list:\n",
    "            cuml_hazard_pred = [step_fn.y[idx] for idx in spins]\n",
    "            cuml_hazard_preds.append(cuml_hazard_pred)\n",
    "    except ValueError:\n",
    "        return\n",
    "    return cuml_hazard_preds"
   ],
   "metadata": {
    "collapsed": false
   }
  },
  {
   "cell_type": "code",
   "execution_count": 28,
   "outputs": [],
   "source": [
    "df_cuml_hazard = pd.DataFrame()\n",
    "df_cuml_hazard_test = pd.DataFrame()\n",
    "\n",
    "df_surv_prob_test_all = pd.DataFrame()\n",
    "\n",
    "for wk in weeks_range:\n",
    "    start = time.perf_counter()\n",
    "\n",
    "    estimator = best_estimators_gbm[wk]\n",
    "\n",
    "    X_train = df_train_sets[df_train_sets.index.get_level_values(3) == wk][feature_cols]\n",
    "    drop_cols = X_train.columns[X_train.isna().any()].tolist()\n",
    "    X_train.drop(drop_cols, axis=1, inplace=True)\n",
    "    X_train = pd.get_dummies(X_train, columns=['market_name'])\n",
    "    y_train = df_train_sets[df_train_sets.index.get_level_values(3) == wk][target_cols].to_records(index=False)\n",
    "    cuml_hazard_fn_train = estimator.predict_cumulative_hazard_function(X_train[estimator.estimator.feature_names_in_])\n",
    "\n",
    "    spins = list(range(0, 110, 10))\n",
    "    cuml_hazard_preds = get_cuml_hazard_from_step_fn(cuml_hazard_fn_train, spins)\n",
    "    # df_surv_time_preds = pd.DataFrame(surv_time_preds, columns=['stp_perc_25', 'stp_perc_50', 'stp_perc_75'], index=X_train.index)\n",
    "    df_cuml_hazard_preds = pd.DataFrame(cuml_hazard_preds, columns=[f'cuml_hazard_{int(i)}' for i in spins], index=X_train.index)\n",
    "    df_cuml_hazard_preds = pd.concat([df_cuml_hazard_preds, df_train_sets[df_train_sets.index.get_level_values(3) == wk][target_cols]], axis=1)\n",
    "    df_cuml_hazard = pd.concat([df_cuml_hazard, df_cuml_hazard_preds])\n",
    "\n",
    "    X_test = df_test_sets[df_test_sets.index.get_level_values(3) == wk][feature_cols]\n",
    "    X_test = pd.get_dummies(X_test, columns=['market_name'])\n",
    "    missing_cols = list(set(estimator.estimator.feature_names_in_) - set(X_test.columns))\n",
    "    # print(missing_cols)\n",
    "    for col in missing_cols:\n",
    "        X_test[col] = 0\n",
    "    test_idx = X_test[estimator.estimator.feature_names_in_].dropna().index\n",
    "    y_test = df_test_sets[df_test_sets.index.get_level_values(3) == wk].loc[test_idx, target_cols].to_records(index=False)\n",
    "\n",
    "    cuml_hazard_fn_test = estimator.predict_cumulative_hazard_function(X_test[estimator.estimator.feature_names_in_].loc[test_idx])\n",
    "\n",
    "    cuml_hazard_preds_test = get_cuml_hazard_from_step_fn(cuml_hazard_fn_test, spins)\n",
    "    # df_surv_time_preds = pd.DataFrame(surv_time_preds, columns=['stp_perc_25', 'stp_perc_50', 'stp_perc_75'], index=X_train.index)\n",
    "    df_cuml_hazard_preds_test = pd.DataFrame(cuml_hazard_preds_test, columns=[f'cuml_hazard_{int(i)}' for i in spins], index=X_test.index)\n",
    "    df_cuml_hazard_preds_test = pd.concat([df_cuml_hazard_preds_test, df_test_sets[df_test_sets.index.get_level_values(3) == wk][target_cols]], axis=1)\n",
    "    df_cuml_hazard_test = pd.concat([df_cuml_hazard_test, df_cuml_hazard_preds_test])\n",
    "\n",
    "\n",
    "    # surv_prob_test = get_prob_from_step_fn(surv_fn_test, [25, 50, 75, 100])\n",
    "    # # df_surv_time_preds_test = pd.DataFrame(surv_time_preds_test, columns=['stp_perc_25', 'stp_perc_50', 'stp_perc_75'], index=test_idx)\n",
    "    # df_surv_prob_test = pd.DataFrame(surv_prob_test, columns=[f'prob_{int(i)}' for i in [25, 50, 75, 100]], index=test_idx)\n",
    "    # df_surv_prob_test = pd.concat([df_surv_prob_test, df_test_sets[df_test_sets.index.get_level_values(3) == wk][target_cols]], axis=1)\n",
    "    # df_surv_prob_test_all = pd.concat([df_surv_prob_test_all, df_surv_prob_test])"
   ],
   "metadata": {
    "collapsed": false
   }
  },
  {
   "cell_type": "code",
   "execution_count": 29,
   "outputs": [
    {
     "data": {
      "text/plain": "                                                      cuml_hazard_0  \\\nmediabase_id call_letters week_dt    weeks_since_hit                  \n2742545      KDHT-FM      2022-04-24 0.0                     0.0000   \n2780771      KHTS-FM      2022-06-19 0.0                     0.0000   \n2638380      WDCG-FM      2021-04-18 0.0                     0.0000   \n2345779      WKSC-FM      2021-02-28 0.0                     0.0000   \n2553815      WKSC-FM      2021-10-03 0.0                     0.0000   \n...                                                             ...   \n2552613      WZFT-FM      2020-10-11 26.0                    0.0067   \n2548688      KKRZ-FM      2020-09-13 26.0                    0.0067   \n2582475      KHTS-FM      2021-10-17 26.0                    0.0067   \n2650436      KBKS-FM      2021-07-18 26.0                    0.0067   \n2723707      KHFI-FM      2022-04-03 26.0                    0.0067   \n\n                                                      cuml_hazard_10  \\\nmediabase_id call_letters week_dt    weeks_since_hit                   \n2742545      KDHT-FM      2022-04-24 0.0                2.673883e-09   \n2780771      KHTS-FM      2022-06-19 0.0                2.673883e-09   \n2638380      WDCG-FM      2021-04-18 0.0                2.673883e-09   \n2345779      WKSC-FM      2021-02-28 0.0                2.673883e-09   \n2553815      WKSC-FM      2021-10-03 0.0                2.673883e-09   \n...                                                              ...   \n2552613      WZFT-FM      2020-10-11 26.0               2.659608e-02   \n2548688      KKRZ-FM      2020-09-13 26.0               2.659608e-02   \n2582475      KHTS-FM      2021-10-17 26.0               2.659608e-02   \n2650436      KBKS-FM      2021-07-18 26.0               2.659608e-02   \n2723707      KHFI-FM      2022-04-03 26.0               2.659608e-02   \n\n                                                      cuml_hazard_20  \\\nmediabase_id call_letters week_dt    weeks_since_hit                   \n2742545      KDHT-FM      2022-04-24 0.0                2.648047e-08   \n2780771      KHTS-FM      2022-06-19 0.0                2.648047e-08   \n2638380      WDCG-FM      2021-04-18 0.0                2.648047e-08   \n2345779      WKSC-FM      2021-02-28 0.0                2.648047e-08   \n2553815      WKSC-FM      2021-10-03 0.0                2.648047e-08   \n...                                                              ...   \n2552613      WZFT-FM      2020-10-11 26.0               4.830365e-02   \n2548688      KKRZ-FM      2020-09-13 26.0               4.830365e-02   \n2582475      KHTS-FM      2021-10-17 26.0               4.830365e-02   \n2650436      KBKS-FM      2021-07-18 26.0               4.830365e-02   \n2723707      KHFI-FM      2022-04-03 26.0               4.830365e-02   \n\n                                                      cuml_hazard_30  \\\nmediabase_id call_letters week_dt    weeks_since_hit                   \n2742545      KDHT-FM      2022-04-24 0.0                1.047978e-07   \n2780771      KHTS-FM      2022-06-19 0.0                1.047978e-07   \n2638380      WDCG-FM      2021-04-18 0.0                1.047978e-07   \n2345779      WKSC-FM      2021-02-28 0.0                1.047978e-07   \n2553815      WKSC-FM      2021-10-03 0.0                1.047978e-07   \n...                                                              ...   \n2552613      WZFT-FM      2020-10-11 26.0               6.851265e-02   \n2548688      KKRZ-FM      2020-09-13 26.0               6.851265e-02   \n2582475      KHTS-FM      2021-10-17 26.0               6.851265e-02   \n2650436      KBKS-FM      2021-07-18 26.0               6.851265e-02   \n2723707      KHFI-FM      2022-04-03 26.0               6.851265e-02   \n\n                                                      cuml_hazard_40  \\\nmediabase_id call_letters week_dt    weeks_since_hit                   \n2742545      KDHT-FM      2022-04-24 0.0                3.514035e-07   \n2780771      KHTS-FM      2022-06-19 0.0                3.514035e-07   \n2638380      WDCG-FM      2021-04-18 0.0                3.514035e-07   \n2345779      WKSC-FM      2021-02-28 0.0                3.514035e-07   \n2553815      WKSC-FM      2021-10-03 0.0                3.514035e-07   \n...                                                              ...   \n2552613      WZFT-FM      2020-10-11 26.0               1.086368e-01   \n2548688      KKRZ-FM      2020-09-13 26.0               1.086368e-01   \n2582475      KHTS-FM      2021-10-17 26.0               1.086368e-01   \n2650436      KBKS-FM      2021-07-18 26.0               1.086368e-01   \n2723707      KHFI-FM      2022-04-03 26.0               1.086368e-01   \n\n                                                      cuml_hazard_50  \\\nmediabase_id call_letters week_dt    weeks_since_hit                   \n2742545      KDHT-FM      2022-04-24 0.0                5.626495e-07   \n2780771      KHTS-FM      2022-06-19 0.0                5.626495e-07   \n2638380      WDCG-FM      2021-04-18 0.0                5.626495e-07   \n2345779      WKSC-FM      2021-02-28 0.0                5.626495e-07   \n2553815      WKSC-FM      2021-10-03 0.0                5.626495e-07   \n...                                                              ...   \n2552613      WZFT-FM      2020-10-11 26.0               1.281511e-01   \n2548688      KKRZ-FM      2020-09-13 26.0               1.281511e-01   \n2582475      KHTS-FM      2021-10-17 26.0               1.281511e-01   \n2650436      KBKS-FM      2021-07-18 26.0               1.281511e-01   \n2723707      KHFI-FM      2022-04-03 26.0               1.281511e-01   \n\n                                                      cuml_hazard_60  \\\nmediabase_id call_letters week_dt    weeks_since_hit                   \n2742545      KDHT-FM      2022-04-24 0.0                    0.000001   \n2780771      KHTS-FM      2022-06-19 0.0                    0.000001   \n2638380      WDCG-FM      2021-04-18 0.0                    0.000001   \n2345779      WKSC-FM      2021-02-28 0.0                    0.000001   \n2553815      WKSC-FM      2021-10-03 0.0                    0.000001   \n...                                                              ...   \n2552613      WZFT-FM      2020-10-11 26.0                   0.178334   \n2548688      KKRZ-FM      2020-09-13 26.0                   0.178334   \n2582475      KHTS-FM      2021-10-17 26.0                   0.178334   \n2650436      KBKS-FM      2021-07-18 26.0                   0.178334   \n2723707      KHFI-FM      2022-04-03 26.0                   0.178334   \n\n                                                      cuml_hazard_70  \\\nmediabase_id call_letters week_dt    weeks_since_hit                   \n2742545      KDHT-FM      2022-04-24 0.0                    0.000002   \n2780771      KHTS-FM      2022-06-19 0.0                    0.000002   \n2638380      WDCG-FM      2021-04-18 0.0                    0.000002   \n2345779      WKSC-FM      2021-02-28 0.0                    0.000002   \n2553815      WKSC-FM      2021-10-03 0.0                    0.000002   \n...                                                              ...   \n2552613      WZFT-FM      2020-10-11 26.0                   0.214389   \n2548688      KKRZ-FM      2020-09-13 26.0                   0.214389   \n2582475      KHTS-FM      2021-10-17 26.0                   0.214389   \n2650436      KBKS-FM      2021-07-18 26.0                   0.214389   \n2723707      KHFI-FM      2022-04-03 26.0                   0.214389   \n\n                                                      cuml_hazard_80  \\\nmediabase_id call_letters week_dt    weeks_since_hit                   \n2742545      KDHT-FM      2022-04-24 0.0                    0.000004   \n2780771      KHTS-FM      2022-06-19 0.0                    0.000004   \n2638380      WDCG-FM      2021-04-18 0.0                    0.000004   \n2345779      WKSC-FM      2021-02-28 0.0                    0.000004   \n2553815      WKSC-FM      2021-10-03 0.0                    0.000004   \n...                                                              ...   \n2552613      WZFT-FM      2020-10-11 26.0                   0.239304   \n2548688      KKRZ-FM      2020-09-13 26.0                   0.239304   \n2582475      KHTS-FM      2021-10-17 26.0                   0.239304   \n2650436      KBKS-FM      2021-07-18 26.0                   0.239304   \n2723707      KHFI-FM      2022-04-03 26.0                   0.239304   \n\n                                                      cuml_hazard_90  \\\nmediabase_id call_letters week_dt    weeks_since_hit                   \n2742545      KDHT-FM      2022-04-24 0.0                    0.000008   \n2780771      KHTS-FM      2022-06-19 0.0                    0.000008   \n2638380      WDCG-FM      2021-04-18 0.0                    0.000008   \n2345779      WKSC-FM      2021-02-28 0.0                    0.000008   \n2553815      WKSC-FM      2021-10-03 0.0                    0.000008   \n...                                                              ...   \n2552613      WZFT-FM      2020-10-11 26.0                   0.271001   \n2548688      KKRZ-FM      2020-09-13 26.0                   0.271001   \n2582475      KHTS-FM      2021-10-17 26.0                   0.271001   \n2650436      KBKS-FM      2021-07-18 26.0                   0.271001   \n2723707      KHFI-FM      2022-04-03 26.0                   0.271001   \n\n                                                      cuml_hazard_100  \\\nmediabase_id call_letters week_dt    weeks_since_hit                    \n2742545      KDHT-FM      2022-04-24 0.0                     0.000016   \n2780771      KHTS-FM      2022-06-19 0.0                     0.000016   \n2638380      WDCG-FM      2021-04-18 0.0                     0.000016   \n2345779      WKSC-FM      2021-02-28 0.0                     0.000016   \n2553815      WKSC-FM      2021-10-03 0.0                     0.000016   \n...                                                               ...   \n2552613      WZFT-FM      2020-10-11 26.0                    0.310715   \n2548688      KKRZ-FM      2020-09-13 26.0                    0.310715   \n2582475      KHTS-FM      2021-10-17 26.0                    0.310715   \n2650436      KBKS-FM      2021-07-18 26.0                    0.310715   \n2723707      KHFI-FM      2022-04-03 26.0                    0.310715   \n\n                                                      censoring_flg_mod  \\\nmediabase_id call_letters week_dt    weeks_since_hit                      \n2742545      KDHT-FM      2022-04-24 0.0                          False   \n2780771      KHTS-FM      2022-06-19 0.0                          False   \n2638380      WDCG-FM      2021-04-18 0.0                          False   \n2345779      WKSC-FM      2021-02-28 0.0                          False   \n2553815      WKSC-FM      2021-10-03 0.0                          False   \n...                                                                 ...   \n2552613      WZFT-FM      2020-10-11 26.0                          True   \n2548688      KKRZ-FM      2020-09-13 26.0                          True   \n2582475      KHTS-FM      2021-10-17 26.0                          True   \n2650436      KBKS-FM      2021-07-18 26.0                          True   \n2723707      KHFI-FM      2022-04-03 26.0                          True   \n\n                                                      target  \nmediabase_id call_letters week_dt    weeks_since_hit          \n2742545      KDHT-FM      2022-04-24 0.0              1515.0  \n2780771      KHTS-FM      2022-06-19 0.0              1491.0  \n2638380      WDCG-FM      2021-04-18 0.0               673.0  \n2345779      WKSC-FM      2021-02-28 0.0               208.0  \n2553815      WKSC-FM      2021-10-03 0.0               101.0  \n...                                                      ...  \n2552613      WZFT-FM      2020-10-11 26.0              176.0  \n2548688      KKRZ-FM      2020-09-13 26.0              492.0  \n2582475      KHTS-FM      2021-10-17 26.0               16.0  \n2650436      KBKS-FM      2021-07-18 26.0              505.0  \n2723707      KHFI-FM      2022-04-03 26.0               50.0  \n\n[6658 rows x 13 columns]",
      "text/html": "<div>\n<style scoped>\n    .dataframe tbody tr th:only-of-type {\n        vertical-align: middle;\n    }\n\n    .dataframe tbody tr th {\n        vertical-align: top;\n    }\n\n    .dataframe thead th {\n        text-align: right;\n    }\n</style>\n<table border=\"1\" class=\"dataframe\">\n  <thead>\n    <tr style=\"text-align: right;\">\n      <th></th>\n      <th></th>\n      <th></th>\n      <th></th>\n      <th>cuml_hazard_0</th>\n      <th>cuml_hazard_10</th>\n      <th>cuml_hazard_20</th>\n      <th>cuml_hazard_30</th>\n      <th>cuml_hazard_40</th>\n      <th>cuml_hazard_50</th>\n      <th>cuml_hazard_60</th>\n      <th>cuml_hazard_70</th>\n      <th>cuml_hazard_80</th>\n      <th>cuml_hazard_90</th>\n      <th>cuml_hazard_100</th>\n      <th>censoring_flg_mod</th>\n      <th>target</th>\n    </tr>\n    <tr>\n      <th>mediabase_id</th>\n      <th>call_letters</th>\n      <th>week_dt</th>\n      <th>weeks_since_hit</th>\n      <th></th>\n      <th></th>\n      <th></th>\n      <th></th>\n      <th></th>\n      <th></th>\n      <th></th>\n      <th></th>\n      <th></th>\n      <th></th>\n      <th></th>\n      <th></th>\n      <th></th>\n    </tr>\n  </thead>\n  <tbody>\n    <tr>\n      <th>2742545</th>\n      <th>KDHT-FM</th>\n      <th>2022-04-24</th>\n      <th>0.0</th>\n      <td>0.0000</td>\n      <td>2.673883e-09</td>\n      <td>2.648047e-08</td>\n      <td>1.047978e-07</td>\n      <td>3.514035e-07</td>\n      <td>5.626495e-07</td>\n      <td>0.000001</td>\n      <td>0.000002</td>\n      <td>0.000004</td>\n      <td>0.000008</td>\n      <td>0.000016</td>\n      <td>False</td>\n      <td>1515.0</td>\n    </tr>\n    <tr>\n      <th>2780771</th>\n      <th>KHTS-FM</th>\n      <th>2022-06-19</th>\n      <th>0.0</th>\n      <td>0.0000</td>\n      <td>2.673883e-09</td>\n      <td>2.648047e-08</td>\n      <td>1.047978e-07</td>\n      <td>3.514035e-07</td>\n      <td>5.626495e-07</td>\n      <td>0.000001</td>\n      <td>0.000002</td>\n      <td>0.000004</td>\n      <td>0.000008</td>\n      <td>0.000016</td>\n      <td>False</td>\n      <td>1491.0</td>\n    </tr>\n    <tr>\n      <th>2638380</th>\n      <th>WDCG-FM</th>\n      <th>2021-04-18</th>\n      <th>0.0</th>\n      <td>0.0000</td>\n      <td>2.673883e-09</td>\n      <td>2.648047e-08</td>\n      <td>1.047978e-07</td>\n      <td>3.514035e-07</td>\n      <td>5.626495e-07</td>\n      <td>0.000001</td>\n      <td>0.000002</td>\n      <td>0.000004</td>\n      <td>0.000008</td>\n      <td>0.000016</td>\n      <td>False</td>\n      <td>673.0</td>\n    </tr>\n    <tr>\n      <th>2345779</th>\n      <th>WKSC-FM</th>\n      <th>2021-02-28</th>\n      <th>0.0</th>\n      <td>0.0000</td>\n      <td>2.673883e-09</td>\n      <td>2.648047e-08</td>\n      <td>1.047978e-07</td>\n      <td>3.514035e-07</td>\n      <td>5.626495e-07</td>\n      <td>0.000001</td>\n      <td>0.000002</td>\n      <td>0.000004</td>\n      <td>0.000008</td>\n      <td>0.000016</td>\n      <td>False</td>\n      <td>208.0</td>\n    </tr>\n    <tr>\n      <th>2553815</th>\n      <th>WKSC-FM</th>\n      <th>2021-10-03</th>\n      <th>0.0</th>\n      <td>0.0000</td>\n      <td>2.673883e-09</td>\n      <td>2.648047e-08</td>\n      <td>1.047978e-07</td>\n      <td>3.514035e-07</td>\n      <td>5.626495e-07</td>\n      <td>0.000001</td>\n      <td>0.000002</td>\n      <td>0.000004</td>\n      <td>0.000008</td>\n      <td>0.000016</td>\n      <td>False</td>\n      <td>101.0</td>\n    </tr>\n    <tr>\n      <th>...</th>\n      <th>...</th>\n      <th>...</th>\n      <th>...</th>\n      <td>...</td>\n      <td>...</td>\n      <td>...</td>\n      <td>...</td>\n      <td>...</td>\n      <td>...</td>\n      <td>...</td>\n      <td>...</td>\n      <td>...</td>\n      <td>...</td>\n      <td>...</td>\n      <td>...</td>\n      <td>...</td>\n    </tr>\n    <tr>\n      <th>2552613</th>\n      <th>WZFT-FM</th>\n      <th>2020-10-11</th>\n      <th>26.0</th>\n      <td>0.0067</td>\n      <td>2.659608e-02</td>\n      <td>4.830365e-02</td>\n      <td>6.851265e-02</td>\n      <td>1.086368e-01</td>\n      <td>1.281511e-01</td>\n      <td>0.178334</td>\n      <td>0.214389</td>\n      <td>0.239304</td>\n      <td>0.271001</td>\n      <td>0.310715</td>\n      <td>True</td>\n      <td>176.0</td>\n    </tr>\n    <tr>\n      <th>2548688</th>\n      <th>KKRZ-FM</th>\n      <th>2020-09-13</th>\n      <th>26.0</th>\n      <td>0.0067</td>\n      <td>2.659608e-02</td>\n      <td>4.830365e-02</td>\n      <td>6.851265e-02</td>\n      <td>1.086368e-01</td>\n      <td>1.281511e-01</td>\n      <td>0.178334</td>\n      <td>0.214389</td>\n      <td>0.239304</td>\n      <td>0.271001</td>\n      <td>0.310715</td>\n      <td>True</td>\n      <td>492.0</td>\n    </tr>\n    <tr>\n      <th>2582475</th>\n      <th>KHTS-FM</th>\n      <th>2021-10-17</th>\n      <th>26.0</th>\n      <td>0.0067</td>\n      <td>2.659608e-02</td>\n      <td>4.830365e-02</td>\n      <td>6.851265e-02</td>\n      <td>1.086368e-01</td>\n      <td>1.281511e-01</td>\n      <td>0.178334</td>\n      <td>0.214389</td>\n      <td>0.239304</td>\n      <td>0.271001</td>\n      <td>0.310715</td>\n      <td>True</td>\n      <td>16.0</td>\n    </tr>\n    <tr>\n      <th>2650436</th>\n      <th>KBKS-FM</th>\n      <th>2021-07-18</th>\n      <th>26.0</th>\n      <td>0.0067</td>\n      <td>2.659608e-02</td>\n      <td>4.830365e-02</td>\n      <td>6.851265e-02</td>\n      <td>1.086368e-01</td>\n      <td>1.281511e-01</td>\n      <td>0.178334</td>\n      <td>0.214389</td>\n      <td>0.239304</td>\n      <td>0.271001</td>\n      <td>0.310715</td>\n      <td>True</td>\n      <td>505.0</td>\n    </tr>\n    <tr>\n      <th>2723707</th>\n      <th>KHFI-FM</th>\n      <th>2022-04-03</th>\n      <th>26.0</th>\n      <td>0.0067</td>\n      <td>2.659608e-02</td>\n      <td>4.830365e-02</td>\n      <td>6.851265e-02</td>\n      <td>1.086368e-01</td>\n      <td>1.281511e-01</td>\n      <td>0.178334</td>\n      <td>0.214389</td>\n      <td>0.239304</td>\n      <td>0.271001</td>\n      <td>0.310715</td>\n      <td>True</td>\n      <td>50.0</td>\n    </tr>\n  </tbody>\n</table>\n<p>6658 rows × 13 columns</p>\n</div>"
     },
     "execution_count": 29,
     "metadata": {},
     "output_type": "execute_result"
    }
   ],
   "source": [
    "df_cuml_hazard_test"
   ],
   "metadata": {
    "collapsed": false
   }
  },
  {
   "cell_type": "code",
   "execution_count": 36,
   "outputs": [
    {
     "data": {
      "text/plain": "(0.0, 0.25)"
     },
     "execution_count": 36,
     "metadata": {},
     "output_type": "execute_result"
    },
    {
     "data": {
      "text/plain": "<Figure size 640x480 with 1 Axes>",
      "image/png": "[encoded data removed]"
     },
     "metadata": {},
     "output_type": "display_data"
    }
   ],
   "source": [
    "plt.plot(cuml_hazard_fn_test[0].x, cuml_hazard_fn_test[0].y)\n",
    "plt.plot(cuml_hazard_fn_test[140].x, cuml_hazard_fn_test[140].y, linestyle='--')\n",
    "plt.xlim([0, 100])\n",
    "plt.ylim([0, 0.25])"
   ],
   "metadata": {
    "collapsed": false
   }
  },
  {
   "cell_type": "code",
   "execution_count": 37,
   "outputs": [],
   "source": [
    "from sqlalchemy import create_engine\n",
    "\n",
    "\n",
    "def postgresql_engine(user, pwd, host, port, dbname):\n",
    "    # Need psycopg2-binary package\n",
    "    sql_engine = create_engine('postgres://' + user + ':' + pwd + '@' + host + ':' + port + '/' + dbname, echo=False)\n",
    "    return sql_engine\n",
    "\n",
    "\n",
    "# DB username & password\n",
    "import getpass\n",
    "\n",
    "username = getpass.getpass()\n",
    "password = getpass.getpass()\n",
    "\n",
    "\n",
    "# misc db parameters\n",
    "url = 'adds-postgres-dev.cfgztrijqgvp.us-east-1.rds.amazonaws.com'\n",
    "database = 'musiclab'\n",
    "port = '5432'\n",
    "\n",
    "#create db engine\n",
    "engine = postgresql_engine(username, password, url, port, database)"
   ],
   "metadata": {
    "collapsed": false
   }
  },
  {
   "cell_type": "code",
   "execution_count": 39,
   "outputs": [],
   "source": [
    "sql_cols = ['pred', 'pred_normalized_format', 'pred_normalized_station','format_quintile', 'station_quintile','stp_perc_10', 'stp_perc_50', 'stp_perc_90', 'target','censoring_flg_mod']\n",
    "with engine.connect() as conn:\n",
    "    with conn.begin():\n",
    "        df_train_sets[sql_cols].to_sql('ebw_train_set_h1', con=conn, schema='adds_temp', method='multi', if_exists='replace')\n",
    "        df_test_sets[sql_cols].to_sql('ebw_test_set_h1', con=conn, schema='adds_temp', method='multi', if_exists='replace')"
   ],
   "metadata": {
    "collapsed": false
   }
  },
  {
   "cell_type": "code",
   "execution_count": 40,
   "outputs": [],
   "source": [
    "import pandas as pd\n",
    "df_raw_features = pd.read_pickle('ebw_raw_features_base_h1.pkl')"
   ],
   "metadata": {
    "collapsed": false
   }
  },
  {
   "cell_type": "code",
   "execution_count": 41,
   "outputs": [],
   "source": [
    "df_raw_features_cuml_spins = pd.read_pickle('ebw_raw_features_base_cuml_spins_h1.pkl')"
   ],
   "metadata": {
    "collapsed": false
   }
  },
  {
   "cell_type": "code",
   "execution_count": null,
   "outputs": [],
   "source": [
    "df_raw_features.head()"
   ],
   "metadata": {
    "collapsed": false
   }
  },
  {
   "cell_type": "code",
   "execution_count": 3,
   "outputs": [
    {
     "data": {
      "text/plain": "mediabase_id               int64\nsong_id                    int64\ncall_letters              object\nmarket_name               object\nartist_id                  int64\n                           ...  \nmarket_spins_non_on        int64\nmarket_spins_am_pm_dr      int64\nstation_spins_total        int64\nstation_spins_non_on       int64\nstation_spins_am_pm_dr     int64\nLength: 79, dtype: object"
     },
     "execution_count": 3,
     "metadata": {},
     "output_type": "execute_result"
    }
   ],
   "source": [
    "df_raw_features.dtypes"
   ],
   "metadata": {
    "collapsed": false
   }
  },
  {
   "cell_type": "code",
   "execution_count": 7,
   "outputs": [
    {
     "data": {
      "text/plain": "[None]"
     },
     "execution_count": 7,
     "metadata": {},
     "output_type": "execute_result"
    }
   ],
   "source": [
    "[list(df_raw_features.columns).remove('hit_spins_bucket')]"
   ],
   "metadata": {
    "collapsed": false
   }
  },
  {
   "cell_type": "code",
   "execution_count": 3,
   "outputs": [
    {
     "data": {
      "text/plain": "                         0\n0             mediabase_id\n1                  song_id\n2             call_letters\n3              market_name\n4                artist_id\n..                     ...\n74     market_spins_non_on\n75   market_spins_am_pm_dr\n76     station_spins_total\n77    station_spins_non_on\n78  station_spins_am_pm_dr\n\n[79 rows x 1 columns]",
      "text/html": "<div>\n<style scoped>\n    .dataframe tbody tr th:only-of-type {\n        vertical-align: middle;\n    }\n\n    .dataframe tbody tr th {\n        vertical-align: top;\n    }\n\n    .dataframe thead th {\n        text-align: right;\n    }\n</style>\n<table border=\"1\" class=\"dataframe\">\n  <thead>\n    <tr style=\"text-align: right;\">\n      <th></th>\n      <th>0</th>\n    </tr>\n  </thead>\n  <tbody>\n    <tr>\n      <th>0</th>\n      <td>mediabase_id</td>\n    </tr>\n    <tr>\n      <th>1</th>\n      <td>song_id</td>\n    </tr>\n    <tr>\n      <th>2</th>\n      <td>call_letters</td>\n    </tr>\n    <tr>\n      <th>3</th>\n      <td>market_name</td>\n    </tr>\n    <tr>\n      <th>4</th>\n      <td>artist_id</td>\n    </tr>\n    <tr>\n      <th>...</th>\n      <td>...</td>\n    </tr>\n    <tr>\n      <th>74</th>\n      <td>market_spins_non_on</td>\n    </tr>\n    <tr>\n      <th>75</th>\n      <td>market_spins_am_pm_dr</td>\n    </tr>\n    <tr>\n      <th>76</th>\n      <td>station_spins_total</td>\n    </tr>\n    <tr>\n      <th>77</th>\n      <td>station_spins_non_on</td>\n    </tr>\n    <tr>\n      <th>78</th>\n      <td>station_spins_am_pm_dr</td>\n    </tr>\n  </tbody>\n</table>\n<p>79 rows × 1 columns</p>\n</div>"
     },
     "execution_count": 3,
     "metadata": {},
     "output_type": "execute_result"
    }
   ],
   "source": [
    "pd.DataFrame(df_raw_features.columns)"
   ],
   "metadata": {
    "collapsed": false
   }
  },
  {
   "cell_type": "code",
   "execution_count": 45,
   "outputs": [],
   "source": [
    "df_test_unique = df_test_sets.reset_index()[['mediabase_id', 'call_letters']].drop_duplicates()"
   ],
   "metadata": {
    "collapsed": false
   }
  },
  {
   "cell_type": "code",
   "execution_count": 46,
   "outputs": [],
   "source": [
    "df_raw_features_test_set = df_test_unique.join(df_raw_features.set_index(['mediabase_id', 'call_letters']),\n",
    "                                               on=['mediabase_id', 'call_letters'], how='inner')"
   ],
   "metadata": {
    "collapsed": false
   }
  },
  {
   "cell_type": "code",
   "execution_count": 47,
   "outputs": [],
   "source": [
    "df_raw_features_test_set_cuml_spins = df_test_unique.join(df_raw_features_cuml_spins.set_index(['mediabase_id', 'call_letters']),\n",
    "                                               on=['mediabase_id', 'call_letters'], how='inner')"
   ],
   "metadata": {
    "collapsed": false
   }
  },
  {
   "cell_type": "code",
   "execution_count": 29,
   "outputs": [
    {
     "data": {
      "text/plain": "      mediabase_id call_letters    week_dt  weeks_since_hit  \\\n0          2742545      KDHT-FM 2022-03-20             -5.0   \n0          2742545      KDHT-FM 2022-03-27             -4.0   \n0          2742545      KDHT-FM 2022-04-03             -3.0   \n0          2742545      KDHT-FM 2022-04-10             -2.0   \n0          2742545      KDHT-FM 2022-04-17             -1.0   \n...            ...          ...        ...              ...   \n6652       2584541      WDCG-FM 2023-02-26             90.0   \n6652       2584541      WDCG-FM 2023-03-05             91.0   \n6652       2584541      WDCG-FM 2023-03-12             92.0   \n6652       2584541      WDCG-FM 2023-03-19             93.0   \n6652       2584541      WDCG-FM 2023-03-26             94.0   \n\n      cuml_song_station_spins_non_on  cuml_song_station_spins_non_on_at_hit  \n0                                 58                                  540.0  \n0                                153                                  540.0  \n0                                250                                  540.0  \n0                                347                                  540.0  \n0                                444                                  540.0  \n...                              ...                                    ...  \n6652                            3816                                  958.0  \n6652                            3826                                  958.0  \n6652                            3830                                  958.0  \n6652                            3839                                  958.0  \n6652                            3851                                  958.0  \n\n[44578 rows x 6 columns]",
      "text/html": "<div>\n<style scoped>\n    .dataframe tbody tr th:only-of-type {\n        vertical-align: middle;\n    }\n\n    .dataframe tbody tr th {\n        vertical-align: top;\n    }\n\n    .dataframe thead th {\n        text-align: right;\n    }\n</style>\n<table border=\"1\" class=\"dataframe\">\n  <thead>\n    <tr style=\"text-align: right;\">\n      <th></th>\n      <th>mediabase_id</th>\n      <th>call_letters</th>\n      <th>week_dt</th>\n      <th>weeks_since_hit</th>\n      <th>cuml_song_station_spins_non_on</th>\n      <th>cuml_song_station_spins_non_on_at_hit</th>\n    </tr>\n  </thead>\n  <tbody>\n    <tr>\n      <th>0</th>\n      <td>2742545</td>\n      <td>KDHT-FM</td>\n      <td>2022-03-20</td>\n      <td>-5.0</td>\n      <td>58</td>\n      <td>540.0</td>\n    </tr>\n    <tr>\n      <th>0</th>\n      <td>2742545</td>\n      <td>KDHT-FM</td>\n      <td>2022-03-27</td>\n      <td>-4.0</td>\n      <td>153</td>\n      <td>540.0</td>\n    </tr>\n    <tr>\n      <th>0</th>\n      <td>2742545</td>\n      <td>KDHT-FM</td>\n      <td>2022-04-03</td>\n      <td>-3.0</td>\n      <td>250</td>\n      <td>540.0</td>\n    </tr>\n    <tr>\n      <th>0</th>\n      <td>2742545</td>\n      <td>KDHT-FM</td>\n      <td>2022-04-10</td>\n      <td>-2.0</td>\n      <td>347</td>\n      <td>540.0</td>\n    </tr>\n    <tr>\n      <th>0</th>\n      <td>2742545</td>\n      <td>KDHT-FM</td>\n      <td>2022-04-17</td>\n      <td>-1.0</td>\n      <td>444</td>\n      <td>540.0</td>\n    </tr>\n    <tr>\n      <th>...</th>\n      <td>...</td>\n      <td>...</td>\n      <td>...</td>\n      <td>...</td>\n      <td>...</td>\n      <td>...</td>\n    </tr>\n    <tr>\n      <th>6652</th>\n      <td>2584541</td>\n      <td>WDCG-FM</td>\n      <td>2023-02-26</td>\n      <td>90.0</td>\n      <td>3816</td>\n      <td>958.0</td>\n    </tr>\n    <tr>\n      <th>6652</th>\n      <td>2584541</td>\n      <td>WDCG-FM</td>\n      <td>2023-03-05</td>\n      <td>91.0</td>\n      <td>3826</td>\n      <td>958.0</td>\n    </tr>\n    <tr>\n      <th>6652</th>\n      <td>2584541</td>\n      <td>WDCG-FM</td>\n      <td>2023-03-12</td>\n      <td>92.0</td>\n      <td>3830</td>\n      <td>958.0</td>\n    </tr>\n    <tr>\n      <th>6652</th>\n      <td>2584541</td>\n      <td>WDCG-FM</td>\n      <td>2023-03-19</td>\n      <td>93.0</td>\n      <td>3839</td>\n      <td>958.0</td>\n    </tr>\n    <tr>\n      <th>6652</th>\n      <td>2584541</td>\n      <td>WDCG-FM</td>\n      <td>2023-03-26</td>\n      <td>94.0</td>\n      <td>3851</td>\n      <td>958.0</td>\n    </tr>\n  </tbody>\n</table>\n<p>44578 rows × 6 columns</p>\n</div>"
     },
     "execution_count": 29,
     "metadata": {},
     "output_type": "execute_result"
    }
   ],
   "source": [
    "df_raw_features_test_set_cuml_spins"
   ],
   "metadata": {
    "collapsed": false
   }
  },
  {
   "cell_type": "code",
   "execution_count": 49,
   "outputs": [],
   "source": [
    "mask = (df_raw_features_test_set['weeks_since_hit'] >= -8) & (df_raw_features_test_set['weeks_since_hit'] <= 36)\n",
    "df_raw_features_test_set = df_raw_features_test_set.loc[mask]"
   ],
   "metadata": {
    "collapsed": false
   }
  },
  {
   "cell_type": "code",
   "execution_count": 50,
   "outputs": [],
   "source": [
    "with engine.connect() as conn:\n",
    "    with conn.begin():\n",
    "        df_raw_features_test_set.drop(['hit_spins_bucket'], axis=1).to_sql('ebw_raw_features_h1', con=conn, schema='adds_temp', method='multi', if_exists='replace', chunksize=10000, index=False)"
   ],
   "metadata": {
    "collapsed": false
   }
  },
  {
   "cell_type": "code",
   "execution_count": 43,
   "outputs": [],
   "source": [
    "df_train_unique = df_train_sets.reset_index()[['mediabase_id', 'call_letters']].drop_duplicates()\n",
    "df_raw_features_train_set = df_train_unique.join(df_raw_features.set_index(['mediabase_id', 'call_letters']),\n",
    "                                               on=['mediabase_id', 'call_letters'], how='inner')\n",
    "df_raw_features_train_set_cuml_spins = df_train_unique.join(\n",
    "    df_raw_features_cuml_spins.set_index(['mediabase_id', 'call_letters']),\n",
    "    on=['mediabase_id', 'call_letters'], how='inner')\n",
    "\n",
    "mask = (df_raw_features_train_set['weeks_since_hit'] >= -8) & (df_raw_features_train_set['weeks_since_hit'] <= 36)\n",
    "df_raw_features_train_set = df_raw_features_train_set.loc[mask]\n",
    "\n",
    "with engine.connect() as conn:\n",
    "    with conn.begin():\n",
    "        df_raw_features_train_set.drop(['hit_spins_bucket'], axis=1).to_sql('ebw_raw_features_h1_train', con=conn,\n",
    "                                                                           schema='adds_temp', method='multi',\n",
    "                                                                           if_exists='replace', chunksize=10000,\n",
    "                                                                           index=False)"
   ],
   "metadata": {
    "collapsed": false
   }
  },
  {
   "cell_type": "code",
   "execution_count": null,
   "outputs": [],
   "source": [
    "df_sub = df_test_sets"
   ],
   "metadata": {
    "collapsed": false
   }
  },
  {
   "cell_type": "code",
   "execution_count": null,
   "outputs": [],
   "source": [
    "df_sub.groupby(['weeks_since_hit', 'pred_quintile_all', 'censoring_flg_mod'])[['target']].count().join(df_sub.groupby(['weeks_since_hit', 'pred_quintile_all', 'censoring_flg_mod'])['target'].mean(), rsuffix='_r').reset_index().to_excel('test_target_h1.xlsx')"
   ],
   "metadata": {
    "collapsed": false
   }
  },
  {
   "cell_type": "code",
   "execution_count": null,
   "outputs": [],
   "source": [
    "df_sub.groupby(['weeks_since_hit', 'pred_quintile_all'])[['target']].count().join(df_sub.groupby(['weeks_since_hit', 'pred_quintile_all'])['target'].mean(), rsuffix='_r')"
   ],
   "metadata": {
    "collapsed": false
   }
  },
  {
   "cell_type": "code",
   "execution_count": null,
   "outputs": [],
   "source": [
    "df_sub.groupby(['weeks_since_hit', 'pred_quintile'])[['burn_before_100_flg']].count().join(df_sub.groupby(['weeks_since_hit', 'pred_quintile'])['burn_before_100_flg'].sum(), rsuffix='_r')"
   ],
   "metadata": {
    "collapsed": false
   }
  }
 ],
 "metadata": {
  "kernelspec": {
   "display_name": "Python 3",
   "language": "python",
   "name": "python3"
  },
  "language_info": {
   "codemirror_mode": {
    "name": "ipython",
    "version": 2
   },
   "file_extension": ".py",
   "mimetype": "text/x-python",
   "name": "python",
   "nbconvert_exporter": "python",
   "pygments_lexer": "ipython2",
   "version": "2.7.6"
  }
 },
 "nbformat": 4,
 "nbformat_minor": 0
}
