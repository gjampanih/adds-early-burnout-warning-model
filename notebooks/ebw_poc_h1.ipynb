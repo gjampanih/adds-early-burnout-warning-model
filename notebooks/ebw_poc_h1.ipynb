{
 "cells": [
  {
   "cell_type": "code",
   "execution_count": 1,
   "outputs": [],
   "source": [
    "import numpy as np\n",
    "import pandas as pd\n",
    "\n",
    "pd.options.mode.chained_assignment = None  # default='warn'\n",
    "import seaborn as sns\n",
    "\n",
    "sns.set_theme(style='white')"
   ],
   "metadata": {
    "collapsed": false,
    "pycharm": {
     "name": "#%%\n"
    }
   }
  },
  {
   "cell_type": "code",
   "execution_count": 2,
   "outputs": [],
   "source": [
    "# import packages\n",
    "from sksurv.linear_model import CoxnetSurvivalAnalysis\n",
    "from sklearn.preprocessing import StandardScaler"
   ],
   "metadata": {
    "collapsed": false,
    "pycharm": {
     "name": "#%%\n"
    }
   }
  },
  {
   "cell_type": "markdown",
   "source": [
    "#### Setup DB connection"
   ],
   "metadata": {
    "collapsed": false
   }
  },
  {
   "cell_type": "code",
   "execution_count": 3,
   "outputs": [],
   "source": [
    "from sqlalchemy import create_engine\n",
    "\n",
    "\n",
    "def postgresql_engine(user, pwd, host, port, dbname):\n",
    "    # Need psycopg2-binary package\n",
    "    sql_engine = create_engine('postgres://' + user + ':' + pwd + '@' + host + ':' + port + '/' + dbname, echo=False)\n",
    "    return sql_engine"
   ],
   "metadata": {
    "collapsed": false,
    "pycharm": {
     "name": "#%%\n"
    }
   }
  },
  {
   "cell_type": "code",
   "execution_count": 4,
   "outputs": [],
   "source": [
    "# DB username & password\n",
    "import getpass\n",
    "\n",
    "username = getpass.getpass()\n",
    "password = getpass.getpass()"
   ],
   "metadata": {
    "collapsed": false,
    "pycharm": {
     "name": "#%%\n"
    }
   }
  },
  {
   "cell_type": "code",
   "execution_count": 5,
   "outputs": [],
   "source": [
    "# misc db parameters\n",
    "url = 'adds-postgres-dev.cfgztrijqgvp.us-east-1.rds.amazonaws.com'\n",
    "database = 'musiclab'\n",
    "port = '5432'"
   ],
   "metadata": {
    "collapsed": false,
    "pycharm": {
     "name": "#%%\n"
    }
   }
  },
  {
   "cell_type": "code",
   "execution_count": null,
   "outputs": [],
   "source": [
    "# data_query = '''\n",
    "# Select *\n",
    "# from adds_temp.ebw_metric_analysis as ema\n",
    "# '''"
   ],
   "metadata": {
    "collapsed": false,
    "pycharm": {
     "name": "#%%\n"
    }
   }
  },
  {
   "cell_type": "code",
   "execution_count": null,
   "outputs": [],
   "source": [
    "# engine = postgresql_engine(username, password, url, port, database)\n",
    "# with engine.connect() as conn:\n",
    "#     with conn.begin():\n",
    "#         df_ebw_metrics = pd.read_sql(data_query, con=conn)"
   ],
   "metadata": {
    "collapsed": false,
    "pycharm": {
     "name": "#%%\n"
    }
   }
  },
  {
   "cell_type": "code",
   "execution_count": 6,
   "outputs": [],
   "source": [
    "# create DB engine\n",
    "engine = postgresql_engine(username, password, url, port, database)"
   ],
   "metadata": {
    "collapsed": false,
    "pycharm": {
     "name": "#%%\n"
    }
   }
  },
  {
   "cell_type": "markdown",
   "source": [
    "#### POP Top Quintile Check"
   ],
   "metadata": {
    "collapsed": false
   }
  },
  {
   "cell_type": "code",
   "execution_count": null,
   "outputs": [],
   "source": [
    "# query_top_quint_check = '''\n",
    "# Select c.test_date, f.format_code, c.cmm_station_calls, c.song_id, c.pop\n",
    "# from data.cmm as c, data.formats as f\n",
    "# where c.project_type='Callout'\n",
    "# and c.test_date >= '2019-01-01'\n",
    "# and c.breakout_id=1\n",
    "# and f.format_id=c.format_id\n",
    "# '''\n",
    "#\n",
    "# with engine.connect() as conn:\n",
    "#     with conn.begin():\n",
    "#         df_top_quint_check = pd.read_sql(query_top_quint_check, con=conn)"
   ],
   "metadata": {
    "collapsed": false,
    "pycharm": {
     "name": "#%%\n"
    }
   }
  },
  {
   "cell_type": "code",
   "execution_count": null,
   "outputs": [],
   "source": [
    "# # aggregate by week and station\n",
    "# df_top_quint_check_agg = df_top_quint_check.groupby(['format_code', 'cmm_station_calls', 'test_date']).apply(lambda x: np.quantile(x['pop'], 0.80)).reset_index(name='top_quintile_cutoff')"
   ],
   "metadata": {
    "collapsed": false,
    "pycharm": {
     "name": "#%%\n"
    }
   }
  },
  {
   "cell_type": "code",
   "execution_count": null,
   "outputs": [],
   "source": [
    "# with engine.connect() as conn:\n",
    "#     with conn.begin():\n",
    "#         df_top_quint_check_agg.to_sql(name='ebw_top_quintile_cutoff_py', con=conn, schema='adds_temp', chunksize=5000)"
   ],
   "metadata": {
    "collapsed": false,
    "pycharm": {
     "name": "#%%\n"
    }
   }
  },
  {
   "cell_type": "markdown",
   "source": [
    "#### read in raw features from postgres DB"
   ],
   "metadata": {
    "collapsed": false
   }
  },
  {
   "cell_type": "code",
   "execution_count": 7,
   "outputs": [],
   "source": [
    "# read raw features table\n",
    "query_raw_features = '''\n",
    "Select *\n",
    "from adds_temp.ebw_raw_features_h1 as eh\n",
    "--where extract (year from eh.song_release_date) >= 2020\n",
    "'''\n",
    "\n",
    "with engine.connect() as conn:\n",
    "    with conn.begin():\n",
    "        df_raw_features = pd.read_sql(query_raw_features, con=conn)"
   ],
   "metadata": {
    "collapsed": false,
    "pycharm": {
     "name": "#%%\n"
    }
   }
  },
  {
   "cell_type": "code",
   "execution_count": null,
   "outputs": [],
   "source": [
    "# write to pickle file\n",
    "# df_raw_features.to_pickle('ebw_df_raw_features_h1.pkl')"
   ],
   "metadata": {
    "collapsed": false,
    "pycharm": {
     "name": "#%%\n"
    }
   }
  },
  {
   "cell_type": "code",
   "execution_count": null,
   "outputs": [],
   "source": [
    "# read in pickle file\n",
    "# df_raw_features = pd.read_pickle('ebw_df_raw_features_h1.pkl')"
   ],
   "metadata": {
    "collapsed": false,
    "pycharm": {
     "name": "#%%\n"
    }
   }
  },
  {
   "cell_type": "code",
   "execution_count": null,
   "outputs": [],
   "source": [
    "# explicit cast for date related fields\n",
    "date_cols = ['week_dt', 'song_release_date', 'hit_tag_date', 'first_spin_date', 'last_spin_date', 'ftq_date',\n",
    "             'last_callout_date', 'first_callout_date']\n",
    "\n",
    "df_raw_features[date_cols] = df_raw_features[date_cols].apply(pd.to_datetime)"
   ],
   "metadata": {
    "collapsed": false,
    "pycharm": {
     "name": "#%%\n"
    }
   }
  },
  {
   "cell_type": "code",
   "execution_count": 11,
   "outputs": [],
   "source": [
    "df_raw_features.sort_values(by=['mediabase_id', 'call_letters', 'week_dt'], inplace=True)"
   ],
   "metadata": {
    "collapsed": false,
    "pycharm": {
     "name": "#%%\n"
    }
   }
  },
  {
   "cell_type": "code",
   "execution_count": 9,
   "outputs": [
    {
     "data": {
      "text/plain": "       mediabase_id       song_id     artist_id  song_release_year  \\\ncount  6.554830e+05  6.554830e+05  6.554830e+05      655483.000000   \nmean   2.425521e+06  5.960761e+08  1.336633e+08        2018.188742   \nstd    1.406314e+05  5.306898e+08  2.323062e+08           1.303792   \nmin    1.086587e+06  8.486004e+07  2.636388e+07        2017.000000   \n25%    2.305938e+06  2.630307e+08  2.637288e+07        2017.000000   \n50%    2.393994e+06  3.633918e+08  2.648885e+07        2018.000000   \n75%    2.522450e+06  9.315509e+08  3.233308e+07        2019.000000   \nmax    2.865765e+06  2.321893e+09  7.390739e+08        2022.000000   \n\n         burnout_flg  song_station_pop  song_station_ddl  song_station_fav  \\\ncount  655483.000000      90137.000000      90137.000000      90137.000000   \nmean        0.657077         79.369182         16.227032         24.707357   \nstd         0.474686          8.924565          6.565467          6.662695   \nmin         0.000000         30.000000          0.000000          0.000000   \n25%         0.000000         74.000000         11.000000         20.000000   \n50%         1.000000         80.000000         16.000000         24.000000   \n75%         1.000000         86.000000         21.000000         29.000000   \nmax         1.000000        113.000000         46.000000         58.000000   \n\n       count_song_format_pop  song_format_pop  ...  \\\ncount          367586.000000    367586.000000  ...   \nmean                6.189123        77.534691  ...   \nstd                 5.432206         7.003532  ...   \nmin                 1.000000        32.000000  ...   \n25%                 1.000000        74.000000  ...   \n50%                 4.000000        78.000000  ...   \n75%                10.000000        82.000000  ...   \nmax                33.000000       108.000000  ...   \n\n       mean_completed_rate_prior_unv  std_completed_rate_prior_unv  \\\ncount                  510043.000000                 509985.000000   \nmean                        0.581692                      0.097285   \nstd                         0.073448                      0.046107   \nmin                         0.016603                      0.000000   \n25%                         0.552742                      0.063807   \n50%                         0.593508                      0.093491   \n75%                         0.627191                      0.127278   \nmax                         0.886957                      0.353226   \n\n       med_completed_rate_prior_unv  mr_completed_rate_prior_unv  \\\ncount                 510043.000000                510043.000000   \nmean                       0.605463                     0.627662   \nstd                        0.075289                     0.108653   \nmin                        0.016603                     0.000000   \n25%                        0.585345                     0.592651   \n50%                        0.614852                     0.636205   \n75%                        0.642290                     0.683254   \nmax                        1.000000                     1.000000   \n\n       max_thumbs_up_rate_prior_unv  min_thumbs_up_rate_prior_unv  \\\ncount                 510043.000000                 510043.000000   \nmean                       0.932612                      0.245139   \nstd                        0.063015                      0.308202   \nmin                        0.000000                      0.000000   \n25%                        0.892806                      0.000000   \n50%                        0.936481                      0.000000   \n75%                        1.000000                      0.583251   \nmax                        1.000000                      1.000000   \n\n       mean_thumbs_up_rate_prior_unv  std_thumbs_up_rate_prior_unv  \\\ncount                  510043.000000                 509985.000000   \nmean                        0.777787                      0.144706   \nstd                         0.083212                      0.097272   \nmin                         0.000000                      0.000000   \n25%                         0.747578                      0.061764   \n50%                         0.790422                      0.139176   \n75%                         0.831043                      0.195816   \nmax                         1.000000                      0.707107   \n\n       med_thumbs_up_rate_prior_unv  mr_thumbs_up_rate_prior_unv  \ncount                 510043.000000                510043.000000  \nmean                       0.813285                     0.779993  \nstd                        0.093026                     0.180510  \nmin                        0.000000                     0.000000  \n25%                        0.791103                     0.759036  \n50%                        0.825279                     0.819379  \n75%                        0.858829                     0.867139  \nmax                        1.000000                     1.000000  \n\n[8 rows x 58 columns]",
      "text/html": "<div>\n<style scoped>\n    .dataframe tbody tr th:only-of-type {\n        vertical-align: middle;\n    }\n\n    .dataframe tbody tr th {\n        vertical-align: top;\n    }\n\n    .dataframe thead th {\n        text-align: right;\n    }\n</style>\n<table border=\"1\" class=\"dataframe\">\n  <thead>\n    <tr style=\"text-align: right;\">\n      <th></th>\n      <th>mediabase_id</th>\n      <th>song_id</th>\n      <th>artist_id</th>\n      <th>song_release_year</th>\n      <th>burnout_flg</th>\n      <th>song_station_pop</th>\n      <th>song_station_ddl</th>\n      <th>song_station_fav</th>\n      <th>count_song_format_pop</th>\n      <th>song_format_pop</th>\n      <th>...</th>\n      <th>mean_completed_rate_prior_unv</th>\n      <th>std_completed_rate_prior_unv</th>\n      <th>med_completed_rate_prior_unv</th>\n      <th>mr_completed_rate_prior_unv</th>\n      <th>max_thumbs_up_rate_prior_unv</th>\n      <th>min_thumbs_up_rate_prior_unv</th>\n      <th>mean_thumbs_up_rate_prior_unv</th>\n      <th>std_thumbs_up_rate_prior_unv</th>\n      <th>med_thumbs_up_rate_prior_unv</th>\n      <th>mr_thumbs_up_rate_prior_unv</th>\n    </tr>\n  </thead>\n  <tbody>\n    <tr>\n      <th>count</th>\n      <td>6.554830e+05</td>\n      <td>6.554830e+05</td>\n      <td>6.554830e+05</td>\n      <td>655483.000000</td>\n      <td>655483.000000</td>\n      <td>90137.000000</td>\n      <td>90137.000000</td>\n      <td>90137.000000</td>\n      <td>367586.000000</td>\n      <td>367586.000000</td>\n      <td>...</td>\n      <td>510043.000000</td>\n      <td>509985.000000</td>\n      <td>510043.000000</td>\n      <td>510043.000000</td>\n      <td>510043.000000</td>\n      <td>510043.000000</td>\n      <td>510043.000000</td>\n      <td>509985.000000</td>\n      <td>510043.000000</td>\n      <td>510043.000000</td>\n    </tr>\n    <tr>\n      <th>mean</th>\n      <td>2.425521e+06</td>\n      <td>5.960761e+08</td>\n      <td>1.336633e+08</td>\n      <td>2018.188742</td>\n      <td>0.657077</td>\n      <td>79.369182</td>\n      <td>16.227032</td>\n      <td>24.707357</td>\n      <td>6.189123</td>\n      <td>77.534691</td>\n      <td>...</td>\n      <td>0.581692</td>\n      <td>0.097285</td>\n      <td>0.605463</td>\n      <td>0.627662</td>\n      <td>0.932612</td>\n      <td>0.245139</td>\n      <td>0.777787</td>\n      <td>0.144706</td>\n      <td>0.813285</td>\n      <td>0.779993</td>\n    </tr>\n    <tr>\n      <th>std</th>\n      <td>1.406314e+05</td>\n      <td>5.306898e+08</td>\n      <td>2.323062e+08</td>\n      <td>1.303792</td>\n      <td>0.474686</td>\n      <td>8.924565</td>\n      <td>6.565467</td>\n      <td>6.662695</td>\n      <td>5.432206</td>\n      <td>7.003532</td>\n      <td>...</td>\n      <td>0.073448</td>\n      <td>0.046107</td>\n      <td>0.075289</td>\n      <td>0.108653</td>\n      <td>0.063015</td>\n      <td>0.308202</td>\n      <td>0.083212</td>\n      <td>0.097272</td>\n      <td>0.093026</td>\n      <td>0.180510</td>\n    </tr>\n    <tr>\n      <th>min</th>\n      <td>1.086587e+06</td>\n      <td>8.486004e+07</td>\n      <td>2.636388e+07</td>\n      <td>2017.000000</td>\n      <td>0.000000</td>\n      <td>30.000000</td>\n      <td>0.000000</td>\n      <td>0.000000</td>\n      <td>1.000000</td>\n      <td>32.000000</td>\n      <td>...</td>\n      <td>0.016603</td>\n      <td>0.000000</td>\n      <td>0.016603</td>\n      <td>0.000000</td>\n      <td>0.000000</td>\n      <td>0.000000</td>\n      <td>0.000000</td>\n      <td>0.000000</td>\n      <td>0.000000</td>\n      <td>0.000000</td>\n    </tr>\n    <tr>\n      <th>25%</th>\n      <td>2.305938e+06</td>\n      <td>2.630307e+08</td>\n      <td>2.637288e+07</td>\n      <td>2017.000000</td>\n      <td>0.000000</td>\n      <td>74.000000</td>\n      <td>11.000000</td>\n      <td>20.000000</td>\n      <td>1.000000</td>\n      <td>74.000000</td>\n      <td>...</td>\n      <td>0.552742</td>\n      <td>0.063807</td>\n      <td>0.585345</td>\n      <td>0.592651</td>\n      <td>0.892806</td>\n      <td>0.000000</td>\n      <td>0.747578</td>\n      <td>0.061764</td>\n      <td>0.791103</td>\n      <td>0.759036</td>\n    </tr>\n    <tr>\n      <th>50%</th>\n      <td>2.393994e+06</td>\n      <td>3.633918e+08</td>\n      <td>2.648885e+07</td>\n      <td>2018.000000</td>\n      <td>1.000000</td>\n      <td>80.000000</td>\n      <td>16.000000</td>\n      <td>24.000000</td>\n      <td>4.000000</td>\n      <td>78.000000</td>\n      <td>...</td>\n      <td>0.593508</td>\n      <td>0.093491</td>\n      <td>0.614852</td>\n      <td>0.636205</td>\n      <td>0.936481</td>\n      <td>0.000000</td>\n      <td>0.790422</td>\n      <td>0.139176</td>\n      <td>0.825279</td>\n      <td>0.819379</td>\n    </tr>\n    <tr>\n      <th>75%</th>\n      <td>2.522450e+06</td>\n      <td>9.315509e+08</td>\n      <td>3.233308e+07</td>\n      <td>2019.000000</td>\n      <td>1.000000</td>\n      <td>86.000000</td>\n      <td>21.000000</td>\n      <td>29.000000</td>\n      <td>10.000000</td>\n      <td>82.000000</td>\n      <td>...</td>\n      <td>0.627191</td>\n      <td>0.127278</td>\n      <td>0.642290</td>\n      <td>0.683254</td>\n      <td>1.000000</td>\n      <td>0.583251</td>\n      <td>0.831043</td>\n      <td>0.195816</td>\n      <td>0.858829</td>\n      <td>0.867139</td>\n    </tr>\n    <tr>\n      <th>max</th>\n      <td>2.865765e+06</td>\n      <td>2.321893e+09</td>\n      <td>7.390739e+08</td>\n      <td>2022.000000</td>\n      <td>1.000000</td>\n      <td>113.000000</td>\n      <td>46.000000</td>\n      <td>58.000000</td>\n      <td>33.000000</td>\n      <td>108.000000</td>\n      <td>...</td>\n      <td>0.886957</td>\n      <td>0.353226</td>\n      <td>1.000000</td>\n      <td>1.000000</td>\n      <td>1.000000</td>\n      <td>1.000000</td>\n      <td>1.000000</td>\n      <td>0.707107</td>\n      <td>1.000000</td>\n      <td>1.000000</td>\n    </tr>\n  </tbody>\n</table>\n<p>8 rows × 58 columns</p>\n</div>"
     },
     "execution_count": 9,
     "metadata": {},
     "output_type": "execute_result"
    }
   ],
   "source": [
    "df_raw_features.describe()"
   ],
   "metadata": {
    "collapsed": false,
    "pycharm": {
     "name": "#%%\n"
    }
   }
  },
  {
   "cell_type": "code",
   "execution_count": null,
   "outputs": [],
   "source": [
    "# query_r_conv = '''\n",
    "# WITH gcr_station_track AS\n",
    "# (\n",
    "# SELECT\n",
    "#     eg.*,\n",
    "#     LAG(eg.gcr, 1) OVER(PARTITION BY eg.mediabase_id,\n",
    "#     eg.call_letters\n",
    "# ORDER BY\n",
    "#     eg.week_dt) AS gcr_plus_1,\n",
    "#     LAG(eg.gcr, 2) OVER(PARTITION BY eg.mediabase_id,\n",
    "#     eg.call_letters\n",
    "# ORDER BY\n",
    "#     eg.week_dt) AS gcr_plus_2\n",
    "# FROM\n",
    "#     adds_temp.ebw_gcr_tracker_h1 AS eg\n",
    "#     --WHERE\n",
    "#     --eg.mediabase_id = 2505085\n",
    "#     --AND eg.call_letters = 'KIIS-FM'\n",
    "# ORDER BY\n",
    "#     call_letters,\n",
    "#     mediabase_id,\n",
    "#     week_dt)\n",
    "# SELECT\n",
    "#     gst.mediabase_id,\n",
    "#     gst.call_letters,\n",
    "#     gst.song_release_date,\n",
    "#     extract(year from gst.song_release_date) as song_release_year,\n",
    "#     gst.hit_tag_date,\n",
    "#     min(gst.week_dt) AS r_conv_date,\n",
    "#     CASE\n",
    "#         WHEN gst.hit_tag_date < min(gst.week_dt) THEN 1\n",
    "#         ELSE 0\n",
    "#     END AS hit_before_flag\n",
    "# FROM\n",
    "#     gcr_station_track AS gst\n",
    "# WHERE\n",
    "#     gst.gcr = 'R'\n",
    "#     AND gst.gcr_plus_1 = 'R'\n",
    "#     AND gst.gcr_plus_2 = 'R'\n",
    "#     and extract(year from gst.song_release_date) >= 2020\n",
    "# GROUP BY\n",
    "#     1,\n",
    "#     2,\n",
    "#     3,\n",
    "#     4,\n",
    "#     5\n",
    "# ORDER BY\n",
    "#     1,\n",
    "#     2\n",
    "# '''\n",
    "# with engine.connect() as conn:\n",
    "#     with conn.begin():\n",
    "#         df_r_conv = pd.read_sql(query_r_conv, con=conn)"
   ],
   "metadata": {
    "collapsed": false,
    "pycharm": {
     "name": "#%%\n"
    }
   }
  },
  {
   "cell_type": "code",
   "execution_count": null,
   "outputs": [],
   "source": [
    "# df_r_conv"
   ],
   "metadata": {
    "collapsed": false,
    "pycharm": {
     "name": "#%%\n"
    }
   }
  },
  {
   "cell_type": "code",
   "execution_count": null,
   "outputs": [],
   "source": [
    "# df_r_conv.groupby(['song_release_year'])['hit_before_flag'].sum()/(df_r_conv.groupby(['song_release_year'])['hit_before_flag'].count())"
   ],
   "metadata": {
    "collapsed": false,
    "pycharm": {
     "name": "#%%\n"
    }
   }
  },
  {
   "cell_type": "markdown",
   "source": [
    "#### calculated fields"
   ],
   "metadata": {
    "collapsed": false
   }
  },
  {
   "cell_type": "code",
   "execution_count": null,
   "outputs": [],
   "source": [
    "# Define a dictionary of computed columns to create\n",
    "computed_cols = {\n",
    "    'cuml_song_station_spins_non_on': lambda df: df.groupby(['mediabase_id', 'call_letters'])['song_station_spins_non_on'].cumsum(),\n",
    "    'weeks_since_first_spins': lambda df: (df['week_dt'] - df['first_spin_date']) / np.timedelta64(1, 'W'),\n",
    "    'weeks_since_release': lambda df: np.round((df['week_dt'] - df['song_release_date']) / np.timedelta64(1, 'W')),\n",
    "    'weeks_since_hit': lambda df: (df['week_dt'] - df['hit_tag_date']) / np.timedelta64(1, 'W'),\n",
    "    'weeks_bw_top_quintiles': lambda df: (df['hit_tag_date'] - df['ftq_date']) / np.timedelta64(1, 'W'),\n",
    "    'weeks_bw_ddl_thresh_cross': lambda df: (df['ddl_over_thresh_dt_second'] - df['ddl_over_thresh_dt_first']) / np.timedelta64(1, 'W'),\n",
    "    'market_spins_propn': lambda df: df['song_station_spins_non_on'] / df['song_market_spins_non_on'],\n",
    "    'artist_spins_propn': lambda df: df['song_station_spins_non_on'] / df['artist_station_spins_non_on']\n",
    "}\n",
    "\n",
    "# Use assign with a dictionary comprehension to create the computed columns\n",
    "df_raw_features = df_raw_features.assign(**{col_name: func(df_raw_features) for col_name, func in computed_cols.items()})"
   ],
   "metadata": {
    "collapsed": false,
    "pycharm": {
     "name": "#%%\n"
    }
   }
  },
  {
   "cell_type": "code",
   "execution_count": null,
   "outputs": [],
   "source": [
    "# Define a sub-dataframe containing only the rows where week_dt equals hit_tag_date\n",
    "mask = df_raw_features['week_dt'] == df_raw_features['hit_tag_date']\n",
    "sub_df = df_raw_features.loc[mask, ['mediabase_id', 'call_letters', 'week_dt', 'cuml_song_station_spins_non_on']]\n",
    "sub_df = sub_df.set_index(['mediabase_id', 'call_letters'])\n",
    "\n",
    "# Join the sub-dataframe back onto the original dataframe\n",
    "df_raw_features = df_raw_features.join(sub_df, on=['mediabase_id', 'call_letters'], rsuffix='_at_hit', how='left')"
   ],
   "metadata": {
    "collapsed": false,
    "pycharm": {
     "name": "#%%\n"
    }
   }
  },
  {
   "cell_type": "code",
   "execution_count": 14,
   "outputs": [],
   "source": [
    "# Define a sub-dataframe containing only the rows where week_dt equals ftq_date\n",
    "mask = df_raw_features['week_dt'] == df_raw_features['ftq_date']\n",
    "sub_df = df_raw_features.loc[mask, ['mediabase_id', 'call_letters', 'week_dt', 'cuml_song_station_spins_non_on']]\n",
    "sub_df = sub_df.set_index(['mediabase_id', 'call_letters'])\n",
    "\n",
    "# Join the sub-dataframe back onto the original dataframe\n",
    "df_raw_features = df_raw_features.join(sub_df, on=['mediabase_id', 'call_letters'], rsuffix='_at_ftq', how='left')"
   ],
   "metadata": {
    "collapsed": false,
    "pycharm": {
     "name": "#%%\n"
    }
   }
  },
  {
   "cell_type": "code",
   "execution_count": 15,
   "outputs": [],
   "source": [
    "# Filter rows where week_dt equals ddl_over_thresh_dt_first\n",
    "mask = df_raw_features['week_dt'] == df_raw_features['ddl_over_thresh_dt_first']\n",
    "sub_df = df_raw_features.loc[mask, ['mediabase_id', 'call_letters', 'week_dt', 'cuml_song_station_spins_non_on']]\n",
    "sub_df = sub_df.set_index(['mediabase_id', 'call_letters'])\n",
    "\n",
    "# Join sub-dataframe to original dataframe\n",
    "df_raw_features = df_raw_features.join(sub_df, on=['mediabase_id', 'call_letters'], rsuffix='_at_pre_burnout',\n",
    "                                       how='left')"
   ],
   "metadata": {
    "collapsed": false,
    "pycharm": {
     "name": "#%%\n"
    }
   }
  },
  {
   "cell_type": "code",
   "execution_count": 16,
   "outputs": [],
   "source": [
    "# Filter rows where week_dt equals ddl_over_thresh_dt_second\n",
    "mask = df_raw_features['week_dt'] == df_raw_features['ddl_over_thresh_dt_second']\n",
    "sub_df = df_raw_features.loc[mask, ['mediabase_id', 'call_letters', 'week_dt', 'cuml_song_station_spins_non_on']]\n",
    "sub_df = sub_df.set_index(['mediabase_id', 'call_letters'])\n",
    "\n",
    "# Join sub-dataframe to original dataframe\n",
    "df_raw_features = df_raw_features.join(sub_df, on=['mediabase_id', 'call_letters'], rsuffix='_at_burnout', how='left')"
   ],
   "metadata": {
    "collapsed": false,
    "pycharm": {
     "name": "#%%\n"
    }
   }
  },
  {
   "cell_type": "code",
   "execution_count": 18,
   "outputs": [],
   "source": [
    "df_raw_features['hit_spins_bucket'] = pd.cut(df_raw_features['cuml_song_station_spins_non_on_at_hit'], np.arange(0,\n",
    "                                                                                                                 np.max(\n",
    "                                                                                                                     df_raw_features[\n",
    "                                                                                                                         'cuml_song_station_spins_non_on_at_hit']),\n",
    "                                                                                                                 250))"
   ],
   "metadata": {
    "collapsed": false,
    "pycharm": {
     "name": "#%%\n"
    }
   }
  },
  {
   "cell_type": "markdown",
   "source": [
    "#### feature engineering"
   ],
   "metadata": {
    "collapsed": false
   }
  },
  {
   "cell_type": "code",
   "execution_count": 19,
   "outputs": [],
   "source": [
    "pop_cols = [col for col in df_raw_features.columns if\n",
    "            (('_pop' in col) or ('_ddl' in col) or ('_fav' in col)) and ('weeks_' not in col)]"
   ],
   "metadata": {
    "collapsed": false,
    "pycharm": {
     "name": "#%%\n"
    }
   }
  },
  {
   "cell_type": "code",
   "execution_count": 20,
   "outputs": [
    {
     "data": {
      "text/plain": "['song_station_pop',\n 'song_station_ddl',\n 'song_station_fav',\n 'count_song_format_pop',\n 'song_format_pop',\n 'song_format_ddl',\n 'song_format_fav',\n 'count_artist_format_pop',\n 'artist_format_pop',\n 'artist_format_ddl',\n 'artist_format_fav']"
     },
     "execution_count": 20,
     "metadata": {},
     "output_type": "execute_result"
    }
   ],
   "source": [
    "pop_cols"
   ],
   "metadata": {
    "collapsed": false,
    "pycharm": {
     "name": "#%%\n"
    }
   }
  },
  {
   "cell_type": "code",
   "execution_count": 21,
   "outputs": [],
   "source": [
    "# shift pop scores to obtain prior pop scores\n",
    "df_raw_features = df_raw_features.assign(**{\n",
    "    col + '_prior': df_raw_features[['mediabase_id', 'call_letters'] + [col]].groupby(\n",
    "        ['mediabase_id', 'call_letters']).ffill().shift(1) for col in pop_cols})"
   ],
   "metadata": {
    "collapsed": false,
    "pycharm": {
     "name": "#%%\n"
    }
   }
  },
  {
   "cell_type": "code",
   "execution_count": 22,
   "outputs": [
    {
     "data": {
      "text/plain": "        mediabase_id     song_id call_letters market_name  artist_id  \\\n0            1086587    90090779      KHTS-FM   San Diego   26365333   \n1            1086587    90090779      KHTS-FM   San Diego   26365333   \n2            1086587    90090779      KHTS-FM   San Diego   26365333   \n3            1086587    90090779      KHTS-FM   San Diego   26365333   \n4            1086587    90090779      KHTS-FM   San Diego   26365333   \n...              ...         ...          ...         ...        ...   \n655478       2865765  2321893248      WZFT-FM   Baltimore   28054077   \n655479       2865765  2321893248      WZFT-FM   Baltimore   28054077   \n655480       2865765  2321893248      WZFT-FM   Baltimore   28054077   \n655481       2865765  2321893248      WZFT-FM   Baltimore   28054077   \n655482       2865765  2321893248      WZFT-FM   Baltimore   28054077   \n\n       format_code song_release_date first_callout_date last_callout_date  \\\n0               H1        2022-06-01         2022-07-18        2023-01-02   \n1               H1        2022-06-01         2022-07-18        2023-01-02   \n2               H1        2022-06-01         2022-07-18        2023-01-02   \n3               H1        2022-06-01         2022-07-18        2023-01-02   \n4               H1        2022-06-01         2022-07-18        2023-01-02   \n...            ...               ...                ...               ...   \n655478          H1        2022-12-01         2023-01-30        2023-04-03   \n655479          H1        2022-12-01         2023-01-30        2023-04-03   \n655480          H1        2022-12-01         2023-01-30        2023-04-03   \n655481          H1        2022-12-01         2023-01-30        2023-04-03   \n655482          H1        2022-12-01         2023-01-30        2023-04-03   \n\n       first_spin_date  ... song_station_ddl_prior song_station_fav_prior  \\\n0           2022-06-12  ...                    NaN                    NaN   \n1           2022-06-12  ...                    NaN                    NaN   \n2           2022-06-12  ...                    NaN                    NaN   \n3           2022-06-12  ...                    NaN                    NaN   \n4           2022-06-12  ...                    NaN                    NaN   \n...                ...  ...                    ...                    ...   \n655478      2023-01-01  ...                   12.0                   29.0   \n655479      2023-01-01  ...                   12.0                   29.0   \n655480      2023-01-01  ...                   15.0                   22.0   \n655481      2023-01-01  ...                   15.0                   22.0   \n655482      2023-01-01  ...                    9.0                   20.0   \n\n       count_song_format_pop_prior  song_format_pop_prior  \\\n0                              NaN                    NaN   \n1                              1.0                   87.0   \n2                              6.0                   77.0   \n3                              6.0                   77.0   \n4                             13.0                   80.0   \n...                            ...                    ...   \n655478                        14.0                   89.0   \n655479                        12.0                   86.0   \n655480                        16.0                   87.0   \n655481                        13.0                   81.0   \n655482                        17.0                   88.0   \n\n       song_format_ddl_prior song_format_fav_prior  \\\n0                        NaN                   NaN   \n1                        5.0                  30.0   \n2                       10.0                  26.0   \n3                       10.0                  26.0   \n4                       10.0                  25.0   \n...                      ...                   ...   \n655478                   9.0                  30.0   \n655479                   9.0                  28.0   \n655480                  10.0                  27.0   \n655481                  12.0                  25.0   \n655482                  10.0                  28.0   \n\n       count_artist_format_pop_prior artist_format_pop_prior  \\\n0                                NaN                     NaN   \n1                                1.0                    87.0   \n2                                6.0                    77.0   \n3                                6.0                    77.0   \n4                               13.0                    80.0   \n...                              ...                     ...   \n655478                          17.0                    86.0   \n655479                          15.0                    83.0   \n655480                          23.0                    80.0   \n655481                          18.0                    76.0   \n655482                          27.0                    81.0   \n\n        artist_format_ddl_prior  artist_format_fav_prior  \n0                           NaN                      NaN  \n1                           5.0                     30.0  \n2                          10.0                     26.0  \n3                          10.0                     26.0  \n4                          10.0                     25.0  \n...                         ...                      ...  \n655478                      9.0                     28.0  \n655479                      8.0                     26.0  \n655480                      9.0                     24.0  \n655481                     10.0                     22.0  \n655482                      8.0                     24.0  \n\n[655483 rows x 100 columns]",
      "text/html": "<div>\n<style scoped>\n    .dataframe tbody tr th:only-of-type {\n        vertical-align: middle;\n    }\n\n    .dataframe tbody tr th {\n        vertical-align: top;\n    }\n\n    .dataframe thead th {\n        text-align: right;\n    }\n</style>\n<table border=\"1\" class=\"dataframe\">\n  <thead>\n    <tr style=\"text-align: right;\">\n      <th></th>\n      <th>mediabase_id</th>\n      <th>song_id</th>\n      <th>call_letters</th>\n      <th>market_name</th>\n      <th>artist_id</th>\n      <th>format_code</th>\n      <th>song_release_date</th>\n      <th>first_callout_date</th>\n      <th>last_callout_date</th>\n      <th>first_spin_date</th>\n      <th>...</th>\n      <th>song_station_ddl_prior</th>\n      <th>song_station_fav_prior</th>\n      <th>count_song_format_pop_prior</th>\n      <th>song_format_pop_prior</th>\n      <th>song_format_ddl_prior</th>\n      <th>song_format_fav_prior</th>\n      <th>count_artist_format_pop_prior</th>\n      <th>artist_format_pop_prior</th>\n      <th>artist_format_ddl_prior</th>\n      <th>artist_format_fav_prior</th>\n    </tr>\n  </thead>\n  <tbody>\n    <tr>\n      <th>0</th>\n      <td>1086587</td>\n      <td>90090779</td>\n      <td>KHTS-FM</td>\n      <td>San Diego</td>\n      <td>26365333</td>\n      <td>H1</td>\n      <td>2022-06-01</td>\n      <td>2022-07-18</td>\n      <td>2023-01-02</td>\n      <td>2022-06-12</td>\n      <td>...</td>\n      <td>NaN</td>\n      <td>NaN</td>\n      <td>NaN</td>\n      <td>NaN</td>\n      <td>NaN</td>\n      <td>NaN</td>\n      <td>NaN</td>\n      <td>NaN</td>\n      <td>NaN</td>\n      <td>NaN</td>\n    </tr>\n    <tr>\n      <th>1</th>\n      <td>1086587</td>\n      <td>90090779</td>\n      <td>KHTS-FM</td>\n      <td>San Diego</td>\n      <td>26365333</td>\n      <td>H1</td>\n      <td>2022-06-01</td>\n      <td>2022-07-18</td>\n      <td>2023-01-02</td>\n      <td>2022-06-12</td>\n      <td>...</td>\n      <td>NaN</td>\n      <td>NaN</td>\n      <td>1.0</td>\n      <td>87.0</td>\n      <td>5.0</td>\n      <td>30.0</td>\n      <td>1.0</td>\n      <td>87.0</td>\n      <td>5.0</td>\n      <td>30.0</td>\n    </tr>\n    <tr>\n      <th>2</th>\n      <td>1086587</td>\n      <td>90090779</td>\n      <td>KHTS-FM</td>\n      <td>San Diego</td>\n      <td>26365333</td>\n      <td>H1</td>\n      <td>2022-06-01</td>\n      <td>2022-07-18</td>\n      <td>2023-01-02</td>\n      <td>2022-06-12</td>\n      <td>...</td>\n      <td>NaN</td>\n      <td>NaN</td>\n      <td>6.0</td>\n      <td>77.0</td>\n      <td>10.0</td>\n      <td>26.0</td>\n      <td>6.0</td>\n      <td>77.0</td>\n      <td>10.0</td>\n      <td>26.0</td>\n    </tr>\n    <tr>\n      <th>3</th>\n      <td>1086587</td>\n      <td>90090779</td>\n      <td>KHTS-FM</td>\n      <td>San Diego</td>\n      <td>26365333</td>\n      <td>H1</td>\n      <td>2022-06-01</td>\n      <td>2022-07-18</td>\n      <td>2023-01-02</td>\n      <td>2022-06-12</td>\n      <td>...</td>\n      <td>NaN</td>\n      <td>NaN</td>\n      <td>6.0</td>\n      <td>77.0</td>\n      <td>10.0</td>\n      <td>26.0</td>\n      <td>6.0</td>\n      <td>77.0</td>\n      <td>10.0</td>\n      <td>26.0</td>\n    </tr>\n    <tr>\n      <th>4</th>\n      <td>1086587</td>\n      <td>90090779</td>\n      <td>KHTS-FM</td>\n      <td>San Diego</td>\n      <td>26365333</td>\n      <td>H1</td>\n      <td>2022-06-01</td>\n      <td>2022-07-18</td>\n      <td>2023-01-02</td>\n      <td>2022-06-12</td>\n      <td>...</td>\n      <td>NaN</td>\n      <td>NaN</td>\n      <td>13.0</td>\n      <td>80.0</td>\n      <td>10.0</td>\n      <td>25.0</td>\n      <td>13.0</td>\n      <td>80.0</td>\n      <td>10.0</td>\n      <td>25.0</td>\n    </tr>\n    <tr>\n      <th>...</th>\n      <td>...</td>\n      <td>...</td>\n      <td>...</td>\n      <td>...</td>\n      <td>...</td>\n      <td>...</td>\n      <td>...</td>\n      <td>...</td>\n      <td>...</td>\n      <td>...</td>\n      <td>...</td>\n      <td>...</td>\n      <td>...</td>\n      <td>...</td>\n      <td>...</td>\n      <td>...</td>\n      <td>...</td>\n      <td>...</td>\n      <td>...</td>\n      <td>...</td>\n      <td>...</td>\n    </tr>\n    <tr>\n      <th>655478</th>\n      <td>2865765</td>\n      <td>2321893248</td>\n      <td>WZFT-FM</td>\n      <td>Baltimore</td>\n      <td>28054077</td>\n      <td>H1</td>\n      <td>2022-12-01</td>\n      <td>2023-01-30</td>\n      <td>2023-04-03</td>\n      <td>2023-01-01</td>\n      <td>...</td>\n      <td>12.0</td>\n      <td>29.0</td>\n      <td>14.0</td>\n      <td>89.0</td>\n      <td>9.0</td>\n      <td>30.0</td>\n      <td>17.0</td>\n      <td>86.0</td>\n      <td>9.0</td>\n      <td>28.0</td>\n    </tr>\n    <tr>\n      <th>655479</th>\n      <td>2865765</td>\n      <td>2321893248</td>\n      <td>WZFT-FM</td>\n      <td>Baltimore</td>\n      <td>28054077</td>\n      <td>H1</td>\n      <td>2022-12-01</td>\n      <td>2023-01-30</td>\n      <td>2023-04-03</td>\n      <td>2023-01-01</td>\n      <td>...</td>\n      <td>12.0</td>\n      <td>29.0</td>\n      <td>12.0</td>\n      <td>86.0</td>\n      <td>9.0</td>\n      <td>28.0</td>\n      <td>15.0</td>\n      <td>83.0</td>\n      <td>8.0</td>\n      <td>26.0</td>\n    </tr>\n    <tr>\n      <th>655480</th>\n      <td>2865765</td>\n      <td>2321893248</td>\n      <td>WZFT-FM</td>\n      <td>Baltimore</td>\n      <td>28054077</td>\n      <td>H1</td>\n      <td>2022-12-01</td>\n      <td>2023-01-30</td>\n      <td>2023-04-03</td>\n      <td>2023-01-01</td>\n      <td>...</td>\n      <td>15.0</td>\n      <td>22.0</td>\n      <td>16.0</td>\n      <td>87.0</td>\n      <td>10.0</td>\n      <td>27.0</td>\n      <td>23.0</td>\n      <td>80.0</td>\n      <td>9.0</td>\n      <td>24.0</td>\n    </tr>\n    <tr>\n      <th>655481</th>\n      <td>2865765</td>\n      <td>2321893248</td>\n      <td>WZFT-FM</td>\n      <td>Baltimore</td>\n      <td>28054077</td>\n      <td>H1</td>\n      <td>2022-12-01</td>\n      <td>2023-01-30</td>\n      <td>2023-04-03</td>\n      <td>2023-01-01</td>\n      <td>...</td>\n      <td>15.0</td>\n      <td>22.0</td>\n      <td>13.0</td>\n      <td>81.0</td>\n      <td>12.0</td>\n      <td>25.0</td>\n      <td>18.0</td>\n      <td>76.0</td>\n      <td>10.0</td>\n      <td>22.0</td>\n    </tr>\n    <tr>\n      <th>655482</th>\n      <td>2865765</td>\n      <td>2321893248</td>\n      <td>WZFT-FM</td>\n      <td>Baltimore</td>\n      <td>28054077</td>\n      <td>H1</td>\n      <td>2022-12-01</td>\n      <td>2023-01-30</td>\n      <td>2023-04-03</td>\n      <td>2023-01-01</td>\n      <td>...</td>\n      <td>9.0</td>\n      <td>20.0</td>\n      <td>17.0</td>\n      <td>88.0</td>\n      <td>10.0</td>\n      <td>28.0</td>\n      <td>27.0</td>\n      <td>81.0</td>\n      <td>8.0</td>\n      <td>24.0</td>\n    </tr>\n  </tbody>\n</table>\n<p>655483 rows × 100 columns</p>\n</div>"
     },
     "execution_count": 22,
     "metadata": {},
     "output_type": "execute_result"
    }
   ],
   "source": [
    "df_raw_features"
   ],
   "metadata": {
    "collapsed": false,
    "pycharm": {
     "name": "#%%\n"
    }
   }
  },
  {
   "cell_type": "code",
   "execution_count": 72,
   "outputs": [
    {
     "ename": "TypeError",
     "evalue": "incompatible index of inserted column with frame index",
     "output_type": "error",
     "traceback": [
      "\u001B[0;31m---------------------------------------------------------------------------\u001B[0m",
      "\u001B[0;31mValueError\u001B[0m                                Traceback (most recent call last)",
      "\u001B[0;32m~/Documents/GitHub/adds-early-burnout-warning-model/venv/lib/python3.7/site-packages/pandas/core/frame.py\u001B[0m in \u001B[0;36mreindexer\u001B[0;34m(value)\u001B[0m\n\u001B[1;32m   3730\u001B[0m                 \u001B[0;32mtry\u001B[0m\u001B[0;34m:\u001B[0m\u001B[0;34m\u001B[0m\u001B[0;34m\u001B[0m\u001B[0m\n\u001B[0;32m-> 3731\u001B[0;31m                     \u001B[0mvalue\u001B[0m \u001B[0;34m=\u001B[0m \u001B[0mvalue\u001B[0m\u001B[0;34m.\u001B[0m\u001B[0mreindex\u001B[0m\u001B[0;34m(\u001B[0m\u001B[0mself\u001B[0m\u001B[0;34m.\u001B[0m\u001B[0mindex\u001B[0m\u001B[0;34m)\u001B[0m\u001B[0;34m.\u001B[0m\u001B[0m_values\u001B[0m\u001B[0;34m\u001B[0m\u001B[0;34m\u001B[0m\u001B[0m\n\u001B[0m\u001B[1;32m   3732\u001B[0m                 \u001B[0;32mexcept\u001B[0m \u001B[0mValueError\u001B[0m \u001B[0;32mas\u001B[0m \u001B[0merr\u001B[0m\u001B[0;34m:\u001B[0m\u001B[0;34m\u001B[0m\u001B[0;34m\u001B[0m\u001B[0m\n",
      "\u001B[0;32m~/Documents/GitHub/adds-early-burnout-warning-model/venv/lib/python3.7/site-packages/pandas/util/_decorators.py\u001B[0m in \u001B[0;36mwrapper\u001B[0;34m(*args, **kwargs)\u001B[0m\n\u001B[1;32m    308\u001B[0m         \u001B[0;32mdef\u001B[0m \u001B[0mwrapper\u001B[0m\u001B[0;34m(\u001B[0m\u001B[0;34m*\u001B[0m\u001B[0margs\u001B[0m\u001B[0;34m,\u001B[0m \u001B[0;34m**\u001B[0m\u001B[0mkwargs\u001B[0m\u001B[0;34m)\u001B[0m \u001B[0;34m->\u001B[0m \u001B[0mCallable\u001B[0m\u001B[0;34m[\u001B[0m\u001B[0;34m...\u001B[0m\u001B[0;34m,\u001B[0m \u001B[0mAny\u001B[0m\u001B[0;34m]\u001B[0m\u001B[0;34m:\u001B[0m\u001B[0;34m\u001B[0m\u001B[0;34m\u001B[0m\u001B[0m\n\u001B[0;32m--> 309\u001B[0;31m             \u001B[0;32mreturn\u001B[0m \u001B[0mfunc\u001B[0m\u001B[0;34m(\u001B[0m\u001B[0;34m*\u001B[0m\u001B[0margs\u001B[0m\u001B[0;34m,\u001B[0m \u001B[0;34m**\u001B[0m\u001B[0mkwargs\u001B[0m\u001B[0;34m)\u001B[0m\u001B[0;34m\u001B[0m\u001B[0;34m\u001B[0m\u001B[0m\n\u001B[0m\u001B[1;32m    310\u001B[0m \u001B[0;34m\u001B[0m\u001B[0m\n",
      "\u001B[0;32m~/Documents/GitHub/adds-early-burnout-warning-model/venv/lib/python3.7/site-packages/pandas/core/frame.py\u001B[0m in \u001B[0;36mreindex\u001B[0;34m(self, *args, **kwargs)\u001B[0m\n\u001B[1;32m   4035\u001B[0m         \u001B[0mkwargs\u001B[0m\u001B[0;34m.\u001B[0m\u001B[0mpop\u001B[0m\u001B[0;34m(\u001B[0m\u001B[0;34m\"labels\"\u001B[0m\u001B[0;34m,\u001B[0m \u001B[0;32mNone\u001B[0m\u001B[0;34m)\u001B[0m\u001B[0;34m\u001B[0m\u001B[0;34m\u001B[0m\u001B[0m\n\u001B[0;32m-> 4036\u001B[0;31m         \u001B[0;32mreturn\u001B[0m \u001B[0msuper\u001B[0m\u001B[0;34m(\u001B[0m\u001B[0;34m)\u001B[0m\u001B[0;34m.\u001B[0m\u001B[0mreindex\u001B[0m\u001B[0;34m(\u001B[0m\u001B[0;34m**\u001B[0m\u001B[0mkwargs\u001B[0m\u001B[0;34m)\u001B[0m\u001B[0;34m\u001B[0m\u001B[0;34m\u001B[0m\u001B[0m\n\u001B[0m\u001B[1;32m   4037\u001B[0m \u001B[0;34m\u001B[0m\u001B[0m\n",
      "\u001B[0;32m~/Documents/GitHub/adds-early-burnout-warning-model/venv/lib/python3.7/site-packages/pandas/core/generic.py\u001B[0m in \u001B[0;36mreindex\u001B[0;34m(self, *args, **kwargs)\u001B[0m\n\u001B[1;32m   4463\u001B[0m         return self._reindex_axes(\n\u001B[0;32m-> 4464\u001B[0;31m             \u001B[0maxes\u001B[0m\u001B[0;34m,\u001B[0m \u001B[0mlevel\u001B[0m\u001B[0;34m,\u001B[0m \u001B[0mlimit\u001B[0m\u001B[0;34m,\u001B[0m \u001B[0mtolerance\u001B[0m\u001B[0;34m,\u001B[0m \u001B[0mmethod\u001B[0m\u001B[0;34m,\u001B[0m \u001B[0mfill_value\u001B[0m\u001B[0;34m,\u001B[0m \u001B[0mcopy\u001B[0m\u001B[0;34m\u001B[0m\u001B[0;34m\u001B[0m\u001B[0m\n\u001B[0m\u001B[1;32m   4465\u001B[0m         ).__finalize__(self, method=\"reindex\")\n",
      "\u001B[0;32m~/Documents/GitHub/adds-early-burnout-warning-model/venv/lib/python3.7/site-packages/pandas/core/frame.py\u001B[0m in \u001B[0;36m_reindex_axes\u001B[0;34m(self, axes, level, limit, tolerance, method, fill_value, copy)\u001B[0m\n\u001B[1;32m   3882\u001B[0m             frame = frame._reindex_index(\n\u001B[0;32m-> 3883\u001B[0;31m                 \u001B[0mindex\u001B[0m\u001B[0;34m,\u001B[0m \u001B[0mmethod\u001B[0m\u001B[0;34m,\u001B[0m \u001B[0mcopy\u001B[0m\u001B[0;34m,\u001B[0m \u001B[0mlevel\u001B[0m\u001B[0;34m,\u001B[0m \u001B[0mfill_value\u001B[0m\u001B[0;34m,\u001B[0m \u001B[0mlimit\u001B[0m\u001B[0;34m,\u001B[0m \u001B[0mtolerance\u001B[0m\u001B[0;34m\u001B[0m\u001B[0;34m\u001B[0m\u001B[0m\n\u001B[0m\u001B[1;32m   3884\u001B[0m             )\n",
      "\u001B[0;32m~/Documents/GitHub/adds-early-burnout-warning-model/venv/lib/python3.7/site-packages/pandas/core/frame.py\u001B[0m in \u001B[0;36m_reindex_index\u001B[0;34m(self, new_index, method, copy, level, fill_value, limit, tolerance)\u001B[0m\n\u001B[1;32m   3898\u001B[0m         new_index, indexer = self.index.reindex(\n\u001B[0;32m-> 3899\u001B[0;31m             \u001B[0mnew_index\u001B[0m\u001B[0;34m,\u001B[0m \u001B[0mmethod\u001B[0m\u001B[0;34m=\u001B[0m\u001B[0mmethod\u001B[0m\u001B[0;34m,\u001B[0m \u001B[0mlevel\u001B[0m\u001B[0;34m=\u001B[0m\u001B[0mlevel\u001B[0m\u001B[0;34m,\u001B[0m \u001B[0mlimit\u001B[0m\u001B[0;34m=\u001B[0m\u001B[0mlimit\u001B[0m\u001B[0;34m,\u001B[0m \u001B[0mtolerance\u001B[0m\u001B[0;34m=\u001B[0m\u001B[0mtolerance\u001B[0m\u001B[0;34m\u001B[0m\u001B[0;34m\u001B[0m\u001B[0m\n\u001B[0m\u001B[1;32m   3900\u001B[0m         )\n",
      "\u001B[0;32m~/Documents/GitHub/adds-early-burnout-warning-model/venv/lib/python3.7/site-packages/pandas/core/indexes/multi.py\u001B[0m in \u001B[0;36mreindex\u001B[0;34m(self, target, method, level, limit, tolerance)\u001B[0m\n\u001B[1;32m   2327\u001B[0m                 \u001B[0;31m# hopefully?\u001B[0m\u001B[0;34m\u001B[0m\u001B[0;34m\u001B[0m\u001B[0;34m\u001B[0m\u001B[0m\n\u001B[0;32m-> 2328\u001B[0;31m                 \u001B[0mtarget\u001B[0m \u001B[0;34m=\u001B[0m \u001B[0mMultiIndex\u001B[0m\u001B[0;34m.\u001B[0m\u001B[0mfrom_tuples\u001B[0m\u001B[0;34m(\u001B[0m\u001B[0mtarget\u001B[0m\u001B[0;34m)\u001B[0m\u001B[0;34m\u001B[0m\u001B[0;34m\u001B[0m\u001B[0m\n\u001B[0m\u001B[1;32m   2329\u001B[0m \u001B[0;34m\u001B[0m\u001B[0m\n",
      "\u001B[0;32m~/Documents/GitHub/adds-early-burnout-warning-model/venv/lib/python3.7/site-packages/pandas/core/indexes/multi.py\u001B[0m in \u001B[0;36mfrom_tuples\u001B[0;34m(cls, tuples, sortorder, names)\u001B[0m\n\u001B[1;32m    500\u001B[0m \u001B[0;34m\u001B[0m\u001B[0m\n\u001B[0;32m--> 501\u001B[0;31m             \u001B[0marrays\u001B[0m \u001B[0;34m=\u001B[0m \u001B[0mlist\u001B[0m\u001B[0;34m(\u001B[0m\u001B[0mlib\u001B[0m\u001B[0;34m.\u001B[0m\u001B[0mtuples_to_object_array\u001B[0m\u001B[0;34m(\u001B[0m\u001B[0mtuples\u001B[0m\u001B[0;34m)\u001B[0m\u001B[0;34m.\u001B[0m\u001B[0mT\u001B[0m\u001B[0;34m)\u001B[0m\u001B[0;34m\u001B[0m\u001B[0;34m\u001B[0m\u001B[0m\n\u001B[0m\u001B[1;32m    502\u001B[0m         \u001B[0;32melif\u001B[0m \u001B[0misinstance\u001B[0m\u001B[0;34m(\u001B[0m\u001B[0mtuples\u001B[0m\u001B[0;34m,\u001B[0m \u001B[0mlist\u001B[0m\u001B[0;34m)\u001B[0m\u001B[0;34m:\u001B[0m\u001B[0;34m\u001B[0m\u001B[0;34m\u001B[0m\u001B[0m\n",
      "\u001B[0;32mpandas/_libs/lib.pyx\u001B[0m in \u001B[0;36mpandas._libs.lib.tuples_to_object_array\u001B[0;34m()\u001B[0m\n",
      "\u001B[0;31mValueError\u001B[0m: Buffer dtype mismatch, expected 'Python object' but got 'long'",
      "\nThe above exception was the direct cause of the following exception:\n",
      "\u001B[0;31mTypeError\u001B[0m                                 Traceback (most recent call last)",
      "\u001B[0;32m/var/folders/kt/bsj56gs152d_8fz3jclnl1440000gq/T/ipykernel_8270/1177401906.py\u001B[0m in \u001B[0;36m<module>\u001B[0;34m\u001B[0m\n\u001B[1;32m      6\u001B[0m \u001B[0mmask\u001B[0m \u001B[0;34m=\u001B[0m \u001B[0mdf_raw_features\u001B[0m\u001B[0;34m[\u001B[0m\u001B[0;34m'weeks_since_hit'\u001B[0m\u001B[0;34m]\u001B[0m \u001B[0;34m>\u001B[0m \u001B[0;36m0\u001B[0m\u001B[0;34m\u001B[0m\u001B[0;34m\u001B[0m\u001B[0m\n\u001B[1;32m      7\u001B[0m \u001B[0mdf_raw_features_tst\u001B[0m \u001B[0;34m=\u001B[0m \u001B[0mdf_raw_features\u001B[0m\u001B[0;34m.\u001B[0m\u001B[0mcopy\u001B[0m\u001B[0;34m(\u001B[0m\u001B[0;34m)\u001B[0m\u001B[0;34m\u001B[0m\u001B[0;34m\u001B[0m\u001B[0m\n\u001B[0;32m----> 8\u001B[0;31m \u001B[0mdf_raw_features_tst\u001B[0m\u001B[0;34m.\u001B[0m\u001B[0massign\u001B[0m\u001B[0;34m(\u001B[0m\u001B[0;34m**\u001B[0m\u001B[0;34m{\u001B[0m\u001B[0;34m'test_'\u001B[0m \u001B[0;34m+\u001B[0m \u001B[0mcol\u001B[0m\u001B[0;34m:\u001B[0m \u001B[0mdf_raw_features\u001B[0m\u001B[0;34m[\u001B[0m\u001B[0mmask\u001B[0m\u001B[0;34m]\u001B[0m\u001B[0;34m.\u001B[0m\u001B[0mgroupby\u001B[0m\u001B[0;34m(\u001B[0m\u001B[0mid_cols\u001B[0m\u001B[0;34m)\u001B[0m\u001B[0;34m[\u001B[0m\u001B[0;34m[\u001B[0m\u001B[0mcol\u001B[0m\u001B[0;34m]\u001B[0m\u001B[0;34m]\u001B[0m\u001B[0;34m.\u001B[0m\u001B[0mapply\u001B[0m\u001B[0;34m(\u001B[0m\u001B[0;32mlambda\u001B[0m \u001B[0mx\u001B[0m\u001B[0;34m:\u001B[0m \u001B[0mx\u001B[0m\u001B[0;34m.\u001B[0m\u001B[0mrolling\u001B[0m\u001B[0;34m(\u001B[0m\u001B[0mwindow\u001B[0m\u001B[0;34m=\u001B[0m\u001B[0;36m4\u001B[0m\u001B[0;34m,\u001B[0m \u001B[0mmin_periods\u001B[0m\u001B[0;34m=\u001B[0m\u001B[0;36m1\u001B[0m\u001B[0;34m)\u001B[0m\u001B[0;34m.\u001B[0m\u001B[0mmean\u001B[0m\u001B[0;34m(\u001B[0m\u001B[0;34m)\u001B[0m\u001B[0;34m)\u001B[0m \u001B[0;32mfor\u001B[0m \u001B[0mcol\u001B[0m \u001B[0;32min\u001B[0m \u001B[0msel_cols\u001B[0m\u001B[0;34m}\u001B[0m\u001B[0;34m)\u001B[0m\u001B[0;34m\u001B[0m\u001B[0;34m\u001B[0m\u001B[0m\n\u001B[0m",
      "\u001B[0;32m~/Documents/GitHub/adds-early-burnout-warning-model/venv/lib/python3.7/site-packages/pandas/core/frame.py\u001B[0m in \u001B[0;36massign\u001B[0;34m(self, **kwargs)\u001B[0m\n\u001B[1;32m   3697\u001B[0m \u001B[0;34m\u001B[0m\u001B[0m\n\u001B[1;32m   3698\u001B[0m         \u001B[0;32mfor\u001B[0m \u001B[0mk\u001B[0m\u001B[0;34m,\u001B[0m \u001B[0mv\u001B[0m \u001B[0;32min\u001B[0m \u001B[0mkwargs\u001B[0m\u001B[0;34m.\u001B[0m\u001B[0mitems\u001B[0m\u001B[0;34m(\u001B[0m\u001B[0;34m)\u001B[0m\u001B[0;34m:\u001B[0m\u001B[0;34m\u001B[0m\u001B[0;34m\u001B[0m\u001B[0m\n\u001B[0;32m-> 3699\u001B[0;31m             \u001B[0mdata\u001B[0m\u001B[0;34m[\u001B[0m\u001B[0mk\u001B[0m\u001B[0;34m]\u001B[0m \u001B[0;34m=\u001B[0m \u001B[0mcom\u001B[0m\u001B[0;34m.\u001B[0m\u001B[0mapply_if_callable\u001B[0m\u001B[0;34m(\u001B[0m\u001B[0mv\u001B[0m\u001B[0;34m,\u001B[0m \u001B[0mdata\u001B[0m\u001B[0;34m)\u001B[0m\u001B[0;34m\u001B[0m\u001B[0;34m\u001B[0m\u001B[0m\n\u001B[0m\u001B[1;32m   3700\u001B[0m         \u001B[0;32mreturn\u001B[0m \u001B[0mdata\u001B[0m\u001B[0;34m\u001B[0m\u001B[0;34m\u001B[0m\u001B[0m\n\u001B[1;32m   3701\u001B[0m \u001B[0;34m\u001B[0m\u001B[0m\n",
      "\u001B[0;32m~/Documents/GitHub/adds-early-burnout-warning-model/venv/lib/python3.7/site-packages/pandas/core/frame.py\u001B[0m in \u001B[0;36m__setitem__\u001B[0;34m(self, key, value)\u001B[0m\n\u001B[1;32m   3042\u001B[0m         \u001B[0;32melse\u001B[0m\u001B[0;34m:\u001B[0m\u001B[0;34m\u001B[0m\u001B[0;34m\u001B[0m\u001B[0m\n\u001B[1;32m   3043\u001B[0m             \u001B[0;31m# set column\u001B[0m\u001B[0;34m\u001B[0m\u001B[0;34m\u001B[0m\u001B[0;34m\u001B[0m\u001B[0m\n\u001B[0;32m-> 3044\u001B[0;31m             \u001B[0mself\u001B[0m\u001B[0;34m.\u001B[0m\u001B[0m_set_item\u001B[0m\u001B[0;34m(\u001B[0m\u001B[0mkey\u001B[0m\u001B[0;34m,\u001B[0m \u001B[0mvalue\u001B[0m\u001B[0;34m)\u001B[0m\u001B[0;34m\u001B[0m\u001B[0;34m\u001B[0m\u001B[0m\n\u001B[0m\u001B[1;32m   3045\u001B[0m \u001B[0;34m\u001B[0m\u001B[0m\n\u001B[1;32m   3046\u001B[0m     \u001B[0;32mdef\u001B[0m \u001B[0m_setitem_slice\u001B[0m\u001B[0;34m(\u001B[0m\u001B[0mself\u001B[0m\u001B[0;34m,\u001B[0m \u001B[0mkey\u001B[0m\u001B[0;34m:\u001B[0m \u001B[0mslice\u001B[0m\u001B[0;34m,\u001B[0m \u001B[0mvalue\u001B[0m\u001B[0;34m)\u001B[0m\u001B[0;34m:\u001B[0m\u001B[0;34m\u001B[0m\u001B[0;34m\u001B[0m\u001B[0m\n",
      "\u001B[0;32m~/Documents/GitHub/adds-early-burnout-warning-model/venv/lib/python3.7/site-packages/pandas/core/frame.py\u001B[0m in \u001B[0;36m_set_item\u001B[0;34m(self, key, value)\u001B[0m\n\u001B[1;32m   3118\u001B[0m         \"\"\"\n\u001B[1;32m   3119\u001B[0m         \u001B[0mself\u001B[0m\u001B[0;34m.\u001B[0m\u001B[0m_ensure_valid_index\u001B[0m\u001B[0;34m(\u001B[0m\u001B[0mvalue\u001B[0m\u001B[0;34m)\u001B[0m\u001B[0;34m\u001B[0m\u001B[0;34m\u001B[0m\u001B[0m\n\u001B[0;32m-> 3120\u001B[0;31m         \u001B[0mvalue\u001B[0m \u001B[0;34m=\u001B[0m \u001B[0mself\u001B[0m\u001B[0;34m.\u001B[0m\u001B[0m_sanitize_column\u001B[0m\u001B[0;34m(\u001B[0m\u001B[0mkey\u001B[0m\u001B[0;34m,\u001B[0m \u001B[0mvalue\u001B[0m\u001B[0;34m)\u001B[0m\u001B[0;34m\u001B[0m\u001B[0;34m\u001B[0m\u001B[0m\n\u001B[0m\u001B[1;32m   3121\u001B[0m         \u001B[0mNDFrame\u001B[0m\u001B[0;34m.\u001B[0m\u001B[0m_set_item\u001B[0m\u001B[0;34m(\u001B[0m\u001B[0mself\u001B[0m\u001B[0;34m,\u001B[0m \u001B[0mkey\u001B[0m\u001B[0;34m,\u001B[0m \u001B[0mvalue\u001B[0m\u001B[0;34m)\u001B[0m\u001B[0;34m\u001B[0m\u001B[0;34m\u001B[0m\u001B[0m\n\u001B[1;32m   3122\u001B[0m \u001B[0;34m\u001B[0m\u001B[0m\n",
      "\u001B[0;32m~/Documents/GitHub/adds-early-burnout-warning-model/venv/lib/python3.7/site-packages/pandas/core/frame.py\u001B[0m in \u001B[0;36m_sanitize_column\u001B[0;34m(self, key, value, broadcast)\u001B[0m\n\u001B[1;32m   3755\u001B[0m                         \u001B[0mvalue\u001B[0m \u001B[0;34m=\u001B[0m \u001B[0mvalue\u001B[0m\u001B[0;34m.\u001B[0m\u001B[0mreindex\u001B[0m\u001B[0;34m(\u001B[0m\u001B[0mcols\u001B[0m\u001B[0;34m,\u001B[0m \u001B[0maxis\u001B[0m\u001B[0;34m=\u001B[0m\u001B[0;36m1\u001B[0m\u001B[0;34m)\u001B[0m\u001B[0;34m\u001B[0m\u001B[0;34m\u001B[0m\u001B[0m\n\u001B[1;32m   3756\u001B[0m             \u001B[0;31m# now align rows\u001B[0m\u001B[0;34m\u001B[0m\u001B[0;34m\u001B[0m\u001B[0;34m\u001B[0m\u001B[0m\n\u001B[0;32m-> 3757\u001B[0;31m             \u001B[0mvalue\u001B[0m \u001B[0;34m=\u001B[0m \u001B[0mreindexer\u001B[0m\u001B[0;34m(\u001B[0m\u001B[0mvalue\u001B[0m\u001B[0;34m)\u001B[0m\u001B[0;34m.\u001B[0m\u001B[0mT\u001B[0m\u001B[0;34m\u001B[0m\u001B[0;34m\u001B[0m\u001B[0m\n\u001B[0m\u001B[1;32m   3758\u001B[0m \u001B[0;34m\u001B[0m\u001B[0m\n\u001B[1;32m   3759\u001B[0m         \u001B[0;32melif\u001B[0m \u001B[0misinstance\u001B[0m\u001B[0;34m(\u001B[0m\u001B[0mvalue\u001B[0m\u001B[0;34m,\u001B[0m \u001B[0mExtensionArray\u001B[0m\u001B[0;34m)\u001B[0m\u001B[0;34m:\u001B[0m\u001B[0;34m\u001B[0m\u001B[0;34m\u001B[0m\u001B[0m\n",
      "\u001B[0;32m~/Documents/GitHub/adds-early-burnout-warning-model/venv/lib/python3.7/site-packages/pandas/core/frame.py\u001B[0m in \u001B[0;36mreindexer\u001B[0;34m(value)\u001B[0m\n\u001B[1;32m   3739\u001B[0m                     raise TypeError(\n\u001B[1;32m   3740\u001B[0m                         \u001B[0;34m\"incompatible index of inserted column with frame index\"\u001B[0m\u001B[0;34m\u001B[0m\u001B[0;34m\u001B[0m\u001B[0m\n\u001B[0;32m-> 3741\u001B[0;31m                     ) from err\n\u001B[0m\u001B[1;32m   3742\u001B[0m             \u001B[0;32mreturn\u001B[0m \u001B[0mvalue\u001B[0m\u001B[0;34m\u001B[0m\u001B[0;34m\u001B[0m\u001B[0m\n\u001B[1;32m   3743\u001B[0m \u001B[0;34m\u001B[0m\u001B[0m\n",
      "\u001B[0;31mTypeError\u001B[0m: incompatible index of inserted column with frame index"
     ]
    }
   ],
   "source": [
    "id_cols = ['mediabase_id', 'call_letters', 'week_dt', 'weeks_since_hit']\n",
    "id_cols = ['mediabase_id', 'call_letters']\n",
    "sel_cols = [col + '_prior' for col in pop_cols]\n",
    "mask = (df_raw_features['mediabase_id'] == 1086587) & (df_raw_features['call_letters'] == 'KHTS-FM') & (\n",
    "            df_raw_features['weeks_since_hit'] > 0)\n",
    "mask = df_raw_features['weeks_since_hit'] > 0\n",
    "df_raw_features_tst = df_raw_features.copy()\n",
    "df_raw_features_tst.assign(**{'test_' + col: df_raw_features[mask].groupby(id_cols)[[col]].apply(lambda x: x.rolling(window=4, min_periods=1).mean()) for col in sel_cols})"
   ],
   "metadata": {
    "collapsed": false,
    "pycharm": {
     "name": "#%%\n"
    }
   }
  },
  {
   "cell_type": "code",
   "execution_count": 62,
   "outputs": [],
   "source": [
    "df_temp = df_raw_features[mask].groupby(id_cols)[sel_cols[0]].apply(lambda x: x.rolling(window=4, min_periods=1).mean())"
   ],
   "metadata": {
    "collapsed": false,
    "pycharm": {
     "name": "#%%\n"
    }
   }
  },
  {
   "cell_type": "code",
   "execution_count": 66,
   "outputs": [
    {
     "data": {
      "text/plain": "                                  song_station_pop_prior  \\\nmediabase_id call_letters                                  \n1086587      KHTS-FM      20                   89.000000   \n                          21                   89.000000   \n                          22                   85.666667   \n                          23                   84.000000   \n                          24                   79.000000   \n...                                                  ...   \n2865765      WZFT-FM      655478               82.000000   \n                          655479               82.000000   \n                          655480               80.250000   \n                          655481               78.500000   \n                          655482               80.000000   \n\n                                  song_station_ddl_prior  \\\nmediabase_id call_letters                                  \n1086587      KHTS-FM      20                   10.000000   \n                          21                   10.000000   \n                          22                   13.666667   \n                          23                   15.500000   \n                          24                   19.500000   \n...                                                  ...   \n2865765      WZFT-FM      655478               10.666667   \n                          655479               11.000000   \n                          655480               12.250000   \n                          655481               13.500000   \n                          655482               12.750000   \n\n                                  song_station_fav_prior  \\\nmediabase_id call_letters                                  \n1086587      KHTS-FM      20                   26.000000   \n                          21                   26.000000   \n                          22                   26.000000   \n                          23                   26.000000   \n                          24                   24.000000   \n...                                                  ...   \n2865765      WZFT-FM      655478               26.333333   \n                          655479               27.000000   \n                          655480               26.250000   \n                          655481               25.500000   \n                          655482               23.250000   \n\n                                  count_song_format_pop_prior  \\\nmediabase_id call_letters                                       \n1086587      KHTS-FM      20                         3.000000   \n                          21                         2.000000   \n                          22                         2.000000   \n                          23                         1.750000   \n                          24                         1.250000   \n...                                                       ...   \n2865765      WZFT-FM      655478                    12.666667   \n                          655479                    12.500000   \n                          655480                    12.750000   \n                          655481                    13.750000   \n                          655482                    14.500000   \n\n                                  song_format_pop_prior  \\\nmediabase_id call_letters                                 \n1086587      KHTS-FM      20                  82.000000   \n                          21                  82.000000   \n                          22                  80.333333   \n                          23                  76.500000   \n                          24                  73.250000   \n...                                                 ...   \n2865765      WZFT-FM      655478              85.333333   \n                          655479              85.500000   \n                          655480              86.000000   \n                          655481              85.750000   \n                          655482              85.500000   \n\n                                  song_format_ddl_prior  \\\nmediabase_id call_letters                                 \n1086587      KHTS-FM      20                  15.000000   \n                          21                  16.500000   \n                          22                  18.000000   \n                          23                  20.750000   \n                          24                  23.500000   \n...                                                 ...   \n2865765      WZFT-FM      655478               7.333333   \n                          655479               7.750000   \n                          655480               8.500000   \n                          655481              10.000000   \n                          655482              10.250000   \n\n                                  song_format_fav_prior  \\\nmediabase_id call_letters                                 \n1086587      KHTS-FM      20                  26.000000   \n                          21                  27.500000   \n                          22                  26.000000   \n                          23                  25.500000   \n                          24                  23.500000   \n...                                                 ...   \n2865765      WZFT-FM      655478              26.666667   \n                          655479              27.000000   \n                          655480              27.250000   \n                          655481              27.500000   \n                          655482              27.000000   \n\n                                  count_artist_format_pop_prior  \\\nmediabase_id call_letters                                         \n1086587      KHTS-FM      20                           3.000000   \n                          21                           2.000000   \n                          22                           2.000000   \n                          23                           1.750000   \n                          24                           1.250000   \n...                                                         ...   \n2865765      WZFT-FM      655478                      15.666667   \n                          655479                      15.500000   \n                          655480                      16.500000   \n                          655481                      18.250000   \n                          655482                      20.750000   \n\n                                  artist_format_pop_prior  \\\nmediabase_id call_letters                                   \n1086587      KHTS-FM      20                    82.000000   \n                          21                    82.000000   \n                          22                    80.333333   \n                          23                    76.500000   \n                          24                    73.250000   \n...                                                   ...   \n2865765      WZFT-FM      655478                81.333333   \n                          655479                81.750000   \n                          655480                81.750000   \n                          655481                81.250000   \n                          655482                80.000000   \n\n                                  artist_format_ddl_prior  \\\nmediabase_id call_letters                                   \n1086587      KHTS-FM      20                    15.000000   \n                          21                    16.500000   \n                          22                    18.000000   \n                          23                    20.750000   \n                          24                    23.500000   \n...                                                   ...   \n2865765      WZFT-FM      655478                 7.666667   \n                          655479                 7.750000   \n                          655480                 8.250000   \n                          655481                 9.000000   \n                          655482                 8.750000   \n\n                                  artist_format_fav_prior  \nmediabase_id call_letters                                  \n1086587      KHTS-FM      20                        26.00  \n                          21                        27.50  \n                          22                        26.00  \n                          23                        25.50  \n                          24                        23.50  \n...                                                   ...  \n2865765      WZFT-FM      655478                    24.00  \n                          655479                    24.50  \n                          655480                    24.75  \n                          655481                    25.00  \n                          655482                    24.00  \n\n[575546 rows x 11 columns]",
      "text/html": "<div>\n<style scoped>\n    .dataframe tbody tr th:only-of-type {\n        vertical-align: middle;\n    }\n\n    .dataframe tbody tr th {\n        vertical-align: top;\n    }\n\n    .dataframe thead th {\n        text-align: right;\n    }\n</style>\n<table border=\"1\" class=\"dataframe\">\n  <thead>\n    <tr style=\"text-align: right;\">\n      <th></th>\n      <th></th>\n      <th></th>\n      <th>song_station_pop_prior</th>\n      <th>song_station_ddl_prior</th>\n      <th>song_station_fav_prior</th>\n      <th>count_song_format_pop_prior</th>\n      <th>song_format_pop_prior</th>\n      <th>song_format_ddl_prior</th>\n      <th>song_format_fav_prior</th>\n      <th>count_artist_format_pop_prior</th>\n      <th>artist_format_pop_prior</th>\n      <th>artist_format_ddl_prior</th>\n      <th>artist_format_fav_prior</th>\n    </tr>\n    <tr>\n      <th>mediabase_id</th>\n      <th>call_letters</th>\n      <th></th>\n      <th></th>\n      <th></th>\n      <th></th>\n      <th></th>\n      <th></th>\n      <th></th>\n      <th></th>\n      <th></th>\n      <th></th>\n      <th></th>\n      <th></th>\n    </tr>\n  </thead>\n  <tbody>\n    <tr>\n      <th rowspan=\"5\" valign=\"top\">1086587</th>\n      <th rowspan=\"5\" valign=\"top\">KHTS-FM</th>\n      <th>20</th>\n      <td>89.000000</td>\n      <td>10.000000</td>\n      <td>26.000000</td>\n      <td>3.000000</td>\n      <td>82.000000</td>\n      <td>15.000000</td>\n      <td>26.000000</td>\n      <td>3.000000</td>\n      <td>82.000000</td>\n      <td>15.000000</td>\n      <td>26.00</td>\n    </tr>\n    <tr>\n      <th>21</th>\n      <td>89.000000</td>\n      <td>10.000000</td>\n      <td>26.000000</td>\n      <td>2.000000</td>\n      <td>82.000000</td>\n      <td>16.500000</td>\n      <td>27.500000</td>\n      <td>2.000000</td>\n      <td>82.000000</td>\n      <td>16.500000</td>\n      <td>27.50</td>\n    </tr>\n    <tr>\n      <th>22</th>\n      <td>85.666667</td>\n      <td>13.666667</td>\n      <td>26.000000</td>\n      <td>2.000000</td>\n      <td>80.333333</td>\n      <td>18.000000</td>\n      <td>26.000000</td>\n      <td>2.000000</td>\n      <td>80.333333</td>\n      <td>18.000000</td>\n      <td>26.00</td>\n    </tr>\n    <tr>\n      <th>23</th>\n      <td>84.000000</td>\n      <td>15.500000</td>\n      <td>26.000000</td>\n      <td>1.750000</td>\n      <td>76.500000</td>\n      <td>20.750000</td>\n      <td>25.500000</td>\n      <td>1.750000</td>\n      <td>76.500000</td>\n      <td>20.750000</td>\n      <td>25.50</td>\n    </tr>\n    <tr>\n      <th>24</th>\n      <td>79.000000</td>\n      <td>19.500000</td>\n      <td>24.000000</td>\n      <td>1.250000</td>\n      <td>73.250000</td>\n      <td>23.500000</td>\n      <td>23.500000</td>\n      <td>1.250000</td>\n      <td>73.250000</td>\n      <td>23.500000</td>\n      <td>23.50</td>\n    </tr>\n    <tr>\n      <th>...</th>\n      <th>...</th>\n      <th>...</th>\n      <td>...</td>\n      <td>...</td>\n      <td>...</td>\n      <td>...</td>\n      <td>...</td>\n      <td>...</td>\n      <td>...</td>\n      <td>...</td>\n      <td>...</td>\n      <td>...</td>\n      <td>...</td>\n    </tr>\n    <tr>\n      <th rowspan=\"5\" valign=\"top\">2865765</th>\n      <th rowspan=\"5\" valign=\"top\">WZFT-FM</th>\n      <th>655478</th>\n      <td>82.000000</td>\n      <td>10.666667</td>\n      <td>26.333333</td>\n      <td>12.666667</td>\n      <td>85.333333</td>\n      <td>7.333333</td>\n      <td>26.666667</td>\n      <td>15.666667</td>\n      <td>81.333333</td>\n      <td>7.666667</td>\n      <td>24.00</td>\n    </tr>\n    <tr>\n      <th>655479</th>\n      <td>82.000000</td>\n      <td>11.000000</td>\n      <td>27.000000</td>\n      <td>12.500000</td>\n      <td>85.500000</td>\n      <td>7.750000</td>\n      <td>27.000000</td>\n      <td>15.500000</td>\n      <td>81.750000</td>\n      <td>7.750000</td>\n      <td>24.50</td>\n    </tr>\n    <tr>\n      <th>655480</th>\n      <td>80.250000</td>\n      <td>12.250000</td>\n      <td>26.250000</td>\n      <td>12.750000</td>\n      <td>86.000000</td>\n      <td>8.500000</td>\n      <td>27.250000</td>\n      <td>16.500000</td>\n      <td>81.750000</td>\n      <td>8.250000</td>\n      <td>24.75</td>\n    </tr>\n    <tr>\n      <th>655481</th>\n      <td>78.500000</td>\n      <td>13.500000</td>\n      <td>25.500000</td>\n      <td>13.750000</td>\n      <td>85.750000</td>\n      <td>10.000000</td>\n      <td>27.500000</td>\n      <td>18.250000</td>\n      <td>81.250000</td>\n      <td>9.000000</td>\n      <td>25.00</td>\n    </tr>\n    <tr>\n      <th>655482</th>\n      <td>80.000000</td>\n      <td>12.750000</td>\n      <td>23.250000</td>\n      <td>14.500000</td>\n      <td>85.500000</td>\n      <td>10.250000</td>\n      <td>27.000000</td>\n      <td>20.750000</td>\n      <td>80.000000</td>\n      <td>8.750000</td>\n      <td>24.00</td>\n    </tr>\n  </tbody>\n</table>\n<p>575546 rows × 11 columns</p>\n</div>"
     },
     "execution_count": 66,
     "metadata": {},
     "output_type": "execute_result"
    }
   ],
   "source": [
    "df_raw_features[mask].groupby(id_cols)[sel_cols].apply(lambda x: x.rolling(window=4, min_periods=1).mean())"
   ],
   "metadata": {
    "collapsed": false,
    "pycharm": {
     "name": "#%%\n"
    }
   }
  },
  {
   "cell_type": "code",
   "execution_count": 61,
   "outputs": [
    {
     "data": {
      "text/plain": "        weeks_since_hit  song_station_pop_prior  test_col\n0                 -19.0                     NaN       NaN\n1                 -18.0                     NaN       NaN\n2                 -17.0                     NaN       NaN\n3                 -16.0                     NaN       NaN\n4                 -15.0                     NaN       NaN\n...                 ...                     ...       ...\n655478              3.0                    82.0     82.00\n655479              4.0                    82.0     82.00\n655480              5.0                    75.0     80.25\n655481              6.0                    75.0     78.50\n655482              7.0                    88.0     80.00\n\n[655483 rows x 3 columns]",
      "text/html": "<div>\n<style scoped>\n    .dataframe tbody tr th:only-of-type {\n        vertical-align: middle;\n    }\n\n    .dataframe tbody tr th {\n        vertical-align: top;\n    }\n\n    .dataframe thead th {\n        text-align: right;\n    }\n</style>\n<table border=\"1\" class=\"dataframe\">\n  <thead>\n    <tr style=\"text-align: right;\">\n      <th></th>\n      <th>weeks_since_hit</th>\n      <th>song_station_pop_prior</th>\n      <th>test_col</th>\n    </tr>\n  </thead>\n  <tbody>\n    <tr>\n      <th>0</th>\n      <td>-19.0</td>\n      <td>NaN</td>\n      <td>NaN</td>\n    </tr>\n    <tr>\n      <th>1</th>\n      <td>-18.0</td>\n      <td>NaN</td>\n      <td>NaN</td>\n    </tr>\n    <tr>\n      <th>2</th>\n      <td>-17.0</td>\n      <td>NaN</td>\n      <td>NaN</td>\n    </tr>\n    <tr>\n      <th>3</th>\n      <td>-16.0</td>\n      <td>NaN</td>\n      <td>NaN</td>\n    </tr>\n    <tr>\n      <th>4</th>\n      <td>-15.0</td>\n      <td>NaN</td>\n      <td>NaN</td>\n    </tr>\n    <tr>\n      <th>...</th>\n      <td>...</td>\n      <td>...</td>\n      <td>...</td>\n    </tr>\n    <tr>\n      <th>655478</th>\n      <td>3.0</td>\n      <td>82.0</td>\n      <td>82.00</td>\n    </tr>\n    <tr>\n      <th>655479</th>\n      <td>4.0</td>\n      <td>82.0</td>\n      <td>82.00</td>\n    </tr>\n    <tr>\n      <th>655480</th>\n      <td>5.0</td>\n      <td>75.0</td>\n      <td>80.25</td>\n    </tr>\n    <tr>\n      <th>655481</th>\n      <td>6.0</td>\n      <td>75.0</td>\n      <td>78.50</td>\n    </tr>\n    <tr>\n      <th>655482</th>\n      <td>7.0</td>\n      <td>88.0</td>\n      <td>80.00</td>\n    </tr>\n  </tbody>\n</table>\n<p>655483 rows × 3 columns</p>\n</div>"
     },
     "execution_count": 61,
     "metadata": {},
     "output_type": "execute_result"
    }
   ],
   "source": [
    "df_raw_features_tst[['weeks_since_hit'] + [sel_cols[0]] + ['test_col']]"
   ],
   "metadata": {
    "collapsed": false,
    "pycharm": {
     "name": "#%%\n"
    }
   }
  },
  {
   "cell_type": "code",
   "execution_count": 23,
   "outputs": [],
   "source": [
    "spins_cols = [col for col in df_raw_features.columns if\n",
    "              ('_spins' in col) and ('cuml_' not in col) and ('_bucket' not in col) and ('_propn' not in col) and (\n",
    "                      'weeks_' not in col)]"
   ],
   "metadata": {
    "collapsed": false,
    "pycharm": {
     "name": "#%%\n"
    }
   }
  },
  {
   "cell_type": "code",
   "execution_count": 25,
   "outputs": [
    {
     "data": {
      "text/plain": "['song_station_spins_total',\n 'song_station_spins_non_on',\n 'song_station_spins_am_pm_dr',\n 'song_format_spins_total',\n 'song_format_spins_non_on',\n 'song_format_spins_am_pm_dr',\n 'song_market_spins_total',\n 'song_market_spins_non_on',\n 'song_market_spins_am_pm_dr',\n 'artist_station_spins_total',\n 'artist_station_spins_non_on',\n 'artist_station_spins_am_pm_dr',\n 'artist_format_spins_total',\n 'artist_format_spins_non_on',\n 'artist_format_spins_am_pm_dr',\n 'artist_market_spins_total',\n 'artist_market_spins_non_on',\n 'artist_market_spins_am_pm_dr']"
     },
     "execution_count": 25,
     "metadata": {},
     "output_type": "execute_result"
    }
   ],
   "source": [
    "spins_cols"
   ],
   "metadata": {
    "collapsed": false,
    "pycharm": {
     "name": "#%%\n"
    }
   }
  },
  {
   "cell_type": "code",
   "execution_count": 26,
   "outputs": [],
   "source": [
    "# shift spins to obtain prior pop scores\n",
    "df_raw_features = df_raw_features.assign(**{\n",
    "    col + '_prior': df_raw_features[['mediabase_id', 'call_letters'] + [col]].groupby(\n",
    "        ['mediabase_id', 'call_letters']).shift(1) for col in spins_cols})"
   ],
   "metadata": {
    "collapsed": false,
    "pycharm": {
     "name": "#%%\n"
    }
   }
  },
  {
   "cell_type": "code",
   "execution_count": 27,
   "outputs": [
    {
     "data": {
      "text/plain": "        mediabase_id     song_id call_letters market_name  artist_id  \\\n0            1086587    90090779      KHTS-FM   San Diego   26365333   \n1            1086587    90090779      KHTS-FM   San Diego   26365333   \n2            1086587    90090779      KHTS-FM   San Diego   26365333   \n3            1086587    90090779      KHTS-FM   San Diego   26365333   \n4            1086587    90090779      KHTS-FM   San Diego   26365333   \n...              ...         ...          ...         ...        ...   \n655478       2865765  2321893248      WZFT-FM   Baltimore   28054077   \n655479       2865765  2321893248      WZFT-FM   Baltimore   28054077   \n655480       2865765  2321893248      WZFT-FM   Baltimore   28054077   \n655481       2865765  2321893248      WZFT-FM   Baltimore   28054077   \n655482       2865765  2321893248      WZFT-FM   Baltimore   28054077   \n\n       format_code song_release_date first_callout_date last_callout_date  \\\n0               H1        2022-06-01         2022-07-18        2023-01-02   \n1               H1        2022-06-01         2022-07-18        2023-01-02   \n2               H1        2022-06-01         2022-07-18        2023-01-02   \n3               H1        2022-06-01         2022-07-18        2023-01-02   \n4               H1        2022-06-01         2022-07-18        2023-01-02   \n...            ...               ...                ...               ...   \n655478          H1        2022-12-01         2023-01-30        2023-04-03   \n655479          H1        2022-12-01         2023-01-30        2023-04-03   \n655480          H1        2022-12-01         2023-01-30        2023-04-03   \n655481          H1        2022-12-01         2023-01-30        2023-04-03   \n655482          H1        2022-12-01         2023-01-30        2023-04-03   \n\n       first_spin_date  ... song_market_spins_am_pm_dr_prior  \\\n0           2022-06-12  ...                              NaN   \n1           2022-06-12  ...                             22.0   \n2           2022-06-12  ...                             29.0   \n3           2022-06-12  ...                             35.0   \n4           2022-06-12  ...                             50.0   \n...                ...  ...                              ...   \n655478      2023-01-01  ...                             71.0   \n655479      2023-01-01  ...                             84.0   \n655480      2023-01-01  ...                            100.0   \n655481      2023-01-01  ...                             89.0   \n655482      2023-01-01  ...                             87.0   \n\n       artist_station_spins_total_prior artist_station_spins_non_on_prior  \\\n0                                   NaN                               NaN   \n1                                  17.0                              11.0   \n2                                  30.0                              16.0   \n3                                  29.0                              19.0   \n4                                  37.0                              31.0   \n...                                 ...                               ...   \n655478                            171.0                             121.0   \n655479                            215.0                             159.0   \n655480                            205.0                             151.0   \n655481                            183.0                             135.0   \n655482                            190.0                             141.0   \n\n        artist_station_spins_am_pm_dr_prior artist_format_spins_total_prior  \\\n0                                       NaN                             NaN   \n1                                       5.0                          1329.0   \n2                                       5.0                          4103.0   \n3                                       6.0                          6347.0   \n4                                      17.0                          8134.0   \n...                                     ...                             ...   \n655478                                 83.0                         24908.0   \n655479                                113.0                         27498.0   \n655480                                110.0                         30006.0   \n655481                                100.0                         29890.0   \n655482                                106.0                         30056.0   \n\n       artist_format_spins_non_on_prior artist_format_spins_am_pm_dr_prior  \\\n0                                   NaN                                NaN   \n1                                1005.0                              672.0   \n2                                2981.0                             1894.0   \n3                                4564.0                             3044.0   \n4                                5905.0                             4041.0   \n...                                 ...                                ...   \n655478                          17706.0                            11922.0   \n655479                          19625.0                            13243.0   \n655480                          21590.0                            14580.0   \n655481                          21529.0                            14716.0   \n655482                          21706.0                            14795.0   \n\n       artist_market_spins_total_prior  artist_market_spins_non_on_prior  \\\n0                                  NaN                               NaN   \n1                                 68.0                              45.0   \n2                                 96.0                              62.0   \n3                                105.0                              72.0   \n4                                121.0                              94.0   \n...                                ...                               ...   \n655478                           275.0                             181.0   \n655479                           338.0                             233.0   \n655480                           343.0                             231.0   \n655481                           319.0                             214.0   \n655482                           322.0                             214.0   \n\n        artist_market_spins_am_pm_dr_prior  \n0                                      NaN  \n1                                     22.0  \n2                                     31.0  \n3                                     41.0  \n4                                     57.0  \n...                                    ...  \n655478                               128.0  \n655479                               165.0  \n655480                               167.0  \n655481                               154.0  \n655482                               152.0  \n\n[655483 rows x 118 columns]",
      "text/html": "<div>\n<style scoped>\n    .dataframe tbody tr th:only-of-type {\n        vertical-align: middle;\n    }\n\n    .dataframe tbody tr th {\n        vertical-align: top;\n    }\n\n    .dataframe thead th {\n        text-align: right;\n    }\n</style>\n<table border=\"1\" class=\"dataframe\">\n  <thead>\n    <tr style=\"text-align: right;\">\n      <th></th>\n      <th>mediabase_id</th>\n      <th>song_id</th>\n      <th>call_letters</th>\n      <th>market_name</th>\n      <th>artist_id</th>\n      <th>format_code</th>\n      <th>song_release_date</th>\n      <th>first_callout_date</th>\n      <th>last_callout_date</th>\n      <th>first_spin_date</th>\n      <th>...</th>\n      <th>song_market_spins_am_pm_dr_prior</th>\n      <th>artist_station_spins_total_prior</th>\n      <th>artist_station_spins_non_on_prior</th>\n      <th>artist_station_spins_am_pm_dr_prior</th>\n      <th>artist_format_spins_total_prior</th>\n      <th>artist_format_spins_non_on_prior</th>\n      <th>artist_format_spins_am_pm_dr_prior</th>\n      <th>artist_market_spins_total_prior</th>\n      <th>artist_market_spins_non_on_prior</th>\n      <th>artist_market_spins_am_pm_dr_prior</th>\n    </tr>\n  </thead>\n  <tbody>\n    <tr>\n      <th>0</th>\n      <td>1086587</td>\n      <td>90090779</td>\n      <td>KHTS-FM</td>\n      <td>San Diego</td>\n      <td>26365333</td>\n      <td>H1</td>\n      <td>2022-06-01</td>\n      <td>2022-07-18</td>\n      <td>2023-01-02</td>\n      <td>2022-06-12</td>\n      <td>...</td>\n      <td>NaN</td>\n      <td>NaN</td>\n      <td>NaN</td>\n      <td>NaN</td>\n      <td>NaN</td>\n      <td>NaN</td>\n      <td>NaN</td>\n      <td>NaN</td>\n      <td>NaN</td>\n      <td>NaN</td>\n    </tr>\n    <tr>\n      <th>1</th>\n      <td>1086587</td>\n      <td>90090779</td>\n      <td>KHTS-FM</td>\n      <td>San Diego</td>\n      <td>26365333</td>\n      <td>H1</td>\n      <td>2022-06-01</td>\n      <td>2022-07-18</td>\n      <td>2023-01-02</td>\n      <td>2022-06-12</td>\n      <td>...</td>\n      <td>22.0</td>\n      <td>17.0</td>\n      <td>11.0</td>\n      <td>5.0</td>\n      <td>1329.0</td>\n      <td>1005.0</td>\n      <td>672.0</td>\n      <td>68.0</td>\n      <td>45.0</td>\n      <td>22.0</td>\n    </tr>\n    <tr>\n      <th>2</th>\n      <td>1086587</td>\n      <td>90090779</td>\n      <td>KHTS-FM</td>\n      <td>San Diego</td>\n      <td>26365333</td>\n      <td>H1</td>\n      <td>2022-06-01</td>\n      <td>2022-07-18</td>\n      <td>2023-01-02</td>\n      <td>2022-06-12</td>\n      <td>...</td>\n      <td>29.0</td>\n      <td>30.0</td>\n      <td>16.0</td>\n      <td>5.0</td>\n      <td>4103.0</td>\n      <td>2981.0</td>\n      <td>1894.0</td>\n      <td>96.0</td>\n      <td>62.0</td>\n      <td>31.0</td>\n    </tr>\n    <tr>\n      <th>3</th>\n      <td>1086587</td>\n      <td>90090779</td>\n      <td>KHTS-FM</td>\n      <td>San Diego</td>\n      <td>26365333</td>\n      <td>H1</td>\n      <td>2022-06-01</td>\n      <td>2022-07-18</td>\n      <td>2023-01-02</td>\n      <td>2022-06-12</td>\n      <td>...</td>\n      <td>35.0</td>\n      <td>29.0</td>\n      <td>19.0</td>\n      <td>6.0</td>\n      <td>6347.0</td>\n      <td>4564.0</td>\n      <td>3044.0</td>\n      <td>105.0</td>\n      <td>72.0</td>\n      <td>41.0</td>\n    </tr>\n    <tr>\n      <th>4</th>\n      <td>1086587</td>\n      <td>90090779</td>\n      <td>KHTS-FM</td>\n      <td>San Diego</td>\n      <td>26365333</td>\n      <td>H1</td>\n      <td>2022-06-01</td>\n      <td>2022-07-18</td>\n      <td>2023-01-02</td>\n      <td>2022-06-12</td>\n      <td>...</td>\n      <td>50.0</td>\n      <td>37.0</td>\n      <td>31.0</td>\n      <td>17.0</td>\n      <td>8134.0</td>\n      <td>5905.0</td>\n      <td>4041.0</td>\n      <td>121.0</td>\n      <td>94.0</td>\n      <td>57.0</td>\n    </tr>\n    <tr>\n      <th>...</th>\n      <td>...</td>\n      <td>...</td>\n      <td>...</td>\n      <td>...</td>\n      <td>...</td>\n      <td>...</td>\n      <td>...</td>\n      <td>...</td>\n      <td>...</td>\n      <td>...</td>\n      <td>...</td>\n      <td>...</td>\n      <td>...</td>\n      <td>...</td>\n      <td>...</td>\n      <td>...</td>\n      <td>...</td>\n      <td>...</td>\n      <td>...</td>\n      <td>...</td>\n      <td>...</td>\n    </tr>\n    <tr>\n      <th>655478</th>\n      <td>2865765</td>\n      <td>2321893248</td>\n      <td>WZFT-FM</td>\n      <td>Baltimore</td>\n      <td>28054077</td>\n      <td>H1</td>\n      <td>2022-12-01</td>\n      <td>2023-01-30</td>\n      <td>2023-04-03</td>\n      <td>2023-01-01</td>\n      <td>...</td>\n      <td>71.0</td>\n      <td>171.0</td>\n      <td>121.0</td>\n      <td>83.0</td>\n      <td>24908.0</td>\n      <td>17706.0</td>\n      <td>11922.0</td>\n      <td>275.0</td>\n      <td>181.0</td>\n      <td>128.0</td>\n    </tr>\n    <tr>\n      <th>655479</th>\n      <td>2865765</td>\n      <td>2321893248</td>\n      <td>WZFT-FM</td>\n      <td>Baltimore</td>\n      <td>28054077</td>\n      <td>H1</td>\n      <td>2022-12-01</td>\n      <td>2023-01-30</td>\n      <td>2023-04-03</td>\n      <td>2023-01-01</td>\n      <td>...</td>\n      <td>84.0</td>\n      <td>215.0</td>\n      <td>159.0</td>\n      <td>113.0</td>\n      <td>27498.0</td>\n      <td>19625.0</td>\n      <td>13243.0</td>\n      <td>338.0</td>\n      <td>233.0</td>\n      <td>165.0</td>\n    </tr>\n    <tr>\n      <th>655480</th>\n      <td>2865765</td>\n      <td>2321893248</td>\n      <td>WZFT-FM</td>\n      <td>Baltimore</td>\n      <td>28054077</td>\n      <td>H1</td>\n      <td>2022-12-01</td>\n      <td>2023-01-30</td>\n      <td>2023-04-03</td>\n      <td>2023-01-01</td>\n      <td>...</td>\n      <td>100.0</td>\n      <td>205.0</td>\n      <td>151.0</td>\n      <td>110.0</td>\n      <td>30006.0</td>\n      <td>21590.0</td>\n      <td>14580.0</td>\n      <td>343.0</td>\n      <td>231.0</td>\n      <td>167.0</td>\n    </tr>\n    <tr>\n      <th>655481</th>\n      <td>2865765</td>\n      <td>2321893248</td>\n      <td>WZFT-FM</td>\n      <td>Baltimore</td>\n      <td>28054077</td>\n      <td>H1</td>\n      <td>2022-12-01</td>\n      <td>2023-01-30</td>\n      <td>2023-04-03</td>\n      <td>2023-01-01</td>\n      <td>...</td>\n      <td>89.0</td>\n      <td>183.0</td>\n      <td>135.0</td>\n      <td>100.0</td>\n      <td>29890.0</td>\n      <td>21529.0</td>\n      <td>14716.0</td>\n      <td>319.0</td>\n      <td>214.0</td>\n      <td>154.0</td>\n    </tr>\n    <tr>\n      <th>655482</th>\n      <td>2865765</td>\n      <td>2321893248</td>\n      <td>WZFT-FM</td>\n      <td>Baltimore</td>\n      <td>28054077</td>\n      <td>H1</td>\n      <td>2022-12-01</td>\n      <td>2023-01-30</td>\n      <td>2023-04-03</td>\n      <td>2023-01-01</td>\n      <td>...</td>\n      <td>87.0</td>\n      <td>190.0</td>\n      <td>141.0</td>\n      <td>106.0</td>\n      <td>30056.0</td>\n      <td>21706.0</td>\n      <td>14795.0</td>\n      <td>322.0</td>\n      <td>214.0</td>\n      <td>152.0</td>\n    </tr>\n  </tbody>\n</table>\n<p>655483 rows × 118 columns</p>\n</div>"
     },
     "execution_count": 27,
     "metadata": {},
     "output_type": "execute_result"
    }
   ],
   "source": [
    "df_raw_features"
   ],
   "metadata": {
    "collapsed": false,
    "pycharm": {
     "name": "#%%\n"
    }
   }
  },
  {
   "cell_type": "code",
   "execution_count": 28,
   "outputs": [],
   "source": [
    "stream_cols = [col for col in df_raw_features.columns if '_unv' in col]"
   ],
   "metadata": {
    "collapsed": false,
    "pycharm": {
     "name": "#%%\n"
    }
   }
  },
  {
   "cell_type": "code",
   "execution_count": 29,
   "outputs": [
    {
     "data": {
      "text/plain": "['max_stream_count_prior_unv',\n 'min_stream_count_prior_unv',\n 'mean_stream_count_prior_unv',\n 'std_stream_count_prior_unv',\n 'med_stream_count_prior_unv',\n 'mr_stream_count_prior_unv',\n 'max_completed_count_prior_unv',\n 'min_completed_count_prior_unv',\n 'mean_completed_count_prior_unv',\n 'std_completed_count_prior_unv',\n 'med_completed_count_prior_unv',\n 'mr_completed_count_prior_unv',\n 'max_completed_rate_prior_unv',\n 'min_completed_rate_prior_unv',\n 'mean_completed_rate_prior_unv',\n 'std_completed_rate_prior_unv',\n 'med_completed_rate_prior_unv',\n 'mr_completed_rate_prior_unv',\n 'max_thumbs_up_rate_prior_unv',\n 'min_thumbs_up_rate_prior_unv',\n 'mean_thumbs_up_rate_prior_unv',\n 'std_thumbs_up_rate_prior_unv',\n 'med_thumbs_up_rate_prior_unv',\n 'mr_thumbs_up_rate_prior_unv']"
     },
     "execution_count": 29,
     "metadata": {},
     "output_type": "execute_result"
    }
   ],
   "source": [
    "stream_cols"
   ],
   "metadata": {
    "collapsed": false,
    "pycharm": {
     "name": "#%%\n"
    }
   }
  },
  {
   "cell_type": "code",
   "execution_count": 136,
   "outputs": [],
   "source": [
    "# shift streams to obtain prior streams\n",
    "df_raw_features = df_raw_features.assign(**{\n",
    "    col + '_prior': df_raw_features[['mediabase_id', 'call_letters'] + [col]].groupby(\n",
    "        ['mediabase_id', 'call_letters']).ffill().shift(1) for col in stream_cols})"
   ],
   "metadata": {
    "collapsed": false,
    "pycharm": {
     "name": "#%%\n"
    }
   }
  },
  {
   "cell_type": "code",
   "execution_count": 137,
   "outputs": [],
   "source": [
    "propn_cols = [col for col in df_raw_features.columns if 'propn' in col]"
   ],
   "metadata": {
    "collapsed": false,
    "pycharm": {
     "name": "#%%\n"
    }
   }
  },
  {
   "cell_type": "code",
   "execution_count": 138,
   "outputs": [
    {
     "data": {
      "text/plain": "['market_spins_propn', 'artist_spins_propn']"
     },
     "execution_count": 138,
     "metadata": {},
     "output_type": "execute_result"
    }
   ],
   "source": [
    "propn_cols"
   ],
   "metadata": {
    "collapsed": false,
    "pycharm": {
     "name": "#%%\n"
    }
   }
  },
  {
   "cell_type": "code",
   "execution_count": 139,
   "outputs": [],
   "source": [
    "df_raw_features = df_raw_features.assign(**{\n",
    "    col + '_prior': df_raw_features[['mediabase_id', 'call_letters'] + [col]].groupby(\n",
    "        ['mediabase_id', 'call_letters']).shift(1) for col in propn_cols})"
   ],
   "metadata": {
    "collapsed": false,
    "pycharm": {
     "name": "#%%\n"
    }
   }
  },
  {
   "cell_type": "code",
   "execution_count": 148,
   "outputs": [],
   "source": [
    "df_raw_features['spins_to_burnout'] = df_raw_features['cuml_song_station_spins_non_on_at_burnout'] - df_raw_features[\n",
    "    'cuml_song_station_spins_non_on']"
   ],
   "metadata": {
    "collapsed": false,
    "pycharm": {
     "name": "#%%\n"
    }
   }
  },
  {
   "cell_type": "markdown",
   "source": [
    "#### Abnormal Hit Instances"
   ],
   "metadata": {
    "collapsed": false
   }
  },
  {
   "cell_type": "code",
   "execution_count": null,
   "outputs": [],
   "source": [
    "query_abnormal_check = '''\n",
    "-- censoring and abnormal instances\n",
    "SELECT\n",
    "    sv.song_name || '(' || sv.artist_name || ')' AS song_artist,\n",
    "    EXTRACT(YEAR\n",
    "FROM\n",
    "    eh.song_release_date) AS song_release_year,\n",
    "    eh.*,\n",
    "    eft.ftq_date,\n",
    "    ed.ddl_over_thresh_dt_first,\n",
    "    ed.ddl_over_thresh_dt_second,\n",
    "    edf.ddl_over_thresh_dt_first_unf,\n",
    "    edf.ddl_over_thresh_dt_second_unf\n",
    "FROM\n",
    "    adds_temp.ebw_hits_tracker_h1 AS eh\n",
    "LEFT JOIN data.songs_v AS sv\n",
    "ON\n",
    "    sv.mediabase_id = eh.mediabase_id\n",
    "LEFT JOIN adds_temp.ebw_hits_ftq_h1 as eft\n",
    "on eft.mediabase_id = eh.mediabase_id\n",
    "and eft.call_letters = eh.call_letters\n",
    "LEFT JOIN data.stations_v AS st\n",
    "ON\n",
    "    st.call_letters = eh.call_letters\n",
    "LEFT JOIN\n",
    "    adds_temp.ebw_ddl_tracker_h1 AS ed\n",
    "ON\n",
    "    ed.mediabase_id = eh.mediabase_id\n",
    "    AND ed.call_letters = eh.call_letters\n",
    "LEFT JOIN adds_temp.ebw_ddl_tracker_unf_h1 AS edf\n",
    "ON\n",
    "    edf.mediabase_id = eh.mediabase_id\n",
    "    AND edf.call_letters = eh.call_letters\n",
    "ORDER BY\n",
    "    3,\n",
    "    1,\n",
    "    2\n",
    "'''\n",
    "with engine.connect() as conn:\n",
    "    with conn.begin():\n",
    "        df_abnorm_checks = pd.read_sql(query_abnormal_check, conn)"
   ],
   "metadata": {
    "collapsed": false,
    "pycharm": {
     "name": "#%%\n"
    }
   }
  },
  {
   "cell_type": "code",
   "execution_count": null,
   "outputs": [],
   "source": [
    "df_abnorm_checks['hit_tag_date'] = pd.to_datetime(df_abnorm_checks['hit_tag_date'])"
   ],
   "metadata": {
    "collapsed": false,
    "pycharm": {
     "name": "#%%\n"
    }
   }
  },
  {
   "cell_type": "code",
   "execution_count": null,
   "outputs": [],
   "source": [
    "list(df_raw_features.columns[-13:])"
   ],
   "metadata": {
    "collapsed": false,
    "pycharm": {
     "name": "#%%\n"
    }
   }
  },
  {
   "cell_type": "code",
   "execution_count": null,
   "outputs": [],
   "source": [
    "# setup columns for join with raw features data frame\n",
    "index_cols = ['mediabase_id', 'call_letters', 'week_dt']\n",
    "join_cols = ['mediabase_id', 'call_letters', 'hit_tag_date']\n",
    "sel_cols = ['weeks_bw_top_quintiles',\n",
    "            'weeks_bw_ddl_thresh_cross',\n",
    "            'market_spins_propn',\n",
    "            'artist_spins_propn',\n",
    "            'week_dt_at_hit',\n",
    "            'cuml_song_station_spins_non_on_at_hit',\n",
    "            'week_dt_at_ftq',\n",
    "            'cuml_song_station_spins_non_on_at_ftq',\n",
    "            'week_dt_at_pre_burnout',\n",
    "            'cuml_song_station_spins_non_on_at_pre_burnout',\n",
    "            'week_dt_at_burnout',\n",
    "            'cuml_song_station_spins_non_on_at_burnout',\n",
    "            'hit_spins_bucket']"
   ],
   "metadata": {
    "collapsed": false,
    "pycharm": {
     "name": "#%%\n"
    }
   }
  },
  {
   "cell_type": "code",
   "execution_count": null,
   "outputs": [],
   "source": [
    "df_abnorm_checks = df_abnorm_checks.join(df_raw_features.set_index(index_cols)[sel_cols], on=join_cols, how='left')"
   ],
   "metadata": {
    "collapsed": false,
    "pycharm": {
     "name": "#%%\n"
    }
   }
  },
  {
   "cell_type": "code",
   "execution_count": null,
   "outputs": [],
   "source": [
    "df_abnorm_checks"
   ],
   "metadata": {
    "collapsed": false,
    "pycharm": {
     "name": "#%%\n"
    }
   }
  },
  {
   "cell_type": "code",
   "execution_count": null,
   "outputs": [],
   "source": [
    "# calculated columns\n",
    "df_abnorm_checks = df_abnorm_checks.assign(\n",
    "    **{'weeks_to_burnout': (df_abnorm_checks['ddl_over_thresh_dt_second'] - df_abnorm_checks[\n",
    "        'first_spin_date']) / np.timedelta64(1, 'W'),\n",
    "       'spins_to_burnout_from_hit': df_abnorm_checks['cuml_song_station_spins_non_on_at_burnout'] - df_abnorm_checks[\n",
    "           'cuml_song_station_spins_non_on_at_hit'],\n",
    "       'no_burnout_flg': pd.isna(df_abnorm_checks['ddl_over_thresh_dt_second']).apply(int),\n",
    "       'premature_burnout_flg':\n",
    "           (df_abnorm_checks['ddl_over_thresh_dt_second_unf'] < df_abnorm_checks[\n",
    "               'hit_tag_date']).apply(int),\n",
    "       'spins_stoppage_flg':\n",
    "           (df_abnorm_checks['last_spin_date'] < df_abnorm_checks[\n",
    "               'ddl_over_thresh_dt_second']).apply(int),\n",
    "       'callout_stoppage_flg':\n",
    "           (df_abnorm_checks['last_callout_date'] < df_abnorm_checks[\n",
    "               'ddl_over_thresh_dt_second']).apply(int)\n",
    "\n",
    "       })"
   ],
   "metadata": {
    "collapsed": false,
    "pycharm": {
     "name": "#%%\n"
    }
   }
  },
  {
   "cell_type": "code",
   "execution_count": null,
   "outputs": [],
   "source": [
    "df_abnorm_checks"
   ],
   "metadata": {
    "collapsed": false,
    "pycharm": {
     "name": "#%%\n"
    }
   }
  },
  {
   "cell_type": "code",
   "execution_count": null,
   "outputs": [],
   "source": [
    "from scipy import stats\n",
    "\n",
    "# identify outliers based on z scores\n",
    "df_abnorm_checks = df_abnorm_checks.assign(\n",
    "    **{'burnout_time_outlier': (np.abs(np.nan_to_num(\n",
    "        stats.zscore(df_abnorm_checks['cuml_song_station_spins_non_on_at_burnout'], nan_policy='omit'))) >= 2.3),\n",
    "       'spins_to_burnout_from_hit_outlier': (np.abs(\n",
    "           np.nan_to_num(stats.zscore(df_abnorm_checks['spins_to_burnout_from_hit'], nan_policy='omit'))) >= 2.3),\n",
    "       'weeks_between_top_quints_outlier': (\n",
    "               np.abs(\n",
    "                   np.nan_to_num(stats.zscore(df_abnorm_checks['weeks_bw_top_quintiles'], nan_policy='omit'))) >= 2.3)})"
   ],
   "metadata": {
    "collapsed": false,
    "pycharm": {
     "name": "#%%\n"
    }
   }
  },
  {
   "cell_type": "code",
   "execution_count": null,
   "outputs": [],
   "source": [
    "# Examine burnout outliers - delayed burn\n",
    "mask = (df_abnorm_checks['burnout_time_outlier'])\n",
    "df_abnorm_checks[mask].groupby(['song_release_year'])['mediabase_id'].count()"
   ],
   "metadata": {
    "collapsed": false,
    "pycharm": {
     "name": "#%%\n"
    }
   }
  },
  {
   "cell_type": "code",
   "execution_count": null,
   "outputs": [],
   "source": [
    "df_abnorm_checks[mask][['song_artist', 'call_letters', 'song_release_date', 'hit_tag_date', 'ddl_over_thresh_dt_second',\n",
    "                        'cuml_song_station_spins_non_on_at_burnout']]"
   ],
   "metadata": {
    "collapsed": false,
    "pycharm": {
     "name": "#%%\n"
    }
   }
  },
  {
   "cell_type": "code",
   "execution_count": null,
   "outputs": [],
   "source": [
    "# Examine top quints separation outliers\n",
    "mask = df_abnorm_checks['weeks_between_top_quints_outlier']\n",
    "df_abnorm_checks[mask].groupby(['song_release_year'])['mediabase_id'].count()"
   ],
   "metadata": {
    "collapsed": false,
    "pycharm": {
     "name": "#%%\n"
    }
   }
  },
  {
   "cell_type": "code",
   "execution_count": null,
   "outputs": [],
   "source": [
    "df_abnorm_checks[mask][['song_artist', 'call_letters', 'song_release_date', 'ftq_date', 'hit_tag_date',\n",
    "                        'weeks_bw_top_quintiles']].sort_values(by=['weeks_bw_top_quintiles'], ascending=False)"
   ],
   "metadata": {
    "collapsed": false,
    "pycharm": {
     "name": "#%%\n"
    }
   }
  },
  {
   "cell_type": "code",
   "execution_count": null,
   "outputs": [],
   "source": [
    "# No burnout\n",
    "mask = df_abnorm_checks['no_burnout_flg'].astype(bool)\n",
    "df_abnorm_checks[mask].groupby(['song_release_year'])['mediabase_id'].count()"
   ],
   "metadata": {
    "collapsed": false,
    "pycharm": {
     "name": "#%%\n"
    }
   }
  },
  {
   "cell_type": "code",
   "execution_count": null,
   "outputs": [],
   "source": [
    "df_abnorm_checks[mask][\n",
    "    ['song_artist', 'call_letters', 'song_release_date', 'ftq_date', 'hit_tag_date', 'ddl_over_thresh_dt_first',\n",
    "     'ddl_over_thresh_dt_second']]"
   ],
   "metadata": {
    "collapsed": false,
    "pycharm": {
     "name": "#%%\n"
    }
   }
  },
  {
   "cell_type": "code",
   "execution_count": null,
   "outputs": [],
   "source": [
    "# premature burnout\n",
    "mask = df_abnorm_checks['premature_burnout_flg'].astype(bool)\n",
    "df_abnorm_checks[mask].groupby(['song_release_year'])['mediabase_id'].count()"
   ],
   "metadata": {
    "collapsed": false,
    "pycharm": {
     "name": "#%%\n"
    }
   }
  },
  {
   "cell_type": "code",
   "execution_count": null,
   "outputs": [],
   "source": [
    "df_abnorm_checks[mask][\n",
    "    ['song_artist', 'call_letters', 'song_release_date', 'ftq_date', 'hit_tag_date', 'last_spin_date',\n",
    "     'ddl_over_thresh_dt_first', 'ddl_over_thresh_dt_second', 'ddl_over_thresh_dt_first_unf',\n",
    "     'ddl_over_thresh_dt_second_unf']].sort_values(by=['call_letters'])"
   ],
   "metadata": {
    "collapsed": false,
    "pycharm": {
     "name": "#%%\n"
    }
   }
  },
  {
   "cell_type": "code",
   "execution_count": null,
   "outputs": [],
   "source": [
    "# spin stoppage\n",
    "mask = df_abnorm_checks['spins_stoppage_flg'].astype(bool)\n",
    "df_abnorm_checks[mask].groupby(['song_release_year'])['mediabase_id'].count()"
   ],
   "metadata": {
    "collapsed": false,
    "pycharm": {
     "name": "#%%\n"
    }
   }
  },
  {
   "cell_type": "code",
   "execution_count": null,
   "outputs": [],
   "source": [
    "df_abnorm_checks[mask][\n",
    "    ['song_artist', 'call_letters', 'song_release_date', 'ftq_date', 'hit_tag_date', 'last_spin_date',\n",
    "     'ddl_over_thresh_dt_first', 'ddl_over_thresh_dt_second']]"
   ],
   "metadata": {
    "collapsed": false,
    "pycharm": {
     "name": "#%%\n"
    }
   }
  },
  {
   "cell_type": "code",
   "execution_count": null,
   "outputs": [],
   "source": [
    "# callout stoppage\n",
    "mask = df_abnorm_checks['callout_stoppage_flg'].astype(bool)\n",
    "df_abnorm_checks[mask].groupby(['song_release_year'])['mediabase_id'].count()"
   ],
   "metadata": {
    "collapsed": false,
    "pycharm": {
     "name": "#%%\n"
    }
   }
  },
  {
   "cell_type": "markdown",
   "source": [
    "#### burnout Comparison by song_release_date"
   ],
   "metadata": {
    "collapsed": false
   }
  },
  {
   "cell_type": "code",
   "execution_count": null,
   "outputs": [],
   "source": [
    "sel_cols = ['weeks_to_burnout', 'no_burnout_flg', 'song_release_year', 'song_release_date']\n",
    "df_burn_comparison = df_abnorm_checks[sel_cols]"
   ],
   "metadata": {
    "collapsed": false,
    "pycharm": {
     "name": "#%%\n"
    }
   }
  },
  {
   "cell_type": "code",
   "execution_count": null,
   "outputs": [],
   "source": [
    "df_abnorm_checks"
   ],
   "metadata": {
    "collapsed": false,
    "pycharm": {
     "name": "#%%\n"
    }
   }
  },
  {
   "cell_type": "code",
   "execution_count": null,
   "outputs": [],
   "source": [
    "df_burn_comparison['burnout_flg'] = (1 - df_burn_comparison['no_burnout_flg']).astype(bool) & (\n",
    "            df_burn_comparison['weeks_to_burnout'] <= 104)"
   ],
   "metadata": {
    "collapsed": false,
    "pycharm": {
     "name": "#%%\n"
    }
   }
  },
  {
   "cell_type": "code",
   "execution_count": null,
   "outputs": [],
   "source": [
    "df_burn_comparison"
   ],
   "metadata": {
    "collapsed": false,
    "pycharm": {
     "name": "#%%\n"
    }
   }
  },
  {
   "cell_type": "code",
   "execution_count": null,
   "outputs": [],
   "source": [
    "df_burn_comparison['song_release_quarter'] = pd.to_datetime(df_burn_comparison['song_release_date']).dt.to_period(\n",
    "    'Q').apply(lambda x: str(x)[-2:])"
   ],
   "metadata": {
    "collapsed": false,
    "pycharm": {
     "name": "#%%\n"
    }
   }
  },
  {
   "cell_type": "code",
   "execution_count": null,
   "outputs": [],
   "source": [
    "df_burn_comparison.groupby(['song_release_year', 'song_release_quarter'])['burnout_flg'].sum() /\n",
    "df_burn_comparison.groupby(['song_release_year', 'song_release_quarter'])['burnout_flg'].count()"
   ],
   "metadata": {
    "collapsed": false,
    "pycharm": {
     "name": "#%%\n"
    }
   }
  },
  {
   "cell_type": "code",
   "execution_count": null,
   "outputs": [],
   "source": [
    "df_burn_comparison"
   ],
   "metadata": {
    "collapsed": false,
    "pycharm": {
     "name": "#%%\n"
    }
   }
  },
  {
   "cell_type": "code",
   "execution_count": null,
   "outputs": [],
   "source": [
    "df_burn_comparison['weeks_to_burnout'].dropna().plot(kind='box')"
   ],
   "metadata": {
    "collapsed": false,
    "pycharm": {
     "name": "#%%\n"
    }
   }
  },
  {
   "cell_type": "code",
   "execution_count": null,
   "outputs": [],
   "source": [
    "df_burn_comparison.groupby(['song_release_year'])['burnout_flg'].sum() /\n",
    "df_burn_comparison.groupby(['song_release_year'])['burnout_flg'].count()"
   ],
   "metadata": {
    "collapsed": false,
    "pycharm": {
     "name": "#%%\n"
    }
   }
  },
  {
   "cell_type": "code",
   "execution_count": null,
   "outputs": [],
   "source": [
    "1 - df_burn_comparison.groupby(['song_release_year'])['no_burnout_flg'].sum() /\n",
    "df_burn_comparison.groupby(['song_release_year'])['no_burnout_flg'].count()"
   ],
   "metadata": {
    "collapsed": false,
    "pycharm": {
     "name": "#%%\n"
    }
   }
  },
  {
   "cell_type": "code",
   "execution_count": null,
   "outputs": [],
   "source": [
    "from sksurv.nonparametric import kaplan_meier_estimator\n",
    "import matplotlib.pyplot as plt\n",
    "\n",
    "for treatment_type in pd.unique(df_burn_comparison['song_release_year']):\n",
    "    if treatment_type < 2022:\n",
    "        mask_treat = df_burn_comparison[\"song_release_year\"] == treatment_type\n",
    "        time_treatment, survival_prob_treatment = kaplan_meier_estimator(\n",
    "            df_burn_comparison[\"burnout_flg\"][mask_treat],\n",
    "            df_burn_comparison[\"weeks_to_burnout\"][mask_treat].fillna(300))\n",
    "\n",
    "        plt.step(time_treatment, 100 * survival_prob_treatment, where=\"post\",\n",
    "                 label=\"%s\" % int(treatment_type))\n",
    "\n",
    "plt.xlim([0, 104])\n",
    "plt.ylabel(\"probability of survival(no burnout) (%)\")\n",
    "plt.xlabel(\"weeks since first spins\")\n",
    "plt.legend(loc=\"best\")\n",
    "plt.grid()\n",
    "plt.tight_layout()\n",
    "plt.savefig('burnout_by_year.jpeg', format='jpeg', dpi=300)"
   ],
   "metadata": {
    "collapsed": false,
    "pycharm": {
     "name": "#%%\n"
    }
   }
  },
  {
   "cell_type": "code",
   "execution_count": null,
   "outputs": [],
   "source": [
    "df_burn_comparison['weeks_to_burnout'].fillna(104, inplace=True)"
   ],
   "metadata": {
    "collapsed": false,
    "pycharm": {
     "name": "#%%\n"
    }
   }
  },
  {
   "cell_type": "code",
   "execution_count": null,
   "outputs": [],
   "source": [
    "from sksurv.compare import compare_survival\n",
    "\n",
    "mask = (df_burn_comparison['song_release_year'] >= 2017) & (df_burn_comparison['song_release_year'] <= 2021)\n",
    "y_cols = ['burnout_flg', 'weeks_to_burnout']\n",
    "chisq, pvalue, stats, covariance = compare_survival(df_burn_comparison[mask][y_cols].to_records(index=False),\n",
    "                                                    group_indicator=df_burn_comparison[mask]['song_release_year'],\n",
    "                                                    return_stats=True)"
   ],
   "metadata": {
    "collapsed": false,
    "pycharm": {
     "name": "#%%\n"
    }
   }
  },
  {
   "cell_type": "code",
   "execution_count": null,
   "outputs": [],
   "source": [
    "pvalue"
   ],
   "metadata": {
    "collapsed": false,
    "pycharm": {
     "name": "#%%\n"
    }
   }
  },
  {
   "cell_type": "code",
   "execution_count": null,
   "outputs": [],
   "source": [
    "stats['burn_perc'] = stats['observed'] / stats['counts']"
   ],
   "metadata": {
    "collapsed": false,
    "pycharm": {
     "name": "#%%\n"
    }
   }
  },
  {
   "cell_type": "code",
   "execution_count": null,
   "outputs": [],
   "source": [
    "stats"
   ],
   "metadata": {
    "collapsed": false,
    "pycharm": {
     "name": "#%%\n"
    }
   }
  },
  {
   "cell_type": "code",
   "execution_count": null,
   "outputs": [],
   "source": [
    "df_abnorm_checks['spins_to_burnout_from_hit'].plot(kind='hist')"
   ],
   "metadata": {
    "collapsed": false,
    "pycharm": {
     "name": "#%%\n"
    }
   }
  },
  {
   "cell_type": "code",
   "execution_count": null,
   "outputs": [],
   "source": [
    "df_abnorm_checks.groupby(['hit_spins_bucket'])['spins_to_burnout_from_hit'].describe()"
   ],
   "metadata": {
    "collapsed": false,
    "pycharm": {
     "name": "#%%\n"
    }
   }
  },
  {
   "cell_type": "code",
   "execution_count": null,
   "outputs": [],
   "source": [
    "plt.scatter(df_abnorm_checks['hit_spins_bucket'], df_abnorm_checks['spins_to_burnout_from_hit'])"
   ],
   "metadata": {
    "collapsed": false,
    "pycharm": {
     "name": "#%%\n"
    }
   }
  },
  {
   "cell_type": "code",
   "execution_count": 128,
   "outputs": [
    {
     "data": {
      "text/plain": "                                            song_artist call_letters  \\\n87                               Issues(JULIA MICHAELS)      KZZP-FM   \n552                                 New Rules(DUA LIPA)      WIHT-FM   \n730                   Rockstar f/21 Savage(POST MALONE)      KHKS-FM   \n774                                  Truth Hurts(LIZZO)      KSLZ-FM   \n1028                        Love Lies(KHALID X NORMANI)      KIIS-FM   \n1042                        Love Lies(KHALID X NORMANI)      WKQI-FM   \n1236                                  Trampoline(SHAED)      WKSC-FM   \n1272                    High Hopes(PANIC! AT THE DISCO)      WNCI-FM   \n1298            Eastside(BENNY BLANCO, HALSEY & KHALID)      KBKS-FM   \n1605       Dancing With A Stranger(SAM SMITH & NORMANI)      KIIS-FM   \n1614       Dancing With A Stranger(SAM SMITH & NORMANI)      WHYI-FM   \n1724                             Sucker(JONAS BROTHERS)      KIIS-FM   \n1769                             bad guy(BILLIE EILISH)      WKSC-FM   \n1829             Loco Contigo(DJ SNAKE, J BALVIN, TYGA)      KHTS-FM   \n1915                               Circles(POST MALONE)      WHYI-FM   \n1934                         Hot Girl Bummer(BLACKBEAR)      KKRZ-FM   \n2025                          Don't Start Now(DUA LIPA)      WHTZ-FM   \n2033                          Don't Start Now(DUA LIPA)      WXXL-FM   \n2039                                   Say So(DOJA CAT)      KHTS-FM   \n2123                       Before You Go(LEWIS CAPALDI)      WKFS-FM   \n2145                              Heartless(THE WEEKND)      WHYI-FM   \n2159                        Blinding Lights(THE WEEKND)      KHFI-FM   \n2172                        Blinding Lights(THE WEEKND)      WHYI-FM   \n2204                            Adore You(HARRY STYLES)      KHTS-FM   \n2205                            Adore You(HARRY STYLES)      KIIS-FM   \n2214                            Adore You(HARRY STYLES)      WHTZ-FM   \n2215                            Adore You(HARRY STYLES)      WHYI-FM   \n2220                            Adore You(HARRY STYLES)      WKSC-FM   \n2418                 Go Crazy(CHRIS BROWN X YOUNG THUG)      WWPW-FM   \n2435                          Heat Waves(GLASS ANIMALS)      KSLZ-FM   \n2439                          Heat Waves(GLASS ANIMALS)      WDCG-FM   \n2455                          Heat Waves(GLASS ANIMALS)      WZFT-FM   \n2506  My Ex's Best Friend(MACHINE GUN KELLY & BLACKB...      WKST-FM   \n2565                           positions(ARIANA GRANDE)      KHFI-FM   \n2631        Without You with Miley Cyrus(THE KID LAROI)      KSLZ-FM   \n2639        Without You with Miley Cyrus(THE KID LAROI)      WKFS-FM   \n2642        Without You with Miley Cyrus(THE KID LAROI)      WKST-FM   \n2734                              Telepatia(KALI UCHIS)      KHTS-FM   \n2735                              Telepatia(KALI UCHIS)      KIIS-FM   \n2750                               Ghost(JUSTIN BIEBER)      WHTZ-FM   \n2771          MONTERO (Call Me By Your Name)(LIL NAS X)      KYLD-FM   \n2774          MONTERO (Call Me By Your Name)(LIL NAS X)      WDCG-FM   \n2775          MONTERO (Call Me By Your Name)(LIL NAS X)      WFLZ-FM   \n2776          MONTERO (Call Me By Your Name)(LIL NAS X)      WHQC-FM   \n2782          MONTERO (Call Me By Your Name)(LIL NAS X)      WKQI-FM   \n2852                           good 4 u(OLIVIA RODRIGO)      WDCG-FM   \n2864                           good 4 u(OLIVIA RODRIGO)      WRVW-FM   \n2881                             Need To Know(DOJA CAT)      KHTS-FM   \n2884                             Need To Know(DOJA CAT)      KSLZ-FM   \n2894                             Need To Know(DOJA CAT)      WKQI-FM   \n2899                             Need To Know(DOJA CAT)      WWPW-FM   \n3004                Stay(THE KID LAROI & JUSTIN BIEBER)      WHQC-FM   \n3009                Stay(THE KID LAROI & JUSTIN BIEBER)      WKFS-FM   \n3015                Stay(THE KID LAROI & JUSTIN BIEBER)      WWPW-FM   \n3018                Stay(THE KID LAROI & JUSTIN BIEBER)      WZFT-FM   \n3025             INDUSTRY BABY(LIL NAS X & JACK HARLOW)      KKRZ-FM   \n3041             INDUSTRY BABY(LIL NAS X & JACK HARLOW)      WWPW-FM   \n3042             INDUSTRY BABY(LIL NAS X & JACK HARLOW)      WXKS-FM   \n3095                                  Big Energy(LATTO)      KHTS-FM   \n3178                            As It Was(HARRY STYLES)      KHKS-FM   \n\n                       market_name song_release_date  \\\n87                         Phoenix        2017-01-01   \n552                 Washington, DC        2017-06-01   \n730                         Dallas        2017-09-01   \n774                      St. Louis        2017-09-01   \n1028                   Los Angeles        2018-03-01   \n1042                       Detroit        2018-03-01   \n1236                       Chicago        2018-09-01   \n1272                  Columbus, OH        2018-05-01   \n1298                       Seattle        2018-07-01   \n1605                   Los Angeles        2019-01-01   \n1614                         Miami        2019-01-01   \n1724                   Los Angeles        2019-03-01   \n1769                       Chicago        2019-03-01   \n1829                     San Diego        2019-06-01   \n1915                         Miami        2019-08-01   \n1934                  Portland, OR        2019-08-01   \n2025                      New York        2019-10-01   \n2033                       Orlando        2019-10-01   \n2039                     San Diego        2019-11-01   \n2123                    Cincinnati        2019-11-01   \n2145                         Miami        2019-11-01   \n2159                        Austin        2019-11-01   \n2172                         Miami        2019-11-01   \n2204                     San Diego        2019-12-01   \n2205                   Los Angeles        2019-12-01   \n2214                      New York        2019-12-01   \n2215                         Miami        2019-12-01   \n2220                       Chicago        2019-12-01   \n2418                       Atlanta        2020-05-01   \n2435                     St. Louis        2020-06-01   \n2439                       Raleigh        2020-06-01   \n2455                     Baltimore        2020-06-01   \n2506                    Pittsburgh        2020-08-01   \n2565                        Austin        2020-10-01   \n2631                     St. Louis        2020-11-01   \n2639                    Cincinnati        2020-11-01   \n2642                    Pittsburgh        2020-11-01   \n2734                     San Diego        2021-03-01   \n2735                   Los Angeles        2021-03-01   \n2750                      New York        2021-03-01   \n2771                 San Francisco        2021-03-01   \n2774                       Raleigh        2021-03-01   \n2775                         Tampa        2021-03-01   \n2776  Charlotte-Gastonia-Rock Hill        2021-03-01   \n2782                       Detroit        2021-03-01   \n2852                       Raleigh        2021-05-01   \n2864                     Nashville        2021-05-01   \n2881                     San Diego        2021-06-01   \n2884                     St. Louis        2021-06-01   \n2894                       Detroit        2021-06-01   \n2899                       Atlanta        2021-06-01   \n3004  Charlotte-Gastonia-Rock Hill        2021-07-01   \n3009                    Cincinnati        2021-07-01   \n3015                       Atlanta        2021-07-01   \n3018                     Baltimore        2021-07-01   \n3025                  Portland, OR        2021-07-01   \n3041                       Atlanta        2021-07-01   \n3042                        Boston        2021-07-01   \n3095                     San Diego        2021-09-01   \n3178                        Dallas        2022-03-01   \n\n      cuml_song_station_spins_non_on_at_hit  \\\n87                                    535.0   \n552                                   519.0   \n730                                   390.0   \n774                                   378.0   \n1028                                  588.0   \n1042                                  427.0   \n1236                                  363.0   \n1272                                  561.0   \n1298                                 1246.0   \n1605                                  467.0   \n1614                                  331.0   \n1724                                  151.0   \n1769                                  376.0   \n1829                                  611.0   \n1915                                  523.0   \n1934                                  698.0   \n2025                                  502.0   \n2033                                  730.0   \n2039                                  395.0   \n2123                                  599.0   \n2145                                  857.0   \n2159                                  918.0   \n2172                                  466.0   \n2204                                 1443.0   \n2205                                  714.0   \n2214                                  557.0   \n2215                                  595.0   \n2220                                  754.0   \n2418                                  628.0   \n2435                                  379.0   \n2439                                  922.0   \n2455                                  726.0   \n2506                                  263.0   \n2565                                  901.0   \n2631                                  504.0   \n2639                                  298.0   \n2642                                  501.0   \n2734                                  520.0   \n2735                                  180.0   \n2750                                  503.0   \n2771                                  274.0   \n2774                                  318.0   \n2775                                  253.0   \n2776                                  349.0   \n2782                                  272.0   \n2852                                  243.0   \n2864                                  416.0   \n2881                                  414.0   \n2884                                  471.0   \n2894                                 1569.0   \n2899                                  162.0   \n3004                                  256.0   \n3009                                  334.0   \n3015                                  930.0   \n3018                                  586.0   \n3025                                  546.0   \n3041                                  708.0   \n3042                                  618.0   \n3095                                  546.0   \n3178                                  496.0   \n\n      cuml_song_station_spins_non_on_at_pre_burnout  \\\n87                                           2884.0   \n552                                          2585.0   \n730                                          2775.0   \n774                                          2566.0   \n1028                                         1696.0   \n1042                                         1582.0   \n1236                                         2602.0   \n1272                                         2514.0   \n1298                                         3043.0   \n1605                                         3374.0   \n1614                                         2327.0   \n1724                                         2645.0   \n1769                                         1442.0   \n1829                                         3466.0   \n1915                                         3816.0   \n1934                                         2794.0   \n2025                                         2185.0   \n2033                                         2955.0   \n2039                                         2516.0   \n2123                                         2746.0   \n2145                                         2225.0   \n2159                                         2307.0   \n2172                                         2998.0   \n2204                                         2406.0   \n2205                                         3778.0   \n2214                                         3375.0   \n2215                                         3334.0   \n2220                                         2935.0   \n2418                                         3132.0   \n2435                                         2635.0   \n2439                                         2606.0   \n2455                                         4126.0   \n2506                                         3360.0   \n2565                                         1290.0   \n2631                                         3691.0   \n2639                                         3036.0   \n2642                                         1526.0   \n2734                                         3681.0   \n2735                                         3234.0   \n2750                                         2815.0   \n2771                                         2083.0   \n2774                                         2625.0   \n2775                                         2018.0   \n2776                                         2879.0   \n2782                                         3069.0   \n2852                                         1745.0   \n2864                                         2208.0   \n2881                                         2611.0   \n2884                                         3132.0   \n2894                                         3681.0   \n2899                                         3502.0   \n3004                                         2712.0   \n3009                                         2493.0   \n3015                                         3122.0   \n3018                                         2754.0   \n3025                                         3337.0   \n3041                                         2860.0   \n3042                                         3173.0   \n3095                                         3009.0   \n3178                                         1334.0   \n\n      cuml_song_station_spins_non_on_at_burnout  spins_to_burnout_from_hit  \n87                                       2949.0                     2414.0  \n552                                      2827.0                     2308.0  \n730                                      2802.0                     2412.0  \n774                                      2654.0                     2276.0  \n1028                                     2858.0                     2270.0  \n1042                                     3154.0                     2727.0  \n1236                                     2621.0                     2258.0  \n1272                                     2869.0                     2308.0  \n1298                                     4403.0                     3157.0  \n1605                                     3562.0                     3095.0  \n1614                                     3603.0                     3272.0  \n1724                                     2669.0                     2518.0  \n1769                                     2813.0                     2437.0  \n1829                                     3561.0                     2950.0  \n1915                                     4072.0                     3549.0  \n1934                                     2961.0                     2263.0  \n2025                                     2769.0                     2267.0  \n2033                                     3192.0                     2462.0  \n2039                                     2747.0                     2352.0  \n2123                                     3021.0                     2422.0  \n2145                                     3338.0                     2481.0  \n2159                                     3571.0                     2653.0  \n2172                                     3088.0                     2622.0  \n2204                                     3868.0                     2425.0  \n2205                                     3797.0                     3083.0  \n2214                                     3605.0                     3048.0  \n2215                                     3374.0                     2779.0  \n2220                                     3111.0                     2357.0  \n2418                                     3231.0                     2603.0  \n2435                                     3041.0                     2662.0  \n2439                                     3471.0                     2549.0  \n2455                                     4378.0                     3652.0  \n2506                                     3781.0                     3518.0  \n2565                                     3367.0                     2466.0  \n2631                                     3872.0                     3368.0  \n2639                                     3194.0                     2896.0  \n2642                                     2778.0                     2277.0  \n2734                                     3813.0                     3293.0  \n2735                                     3251.0                     3071.0  \n2750                                     2965.0                     2462.0  \n2771                                     2628.0                     2354.0  \n2774                                     2688.0                     2370.0  \n2775                                     2767.0                     2514.0  \n2776                                     2901.0                     2552.0  \n2782                                     3233.0                     2961.0  \n2852                                     3055.0                     2812.0  \n2864                                     2841.0                     2425.0  \n2881                                     3364.0                     2950.0  \n2884                                     3406.0                     2935.0  \n2894                                     4129.0                     2560.0  \n2899                                     3594.0                     3432.0  \n3004                                     3348.0                     3092.0  \n3009                                     3293.0                     2959.0  \n3015                                     3987.0                     3057.0  \n3018                                     3140.0                     2554.0  \n3025                                     3480.0                     2934.0  \n3041                                     3025.0                     2317.0  \n3042                                     3190.0                     2572.0  \n3095                                     3048.0                     2502.0  \n3178                                     3047.0                     2551.0  ",
      "text/html": "<div>\n<style scoped>\n    .dataframe tbody tr th:only-of-type {\n        vertical-align: middle;\n    }\n\n    .dataframe tbody tr th {\n        vertical-align: top;\n    }\n\n    .dataframe thead th {\n        text-align: right;\n    }\n</style>\n<table border=\"1\" class=\"dataframe\">\n  <thead>\n    <tr style=\"text-align: right;\">\n      <th></th>\n      <th>song_artist</th>\n      <th>call_letters</th>\n      <th>market_name</th>\n      <th>song_release_date</th>\n      <th>cuml_song_station_spins_non_on_at_hit</th>\n      <th>cuml_song_station_spins_non_on_at_pre_burnout</th>\n      <th>cuml_song_station_spins_non_on_at_burnout</th>\n      <th>spins_to_burnout_from_hit</th>\n    </tr>\n  </thead>\n  <tbody>\n    <tr>\n      <th>87</th>\n      <td>Issues(JULIA MICHAELS)</td>\n      <td>KZZP-FM</td>\n      <td>Phoenix</td>\n      <td>2017-01-01</td>\n      <td>535.0</td>\n      <td>2884.0</td>\n      <td>2949.0</td>\n      <td>2414.0</td>\n    </tr>\n    <tr>\n      <th>552</th>\n      <td>New Rules(DUA LIPA)</td>\n      <td>WIHT-FM</td>\n      <td>Washington, DC</td>\n      <td>2017-06-01</td>\n      <td>519.0</td>\n      <td>2585.0</td>\n      <td>2827.0</td>\n      <td>2308.0</td>\n    </tr>\n    <tr>\n      <th>730</th>\n      <td>Rockstar f/21 Savage(POST MALONE)</td>\n      <td>KHKS-FM</td>\n      <td>Dallas</td>\n      <td>2017-09-01</td>\n      <td>390.0</td>\n      <td>2775.0</td>\n      <td>2802.0</td>\n      <td>2412.0</td>\n    </tr>\n    <tr>\n      <th>774</th>\n      <td>Truth Hurts(LIZZO)</td>\n      <td>KSLZ-FM</td>\n      <td>St. Louis</td>\n      <td>2017-09-01</td>\n      <td>378.0</td>\n      <td>2566.0</td>\n      <td>2654.0</td>\n      <td>2276.0</td>\n    </tr>\n    <tr>\n      <th>1028</th>\n      <td>Love Lies(KHALID X NORMANI)</td>\n      <td>KIIS-FM</td>\n      <td>Los Angeles</td>\n      <td>2018-03-01</td>\n      <td>588.0</td>\n      <td>1696.0</td>\n      <td>2858.0</td>\n      <td>2270.0</td>\n    </tr>\n    <tr>\n      <th>1042</th>\n      <td>Love Lies(KHALID X NORMANI)</td>\n      <td>WKQI-FM</td>\n      <td>Detroit</td>\n      <td>2018-03-01</td>\n      <td>427.0</td>\n      <td>1582.0</td>\n      <td>3154.0</td>\n      <td>2727.0</td>\n    </tr>\n    <tr>\n      <th>1236</th>\n      <td>Trampoline(SHAED)</td>\n      <td>WKSC-FM</td>\n      <td>Chicago</td>\n      <td>2018-09-01</td>\n      <td>363.0</td>\n      <td>2602.0</td>\n      <td>2621.0</td>\n      <td>2258.0</td>\n    </tr>\n    <tr>\n      <th>1272</th>\n      <td>High Hopes(PANIC! AT THE DISCO)</td>\n      <td>WNCI-FM</td>\n      <td>Columbus, OH</td>\n      <td>2018-05-01</td>\n      <td>561.0</td>\n      <td>2514.0</td>\n      <td>2869.0</td>\n      <td>2308.0</td>\n    </tr>\n    <tr>\n      <th>1298</th>\n      <td>Eastside(BENNY BLANCO, HALSEY &amp; KHALID)</td>\n      <td>KBKS-FM</td>\n      <td>Seattle</td>\n      <td>2018-07-01</td>\n      <td>1246.0</td>\n      <td>3043.0</td>\n      <td>4403.0</td>\n      <td>3157.0</td>\n    </tr>\n    <tr>\n      <th>1605</th>\n      <td>Dancing With A Stranger(SAM SMITH &amp; NORMANI)</td>\n      <td>KIIS-FM</td>\n      <td>Los Angeles</td>\n      <td>2019-01-01</td>\n      <td>467.0</td>\n      <td>3374.0</td>\n      <td>3562.0</td>\n      <td>3095.0</td>\n    </tr>\n    <tr>\n      <th>1614</th>\n      <td>Dancing With A Stranger(SAM SMITH &amp; NORMANI)</td>\n      <td>WHYI-FM</td>\n      <td>Miami</td>\n      <td>2019-01-01</td>\n      <td>331.0</td>\n      <td>2327.0</td>\n      <td>3603.0</td>\n      <td>3272.0</td>\n    </tr>\n    <tr>\n      <th>1724</th>\n      <td>Sucker(JONAS BROTHERS)</td>\n      <td>KIIS-FM</td>\n      <td>Los Angeles</td>\n      <td>2019-03-01</td>\n      <td>151.0</td>\n      <td>2645.0</td>\n      <td>2669.0</td>\n      <td>2518.0</td>\n    </tr>\n    <tr>\n      <th>1769</th>\n      <td>bad guy(BILLIE EILISH)</td>\n      <td>WKSC-FM</td>\n      <td>Chicago</td>\n      <td>2019-03-01</td>\n      <td>376.0</td>\n      <td>1442.0</td>\n      <td>2813.0</td>\n      <td>2437.0</td>\n    </tr>\n    <tr>\n      <th>1829</th>\n      <td>Loco Contigo(DJ SNAKE, J BALVIN, TYGA)</td>\n      <td>KHTS-FM</td>\n      <td>San Diego</td>\n      <td>2019-06-01</td>\n      <td>611.0</td>\n      <td>3466.0</td>\n      <td>3561.0</td>\n      <td>2950.0</td>\n    </tr>\n    <tr>\n      <th>1915</th>\n      <td>Circles(POST MALONE)</td>\n      <td>WHYI-FM</td>\n      <td>Miami</td>\n      <td>2019-08-01</td>\n      <td>523.0</td>\n      <td>3816.0</td>\n      <td>4072.0</td>\n      <td>3549.0</td>\n    </tr>\n    <tr>\n      <th>1934</th>\n      <td>Hot Girl Bummer(BLACKBEAR)</td>\n      <td>KKRZ-FM</td>\n      <td>Portland, OR</td>\n      <td>2019-08-01</td>\n      <td>698.0</td>\n      <td>2794.0</td>\n      <td>2961.0</td>\n      <td>2263.0</td>\n    </tr>\n    <tr>\n      <th>2025</th>\n      <td>Don't Start Now(DUA LIPA)</td>\n      <td>WHTZ-FM</td>\n      <td>New York</td>\n      <td>2019-10-01</td>\n      <td>502.0</td>\n      <td>2185.0</td>\n      <td>2769.0</td>\n      <td>2267.0</td>\n    </tr>\n    <tr>\n      <th>2033</th>\n      <td>Don't Start Now(DUA LIPA)</td>\n      <td>WXXL-FM</td>\n      <td>Orlando</td>\n      <td>2019-10-01</td>\n      <td>730.0</td>\n      <td>2955.0</td>\n      <td>3192.0</td>\n      <td>2462.0</td>\n    </tr>\n    <tr>\n      <th>2039</th>\n      <td>Say So(DOJA CAT)</td>\n      <td>KHTS-FM</td>\n      <td>San Diego</td>\n      <td>2019-11-01</td>\n      <td>395.0</td>\n      <td>2516.0</td>\n      <td>2747.0</td>\n      <td>2352.0</td>\n    </tr>\n    <tr>\n      <th>2123</th>\n      <td>Before You Go(LEWIS CAPALDI)</td>\n      <td>WKFS-FM</td>\n      <td>Cincinnati</td>\n      <td>2019-11-01</td>\n      <td>599.0</td>\n      <td>2746.0</td>\n      <td>3021.0</td>\n      <td>2422.0</td>\n    </tr>\n    <tr>\n      <th>2145</th>\n      <td>Heartless(THE WEEKND)</td>\n      <td>WHYI-FM</td>\n      <td>Miami</td>\n      <td>2019-11-01</td>\n      <td>857.0</td>\n      <td>2225.0</td>\n      <td>3338.0</td>\n      <td>2481.0</td>\n    </tr>\n    <tr>\n      <th>2159</th>\n      <td>Blinding Lights(THE WEEKND)</td>\n      <td>KHFI-FM</td>\n      <td>Austin</td>\n      <td>2019-11-01</td>\n      <td>918.0</td>\n      <td>2307.0</td>\n      <td>3571.0</td>\n      <td>2653.0</td>\n    </tr>\n    <tr>\n      <th>2172</th>\n      <td>Blinding Lights(THE WEEKND)</td>\n      <td>WHYI-FM</td>\n      <td>Miami</td>\n      <td>2019-11-01</td>\n      <td>466.0</td>\n      <td>2998.0</td>\n      <td>3088.0</td>\n      <td>2622.0</td>\n    </tr>\n    <tr>\n      <th>2204</th>\n      <td>Adore You(HARRY STYLES)</td>\n      <td>KHTS-FM</td>\n      <td>San Diego</td>\n      <td>2019-12-01</td>\n      <td>1443.0</td>\n      <td>2406.0</td>\n      <td>3868.0</td>\n      <td>2425.0</td>\n    </tr>\n    <tr>\n      <th>2205</th>\n      <td>Adore You(HARRY STYLES)</td>\n      <td>KIIS-FM</td>\n      <td>Los Angeles</td>\n      <td>2019-12-01</td>\n      <td>714.0</td>\n      <td>3778.0</td>\n      <td>3797.0</td>\n      <td>3083.0</td>\n    </tr>\n    <tr>\n      <th>2214</th>\n      <td>Adore You(HARRY STYLES)</td>\n      <td>WHTZ-FM</td>\n      <td>New York</td>\n      <td>2019-12-01</td>\n      <td>557.0</td>\n      <td>3375.0</td>\n      <td>3605.0</td>\n      <td>3048.0</td>\n    </tr>\n    <tr>\n      <th>2215</th>\n      <td>Adore You(HARRY STYLES)</td>\n      <td>WHYI-FM</td>\n      <td>Miami</td>\n      <td>2019-12-01</td>\n      <td>595.0</td>\n      <td>3334.0</td>\n      <td>3374.0</td>\n      <td>2779.0</td>\n    </tr>\n    <tr>\n      <th>2220</th>\n      <td>Adore You(HARRY STYLES)</td>\n      <td>WKSC-FM</td>\n      <td>Chicago</td>\n      <td>2019-12-01</td>\n      <td>754.0</td>\n      <td>2935.0</td>\n      <td>3111.0</td>\n      <td>2357.0</td>\n    </tr>\n    <tr>\n      <th>2418</th>\n      <td>Go Crazy(CHRIS BROWN X YOUNG THUG)</td>\n      <td>WWPW-FM</td>\n      <td>Atlanta</td>\n      <td>2020-05-01</td>\n      <td>628.0</td>\n      <td>3132.0</td>\n      <td>3231.0</td>\n      <td>2603.0</td>\n    </tr>\n    <tr>\n      <th>2435</th>\n      <td>Heat Waves(GLASS ANIMALS)</td>\n      <td>KSLZ-FM</td>\n      <td>St. Louis</td>\n      <td>2020-06-01</td>\n      <td>379.0</td>\n      <td>2635.0</td>\n      <td>3041.0</td>\n      <td>2662.0</td>\n    </tr>\n    <tr>\n      <th>2439</th>\n      <td>Heat Waves(GLASS ANIMALS)</td>\n      <td>WDCG-FM</td>\n      <td>Raleigh</td>\n      <td>2020-06-01</td>\n      <td>922.0</td>\n      <td>2606.0</td>\n      <td>3471.0</td>\n      <td>2549.0</td>\n    </tr>\n    <tr>\n      <th>2455</th>\n      <td>Heat Waves(GLASS ANIMALS)</td>\n      <td>WZFT-FM</td>\n      <td>Baltimore</td>\n      <td>2020-06-01</td>\n      <td>726.0</td>\n      <td>4126.0</td>\n      <td>4378.0</td>\n      <td>3652.0</td>\n    </tr>\n    <tr>\n      <th>2506</th>\n      <td>My Ex's Best Friend(MACHINE GUN KELLY &amp; BLACKB...</td>\n      <td>WKST-FM</td>\n      <td>Pittsburgh</td>\n      <td>2020-08-01</td>\n      <td>263.0</td>\n      <td>3360.0</td>\n      <td>3781.0</td>\n      <td>3518.0</td>\n    </tr>\n    <tr>\n      <th>2565</th>\n      <td>positions(ARIANA GRANDE)</td>\n      <td>KHFI-FM</td>\n      <td>Austin</td>\n      <td>2020-10-01</td>\n      <td>901.0</td>\n      <td>1290.0</td>\n      <td>3367.0</td>\n      <td>2466.0</td>\n    </tr>\n    <tr>\n      <th>2631</th>\n      <td>Without You with Miley Cyrus(THE KID LAROI)</td>\n      <td>KSLZ-FM</td>\n      <td>St. Louis</td>\n      <td>2020-11-01</td>\n      <td>504.0</td>\n      <td>3691.0</td>\n      <td>3872.0</td>\n      <td>3368.0</td>\n    </tr>\n    <tr>\n      <th>2639</th>\n      <td>Without You with Miley Cyrus(THE KID LAROI)</td>\n      <td>WKFS-FM</td>\n      <td>Cincinnati</td>\n      <td>2020-11-01</td>\n      <td>298.0</td>\n      <td>3036.0</td>\n      <td>3194.0</td>\n      <td>2896.0</td>\n    </tr>\n    <tr>\n      <th>2642</th>\n      <td>Without You with Miley Cyrus(THE KID LAROI)</td>\n      <td>WKST-FM</td>\n      <td>Pittsburgh</td>\n      <td>2020-11-01</td>\n      <td>501.0</td>\n      <td>1526.0</td>\n      <td>2778.0</td>\n      <td>2277.0</td>\n    </tr>\n    <tr>\n      <th>2734</th>\n      <td>Telepatia(KALI UCHIS)</td>\n      <td>KHTS-FM</td>\n      <td>San Diego</td>\n      <td>2021-03-01</td>\n      <td>520.0</td>\n      <td>3681.0</td>\n      <td>3813.0</td>\n      <td>3293.0</td>\n    </tr>\n    <tr>\n      <th>2735</th>\n      <td>Telepatia(KALI UCHIS)</td>\n      <td>KIIS-FM</td>\n      <td>Los Angeles</td>\n      <td>2021-03-01</td>\n      <td>180.0</td>\n      <td>3234.0</td>\n      <td>3251.0</td>\n      <td>3071.0</td>\n    </tr>\n    <tr>\n      <th>2750</th>\n      <td>Ghost(JUSTIN BIEBER)</td>\n      <td>WHTZ-FM</td>\n      <td>New York</td>\n      <td>2021-03-01</td>\n      <td>503.0</td>\n      <td>2815.0</td>\n      <td>2965.0</td>\n      <td>2462.0</td>\n    </tr>\n    <tr>\n      <th>2771</th>\n      <td>MONTERO (Call Me By Your Name)(LIL NAS X)</td>\n      <td>KYLD-FM</td>\n      <td>San Francisco</td>\n      <td>2021-03-01</td>\n      <td>274.0</td>\n      <td>2083.0</td>\n      <td>2628.0</td>\n      <td>2354.0</td>\n    </tr>\n    <tr>\n      <th>2774</th>\n      <td>MONTERO (Call Me By Your Name)(LIL NAS X)</td>\n      <td>WDCG-FM</td>\n      <td>Raleigh</td>\n      <td>2021-03-01</td>\n      <td>318.0</td>\n      <td>2625.0</td>\n      <td>2688.0</td>\n      <td>2370.0</td>\n    </tr>\n    <tr>\n      <th>2775</th>\n      <td>MONTERO (Call Me By Your Name)(LIL NAS X)</td>\n      <td>WFLZ-FM</td>\n      <td>Tampa</td>\n      <td>2021-03-01</td>\n      <td>253.0</td>\n      <td>2018.0</td>\n      <td>2767.0</td>\n      <td>2514.0</td>\n    </tr>\n    <tr>\n      <th>2776</th>\n      <td>MONTERO (Call Me By Your Name)(LIL NAS X)</td>\n      <td>WHQC-FM</td>\n      <td>Charlotte-Gastonia-Rock Hill</td>\n      <td>2021-03-01</td>\n      <td>349.0</td>\n      <td>2879.0</td>\n      <td>2901.0</td>\n      <td>2552.0</td>\n    </tr>\n    <tr>\n      <th>2782</th>\n      <td>MONTERO (Call Me By Your Name)(LIL NAS X)</td>\n      <td>WKQI-FM</td>\n      <td>Detroit</td>\n      <td>2021-03-01</td>\n      <td>272.0</td>\n      <td>3069.0</td>\n      <td>3233.0</td>\n      <td>2961.0</td>\n    </tr>\n    <tr>\n      <th>2852</th>\n      <td>good 4 u(OLIVIA RODRIGO)</td>\n      <td>WDCG-FM</td>\n      <td>Raleigh</td>\n      <td>2021-05-01</td>\n      <td>243.0</td>\n      <td>1745.0</td>\n      <td>3055.0</td>\n      <td>2812.0</td>\n    </tr>\n    <tr>\n      <th>2864</th>\n      <td>good 4 u(OLIVIA RODRIGO)</td>\n      <td>WRVW-FM</td>\n      <td>Nashville</td>\n      <td>2021-05-01</td>\n      <td>416.0</td>\n      <td>2208.0</td>\n      <td>2841.0</td>\n      <td>2425.0</td>\n    </tr>\n    <tr>\n      <th>2881</th>\n      <td>Need To Know(DOJA CAT)</td>\n      <td>KHTS-FM</td>\n      <td>San Diego</td>\n      <td>2021-06-01</td>\n      <td>414.0</td>\n      <td>2611.0</td>\n      <td>3364.0</td>\n      <td>2950.0</td>\n    </tr>\n    <tr>\n      <th>2884</th>\n      <td>Need To Know(DOJA CAT)</td>\n      <td>KSLZ-FM</td>\n      <td>St. Louis</td>\n      <td>2021-06-01</td>\n      <td>471.0</td>\n      <td>3132.0</td>\n      <td>3406.0</td>\n      <td>2935.0</td>\n    </tr>\n    <tr>\n      <th>2894</th>\n      <td>Need To Know(DOJA CAT)</td>\n      <td>WKQI-FM</td>\n      <td>Detroit</td>\n      <td>2021-06-01</td>\n      <td>1569.0</td>\n      <td>3681.0</td>\n      <td>4129.0</td>\n      <td>2560.0</td>\n    </tr>\n    <tr>\n      <th>2899</th>\n      <td>Need To Know(DOJA CAT)</td>\n      <td>WWPW-FM</td>\n      <td>Atlanta</td>\n      <td>2021-06-01</td>\n      <td>162.0</td>\n      <td>3502.0</td>\n      <td>3594.0</td>\n      <td>3432.0</td>\n    </tr>\n    <tr>\n      <th>3004</th>\n      <td>Stay(THE KID LAROI &amp; JUSTIN BIEBER)</td>\n      <td>WHQC-FM</td>\n      <td>Charlotte-Gastonia-Rock Hill</td>\n      <td>2021-07-01</td>\n      <td>256.0</td>\n      <td>2712.0</td>\n      <td>3348.0</td>\n      <td>3092.0</td>\n    </tr>\n    <tr>\n      <th>3009</th>\n      <td>Stay(THE KID LAROI &amp; JUSTIN BIEBER)</td>\n      <td>WKFS-FM</td>\n      <td>Cincinnati</td>\n      <td>2021-07-01</td>\n      <td>334.0</td>\n      <td>2493.0</td>\n      <td>3293.0</td>\n      <td>2959.0</td>\n    </tr>\n    <tr>\n      <th>3015</th>\n      <td>Stay(THE KID LAROI &amp; JUSTIN BIEBER)</td>\n      <td>WWPW-FM</td>\n      <td>Atlanta</td>\n      <td>2021-07-01</td>\n      <td>930.0</td>\n      <td>3122.0</td>\n      <td>3987.0</td>\n      <td>3057.0</td>\n    </tr>\n    <tr>\n      <th>3018</th>\n      <td>Stay(THE KID LAROI &amp; JUSTIN BIEBER)</td>\n      <td>WZFT-FM</td>\n      <td>Baltimore</td>\n      <td>2021-07-01</td>\n      <td>586.0</td>\n      <td>2754.0</td>\n      <td>3140.0</td>\n      <td>2554.0</td>\n    </tr>\n    <tr>\n      <th>3025</th>\n      <td>INDUSTRY BABY(LIL NAS X &amp; JACK HARLOW)</td>\n      <td>KKRZ-FM</td>\n      <td>Portland, OR</td>\n      <td>2021-07-01</td>\n      <td>546.0</td>\n      <td>3337.0</td>\n      <td>3480.0</td>\n      <td>2934.0</td>\n    </tr>\n    <tr>\n      <th>3041</th>\n      <td>INDUSTRY BABY(LIL NAS X &amp; JACK HARLOW)</td>\n      <td>WWPW-FM</td>\n      <td>Atlanta</td>\n      <td>2021-07-01</td>\n      <td>708.0</td>\n      <td>2860.0</td>\n      <td>3025.0</td>\n      <td>2317.0</td>\n    </tr>\n    <tr>\n      <th>3042</th>\n      <td>INDUSTRY BABY(LIL NAS X &amp; JACK HARLOW)</td>\n      <td>WXKS-FM</td>\n      <td>Boston</td>\n      <td>2021-07-01</td>\n      <td>618.0</td>\n      <td>3173.0</td>\n      <td>3190.0</td>\n      <td>2572.0</td>\n    </tr>\n    <tr>\n      <th>3095</th>\n      <td>Big Energy(LATTO)</td>\n      <td>KHTS-FM</td>\n      <td>San Diego</td>\n      <td>2021-09-01</td>\n      <td>546.0</td>\n      <td>3009.0</td>\n      <td>3048.0</td>\n      <td>2502.0</td>\n    </tr>\n    <tr>\n      <th>3178</th>\n      <td>As It Was(HARRY STYLES)</td>\n      <td>KHKS-FM</td>\n      <td>Dallas</td>\n      <td>2022-03-01</td>\n      <td>496.0</td>\n      <td>1334.0</td>\n      <td>3047.0</td>\n      <td>2551.0</td>\n    </tr>\n  </tbody>\n</table>\n</div>"
     },
     "execution_count": 128,
     "metadata": {},
     "output_type": "execute_result"
    }
   ],
   "source": [
    "mask = df_abnorm_checks['spins_to_burnout_from_hit_outlier']\n",
    "df_abnorm_checks[mask][\n",
    "    ['song_artist', 'call_letters', 'market_name', 'song_release_date', 'cuml_song_station_spins_non_on_at_hit',\n",
    "     'cuml_song_station_spins_non_on_at_pre_burnout',\n",
    "     'cuml_song_station_spins_non_on_at_burnout', 'spins_to_burnout_from_hit']]"
   ],
   "metadata": {
    "collapsed": false,
    "pycharm": {
     "name": "#%%\n"
    }
   }
  },
  {
   "cell_type": "markdown",
   "source": [
    "#### EDA"
   ],
   "metadata": {
    "collapsed": false
   }
  },
  {
   "cell_type": "code",
   "execution_count": null,
   "outputs": [],
   "source": [
    "feature_cols = ['cuml_song_station_spins_non_on_at_pre_burnout', 'cuml_song_station_spins_non_on_at_ftq',\n",
    "                'weeks_bw_top_quintiles', 'cuml_song_station_spins_non_on_at_hit',\n",
    "                ]\n",
    "target = ['cuml_song_station_spins_non_on_at_burnout']\n",
    "id_cols = ['mediabase_id', 'call_letters']"
   ],
   "metadata": {
    "collapsed": false,
    "pycharm": {
     "name": "#%%\n"
    }
   }
  },
  {
   "cell_type": "code",
   "execution_count": null,
   "outputs": [],
   "source": [
    "df_eda = df_raw_features[id_cols + feature_cols + target].drop_duplicates().dropna()"
   ],
   "metadata": {
    "collapsed": false,
    "pycharm": {
     "name": "#%%\n"
    }
   }
  },
  {
   "cell_type": "code",
   "execution_count": null,
   "outputs": [],
   "source": [
    "df_eda.columns = ['mediabase_id', 'call_letters',\n",
    "                  'spins_at_pre_burnout',\n",
    "                  'spins_at_ftq', 'weeks_bw_top_quintiles',\n",
    "                  'spins_at_hit',\n",
    "                  'spins_at_burnout']"
   ],
   "metadata": {
    "collapsed": false,
    "pycharm": {
     "name": "#%%\n"
    }
   }
  },
  {
   "cell_type": "code",
   "execution_count": null,
   "outputs": [],
   "source": [
    "df_eda"
   ],
   "metadata": {
    "collapsed": false,
    "pycharm": {
     "name": "#%%\n"
    }
   }
  },
  {
   "cell_type": "code",
   "execution_count": null,
   "outputs": [],
   "source": [
    "ax = sns.pairplot(df_eda[list(set(df_eda.columns) - set(id_cols))])\n",
    "sns.set_context(\"paper\", rc={\"xtick.labelsize\": 18, \"xtick.rotation\": 45})"
   ],
   "metadata": {
    "collapsed": false,
    "pycharm": {
     "name": "#%%\n"
    }
   }
  },
  {
   "cell_type": "code",
   "execution_count": null,
   "outputs": [],
   "source": [
    "df_raw_features.groupby(['hit_spins_bucket', 'burnout_flg']).agg({'mediabase_id': lambda x: len(pd.unique(x))})"
   ],
   "metadata": {
    "collapsed": false,
    "pycharm": {
     "name": "#%%\n"
    }
   }
  },
  {
   "cell_type": "code",
   "execution_count": null,
   "outputs": [],
   "source": [
    "df_raw_features['weeks_bw_ddl_thresh_cross'].plot(kind='hist', bins=np.arange(0, 210, 5))"
   ],
   "metadata": {
    "collapsed": false,
    "pycharm": {
     "name": "#%%\n"
    }
   }
  },
  {
   "cell_type": "code",
   "execution_count": null,
   "outputs": [],
   "source": [
    "(df_raw_features[['mediabase_id', 'song_release_year', 'cuml_song_station_spins_non_on_at_hit',\n",
    "                  'cuml_song_station_spins_non_on_at_ftq']].drop_duplicates()).groupby(['song_release_year']).apply(\n",
    "    lambda x: x['cuml_song_station_spins_non_on_at_hit'] - x['cuml_song_station_spins_non_on_at_ftq']).describe()"
   ],
   "metadata": {
    "collapsed": false,
    "pycharm": {
     "name": "#%%\n"
    }
   }
  },
  {
   "cell_type": "code",
   "execution_count": null,
   "outputs": [],
   "source": [
    "(df_raw_features[['mediabase_id', 'call_letters', 'song_release_year', 'cuml_song_station_spins_non_on_at_hit',\n",
    "                  'cuml_song_station_spins_non_on_at_ftq']].drop_duplicates()).groupby(['song_release_year']).apply(\n",
    "    lambda x: x['cuml_song_station_spins_non_on_at_hit'] - x[\n",
    "        'cuml_song_station_spins_non_on_at_ftq']).reset_index().drop(columns=['level_1']).groupby(\n",
    "    ['song_release_year'])[0].describe()"
   ],
   "metadata": {
    "collapsed": false,
    "pycharm": {
     "name": "#%%\n"
    }
   }
  },
  {
   "cell_type": "code",
   "execution_count": null,
   "outputs": [],
   "source": [
    "df_abnorm_checks = df_abnorm_checks.join(df_burn_comparison[['burnout_flg']])"
   ],
   "metadata": {
    "collapsed": false,
    "pycharm": {
     "name": "#%%\n"
    }
   }
  },
  {
   "cell_type": "code",
   "execution_count": null,
   "outputs": [],
   "source": [
    "df_raw_features = df_raw_features.join(df_abnorm_checks.set_index(['mediabase_id', 'call_letters'])['burnout_flg'],\n",
    "                                       on=['mediabase_id', 'call_letters'], rsuffix='_r')"
   ],
   "metadata": {
    "collapsed": false,
    "pycharm": {
     "name": "#%%\n"
    }
   }
  },
  {
   "cell_type": "code",
   "execution_count": null,
   "outputs": [],
   "source": [
    "df_raw_features"
   ],
   "metadata": {
    "collapsed": false,
    "pycharm": {
     "name": "#%%\n"
    }
   }
  },
  {
   "cell_type": "code",
   "execution_count": null,
   "outputs": [],
   "source": [
    "agg_dict = {col + '_prior': [np.min, np.mean, np.max, np.std] for col in pop_cols + spins_cols + stream_cols}"
   ],
   "metadata": {
    "collapsed": false,
    "pycharm": {
     "name": "#%%\n"
    }
   }
  },
  {
   "cell_type": "markdown",
   "source": [
    "#### add burnout flag (with censoring)"
   ],
   "metadata": {
    "collapsed": false
   }
  },
  {
   "cell_type": "code",
   "execution_count": 140,
   "outputs": [],
   "source": [
    "# correct burnout flag\n",
    "df_raw_features['burnout_flg_r'] = ((df_raw_features['cuml_song_station_spins_non_on_at_burnout'] - df_raw_features[\n",
    "    'cuml_song_station_spins_non_on_at_hit']) < 2500) & (~pd.isna(df_raw_features['ddl_over_thresh_dt_second']))"
   ],
   "metadata": {
    "collapsed": false,
    "pycharm": {
     "name": "#%%\n"
    }
   }
  },
  {
   "cell_type": "markdown",
   "source": [
    "#### prep training and test data"
   ],
   "metadata": {
    "collapsed": false
   }
  },
  {
   "cell_type": "code",
   "execution_count": 141,
   "outputs": [],
   "source": [
    "id_cols = ['mediabase_id', 'call_letters', 'week_dt', 'weeks_since_hit']\n",
    "target_cols = ['burnout_flg_r', 'spins_to_burnout']"
   ],
   "metadata": {
    "collapsed": false,
    "pycharm": {
     "name": "#%%\n"
    }
   }
  },
  {
   "cell_type": "code",
   "execution_count": 142,
   "outputs": [],
   "source": [
    "feature_cols = [col + '_prior' for col in spins_cols + pop_cols + propn_cols]"
   ],
   "metadata": {
    "collapsed": false,
    "pycharm": {
     "name": "#%%\n"
    }
   }
  },
  {
   "cell_type": "code",
   "execution_count": 143,
   "outputs": [],
   "source": [
    "feature_cols = list(set(feature_cols).intersection(df_raw_features.columns))"
   ],
   "metadata": {
    "collapsed": false,
    "pycharm": {
     "name": "#%%\n"
    }
   }
  },
  {
   "cell_type": "code",
   "execution_count": 144,
   "outputs": [],
   "source": [
    "feature_cols = feature_cols + ['market_name']"
   ],
   "metadata": {
    "collapsed": false,
    "pycharm": {
     "name": "#%%\n"
    }
   }
  },
  {
   "cell_type": "code",
   "execution_count": 145,
   "outputs": [
    {
     "data": {
      "text/plain": "['artist_format_spins_am_pm_dr_prior',\n 'market_spins_propn_prior',\n 'song_format_spins_am_pm_dr_prior',\n 'artist_market_spins_total_prior',\n 'artist_station_spins_total_prior',\n 'song_station_spins_total_prior',\n 'artist_market_spins_am_pm_dr_prior',\n 'song_format_pop_prior',\n 'song_station_ddl_prior',\n 'song_format_spins_non_on_prior',\n 'song_station_fav_prior',\n 'count_song_format_pop_prior',\n 'song_format_ddl_prior',\n 'song_station_spins_non_on_prior',\n 'song_station_spins_am_pm_dr_prior',\n 'song_station_pop_prior',\n 'weeks_since_first_spins_prior',\n 'artist_station_spins_non_on_prior',\n 'count_artist_format_pop_prior',\n 'artist_format_pop_prior',\n 'song_format_spins_total_prior',\n 'song_market_spins_non_on_prior',\n 'song_market_spins_total_prior',\n 'song_market_spins_am_pm_dr_prior',\n 'artist_station_spins_am_pm_dr_prior',\n 'artist_format_ddl_prior',\n 'artist_spins_propn_prior',\n 'song_format_fav_prior',\n 'artist_market_spins_non_on_prior',\n 'artist_format_fav_prior',\n 'artist_format_spins_total_prior',\n 'artist_format_spins_non_on_prior',\n 'market_name']"
     },
     "execution_count": 145,
     "metadata": {},
     "output_type": "execute_result"
    }
   ],
   "source": [
    "feature_cols"
   ],
   "metadata": {
    "collapsed": false,
    "pycharm": {
     "name": "#%%\n"
    }
   }
  },
  {
   "cell_type": "code",
   "execution_count": null,
   "outputs": [],
   "source": [
    "# feature_cols = list(set(feature_cols) - set(['cuml_song_station_spins_non_on_at_pre_burnout_prior']))"
   ],
   "metadata": {
    "collapsed": false,
    "pycharm": {
     "name": "#%%\n"
    }
   }
  },
  {
   "cell_type": "code",
   "execution_count": 146,
   "outputs": [
    {
     "data": {
      "text/plain": "        artist_format_spins_am_pm_dr_prior  market_spins_propn_prior  \\\n0                                      NaN                       NaN   \n1                                    672.0                  0.250000   \n2                                   1894.0                  0.266667   \n3                                   3044.0                  0.292308   \n4                                   4041.0                  0.356322   \n...                                    ...                       ...   \n655478                             11922.0                  0.800000   \n655479                             13243.0                  0.784483   \n655480                             14580.0                  0.723881   \n655481                             14716.0                  0.745902   \n655482                             14795.0                  0.770492   \n\n        song_format_spins_am_pm_dr_prior  artist_market_spins_total_prior  \\\n0                                    NaN                              NaN   \n1                                  672.0                             68.0   \n2                                 1894.0                             96.0   \n3                                 3044.0                            105.0   \n4                                 4041.0                            121.0   \n...                                  ...                              ...   \n655478                            9005.0                            275.0   \n655479                           10182.0                            338.0   \n655480                           11771.0                            343.0   \n655481                           11860.0                            319.0   \n655482                           12104.0                            322.0   \n\n        artist_station_spins_total_prior  song_station_spins_total_prior  \\\n0                                    NaN                             NaN   \n1                                   17.0                            17.0   \n2                                   30.0                            30.0   \n3                                   29.0                            29.0   \n4                                   37.0                            37.0   \n...                                  ...                             ...   \n655478                             171.0                           108.0   \n655479                             215.0                           121.0   \n655480                             205.0                           129.0   \n655481                             183.0                           121.0   \n655482                             190.0                           128.0   \n\n        artist_market_spins_am_pm_dr_prior  song_format_pop_prior  \\\n0                                      NaN                    NaN   \n1                                     22.0                   87.0   \n2                                     31.0                   77.0   \n3                                     41.0                   77.0   \n4                                     57.0                   80.0   \n...                                    ...                    ...   \n655478                               128.0                   89.0   \n655479                               165.0                   86.0   \n655480                               167.0                   87.0   \n655481                               154.0                   81.0   \n655482                               152.0                   88.0   \n\n        song_station_ddl_prior  song_format_spins_non_on_prior  ...  \\\n0                          NaN                             NaN  ...   \n1                          NaN                          1005.0  ...   \n2                          NaN                          2981.0  ...   \n3                          NaN                          4564.0  ...   \n4                          NaN                          5905.0  ...   \n...                        ...                             ...  ...   \n655478                    12.0                         12958.0  ...   \n655479                    12.0                         14703.0  ...   \n655480                    15.0                         16865.0  ...   \n655481                    15.0                         16857.0  ...   \n655482                     9.0                         17138.0  ...   \n\n        song_market_spins_am_pm_dr_prior  artist_station_spins_am_pm_dr_prior  \\\n0                                    NaN                                  NaN   \n1                                   22.0                                  5.0   \n2                                   29.0                                  5.0   \n3                                   35.0                                  6.0   \n4                                   50.0                                 17.0   \n...                                  ...                                  ...   \n655478                              71.0                                 83.0   \n655479                              84.0                                113.0   \n655480                             100.0                                110.0   \n655481                              89.0                                100.0   \n655482                              87.0                                106.0   \n\n        artist_format_ddl_prior  artist_spins_propn_prior  \\\n0                           NaN                       NaN   \n1                           5.0                  1.000000   \n2                          10.0                  1.000000   \n3                          10.0                  1.000000   \n4                          10.0                  1.000000   \n...                         ...                       ...   \n655478                      9.0                  0.661157   \n655479                      8.0                  0.572327   \n655480                      9.0                  0.642384   \n655481                     10.0                  0.674074   \n655482                      8.0                  0.666667   \n\n        song_format_fav_prior  artist_market_spins_non_on_prior  \\\n0                         NaN                               NaN   \n1                        30.0                              45.0   \n2                        26.0                              62.0   \n3                        26.0                              72.0   \n4                        25.0                              94.0   \n...                       ...                               ...   \n655478                   30.0                             181.0   \n655479                   28.0                             233.0   \n655480                   27.0                             231.0   \n655481                   25.0                             214.0   \n655482                   28.0                             214.0   \n\n        artist_format_fav_prior  artist_format_spins_total_prior  \\\n0                           NaN                              NaN   \n1                          30.0                           1329.0   \n2                          26.0                           4103.0   \n3                          26.0                           6347.0   \n4                          25.0                           8134.0   \n...                         ...                              ...   \n655478                     28.0                          24908.0   \n655479                     26.0                          27498.0   \n655480                     24.0                          30006.0   \n655481                     22.0                          29890.0   \n655482                     24.0                          30056.0   \n\n        artist_format_spins_non_on_prior  market_name  \n0                                    NaN    San Diego  \n1                                 1005.0    San Diego  \n2                                 2981.0    San Diego  \n3                                 4564.0    San Diego  \n4                                 5905.0    San Diego  \n...                                  ...          ...  \n655478                           17706.0    Baltimore  \n655479                           19625.0    Baltimore  \n655480                           21590.0    Baltimore  \n655481                           21529.0    Baltimore  \n655482                           21706.0    Baltimore  \n\n[655483 rows x 33 columns]",
      "text/html": "<div>\n<style scoped>\n    .dataframe tbody tr th:only-of-type {\n        vertical-align: middle;\n    }\n\n    .dataframe tbody tr th {\n        vertical-align: top;\n    }\n\n    .dataframe thead th {\n        text-align: right;\n    }\n</style>\n<table border=\"1\" class=\"dataframe\">\n  <thead>\n    <tr style=\"text-align: right;\">\n      <th></th>\n      <th>artist_format_spins_am_pm_dr_prior</th>\n      <th>market_spins_propn_prior</th>\n      <th>song_format_spins_am_pm_dr_prior</th>\n      <th>artist_market_spins_total_prior</th>\n      <th>artist_station_spins_total_prior</th>\n      <th>song_station_spins_total_prior</th>\n      <th>artist_market_spins_am_pm_dr_prior</th>\n      <th>song_format_pop_prior</th>\n      <th>song_station_ddl_prior</th>\n      <th>song_format_spins_non_on_prior</th>\n      <th>...</th>\n      <th>song_market_spins_am_pm_dr_prior</th>\n      <th>artist_station_spins_am_pm_dr_prior</th>\n      <th>artist_format_ddl_prior</th>\n      <th>artist_spins_propn_prior</th>\n      <th>song_format_fav_prior</th>\n      <th>artist_market_spins_non_on_prior</th>\n      <th>artist_format_fav_prior</th>\n      <th>artist_format_spins_total_prior</th>\n      <th>artist_format_spins_non_on_prior</th>\n      <th>market_name</th>\n    </tr>\n  </thead>\n  <tbody>\n    <tr>\n      <th>0</th>\n      <td>NaN</td>\n      <td>NaN</td>\n      <td>NaN</td>\n      <td>NaN</td>\n      <td>NaN</td>\n      <td>NaN</td>\n      <td>NaN</td>\n      <td>NaN</td>\n      <td>NaN</td>\n      <td>NaN</td>\n      <td>...</td>\n      <td>NaN</td>\n      <td>NaN</td>\n      <td>NaN</td>\n      <td>NaN</td>\n      <td>NaN</td>\n      <td>NaN</td>\n      <td>NaN</td>\n      <td>NaN</td>\n      <td>NaN</td>\n      <td>San Diego</td>\n    </tr>\n    <tr>\n      <th>1</th>\n      <td>672.0</td>\n      <td>0.250000</td>\n      <td>672.0</td>\n      <td>68.0</td>\n      <td>17.0</td>\n      <td>17.0</td>\n      <td>22.0</td>\n      <td>87.0</td>\n      <td>NaN</td>\n      <td>1005.0</td>\n      <td>...</td>\n      <td>22.0</td>\n      <td>5.0</td>\n      <td>5.0</td>\n      <td>1.000000</td>\n      <td>30.0</td>\n      <td>45.0</td>\n      <td>30.0</td>\n      <td>1329.0</td>\n      <td>1005.0</td>\n      <td>San Diego</td>\n    </tr>\n    <tr>\n      <th>2</th>\n      <td>1894.0</td>\n      <td>0.266667</td>\n      <td>1894.0</td>\n      <td>96.0</td>\n      <td>30.0</td>\n      <td>30.0</td>\n      <td>31.0</td>\n      <td>77.0</td>\n      <td>NaN</td>\n      <td>2981.0</td>\n      <td>...</td>\n      <td>29.0</td>\n      <td>5.0</td>\n      <td>10.0</td>\n      <td>1.000000</td>\n      <td>26.0</td>\n      <td>62.0</td>\n      <td>26.0</td>\n      <td>4103.0</td>\n      <td>2981.0</td>\n      <td>San Diego</td>\n    </tr>\n    <tr>\n      <th>3</th>\n      <td>3044.0</td>\n      <td>0.292308</td>\n      <td>3044.0</td>\n      <td>105.0</td>\n      <td>29.0</td>\n      <td>29.0</td>\n      <td>41.0</td>\n      <td>77.0</td>\n      <td>NaN</td>\n      <td>4564.0</td>\n      <td>...</td>\n      <td>35.0</td>\n      <td>6.0</td>\n      <td>10.0</td>\n      <td>1.000000</td>\n      <td>26.0</td>\n      <td>72.0</td>\n      <td>26.0</td>\n      <td>6347.0</td>\n      <td>4564.0</td>\n      <td>San Diego</td>\n    </tr>\n    <tr>\n      <th>4</th>\n      <td>4041.0</td>\n      <td>0.356322</td>\n      <td>4041.0</td>\n      <td>121.0</td>\n      <td>37.0</td>\n      <td>37.0</td>\n      <td>57.0</td>\n      <td>80.0</td>\n      <td>NaN</td>\n      <td>5905.0</td>\n      <td>...</td>\n      <td>50.0</td>\n      <td>17.0</td>\n      <td>10.0</td>\n      <td>1.000000</td>\n      <td>25.0</td>\n      <td>94.0</td>\n      <td>25.0</td>\n      <td>8134.0</td>\n      <td>5905.0</td>\n      <td>San Diego</td>\n    </tr>\n    <tr>\n      <th>...</th>\n      <td>...</td>\n      <td>...</td>\n      <td>...</td>\n      <td>...</td>\n      <td>...</td>\n      <td>...</td>\n      <td>...</td>\n      <td>...</td>\n      <td>...</td>\n      <td>...</td>\n      <td>...</td>\n      <td>...</td>\n      <td>...</td>\n      <td>...</td>\n      <td>...</td>\n      <td>...</td>\n      <td>...</td>\n      <td>...</td>\n      <td>...</td>\n      <td>...</td>\n      <td>...</td>\n    </tr>\n    <tr>\n      <th>655478</th>\n      <td>11922.0</td>\n      <td>0.800000</td>\n      <td>9005.0</td>\n      <td>275.0</td>\n      <td>171.0</td>\n      <td>108.0</td>\n      <td>128.0</td>\n      <td>89.0</td>\n      <td>12.0</td>\n      <td>12958.0</td>\n      <td>...</td>\n      <td>71.0</td>\n      <td>83.0</td>\n      <td>9.0</td>\n      <td>0.661157</td>\n      <td>30.0</td>\n      <td>181.0</td>\n      <td>28.0</td>\n      <td>24908.0</td>\n      <td>17706.0</td>\n      <td>Baltimore</td>\n    </tr>\n    <tr>\n      <th>655479</th>\n      <td>13243.0</td>\n      <td>0.784483</td>\n      <td>10182.0</td>\n      <td>338.0</td>\n      <td>215.0</td>\n      <td>121.0</td>\n      <td>165.0</td>\n      <td>86.0</td>\n      <td>12.0</td>\n      <td>14703.0</td>\n      <td>...</td>\n      <td>84.0</td>\n      <td>113.0</td>\n      <td>8.0</td>\n      <td>0.572327</td>\n      <td>28.0</td>\n      <td>233.0</td>\n      <td>26.0</td>\n      <td>27498.0</td>\n      <td>19625.0</td>\n      <td>Baltimore</td>\n    </tr>\n    <tr>\n      <th>655480</th>\n      <td>14580.0</td>\n      <td>0.723881</td>\n      <td>11771.0</td>\n      <td>343.0</td>\n      <td>205.0</td>\n      <td>129.0</td>\n      <td>167.0</td>\n      <td>87.0</td>\n      <td>15.0</td>\n      <td>16865.0</td>\n      <td>...</td>\n      <td>100.0</td>\n      <td>110.0</td>\n      <td>9.0</td>\n      <td>0.642384</td>\n      <td>27.0</td>\n      <td>231.0</td>\n      <td>24.0</td>\n      <td>30006.0</td>\n      <td>21590.0</td>\n      <td>Baltimore</td>\n    </tr>\n    <tr>\n      <th>655481</th>\n      <td>14716.0</td>\n      <td>0.745902</td>\n      <td>11860.0</td>\n      <td>319.0</td>\n      <td>183.0</td>\n      <td>121.0</td>\n      <td>154.0</td>\n      <td>81.0</td>\n      <td>15.0</td>\n      <td>16857.0</td>\n      <td>...</td>\n      <td>89.0</td>\n      <td>100.0</td>\n      <td>10.0</td>\n      <td>0.674074</td>\n      <td>25.0</td>\n      <td>214.0</td>\n      <td>22.0</td>\n      <td>29890.0</td>\n      <td>21529.0</td>\n      <td>Baltimore</td>\n    </tr>\n    <tr>\n      <th>655482</th>\n      <td>14795.0</td>\n      <td>0.770492</td>\n      <td>12104.0</td>\n      <td>322.0</td>\n      <td>190.0</td>\n      <td>128.0</td>\n      <td>152.0</td>\n      <td>88.0</td>\n      <td>9.0</td>\n      <td>17138.0</td>\n      <td>...</td>\n      <td>87.0</td>\n      <td>106.0</td>\n      <td>8.0</td>\n      <td>0.666667</td>\n      <td>28.0</td>\n      <td>214.0</td>\n      <td>24.0</td>\n      <td>30056.0</td>\n      <td>21706.0</td>\n      <td>Baltimore</td>\n    </tr>\n  </tbody>\n</table>\n<p>655483 rows × 33 columns</p>\n</div>"
     },
     "execution_count": 146,
     "metadata": {},
     "output_type": "execute_result"
    }
   ],
   "source": [
    "df_raw_features[feature_cols]"
   ],
   "metadata": {
    "collapsed": false,
    "pycharm": {
     "name": "#%%\n"
    }
   }
  },
  {
   "cell_type": "code",
   "execution_count": 151,
   "outputs": [],
   "source": [
    "# separate train data\n",
    "mask_train = (df_raw_features['song_release_year'] > 2019) & (df_raw_features['song_release_year'] < 2022) & (\n",
    "            df_raw_features['weeks_since_hit'] > 0) & (df_raw_features['spins_to_burnout'].fillna(2500) > 0)\n",
    "df_raw_features_train = df_raw_features[mask_train][id_cols + target_cols + feature_cols]"
   ],
   "metadata": {
    "collapsed": false,
    "pycharm": {
     "name": "#%%\n"
    }
   }
  },
  {
   "cell_type": "code",
   "execution_count": 150,
   "outputs": [
    {
     "data": {
      "text/plain": "weeks_since_hit\n1.0      888\n2.0      876\n3.0      872\n4.0      850\n5.0      837\n        ... \n146.0      2\n147.0      2\n148.0      2\n149.0      1\n150.0      1\nName: mediabase_id, Length: 150, dtype: int64"
     },
     "execution_count": 150,
     "metadata": {},
     "output_type": "execute_result"
    }
   ],
   "source": [
    "df_raw_features_train.groupby(['weeks_since_hit'])['mediabase_id'].count()"
   ],
   "metadata": {
    "collapsed": false,
    "pycharm": {
     "name": "#%%\n"
    }
   }
  },
  {
   "cell_type": "code",
   "execution_count": 152,
   "outputs": [],
   "source": [
    "# separate test data\n",
    "mask_test = (df_raw_features['song_release_year'] >= 2022) & (df_raw_features['weeks_since_hit'] > 0)\n",
    "df_raw_features_test = df_raw_features[mask_test][id_cols + target_cols + feature_cols]"
   ],
   "metadata": {
    "collapsed": false,
    "pycharm": {
     "name": "#%%\n"
    }
   }
  },
  {
   "cell_type": "code",
   "execution_count": 153,
   "outputs": [
    {
     "data": {
      "text/plain": "        mediabase_id call_letters    week_dt  weeks_since_hit  burnout_flg_r  \\\n20           1086587      KHTS-FM 2022-10-30              1.0           True   \n21           1086587      KHTS-FM 2022-11-06              2.0           True   \n22           1086587      KHTS-FM 2022-11-13              3.0           True   \n23           1086587      KHTS-FM 2022-11-20              4.0           True   \n24           1086587      KHTS-FM 2022-11-27              5.0           True   \n...              ...          ...        ...              ...            ...   \n655478       2865765      WZFT-FM 2023-02-26              3.0          False   \n655479       2865765      WZFT-FM 2023-03-05              4.0          False   \n655480       2865765      WZFT-FM 2023-03-12              5.0          False   \n655481       2865765      WZFT-FM 2023-03-19              6.0          False   \n655482       2865765      WZFT-FM 2023-03-26              7.0          False   \n\n        spins_to_burnout  artist_format_spins_am_pm_dr_prior  \\\n20                 146.0                              1526.0   \n21                  96.0                              1440.0   \n22                  45.0                              1107.0   \n23                   0.0                               553.0   \n24                 -35.0                               444.0   \n...                  ...                                 ...   \n655478               NaN                             11922.0   \n655479               NaN                             13243.0   \n655480               NaN                             14580.0   \n655481               NaN                             14716.0   \n655482               NaN                             14795.0   \n\n        market_spins_propn_prior  song_format_spins_am_pm_dr_prior  \\\n20                      0.617284                            1526.0   \n21                      0.635135                            1440.0   \n22                      0.581395                            1107.0   \n23                      0.573034                             553.0   \n24                      0.500000                             444.0   \n...                          ...                               ...   \n655478                  0.800000                            9005.0   \n655479                  0.784483                           10182.0   \n655480                  0.723881                           11771.0   \n655481                  0.745902                           11860.0   \n655482                  0.770492                           12104.0   \n\n        artist_market_spins_total_prior  ...  \\\n20                                108.0  ...   \n21                                 98.0  ...   \n22                                114.0  ...   \n23                                110.0  ...   \n24                                113.0  ...   \n...                                 ...  ...   \n655478                            275.0  ...   \n655479                            338.0  ...   \n655480                            343.0  ...   \n655481                            319.0  ...   \n655482                            322.0  ...   \n\n        song_market_spins_am_pm_dr_prior  artist_station_spins_am_pm_dr_prior  \\\n20                                  61.0                                 38.0   \n21                                  53.0                                 33.0   \n22                                  68.0                                 37.0   \n23                                  72.0                                 38.0   \n24                                  68.0                                 34.0   \n...                                  ...                                  ...   \n655478                              71.0                                 83.0   \n655479                              84.0                                113.0   \n655480                             100.0                                110.0   \n655481                              89.0                                100.0   \n655482                              87.0                                106.0   \n\n        artist_format_ddl_prior  artist_spins_propn_prior  \\\n20                         15.0                  1.000000   \n21                         18.0                  1.000000   \n22                         21.0                  1.000000   \n23                         29.0                  1.000000   \n24                         26.0                  1.000000   \n...                         ...                       ...   \n655478                      9.0                  0.661157   \n655479                      8.0                  0.572327   \n655480                      9.0                  0.642384   \n655481                     10.0                  0.674074   \n655482                      8.0                  0.666667   \n\n        song_format_fav_prior  artist_market_spins_non_on_prior  \\\n20                       26.0                              83.0   \n21                       29.0                              74.0   \n22                       23.0                              87.0   \n23                       24.0                              90.0   \n24                       18.0                              90.0   \n...                       ...                               ...   \n655478                   30.0                             181.0   \n655479                   28.0                             233.0   \n655480                   27.0                             231.0   \n655481                   25.0                             214.0   \n655482                   28.0                             214.0   \n\n        artist_format_fav_prior  artist_format_spins_total_prior  \\\n20                         26.0                           2783.0   \n21                         29.0                           2607.0   \n22                         23.0                           2168.0   \n23                         24.0                            950.0   \n24                         18.0                            817.0   \n...                         ...                              ...   \n655478                     28.0                          24908.0   \n655479                     26.0                          27498.0   \n655480                     24.0                          30006.0   \n655481                     22.0                          29890.0   \n655482                     24.0                          30056.0   \n\n        artist_format_spins_non_on_prior  market_name  \n20                                2070.0    San Diego  \n21                                1994.0    San Diego  \n22                                1618.0    San Diego  \n23                                 745.0    San Diego  \n24                                 638.0    San Diego  \n...                                  ...          ...  \n655478                           17706.0    Baltimore  \n655479                           19625.0    Baltimore  \n655480                           21590.0    Baltimore  \n655481                           21529.0    Baltimore  \n655482                           21706.0    Baltimore  \n\n[4423 rows x 39 columns]",
      "text/html": "<div>\n<style scoped>\n    .dataframe tbody tr th:only-of-type {\n        vertical-align: middle;\n    }\n\n    .dataframe tbody tr th {\n        vertical-align: top;\n    }\n\n    .dataframe thead th {\n        text-align: right;\n    }\n</style>\n<table border=\"1\" class=\"dataframe\">\n  <thead>\n    <tr style=\"text-align: right;\">\n      <th></th>\n      <th>mediabase_id</th>\n      <th>call_letters</th>\n      <th>week_dt</th>\n      <th>weeks_since_hit</th>\n      <th>burnout_flg_r</th>\n      <th>spins_to_burnout</th>\n      <th>artist_format_spins_am_pm_dr_prior</th>\n      <th>market_spins_propn_prior</th>\n      <th>song_format_spins_am_pm_dr_prior</th>\n      <th>artist_market_spins_total_prior</th>\n      <th>...</th>\n      <th>song_market_spins_am_pm_dr_prior</th>\n      <th>artist_station_spins_am_pm_dr_prior</th>\n      <th>artist_format_ddl_prior</th>\n      <th>artist_spins_propn_prior</th>\n      <th>song_format_fav_prior</th>\n      <th>artist_market_spins_non_on_prior</th>\n      <th>artist_format_fav_prior</th>\n      <th>artist_format_spins_total_prior</th>\n      <th>artist_format_spins_non_on_prior</th>\n      <th>market_name</th>\n    </tr>\n  </thead>\n  <tbody>\n    <tr>\n      <th>20</th>\n      <td>1086587</td>\n      <td>KHTS-FM</td>\n      <td>2022-10-30</td>\n      <td>1.0</td>\n      <td>True</td>\n      <td>146.0</td>\n      <td>1526.0</td>\n      <td>0.617284</td>\n      <td>1526.0</td>\n      <td>108.0</td>\n      <td>...</td>\n      <td>61.0</td>\n      <td>38.0</td>\n      <td>15.0</td>\n      <td>1.000000</td>\n      <td>26.0</td>\n      <td>83.0</td>\n      <td>26.0</td>\n      <td>2783.0</td>\n      <td>2070.0</td>\n      <td>San Diego</td>\n    </tr>\n    <tr>\n      <th>21</th>\n      <td>1086587</td>\n      <td>KHTS-FM</td>\n      <td>2022-11-06</td>\n      <td>2.0</td>\n      <td>True</td>\n      <td>96.0</td>\n      <td>1440.0</td>\n      <td>0.635135</td>\n      <td>1440.0</td>\n      <td>98.0</td>\n      <td>...</td>\n      <td>53.0</td>\n      <td>33.0</td>\n      <td>18.0</td>\n      <td>1.000000</td>\n      <td>29.0</td>\n      <td>74.0</td>\n      <td>29.0</td>\n      <td>2607.0</td>\n      <td>1994.0</td>\n      <td>San Diego</td>\n    </tr>\n    <tr>\n      <th>22</th>\n      <td>1086587</td>\n      <td>KHTS-FM</td>\n      <td>2022-11-13</td>\n      <td>3.0</td>\n      <td>True</td>\n      <td>45.0</td>\n      <td>1107.0</td>\n      <td>0.581395</td>\n      <td>1107.0</td>\n      <td>114.0</td>\n      <td>...</td>\n      <td>68.0</td>\n      <td>37.0</td>\n      <td>21.0</td>\n      <td>1.000000</td>\n      <td>23.0</td>\n      <td>87.0</td>\n      <td>23.0</td>\n      <td>2168.0</td>\n      <td>1618.0</td>\n      <td>San Diego</td>\n    </tr>\n    <tr>\n      <th>23</th>\n      <td>1086587</td>\n      <td>KHTS-FM</td>\n      <td>2022-11-20</td>\n      <td>4.0</td>\n      <td>True</td>\n      <td>0.0</td>\n      <td>553.0</td>\n      <td>0.573034</td>\n      <td>553.0</td>\n      <td>110.0</td>\n      <td>...</td>\n      <td>72.0</td>\n      <td>38.0</td>\n      <td>29.0</td>\n      <td>1.000000</td>\n      <td>24.0</td>\n      <td>90.0</td>\n      <td>24.0</td>\n      <td>950.0</td>\n      <td>745.0</td>\n      <td>San Diego</td>\n    </tr>\n    <tr>\n      <th>24</th>\n      <td>1086587</td>\n      <td>KHTS-FM</td>\n      <td>2022-11-27</td>\n      <td>5.0</td>\n      <td>True</td>\n      <td>-35.0</td>\n      <td>444.0</td>\n      <td>0.500000</td>\n      <td>444.0</td>\n      <td>113.0</td>\n      <td>...</td>\n      <td>68.0</td>\n      <td>34.0</td>\n      <td>26.0</td>\n      <td>1.000000</td>\n      <td>18.0</td>\n      <td>90.0</td>\n      <td>18.0</td>\n      <td>817.0</td>\n      <td>638.0</td>\n      <td>San Diego</td>\n    </tr>\n    <tr>\n      <th>...</th>\n      <td>...</td>\n      <td>...</td>\n      <td>...</td>\n      <td>...</td>\n      <td>...</td>\n      <td>...</td>\n      <td>...</td>\n      <td>...</td>\n      <td>...</td>\n      <td>...</td>\n      <td>...</td>\n      <td>...</td>\n      <td>...</td>\n      <td>...</td>\n      <td>...</td>\n      <td>...</td>\n      <td>...</td>\n      <td>...</td>\n      <td>...</td>\n      <td>...</td>\n      <td>...</td>\n    </tr>\n    <tr>\n      <th>655478</th>\n      <td>2865765</td>\n      <td>WZFT-FM</td>\n      <td>2023-02-26</td>\n      <td>3.0</td>\n      <td>False</td>\n      <td>NaN</td>\n      <td>11922.0</td>\n      <td>0.800000</td>\n      <td>9005.0</td>\n      <td>275.0</td>\n      <td>...</td>\n      <td>71.0</td>\n      <td>83.0</td>\n      <td>9.0</td>\n      <td>0.661157</td>\n      <td>30.0</td>\n      <td>181.0</td>\n      <td>28.0</td>\n      <td>24908.0</td>\n      <td>17706.0</td>\n      <td>Baltimore</td>\n    </tr>\n    <tr>\n      <th>655479</th>\n      <td>2865765</td>\n      <td>WZFT-FM</td>\n      <td>2023-03-05</td>\n      <td>4.0</td>\n      <td>False</td>\n      <td>NaN</td>\n      <td>13243.0</td>\n      <td>0.784483</td>\n      <td>10182.0</td>\n      <td>338.0</td>\n      <td>...</td>\n      <td>84.0</td>\n      <td>113.0</td>\n      <td>8.0</td>\n      <td>0.572327</td>\n      <td>28.0</td>\n      <td>233.0</td>\n      <td>26.0</td>\n      <td>27498.0</td>\n      <td>19625.0</td>\n      <td>Baltimore</td>\n    </tr>\n    <tr>\n      <th>655480</th>\n      <td>2865765</td>\n      <td>WZFT-FM</td>\n      <td>2023-03-12</td>\n      <td>5.0</td>\n      <td>False</td>\n      <td>NaN</td>\n      <td>14580.0</td>\n      <td>0.723881</td>\n      <td>11771.0</td>\n      <td>343.0</td>\n      <td>...</td>\n      <td>100.0</td>\n      <td>110.0</td>\n      <td>9.0</td>\n      <td>0.642384</td>\n      <td>27.0</td>\n      <td>231.0</td>\n      <td>24.0</td>\n      <td>30006.0</td>\n      <td>21590.0</td>\n      <td>Baltimore</td>\n    </tr>\n    <tr>\n      <th>655481</th>\n      <td>2865765</td>\n      <td>WZFT-FM</td>\n      <td>2023-03-19</td>\n      <td>6.0</td>\n      <td>False</td>\n      <td>NaN</td>\n      <td>14716.0</td>\n      <td>0.745902</td>\n      <td>11860.0</td>\n      <td>319.0</td>\n      <td>...</td>\n      <td>89.0</td>\n      <td>100.0</td>\n      <td>10.0</td>\n      <td>0.674074</td>\n      <td>25.0</td>\n      <td>214.0</td>\n      <td>22.0</td>\n      <td>29890.0</td>\n      <td>21529.0</td>\n      <td>Baltimore</td>\n    </tr>\n    <tr>\n      <th>655482</th>\n      <td>2865765</td>\n      <td>WZFT-FM</td>\n      <td>2023-03-26</td>\n      <td>7.0</td>\n      <td>False</td>\n      <td>NaN</td>\n      <td>14795.0</td>\n      <td>0.770492</td>\n      <td>12104.0</td>\n      <td>322.0</td>\n      <td>...</td>\n      <td>87.0</td>\n      <td>106.0</td>\n      <td>8.0</td>\n      <td>0.666667</td>\n      <td>28.0</td>\n      <td>214.0</td>\n      <td>24.0</td>\n      <td>30056.0</td>\n      <td>21706.0</td>\n      <td>Baltimore</td>\n    </tr>\n  </tbody>\n</table>\n<p>4423 rows × 39 columns</p>\n</div>"
     },
     "execution_count": 153,
     "metadata": {},
     "output_type": "execute_result"
    }
   ],
   "source": [
    "df_raw_features_test"
   ],
   "metadata": {
    "collapsed": false,
    "pycharm": {
     "name": "#%%\n"
    }
   }
  },
  {
   "cell_type": "markdown",
   "source": [
    "#### create baseline sequence of models for each week_since_hit"
   ],
   "metadata": {
    "collapsed": false
   }
  },
  {
   "cell_type": "code",
   "execution_count": null,
   "outputs": [],
   "source": [
    "# import matplotlib.pyplot as plt\n",
    "def plot_coefficients(coefs, n_highlight):\n",
    "    _, ax = plt.subplots(figsize=(9, 6))\n",
    "    n_features = coefs.shape[0]\n",
    "    alphas = coefs.columns\n",
    "    for row in coefs.itertuples():\n",
    "        ax.semilogx(alphas, row[1:], \".-\", label=row.Index)\n",
    "\n",
    "    alpha_min = alphas.min()\n",
    "    top_coefs = coefs.loc[:, alpha_min].map(abs).sort_values().tail(n_highlight)\n",
    "    for name in top_coefs.index:\n",
    "        coef = coefs.loc[name, alpha_min]\n",
    "        plt.text(\n",
    "            alpha_min, coef, name + \"   \",\n",
    "            horizontalalignment=\"right\",\n",
    "            verticalalignment=\"center\"\n",
    "        )\n",
    "\n",
    "    ax.yaxis.set_label_position(\"right\")\n",
    "    ax.yaxis.tick_right()\n",
    "    ax.grid(True)\n",
    "    ax.set_xlabel(\"alpha\")\n",
    "    ax.set_ylabel(\"coefficient\")"
   ],
   "metadata": {
    "collapsed": false,
    "pycharm": {
     "name": "#%%\n"
    }
   }
  },
  {
   "cell_type": "code",
   "execution_count": 205,
   "outputs": [],
   "source": [
    "weeks_since_hit_vals = list(np.arange(1, 52, 1))"
   ],
   "metadata": {
    "collapsed": false,
    "pycharm": {
     "name": "#%%\n"
    }
   }
  },
  {
   "cell_type": "code",
   "execution_count": null,
   "outputs": [],
   "source": [
    "def mean_absolute_percentage_error(y_true, y_pred):\n",
    "    return np.mean(100 * (np.abs(y_true - y_pred) / y_true))"
   ],
   "metadata": {
    "collapsed": false,
    "pycharm": {
     "name": "#%%\n"
    }
   }
  },
  {
   "cell_type": "code",
   "execution_count": 158,
   "outputs": [],
   "source": [
    "mask_subset = (df_raw_features_train['weeks_since_hit'] == 1)\n",
    "df_subset = df_raw_features_train[mask_subset]\n",
    "df_subset['spins_to_burnout'].fillna(2500, inplace=True)"
   ],
   "metadata": {
    "collapsed": false,
    "pycharm": {
     "name": "#%%\n"
    }
   }
  },
  {
   "cell_type": "code",
   "execution_count": 159,
   "outputs": [],
   "source": [
    "X_train = pd.get_dummies(df_subset[feature_cols], columns=['market_name'])"
   ],
   "metadata": {
    "collapsed": false,
    "pycharm": {
     "name": "#%%\n"
    }
   }
  },
  {
   "cell_type": "code",
   "execution_count": 161,
   "outputs": [],
   "source": [
    "from scipy import integrate"
   ],
   "metadata": {
    "collapsed": false,
    "pycharm": {
     "name": "#%%\n"
    }
   }
  },
  {
   "cell_type": "code",
   "execution_count": 162,
   "outputs": [],
   "source": [
    "from sklearn.model_selection import GridSearchCV"
   ],
   "metadata": {
    "collapsed": false,
    "pycharm": {
     "name": "#%%\n"
    }
   }
  },
  {
   "cell_type": "code",
   "execution_count": 206,
   "outputs": [
    {
     "name": "stdout",
     "output_type": "stream",
     "text": [
      "Weeks since hit: 1\n",
      "0.7044377090983575\n",
      "{'alpha_min_ratio': 0.1, 'l1_ratio': 0.9}\n",
      "Weeks since hit: 2\n",
      "0.6917466479851908\n",
      "{'alpha_min_ratio': 0.1, 'l1_ratio': 0.9}\n",
      "Weeks since hit: 3\n",
      "0.714081532521279\n",
      "{'alpha_min_ratio': 0.1, 'l1_ratio': 0.9}\n",
      "Weeks since hit: 4\n",
      "0.7021679014922259\n",
      "{'alpha_min_ratio': 0.1, 'l1_ratio': 0.9}\n",
      "Weeks since hit: 5\n",
      "0.703920447346704\n",
      "{'alpha_min_ratio': 0.1, 'l1_ratio': 0.9}\n",
      "Weeks since hit: 6\n",
      "0.7162286166173036\n",
      "{'alpha_min_ratio': 0.01, 'l1_ratio': 0.1}\n",
      "Weeks since hit: 7\n",
      "0.7063030293382575\n",
      "{'alpha_min_ratio': 0.01, 'l1_ratio': 0.1}\n",
      "Weeks since hit: 8\n",
      "0.709144999416249\n",
      "{'alpha_min_ratio': 0.01, 'l1_ratio': 0.1}\n",
      "Weeks since hit: 9\n",
      "0.7067054441182743\n",
      "{'alpha_min_ratio': 0.01, 'l1_ratio': 0.5}\n",
      "Weeks since hit: 10\n",
      "0.717783445871691\n",
      "{'alpha_min_ratio': 0.01, 'l1_ratio': 0.1}\n",
      "Weeks since hit: 11\n",
      "0.72238138767502\n",
      "{'alpha_min_ratio': 0.01, 'l1_ratio': 0.1}\n",
      "Weeks since hit: 12\n",
      "0.725646705600205\n",
      "{'alpha_min_ratio': 0.01, 'l1_ratio': 0.1}\n",
      "Weeks since hit: 13\n",
      "0.721022574251956\n",
      "{'alpha_min_ratio': 0.01, 'l1_ratio': 0.1}\n",
      "Weeks since hit: 14\n",
      "0.7401481594623491\n",
      "{'alpha_min_ratio': 0.01, 'l1_ratio': 0.1}\n",
      "Weeks since hit: 15\n",
      "0.7332513676983885\n",
      "{'alpha_min_ratio': 0.01, 'l1_ratio': 0.1}\n",
      "Weeks since hit: 16\n",
      "0.7352184849589961\n",
      "{'alpha_min_ratio': 0.01, 'l1_ratio': 0.1}\n",
      "Weeks since hit: 17\n",
      "0.7251417321987585\n",
      "{'alpha_min_ratio': 0.1, 'l1_ratio': 0.9}\n",
      "Weeks since hit: 18\n",
      "0.7151908206535296\n",
      "{'alpha_min_ratio': 0.1, 'l1_ratio': 0.1}\n",
      "Weeks since hit: 19\n",
      "0.7337971229804438\n",
      "{'alpha_min_ratio': 0.1, 'l1_ratio': 0.1}\n",
      "Weeks since hit: 20\n",
      "0.7329419378698225\n",
      "{'alpha_min_ratio': 0.1, 'l1_ratio': 0.1}\n",
      "Weeks since hit: 21\n",
      "0.7222356474609037\n",
      "{'alpha_min_ratio': 0.1, 'l1_ratio': 0.1}\n",
      "Weeks since hit: 22\n",
      "0.7155618335190196\n",
      "{'alpha_min_ratio': 0.1, 'l1_ratio': 0.1}\n",
      "Weeks since hit: 23\n",
      "0.7167422195100689\n",
      "{'alpha_min_ratio': 0.1, 'l1_ratio': 0.1}\n",
      "Weeks since hit: 24\n",
      "0.7140647252369494\n",
      "{'alpha_min_ratio': 0.1, 'l1_ratio': 0.1}\n",
      "Weeks since hit: 25\n",
      "0.7382794346792051\n",
      "{'alpha_min_ratio': 0.01, 'l1_ratio': 0.9}\n",
      "Weeks since hit: 26\n",
      "0.7768788319322419\n",
      "{'alpha_min_ratio': 0.01, 'l1_ratio': 0.5}\n",
      "Weeks since hit: 27\n",
      "0.6746408286000668\n",
      "{'alpha_min_ratio': 0.5, 'l1_ratio': 0.1}\n",
      "Weeks since hit: 28\n",
      "0.6671881252955942\n",
      "{'alpha_min_ratio': 0.5, 'l1_ratio': 0.1}\n",
      "Weeks since hit: 29\n",
      "0.6777612120723697\n",
      "{'alpha_min_ratio': 0.5, 'l1_ratio': 0.1}\n",
      "Weeks since hit: 30\n",
      "0.6817235095027336\n",
      "{'alpha_min_ratio': 0.5, 'l1_ratio': 0.1}\n",
      "Weeks since hit: 31\n",
      "0.7726678177156909\n",
      "{'alpha_min_ratio': 0.1, 'l1_ratio': 0.1}\n",
      "Weeks since hit: 32\n",
      "0.7793049062130344\n",
      "{'alpha_min_ratio': 0.01, 'l1_ratio': 0.9}\n",
      "Weeks since hit: 33\n",
      "0.7784228350266086\n",
      "{'alpha_min_ratio': 0.1, 'l1_ratio': 0.9}\n",
      "Weeks since hit: 34\n",
      "0.8035563082133785\n",
      "{'alpha_min_ratio': 0.01, 'l1_ratio': 0.1}\n",
      "Weeks since hit: 35\n",
      "0.8457457071194289\n",
      "{'alpha_min_ratio': 0.1, 'l1_ratio': 0.9}\n",
      "Weeks since hit: 36\n",
      "0.685611311339063\n",
      "{'alpha_min_ratio': 0.5, 'l1_ratio': 0.1}\n",
      "Weeks since hit: 37\n",
      "0.7137608550434201\n",
      "{'alpha_min_ratio': 0.5, 'l1_ratio': 0.1}\n",
      "Weeks since hit: 38\n",
      "0.7030130076984338\n",
      "{'alpha_min_ratio': 0.5, 'l1_ratio': 0.1}\n",
      "Weeks since hit: 39\n",
      "0.898989898989899\n",
      "{'alpha_min_ratio': 0.01, 'l1_ratio': 0.1}\n",
      "Weeks since hit: 40\n",
      "0.9156388751850024\n",
      "{'alpha_min_ratio': 0.01, 'l1_ratio': 0.9}\n",
      "Weeks since hit: 41\n",
      "0.7514899765215821\n",
      "{'alpha_min_ratio': 0.5, 'l1_ratio': 0.5}\n",
      "Weeks since hit: 42\n",
      "0.7657952069716776\n",
      "{'alpha_min_ratio': 0.5, 'l1_ratio': 0.1}\n",
      "Weeks since hit: 43\n",
      "0.9387014096539941\n",
      "{'alpha_min_ratio': 0.01, 'l1_ratio': 0.5}\n",
      "Weeks since hit: 44\n",
      "0.7350807395272643\n",
      "{'alpha_min_ratio': 0.5, 'l1_ratio': 0.1}\n",
      "Weeks since hit: 45\n",
      "0.9050203527815468\n",
      "{'alpha_min_ratio': 0.01, 'l1_ratio': 0.9}\n",
      "Weeks since hit: 46\n",
      "0.8552197104394209\n",
      "{'alpha_min_ratio': 0.1, 'l1_ratio': 0.1}\n",
      "Weeks since hit: 47\n",
      "0.7628278221208666\n",
      "{'alpha_min_ratio': 0.5, 'l1_ratio': 0.1}\n",
      "Weeks since hit: 48\n",
      "0.7915102512272596\n",
      "{'alpha_min_ratio': 0.5, 'l1_ratio': 0.1}\n",
      "Weeks since hit: 49\n",
      "0.7796821439700842\n",
      "{'alpha_min_ratio': 0.5, 'l1_ratio': 0.1}\n",
      "Weeks since hit: 50\n",
      "0.7853435114503817\n",
      "{'alpha_min_ratio': 0.5, 'l1_ratio': 0.1}\n",
      "Weeks since hit: 51\n",
      "0.7647267565649397\n",
      "{'alpha_min_ratio': 0.5, 'l1_ratio': 0.1}\n"
     ]
    }
   ],
   "source": [
    "surv_times = pd.DataFrame()\n",
    "surv_scores = pd.DataFrame()\n",
    "best_estimators = {}\n",
    "for val in weeks_since_hit_vals:\n",
    "    mask_subset = (df_raw_features_train['weeks_since_hit'] == int(val))\n",
    "    df_subset = df_raw_features_train[mask_subset]\n",
    "    df_subset['spins_to_burnout'].fillna(2500, inplace=True)\n",
    "    df_subset = df_subset.dropna()\n",
    "    X_train = pd.get_dummies(df_subset[feature_cols], columns=['market_name'])\n",
    "    y_train = df_subset[target_cols].to_records(index=False)\n",
    "\n",
    "    # print(pd.DataFrame(X_train.isna().any()))\n",
    "\n",
    "    X_num_cols = list(set(X_train.columns) - set(['market_name']))\n",
    "    scaler = StandardScaler()\n",
    "    scaler_fit = scaler.fit(X_train[X_num_cols])\n",
    "    X_train[X_num_cols] = scaler.fit_transform(X_train[X_num_cols])\n",
    "\n",
    "    coxnet = CoxnetSurvivalAnalysis(fit_baseline_model=True)\n",
    "    distributions = {'l1_ratio': [0.1, 0.5, 0.9], 'alpha_min_ratio': [0.5, 0.1, 0.01]}\n",
    "    clf = GridSearchCV(coxnet, distributions)\n",
    "    search = clf.fit(X_train, y_train)\n",
    "    cox_elastic_net = search.best_estimator_\n",
    "    best_estimators['val'] = search.best_estimator_\n",
    "\n",
    "    #cox_elastic_net = CoxnetSurvivalAnalysis(l1_ratio=0.9, alpha_min_ratio=0.01, fit_baseline_model=True)\n",
    "    cox_elastic_net.fit(X_train, y_train)\n",
    "    print('Weeks since hit: ' + str(val))\n",
    "    print(cox_elastic_net.score(X_train, y_train))\n",
    "    print(search.best_params_)\n",
    "\n",
    "    surv_scores_temp = pd.DataFrame(cox_elastic_net.predict(X_train),\n",
    "                                    index=df_subset.index, columns=['risk_score']).assign(\n",
    "        **{i: df_subset[i] for i in id_cols + target_cols})\n",
    "    surv_scores_temp['weeks_since_hit_val'] = val\n",
    "    surv_scores = pd.concat([surv_scores_temp, surv_scores])\n",
    "\n",
    "    surv_fn = cox_elastic_net.predict_survival_function(X_train)\n",
    "    surv_times_temp = pd.DataFrame([integrate.simps(surv_fn[i].y, surv_fn[i].x) for i in range(len(surv_fn))],\n",
    "                                   index=df_subset.index, columns=['expected_spins_to_burnout']).assign(\n",
    "        **{i: df_subset[i] for i in id_cols + target_cols})\n",
    "    surv_times_temp['weeks_since_hit_val'] = val\n",
    "    surv_times = pd.concat([surv_times_temp, surv_times])\n",
    "    # print([i for i in surv_times[val] if i < 20])\n",
    "    # print(mean_absolute_error(df_subset['spins_to_burnout'], surv_times[val]))\n",
    "    # print(mean_absolute_percentage_error(df_subset['spins_to_burnout'], surv_times[val]))\n",
    "\n",
    "#\n",
    "#     coefficients_elastic_net = pd.DataFrame(\n",
    "#     cox_elastic_net.coef_,\n",
    "#     index=X_train.columns,\n",
    "#     columns=np.round(cox_elastic_net.alphas_, 5)\n",
    "# )\n",
    "#\n",
    "#     plot_coefficients(coefficients_elastic_net, n_highlight=10)"
   ],
   "metadata": {
    "collapsed": false,
    "pycharm": {
     "name": "#%%\n"
    }
   }
  },
  {
   "cell_type": "code",
   "execution_count": 207,
   "outputs": [
    {
     "data": {
      "text/plain": "        risk_score  mediabase_id call_letters    week_dt  weeks_since_hit  \\\n568088   -0.125873       2591406      WIOQ-FM 2022-10-09             51.0   \n616094    0.930520       2693277      WHTZ-FM 2022-05-29             51.0   \n605677   -0.093110       2671521      WHQC-FM 2022-09-11             51.0   \n575789    1.050806       2605093      WHTZ-FM 2022-10-23             51.0   \n561906    0.335174       2583267      WHTZ-FM 2021-07-11             51.0   \n560501    0.066913       2583267      KDWB-FM 2021-10-31             51.0   \n567521    0.081844       2591406      WFLZ-FM 2022-05-01             51.0   \n551061   -0.180651       2570716      KBKS-FM 2022-01-09             51.0   \n551965   -0.154609       2570716      WKST-FM 2022-05-22             51.0   \n560960    0.123049       2583267      KIIS-FM 2021-07-18             51.0   \n637838    0.418288       2723707      WNCI-FM 2022-10-16             51.0   \n613381    0.791932       2691407      WHTZ-FM 2022-12-18             51.0   \n594615    0.643213       2650436      WXXL-FM 2022-01-16             51.0   \n559246    0.324485       2582475      WHTZ-FM 2022-08-28             51.0   \n606244    0.480560       2671521      WKSC-FM 2022-06-05             51.0   \n600063    0.836395       2655256      KZHT-FM 2022-04-17             51.0   \n551635    0.170813       2570716      KZHT-FM 2021-09-19             51.0   \n606143   -0.038044       2671521      WKQI-FM 2022-09-25             51.0   \n634688    0.036423       2722189      WHYI-FM 2022-07-31             51.0   \n601242    0.042322       2655256      WKST-FM 2022-05-22             51.0   \n\n        burnout_flg_r  spins_to_burnout  weeks_since_hit_val  \n568088           True               1.0                   51  \n616094           True              31.0                   51  \n605677           True              34.0                   51  \n575789           True              38.0                   51  \n561906           True              74.0                   51  \n560501           True              89.0                   51  \n567521           True             113.0                   51  \n551061           True             130.0                   51  \n551965           True             140.0                   51  \n560960           True             157.0                   51  \n637838           True             161.0                   51  \n613381           True             190.0                   51  \n594615           True             227.0                   51  \n559246           True             230.0                   51  \n606244           True             235.0                   51  \n600063           True             246.0                   51  \n551635           True             249.0                   51  \n606143           True             474.0                   51  \n634688           True             478.0                   51  \n601242           True             554.0                   51  ",
      "text/html": "<div>\n<style scoped>\n    .dataframe tbody tr th:only-of-type {\n        vertical-align: middle;\n    }\n\n    .dataframe tbody tr th {\n        vertical-align: top;\n    }\n\n    .dataframe thead th {\n        text-align: right;\n    }\n</style>\n<table border=\"1\" class=\"dataframe\">\n  <thead>\n    <tr style=\"text-align: right;\">\n      <th></th>\n      <th>risk_score</th>\n      <th>mediabase_id</th>\n      <th>call_letters</th>\n      <th>week_dt</th>\n      <th>weeks_since_hit</th>\n      <th>burnout_flg_r</th>\n      <th>spins_to_burnout</th>\n      <th>weeks_since_hit_val</th>\n    </tr>\n  </thead>\n  <tbody>\n    <tr>\n      <th>568088</th>\n      <td>-0.125873</td>\n      <td>2591406</td>\n      <td>WIOQ-FM</td>\n      <td>2022-10-09</td>\n      <td>51.0</td>\n      <td>True</td>\n      <td>1.0</td>\n      <td>51</td>\n    </tr>\n    <tr>\n      <th>616094</th>\n      <td>0.930520</td>\n      <td>2693277</td>\n      <td>WHTZ-FM</td>\n      <td>2022-05-29</td>\n      <td>51.0</td>\n      <td>True</td>\n      <td>31.0</td>\n      <td>51</td>\n    </tr>\n    <tr>\n      <th>605677</th>\n      <td>-0.093110</td>\n      <td>2671521</td>\n      <td>WHQC-FM</td>\n      <td>2022-09-11</td>\n      <td>51.0</td>\n      <td>True</td>\n      <td>34.0</td>\n      <td>51</td>\n    </tr>\n    <tr>\n      <th>575789</th>\n      <td>1.050806</td>\n      <td>2605093</td>\n      <td>WHTZ-FM</td>\n      <td>2022-10-23</td>\n      <td>51.0</td>\n      <td>True</td>\n      <td>38.0</td>\n      <td>51</td>\n    </tr>\n    <tr>\n      <th>561906</th>\n      <td>0.335174</td>\n      <td>2583267</td>\n      <td>WHTZ-FM</td>\n      <td>2021-07-11</td>\n      <td>51.0</td>\n      <td>True</td>\n      <td>74.0</td>\n      <td>51</td>\n    </tr>\n    <tr>\n      <th>560501</th>\n      <td>0.066913</td>\n      <td>2583267</td>\n      <td>KDWB-FM</td>\n      <td>2021-10-31</td>\n      <td>51.0</td>\n      <td>True</td>\n      <td>89.0</td>\n      <td>51</td>\n    </tr>\n    <tr>\n      <th>567521</th>\n      <td>0.081844</td>\n      <td>2591406</td>\n      <td>WFLZ-FM</td>\n      <td>2022-05-01</td>\n      <td>51.0</td>\n      <td>True</td>\n      <td>113.0</td>\n      <td>51</td>\n    </tr>\n    <tr>\n      <th>551061</th>\n      <td>-0.180651</td>\n      <td>2570716</td>\n      <td>KBKS-FM</td>\n      <td>2022-01-09</td>\n      <td>51.0</td>\n      <td>True</td>\n      <td>130.0</td>\n      <td>51</td>\n    </tr>\n    <tr>\n      <th>551965</th>\n      <td>-0.154609</td>\n      <td>2570716</td>\n      <td>WKST-FM</td>\n      <td>2022-05-22</td>\n      <td>51.0</td>\n      <td>True</td>\n      <td>140.0</td>\n      <td>51</td>\n    </tr>\n    <tr>\n      <th>560960</th>\n      <td>0.123049</td>\n      <td>2583267</td>\n      <td>KIIS-FM</td>\n      <td>2021-07-18</td>\n      <td>51.0</td>\n      <td>True</td>\n      <td>157.0</td>\n      <td>51</td>\n    </tr>\n    <tr>\n      <th>637838</th>\n      <td>0.418288</td>\n      <td>2723707</td>\n      <td>WNCI-FM</td>\n      <td>2022-10-16</td>\n      <td>51.0</td>\n      <td>True</td>\n      <td>161.0</td>\n      <td>51</td>\n    </tr>\n    <tr>\n      <th>613381</th>\n      <td>0.791932</td>\n      <td>2691407</td>\n      <td>WHTZ-FM</td>\n      <td>2022-12-18</td>\n      <td>51.0</td>\n      <td>True</td>\n      <td>190.0</td>\n      <td>51</td>\n    </tr>\n    <tr>\n      <th>594615</th>\n      <td>0.643213</td>\n      <td>2650436</td>\n      <td>WXXL-FM</td>\n      <td>2022-01-16</td>\n      <td>51.0</td>\n      <td>True</td>\n      <td>227.0</td>\n      <td>51</td>\n    </tr>\n    <tr>\n      <th>559246</th>\n      <td>0.324485</td>\n      <td>2582475</td>\n      <td>WHTZ-FM</td>\n      <td>2022-08-28</td>\n      <td>51.0</td>\n      <td>True</td>\n      <td>230.0</td>\n      <td>51</td>\n    </tr>\n    <tr>\n      <th>606244</th>\n      <td>0.480560</td>\n      <td>2671521</td>\n      <td>WKSC-FM</td>\n      <td>2022-06-05</td>\n      <td>51.0</td>\n      <td>True</td>\n      <td>235.0</td>\n      <td>51</td>\n    </tr>\n    <tr>\n      <th>600063</th>\n      <td>0.836395</td>\n      <td>2655256</td>\n      <td>KZHT-FM</td>\n      <td>2022-04-17</td>\n      <td>51.0</td>\n      <td>True</td>\n      <td>246.0</td>\n      <td>51</td>\n    </tr>\n    <tr>\n      <th>551635</th>\n      <td>0.170813</td>\n      <td>2570716</td>\n      <td>KZHT-FM</td>\n      <td>2021-09-19</td>\n      <td>51.0</td>\n      <td>True</td>\n      <td>249.0</td>\n      <td>51</td>\n    </tr>\n    <tr>\n      <th>606143</th>\n      <td>-0.038044</td>\n      <td>2671521</td>\n      <td>WKQI-FM</td>\n      <td>2022-09-25</td>\n      <td>51.0</td>\n      <td>True</td>\n      <td>474.0</td>\n      <td>51</td>\n    </tr>\n    <tr>\n      <th>634688</th>\n      <td>0.036423</td>\n      <td>2722189</td>\n      <td>WHYI-FM</td>\n      <td>2022-07-31</td>\n      <td>51.0</td>\n      <td>True</td>\n      <td>478.0</td>\n      <td>51</td>\n    </tr>\n    <tr>\n      <th>601242</th>\n      <td>0.042322</td>\n      <td>2655256</td>\n      <td>WKST-FM</td>\n      <td>2022-05-22</td>\n      <td>51.0</td>\n      <td>True</td>\n      <td>554.0</td>\n      <td>51</td>\n    </tr>\n  </tbody>\n</table>\n</div>"
     },
     "execution_count": 207,
     "metadata": {},
     "output_type": "execute_result"
    }
   ],
   "source": [
    "surv_scores[(surv_scores['weeks_since_hit'] == 51) & (surv_scores['burnout_flg_r'])].sort_values(\n",
    "    by=['spins_to_burnout'])"
   ],
   "metadata": {
    "collapsed": false,
    "pycharm": {
     "name": "#%%\n"
    }
   }
  },
  {
   "cell_type": "code",
   "execution_count": 212,
   "outputs": [
    {
     "data": {
      "text/plain": "<matplotlib.collections.PathCollection at 0x7fa3bf3fdd90>"
     },
     "execution_count": 212,
     "metadata": {},
     "output_type": "execute_result"
    },
    {
     "data": {
      "text/plain": "<Figure size 640x480 with 1 Axes>",
      "image/png": "[encoded data removed]"
     },
     "metadata": {},
     "output_type": "display_data"
    }
   ],
   "source": [
    "df_extract = surv_scores[(surv_scores['weeks_since_hit'] == 12) & (surv_scores['burnout_flg_r'])]\n",
    "plt.scatter(df_extract['spins_to_burnout'], df_extract['risk_score'])"
   ],
   "metadata": {
    "collapsed": false,
    "pycharm": {
     "name": "#%%\n"
    }
   }
  },
  {
   "cell_type": "code",
   "execution_count": null,
   "outputs": [],
   "source": [
    "surv_times"
   ],
   "metadata": {
    "collapsed": false,
    "pycharm": {
     "name": "#%%\n",
     "is_executing": true
    }
   }
  },
  {
   "cell_type": "code",
   "execution_count": 179,
   "outputs": [],
   "source": [
    "surv_times = surv_times.join(df_abnorm_checks.set_index(['mediabase_id', 'call_letters'])['song_artist'],\n",
    "                             on=['mediabase_id', 'call_letters'])"
   ],
   "metadata": {
    "collapsed": false,
    "pycharm": {
     "name": "#%%\n"
    }
   }
  },
  {
   "cell_type": "code",
   "execution_count": 180,
   "outputs": [],
   "source": [
    "new_col_order = list(surv_times.columns[1:]) + list(surv_times.columns[0:1])"
   ],
   "metadata": {
    "collapsed": false,
    "pycharm": {
     "name": "#%%\n"
    }
   }
  },
  {
   "cell_type": "code",
   "execution_count": 181,
   "outputs": [],
   "source": [
    "surv_times = surv_times[new_col_order]"
   ],
   "metadata": {
    "collapsed": false,
    "pycharm": {
     "name": "#%%\n"
    }
   }
  },
  {
   "cell_type": "code",
   "execution_count": 182,
   "outputs": [],
   "source": [
    "surv_times.sort_values(by=['mediabase_id', 'call_letters', 'weeks_since_hit_val'], inplace=True)"
   ],
   "metadata": {
    "collapsed": false,
    "pycharm": {
     "name": "#%%\n"
    }
   }
  },
  {
   "cell_type": "code",
   "execution_count": 173,
   "outputs": [
    {
     "data": {
      "text/plain": "        mediabase_id call_letters    week_dt  weeks_since_hit  burnout_flg_r  \\\n548592       2565309      WFLZ-FM 2020-11-01              1.0           True   \n548593       2565309      WFLZ-FM 2020-11-08              2.0           True   \n548594       2565309      WFLZ-FM 2020-11-15              3.0           True   \n548758       2565309      WKQI-FM 2021-02-07              1.0           True   \n548759       2565309      WKQI-FM 2021-02-14              2.0           True   \n...              ...          ...        ...              ...            ...   \n647716       2768404      WKFS-FM 2022-10-09              2.0           True   \n647717       2768404      WKFS-FM 2022-10-16              3.0           True   \n647775       2768404      WKQI-FM 2023-01-08              1.0          False   \n647776       2768404      WKQI-FM 2023-01-15              2.0          False   \n647777       2768404      WKQI-FM 2023-01-22              3.0          False   \n\n        spins_to_burnout  weeks_since_hit_val                  song_artist  \\\n548592            1213.0                    1   What's Poppin(JACK HARLOW)   \n548593            1121.0                    2   What's Poppin(JACK HARLOW)   \n548594            1030.0                    3   What's Poppin(JACK HARLOW)   \n548758             280.0                    1   What's Poppin(JACK HARLOW)   \n548759             245.0                    2   What's Poppin(JACK HARLOW)   \n...                  ...                  ...                          ...   \n647716             439.0                    2  Sunroof f/Dazy(NICKY YOURE)   \n647717             375.0                    3  Sunroof f/Dazy(NICKY YOURE)   \n647775            2500.0                    1  Sunroof f/Dazy(NICKY YOURE)   \n647776            2500.0                    2  Sunroof f/Dazy(NICKY YOURE)   \n647777            2500.0                    3  Sunroof f/Dazy(NICKY YOURE)   \n\n        expected_spins_to_burnout  \n548592                1550.791718  \n548593                1740.848967  \n548594                2056.389344  \n548758                1080.596786  \n548759                1584.856300  \n...                           ...  \n647716                 741.002174  \n647717                1278.265704  \n647775                 798.404825  \n647776                1146.718860  \n647777                 707.521483  \n\n[2611 rows x 9 columns]",
      "text/html": "<div>\n<style scoped>\n    .dataframe tbody tr th:only-of-type {\n        vertical-align: middle;\n    }\n\n    .dataframe tbody tr th {\n        vertical-align: top;\n    }\n\n    .dataframe thead th {\n        text-align: right;\n    }\n</style>\n<table border=\"1\" class=\"dataframe\">\n  <thead>\n    <tr style=\"text-align: right;\">\n      <th></th>\n      <th>mediabase_id</th>\n      <th>call_letters</th>\n      <th>week_dt</th>\n      <th>weeks_since_hit</th>\n      <th>burnout_flg_r</th>\n      <th>spins_to_burnout</th>\n      <th>weeks_since_hit_val</th>\n      <th>song_artist</th>\n      <th>expected_spins_to_burnout</th>\n    </tr>\n  </thead>\n  <tbody>\n    <tr>\n      <th>548592</th>\n      <td>2565309</td>\n      <td>WFLZ-FM</td>\n      <td>2020-11-01</td>\n      <td>1.0</td>\n      <td>True</td>\n      <td>1213.0</td>\n      <td>1</td>\n      <td>What's Poppin(JACK HARLOW)</td>\n      <td>1550.791718</td>\n    </tr>\n    <tr>\n      <th>548593</th>\n      <td>2565309</td>\n      <td>WFLZ-FM</td>\n      <td>2020-11-08</td>\n      <td>2.0</td>\n      <td>True</td>\n      <td>1121.0</td>\n      <td>2</td>\n      <td>What's Poppin(JACK HARLOW)</td>\n      <td>1740.848967</td>\n    </tr>\n    <tr>\n      <th>548594</th>\n      <td>2565309</td>\n      <td>WFLZ-FM</td>\n      <td>2020-11-15</td>\n      <td>3.0</td>\n      <td>True</td>\n      <td>1030.0</td>\n      <td>3</td>\n      <td>What's Poppin(JACK HARLOW)</td>\n      <td>2056.389344</td>\n    </tr>\n    <tr>\n      <th>548758</th>\n      <td>2565309</td>\n      <td>WKQI-FM</td>\n      <td>2021-02-07</td>\n      <td>1.0</td>\n      <td>True</td>\n      <td>280.0</td>\n      <td>1</td>\n      <td>What's Poppin(JACK HARLOW)</td>\n      <td>1080.596786</td>\n    </tr>\n    <tr>\n      <th>548759</th>\n      <td>2565309</td>\n      <td>WKQI-FM</td>\n      <td>2021-02-14</td>\n      <td>2.0</td>\n      <td>True</td>\n      <td>245.0</td>\n      <td>2</td>\n      <td>What's Poppin(JACK HARLOW)</td>\n      <td>1584.856300</td>\n    </tr>\n    <tr>\n      <th>...</th>\n      <td>...</td>\n      <td>...</td>\n      <td>...</td>\n      <td>...</td>\n      <td>...</td>\n      <td>...</td>\n      <td>...</td>\n      <td>...</td>\n      <td>...</td>\n    </tr>\n    <tr>\n      <th>647716</th>\n      <td>2768404</td>\n      <td>WKFS-FM</td>\n      <td>2022-10-09</td>\n      <td>2.0</td>\n      <td>True</td>\n      <td>439.0</td>\n      <td>2</td>\n      <td>Sunroof f/Dazy(NICKY YOURE)</td>\n      <td>741.002174</td>\n    </tr>\n    <tr>\n      <th>647717</th>\n      <td>2768404</td>\n      <td>WKFS-FM</td>\n      <td>2022-10-16</td>\n      <td>3.0</td>\n      <td>True</td>\n      <td>375.0</td>\n      <td>3</td>\n      <td>Sunroof f/Dazy(NICKY YOURE)</td>\n      <td>1278.265704</td>\n    </tr>\n    <tr>\n      <th>647775</th>\n      <td>2768404</td>\n      <td>WKQI-FM</td>\n      <td>2023-01-08</td>\n      <td>1.0</td>\n      <td>False</td>\n      <td>2500.0</td>\n      <td>1</td>\n      <td>Sunroof f/Dazy(NICKY YOURE)</td>\n      <td>798.404825</td>\n    </tr>\n    <tr>\n      <th>647776</th>\n      <td>2768404</td>\n      <td>WKQI-FM</td>\n      <td>2023-01-15</td>\n      <td>2.0</td>\n      <td>False</td>\n      <td>2500.0</td>\n      <td>2</td>\n      <td>Sunroof f/Dazy(NICKY YOURE)</td>\n      <td>1146.718860</td>\n    </tr>\n    <tr>\n      <th>647777</th>\n      <td>2768404</td>\n      <td>WKQI-FM</td>\n      <td>2023-01-22</td>\n      <td>3.0</td>\n      <td>False</td>\n      <td>2500.0</td>\n      <td>3</td>\n      <td>Sunroof f/Dazy(NICKY YOURE)</td>\n      <td>707.521483</td>\n    </tr>\n  </tbody>\n</table>\n<p>2611 rows × 9 columns</p>\n</div>"
     },
     "execution_count": 173,
     "metadata": {},
     "output_type": "execute_result"
    }
   ],
   "source": [
    "surv_times"
   ],
   "metadata": {
    "collapsed": false,
    "pycharm": {
     "name": "#%%\n"
    }
   }
  },
  {
   "cell_type": "code",
   "execution_count": 188,
   "outputs": [
    {
     "data": {
      "text/plain": "<AxesSubplot:ylabel='Frequency'>"
     },
     "execution_count": 188,
     "metadata": {},
     "output_type": "execute_result"
    },
    {
     "data": {
      "text/plain": "<Figure size 640x480 with 1 Axes>",
      "image/png": "[encoded data removed]"
     },
     "metadata": {},
     "output_type": "display_data"
    }
   ],
   "source": [
    "surv_times[(surv_times['weeks_since_hit'] == 1) & (surv_times['burnout_flg_r'])]['spins_to_burnout'].plot(kind='hist')"
   ],
   "metadata": {
    "collapsed": false,
    "pycharm": {
     "name": "#%%\n"
    }
   }
  },
  {
   "cell_type": "code",
   "execution_count": 194,
   "outputs": [
    {
     "data": {
      "text/plain": "        mediabase_id call_letters    week_dt  weeks_since_hit  burnout_flg_r  \\\n551461       2570716      KSLZ-FM 2021-05-02              1.0           True   \n638787       2727194      KHTS-FM 2022-10-30              1.0           True   \n549550       2569356      KZZP-FM 2021-03-07              1.0           True   \n590819       2647678      WKST-FM 2021-07-11              1.0           True   \n571492       2597601      WDCG-FM 2021-04-11              1.0           True   \n...              ...          ...        ...              ...            ...   \n615416       2693277      KYLD-FM 2021-05-16              1.0           True   \n615734       2693277      WDCG-FM 2021-06-27              1.0           True   \n624746       2708592      WRVW-FM 2021-07-18              1.0           True   \n591620       2650436      KHFI-FM 2021-01-24              1.0           True   \n613331       2691407      WHTZ-FM 2022-01-02              1.0           True   \n\n        spins_to_burnout  weeks_since_hit_val  \\\n551461               6.0                    1   \n638787              10.0                    1   \n549550              11.0                    1   \n590819              12.0                    1   \n571492              15.0                    1   \n...                  ...                  ...   \n615416            2265.0                    1   \n615734            2273.0                    1   \n624746            2333.0                    1   \n591620            2367.0                    1   \n613331            2405.0                    1   \n\n                                      song_artist  expected_spins_to_burnout  \n551461                                 Bang!(AJR)                2709.721622  \n638787     INDUSTRY BABY(LIL NAS X & JACK HARLOW)                1275.864472  \n549550          Intentions f/Quavo(JUSTIN BIEBER)                1211.758349  \n590819       Lonely(JUSTIN BIEBER & BENNY BLANCO)                2131.702586  \n571492         Go Crazy(CHRIS BROWN X YOUNG THUG)                2069.333102  \n...                                           ...                        ...  \n615416  MONTERO (Call Me By Your Name)(LIL NAS X)                2516.984087  \n615734  MONTERO (Call Me By Your Name)(LIL NAS X)                1607.251984  \n624746                   good 4 u(OLIVIA RODRIGO)                2249.049516  \n591620                   positions(ARIANA GRANDE)                1807.870086  \n613331                       Ghost(JUSTIN BIEBER)                2765.954226  \n\n[575 rows x 9 columns]",
      "text/html": "<div>\n<style scoped>\n    .dataframe tbody tr th:only-of-type {\n        vertical-align: middle;\n    }\n\n    .dataframe tbody tr th {\n        vertical-align: top;\n    }\n\n    .dataframe thead th {\n        text-align: right;\n    }\n</style>\n<table border=\"1\" class=\"dataframe\">\n  <thead>\n    <tr style=\"text-align: right;\">\n      <th></th>\n      <th>mediabase_id</th>\n      <th>call_letters</th>\n      <th>week_dt</th>\n      <th>weeks_since_hit</th>\n      <th>burnout_flg_r</th>\n      <th>spins_to_burnout</th>\n      <th>weeks_since_hit_val</th>\n      <th>song_artist</th>\n      <th>expected_spins_to_burnout</th>\n    </tr>\n  </thead>\n  <tbody>\n    <tr>\n      <th>551461</th>\n      <td>2570716</td>\n      <td>KSLZ-FM</td>\n      <td>2021-05-02</td>\n      <td>1.0</td>\n      <td>True</td>\n      <td>6.0</td>\n      <td>1</td>\n      <td>Bang!(AJR)</td>\n      <td>2709.721622</td>\n    </tr>\n    <tr>\n      <th>638787</th>\n      <td>2727194</td>\n      <td>KHTS-FM</td>\n      <td>2022-10-30</td>\n      <td>1.0</td>\n      <td>True</td>\n      <td>10.0</td>\n      <td>1</td>\n      <td>INDUSTRY BABY(LIL NAS X &amp; JACK HARLOW)</td>\n      <td>1275.864472</td>\n    </tr>\n    <tr>\n      <th>549550</th>\n      <td>2569356</td>\n      <td>KZZP-FM</td>\n      <td>2021-03-07</td>\n      <td>1.0</td>\n      <td>True</td>\n      <td>11.0</td>\n      <td>1</td>\n      <td>Intentions f/Quavo(JUSTIN BIEBER)</td>\n      <td>1211.758349</td>\n    </tr>\n    <tr>\n      <th>590819</th>\n      <td>2647678</td>\n      <td>WKST-FM</td>\n      <td>2021-07-11</td>\n      <td>1.0</td>\n      <td>True</td>\n      <td>12.0</td>\n      <td>1</td>\n      <td>Lonely(JUSTIN BIEBER &amp; BENNY BLANCO)</td>\n      <td>2131.702586</td>\n    </tr>\n    <tr>\n      <th>571492</th>\n      <td>2597601</td>\n      <td>WDCG-FM</td>\n      <td>2021-04-11</td>\n      <td>1.0</td>\n      <td>True</td>\n      <td>15.0</td>\n      <td>1</td>\n      <td>Go Crazy(CHRIS BROWN X YOUNG THUG)</td>\n      <td>2069.333102</td>\n    </tr>\n    <tr>\n      <th>...</th>\n      <td>...</td>\n      <td>...</td>\n      <td>...</td>\n      <td>...</td>\n      <td>...</td>\n      <td>...</td>\n      <td>...</td>\n      <td>...</td>\n      <td>...</td>\n    </tr>\n    <tr>\n      <th>615416</th>\n      <td>2693277</td>\n      <td>KYLD-FM</td>\n      <td>2021-05-16</td>\n      <td>1.0</td>\n      <td>True</td>\n      <td>2265.0</td>\n      <td>1</td>\n      <td>MONTERO (Call Me By Your Name)(LIL NAS X)</td>\n      <td>2516.984087</td>\n    </tr>\n    <tr>\n      <th>615734</th>\n      <td>2693277</td>\n      <td>WDCG-FM</td>\n      <td>2021-06-27</td>\n      <td>1.0</td>\n      <td>True</td>\n      <td>2273.0</td>\n      <td>1</td>\n      <td>MONTERO (Call Me By Your Name)(LIL NAS X)</td>\n      <td>1607.251984</td>\n    </tr>\n    <tr>\n      <th>624746</th>\n      <td>2708592</td>\n      <td>WRVW-FM</td>\n      <td>2021-07-18</td>\n      <td>1.0</td>\n      <td>True</td>\n      <td>2333.0</td>\n      <td>1</td>\n      <td>good 4 u(OLIVIA RODRIGO)</td>\n      <td>2249.049516</td>\n    </tr>\n    <tr>\n      <th>591620</th>\n      <td>2650436</td>\n      <td>KHFI-FM</td>\n      <td>2021-01-24</td>\n      <td>1.0</td>\n      <td>True</td>\n      <td>2367.0</td>\n      <td>1</td>\n      <td>positions(ARIANA GRANDE)</td>\n      <td>1807.870086</td>\n    </tr>\n    <tr>\n      <th>613331</th>\n      <td>2691407</td>\n      <td>WHTZ-FM</td>\n      <td>2022-01-02</td>\n      <td>1.0</td>\n      <td>True</td>\n      <td>2405.0</td>\n      <td>1</td>\n      <td>Ghost(JUSTIN BIEBER)</td>\n      <td>2765.954226</td>\n    </tr>\n  </tbody>\n</table>\n<p>575 rows × 9 columns</p>\n</div>"
     },
     "execution_count": 194,
     "metadata": {},
     "output_type": "execute_result"
    }
   ],
   "source": [
    "surv_times[(surv_times['weeks_since_hit'] == 1) & (surv_times['burnout_flg_r'])].sort_values(by=['spins_to_burnout'])"
   ],
   "metadata": {
    "collapsed": false,
    "pycharm": {
     "name": "#%%\n"
    }
   }
  },
  {
   "cell_type": "code",
   "execution_count": 191,
   "outputs": [
    {
     "data": {
      "text/plain": "weeks_since_hit  burnout_flg_r\n1.0              False             [299, 19.71001702012994]\n                 True              [575, 490.0345889157496]\n2.0              False            [305, 20.515072548126398]\n                 True              [567, 758.4981974778394]\n3.0              False             [302, 21.62548445323665]\n                                            ...            \n49.0             True               [22, 5985.082793977654]\n50.0             False             [142, 106.8581625472785]\n                 True               [22, 4953.364108754345]\n51.0             False            [135, 126.08757421789878]\n                 True              [20, 12884.036294252594]\nLength: 102, dtype: object"
     },
     "execution_count": 191,
     "metadata": {},
     "output_type": "execute_result"
    }
   ],
   "source": [
    "surv_times.groupby(['weeks_since_hit', 'burnout_flg_r']).apply(\n",
    "    lambda x: [len(x), mean_absolute_percentage_error(x['spins_to_burnout'], x['expected_spins_to_burnout'])])"
   ],
   "metadata": {
    "collapsed": false,
    "pycharm": {
     "name": "#%%\n"
    }
   }
  },
  {
   "cell_type": "code",
   "execution_count": 190,
   "outputs": [
    {
     "data": {
      "text/plain": "weeks_since_hit  burnout_flg_r\n1.0              False             500.550336\n                 True              753.418619\n2.0              False             519.143644\n                 True              777.471817\n3.0              False             544.199893\n                                     ...     \n49.0             True             1877.764698\n50.0             False             392.307364\n                 True             1868.129164\n51.0             False             386.937061\n                 True             1890.681789\nLength: 102, dtype: float64"
     },
     "execution_count": 190,
     "metadata": {},
     "output_type": "execute_result"
    }
   ],
   "source": [
    "from sklearn.metrics import mean_absolute_error\n",
    "\n",
    "surv_times.groupby(['weeks_since_hit', 'burnout_flg_r']).apply(\n",
    "    lambda x: mean_absolute_error(x['spins_to_burnout'], x['expected_spins_to_burnout']))"
   ],
   "metadata": {
    "collapsed": false,
    "pycharm": {
     "name": "#%%\n"
    }
   }
  },
  {
   "cell_type": "code",
   "execution_count": null,
   "outputs": [],
   "source": [
    "surv_times[surv_times['call_letters'] == 'KIIS-FM']"
   ],
   "metadata": {
    "collapsed": false,
    "pycharm": {
     "name": "#%%\n"
    }
   }
  },
  {
   "cell_type": "code",
   "execution_count": null,
   "outputs": [],
   "source": [
    "mask_demo_1 = (surv_times['mediabase_id'] == 2591406) & (surv_times['call_letters'] == 'WKST-FM')\n",
    "surv_time_demo_1 = surv_times[mask_demo_1]\n",
    "surv_time_demo_1[surv_time_demo_1['expected_spins_to_burnout'] < 0] = np.nan\n",
    "surv_time_demo_1[np.isinf(surv_time_demo_1['expected_spins_to_burnout'])] = np.nan"
   ],
   "metadata": {
    "collapsed": false,
    "pycharm": {
     "name": "#%%\n"
    }
   }
  },
  {
   "cell_type": "code",
   "execution_count": null,
   "outputs": [],
   "source": [
    "mask_demo_2 = (surv_times['call_letters'] == 'KIIS-FM') & (surv_times['mediabase_id'] == 2583267)\n",
    "surv_time_demo_2 = surv_times[mask_demo_2]\n",
    "surv_time_demo_2[surv_time_demo_2['expected_spins_to_burnout'] < 0] = np.nan\n",
    "surv_time_demo_2[np.isinf(surv_time_demo_2['expected_spins_to_burnout'])] = np.nan"
   ],
   "metadata": {
    "collapsed": false,
    "pycharm": {
     "name": "#%%\n"
    }
   }
  },
  {
   "cell_type": "code",
   "execution_count": null,
   "outputs": [],
   "source": [
    "mask_demo_3 = (surv_times['call_letters'] == 'WHTZ-FM') & (surv_times['mediabase_id'] == 2582475)\n",
    "surv_time_demo_3 = surv_times[mask_demo_3]\n",
    "surv_time_demo_3[surv_time_demo_3['expected_spins_to_burnout'] < 0] = np.nan\n",
    "surv_time_demo_3[np.isinf(surv_time_demo_3['expected_spins_to_burnout'])] = np.nan"
   ],
   "metadata": {
    "collapsed": false,
    "pycharm": {
     "name": "#%%\n"
    }
   }
  },
  {
   "cell_type": "code",
   "execution_count": null,
   "outputs": [],
   "source": [
    "plt.plot(surv_time_demo_1['weeks_since_hit'], surv_time_demo_1['expected_spins_to_burnout'])\n",
    "plt.plot(surv_time_demo_1['weeks_since_hit'], surv_time_demo_1['spins_to_burnout'])\n",
    "plt.title(pd.unique(surv_time_demo_1['song_artist'])[0] + ' at ' + pd.unique(surv_time_demo_1['call_letters'])[0])\n",
    "plt.xlabel('weeks since hit')\n",
    "plt.ylabel('spins to burnout')\n",
    "plt.tight_layout()\n",
    "plt.savefig('demo1.jpeg', format='jpeg', dpi=300)"
   ],
   "metadata": {
    "collapsed": false,
    "pycharm": {
     "name": "#%%\n"
    }
   }
  },
  {
   "cell_type": "code",
   "execution_count": null,
   "outputs": [],
   "source": [
    "plt.plot(surv_time_demo_2['weeks_since_hit'], surv_time_demo_2['expected_spins_to_burnout'])\n",
    "plt.plot(surv_time_demo_2['weeks_since_hit'], surv_time_demo_2['spins_to_burnout'])\n",
    "plt.title(pd.unique(surv_time_demo_2['song_artist'])[0] + ' at ' + pd.unique(surv_time_demo_2['call_letters'])[0])"
   ],
   "metadata": {
    "collapsed": false,
    "pycharm": {
     "name": "#%%\n"
    }
   }
  },
  {
   "cell_type": "code",
   "execution_count": null,
   "outputs": [],
   "source": [
    "plt.plot(surv_time_demo_3['weeks_since_hit'], surv_time_demo_3['expected_spins_to_burnout'])\n",
    "plt.plot(surv_time_demo_3['weeks_since_hit'], surv_time_demo_3['spins_to_burnout'])\n",
    "plt.title(pd.unique(surv_time_demo_3['song_artist'])[0] + ' at ' + pd.unique(surv_time_demo_3['call_letters'])[0])\n",
    "plt.xlabel('weeks since hit')\n",
    "plt.ylabel('spins to burnout')\n",
    "plt.tight_layout()\n",
    "plt.savefig('demo3.jpeg', format='jpeg', dpi=300)"
   ],
   "metadata": {
    "collapsed": false,
    "pycharm": {
     "name": "#%%\n"
    }
   }
  },
  {
   "cell_type": "markdown",
   "source": [
    "#### Create a baseline model"
   ],
   "metadata": {
    "collapsed": false
   }
  },
  {
   "cell_type": "code",
   "execution_count": null,
   "outputs": [],
   "source": [
    "# df_base_train"
   ],
   "metadata": {
    "collapsed": false,
    "pycharm": {
     "name": "#%%\n"
    }
   }
  },
  {
   "cell_type": "code",
   "execution_count": null,
   "outputs": [],
   "source": [
    "# X_train = pd.get_dummies(df_base_train[X_cols], columns=['market_name'])"
   ],
   "metadata": {
    "collapsed": false,
    "pycharm": {
     "name": "#%%\n"
    }
   }
  },
  {
   "cell_type": "code",
   "execution_count": null,
   "outputs": [],
   "source": [
    "# X_num_cols = list(set(X_cols) - set(['market_name']))"
   ],
   "metadata": {
    "collapsed": false,
    "pycharm": {
     "name": "#%%\n"
    }
   }
  },
  {
   "cell_type": "code",
   "execution_count": null,
   "outputs": [],
   "source": [
    "# scaler = StandardScaler()\n",
    "# scaler_fit = scaler.fit(X_train[X_num_cols])"
   ],
   "metadata": {
    "collapsed": false,
    "pycharm": {
     "name": "#%%\n"
    }
   }
  },
  {
   "cell_type": "code",
   "execution_count": null,
   "outputs": [],
   "source": [
    "# X_train[X_num_cols] = scaler.fit_transform(X_train[X_num_cols])"
   ],
   "metadata": {
    "collapsed": false,
    "pycharm": {
     "name": "#%%\n"
    }
   }
  },
  {
   "cell_type": "code",
   "execution_count": null,
   "outputs": [],
   "source": [
    "# X_train"
   ],
   "metadata": {
    "collapsed": false,
    "pycharm": {
     "name": "#%%\n"
    }
   }
  },
  {
   "cell_type": "markdown",
   "source": [
    "#### Linear Model"
   ],
   "metadata": {
    "collapsed": false
   }
  },
  {
   "cell_type": "code",
   "execution_count": null,
   "outputs": [],
   "source": [
    "# cox_elastic_net = CoxnetSurvivalAnalysis(l1_ratio=0.9, alpha_min_ratio=0.01, fit_baseline_model=True)\n",
    "# cox_elastic_net.fit(X_train, df_base_train[y_cols].to_records(index=False))"
   ],
   "metadata": {
    "collapsed": false,
    "pycharm": {
     "name": "#%%\n"
    }
   }
  },
  {
   "cell_type": "code",
   "execution_count": null,
   "outputs": [],
   "source": [
    "# cox_elastic_net.score(X_train, df_base_train[y_cols].to_records(index=False))"
   ],
   "metadata": {
    "collapsed": false,
    "pycharm": {
     "name": "#%%\n"
    }
   }
  },
  {
   "cell_type": "code",
   "execution_count": null,
   "outputs": [],
   "source": [
    "# cox_elastic_net.deviance_ratio_"
   ],
   "metadata": {
    "collapsed": false,
    "pycharm": {
     "name": "#%%\n"
    }
   }
  },
  {
   "cell_type": "code",
   "execution_count": null,
   "outputs": [],
   "source": [
    "coefficients_elastic_net = pd.DataFrame(\n",
    "    cox_elastic_net.coef_,\n",
    "    index=pd.get_dummies(df_base_train[X_cols], columns=['market_name']).columns,\n",
    "    columns=np.round(cox_elastic_net.alphas_, 5)\n",
    ")\n",
    "\n",
    "plot_coefficients(coefficients_elastic_net, n_highlight=10)"
   ],
   "metadata": {
    "collapsed": false,
    "pycharm": {
     "name": "#%%\n"
    }
   }
  },
  {
   "cell_type": "code",
   "execution_count": null,
   "outputs": [],
   "source": [
    "# import warnings\n",
    "# from sklearn.exceptions import FitFailedWarning\n",
    "# from sklearn.pipeline import make_pipeline\n",
    "# from sklearn.preprocessing import StandardScaler\n",
    "#\n",
    "# coxnet_pipe = make_pipeline(\n",
    "#     StandardScaler(),\n",
    "#     CoxnetSurvivalAnalysis(l1_ratio=0.9, alpha_min_ratio=0.00001, max_iter=1000)\n",
    "# )\n",
    "# warnings.simplefilter(\"ignore\", UserWarning)\n",
    "# warnings.simplefilter(\"ignore\", FitFailedWarning)\n",
    "# coxnet_pipe.fit(X_train, df_base_train[y_cols].to_records(index=False))"
   ],
   "metadata": {
    "collapsed": false,
    "pycharm": {
     "name": "#%%\n"
    }
   }
  },
  {
   "cell_type": "code",
   "execution_count": null,
   "outputs": [],
   "source": [
    "# estimated_alphas = coxnet_pipe.named_steps[\"coxnetsurvivalanalysis\"].alphas_\n",
    "# cv = KFold(n_splits=5, shuffle=True, random_state=0)\n",
    "# gcv = GridSearchCV(\n",
    "#     make_pipeline(StandardScaler(), CoxnetSurvivalAnalysis(l1_ratio=0.9)),\n",
    "#     param_grid={\"coxnetsurvivalanalysis__alphas\": [[v] for v in estimated_alphas]},\n",
    "#     cv=cv,\n",
    "#     error_score=0.5,\n",
    "#     n_jobs=1).fit(X_train, df_base_train[y_cols].to_records(index=False))\n",
    "#\n",
    "# cv_results = pd.DataFrame(gcv.cv_results_)"
   ],
   "metadata": {
    "collapsed": false,
    "pycharm": {
     "name": "#%%\n"
    }
   }
  },
  {
   "cell_type": "code",
   "execution_count": null,
   "outputs": [],
   "source": [
    "# alphas = cv_results.param_coxnetsurvivalanalysis__alphas.map(lambda x: x[0])\n",
    "# mean = cv_results.mean_test_score\n",
    "# std = cv_results.std_test_score\n",
    "#\n",
    "# fig, ax = plt.subplots(figsize=(9, 6))\n",
    "# ax.plot(alphas, mean)\n",
    "# ax.fill_between(alphas, mean - std, mean + std, alpha=.15)\n",
    "# ax.set_xscale(\"log\")\n",
    "# ax.set_ylabel(\"concordance index\")\n",
    "# ax.set_xlabel(\"alpha\")\n",
    "# ax.axvline(gcv.best_params_[\"coxnetsurvivalanalysis__alphas\"][0], c=\"C1\")\n",
    "# ax.axhline(0.5, color=\"grey\", linestyle=\"--\")\n",
    "# ax.grid(True)"
   ],
   "metadata": {
    "collapsed": false,
    "pycharm": {
     "name": "#%%\n"
    }
   }
  },
  {
   "cell_type": "markdown",
   "source": [
    "#### RandomForest Model"
   ],
   "metadata": {
    "collapsed": false
   }
  },
  {
   "cell_type": "code",
   "execution_count": null,
   "outputs": [],
   "source": [
    "# random_state=20\n",
    "# rsf = RandomSurvivalForest(n_estimators=100,\n",
    "#                            min_samples_split=10,\n",
    "#                            min_samples_leaf=10,\n",
    "#                            n_jobs=-1,\n",
    "#                            random_state=random_state)\n",
    "# rsf.fit(X_train, df_base_train[y_cols].to_records(index=False))"
   ],
   "metadata": {
    "collapsed": false,
    "pycharm": {
     "name": "#%%\n"
    }
   }
  },
  {
   "cell_type": "code",
   "execution_count": null,
   "outputs": [],
   "source": [
    "# rsf.score(X_train, df_base_train[y_cols].to_records(index=False))"
   ],
   "metadata": {
    "collapsed": false,
    "pycharm": {
     "name": "#%%\n"
    }
   }
  },
  {
   "cell_type": "code",
   "execution_count": null,
   "outputs": [],
   "source": [
    "# plt.step(cox_elastic_net.predict_survival_function(X_train)[5].x, cox_elastic_net.predict_survival_function(X_train)[5].y)  d"
   ],
   "metadata": {
    "collapsed": false,
    "pycharm": {
     "name": "#%%\n"
    }
   }
  }
 ],
 "metadata": {
  "kernelspec": {
   "display_name": "Python 3",
   "language": "python",
   "name": "python3"
  },
  "language_info": {
   "codemirror_mode": {
    "name": "ipython",
    "version": 2
   },
   "file_extension": ".py",
   "mimetype": "text/x-python",
   "name": "python",
   "nbconvert_exporter": "python",
   "pygments_lexer": "ipython2",
   "version": "2.7.6"
  }
 },
 "nbformat": 4,
 "nbformat_minor": 0
}